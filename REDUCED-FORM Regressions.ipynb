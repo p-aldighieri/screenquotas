{
 "cells": [
  {
   "cell_type": "code",
   "execution_count": 1,
   "metadata": {
    "ExecuteTime": {
     "end_time": "2021-06-16T23:15:28.741732Z",
     "start_time": "2021-06-16T23:15:23.282719Z"
    }
   },
   "outputs": [],
   "source": [
    "import pandas as pd\n",
    "import numpy as np\n",
    "import statsmodels.api as sm\n",
    "import statsmodels.formula.api as smf"
   ]
  },
  {
   "cell_type": "markdown",
   "metadata": {},
   "source": [
    "# Multiplex/year regressions"
   ]
  },
  {
   "cell_type": "markdown",
   "metadata": {},
   "source": [
    "## Import and adjust"
   ]
  },
  {
   "cell_type": "code",
   "execution_count": 2,
   "metadata": {
    "ExecuteTime": {
     "end_time": "2021-06-16T23:15:35.570018Z",
     "start_time": "2021-06-16T23:15:35.399803Z"
    }
   },
   "outputs": [],
   "source": [
    "# import\n",
    "tds_1719 = pd.read_csv('SCB_Complexo x Ano - 2017 a 2019 - mesclado fiscalização.csv')\n",
    "est_1719 = pd.read_csv('SCB_Complexo x Ano (receita estrangeiros) - 2017 a 2019 - mesclado fiscalização.csv')\n",
    "bras_1719 = pd.read_csv('SCB_Complexo x Ano (receita brasileiros) - 2017 a 2019 - mesclado fiscalização.csv')"
   ]
  },
  {
   "cell_type": "code",
   "execution_count": 3,
   "metadata": {
    "ExecuteTime": {
     "end_time": "2021-06-16T23:15:36.476322Z",
     "start_time": "2021-06-16T23:15:36.450611Z"
    }
   },
   "outputs": [
    {
     "data": {
      "text/plain": [
       "Index(['ANO_CINEMATOGRAFICO', 'QTDE_TIT_DIF_EXIB', 'PUBLICO', 'RENDA',\n",
       "       'DATA_HORA_SESSAO', 'DIAS_FUNCIONAMENTO', 'TOT_SALAS_FUNC',\n",
       "       'REGISTRO_SALA', 'SALAS_COMPLEXO_INFERIDO',\n",
       "       'ASSENTOS_COMPLEXO_INFERIDO', 'UF_COMPLEXO', 'OBRIGAÇÃO_TOTAL_POR_SALA',\n",
       "       'OBRIGAÇÃO_TOTAL_INCREMENTO_POR_SALA', 'OBRIGAÇÃO_PROP_POR_SALA',\n",
       "       'OBRIGAÇÃO_PROP_INCREMENTO_POR_SALA', 'OBRIGAÇÃO_FINAL_POR_SALA',\n",
       "       'CUMPRIMENTO_PROP_TRUNCADO', 'CUMPRIMENTO_NORMALIZADO', 'TRANSF_ORIGEM',\n",
       "       'TRANSF_RECEBIDOS', 'CUMPRIU_COTA', 'TOTAL_SALAS',\n",
       "       'DIAS_FUNC_INFERIDOS', 'CUMPRIMENTO_PROPORCIONAL', 'CUMPRIMENTO_LINEAR',\n",
       "       'CUMPRIMENTO_TRIWEIGHT', 'REGISTRO_COMPLEXO', 'REG_EMPRESA',\n",
       "       'REGISTRO_GRUPO', 'CEP_COMPLEXO', 'MUN_COMPLEXO'],\n",
       "      dtype='object')"
      ]
     },
     "execution_count": 3,
     "metadata": {},
     "output_type": "execute_result"
    }
   ],
   "source": [
    "tds_1719.columns"
   ]
  },
  {
   "cell_type": "code",
   "execution_count": 4,
   "metadata": {
    "ExecuteTime": {
     "end_time": "2021-06-16T23:15:42.029769Z",
     "start_time": "2021-06-16T23:15:41.981824Z"
    }
   },
   "outputs": [],
   "source": [
    "# defining data w/o 2019 to account for possible problems with 2019 having no screen quota\n",
    "tds_1718 = tds_1719[tds_1719.ANO_CINEMATOGRAFICO != 2019]\n",
    "est_1718 = est_1719[est_1719.ANO_CINEMATOGRAFICO != 2019]\n",
    "bras_1718 = bras_1719[bras_1719.ANO_CINEMATOGRAFICO != 2019]"
   ]
  },
  {
   "cell_type": "markdown",
   "metadata": {},
   "source": [
    "## Naïve regressions"
   ]
  },
  {
   "cell_type": "markdown",
   "metadata": {},
   "source": [
    "Define multiplex $i$ in year $t$ and title \"nationality\" (meaning all, foreign or Brazilian movie sessions) and nominal screen quota obligation $SQ$:\n",
    "\n",
    "$$ \\ln(Y_{nit}) = \\beta_0 + \\beta_1 SQ_{it} + \\theta X_{it} + \\varepsilon_{it} $$\n",
    "\n",
    "$Y$ is the interest variable that can be either Yearly Income or total public (# of moviegoers). $X_{it}$ is a vector of controls with opening days, movie theater fixed-effects and year fixed-effects. Alternatively, we also drop entity fixed-effects and use number of viewing rooms and seats per movie-theater as controls."
   ]
  },
  {
   "cell_type": "markdown",
   "metadata": {},
   "source": [
    "### Dependent variable: income"
   ]
  },
  {
   "cell_type": "markdown",
   "metadata": {},
   "source": [
    "#### With entity fixed-effects"
   ]
  },
  {
   "cell_type": "markdown",
   "metadata": {},
   "source": [
    "##### 2017-2019"
   ]
  },
  {
   "cell_type": "code",
   "execution_count": 5,
   "metadata": {
    "ExecuteTime": {
     "end_time": "2021-06-08T18:59:55.725742Z",
     "start_time": "2021-06-08T18:59:53.880274Z"
    }
   },
   "outputs": [],
   "source": [
    "formul = 'np.log(RENDA) ~ OBRIGAÇÃO_FINAL_POR_SALA + DIAS_FUNCIONAMENTO + C(REGISTRO_COMPLEXO) + C(ANO_CINEMATOGRAFICO)'\n",
    "data = [tds_1719, est_1719, bras_1719]\n",
    "\n",
    "# all\n",
    "reg_n1 = smf.ols(formula = formul, data=data[0]).fit()\n",
    "\n",
    "# foreign\n",
    "reg_n2 = smf.ols(formula = formul, data=data[1]).fit()\n",
    "\n",
    "# Brazilian\n",
    "reg_n3 = smf.ols(formula = formul, data=data[2]).fit()"
   ]
  },
  {
   "cell_type": "code",
   "execution_count": 6,
   "metadata": {
    "ExecuteTime": {
     "end_time": "2021-06-08T18:59:58.924575Z",
     "start_time": "2021-06-08T18:59:58.241393Z"
    }
   },
   "outputs": [
    {
     "data": {
      "text/html": [
       "<div>\n",
       "<style scoped>\n",
       "    .dataframe tbody tr th:only-of-type {\n",
       "        vertical-align: middle;\n",
       "    }\n",
       "\n",
       "    .dataframe tbody tr th {\n",
       "        vertical-align: top;\n",
       "    }\n",
       "\n",
       "    .dataframe thead th {\n",
       "        text-align: right;\n",
       "    }\n",
       "</style>\n",
       "<table border=\"1\" class=\"dataframe\">\n",
       "  <thead>\n",
       "    <tr style=\"text-align: right;\">\n",
       "      <th></th>\n",
       "      <th>coef</th>\n",
       "      <th>std err</th>\n",
       "      <th>t</th>\n",
       "      <th>P&gt;|t|</th>\n",
       "    </tr>\n",
       "  </thead>\n",
       "  <tbody>\n",
       "    <tr>\n",
       "      <th>C(ANO_CINEMATOGRAFICO)[T.2018]</th>\n",
       "      <td>-0.13700</td>\n",
       "      <td>0.015</td>\n",
       "      <td>-9.438</td>\n",
       "      <td>0.000</td>\n",
       "    </tr>\n",
       "    <tr>\n",
       "      <th>C(ANO_CINEMATOGRAFICO)[T.2019]</th>\n",
       "      <td>-0.05880</td>\n",
       "      <td>0.036</td>\n",
       "      <td>-1.633</td>\n",
       "      <td>0.103</td>\n",
       "    </tr>\n",
       "    <tr>\n",
       "      <th>OBRIGAÇÃO_FINAL_POR_SALA</th>\n",
       "      <td>-0.00005</td>\n",
       "      <td>0.001</td>\n",
       "      <td>-0.071</td>\n",
       "      <td>0.944</td>\n",
       "    </tr>\n",
       "    <tr>\n",
       "      <th>DIAS_FUNCIONAMENTO</th>\n",
       "      <td>0.00660</td>\n",
       "      <td>0.000</td>\n",
       "      <td>45.777</td>\n",
       "      <td>0.000</td>\n",
       "    </tr>\n",
       "  </tbody>\n",
       "</table>\n",
       "</div>"
      ],
      "text/plain": [
       "                                   coef  std err       t  P>|t|\n",
       "C(ANO_CINEMATOGRAFICO)[T.2018] -0.13700    0.015  -9.438  0.000\n",
       "C(ANO_CINEMATOGRAFICO)[T.2019] -0.05880    0.036  -1.633  0.103\n",
       "OBRIGAÇÃO_FINAL_POR_SALA       -0.00005    0.001  -0.071  0.944\n",
       "DIAS_FUNCIONAMENTO              0.00660    0.000  45.777  0.000"
      ]
     },
     "execution_count": 6,
     "metadata": {},
     "output_type": "execute_result"
    }
   ],
   "source": [
    "pd.read_html(reg_n1.summary().tables[1].as_html(),header=0,index_col=0)[0].iloc[-4:,:-2]"
   ]
  },
  {
   "cell_type": "code",
   "execution_count": 8,
   "metadata": {
    "ExecuteTime": {
     "end_time": "2021-06-08T19:00:18.684045Z",
     "start_time": "2021-06-08T19:00:18.329297Z"
    }
   },
   "outputs": [
    {
     "data": {
      "text/html": [
       "<div>\n",
       "<style scoped>\n",
       "    .dataframe tbody tr th:only-of-type {\n",
       "        vertical-align: middle;\n",
       "    }\n",
       "\n",
       "    .dataframe tbody tr th {\n",
       "        vertical-align: top;\n",
       "    }\n",
       "\n",
       "    .dataframe thead th {\n",
       "        text-align: right;\n",
       "    }\n",
       "</style>\n",
       "<table border=\"1\" class=\"dataframe\">\n",
       "  <thead>\n",
       "    <tr style=\"text-align: right;\">\n",
       "      <th></th>\n",
       "      <th>coef</th>\n",
       "      <th>std err</th>\n",
       "      <th>t</th>\n",
       "      <th>P&gt;|t|</th>\n",
       "    </tr>\n",
       "  </thead>\n",
       "  <tbody>\n",
       "    <tr>\n",
       "      <th>C(ANO_CINEMATOGRAFICO)[T.2018]</th>\n",
       "      <td>-0.186500</td>\n",
       "      <td>0.015</td>\n",
       "      <td>-12.318</td>\n",
       "      <td>0.000</td>\n",
       "    </tr>\n",
       "    <tr>\n",
       "      <th>C(ANO_CINEMATOGRAFICO)[T.2019]</th>\n",
       "      <td>-0.091400</td>\n",
       "      <td>0.038</td>\n",
       "      <td>-2.416</td>\n",
       "      <td>0.016</td>\n",
       "    </tr>\n",
       "    <tr>\n",
       "      <th>OBRIGAÇÃO_FINAL_POR_SALA</th>\n",
       "      <td>0.000083</td>\n",
       "      <td>0.001</td>\n",
       "      <td>0.111</td>\n",
       "      <td>0.911</td>\n",
       "    </tr>\n",
       "    <tr>\n",
       "      <th>DIAS_FUNCIONAMENTO</th>\n",
       "      <td>0.006700</td>\n",
       "      <td>0.000</td>\n",
       "      <td>44.178</td>\n",
       "      <td>0.000</td>\n",
       "    </tr>\n",
       "  </tbody>\n",
       "</table>\n",
       "</div>"
      ],
      "text/plain": [
       "                                    coef  std err       t  P>|t|\n",
       "C(ANO_CINEMATOGRAFICO)[T.2018] -0.186500    0.015 -12.318  0.000\n",
       "C(ANO_CINEMATOGRAFICO)[T.2019] -0.091400    0.038  -2.416  0.016\n",
       "OBRIGAÇÃO_FINAL_POR_SALA        0.000083    0.001   0.111  0.911\n",
       "DIAS_FUNCIONAMENTO              0.006700    0.000  44.178  0.000"
      ]
     },
     "execution_count": 8,
     "metadata": {},
     "output_type": "execute_result"
    }
   ],
   "source": [
    "pd.read_html(reg_n2.summary().tables[1].as_html(),header=0,index_col=0)[0].iloc[-4:,:-2]"
   ]
  },
  {
   "cell_type": "code",
   "execution_count": 9,
   "metadata": {
    "ExecuteTime": {
     "end_time": "2021-06-08T19:00:19.996199Z",
     "start_time": "2021-06-08T19:00:19.568227Z"
    }
   },
   "outputs": [
    {
     "data": {
      "text/html": [
       "<div>\n",
       "<style scoped>\n",
       "    .dataframe tbody tr th:only-of-type {\n",
       "        vertical-align: middle;\n",
       "    }\n",
       "\n",
       "    .dataframe tbody tr th {\n",
       "        vertical-align: top;\n",
       "    }\n",
       "\n",
       "    .dataframe thead th {\n",
       "        text-align: right;\n",
       "    }\n",
       "</style>\n",
       "<table border=\"1\" class=\"dataframe\">\n",
       "  <thead>\n",
       "    <tr style=\"text-align: right;\">\n",
       "      <th></th>\n",
       "      <th>coef</th>\n",
       "      <th>std err</th>\n",
       "      <th>t</th>\n",
       "      <th>P&gt;|t|</th>\n",
       "    </tr>\n",
       "  </thead>\n",
       "  <tbody>\n",
       "    <tr>\n",
       "      <th>C(ANO_CINEMATOGRAFICO)[T.2018]</th>\n",
       "      <td>0.3315</td>\n",
       "      <td>0.028</td>\n",
       "      <td>11.892</td>\n",
       "      <td>0.000</td>\n",
       "    </tr>\n",
       "    <tr>\n",
       "      <th>C(ANO_CINEMATOGRAFICO)[T.2019]</th>\n",
       "      <td>0.2852</td>\n",
       "      <td>0.070</td>\n",
       "      <td>4.053</td>\n",
       "      <td>0.000</td>\n",
       "    </tr>\n",
       "    <tr>\n",
       "      <th>OBRIGAÇÃO_FINAL_POR_SALA</th>\n",
       "      <td>0.0003</td>\n",
       "      <td>0.001</td>\n",
       "      <td>0.238</td>\n",
       "      <td>0.812</td>\n",
       "    </tr>\n",
       "    <tr>\n",
       "      <th>DIAS_FUNCIONAMENTO</th>\n",
       "      <td>0.0090</td>\n",
       "      <td>0.000</td>\n",
       "      <td>22.609</td>\n",
       "      <td>0.000</td>\n",
       "    </tr>\n",
       "  </tbody>\n",
       "</table>\n",
       "</div>"
      ],
      "text/plain": [
       "                                  coef  std err       t  P>|t|\n",
       "C(ANO_CINEMATOGRAFICO)[T.2018]  0.3315    0.028  11.892  0.000\n",
       "C(ANO_CINEMATOGRAFICO)[T.2019]  0.2852    0.070   4.053  0.000\n",
       "OBRIGAÇÃO_FINAL_POR_SALA        0.0003    0.001   0.238  0.812\n",
       "DIAS_FUNCIONAMENTO              0.0090    0.000  22.609  0.000"
      ]
     },
     "execution_count": 9,
     "metadata": {},
     "output_type": "execute_result"
    }
   ],
   "source": [
    "pd.read_html(reg_n3.summary().tables[1].as_html(),header=0,index_col=0)[0].iloc[-4:,:-2]"
   ]
  },
  {
   "cell_type": "markdown",
   "metadata": {},
   "source": [
    "##### 2017-2018"
   ]
  },
  {
   "cell_type": "code",
   "execution_count": 10,
   "metadata": {
    "ExecuteTime": {
     "end_time": "2021-06-08T19:01:05.319578Z",
     "start_time": "2021-06-08T19:01:04.272911Z"
    }
   },
   "outputs": [],
   "source": [
    "formul = 'np.log(RENDA) ~ OBRIGAÇÃO_FINAL_POR_SALA + DIAS_FUNCIONAMENTO + C(REGISTRO_COMPLEXO) + C(ANO_CINEMATOGRAFICO)'\n",
    "data = [tds_1718, est_1718, bras_1718]\n",
    "\n",
    "# all\n",
    "reg_n4 = smf.ols(formula = formul, data=data[0]).fit()\n",
    "\n",
    "# foreign\n",
    "reg_n5 = smf.ols(formula = formul, data=data[1]).fit()\n",
    "\n",
    "# Brazilian\n",
    "reg_n6 = smf.ols(formula = formul, data=data[2]).fit()"
   ]
  },
  {
   "cell_type": "code",
   "execution_count": 13,
   "metadata": {
    "ExecuteTime": {
     "end_time": "2021-06-08T19:02:27.633696Z",
     "start_time": "2021-06-08T19:02:27.296824Z"
    }
   },
   "outputs": [
    {
     "data": {
      "text/html": [
       "<div>\n",
       "<style scoped>\n",
       "    .dataframe tbody tr th:only-of-type {\n",
       "        vertical-align: middle;\n",
       "    }\n",
       "\n",
       "    .dataframe tbody tr th {\n",
       "        vertical-align: top;\n",
       "    }\n",
       "\n",
       "    .dataframe thead th {\n",
       "        text-align: right;\n",
       "    }\n",
       "</style>\n",
       "<table border=\"1\" class=\"dataframe\">\n",
       "  <thead>\n",
       "    <tr style=\"text-align: right;\">\n",
       "      <th></th>\n",
       "      <th>coef</th>\n",
       "      <th>std err</th>\n",
       "      <th>t</th>\n",
       "      <th>P&gt;|t|</th>\n",
       "    </tr>\n",
       "  </thead>\n",
       "  <tbody>\n",
       "    <tr>\n",
       "      <th>C(ANO_CINEMATOGRAFICO)[T.2018]</th>\n",
       "      <td>-0.1440</td>\n",
       "      <td>0.016</td>\n",
       "      <td>-8.896</td>\n",
       "      <td>0.000</td>\n",
       "    </tr>\n",
       "    <tr>\n",
       "      <th>OBRIGAÇÃO_FINAL_POR_SALA</th>\n",
       "      <td>-0.0012</td>\n",
       "      <td>0.001</td>\n",
       "      <td>-0.826</td>\n",
       "      <td>0.409</td>\n",
       "    </tr>\n",
       "    <tr>\n",
       "      <th>DIAS_FUNCIONAMENTO</th>\n",
       "      <td>0.0068</td>\n",
       "      <td>0.000</td>\n",
       "      <td>28.197</td>\n",
       "      <td>0.000</td>\n",
       "    </tr>\n",
       "  </tbody>\n",
       "</table>\n",
       "</div>"
      ],
      "text/plain": [
       "                                  coef  std err       t  P>|t|\n",
       "C(ANO_CINEMATOGRAFICO)[T.2018] -0.1440    0.016  -8.896  0.000\n",
       "OBRIGAÇÃO_FINAL_POR_SALA       -0.0012    0.001  -0.826  0.409\n",
       "DIAS_FUNCIONAMENTO              0.0068    0.000  28.197  0.000"
      ]
     },
     "execution_count": 13,
     "metadata": {},
     "output_type": "execute_result"
    }
   ],
   "source": [
    "pd.read_html(reg_n4.summary().tables[1].as_html(),header=0,index_col=0)[0].iloc[-3:,:-2]"
   ]
  },
  {
   "cell_type": "code",
   "execution_count": 14,
   "metadata": {
    "ExecuteTime": {
     "end_time": "2021-06-08T19:02:30.644167Z",
     "start_time": "2021-06-08T19:02:30.240872Z"
    }
   },
   "outputs": [
    {
     "data": {
      "text/html": [
       "<div>\n",
       "<style scoped>\n",
       "    .dataframe tbody tr th:only-of-type {\n",
       "        vertical-align: middle;\n",
       "    }\n",
       "\n",
       "    .dataframe tbody tr th {\n",
       "        vertical-align: top;\n",
       "    }\n",
       "\n",
       "    .dataframe thead th {\n",
       "        text-align: right;\n",
       "    }\n",
       "</style>\n",
       "<table border=\"1\" class=\"dataframe\">\n",
       "  <thead>\n",
       "    <tr style=\"text-align: right;\">\n",
       "      <th></th>\n",
       "      <th>coef</th>\n",
       "      <th>std err</th>\n",
       "      <th>t</th>\n",
       "      <th>P&gt;|t|</th>\n",
       "    </tr>\n",
       "  </thead>\n",
       "  <tbody>\n",
       "    <tr>\n",
       "      <th>C(ANO_CINEMATOGRAFICO)[T.2018]</th>\n",
       "      <td>-0.1943</td>\n",
       "      <td>0.017</td>\n",
       "      <td>-11.727</td>\n",
       "      <td>0.000</td>\n",
       "    </tr>\n",
       "    <tr>\n",
       "      <th>OBRIGAÇÃO_FINAL_POR_SALA</th>\n",
       "      <td>-0.0004</td>\n",
       "      <td>0.001</td>\n",
       "      <td>-0.247</td>\n",
       "      <td>0.805</td>\n",
       "    </tr>\n",
       "    <tr>\n",
       "      <th>DIAS_FUNCIONAMENTO</th>\n",
       "      <td>0.0068</td>\n",
       "      <td>0.000</td>\n",
       "      <td>27.128</td>\n",
       "      <td>0.000</td>\n",
       "    </tr>\n",
       "  </tbody>\n",
       "</table>\n",
       "</div>"
      ],
      "text/plain": [
       "                                  coef  std err       t  P>|t|\n",
       "C(ANO_CINEMATOGRAFICO)[T.2018] -0.1943    0.017 -11.727  0.000\n",
       "OBRIGAÇÃO_FINAL_POR_SALA       -0.0004    0.001  -0.247  0.805\n",
       "DIAS_FUNCIONAMENTO              0.0068    0.000  27.128  0.000"
      ]
     },
     "execution_count": 14,
     "metadata": {},
     "output_type": "execute_result"
    }
   ],
   "source": [
    "pd.read_html(reg_n5.summary().tables[1].as_html(),header=0,index_col=0)[0].iloc[-3:,:-2]"
   ]
  },
  {
   "cell_type": "code",
   "execution_count": 15,
   "metadata": {
    "ExecuteTime": {
     "end_time": "2021-06-08T19:02:35.833721Z",
     "start_time": "2021-06-08T19:02:35.449182Z"
    }
   },
   "outputs": [
    {
     "data": {
      "text/html": [
       "<div>\n",
       "<style scoped>\n",
       "    .dataframe tbody tr th:only-of-type {\n",
       "        vertical-align: middle;\n",
       "    }\n",
       "\n",
       "    .dataframe tbody tr th {\n",
       "        vertical-align: top;\n",
       "    }\n",
       "\n",
       "    .dataframe thead th {\n",
       "        text-align: right;\n",
       "    }\n",
       "</style>\n",
       "<table border=\"1\" class=\"dataframe\">\n",
       "  <thead>\n",
       "    <tr style=\"text-align: right;\">\n",
       "      <th></th>\n",
       "      <th>coef</th>\n",
       "      <th>std err</th>\n",
       "      <th>t</th>\n",
       "      <th>P&gt;|t|</th>\n",
       "    </tr>\n",
       "  </thead>\n",
       "  <tbody>\n",
       "    <tr>\n",
       "      <th>C(ANO_CINEMATOGRAFICO)[T.2018]</th>\n",
       "      <td>0.3375</td>\n",
       "      <td>0.034</td>\n",
       "      <td>9.944</td>\n",
       "      <td>0.000</td>\n",
       "    </tr>\n",
       "    <tr>\n",
       "      <th>OBRIGAÇÃO_FINAL_POR_SALA</th>\n",
       "      <td>-0.0048</td>\n",
       "      <td>0.003</td>\n",
       "      <td>-1.713</td>\n",
       "      <td>0.087</td>\n",
       "    </tr>\n",
       "    <tr>\n",
       "      <th>DIAS_FUNCIONAMENTO</th>\n",
       "      <td>0.0114</td>\n",
       "      <td>0.001</td>\n",
       "      <td>14.821</td>\n",
       "      <td>0.000</td>\n",
       "    </tr>\n",
       "  </tbody>\n",
       "</table>\n",
       "</div>"
      ],
      "text/plain": [
       "                                  coef  std err       t  P>|t|\n",
       "C(ANO_CINEMATOGRAFICO)[T.2018]  0.3375    0.034   9.944  0.000\n",
       "OBRIGAÇÃO_FINAL_POR_SALA       -0.0048    0.003  -1.713  0.087\n",
       "DIAS_FUNCIONAMENTO              0.0114    0.001  14.821  0.000"
      ]
     },
     "execution_count": 15,
     "metadata": {},
     "output_type": "execute_result"
    }
   ],
   "source": [
    "pd.read_html(reg_n6.summary().tables[1].as_html(),header=0,index_col=0)[0].iloc[-3:,:-2]"
   ]
  },
  {
   "cell_type": "markdown",
   "metadata": {},
   "source": [
    "#### Without entity fixed-effects"
   ]
  },
  {
   "cell_type": "markdown",
   "metadata": {},
   "source": [
    "##### 2017-2019"
   ]
  },
  {
   "cell_type": "code",
   "execution_count": 16,
   "metadata": {
    "ExecuteTime": {
     "end_time": "2021-06-08T19:04:27.376605Z",
     "start_time": "2021-06-08T19:04:23.057801Z"
    }
   },
   "outputs": [],
   "source": [
    "formul = 'np.log(RENDA) ~ OBRIGAÇÃO_FINAL_POR_SALA + DIAS_FUNCIONAMENTO + SALAS_COMPLEXO_INFERIDO + ASSENTOS_COMPLEXO_INFERIDO + C(ANO_CINEMATOGRAFICO)*C(MUN_COMPLEXO)'\n",
    "\n",
    "data = [tds_1719, est_1719, bras_1719]\n",
    "\n",
    "# all\n",
    "reg_n7 = smf.ols(formula = formul, data=data[0]).fit()\n",
    "\n",
    "# foreign\n",
    "reg_n8 = smf.ols(formula = formul, data=data[1]).fit()\n",
    "\n",
    "# Brazilian\n",
    "reg_n9 = smf.ols(formula = formul, data=data[2]).fit()"
   ]
  },
  {
   "cell_type": "code",
   "execution_count": 18,
   "metadata": {
    "ExecuteTime": {
     "end_time": "2021-06-08T19:05:17.394117Z",
     "start_time": "2021-06-08T19:05:16.780590Z"
    }
   },
   "outputs": [
    {
     "data": {
      "text/html": [
       "<div>\n",
       "<style scoped>\n",
       "    .dataframe tbody tr th:only-of-type {\n",
       "        vertical-align: middle;\n",
       "    }\n",
       "\n",
       "    .dataframe tbody tr th {\n",
       "        vertical-align: top;\n",
       "    }\n",
       "\n",
       "    .dataframe thead th {\n",
       "        text-align: right;\n",
       "    }\n",
       "</style>\n",
       "<table border=\"1\" class=\"dataframe\">\n",
       "  <thead>\n",
       "    <tr style=\"text-align: right;\">\n",
       "      <th></th>\n",
       "      <th>coef</th>\n",
       "      <th>std err</th>\n",
       "      <th>t</th>\n",
       "      <th>P&gt;|t|</th>\n",
       "    </tr>\n",
       "  </thead>\n",
       "  <tbody>\n",
       "    <tr>\n",
       "      <th>OBRIGAÇÃO_FINAL_POR_SALA</th>\n",
       "      <td>0.0070</td>\n",
       "      <td>0.002000</td>\n",
       "      <td>3.718</td>\n",
       "      <td>0.0</td>\n",
       "    </tr>\n",
       "    <tr>\n",
       "      <th>DIAS_FUNCIONAMENTO</th>\n",
       "      <td>0.0098</td>\n",
       "      <td>0.000000</td>\n",
       "      <td>32.408</td>\n",
       "      <td>0.0</td>\n",
       "    </tr>\n",
       "    <tr>\n",
       "      <th>SALAS_COMPLEXO_INFERIDO</th>\n",
       "      <td>0.2298</td>\n",
       "      <td>0.017000</td>\n",
       "      <td>13.233</td>\n",
       "      <td>0.0</td>\n",
       "    </tr>\n",
       "    <tr>\n",
       "      <th>ASSENTOS_COMPLEXO_INFERIDO</th>\n",
       "      <td>0.0004</td>\n",
       "      <td>0.000066</td>\n",
       "      <td>6.016</td>\n",
       "      <td>0.0</td>\n",
       "    </tr>\n",
       "  </tbody>\n",
       "</table>\n",
       "</div>"
      ],
      "text/plain": [
       "                              coef   std err       t  P>|t|\n",
       "OBRIGAÇÃO_FINAL_POR_SALA    0.0070  0.002000   3.718    0.0\n",
       "DIAS_FUNCIONAMENTO          0.0098  0.000000  32.408    0.0\n",
       "SALAS_COMPLEXO_INFERIDO     0.2298  0.017000  13.233    0.0\n",
       "ASSENTOS_COMPLEXO_INFERIDO  0.0004  0.000066   6.016    0.0"
      ]
     },
     "execution_count": 18,
     "metadata": {},
     "output_type": "execute_result"
    }
   ],
   "source": [
    "pd.read_html(reg_n7.summary().tables[1].as_html(),header=0,index_col=0)[0].iloc[-4:,:-2]"
   ]
  },
  {
   "cell_type": "code",
   "execution_count": 19,
   "metadata": {
    "ExecuteTime": {
     "end_time": "2021-06-08T19:05:27.503490Z",
     "start_time": "2021-06-08T19:05:26.920482Z"
    }
   },
   "outputs": [
    {
     "data": {
      "text/html": [
       "<div>\n",
       "<style scoped>\n",
       "    .dataframe tbody tr th:only-of-type {\n",
       "        vertical-align: middle;\n",
       "    }\n",
       "\n",
       "    .dataframe tbody tr th {\n",
       "        vertical-align: top;\n",
       "    }\n",
       "\n",
       "    .dataframe thead th {\n",
       "        text-align: right;\n",
       "    }\n",
       "</style>\n",
       "<table border=\"1\" class=\"dataframe\">\n",
       "  <thead>\n",
       "    <tr style=\"text-align: right;\">\n",
       "      <th></th>\n",
       "      <th>coef</th>\n",
       "      <th>std err</th>\n",
       "      <th>t</th>\n",
       "      <th>P&gt;|t|</th>\n",
       "    </tr>\n",
       "  </thead>\n",
       "  <tbody>\n",
       "    <tr>\n",
       "      <th>OBRIGAÇÃO_FINAL_POR_SALA</th>\n",
       "      <td>0.0035</td>\n",
       "      <td>0.00200</td>\n",
       "      <td>1.742</td>\n",
       "      <td>0.082</td>\n",
       "    </tr>\n",
       "    <tr>\n",
       "      <th>DIAS_FUNCIONAMENTO</th>\n",
       "      <td>0.0111</td>\n",
       "      <td>0.00000</td>\n",
       "      <td>35.495</td>\n",
       "      <td>0.000</td>\n",
       "    </tr>\n",
       "    <tr>\n",
       "      <th>SALAS_COMPLEXO_INFERIDO</th>\n",
       "      <td>0.2299</td>\n",
       "      <td>0.01800</td>\n",
       "      <td>12.449</td>\n",
       "      <td>0.000</td>\n",
       "    </tr>\n",
       "    <tr>\n",
       "      <th>ASSENTOS_COMPLEXO_INFERIDO</th>\n",
       "      <td>0.0004</td>\n",
       "      <td>0.00007</td>\n",
       "      <td>5.727</td>\n",
       "      <td>0.000</td>\n",
       "    </tr>\n",
       "  </tbody>\n",
       "</table>\n",
       "</div>"
      ],
      "text/plain": [
       "                              coef  std err       t  P>|t|\n",
       "OBRIGAÇÃO_FINAL_POR_SALA    0.0035  0.00200   1.742  0.082\n",
       "DIAS_FUNCIONAMENTO          0.0111  0.00000  35.495  0.000\n",
       "SALAS_COMPLEXO_INFERIDO     0.2299  0.01800  12.449  0.000\n",
       "ASSENTOS_COMPLEXO_INFERIDO  0.0004  0.00007   5.727  0.000"
      ]
     },
     "execution_count": 19,
     "metadata": {},
     "output_type": "execute_result"
    }
   ],
   "source": [
    "pd.read_html(reg_n8.summary().tables[1].as_html(),header=0,index_col=0)[0].iloc[-4:,:-2]"
   ]
  },
  {
   "cell_type": "code",
   "execution_count": 20,
   "metadata": {
    "ExecuteTime": {
     "end_time": "2021-06-08T19:05:35.216410Z",
     "start_time": "2021-06-08T19:05:34.647660Z"
    }
   },
   "outputs": [
    {
     "data": {
      "text/html": [
       "<div>\n",
       "<style scoped>\n",
       "    .dataframe tbody tr th:only-of-type {\n",
       "        vertical-align: middle;\n",
       "    }\n",
       "\n",
       "    .dataframe tbody tr th {\n",
       "        vertical-align: top;\n",
       "    }\n",
       "\n",
       "    .dataframe thead th {\n",
       "        text-align: right;\n",
       "    }\n",
       "</style>\n",
       "<table border=\"1\" class=\"dataframe\">\n",
       "  <thead>\n",
       "    <tr style=\"text-align: right;\">\n",
       "      <th></th>\n",
       "      <th>coef</th>\n",
       "      <th>std err</th>\n",
       "      <th>t</th>\n",
       "      <th>P&gt;|t|</th>\n",
       "    </tr>\n",
       "  </thead>\n",
       "  <tbody>\n",
       "    <tr>\n",
       "      <th>OBRIGAÇÃO_FINAL_POR_SALA</th>\n",
       "      <td>0.0146</td>\n",
       "      <td>0.002000</td>\n",
       "      <td>6.779</td>\n",
       "      <td>0.000</td>\n",
       "    </tr>\n",
       "    <tr>\n",
       "      <th>DIAS_FUNCIONAMENTO</th>\n",
       "      <td>0.0081</td>\n",
       "      <td>0.000000</td>\n",
       "      <td>21.659</td>\n",
       "      <td>0.000</td>\n",
       "    </tr>\n",
       "    <tr>\n",
       "      <th>SALAS_COMPLEXO_INFERIDO</th>\n",
       "      <td>0.0554</td>\n",
       "      <td>0.021000</td>\n",
       "      <td>2.649</td>\n",
       "      <td>0.008</td>\n",
       "    </tr>\n",
       "    <tr>\n",
       "      <th>ASSENTOS_COMPLEXO_INFERIDO</th>\n",
       "      <td>0.0005</td>\n",
       "      <td>0.000074</td>\n",
       "      <td>7.109</td>\n",
       "      <td>0.000</td>\n",
       "    </tr>\n",
       "  </tbody>\n",
       "</table>\n",
       "</div>"
      ],
      "text/plain": [
       "                              coef   std err       t  P>|t|\n",
       "OBRIGAÇÃO_FINAL_POR_SALA    0.0146  0.002000   6.779  0.000\n",
       "DIAS_FUNCIONAMENTO          0.0081  0.000000  21.659  0.000\n",
       "SALAS_COMPLEXO_INFERIDO     0.0554  0.021000   2.649  0.008\n",
       "ASSENTOS_COMPLEXO_INFERIDO  0.0005  0.000074   7.109  0.000"
      ]
     },
     "execution_count": 20,
     "metadata": {},
     "output_type": "execute_result"
    }
   ],
   "source": [
    "pd.read_html(reg_n9.summary().tables[1].as_html(),header=0,index_col=0)[0].iloc[-4:,:-2]"
   ]
  },
  {
   "cell_type": "markdown",
   "metadata": {},
   "source": [
    "##### 2017-2018"
   ]
  },
  {
   "cell_type": "code",
   "execution_count": 21,
   "metadata": {
    "ExecuteTime": {
     "end_time": "2021-06-08T19:07:30.238105Z",
     "start_time": "2021-06-08T19:07:29.056208Z"
    }
   },
   "outputs": [],
   "source": [
    "formul = 'np.log(RENDA) ~ OBRIGAÇÃO_FINAL_POR_SALA + DIAS_FUNCIONAMENTO + SALAS_COMPLEXO_INFERIDO + ASSENTOS_COMPLEXO_INFERIDO + C(ANO_CINEMATOGRAFICO)*C(MUN_COMPLEXO)'\n",
    "\n",
    "data = [tds_1718, est_1718, bras_1718]\n",
    "\n",
    "# all\n",
    "reg_n10 = smf.ols(formula = formul, data=data[0]).fit()\n",
    "\n",
    "# foreign\n",
    "reg_n11 = smf.ols(formula = formul, data=data[1]).fit()\n",
    "\n",
    "# Brazilian\n",
    "reg_n12 = smf.ols(formula = formul, data=data[2]).fit()"
   ]
  },
  {
   "cell_type": "code",
   "execution_count": 22,
   "metadata": {
    "ExecuteTime": {
     "end_time": "2021-06-08T19:08:00.295265Z",
     "start_time": "2021-06-08T19:07:59.911179Z"
    }
   },
   "outputs": [
    {
     "data": {
      "text/html": [
       "<div>\n",
       "<style scoped>\n",
       "    .dataframe tbody tr th:only-of-type {\n",
       "        vertical-align: middle;\n",
       "    }\n",
       "\n",
       "    .dataframe tbody tr th {\n",
       "        vertical-align: top;\n",
       "    }\n",
       "\n",
       "    .dataframe thead th {\n",
       "        text-align: right;\n",
       "    }\n",
       "</style>\n",
       "<table border=\"1\" class=\"dataframe\">\n",
       "  <thead>\n",
       "    <tr style=\"text-align: right;\">\n",
       "      <th></th>\n",
       "      <th>coef</th>\n",
       "      <th>std err</th>\n",
       "      <th>t</th>\n",
       "      <th>P&gt;|t|</th>\n",
       "    </tr>\n",
       "  </thead>\n",
       "  <tbody>\n",
       "    <tr>\n",
       "      <th>OBRIGAÇÃO_FINAL_POR_SALA</th>\n",
       "      <td>0.0094</td>\n",
       "      <td>0.002000</td>\n",
       "      <td>4.224</td>\n",
       "      <td>0.0</td>\n",
       "    </tr>\n",
       "    <tr>\n",
       "      <th>DIAS_FUNCIONAMENTO</th>\n",
       "      <td>0.0092</td>\n",
       "      <td>0.000000</td>\n",
       "      <td>19.665</td>\n",
       "      <td>0.0</td>\n",
       "    </tr>\n",
       "    <tr>\n",
       "      <th>SALAS_COMPLEXO_INFERIDO</th>\n",
       "      <td>0.2206</td>\n",
       "      <td>0.022000</td>\n",
       "      <td>9.988</td>\n",
       "      <td>0.0</td>\n",
       "    </tr>\n",
       "    <tr>\n",
       "      <th>ASSENTOS_COMPLEXO_INFERIDO</th>\n",
       "      <td>0.0004</td>\n",
       "      <td>0.000083</td>\n",
       "      <td>4.790</td>\n",
       "      <td>0.0</td>\n",
       "    </tr>\n",
       "  </tbody>\n",
       "</table>\n",
       "</div>"
      ],
      "text/plain": [
       "                              coef   std err       t  P>|t|\n",
       "OBRIGAÇÃO_FINAL_POR_SALA    0.0094  0.002000   4.224    0.0\n",
       "DIAS_FUNCIONAMENTO          0.0092  0.000000  19.665    0.0\n",
       "SALAS_COMPLEXO_INFERIDO     0.2206  0.022000   9.988    0.0\n",
       "ASSENTOS_COMPLEXO_INFERIDO  0.0004  0.000083   4.790    0.0"
      ]
     },
     "execution_count": 22,
     "metadata": {},
     "output_type": "execute_result"
    }
   ],
   "source": [
    "pd.read_html(reg_n10.summary().tables[1].as_html(),header=0,index_col=0)[0].iloc[-4:,:-2]"
   ]
  },
  {
   "cell_type": "code",
   "execution_count": 23,
   "metadata": {
    "ExecuteTime": {
     "end_time": "2021-06-08T19:08:02.302189Z",
     "start_time": "2021-06-08T19:08:01.951426Z"
    }
   },
   "outputs": [
    {
     "data": {
      "text/html": [
       "<div>\n",
       "<style scoped>\n",
       "    .dataframe tbody tr th:only-of-type {\n",
       "        vertical-align: middle;\n",
       "    }\n",
       "\n",
       "    .dataframe tbody tr th {\n",
       "        vertical-align: top;\n",
       "    }\n",
       "\n",
       "    .dataframe thead th {\n",
       "        text-align: right;\n",
       "    }\n",
       "</style>\n",
       "<table border=\"1\" class=\"dataframe\">\n",
       "  <thead>\n",
       "    <tr style=\"text-align: right;\">\n",
       "      <th></th>\n",
       "      <th>coef</th>\n",
       "      <th>std err</th>\n",
       "      <th>t</th>\n",
       "      <th>P&gt;|t|</th>\n",
       "    </tr>\n",
       "  </thead>\n",
       "  <tbody>\n",
       "    <tr>\n",
       "      <th>OBRIGAÇÃO_FINAL_POR_SALA</th>\n",
       "      <td>0.0052</td>\n",
       "      <td>0.002000</td>\n",
       "      <td>2.227</td>\n",
       "      <td>0.026</td>\n",
       "    </tr>\n",
       "    <tr>\n",
       "      <th>DIAS_FUNCIONAMENTO</th>\n",
       "      <td>0.0107</td>\n",
       "      <td>0.000000</td>\n",
       "      <td>22.609</td>\n",
       "      <td>0.000</td>\n",
       "    </tr>\n",
       "    <tr>\n",
       "      <th>SALAS_COMPLEXO_INFERIDO</th>\n",
       "      <td>0.2218</td>\n",
       "      <td>0.023000</td>\n",
       "      <td>9.579</td>\n",
       "      <td>0.000</td>\n",
       "    </tr>\n",
       "    <tr>\n",
       "      <th>ASSENTOS_COMPLEXO_INFERIDO</th>\n",
       "      <td>0.0004</td>\n",
       "      <td>0.000087</td>\n",
       "      <td>4.699</td>\n",
       "      <td>0.000</td>\n",
       "    </tr>\n",
       "  </tbody>\n",
       "</table>\n",
       "</div>"
      ],
      "text/plain": [
       "                              coef   std err       t  P>|t|\n",
       "OBRIGAÇÃO_FINAL_POR_SALA    0.0052  0.002000   2.227  0.026\n",
       "DIAS_FUNCIONAMENTO          0.0107  0.000000  22.609  0.000\n",
       "SALAS_COMPLEXO_INFERIDO     0.2218  0.023000   9.579  0.000\n",
       "ASSENTOS_COMPLEXO_INFERIDO  0.0004  0.000087   4.699  0.000"
      ]
     },
     "execution_count": 23,
     "metadata": {},
     "output_type": "execute_result"
    }
   ],
   "source": [
    "pd.read_html(reg_n11.summary().tables[1].as_html(),header=0,index_col=0)[0].iloc[-4:,:-2]"
   ]
  },
  {
   "cell_type": "code",
   "execution_count": 24,
   "metadata": {
    "ExecuteTime": {
     "end_time": "2021-06-08T19:08:03.328480Z",
     "start_time": "2021-06-08T19:08:02.967204Z"
    }
   },
   "outputs": [
    {
     "data": {
      "text/html": [
       "<div>\n",
       "<style scoped>\n",
       "    .dataframe tbody tr th:only-of-type {\n",
       "        vertical-align: middle;\n",
       "    }\n",
       "\n",
       "    .dataframe tbody tr th {\n",
       "        vertical-align: top;\n",
       "    }\n",
       "\n",
       "    .dataframe thead th {\n",
       "        text-align: right;\n",
       "    }\n",
       "</style>\n",
       "<table border=\"1\" class=\"dataframe\">\n",
       "  <thead>\n",
       "    <tr style=\"text-align: right;\">\n",
       "      <th></th>\n",
       "      <th>coef</th>\n",
       "      <th>std err</th>\n",
       "      <th>t</th>\n",
       "      <th>P&gt;|t|</th>\n",
       "    </tr>\n",
       "  </thead>\n",
       "  <tbody>\n",
       "    <tr>\n",
       "      <th>OBRIGAÇÃO_FINAL_POR_SALA</th>\n",
       "      <td>0.0183</td>\n",
       "      <td>0.003000</td>\n",
       "      <td>7.082</td>\n",
       "      <td>0.000</td>\n",
       "    </tr>\n",
       "    <tr>\n",
       "      <th>DIAS_FUNCIONAMENTO</th>\n",
       "      <td>0.0071</td>\n",
       "      <td>0.001000</td>\n",
       "      <td>12.945</td>\n",
       "      <td>0.000</td>\n",
       "    </tr>\n",
       "    <tr>\n",
       "      <th>SALAS_COMPLEXO_INFERIDO</th>\n",
       "      <td>0.0628</td>\n",
       "      <td>0.028000</td>\n",
       "      <td>2.275</td>\n",
       "      <td>0.023</td>\n",
       "    </tr>\n",
       "    <tr>\n",
       "      <th>ASSENTOS_COMPLEXO_INFERIDO</th>\n",
       "      <td>0.0005</td>\n",
       "      <td>0.000096</td>\n",
       "      <td>5.280</td>\n",
       "      <td>0.000</td>\n",
       "    </tr>\n",
       "  </tbody>\n",
       "</table>\n",
       "</div>"
      ],
      "text/plain": [
       "                              coef   std err       t  P>|t|\n",
       "OBRIGAÇÃO_FINAL_POR_SALA    0.0183  0.003000   7.082  0.000\n",
       "DIAS_FUNCIONAMENTO          0.0071  0.001000  12.945  0.000\n",
       "SALAS_COMPLEXO_INFERIDO     0.0628  0.028000   2.275  0.023\n",
       "ASSENTOS_COMPLEXO_INFERIDO  0.0005  0.000096   5.280  0.000"
      ]
     },
     "execution_count": 24,
     "metadata": {},
     "output_type": "execute_result"
    }
   ],
   "source": [
    "pd.read_html(reg_n12.summary().tables[1].as_html(),header=0,index_col=0)[0].iloc[-4:,:-2]"
   ]
  },
  {
   "cell_type": "markdown",
   "metadata": {},
   "source": [
    "### Dependent variable: public (moviegoers)"
   ]
  },
  {
   "cell_type": "markdown",
   "metadata": {},
   "source": [
    "#### With entity fixed-effects"
   ]
  },
  {
   "cell_type": "markdown",
   "metadata": {},
   "source": [
    "##### 2017-2019"
   ]
  },
  {
   "cell_type": "code",
   "execution_count": 25,
   "metadata": {
    "ExecuteTime": {
     "end_time": "2021-06-08T19:08:45.350299Z",
     "start_time": "2021-06-08T19:08:43.710838Z"
    }
   },
   "outputs": [],
   "source": [
    "formul = 'np.log(PUBLICO) ~ OBRIGAÇÃO_FINAL_POR_SALA + DIAS_FUNCIONAMENTO + C(REGISTRO_COMPLEXO) + C(ANO_CINEMATOGRAFICO)'\n",
    "\n",
    "data = [tds_1719, est_1719, bras_1719]\n",
    "\n",
    "# all\n",
    "reg_np1 = smf.ols(formula = formul, data=data[0]).fit()\n",
    "\n",
    "# foreign\n",
    "reg_np2 = smf.ols(formula = formul, data=data[1]).fit()\n",
    "\n",
    "# Brazilian\n",
    "reg_np3 = smf.ols(formula = formul, data=data[2]).fit()"
   ]
  },
  {
   "cell_type": "code",
   "execution_count": 26,
   "metadata": {
    "ExecuteTime": {
     "end_time": "2021-06-08T19:08:49.790780Z",
     "start_time": "2021-06-08T19:08:49.342877Z"
    }
   },
   "outputs": [
    {
     "data": {
      "text/html": [
       "<div>\n",
       "<style scoped>\n",
       "    .dataframe tbody tr th:only-of-type {\n",
       "        vertical-align: middle;\n",
       "    }\n",
       "\n",
       "    .dataframe tbody tr th {\n",
       "        vertical-align: top;\n",
       "    }\n",
       "\n",
       "    .dataframe thead th {\n",
       "        text-align: right;\n",
       "    }\n",
       "</style>\n",
       "<table border=\"1\" class=\"dataframe\">\n",
       "  <thead>\n",
       "    <tr style=\"text-align: right;\">\n",
       "      <th></th>\n",
       "      <th>coef</th>\n",
       "      <th>std err</th>\n",
       "      <th>t</th>\n",
       "      <th>P&gt;|t|</th>\n",
       "    </tr>\n",
       "  </thead>\n",
       "  <tbody>\n",
       "    <tr>\n",
       "      <th>C(ANO_CINEMATOGRAFICO)[T.2018]</th>\n",
       "      <td>-0.1036</td>\n",
       "      <td>0.013</td>\n",
       "      <td>-8.017</td>\n",
       "      <td>0.000</td>\n",
       "    </tr>\n",
       "    <tr>\n",
       "      <th>C(ANO_CINEMATOGRAFICO)[T.2019]</th>\n",
       "      <td>0.0007</td>\n",
       "      <td>0.032</td>\n",
       "      <td>0.020</td>\n",
       "      <td>0.984</td>\n",
       "    </tr>\n",
       "    <tr>\n",
       "      <th>OBRIGAÇÃO_FINAL_POR_SALA</th>\n",
       "      <td>0.0008</td>\n",
       "      <td>0.001</td>\n",
       "      <td>1.229</td>\n",
       "      <td>0.219</td>\n",
       "    </tr>\n",
       "    <tr>\n",
       "      <th>DIAS_FUNCIONAMENTO</th>\n",
       "      <td>0.0065</td>\n",
       "      <td>0.000</td>\n",
       "      <td>50.858</td>\n",
       "      <td>0.000</td>\n",
       "    </tr>\n",
       "  </tbody>\n",
       "</table>\n",
       "</div>"
      ],
      "text/plain": [
       "                                  coef  std err       t  P>|t|\n",
       "C(ANO_CINEMATOGRAFICO)[T.2018] -0.1036    0.013  -8.017  0.000\n",
       "C(ANO_CINEMATOGRAFICO)[T.2019]  0.0007    0.032   0.020  0.984\n",
       "OBRIGAÇÃO_FINAL_POR_SALA        0.0008    0.001   1.229  0.219\n",
       "DIAS_FUNCIONAMENTO              0.0065    0.000  50.858  0.000"
      ]
     },
     "execution_count": 26,
     "metadata": {},
     "output_type": "execute_result"
    }
   ],
   "source": [
    "pd.read_html(reg_np1.summary().tables[1].as_html(),header=0,index_col=0)[0].iloc[-4:,:-2]"
   ]
  },
  {
   "cell_type": "code",
   "execution_count": 27,
   "metadata": {
    "ExecuteTime": {
     "end_time": "2021-06-08T19:09:02.279203Z",
     "start_time": "2021-06-08T19:09:01.873027Z"
    }
   },
   "outputs": [
    {
     "data": {
      "text/html": [
       "<div>\n",
       "<style scoped>\n",
       "    .dataframe tbody tr th:only-of-type {\n",
       "        vertical-align: middle;\n",
       "    }\n",
       "\n",
       "    .dataframe tbody tr th {\n",
       "        vertical-align: top;\n",
       "    }\n",
       "\n",
       "    .dataframe thead th {\n",
       "        text-align: right;\n",
       "    }\n",
       "</style>\n",
       "<table border=\"1\" class=\"dataframe\">\n",
       "  <thead>\n",
       "    <tr style=\"text-align: right;\">\n",
       "      <th></th>\n",
       "      <th>coef</th>\n",
       "      <th>std err</th>\n",
       "      <th>t</th>\n",
       "      <th>P&gt;|t|</th>\n",
       "    </tr>\n",
       "  </thead>\n",
       "  <tbody>\n",
       "    <tr>\n",
       "      <th>C(ANO_CINEMATOGRAFICO)[T.2018]</th>\n",
       "      <td>-0.1679</td>\n",
       "      <td>0.014</td>\n",
       "      <td>-12.190</td>\n",
       "      <td>0.000</td>\n",
       "    </tr>\n",
       "    <tr>\n",
       "      <th>C(ANO_CINEMATOGRAFICO)[T.2019]</th>\n",
       "      <td>-0.0399</td>\n",
       "      <td>0.034</td>\n",
       "      <td>-1.159</td>\n",
       "      <td>0.247</td>\n",
       "    </tr>\n",
       "    <tr>\n",
       "      <th>OBRIGAÇÃO_FINAL_POR_SALA</th>\n",
       "      <td>0.0009</td>\n",
       "      <td>0.001</td>\n",
       "      <td>1.322</td>\n",
       "      <td>0.186</td>\n",
       "    </tr>\n",
       "    <tr>\n",
       "      <th>DIAS_FUNCIONAMENTO</th>\n",
       "      <td>0.0066</td>\n",
       "      <td>0.000</td>\n",
       "      <td>48.115</td>\n",
       "      <td>0.000</td>\n",
       "    </tr>\n",
       "  </tbody>\n",
       "</table>\n",
       "</div>"
      ],
      "text/plain": [
       "                                  coef  std err       t  P>|t|\n",
       "C(ANO_CINEMATOGRAFICO)[T.2018] -0.1679    0.014 -12.190  0.000\n",
       "C(ANO_CINEMATOGRAFICO)[T.2019] -0.0399    0.034  -1.159  0.247\n",
       "OBRIGAÇÃO_FINAL_POR_SALA        0.0009    0.001   1.322  0.186\n",
       "DIAS_FUNCIONAMENTO              0.0066    0.000  48.115  0.000"
      ]
     },
     "execution_count": 27,
     "metadata": {},
     "output_type": "execute_result"
    }
   ],
   "source": [
    "pd.read_html(reg_np2.summary().tables[1].as_html(),header=0,index_col=0)[0].iloc[-4:,:-2]"
   ]
  },
  {
   "cell_type": "code",
   "execution_count": 28,
   "metadata": {
    "ExecuteTime": {
     "end_time": "2021-06-08T19:09:09.880948Z",
     "start_time": "2021-06-08T19:09:09.486858Z"
    }
   },
   "outputs": [
    {
     "data": {
      "text/html": [
       "<div>\n",
       "<style scoped>\n",
       "    .dataframe tbody tr th:only-of-type {\n",
       "        vertical-align: middle;\n",
       "    }\n",
       "\n",
       "    .dataframe tbody tr th {\n",
       "        vertical-align: top;\n",
       "    }\n",
       "\n",
       "    .dataframe thead th {\n",
       "        text-align: right;\n",
       "    }\n",
       "</style>\n",
       "<table border=\"1\" class=\"dataframe\">\n",
       "  <thead>\n",
       "    <tr style=\"text-align: right;\">\n",
       "      <th></th>\n",
       "      <th>coef</th>\n",
       "      <th>std err</th>\n",
       "      <th>t</th>\n",
       "      <th>P&gt;|t|</th>\n",
       "    </tr>\n",
       "  </thead>\n",
       "  <tbody>\n",
       "    <tr>\n",
       "      <th>C(ANO_CINEMATOGRAFICO)[T.2018]</th>\n",
       "      <td>0.4294</td>\n",
       "      <td>0.027</td>\n",
       "      <td>16.087</td>\n",
       "      <td>0.000</td>\n",
       "    </tr>\n",
       "    <tr>\n",
       "      <th>C(ANO_CINEMATOGRAFICO)[T.2019]</th>\n",
       "      <td>0.3826</td>\n",
       "      <td>0.067</td>\n",
       "      <td>5.678</td>\n",
       "      <td>0.000</td>\n",
       "    </tr>\n",
       "    <tr>\n",
       "      <th>OBRIGAÇÃO_FINAL_POR_SALA</th>\n",
       "      <td>0.0015</td>\n",
       "      <td>0.001</td>\n",
       "      <td>1.157</td>\n",
       "      <td>0.248</td>\n",
       "    </tr>\n",
       "    <tr>\n",
       "      <th>DIAS_FUNCIONAMENTO</th>\n",
       "      <td>0.0088</td>\n",
       "      <td>0.000</td>\n",
       "      <td>23.055</td>\n",
       "      <td>0.000</td>\n",
       "    </tr>\n",
       "  </tbody>\n",
       "</table>\n",
       "</div>"
      ],
      "text/plain": [
       "                                  coef  std err       t  P>|t|\n",
       "C(ANO_CINEMATOGRAFICO)[T.2018]  0.4294    0.027  16.087  0.000\n",
       "C(ANO_CINEMATOGRAFICO)[T.2019]  0.3826    0.067   5.678  0.000\n",
       "OBRIGAÇÃO_FINAL_POR_SALA        0.0015    0.001   1.157  0.248\n",
       "DIAS_FUNCIONAMENTO              0.0088    0.000  23.055  0.000"
      ]
     },
     "execution_count": 28,
     "metadata": {},
     "output_type": "execute_result"
    }
   ],
   "source": [
    "pd.read_html(reg_np3.summary().tables[1].as_html(),header=0,index_col=0)[0].iloc[-4:,:-2]"
   ]
  },
  {
   "cell_type": "markdown",
   "metadata": {},
   "source": [
    "##### 2017-2018"
   ]
  },
  {
   "cell_type": "code",
   "execution_count": 29,
   "metadata": {
    "ExecuteTime": {
     "end_time": "2021-06-08T19:10:59.534113Z",
     "start_time": "2021-06-08T19:10:58.416625Z"
    }
   },
   "outputs": [],
   "source": [
    "formul = 'np.log(PUBLICO) ~ OBRIGAÇÃO_FINAL_POR_SALA + DIAS_FUNCIONAMENTO + C(REGISTRO_COMPLEXO) + C(ANO_CINEMATOGRAFICO)'\n",
    "data = [tds_1718, est_1718, bras_1718]\n",
    "\n",
    "# all\n",
    "reg_np4 = smf.ols(formula = formul, data=data[0]).fit()\n",
    "\n",
    "# foreign\n",
    "reg_np5 = smf.ols(formula = formul, data=data[1]).fit()\n",
    "\n",
    "# Brazilian\n",
    "reg_np6 = smf.ols(formula = formul, data=data[2]).fit()"
   ]
  },
  {
   "cell_type": "code",
   "execution_count": 32,
   "metadata": {
    "ExecuteTime": {
     "end_time": "2021-06-08T19:11:09.879159Z",
     "start_time": "2021-06-08T19:11:09.551729Z"
    }
   },
   "outputs": [
    {
     "data": {
      "text/html": [
       "<div>\n",
       "<style scoped>\n",
       "    .dataframe tbody tr th:only-of-type {\n",
       "        vertical-align: middle;\n",
       "    }\n",
       "\n",
       "    .dataframe tbody tr th {\n",
       "        vertical-align: top;\n",
       "    }\n",
       "\n",
       "    .dataframe thead th {\n",
       "        text-align: right;\n",
       "    }\n",
       "</style>\n",
       "<table border=\"1\" class=\"dataframe\">\n",
       "  <thead>\n",
       "    <tr style=\"text-align: right;\">\n",
       "      <th></th>\n",
       "      <th>coef</th>\n",
       "      <th>std err</th>\n",
       "      <th>t</th>\n",
       "      <th>P&gt;|t|</th>\n",
       "    </tr>\n",
       "  </thead>\n",
       "  <tbody>\n",
       "    <tr>\n",
       "      <th>C(ANO_CINEMATOGRAFICO)[T.2018]</th>\n",
       "      <td>-0.1109</td>\n",
       "      <td>0.014</td>\n",
       "      <td>-7.869</td>\n",
       "      <td>0.000</td>\n",
       "    </tr>\n",
       "    <tr>\n",
       "      <th>OBRIGAÇÃO_FINAL_POR_SALA</th>\n",
       "      <td>-0.0004</td>\n",
       "      <td>0.001</td>\n",
       "      <td>-0.289</td>\n",
       "      <td>0.772</td>\n",
       "    </tr>\n",
       "    <tr>\n",
       "      <th>DIAS_FUNCIONAMENTO</th>\n",
       "      <td>0.0068</td>\n",
       "      <td>0.000</td>\n",
       "      <td>32.317</td>\n",
       "      <td>0.000</td>\n",
       "    </tr>\n",
       "  </tbody>\n",
       "</table>\n",
       "</div>"
      ],
      "text/plain": [
       "                                  coef  std err       t  P>|t|\n",
       "C(ANO_CINEMATOGRAFICO)[T.2018] -0.1109    0.014  -7.869  0.000\n",
       "OBRIGAÇÃO_FINAL_POR_SALA       -0.0004    0.001  -0.289  0.772\n",
       "DIAS_FUNCIONAMENTO              0.0068    0.000  32.317  0.000"
      ]
     },
     "execution_count": 32,
     "metadata": {},
     "output_type": "execute_result"
    }
   ],
   "source": [
    "pd.read_html(reg_np4.summary().tables[1].as_html(),header=0,index_col=0)[0].iloc[-3:,:-2]"
   ]
  },
  {
   "cell_type": "code",
   "execution_count": 33,
   "metadata": {
    "ExecuteTime": {
     "end_time": "2021-06-08T19:11:10.883269Z",
     "start_time": "2021-06-08T19:11:10.527709Z"
    }
   },
   "outputs": [
    {
     "data": {
      "text/html": [
       "<div>\n",
       "<style scoped>\n",
       "    .dataframe tbody tr th:only-of-type {\n",
       "        vertical-align: middle;\n",
       "    }\n",
       "\n",
       "    .dataframe tbody tr th {\n",
       "        vertical-align: top;\n",
       "    }\n",
       "\n",
       "    .dataframe thead th {\n",
       "        text-align: right;\n",
       "    }\n",
       "</style>\n",
       "<table border=\"1\" class=\"dataframe\">\n",
       "  <thead>\n",
       "    <tr style=\"text-align: right;\">\n",
       "      <th></th>\n",
       "      <th>coef</th>\n",
       "      <th>std err</th>\n",
       "      <th>t</th>\n",
       "      <th>P&gt;|t|</th>\n",
       "    </tr>\n",
       "  </thead>\n",
       "  <tbody>\n",
       "    <tr>\n",
       "      <th>C(ANO_CINEMATOGRAFICO)[T.2018]</th>\n",
       "      <td>-0.1773</td>\n",
       "      <td>0.015</td>\n",
       "      <td>-12.019</td>\n",
       "      <td>0.000</td>\n",
       "    </tr>\n",
       "    <tr>\n",
       "      <th>OBRIGAÇÃO_FINAL_POR_SALA</th>\n",
       "      <td>0.0002</td>\n",
       "      <td>0.001</td>\n",
       "      <td>0.169</td>\n",
       "      <td>0.866</td>\n",
       "    </tr>\n",
       "    <tr>\n",
       "      <th>DIAS_FUNCIONAMENTO</th>\n",
       "      <td>0.0069</td>\n",
       "      <td>0.000</td>\n",
       "      <td>30.778</td>\n",
       "      <td>0.000</td>\n",
       "    </tr>\n",
       "  </tbody>\n",
       "</table>\n",
       "</div>"
      ],
      "text/plain": [
       "                                  coef  std err       t  P>|t|\n",
       "C(ANO_CINEMATOGRAFICO)[T.2018] -0.1773    0.015 -12.019  0.000\n",
       "OBRIGAÇÃO_FINAL_POR_SALA        0.0002    0.001   0.169  0.866\n",
       "DIAS_FUNCIONAMENTO              0.0069    0.000  30.778  0.000"
      ]
     },
     "execution_count": 33,
     "metadata": {},
     "output_type": "execute_result"
    }
   ],
   "source": [
    "pd.read_html(reg_np5.summary().tables[1].as_html(),header=0,index_col=0)[0].iloc[-3:,:-2]"
   ]
  },
  {
   "cell_type": "code",
   "execution_count": 34,
   "metadata": {
    "ExecuteTime": {
     "end_time": "2021-06-08T19:11:11.869390Z",
     "start_time": "2021-06-08T19:11:11.510053Z"
    }
   },
   "outputs": [
    {
     "data": {
      "text/html": [
       "<div>\n",
       "<style scoped>\n",
       "    .dataframe tbody tr th:only-of-type {\n",
       "        vertical-align: middle;\n",
       "    }\n",
       "\n",
       "    .dataframe tbody tr th {\n",
       "        vertical-align: top;\n",
       "    }\n",
       "\n",
       "    .dataframe thead th {\n",
       "        text-align: right;\n",
       "    }\n",
       "</style>\n",
       "<table border=\"1\" class=\"dataframe\">\n",
       "  <thead>\n",
       "    <tr style=\"text-align: right;\">\n",
       "      <th></th>\n",
       "      <th>coef</th>\n",
       "      <th>std err</th>\n",
       "      <th>t</th>\n",
       "      <th>P&gt;|t|</th>\n",
       "    </tr>\n",
       "  </thead>\n",
       "  <tbody>\n",
       "    <tr>\n",
       "      <th>C(ANO_CINEMATOGRAFICO)[T.2018]</th>\n",
       "      <td>0.4392</td>\n",
       "      <td>0.032</td>\n",
       "      <td>13.678</td>\n",
       "      <td>0.000</td>\n",
       "    </tr>\n",
       "    <tr>\n",
       "      <th>OBRIGAÇÃO_FINAL_POR_SALA</th>\n",
       "      <td>-0.0031</td>\n",
       "      <td>0.003</td>\n",
       "      <td>-1.186</td>\n",
       "      <td>0.236</td>\n",
       "    </tr>\n",
       "    <tr>\n",
       "      <th>DIAS_FUNCIONAMENTO</th>\n",
       "      <td>0.0108</td>\n",
       "      <td>0.001</td>\n",
       "      <td>14.803</td>\n",
       "      <td>0.000</td>\n",
       "    </tr>\n",
       "  </tbody>\n",
       "</table>\n",
       "</div>"
      ],
      "text/plain": [
       "                                  coef  std err       t  P>|t|\n",
       "C(ANO_CINEMATOGRAFICO)[T.2018]  0.4392    0.032  13.678  0.000\n",
       "OBRIGAÇÃO_FINAL_POR_SALA       -0.0031    0.003  -1.186  0.236\n",
       "DIAS_FUNCIONAMENTO              0.0108    0.001  14.803  0.000"
      ]
     },
     "execution_count": 34,
     "metadata": {},
     "output_type": "execute_result"
    }
   ],
   "source": [
    "pd.read_html(reg_np6.summary().tables[1].as_html(),header=0,index_col=0)[0].iloc[-3:,:-2]"
   ]
  },
  {
   "cell_type": "markdown",
   "metadata": {},
   "source": [
    "#### Without entity fixed-effects"
   ]
  },
  {
   "cell_type": "code",
   "execution_count": 41,
   "metadata": {
    "ExecuteTime": {
     "end_time": "2021-06-08T19:13:58.978071Z",
     "start_time": "2021-06-08T19:13:58.974043Z"
    }
   },
   "outputs": [],
   "source": [
    "formul = 'np.log(PUBLICO) ~ OBRIGAÇÃO_FINAL_POR_SALA + DIAS_FUNCIONAMENTO + SALAS_COMPLEXO_INFERIDO + ASSENTOS_COMPLEXO_INFERIDO + C(ANO_CINEMATOGRAFICO)*C(MUN_COMPLEXO)'"
   ]
  },
  {
   "cell_type": "markdown",
   "metadata": {},
   "source": [
    "##### 2017-2019"
   ]
  },
  {
   "cell_type": "code",
   "execution_count": 37,
   "metadata": {
    "ExecuteTime": {
     "end_time": "2021-06-08T19:13:04.504889Z",
     "start_time": "2021-06-08T19:12:59.990148Z"
    }
   },
   "outputs": [],
   "source": [
    "data = [tds_1719, est_1719, bras_1719]\n",
    "\n",
    "# all\n",
    "reg_np7 = smf.ols(formula = formul, data=data[0]).fit()\n",
    "\n",
    "# foreign\n",
    "reg_np8 = smf.ols(formula = formul, data=data[1]).fit()\n",
    "\n",
    "# Brazilian\n",
    "reg_np9 = smf.ols(formula = formul, data=data[2]).fit()"
   ]
  },
  {
   "cell_type": "code",
   "execution_count": 38,
   "metadata": {
    "ExecuteTime": {
     "end_time": "2021-06-08T19:14:24.172550Z",
     "start_time": "2021-06-08T19:14:23.621918Z"
    },
    "scrolled": true
   },
   "outputs": [
    {
     "data": {
      "text/html": [
       "<div>\n",
       "<style scoped>\n",
       "    .dataframe tbody tr th:only-of-type {\n",
       "        vertical-align: middle;\n",
       "    }\n",
       "\n",
       "    .dataframe tbody tr th {\n",
       "        vertical-align: top;\n",
       "    }\n",
       "\n",
       "    .dataframe thead th {\n",
       "        text-align: right;\n",
       "    }\n",
       "</style>\n",
       "<table border=\"1\" class=\"dataframe\">\n",
       "  <thead>\n",
       "    <tr style=\"text-align: right;\">\n",
       "      <th></th>\n",
       "      <th>coef</th>\n",
       "      <th>std err</th>\n",
       "      <th>t</th>\n",
       "      <th>P&gt;|t|</th>\n",
       "    </tr>\n",
       "  </thead>\n",
       "  <tbody>\n",
       "    <tr>\n",
       "      <th>OBRIGAÇÃO_FINAL_POR_SALA</th>\n",
       "      <td>0.0091</td>\n",
       "      <td>0.002000</td>\n",
       "      <td>5.801</td>\n",
       "      <td>0.0</td>\n",
       "    </tr>\n",
       "    <tr>\n",
       "      <th>DIAS_FUNCIONAMENTO</th>\n",
       "      <td>0.0091</td>\n",
       "      <td>0.000000</td>\n",
       "      <td>36.134</td>\n",
       "      <td>0.0</td>\n",
       "    </tr>\n",
       "    <tr>\n",
       "      <th>SALAS_COMPLEXO_INFERIDO</th>\n",
       "      <td>0.1606</td>\n",
       "      <td>0.015000</td>\n",
       "      <td>11.077</td>\n",
       "      <td>0.0</td>\n",
       "    </tr>\n",
       "    <tr>\n",
       "      <th>ASSENTOS_COMPLEXO_INFERIDO</th>\n",
       "      <td>0.0005</td>\n",
       "      <td>0.000055</td>\n",
       "      <td>8.533</td>\n",
       "      <td>0.0</td>\n",
       "    </tr>\n",
       "  </tbody>\n",
       "</table>\n",
       "</div>"
      ],
      "text/plain": [
       "                              coef   std err       t  P>|t|\n",
       "OBRIGAÇÃO_FINAL_POR_SALA    0.0091  0.002000   5.801    0.0\n",
       "DIAS_FUNCIONAMENTO          0.0091  0.000000  36.134    0.0\n",
       "SALAS_COMPLEXO_INFERIDO     0.1606  0.015000  11.077    0.0\n",
       "ASSENTOS_COMPLEXO_INFERIDO  0.0005  0.000055   8.533    0.0"
      ]
     },
     "execution_count": 38,
     "metadata": {},
     "output_type": "execute_result"
    }
   ],
   "source": [
    "pd.read_html(reg_np7.summary().tables[1].as_html(),header=0,index_col=0)[0].iloc[-4:,:-2]"
   ]
  },
  {
   "cell_type": "code",
   "execution_count": 39,
   "metadata": {
    "ExecuteTime": {
     "end_time": "2021-06-08T19:14:24.892316Z",
     "start_time": "2021-06-08T19:14:24.374220Z"
    }
   },
   "outputs": [
    {
     "data": {
      "text/html": [
       "<div>\n",
       "<style scoped>\n",
       "    .dataframe tbody tr th:only-of-type {\n",
       "        vertical-align: middle;\n",
       "    }\n",
       "\n",
       "    .dataframe tbody tr th {\n",
       "        vertical-align: top;\n",
       "    }\n",
       "\n",
       "    .dataframe thead th {\n",
       "        text-align: right;\n",
       "    }\n",
       "</style>\n",
       "<table border=\"1\" class=\"dataframe\">\n",
       "  <thead>\n",
       "    <tr style=\"text-align: right;\">\n",
       "      <th></th>\n",
       "      <th>coef</th>\n",
       "      <th>std err</th>\n",
       "      <th>t</th>\n",
       "      <th>P&gt;|t|</th>\n",
       "    </tr>\n",
       "  </thead>\n",
       "  <tbody>\n",
       "    <tr>\n",
       "      <th>OBRIGAÇÃO_FINAL_POR_SALA</th>\n",
       "      <td>0.0059</td>\n",
       "      <td>0.00200</td>\n",
       "      <td>3.423</td>\n",
       "      <td>0.001</td>\n",
       "    </tr>\n",
       "    <tr>\n",
       "      <th>DIAS_FUNCIONAMENTO</th>\n",
       "      <td>0.0104</td>\n",
       "      <td>0.00000</td>\n",
       "      <td>38.901</td>\n",
       "      <td>0.000</td>\n",
       "    </tr>\n",
       "    <tr>\n",
       "      <th>SALAS_COMPLEXO_INFERIDO</th>\n",
       "      <td>0.1630</td>\n",
       "      <td>0.01600</td>\n",
       "      <td>10.300</td>\n",
       "      <td>0.000</td>\n",
       "    </tr>\n",
       "    <tr>\n",
       "      <th>ASSENTOS_COMPLEXO_INFERIDO</th>\n",
       "      <td>0.0005</td>\n",
       "      <td>0.00006</td>\n",
       "      <td>7.708</td>\n",
       "      <td>0.000</td>\n",
       "    </tr>\n",
       "  </tbody>\n",
       "</table>\n",
       "</div>"
      ],
      "text/plain": [
       "                              coef  std err       t  P>|t|\n",
       "OBRIGAÇÃO_FINAL_POR_SALA    0.0059  0.00200   3.423  0.001\n",
       "DIAS_FUNCIONAMENTO          0.0104  0.00000  38.901  0.000\n",
       "SALAS_COMPLEXO_INFERIDO     0.1630  0.01600  10.300  0.000\n",
       "ASSENTOS_COMPLEXO_INFERIDO  0.0005  0.00006   7.708  0.000"
      ]
     },
     "execution_count": 39,
     "metadata": {},
     "output_type": "execute_result"
    }
   ],
   "source": [
    "pd.read_html(reg_np8.summary().tables[1].as_html(),header=0,index_col=0)[0].iloc[-4:,:-2]"
   ]
  },
  {
   "cell_type": "code",
   "execution_count": 40,
   "metadata": {
    "ExecuteTime": {
     "end_time": "2021-06-08T19:14:26.112545Z",
     "start_time": "2021-06-08T19:14:25.526177Z"
    }
   },
   "outputs": [
    {
     "data": {
      "text/html": [
       "<div>\n",
       "<style scoped>\n",
       "    .dataframe tbody tr th:only-of-type {\n",
       "        vertical-align: middle;\n",
       "    }\n",
       "\n",
       "    .dataframe tbody tr th {\n",
       "        vertical-align: top;\n",
       "    }\n",
       "\n",
       "    .dataframe thead th {\n",
       "        text-align: right;\n",
       "    }\n",
       "</style>\n",
       "<table border=\"1\" class=\"dataframe\">\n",
       "  <thead>\n",
       "    <tr style=\"text-align: right;\">\n",
       "      <th></th>\n",
       "      <th>coef</th>\n",
       "      <th>std err</th>\n",
       "      <th>t</th>\n",
       "      <th>P&gt;|t|</th>\n",
       "    </tr>\n",
       "  </thead>\n",
       "  <tbody>\n",
       "    <tr>\n",
       "      <th>OBRIGAÇÃO_FINAL_POR_SALA</th>\n",
       "      <td>0.0152</td>\n",
       "      <td>0.002000</td>\n",
       "      <td>7.656</td>\n",
       "      <td>0.000</td>\n",
       "    </tr>\n",
       "    <tr>\n",
       "      <th>DIAS_FUNCIONAMENTO</th>\n",
       "      <td>0.0080</td>\n",
       "      <td>0.000000</td>\n",
       "      <td>23.350</td>\n",
       "      <td>0.000</td>\n",
       "    </tr>\n",
       "    <tr>\n",
       "      <th>SALAS_COMPLEXO_INFERIDO</th>\n",
       "      <td>-0.0095</td>\n",
       "      <td>0.019000</td>\n",
       "      <td>-0.494</td>\n",
       "      <td>0.621</td>\n",
       "    </tr>\n",
       "    <tr>\n",
       "      <th>ASSENTOS_COMPLEXO_INFERIDO</th>\n",
       "      <td>0.0006</td>\n",
       "      <td>0.000068</td>\n",
       "      <td>9.368</td>\n",
       "      <td>0.000</td>\n",
       "    </tr>\n",
       "  </tbody>\n",
       "</table>\n",
       "</div>"
      ],
      "text/plain": [
       "                              coef   std err       t  P>|t|\n",
       "OBRIGAÇÃO_FINAL_POR_SALA    0.0152  0.002000   7.656  0.000\n",
       "DIAS_FUNCIONAMENTO          0.0080  0.000000  23.350  0.000\n",
       "SALAS_COMPLEXO_INFERIDO    -0.0095  0.019000  -0.494  0.621\n",
       "ASSENTOS_COMPLEXO_INFERIDO  0.0006  0.000068   9.368  0.000"
      ]
     },
     "execution_count": 40,
     "metadata": {},
     "output_type": "execute_result"
    }
   ],
   "source": [
    "pd.read_html(reg_np9.summary().tables[1].as_html(),header=0,index_col=0)[0].iloc[-4:,:-2]"
   ]
  },
  {
   "cell_type": "markdown",
   "metadata": {},
   "source": [
    "##### 2017-2018"
   ]
  },
  {
   "cell_type": "code",
   "execution_count": null,
   "metadata": {},
   "outputs": [],
   "source": [
    "data = [tds_1718, est_1718, bras_1718]\n",
    "\n",
    "# all\n",
    "reg_np10 = smf.ols(formula = formul, data=data[0]).fit()\n",
    "\n",
    "# foreign\n",
    "reg_np11 = smf.ols(formula = formul, data=data[1]).fit()\n",
    "\n",
    "# Brazilian\n",
    "reg_np12 = smf.ols(formula = formul, data=data[2]).fit()"
   ]
  },
  {
   "cell_type": "code",
   "execution_count": 42,
   "metadata": {
    "ExecuteTime": {
     "end_time": "2021-06-08T19:14:24.172550Z",
     "start_time": "2021-06-08T19:14:23.621918Z"
    }
   },
   "outputs": [
    {
     "data": {
      "text/html": [
       "<div>\n",
       "<style scoped>\n",
       "    .dataframe tbody tr th:only-of-type {\n",
       "        vertical-align: middle;\n",
       "    }\n",
       "\n",
       "    .dataframe tbody tr th {\n",
       "        vertical-align: top;\n",
       "    }\n",
       "\n",
       "    .dataframe thead th {\n",
       "        text-align: right;\n",
       "    }\n",
       "</style>\n",
       "<table border=\"1\" class=\"dataframe\">\n",
       "  <thead>\n",
       "    <tr style=\"text-align: right;\">\n",
       "      <th></th>\n",
       "      <th>coef</th>\n",
       "      <th>std err</th>\n",
       "      <th>t</th>\n",
       "      <th>P&gt;|t|</th>\n",
       "    </tr>\n",
       "  </thead>\n",
       "  <tbody>\n",
       "    <tr>\n",
       "      <th>OBRIGAÇÃO_FINAL_POR_SALA</th>\n",
       "      <td>0.0070</td>\n",
       "      <td>0.002000</td>\n",
       "      <td>3.718</td>\n",
       "      <td>0.0</td>\n",
       "    </tr>\n",
       "    <tr>\n",
       "      <th>DIAS_FUNCIONAMENTO</th>\n",
       "      <td>0.0098</td>\n",
       "      <td>0.000000</td>\n",
       "      <td>32.408</td>\n",
       "      <td>0.0</td>\n",
       "    </tr>\n",
       "    <tr>\n",
       "      <th>SALAS_COMPLEXO_INFERIDO</th>\n",
       "      <td>0.2298</td>\n",
       "      <td>0.017000</td>\n",
       "      <td>13.233</td>\n",
       "      <td>0.0</td>\n",
       "    </tr>\n",
       "    <tr>\n",
       "      <th>ASSENTOS_COMPLEXO_INFERIDO</th>\n",
       "      <td>0.0004</td>\n",
       "      <td>0.000066</td>\n",
       "      <td>6.016</td>\n",
       "      <td>0.0</td>\n",
       "    </tr>\n",
       "  </tbody>\n",
       "</table>\n",
       "</div>"
      ],
      "text/plain": [
       "                              coef   std err       t  P>|t|\n",
       "OBRIGAÇÃO_FINAL_POR_SALA    0.0070  0.002000   3.718    0.0\n",
       "DIAS_FUNCIONAMENTO          0.0098  0.000000  32.408    0.0\n",
       "SALAS_COMPLEXO_INFERIDO     0.2298  0.017000  13.233    0.0\n",
       "ASSENTOS_COMPLEXO_INFERIDO  0.0004  0.000066   6.016    0.0"
      ]
     },
     "execution_count": 42,
     "metadata": {},
     "output_type": "execute_result"
    }
   ],
   "source": [
    "pd.read_html(reg_n7.summary().tables[1].as_html(),header=0,index_col=0)[0].iloc[-4:,:-2]"
   ]
  },
  {
   "cell_type": "code",
   "execution_count": 43,
   "metadata": {
    "ExecuteTime": {
     "end_time": "2021-06-08T19:14:24.892316Z",
     "start_time": "2021-06-08T19:14:24.374220Z"
    }
   },
   "outputs": [
    {
     "data": {
      "text/html": [
       "<div>\n",
       "<style scoped>\n",
       "    .dataframe tbody tr th:only-of-type {\n",
       "        vertical-align: middle;\n",
       "    }\n",
       "\n",
       "    .dataframe tbody tr th {\n",
       "        vertical-align: top;\n",
       "    }\n",
       "\n",
       "    .dataframe thead th {\n",
       "        text-align: right;\n",
       "    }\n",
       "</style>\n",
       "<table border=\"1\" class=\"dataframe\">\n",
       "  <thead>\n",
       "    <tr style=\"text-align: right;\">\n",
       "      <th></th>\n",
       "      <th>coef</th>\n",
       "      <th>std err</th>\n",
       "      <th>t</th>\n",
       "      <th>P&gt;|t|</th>\n",
       "    </tr>\n",
       "  </thead>\n",
       "  <tbody>\n",
       "    <tr>\n",
       "      <th>OBRIGAÇÃO_FINAL_POR_SALA</th>\n",
       "      <td>0.0035</td>\n",
       "      <td>0.00200</td>\n",
       "      <td>1.742</td>\n",
       "      <td>0.082</td>\n",
       "    </tr>\n",
       "    <tr>\n",
       "      <th>DIAS_FUNCIONAMENTO</th>\n",
       "      <td>0.0111</td>\n",
       "      <td>0.00000</td>\n",
       "      <td>35.495</td>\n",
       "      <td>0.000</td>\n",
       "    </tr>\n",
       "    <tr>\n",
       "      <th>SALAS_COMPLEXO_INFERIDO</th>\n",
       "      <td>0.2299</td>\n",
       "      <td>0.01800</td>\n",
       "      <td>12.449</td>\n",
       "      <td>0.000</td>\n",
       "    </tr>\n",
       "    <tr>\n",
       "      <th>ASSENTOS_COMPLEXO_INFERIDO</th>\n",
       "      <td>0.0004</td>\n",
       "      <td>0.00007</td>\n",
       "      <td>5.727</td>\n",
       "      <td>0.000</td>\n",
       "    </tr>\n",
       "  </tbody>\n",
       "</table>\n",
       "</div>"
      ],
      "text/plain": [
       "                              coef  std err       t  P>|t|\n",
       "OBRIGAÇÃO_FINAL_POR_SALA    0.0035  0.00200   1.742  0.082\n",
       "DIAS_FUNCIONAMENTO          0.0111  0.00000  35.495  0.000\n",
       "SALAS_COMPLEXO_INFERIDO     0.2299  0.01800  12.449  0.000\n",
       "ASSENTOS_COMPLEXO_INFERIDO  0.0004  0.00007   5.727  0.000"
      ]
     },
     "execution_count": 43,
     "metadata": {},
     "output_type": "execute_result"
    }
   ],
   "source": [
    "pd.read_html(reg_n8.summary().tables[1].as_html(),header=0,index_col=0)[0].iloc[-4:,:-2]"
   ]
  },
  {
   "cell_type": "code",
   "execution_count": 44,
   "metadata": {
    "ExecuteTime": {
     "end_time": "2021-06-08T19:14:26.112545Z",
     "start_time": "2021-06-08T19:14:25.526177Z"
    }
   },
   "outputs": [
    {
     "data": {
      "text/html": [
       "<div>\n",
       "<style scoped>\n",
       "    .dataframe tbody tr th:only-of-type {\n",
       "        vertical-align: middle;\n",
       "    }\n",
       "\n",
       "    .dataframe tbody tr th {\n",
       "        vertical-align: top;\n",
       "    }\n",
       "\n",
       "    .dataframe thead th {\n",
       "        text-align: right;\n",
       "    }\n",
       "</style>\n",
       "<table border=\"1\" class=\"dataframe\">\n",
       "  <thead>\n",
       "    <tr style=\"text-align: right;\">\n",
       "      <th></th>\n",
       "      <th>coef</th>\n",
       "      <th>std err</th>\n",
       "      <th>t</th>\n",
       "      <th>P&gt;|t|</th>\n",
       "    </tr>\n",
       "  </thead>\n",
       "  <tbody>\n",
       "    <tr>\n",
       "      <th>OBRIGAÇÃO_FINAL_POR_SALA</th>\n",
       "      <td>0.0146</td>\n",
       "      <td>0.002000</td>\n",
       "      <td>6.779</td>\n",
       "      <td>0.000</td>\n",
       "    </tr>\n",
       "    <tr>\n",
       "      <th>DIAS_FUNCIONAMENTO</th>\n",
       "      <td>0.0081</td>\n",
       "      <td>0.000000</td>\n",
       "      <td>21.659</td>\n",
       "      <td>0.000</td>\n",
       "    </tr>\n",
       "    <tr>\n",
       "      <th>SALAS_COMPLEXO_INFERIDO</th>\n",
       "      <td>0.0554</td>\n",
       "      <td>0.021000</td>\n",
       "      <td>2.649</td>\n",
       "      <td>0.008</td>\n",
       "    </tr>\n",
       "    <tr>\n",
       "      <th>ASSENTOS_COMPLEXO_INFERIDO</th>\n",
       "      <td>0.0005</td>\n",
       "      <td>0.000074</td>\n",
       "      <td>7.109</td>\n",
       "      <td>0.000</td>\n",
       "    </tr>\n",
       "  </tbody>\n",
       "</table>\n",
       "</div>"
      ],
      "text/plain": [
       "                              coef   std err       t  P>|t|\n",
       "OBRIGAÇÃO_FINAL_POR_SALA    0.0146  0.002000   6.779  0.000\n",
       "DIAS_FUNCIONAMENTO          0.0081  0.000000  21.659  0.000\n",
       "SALAS_COMPLEXO_INFERIDO     0.0554  0.021000   2.649  0.008\n",
       "ASSENTOS_COMPLEXO_INFERIDO  0.0005  0.000074   7.109  0.000"
      ]
     },
     "execution_count": 44,
     "metadata": {},
     "output_type": "execute_result"
    }
   ],
   "source": [
    "pd.read_html(reg_n9.summary().tables[1].as_html(),header=0,index_col=0)[0].iloc[-4:,:-2]"
   ]
  },
  {
   "cell_type": "markdown",
   "metadata": {},
   "source": [
    "## Weighted regressions"
   ]
  },
  {
   "cell_type": "markdown",
   "metadata": {},
   "source": [
    "Define multiplex $i$ in year $t$ and title \"nationality\" (meaning all, foreign or Brazilian movie sessions), futher define nominal screen quota obligation $SQ$ and compliance level (quota fulfilled / quota due) as $C_{it}$:\n",
    "\n",
    "$$ \\ln(Y_{nit}) = \\beta_0 + \\beta_1 SQ_{it} + \\beta_2 C_{it} + \\beta_3 SQ_{it} * f(C_{it}) + \\theta X_{it} + \\varepsilon_{it} $$\n",
    "\n",
    "$Y$ is the interest variable that can be either Yearly Income or total public (# of moviegoers). $X_{it}$ is a vector of controls with opening days, movie theater fixed-effects and year fixed-effects. $f(.)$ is the chosen weighting function (kernel). Alternatively, we also drop entity fixed-effects and use number of viewing rooms and seats per movie-theater as controls."
   ]
  },
  {
   "cell_type": "markdown",
   "metadata": {},
   "source": [
    "### Dependent variable: income"
   ]
  },
  {
   "cell_type": "markdown",
   "metadata": {},
   "source": [
    "#### With entity fixed-effects"
   ]
  },
  {
   "cell_type": "markdown",
   "metadata": {},
   "source": [
    "##### 2017-2019"
   ]
  },
  {
   "cell_type": "markdown",
   "metadata": {},
   "source": [
    "###### Quadratic kernel"
   ]
  },
  {
   "cell_type": "code",
   "execution_count": 45,
   "metadata": {
    "ExecuteTime": {
     "end_time": "2021-06-08T19:30:34.380764Z",
     "start_time": "2021-06-08T19:30:32.766572Z"
    }
   },
   "outputs": [],
   "source": [
    "formul = 'np.log(RENDA) ~ CUMPRIMENTO_PROP_TRUNCADO*OBRIGAÇÃO_FINAL_POR_SALA + DIAS_FUNCIONAMENTO + C(REGISTRO_COMPLEXO) + C(ANO_CINEMATOGRAFICO)'\n",
    "data = [tds_1719, est_1719, bras_1719]\n",
    "\n",
    "# all\n",
    "reg_w1 = smf.ols(formula = formul, data=data[0]).fit()\n",
    "\n",
    "# foreign\n",
    "reg_w2 = smf.ols(formula = formul, data=data[1]).fit()\n",
    "\n",
    "# Brazilian\n",
    "reg_w3 = smf.ols(formula = formul, data=data[2]).fit()"
   ]
  },
  {
   "cell_type": "code",
   "execution_count": 49,
   "metadata": {
    "ExecuteTime": {
     "end_time": "2021-06-08T19:31:12.900758Z",
     "start_time": "2021-06-08T19:31:12.541319Z"
    }
   },
   "outputs": [
    {
     "data": {
      "text/html": [
       "<div>\n",
       "<style scoped>\n",
       "    .dataframe tbody tr th:only-of-type {\n",
       "        vertical-align: middle;\n",
       "    }\n",
       "\n",
       "    .dataframe tbody tr th {\n",
       "        vertical-align: top;\n",
       "    }\n",
       "\n",
       "    .dataframe thead th {\n",
       "        text-align: right;\n",
       "    }\n",
       "</style>\n",
       "<table border=\"1\" class=\"dataframe\">\n",
       "  <thead>\n",
       "    <tr style=\"text-align: right;\">\n",
       "      <th></th>\n",
       "      <th>coef</th>\n",
       "      <th>std err</th>\n",
       "      <th>t</th>\n",
       "      <th>P&gt;|t|</th>\n",
       "    </tr>\n",
       "  </thead>\n",
       "  <tbody>\n",
       "    <tr>\n",
       "      <th>CUMPRIMENTO_PROP_TRUNCADO</th>\n",
       "      <td>0.6236</td>\n",
       "      <td>0.082</td>\n",
       "      <td>7.559</td>\n",
       "      <td>0.0</td>\n",
       "    </tr>\n",
       "    <tr>\n",
       "      <th>OBRIGAÇÃO_FINAL_POR_SALA</th>\n",
       "      <td>0.0091</td>\n",
       "      <td>0.002</td>\n",
       "      <td>4.857</td>\n",
       "      <td>0.0</td>\n",
       "    </tr>\n",
       "    <tr>\n",
       "      <th>CUMPRIMENTO_PROP_TRUNCADO:OBRIGAÇÃO_FINAL_POR_SALA</th>\n",
       "      <td>-0.0126</td>\n",
       "      <td>0.002</td>\n",
       "      <td>-5.839</td>\n",
       "      <td>0.0</td>\n",
       "    </tr>\n",
       "    <tr>\n",
       "      <th>DIAS_FUNCIONAMENTO</th>\n",
       "      <td>0.0064</td>\n",
       "      <td>0.000</td>\n",
       "      <td>44.765</td>\n",
       "      <td>0.0</td>\n",
       "    </tr>\n",
       "  </tbody>\n",
       "</table>\n",
       "</div>"
      ],
      "text/plain": [
       "                                                      coef  std err       t  \\\n",
       "CUMPRIMENTO_PROP_TRUNCADO                           0.6236    0.082   7.559   \n",
       "OBRIGAÇÃO_FINAL_POR_SALA                            0.0091    0.002   4.857   \n",
       "CUMPRIMENTO_PROP_TRUNCADO:OBRIGAÇÃO_FINAL_POR_SALA -0.0126    0.002  -5.839   \n",
       "DIAS_FUNCIONAMENTO                                  0.0064    0.000  44.765   \n",
       "\n",
       "                                                    P>|t|  \n",
       "CUMPRIMENTO_PROP_TRUNCADO                             0.0  \n",
       "OBRIGAÇÃO_FINAL_POR_SALA                              0.0  \n",
       "CUMPRIMENTO_PROP_TRUNCADO:OBRIGAÇÃO_FINAL_POR_SALA    0.0  \n",
       "DIAS_FUNCIONAMENTO                                    0.0  "
      ]
     },
     "execution_count": 49,
     "metadata": {},
     "output_type": "execute_result"
    }
   ],
   "source": [
    "pd.read_html(reg_w1.summary().tables[1].as_html(),header=0,index_col=0)[0].iloc[-4:,:-2]"
   ]
  },
  {
   "cell_type": "code",
   "execution_count": 50,
   "metadata": {
    "ExecuteTime": {
     "end_time": "2021-06-08T19:31:13.378124Z",
     "start_time": "2021-06-08T19:31:12.987523Z"
    }
   },
   "outputs": [
    {
     "data": {
      "text/html": [
       "<div>\n",
       "<style scoped>\n",
       "    .dataframe tbody tr th:only-of-type {\n",
       "        vertical-align: middle;\n",
       "    }\n",
       "\n",
       "    .dataframe tbody tr th {\n",
       "        vertical-align: top;\n",
       "    }\n",
       "\n",
       "    .dataframe thead th {\n",
       "        text-align: right;\n",
       "    }\n",
       "</style>\n",
       "<table border=\"1\" class=\"dataframe\">\n",
       "  <thead>\n",
       "    <tr style=\"text-align: right;\">\n",
       "      <th></th>\n",
       "      <th>coef</th>\n",
       "      <th>std err</th>\n",
       "      <th>t</th>\n",
       "      <th>P&gt;|t|</th>\n",
       "    </tr>\n",
       "  </thead>\n",
       "  <tbody>\n",
       "    <tr>\n",
       "      <th>CUMPRIMENTO_PROP_TRUNCADO</th>\n",
       "      <td>0.6093</td>\n",
       "      <td>0.089</td>\n",
       "      <td>6.843</td>\n",
       "      <td>0.0</td>\n",
       "    </tr>\n",
       "    <tr>\n",
       "      <th>OBRIGAÇÃO_FINAL_POR_SALA</th>\n",
       "      <td>0.0104</td>\n",
       "      <td>0.002</td>\n",
       "      <td>5.163</td>\n",
       "      <td>0.0</td>\n",
       "    </tr>\n",
       "    <tr>\n",
       "      <th>CUMPRIMENTO_PROP_TRUNCADO:OBRIGAÇÃO_FINAL_POR_SALA</th>\n",
       "      <td>-0.0135</td>\n",
       "      <td>0.002</td>\n",
       "      <td>-5.878</td>\n",
       "      <td>0.0</td>\n",
       "    </tr>\n",
       "    <tr>\n",
       "      <th>DIAS_FUNCIONAMENTO</th>\n",
       "      <td>0.0065</td>\n",
       "      <td>0.000</td>\n",
       "      <td>43.114</td>\n",
       "      <td>0.0</td>\n",
       "    </tr>\n",
       "  </tbody>\n",
       "</table>\n",
       "</div>"
      ],
      "text/plain": [
       "                                                      coef  std err       t  \\\n",
       "CUMPRIMENTO_PROP_TRUNCADO                           0.6093    0.089   6.843   \n",
       "OBRIGAÇÃO_FINAL_POR_SALA                            0.0104    0.002   5.163   \n",
       "CUMPRIMENTO_PROP_TRUNCADO:OBRIGAÇÃO_FINAL_POR_SALA -0.0135    0.002  -5.878   \n",
       "DIAS_FUNCIONAMENTO                                  0.0065    0.000  43.114   \n",
       "\n",
       "                                                    P>|t|  \n",
       "CUMPRIMENTO_PROP_TRUNCADO                             0.0  \n",
       "OBRIGAÇÃO_FINAL_POR_SALA                              0.0  \n",
       "CUMPRIMENTO_PROP_TRUNCADO:OBRIGAÇÃO_FINAL_POR_SALA    0.0  \n",
       "DIAS_FUNCIONAMENTO                                    0.0  "
      ]
     },
     "execution_count": 50,
     "metadata": {},
     "output_type": "execute_result"
    }
   ],
   "source": [
    "pd.read_html(reg_w2.summary().tables[1].as_html(),header=0,index_col=0)[0].iloc[-4:,:-2]"
   ]
  },
  {
   "cell_type": "code",
   "execution_count": 51,
   "metadata": {
    "ExecuteTime": {
     "end_time": "2021-06-08T19:31:13.830496Z",
     "start_time": "2021-06-08T19:31:13.380129Z"
    }
   },
   "outputs": [
    {
     "data": {
      "text/html": [
       "<div>\n",
       "<style scoped>\n",
       "    .dataframe tbody tr th:only-of-type {\n",
       "        vertical-align: middle;\n",
       "    }\n",
       "\n",
       "    .dataframe tbody tr th {\n",
       "        vertical-align: top;\n",
       "    }\n",
       "\n",
       "    .dataframe thead th {\n",
       "        text-align: right;\n",
       "    }\n",
       "</style>\n",
       "<table border=\"1\" class=\"dataframe\">\n",
       "  <thead>\n",
       "    <tr style=\"text-align: right;\">\n",
       "      <th></th>\n",
       "      <th>coef</th>\n",
       "      <th>std err</th>\n",
       "      <th>t</th>\n",
       "      <th>P&gt;|t|</th>\n",
       "    </tr>\n",
       "  </thead>\n",
       "  <tbody>\n",
       "    <tr>\n",
       "      <th>CUMPRIMENTO_PROP_TRUNCADO</th>\n",
       "      <td>0.6611</td>\n",
       "      <td>0.184</td>\n",
       "      <td>3.602</td>\n",
       "      <td>0.000</td>\n",
       "    </tr>\n",
       "    <tr>\n",
       "      <th>OBRIGAÇÃO_FINAL_POR_SALA</th>\n",
       "      <td>-0.0002</td>\n",
       "      <td>0.004</td>\n",
       "      <td>-0.039</td>\n",
       "      <td>0.969</td>\n",
       "    </tr>\n",
       "    <tr>\n",
       "      <th>CUMPRIMENTO_PROP_TRUNCADO:OBRIGAÇÃO_FINAL_POR_SALA</th>\n",
       "      <td>-0.0022</td>\n",
       "      <td>0.005</td>\n",
       "      <td>-0.477</td>\n",
       "      <td>0.633</td>\n",
       "    </tr>\n",
       "    <tr>\n",
       "      <th>DIAS_FUNCIONAMENTO</th>\n",
       "      <td>0.0088</td>\n",
       "      <td>0.000</td>\n",
       "      <td>22.021</td>\n",
       "      <td>0.000</td>\n",
       "    </tr>\n",
       "  </tbody>\n",
       "</table>\n",
       "</div>"
      ],
      "text/plain": [
       "                                                      coef  std err       t  \\\n",
       "CUMPRIMENTO_PROP_TRUNCADO                           0.6611    0.184   3.602   \n",
       "OBRIGAÇÃO_FINAL_POR_SALA                           -0.0002    0.004  -0.039   \n",
       "CUMPRIMENTO_PROP_TRUNCADO:OBRIGAÇÃO_FINAL_POR_SALA -0.0022    0.005  -0.477   \n",
       "DIAS_FUNCIONAMENTO                                  0.0088    0.000  22.021   \n",
       "\n",
       "                                                    P>|t|  \n",
       "CUMPRIMENTO_PROP_TRUNCADO                           0.000  \n",
       "OBRIGAÇÃO_FINAL_POR_SALA                            0.969  \n",
       "CUMPRIMENTO_PROP_TRUNCADO:OBRIGAÇÃO_FINAL_POR_SALA  0.633  \n",
       "DIAS_FUNCIONAMENTO                                  0.000  "
      ]
     },
     "execution_count": 51,
     "metadata": {},
     "output_type": "execute_result"
    }
   ],
   "source": [
    "pd.read_html(reg_w3.summary().tables[1].as_html(),header=0,index_col=0)[0].iloc[-4:,:-2]"
   ]
  },
  {
   "cell_type": "markdown",
   "metadata": {},
   "source": [
    "###### Normal pdf kernel"
   ]
  },
  {
   "cell_type": "code",
   "execution_count": 56,
   "metadata": {
    "ExecuteTime": {
     "end_time": "2021-06-08T19:37:33.793225Z",
     "start_time": "2021-06-08T19:37:32.194773Z"
    }
   },
   "outputs": [],
   "source": [
    "formul = 'np.log(RENDA) ~ CUMPRIMENTO_NORMALIZADO*OBRIGAÇÃO_FINAL_POR_SALA + DIAS_FUNCIONAMENTO + C(REGISTRO_COMPLEXO) + C(ANO_CINEMATOGRAFICO)'\n",
    "data = [tds_1719, est_1719, bras_1719]\n",
    "\n",
    "# all\n",
    "reg_w4 = smf.ols(formula = formul, data=data[0]).fit()\n",
    "\n",
    "# foreign\n",
    "reg_w5 = smf.ols(formula = formul, data=data[1]).fit()\n",
    "\n",
    "# Brazilian\n",
    "reg_w6 = smf.ols(formula = formul, data=data[2]).fit()"
   ]
  },
  {
   "cell_type": "code",
   "execution_count": 57,
   "metadata": {
    "ExecuteTime": {
     "end_time": "2021-06-08T19:37:37.802582Z",
     "start_time": "2021-06-08T19:37:37.339712Z"
    }
   },
   "outputs": [
    {
     "data": {
      "text/html": [
       "<div>\n",
       "<style scoped>\n",
       "    .dataframe tbody tr th:only-of-type {\n",
       "        vertical-align: middle;\n",
       "    }\n",
       "\n",
       "    .dataframe tbody tr th {\n",
       "        vertical-align: top;\n",
       "    }\n",
       "\n",
       "    .dataframe thead th {\n",
       "        text-align: right;\n",
       "    }\n",
       "</style>\n",
       "<table border=\"1\" class=\"dataframe\">\n",
       "  <thead>\n",
       "    <tr style=\"text-align: right;\">\n",
       "      <th></th>\n",
       "      <th>coef</th>\n",
       "      <th>std err</th>\n",
       "      <th>t</th>\n",
       "      <th>P&gt;|t|</th>\n",
       "    </tr>\n",
       "  </thead>\n",
       "  <tbody>\n",
       "    <tr>\n",
       "      <th>CUMPRIMENTO_NORMALIZADO</th>\n",
       "      <td>0.5849</td>\n",
       "      <td>0.083</td>\n",
       "      <td>7.019</td>\n",
       "      <td>0.0</td>\n",
       "    </tr>\n",
       "    <tr>\n",
       "      <th>OBRIGAÇÃO_FINAL_POR_SALA</th>\n",
       "      <td>0.0058</td>\n",
       "      <td>0.001</td>\n",
       "      <td>4.012</td>\n",
       "      <td>0.0</td>\n",
       "    </tr>\n",
       "    <tr>\n",
       "      <th>CUMPRIMENTO_NORMALIZADO:OBRIGAÇÃO_FINAL_POR_SALA</th>\n",
       "      <td>-0.0103</td>\n",
       "      <td>0.002</td>\n",
       "      <td>-5.494</td>\n",
       "      <td>0.0</td>\n",
       "    </tr>\n",
       "    <tr>\n",
       "      <th>DIAS_FUNCIONAMENTO</th>\n",
       "      <td>0.0064</td>\n",
       "      <td>0.000</td>\n",
       "      <td>45.090</td>\n",
       "      <td>0.0</td>\n",
       "    </tr>\n",
       "  </tbody>\n",
       "</table>\n",
       "</div>"
      ],
      "text/plain": [
       "                                                    coef  std err       t  \\\n",
       "CUMPRIMENTO_NORMALIZADO                           0.5849    0.083   7.019   \n",
       "OBRIGAÇÃO_FINAL_POR_SALA                          0.0058    0.001   4.012   \n",
       "CUMPRIMENTO_NORMALIZADO:OBRIGAÇÃO_FINAL_POR_SALA -0.0103    0.002  -5.494   \n",
       "DIAS_FUNCIONAMENTO                                0.0064    0.000  45.090   \n",
       "\n",
       "                                                  P>|t|  \n",
       "CUMPRIMENTO_NORMALIZADO                             0.0  \n",
       "OBRIGAÇÃO_FINAL_POR_SALA                            0.0  \n",
       "CUMPRIMENTO_NORMALIZADO:OBRIGAÇÃO_FINAL_POR_SALA    0.0  \n",
       "DIAS_FUNCIONAMENTO                                  0.0  "
      ]
     },
     "execution_count": 57,
     "metadata": {},
     "output_type": "execute_result"
    }
   ],
   "source": [
    "pd.read_html(reg_w4.summary().tables[1].as_html(),header=0,index_col=0)[0].iloc[-4:,:-2]"
   ]
  },
  {
   "cell_type": "code",
   "execution_count": 58,
   "metadata": {
    "ExecuteTime": {
     "end_time": "2021-06-08T19:37:38.238359Z",
     "start_time": "2021-06-08T19:37:37.804587Z"
    }
   },
   "outputs": [
    {
     "data": {
      "text/html": [
       "<div>\n",
       "<style scoped>\n",
       "    .dataframe tbody tr th:only-of-type {\n",
       "        vertical-align: middle;\n",
       "    }\n",
       "\n",
       "    .dataframe tbody tr th {\n",
       "        vertical-align: top;\n",
       "    }\n",
       "\n",
       "    .dataframe thead th {\n",
       "        text-align: right;\n",
       "    }\n",
       "</style>\n",
       "<table border=\"1\" class=\"dataframe\">\n",
       "  <thead>\n",
       "    <tr style=\"text-align: right;\">\n",
       "      <th></th>\n",
       "      <th>coef</th>\n",
       "      <th>std err</th>\n",
       "      <th>t</th>\n",
       "      <th>P&gt;|t|</th>\n",
       "    </tr>\n",
       "  </thead>\n",
       "  <tbody>\n",
       "    <tr>\n",
       "      <th>CUMPRIMENTO_NORMALIZADO</th>\n",
       "      <td>0.5365</td>\n",
       "      <td>0.089</td>\n",
       "      <td>6.020</td>\n",
       "      <td>0.0</td>\n",
       "    </tr>\n",
       "    <tr>\n",
       "      <th>OBRIGAÇÃO_FINAL_POR_SALA</th>\n",
       "      <td>0.0062</td>\n",
       "      <td>0.002</td>\n",
       "      <td>4.073</td>\n",
       "      <td>0.0</td>\n",
       "    </tr>\n",
       "    <tr>\n",
       "      <th>CUMPRIMENTO_NORMALIZADO:OBRIGAÇÃO_FINAL_POR_SALA</th>\n",
       "      <td>-0.0103</td>\n",
       "      <td>0.002</td>\n",
       "      <td>-5.146</td>\n",
       "      <td>0.0</td>\n",
       "    </tr>\n",
       "    <tr>\n",
       "      <th>DIAS_FUNCIONAMENTO</th>\n",
       "      <td>0.0065</td>\n",
       "      <td>0.000</td>\n",
       "      <td>43.412</td>\n",
       "      <td>0.0</td>\n",
       "    </tr>\n",
       "  </tbody>\n",
       "</table>\n",
       "</div>"
      ],
      "text/plain": [
       "                                                    coef  std err       t  \\\n",
       "CUMPRIMENTO_NORMALIZADO                           0.5365    0.089   6.020   \n",
       "OBRIGAÇÃO_FINAL_POR_SALA                          0.0062    0.002   4.073   \n",
       "CUMPRIMENTO_NORMALIZADO:OBRIGAÇÃO_FINAL_POR_SALA -0.0103    0.002  -5.146   \n",
       "DIAS_FUNCIONAMENTO                                0.0065    0.000  43.412   \n",
       "\n",
       "                                                  P>|t|  \n",
       "CUMPRIMENTO_NORMALIZADO                             0.0  \n",
       "OBRIGAÇÃO_FINAL_POR_SALA                            0.0  \n",
       "CUMPRIMENTO_NORMALIZADO:OBRIGAÇÃO_FINAL_POR_SALA    0.0  \n",
       "DIAS_FUNCIONAMENTO                                  0.0  "
      ]
     },
     "execution_count": 58,
     "metadata": {},
     "output_type": "execute_result"
    }
   ],
   "source": [
    "pd.read_html(reg_w5.summary().tables[1].as_html(),header=0,index_col=0)[0].iloc[-4:,:-2]"
   ]
  },
  {
   "cell_type": "code",
   "execution_count": 59,
   "metadata": {
    "ExecuteTime": {
     "end_time": "2021-06-08T19:37:38.649059Z",
     "start_time": "2021-06-08T19:37:38.242371Z"
    }
   },
   "outputs": [
    {
     "data": {
      "text/html": [
       "<div>\n",
       "<style scoped>\n",
       "    .dataframe tbody tr th:only-of-type {\n",
       "        vertical-align: middle;\n",
       "    }\n",
       "\n",
       "    .dataframe tbody tr th {\n",
       "        vertical-align: top;\n",
       "    }\n",
       "\n",
       "    .dataframe thead th {\n",
       "        text-align: right;\n",
       "    }\n",
       "</style>\n",
       "<table border=\"1\" class=\"dataframe\">\n",
       "  <thead>\n",
       "    <tr style=\"text-align: right;\">\n",
       "      <th></th>\n",
       "      <th>coef</th>\n",
       "      <th>std err</th>\n",
       "      <th>t</th>\n",
       "      <th>P&gt;|t|</th>\n",
       "    </tr>\n",
       "  </thead>\n",
       "  <tbody>\n",
       "    <tr>\n",
       "      <th>CUMPRIMENTO_NORMALIZADO</th>\n",
       "      <td>1.0443</td>\n",
       "      <td>0.173</td>\n",
       "      <td>6.022</td>\n",
       "      <td>0.000</td>\n",
       "    </tr>\n",
       "    <tr>\n",
       "      <th>OBRIGAÇÃO_FINAL_POR_SALA</th>\n",
       "      <td>0.0062</td>\n",
       "      <td>0.003</td>\n",
       "      <td>2.169</td>\n",
       "      <td>0.030</td>\n",
       "    </tr>\n",
       "    <tr>\n",
       "      <th>CUMPRIMENTO_NORMALIZADO:OBRIGAÇÃO_FINAL_POR_SALA</th>\n",
       "      <td>-0.0128</td>\n",
       "      <td>0.004</td>\n",
       "      <td>-3.299</td>\n",
       "      <td>0.001</td>\n",
       "    </tr>\n",
       "    <tr>\n",
       "      <th>DIAS_FUNCIONAMENTO</th>\n",
       "      <td>0.0088</td>\n",
       "      <td>0.000</td>\n",
       "      <td>22.111</td>\n",
       "      <td>0.000</td>\n",
       "    </tr>\n",
       "  </tbody>\n",
       "</table>\n",
       "</div>"
      ],
      "text/plain": [
       "                                                    coef  std err       t  \\\n",
       "CUMPRIMENTO_NORMALIZADO                           1.0443    0.173   6.022   \n",
       "OBRIGAÇÃO_FINAL_POR_SALA                          0.0062    0.003   2.169   \n",
       "CUMPRIMENTO_NORMALIZADO:OBRIGAÇÃO_FINAL_POR_SALA -0.0128    0.004  -3.299   \n",
       "DIAS_FUNCIONAMENTO                                0.0088    0.000  22.111   \n",
       "\n",
       "                                                  P>|t|  \n",
       "CUMPRIMENTO_NORMALIZADO                           0.000  \n",
       "OBRIGAÇÃO_FINAL_POR_SALA                          0.030  \n",
       "CUMPRIMENTO_NORMALIZADO:OBRIGAÇÃO_FINAL_POR_SALA  0.001  \n",
       "DIAS_FUNCIONAMENTO                                0.000  "
      ]
     },
     "execution_count": 59,
     "metadata": {},
     "output_type": "execute_result"
    }
   ],
   "source": [
    "pd.read_html(reg_w6.summary().tables[1].as_html(),header=0,index_col=0)[0].iloc[-4:,:-2]"
   ]
  },
  {
   "cell_type": "markdown",
   "metadata": {},
   "source": [
    "###### Triangular kernel"
   ]
  },
  {
   "cell_type": "code",
   "execution_count": 60,
   "metadata": {
    "ExecuteTime": {
     "end_time": "2021-06-08T19:37:33.793225Z",
     "start_time": "2021-06-08T19:37:32.194773Z"
    }
   },
   "outputs": [],
   "source": [
    "formul = 'np.log(RENDA) ~ CUMPRIMENTO_LINEAR*OBRIGAÇÃO_FINAL_POR_SALA + DIAS_FUNCIONAMENTO + C(REGISTRO_COMPLEXO) + C(ANO_CINEMATOGRAFICO)'\n",
    "data = [tds_1719, est_1719, bras_1719]\n",
    "\n",
    "# all\n",
    "reg_w7 = smf.ols(formula = formul, data=data[0]).fit()\n",
    "\n",
    "# foreign\n",
    "reg_w8 = smf.ols(formula = formul, data=data[1]).fit()\n",
    "\n",
    "# Brazilian\n",
    "reg_w9 = smf.ols(formula = formul, data=data[2]).fit()"
   ]
  },
  {
   "cell_type": "code",
   "execution_count": 61,
   "metadata": {
    "ExecuteTime": {
     "end_time": "2021-06-08T19:37:37.802582Z",
     "start_time": "2021-06-08T19:37:37.339712Z"
    }
   },
   "outputs": [
    {
     "data": {
      "text/html": [
       "<div>\n",
       "<style scoped>\n",
       "    .dataframe tbody tr th:only-of-type {\n",
       "        vertical-align: middle;\n",
       "    }\n",
       "\n",
       "    .dataframe tbody tr th {\n",
       "        vertical-align: top;\n",
       "    }\n",
       "\n",
       "    .dataframe thead th {\n",
       "        text-align: right;\n",
       "    }\n",
       "</style>\n",
       "<table border=\"1\" class=\"dataframe\">\n",
       "  <thead>\n",
       "    <tr style=\"text-align: right;\">\n",
       "      <th></th>\n",
       "      <th>coef</th>\n",
       "      <th>std err</th>\n",
       "      <th>t</th>\n",
       "      <th>P&gt;|t|</th>\n",
       "    </tr>\n",
       "  </thead>\n",
       "  <tbody>\n",
       "    <tr>\n",
       "      <th>CUMPRIMENTO_LINEAR</th>\n",
       "      <td>1.8771</td>\n",
       "      <td>0.344</td>\n",
       "      <td>5.453</td>\n",
       "      <td>0.000</td>\n",
       "    </tr>\n",
       "    <tr>\n",
       "      <th>OBRIGAÇÃO_FINAL_POR_SALA</th>\n",
       "      <td>0.0129</td>\n",
       "      <td>0.004</td>\n",
       "      <td>3.391</td>\n",
       "      <td>0.001</td>\n",
       "    </tr>\n",
       "    <tr>\n",
       "      <th>CUMPRIMENTO_LINEAR:OBRIGAÇÃO_FINAL_POR_SALA</th>\n",
       "      <td>-0.0378</td>\n",
       "      <td>0.010</td>\n",
       "      <td>-3.705</td>\n",
       "      <td>0.000</td>\n",
       "    </tr>\n",
       "    <tr>\n",
       "      <th>DIAS_FUNCIONAMENTO</th>\n",
       "      <td>0.0065</td>\n",
       "      <td>0.000</td>\n",
       "      <td>45.237</td>\n",
       "      <td>0.000</td>\n",
       "    </tr>\n",
       "  </tbody>\n",
       "</table>\n",
       "</div>"
      ],
      "text/plain": [
       "                                               coef  std err       t  P>|t|\n",
       "CUMPRIMENTO_LINEAR                           1.8771    0.344   5.453  0.000\n",
       "OBRIGAÇÃO_FINAL_POR_SALA                     0.0129    0.004   3.391  0.001\n",
       "CUMPRIMENTO_LINEAR:OBRIGAÇÃO_FINAL_POR_SALA -0.0378    0.010  -3.705  0.000\n",
       "DIAS_FUNCIONAMENTO                           0.0065    0.000  45.237  0.000"
      ]
     },
     "execution_count": 61,
     "metadata": {},
     "output_type": "execute_result"
    }
   ],
   "source": [
    "pd.read_html(reg_w7.summary().tables[1].as_html(),header=0,index_col=0)[0].iloc[-4:,:-2]"
   ]
  },
  {
   "cell_type": "code",
   "execution_count": 62,
   "metadata": {
    "ExecuteTime": {
     "end_time": "2021-06-08T19:37:38.238359Z",
     "start_time": "2021-06-08T19:37:37.804587Z"
    }
   },
   "outputs": [
    {
     "data": {
      "text/html": [
       "<div>\n",
       "<style scoped>\n",
       "    .dataframe tbody tr th:only-of-type {\n",
       "        vertical-align: middle;\n",
       "    }\n",
       "\n",
       "    .dataframe tbody tr th {\n",
       "        vertical-align: top;\n",
       "    }\n",
       "\n",
       "    .dataframe thead th {\n",
       "        text-align: right;\n",
       "    }\n",
       "</style>\n",
       "<table border=\"1\" class=\"dataframe\">\n",
       "  <thead>\n",
       "    <tr style=\"text-align: right;\">\n",
       "      <th></th>\n",
       "      <th>coef</th>\n",
       "      <th>std err</th>\n",
       "      <th>t</th>\n",
       "      <th>P&gt;|t|</th>\n",
       "    </tr>\n",
       "  </thead>\n",
       "  <tbody>\n",
       "    <tr>\n",
       "      <th>CUMPRIMENTO_LINEAR</th>\n",
       "      <td>2.2715</td>\n",
       "      <td>0.400</td>\n",
       "      <td>5.676</td>\n",
       "      <td>0.0</td>\n",
       "    </tr>\n",
       "    <tr>\n",
       "      <th>OBRIGAÇÃO_FINAL_POR_SALA</th>\n",
       "      <td>0.0202</td>\n",
       "      <td>0.004</td>\n",
       "      <td>4.729</td>\n",
       "      <td>0.0</td>\n",
       "    </tr>\n",
       "    <tr>\n",
       "      <th>CUMPRIMENTO_LINEAR:OBRIGAÇÃO_FINAL_POR_SALA</th>\n",
       "      <td>-0.0565</td>\n",
       "      <td>0.011</td>\n",
       "      <td>-4.914</td>\n",
       "      <td>0.0</td>\n",
       "    </tr>\n",
       "    <tr>\n",
       "      <th>DIAS_FUNCIONAMENTO</th>\n",
       "      <td>0.0066</td>\n",
       "      <td>0.000</td>\n",
       "      <td>43.465</td>\n",
       "      <td>0.0</td>\n",
       "    </tr>\n",
       "  </tbody>\n",
       "</table>\n",
       "</div>"
      ],
      "text/plain": [
       "                                               coef  std err       t  P>|t|\n",
       "CUMPRIMENTO_LINEAR                           2.2715    0.400   5.676    0.0\n",
       "OBRIGAÇÃO_FINAL_POR_SALA                     0.0202    0.004   4.729    0.0\n",
       "CUMPRIMENTO_LINEAR:OBRIGAÇÃO_FINAL_POR_SALA -0.0565    0.011  -4.914    0.0\n",
       "DIAS_FUNCIONAMENTO                           0.0066    0.000  43.465    0.0"
      ]
     },
     "execution_count": 62,
     "metadata": {},
     "output_type": "execute_result"
    }
   ],
   "source": [
    "pd.read_html(reg_w8.summary().tables[1].as_html(),header=0,index_col=0)[0].iloc[-4:,:-2]"
   ]
  },
  {
   "cell_type": "code",
   "execution_count": 63,
   "metadata": {
    "ExecuteTime": {
     "end_time": "2021-06-08T19:37:38.649059Z",
     "start_time": "2021-06-08T19:37:38.242371Z"
    }
   },
   "outputs": [
    {
     "data": {
      "text/html": [
       "<div>\n",
       "<style scoped>\n",
       "    .dataframe tbody tr th:only-of-type {\n",
       "        vertical-align: middle;\n",
       "    }\n",
       "\n",
       "    .dataframe tbody tr th {\n",
       "        vertical-align: top;\n",
       "    }\n",
       "\n",
       "    .dataframe thead th {\n",
       "        text-align: right;\n",
       "    }\n",
       "</style>\n",
       "<table border=\"1\" class=\"dataframe\">\n",
       "  <thead>\n",
       "    <tr style=\"text-align: right;\">\n",
       "      <th></th>\n",
       "      <th>coef</th>\n",
       "      <th>std err</th>\n",
       "      <th>t</th>\n",
       "      <th>P&gt;|t|</th>\n",
       "    </tr>\n",
       "  </thead>\n",
       "  <tbody>\n",
       "    <tr>\n",
       "      <th>CUMPRIMENTO_LINEAR</th>\n",
       "      <td>0.6781</td>\n",
       "      <td>0.687</td>\n",
       "      <td>0.987</td>\n",
       "      <td>0.324</td>\n",
       "    </tr>\n",
       "    <tr>\n",
       "      <th>OBRIGAÇÃO_FINAL_POR_SALA</th>\n",
       "      <td>-0.0147</td>\n",
       "      <td>0.007</td>\n",
       "      <td>-1.972</td>\n",
       "      <td>0.049</td>\n",
       "    </tr>\n",
       "    <tr>\n",
       "      <th>CUMPRIMENTO_LINEAR:OBRIGAÇÃO_FINAL_POR_SALA</th>\n",
       "      <td>0.0365</td>\n",
       "      <td>0.020</td>\n",
       "      <td>1.802</td>\n",
       "      <td>0.072</td>\n",
       "    </tr>\n",
       "    <tr>\n",
       "      <th>DIAS_FUNCIONAMENTO</th>\n",
       "      <td>0.0089</td>\n",
       "      <td>0.000</td>\n",
       "      <td>22.142</td>\n",
       "      <td>0.000</td>\n",
       "    </tr>\n",
       "  </tbody>\n",
       "</table>\n",
       "</div>"
      ],
      "text/plain": [
       "                                               coef  std err       t  P>|t|\n",
       "CUMPRIMENTO_LINEAR                           0.6781    0.687   0.987  0.324\n",
       "OBRIGAÇÃO_FINAL_POR_SALA                    -0.0147    0.007  -1.972  0.049\n",
       "CUMPRIMENTO_LINEAR:OBRIGAÇÃO_FINAL_POR_SALA  0.0365    0.020   1.802  0.072\n",
       "DIAS_FUNCIONAMENTO                           0.0089    0.000  22.142  0.000"
      ]
     },
     "execution_count": 63,
     "metadata": {},
     "output_type": "execute_result"
    }
   ],
   "source": [
    "pd.read_html(reg_w9.summary().tables[1].as_html(),header=0,index_col=0)[0].iloc[-4:,:-2]"
   ]
  },
  {
   "cell_type": "markdown",
   "metadata": {},
   "source": [
    "###### Triweight kernel"
   ]
  },
  {
   "cell_type": "code",
   "execution_count": 64,
   "metadata": {
    "ExecuteTime": {
     "end_time": "2021-06-08T19:39:37.440454Z",
     "start_time": "2021-06-08T19:39:35.108946Z"
    }
   },
   "outputs": [],
   "source": [
    "formul = 'np.log(RENDA) ~ CUMPRIMENTO_TRIWEIGHT*OBRIGAÇÃO_FINAL_POR_SALA + DIAS_FUNCIONAMENTO + C(REGISTRO_COMPLEXO) + C(ANO_CINEMATOGRAFICO)'\n",
    "data = [tds_1719, est_1719, bras_1719]\n",
    "\n",
    "# all\n",
    "reg_w10 = smf.ols(formula = formul, data=data[0]).fit()\n",
    "\n",
    "# foreign\n",
    "reg_w11 = smf.ols(formula = formul, data=data[1]).fit()\n",
    "\n",
    "# Brazilian\n",
    "reg_w12 = smf.ols(formula = formul, data=data[2]).fit()"
   ]
  },
  {
   "cell_type": "code",
   "execution_count": 65,
   "metadata": {
    "ExecuteTime": {
     "end_time": "2021-06-08T19:39:37.934004Z",
     "start_time": "2021-06-08T19:39:37.442460Z"
    }
   },
   "outputs": [
    {
     "data": {
      "text/html": [
       "<div>\n",
       "<style scoped>\n",
       "    .dataframe tbody tr th:only-of-type {\n",
       "        vertical-align: middle;\n",
       "    }\n",
       "\n",
       "    .dataframe tbody tr th {\n",
       "        vertical-align: top;\n",
       "    }\n",
       "\n",
       "    .dataframe thead th {\n",
       "        text-align: right;\n",
       "    }\n",
       "</style>\n",
       "<table border=\"1\" class=\"dataframe\">\n",
       "  <thead>\n",
       "    <tr style=\"text-align: right;\">\n",
       "      <th></th>\n",
       "      <th>coef</th>\n",
       "      <th>std err</th>\n",
       "      <th>t</th>\n",
       "      <th>P&gt;|t|</th>\n",
       "    </tr>\n",
       "  </thead>\n",
       "  <tbody>\n",
       "    <tr>\n",
       "      <th>CUMPRIMENTO_TRIWEIGHT</th>\n",
       "      <td>0.4494</td>\n",
       "      <td>0.072</td>\n",
       "      <td>6.280</td>\n",
       "      <td>0.000</td>\n",
       "    </tr>\n",
       "    <tr>\n",
       "      <th>OBRIGAÇÃO_FINAL_POR_SALA</th>\n",
       "      <td>0.0042</td>\n",
       "      <td>0.001</td>\n",
       "      <td>3.398</td>\n",
       "      <td>0.001</td>\n",
       "    </tr>\n",
       "    <tr>\n",
       "      <th>CUMPRIMENTO_TRIWEIGHT:OBRIGAÇÃO_FINAL_POR_SALA</th>\n",
       "      <td>-0.0080</td>\n",
       "      <td>0.002</td>\n",
       "      <td>-4.995</td>\n",
       "      <td>0.000</td>\n",
       "    </tr>\n",
       "    <tr>\n",
       "      <th>DIAS_FUNCIONAMENTO</th>\n",
       "      <td>0.0065</td>\n",
       "      <td>0.000</td>\n",
       "      <td>45.537</td>\n",
       "      <td>0.000</td>\n",
       "    </tr>\n",
       "  </tbody>\n",
       "</table>\n",
       "</div>"
      ],
      "text/plain": [
       "                                                  coef  std err       t  P>|t|\n",
       "CUMPRIMENTO_TRIWEIGHT                           0.4494    0.072   6.280  0.000\n",
       "OBRIGAÇÃO_FINAL_POR_SALA                        0.0042    0.001   3.398  0.001\n",
       "CUMPRIMENTO_TRIWEIGHT:OBRIGAÇÃO_FINAL_POR_SALA -0.0080    0.002  -4.995  0.000\n",
       "DIAS_FUNCIONAMENTO                              0.0065    0.000  45.537  0.000"
      ]
     },
     "execution_count": 65,
     "metadata": {},
     "output_type": "execute_result"
    }
   ],
   "source": [
    "pd.read_html(reg_w10.summary().tables[1].as_html(),header=0,index_col=0)[0].iloc[-4:,:-2]"
   ]
  },
  {
   "cell_type": "code",
   "execution_count": 66,
   "metadata": {
    "ExecuteTime": {
     "end_time": "2021-06-08T19:39:38.356970Z",
     "start_time": "2021-06-08T19:39:37.936851Z"
    }
   },
   "outputs": [
    {
     "data": {
      "text/html": [
       "<div>\n",
       "<style scoped>\n",
       "    .dataframe tbody tr th:only-of-type {\n",
       "        vertical-align: middle;\n",
       "    }\n",
       "\n",
       "    .dataframe tbody tr th {\n",
       "        vertical-align: top;\n",
       "    }\n",
       "\n",
       "    .dataframe thead th {\n",
       "        text-align: right;\n",
       "    }\n",
       "</style>\n",
       "<table border=\"1\" class=\"dataframe\">\n",
       "  <thead>\n",
       "    <tr style=\"text-align: right;\">\n",
       "      <th></th>\n",
       "      <th>coef</th>\n",
       "      <th>std err</th>\n",
       "      <th>t</th>\n",
       "      <th>P&gt;|t|</th>\n",
       "    </tr>\n",
       "  </thead>\n",
       "  <tbody>\n",
       "    <tr>\n",
       "      <th>CUMPRIMENTO_TRIWEIGHT</th>\n",
       "      <td>0.3964</td>\n",
       "      <td>0.076</td>\n",
       "      <td>5.218</td>\n",
       "      <td>0.000</td>\n",
       "    </tr>\n",
       "    <tr>\n",
       "      <th>OBRIGAÇÃO_FINAL_POR_SALA</th>\n",
       "      <td>0.0045</td>\n",
       "      <td>0.001</td>\n",
       "      <td>3.422</td>\n",
       "      <td>0.001</td>\n",
       "    </tr>\n",
       "    <tr>\n",
       "      <th>CUMPRIMENTO_TRIWEIGHT:OBRIGAÇÃO_FINAL_POR_SALA</th>\n",
       "      <td>-0.0077</td>\n",
       "      <td>0.002</td>\n",
       "      <td>-4.566</td>\n",
       "      <td>0.000</td>\n",
       "    </tr>\n",
       "    <tr>\n",
       "      <th>DIAS_FUNCIONAMENTO</th>\n",
       "      <td>0.0066</td>\n",
       "      <td>0.000</td>\n",
       "      <td>43.861</td>\n",
       "      <td>0.000</td>\n",
       "    </tr>\n",
       "  </tbody>\n",
       "</table>\n",
       "</div>"
      ],
      "text/plain": [
       "                                                  coef  std err       t  P>|t|\n",
       "CUMPRIMENTO_TRIWEIGHT                           0.3964    0.076   5.218  0.000\n",
       "OBRIGAÇÃO_FINAL_POR_SALA                        0.0045    0.001   3.422  0.001\n",
       "CUMPRIMENTO_TRIWEIGHT:OBRIGAÇÃO_FINAL_POR_SALA -0.0077    0.002  -4.566  0.000\n",
       "DIAS_FUNCIONAMENTO                              0.0066    0.000  43.861  0.000"
      ]
     },
     "execution_count": 66,
     "metadata": {},
     "output_type": "execute_result"
    }
   ],
   "source": [
    "pd.read_html(reg_w11.summary().tables[1].as_html(),header=0,index_col=0)[0].iloc[-4:,:-2]"
   ]
  },
  {
   "cell_type": "code",
   "execution_count": 67,
   "metadata": {
    "ExecuteTime": {
     "end_time": "2021-06-08T19:39:38.772911Z",
     "start_time": "2021-06-08T19:39:38.359978Z"
    },
    "scrolled": true
   },
   "outputs": [
    {
     "data": {
      "text/html": [
       "<div>\n",
       "<style scoped>\n",
       "    .dataframe tbody tr th:only-of-type {\n",
       "        vertical-align: middle;\n",
       "    }\n",
       "\n",
       "    .dataframe tbody tr th {\n",
       "        vertical-align: top;\n",
       "    }\n",
       "\n",
       "    .dataframe thead th {\n",
       "        text-align: right;\n",
       "    }\n",
       "</style>\n",
       "<table border=\"1\" class=\"dataframe\">\n",
       "  <thead>\n",
       "    <tr style=\"text-align: right;\">\n",
       "      <th></th>\n",
       "      <th>coef</th>\n",
       "      <th>std err</th>\n",
       "      <th>t</th>\n",
       "      <th>P&gt;|t|</th>\n",
       "    </tr>\n",
       "  </thead>\n",
       "  <tbody>\n",
       "    <tr>\n",
       "      <th>CUMPRIMENTO_TRIWEIGHT</th>\n",
       "      <td>0.9071</td>\n",
       "      <td>0.144</td>\n",
       "      <td>6.310</td>\n",
       "      <td>0.000</td>\n",
       "    </tr>\n",
       "    <tr>\n",
       "      <th>OBRIGAÇÃO_FINAL_POR_SALA</th>\n",
       "      <td>0.0052</td>\n",
       "      <td>0.002</td>\n",
       "      <td>2.160</td>\n",
       "      <td>0.031</td>\n",
       "    </tr>\n",
       "    <tr>\n",
       "      <th>CUMPRIMENTO_TRIWEIGHT:OBRIGAÇÃO_FINAL_POR_SALA</th>\n",
       "      <td>-0.0112</td>\n",
       "      <td>0.003</td>\n",
       "      <td>-3.496</td>\n",
       "      <td>0.000</td>\n",
       "    </tr>\n",
       "    <tr>\n",
       "      <th>DIAS_FUNCIONAMENTO</th>\n",
       "      <td>0.0088</td>\n",
       "      <td>0.000</td>\n",
       "      <td>21.948</td>\n",
       "      <td>0.000</td>\n",
       "    </tr>\n",
       "  </tbody>\n",
       "</table>\n",
       "</div>"
      ],
      "text/plain": [
       "                                                  coef  std err       t  P>|t|\n",
       "CUMPRIMENTO_TRIWEIGHT                           0.9071    0.144   6.310  0.000\n",
       "OBRIGAÇÃO_FINAL_POR_SALA                        0.0052    0.002   2.160  0.031\n",
       "CUMPRIMENTO_TRIWEIGHT:OBRIGAÇÃO_FINAL_POR_SALA -0.0112    0.003  -3.496  0.000\n",
       "DIAS_FUNCIONAMENTO                              0.0088    0.000  21.948  0.000"
      ]
     },
     "execution_count": 67,
     "metadata": {},
     "output_type": "execute_result"
    }
   ],
   "source": [
    "pd.read_html(reg_w12.summary().tables[1].as_html(),header=0,index_col=0)[0].iloc[-4:,:-2]"
   ]
  },
  {
   "cell_type": "markdown",
   "metadata": {},
   "source": [
    "##### 2017-2018"
   ]
  },
  {
   "cell_type": "markdown",
   "metadata": {},
   "source": [
    "###### Quadratic kernel"
   ]
  },
  {
   "cell_type": "code",
   "execution_count": 68,
   "metadata": {
    "ExecuteTime": {
     "end_time": "2021-06-08T19:43:01.057550Z",
     "start_time": "2021-06-08T19:43:00.038675Z"
    }
   },
   "outputs": [],
   "source": [
    "formul = 'np.log(RENDA) ~ CUMPRIMENTO_PROP_TRUNCADO*OBRIGAÇÃO_FINAL_POR_SALA + DIAS_FUNCIONAMENTO + C(REGISTRO_COMPLEXO) + C(ANO_CINEMATOGRAFICO)'\n",
    "data = [tds_1718, est_1718, bras_1718]\n",
    "\n",
    "# all\n",
    "reg_w13 = smf.ols(formula = formul, data=data[0]).fit()\n",
    "\n",
    "# foreign\n",
    "reg_w14 = smf.ols(formula = formul, data=data[1]).fit()\n",
    "\n",
    "# Brazilian\n",
    "reg_w15 = smf.ols(formula = formul, data=data[2]).fit()"
   ]
  },
  {
   "cell_type": "code",
   "execution_count": 69,
   "metadata": {
    "ExecuteTime": {
     "end_time": "2021-06-08T19:43:01.432116Z",
     "start_time": "2021-06-08T19:43:01.060057Z"
    }
   },
   "outputs": [
    {
     "data": {
      "text/html": [
       "<div>\n",
       "<style scoped>\n",
       "    .dataframe tbody tr th:only-of-type {\n",
       "        vertical-align: middle;\n",
       "    }\n",
       "\n",
       "    .dataframe tbody tr th {\n",
       "        vertical-align: top;\n",
       "    }\n",
       "\n",
       "    .dataframe thead th {\n",
       "        text-align: right;\n",
       "    }\n",
       "</style>\n",
       "<table border=\"1\" class=\"dataframe\">\n",
       "  <thead>\n",
       "    <tr style=\"text-align: right;\">\n",
       "      <th></th>\n",
       "      <th>coef</th>\n",
       "      <th>std err</th>\n",
       "      <th>t</th>\n",
       "      <th>P&gt;|t|</th>\n",
       "    </tr>\n",
       "  </thead>\n",
       "  <tbody>\n",
       "    <tr>\n",
       "      <th>CUMPRIMENTO_PROP_TRUNCADO</th>\n",
       "      <td>0.6775</td>\n",
       "      <td>0.114</td>\n",
       "      <td>5.919</td>\n",
       "      <td>0.0</td>\n",
       "    </tr>\n",
       "    <tr>\n",
       "      <th>OBRIGAÇÃO_FINAL_POR_SALA</th>\n",
       "      <td>0.0105</td>\n",
       "      <td>0.003</td>\n",
       "      <td>4.033</td>\n",
       "      <td>0.0</td>\n",
       "    </tr>\n",
       "    <tr>\n",
       "      <th>CUMPRIMENTO_PROP_TRUNCADO:OBRIGAÇÃO_FINAL_POR_SALA</th>\n",
       "      <td>-0.0156</td>\n",
       "      <td>0.003</td>\n",
       "      <td>-5.213</td>\n",
       "      <td>0.0</td>\n",
       "    </tr>\n",
       "    <tr>\n",
       "      <th>DIAS_FUNCIONAMENTO</th>\n",
       "      <td>0.0065</td>\n",
       "      <td>0.000</td>\n",
       "      <td>26.768</td>\n",
       "      <td>0.0</td>\n",
       "    </tr>\n",
       "  </tbody>\n",
       "</table>\n",
       "</div>"
      ],
      "text/plain": [
       "                                                      coef  std err       t  \\\n",
       "CUMPRIMENTO_PROP_TRUNCADO                           0.6775    0.114   5.919   \n",
       "OBRIGAÇÃO_FINAL_POR_SALA                            0.0105    0.003   4.033   \n",
       "CUMPRIMENTO_PROP_TRUNCADO:OBRIGAÇÃO_FINAL_POR_SALA -0.0156    0.003  -5.213   \n",
       "DIAS_FUNCIONAMENTO                                  0.0065    0.000  26.768   \n",
       "\n",
       "                                                    P>|t|  \n",
       "CUMPRIMENTO_PROP_TRUNCADO                             0.0  \n",
       "OBRIGAÇÃO_FINAL_POR_SALA                              0.0  \n",
       "CUMPRIMENTO_PROP_TRUNCADO:OBRIGAÇÃO_FINAL_POR_SALA    0.0  \n",
       "DIAS_FUNCIONAMENTO                                    0.0  "
      ]
     },
     "execution_count": 69,
     "metadata": {},
     "output_type": "execute_result"
    }
   ],
   "source": [
    "pd.read_html(reg_w13.summary().tables[1].as_html(),header=0,index_col=0)[0].iloc[-4:,:-2]"
   ]
  },
  {
   "cell_type": "code",
   "execution_count": 70,
   "metadata": {
    "ExecuteTime": {
     "end_time": "2021-06-08T19:43:01.861296Z",
     "start_time": "2021-06-08T19:43:01.434095Z"
    }
   },
   "outputs": [
    {
     "data": {
      "text/html": [
       "<div>\n",
       "<style scoped>\n",
       "    .dataframe tbody tr th:only-of-type {\n",
       "        vertical-align: middle;\n",
       "    }\n",
       "\n",
       "    .dataframe tbody tr th {\n",
       "        vertical-align: top;\n",
       "    }\n",
       "\n",
       "    .dataframe thead th {\n",
       "        text-align: right;\n",
       "    }\n",
       "</style>\n",
       "<table border=\"1\" class=\"dataframe\">\n",
       "  <thead>\n",
       "    <tr style=\"text-align: right;\">\n",
       "      <th></th>\n",
       "      <th>coef</th>\n",
       "      <th>std err</th>\n",
       "      <th>t</th>\n",
       "      <th>P&gt;|t|</th>\n",
       "    </tr>\n",
       "  </thead>\n",
       "  <tbody>\n",
       "    <tr>\n",
       "      <th>CUMPRIMENTO_PROP_TRUNCADO</th>\n",
       "      <td>0.7438</td>\n",
       "      <td>0.117</td>\n",
       "      <td>6.344</td>\n",
       "      <td>0.0</td>\n",
       "    </tr>\n",
       "    <tr>\n",
       "      <th>OBRIGAÇÃO_FINAL_POR_SALA</th>\n",
       "      <td>0.0135</td>\n",
       "      <td>0.003</td>\n",
       "      <td>5.051</td>\n",
       "      <td>0.0</td>\n",
       "    </tr>\n",
       "    <tr>\n",
       "      <th>CUMPRIMENTO_PROP_TRUNCADO:OBRIGAÇÃO_FINAL_POR_SALA</th>\n",
       "      <td>-0.0186</td>\n",
       "      <td>0.003</td>\n",
       "      <td>-6.059</td>\n",
       "      <td>0.0</td>\n",
       "    </tr>\n",
       "    <tr>\n",
       "      <th>DIAS_FUNCIONAMENTO</th>\n",
       "      <td>0.0065</td>\n",
       "      <td>0.000</td>\n",
       "      <td>25.876</td>\n",
       "      <td>0.0</td>\n",
       "    </tr>\n",
       "  </tbody>\n",
       "</table>\n",
       "</div>"
      ],
      "text/plain": [
       "                                                      coef  std err       t  \\\n",
       "CUMPRIMENTO_PROP_TRUNCADO                           0.7438    0.117   6.344   \n",
       "OBRIGAÇÃO_FINAL_POR_SALA                            0.0135    0.003   5.051   \n",
       "CUMPRIMENTO_PROP_TRUNCADO:OBRIGAÇÃO_FINAL_POR_SALA -0.0186    0.003  -6.059   \n",
       "DIAS_FUNCIONAMENTO                                  0.0065    0.000  25.876   \n",
       "\n",
       "                                                    P>|t|  \n",
       "CUMPRIMENTO_PROP_TRUNCADO                             0.0  \n",
       "OBRIGAÇÃO_FINAL_POR_SALA                              0.0  \n",
       "CUMPRIMENTO_PROP_TRUNCADO:OBRIGAÇÃO_FINAL_POR_SALA    0.0  \n",
       "DIAS_FUNCIONAMENTO                                    0.0  "
      ]
     },
     "execution_count": 70,
     "metadata": {},
     "output_type": "execute_result"
    }
   ],
   "source": [
    "pd.read_html(reg_w14.summary().tables[1].as_html(),header=0,index_col=0)[0].iloc[-4:,:-2]"
   ]
  },
  {
   "cell_type": "code",
   "execution_count": 71,
   "metadata": {
    "ExecuteTime": {
     "end_time": "2021-06-08T19:43:02.227341Z",
     "start_time": "2021-06-08T19:43:01.864304Z"
    }
   },
   "outputs": [
    {
     "data": {
      "text/html": [
       "<div>\n",
       "<style scoped>\n",
       "    .dataframe tbody tr th:only-of-type {\n",
       "        vertical-align: middle;\n",
       "    }\n",
       "\n",
       "    .dataframe tbody tr th {\n",
       "        vertical-align: top;\n",
       "    }\n",
       "\n",
       "    .dataframe thead th {\n",
       "        text-align: right;\n",
       "    }\n",
       "</style>\n",
       "<table border=\"1\" class=\"dataframe\">\n",
       "  <thead>\n",
       "    <tr style=\"text-align: right;\">\n",
       "      <th></th>\n",
       "      <th>coef</th>\n",
       "      <th>std err</th>\n",
       "      <th>t</th>\n",
       "      <th>P&gt;|t|</th>\n",
       "    </tr>\n",
       "  </thead>\n",
       "  <tbody>\n",
       "    <tr>\n",
       "      <th>CUMPRIMENTO_PROP_TRUNCADO</th>\n",
       "      <td>0.9811</td>\n",
       "      <td>0.279</td>\n",
       "      <td>3.520</td>\n",
       "      <td>0.000</td>\n",
       "    </tr>\n",
       "    <tr>\n",
       "      <th>OBRIGAÇÃO_FINAL_POR_SALA</th>\n",
       "      <td>-0.0004</td>\n",
       "      <td>0.006</td>\n",
       "      <td>-0.078</td>\n",
       "      <td>0.938</td>\n",
       "    </tr>\n",
       "    <tr>\n",
       "      <th>CUMPRIMENTO_PROP_TRUNCADO:OBRIGAÇÃO_FINAL_POR_SALA</th>\n",
       "      <td>-0.0052</td>\n",
       "      <td>0.007</td>\n",
       "      <td>-0.719</td>\n",
       "      <td>0.473</td>\n",
       "    </tr>\n",
       "    <tr>\n",
       "      <th>DIAS_FUNCIONAMENTO</th>\n",
       "      <td>0.0108</td>\n",
       "      <td>0.001</td>\n",
       "      <td>13.631</td>\n",
       "      <td>0.000</td>\n",
       "    </tr>\n",
       "  </tbody>\n",
       "</table>\n",
       "</div>"
      ],
      "text/plain": [
       "                                                      coef  std err       t  \\\n",
       "CUMPRIMENTO_PROP_TRUNCADO                           0.9811    0.279   3.520   \n",
       "OBRIGAÇÃO_FINAL_POR_SALA                           -0.0004    0.006  -0.078   \n",
       "CUMPRIMENTO_PROP_TRUNCADO:OBRIGAÇÃO_FINAL_POR_SALA -0.0052    0.007  -0.719   \n",
       "DIAS_FUNCIONAMENTO                                  0.0108    0.001  13.631   \n",
       "\n",
       "                                                    P>|t|  \n",
       "CUMPRIMENTO_PROP_TRUNCADO                           0.000  \n",
       "OBRIGAÇÃO_FINAL_POR_SALA                            0.938  \n",
       "CUMPRIMENTO_PROP_TRUNCADO:OBRIGAÇÃO_FINAL_POR_SALA  0.473  \n",
       "DIAS_FUNCIONAMENTO                                  0.000  "
      ]
     },
     "execution_count": 71,
     "metadata": {},
     "output_type": "execute_result"
    }
   ],
   "source": [
    "pd.read_html(reg_w15.summary().tables[1].as_html(),header=0,index_col=0)[0].iloc[-4:,:-2]"
   ]
  },
  {
   "cell_type": "markdown",
   "metadata": {},
   "source": [
    "###### Normal pdf kernel"
   ]
  },
  {
   "cell_type": "code",
   "execution_count": 72,
   "metadata": {
    "ExecuteTime": {
     "end_time": "2021-06-08T19:43:53.159597Z",
     "start_time": "2021-06-08T19:43:51.996688Z"
    }
   },
   "outputs": [],
   "source": [
    "formul = 'np.log(RENDA) ~ CUMPRIMENTO_NORMALIZADO*OBRIGAÇÃO_FINAL_POR_SALA + DIAS_FUNCIONAMENTO + C(REGISTRO_COMPLEXO) + C(ANO_CINEMATOGRAFICO)'\n",
    "data = [tds_1718, est_1718, bras_1718]\n",
    "\n",
    "# all\n",
    "reg_w16 = smf.ols(formula = formul, data=data[0]).fit()\n",
    "\n",
    "# foreign\n",
    "reg_w17 = smf.ols(formula = formul, data=data[1]).fit()\n",
    "\n",
    "# Brazilian\n",
    "reg_w18 = smf.ols(formula = formul, data=data[2]).fit()"
   ]
  },
  {
   "cell_type": "code",
   "execution_count": 73,
   "metadata": {
    "ExecuteTime": {
     "end_time": "2021-06-08T19:43:53.563842Z",
     "start_time": "2021-06-08T19:43:53.162104Z"
    }
   },
   "outputs": [
    {
     "data": {
      "text/html": [
       "<div>\n",
       "<style scoped>\n",
       "    .dataframe tbody tr th:only-of-type {\n",
       "        vertical-align: middle;\n",
       "    }\n",
       "\n",
       "    .dataframe tbody tr th {\n",
       "        vertical-align: top;\n",
       "    }\n",
       "\n",
       "    .dataframe thead th {\n",
       "        text-align: right;\n",
       "    }\n",
       "</style>\n",
       "<table border=\"1\" class=\"dataframe\">\n",
       "  <thead>\n",
       "    <tr style=\"text-align: right;\">\n",
       "      <th></th>\n",
       "      <th>coef</th>\n",
       "      <th>std err</th>\n",
       "      <th>t</th>\n",
       "      <th>P&gt;|t|</th>\n",
       "    </tr>\n",
       "  </thead>\n",
       "  <tbody>\n",
       "    <tr>\n",
       "      <th>CUMPRIMENTO_NORMALIZADO</th>\n",
       "      <td>0.6427</td>\n",
       "      <td>0.115</td>\n",
       "      <td>5.574</td>\n",
       "      <td>0.000</td>\n",
       "    </tr>\n",
       "    <tr>\n",
       "      <th>OBRIGAÇÃO_FINAL_POR_SALA</th>\n",
       "      <td>0.0070</td>\n",
       "      <td>0.002</td>\n",
       "      <td>3.257</td>\n",
       "      <td>0.001</td>\n",
       "    </tr>\n",
       "    <tr>\n",
       "      <th>CUMPRIMENTO_NORMALIZADO:OBRIGAÇÃO_FINAL_POR_SALA</th>\n",
       "      <td>-0.0132</td>\n",
       "      <td>0.003</td>\n",
       "      <td>-4.927</td>\n",
       "      <td>0.000</td>\n",
       "    </tr>\n",
       "    <tr>\n",
       "      <th>DIAS_FUNCIONAMENTO</th>\n",
       "      <td>0.0066</td>\n",
       "      <td>0.000</td>\n",
       "      <td>27.162</td>\n",
       "      <td>0.000</td>\n",
       "    </tr>\n",
       "  </tbody>\n",
       "</table>\n",
       "</div>"
      ],
      "text/plain": [
       "                                                    coef  std err       t  \\\n",
       "CUMPRIMENTO_NORMALIZADO                           0.6427    0.115   5.574   \n",
       "OBRIGAÇÃO_FINAL_POR_SALA                          0.0070    0.002   3.257   \n",
       "CUMPRIMENTO_NORMALIZADO:OBRIGAÇÃO_FINAL_POR_SALA -0.0132    0.003  -4.927   \n",
       "DIAS_FUNCIONAMENTO                                0.0066    0.000  27.162   \n",
       "\n",
       "                                                  P>|t|  \n",
       "CUMPRIMENTO_NORMALIZADO                           0.000  \n",
       "OBRIGAÇÃO_FINAL_POR_SALA                          0.001  \n",
       "CUMPRIMENTO_NORMALIZADO:OBRIGAÇÃO_FINAL_POR_SALA  0.000  \n",
       "DIAS_FUNCIONAMENTO                                0.000  "
      ]
     },
     "execution_count": 73,
     "metadata": {},
     "output_type": "execute_result"
    }
   ],
   "source": [
    "pd.read_html(reg_w16.summary().tables[1].as_html(),header=0,index_col=0)[0].iloc[-4:,:-2]"
   ]
  },
  {
   "cell_type": "code",
   "execution_count": 74,
   "metadata": {
    "ExecuteTime": {
     "end_time": "2021-06-08T19:43:53.989838Z",
     "start_time": "2021-06-08T19:43:53.566850Z"
    }
   },
   "outputs": [
    {
     "data": {
      "text/html": [
       "<div>\n",
       "<style scoped>\n",
       "    .dataframe tbody tr th:only-of-type {\n",
       "        vertical-align: middle;\n",
       "    }\n",
       "\n",
       "    .dataframe tbody tr th {\n",
       "        vertical-align: top;\n",
       "    }\n",
       "\n",
       "    .dataframe thead th {\n",
       "        text-align: right;\n",
       "    }\n",
       "</style>\n",
       "<table border=\"1\" class=\"dataframe\">\n",
       "  <thead>\n",
       "    <tr style=\"text-align: right;\">\n",
       "      <th></th>\n",
       "      <th>coef</th>\n",
       "      <th>std err</th>\n",
       "      <th>t</th>\n",
       "      <th>P&gt;|t|</th>\n",
       "    </tr>\n",
       "  </thead>\n",
       "  <tbody>\n",
       "    <tr>\n",
       "      <th>CUMPRIMENTO_NORMALIZADO</th>\n",
       "      <td>0.6570</td>\n",
       "      <td>0.118</td>\n",
       "      <td>5.551</td>\n",
       "      <td>0.0</td>\n",
       "    </tr>\n",
       "    <tr>\n",
       "      <th>OBRIGAÇÃO_FINAL_POR_SALA</th>\n",
       "      <td>0.0089</td>\n",
       "      <td>0.002</td>\n",
       "      <td>4.007</td>\n",
       "      <td>0.0</td>\n",
       "    </tr>\n",
       "    <tr>\n",
       "      <th>CUMPRIMENTO_NORMALIZADO:OBRIGAÇÃO_FINAL_POR_SALA</th>\n",
       "      <td>-0.0150</td>\n",
       "      <td>0.003</td>\n",
       "      <td>-5.442</td>\n",
       "      <td>0.0</td>\n",
       "    </tr>\n",
       "    <tr>\n",
       "      <th>DIAS_FUNCIONAMENTO</th>\n",
       "      <td>0.0066</td>\n",
       "      <td>0.000</td>\n",
       "      <td>26.266</td>\n",
       "      <td>0.0</td>\n",
       "    </tr>\n",
       "  </tbody>\n",
       "</table>\n",
       "</div>"
      ],
      "text/plain": [
       "                                                    coef  std err       t  \\\n",
       "CUMPRIMENTO_NORMALIZADO                           0.6570    0.118   5.551   \n",
       "OBRIGAÇÃO_FINAL_POR_SALA                          0.0089    0.002   4.007   \n",
       "CUMPRIMENTO_NORMALIZADO:OBRIGAÇÃO_FINAL_POR_SALA -0.0150    0.003  -5.442   \n",
       "DIAS_FUNCIONAMENTO                                0.0066    0.000  26.266   \n",
       "\n",
       "                                                  P>|t|  \n",
       "CUMPRIMENTO_NORMALIZADO                             0.0  \n",
       "OBRIGAÇÃO_FINAL_POR_SALA                            0.0  \n",
       "CUMPRIMENTO_NORMALIZADO:OBRIGAÇÃO_FINAL_POR_SALA    0.0  \n",
       "DIAS_FUNCIONAMENTO                                  0.0  "
      ]
     },
     "execution_count": 74,
     "metadata": {},
     "output_type": "execute_result"
    }
   ],
   "source": [
    "pd.read_html(reg_w17.summary().tables[1].as_html(),header=0,index_col=0)[0].iloc[-4:,:-2]"
   ]
  },
  {
   "cell_type": "code",
   "execution_count": 75,
   "metadata": {
    "ExecuteTime": {
     "end_time": "2021-06-08T19:43:54.417087Z",
     "start_time": "2021-06-08T19:43:53.992323Z"
    }
   },
   "outputs": [
    {
     "data": {
      "text/html": [
       "<div>\n",
       "<style scoped>\n",
       "    .dataframe tbody tr th:only-of-type {\n",
       "        vertical-align: middle;\n",
       "    }\n",
       "\n",
       "    .dataframe tbody tr th {\n",
       "        vertical-align: top;\n",
       "    }\n",
       "\n",
       "    .dataframe thead th {\n",
       "        text-align: right;\n",
       "    }\n",
       "</style>\n",
       "<table border=\"1\" class=\"dataframe\">\n",
       "  <thead>\n",
       "    <tr style=\"text-align: right;\">\n",
       "      <th></th>\n",
       "      <th>coef</th>\n",
       "      <th>std err</th>\n",
       "      <th>t</th>\n",
       "      <th>P&gt;|t|</th>\n",
       "    </tr>\n",
       "  </thead>\n",
       "  <tbody>\n",
       "    <tr>\n",
       "      <th>CUMPRIMENTO_NORMALIZADO</th>\n",
       "      <td>1.3947</td>\n",
       "      <td>0.258</td>\n",
       "      <td>5.415</td>\n",
       "      <td>0.000</td>\n",
       "    </tr>\n",
       "    <tr>\n",
       "      <th>OBRIGAÇÃO_FINAL_POR_SALA</th>\n",
       "      <td>0.0050</td>\n",
       "      <td>0.004</td>\n",
       "      <td>1.146</td>\n",
       "      <td>0.252</td>\n",
       "    </tr>\n",
       "    <tr>\n",
       "      <th>CUMPRIMENTO_NORMALIZADO:OBRIGAÇÃO_FINAL_POR_SALA</th>\n",
       "      <td>-0.0157</td>\n",
       "      <td>0.006</td>\n",
       "      <td>-2.595</td>\n",
       "      <td>0.010</td>\n",
       "    </tr>\n",
       "    <tr>\n",
       "      <th>DIAS_FUNCIONAMENTO</th>\n",
       "      <td>0.0108</td>\n",
       "      <td>0.001</td>\n",
       "      <td>13.813</td>\n",
       "      <td>0.000</td>\n",
       "    </tr>\n",
       "  </tbody>\n",
       "</table>\n",
       "</div>"
      ],
      "text/plain": [
       "                                                    coef  std err       t  \\\n",
       "CUMPRIMENTO_NORMALIZADO                           1.3947    0.258   5.415   \n",
       "OBRIGAÇÃO_FINAL_POR_SALA                          0.0050    0.004   1.146   \n",
       "CUMPRIMENTO_NORMALIZADO:OBRIGAÇÃO_FINAL_POR_SALA -0.0157    0.006  -2.595   \n",
       "DIAS_FUNCIONAMENTO                                0.0108    0.001  13.813   \n",
       "\n",
       "                                                  P>|t|  \n",
       "CUMPRIMENTO_NORMALIZADO                           0.000  \n",
       "OBRIGAÇÃO_FINAL_POR_SALA                          0.252  \n",
       "CUMPRIMENTO_NORMALIZADO:OBRIGAÇÃO_FINAL_POR_SALA  0.010  \n",
       "DIAS_FUNCIONAMENTO                                0.000  "
      ]
     },
     "execution_count": 75,
     "metadata": {},
     "output_type": "execute_result"
    }
   ],
   "source": [
    "pd.read_html(reg_w18.summary().tables[1].as_html(),header=0,index_col=0)[0].iloc[-4:,:-2]"
   ]
  },
  {
   "cell_type": "markdown",
   "metadata": {},
   "source": [
    "###### Triangular kernel"
   ]
  },
  {
   "cell_type": "code",
   "execution_count": 76,
   "metadata": {
    "ExecuteTime": {
     "end_time": "2021-06-08T19:45:23.355234Z",
     "start_time": "2021-06-08T19:45:22.315491Z"
    }
   },
   "outputs": [],
   "source": [
    "formul = 'np.log(RENDA) ~ CUMPRIMENTO_LINEAR*OBRIGAÇÃO_FINAL_POR_SALA + DIAS_FUNCIONAMENTO + C(REGISTRO_COMPLEXO) + C(ANO_CINEMATOGRAFICO)'\n",
    "data = [tds_1718, est_1718, bras_1718]\n",
    "\n",
    "# all\n",
    "reg_w19 = smf.ols(formula = formul, data=data[0]).fit()\n",
    "\n",
    "# foreign\n",
    "reg_w20 = smf.ols(formula = formul, data=data[1]).fit()\n",
    "\n",
    "# Brazilian\n",
    "reg_w21 = smf.ols(formula = formul, data=data[2]).fit()"
   ]
  },
  {
   "cell_type": "code",
   "execution_count": 77,
   "metadata": {
    "ExecuteTime": {
     "end_time": "2021-06-08T19:45:23.724225Z",
     "start_time": "2021-06-08T19:45:23.357239Z"
    }
   },
   "outputs": [
    {
     "data": {
      "text/html": [
       "<div>\n",
       "<style scoped>\n",
       "    .dataframe tbody tr th:only-of-type {\n",
       "        vertical-align: middle;\n",
       "    }\n",
       "\n",
       "    .dataframe tbody tr th {\n",
       "        vertical-align: top;\n",
       "    }\n",
       "\n",
       "    .dataframe thead th {\n",
       "        text-align: right;\n",
       "    }\n",
       "</style>\n",
       "<table border=\"1\" class=\"dataframe\">\n",
       "  <thead>\n",
       "    <tr style=\"text-align: right;\">\n",
       "      <th></th>\n",
       "      <th>coef</th>\n",
       "      <th>std err</th>\n",
       "      <th>t</th>\n",
       "      <th>P&gt;|t|</th>\n",
       "    </tr>\n",
       "  </thead>\n",
       "  <tbody>\n",
       "    <tr>\n",
       "      <th>CUMPRIMENTO_LINEAR</th>\n",
       "      <td>1.6071</td>\n",
       "      <td>0.501</td>\n",
       "      <td>3.210</td>\n",
       "      <td>0.001</td>\n",
       "    </tr>\n",
       "    <tr>\n",
       "      <th>OBRIGAÇÃO_FINAL_POR_SALA</th>\n",
       "      <td>0.0135</td>\n",
       "      <td>0.005</td>\n",
       "      <td>2.562</td>\n",
       "      <td>0.011</td>\n",
       "    </tr>\n",
       "    <tr>\n",
       "      <th>CUMPRIMENTO_LINEAR:OBRIGAÇÃO_FINAL_POR_SALA</th>\n",
       "      <td>-0.0420</td>\n",
       "      <td>0.014</td>\n",
       "      <td>-2.897</td>\n",
       "      <td>0.004</td>\n",
       "    </tr>\n",
       "    <tr>\n",
       "      <th>DIAS_FUNCIONAMENTO</th>\n",
       "      <td>0.0067</td>\n",
       "      <td>0.000</td>\n",
       "      <td>27.329</td>\n",
       "      <td>0.000</td>\n",
       "    </tr>\n",
       "  </tbody>\n",
       "</table>\n",
       "</div>"
      ],
      "text/plain": [
       "                                               coef  std err       t  P>|t|\n",
       "CUMPRIMENTO_LINEAR                           1.6071    0.501   3.210  0.001\n",
       "OBRIGAÇÃO_FINAL_POR_SALA                     0.0135    0.005   2.562  0.011\n",
       "CUMPRIMENTO_LINEAR:OBRIGAÇÃO_FINAL_POR_SALA -0.0420    0.014  -2.897  0.004\n",
       "DIAS_FUNCIONAMENTO                           0.0067    0.000  27.329  0.000"
      ]
     },
     "execution_count": 77,
     "metadata": {},
     "output_type": "execute_result"
    }
   ],
   "source": [
    "pd.read_html(reg_w19.summary().tables[1].as_html(),header=0,index_col=0)[0].iloc[-4:,:-2]"
   ]
  },
  {
   "cell_type": "code",
   "execution_count": 78,
   "metadata": {
    "ExecuteTime": {
     "end_time": "2021-06-08T19:45:24.086802Z",
     "start_time": "2021-06-08T19:45:23.727261Z"
    }
   },
   "outputs": [
    {
     "data": {
      "text/html": [
       "<div>\n",
       "<style scoped>\n",
       "    .dataframe tbody tr th:only-of-type {\n",
       "        vertical-align: middle;\n",
       "    }\n",
       "\n",
       "    .dataframe tbody tr th {\n",
       "        vertical-align: top;\n",
       "    }\n",
       "\n",
       "    .dataframe thead th {\n",
       "        text-align: right;\n",
       "    }\n",
       "</style>\n",
       "<table border=\"1\" class=\"dataframe\">\n",
       "  <thead>\n",
       "    <tr style=\"text-align: right;\">\n",
       "      <th></th>\n",
       "      <th>coef</th>\n",
       "      <th>std err</th>\n",
       "      <th>t</th>\n",
       "      <th>P&gt;|t|</th>\n",
       "    </tr>\n",
       "  </thead>\n",
       "  <tbody>\n",
       "    <tr>\n",
       "      <th>CUMPRIMENTO_LINEAR</th>\n",
       "      <td>2.5570</td>\n",
       "      <td>0.519</td>\n",
       "      <td>4.930</td>\n",
       "      <td>0.0</td>\n",
       "    </tr>\n",
       "    <tr>\n",
       "      <th>OBRIGAÇÃO_FINAL_POR_SALA</th>\n",
       "      <td>0.0251</td>\n",
       "      <td>0.005</td>\n",
       "      <td>4.570</td>\n",
       "      <td>0.0</td>\n",
       "    </tr>\n",
       "    <tr>\n",
       "      <th>CUMPRIMENTO_LINEAR:OBRIGAÇÃO_FINAL_POR_SALA</th>\n",
       "      <td>-0.0727</td>\n",
       "      <td>0.015</td>\n",
       "      <td>-4.807</td>\n",
       "      <td>0.0</td>\n",
       "    </tr>\n",
       "    <tr>\n",
       "      <th>DIAS_FUNCIONAMENTO</th>\n",
       "      <td>0.0066</td>\n",
       "      <td>0.000</td>\n",
       "      <td>26.229</td>\n",
       "      <td>0.0</td>\n",
       "    </tr>\n",
       "  </tbody>\n",
       "</table>\n",
       "</div>"
      ],
      "text/plain": [
       "                                               coef  std err       t  P>|t|\n",
       "CUMPRIMENTO_LINEAR                           2.5570    0.519   4.930    0.0\n",
       "OBRIGAÇÃO_FINAL_POR_SALA                     0.0251    0.005   4.570    0.0\n",
       "CUMPRIMENTO_LINEAR:OBRIGAÇÃO_FINAL_POR_SALA -0.0727    0.015  -4.807    0.0\n",
       "DIAS_FUNCIONAMENTO                           0.0066    0.000  26.229    0.0"
      ]
     },
     "execution_count": 78,
     "metadata": {},
     "output_type": "execute_result"
    }
   ],
   "source": [
    "pd.read_html(reg_w20.summary().tables[1].as_html(),header=0,index_col=0)[0].iloc[-4:,:-2]"
   ]
  },
  {
   "cell_type": "code",
   "execution_count": 79,
   "metadata": {
    "ExecuteTime": {
     "end_time": "2021-06-08T19:45:24.456402Z",
     "start_time": "2021-06-08T19:45:24.089815Z"
    }
   },
   "outputs": [
    {
     "data": {
      "text/html": [
       "<div>\n",
       "<style scoped>\n",
       "    .dataframe tbody tr th:only-of-type {\n",
       "        vertical-align: middle;\n",
       "    }\n",
       "\n",
       "    .dataframe tbody tr th {\n",
       "        vertical-align: top;\n",
       "    }\n",
       "\n",
       "    .dataframe thead th {\n",
       "        text-align: right;\n",
       "    }\n",
       "</style>\n",
       "<table border=\"1\" class=\"dataframe\">\n",
       "  <thead>\n",
       "    <tr style=\"text-align: right;\">\n",
       "      <th></th>\n",
       "      <th>coef</th>\n",
       "      <th>std err</th>\n",
       "      <th>t</th>\n",
       "      <th>P&gt;|t|</th>\n",
       "    </tr>\n",
       "  </thead>\n",
       "  <tbody>\n",
       "    <tr>\n",
       "      <th>CUMPRIMENTO_LINEAR</th>\n",
       "      <td>1.3849</td>\n",
       "      <td>1.096</td>\n",
       "      <td>1.263</td>\n",
       "      <td>0.207</td>\n",
       "    </tr>\n",
       "    <tr>\n",
       "      <th>OBRIGAÇÃO_FINAL_POR_SALA</th>\n",
       "      <td>-0.0190</td>\n",
       "      <td>0.011</td>\n",
       "      <td>-1.696</td>\n",
       "      <td>0.090</td>\n",
       "    </tr>\n",
       "    <tr>\n",
       "      <th>CUMPRIMENTO_LINEAR:OBRIGAÇÃO_FINAL_POR_SALA</th>\n",
       "      <td>0.0398</td>\n",
       "      <td>0.032</td>\n",
       "      <td>1.247</td>\n",
       "      <td>0.213</td>\n",
       "    </tr>\n",
       "    <tr>\n",
       "      <th>DIAS_FUNCIONAMENTO</th>\n",
       "      <td>0.0109</td>\n",
       "      <td>0.001</td>\n",
       "      <td>13.898</td>\n",
       "      <td>0.000</td>\n",
       "    </tr>\n",
       "  </tbody>\n",
       "</table>\n",
       "</div>"
      ],
      "text/plain": [
       "                                               coef  std err       t  P>|t|\n",
       "CUMPRIMENTO_LINEAR                           1.3849    1.096   1.263  0.207\n",
       "OBRIGAÇÃO_FINAL_POR_SALA                    -0.0190    0.011  -1.696  0.090\n",
       "CUMPRIMENTO_LINEAR:OBRIGAÇÃO_FINAL_POR_SALA  0.0398    0.032   1.247  0.213\n",
       "DIAS_FUNCIONAMENTO                           0.0109    0.001  13.898  0.000"
      ]
     },
     "execution_count": 79,
     "metadata": {},
     "output_type": "execute_result"
    }
   ],
   "source": [
    "pd.read_html(reg_w21.summary().tables[1].as_html(),header=0,index_col=0)[0].iloc[-4:,:-2]"
   ]
  },
  {
   "cell_type": "markdown",
   "metadata": {},
   "source": [
    "###### Triweight kernel"
   ]
  },
  {
   "cell_type": "code",
   "execution_count": 80,
   "metadata": {
    "ExecuteTime": {
     "end_time": "2021-06-08T19:46:19.818916Z",
     "start_time": "2021-06-08T19:46:18.666513Z"
    }
   },
   "outputs": [],
   "source": [
    "formul = 'np.log(RENDA) ~ CUMPRIMENTO_TRIWEIGHT*OBRIGAÇÃO_FINAL_POR_SALA + DIAS_FUNCIONAMENTO + C(REGISTRO_COMPLEXO) + C(ANO_CINEMATOGRAFICO)'\n",
    "data = [tds_1718, est_1718, bras_1718]\n",
    "\n",
    "# all\n",
    "reg_w22 = smf.ols(formula = formul, data=data[0]).fit()\n",
    "\n",
    "# foreign\n",
    "reg_w23 = smf.ols(formula = formul, data=data[1]).fit()\n",
    "\n",
    "# Brazilian\n",
    "reg_w24 = smf.ols(formula = formul, data=data[2]).fit()"
   ]
  },
  {
   "cell_type": "code",
   "execution_count": 81,
   "metadata": {
    "ExecuteTime": {
     "end_time": "2021-06-08T19:46:20.260183Z",
     "start_time": "2021-06-08T19:46:19.820922Z"
    }
   },
   "outputs": [
    {
     "data": {
      "text/html": [
       "<div>\n",
       "<style scoped>\n",
       "    .dataframe tbody tr th:only-of-type {\n",
       "        vertical-align: middle;\n",
       "    }\n",
       "\n",
       "    .dataframe tbody tr th {\n",
       "        vertical-align: top;\n",
       "    }\n",
       "\n",
       "    .dataframe thead th {\n",
       "        text-align: right;\n",
       "    }\n",
       "</style>\n",
       "<table border=\"1\" class=\"dataframe\">\n",
       "  <thead>\n",
       "    <tr style=\"text-align: right;\">\n",
       "      <th></th>\n",
       "      <th>coef</th>\n",
       "      <th>std err</th>\n",
       "      <th>t</th>\n",
       "      <th>P&gt;|t|</th>\n",
       "    </tr>\n",
       "  </thead>\n",
       "  <tbody>\n",
       "    <tr>\n",
       "      <th>CUMPRIMENTO_TRIWEIGHT</th>\n",
       "      <td>0.4841</td>\n",
       "      <td>0.097</td>\n",
       "      <td>4.970</td>\n",
       "      <td>0.000</td>\n",
       "    </tr>\n",
       "    <tr>\n",
       "      <th>OBRIGAÇÃO_FINAL_POR_SALA</th>\n",
       "      <td>0.0046</td>\n",
       "      <td>0.002</td>\n",
       "      <td>2.470</td>\n",
       "      <td>0.014</td>\n",
       "    </tr>\n",
       "    <tr>\n",
       "      <th>CUMPRIMENTO_TRIWEIGHT:OBRIGAÇÃO_FINAL_POR_SALA</th>\n",
       "      <td>-0.0102</td>\n",
       "      <td>0.002</td>\n",
       "      <td>-4.525</td>\n",
       "      <td>0.000</td>\n",
       "    </tr>\n",
       "    <tr>\n",
       "      <th>DIAS_FUNCIONAMENTO</th>\n",
       "      <td>0.0067</td>\n",
       "      <td>0.000</td>\n",
       "      <td>27.731</td>\n",
       "      <td>0.000</td>\n",
       "    </tr>\n",
       "  </tbody>\n",
       "</table>\n",
       "</div>"
      ],
      "text/plain": [
       "                                                  coef  std err       t  P>|t|\n",
       "CUMPRIMENTO_TRIWEIGHT                           0.4841    0.097   4.970  0.000\n",
       "OBRIGAÇÃO_FINAL_POR_SALA                        0.0046    0.002   2.470  0.014\n",
       "CUMPRIMENTO_TRIWEIGHT:OBRIGAÇÃO_FINAL_POR_SALA -0.0102    0.002  -4.525  0.000\n",
       "DIAS_FUNCIONAMENTO                              0.0067    0.000  27.731  0.000"
      ]
     },
     "execution_count": 81,
     "metadata": {},
     "output_type": "execute_result"
    }
   ],
   "source": [
    "pd.read_html(reg_w22.summary().tables[1].as_html(),header=0,index_col=0)[0].iloc[-4:,:-2]"
   ]
  },
  {
   "cell_type": "code",
   "execution_count": 82,
   "metadata": {
    "ExecuteTime": {
     "end_time": "2021-06-08T19:46:20.620236Z",
     "start_time": "2021-06-08T19:46:20.263191Z"
    }
   },
   "outputs": [
    {
     "data": {
      "text/html": [
       "<div>\n",
       "<style scoped>\n",
       "    .dataframe tbody tr th:only-of-type {\n",
       "        vertical-align: middle;\n",
       "    }\n",
       "\n",
       "    .dataframe tbody tr th {\n",
       "        vertical-align: top;\n",
       "    }\n",
       "\n",
       "    .dataframe thead th {\n",
       "        text-align: right;\n",
       "    }\n",
       "</style>\n",
       "<table border=\"1\" class=\"dataframe\">\n",
       "  <thead>\n",
       "    <tr style=\"text-align: right;\">\n",
       "      <th></th>\n",
       "      <th>coef</th>\n",
       "      <th>std err</th>\n",
       "      <th>t</th>\n",
       "      <th>P&gt;|t|</th>\n",
       "    </tr>\n",
       "  </thead>\n",
       "  <tbody>\n",
       "    <tr>\n",
       "      <th>CUMPRIMENTO_TRIWEIGHT</th>\n",
       "      <td>0.4735</td>\n",
       "      <td>0.100</td>\n",
       "      <td>4.736</td>\n",
       "      <td>0.000</td>\n",
       "    </tr>\n",
       "    <tr>\n",
       "      <th>OBRIGAÇÃO_FINAL_POR_SALA</th>\n",
       "      <td>0.0059</td>\n",
       "      <td>0.002</td>\n",
       "      <td>3.062</td>\n",
       "      <td>0.002</td>\n",
       "    </tr>\n",
       "    <tr>\n",
       "      <th>CUMPRIMENTO_TRIWEIGHT:OBRIGAÇÃO_FINAL_POR_SALA</th>\n",
       "      <td>-0.0112</td>\n",
       "      <td>0.002</td>\n",
       "      <td>-4.863</td>\n",
       "      <td>0.000</td>\n",
       "    </tr>\n",
       "    <tr>\n",
       "      <th>DIAS_FUNCIONAMENTO</th>\n",
       "      <td>0.0067</td>\n",
       "      <td>0.000</td>\n",
       "      <td>26.870</td>\n",
       "      <td>0.000</td>\n",
       "    </tr>\n",
       "  </tbody>\n",
       "</table>\n",
       "</div>"
      ],
      "text/plain": [
       "                                                  coef  std err       t  P>|t|\n",
       "CUMPRIMENTO_TRIWEIGHT                           0.4735    0.100   4.736  0.000\n",
       "OBRIGAÇÃO_FINAL_POR_SALA                        0.0059    0.002   3.062  0.002\n",
       "CUMPRIMENTO_TRIWEIGHT:OBRIGAÇÃO_FINAL_POR_SALA -0.0112    0.002  -4.863  0.000\n",
       "DIAS_FUNCIONAMENTO                              0.0067    0.000  26.870  0.000"
      ]
     },
     "execution_count": 82,
     "metadata": {},
     "output_type": "execute_result"
    }
   ],
   "source": [
    "pd.read_html(reg_w23.summary().tables[1].as_html(),header=0,index_col=0)[0].iloc[-4:,:-2]"
   ]
  },
  {
   "cell_type": "code",
   "execution_count": 83,
   "metadata": {
    "ExecuteTime": {
     "end_time": "2021-06-08T19:46:20.995314Z",
     "start_time": "2021-06-08T19:46:20.622215Z"
    },
    "scrolled": true
   },
   "outputs": [
    {
     "data": {
      "text/html": [
       "<div>\n",
       "<style scoped>\n",
       "    .dataframe tbody tr th:only-of-type {\n",
       "        vertical-align: middle;\n",
       "    }\n",
       "\n",
       "    .dataframe tbody tr th {\n",
       "        vertical-align: top;\n",
       "    }\n",
       "\n",
       "    .dataframe thead th {\n",
       "        text-align: right;\n",
       "    }\n",
       "</style>\n",
       "<table border=\"1\" class=\"dataframe\">\n",
       "  <thead>\n",
       "    <tr style=\"text-align: right;\">\n",
       "      <th></th>\n",
       "      <th>coef</th>\n",
       "      <th>std err</th>\n",
       "      <th>t</th>\n",
       "      <th>P&gt;|t|</th>\n",
       "    </tr>\n",
       "  </thead>\n",
       "  <tbody>\n",
       "    <tr>\n",
       "      <th>CUMPRIMENTO_TRIWEIGHT</th>\n",
       "      <td>1.1712</td>\n",
       "      <td>0.210</td>\n",
       "      <td>5.571</td>\n",
       "      <td>0.000</td>\n",
       "    </tr>\n",
       "    <tr>\n",
       "      <th>OBRIGAÇÃO_FINAL_POR_SALA</th>\n",
       "      <td>0.0040</td>\n",
       "      <td>0.004</td>\n",
       "      <td>1.075</td>\n",
       "      <td>0.283</td>\n",
       "    </tr>\n",
       "    <tr>\n",
       "      <th>CUMPRIMENTO_TRIWEIGHT:OBRIGAÇÃO_FINAL_POR_SALA</th>\n",
       "      <td>-0.0135</td>\n",
       "      <td>0.005</td>\n",
       "      <td>-2.725</td>\n",
       "      <td>0.007</td>\n",
       "    </tr>\n",
       "    <tr>\n",
       "      <th>DIAS_FUNCIONAMENTO</th>\n",
       "      <td>0.0107</td>\n",
       "      <td>0.001</td>\n",
       "      <td>13.502</td>\n",
       "      <td>0.000</td>\n",
       "    </tr>\n",
       "  </tbody>\n",
       "</table>\n",
       "</div>"
      ],
      "text/plain": [
       "                                                  coef  std err       t  P>|t|\n",
       "CUMPRIMENTO_TRIWEIGHT                           1.1712    0.210   5.571  0.000\n",
       "OBRIGAÇÃO_FINAL_POR_SALA                        0.0040    0.004   1.075  0.283\n",
       "CUMPRIMENTO_TRIWEIGHT:OBRIGAÇÃO_FINAL_POR_SALA -0.0135    0.005  -2.725  0.007\n",
       "DIAS_FUNCIONAMENTO                              0.0107    0.001  13.502  0.000"
      ]
     },
     "execution_count": 83,
     "metadata": {},
     "output_type": "execute_result"
    }
   ],
   "source": [
    "pd.read_html(reg_w24.summary().tables[1].as_html(),header=0,index_col=0)[0].iloc[-4:,:-2]"
   ]
  },
  {
   "cell_type": "markdown",
   "metadata": {},
   "source": [
    "#### Without entity fixed-effects"
   ]
  },
  {
   "cell_type": "markdown",
   "metadata": {},
   "source": [
    "##### 2017-2019"
   ]
  },
  {
   "cell_type": "markdown",
   "metadata": {},
   "source": [
    "###### Quadratic kernel"
   ]
  },
  {
   "cell_type": "code",
   "execution_count": 96,
   "metadata": {
    "ExecuteTime": {
     "end_time": "2021-06-08T19:52:38.724092Z",
     "start_time": "2021-06-08T19:52:34.351728Z"
    }
   },
   "outputs": [],
   "source": [
    "formul = 'np.log(RENDA) ~ CUMPRIMENTO_PROP_TRUNCADO*OBRIGAÇÃO_FINAL_POR_SALA + DIAS_FUNCIONAMENTO + SALAS_COMPLEXO_INFERIDO + ASSENTOS_COMPLEXO_INFERIDO + C(ANO_CINEMATOGRAFICO)*C(MUN_COMPLEXO)'\n",
    "data = [tds_1719, est_1719, bras_1719]\n",
    "\n",
    "# all\n",
    "reg_w25 = smf.ols(formula = formul, data=data[0]).fit()\n",
    "\n",
    "# foreign\n",
    "reg_w26 = smf.ols(formula = formul, data=data[1]).fit()\n",
    "\n",
    "# Brazilian\n",
    "reg_w27 = smf.ols(formula = formul, data=data[2]).fit()"
   ]
  },
  {
   "cell_type": "code",
   "execution_count": 100,
   "metadata": {
    "ExecuteTime": {
     "end_time": "2021-06-08T19:52:43.223324Z",
     "start_time": "2021-06-08T19:52:42.677151Z"
    }
   },
   "outputs": [
    {
     "data": {
      "text/html": [
       "<div>\n",
       "<style scoped>\n",
       "    .dataframe tbody tr th:only-of-type {\n",
       "        vertical-align: middle;\n",
       "    }\n",
       "\n",
       "    .dataframe tbody tr th {\n",
       "        vertical-align: top;\n",
       "    }\n",
       "\n",
       "    .dataframe thead th {\n",
       "        text-align: right;\n",
       "    }\n",
       "</style>\n",
       "<table border=\"1\" class=\"dataframe\">\n",
       "  <thead>\n",
       "    <tr style=\"text-align: right;\">\n",
       "      <th></th>\n",
       "      <th>coef</th>\n",
       "      <th>std err</th>\n",
       "      <th>t</th>\n",
       "      <th>P&gt;|t|</th>\n",
       "    </tr>\n",
       "  </thead>\n",
       "  <tbody>\n",
       "    <tr>\n",
       "      <th>CUMPRIMENTO_PROP_TRUNCADO</th>\n",
       "      <td>0.9849</td>\n",
       "      <td>0.200000</td>\n",
       "      <td>4.915</td>\n",
       "      <td>0.000</td>\n",
       "    </tr>\n",
       "    <tr>\n",
       "      <th>OBRIGAÇÃO_FINAL_POR_SALA</th>\n",
       "      <td>0.0055</td>\n",
       "      <td>0.004000</td>\n",
       "      <td>1.237</td>\n",
       "      <td>0.216</td>\n",
       "    </tr>\n",
       "    <tr>\n",
       "      <th>CUMPRIMENTO_PROP_TRUNCADO:OBRIGAÇÃO_FINAL_POR_SALA</th>\n",
       "      <td>-0.0033</td>\n",
       "      <td>0.005000</td>\n",
       "      <td>-0.650</td>\n",
       "      <td>0.516</td>\n",
       "    </tr>\n",
       "    <tr>\n",
       "      <th>DIAS_FUNCIONAMENTO</th>\n",
       "      <td>0.0094</td>\n",
       "      <td>0.000000</td>\n",
       "      <td>31.227</td>\n",
       "      <td>0.000</td>\n",
       "    </tr>\n",
       "    <tr>\n",
       "      <th>SALAS_COMPLEXO_INFERIDO</th>\n",
       "      <td>0.2134</td>\n",
       "      <td>0.017000</td>\n",
       "      <td>12.472</td>\n",
       "      <td>0.000</td>\n",
       "    </tr>\n",
       "    <tr>\n",
       "      <th>ASSENTOS_COMPLEXO_INFERIDO</th>\n",
       "      <td>0.0004</td>\n",
       "      <td>0.000064</td>\n",
       "      <td>6.489</td>\n",
       "      <td>0.000</td>\n",
       "    </tr>\n",
       "  </tbody>\n",
       "</table>\n",
       "</div>"
      ],
      "text/plain": [
       "                                                      coef   std err       t  \\\n",
       "CUMPRIMENTO_PROP_TRUNCADO                           0.9849  0.200000   4.915   \n",
       "OBRIGAÇÃO_FINAL_POR_SALA                            0.0055  0.004000   1.237   \n",
       "CUMPRIMENTO_PROP_TRUNCADO:OBRIGAÇÃO_FINAL_POR_SALA -0.0033  0.005000  -0.650   \n",
       "DIAS_FUNCIONAMENTO                                  0.0094  0.000000  31.227   \n",
       "SALAS_COMPLEXO_INFERIDO                             0.2134  0.017000  12.472   \n",
       "ASSENTOS_COMPLEXO_INFERIDO                          0.0004  0.000064   6.489   \n",
       "\n",
       "                                                    P>|t|  \n",
       "CUMPRIMENTO_PROP_TRUNCADO                           0.000  \n",
       "OBRIGAÇÃO_FINAL_POR_SALA                            0.216  \n",
       "CUMPRIMENTO_PROP_TRUNCADO:OBRIGAÇÃO_FINAL_POR_SALA  0.516  \n",
       "DIAS_FUNCIONAMENTO                                  0.000  \n",
       "SALAS_COMPLEXO_INFERIDO                             0.000  \n",
       "ASSENTOS_COMPLEXO_INFERIDO                          0.000  "
      ]
     },
     "execution_count": 100,
     "metadata": {},
     "output_type": "execute_result"
    }
   ],
   "source": [
    "pd.read_html(reg_w25.summary().tables[1].as_html(),header=0,index_col=0)[0].iloc[-6:,:-2]"
   ]
  },
  {
   "cell_type": "code",
   "execution_count": 101,
   "metadata": {
    "ExecuteTime": {
     "end_time": "2021-06-08T19:52:43.848164Z",
     "start_time": "2021-06-08T19:52:43.225328Z"
    }
   },
   "outputs": [
    {
     "data": {
      "text/html": [
       "<div>\n",
       "<style scoped>\n",
       "    .dataframe tbody tr th:only-of-type {\n",
       "        vertical-align: middle;\n",
       "    }\n",
       "\n",
       "    .dataframe tbody tr th {\n",
       "        vertical-align: top;\n",
       "    }\n",
       "\n",
       "    .dataframe thead th {\n",
       "        text-align: right;\n",
       "    }\n",
       "</style>\n",
       "<table border=\"1\" class=\"dataframe\">\n",
       "  <thead>\n",
       "    <tr style=\"text-align: right;\">\n",
       "      <th></th>\n",
       "      <th>coef</th>\n",
       "      <th>std err</th>\n",
       "      <th>t</th>\n",
       "      <th>P&gt;|t|</th>\n",
       "    </tr>\n",
       "  </thead>\n",
       "  <tbody>\n",
       "    <tr>\n",
       "      <th>CUMPRIMENTO_PROP_TRUNCADO</th>\n",
       "      <td>1.0522</td>\n",
       "      <td>0.217000</td>\n",
       "      <td>4.841</td>\n",
       "      <td>0.000</td>\n",
       "    </tr>\n",
       "    <tr>\n",
       "      <th>OBRIGAÇÃO_FINAL_POR_SALA</th>\n",
       "      <td>0.0040</td>\n",
       "      <td>0.005000</td>\n",
       "      <td>0.844</td>\n",
       "      <td>0.399</td>\n",
       "    </tr>\n",
       "    <tr>\n",
       "      <th>CUMPRIMENTO_PROP_TRUNCADO:OBRIGAÇÃO_FINAL_POR_SALA</th>\n",
       "      <td>-0.0054</td>\n",
       "      <td>0.005000</td>\n",
       "      <td>-0.995</td>\n",
       "      <td>0.320</td>\n",
       "    </tr>\n",
       "    <tr>\n",
       "      <th>DIAS_FUNCIONAMENTO</th>\n",
       "      <td>0.0106</td>\n",
       "      <td>0.000000</td>\n",
       "      <td>33.868</td>\n",
       "      <td>0.000</td>\n",
       "    </tr>\n",
       "    <tr>\n",
       "      <th>SALAS_COMPLEXO_INFERIDO</th>\n",
       "      <td>0.2149</td>\n",
       "      <td>0.018000</td>\n",
       "      <td>11.772</td>\n",
       "      <td>0.000</td>\n",
       "    </tr>\n",
       "    <tr>\n",
       "      <th>ASSENTOS_COMPLEXO_INFERIDO</th>\n",
       "      <td>0.0004</td>\n",
       "      <td>0.000069</td>\n",
       "      <td>6.146</td>\n",
       "      <td>0.000</td>\n",
       "    </tr>\n",
       "  </tbody>\n",
       "</table>\n",
       "</div>"
      ],
      "text/plain": [
       "                                                      coef   std err       t  \\\n",
       "CUMPRIMENTO_PROP_TRUNCADO                           1.0522  0.217000   4.841   \n",
       "OBRIGAÇÃO_FINAL_POR_SALA                            0.0040  0.005000   0.844   \n",
       "CUMPRIMENTO_PROP_TRUNCADO:OBRIGAÇÃO_FINAL_POR_SALA -0.0054  0.005000  -0.995   \n",
       "DIAS_FUNCIONAMENTO                                  0.0106  0.000000  33.868   \n",
       "SALAS_COMPLEXO_INFERIDO                             0.2149  0.018000  11.772   \n",
       "ASSENTOS_COMPLEXO_INFERIDO                          0.0004  0.000069   6.146   \n",
       "\n",
       "                                                    P>|t|  \n",
       "CUMPRIMENTO_PROP_TRUNCADO                           0.000  \n",
       "OBRIGAÇÃO_FINAL_POR_SALA                            0.399  \n",
       "CUMPRIMENTO_PROP_TRUNCADO:OBRIGAÇÃO_FINAL_POR_SALA  0.320  \n",
       "DIAS_FUNCIONAMENTO                                  0.000  \n",
       "SALAS_COMPLEXO_INFERIDO                             0.000  \n",
       "ASSENTOS_COMPLEXO_INFERIDO                          0.000  "
      ]
     },
     "execution_count": 101,
     "metadata": {},
     "output_type": "execute_result"
    }
   ],
   "source": [
    "pd.read_html(reg_w26.summary().tables[1].as_html(),header=0,index_col=0)[0].iloc[-6:,:-2]"
   ]
  },
  {
   "cell_type": "code",
   "execution_count": 102,
   "metadata": {
    "ExecuteTime": {
     "end_time": "2021-06-08T19:52:44.407464Z",
     "start_time": "2021-06-08T19:52:43.850169Z"
    }
   },
   "outputs": [
    {
     "data": {
      "text/html": [
       "<div>\n",
       "<style scoped>\n",
       "    .dataframe tbody tr th:only-of-type {\n",
       "        vertical-align: middle;\n",
       "    }\n",
       "\n",
       "    .dataframe tbody tr th {\n",
       "        vertical-align: top;\n",
       "    }\n",
       "\n",
       "    .dataframe thead th {\n",
       "        text-align: right;\n",
       "    }\n",
       "</style>\n",
       "<table border=\"1\" class=\"dataframe\">\n",
       "  <thead>\n",
       "    <tr style=\"text-align: right;\">\n",
       "      <th></th>\n",
       "      <th>coef</th>\n",
       "      <th>std err</th>\n",
       "      <th>t</th>\n",
       "      <th>P&gt;|t|</th>\n",
       "    </tr>\n",
       "  </thead>\n",
       "  <tbody>\n",
       "    <tr>\n",
       "      <th>CUMPRIMENTO_PROP_TRUNCADO</th>\n",
       "      <td>1.1052</td>\n",
       "      <td>0.234000</td>\n",
       "      <td>4.715</td>\n",
       "      <td>0.000</td>\n",
       "    </tr>\n",
       "    <tr>\n",
       "      <th>OBRIGAÇÃO_FINAL_POR_SALA</th>\n",
       "      <td>0.0172</td>\n",
       "      <td>0.005000</td>\n",
       "      <td>3.425</td>\n",
       "      <td>0.001</td>\n",
       "    </tr>\n",
       "    <tr>\n",
       "      <th>CUMPRIMENTO_PROP_TRUNCADO:OBRIGAÇÃO_FINAL_POR_SALA</th>\n",
       "      <td>-0.0089</td>\n",
       "      <td>0.006000</td>\n",
       "      <td>-1.481</td>\n",
       "      <td>0.139</td>\n",
       "    </tr>\n",
       "    <tr>\n",
       "      <th>DIAS_FUNCIONAMENTO</th>\n",
       "      <td>0.0080</td>\n",
       "      <td>0.000000</td>\n",
       "      <td>21.297</td>\n",
       "      <td>0.000</td>\n",
       "    </tr>\n",
       "    <tr>\n",
       "      <th>SALAS_COMPLEXO_INFERIDO</th>\n",
       "      <td>0.0430</td>\n",
       "      <td>0.021000</td>\n",
       "      <td>2.084</td>\n",
       "      <td>0.037</td>\n",
       "    </tr>\n",
       "    <tr>\n",
       "      <th>ASSENTOS_COMPLEXO_INFERIDO</th>\n",
       "      <td>0.0005</td>\n",
       "      <td>0.000073</td>\n",
       "      <td>7.406</td>\n",
       "      <td>0.000</td>\n",
       "    </tr>\n",
       "  </tbody>\n",
       "</table>\n",
       "</div>"
      ],
      "text/plain": [
       "                                                      coef   std err       t  \\\n",
       "CUMPRIMENTO_PROP_TRUNCADO                           1.1052  0.234000   4.715   \n",
       "OBRIGAÇÃO_FINAL_POR_SALA                            0.0172  0.005000   3.425   \n",
       "CUMPRIMENTO_PROP_TRUNCADO:OBRIGAÇÃO_FINAL_POR_SALA -0.0089  0.006000  -1.481   \n",
       "DIAS_FUNCIONAMENTO                                  0.0080  0.000000  21.297   \n",
       "SALAS_COMPLEXO_INFERIDO                             0.0430  0.021000   2.084   \n",
       "ASSENTOS_COMPLEXO_INFERIDO                          0.0005  0.000073   7.406   \n",
       "\n",
       "                                                    P>|t|  \n",
       "CUMPRIMENTO_PROP_TRUNCADO                           0.000  \n",
       "OBRIGAÇÃO_FINAL_POR_SALA                            0.001  \n",
       "CUMPRIMENTO_PROP_TRUNCADO:OBRIGAÇÃO_FINAL_POR_SALA  0.139  \n",
       "DIAS_FUNCIONAMENTO                                  0.000  \n",
       "SALAS_COMPLEXO_INFERIDO                             0.037  \n",
       "ASSENTOS_COMPLEXO_INFERIDO                          0.000  "
      ]
     },
     "execution_count": 102,
     "metadata": {},
     "output_type": "execute_result"
    }
   ],
   "source": [
    "pd.read_html(reg_w27.summary().tables[1].as_html(),header=0,index_col=0)[0].iloc[-6:,:-2]"
   ]
  },
  {
   "cell_type": "markdown",
   "metadata": {},
   "source": [
    "###### Normal pdf kernel"
   ]
  },
  {
   "cell_type": "code",
   "execution_count": 103,
   "metadata": {
    "ExecuteTime": {
     "end_time": "2021-06-08T19:53:53.855674Z",
     "start_time": "2021-06-08T19:53:49.466384Z"
    }
   },
   "outputs": [],
   "source": [
    "formul = 'np.log(RENDA) ~ CUMPRIMENTO_NORMALIZADO*OBRIGAÇÃO_FINAL_POR_SALA + DIAS_FUNCIONAMENTO + SALAS_COMPLEXO_INFERIDO + ASSENTOS_COMPLEXO_INFERIDO + C(ANO_CINEMATOGRAFICO)*C(MUN_COMPLEXO)'\n",
    "data = [tds_1719, est_1719, bras_1719]\n",
    "\n",
    "# all\n",
    "reg_w28 = smf.ols(formula = formul, data=data[0]).fit()\n",
    "\n",
    "# foreign\n",
    "reg_w29 = smf.ols(formula = formul, data=data[1]).fit()\n",
    "\n",
    "# Brazilian\n",
    "reg_w30 = smf.ols(formula = formul, data=data[2]).fit()"
   ]
  },
  {
   "cell_type": "code",
   "execution_count": 104,
   "metadata": {
    "ExecuteTime": {
     "end_time": "2021-06-08T19:53:54.448753Z",
     "start_time": "2021-06-08T19:53:53.857679Z"
    }
   },
   "outputs": [
    {
     "data": {
      "text/html": [
       "<div>\n",
       "<style scoped>\n",
       "    .dataframe tbody tr th:only-of-type {\n",
       "        vertical-align: middle;\n",
       "    }\n",
       "\n",
       "    .dataframe tbody tr th {\n",
       "        vertical-align: top;\n",
       "    }\n",
       "\n",
       "    .dataframe thead th {\n",
       "        text-align: right;\n",
       "    }\n",
       "</style>\n",
       "<table border=\"1\" class=\"dataframe\">\n",
       "  <thead>\n",
       "    <tr style=\"text-align: right;\">\n",
       "      <th></th>\n",
       "      <th>coef</th>\n",
       "      <th>std err</th>\n",
       "      <th>t</th>\n",
       "      <th>P&gt;|t|</th>\n",
       "    </tr>\n",
       "  </thead>\n",
       "  <tbody>\n",
       "    <tr>\n",
       "      <th>CUMPRIMENTO_NORMALIZADO</th>\n",
       "      <td>1.4171</td>\n",
       "      <td>0.207000</td>\n",
       "      <td>6.859</td>\n",
       "      <td>0.000</td>\n",
       "    </tr>\n",
       "    <tr>\n",
       "      <th>OBRIGAÇÃO_FINAL_POR_SALA</th>\n",
       "      <td>0.0119</td>\n",
       "      <td>0.003000</td>\n",
       "      <td>3.506</td>\n",
       "      <td>0.000</td>\n",
       "    </tr>\n",
       "    <tr>\n",
       "      <th>CUMPRIMENTO_NORMALIZADO:OBRIGAÇÃO_FINAL_POR_SALA</th>\n",
       "      <td>-0.0136</td>\n",
       "      <td>0.004000</td>\n",
       "      <td>-3.121</td>\n",
       "      <td>0.002</td>\n",
       "    </tr>\n",
       "    <tr>\n",
       "      <th>DIAS_FUNCIONAMENTO</th>\n",
       "      <td>0.0093</td>\n",
       "      <td>0.000000</td>\n",
       "      <td>31.436</td>\n",
       "      <td>0.000</td>\n",
       "    </tr>\n",
       "    <tr>\n",
       "      <th>SALAS_COMPLEXO_INFERIDO</th>\n",
       "      <td>0.2111</td>\n",
       "      <td>0.017000</td>\n",
       "      <td>12.430</td>\n",
       "      <td>0.000</td>\n",
       "    </tr>\n",
       "    <tr>\n",
       "      <th>ASSENTOS_COMPLEXO_INFERIDO</th>\n",
       "      <td>0.0004</td>\n",
       "      <td>0.000064</td>\n",
       "      <td>6.547</td>\n",
       "      <td>0.000</td>\n",
       "    </tr>\n",
       "  </tbody>\n",
       "</table>\n",
       "</div>"
      ],
      "text/plain": [
       "                                                    coef   std err       t  \\\n",
       "CUMPRIMENTO_NORMALIZADO                           1.4171  0.207000   6.859   \n",
       "OBRIGAÇÃO_FINAL_POR_SALA                          0.0119  0.003000   3.506   \n",
       "CUMPRIMENTO_NORMALIZADO:OBRIGAÇÃO_FINAL_POR_SALA -0.0136  0.004000  -3.121   \n",
       "DIAS_FUNCIONAMENTO                                0.0093  0.000000  31.436   \n",
       "SALAS_COMPLEXO_INFERIDO                           0.2111  0.017000  12.430   \n",
       "ASSENTOS_COMPLEXO_INFERIDO                        0.0004  0.000064   6.547   \n",
       "\n",
       "                                                  P>|t|  \n",
       "CUMPRIMENTO_NORMALIZADO                           0.000  \n",
       "OBRIGAÇÃO_FINAL_POR_SALA                          0.000  \n",
       "CUMPRIMENTO_NORMALIZADO:OBRIGAÇÃO_FINAL_POR_SALA  0.002  \n",
       "DIAS_FUNCIONAMENTO                                0.000  \n",
       "SALAS_COMPLEXO_INFERIDO                           0.000  \n",
       "ASSENTOS_COMPLEXO_INFERIDO                        0.000  "
      ]
     },
     "execution_count": 104,
     "metadata": {},
     "output_type": "execute_result"
    }
   ],
   "source": [
    "pd.read_html(reg_w28.summary().tables[1].as_html(),header=0,index_col=0)[0].iloc[-6:,:-2]"
   ]
  },
  {
   "cell_type": "code",
   "execution_count": 105,
   "metadata": {
    "ExecuteTime": {
     "end_time": "2021-06-08T19:53:55.077873Z",
     "start_time": "2021-06-08T19:53:54.450758Z"
    }
   },
   "outputs": [
    {
     "data": {
      "text/html": [
       "<div>\n",
       "<style scoped>\n",
       "    .dataframe tbody tr th:only-of-type {\n",
       "        vertical-align: middle;\n",
       "    }\n",
       "\n",
       "    .dataframe tbody tr th {\n",
       "        vertical-align: top;\n",
       "    }\n",
       "\n",
       "    .dataframe thead th {\n",
       "        text-align: right;\n",
       "    }\n",
       "</style>\n",
       "<table border=\"1\" class=\"dataframe\">\n",
       "  <thead>\n",
       "    <tr style=\"text-align: right;\">\n",
       "      <th></th>\n",
       "      <th>coef</th>\n",
       "      <th>std err</th>\n",
       "      <th>t</th>\n",
       "      <th>P&gt;|t|</th>\n",
       "    </tr>\n",
       "  </thead>\n",
       "  <tbody>\n",
       "    <tr>\n",
       "      <th>CUMPRIMENTO_NORMALIZADO</th>\n",
       "      <td>1.4765</td>\n",
       "      <td>0.224000</td>\n",
       "      <td>6.601</td>\n",
       "      <td>0.000</td>\n",
       "    </tr>\n",
       "    <tr>\n",
       "      <th>OBRIGAÇÃO_FINAL_POR_SALA</th>\n",
       "      <td>0.0099</td>\n",
       "      <td>0.004000</td>\n",
       "      <td>2.696</td>\n",
       "      <td>0.007</td>\n",
       "    </tr>\n",
       "    <tr>\n",
       "      <th>CUMPRIMENTO_NORMALIZADO:OBRIGAÇÃO_FINAL_POR_SALA</th>\n",
       "      <td>-0.0153</td>\n",
       "      <td>0.005000</td>\n",
       "      <td>-3.258</td>\n",
       "      <td>0.001</td>\n",
       "    </tr>\n",
       "    <tr>\n",
       "      <th>DIAS_FUNCIONAMENTO</th>\n",
       "      <td>0.0106</td>\n",
       "      <td>0.000000</td>\n",
       "      <td>34.169</td>\n",
       "      <td>0.000</td>\n",
       "    </tr>\n",
       "    <tr>\n",
       "      <th>SALAS_COMPLEXO_INFERIDO</th>\n",
       "      <td>0.2125</td>\n",
       "      <td>0.018000</td>\n",
       "      <td>11.719</td>\n",
       "      <td>0.000</td>\n",
       "    </tr>\n",
       "    <tr>\n",
       "      <th>ASSENTOS_COMPLEXO_INFERIDO</th>\n",
       "      <td>0.0004</td>\n",
       "      <td>0.000068</td>\n",
       "      <td>6.196</td>\n",
       "      <td>0.000</td>\n",
       "    </tr>\n",
       "  </tbody>\n",
       "</table>\n",
       "</div>"
      ],
      "text/plain": [
       "                                                    coef   std err       t  \\\n",
       "CUMPRIMENTO_NORMALIZADO                           1.4765  0.224000   6.601   \n",
       "OBRIGAÇÃO_FINAL_POR_SALA                          0.0099  0.004000   2.696   \n",
       "CUMPRIMENTO_NORMALIZADO:OBRIGAÇÃO_FINAL_POR_SALA -0.0153  0.005000  -3.258   \n",
       "DIAS_FUNCIONAMENTO                                0.0106  0.000000  34.169   \n",
       "SALAS_COMPLEXO_INFERIDO                           0.2125  0.018000  11.719   \n",
       "ASSENTOS_COMPLEXO_INFERIDO                        0.0004  0.000068   6.196   \n",
       "\n",
       "                                                  P>|t|  \n",
       "CUMPRIMENTO_NORMALIZADO                           0.000  \n",
       "OBRIGAÇÃO_FINAL_POR_SALA                          0.007  \n",
       "CUMPRIMENTO_NORMALIZADO:OBRIGAÇÃO_FINAL_POR_SALA  0.001  \n",
       "DIAS_FUNCIONAMENTO                                0.000  \n",
       "SALAS_COMPLEXO_INFERIDO                           0.000  \n",
       "ASSENTOS_COMPLEXO_INFERIDO                        0.000  "
      ]
     },
     "execution_count": 105,
     "metadata": {},
     "output_type": "execute_result"
    }
   ],
   "source": [
    "pd.read_html(reg_w29.summary().tables[1].as_html(),header=0,index_col=0)[0].iloc[-6:,:-2]"
   ]
  },
  {
   "cell_type": "code",
   "execution_count": 106,
   "metadata": {
    "ExecuteTime": {
     "end_time": "2021-06-08T19:53:55.636357Z",
     "start_time": "2021-06-08T19:53:55.080885Z"
    }
   },
   "outputs": [
    {
     "data": {
      "text/html": [
       "<div>\n",
       "<style scoped>\n",
       "    .dataframe tbody tr th:only-of-type {\n",
       "        vertical-align: middle;\n",
       "    }\n",
       "\n",
       "    .dataframe tbody tr th {\n",
       "        vertical-align: top;\n",
       "    }\n",
       "\n",
       "    .dataframe thead th {\n",
       "        text-align: right;\n",
       "    }\n",
       "</style>\n",
       "<table border=\"1\" class=\"dataframe\">\n",
       "  <thead>\n",
       "    <tr style=\"text-align: right;\">\n",
       "      <th></th>\n",
       "      <th>coef</th>\n",
       "      <th>std err</th>\n",
       "      <th>t</th>\n",
       "      <th>P&gt;|t|</th>\n",
       "    </tr>\n",
       "  </thead>\n",
       "  <tbody>\n",
       "    <tr>\n",
       "      <th>CUMPRIMENTO_NORMALIZADO</th>\n",
       "      <td>1.6333</td>\n",
       "      <td>0.239000</td>\n",
       "      <td>6.832</td>\n",
       "      <td>0.000</td>\n",
       "    </tr>\n",
       "    <tr>\n",
       "      <th>OBRIGAÇÃO_FINAL_POR_SALA</th>\n",
       "      <td>0.0248</td>\n",
       "      <td>0.004000</td>\n",
       "      <td>6.587</td>\n",
       "      <td>0.000</td>\n",
       "    </tr>\n",
       "    <tr>\n",
       "      <th>CUMPRIMENTO_NORMALIZADO:OBRIGAÇÃO_FINAL_POR_SALA</th>\n",
       "      <td>-0.0222</td>\n",
       "      <td>0.005000</td>\n",
       "      <td>-4.315</td>\n",
       "      <td>0.000</td>\n",
       "    </tr>\n",
       "    <tr>\n",
       "      <th>DIAS_FUNCIONAMENTO</th>\n",
       "      <td>0.0081</td>\n",
       "      <td>0.000000</td>\n",
       "      <td>21.372</td>\n",
       "      <td>0.000</td>\n",
       "    </tr>\n",
       "    <tr>\n",
       "      <th>SALAS_COMPLEXO_INFERIDO</th>\n",
       "      <td>0.0418</td>\n",
       "      <td>0.020000</td>\n",
       "      <td>2.042</td>\n",
       "      <td>0.041</td>\n",
       "    </tr>\n",
       "    <tr>\n",
       "      <th>ASSENTOS_COMPLEXO_INFERIDO</th>\n",
       "      <td>0.0005</td>\n",
       "      <td>0.000073</td>\n",
       "      <td>7.451</td>\n",
       "      <td>0.000</td>\n",
       "    </tr>\n",
       "  </tbody>\n",
       "</table>\n",
       "</div>"
      ],
      "text/plain": [
       "                                                    coef   std err       t  \\\n",
       "CUMPRIMENTO_NORMALIZADO                           1.6333  0.239000   6.832   \n",
       "OBRIGAÇÃO_FINAL_POR_SALA                          0.0248  0.004000   6.587   \n",
       "CUMPRIMENTO_NORMALIZADO:OBRIGAÇÃO_FINAL_POR_SALA -0.0222  0.005000  -4.315   \n",
       "DIAS_FUNCIONAMENTO                                0.0081  0.000000  21.372   \n",
       "SALAS_COMPLEXO_INFERIDO                           0.0418  0.020000   2.042   \n",
       "ASSENTOS_COMPLEXO_INFERIDO                        0.0005  0.000073   7.451   \n",
       "\n",
       "                                                  P>|t|  \n",
       "CUMPRIMENTO_NORMALIZADO                           0.000  \n",
       "OBRIGAÇÃO_FINAL_POR_SALA                          0.000  \n",
       "CUMPRIMENTO_NORMALIZADO:OBRIGAÇÃO_FINAL_POR_SALA  0.000  \n",
       "DIAS_FUNCIONAMENTO                                0.000  \n",
       "SALAS_COMPLEXO_INFERIDO                           0.041  \n",
       "ASSENTOS_COMPLEXO_INFERIDO                        0.000  "
      ]
     },
     "execution_count": 106,
     "metadata": {},
     "output_type": "execute_result"
    }
   ],
   "source": [
    "pd.read_html(reg_w30.summary().tables[1].as_html(),header=0,index_col=0)[0].iloc[-6:,:-2]"
   ]
  },
  {
   "cell_type": "markdown",
   "metadata": {},
   "source": [
    "###### Triangular kernel"
   ]
  },
  {
   "cell_type": "code",
   "execution_count": 110,
   "metadata": {
    "ExecuteTime": {
     "end_time": "2021-06-08T19:55:34.741072Z",
     "start_time": "2021-06-08T19:55:30.291167Z"
    }
   },
   "outputs": [],
   "source": [
    "formul = 'np.log(RENDA) ~ CUMPRIMENTO_LINEAR*OBRIGAÇÃO_FINAL_POR_SALA + DIAS_FUNCIONAMENTO + SALAS_COMPLEXO_INFERIDO + ASSENTOS_COMPLEXO_INFERIDO + C(ANO_CINEMATOGRAFICO)*C(MUN_COMPLEXO)'\n",
    "data = [tds_1719, est_1719, bras_1719]\n",
    "\n",
    "# all\n",
    "reg_w31 = smf.ols(formula = formul, data=data[0]).fit()\n",
    "\n",
    "# foreign\n",
    "reg_w32 = smf.ols(formula = formul, data=data[1]).fit()\n",
    "\n",
    "# Brazilian\n",
    "reg_w33 = smf.ols(formula = formul, data=data[2]).fit()"
   ]
  },
  {
   "cell_type": "code",
   "execution_count": 117,
   "metadata": {
    "ExecuteTime": {
     "end_time": "2021-06-08T19:58:40.518799Z",
     "start_time": "2021-06-08T19:58:39.905380Z"
    }
   },
   "outputs": [
    {
     "data": {
      "text/html": [
       "<div>\n",
       "<style scoped>\n",
       "    .dataframe tbody tr th:only-of-type {\n",
       "        vertical-align: middle;\n",
       "    }\n",
       "\n",
       "    .dataframe tbody tr th {\n",
       "        vertical-align: top;\n",
       "    }\n",
       "\n",
       "    .dataframe thead th {\n",
       "        text-align: right;\n",
       "    }\n",
       "</style>\n",
       "<table border=\"1\" class=\"dataframe\">\n",
       "  <thead>\n",
       "    <tr style=\"text-align: right;\">\n",
       "      <th></th>\n",
       "      <th>coef</th>\n",
       "      <th>std err</th>\n",
       "      <th>t</th>\n",
       "      <th>P&gt;|t|</th>\n",
       "    </tr>\n",
       "  </thead>\n",
       "  <tbody>\n",
       "    <tr>\n",
       "      <th>CUMPRIMENTO_LINEAR</th>\n",
       "      <td>2.8144</td>\n",
       "      <td>0.723000</td>\n",
       "      <td>3.895</td>\n",
       "      <td>0.000</td>\n",
       "    </tr>\n",
       "    <tr>\n",
       "      <th>OBRIGAÇÃO_FINAL_POR_SALA</th>\n",
       "      <td>-0.0108</td>\n",
       "      <td>0.008000</td>\n",
       "      <td>-1.297</td>\n",
       "      <td>0.195</td>\n",
       "    </tr>\n",
       "    <tr>\n",
       "      <th>CUMPRIMENTO_LINEAR:OBRIGAÇÃO_FINAL_POR_SALA</th>\n",
       "      <td>0.0347</td>\n",
       "      <td>0.022000</td>\n",
       "      <td>1.546</td>\n",
       "      <td>0.122</td>\n",
       "    </tr>\n",
       "    <tr>\n",
       "      <th>DIAS_FUNCIONAMENTO</th>\n",
       "      <td>0.0094</td>\n",
       "      <td>0.000000</td>\n",
       "      <td>31.795</td>\n",
       "      <td>0.000</td>\n",
       "    </tr>\n",
       "    <tr>\n",
       "      <th>SALAS_COMPLEXO_INFERIDO</th>\n",
       "      <td>0.2104</td>\n",
       "      <td>0.017000</td>\n",
       "      <td>12.467</td>\n",
       "      <td>0.000</td>\n",
       "    </tr>\n",
       "    <tr>\n",
       "      <th>ASSENTOS_COMPLEXO_INFERIDO</th>\n",
       "      <td>0.0004</td>\n",
       "      <td>0.000063</td>\n",
       "      <td>6.536</td>\n",
       "      <td>0.000</td>\n",
       "    </tr>\n",
       "  </tbody>\n",
       "</table>\n",
       "</div>"
      ],
      "text/plain": [
       "                                               coef   std err       t  P>|t|\n",
       "CUMPRIMENTO_LINEAR                           2.8144  0.723000   3.895  0.000\n",
       "OBRIGAÇÃO_FINAL_POR_SALA                    -0.0108  0.008000  -1.297  0.195\n",
       "CUMPRIMENTO_LINEAR:OBRIGAÇÃO_FINAL_POR_SALA  0.0347  0.022000   1.546  0.122\n",
       "DIAS_FUNCIONAMENTO                           0.0094  0.000000  31.795  0.000\n",
       "SALAS_COMPLEXO_INFERIDO                      0.2104  0.017000  12.467  0.000\n",
       "ASSENTOS_COMPLEXO_INFERIDO                   0.0004  0.000063   6.536  0.000"
      ]
     },
     "execution_count": 117,
     "metadata": {},
     "output_type": "execute_result"
    }
   ],
   "source": [
    "pd.read_html(reg_w31.summary().tables[1].as_html(),header=0,index_col=0)[0].iloc[-6:,:-2]"
   ]
  },
  {
   "cell_type": "code",
   "execution_count": 118,
   "metadata": {
    "ExecuteTime": {
     "end_time": "2021-06-08T19:58:41.104307Z",
     "start_time": "2021-06-08T19:58:40.520804Z"
    }
   },
   "outputs": [
    {
     "data": {
      "text/html": [
       "<div>\n",
       "<style scoped>\n",
       "    .dataframe tbody tr th:only-of-type {\n",
       "        vertical-align: middle;\n",
       "    }\n",
       "\n",
       "    .dataframe tbody tr th {\n",
       "        vertical-align: top;\n",
       "    }\n",
       "\n",
       "    .dataframe thead th {\n",
       "        text-align: right;\n",
       "    }\n",
       "</style>\n",
       "<table border=\"1\" class=\"dataframe\">\n",
       "  <thead>\n",
       "    <tr style=\"text-align: right;\">\n",
       "      <th></th>\n",
       "      <th>coef</th>\n",
       "      <th>std err</th>\n",
       "      <th>t</th>\n",
       "      <th>P&gt;|t|</th>\n",
       "    </tr>\n",
       "  </thead>\n",
       "  <tbody>\n",
       "    <tr>\n",
       "      <th>CUMPRIMENTO_LINEAR</th>\n",
       "      <td>3.3444</td>\n",
       "      <td>0.806000</td>\n",
       "      <td>4.151</td>\n",
       "      <td>0.000</td>\n",
       "    </tr>\n",
       "    <tr>\n",
       "      <th>OBRIGAÇÃO_FINAL_POR_SALA</th>\n",
       "      <td>-0.0093</td>\n",
       "      <td>0.009000</td>\n",
       "      <td>-1.025</td>\n",
       "      <td>0.305</td>\n",
       "    </tr>\n",
       "    <tr>\n",
       "      <th>CUMPRIMENTO_LINEAR:OBRIGAÇÃO_FINAL_POR_SALA</th>\n",
       "      <td>0.0222</td>\n",
       "      <td>0.025000</td>\n",
       "      <td>0.904</td>\n",
       "      <td>0.366</td>\n",
       "    </tr>\n",
       "    <tr>\n",
       "      <th>DIAS_FUNCIONAMENTO</th>\n",
       "      <td>0.0105</td>\n",
       "      <td>0.000000</td>\n",
       "      <td>34.015</td>\n",
       "      <td>0.000</td>\n",
       "    </tr>\n",
       "    <tr>\n",
       "      <th>SALAS_COMPLEXO_INFERIDO</th>\n",
       "      <td>0.2118</td>\n",
       "      <td>0.018000</td>\n",
       "      <td>11.753</td>\n",
       "      <td>0.000</td>\n",
       "    </tr>\n",
       "    <tr>\n",
       "      <th>ASSENTOS_COMPLEXO_INFERIDO</th>\n",
       "      <td>0.0004</td>\n",
       "      <td>0.000068</td>\n",
       "      <td>6.207</td>\n",
       "      <td>0.000</td>\n",
       "    </tr>\n",
       "  </tbody>\n",
       "</table>\n",
       "</div>"
      ],
      "text/plain": [
       "                                               coef   std err       t  P>|t|\n",
       "CUMPRIMENTO_LINEAR                           3.3444  0.806000   4.151  0.000\n",
       "OBRIGAÇÃO_FINAL_POR_SALA                    -0.0093  0.009000  -1.025  0.305\n",
       "CUMPRIMENTO_LINEAR:OBRIGAÇÃO_FINAL_POR_SALA  0.0222  0.025000   0.904  0.366\n",
       "DIAS_FUNCIONAMENTO                           0.0105  0.000000  34.015  0.000\n",
       "SALAS_COMPLEXO_INFERIDO                      0.2118  0.018000  11.753  0.000\n",
       "ASSENTOS_COMPLEXO_INFERIDO                   0.0004  0.000068   6.207  0.000"
      ]
     },
     "execution_count": 118,
     "metadata": {},
     "output_type": "execute_result"
    }
   ],
   "source": [
    "pd.read_html(reg_w32.summary().tables[1].as_html(),header=0,index_col=0)[0].iloc[-6:,:-2]"
   ]
  },
  {
   "cell_type": "code",
   "execution_count": 120,
   "metadata": {
    "ExecuteTime": {
     "end_time": "2021-06-08T19:58:59.427418Z",
     "start_time": "2021-06-08T19:58:58.920670Z"
    }
   },
   "outputs": [
    {
     "data": {
      "text/html": [
       "<div>\n",
       "<style scoped>\n",
       "    .dataframe tbody tr th:only-of-type {\n",
       "        vertical-align: middle;\n",
       "    }\n",
       "\n",
       "    .dataframe tbody tr th {\n",
       "        vertical-align: top;\n",
       "    }\n",
       "\n",
       "    .dataframe thead th {\n",
       "        text-align: right;\n",
       "    }\n",
       "</style>\n",
       "<table border=\"1\" class=\"dataframe\">\n",
       "  <thead>\n",
       "    <tr style=\"text-align: right;\">\n",
       "      <th></th>\n",
       "      <th>coef</th>\n",
       "      <th>std err</th>\n",
       "      <th>t</th>\n",
       "      <th>P&gt;|t|</th>\n",
       "    </tr>\n",
       "  </thead>\n",
       "  <tbody>\n",
       "    <tr>\n",
       "      <th>CUMPRIMENTO_LINEAR</th>\n",
       "      <td>2.3960</td>\n",
       "      <td>0.841000</td>\n",
       "      <td>2.850</td>\n",
       "      <td>0.004</td>\n",
       "    </tr>\n",
       "    <tr>\n",
       "      <th>OBRIGAÇÃO_FINAL_POR_SALA</th>\n",
       "      <td>0.0069</td>\n",
       "      <td>0.010000</td>\n",
       "      <td>0.722</td>\n",
       "      <td>0.471</td>\n",
       "    </tr>\n",
       "    <tr>\n",
       "      <th>CUMPRIMENTO_LINEAR:OBRIGAÇÃO_FINAL_POR_SALA</th>\n",
       "      <td>0.0090</td>\n",
       "      <td>0.026000</td>\n",
       "      <td>0.341</td>\n",
       "      <td>0.733</td>\n",
       "    </tr>\n",
       "    <tr>\n",
       "      <th>DIAS_FUNCIONAMENTO</th>\n",
       "      <td>0.0081</td>\n",
       "      <td>0.000000</td>\n",
       "      <td>21.748</td>\n",
       "      <td>0.000</td>\n",
       "    </tr>\n",
       "    <tr>\n",
       "      <th>SALAS_COMPLEXO_INFERIDO</th>\n",
       "      <td>0.0422</td>\n",
       "      <td>0.021000</td>\n",
       "      <td>2.034</td>\n",
       "      <td>0.042</td>\n",
       "    </tr>\n",
       "    <tr>\n",
       "      <th>ASSENTOS_COMPLEXO_INFERIDO</th>\n",
       "      <td>0.0005</td>\n",
       "      <td>0.000073</td>\n",
       "      <td>7.321</td>\n",
       "      <td>0.000</td>\n",
       "    </tr>\n",
       "  </tbody>\n",
       "</table>\n",
       "</div>"
      ],
      "text/plain": [
       "                                               coef   std err       t  P>|t|\n",
       "CUMPRIMENTO_LINEAR                           2.3960  0.841000   2.850  0.004\n",
       "OBRIGAÇÃO_FINAL_POR_SALA                     0.0069  0.010000   0.722  0.471\n",
       "CUMPRIMENTO_LINEAR:OBRIGAÇÃO_FINAL_POR_SALA  0.0090  0.026000   0.341  0.733\n",
       "DIAS_FUNCIONAMENTO                           0.0081  0.000000  21.748  0.000\n",
       "SALAS_COMPLEXO_INFERIDO                      0.0422  0.021000   2.034  0.042\n",
       "ASSENTOS_COMPLEXO_INFERIDO                   0.0005  0.000073   7.321  0.000"
      ]
     },
     "execution_count": 120,
     "metadata": {},
     "output_type": "execute_result"
    }
   ],
   "source": [
    "pd.read_html(reg_w33.summary().tables[1].as_html(),header=0,index_col=0)[0].iloc[-6:,:-2]"
   ]
  },
  {
   "cell_type": "markdown",
   "metadata": {},
   "source": [
    "###### Triweight kernel"
   ]
  },
  {
   "cell_type": "code",
   "execution_count": 121,
   "metadata": {
    "ExecuteTime": {
     "end_time": "2021-06-08T20:00:25.542013Z",
     "start_time": "2021-06-08T20:00:20.754478Z"
    }
   },
   "outputs": [],
   "source": [
    "formul = 'np.log(RENDA) ~ CUMPRIMENTO_TRIWEIGHT*OBRIGAÇÃO_FINAL_POR_SALA + DIAS_FUNCIONAMENTO + SALAS_COMPLEXO_INFERIDO + ASSENTOS_COMPLEXO_INFERIDO + C(ANO_CINEMATOGRAFICO)*C(MUN_COMPLEXO)'\n",
    "data = [tds_1719, est_1719, bras_1719]\n",
    "\n",
    "# all\n",
    "reg_w34 = smf.ols(formula = formul, data=data[0]).fit()\n",
    "\n",
    "# foreign\n",
    "reg_w35 = smf.ols(formula = formul, data=data[1]).fit()\n",
    "\n",
    "# Brazilian\n",
    "reg_w36 = smf.ols(formula = formul, data=data[2]).fit()"
   ]
  },
  {
   "cell_type": "code",
   "execution_count": 122,
   "metadata": {
    "ExecuteTime": {
     "end_time": "2021-06-08T20:00:26.118204Z",
     "start_time": "2021-06-08T20:00:25.544018Z"
    }
   },
   "outputs": [
    {
     "data": {
      "text/html": [
       "<div>\n",
       "<style scoped>\n",
       "    .dataframe tbody tr th:only-of-type {\n",
       "        vertical-align: middle;\n",
       "    }\n",
       "\n",
       "    .dataframe tbody tr th {\n",
       "        vertical-align: top;\n",
       "    }\n",
       "\n",
       "    .dataframe thead th {\n",
       "        text-align: right;\n",
       "    }\n",
       "</style>\n",
       "<table border=\"1\" class=\"dataframe\">\n",
       "  <thead>\n",
       "    <tr style=\"text-align: right;\">\n",
       "      <th></th>\n",
       "      <th>coef</th>\n",
       "      <th>std err</th>\n",
       "      <th>t</th>\n",
       "      <th>P&gt;|t|</th>\n",
       "    </tr>\n",
       "  </thead>\n",
       "  <tbody>\n",
       "    <tr>\n",
       "      <th>CUMPRIMENTO_TRIWEIGHT</th>\n",
       "      <td>1.3488</td>\n",
       "      <td>0.186000</td>\n",
       "      <td>7.232</td>\n",
       "      <td>0.0</td>\n",
       "    </tr>\n",
       "    <tr>\n",
       "      <th>OBRIGAÇÃO_FINAL_POR_SALA</th>\n",
       "      <td>0.0133</td>\n",
       "      <td>0.003000</td>\n",
       "      <td>4.406</td>\n",
       "      <td>0.0</td>\n",
       "    </tr>\n",
       "    <tr>\n",
       "      <th>CUMPRIMENTO_TRIWEIGHT:OBRIGAÇÃO_FINAL_POR_SALA</th>\n",
       "      <td>-0.0152</td>\n",
       "      <td>0.004000</td>\n",
       "      <td>-3.987</td>\n",
       "      <td>0.0</td>\n",
       "    </tr>\n",
       "    <tr>\n",
       "      <th>DIAS_FUNCIONAMENTO</th>\n",
       "      <td>0.0094</td>\n",
       "      <td>0.000000</td>\n",
       "      <td>31.632</td>\n",
       "      <td>0.0</td>\n",
       "    </tr>\n",
       "    <tr>\n",
       "      <th>SALAS_COMPLEXO_INFERIDO</th>\n",
       "      <td>0.2128</td>\n",
       "      <td>0.017000</td>\n",
       "      <td>12.506</td>\n",
       "      <td>0.0</td>\n",
       "    </tr>\n",
       "    <tr>\n",
       "      <th>ASSENTOS_COMPLEXO_INFERIDO</th>\n",
       "      <td>0.0004</td>\n",
       "      <td>0.000064</td>\n",
       "      <td>6.505</td>\n",
       "      <td>0.0</td>\n",
       "    </tr>\n",
       "  </tbody>\n",
       "</table>\n",
       "</div>"
      ],
      "text/plain": [
       "                                                  coef   std err       t  \\\n",
       "CUMPRIMENTO_TRIWEIGHT                           1.3488  0.186000   7.232   \n",
       "OBRIGAÇÃO_FINAL_POR_SALA                        0.0133  0.003000   4.406   \n",
       "CUMPRIMENTO_TRIWEIGHT:OBRIGAÇÃO_FINAL_POR_SALA -0.0152  0.004000  -3.987   \n",
       "DIAS_FUNCIONAMENTO                              0.0094  0.000000  31.632   \n",
       "SALAS_COMPLEXO_INFERIDO                         0.2128  0.017000  12.506   \n",
       "ASSENTOS_COMPLEXO_INFERIDO                      0.0004  0.000064   6.505   \n",
       "\n",
       "                                                P>|t|  \n",
       "CUMPRIMENTO_TRIWEIGHT                             0.0  \n",
       "OBRIGAÇÃO_FINAL_POR_SALA                          0.0  \n",
       "CUMPRIMENTO_TRIWEIGHT:OBRIGAÇÃO_FINAL_POR_SALA    0.0  \n",
       "DIAS_FUNCIONAMENTO                                0.0  \n",
       "SALAS_COMPLEXO_INFERIDO                           0.0  \n",
       "ASSENTOS_COMPLEXO_INFERIDO                        0.0  "
      ]
     },
     "execution_count": 122,
     "metadata": {},
     "output_type": "execute_result"
    }
   ],
   "source": [
    "pd.read_html(reg_w34.summary().tables[1].as_html(),header=0,index_col=0)[0].iloc[-6:,:-2]"
   ]
  },
  {
   "cell_type": "code",
   "execution_count": 123,
   "metadata": {
    "ExecuteTime": {
     "end_time": "2021-06-08T20:00:26.746827Z",
     "start_time": "2021-06-08T20:00:26.120713Z"
    }
   },
   "outputs": [
    {
     "data": {
      "text/html": [
       "<div>\n",
       "<style scoped>\n",
       "    .dataframe tbody tr th:only-of-type {\n",
       "        vertical-align: middle;\n",
       "    }\n",
       "\n",
       "    .dataframe tbody tr th {\n",
       "        vertical-align: top;\n",
       "    }\n",
       "\n",
       "    .dataframe thead th {\n",
       "        text-align: right;\n",
       "    }\n",
       "</style>\n",
       "<table border=\"1\" class=\"dataframe\">\n",
       "  <thead>\n",
       "    <tr style=\"text-align: right;\">\n",
       "      <th></th>\n",
       "      <th>coef</th>\n",
       "      <th>std err</th>\n",
       "      <th>t</th>\n",
       "      <th>P&gt;|t|</th>\n",
       "    </tr>\n",
       "  </thead>\n",
       "  <tbody>\n",
       "    <tr>\n",
       "      <th>CUMPRIMENTO_TRIWEIGHT</th>\n",
       "      <td>1.4078</td>\n",
       "      <td>0.201000</td>\n",
       "      <td>6.996</td>\n",
       "      <td>0.000</td>\n",
       "    </tr>\n",
       "    <tr>\n",
       "      <th>OBRIGAÇÃO_FINAL_POR_SALA</th>\n",
       "      <td>0.0113</td>\n",
       "      <td>0.003000</td>\n",
       "      <td>3.466</td>\n",
       "      <td>0.001</td>\n",
       "    </tr>\n",
       "    <tr>\n",
       "      <th>CUMPRIMENTO_TRIWEIGHT:OBRIGAÇÃO_FINAL_POR_SALA</th>\n",
       "      <td>-0.0169</td>\n",
       "      <td>0.004000</td>\n",
       "      <td>-4.141</td>\n",
       "      <td>0.000</td>\n",
       "    </tr>\n",
       "    <tr>\n",
       "      <th>DIAS_FUNCIONAMENTO</th>\n",
       "      <td>0.0106</td>\n",
       "      <td>0.000000</td>\n",
       "      <td>34.444</td>\n",
       "      <td>0.000</td>\n",
       "    </tr>\n",
       "    <tr>\n",
       "      <th>SALAS_COMPLEXO_INFERIDO</th>\n",
       "      <td>0.2143</td>\n",
       "      <td>0.018000</td>\n",
       "      <td>11.803</td>\n",
       "      <td>0.000</td>\n",
       "    </tr>\n",
       "    <tr>\n",
       "      <th>ASSENTOS_COMPLEXO_INFERIDO</th>\n",
       "      <td>0.0004</td>\n",
       "      <td>0.000068</td>\n",
       "      <td>6.158</td>\n",
       "      <td>0.000</td>\n",
       "    </tr>\n",
       "  </tbody>\n",
       "</table>\n",
       "</div>"
      ],
      "text/plain": [
       "                                                  coef   std err       t  \\\n",
       "CUMPRIMENTO_TRIWEIGHT                           1.4078  0.201000   6.996   \n",
       "OBRIGAÇÃO_FINAL_POR_SALA                        0.0113  0.003000   3.466   \n",
       "CUMPRIMENTO_TRIWEIGHT:OBRIGAÇÃO_FINAL_POR_SALA -0.0169  0.004000  -4.141   \n",
       "DIAS_FUNCIONAMENTO                              0.0106  0.000000  34.444   \n",
       "SALAS_COMPLEXO_INFERIDO                         0.2143  0.018000  11.803   \n",
       "ASSENTOS_COMPLEXO_INFERIDO                      0.0004  0.000068   6.158   \n",
       "\n",
       "                                                P>|t|  \n",
       "CUMPRIMENTO_TRIWEIGHT                           0.000  \n",
       "OBRIGAÇÃO_FINAL_POR_SALA                        0.001  \n",
       "CUMPRIMENTO_TRIWEIGHT:OBRIGAÇÃO_FINAL_POR_SALA  0.000  \n",
       "DIAS_FUNCIONAMENTO                              0.000  \n",
       "SALAS_COMPLEXO_INFERIDO                         0.000  \n",
       "ASSENTOS_COMPLEXO_INFERIDO                      0.000  "
      ]
     },
     "execution_count": 123,
     "metadata": {},
     "output_type": "execute_result"
    }
   ],
   "source": [
    "pd.read_html(reg_w35.summary().tables[1].as_html(),header=0,index_col=0)[0].iloc[-6:,:-2]"
   ]
  },
  {
   "cell_type": "code",
   "execution_count": 124,
   "metadata": {
    "ExecuteTime": {
     "end_time": "2021-06-08T20:00:27.307687Z",
     "start_time": "2021-06-08T20:00:26.749838Z"
    },
    "scrolled": true
   },
   "outputs": [
    {
     "data": {
      "text/html": [
       "<div>\n",
       "<style scoped>\n",
       "    .dataframe tbody tr th:only-of-type {\n",
       "        vertical-align: middle;\n",
       "    }\n",
       "\n",
       "    .dataframe tbody tr th {\n",
       "        vertical-align: top;\n",
       "    }\n",
       "\n",
       "    .dataframe thead th {\n",
       "        text-align: right;\n",
       "    }\n",
       "</style>\n",
       "<table border=\"1\" class=\"dataframe\">\n",
       "  <thead>\n",
       "    <tr style=\"text-align: right;\">\n",
       "      <th></th>\n",
       "      <th>coef</th>\n",
       "      <th>std err</th>\n",
       "      <th>t</th>\n",
       "      <th>P&gt;|t|</th>\n",
       "    </tr>\n",
       "  </thead>\n",
       "  <tbody>\n",
       "    <tr>\n",
       "      <th>CUMPRIMENTO_TRIWEIGHT</th>\n",
       "      <td>1.5243</td>\n",
       "      <td>0.215000</td>\n",
       "      <td>7.104</td>\n",
       "      <td>0.000</td>\n",
       "    </tr>\n",
       "    <tr>\n",
       "      <th>OBRIGAÇÃO_FINAL_POR_SALA</th>\n",
       "      <td>0.0247</td>\n",
       "      <td>0.003000</td>\n",
       "      <td>7.390</td>\n",
       "      <td>0.000</td>\n",
       "    </tr>\n",
       "    <tr>\n",
       "      <th>CUMPRIMENTO_TRIWEIGHT:OBRIGAÇÃO_FINAL_POR_SALA</th>\n",
       "      <td>-0.0216</td>\n",
       "      <td>0.004000</td>\n",
       "      <td>-4.832</td>\n",
       "      <td>0.000</td>\n",
       "    </tr>\n",
       "    <tr>\n",
       "      <th>DIAS_FUNCIONAMENTO</th>\n",
       "      <td>0.0081</td>\n",
       "      <td>0.000000</td>\n",
       "      <td>21.187</td>\n",
       "      <td>0.000</td>\n",
       "    </tr>\n",
       "    <tr>\n",
       "      <th>SALAS_COMPLEXO_INFERIDO</th>\n",
       "      <td>0.0426</td>\n",
       "      <td>0.020000</td>\n",
       "      <td>2.079</td>\n",
       "      <td>0.038</td>\n",
       "    </tr>\n",
       "    <tr>\n",
       "      <th>ASSENTOS_COMPLEXO_INFERIDO</th>\n",
       "      <td>0.0005</td>\n",
       "      <td>0.000073</td>\n",
       "      <td>7.444</td>\n",
       "      <td>0.000</td>\n",
       "    </tr>\n",
       "  </tbody>\n",
       "</table>\n",
       "</div>"
      ],
      "text/plain": [
       "                                                  coef   std err       t  \\\n",
       "CUMPRIMENTO_TRIWEIGHT                           1.5243  0.215000   7.104   \n",
       "OBRIGAÇÃO_FINAL_POR_SALA                        0.0247  0.003000   7.390   \n",
       "CUMPRIMENTO_TRIWEIGHT:OBRIGAÇÃO_FINAL_POR_SALA -0.0216  0.004000  -4.832   \n",
       "DIAS_FUNCIONAMENTO                              0.0081  0.000000  21.187   \n",
       "SALAS_COMPLEXO_INFERIDO                         0.0426  0.020000   2.079   \n",
       "ASSENTOS_COMPLEXO_INFERIDO                      0.0005  0.000073   7.444   \n",
       "\n",
       "                                                P>|t|  \n",
       "CUMPRIMENTO_TRIWEIGHT                           0.000  \n",
       "OBRIGAÇÃO_FINAL_POR_SALA                        0.000  \n",
       "CUMPRIMENTO_TRIWEIGHT:OBRIGAÇÃO_FINAL_POR_SALA  0.000  \n",
       "DIAS_FUNCIONAMENTO                              0.000  \n",
       "SALAS_COMPLEXO_INFERIDO                         0.038  \n",
       "ASSENTOS_COMPLEXO_INFERIDO                      0.000  "
      ]
     },
     "execution_count": 124,
     "metadata": {},
     "output_type": "execute_result"
    }
   ],
   "source": [
    "pd.read_html(reg_w36.summary().tables[1].as_html(),header=0,index_col=0)[0].iloc[-6:,:-2]"
   ]
  },
  {
   "cell_type": "markdown",
   "metadata": {},
   "source": [
    "##### 2017-2018"
   ]
  },
  {
   "cell_type": "markdown",
   "metadata": {},
   "source": [
    "###### Quadratic kernel"
   ]
  },
  {
   "cell_type": "code",
   "execution_count": 125,
   "metadata": {
    "ExecuteTime": {
     "end_time": "2021-06-08T20:04:53.141455Z",
     "start_time": "2021-06-08T20:04:52.053932Z"
    }
   },
   "outputs": [],
   "source": [
    "formul = 'np.log(RENDA) ~ CUMPRIMENTO_PROP_TRUNCADO*OBRIGAÇÃO_FINAL_POR_SALA + DIAS_FUNCIONAMENTO + SALAS_COMPLEXO_INFERIDO + ASSENTOS_COMPLEXO_INFERIDO + C(ANO_CINEMATOGRAFICO)*C(MUN_COMPLEXO)'\n",
    "data = [tds_1718, est_1718, bras_1718]\n",
    "\n",
    "# all\n",
    "reg_w36 = smf.ols(formula = formul, data=data[0]).fit()\n",
    "\n",
    "# foreign\n",
    "reg_w37 = smf.ols(formula = formul, data=data[1]).fit()\n",
    "\n",
    "# Brazilian\n",
    "reg_w38 = smf.ols(formula = formul, data=data[2]).fit()"
   ]
  },
  {
   "cell_type": "code",
   "execution_count": 126,
   "metadata": {
    "ExecuteTime": {
     "end_time": "2021-06-08T20:04:53.513539Z",
     "start_time": "2021-06-08T20:04:53.143460Z"
    }
   },
   "outputs": [
    {
     "data": {
      "text/html": [
       "<div>\n",
       "<style scoped>\n",
       "    .dataframe tbody tr th:only-of-type {\n",
       "        vertical-align: middle;\n",
       "    }\n",
       "\n",
       "    .dataframe tbody tr th {\n",
       "        vertical-align: top;\n",
       "    }\n",
       "\n",
       "    .dataframe thead th {\n",
       "        text-align: right;\n",
       "    }\n",
       "</style>\n",
       "<table border=\"1\" class=\"dataframe\">\n",
       "  <thead>\n",
       "    <tr style=\"text-align: right;\">\n",
       "      <th></th>\n",
       "      <th>coef</th>\n",
       "      <th>std err</th>\n",
       "      <th>t</th>\n",
       "      <th>P&gt;|t|</th>\n",
       "    </tr>\n",
       "  </thead>\n",
       "  <tbody>\n",
       "    <tr>\n",
       "      <th>CUMPRIMENTO_PROP_TRUNCADO</th>\n",
       "      <td>1.1182</td>\n",
       "      <td>0.198000</td>\n",
       "      <td>5.639</td>\n",
       "      <td>0.000</td>\n",
       "    </tr>\n",
       "    <tr>\n",
       "      <th>OBRIGAÇÃO_FINAL_POR_SALA</th>\n",
       "      <td>0.0096</td>\n",
       "      <td>0.004000</td>\n",
       "      <td>2.168</td>\n",
       "      <td>0.030</td>\n",
       "    </tr>\n",
       "    <tr>\n",
       "      <th>CUMPRIMENTO_PROP_TRUNCADO:OBRIGAÇÃO_FINAL_POR_SALA</th>\n",
       "      <td>-0.0021</td>\n",
       "      <td>0.005000</td>\n",
       "      <td>-0.422</td>\n",
       "      <td>0.673</td>\n",
       "    </tr>\n",
       "    <tr>\n",
       "      <th>DIAS_FUNCIONAMENTO</th>\n",
       "      <td>0.0078</td>\n",
       "      <td>0.000000</td>\n",
       "      <td>16.762</td>\n",
       "      <td>0.000</td>\n",
       "    </tr>\n",
       "    <tr>\n",
       "      <th>SALAS_COMPLEXO_INFERIDO</th>\n",
       "      <td>0.1861</td>\n",
       "      <td>0.021000</td>\n",
       "      <td>8.711</td>\n",
       "      <td>0.000</td>\n",
       "    </tr>\n",
       "    <tr>\n",
       "      <th>ASSENTOS_COMPLEXO_INFERIDO</th>\n",
       "      <td>0.0004</td>\n",
       "      <td>0.000078</td>\n",
       "      <td>5.444</td>\n",
       "      <td>0.000</td>\n",
       "    </tr>\n",
       "  </tbody>\n",
       "</table>\n",
       "</div>"
      ],
      "text/plain": [
       "                                                      coef   std err       t  \\\n",
       "CUMPRIMENTO_PROP_TRUNCADO                           1.1182  0.198000   5.639   \n",
       "OBRIGAÇÃO_FINAL_POR_SALA                            0.0096  0.004000   2.168   \n",
       "CUMPRIMENTO_PROP_TRUNCADO:OBRIGAÇÃO_FINAL_POR_SALA -0.0021  0.005000  -0.422   \n",
       "DIAS_FUNCIONAMENTO                                  0.0078  0.000000  16.762   \n",
       "SALAS_COMPLEXO_INFERIDO                             0.1861  0.021000   8.711   \n",
       "ASSENTOS_COMPLEXO_INFERIDO                          0.0004  0.000078   5.444   \n",
       "\n",
       "                                                    P>|t|  \n",
       "CUMPRIMENTO_PROP_TRUNCADO                           0.000  \n",
       "OBRIGAÇÃO_FINAL_POR_SALA                            0.030  \n",
       "CUMPRIMENTO_PROP_TRUNCADO:OBRIGAÇÃO_FINAL_POR_SALA  0.673  \n",
       "DIAS_FUNCIONAMENTO                                  0.000  \n",
       "SALAS_COMPLEXO_INFERIDO                             0.000  \n",
       "ASSENTOS_COMPLEXO_INFERIDO                          0.000  "
      ]
     },
     "execution_count": 126,
     "metadata": {},
     "output_type": "execute_result"
    }
   ],
   "source": [
    "pd.read_html(reg_w36.summary().tables[1].as_html(),header=0,index_col=0)[0].iloc[-6:,:-2]"
   ]
  },
  {
   "cell_type": "code",
   "execution_count": 127,
   "metadata": {
    "ExecuteTime": {
     "end_time": "2021-06-08T20:04:53.948348Z",
     "start_time": "2021-06-08T20:04:53.515545Z"
    }
   },
   "outputs": [
    {
     "data": {
      "text/html": [
       "<div>\n",
       "<style scoped>\n",
       "    .dataframe tbody tr th:only-of-type {\n",
       "        vertical-align: middle;\n",
       "    }\n",
       "\n",
       "    .dataframe tbody tr th {\n",
       "        vertical-align: top;\n",
       "    }\n",
       "\n",
       "    .dataframe thead th {\n",
       "        text-align: right;\n",
       "    }\n",
       "</style>\n",
       "<table border=\"1\" class=\"dataframe\">\n",
       "  <thead>\n",
       "    <tr style=\"text-align: right;\">\n",
       "      <th></th>\n",
       "      <th>coef</th>\n",
       "      <th>std err</th>\n",
       "      <th>t</th>\n",
       "      <th>P&gt;|t|</th>\n",
       "    </tr>\n",
       "  </thead>\n",
       "  <tbody>\n",
       "    <tr>\n",
       "      <th>CUMPRIMENTO_PROP_TRUNCADO</th>\n",
       "      <td>1.1997</td>\n",
       "      <td>0.214000</td>\n",
       "      <td>5.606</td>\n",
       "      <td>0.000</td>\n",
       "    </tr>\n",
       "    <tr>\n",
       "      <th>OBRIGAÇÃO_FINAL_POR_SALA</th>\n",
       "      <td>0.0080</td>\n",
       "      <td>0.005000</td>\n",
       "      <td>1.683</td>\n",
       "      <td>0.093</td>\n",
       "    </tr>\n",
       "    <tr>\n",
       "      <th>CUMPRIMENTO_PROP_TRUNCADO:OBRIGAÇÃO_FINAL_POR_SALA</th>\n",
       "      <td>-0.0046</td>\n",
       "      <td>0.005000</td>\n",
       "      <td>-0.865</td>\n",
       "      <td>0.387</td>\n",
       "    </tr>\n",
       "    <tr>\n",
       "      <th>DIAS_FUNCIONAMENTO</th>\n",
       "      <td>0.0092</td>\n",
       "      <td>0.000000</td>\n",
       "      <td>19.020</td>\n",
       "      <td>0.000</td>\n",
       "    </tr>\n",
       "    <tr>\n",
       "      <th>SALAS_COMPLEXO_INFERIDO</th>\n",
       "      <td>0.1905</td>\n",
       "      <td>0.023000</td>\n",
       "      <td>8.442</td>\n",
       "      <td>0.000</td>\n",
       "    </tr>\n",
       "    <tr>\n",
       "      <th>ASSENTOS_COMPLEXO_INFERIDO</th>\n",
       "      <td>0.0004</td>\n",
       "      <td>0.000083</td>\n",
       "      <td>5.271</td>\n",
       "      <td>0.000</td>\n",
       "    </tr>\n",
       "  </tbody>\n",
       "</table>\n",
       "</div>"
      ],
      "text/plain": [
       "                                                      coef   std err       t  \\\n",
       "CUMPRIMENTO_PROP_TRUNCADO                           1.1997  0.214000   5.606   \n",
       "OBRIGAÇÃO_FINAL_POR_SALA                            0.0080  0.005000   1.683   \n",
       "CUMPRIMENTO_PROP_TRUNCADO:OBRIGAÇÃO_FINAL_POR_SALA -0.0046  0.005000  -0.865   \n",
       "DIAS_FUNCIONAMENTO                                  0.0092  0.000000  19.020   \n",
       "SALAS_COMPLEXO_INFERIDO                             0.1905  0.023000   8.442   \n",
       "ASSENTOS_COMPLEXO_INFERIDO                          0.0004  0.000083   5.271   \n",
       "\n",
       "                                                    P>|t|  \n",
       "CUMPRIMENTO_PROP_TRUNCADO                           0.000  \n",
       "OBRIGAÇÃO_FINAL_POR_SALA                            0.093  \n",
       "CUMPRIMENTO_PROP_TRUNCADO:OBRIGAÇÃO_FINAL_POR_SALA  0.387  \n",
       "DIAS_FUNCIONAMENTO                                  0.000  \n",
       "SALAS_COMPLEXO_INFERIDO                             0.000  \n",
       "ASSENTOS_COMPLEXO_INFERIDO                          0.000  "
      ]
     },
     "execution_count": 127,
     "metadata": {},
     "output_type": "execute_result"
    }
   ],
   "source": [
    "pd.read_html(reg_w37.summary().tables[1].as_html(),header=0,index_col=0)[0].iloc[-6:,:-2]"
   ]
  },
  {
   "cell_type": "code",
   "execution_count": 128,
   "metadata": {
    "ExecuteTime": {
     "end_time": "2021-06-08T20:04:54.316937Z",
     "start_time": "2021-06-08T20:04:53.950354Z"
    }
   },
   "outputs": [
    {
     "data": {
      "text/html": [
       "<div>\n",
       "<style scoped>\n",
       "    .dataframe tbody tr th:only-of-type {\n",
       "        vertical-align: middle;\n",
       "    }\n",
       "\n",
       "    .dataframe tbody tr th {\n",
       "        vertical-align: top;\n",
       "    }\n",
       "\n",
       "    .dataframe thead th {\n",
       "        text-align: right;\n",
       "    }\n",
       "</style>\n",
       "<table border=\"1\" class=\"dataframe\">\n",
       "  <thead>\n",
       "    <tr style=\"text-align: right;\">\n",
       "      <th></th>\n",
       "      <th>coef</th>\n",
       "      <th>std err</th>\n",
       "      <th>t</th>\n",
       "      <th>P&gt;|t|</th>\n",
       "    </tr>\n",
       "  </thead>\n",
       "  <tbody>\n",
       "    <tr>\n",
       "      <th>CUMPRIMENTO_PROP_TRUNCADO</th>\n",
       "      <td>0.9521</td>\n",
       "      <td>0.242000</td>\n",
       "      <td>3.934</td>\n",
       "      <td>0.000</td>\n",
       "    </tr>\n",
       "    <tr>\n",
       "      <th>OBRIGAÇÃO_FINAL_POR_SALA</th>\n",
       "      <td>0.0160</td>\n",
       "      <td>0.005000</td>\n",
       "      <td>3.143</td>\n",
       "      <td>0.002</td>\n",
       "    </tr>\n",
       "    <tr>\n",
       "      <th>CUMPRIMENTO_PROP_TRUNCADO:OBRIGAÇÃO_FINAL_POR_SALA</th>\n",
       "      <td>-0.0010</td>\n",
       "      <td>0.006000</td>\n",
       "      <td>-0.149</td>\n",
       "      <td>0.882</td>\n",
       "    </tr>\n",
       "    <tr>\n",
       "      <th>DIAS_FUNCIONAMENTO</th>\n",
       "      <td>0.0066</td>\n",
       "      <td>0.001000</td>\n",
       "      <td>11.503</td>\n",
       "      <td>0.000</td>\n",
       "    </tr>\n",
       "    <tr>\n",
       "      <th>SALAS_COMPLEXO_INFERIDO</th>\n",
       "      <td>0.0419</td>\n",
       "      <td>0.027000</td>\n",
       "      <td>1.557</td>\n",
       "      <td>0.120</td>\n",
       "    </tr>\n",
       "    <tr>\n",
       "      <th>ASSENTOS_COMPLEXO_INFERIDO</th>\n",
       "      <td>0.0005</td>\n",
       "      <td>0.000093</td>\n",
       "      <td>5.639</td>\n",
       "      <td>0.000</td>\n",
       "    </tr>\n",
       "  </tbody>\n",
       "</table>\n",
       "</div>"
      ],
      "text/plain": [
       "                                                      coef   std err       t  \\\n",
       "CUMPRIMENTO_PROP_TRUNCADO                           0.9521  0.242000   3.934   \n",
       "OBRIGAÇÃO_FINAL_POR_SALA                            0.0160  0.005000   3.143   \n",
       "CUMPRIMENTO_PROP_TRUNCADO:OBRIGAÇÃO_FINAL_POR_SALA -0.0010  0.006000  -0.149   \n",
       "DIAS_FUNCIONAMENTO                                  0.0066  0.001000  11.503   \n",
       "SALAS_COMPLEXO_INFERIDO                             0.0419  0.027000   1.557   \n",
       "ASSENTOS_COMPLEXO_INFERIDO                          0.0005  0.000093   5.639   \n",
       "\n",
       "                                                    P>|t|  \n",
       "CUMPRIMENTO_PROP_TRUNCADO                           0.000  \n",
       "OBRIGAÇÃO_FINAL_POR_SALA                            0.002  \n",
       "CUMPRIMENTO_PROP_TRUNCADO:OBRIGAÇÃO_FINAL_POR_SALA  0.882  \n",
       "DIAS_FUNCIONAMENTO                                  0.000  \n",
       "SALAS_COMPLEXO_INFERIDO                             0.120  \n",
       "ASSENTOS_COMPLEXO_INFERIDO                          0.000  "
      ]
     },
     "execution_count": 128,
     "metadata": {},
     "output_type": "execute_result"
    }
   ],
   "source": [
    "pd.read_html(reg_w38.summary().tables[1].as_html(),header=0,index_col=0)[0].iloc[-6:,:-2]"
   ]
  },
  {
   "cell_type": "markdown",
   "metadata": {},
   "source": [
    "###### Normal pdf kernel"
   ]
  },
  {
   "cell_type": "code",
   "execution_count": 129,
   "metadata": {
    "ExecuteTime": {
     "end_time": "2021-06-08T20:05:15.811842Z",
     "start_time": "2021-06-08T20:05:14.513277Z"
    }
   },
   "outputs": [],
   "source": [
    "formul = 'np.log(RENDA) ~ CUMPRIMENTO_NORMALIZADO*OBRIGAÇÃO_FINAL_POR_SALA + DIAS_FUNCIONAMENTO + SALAS_COMPLEXO_INFERIDO + ASSENTOS_COMPLEXO_INFERIDO + C(ANO_CINEMATOGRAFICO)*C(MUN_COMPLEXO)'\n",
    "data = [tds_1718, est_1718, bras_1718]\n",
    "\n",
    "# all\n",
    "reg_w39 = smf.ols(formula = formul, data=data[0]).fit()\n",
    "\n",
    "# foreign\n",
    "reg_w40 = smf.ols(formula = formul, data=data[1]).fit()\n",
    "\n",
    "# Brazilian\n",
    "reg_w41 = smf.ols(formula = formul, data=data[2]).fit()"
   ]
  },
  {
   "cell_type": "code",
   "execution_count": 130,
   "metadata": {
    "ExecuteTime": {
     "end_time": "2021-06-08T20:05:16.200230Z",
     "start_time": "2021-06-08T20:05:15.813848Z"
    }
   },
   "outputs": [
    {
     "data": {
      "text/html": [
       "<div>\n",
       "<style scoped>\n",
       "    .dataframe tbody tr th:only-of-type {\n",
       "        vertical-align: middle;\n",
       "    }\n",
       "\n",
       "    .dataframe tbody tr th {\n",
       "        vertical-align: top;\n",
       "    }\n",
       "\n",
       "    .dataframe thead th {\n",
       "        text-align: right;\n",
       "    }\n",
       "</style>\n",
       "<table border=\"1\" class=\"dataframe\">\n",
       "  <thead>\n",
       "    <tr style=\"text-align: right;\">\n",
       "      <th></th>\n",
       "      <th>coef</th>\n",
       "      <th>std err</th>\n",
       "      <th>t</th>\n",
       "      <th>P&gt;|t|</th>\n",
       "    </tr>\n",
       "  </thead>\n",
       "  <tbody>\n",
       "    <tr>\n",
       "      <th>CUMPRIMENTO_NORMALIZADO</th>\n",
       "      <td>1.6074</td>\n",
       "      <td>0.204000</td>\n",
       "      <td>7.890</td>\n",
       "      <td>0.000</td>\n",
       "    </tr>\n",
       "    <tr>\n",
       "      <th>OBRIGAÇÃO_FINAL_POR_SALA</th>\n",
       "      <td>0.0176</td>\n",
       "      <td>0.003000</td>\n",
       "      <td>5.060</td>\n",
       "      <td>0.000</td>\n",
       "    </tr>\n",
       "    <tr>\n",
       "      <th>CUMPRIMENTO_NORMALIZADO:OBRIGAÇÃO_FINAL_POR_SALA</th>\n",
       "      <td>-0.0141</td>\n",
       "      <td>0.004000</td>\n",
       "      <td>-3.308</td>\n",
       "      <td>0.001</td>\n",
       "    </tr>\n",
       "    <tr>\n",
       "      <th>DIAS_FUNCIONAMENTO</th>\n",
       "      <td>0.0078</td>\n",
       "      <td>0.000000</td>\n",
       "      <td>16.894</td>\n",
       "      <td>0.000</td>\n",
       "    </tr>\n",
       "    <tr>\n",
       "      <th>SALAS_COMPLEXO_INFERIDO</th>\n",
       "      <td>0.1816</td>\n",
       "      <td>0.021000</td>\n",
       "      <td>8.616</td>\n",
       "      <td>0.000</td>\n",
       "    </tr>\n",
       "    <tr>\n",
       "      <th>ASSENTOS_COMPLEXO_INFERIDO</th>\n",
       "      <td>0.0004</td>\n",
       "      <td>0.000077</td>\n",
       "      <td>5.528</td>\n",
       "      <td>0.000</td>\n",
       "    </tr>\n",
       "  </tbody>\n",
       "</table>\n",
       "</div>"
      ],
      "text/plain": [
       "                                                    coef   std err       t  \\\n",
       "CUMPRIMENTO_NORMALIZADO                           1.6074  0.204000   7.890   \n",
       "OBRIGAÇÃO_FINAL_POR_SALA                          0.0176  0.003000   5.060   \n",
       "CUMPRIMENTO_NORMALIZADO:OBRIGAÇÃO_FINAL_POR_SALA -0.0141  0.004000  -3.308   \n",
       "DIAS_FUNCIONAMENTO                                0.0078  0.000000  16.894   \n",
       "SALAS_COMPLEXO_INFERIDO                           0.1816  0.021000   8.616   \n",
       "ASSENTOS_COMPLEXO_INFERIDO                        0.0004  0.000077   5.528   \n",
       "\n",
       "                                                  P>|t|  \n",
       "CUMPRIMENTO_NORMALIZADO                           0.000  \n",
       "OBRIGAÇÃO_FINAL_POR_SALA                          0.000  \n",
       "CUMPRIMENTO_NORMALIZADO:OBRIGAÇÃO_FINAL_POR_SALA  0.001  \n",
       "DIAS_FUNCIONAMENTO                                0.000  \n",
       "SALAS_COMPLEXO_INFERIDO                           0.000  \n",
       "ASSENTOS_COMPLEXO_INFERIDO                        0.000  "
      ]
     },
     "execution_count": 130,
     "metadata": {},
     "output_type": "execute_result"
    }
   ],
   "source": [
    "pd.read_html(reg_w39.summary().tables[1].as_html(),header=0,index_col=0)[0].iloc[-6:,:-2]"
   ]
  },
  {
   "cell_type": "code",
   "execution_count": 131,
   "metadata": {
    "ExecuteTime": {
     "end_time": "2021-06-08T20:05:16.638473Z",
     "start_time": "2021-06-08T20:05:16.202204Z"
    }
   },
   "outputs": [
    {
     "data": {
      "text/html": [
       "<div>\n",
       "<style scoped>\n",
       "    .dataframe tbody tr th:only-of-type {\n",
       "        vertical-align: middle;\n",
       "    }\n",
       "\n",
       "    .dataframe tbody tr th {\n",
       "        vertical-align: top;\n",
       "    }\n",
       "\n",
       "    .dataframe thead th {\n",
       "        text-align: right;\n",
       "    }\n",
       "</style>\n",
       "<table border=\"1\" class=\"dataframe\">\n",
       "  <thead>\n",
       "    <tr style=\"text-align: right;\">\n",
       "      <th></th>\n",
       "      <th>coef</th>\n",
       "      <th>std err</th>\n",
       "      <th>t</th>\n",
       "      <th>P&gt;|t|</th>\n",
       "    </tr>\n",
       "  </thead>\n",
       "  <tbody>\n",
       "    <tr>\n",
       "      <th>CUMPRIMENTO_NORMALIZADO</th>\n",
       "      <td>1.6744</td>\n",
       "      <td>0.220000</td>\n",
       "      <td>7.622</td>\n",
       "      <td>0.0</td>\n",
       "    </tr>\n",
       "    <tr>\n",
       "      <th>OBRIGAÇÃO_FINAL_POR_SALA</th>\n",
       "      <td>0.0153</td>\n",
       "      <td>0.004000</td>\n",
       "      <td>4.093</td>\n",
       "      <td>0.0</td>\n",
       "    </tr>\n",
       "    <tr>\n",
       "      <th>CUMPRIMENTO_NORMALIZADO:OBRIGAÇÃO_FINAL_POR_SALA</th>\n",
       "      <td>-0.0161</td>\n",
       "      <td>0.005000</td>\n",
       "      <td>-3.538</td>\n",
       "      <td>0.0</td>\n",
       "    </tr>\n",
       "    <tr>\n",
       "      <th>DIAS_FUNCIONAMENTO</th>\n",
       "      <td>0.0091</td>\n",
       "      <td>0.000000</td>\n",
       "      <td>19.342</td>\n",
       "      <td>0.0</td>\n",
       "    </tr>\n",
       "    <tr>\n",
       "      <th>SALAS_COMPLEXO_INFERIDO</th>\n",
       "      <td>0.1861</td>\n",
       "      <td>0.022000</td>\n",
       "      <td>8.345</td>\n",
       "      <td>0.0</td>\n",
       "    </tr>\n",
       "    <tr>\n",
       "      <th>ASSENTOS_COMPLEXO_INFERIDO</th>\n",
       "      <td>0.0004</td>\n",
       "      <td>0.000082</td>\n",
       "      <td>5.344</td>\n",
       "      <td>0.0</td>\n",
       "    </tr>\n",
       "  </tbody>\n",
       "</table>\n",
       "</div>"
      ],
      "text/plain": [
       "                                                    coef   std err       t  \\\n",
       "CUMPRIMENTO_NORMALIZADO                           1.6744  0.220000   7.622   \n",
       "OBRIGAÇÃO_FINAL_POR_SALA                          0.0153  0.004000   4.093   \n",
       "CUMPRIMENTO_NORMALIZADO:OBRIGAÇÃO_FINAL_POR_SALA -0.0161  0.005000  -3.538   \n",
       "DIAS_FUNCIONAMENTO                                0.0091  0.000000  19.342   \n",
       "SALAS_COMPLEXO_INFERIDO                           0.1861  0.022000   8.345   \n",
       "ASSENTOS_COMPLEXO_INFERIDO                        0.0004  0.000082   5.344   \n",
       "\n",
       "                                                  P>|t|  \n",
       "CUMPRIMENTO_NORMALIZADO                             0.0  \n",
       "OBRIGAÇÃO_FINAL_POR_SALA                            0.0  \n",
       "CUMPRIMENTO_NORMALIZADO:OBRIGAÇÃO_FINAL_POR_SALA    0.0  \n",
       "DIAS_FUNCIONAMENTO                                  0.0  \n",
       "SALAS_COMPLEXO_INFERIDO                             0.0  \n",
       "ASSENTOS_COMPLEXO_INFERIDO                          0.0  "
      ]
     },
     "execution_count": 131,
     "metadata": {},
     "output_type": "execute_result"
    }
   ],
   "source": [
    "pd.read_html(reg_w40.summary().tables[1].as_html(),header=0,index_col=0)[0].iloc[-6:,:-2]"
   ]
  },
  {
   "cell_type": "code",
   "execution_count": 132,
   "metadata": {
    "ExecuteTime": {
     "end_time": "2021-06-08T20:05:17.006520Z",
     "start_time": "2021-06-08T20:05:16.640478Z"
    }
   },
   "outputs": [
    {
     "data": {
      "text/html": [
       "<div>\n",
       "<style scoped>\n",
       "    .dataframe tbody tr th:only-of-type {\n",
       "        vertical-align: middle;\n",
       "    }\n",
       "\n",
       "    .dataframe tbody tr th {\n",
       "        vertical-align: top;\n",
       "    }\n",
       "\n",
       "    .dataframe thead th {\n",
       "        text-align: right;\n",
       "    }\n",
       "</style>\n",
       "<table border=\"1\" class=\"dataframe\">\n",
       "  <thead>\n",
       "    <tr style=\"text-align: right;\">\n",
       "      <th></th>\n",
       "      <th>coef</th>\n",
       "      <th>std err</th>\n",
       "      <th>t</th>\n",
       "      <th>P&gt;|t|</th>\n",
       "    </tr>\n",
       "  </thead>\n",
       "  <tbody>\n",
       "    <tr>\n",
       "      <th>CUMPRIMENTO_NORMALIZADO</th>\n",
       "      <td>1.5430</td>\n",
       "      <td>0.244000</td>\n",
       "      <td>6.313</td>\n",
       "      <td>0.000</td>\n",
       "    </tr>\n",
       "    <tr>\n",
       "      <th>OBRIGAÇÃO_FINAL_POR_SALA</th>\n",
       "      <td>0.0260</td>\n",
       "      <td>0.004000</td>\n",
       "      <td>6.783</td>\n",
       "      <td>0.000</td>\n",
       "    </tr>\n",
       "    <tr>\n",
       "      <th>CUMPRIMENTO_NORMALIZADO:OBRIGAÇÃO_FINAL_POR_SALA</th>\n",
       "      <td>-0.0163</td>\n",
       "      <td>0.005000</td>\n",
       "      <td>-2.992</td>\n",
       "      <td>0.003</td>\n",
       "    </tr>\n",
       "    <tr>\n",
       "      <th>DIAS_FUNCIONAMENTO</th>\n",
       "      <td>0.0066</td>\n",
       "      <td>0.001000</td>\n",
       "      <td>11.376</td>\n",
       "      <td>0.000</td>\n",
       "    </tr>\n",
       "    <tr>\n",
       "      <th>SALAS_COMPLEXO_INFERIDO</th>\n",
       "      <td>0.0404</td>\n",
       "      <td>0.027000</td>\n",
       "      <td>1.515</td>\n",
       "      <td>0.130</td>\n",
       "    </tr>\n",
       "    <tr>\n",
       "      <th>ASSENTOS_COMPLEXO_INFERIDO</th>\n",
       "      <td>0.0005</td>\n",
       "      <td>0.000092</td>\n",
       "      <td>5.688</td>\n",
       "      <td>0.000</td>\n",
       "    </tr>\n",
       "  </tbody>\n",
       "</table>\n",
       "</div>"
      ],
      "text/plain": [
       "                                                    coef   std err       t  \\\n",
       "CUMPRIMENTO_NORMALIZADO                           1.5430  0.244000   6.313   \n",
       "OBRIGAÇÃO_FINAL_POR_SALA                          0.0260  0.004000   6.783   \n",
       "CUMPRIMENTO_NORMALIZADO:OBRIGAÇÃO_FINAL_POR_SALA -0.0163  0.005000  -2.992   \n",
       "DIAS_FUNCIONAMENTO                                0.0066  0.001000  11.376   \n",
       "SALAS_COMPLEXO_INFERIDO                           0.0404  0.027000   1.515   \n",
       "ASSENTOS_COMPLEXO_INFERIDO                        0.0005  0.000092   5.688   \n",
       "\n",
       "                                                  P>|t|  \n",
       "CUMPRIMENTO_NORMALIZADO                           0.000  \n",
       "OBRIGAÇÃO_FINAL_POR_SALA                          0.000  \n",
       "CUMPRIMENTO_NORMALIZADO:OBRIGAÇÃO_FINAL_POR_SALA  0.003  \n",
       "DIAS_FUNCIONAMENTO                                0.000  \n",
       "SALAS_COMPLEXO_INFERIDO                           0.130  \n",
       "ASSENTOS_COMPLEXO_INFERIDO                        0.000  "
      ]
     },
     "execution_count": 132,
     "metadata": {},
     "output_type": "execute_result"
    }
   ],
   "source": [
    "pd.read_html(reg_w41.summary().tables[1].as_html(),header=0,index_col=0)[0].iloc[-6:,:-2]"
   ]
  },
  {
   "cell_type": "markdown",
   "metadata": {},
   "source": [
    "###### Triangular kernel"
   ]
  },
  {
   "cell_type": "code",
   "execution_count": 133,
   "metadata": {
    "ExecuteTime": {
     "end_time": "2021-06-08T20:05:40.614703Z",
     "start_time": "2021-06-08T20:05:39.473266Z"
    }
   },
   "outputs": [],
   "source": [
    "formul = 'np.log(RENDA) ~ CUMPRIMENTO_LINEAR*OBRIGAÇÃO_FINAL_POR_SALA + DIAS_FUNCIONAMENTO + SALAS_COMPLEXO_INFERIDO + ASSENTOS_COMPLEXO_INFERIDO + C(ANO_CINEMATOGRAFICO)*C(MUN_COMPLEXO)'\n",
    "data = [tds_1718, est_1718, bras_1718]\n",
    "\n",
    "# all\n",
    "reg_w42 = smf.ols(formula = formul, data=data[0]).fit()\n",
    "\n",
    "# foreign\n",
    "reg_w43 = smf.ols(formula = formul, data=data[1]).fit()\n",
    "\n",
    "# Brazilian\n",
    "reg_w44 = smf.ols(formula = formul, data=data[2]).fit()"
   ]
  },
  {
   "cell_type": "code",
   "execution_count": 134,
   "metadata": {
    "ExecuteTime": {
     "end_time": "2021-06-08T20:05:41.025365Z",
     "start_time": "2021-06-08T20:05:40.617209Z"
    }
   },
   "outputs": [
    {
     "data": {
      "text/html": [
       "<div>\n",
       "<style scoped>\n",
       "    .dataframe tbody tr th:only-of-type {\n",
       "        vertical-align: middle;\n",
       "    }\n",
       "\n",
       "    .dataframe tbody tr th {\n",
       "        vertical-align: top;\n",
       "    }\n",
       "\n",
       "    .dataframe thead th {\n",
       "        text-align: right;\n",
       "    }\n",
       "</style>\n",
       "<table border=\"1\" class=\"dataframe\">\n",
       "  <thead>\n",
       "    <tr style=\"text-align: right;\">\n",
       "      <th></th>\n",
       "      <th>coef</th>\n",
       "      <th>std err</th>\n",
       "      <th>t</th>\n",
       "      <th>P&gt;|t|</th>\n",
       "    </tr>\n",
       "  </thead>\n",
       "  <tbody>\n",
       "    <tr>\n",
       "      <th>CUMPRIMENTO_LINEAR</th>\n",
       "      <td>3.1545</td>\n",
       "      <td>0.708000</td>\n",
       "      <td>4.457</td>\n",
       "      <td>0.000</td>\n",
       "    </tr>\n",
       "    <tr>\n",
       "      <th>OBRIGAÇÃO_FINAL_POR_SALA</th>\n",
       "      <td>-0.0084</td>\n",
       "      <td>0.008000</td>\n",
       "      <td>-1.031</td>\n",
       "      <td>0.303</td>\n",
       "    </tr>\n",
       "    <tr>\n",
       "      <th>CUMPRIMENTO_LINEAR:OBRIGAÇÃO_FINAL_POR_SALA</th>\n",
       "      <td>0.0425</td>\n",
       "      <td>0.022000</td>\n",
       "      <td>1.933</td>\n",
       "      <td>0.054</td>\n",
       "    </tr>\n",
       "    <tr>\n",
       "      <th>DIAS_FUNCIONAMENTO</th>\n",
       "      <td>0.0079</td>\n",
       "      <td>0.000000</td>\n",
       "      <td>17.515</td>\n",
       "      <td>0.000</td>\n",
       "    </tr>\n",
       "    <tr>\n",
       "      <th>SALAS_COMPLEXO_INFERIDO</th>\n",
       "      <td>0.1822</td>\n",
       "      <td>0.021000</td>\n",
       "      <td>8.736</td>\n",
       "      <td>0.000</td>\n",
       "    </tr>\n",
       "    <tr>\n",
       "      <th>ASSENTOS_COMPLEXO_INFERIDO</th>\n",
       "      <td>0.0004</td>\n",
       "      <td>0.000077</td>\n",
       "      <td>5.504</td>\n",
       "      <td>0.000</td>\n",
       "    </tr>\n",
       "  </tbody>\n",
       "</table>\n",
       "</div>"
      ],
      "text/plain": [
       "                                               coef   std err       t  P>|t|\n",
       "CUMPRIMENTO_LINEAR                           3.1545  0.708000   4.457  0.000\n",
       "OBRIGAÇÃO_FINAL_POR_SALA                    -0.0084  0.008000  -1.031  0.303\n",
       "CUMPRIMENTO_LINEAR:OBRIGAÇÃO_FINAL_POR_SALA  0.0425  0.022000   1.933  0.054\n",
       "DIAS_FUNCIONAMENTO                           0.0079  0.000000  17.515  0.000\n",
       "SALAS_COMPLEXO_INFERIDO                      0.1822  0.021000   8.736  0.000\n",
       "ASSENTOS_COMPLEXO_INFERIDO                   0.0004  0.000077   5.504  0.000"
      ]
     },
     "execution_count": 134,
     "metadata": {},
     "output_type": "execute_result"
    }
   ],
   "source": [
    "pd.read_html(reg_w42.summary().tables[1].as_html(),header=0,index_col=0)[0].iloc[-6:,:-2]"
   ]
  },
  {
   "cell_type": "code",
   "execution_count": 135,
   "metadata": {
    "ExecuteTime": {
     "end_time": "2021-06-08T20:05:41.394862Z",
     "start_time": "2021-06-08T20:05:41.027871Z"
    }
   },
   "outputs": [
    {
     "data": {
      "text/html": [
       "<div>\n",
       "<style scoped>\n",
       "    .dataframe tbody tr th:only-of-type {\n",
       "        vertical-align: middle;\n",
       "    }\n",
       "\n",
       "    .dataframe tbody tr th {\n",
       "        vertical-align: top;\n",
       "    }\n",
       "\n",
       "    .dataframe thead th {\n",
       "        text-align: right;\n",
       "    }\n",
       "</style>\n",
       "<table border=\"1\" class=\"dataframe\">\n",
       "  <thead>\n",
       "    <tr style=\"text-align: right;\">\n",
       "      <th></th>\n",
       "      <th>coef</th>\n",
       "      <th>std err</th>\n",
       "      <th>t</th>\n",
       "      <th>P&gt;|t|</th>\n",
       "    </tr>\n",
       "  </thead>\n",
       "  <tbody>\n",
       "    <tr>\n",
       "      <th>CUMPRIMENTO_LINEAR</th>\n",
       "      <td>3.8415</td>\n",
       "      <td>0.784000</td>\n",
       "      <td>4.903</td>\n",
       "      <td>0.000</td>\n",
       "    </tr>\n",
       "    <tr>\n",
       "      <th>OBRIGAÇÃO_FINAL_POR_SALA</th>\n",
       "      <td>-0.0068</td>\n",
       "      <td>0.009000</td>\n",
       "      <td>-0.767</td>\n",
       "      <td>0.443</td>\n",
       "    </tr>\n",
       "    <tr>\n",
       "      <th>CUMPRIMENTO_LINEAR:OBRIGAÇÃO_FINAL_POR_SALA</th>\n",
       "      <td>0.0293</td>\n",
       "      <td>0.024000</td>\n",
       "      <td>1.234</td>\n",
       "      <td>0.218</td>\n",
       "    </tr>\n",
       "    <tr>\n",
       "      <th>DIAS_FUNCIONAMENTO</th>\n",
       "      <td>0.0090</td>\n",
       "      <td>0.000000</td>\n",
       "      <td>19.027</td>\n",
       "      <td>0.000</td>\n",
       "    </tr>\n",
       "    <tr>\n",
       "      <th>SALAS_COMPLEXO_INFERIDO</th>\n",
       "      <td>0.1855</td>\n",
       "      <td>0.022000</td>\n",
       "      <td>8.431</td>\n",
       "      <td>0.000</td>\n",
       "    </tr>\n",
       "    <tr>\n",
       "      <th>ASSENTOS_COMPLEXO_INFERIDO</th>\n",
       "      <td>0.0004</td>\n",
       "      <td>0.000081</td>\n",
       "      <td>5.353</td>\n",
       "      <td>0.000</td>\n",
       "    </tr>\n",
       "  </tbody>\n",
       "</table>\n",
       "</div>"
      ],
      "text/plain": [
       "                                               coef   std err       t  P>|t|\n",
       "CUMPRIMENTO_LINEAR                           3.8415  0.784000   4.903  0.000\n",
       "OBRIGAÇÃO_FINAL_POR_SALA                    -0.0068  0.009000  -0.767  0.443\n",
       "CUMPRIMENTO_LINEAR:OBRIGAÇÃO_FINAL_POR_SALA  0.0293  0.024000   1.234  0.218\n",
       "DIAS_FUNCIONAMENTO                           0.0090  0.000000  19.027  0.000\n",
       "SALAS_COMPLEXO_INFERIDO                      0.1855  0.022000   8.431  0.000\n",
       "ASSENTOS_COMPLEXO_INFERIDO                   0.0004  0.000081   5.353  0.000"
      ]
     },
     "execution_count": 135,
     "metadata": {},
     "output_type": "execute_result"
    }
   ],
   "source": [
    "pd.read_html(reg_w43.summary().tables[1].as_html(),header=0,index_col=0)[0].iloc[-6:,:-2]"
   ]
  },
  {
   "cell_type": "code",
   "execution_count": 136,
   "metadata": {
    "ExecuteTime": {
     "end_time": "2021-06-08T20:05:41.836081Z",
     "start_time": "2021-06-08T20:05:41.396869Z"
    }
   },
   "outputs": [
    {
     "data": {
      "text/html": [
       "<div>\n",
       "<style scoped>\n",
       "    .dataframe tbody tr th:only-of-type {\n",
       "        vertical-align: middle;\n",
       "    }\n",
       "\n",
       "    .dataframe tbody tr th {\n",
       "        vertical-align: top;\n",
       "    }\n",
       "\n",
       "    .dataframe thead th {\n",
       "        text-align: right;\n",
       "    }\n",
       "</style>\n",
       "<table border=\"1\" class=\"dataframe\">\n",
       "  <thead>\n",
       "    <tr style=\"text-align: right;\">\n",
       "      <th></th>\n",
       "      <th>coef</th>\n",
       "      <th>std err</th>\n",
       "      <th>t</th>\n",
       "      <th>P&gt;|t|</th>\n",
       "    </tr>\n",
       "  </thead>\n",
       "  <tbody>\n",
       "    <tr>\n",
       "      <th>CUMPRIMENTO_LINEAR</th>\n",
       "      <td>1.8109</td>\n",
       "      <td>0.874000</td>\n",
       "      <td>2.071</td>\n",
       "      <td>0.039</td>\n",
       "    </tr>\n",
       "    <tr>\n",
       "      <th>OBRIGAÇÃO_FINAL_POR_SALA</th>\n",
       "      <td>0.0014</td>\n",
       "      <td>0.010000</td>\n",
       "      <td>0.144</td>\n",
       "      <td>0.886</td>\n",
       "    </tr>\n",
       "    <tr>\n",
       "      <th>CUMPRIMENTO_LINEAR:OBRIGAÇÃO_FINAL_POR_SALA</th>\n",
       "      <td>0.0372</td>\n",
       "      <td>0.028000</td>\n",
       "      <td>1.330</td>\n",
       "      <td>0.184</td>\n",
       "    </tr>\n",
       "    <tr>\n",
       "      <th>DIAS_FUNCIONAMENTO</th>\n",
       "      <td>0.0069</td>\n",
       "      <td>0.001000</td>\n",
       "      <td>12.465</td>\n",
       "      <td>0.000</td>\n",
       "    </tr>\n",
       "    <tr>\n",
       "      <th>SALAS_COMPLEXO_INFERIDO</th>\n",
       "      <td>0.0396</td>\n",
       "      <td>0.027000</td>\n",
       "      <td>1.456</td>\n",
       "      <td>0.146</td>\n",
       "    </tr>\n",
       "    <tr>\n",
       "      <th>ASSENTOS_COMPLEXO_INFERIDO</th>\n",
       "      <td>0.0005</td>\n",
       "      <td>0.000094</td>\n",
       "      <td>5.549</td>\n",
       "      <td>0.000</td>\n",
       "    </tr>\n",
       "  </tbody>\n",
       "</table>\n",
       "</div>"
      ],
      "text/plain": [
       "                                               coef   std err       t  P>|t|\n",
       "CUMPRIMENTO_LINEAR                           1.8109  0.874000   2.071  0.039\n",
       "OBRIGAÇÃO_FINAL_POR_SALA                     0.0014  0.010000   0.144  0.886\n",
       "CUMPRIMENTO_LINEAR:OBRIGAÇÃO_FINAL_POR_SALA  0.0372  0.028000   1.330  0.184\n",
       "DIAS_FUNCIONAMENTO                           0.0069  0.001000  12.465  0.000\n",
       "SALAS_COMPLEXO_INFERIDO                      0.0396  0.027000   1.456  0.146\n",
       "ASSENTOS_COMPLEXO_INFERIDO                   0.0005  0.000094   5.549  0.000"
      ]
     },
     "execution_count": 136,
     "metadata": {},
     "output_type": "execute_result"
    }
   ],
   "source": [
    "pd.read_html(reg_w44.summary().tables[1].as_html(),header=0,index_col=0)[0].iloc[-6:,:-2]"
   ]
  },
  {
   "cell_type": "markdown",
   "metadata": {},
   "source": [
    "###### Triweight kernel"
   ]
  },
  {
   "cell_type": "code",
   "execution_count": 137,
   "metadata": {
    "ExecuteTime": {
     "end_time": "2021-06-08T20:06:06.367786Z",
     "start_time": "2021-06-08T20:06:05.304672Z"
    }
   },
   "outputs": [],
   "source": [
    "formul = 'np.log(RENDA) ~ CUMPRIMENTO_TRIWEIGHT*OBRIGAÇÃO_FINAL_POR_SALA + DIAS_FUNCIONAMENTO + SALAS_COMPLEXO_INFERIDO + ASSENTOS_COMPLEXO_INFERIDO + C(ANO_CINEMATOGRAFICO)*C(MUN_COMPLEXO)'\n",
    "data = [tds_1718, est_1718, bras_1718]\n",
    "\n",
    "# all\n",
    "reg_w45 = smf.ols(formula = formul, data=data[0]).fit()\n",
    "\n",
    "# foreign\n",
    "reg_w46 = smf.ols(formula = formul, data=data[1]).fit()\n",
    "\n",
    "# Brazilian\n",
    "reg_w47 = smf.ols(formula = formul, data=data[2]).fit()"
   ]
  },
  {
   "cell_type": "code",
   "execution_count": 138,
   "metadata": {
    "ExecuteTime": {
     "end_time": "2021-06-08T20:06:06.736241Z",
     "start_time": "2021-06-08T20:06:06.370145Z"
    },
    "scrolled": true
   },
   "outputs": [
    {
     "data": {
      "text/html": [
       "<div>\n",
       "<style scoped>\n",
       "    .dataframe tbody tr th:only-of-type {\n",
       "        vertical-align: middle;\n",
       "    }\n",
       "\n",
       "    .dataframe tbody tr th {\n",
       "        vertical-align: top;\n",
       "    }\n",
       "\n",
       "    .dataframe thead th {\n",
       "        text-align: right;\n",
       "    }\n",
       "</style>\n",
       "<table border=\"1\" class=\"dataframe\">\n",
       "  <thead>\n",
       "    <tr style=\"text-align: right;\">\n",
       "      <th></th>\n",
       "      <th>coef</th>\n",
       "      <th>std err</th>\n",
       "      <th>t</th>\n",
       "      <th>P&gt;|t|</th>\n",
       "    </tr>\n",
       "  </thead>\n",
       "  <tbody>\n",
       "    <tr>\n",
       "      <th>CUMPRIMENTO_TRIWEIGHT</th>\n",
       "      <td>1.4928</td>\n",
       "      <td>0.184000</td>\n",
       "      <td>8.131</td>\n",
       "      <td>0.0</td>\n",
       "    </tr>\n",
       "    <tr>\n",
       "      <th>OBRIGAÇÃO_FINAL_POR_SALA</th>\n",
       "      <td>0.0186</td>\n",
       "      <td>0.003000</td>\n",
       "      <td>5.930</td>\n",
       "      <td>0.0</td>\n",
       "    </tr>\n",
       "    <tr>\n",
       "      <th>CUMPRIMENTO_TRIWEIGHT:OBRIGAÇÃO_FINAL_POR_SALA</th>\n",
       "      <td>-0.0153</td>\n",
       "      <td>0.004000</td>\n",
       "      <td>-4.114</td>\n",
       "      <td>0.0</td>\n",
       "    </tr>\n",
       "    <tr>\n",
       "      <th>DIAS_FUNCIONAMENTO</th>\n",
       "      <td>0.0079</td>\n",
       "      <td>0.000000</td>\n",
       "      <td>17.256</td>\n",
       "      <td>0.0</td>\n",
       "    </tr>\n",
       "    <tr>\n",
       "      <th>SALAS_COMPLEXO_INFERIDO</th>\n",
       "      <td>0.1847</td>\n",
       "      <td>0.021000</td>\n",
       "      <td>8.721</td>\n",
       "      <td>0.0</td>\n",
       "    </tr>\n",
       "    <tr>\n",
       "      <th>ASSENTOS_COMPLEXO_INFERIDO</th>\n",
       "      <td>0.0004</td>\n",
       "      <td>0.000077</td>\n",
       "      <td>5.462</td>\n",
       "      <td>0.0</td>\n",
       "    </tr>\n",
       "  </tbody>\n",
       "</table>\n",
       "</div>"
      ],
      "text/plain": [
       "                                                  coef   std err       t  \\\n",
       "CUMPRIMENTO_TRIWEIGHT                           1.4928  0.184000   8.131   \n",
       "OBRIGAÇÃO_FINAL_POR_SALA                        0.0186  0.003000   5.930   \n",
       "CUMPRIMENTO_TRIWEIGHT:OBRIGAÇÃO_FINAL_POR_SALA -0.0153  0.004000  -4.114   \n",
       "DIAS_FUNCIONAMENTO                              0.0079  0.000000  17.256   \n",
       "SALAS_COMPLEXO_INFERIDO                         0.1847  0.021000   8.721   \n",
       "ASSENTOS_COMPLEXO_INFERIDO                      0.0004  0.000077   5.462   \n",
       "\n",
       "                                                P>|t|  \n",
       "CUMPRIMENTO_TRIWEIGHT                             0.0  \n",
       "OBRIGAÇÃO_FINAL_POR_SALA                          0.0  \n",
       "CUMPRIMENTO_TRIWEIGHT:OBRIGAÇÃO_FINAL_POR_SALA    0.0  \n",
       "DIAS_FUNCIONAMENTO                                0.0  \n",
       "SALAS_COMPLEXO_INFERIDO                           0.0  \n",
       "ASSENTOS_COMPLEXO_INFERIDO                        0.0  "
      ]
     },
     "execution_count": 138,
     "metadata": {},
     "output_type": "execute_result"
    }
   ],
   "source": [
    "pd.read_html(reg_w45.summary().tables[1].as_html(),header=0,index_col=0)[0].iloc[-6:,:-2]"
   ]
  },
  {
   "cell_type": "code",
   "execution_count": 139,
   "metadata": {
    "ExecuteTime": {
     "end_time": "2021-06-08T20:06:07.140404Z",
     "start_time": "2021-06-08T20:06:06.738279Z"
    }
   },
   "outputs": [
    {
     "data": {
      "text/html": [
       "<div>\n",
       "<style scoped>\n",
       "    .dataframe tbody tr th:only-of-type {\n",
       "        vertical-align: middle;\n",
       "    }\n",
       "\n",
       "    .dataframe tbody tr th {\n",
       "        vertical-align: top;\n",
       "    }\n",
       "\n",
       "    .dataframe thead th {\n",
       "        text-align: right;\n",
       "    }\n",
       "</style>\n",
       "<table border=\"1\" class=\"dataframe\">\n",
       "  <thead>\n",
       "    <tr style=\"text-align: right;\">\n",
       "      <th></th>\n",
       "      <th>coef</th>\n",
       "      <th>std err</th>\n",
       "      <th>t</th>\n",
       "      <th>P&gt;|t|</th>\n",
       "    </tr>\n",
       "  </thead>\n",
       "  <tbody>\n",
       "    <tr>\n",
       "      <th>CUMPRIMENTO_TRIWEIGHT</th>\n",
       "      <td>1.5536</td>\n",
       "      <td>0.197000</td>\n",
       "      <td>7.884</td>\n",
       "      <td>0.0</td>\n",
       "    </tr>\n",
       "    <tr>\n",
       "      <th>OBRIGAÇÃO_FINAL_POR_SALA</th>\n",
       "      <td>0.0161</td>\n",
       "      <td>0.003000</td>\n",
       "      <td>4.807</td>\n",
       "      <td>0.0</td>\n",
       "    </tr>\n",
       "    <tr>\n",
       "      <th>CUMPRIMENTO_TRIWEIGHT:OBRIGAÇÃO_FINAL_POR_SALA</th>\n",
       "      <td>-0.0173</td>\n",
       "      <td>0.004000</td>\n",
       "      <td>-4.370</td>\n",
       "      <td>0.0</td>\n",
       "    </tr>\n",
       "    <tr>\n",
       "      <th>DIAS_FUNCIONAMENTO</th>\n",
       "      <td>0.0093</td>\n",
       "      <td>0.000000</td>\n",
       "      <td>19.839</td>\n",
       "      <td>0.0</td>\n",
       "    </tr>\n",
       "    <tr>\n",
       "      <th>SALAS_COMPLEXO_INFERIDO</th>\n",
       "      <td>0.1895</td>\n",
       "      <td>0.022000</td>\n",
       "      <td>8.467</td>\n",
       "      <td>0.0</td>\n",
       "    </tr>\n",
       "    <tr>\n",
       "      <th>ASSENTOS_COMPLEXO_INFERIDO</th>\n",
       "      <td>0.0004</td>\n",
       "      <td>0.000082</td>\n",
       "      <td>5.283</td>\n",
       "      <td>0.0</td>\n",
       "    </tr>\n",
       "  </tbody>\n",
       "</table>\n",
       "</div>"
      ],
      "text/plain": [
       "                                                  coef   std err       t  \\\n",
       "CUMPRIMENTO_TRIWEIGHT                           1.5536  0.197000   7.884   \n",
       "OBRIGAÇÃO_FINAL_POR_SALA                        0.0161  0.003000   4.807   \n",
       "CUMPRIMENTO_TRIWEIGHT:OBRIGAÇÃO_FINAL_POR_SALA -0.0173  0.004000  -4.370   \n",
       "DIAS_FUNCIONAMENTO                              0.0093  0.000000  19.839   \n",
       "SALAS_COMPLEXO_INFERIDO                         0.1895  0.022000   8.467   \n",
       "ASSENTOS_COMPLEXO_INFERIDO                      0.0004  0.000082   5.283   \n",
       "\n",
       "                                                P>|t|  \n",
       "CUMPRIMENTO_TRIWEIGHT                             0.0  \n",
       "OBRIGAÇÃO_FINAL_POR_SALA                          0.0  \n",
       "CUMPRIMENTO_TRIWEIGHT:OBRIGAÇÃO_FINAL_POR_SALA    0.0  \n",
       "DIAS_FUNCIONAMENTO                                0.0  \n",
       "SALAS_COMPLEXO_INFERIDO                           0.0  \n",
       "ASSENTOS_COMPLEXO_INFERIDO                        0.0  "
      ]
     },
     "execution_count": 139,
     "metadata": {},
     "output_type": "execute_result"
    }
   ],
   "source": [
    "pd.read_html(reg_w46.summary().tables[1].as_html(),header=0,index_col=0)[0].iloc[-6:,:-2]"
   ]
  },
  {
   "cell_type": "code",
   "execution_count": 140,
   "metadata": {
    "ExecuteTime": {
     "end_time": "2021-06-08T20:06:07.515468Z",
     "start_time": "2021-06-08T20:06:07.143417Z"
    },
    "scrolled": false
   },
   "outputs": [
    {
     "data": {
      "text/html": [
       "<div>\n",
       "<style scoped>\n",
       "    .dataframe tbody tr th:only-of-type {\n",
       "        vertical-align: middle;\n",
       "    }\n",
       "\n",
       "    .dataframe tbody tr th {\n",
       "        vertical-align: top;\n",
       "    }\n",
       "\n",
       "    .dataframe thead th {\n",
       "        text-align: right;\n",
       "    }\n",
       "</style>\n",
       "<table border=\"1\" class=\"dataframe\">\n",
       "  <thead>\n",
       "    <tr style=\"text-align: right;\">\n",
       "      <th></th>\n",
       "      <th>coef</th>\n",
       "      <th>std err</th>\n",
       "      <th>t</th>\n",
       "      <th>P&gt;|t|</th>\n",
       "    </tr>\n",
       "  </thead>\n",
       "  <tbody>\n",
       "    <tr>\n",
       "      <th>CUMPRIMENTO_TRIWEIGHT</th>\n",
       "      <td>1.4452</td>\n",
       "      <td>0.219000</td>\n",
       "      <td>6.590</td>\n",
       "      <td>0.000</td>\n",
       "    </tr>\n",
       "    <tr>\n",
       "      <th>OBRIGAÇÃO_FINAL_POR_SALA</th>\n",
       "      <td>0.0265</td>\n",
       "      <td>0.003000</td>\n",
       "      <td>7.753</td>\n",
       "      <td>0.000</td>\n",
       "    </tr>\n",
       "    <tr>\n",
       "      <th>CUMPRIMENTO_TRIWEIGHT:OBRIGAÇÃO_FINAL_POR_SALA</th>\n",
       "      <td>-0.0162</td>\n",
       "      <td>0.005000</td>\n",
       "      <td>-3.405</td>\n",
       "      <td>0.001</td>\n",
       "    </tr>\n",
       "    <tr>\n",
       "      <th>DIAS_FUNCIONAMENTO</th>\n",
       "      <td>0.0065</td>\n",
       "      <td>0.001000</td>\n",
       "      <td>10.954</td>\n",
       "      <td>0.000</td>\n",
       "    </tr>\n",
       "    <tr>\n",
       "      <th>SALAS_COMPLEXO_INFERIDO</th>\n",
       "      <td>0.0423</td>\n",
       "      <td>0.027000</td>\n",
       "      <td>1.589</td>\n",
       "      <td>0.112</td>\n",
       "    </tr>\n",
       "    <tr>\n",
       "      <th>ASSENTOS_COMPLEXO_INFERIDO</th>\n",
       "      <td>0.0005</td>\n",
       "      <td>0.000092</td>\n",
       "      <td>5.667</td>\n",
       "      <td>0.000</td>\n",
       "    </tr>\n",
       "  </tbody>\n",
       "</table>\n",
       "</div>"
      ],
      "text/plain": [
       "                                                  coef   std err       t  \\\n",
       "CUMPRIMENTO_TRIWEIGHT                           1.4452  0.219000   6.590   \n",
       "OBRIGAÇÃO_FINAL_POR_SALA                        0.0265  0.003000   7.753   \n",
       "CUMPRIMENTO_TRIWEIGHT:OBRIGAÇÃO_FINAL_POR_SALA -0.0162  0.005000  -3.405   \n",
       "DIAS_FUNCIONAMENTO                              0.0065  0.001000  10.954   \n",
       "SALAS_COMPLEXO_INFERIDO                         0.0423  0.027000   1.589   \n",
       "ASSENTOS_COMPLEXO_INFERIDO                      0.0005  0.000092   5.667   \n",
       "\n",
       "                                                P>|t|  \n",
       "CUMPRIMENTO_TRIWEIGHT                           0.000  \n",
       "OBRIGAÇÃO_FINAL_POR_SALA                        0.000  \n",
       "CUMPRIMENTO_TRIWEIGHT:OBRIGAÇÃO_FINAL_POR_SALA  0.001  \n",
       "DIAS_FUNCIONAMENTO                              0.000  \n",
       "SALAS_COMPLEXO_INFERIDO                         0.112  \n",
       "ASSENTOS_COMPLEXO_INFERIDO                      0.000  "
      ]
     },
     "execution_count": 140,
     "metadata": {},
     "output_type": "execute_result"
    }
   ],
   "source": [
    "pd.read_html(reg_w47.summary().tables[1].as_html(),header=0,index_col=0)[0].iloc[-6:,:-2]"
   ]
  },
  {
   "cell_type": "markdown",
   "metadata": {},
   "source": [
    "### Dependent variable: public (moviegoers)"
   ]
  },
  {
   "cell_type": "markdown",
   "metadata": {},
   "source": [
    "#### With entity fixed-effects"
   ]
  },
  {
   "cell_type": "markdown",
   "metadata": {},
   "source": [
    "##### 2017-2019"
   ]
  },
  {
   "cell_type": "markdown",
   "metadata": {},
   "source": [
    "###### Quadratic kernel"
   ]
  },
  {
   "cell_type": "code",
   "execution_count": 5,
   "metadata": {
    "ExecuteTime": {
     "end_time": "2021-06-09T19:04:27.390419Z",
     "start_time": "2021-06-09T19:04:23.270527Z"
    }
   },
   "outputs": [],
   "source": [
    "formul = 'np.log(PUBLICO) ~ CUMPRIMENTO_PROP_TRUNCADO*OBRIGAÇÃO_FINAL_POR_SALA + DIAS_FUNCIONAMENTO + C(REGISTRO_COMPLEXO) + C(ANO_CINEMATOGRAFICO)'\n",
    "data = [tds_1719, est_1719, bras_1719]\n",
    "\n",
    "# all\n",
    "reg_w48 = smf.ols(formula = formul, data=data[0]).fit()\n",
    "\n",
    "# foreign\n",
    "reg_w49 = smf.ols(formula = formul, data=data[1]).fit()\n",
    "\n",
    "# Brazilian\n",
    "reg_w50 = smf.ols(formula = formul, data=data[2]).fit()"
   ]
  },
  {
   "cell_type": "code",
   "execution_count": 6,
   "metadata": {
    "ExecuteTime": {
     "end_time": "2021-06-09T19:04:28.707060Z",
     "start_time": "2021-06-09T19:04:27.857581Z"
    }
   },
   "outputs": [
    {
     "data": {
      "text/html": [
       "<div>\n",
       "<style scoped>\n",
       "    .dataframe tbody tr th:only-of-type {\n",
       "        vertical-align: middle;\n",
       "    }\n",
       "\n",
       "    .dataframe tbody tr th {\n",
       "        vertical-align: top;\n",
       "    }\n",
       "\n",
       "    .dataframe thead th {\n",
       "        text-align: right;\n",
       "    }\n",
       "</style>\n",
       "<table border=\"1\" class=\"dataframe\">\n",
       "  <thead>\n",
       "    <tr style=\"text-align: right;\">\n",
       "      <th></th>\n",
       "      <th>coef</th>\n",
       "      <th>std err</th>\n",
       "      <th>t</th>\n",
       "      <th>P&gt;|t|</th>\n",
       "    </tr>\n",
       "  </thead>\n",
       "  <tbody>\n",
       "    <tr>\n",
       "      <th>CUMPRIMENTO_PROP_TRUNCADO</th>\n",
       "      <td>0.5329</td>\n",
       "      <td>0.074</td>\n",
       "      <td>7.239</td>\n",
       "      <td>0.0</td>\n",
       "    </tr>\n",
       "    <tr>\n",
       "      <th>OBRIGAÇÃO_FINAL_POR_SALA</th>\n",
       "      <td>0.0092</td>\n",
       "      <td>0.002</td>\n",
       "      <td>5.535</td>\n",
       "      <td>0.0</td>\n",
       "    </tr>\n",
       "    <tr>\n",
       "      <th>CUMPRIMENTO_PROP_TRUNCADO:OBRIGAÇÃO_FINAL_POR_SALA</th>\n",
       "      <td>-0.0114</td>\n",
       "      <td>0.002</td>\n",
       "      <td>-5.946</td>\n",
       "      <td>0.0</td>\n",
       "    </tr>\n",
       "    <tr>\n",
       "      <th>DIAS_FUNCIONAMENTO</th>\n",
       "      <td>0.0063</td>\n",
       "      <td>0.000</td>\n",
       "      <td>49.837</td>\n",
       "      <td>0.0</td>\n",
       "    </tr>\n",
       "  </tbody>\n",
       "</table>\n",
       "</div>"
      ],
      "text/plain": [
       "                                                      coef  std err       t  \\\n",
       "CUMPRIMENTO_PROP_TRUNCADO                           0.5329    0.074   7.239   \n",
       "OBRIGAÇÃO_FINAL_POR_SALA                            0.0092    0.002   5.535   \n",
       "CUMPRIMENTO_PROP_TRUNCADO:OBRIGAÇÃO_FINAL_POR_SALA -0.0114    0.002  -5.946   \n",
       "DIAS_FUNCIONAMENTO                                  0.0063    0.000  49.837   \n",
       "\n",
       "                                                    P>|t|  \n",
       "CUMPRIMENTO_PROP_TRUNCADO                             0.0  \n",
       "OBRIGAÇÃO_FINAL_POR_SALA                              0.0  \n",
       "CUMPRIMENTO_PROP_TRUNCADO:OBRIGAÇÃO_FINAL_POR_SALA    0.0  \n",
       "DIAS_FUNCIONAMENTO                                    0.0  "
      ]
     },
     "execution_count": 6,
     "metadata": {},
     "output_type": "execute_result"
    }
   ],
   "source": [
    "pd.read_html(reg_w48.summary().tables[1].as_html(),header=0,index_col=0)[0].iloc[-4:,:-2]"
   ]
  },
  {
   "cell_type": "code",
   "execution_count": 7,
   "metadata": {
    "ExecuteTime": {
     "end_time": "2021-06-09T19:04:29.526415Z",
     "start_time": "2021-06-09T19:04:29.084910Z"
    }
   },
   "outputs": [
    {
     "data": {
      "text/html": [
       "<div>\n",
       "<style scoped>\n",
       "    .dataframe tbody tr th:only-of-type {\n",
       "        vertical-align: middle;\n",
       "    }\n",
       "\n",
       "    .dataframe tbody tr th {\n",
       "        vertical-align: top;\n",
       "    }\n",
       "\n",
       "    .dataframe thead th {\n",
       "        text-align: right;\n",
       "    }\n",
       "</style>\n",
       "<table border=\"1\" class=\"dataframe\">\n",
       "  <thead>\n",
       "    <tr style=\"text-align: right;\">\n",
       "      <th></th>\n",
       "      <th>coef</th>\n",
       "      <th>std err</th>\n",
       "      <th>t</th>\n",
       "      <th>P&gt;|t|</th>\n",
       "    </tr>\n",
       "  </thead>\n",
       "  <tbody>\n",
       "    <tr>\n",
       "      <th>CUMPRIMENTO_PROP_TRUNCADO</th>\n",
       "      <td>0.5449</td>\n",
       "      <td>0.081</td>\n",
       "      <td>6.725</td>\n",
       "      <td>0.0</td>\n",
       "    </tr>\n",
       "    <tr>\n",
       "      <th>OBRIGAÇÃO_FINAL_POR_SALA</th>\n",
       "      <td>0.0109</td>\n",
       "      <td>0.002</td>\n",
       "      <td>5.932</td>\n",
       "      <td>0.0</td>\n",
       "    </tr>\n",
       "    <tr>\n",
       "      <th>CUMPRIMENTO_PROP_TRUNCADO:OBRIGAÇÃO_FINAL_POR_SALA</th>\n",
       "      <td>-0.0129</td>\n",
       "      <td>0.002</td>\n",
       "      <td>-6.149</td>\n",
       "      <td>0.0</td>\n",
       "    </tr>\n",
       "    <tr>\n",
       "      <th>DIAS_FUNCIONAMENTO</th>\n",
       "      <td>0.0065</td>\n",
       "      <td>0.000</td>\n",
       "      <td>47.075</td>\n",
       "      <td>0.0</td>\n",
       "    </tr>\n",
       "  </tbody>\n",
       "</table>\n",
       "</div>"
      ],
      "text/plain": [
       "                                                      coef  std err       t  \\\n",
       "CUMPRIMENTO_PROP_TRUNCADO                           0.5449    0.081   6.725   \n",
       "OBRIGAÇÃO_FINAL_POR_SALA                            0.0109    0.002   5.932   \n",
       "CUMPRIMENTO_PROP_TRUNCADO:OBRIGAÇÃO_FINAL_POR_SALA -0.0129    0.002  -6.149   \n",
       "DIAS_FUNCIONAMENTO                                  0.0065    0.000  47.075   \n",
       "\n",
       "                                                    P>|t|  \n",
       "CUMPRIMENTO_PROP_TRUNCADO                             0.0  \n",
       "OBRIGAÇÃO_FINAL_POR_SALA                              0.0  \n",
       "CUMPRIMENTO_PROP_TRUNCADO:OBRIGAÇÃO_FINAL_POR_SALA    0.0  \n",
       "DIAS_FUNCIONAMENTO                                    0.0  "
      ]
     },
     "execution_count": 7,
     "metadata": {},
     "output_type": "execute_result"
    }
   ],
   "source": [
    "pd.read_html(reg_w49.summary().tables[1].as_html(),header=0,index_col=0)[0].iloc[-4:,:-2]"
   ]
  },
  {
   "cell_type": "code",
   "execution_count": 8,
   "metadata": {
    "ExecuteTime": {
     "end_time": "2021-06-09T19:04:30.421977Z",
     "start_time": "2021-06-09T19:04:29.936995Z"
    }
   },
   "outputs": [
    {
     "data": {
      "text/html": [
       "<div>\n",
       "<style scoped>\n",
       "    .dataframe tbody tr th:only-of-type {\n",
       "        vertical-align: middle;\n",
       "    }\n",
       "\n",
       "    .dataframe tbody tr th {\n",
       "        vertical-align: top;\n",
       "    }\n",
       "\n",
       "    .dataframe thead th {\n",
       "        text-align: right;\n",
       "    }\n",
       "</style>\n",
       "<table border=\"1\" class=\"dataframe\">\n",
       "  <thead>\n",
       "    <tr style=\"text-align: right;\">\n",
       "      <th></th>\n",
       "      <th>coef</th>\n",
       "      <th>std err</th>\n",
       "      <th>t</th>\n",
       "      <th>P&gt;|t|</th>\n",
       "    </tr>\n",
       "  </thead>\n",
       "  <tbody>\n",
       "    <tr>\n",
       "      <th>CUMPRIMENTO_PROP_TRUNCADO</th>\n",
       "      <td>0.6118</td>\n",
       "      <td>0.176</td>\n",
       "      <td>3.473</td>\n",
       "      <td>0.001</td>\n",
       "    </tr>\n",
       "    <tr>\n",
       "      <th>OBRIGAÇÃO_FINAL_POR_SALA</th>\n",
       "      <td>0.0016</td>\n",
       "      <td>0.004</td>\n",
       "      <td>0.434</td>\n",
       "      <td>0.665</td>\n",
       "    </tr>\n",
       "    <tr>\n",
       "      <th>CUMPRIMENTO_PROP_TRUNCADO:OBRIGAÇÃO_FINAL_POR_SALA</th>\n",
       "      <td>-0.0027</td>\n",
       "      <td>0.004</td>\n",
       "      <td>-0.598</td>\n",
       "      <td>0.550</td>\n",
       "    </tr>\n",
       "    <tr>\n",
       "      <th>DIAS_FUNCIONAMENTO</th>\n",
       "      <td>0.0086</td>\n",
       "      <td>0.000</td>\n",
       "      <td>22.478</td>\n",
       "      <td>0.000</td>\n",
       "    </tr>\n",
       "  </tbody>\n",
       "</table>\n",
       "</div>"
      ],
      "text/plain": [
       "                                                      coef  std err       t  \\\n",
       "CUMPRIMENTO_PROP_TRUNCADO                           0.6118    0.176   3.473   \n",
       "OBRIGAÇÃO_FINAL_POR_SALA                            0.0016    0.004   0.434   \n",
       "CUMPRIMENTO_PROP_TRUNCADO:OBRIGAÇÃO_FINAL_POR_SALA -0.0027    0.004  -0.598   \n",
       "DIAS_FUNCIONAMENTO                                  0.0086    0.000  22.478   \n",
       "\n",
       "                                                    P>|t|  \n",
       "CUMPRIMENTO_PROP_TRUNCADO                           0.001  \n",
       "OBRIGAÇÃO_FINAL_POR_SALA                            0.665  \n",
       "CUMPRIMENTO_PROP_TRUNCADO:OBRIGAÇÃO_FINAL_POR_SALA  0.550  \n",
       "DIAS_FUNCIONAMENTO                                  0.000  "
      ]
     },
     "execution_count": 8,
     "metadata": {},
     "output_type": "execute_result"
    }
   ],
   "source": [
    "pd.read_html(reg_w50.summary().tables[1].as_html(),header=0,index_col=0)[0].iloc[-4:,:-2]"
   ]
  },
  {
   "cell_type": "markdown",
   "metadata": {},
   "source": [
    "###### Normal pdf kernel"
   ]
  },
  {
   "cell_type": "code",
   "execution_count": 9,
   "metadata": {
    "ExecuteTime": {
     "end_time": "2021-06-09T19:05:36.852115Z",
     "start_time": "2021-06-09T19:05:33.055044Z"
    }
   },
   "outputs": [],
   "source": [
    "formul = 'np.log(PUBLICO) ~ CUMPRIMENTO_NORMALIZADO*OBRIGAÇÃO_FINAL_POR_SALA + DIAS_FUNCIONAMENTO + C(REGISTRO_COMPLEXO) + C(ANO_CINEMATOGRAFICO)'\n",
    "data = [tds_1719, est_1719, bras_1719]\n",
    "\n",
    "# all\n",
    "reg_w51 = smf.ols(formula = formul, data=data[0]).fit()\n",
    "\n",
    "# foreign\n",
    "reg_w52 = smf.ols(formula = formul, data=data[1]).fit()\n",
    "\n",
    "# Brazilian\n",
    "reg_w53 = smf.ols(formula = formul, data=data[2]).fit()"
   ]
  },
  {
   "cell_type": "code",
   "execution_count": 10,
   "metadata": {
    "ExecuteTime": {
     "end_time": "2021-06-09T19:05:37.812311Z",
     "start_time": "2021-06-09T19:05:37.304351Z"
    }
   },
   "outputs": [
    {
     "data": {
      "text/html": [
       "<div>\n",
       "<style scoped>\n",
       "    .dataframe tbody tr th:only-of-type {\n",
       "        vertical-align: middle;\n",
       "    }\n",
       "\n",
       "    .dataframe tbody tr th {\n",
       "        vertical-align: top;\n",
       "    }\n",
       "\n",
       "    .dataframe thead th {\n",
       "        text-align: right;\n",
       "    }\n",
       "</style>\n",
       "<table border=\"1\" class=\"dataframe\">\n",
       "  <thead>\n",
       "    <tr style=\"text-align: right;\">\n",
       "      <th></th>\n",
       "      <th>coef</th>\n",
       "      <th>std err</th>\n",
       "      <th>t</th>\n",
       "      <th>P&gt;|t|</th>\n",
       "    </tr>\n",
       "  </thead>\n",
       "  <tbody>\n",
       "    <tr>\n",
       "      <th>CUMPRIMENTO_NORMALIZADO</th>\n",
       "      <td>0.4290</td>\n",
       "      <td>0.075</td>\n",
       "      <td>5.744</td>\n",
       "      <td>0.0</td>\n",
       "    </tr>\n",
       "    <tr>\n",
       "      <th>OBRIGAÇÃO_FINAL_POR_SALA</th>\n",
       "      <td>0.0057</td>\n",
       "      <td>0.001</td>\n",
       "      <td>4.424</td>\n",
       "      <td>0.0</td>\n",
       "    </tr>\n",
       "    <tr>\n",
       "      <th>CUMPRIMENTO_NORMALIZADO:OBRIGAÇÃO_FINAL_POR_SALA</th>\n",
       "      <td>-0.0083</td>\n",
       "      <td>0.002</td>\n",
       "      <td>-4.934</td>\n",
       "      <td>0.0</td>\n",
       "    </tr>\n",
       "    <tr>\n",
       "      <th>DIAS_FUNCIONAMENTO</th>\n",
       "      <td>0.0064</td>\n",
       "      <td>0.000</td>\n",
       "      <td>50.065</td>\n",
       "      <td>0.0</td>\n",
       "    </tr>\n",
       "  </tbody>\n",
       "</table>\n",
       "</div>"
      ],
      "text/plain": [
       "                                                    coef  std err       t  \\\n",
       "CUMPRIMENTO_NORMALIZADO                           0.4290    0.075   5.744   \n",
       "OBRIGAÇÃO_FINAL_POR_SALA                          0.0057    0.001   4.424   \n",
       "CUMPRIMENTO_NORMALIZADO:OBRIGAÇÃO_FINAL_POR_SALA -0.0083    0.002  -4.934   \n",
       "DIAS_FUNCIONAMENTO                                0.0064    0.000  50.065   \n",
       "\n",
       "                                                  P>|t|  \n",
       "CUMPRIMENTO_NORMALIZADO                             0.0  \n",
       "OBRIGAÇÃO_FINAL_POR_SALA                            0.0  \n",
       "CUMPRIMENTO_NORMALIZADO:OBRIGAÇÃO_FINAL_POR_SALA    0.0  \n",
       "DIAS_FUNCIONAMENTO                                  0.0  "
      ]
     },
     "execution_count": 10,
     "metadata": {},
     "output_type": "execute_result"
    }
   ],
   "source": [
    "pd.read_html(reg_w51.summary().tables[1].as_html(),header=0,index_col=0)[0].iloc[-4:,:-2]"
   ]
  },
  {
   "cell_type": "code",
   "execution_count": 11,
   "metadata": {
    "ExecuteTime": {
     "end_time": "2021-06-09T19:05:38.682292Z",
     "start_time": "2021-06-09T19:05:38.220156Z"
    }
   },
   "outputs": [
    {
     "data": {
      "text/html": [
       "<div>\n",
       "<style scoped>\n",
       "    .dataframe tbody tr th:only-of-type {\n",
       "        vertical-align: middle;\n",
       "    }\n",
       "\n",
       "    .dataframe tbody tr th {\n",
       "        vertical-align: top;\n",
       "    }\n",
       "\n",
       "    .dataframe thead th {\n",
       "        text-align: right;\n",
       "    }\n",
       "</style>\n",
       "<table border=\"1\" class=\"dataframe\">\n",
       "  <thead>\n",
       "    <tr style=\"text-align: right;\">\n",
       "      <th></th>\n",
       "      <th>coef</th>\n",
       "      <th>std err</th>\n",
       "      <th>t</th>\n",
       "      <th>P&gt;|t|</th>\n",
       "    </tr>\n",
       "  </thead>\n",
       "  <tbody>\n",
       "    <tr>\n",
       "      <th>CUMPRIMENTO_NORMALIZADO</th>\n",
       "      <td>0.4093</td>\n",
       "      <td>0.081</td>\n",
       "      <td>5.030</td>\n",
       "      <td>0.0</td>\n",
       "    </tr>\n",
       "    <tr>\n",
       "      <th>OBRIGAÇÃO_FINAL_POR_SALA</th>\n",
       "      <td>0.0064</td>\n",
       "      <td>0.001</td>\n",
       "      <td>4.554</td>\n",
       "      <td>0.0</td>\n",
       "    </tr>\n",
       "    <tr>\n",
       "      <th>CUMPRIMENTO_NORMALIZADO:OBRIGAÇÃO_FINAL_POR_SALA</th>\n",
       "      <td>-0.0087</td>\n",
       "      <td>0.002</td>\n",
       "      <td>-4.781</td>\n",
       "      <td>0.0</td>\n",
       "    </tr>\n",
       "    <tr>\n",
       "      <th>DIAS_FUNCIONAMENTO</th>\n",
       "      <td>0.0065</td>\n",
       "      <td>0.000</td>\n",
       "      <td>47.323</td>\n",
       "      <td>0.0</td>\n",
       "    </tr>\n",
       "  </tbody>\n",
       "</table>\n",
       "</div>"
      ],
      "text/plain": [
       "                                                    coef  std err       t  \\\n",
       "CUMPRIMENTO_NORMALIZADO                           0.4093    0.081   5.030   \n",
       "OBRIGAÇÃO_FINAL_POR_SALA                          0.0064    0.001   4.554   \n",
       "CUMPRIMENTO_NORMALIZADO:OBRIGAÇÃO_FINAL_POR_SALA -0.0087    0.002  -4.781   \n",
       "DIAS_FUNCIONAMENTO                                0.0065    0.000  47.323   \n",
       "\n",
       "                                                  P>|t|  \n",
       "CUMPRIMENTO_NORMALIZADO                             0.0  \n",
       "OBRIGAÇÃO_FINAL_POR_SALA                            0.0  \n",
       "CUMPRIMENTO_NORMALIZADO:OBRIGAÇÃO_FINAL_POR_SALA    0.0  \n",
       "DIAS_FUNCIONAMENTO                                  0.0  "
      ]
     },
     "execution_count": 11,
     "metadata": {},
     "output_type": "execute_result"
    }
   ],
   "source": [
    "pd.read_html(reg_w52.summary().tables[1].as_html(),header=0,index_col=0)[0].iloc[-4:,:-2]"
   ]
  },
  {
   "cell_type": "code",
   "execution_count": 12,
   "metadata": {
    "ExecuteTime": {
     "end_time": "2021-06-09T19:05:39.572079Z",
     "start_time": "2021-06-09T19:05:39.045723Z"
    }
   },
   "outputs": [
    {
     "data": {
      "text/html": [
       "<div>\n",
       "<style scoped>\n",
       "    .dataframe tbody tr th:only-of-type {\n",
       "        vertical-align: middle;\n",
       "    }\n",
       "\n",
       "    .dataframe tbody tr th {\n",
       "        vertical-align: top;\n",
       "    }\n",
       "\n",
       "    .dataframe thead th {\n",
       "        text-align: right;\n",
       "    }\n",
       "</style>\n",
       "<table border=\"1\" class=\"dataframe\">\n",
       "  <thead>\n",
       "    <tr style=\"text-align: right;\">\n",
       "      <th></th>\n",
       "      <th>coef</th>\n",
       "      <th>std err</th>\n",
       "      <th>t</th>\n",
       "      <th>P&gt;|t|</th>\n",
       "    </tr>\n",
       "  </thead>\n",
       "  <tbody>\n",
       "    <tr>\n",
       "      <th>CUMPRIMENTO_NORMALIZADO</th>\n",
       "      <td>0.9026</td>\n",
       "      <td>0.167</td>\n",
       "      <td>5.407</td>\n",
       "      <td>0.000</td>\n",
       "    </tr>\n",
       "    <tr>\n",
       "      <th>OBRIGAÇÃO_FINAL_POR_SALA</th>\n",
       "      <td>0.0071</td>\n",
       "      <td>0.003</td>\n",
       "      <td>2.569</td>\n",
       "      <td>0.010</td>\n",
       "    </tr>\n",
       "    <tr>\n",
       "      <th>CUMPRIMENTO_NORMALIZADO:OBRIGAÇÃO_FINAL_POR_SALA</th>\n",
       "      <td>-0.0116</td>\n",
       "      <td>0.004</td>\n",
       "      <td>-3.118</td>\n",
       "      <td>0.002</td>\n",
       "    </tr>\n",
       "    <tr>\n",
       "      <th>DIAS_FUNCIONAMENTO</th>\n",
       "      <td>0.0087</td>\n",
       "      <td>0.000</td>\n",
       "      <td>22.553</td>\n",
       "      <td>0.000</td>\n",
       "    </tr>\n",
       "  </tbody>\n",
       "</table>\n",
       "</div>"
      ],
      "text/plain": [
       "                                                    coef  std err       t  \\\n",
       "CUMPRIMENTO_NORMALIZADO                           0.9026    0.167   5.407   \n",
       "OBRIGAÇÃO_FINAL_POR_SALA                          0.0071    0.003   2.569   \n",
       "CUMPRIMENTO_NORMALIZADO:OBRIGAÇÃO_FINAL_POR_SALA -0.0116    0.004  -3.118   \n",
       "DIAS_FUNCIONAMENTO                                0.0087    0.000  22.553   \n",
       "\n",
       "                                                  P>|t|  \n",
       "CUMPRIMENTO_NORMALIZADO                           0.000  \n",
       "OBRIGAÇÃO_FINAL_POR_SALA                          0.010  \n",
       "CUMPRIMENTO_NORMALIZADO:OBRIGAÇÃO_FINAL_POR_SALA  0.002  \n",
       "DIAS_FUNCIONAMENTO                                0.000  "
      ]
     },
     "execution_count": 12,
     "metadata": {},
     "output_type": "execute_result"
    }
   ],
   "source": [
    "pd.read_html(reg_w53.summary().tables[1].as_html(),header=0,index_col=0)[0].iloc[-4:,:-2]"
   ]
  },
  {
   "cell_type": "markdown",
   "metadata": {},
   "source": [
    "###### Triangular kernel"
   ]
  },
  {
   "cell_type": "code",
   "execution_count": 13,
   "metadata": {
    "ExecuteTime": {
     "end_time": "2021-06-09T19:06:55.280238Z",
     "start_time": "2021-06-09T19:06:51.745942Z"
    }
   },
   "outputs": [],
   "source": [
    "formul = 'np.log(PUBLICO) ~ CUMPRIMENTO_LINEAR*OBRIGAÇÃO_FINAL_POR_SALA + DIAS_FUNCIONAMENTO + C(REGISTRO_COMPLEXO) + C(ANO_CINEMATOGRAFICO)'\n",
    "data = [tds_1719, est_1719, bras_1719]\n",
    "\n",
    "# all\n",
    "reg_w54 = smf.ols(formula = formul, data=data[0]).fit()\n",
    "\n",
    "# foreign\n",
    "reg_w55 = smf.ols(formula = formul, data=data[1]).fit()\n",
    "\n",
    "# Brazilian\n",
    "reg_w56 = smf.ols(formula = formul, data=data[2]).fit()"
   ]
  },
  {
   "cell_type": "code",
   "execution_count": 14,
   "metadata": {
    "ExecuteTime": {
     "end_time": "2021-06-09T19:06:56.200609Z",
     "start_time": "2021-06-09T19:06:55.691561Z"
    }
   },
   "outputs": [
    {
     "data": {
      "text/html": [
       "<div>\n",
       "<style scoped>\n",
       "    .dataframe tbody tr th:only-of-type {\n",
       "        vertical-align: middle;\n",
       "    }\n",
       "\n",
       "    .dataframe tbody tr th {\n",
       "        vertical-align: top;\n",
       "    }\n",
       "\n",
       "    .dataframe thead th {\n",
       "        text-align: right;\n",
       "    }\n",
       "</style>\n",
       "<table border=\"1\" class=\"dataframe\">\n",
       "  <thead>\n",
       "    <tr style=\"text-align: right;\">\n",
       "      <th></th>\n",
       "      <th>coef</th>\n",
       "      <th>std err</th>\n",
       "      <th>t</th>\n",
       "      <th>P&gt;|t|</th>\n",
       "    </tr>\n",
       "  </thead>\n",
       "  <tbody>\n",
       "    <tr>\n",
       "      <th>CUMPRIMENTO_LINEAR</th>\n",
       "      <td>1.6050</td>\n",
       "      <td>0.307</td>\n",
       "      <td>5.228</td>\n",
       "      <td>0.0</td>\n",
       "    </tr>\n",
       "    <tr>\n",
       "      <th>OBRIGAÇÃO_FINAL_POR_SALA</th>\n",
       "      <td>0.0132</td>\n",
       "      <td>0.003</td>\n",
       "      <td>3.891</td>\n",
       "      <td>0.0</td>\n",
       "    </tr>\n",
       "    <tr>\n",
       "      <th>CUMPRIMENTO_LINEAR:OBRIGAÇÃO_FINAL_POR_SALA</th>\n",
       "      <td>-0.0357</td>\n",
       "      <td>0.009</td>\n",
       "      <td>-3.924</td>\n",
       "      <td>0.0</td>\n",
       "    </tr>\n",
       "    <tr>\n",
       "      <th>DIAS_FUNCIONAMENTO</th>\n",
       "      <td>0.0064</td>\n",
       "      <td>0.000</td>\n",
       "      <td>50.275</td>\n",
       "      <td>0.0</td>\n",
       "    </tr>\n",
       "  </tbody>\n",
       "</table>\n",
       "</div>"
      ],
      "text/plain": [
       "                                               coef  std err       t  P>|t|\n",
       "CUMPRIMENTO_LINEAR                           1.6050    0.307   5.228    0.0\n",
       "OBRIGAÇÃO_FINAL_POR_SALA                     0.0132    0.003   3.891    0.0\n",
       "CUMPRIMENTO_LINEAR:OBRIGAÇÃO_FINAL_POR_SALA -0.0357    0.009  -3.924    0.0\n",
       "DIAS_FUNCIONAMENTO                           0.0064    0.000  50.275    0.0"
      ]
     },
     "execution_count": 14,
     "metadata": {},
     "output_type": "execute_result"
    }
   ],
   "source": [
    "pd.read_html(reg_w54.summary().tables[1].as_html(),header=0,index_col=0)[0].iloc[-4:,:-2]"
   ]
  },
  {
   "cell_type": "code",
   "execution_count": 15,
   "metadata": {
    "ExecuteTime": {
     "end_time": "2021-06-09T19:06:57.051833Z",
     "start_time": "2021-06-09T19:06:56.582134Z"
    }
   },
   "outputs": [
    {
     "data": {
      "text/html": [
       "<div>\n",
       "<style scoped>\n",
       "    .dataframe tbody tr th:only-of-type {\n",
       "        vertical-align: middle;\n",
       "    }\n",
       "\n",
       "    .dataframe tbody tr th {\n",
       "        vertical-align: top;\n",
       "    }\n",
       "\n",
       "    .dataframe thead th {\n",
       "        text-align: right;\n",
       "    }\n",
       "</style>\n",
       "<table border=\"1\" class=\"dataframe\">\n",
       "  <thead>\n",
       "    <tr style=\"text-align: right;\">\n",
       "      <th></th>\n",
       "      <th>coef</th>\n",
       "      <th>std err</th>\n",
       "      <th>t</th>\n",
       "      <th>P&gt;|t|</th>\n",
       "    </tr>\n",
       "  </thead>\n",
       "  <tbody>\n",
       "    <tr>\n",
       "      <th>CUMPRIMENTO_LINEAR</th>\n",
       "      <td>2.1658</td>\n",
       "      <td>0.364</td>\n",
       "      <td>5.957</td>\n",
       "      <td>0.0</td>\n",
       "    </tr>\n",
       "    <tr>\n",
       "      <th>OBRIGAÇÃO_FINAL_POR_SALA</th>\n",
       "      <td>0.0217</td>\n",
       "      <td>0.004</td>\n",
       "      <td>5.571</td>\n",
       "      <td>0.0</td>\n",
       "    </tr>\n",
       "    <tr>\n",
       "      <th>CUMPRIMENTO_LINEAR:OBRIGAÇÃO_FINAL_POR_SALA</th>\n",
       "      <td>-0.0578</td>\n",
       "      <td>0.010</td>\n",
       "      <td>-5.531</td>\n",
       "      <td>0.0</td>\n",
       "    </tr>\n",
       "    <tr>\n",
       "      <th>DIAS_FUNCIONAMENTO</th>\n",
       "      <td>0.0065</td>\n",
       "      <td>0.000</td>\n",
       "      <td>47.432</td>\n",
       "      <td>0.0</td>\n",
       "    </tr>\n",
       "  </tbody>\n",
       "</table>\n",
       "</div>"
      ],
      "text/plain": [
       "                                               coef  std err       t  P>|t|\n",
       "CUMPRIMENTO_LINEAR                           2.1658    0.364   5.957    0.0\n",
       "OBRIGAÇÃO_FINAL_POR_SALA                     0.0217    0.004   5.571    0.0\n",
       "CUMPRIMENTO_LINEAR:OBRIGAÇÃO_FINAL_POR_SALA -0.0578    0.010  -5.531    0.0\n",
       "DIAS_FUNCIONAMENTO                           0.0065    0.000  47.432    0.0"
      ]
     },
     "execution_count": 15,
     "metadata": {},
     "output_type": "execute_result"
    }
   ],
   "source": [
    "pd.read_html(reg_w55.summary().tables[1].as_html(),header=0,index_col=0)[0].iloc[-4:,:-2]"
   ]
  },
  {
   "cell_type": "code",
   "execution_count": 16,
   "metadata": {
    "ExecuteTime": {
     "end_time": "2021-06-09T19:06:57.831841Z",
     "start_time": "2021-06-09T19:06:57.385542Z"
    }
   },
   "outputs": [
    {
     "data": {
      "text/html": [
       "<div>\n",
       "<style scoped>\n",
       "    .dataframe tbody tr th:only-of-type {\n",
       "        vertical-align: middle;\n",
       "    }\n",
       "\n",
       "    .dataframe tbody tr th {\n",
       "        vertical-align: top;\n",
       "    }\n",
       "\n",
       "    .dataframe thead th {\n",
       "        text-align: right;\n",
       "    }\n",
       "</style>\n",
       "<table border=\"1\" class=\"dataframe\">\n",
       "  <thead>\n",
       "    <tr style=\"text-align: right;\">\n",
       "      <th></th>\n",
       "      <th>coef</th>\n",
       "      <th>std err</th>\n",
       "      <th>t</th>\n",
       "      <th>P&gt;|t|</th>\n",
       "    </tr>\n",
       "  </thead>\n",
       "  <tbody>\n",
       "    <tr>\n",
       "      <th>CUMPRIMENTO_LINEAR</th>\n",
       "      <td>0.7732</td>\n",
       "      <td>0.659</td>\n",
       "      <td>1.174</td>\n",
       "      <td>0.241</td>\n",
       "    </tr>\n",
       "    <tr>\n",
       "      <th>OBRIGAÇÃO_FINAL_POR_SALA</th>\n",
       "      <td>-0.0101</td>\n",
       "      <td>0.007</td>\n",
       "      <td>-1.413</td>\n",
       "      <td>0.158</td>\n",
       "    </tr>\n",
       "    <tr>\n",
       "      <th>CUMPRIMENTO_LINEAR:OBRIGAÇÃO_FINAL_POR_SALA</th>\n",
       "      <td>0.0275</td>\n",
       "      <td>0.019</td>\n",
       "      <td>1.417</td>\n",
       "      <td>0.157</td>\n",
       "    </tr>\n",
       "    <tr>\n",
       "      <th>DIAS_FUNCIONAMENTO</th>\n",
       "      <td>0.0087</td>\n",
       "      <td>0.000</td>\n",
       "      <td>22.621</td>\n",
       "      <td>0.000</td>\n",
       "    </tr>\n",
       "  </tbody>\n",
       "</table>\n",
       "</div>"
      ],
      "text/plain": [
       "                                               coef  std err       t  P>|t|\n",
       "CUMPRIMENTO_LINEAR                           0.7732    0.659   1.174  0.241\n",
       "OBRIGAÇÃO_FINAL_POR_SALA                    -0.0101    0.007  -1.413  0.158\n",
       "CUMPRIMENTO_LINEAR:OBRIGAÇÃO_FINAL_POR_SALA  0.0275    0.019   1.417  0.157\n",
       "DIAS_FUNCIONAMENTO                           0.0087    0.000  22.621  0.000"
      ]
     },
     "execution_count": 16,
     "metadata": {},
     "output_type": "execute_result"
    }
   ],
   "source": [
    "pd.read_html(reg_w56.summary().tables[1].as_html(),header=0,index_col=0)[0].iloc[-4:,:-2]"
   ]
  },
  {
   "cell_type": "markdown",
   "metadata": {},
   "source": [
    "###### Triweight kernel"
   ]
  },
  {
   "cell_type": "code",
   "execution_count": 17,
   "metadata": {
    "ExecuteTime": {
     "end_time": "2021-06-09T19:08:28.721969Z",
     "start_time": "2021-06-09T19:08:25.085188Z"
    }
   },
   "outputs": [],
   "source": [
    "formul = 'np.log(PUBLICO) ~ CUMPRIMENTO_TRIWEIGHT*OBRIGAÇÃO_FINAL_POR_SALA + DIAS_FUNCIONAMENTO + C(REGISTRO_COMPLEXO) + C(ANO_CINEMATOGRAFICO)'\n",
    "data = [tds_1719, est_1719, bras_1719]\n",
    "\n",
    "# all\n",
    "reg_w57 = smf.ols(formula = formul, data=data[0]).fit()\n",
    "\n",
    "# foreign\n",
    "reg_w58 = smf.ols(formula = formul, data=data[1]).fit()\n",
    "\n",
    "# Brazilian\n",
    "reg_w59 = smf.ols(formula = formul, data=data[2]).fit()"
   ]
  },
  {
   "cell_type": "code",
   "execution_count": 18,
   "metadata": {
    "ExecuteTime": {
     "end_time": "2021-06-09T19:08:29.711935Z",
     "start_time": "2021-06-09T19:08:29.135529Z"
    }
   },
   "outputs": [
    {
     "data": {
      "text/html": [
       "<div>\n",
       "<style scoped>\n",
       "    .dataframe tbody tr th:only-of-type {\n",
       "        vertical-align: middle;\n",
       "    }\n",
       "\n",
       "    .dataframe tbody tr th {\n",
       "        vertical-align: top;\n",
       "    }\n",
       "\n",
       "    .dataframe thead th {\n",
       "        text-align: right;\n",
       "    }\n",
       "</style>\n",
       "<table border=\"1\" class=\"dataframe\">\n",
       "  <thead>\n",
       "    <tr style=\"text-align: right;\">\n",
       "      <th></th>\n",
       "      <th>coef</th>\n",
       "      <th>std err</th>\n",
       "      <th>t</th>\n",
       "      <th>P&gt;|t|</th>\n",
       "    </tr>\n",
       "  </thead>\n",
       "  <tbody>\n",
       "    <tr>\n",
       "      <th>CUMPRIMENTO_TRIWEIGHT</th>\n",
       "      <td>0.3080</td>\n",
       "      <td>0.064</td>\n",
       "      <td>4.802</td>\n",
       "      <td>0.0</td>\n",
       "    </tr>\n",
       "    <tr>\n",
       "      <th>OBRIGAÇÃO_FINAL_POR_SALA</th>\n",
       "      <td>0.0042</td>\n",
       "      <td>0.001</td>\n",
       "      <td>3.769</td>\n",
       "      <td>0.0</td>\n",
       "    </tr>\n",
       "    <tr>\n",
       "      <th>CUMPRIMENTO_TRIWEIGHT:OBRIGAÇÃO_FINAL_POR_SALA</th>\n",
       "      <td>-0.0060</td>\n",
       "      <td>0.001</td>\n",
       "      <td>-4.208</td>\n",
       "      <td>0.0</td>\n",
       "    </tr>\n",
       "    <tr>\n",
       "      <th>DIAS_FUNCIONAMENTO</th>\n",
       "      <td>0.0064</td>\n",
       "      <td>0.000</td>\n",
       "      <td>50.504</td>\n",
       "      <td>0.0</td>\n",
       "    </tr>\n",
       "  </tbody>\n",
       "</table>\n",
       "</div>"
      ],
      "text/plain": [
       "                                                  coef  std err       t  P>|t|\n",
       "CUMPRIMENTO_TRIWEIGHT                           0.3080    0.064   4.802    0.0\n",
       "OBRIGAÇÃO_FINAL_POR_SALA                        0.0042    0.001   3.769    0.0\n",
       "CUMPRIMENTO_TRIWEIGHT:OBRIGAÇÃO_FINAL_POR_SALA -0.0060    0.001  -4.208    0.0\n",
       "DIAS_FUNCIONAMENTO                              0.0064    0.000  50.504    0.0"
      ]
     },
     "execution_count": 18,
     "metadata": {},
     "output_type": "execute_result"
    }
   ],
   "source": [
    "pd.read_html(reg_w57.summary().tables[1].as_html(),header=0,index_col=0)[0].iloc[-4:,:-2]"
   ]
  },
  {
   "cell_type": "code",
   "execution_count": 19,
   "metadata": {
    "ExecuteTime": {
     "end_time": "2021-06-09T19:08:30.681828Z",
     "start_time": "2021-06-09T19:08:30.107758Z"
    }
   },
   "outputs": [
    {
     "data": {
      "text/html": [
       "<div>\n",
       "<style scoped>\n",
       "    .dataframe tbody tr th:only-of-type {\n",
       "        vertical-align: middle;\n",
       "    }\n",
       "\n",
       "    .dataframe tbody tr th {\n",
       "        vertical-align: top;\n",
       "    }\n",
       "\n",
       "    .dataframe thead th {\n",
       "        text-align: right;\n",
       "    }\n",
       "</style>\n",
       "<table border=\"1\" class=\"dataframe\">\n",
       "  <thead>\n",
       "    <tr style=\"text-align: right;\">\n",
       "      <th></th>\n",
       "      <th>coef</th>\n",
       "      <th>std err</th>\n",
       "      <th>t</th>\n",
       "      <th>P&gt;|t|</th>\n",
       "    </tr>\n",
       "  </thead>\n",
       "  <tbody>\n",
       "    <tr>\n",
       "      <th>CUMPRIMENTO_TRIWEIGHT</th>\n",
       "      <td>0.2805</td>\n",
       "      <td>0.069</td>\n",
       "      <td>4.044</td>\n",
       "      <td>0.0</td>\n",
       "    </tr>\n",
       "    <tr>\n",
       "      <th>OBRIGAÇÃO_FINAL_POR_SALA</th>\n",
       "      <td>0.0046</td>\n",
       "      <td>0.001</td>\n",
       "      <td>3.877</td>\n",
       "      <td>0.0</td>\n",
       "    </tr>\n",
       "    <tr>\n",
       "      <th>CUMPRIMENTO_TRIWEIGHT:OBRIGAÇÃO_FINAL_POR_SALA</th>\n",
       "      <td>-0.0062</td>\n",
       "      <td>0.002</td>\n",
       "      <td>-4.009</td>\n",
       "      <td>0.0</td>\n",
       "    </tr>\n",
       "    <tr>\n",
       "      <th>DIAS_FUNCIONAMENTO</th>\n",
       "      <td>0.0066</td>\n",
       "      <td>0.000</td>\n",
       "      <td>47.773</td>\n",
       "      <td>0.0</td>\n",
       "    </tr>\n",
       "  </tbody>\n",
       "</table>\n",
       "</div>"
      ],
      "text/plain": [
       "                                                  coef  std err       t  P>|t|\n",
       "CUMPRIMENTO_TRIWEIGHT                           0.2805    0.069   4.044    0.0\n",
       "OBRIGAÇÃO_FINAL_POR_SALA                        0.0046    0.001   3.877    0.0\n",
       "CUMPRIMENTO_TRIWEIGHT:OBRIGAÇÃO_FINAL_POR_SALA -0.0062    0.002  -4.009    0.0\n",
       "DIAS_FUNCIONAMENTO                              0.0066    0.000  47.773    0.0"
      ]
     },
     "execution_count": 19,
     "metadata": {},
     "output_type": "execute_result"
    }
   ],
   "source": [
    "pd.read_html(reg_w58.summary().tables[1].as_html(),header=0,index_col=0)[0].iloc[-4:,:-2]"
   ]
  },
  {
   "cell_type": "code",
   "execution_count": 20,
   "metadata": {
    "ExecuteTime": {
     "end_time": "2021-06-09T19:08:31.467444Z",
     "start_time": "2021-06-09T19:08:31.043447Z"
    },
    "scrolled": true
   },
   "outputs": [
    {
     "data": {
      "text/html": [
       "<div>\n",
       "<style scoped>\n",
       "    .dataframe tbody tr th:only-of-type {\n",
       "        vertical-align: middle;\n",
       "    }\n",
       "\n",
       "    .dataframe tbody tr th {\n",
       "        vertical-align: top;\n",
       "    }\n",
       "\n",
       "    .dataframe thead th {\n",
       "        text-align: right;\n",
       "    }\n",
       "</style>\n",
       "<table border=\"1\" class=\"dataframe\">\n",
       "  <thead>\n",
       "    <tr style=\"text-align: right;\">\n",
       "      <th></th>\n",
       "      <th>coef</th>\n",
       "      <th>std err</th>\n",
       "      <th>t</th>\n",
       "      <th>P&gt;|t|</th>\n",
       "    </tr>\n",
       "  </thead>\n",
       "  <tbody>\n",
       "    <tr>\n",
       "      <th>CUMPRIMENTO_TRIWEIGHT</th>\n",
       "      <td>0.7718</td>\n",
       "      <td>0.138</td>\n",
       "      <td>5.574</td>\n",
       "      <td>0.000</td>\n",
       "    </tr>\n",
       "    <tr>\n",
       "      <th>OBRIGAÇÃO_FINAL_POR_SALA</th>\n",
       "      <td>0.0058</td>\n",
       "      <td>0.002</td>\n",
       "      <td>2.533</td>\n",
       "      <td>0.011</td>\n",
       "    </tr>\n",
       "    <tr>\n",
       "      <th>CUMPRIMENTO_TRIWEIGHT:OBRIGAÇÃO_FINAL_POR_SALA</th>\n",
       "      <td>-0.0098</td>\n",
       "      <td>0.003</td>\n",
       "      <td>-3.174</td>\n",
       "      <td>0.002</td>\n",
       "    </tr>\n",
       "    <tr>\n",
       "      <th>DIAS_FUNCIONAMENTO</th>\n",
       "      <td>0.0086</td>\n",
       "      <td>0.000</td>\n",
       "      <td>22.374</td>\n",
       "      <td>0.000</td>\n",
       "    </tr>\n",
       "  </tbody>\n",
       "</table>\n",
       "</div>"
      ],
      "text/plain": [
       "                                                  coef  std err       t  P>|t|\n",
       "CUMPRIMENTO_TRIWEIGHT                           0.7718    0.138   5.574  0.000\n",
       "OBRIGAÇÃO_FINAL_POR_SALA                        0.0058    0.002   2.533  0.011\n",
       "CUMPRIMENTO_TRIWEIGHT:OBRIGAÇÃO_FINAL_POR_SALA -0.0098    0.003  -3.174  0.002\n",
       "DIAS_FUNCIONAMENTO                              0.0086    0.000  22.374  0.000"
      ]
     },
     "execution_count": 20,
     "metadata": {},
     "output_type": "execute_result"
    }
   ],
   "source": [
    "pd.read_html(reg_w59.summary().tables[1].as_html(),header=0,index_col=0)[0].iloc[-4:,:-2]"
   ]
  },
  {
   "cell_type": "markdown",
   "metadata": {},
   "source": [
    "##### 2017-2018"
   ]
  },
  {
   "cell_type": "markdown",
   "metadata": {},
   "source": [
    "###### Quadratic kernel"
   ]
  },
  {
   "cell_type": "code",
   "execution_count": 21,
   "metadata": {
    "ExecuteTime": {
     "end_time": "2021-06-09T19:09:29.852002Z",
     "start_time": "2021-06-09T19:09:27.735687Z"
    }
   },
   "outputs": [],
   "source": [
    "formul = 'np.log(PUBLICO) ~ CUMPRIMENTO_PROP_TRUNCADO*OBRIGAÇÃO_FINAL_POR_SALA + DIAS_FUNCIONAMENTO + C(REGISTRO_COMPLEXO) + C(ANO_CINEMATOGRAFICO)'\n",
    "data = [tds_1718, est_1718, bras_1718]\n",
    "\n",
    "# all\n",
    "reg_w60 = smf.ols(formula = formul, data=data[0]).fit()\n",
    "\n",
    "# foreign\n",
    "reg_w61 = smf.ols(formula = formul, data=data[1]).fit()\n",
    "\n",
    "# Brazilian\n",
    "reg_w62 = smf.ols(formula = formul, data=data[2]).fit()"
   ]
  },
  {
   "cell_type": "code",
   "execution_count": 22,
   "metadata": {
    "ExecuteTime": {
     "end_time": "2021-06-09T19:09:30.816593Z",
     "start_time": "2021-06-09T19:09:30.309713Z"
    }
   },
   "outputs": [
    {
     "data": {
      "text/html": [
       "<div>\n",
       "<style scoped>\n",
       "    .dataframe tbody tr th:only-of-type {\n",
       "        vertical-align: middle;\n",
       "    }\n",
       "\n",
       "    .dataframe tbody tr th {\n",
       "        vertical-align: top;\n",
       "    }\n",
       "\n",
       "    .dataframe thead th {\n",
       "        text-align: right;\n",
       "    }\n",
       "</style>\n",
       "<table border=\"1\" class=\"dataframe\">\n",
       "  <thead>\n",
       "    <tr style=\"text-align: right;\">\n",
       "      <th></th>\n",
       "      <th>coef</th>\n",
       "      <th>std err</th>\n",
       "      <th>t</th>\n",
       "      <th>P&gt;|t|</th>\n",
       "    </tr>\n",
       "  </thead>\n",
       "  <tbody>\n",
       "    <tr>\n",
       "      <th>CUMPRIMENTO_PROP_TRUNCADO</th>\n",
       "      <td>0.5520</td>\n",
       "      <td>0.100</td>\n",
       "      <td>5.523</td>\n",
       "      <td>0.0</td>\n",
       "    </tr>\n",
       "    <tr>\n",
       "      <th>OBRIGAÇÃO_FINAL_POR_SALA</th>\n",
       "      <td>0.0096</td>\n",
       "      <td>0.002</td>\n",
       "      <td>4.226</td>\n",
       "      <td>0.0</td>\n",
       "    </tr>\n",
       "    <tr>\n",
       "      <th>CUMPRIMENTO_PROP_TRUNCADO:OBRIGAÇÃO_FINAL_POR_SALA</th>\n",
       "      <td>-0.0134</td>\n",
       "      <td>0.003</td>\n",
       "      <td>-5.115</td>\n",
       "      <td>0.0</td>\n",
       "    </tr>\n",
       "    <tr>\n",
       "      <th>DIAS_FUNCIONAMENTO</th>\n",
       "      <td>0.0066</td>\n",
       "      <td>0.000</td>\n",
       "      <td>30.913</td>\n",
       "      <td>0.0</td>\n",
       "    </tr>\n",
       "  </tbody>\n",
       "</table>\n",
       "</div>"
      ],
      "text/plain": [
       "                                                      coef  std err       t  \\\n",
       "CUMPRIMENTO_PROP_TRUNCADO                           0.5520    0.100   5.523   \n",
       "OBRIGAÇÃO_FINAL_POR_SALA                            0.0096    0.002   4.226   \n",
       "CUMPRIMENTO_PROP_TRUNCADO:OBRIGAÇÃO_FINAL_POR_SALA -0.0134    0.003  -5.115   \n",
       "DIAS_FUNCIONAMENTO                                  0.0066    0.000  30.913   \n",
       "\n",
       "                                                    P>|t|  \n",
       "CUMPRIMENTO_PROP_TRUNCADO                             0.0  \n",
       "OBRIGAÇÃO_FINAL_POR_SALA                              0.0  \n",
       "CUMPRIMENTO_PROP_TRUNCADO:OBRIGAÇÃO_FINAL_POR_SALA    0.0  \n",
       "DIAS_FUNCIONAMENTO                                    0.0  "
      ]
     },
     "execution_count": 22,
     "metadata": {},
     "output_type": "execute_result"
    }
   ],
   "source": [
    "pd.read_html(reg_w60.summary().tables[1].as_html(),header=0,index_col=0)[0].iloc[-4:,:-2]"
   ]
  },
  {
   "cell_type": "code",
   "execution_count": 23,
   "metadata": {
    "ExecuteTime": {
     "end_time": "2021-06-09T19:09:31.658688Z",
     "start_time": "2021-06-09T19:09:31.153572Z"
    }
   },
   "outputs": [
    {
     "data": {
      "text/html": [
       "<div>\n",
       "<style scoped>\n",
       "    .dataframe tbody tr th:only-of-type {\n",
       "        vertical-align: middle;\n",
       "    }\n",
       "\n",
       "    .dataframe tbody tr th {\n",
       "        vertical-align: top;\n",
       "    }\n",
       "\n",
       "    .dataframe thead th {\n",
       "        text-align: right;\n",
       "    }\n",
       "</style>\n",
       "<table border=\"1\" class=\"dataframe\">\n",
       "  <thead>\n",
       "    <tr style=\"text-align: right;\">\n",
       "      <th></th>\n",
       "      <th>coef</th>\n",
       "      <th>std err</th>\n",
       "      <th>t</th>\n",
       "      <th>P&gt;|t|</th>\n",
       "    </tr>\n",
       "  </thead>\n",
       "  <tbody>\n",
       "    <tr>\n",
       "      <th>CUMPRIMENTO_PROP_TRUNCADO</th>\n",
       "      <td>0.6140</td>\n",
       "      <td>0.105</td>\n",
       "      <td>5.866</td>\n",
       "      <td>0.0</td>\n",
       "    </tr>\n",
       "    <tr>\n",
       "      <th>OBRIGAÇÃO_FINAL_POR_SALA</th>\n",
       "      <td>0.0122</td>\n",
       "      <td>0.002</td>\n",
       "      <td>5.125</td>\n",
       "      <td>0.0</td>\n",
       "    </tr>\n",
       "    <tr>\n",
       "      <th>CUMPRIMENTO_PROP_TRUNCADO:OBRIGAÇÃO_FINAL_POR_SALA</th>\n",
       "      <td>-0.0162</td>\n",
       "      <td>0.003</td>\n",
       "      <td>-5.904</td>\n",
       "      <td>0.0</td>\n",
       "    </tr>\n",
       "    <tr>\n",
       "      <th>DIAS_FUNCIONAMENTO</th>\n",
       "      <td>0.0067</td>\n",
       "      <td>0.000</td>\n",
       "      <td>29.591</td>\n",
       "      <td>0.0</td>\n",
       "    </tr>\n",
       "  </tbody>\n",
       "</table>\n",
       "</div>"
      ],
      "text/plain": [
       "                                                      coef  std err       t  \\\n",
       "CUMPRIMENTO_PROP_TRUNCADO                           0.6140    0.105   5.866   \n",
       "OBRIGAÇÃO_FINAL_POR_SALA                            0.0122    0.002   5.125   \n",
       "CUMPRIMENTO_PROP_TRUNCADO:OBRIGAÇÃO_FINAL_POR_SALA -0.0162    0.003  -5.904   \n",
       "DIAS_FUNCIONAMENTO                                  0.0067    0.000  29.591   \n",
       "\n",
       "                                                    P>|t|  \n",
       "CUMPRIMENTO_PROP_TRUNCADO                             0.0  \n",
       "OBRIGAÇÃO_FINAL_POR_SALA                              0.0  \n",
       "CUMPRIMENTO_PROP_TRUNCADO:OBRIGAÇÃO_FINAL_POR_SALA    0.0  \n",
       "DIAS_FUNCIONAMENTO                                    0.0  "
      ]
     },
     "execution_count": 23,
     "metadata": {},
     "output_type": "execute_result"
    }
   ],
   "source": [
    "pd.read_html(reg_w61.summary().tables[1].as_html(),header=0,index_col=0)[0].iloc[-4:,:-2]"
   ]
  },
  {
   "cell_type": "code",
   "execution_count": 24,
   "metadata": {
    "ExecuteTime": {
     "end_time": "2021-06-09T19:09:32.509968Z",
     "start_time": "2021-06-09T19:09:32.073828Z"
    }
   },
   "outputs": [
    {
     "data": {
      "text/html": [
       "<div>\n",
       "<style scoped>\n",
       "    .dataframe tbody tr th:only-of-type {\n",
       "        vertical-align: middle;\n",
       "    }\n",
       "\n",
       "    .dataframe tbody tr th {\n",
       "        vertical-align: top;\n",
       "    }\n",
       "\n",
       "    .dataframe thead th {\n",
       "        text-align: right;\n",
       "    }\n",
       "</style>\n",
       "<table border=\"1\" class=\"dataframe\">\n",
       "  <thead>\n",
       "    <tr style=\"text-align: right;\">\n",
       "      <th></th>\n",
       "      <th>coef</th>\n",
       "      <th>std err</th>\n",
       "      <th>t</th>\n",
       "      <th>P&gt;|t|</th>\n",
       "    </tr>\n",
       "  </thead>\n",
       "  <tbody>\n",
       "    <tr>\n",
       "      <th>CUMPRIMENTO_PROP_TRUNCADO</th>\n",
       "      <td>0.9457</td>\n",
       "      <td>0.264</td>\n",
       "      <td>3.585</td>\n",
       "      <td>0.000</td>\n",
       "    </tr>\n",
       "    <tr>\n",
       "      <th>OBRIGAÇÃO_FINAL_POR_SALA</th>\n",
       "      <td>0.0015</td>\n",
       "      <td>0.005</td>\n",
       "      <td>0.275</td>\n",
       "      <td>0.783</td>\n",
       "    </tr>\n",
       "    <tr>\n",
       "      <th>CUMPRIMENTO_PROP_TRUNCADO:OBRIGAÇÃO_FINAL_POR_SALA</th>\n",
       "      <td>-0.0057</td>\n",
       "      <td>0.007</td>\n",
       "      <td>-0.831</td>\n",
       "      <td>0.406</td>\n",
       "    </tr>\n",
       "    <tr>\n",
       "      <th>DIAS_FUNCIONAMENTO</th>\n",
       "      <td>0.0102</td>\n",
       "      <td>0.001</td>\n",
       "      <td>13.649</td>\n",
       "      <td>0.000</td>\n",
       "    </tr>\n",
       "  </tbody>\n",
       "</table>\n",
       "</div>"
      ],
      "text/plain": [
       "                                                      coef  std err       t  \\\n",
       "CUMPRIMENTO_PROP_TRUNCADO                           0.9457    0.264   3.585   \n",
       "OBRIGAÇÃO_FINAL_POR_SALA                            0.0015    0.005   0.275   \n",
       "CUMPRIMENTO_PROP_TRUNCADO:OBRIGAÇÃO_FINAL_POR_SALA -0.0057    0.007  -0.831   \n",
       "DIAS_FUNCIONAMENTO                                  0.0102    0.001  13.649   \n",
       "\n",
       "                                                    P>|t|  \n",
       "CUMPRIMENTO_PROP_TRUNCADO                           0.000  \n",
       "OBRIGAÇÃO_FINAL_POR_SALA                            0.783  \n",
       "CUMPRIMENTO_PROP_TRUNCADO:OBRIGAÇÃO_FINAL_POR_SALA  0.406  \n",
       "DIAS_FUNCIONAMENTO                                  0.000  "
      ]
     },
     "execution_count": 24,
     "metadata": {},
     "output_type": "execute_result"
    }
   ],
   "source": [
    "pd.read_html(reg_w62.summary().tables[1].as_html(),header=0,index_col=0)[0].iloc[-4:,:-2]"
   ]
  },
  {
   "cell_type": "markdown",
   "metadata": {},
   "source": [
    "###### Normal pdf kernel"
   ]
  },
  {
   "cell_type": "code",
   "execution_count": 25,
   "metadata": {
    "ExecuteTime": {
     "end_time": "2021-06-09T19:10:21.891696Z",
     "start_time": "2021-06-09T19:10:19.785148Z"
    }
   },
   "outputs": [],
   "source": [
    "formul = 'np.log(PUBLICO) ~ CUMPRIMENTO_NORMALIZADO*OBRIGAÇÃO_FINAL_POR_SALA + DIAS_FUNCIONAMENTO + C(REGISTRO_COMPLEXO) + C(ANO_CINEMATOGRAFICO)'\n",
    "data = [tds_1718, est_1718, bras_1718]\n",
    "\n",
    "# all\n",
    "reg_w63 = smf.ols(formula = formul, data=data[0]).fit()\n",
    "\n",
    "# foreign\n",
    "reg_w64 = smf.ols(formula = formul, data=data[1]).fit()\n",
    "\n",
    "# Brazilian\n",
    "reg_w65 = smf.ols(formula = formul, data=data[2]).fit()"
   ]
  },
  {
   "cell_type": "code",
   "execution_count": 26,
   "metadata": {
    "ExecuteTime": {
     "end_time": "2021-06-09T19:10:22.771705Z",
     "start_time": "2021-06-09T19:10:22.295645Z"
    }
   },
   "outputs": [
    {
     "data": {
      "text/html": [
       "<div>\n",
       "<style scoped>\n",
       "    .dataframe tbody tr th:only-of-type {\n",
       "        vertical-align: middle;\n",
       "    }\n",
       "\n",
       "    .dataframe tbody tr th {\n",
       "        vertical-align: top;\n",
       "    }\n",
       "\n",
       "    .dataframe thead th {\n",
       "        text-align: right;\n",
       "    }\n",
       "</style>\n",
       "<table border=\"1\" class=\"dataframe\">\n",
       "  <thead>\n",
       "    <tr style=\"text-align: right;\">\n",
       "      <th></th>\n",
       "      <th>coef</th>\n",
       "      <th>std err</th>\n",
       "      <th>t</th>\n",
       "      <th>P&gt;|t|</th>\n",
       "    </tr>\n",
       "  </thead>\n",
       "  <tbody>\n",
       "    <tr>\n",
       "      <th>CUMPRIMENTO_NORMALIZADO</th>\n",
       "      <td>0.4271</td>\n",
       "      <td>0.101</td>\n",
       "      <td>4.218</td>\n",
       "      <td>0.000</td>\n",
       "    </tr>\n",
       "    <tr>\n",
       "      <th>OBRIGAÇÃO_FINAL_POR_SALA</th>\n",
       "      <td>0.0056</td>\n",
       "      <td>0.002</td>\n",
       "      <td>2.967</td>\n",
       "      <td>0.003</td>\n",
       "    </tr>\n",
       "    <tr>\n",
       "      <th>CUMPRIMENTO_NORMALIZADO:OBRIGAÇÃO_FINAL_POR_SALA</th>\n",
       "      <td>-0.0097</td>\n",
       "      <td>0.002</td>\n",
       "      <td>-4.119</td>\n",
       "      <td>0.000</td>\n",
       "    </tr>\n",
       "    <tr>\n",
       "      <th>DIAS_FUNCIONAMENTO</th>\n",
       "      <td>0.0066</td>\n",
       "      <td>0.000</td>\n",
       "      <td>31.331</td>\n",
       "      <td>0.000</td>\n",
       "    </tr>\n",
       "  </tbody>\n",
       "</table>\n",
       "</div>"
      ],
      "text/plain": [
       "                                                    coef  std err       t  \\\n",
       "CUMPRIMENTO_NORMALIZADO                           0.4271    0.101   4.218   \n",
       "OBRIGAÇÃO_FINAL_POR_SALA                          0.0056    0.002   2.967   \n",
       "CUMPRIMENTO_NORMALIZADO:OBRIGAÇÃO_FINAL_POR_SALA -0.0097    0.002  -4.119   \n",
       "DIAS_FUNCIONAMENTO                                0.0066    0.000  31.331   \n",
       "\n",
       "                                                  P>|t|  \n",
       "CUMPRIMENTO_NORMALIZADO                           0.000  \n",
       "OBRIGAÇÃO_FINAL_POR_SALA                          0.003  \n",
       "CUMPRIMENTO_NORMALIZADO:OBRIGAÇÃO_FINAL_POR_SALA  0.000  \n",
       "DIAS_FUNCIONAMENTO                                0.000  "
      ]
     },
     "execution_count": 26,
     "metadata": {},
     "output_type": "execute_result"
    }
   ],
   "source": [
    "pd.read_html(reg_w63.summary().tables[1].as_html(),header=0,index_col=0)[0].iloc[-4:,:-2]"
   ]
  },
  {
   "cell_type": "code",
   "execution_count": 27,
   "metadata": {
    "ExecuteTime": {
     "end_time": "2021-06-09T19:10:23.601787Z",
     "start_time": "2021-06-09T19:10:23.125720Z"
    }
   },
   "outputs": [
    {
     "data": {
      "text/html": [
       "<div>\n",
       "<style scoped>\n",
       "    .dataframe tbody tr th:only-of-type {\n",
       "        vertical-align: middle;\n",
       "    }\n",
       "\n",
       "    .dataframe tbody tr th {\n",
       "        vertical-align: top;\n",
       "    }\n",
       "\n",
       "    .dataframe thead th {\n",
       "        text-align: right;\n",
       "    }\n",
       "</style>\n",
       "<table border=\"1\" class=\"dataframe\">\n",
       "  <thead>\n",
       "    <tr style=\"text-align: right;\">\n",
       "      <th></th>\n",
       "      <th>coef</th>\n",
       "      <th>std err</th>\n",
       "      <th>t</th>\n",
       "      <th>P&gt;|t|</th>\n",
       "    </tr>\n",
       "  </thead>\n",
       "  <tbody>\n",
       "    <tr>\n",
       "      <th>CUMPRIMENTO_NORMALIZADO</th>\n",
       "      <td>0.4501</td>\n",
       "      <td>0.106</td>\n",
       "      <td>4.243</td>\n",
       "      <td>0.0</td>\n",
       "    </tr>\n",
       "    <tr>\n",
       "      <th>OBRIGAÇÃO_FINAL_POR_SALA</th>\n",
       "      <td>0.0072</td>\n",
       "      <td>0.002</td>\n",
       "      <td>3.639</td>\n",
       "      <td>0.0</td>\n",
       "    </tr>\n",
       "    <tr>\n",
       "      <th>CUMPRIMENTO_NORMALIZADO:OBRIGAÇÃO_FINAL_POR_SALA</th>\n",
       "      <td>-0.0114</td>\n",
       "      <td>0.002</td>\n",
       "      <td>-4.638</td>\n",
       "      <td>0.0</td>\n",
       "    </tr>\n",
       "    <tr>\n",
       "      <th>DIAS_FUNCIONAMENTO</th>\n",
       "      <td>0.0068</td>\n",
       "      <td>0.000</td>\n",
       "      <td>30.006</td>\n",
       "      <td>0.0</td>\n",
       "    </tr>\n",
       "  </tbody>\n",
       "</table>\n",
       "</div>"
      ],
      "text/plain": [
       "                                                    coef  std err       t  \\\n",
       "CUMPRIMENTO_NORMALIZADO                           0.4501    0.106   4.243   \n",
       "OBRIGAÇÃO_FINAL_POR_SALA                          0.0072    0.002   3.639   \n",
       "CUMPRIMENTO_NORMALIZADO:OBRIGAÇÃO_FINAL_POR_SALA -0.0114    0.002  -4.638   \n",
       "DIAS_FUNCIONAMENTO                                0.0068    0.000  30.006   \n",
       "\n",
       "                                                  P>|t|  \n",
       "CUMPRIMENTO_NORMALIZADO                             0.0  \n",
       "OBRIGAÇÃO_FINAL_POR_SALA                            0.0  \n",
       "CUMPRIMENTO_NORMALIZADO:OBRIGAÇÃO_FINAL_POR_SALA    0.0  \n",
       "DIAS_FUNCIONAMENTO                                  0.0  "
      ]
     },
     "execution_count": 27,
     "metadata": {},
     "output_type": "execute_result"
    }
   ],
   "source": [
    "pd.read_html(reg_w64.summary().tables[1].as_html(),header=0,index_col=0)[0].iloc[-4:,:-2]"
   ]
  },
  {
   "cell_type": "code",
   "execution_count": 28,
   "metadata": {
    "ExecuteTime": {
     "end_time": "2021-06-09T19:10:24.471901Z",
     "start_time": "2021-06-09T19:10:23.976423Z"
    }
   },
   "outputs": [
    {
     "data": {
      "text/html": [
       "<div>\n",
       "<style scoped>\n",
       "    .dataframe tbody tr th:only-of-type {\n",
       "        vertical-align: middle;\n",
       "    }\n",
       "\n",
       "    .dataframe tbody tr th {\n",
       "        vertical-align: top;\n",
       "    }\n",
       "\n",
       "    .dataframe thead th {\n",
       "        text-align: right;\n",
       "    }\n",
       "</style>\n",
       "<table border=\"1\" class=\"dataframe\">\n",
       "  <thead>\n",
       "    <tr style=\"text-align: right;\">\n",
       "      <th></th>\n",
       "      <th>coef</th>\n",
       "      <th>std err</th>\n",
       "      <th>t</th>\n",
       "      <th>P&gt;|t|</th>\n",
       "    </tr>\n",
       "  </thead>\n",
       "  <tbody>\n",
       "    <tr>\n",
       "      <th>CUMPRIMENTO_NORMALIZADO</th>\n",
       "      <td>1.2237</td>\n",
       "      <td>0.245</td>\n",
       "      <td>4.992</td>\n",
       "      <td>0.000</td>\n",
       "    </tr>\n",
       "    <tr>\n",
       "      <th>OBRIGAÇÃO_FINAL_POR_SALA</th>\n",
       "      <td>0.0056</td>\n",
       "      <td>0.004</td>\n",
       "      <td>1.338</td>\n",
       "      <td>0.181</td>\n",
       "    </tr>\n",
       "    <tr>\n",
       "      <th>CUMPRIMENTO_NORMALIZADO:OBRIGAÇÃO_FINAL_POR_SALA</th>\n",
       "      <td>-0.0140</td>\n",
       "      <td>0.006</td>\n",
       "      <td>-2.429</td>\n",
       "      <td>0.015</td>\n",
       "    </tr>\n",
       "    <tr>\n",
       "      <th>DIAS_FUNCIONAMENTO</th>\n",
       "      <td>0.0103</td>\n",
       "      <td>0.001</td>\n",
       "      <td>13.788</td>\n",
       "      <td>0.000</td>\n",
       "    </tr>\n",
       "  </tbody>\n",
       "</table>\n",
       "</div>"
      ],
      "text/plain": [
       "                                                    coef  std err       t  \\\n",
       "CUMPRIMENTO_NORMALIZADO                           1.2237    0.245   4.992   \n",
       "OBRIGAÇÃO_FINAL_POR_SALA                          0.0056    0.004   1.338   \n",
       "CUMPRIMENTO_NORMALIZADO:OBRIGAÇÃO_FINAL_POR_SALA -0.0140    0.006  -2.429   \n",
       "DIAS_FUNCIONAMENTO                                0.0103    0.001  13.788   \n",
       "\n",
       "                                                  P>|t|  \n",
       "CUMPRIMENTO_NORMALIZADO                           0.000  \n",
       "OBRIGAÇÃO_FINAL_POR_SALA                          0.181  \n",
       "CUMPRIMENTO_NORMALIZADO:OBRIGAÇÃO_FINAL_POR_SALA  0.015  \n",
       "DIAS_FUNCIONAMENTO                                0.000  "
      ]
     },
     "execution_count": 28,
     "metadata": {},
     "output_type": "execute_result"
    }
   ],
   "source": [
    "pd.read_html(reg_w65.summary().tables[1].as_html(),header=0,index_col=0)[0].iloc[-4:,:-2]"
   ]
  },
  {
   "cell_type": "markdown",
   "metadata": {},
   "source": [
    "###### Triangular kernel"
   ]
  },
  {
   "cell_type": "code",
   "execution_count": 29,
   "metadata": {
    "ExecuteTime": {
     "end_time": "2021-06-09T19:11:06.428818Z",
     "start_time": "2021-06-09T19:11:04.324561Z"
    }
   },
   "outputs": [],
   "source": [
    "formul = 'np.log(PUBLICO) ~ CUMPRIMENTO_LINEAR*OBRIGAÇÃO_FINAL_POR_SALA + DIAS_FUNCIONAMENTO + C(REGISTRO_COMPLEXO) + C(ANO_CINEMATOGRAFICO)'\n",
    "data = [tds_1718, est_1718, bras_1718]\n",
    "\n",
    "# all\n",
    "reg_w66 = smf.ols(formula = formul, data=data[0]).fit()\n",
    "\n",
    "# foreign\n",
    "reg_w67 = smf.ols(formula = formul, data=data[1]).fit()\n",
    "\n",
    "# Brazilian\n",
    "reg_w68 = smf.ols(formula = formul, data=data[2]).fit()"
   ]
  },
  {
   "cell_type": "code",
   "execution_count": 30,
   "metadata": {
    "ExecuteTime": {
     "end_time": "2021-06-09T19:11:07.439611Z",
     "start_time": "2021-06-09T19:11:06.966702Z"
    }
   },
   "outputs": [
    {
     "data": {
      "text/html": [
       "<div>\n",
       "<style scoped>\n",
       "    .dataframe tbody tr th:only-of-type {\n",
       "        vertical-align: middle;\n",
       "    }\n",
       "\n",
       "    .dataframe tbody tr th {\n",
       "        vertical-align: top;\n",
       "    }\n",
       "\n",
       "    .dataframe thead th {\n",
       "        text-align: right;\n",
       "    }\n",
       "</style>\n",
       "<table border=\"1\" class=\"dataframe\">\n",
       "  <thead>\n",
       "    <tr style=\"text-align: right;\">\n",
       "      <th></th>\n",
       "      <th>coef</th>\n",
       "      <th>std err</th>\n",
       "      <th>t</th>\n",
       "      <th>P&gt;|t|</th>\n",
       "    </tr>\n",
       "  </thead>\n",
       "  <tbody>\n",
       "    <tr>\n",
       "      <th>CUMPRIMENTO_LINEAR</th>\n",
       "      <td>1.3559</td>\n",
       "      <td>0.436</td>\n",
       "      <td>3.110</td>\n",
       "      <td>0.002</td>\n",
       "    </tr>\n",
       "    <tr>\n",
       "      <th>OBRIGAÇÃO_FINAL_POR_SALA</th>\n",
       "      <td>0.0131</td>\n",
       "      <td>0.005</td>\n",
       "      <td>2.852</td>\n",
       "      <td>0.004</td>\n",
       "    </tr>\n",
       "    <tr>\n",
       "      <th>CUMPRIMENTO_LINEAR:OBRIGAÇÃO_FINAL_POR_SALA</th>\n",
       "      <td>-0.0385</td>\n",
       "      <td>0.013</td>\n",
       "      <td>-3.046</td>\n",
       "      <td>0.002</td>\n",
       "    </tr>\n",
       "    <tr>\n",
       "      <th>DIAS_FUNCIONAMENTO</th>\n",
       "      <td>0.0067</td>\n",
       "      <td>0.000</td>\n",
       "      <td>31.449</td>\n",
       "      <td>0.000</td>\n",
       "    </tr>\n",
       "  </tbody>\n",
       "</table>\n",
       "</div>"
      ],
      "text/plain": [
       "                                               coef  std err       t  P>|t|\n",
       "CUMPRIMENTO_LINEAR                           1.3559    0.436   3.110  0.002\n",
       "OBRIGAÇÃO_FINAL_POR_SALA                     0.0131    0.005   2.852  0.004\n",
       "CUMPRIMENTO_LINEAR:OBRIGAÇÃO_FINAL_POR_SALA -0.0385    0.013  -3.046  0.002\n",
       "DIAS_FUNCIONAMENTO                           0.0067    0.000  31.449  0.000"
      ]
     },
     "execution_count": 30,
     "metadata": {},
     "output_type": "execute_result"
    }
   ],
   "source": [
    "pd.read_html(reg_w66.summary().tables[1].as_html(),header=0,index_col=0)[0].iloc[-4:,:-2]"
   ]
  },
  {
   "cell_type": "code",
   "execution_count": 31,
   "metadata": {
    "ExecuteTime": {
     "end_time": "2021-06-09T19:11:08.174962Z",
     "start_time": "2021-06-09T19:11:07.790512Z"
    }
   },
   "outputs": [
    {
     "data": {
      "text/html": [
       "<div>\n",
       "<style scoped>\n",
       "    .dataframe tbody tr th:only-of-type {\n",
       "        vertical-align: middle;\n",
       "    }\n",
       "\n",
       "    .dataframe tbody tr th {\n",
       "        vertical-align: top;\n",
       "    }\n",
       "\n",
       "    .dataframe thead th {\n",
       "        text-align: right;\n",
       "    }\n",
       "</style>\n",
       "<table border=\"1\" class=\"dataframe\">\n",
       "  <thead>\n",
       "    <tr style=\"text-align: right;\">\n",
       "      <th></th>\n",
       "      <th>coef</th>\n",
       "      <th>std err</th>\n",
       "      <th>t</th>\n",
       "      <th>P&gt;|t|</th>\n",
       "    </tr>\n",
       "  </thead>\n",
       "  <tbody>\n",
       "    <tr>\n",
       "      <th>CUMPRIMENTO_LINEAR</th>\n",
       "      <td>2.2558</td>\n",
       "      <td>0.461</td>\n",
       "      <td>4.889</td>\n",
       "      <td>0.0</td>\n",
       "    </tr>\n",
       "    <tr>\n",
       "      <th>OBRIGAÇÃO_FINAL_POR_SALA</th>\n",
       "      <td>0.0239</td>\n",
       "      <td>0.005</td>\n",
       "      <td>4.879</td>\n",
       "      <td>0.0</td>\n",
       "    </tr>\n",
       "    <tr>\n",
       "      <th>CUMPRIMENTO_LINEAR:OBRIGAÇÃO_FINAL_POR_SALA</th>\n",
       "      <td>-0.0674</td>\n",
       "      <td>0.013</td>\n",
       "      <td>-5.011</td>\n",
       "      <td>0.0</td>\n",
       "    </tr>\n",
       "    <tr>\n",
       "      <th>DIAS_FUNCIONAMENTO</th>\n",
       "      <td>0.0067</td>\n",
       "      <td>0.000</td>\n",
       "      <td>29.933</td>\n",
       "      <td>0.0</td>\n",
       "    </tr>\n",
       "  </tbody>\n",
       "</table>\n",
       "</div>"
      ],
      "text/plain": [
       "                                               coef  std err       t  P>|t|\n",
       "CUMPRIMENTO_LINEAR                           2.2558    0.461   4.889    0.0\n",
       "OBRIGAÇÃO_FINAL_POR_SALA                     0.0239    0.005   4.879    0.0\n",
       "CUMPRIMENTO_LINEAR:OBRIGAÇÃO_FINAL_POR_SALA -0.0674    0.013  -5.011    0.0\n",
       "DIAS_FUNCIONAMENTO                           0.0067    0.000  29.933    0.0"
      ]
     },
     "execution_count": 31,
     "metadata": {},
     "output_type": "execute_result"
    }
   ],
   "source": [
    "pd.read_html(reg_w67.summary().tables[1].as_html(),header=0,index_col=0)[0].iloc[-4:,:-2]"
   ]
  },
  {
   "cell_type": "code",
   "execution_count": 32,
   "metadata": {
    "ExecuteTime": {
     "end_time": "2021-06-09T19:11:09.054403Z",
     "start_time": "2021-06-09T19:11:08.544115Z"
    }
   },
   "outputs": [
    {
     "data": {
      "text/html": [
       "<div>\n",
       "<style scoped>\n",
       "    .dataframe tbody tr th:only-of-type {\n",
       "        vertical-align: middle;\n",
       "    }\n",
       "\n",
       "    .dataframe tbody tr th {\n",
       "        vertical-align: top;\n",
       "    }\n",
       "\n",
       "    .dataframe thead th {\n",
       "        text-align: right;\n",
       "    }\n",
       "</style>\n",
       "<table border=\"1\" class=\"dataframe\">\n",
       "  <thead>\n",
       "    <tr style=\"text-align: right;\">\n",
       "      <th></th>\n",
       "      <th>coef</th>\n",
       "      <th>std err</th>\n",
       "      <th>t</th>\n",
       "      <th>P&gt;|t|</th>\n",
       "    </tr>\n",
       "  </thead>\n",
       "  <tbody>\n",
       "    <tr>\n",
       "      <th>CUMPRIMENTO_LINEAR</th>\n",
       "      <td>1.8232</td>\n",
       "      <td>1.036</td>\n",
       "      <td>1.760</td>\n",
       "      <td>0.079</td>\n",
       "    </tr>\n",
       "    <tr>\n",
       "      <th>OBRIGAÇÃO_FINAL_POR_SALA</th>\n",
       "      <td>-0.0123</td>\n",
       "      <td>0.011</td>\n",
       "      <td>-1.162</td>\n",
       "      <td>0.246</td>\n",
       "    </tr>\n",
       "    <tr>\n",
       "      <th>CUMPRIMENTO_LINEAR:OBRIGAÇÃO_FINAL_POR_SALA</th>\n",
       "      <td>0.0250</td>\n",
       "      <td>0.030</td>\n",
       "      <td>0.827</td>\n",
       "      <td>0.409</td>\n",
       "    </tr>\n",
       "    <tr>\n",
       "      <th>DIAS_FUNCIONAMENTO</th>\n",
       "      <td>0.0104</td>\n",
       "      <td>0.001</td>\n",
       "      <td>13.990</td>\n",
       "      <td>0.000</td>\n",
       "    </tr>\n",
       "  </tbody>\n",
       "</table>\n",
       "</div>"
      ],
      "text/plain": [
       "                                               coef  std err       t  P>|t|\n",
       "CUMPRIMENTO_LINEAR                           1.8232    1.036   1.760  0.079\n",
       "OBRIGAÇÃO_FINAL_POR_SALA                    -0.0123    0.011  -1.162  0.246\n",
       "CUMPRIMENTO_LINEAR:OBRIGAÇÃO_FINAL_POR_SALA  0.0250    0.030   0.827  0.409\n",
       "DIAS_FUNCIONAMENTO                           0.0104    0.001  13.990  0.000"
      ]
     },
     "execution_count": 32,
     "metadata": {},
     "output_type": "execute_result"
    }
   ],
   "source": [
    "pd.read_html(reg_w68.summary().tables[1].as_html(),header=0,index_col=0)[0].iloc[-4:,:-2]"
   ]
  },
  {
   "cell_type": "markdown",
   "metadata": {},
   "source": [
    "###### Triweight kernel"
   ]
  },
  {
   "cell_type": "code",
   "execution_count": 33,
   "metadata": {
    "ExecuteTime": {
     "end_time": "2021-06-09T19:11:48.461919Z",
     "start_time": "2021-06-09T19:11:46.346140Z"
    }
   },
   "outputs": [],
   "source": [
    "formul = 'np.log(PUBLICO) ~ CUMPRIMENTO_TRIWEIGHT*OBRIGAÇÃO_FINAL_POR_SALA + DIAS_FUNCIONAMENTO + C(REGISTRO_COMPLEXO) + C(ANO_CINEMATOGRAFICO)'\n",
    "data = [tds_1718, est_1718, bras_1718]\n",
    "\n",
    "# all\n",
    "reg_w69 = smf.ols(formula = formul, data=data[0]).fit()\n",
    "\n",
    "# foreign\n",
    "reg_w70 = smf.ols(formula = formul, data=data[1]).fit()\n",
    "\n",
    "# Brazilian\n",
    "reg_w71 = smf.ols(formula = formul, data=data[2]).fit()"
   ]
  },
  {
   "cell_type": "code",
   "execution_count": 34,
   "metadata": {
    "ExecuteTime": {
     "end_time": "2021-06-09T19:11:49.418663Z",
     "start_time": "2021-06-09T19:11:48.897332Z"
    }
   },
   "outputs": [
    {
     "data": {
      "text/html": [
       "<div>\n",
       "<style scoped>\n",
       "    .dataframe tbody tr th:only-of-type {\n",
       "        vertical-align: middle;\n",
       "    }\n",
       "\n",
       "    .dataframe tbody tr th {\n",
       "        vertical-align: top;\n",
       "    }\n",
       "\n",
       "    .dataframe thead th {\n",
       "        text-align: right;\n",
       "    }\n",
       "</style>\n",
       "<table border=\"1\" class=\"dataframe\">\n",
       "  <thead>\n",
       "    <tr style=\"text-align: right;\">\n",
       "      <th></th>\n",
       "      <th>coef</th>\n",
       "      <th>std err</th>\n",
       "      <th>t</th>\n",
       "      <th>P&gt;|t|</th>\n",
       "    </tr>\n",
       "  </thead>\n",
       "  <tbody>\n",
       "    <tr>\n",
       "      <th>CUMPRIMENTO_TRIWEIGHT</th>\n",
       "      <td>0.2849</td>\n",
       "      <td>0.086</td>\n",
       "      <td>3.331</td>\n",
       "      <td>0.001</td>\n",
       "    </tr>\n",
       "    <tr>\n",
       "      <th>OBRIGAÇÃO_FINAL_POR_SALA</th>\n",
       "      <td>0.0034</td>\n",
       "      <td>0.002</td>\n",
       "      <td>2.090</td>\n",
       "      <td>0.037</td>\n",
       "    </tr>\n",
       "    <tr>\n",
       "      <th>CUMPRIMENTO_TRIWEIGHT:OBRIGAÇÃO_FINAL_POR_SALA</th>\n",
       "      <td>-0.0068</td>\n",
       "      <td>0.002</td>\n",
       "      <td>-3.456</td>\n",
       "      <td>0.001</td>\n",
       "    </tr>\n",
       "    <tr>\n",
       "      <th>DIAS_FUNCIONAMENTO</th>\n",
       "      <td>0.0067</td>\n",
       "      <td>0.000</td>\n",
       "      <td>31.871</td>\n",
       "      <td>0.000</td>\n",
       "    </tr>\n",
       "  </tbody>\n",
       "</table>\n",
       "</div>"
      ],
      "text/plain": [
       "                                                  coef  std err       t  P>|t|\n",
       "CUMPRIMENTO_TRIWEIGHT                           0.2849    0.086   3.331  0.001\n",
       "OBRIGAÇÃO_FINAL_POR_SALA                        0.0034    0.002   2.090  0.037\n",
       "CUMPRIMENTO_TRIWEIGHT:OBRIGAÇÃO_FINAL_POR_SALA -0.0068    0.002  -3.456  0.001\n",
       "DIAS_FUNCIONAMENTO                              0.0067    0.000  31.871  0.000"
      ]
     },
     "execution_count": 34,
     "metadata": {},
     "output_type": "execute_result"
    }
   ],
   "source": [
    "pd.read_html(reg_w69.summary().tables[1].as_html(),header=0,index_col=0)[0].iloc[-4:,:-2]"
   ]
  },
  {
   "cell_type": "code",
   "execution_count": 35,
   "metadata": {
    "ExecuteTime": {
     "end_time": "2021-06-09T19:11:50.432000Z",
     "start_time": "2021-06-09T19:11:49.813192Z"
    }
   },
   "outputs": [
    {
     "data": {
      "text/html": [
       "<div>\n",
       "<style scoped>\n",
       "    .dataframe tbody tr th:only-of-type {\n",
       "        vertical-align: middle;\n",
       "    }\n",
       "\n",
       "    .dataframe tbody tr th {\n",
       "        vertical-align: top;\n",
       "    }\n",
       "\n",
       "    .dataframe thead th {\n",
       "        text-align: right;\n",
       "    }\n",
       "</style>\n",
       "<table border=\"1\" class=\"dataframe\">\n",
       "  <thead>\n",
       "    <tr style=\"text-align: right;\">\n",
       "      <th></th>\n",
       "      <th>coef</th>\n",
       "      <th>std err</th>\n",
       "      <th>t</th>\n",
       "      <th>P&gt;|t|</th>\n",
       "    </tr>\n",
       "  </thead>\n",
       "  <tbody>\n",
       "    <tr>\n",
       "      <th>CUMPRIMENTO_TRIWEIGHT</th>\n",
       "      <td>0.2885</td>\n",
       "      <td>0.090</td>\n",
       "      <td>3.222</td>\n",
       "      <td>0.001</td>\n",
       "    </tr>\n",
       "    <tr>\n",
       "      <th>OBRIGAÇÃO_FINAL_POR_SALA</th>\n",
       "      <td>0.0046</td>\n",
       "      <td>0.002</td>\n",
       "      <td>2.653</td>\n",
       "      <td>0.008</td>\n",
       "    </tr>\n",
       "    <tr>\n",
       "      <th>CUMPRIMENTO_TRIWEIGHT:OBRIGAÇÃO_FINAL_POR_SALA</th>\n",
       "      <td>-0.0080</td>\n",
       "      <td>0.002</td>\n",
       "      <td>-3.883</td>\n",
       "      <td>0.000</td>\n",
       "    </tr>\n",
       "    <tr>\n",
       "      <th>DIAS_FUNCIONAMENTO</th>\n",
       "      <td>0.0069</td>\n",
       "      <td>0.000</td>\n",
       "      <td>30.601</td>\n",
       "      <td>0.000</td>\n",
       "    </tr>\n",
       "  </tbody>\n",
       "</table>\n",
       "</div>"
      ],
      "text/plain": [
       "                                                  coef  std err       t  P>|t|\n",
       "CUMPRIMENTO_TRIWEIGHT                           0.2885    0.090   3.222  0.001\n",
       "OBRIGAÇÃO_FINAL_POR_SALA                        0.0046    0.002   2.653  0.008\n",
       "CUMPRIMENTO_TRIWEIGHT:OBRIGAÇÃO_FINAL_POR_SALA -0.0080    0.002  -3.883  0.000\n",
       "DIAS_FUNCIONAMENTO                              0.0069    0.000  30.601  0.000"
      ]
     },
     "execution_count": 35,
     "metadata": {},
     "output_type": "execute_result"
    }
   ],
   "source": [
    "pd.read_html(reg_w70.summary().tables[1].as_html(),header=0,index_col=0)[0].iloc[-4:,:-2]"
   ]
  },
  {
   "cell_type": "code",
   "execution_count": 36,
   "metadata": {
    "ExecuteTime": {
     "end_time": "2021-06-09T19:11:51.311711Z",
     "start_time": "2021-06-09T19:11:50.878459Z"
    },
    "scrolled": true
   },
   "outputs": [
    {
     "data": {
      "text/html": [
       "<div>\n",
       "<style scoped>\n",
       "    .dataframe tbody tr th:only-of-type {\n",
       "        vertical-align: middle;\n",
       "    }\n",
       "\n",
       "    .dataframe tbody tr th {\n",
       "        vertical-align: top;\n",
       "    }\n",
       "\n",
       "    .dataframe thead th {\n",
       "        text-align: right;\n",
       "    }\n",
       "</style>\n",
       "<table border=\"1\" class=\"dataframe\">\n",
       "  <thead>\n",
       "    <tr style=\"text-align: right;\">\n",
       "      <th></th>\n",
       "      <th>coef</th>\n",
       "      <th>std err</th>\n",
       "      <th>t</th>\n",
       "      <th>P&gt;|t|</th>\n",
       "    </tr>\n",
       "  </thead>\n",
       "  <tbody>\n",
       "    <tr>\n",
       "      <th>CUMPRIMENTO_TRIWEIGHT</th>\n",
       "      <td>0.9857</td>\n",
       "      <td>0.200</td>\n",
       "      <td>4.918</td>\n",
       "      <td>0.000</td>\n",
       "    </tr>\n",
       "    <tr>\n",
       "      <th>OBRIGAÇÃO_FINAL_POR_SALA</th>\n",
       "      <td>0.0041</td>\n",
       "      <td>0.004</td>\n",
       "      <td>1.164</td>\n",
       "      <td>0.245</td>\n",
       "    </tr>\n",
       "    <tr>\n",
       "      <th>CUMPRIMENTO_TRIWEIGHT:OBRIGAÇÃO_FINAL_POR_SALA</th>\n",
       "      <td>-0.0110</td>\n",
       "      <td>0.005</td>\n",
       "      <td>-2.338</td>\n",
       "      <td>0.020</td>\n",
       "    </tr>\n",
       "    <tr>\n",
       "      <th>DIAS_FUNCIONAMENTO</th>\n",
       "      <td>0.0101</td>\n",
       "      <td>0.001</td>\n",
       "      <td>13.433</td>\n",
       "      <td>0.000</td>\n",
       "    </tr>\n",
       "  </tbody>\n",
       "</table>\n",
       "</div>"
      ],
      "text/plain": [
       "                                                  coef  std err       t  P>|t|\n",
       "CUMPRIMENTO_TRIWEIGHT                           0.9857    0.200   4.918  0.000\n",
       "OBRIGAÇÃO_FINAL_POR_SALA                        0.0041    0.004   1.164  0.245\n",
       "CUMPRIMENTO_TRIWEIGHT:OBRIGAÇÃO_FINAL_POR_SALA -0.0110    0.005  -2.338  0.020\n",
       "DIAS_FUNCIONAMENTO                              0.0101    0.001  13.433  0.000"
      ]
     },
     "execution_count": 36,
     "metadata": {},
     "output_type": "execute_result"
    }
   ],
   "source": [
    "pd.read_html(reg_w71.summary().tables[1].as_html(),header=0,index_col=0)[0].iloc[-4:,:-2]"
   ]
  },
  {
   "cell_type": "markdown",
   "metadata": {},
   "source": [
    "#### Without entity fixed-effects"
   ]
  },
  {
   "cell_type": "markdown",
   "metadata": {},
   "source": [
    "##### 2017-2019"
   ]
  },
  {
   "cell_type": "markdown",
   "metadata": {},
   "source": [
    "###### Quadratic kernel"
   ]
  },
  {
   "cell_type": "code",
   "execution_count": 37,
   "metadata": {
    "ExecuteTime": {
     "end_time": "2021-06-09T19:13:01.511461Z",
     "start_time": "2021-06-09T19:12:51.640524Z"
    }
   },
   "outputs": [],
   "source": [
    "formul = 'np.log(PUBLICO) ~ CUMPRIMENTO_PROP_TRUNCADO*OBRIGAÇÃO_FINAL_POR_SALA + DIAS_FUNCIONAMENTO + SALAS_COMPLEXO_INFERIDO + ASSENTOS_COMPLEXO_INFERIDO + C(ANO_CINEMATOGRAFICO)*C(MUN_COMPLEXO)'\n",
    "data = [tds_1719, est_1719, bras_1719]\n",
    "\n",
    "# all\n",
    "reg_w72 = smf.ols(formula = formul, data=data[0]).fit()\n",
    "\n",
    "# foreign\n",
    "reg_w73 = smf.ols(formula = formul, data=data[1]).fit()\n",
    "\n",
    "# Brazilian\n",
    "reg_w74 = smf.ols(formula = formul, data=data[2]).fit()"
   ]
  },
  {
   "cell_type": "code",
   "execution_count": 38,
   "metadata": {
    "ExecuteTime": {
     "end_time": "2021-06-09T19:13:02.830201Z",
     "start_time": "2021-06-09T19:13:01.958735Z"
    }
   },
   "outputs": [
    {
     "data": {
      "text/html": [
       "<div>\n",
       "<style scoped>\n",
       "    .dataframe tbody tr th:only-of-type {\n",
       "        vertical-align: middle;\n",
       "    }\n",
       "\n",
       "    .dataframe tbody tr th {\n",
       "        vertical-align: top;\n",
       "    }\n",
       "\n",
       "    .dataframe thead th {\n",
       "        text-align: right;\n",
       "    }\n",
       "</style>\n",
       "<table border=\"1\" class=\"dataframe\">\n",
       "  <thead>\n",
       "    <tr style=\"text-align: right;\">\n",
       "      <th></th>\n",
       "      <th>coef</th>\n",
       "      <th>std err</th>\n",
       "      <th>t</th>\n",
       "      <th>P&gt;|t|</th>\n",
       "    </tr>\n",
       "  </thead>\n",
       "  <tbody>\n",
       "    <tr>\n",
       "      <th>CUMPRIMENTO_PROP_TRUNCADO</th>\n",
       "      <td>0.4302</td>\n",
       "      <td>0.170000</td>\n",
       "      <td>2.535</td>\n",
       "      <td>0.011</td>\n",
       "    </tr>\n",
       "    <tr>\n",
       "      <th>OBRIGAÇÃO_FINAL_POR_SALA</th>\n",
       "      <td>0.0047</td>\n",
       "      <td>0.004000</td>\n",
       "      <td>1.247</td>\n",
       "      <td>0.213</td>\n",
       "    </tr>\n",
       "    <tr>\n",
       "      <th>CUMPRIMENTO_PROP_TRUNCADO:OBRIGAÇÃO_FINAL_POR_SALA</th>\n",
       "      <td>0.0026</td>\n",
       "      <td>0.004000</td>\n",
       "      <td>0.598</td>\n",
       "      <td>0.550</td>\n",
       "    </tr>\n",
       "    <tr>\n",
       "      <th>DIAS_FUNCIONAMENTO</th>\n",
       "      <td>0.0089</td>\n",
       "      <td>0.000000</td>\n",
       "      <td>34.995</td>\n",
       "      <td>0.000</td>\n",
       "    </tr>\n",
       "    <tr>\n",
       "      <th>SALAS_COMPLEXO_INFERIDO</th>\n",
       "      <td>0.1496</td>\n",
       "      <td>0.014000</td>\n",
       "      <td>10.325</td>\n",
       "      <td>0.000</td>\n",
       "    </tr>\n",
       "    <tr>\n",
       "      <th>ASSENTOS_COMPLEXO_INFERIDO</th>\n",
       "      <td>0.0005</td>\n",
       "      <td>0.000054</td>\n",
       "      <td>8.858</td>\n",
       "      <td>0.000</td>\n",
       "    </tr>\n",
       "  </tbody>\n",
       "</table>\n",
       "</div>"
      ],
      "text/plain": [
       "                                                      coef   std err       t  \\\n",
       "CUMPRIMENTO_PROP_TRUNCADO                           0.4302  0.170000   2.535   \n",
       "OBRIGAÇÃO_FINAL_POR_SALA                            0.0047  0.004000   1.247   \n",
       "CUMPRIMENTO_PROP_TRUNCADO:OBRIGAÇÃO_FINAL_POR_SALA  0.0026  0.004000   0.598   \n",
       "DIAS_FUNCIONAMENTO                                  0.0089  0.000000  34.995   \n",
       "SALAS_COMPLEXO_INFERIDO                             0.1496  0.014000  10.325   \n",
       "ASSENTOS_COMPLEXO_INFERIDO                          0.0005  0.000054   8.858   \n",
       "\n",
       "                                                    P>|t|  \n",
       "CUMPRIMENTO_PROP_TRUNCADO                           0.011  \n",
       "OBRIGAÇÃO_FINAL_POR_SALA                            0.213  \n",
       "CUMPRIMENTO_PROP_TRUNCADO:OBRIGAÇÃO_FINAL_POR_SALA  0.550  \n",
       "DIAS_FUNCIONAMENTO                                  0.000  \n",
       "SALAS_COMPLEXO_INFERIDO                             0.000  \n",
       "ASSENTOS_COMPLEXO_INFERIDO                          0.000  "
      ]
     },
     "execution_count": 38,
     "metadata": {},
     "output_type": "execute_result"
    }
   ],
   "source": [
    "pd.read_html(reg_w72.summary().tables[1].as_html(),header=0,index_col=0)[0].iloc[-6:,:-2]"
   ]
  },
  {
   "cell_type": "code",
   "execution_count": 39,
   "metadata": {
    "ExecuteTime": {
     "end_time": "2021-06-09T19:13:03.846961Z",
     "start_time": "2021-06-09T19:13:03.201259Z"
    }
   },
   "outputs": [
    {
     "data": {
      "text/html": [
       "<div>\n",
       "<style scoped>\n",
       "    .dataframe tbody tr th:only-of-type {\n",
       "        vertical-align: middle;\n",
       "    }\n",
       "\n",
       "    .dataframe tbody tr th {\n",
       "        vertical-align: top;\n",
       "    }\n",
       "\n",
       "    .dataframe thead th {\n",
       "        text-align: right;\n",
       "    }\n",
       "</style>\n",
       "<table border=\"1\" class=\"dataframe\">\n",
       "  <thead>\n",
       "    <tr style=\"text-align: right;\">\n",
       "      <th></th>\n",
       "      <th>coef</th>\n",
       "      <th>std err</th>\n",
       "      <th>t</th>\n",
       "      <th>P&gt;|t|</th>\n",
       "    </tr>\n",
       "  </thead>\n",
       "  <tbody>\n",
       "    <tr>\n",
       "      <th>CUMPRIMENTO_PROP_TRUNCADO</th>\n",
       "      <td>0.5561</td>\n",
       "      <td>0.189000</td>\n",
       "      <td>2.950</td>\n",
       "      <td>0.003</td>\n",
       "    </tr>\n",
       "    <tr>\n",
       "      <th>OBRIGAÇÃO_FINAL_POR_SALA</th>\n",
       "      <td>0.0039</td>\n",
       "      <td>0.004000</td>\n",
       "      <td>0.950</td>\n",
       "      <td>0.342</td>\n",
       "    </tr>\n",
       "    <tr>\n",
       "      <th>CUMPRIMENTO_PROP_TRUNCADO:OBRIGAÇÃO_FINAL_POR_SALA</th>\n",
       "      <td>-0.0005</td>\n",
       "      <td>0.005000</td>\n",
       "      <td>-0.099</td>\n",
       "      <td>0.921</td>\n",
       "    </tr>\n",
       "    <tr>\n",
       "      <th>DIAS_FUNCIONAMENTO</th>\n",
       "      <td>0.0101</td>\n",
       "      <td>0.000000</td>\n",
       "      <td>37.316</td>\n",
       "      <td>0.000</td>\n",
       "    </tr>\n",
       "    <tr>\n",
       "      <th>SALAS_COMPLEXO_INFERIDO</th>\n",
       "      <td>0.1528</td>\n",
       "      <td>0.016000</td>\n",
       "      <td>9.654</td>\n",
       "      <td>0.000</td>\n",
       "    </tr>\n",
       "    <tr>\n",
       "      <th>ASSENTOS_COMPLEXO_INFERIDO</th>\n",
       "      <td>0.0005</td>\n",
       "      <td>0.000059</td>\n",
       "      <td>8.000</td>\n",
       "      <td>0.000</td>\n",
       "    </tr>\n",
       "  </tbody>\n",
       "</table>\n",
       "</div>"
      ],
      "text/plain": [
       "                                                      coef   std err       t  \\\n",
       "CUMPRIMENTO_PROP_TRUNCADO                           0.5561  0.189000   2.950   \n",
       "OBRIGAÇÃO_FINAL_POR_SALA                            0.0039  0.004000   0.950   \n",
       "CUMPRIMENTO_PROP_TRUNCADO:OBRIGAÇÃO_FINAL_POR_SALA -0.0005  0.005000  -0.099   \n",
       "DIAS_FUNCIONAMENTO                                  0.0101  0.000000  37.316   \n",
       "SALAS_COMPLEXO_INFERIDO                             0.1528  0.016000   9.654   \n",
       "ASSENTOS_COMPLEXO_INFERIDO                          0.0005  0.000059   8.000   \n",
       "\n",
       "                                                    P>|t|  \n",
       "CUMPRIMENTO_PROP_TRUNCADO                           0.003  \n",
       "OBRIGAÇÃO_FINAL_POR_SALA                            0.342  \n",
       "CUMPRIMENTO_PROP_TRUNCADO:OBRIGAÇÃO_FINAL_POR_SALA  0.921  \n",
       "DIAS_FUNCIONAMENTO                                  0.000  \n",
       "SALAS_COMPLEXO_INFERIDO                             0.000  \n",
       "ASSENTOS_COMPLEXO_INFERIDO                          0.000  "
      ]
     },
     "execution_count": 39,
     "metadata": {},
     "output_type": "execute_result"
    }
   ],
   "source": [
    "pd.read_html(reg_w73.summary().tables[1].as_html(),header=0,index_col=0)[0].iloc[-6:,:-2]"
   ]
  },
  {
   "cell_type": "code",
   "execution_count": 40,
   "metadata": {
    "ExecuteTime": {
     "end_time": "2021-06-09T19:13:05.074950Z",
     "start_time": "2021-06-09T19:13:04.319288Z"
    }
   },
   "outputs": [
    {
     "data": {
      "text/html": [
       "<div>\n",
       "<style scoped>\n",
       "    .dataframe tbody tr th:only-of-type {\n",
       "        vertical-align: middle;\n",
       "    }\n",
       "\n",
       "    .dataframe tbody tr th {\n",
       "        vertical-align: top;\n",
       "    }\n",
       "\n",
       "    .dataframe thead th {\n",
       "        text-align: right;\n",
       "    }\n",
       "</style>\n",
       "<table border=\"1\" class=\"dataframe\">\n",
       "  <thead>\n",
       "    <tr style=\"text-align: right;\">\n",
       "      <th></th>\n",
       "      <th>coef</th>\n",
       "      <th>std err</th>\n",
       "      <th>t</th>\n",
       "      <th>P&gt;|t|</th>\n",
       "    </tr>\n",
       "  </thead>\n",
       "  <tbody>\n",
       "    <tr>\n",
       "      <th>CUMPRIMENTO_PROP_TRUNCADO</th>\n",
       "      <td>0.5185</td>\n",
       "      <td>0.219000</td>\n",
       "      <td>2.370</td>\n",
       "      <td>0.018</td>\n",
       "    </tr>\n",
       "    <tr>\n",
       "      <th>OBRIGAÇÃO_FINAL_POR_SALA</th>\n",
       "      <td>0.0149</td>\n",
       "      <td>0.005000</td>\n",
       "      <td>3.192</td>\n",
       "      <td>0.001</td>\n",
       "    </tr>\n",
       "    <tr>\n",
       "      <th>CUMPRIMENTO_PROP_TRUNCADO:OBRIGAÇÃO_FINAL_POR_SALA</th>\n",
       "      <td>-0.0026</td>\n",
       "      <td>0.006000</td>\n",
       "      <td>-0.456</td>\n",
       "      <td>0.648</td>\n",
       "    </tr>\n",
       "    <tr>\n",
       "      <th>DIAS_FUNCIONAMENTO</th>\n",
       "      <td>0.0079</td>\n",
       "      <td>0.000000</td>\n",
       "      <td>22.650</td>\n",
       "      <td>0.000</td>\n",
       "    </tr>\n",
       "    <tr>\n",
       "      <th>SALAS_COMPLEXO_INFERIDO</th>\n",
       "      <td>-0.0162</td>\n",
       "      <td>0.019000</td>\n",
       "      <td>-0.843</td>\n",
       "      <td>0.399</td>\n",
       "    </tr>\n",
       "    <tr>\n",
       "      <th>ASSENTOS_COMPLEXO_INFERIDO</th>\n",
       "      <td>0.0006</td>\n",
       "      <td>0.000068</td>\n",
       "      <td>9.512</td>\n",
       "      <td>0.000</td>\n",
       "    </tr>\n",
       "  </tbody>\n",
       "</table>\n",
       "</div>"
      ],
      "text/plain": [
       "                                                      coef   std err       t  \\\n",
       "CUMPRIMENTO_PROP_TRUNCADO                           0.5185  0.219000   2.370   \n",
       "OBRIGAÇÃO_FINAL_POR_SALA                            0.0149  0.005000   3.192   \n",
       "CUMPRIMENTO_PROP_TRUNCADO:OBRIGAÇÃO_FINAL_POR_SALA -0.0026  0.006000  -0.456   \n",
       "DIAS_FUNCIONAMENTO                                  0.0079  0.000000  22.650   \n",
       "SALAS_COMPLEXO_INFERIDO                            -0.0162  0.019000  -0.843   \n",
       "ASSENTOS_COMPLEXO_INFERIDO                          0.0006  0.000068   9.512   \n",
       "\n",
       "                                                    P>|t|  \n",
       "CUMPRIMENTO_PROP_TRUNCADO                           0.018  \n",
       "OBRIGAÇÃO_FINAL_POR_SALA                            0.001  \n",
       "CUMPRIMENTO_PROP_TRUNCADO:OBRIGAÇÃO_FINAL_POR_SALA  0.648  \n",
       "DIAS_FUNCIONAMENTO                                  0.000  \n",
       "SALAS_COMPLEXO_INFERIDO                             0.399  \n",
       "ASSENTOS_COMPLEXO_INFERIDO                          0.000  "
      ]
     },
     "execution_count": 40,
     "metadata": {},
     "output_type": "execute_result"
    }
   ],
   "source": [
    "pd.read_html(reg_w74.summary().tables[1].as_html(),header=0,index_col=0)[0].iloc[-6:,:-2]"
   ]
  },
  {
   "cell_type": "markdown",
   "metadata": {},
   "source": [
    "###### Normal pdf kernel"
   ]
  },
  {
   "cell_type": "code",
   "execution_count": 41,
   "metadata": {
    "ExecuteTime": {
     "end_time": "2021-06-09T19:15:58.061447Z",
     "start_time": "2021-06-09T19:15:47.448177Z"
    }
   },
   "outputs": [],
   "source": [
    "formul = 'np.log(PUBLICO) ~ CUMPRIMENTO_NORMALIZADO*OBRIGAÇÃO_FINAL_POR_SALA + DIAS_FUNCIONAMENTO + SALAS_COMPLEXO_INFERIDO + ASSENTOS_COMPLEXO_INFERIDO + C(ANO_CINEMATOGRAFICO)*C(MUN_COMPLEXO)'\n",
    "data = [tds_1719, est_1719, bras_1719]\n",
    "\n",
    "# all\n",
    "reg_w75 = smf.ols(formula = formul, data=data[0]).fit()\n",
    "\n",
    "# foreign\n",
    "reg_w76 = smf.ols(formula = formul, data=data[1]).fit()\n",
    "\n",
    "# Brazilian\n",
    "reg_w77 = smf.ols(formula = formul, data=data[2]).fit()"
   ]
  },
  {
   "cell_type": "code",
   "execution_count": 42,
   "metadata": {
    "ExecuteTime": {
     "end_time": "2021-06-09T19:15:59.180610Z",
     "start_time": "2021-06-09T19:15:58.464021Z"
    }
   },
   "outputs": [
    {
     "data": {
      "text/html": [
       "<div>\n",
       "<style scoped>\n",
       "    .dataframe tbody tr th:only-of-type {\n",
       "        vertical-align: middle;\n",
       "    }\n",
       "\n",
       "    .dataframe tbody tr th {\n",
       "        vertical-align: top;\n",
       "    }\n",
       "\n",
       "    .dataframe thead th {\n",
       "        text-align: right;\n",
       "    }\n",
       "</style>\n",
       "<table border=\"1\" class=\"dataframe\">\n",
       "  <thead>\n",
       "    <tr style=\"text-align: right;\">\n",
       "      <th></th>\n",
       "      <th>coef</th>\n",
       "      <th>std err</th>\n",
       "      <th>t</th>\n",
       "      <th>P&gt;|t|</th>\n",
       "    </tr>\n",
       "  </thead>\n",
       "  <tbody>\n",
       "    <tr>\n",
       "      <th>CUMPRIMENTO_NORMALIZADO</th>\n",
       "      <td>0.7142</td>\n",
       "      <td>0.176000</td>\n",
       "      <td>4.057</td>\n",
       "      <td>0.000</td>\n",
       "    </tr>\n",
       "    <tr>\n",
       "      <th>OBRIGAÇÃO_FINAL_POR_SALA</th>\n",
       "      <td>0.0106</td>\n",
       "      <td>0.003000</td>\n",
       "      <td>3.673</td>\n",
       "      <td>0.000</td>\n",
       "    </tr>\n",
       "    <tr>\n",
       "      <th>CUMPRIMENTO_NORMALIZADO:OBRIGAÇÃO_FINAL_POR_SALA</th>\n",
       "      <td>-0.0057</td>\n",
       "      <td>0.004000</td>\n",
       "      <td>-1.530</td>\n",
       "      <td>0.126</td>\n",
       "    </tr>\n",
       "    <tr>\n",
       "      <th>DIAS_FUNCIONAMENTO</th>\n",
       "      <td>0.0089</td>\n",
       "      <td>0.000000</td>\n",
       "      <td>35.079</td>\n",
       "      <td>0.000</td>\n",
       "    </tr>\n",
       "    <tr>\n",
       "      <th>SALAS_COMPLEXO_INFERIDO</th>\n",
       "      <td>0.1498</td>\n",
       "      <td>0.014000</td>\n",
       "      <td>10.348</td>\n",
       "      <td>0.000</td>\n",
       "    </tr>\n",
       "    <tr>\n",
       "      <th>ASSENTOS_COMPLEXO_INFERIDO</th>\n",
       "      <td>0.0005</td>\n",
       "      <td>0.000054</td>\n",
       "      <td>8.857</td>\n",
       "      <td>0.000</td>\n",
       "    </tr>\n",
       "  </tbody>\n",
       "</table>\n",
       "</div>"
      ],
      "text/plain": [
       "                                                    coef   std err       t  \\\n",
       "CUMPRIMENTO_NORMALIZADO                           0.7142  0.176000   4.057   \n",
       "OBRIGAÇÃO_FINAL_POR_SALA                          0.0106  0.003000   3.673   \n",
       "CUMPRIMENTO_NORMALIZADO:OBRIGAÇÃO_FINAL_POR_SALA -0.0057  0.004000  -1.530   \n",
       "DIAS_FUNCIONAMENTO                                0.0089  0.000000  35.079   \n",
       "SALAS_COMPLEXO_INFERIDO                           0.1498  0.014000  10.348   \n",
       "ASSENTOS_COMPLEXO_INFERIDO                        0.0005  0.000054   8.857   \n",
       "\n",
       "                                                  P>|t|  \n",
       "CUMPRIMENTO_NORMALIZADO                           0.000  \n",
       "OBRIGAÇÃO_FINAL_POR_SALA                          0.000  \n",
       "CUMPRIMENTO_NORMALIZADO:OBRIGAÇÃO_FINAL_POR_SALA  0.126  \n",
       "DIAS_FUNCIONAMENTO                                0.000  \n",
       "SALAS_COMPLEXO_INFERIDO                           0.000  \n",
       "ASSENTOS_COMPLEXO_INFERIDO                        0.000  "
      ]
     },
     "execution_count": 42,
     "metadata": {},
     "output_type": "execute_result"
    }
   ],
   "source": [
    "pd.read_html(reg_w75.summary().tables[1].as_html(),header=0,index_col=0)[0].iloc[-6:,:-2]"
   ]
  },
  {
   "cell_type": "code",
   "execution_count": 43,
   "metadata": {
    "ExecuteTime": {
     "end_time": "2021-06-09T19:16:00.371868Z",
     "start_time": "2021-06-09T19:15:59.563990Z"
    }
   },
   "outputs": [
    {
     "data": {
      "text/html": [
       "<div>\n",
       "<style scoped>\n",
       "    .dataframe tbody tr th:only-of-type {\n",
       "        vertical-align: middle;\n",
       "    }\n",
       "\n",
       "    .dataframe tbody tr th {\n",
       "        vertical-align: top;\n",
       "    }\n",
       "\n",
       "    .dataframe thead th {\n",
       "        text-align: right;\n",
       "    }\n",
       "</style>\n",
       "<table border=\"1\" class=\"dataframe\">\n",
       "  <thead>\n",
       "    <tr style=\"text-align: right;\">\n",
       "      <th></th>\n",
       "      <th>coef</th>\n",
       "      <th>std err</th>\n",
       "      <th>t</th>\n",
       "      <th>P&gt;|t|</th>\n",
       "    </tr>\n",
       "  </thead>\n",
       "  <tbody>\n",
       "    <tr>\n",
       "      <th>CUMPRIMENTO_NORMALIZADO</th>\n",
       "      <td>0.8302</td>\n",
       "      <td>0.195000</td>\n",
       "      <td>4.257</td>\n",
       "      <td>0.000</td>\n",
       "    </tr>\n",
       "    <tr>\n",
       "      <th>OBRIGAÇÃO_FINAL_POR_SALA</th>\n",
       "      <td>0.0092</td>\n",
       "      <td>0.003000</td>\n",
       "      <td>2.877</td>\n",
       "      <td>0.004</td>\n",
       "    </tr>\n",
       "    <tr>\n",
       "      <th>CUMPRIMENTO_NORMALIZADO:OBRIGAÇÃO_FINAL_POR_SALA</th>\n",
       "      <td>-0.0082</td>\n",
       "      <td>0.004000</td>\n",
       "      <td>-2.012</td>\n",
       "      <td>0.044</td>\n",
       "    </tr>\n",
       "    <tr>\n",
       "      <th>DIAS_FUNCIONAMENTO</th>\n",
       "      <td>0.0101</td>\n",
       "      <td>0.000000</td>\n",
       "      <td>37.521</td>\n",
       "      <td>0.000</td>\n",
       "    </tr>\n",
       "    <tr>\n",
       "      <th>SALAS_COMPLEXO_INFERIDO</th>\n",
       "      <td>0.1528</td>\n",
       "      <td>0.016000</td>\n",
       "      <td>9.666</td>\n",
       "      <td>0.000</td>\n",
       "    </tr>\n",
       "    <tr>\n",
       "      <th>ASSENTOS_COMPLEXO_INFERIDO</th>\n",
       "      <td>0.0005</td>\n",
       "      <td>0.000059</td>\n",
       "      <td>8.000</td>\n",
       "      <td>0.000</td>\n",
       "    </tr>\n",
       "  </tbody>\n",
       "</table>\n",
       "</div>"
      ],
      "text/plain": [
       "                                                    coef   std err       t  \\\n",
       "CUMPRIMENTO_NORMALIZADO                           0.8302  0.195000   4.257   \n",
       "OBRIGAÇÃO_FINAL_POR_SALA                          0.0092  0.003000   2.877   \n",
       "CUMPRIMENTO_NORMALIZADO:OBRIGAÇÃO_FINAL_POR_SALA -0.0082  0.004000  -2.012   \n",
       "DIAS_FUNCIONAMENTO                                0.0101  0.000000  37.521   \n",
       "SALAS_COMPLEXO_INFERIDO                           0.1528  0.016000   9.666   \n",
       "ASSENTOS_COMPLEXO_INFERIDO                        0.0005  0.000059   8.000   \n",
       "\n",
       "                                                  P>|t|  \n",
       "CUMPRIMENTO_NORMALIZADO                           0.000  \n",
       "OBRIGAÇÃO_FINAL_POR_SALA                          0.004  \n",
       "CUMPRIMENTO_NORMALIZADO:OBRIGAÇÃO_FINAL_POR_SALA  0.044  \n",
       "DIAS_FUNCIONAMENTO                                0.000  \n",
       "SALAS_COMPLEXO_INFERIDO                           0.000  \n",
       "ASSENTOS_COMPLEXO_INFERIDO                        0.000  "
      ]
     },
     "execution_count": 43,
     "metadata": {},
     "output_type": "execute_result"
    }
   ],
   "source": [
    "pd.read_html(reg_w76.summary().tables[1].as_html(),header=0,index_col=0)[0].iloc[-6:,:-2]"
   ]
  },
  {
   "cell_type": "code",
   "execution_count": 44,
   "metadata": {
    "ExecuteTime": {
     "end_time": "2021-06-09T19:16:01.521690Z",
     "start_time": "2021-06-09T19:16:00.832629Z"
    }
   },
   "outputs": [
    {
     "data": {
      "text/html": [
       "<div>\n",
       "<style scoped>\n",
       "    .dataframe tbody tr th:only-of-type {\n",
       "        vertical-align: middle;\n",
       "    }\n",
       "\n",
       "    .dataframe tbody tr th {\n",
       "        vertical-align: top;\n",
       "    }\n",
       "\n",
       "    .dataframe thead th {\n",
       "        text-align: right;\n",
       "    }\n",
       "</style>\n",
       "<table border=\"1\" class=\"dataframe\">\n",
       "  <thead>\n",
       "    <tr style=\"text-align: right;\">\n",
       "      <th></th>\n",
       "      <th>coef</th>\n",
       "      <th>std err</th>\n",
       "      <th>t</th>\n",
       "      <th>P&gt;|t|</th>\n",
       "    </tr>\n",
       "  </thead>\n",
       "  <tbody>\n",
       "    <tr>\n",
       "      <th>CUMPRIMENTO_NORMALIZADO</th>\n",
       "      <td>0.9111</td>\n",
       "      <td>0.224000</td>\n",
       "      <td>4.066</td>\n",
       "      <td>0.000</td>\n",
       "    </tr>\n",
       "    <tr>\n",
       "      <th>OBRIGAÇÃO_FINAL_POR_SALA</th>\n",
       "      <td>0.0222</td>\n",
       "      <td>0.004000</td>\n",
       "      <td>6.286</td>\n",
       "      <td>0.000</td>\n",
       "    </tr>\n",
       "    <tr>\n",
       "      <th>CUMPRIMENTO_NORMALIZADO:OBRIGAÇÃO_FINAL_POR_SALA</th>\n",
       "      <td>-0.0141</td>\n",
       "      <td>0.005000</td>\n",
       "      <td>-2.915</td>\n",
       "      <td>0.004</td>\n",
       "    </tr>\n",
       "    <tr>\n",
       "      <th>DIAS_FUNCIONAMENTO</th>\n",
       "      <td>0.0081</td>\n",
       "      <td>0.000000</td>\n",
       "      <td>22.829</td>\n",
       "      <td>0.000</td>\n",
       "    </tr>\n",
       "    <tr>\n",
       "      <th>SALAS_COMPLEXO_INFERIDO</th>\n",
       "      <td>-0.0162</td>\n",
       "      <td>0.019000</td>\n",
       "      <td>-0.843</td>\n",
       "      <td>0.399</td>\n",
       "    </tr>\n",
       "    <tr>\n",
       "      <th>ASSENTOS_COMPLEXO_INFERIDO</th>\n",
       "      <td>0.0006</td>\n",
       "      <td>0.000068</td>\n",
       "      <td>9.520</td>\n",
       "      <td>0.000</td>\n",
       "    </tr>\n",
       "  </tbody>\n",
       "</table>\n",
       "</div>"
      ],
      "text/plain": [
       "                                                    coef   std err       t  \\\n",
       "CUMPRIMENTO_NORMALIZADO                           0.9111  0.224000   4.066   \n",
       "OBRIGAÇÃO_FINAL_POR_SALA                          0.0222  0.004000   6.286   \n",
       "CUMPRIMENTO_NORMALIZADO:OBRIGAÇÃO_FINAL_POR_SALA -0.0141  0.005000  -2.915   \n",
       "DIAS_FUNCIONAMENTO                                0.0081  0.000000  22.829   \n",
       "SALAS_COMPLEXO_INFERIDO                          -0.0162  0.019000  -0.843   \n",
       "ASSENTOS_COMPLEXO_INFERIDO                        0.0006  0.000068   9.520   \n",
       "\n",
       "                                                  P>|t|  \n",
       "CUMPRIMENTO_NORMALIZADO                           0.000  \n",
       "OBRIGAÇÃO_FINAL_POR_SALA                          0.000  \n",
       "CUMPRIMENTO_NORMALIZADO:OBRIGAÇÃO_FINAL_POR_SALA  0.004  \n",
       "DIAS_FUNCIONAMENTO                                0.000  \n",
       "SALAS_COMPLEXO_INFERIDO                           0.399  \n",
       "ASSENTOS_COMPLEXO_INFERIDO                        0.000  "
      ]
     },
     "execution_count": 44,
     "metadata": {},
     "output_type": "execute_result"
    }
   ],
   "source": [
    "pd.read_html(reg_w77.summary().tables[1].as_html(),header=0,index_col=0)[0].iloc[-6:,:-2]"
   ]
  },
  {
   "cell_type": "markdown",
   "metadata": {},
   "source": [
    "###### Triangular kernel"
   ]
  },
  {
   "cell_type": "code",
   "execution_count": 45,
   "metadata": {
    "ExecuteTime": {
     "end_time": "2021-06-09T19:16:51.267009Z",
     "start_time": "2021-06-09T19:16:41.569492Z"
    }
   },
   "outputs": [],
   "source": [
    "formul = 'np.log(PUBLICO) ~ CUMPRIMENTO_LINEAR*OBRIGAÇÃO_FINAL_POR_SALA + DIAS_FUNCIONAMENTO + SALAS_COMPLEXO_INFERIDO + ASSENTOS_COMPLEXO_INFERIDO + C(ANO_CINEMATOGRAFICO)*C(MUN_COMPLEXO)'\n",
    "data = [tds_1719, est_1719, bras_1719]\n",
    "\n",
    "# all\n",
    "reg_w78 = smf.ols(formula = formul, data=data[0]).fit()\n",
    "\n",
    "# foreign\n",
    "reg_w79 = smf.ols(formula = formul, data=data[1]).fit()\n",
    "\n",
    "# Brazilian\n",
    "reg_w80 = smf.ols(formula = formul, data=data[2]).fit()"
   ]
  },
  {
   "cell_type": "code",
   "execution_count": 46,
   "metadata": {
    "ExecuteTime": {
     "end_time": "2021-06-09T19:16:52.260409Z",
     "start_time": "2021-06-09T19:16:51.638413Z"
    }
   },
   "outputs": [
    {
     "data": {
      "text/html": [
       "<div>\n",
       "<style scoped>\n",
       "    .dataframe tbody tr th:only-of-type {\n",
       "        vertical-align: middle;\n",
       "    }\n",
       "\n",
       "    .dataframe tbody tr th {\n",
       "        vertical-align: top;\n",
       "    }\n",
       "\n",
       "    .dataframe thead th {\n",
       "        text-align: right;\n",
       "    }\n",
       "</style>\n",
       "<table border=\"1\" class=\"dataframe\">\n",
       "  <thead>\n",
       "    <tr style=\"text-align: right;\">\n",
       "      <th></th>\n",
       "      <th>coef</th>\n",
       "      <th>std err</th>\n",
       "      <th>t</th>\n",
       "      <th>P&gt;|t|</th>\n",
       "    </tr>\n",
       "  </thead>\n",
       "  <tbody>\n",
       "    <tr>\n",
       "      <th>CUMPRIMENTO_LINEAR</th>\n",
       "      <td>1.1518</td>\n",
       "      <td>0.612000</td>\n",
       "      <td>1.881</td>\n",
       "      <td>0.060</td>\n",
       "    </tr>\n",
       "    <tr>\n",
       "      <th>OBRIGAÇÃO_FINAL_POR_SALA</th>\n",
       "      <td>-0.0111</td>\n",
       "      <td>0.007000</td>\n",
       "      <td>-1.577</td>\n",
       "      <td>0.115</td>\n",
       "    </tr>\n",
       "    <tr>\n",
       "      <th>CUMPRIMENTO_LINEAR:OBRIGAÇÃO_FINAL_POR_SALA</th>\n",
       "      <td>0.0467</td>\n",
       "      <td>0.019000</td>\n",
       "      <td>2.455</td>\n",
       "      <td>0.014</td>\n",
       "    </tr>\n",
       "    <tr>\n",
       "      <th>DIAS_FUNCIONAMENTO</th>\n",
       "      <td>0.0089</td>\n",
       "      <td>0.000000</td>\n",
       "      <td>35.507</td>\n",
       "      <td>0.000</td>\n",
       "    </tr>\n",
       "    <tr>\n",
       "      <th>SALAS_COMPLEXO_INFERIDO</th>\n",
       "      <td>0.1462</td>\n",
       "      <td>0.014000</td>\n",
       "      <td>10.224</td>\n",
       "      <td>0.000</td>\n",
       "    </tr>\n",
       "    <tr>\n",
       "      <th>ASSENTOS_COMPLEXO_INFERIDO</th>\n",
       "      <td>0.0005</td>\n",
       "      <td>0.000054</td>\n",
       "      <td>8.963</td>\n",
       "      <td>0.000</td>\n",
       "    </tr>\n",
       "  </tbody>\n",
       "</table>\n",
       "</div>"
      ],
      "text/plain": [
       "                                               coef   std err       t  P>|t|\n",
       "CUMPRIMENTO_LINEAR                           1.1518  0.612000   1.881  0.060\n",
       "OBRIGAÇÃO_FINAL_POR_SALA                    -0.0111  0.007000  -1.577  0.115\n",
       "CUMPRIMENTO_LINEAR:OBRIGAÇÃO_FINAL_POR_SALA  0.0467  0.019000   2.455  0.014\n",
       "DIAS_FUNCIONAMENTO                           0.0089  0.000000  35.507  0.000\n",
       "SALAS_COMPLEXO_INFERIDO                      0.1462  0.014000  10.224  0.000\n",
       "ASSENTOS_COMPLEXO_INFERIDO                   0.0005  0.000054   8.963  0.000"
      ]
     },
     "execution_count": 46,
     "metadata": {},
     "output_type": "execute_result"
    }
   ],
   "source": [
    "pd.read_html(reg_w78.summary().tables[1].as_html(),header=0,index_col=0)[0].iloc[-6:,:-2]"
   ]
  },
  {
   "cell_type": "code",
   "execution_count": 47,
   "metadata": {
    "ExecuteTime": {
     "end_time": "2021-06-09T19:16:53.293492Z",
     "start_time": "2021-06-09T19:16:52.641443Z"
    }
   },
   "outputs": [
    {
     "data": {
      "text/html": [
       "<div>\n",
       "<style scoped>\n",
       "    .dataframe tbody tr th:only-of-type {\n",
       "        vertical-align: middle;\n",
       "    }\n",
       "\n",
       "    .dataframe tbody tr th {\n",
       "        vertical-align: top;\n",
       "    }\n",
       "\n",
       "    .dataframe thead th {\n",
       "        text-align: right;\n",
       "    }\n",
       "</style>\n",
       "<table border=\"1\" class=\"dataframe\">\n",
       "  <thead>\n",
       "    <tr style=\"text-align: right;\">\n",
       "      <th></th>\n",
       "      <th>coef</th>\n",
       "      <th>std err</th>\n",
       "      <th>t</th>\n",
       "      <th>P&gt;|t|</th>\n",
       "    </tr>\n",
       "  </thead>\n",
       "  <tbody>\n",
       "    <tr>\n",
       "      <th>CUMPRIMENTO_LINEAR</th>\n",
       "      <td>1.9334</td>\n",
       "      <td>0.699000</td>\n",
       "      <td>2.767</td>\n",
       "      <td>0.006</td>\n",
       "    </tr>\n",
       "    <tr>\n",
       "      <th>OBRIGAÇÃO_FINAL_POR_SALA</th>\n",
       "      <td>-0.0084</td>\n",
       "      <td>0.008000</td>\n",
       "      <td>-1.061</td>\n",
       "      <td>0.289</td>\n",
       "    </tr>\n",
       "    <tr>\n",
       "      <th>CUMPRIMENTO_LINEAR:OBRIGAÇÃO_FINAL_POR_SALA</th>\n",
       "      <td>0.0302</td>\n",
       "      <td>0.021000</td>\n",
       "      <td>1.418</td>\n",
       "      <td>0.156</td>\n",
       "    </tr>\n",
       "    <tr>\n",
       "      <th>DIAS_FUNCIONAMENTO</th>\n",
       "      <td>0.0100</td>\n",
       "      <td>0.000000</td>\n",
       "      <td>37.409</td>\n",
       "      <td>0.000</td>\n",
       "    </tr>\n",
       "    <tr>\n",
       "      <th>SALAS_COMPLEXO_INFERIDO</th>\n",
       "      <td>0.1492</td>\n",
       "      <td>0.016000</td>\n",
       "      <td>9.550</td>\n",
       "      <td>0.000</td>\n",
       "    </tr>\n",
       "    <tr>\n",
       "      <th>ASSENTOS_COMPLEXO_INFERIDO</th>\n",
       "      <td>0.0005</td>\n",
       "      <td>0.000059</td>\n",
       "      <td>8.117</td>\n",
       "      <td>0.000</td>\n",
       "    </tr>\n",
       "  </tbody>\n",
       "</table>\n",
       "</div>"
      ],
      "text/plain": [
       "                                               coef   std err       t  P>|t|\n",
       "CUMPRIMENTO_LINEAR                           1.9334  0.699000   2.767  0.006\n",
       "OBRIGAÇÃO_FINAL_POR_SALA                    -0.0084  0.008000  -1.061  0.289\n",
       "CUMPRIMENTO_LINEAR:OBRIGAÇÃO_FINAL_POR_SALA  0.0302  0.021000   1.418  0.156\n",
       "DIAS_FUNCIONAMENTO                           0.0100  0.000000  37.409  0.000\n",
       "SALAS_COMPLEXO_INFERIDO                      0.1492  0.016000   9.550  0.000\n",
       "ASSENTOS_COMPLEXO_INFERIDO                   0.0005  0.000059   8.117  0.000"
      ]
     },
     "execution_count": 47,
     "metadata": {},
     "output_type": "execute_result"
    }
   ],
   "source": [
    "pd.read_html(reg_w79.summary().tables[1].as_html(),header=0,index_col=0)[0].iloc[-6:,:-2]"
   ]
  },
  {
   "cell_type": "code",
   "execution_count": 48,
   "metadata": {
    "ExecuteTime": {
     "end_time": "2021-06-09T19:16:54.269293Z",
     "start_time": "2021-06-09T19:16:53.649858Z"
    }
   },
   "outputs": [
    {
     "data": {
      "text/html": [
       "<div>\n",
       "<style scoped>\n",
       "    .dataframe tbody tr th:only-of-type {\n",
       "        vertical-align: middle;\n",
       "    }\n",
       "\n",
       "    .dataframe tbody tr th {\n",
       "        vertical-align: top;\n",
       "    }\n",
       "\n",
       "    .dataframe thead th {\n",
       "        text-align: right;\n",
       "    }\n",
       "</style>\n",
       "<table border=\"1\" class=\"dataframe\">\n",
       "  <thead>\n",
       "    <tr style=\"text-align: right;\">\n",
       "      <th></th>\n",
       "      <th>coef</th>\n",
       "      <th>std err</th>\n",
       "      <th>t</th>\n",
       "      <th>P&gt;|t|</th>\n",
       "    </tr>\n",
       "  </thead>\n",
       "  <tbody>\n",
       "    <tr>\n",
       "      <th>CUMPRIMENTO_LINEAR</th>\n",
       "      <td>0.7617</td>\n",
       "      <td>0.782000</td>\n",
       "      <td>0.973</td>\n",
       "      <td>0.331</td>\n",
       "    </tr>\n",
       "    <tr>\n",
       "      <th>OBRIGAÇÃO_FINAL_POR_SALA</th>\n",
       "      <td>0.0050</td>\n",
       "      <td>0.009000</td>\n",
       "      <td>0.561</td>\n",
       "      <td>0.575</td>\n",
       "    </tr>\n",
       "    <tr>\n",
       "      <th>CUMPRIMENTO_LINEAR:OBRIGAÇÃO_FINAL_POR_SALA</th>\n",
       "      <td>0.0223</td>\n",
       "      <td>0.025000</td>\n",
       "      <td>0.908</td>\n",
       "      <td>0.364</td>\n",
       "    </tr>\n",
       "    <tr>\n",
       "      <th>DIAS_FUNCIONAMENTO</th>\n",
       "      <td>0.0080</td>\n",
       "      <td>0.000000</td>\n",
       "      <td>23.035</td>\n",
       "      <td>0.000</td>\n",
       "    </tr>\n",
       "    <tr>\n",
       "      <th>SALAS_COMPLEXO_INFERIDO</th>\n",
       "      <td>-0.0169</td>\n",
       "      <td>0.019000</td>\n",
       "      <td>-0.876</td>\n",
       "      <td>0.381</td>\n",
       "    </tr>\n",
       "    <tr>\n",
       "      <th>ASSENTOS_COMPLEXO_INFERIDO</th>\n",
       "      <td>0.0006</td>\n",
       "      <td>0.000068</td>\n",
       "      <td>9.472</td>\n",
       "      <td>0.000</td>\n",
       "    </tr>\n",
       "  </tbody>\n",
       "</table>\n",
       "</div>"
      ],
      "text/plain": [
       "                                               coef   std err       t  P>|t|\n",
       "CUMPRIMENTO_LINEAR                           0.7617  0.782000   0.973  0.331\n",
       "OBRIGAÇÃO_FINAL_POR_SALA                     0.0050  0.009000   0.561  0.575\n",
       "CUMPRIMENTO_LINEAR:OBRIGAÇÃO_FINAL_POR_SALA  0.0223  0.025000   0.908  0.364\n",
       "DIAS_FUNCIONAMENTO                           0.0080  0.000000  23.035  0.000\n",
       "SALAS_COMPLEXO_INFERIDO                     -0.0169  0.019000  -0.876  0.381\n",
       "ASSENTOS_COMPLEXO_INFERIDO                   0.0006  0.000068   9.472  0.000"
      ]
     },
     "execution_count": 48,
     "metadata": {},
     "output_type": "execute_result"
    }
   ],
   "source": [
    "pd.read_html(reg_w80.summary().tables[1].as_html(),header=0,index_col=0)[0].iloc[-6:,:-2]"
   ]
  },
  {
   "cell_type": "markdown",
   "metadata": {},
   "source": [
    "###### Triweight kernel"
   ]
  },
  {
   "cell_type": "code",
   "execution_count": 49,
   "metadata": {
    "ExecuteTime": {
     "end_time": "2021-06-09T19:17:43.851379Z",
     "start_time": "2021-06-09T19:17:34.924619Z"
    }
   },
   "outputs": [],
   "source": [
    "formul = 'np.log(PUBLICO) ~ CUMPRIMENTO_TRIWEIGHT*OBRIGAÇÃO_FINAL_POR_SALA + DIAS_FUNCIONAMENTO + SALAS_COMPLEXO_INFERIDO + ASSENTOS_COMPLEXO_INFERIDO + C(ANO_CINEMATOGRAFICO)*C(MUN_COMPLEXO)'\n",
    "data = [tds_1719, est_1719, bras_1719]\n",
    "\n",
    "# all\n",
    "reg_w81 = smf.ols(formula = formul, data=data[0]).fit()\n",
    "\n",
    "# foreign\n",
    "reg_w82 = smf.ols(formula = formul, data=data[1]).fit()\n",
    "\n",
    "# Brazilian\n",
    "reg_w83 = smf.ols(formula = formul, data=data[2]).fit()"
   ]
  },
  {
   "cell_type": "code",
   "execution_count": 50,
   "metadata": {
    "ExecuteTime": {
     "end_time": "2021-06-09T19:17:44.887012Z",
     "start_time": "2021-06-09T19:17:44.244057Z"
    }
   },
   "outputs": [
    {
     "data": {
      "text/html": [
       "<div>\n",
       "<style scoped>\n",
       "    .dataframe tbody tr th:only-of-type {\n",
       "        vertical-align: middle;\n",
       "    }\n",
       "\n",
       "    .dataframe tbody tr th {\n",
       "        vertical-align: top;\n",
       "    }\n",
       "\n",
       "    .dataframe thead th {\n",
       "        text-align: right;\n",
       "    }\n",
       "</style>\n",
       "<table border=\"1\" class=\"dataframe\">\n",
       "  <thead>\n",
       "    <tr style=\"text-align: right;\">\n",
       "      <th></th>\n",
       "      <th>coef</th>\n",
       "      <th>std err</th>\n",
       "      <th>t</th>\n",
       "      <th>P&gt;|t|</th>\n",
       "    </tr>\n",
       "  </thead>\n",
       "  <tbody>\n",
       "    <tr>\n",
       "      <th>CUMPRIMENTO_TRIWEIGHT</th>\n",
       "      <td>0.6886</td>\n",
       "      <td>0.159000</td>\n",
       "      <td>4.336</td>\n",
       "      <td>0.000</td>\n",
       "    </tr>\n",
       "    <tr>\n",
       "      <th>OBRIGAÇÃO_FINAL_POR_SALA</th>\n",
       "      <td>0.0118</td>\n",
       "      <td>0.003000</td>\n",
       "      <td>4.585</td>\n",
       "      <td>0.000</td>\n",
       "    </tr>\n",
       "    <tr>\n",
       "      <th>CUMPRIMENTO_TRIWEIGHT:OBRIGAÇÃO_FINAL_POR_SALA</th>\n",
       "      <td>-0.0071</td>\n",
       "      <td>0.003000</td>\n",
       "      <td>-2.182</td>\n",
       "      <td>0.029</td>\n",
       "    </tr>\n",
       "    <tr>\n",
       "      <th>DIAS_FUNCIONAMENTO</th>\n",
       "      <td>0.0089</td>\n",
       "      <td>0.000000</td>\n",
       "      <td>35.238</td>\n",
       "      <td>0.000</td>\n",
       "    </tr>\n",
       "    <tr>\n",
       "      <th>SALAS_COMPLEXO_INFERIDO</th>\n",
       "      <td>0.1509</td>\n",
       "      <td>0.014000</td>\n",
       "      <td>10.419</td>\n",
       "      <td>0.000</td>\n",
       "    </tr>\n",
       "    <tr>\n",
       "      <th>ASSENTOS_COMPLEXO_INFERIDO</th>\n",
       "      <td>0.0005</td>\n",
       "      <td>0.000054</td>\n",
       "      <td>8.824</td>\n",
       "      <td>0.000</td>\n",
       "    </tr>\n",
       "  </tbody>\n",
       "</table>\n",
       "</div>"
      ],
      "text/plain": [
       "                                                  coef   std err       t  \\\n",
       "CUMPRIMENTO_TRIWEIGHT                           0.6886  0.159000   4.336   \n",
       "OBRIGAÇÃO_FINAL_POR_SALA                        0.0118  0.003000   4.585   \n",
       "CUMPRIMENTO_TRIWEIGHT:OBRIGAÇÃO_FINAL_POR_SALA -0.0071  0.003000  -2.182   \n",
       "DIAS_FUNCIONAMENTO                              0.0089  0.000000  35.238   \n",
       "SALAS_COMPLEXO_INFERIDO                         0.1509  0.014000  10.419   \n",
       "ASSENTOS_COMPLEXO_INFERIDO                      0.0005  0.000054   8.824   \n",
       "\n",
       "                                                P>|t|  \n",
       "CUMPRIMENTO_TRIWEIGHT                           0.000  \n",
       "OBRIGAÇÃO_FINAL_POR_SALA                        0.000  \n",
       "CUMPRIMENTO_TRIWEIGHT:OBRIGAÇÃO_FINAL_POR_SALA  0.029  \n",
       "DIAS_FUNCIONAMENTO                              0.000  \n",
       "SALAS_COMPLEXO_INFERIDO                         0.000  \n",
       "ASSENTOS_COMPLEXO_INFERIDO                      0.000  "
      ]
     },
     "execution_count": 50,
     "metadata": {},
     "output_type": "execute_result"
    }
   ],
   "source": [
    "pd.read_html(reg_w81.summary().tables[1].as_html(),header=0,index_col=0)[0].iloc[-6:,:-2]"
   ]
  },
  {
   "cell_type": "code",
   "execution_count": 51,
   "metadata": {
    "ExecuteTime": {
     "end_time": "2021-06-09T19:17:45.869429Z",
     "start_time": "2021-06-09T19:17:45.233510Z"
    }
   },
   "outputs": [
    {
     "data": {
      "text/html": [
       "<div>\n",
       "<style scoped>\n",
       "    .dataframe tbody tr th:only-of-type {\n",
       "        vertical-align: middle;\n",
       "    }\n",
       "\n",
       "    .dataframe tbody tr th {\n",
       "        vertical-align: top;\n",
       "    }\n",
       "\n",
       "    .dataframe thead th {\n",
       "        text-align: right;\n",
       "    }\n",
       "</style>\n",
       "<table border=\"1\" class=\"dataframe\">\n",
       "  <thead>\n",
       "    <tr style=\"text-align: right;\">\n",
       "      <th></th>\n",
       "      <th>coef</th>\n",
       "      <th>std err</th>\n",
       "      <th>t</th>\n",
       "      <th>P&gt;|t|</th>\n",
       "    </tr>\n",
       "  </thead>\n",
       "  <tbody>\n",
       "    <tr>\n",
       "      <th>CUMPRIMENTO_TRIWEIGHT</th>\n",
       "      <td>0.7962</td>\n",
       "      <td>0.175000</td>\n",
       "      <td>4.540</td>\n",
       "      <td>0.000</td>\n",
       "    </tr>\n",
       "    <tr>\n",
       "      <th>OBRIGAÇÃO_FINAL_POR_SALA</th>\n",
       "      <td>0.0103</td>\n",
       "      <td>0.003000</td>\n",
       "      <td>3.637</td>\n",
       "      <td>0.000</td>\n",
       "    </tr>\n",
       "    <tr>\n",
       "      <th>CUMPRIMENTO_TRIWEIGHT:OBRIGAÇÃO_FINAL_POR_SALA</th>\n",
       "      <td>-0.0096</td>\n",
       "      <td>0.004000</td>\n",
       "      <td>-2.692</td>\n",
       "      <td>0.007</td>\n",
       "    </tr>\n",
       "    <tr>\n",
       "      <th>DIAS_FUNCIONAMENTO</th>\n",
       "      <td>0.0101</td>\n",
       "      <td>0.000000</td>\n",
       "      <td>37.765</td>\n",
       "      <td>0.000</td>\n",
       "    </tr>\n",
       "    <tr>\n",
       "      <th>SALAS_COMPLEXO_INFERIDO</th>\n",
       "      <td>0.1543</td>\n",
       "      <td>0.016000</td>\n",
       "      <td>9.748</td>\n",
       "      <td>0.000</td>\n",
       "    </tr>\n",
       "    <tr>\n",
       "      <th>ASSENTOS_COMPLEXO_INFERIDO</th>\n",
       "      <td>0.0005</td>\n",
       "      <td>0.000059</td>\n",
       "      <td>7.969</td>\n",
       "      <td>0.000</td>\n",
       "    </tr>\n",
       "  </tbody>\n",
       "</table>\n",
       "</div>"
      ],
      "text/plain": [
       "                                                  coef   std err       t  \\\n",
       "CUMPRIMENTO_TRIWEIGHT                           0.7962  0.175000   4.540   \n",
       "OBRIGAÇÃO_FINAL_POR_SALA                        0.0103  0.003000   3.637   \n",
       "CUMPRIMENTO_TRIWEIGHT:OBRIGAÇÃO_FINAL_POR_SALA -0.0096  0.004000  -2.692   \n",
       "DIAS_FUNCIONAMENTO                              0.0101  0.000000  37.765   \n",
       "SALAS_COMPLEXO_INFERIDO                         0.1543  0.016000   9.748   \n",
       "ASSENTOS_COMPLEXO_INFERIDO                      0.0005  0.000059   7.969   \n",
       "\n",
       "                                                P>|t|  \n",
       "CUMPRIMENTO_TRIWEIGHT                           0.000  \n",
       "OBRIGAÇÃO_FINAL_POR_SALA                        0.000  \n",
       "CUMPRIMENTO_TRIWEIGHT:OBRIGAÇÃO_FINAL_POR_SALA  0.007  \n",
       "DIAS_FUNCIONAMENTO                              0.000  \n",
       "SALAS_COMPLEXO_INFERIDO                         0.000  \n",
       "ASSENTOS_COMPLEXO_INFERIDO                      0.000  "
      ]
     },
     "execution_count": 51,
     "metadata": {},
     "output_type": "execute_result"
    }
   ],
   "source": [
    "pd.read_html(reg_w82.summary().tables[1].as_html(),header=0,index_col=0)[0].iloc[-6:,:-2]"
   ]
  },
  {
   "cell_type": "code",
   "execution_count": 52,
   "metadata": {
    "ExecuteTime": {
     "end_time": "2021-06-09T19:17:46.831534Z",
     "start_time": "2021-06-09T19:17:46.245531Z"
    },
    "scrolled": true
   },
   "outputs": [
    {
     "data": {
      "text/html": [
       "<div>\n",
       "<style scoped>\n",
       "    .dataframe tbody tr th:only-of-type {\n",
       "        vertical-align: middle;\n",
       "    }\n",
       "\n",
       "    .dataframe tbody tr th {\n",
       "        vertical-align: top;\n",
       "    }\n",
       "\n",
       "    .dataframe thead th {\n",
       "        text-align: right;\n",
       "    }\n",
       "</style>\n",
       "<table border=\"1\" class=\"dataframe\">\n",
       "  <thead>\n",
       "    <tr style=\"text-align: right;\">\n",
       "      <th></th>\n",
       "      <th>coef</th>\n",
       "      <th>std err</th>\n",
       "      <th>t</th>\n",
       "      <th>P&gt;|t|</th>\n",
       "    </tr>\n",
       "  </thead>\n",
       "  <tbody>\n",
       "    <tr>\n",
       "      <th>CUMPRIMENTO_TRIWEIGHT</th>\n",
       "      <td>0.8539</td>\n",
       "      <td>0.201000</td>\n",
       "      <td>4.246</td>\n",
       "      <td>0.000</td>\n",
       "    </tr>\n",
       "    <tr>\n",
       "      <th>OBRIGAÇÃO_FINAL_POR_SALA</th>\n",
       "      <td>0.0219</td>\n",
       "      <td>0.003000</td>\n",
       "      <td>6.990</td>\n",
       "      <td>0.000</td>\n",
       "    </tr>\n",
       "    <tr>\n",
       "      <th>CUMPRIMENTO_TRIWEIGHT:OBRIGAÇÃO_FINAL_POR_SALA</th>\n",
       "      <td>-0.0135</td>\n",
       "      <td>0.004000</td>\n",
       "      <td>-3.220</td>\n",
       "      <td>0.001</td>\n",
       "    </tr>\n",
       "    <tr>\n",
       "      <th>DIAS_FUNCIONAMENTO</th>\n",
       "      <td>0.0081</td>\n",
       "      <td>0.000000</td>\n",
       "      <td>22.651</td>\n",
       "      <td>0.000</td>\n",
       "    </tr>\n",
       "    <tr>\n",
       "      <th>SALAS_COMPLEXO_INFERIDO</th>\n",
       "      <td>-0.0160</td>\n",
       "      <td>0.019000</td>\n",
       "      <td>-0.836</td>\n",
       "      <td>0.404</td>\n",
       "    </tr>\n",
       "    <tr>\n",
       "      <th>ASSENTOS_COMPLEXO_INFERIDO</th>\n",
       "      <td>0.0006</td>\n",
       "      <td>0.000068</td>\n",
       "      <td>9.520</td>\n",
       "      <td>0.000</td>\n",
       "    </tr>\n",
       "  </tbody>\n",
       "</table>\n",
       "</div>"
      ],
      "text/plain": [
       "                                                  coef   std err       t  \\\n",
       "CUMPRIMENTO_TRIWEIGHT                           0.8539  0.201000   4.246   \n",
       "OBRIGAÇÃO_FINAL_POR_SALA                        0.0219  0.003000   6.990   \n",
       "CUMPRIMENTO_TRIWEIGHT:OBRIGAÇÃO_FINAL_POR_SALA -0.0135  0.004000  -3.220   \n",
       "DIAS_FUNCIONAMENTO                              0.0081  0.000000  22.651   \n",
       "SALAS_COMPLEXO_INFERIDO                        -0.0160  0.019000  -0.836   \n",
       "ASSENTOS_COMPLEXO_INFERIDO                      0.0006  0.000068   9.520   \n",
       "\n",
       "                                                P>|t|  \n",
       "CUMPRIMENTO_TRIWEIGHT                           0.000  \n",
       "OBRIGAÇÃO_FINAL_POR_SALA                        0.000  \n",
       "CUMPRIMENTO_TRIWEIGHT:OBRIGAÇÃO_FINAL_POR_SALA  0.001  \n",
       "DIAS_FUNCIONAMENTO                              0.000  \n",
       "SALAS_COMPLEXO_INFERIDO                         0.404  \n",
       "ASSENTOS_COMPLEXO_INFERIDO                      0.000  "
      ]
     },
     "execution_count": 52,
     "metadata": {},
     "output_type": "execute_result"
    }
   ],
   "source": [
    "pd.read_html(reg_w83.summary().tables[1].as_html(),header=0,index_col=0)[0].iloc[-6:,:-2]"
   ]
  },
  {
   "cell_type": "markdown",
   "metadata": {},
   "source": [
    "##### 2017-2018"
   ]
  },
  {
   "cell_type": "markdown",
   "metadata": {},
   "source": [
    "###### Quadratic kernel"
   ]
  },
  {
   "cell_type": "code",
   "execution_count": 53,
   "metadata": {
    "ExecuteTime": {
     "end_time": "2021-06-09T19:19:06.501697Z",
     "start_time": "2021-06-09T19:19:04.238464Z"
    }
   },
   "outputs": [],
   "source": [
    "formul = 'np.log(PUBLICO) ~ CUMPRIMENTO_PROP_TRUNCADO*OBRIGAÇÃO_FINAL_POR_SALA + DIAS_FUNCIONAMENTO + SALAS_COMPLEXO_INFERIDO + ASSENTOS_COMPLEXO_INFERIDO + C(ANO_CINEMATOGRAFICO)*C(MUN_COMPLEXO)'\n",
    "data = [tds_1718, est_1718, bras_1718]\n",
    "\n",
    "# all\n",
    "reg_w84 = smf.ols(formula = formul, data=data[0]).fit()\n",
    "\n",
    "# foreign\n",
    "reg_w85 = smf.ols(formula = formul, data=data[1]).fit()\n",
    "\n",
    "# Brazilian\n",
    "reg_w86 = smf.ols(formula = formul, data=data[2]).fit()"
   ]
  },
  {
   "cell_type": "code",
   "execution_count": 57,
   "metadata": {
    "ExecuteTime": {
     "end_time": "2021-06-09T19:19:27.418947Z",
     "start_time": "2021-06-09T19:19:26.935043Z"
    }
   },
   "outputs": [
    {
     "data": {
      "text/html": [
       "<div>\n",
       "<style scoped>\n",
       "    .dataframe tbody tr th:only-of-type {\n",
       "        vertical-align: middle;\n",
       "    }\n",
       "\n",
       "    .dataframe tbody tr th {\n",
       "        vertical-align: top;\n",
       "    }\n",
       "\n",
       "    .dataframe thead th {\n",
       "        text-align: right;\n",
       "    }\n",
       "</style>\n",
       "<table border=\"1\" class=\"dataframe\">\n",
       "  <thead>\n",
       "    <tr style=\"text-align: right;\">\n",
       "      <th></th>\n",
       "      <th>coef</th>\n",
       "      <th>std err</th>\n",
       "      <th>t</th>\n",
       "      <th>P&gt;|t|</th>\n",
       "    </tr>\n",
       "  </thead>\n",
       "  <tbody>\n",
       "    <tr>\n",
       "      <th>CUMPRIMENTO_PROP_TRUNCADO</th>\n",
       "      <td>0.5844</td>\n",
       "      <td>0.168000</td>\n",
       "      <td>3.480</td>\n",
       "      <td>0.001</td>\n",
       "    </tr>\n",
       "    <tr>\n",
       "      <th>OBRIGAÇÃO_FINAL_POR_SALA</th>\n",
       "      <td>0.0095</td>\n",
       "      <td>0.004000</td>\n",
       "      <td>2.525</td>\n",
       "      <td>0.012</td>\n",
       "    </tr>\n",
       "    <tr>\n",
       "      <th>CUMPRIMENTO_PROP_TRUNCADO:OBRIGAÇÃO_FINAL_POR_SALA</th>\n",
       "      <td>0.0033</td>\n",
       "      <td>0.004000</td>\n",
       "      <td>0.778</td>\n",
       "      <td>0.437</td>\n",
       "    </tr>\n",
       "    <tr>\n",
       "      <th>DIAS_FUNCIONAMENTO</th>\n",
       "      <td>0.0072</td>\n",
       "      <td>0.000000</td>\n",
       "      <td>18.084</td>\n",
       "      <td>0.000</td>\n",
       "    </tr>\n",
       "    <tr>\n",
       "      <th>SALAS_COMPLEXO_INFERIDO</th>\n",
       "      <td>0.1321</td>\n",
       "      <td>0.018000</td>\n",
       "      <td>7.298</td>\n",
       "      <td>0.000</td>\n",
       "    </tr>\n",
       "    <tr>\n",
       "      <th>ASSENTOS_COMPLEXO_INFERIDO</th>\n",
       "      <td>0.0005</td>\n",
       "      <td>0.000066</td>\n",
       "      <td>6.949</td>\n",
       "      <td>0.000</td>\n",
       "    </tr>\n",
       "  </tbody>\n",
       "</table>\n",
       "</div>"
      ],
      "text/plain": [
       "                                                      coef   std err       t  \\\n",
       "CUMPRIMENTO_PROP_TRUNCADO                           0.5844  0.168000   3.480   \n",
       "OBRIGAÇÃO_FINAL_POR_SALA                            0.0095  0.004000   2.525   \n",
       "CUMPRIMENTO_PROP_TRUNCADO:OBRIGAÇÃO_FINAL_POR_SALA  0.0033  0.004000   0.778   \n",
       "DIAS_FUNCIONAMENTO                                  0.0072  0.000000  18.084   \n",
       "SALAS_COMPLEXO_INFERIDO                             0.1321  0.018000   7.298   \n",
       "ASSENTOS_COMPLEXO_INFERIDO                          0.0005  0.000066   6.949   \n",
       "\n",
       "                                                    P>|t|  \n",
       "CUMPRIMENTO_PROP_TRUNCADO                           0.001  \n",
       "OBRIGAÇÃO_FINAL_POR_SALA                            0.012  \n",
       "CUMPRIMENTO_PROP_TRUNCADO:OBRIGAÇÃO_FINAL_POR_SALA  0.437  \n",
       "DIAS_FUNCIONAMENTO                                  0.000  \n",
       "SALAS_COMPLEXO_INFERIDO                             0.000  \n",
       "ASSENTOS_COMPLEXO_INFERIDO                          0.000  "
      ]
     },
     "execution_count": 57,
     "metadata": {},
     "output_type": "execute_result"
    }
   ],
   "source": [
    "pd.read_html(reg_w84.summary().tables[1].as_html(),header=0,index_col=0)[0].iloc[-6:,:-2]"
   ]
  },
  {
   "cell_type": "code",
   "execution_count": 58,
   "metadata": {
    "ExecuteTime": {
     "end_time": "2021-06-09T19:19:28.201317Z",
     "start_time": "2021-06-09T19:19:27.799597Z"
    }
   },
   "outputs": [
    {
     "data": {
      "text/html": [
       "<div>\n",
       "<style scoped>\n",
       "    .dataframe tbody tr th:only-of-type {\n",
       "        vertical-align: middle;\n",
       "    }\n",
       "\n",
       "    .dataframe tbody tr th {\n",
       "        vertical-align: top;\n",
       "    }\n",
       "\n",
       "    .dataframe thead th {\n",
       "        text-align: right;\n",
       "    }\n",
       "</style>\n",
       "<table border=\"1\" class=\"dataframe\">\n",
       "  <thead>\n",
       "    <tr style=\"text-align: right;\">\n",
       "      <th></th>\n",
       "      <th>coef</th>\n",
       "      <th>std err</th>\n",
       "      <th>t</th>\n",
       "      <th>P&gt;|t|</th>\n",
       "    </tr>\n",
       "  </thead>\n",
       "  <tbody>\n",
       "    <tr>\n",
       "      <th>CUMPRIMENTO_PROP_TRUNCADO</th>\n",
       "      <td>0.719400</td>\n",
       "      <td>0.185000</td>\n",
       "      <td>3.888</td>\n",
       "      <td>0.000</td>\n",
       "    </tr>\n",
       "    <tr>\n",
       "      <th>OBRIGAÇÃO_FINAL_POR_SALA</th>\n",
       "      <td>0.008300</td>\n",
       "      <td>0.004000</td>\n",
       "      <td>2.036</td>\n",
       "      <td>0.042</td>\n",
       "    </tr>\n",
       "    <tr>\n",
       "      <th>CUMPRIMENTO_PROP_TRUNCADO:OBRIGAÇÃO_FINAL_POR_SALA</th>\n",
       "      <td>-0.000027</td>\n",
       "      <td>0.005000</td>\n",
       "      <td>-0.006</td>\n",
       "      <td>0.995</td>\n",
       "    </tr>\n",
       "    <tr>\n",
       "      <th>DIAS_FUNCIONAMENTO</th>\n",
       "      <td>0.008600</td>\n",
       "      <td>0.000000</td>\n",
       "      <td>20.569</td>\n",
       "      <td>0.000</td>\n",
       "    </tr>\n",
       "    <tr>\n",
       "      <th>SALAS_COMPLEXO_INFERIDO</th>\n",
       "      <td>0.137900</td>\n",
       "      <td>0.020000</td>\n",
       "      <td>7.065</td>\n",
       "      <td>0.000</td>\n",
       "    </tr>\n",
       "    <tr>\n",
       "      <th>ASSENTOS_COMPLEXO_INFERIDO</th>\n",
       "      <td>0.000500</td>\n",
       "      <td>0.000072</td>\n",
       "      <td>6.431</td>\n",
       "      <td>0.000</td>\n",
       "    </tr>\n",
       "  </tbody>\n",
       "</table>\n",
       "</div>"
      ],
      "text/plain": [
       "                                                        coef   std err  \\\n",
       "CUMPRIMENTO_PROP_TRUNCADO                           0.719400  0.185000   \n",
       "OBRIGAÇÃO_FINAL_POR_SALA                            0.008300  0.004000   \n",
       "CUMPRIMENTO_PROP_TRUNCADO:OBRIGAÇÃO_FINAL_POR_SALA -0.000027  0.005000   \n",
       "DIAS_FUNCIONAMENTO                                  0.008600  0.000000   \n",
       "SALAS_COMPLEXO_INFERIDO                             0.137900  0.020000   \n",
       "ASSENTOS_COMPLEXO_INFERIDO                          0.000500  0.000072   \n",
       "\n",
       "                                                         t  P>|t|  \n",
       "CUMPRIMENTO_PROP_TRUNCADO                            3.888  0.000  \n",
       "OBRIGAÇÃO_FINAL_POR_SALA                             2.036  0.042  \n",
       "CUMPRIMENTO_PROP_TRUNCADO:OBRIGAÇÃO_FINAL_POR_SALA  -0.006  0.995  \n",
       "DIAS_FUNCIONAMENTO                                  20.569  0.000  \n",
       "SALAS_COMPLEXO_INFERIDO                              7.065  0.000  \n",
       "ASSENTOS_COMPLEXO_INFERIDO                           6.431  0.000  "
      ]
     },
     "execution_count": 58,
     "metadata": {},
     "output_type": "execute_result"
    }
   ],
   "source": [
    "pd.read_html(reg_w85.summary().tables[1].as_html(),header=0,index_col=0)[0].iloc[-6:,:-2]"
   ]
  },
  {
   "cell_type": "code",
   "execution_count": 59,
   "metadata": {
    "ExecuteTime": {
     "end_time": "2021-06-09T19:19:29.011406Z",
     "start_time": "2021-06-09T19:19:28.575397Z"
    }
   },
   "outputs": [
    {
     "data": {
      "text/html": [
       "<div>\n",
       "<style scoped>\n",
       "    .dataframe tbody tr th:only-of-type {\n",
       "        vertical-align: middle;\n",
       "    }\n",
       "\n",
       "    .dataframe tbody tr th {\n",
       "        vertical-align: top;\n",
       "    }\n",
       "\n",
       "    .dataframe thead th {\n",
       "        text-align: right;\n",
       "    }\n",
       "</style>\n",
       "<table border=\"1\" class=\"dataframe\">\n",
       "  <thead>\n",
       "    <tr style=\"text-align: right;\">\n",
       "      <th></th>\n",
       "      <th>coef</th>\n",
       "      <th>std err</th>\n",
       "      <th>t</th>\n",
       "      <th>P&gt;|t|</th>\n",
       "    </tr>\n",
       "  </thead>\n",
       "  <tbody>\n",
       "    <tr>\n",
       "      <th>CUMPRIMENTO_PROP_TRUNCADO</th>\n",
       "      <td>0.3180</td>\n",
       "      <td>0.225000</td>\n",
       "      <td>1.411</td>\n",
       "      <td>0.159</td>\n",
       "    </tr>\n",
       "    <tr>\n",
       "      <th>OBRIGAÇÃO_FINAL_POR_SALA</th>\n",
       "      <td>0.0136</td>\n",
       "      <td>0.005000</td>\n",
       "      <td>2.863</td>\n",
       "      <td>0.004</td>\n",
       "    </tr>\n",
       "    <tr>\n",
       "      <th>CUMPRIMENTO_PROP_TRUNCADO:OBRIGAÇÃO_FINAL_POR_SALA</th>\n",
       "      <td>0.0069</td>\n",
       "      <td>0.006000</td>\n",
       "      <td>1.160</td>\n",
       "      <td>0.247</td>\n",
       "    </tr>\n",
       "    <tr>\n",
       "      <th>DIAS_FUNCIONAMENTO</th>\n",
       "      <td>0.0060</td>\n",
       "      <td>0.001000</td>\n",
       "      <td>11.270</td>\n",
       "      <td>0.000</td>\n",
       "    </tr>\n",
       "    <tr>\n",
       "      <th>SALAS_COMPLEXO_INFERIDO</th>\n",
       "      <td>0.0015</td>\n",
       "      <td>0.025000</td>\n",
       "      <td>0.061</td>\n",
       "      <td>0.951</td>\n",
       "    </tr>\n",
       "    <tr>\n",
       "      <th>ASSENTOS_COMPLEXO_INFERIDO</th>\n",
       "      <td>0.0006</td>\n",
       "      <td>0.000087</td>\n",
       "      <td>6.934</td>\n",
       "      <td>0.000</td>\n",
       "    </tr>\n",
       "  </tbody>\n",
       "</table>\n",
       "</div>"
      ],
      "text/plain": [
       "                                                      coef   std err       t  \\\n",
       "CUMPRIMENTO_PROP_TRUNCADO                           0.3180  0.225000   1.411   \n",
       "OBRIGAÇÃO_FINAL_POR_SALA                            0.0136  0.005000   2.863   \n",
       "CUMPRIMENTO_PROP_TRUNCADO:OBRIGAÇÃO_FINAL_POR_SALA  0.0069  0.006000   1.160   \n",
       "DIAS_FUNCIONAMENTO                                  0.0060  0.001000  11.270   \n",
       "SALAS_COMPLEXO_INFERIDO                             0.0015  0.025000   0.061   \n",
       "ASSENTOS_COMPLEXO_INFERIDO                          0.0006  0.000087   6.934   \n",
       "\n",
       "                                                    P>|t|  \n",
       "CUMPRIMENTO_PROP_TRUNCADO                           0.159  \n",
       "OBRIGAÇÃO_FINAL_POR_SALA                            0.004  \n",
       "CUMPRIMENTO_PROP_TRUNCADO:OBRIGAÇÃO_FINAL_POR_SALA  0.247  \n",
       "DIAS_FUNCIONAMENTO                                  0.000  \n",
       "SALAS_COMPLEXO_INFERIDO                             0.951  \n",
       "ASSENTOS_COMPLEXO_INFERIDO                          0.000  "
      ]
     },
     "execution_count": 59,
     "metadata": {},
     "output_type": "execute_result"
    }
   ],
   "source": [
    "pd.read_html(reg_w86.summary().tables[1].as_html(),header=0,index_col=0)[0].iloc[-6:,:-2]"
   ]
  },
  {
   "cell_type": "markdown",
   "metadata": {},
   "source": [
    "###### Normal pdf kernel"
   ]
  },
  {
   "cell_type": "code",
   "execution_count": 60,
   "metadata": {
    "ExecuteTime": {
     "end_time": "2021-06-09T19:20:19.828773Z",
     "start_time": "2021-06-09T19:20:17.594162Z"
    }
   },
   "outputs": [],
   "source": [
    "formul = 'np.log(PUBLICO) ~ CUMPRIMENTO_NORMALIZADO*OBRIGAÇÃO_FINAL_POR_SALA + DIAS_FUNCIONAMENTO + SALAS_COMPLEXO_INFERIDO + ASSENTOS_COMPLEXO_INFERIDO + C(ANO_CINEMATOGRAFICO)*C(MUN_COMPLEXO)'\n",
    "data = [tds_1718, est_1718, bras_1718]\n",
    "\n",
    "# all\n",
    "reg_w87 = smf.ols(formula = formul, data=data[0]).fit()\n",
    "\n",
    "# foreign\n",
    "reg_w88 = smf.ols(formula = formul, data=data[1]).fit()\n",
    "\n",
    "# Brazilian\n",
    "reg_w89 = smf.ols(formula = formul, data=data[2]).fit()"
   ]
  },
  {
   "cell_type": "code",
   "execution_count": 61,
   "metadata": {
    "ExecuteTime": {
     "end_time": "2021-06-09T19:20:20.751271Z",
     "start_time": "2021-06-09T19:20:20.301488Z"
    }
   },
   "outputs": [
    {
     "data": {
      "text/html": [
       "<div>\n",
       "<style scoped>\n",
       "    .dataframe tbody tr th:only-of-type {\n",
       "        vertical-align: middle;\n",
       "    }\n",
       "\n",
       "    .dataframe tbody tr th {\n",
       "        vertical-align: top;\n",
       "    }\n",
       "\n",
       "    .dataframe thead th {\n",
       "        text-align: right;\n",
       "    }\n",
       "</style>\n",
       "<table border=\"1\" class=\"dataframe\">\n",
       "  <thead>\n",
       "    <tr style=\"text-align: right;\">\n",
       "      <th></th>\n",
       "      <th>coef</th>\n",
       "      <th>std err</th>\n",
       "      <th>t</th>\n",
       "      <th>P&gt;|t|</th>\n",
       "    </tr>\n",
       "  </thead>\n",
       "  <tbody>\n",
       "    <tr>\n",
       "      <th>CUMPRIMENTO_NORMALIZADO</th>\n",
       "      <td>0.9153</td>\n",
       "      <td>0.175000</td>\n",
       "      <td>5.243</td>\n",
       "      <td>0.000</td>\n",
       "    </tr>\n",
       "    <tr>\n",
       "      <th>OBRIGAÇÃO_FINAL_POR_SALA</th>\n",
       "      <td>0.0167</td>\n",
       "      <td>0.003000</td>\n",
       "      <td>5.589</td>\n",
       "      <td>0.000</td>\n",
       "    </tr>\n",
       "    <tr>\n",
       "      <th>CUMPRIMENTO_NORMALIZADO:OBRIGAÇÃO_FINAL_POR_SALA</th>\n",
       "      <td>-0.0066</td>\n",
       "      <td>0.004000</td>\n",
       "      <td>-1.801</td>\n",
       "      <td>0.072</td>\n",
       "    </tr>\n",
       "    <tr>\n",
       "      <th>DIAS_FUNCIONAMENTO</th>\n",
       "      <td>0.0072</td>\n",
       "      <td>0.000000</td>\n",
       "      <td>18.184</td>\n",
       "      <td>0.000</td>\n",
       "    </tr>\n",
       "    <tr>\n",
       "      <th>SALAS_COMPLEXO_INFERIDO</th>\n",
       "      <td>0.1321</td>\n",
       "      <td>0.018000</td>\n",
       "      <td>7.309</td>\n",
       "      <td>0.000</td>\n",
       "    </tr>\n",
       "    <tr>\n",
       "      <th>ASSENTOS_COMPLEXO_INFERIDO</th>\n",
       "      <td>0.0005</td>\n",
       "      <td>0.000066</td>\n",
       "      <td>6.941</td>\n",
       "      <td>0.000</td>\n",
       "    </tr>\n",
       "  </tbody>\n",
       "</table>\n",
       "</div>"
      ],
      "text/plain": [
       "                                                    coef   std err       t  \\\n",
       "CUMPRIMENTO_NORMALIZADO                           0.9153  0.175000   5.243   \n",
       "OBRIGAÇÃO_FINAL_POR_SALA                          0.0167  0.003000   5.589   \n",
       "CUMPRIMENTO_NORMALIZADO:OBRIGAÇÃO_FINAL_POR_SALA -0.0066  0.004000  -1.801   \n",
       "DIAS_FUNCIONAMENTO                                0.0072  0.000000  18.184   \n",
       "SALAS_COMPLEXO_INFERIDO                           0.1321  0.018000   7.309   \n",
       "ASSENTOS_COMPLEXO_INFERIDO                        0.0005  0.000066   6.941   \n",
       "\n",
       "                                                  P>|t|  \n",
       "CUMPRIMENTO_NORMALIZADO                           0.000  \n",
       "OBRIGAÇÃO_FINAL_POR_SALA                          0.000  \n",
       "CUMPRIMENTO_NORMALIZADO:OBRIGAÇÃO_FINAL_POR_SALA  0.072  \n",
       "DIAS_FUNCIONAMENTO                                0.000  \n",
       "SALAS_COMPLEXO_INFERIDO                           0.000  \n",
       "ASSENTOS_COMPLEXO_INFERIDO                        0.000  "
      ]
     },
     "execution_count": 61,
     "metadata": {},
     "output_type": "execute_result"
    }
   ],
   "source": [
    "pd.read_html(reg_w87.summary().tables[1].as_html(),header=0,index_col=0)[0].iloc[-6:,:-2]"
   ]
  },
  {
   "cell_type": "code",
   "execution_count": 62,
   "metadata": {
    "ExecuteTime": {
     "end_time": "2021-06-09T19:20:21.444895Z",
     "start_time": "2021-06-09T19:20:21.072798Z"
    }
   },
   "outputs": [
    {
     "data": {
      "text/html": [
       "<div>\n",
       "<style scoped>\n",
       "    .dataframe tbody tr th:only-of-type {\n",
       "        vertical-align: middle;\n",
       "    }\n",
       "\n",
       "    .dataframe tbody tr th {\n",
       "        vertical-align: top;\n",
       "    }\n",
       "\n",
       "    .dataframe thead th {\n",
       "        text-align: right;\n",
       "    }\n",
       "</style>\n",
       "<table border=\"1\" class=\"dataframe\">\n",
       "  <thead>\n",
       "    <tr style=\"text-align: right;\">\n",
       "      <th></th>\n",
       "      <th>coef</th>\n",
       "      <th>std err</th>\n",
       "      <th>t</th>\n",
       "      <th>P&gt;|t|</th>\n",
       "    </tr>\n",
       "  </thead>\n",
       "  <tbody>\n",
       "    <tr>\n",
       "      <th>CUMPRIMENTO_NORMALIZADO</th>\n",
       "      <td>1.0327</td>\n",
       "      <td>0.192000</td>\n",
       "      <td>5.381</td>\n",
       "      <td>0.000</td>\n",
       "    </tr>\n",
       "    <tr>\n",
       "      <th>OBRIGAÇÃO_FINAL_POR_SALA</th>\n",
       "      <td>0.0147</td>\n",
       "      <td>0.003000</td>\n",
       "      <td>4.514</td>\n",
       "      <td>0.000</td>\n",
       "    </tr>\n",
       "    <tr>\n",
       "      <th>CUMPRIMENTO_NORMALIZADO:OBRIGAÇÃO_FINAL_POR_SALA</th>\n",
       "      <td>-0.0093</td>\n",
       "      <td>0.004000</td>\n",
       "      <td>-2.352</td>\n",
       "      <td>0.019</td>\n",
       "    </tr>\n",
       "    <tr>\n",
       "      <th>DIAS_FUNCIONAMENTO</th>\n",
       "      <td>0.0086</td>\n",
       "      <td>0.000000</td>\n",
       "      <td>20.882</td>\n",
       "      <td>0.000</td>\n",
       "    </tr>\n",
       "    <tr>\n",
       "      <th>SALAS_COMPLEXO_INFERIDO</th>\n",
       "      <td>0.1378</td>\n",
       "      <td>0.019000</td>\n",
       "      <td>7.072</td>\n",
       "      <td>0.000</td>\n",
       "    </tr>\n",
       "    <tr>\n",
       "      <th>ASSENTOS_COMPLEXO_INFERIDO</th>\n",
       "      <td>0.0005</td>\n",
       "      <td>0.000071</td>\n",
       "      <td>6.424</td>\n",
       "      <td>0.000</td>\n",
       "    </tr>\n",
       "  </tbody>\n",
       "</table>\n",
       "</div>"
      ],
      "text/plain": [
       "                                                    coef   std err       t  \\\n",
       "CUMPRIMENTO_NORMALIZADO                           1.0327  0.192000   5.381   \n",
       "OBRIGAÇÃO_FINAL_POR_SALA                          0.0147  0.003000   4.514   \n",
       "CUMPRIMENTO_NORMALIZADO:OBRIGAÇÃO_FINAL_POR_SALA -0.0093  0.004000  -2.352   \n",
       "DIAS_FUNCIONAMENTO                                0.0086  0.000000  20.882   \n",
       "SALAS_COMPLEXO_INFERIDO                           0.1378  0.019000   7.072   \n",
       "ASSENTOS_COMPLEXO_INFERIDO                        0.0005  0.000071   6.424   \n",
       "\n",
       "                                                  P>|t|  \n",
       "CUMPRIMENTO_NORMALIZADO                           0.000  \n",
       "OBRIGAÇÃO_FINAL_POR_SALA                          0.000  \n",
       "CUMPRIMENTO_NORMALIZADO:OBRIGAÇÃO_FINAL_POR_SALA  0.019  \n",
       "DIAS_FUNCIONAMENTO                                0.000  \n",
       "SALAS_COMPLEXO_INFERIDO                           0.000  \n",
       "ASSENTOS_COMPLEXO_INFERIDO                        0.000  "
      ]
     },
     "execution_count": 62,
     "metadata": {},
     "output_type": "execute_result"
    }
   ],
   "source": [
    "pd.read_html(reg_w88.summary().tables[1].as_html(),header=0,index_col=0)[0].iloc[-6:,:-2]"
   ]
  },
  {
   "cell_type": "code",
   "execution_count": 63,
   "metadata": {
    "ExecuteTime": {
     "end_time": "2021-06-09T19:20:22.226977Z",
     "start_time": "2021-06-09T19:20:21.812396Z"
    }
   },
   "outputs": [
    {
     "data": {
      "text/html": [
       "<div>\n",
       "<style scoped>\n",
       "    .dataframe tbody tr th:only-of-type {\n",
       "        vertical-align: middle;\n",
       "    }\n",
       "\n",
       "    .dataframe tbody tr th {\n",
       "        vertical-align: top;\n",
       "    }\n",
       "\n",
       "    .dataframe thead th {\n",
       "        text-align: right;\n",
       "    }\n",
       "</style>\n",
       "<table border=\"1\" class=\"dataframe\">\n",
       "  <thead>\n",
       "    <tr style=\"text-align: right;\">\n",
       "      <th></th>\n",
       "      <th>coef</th>\n",
       "      <th>std err</th>\n",
       "      <th>t</th>\n",
       "      <th>P&gt;|t|</th>\n",
       "    </tr>\n",
       "  </thead>\n",
       "  <tbody>\n",
       "    <tr>\n",
       "      <th>CUMPRIMENTO_NORMALIZADO</th>\n",
       "      <td>0.7836</td>\n",
       "      <td>0.230000</td>\n",
       "      <td>3.413</td>\n",
       "      <td>0.001</td>\n",
       "    </tr>\n",
       "    <tr>\n",
       "      <th>OBRIGAÇÃO_FINAL_POR_SALA</th>\n",
       "      <td>0.0234</td>\n",
       "      <td>0.004000</td>\n",
       "      <td>6.484</td>\n",
       "      <td>0.000</td>\n",
       "    </tr>\n",
       "    <tr>\n",
       "      <th>CUMPRIMENTO_NORMALIZADO:OBRIGAÇÃO_FINAL_POR_SALA</th>\n",
       "      <td>-0.0071</td>\n",
       "      <td>0.005000</td>\n",
       "      <td>-1.398</td>\n",
       "      <td>0.163</td>\n",
       "    </tr>\n",
       "    <tr>\n",
       "      <th>DIAS_FUNCIONAMENTO</th>\n",
       "      <td>0.0062</td>\n",
       "      <td>0.001000</td>\n",
       "      <td>11.361</td>\n",
       "      <td>0.000</td>\n",
       "    </tr>\n",
       "    <tr>\n",
       "      <th>SALAS_COMPLEXO_INFERIDO</th>\n",
       "      <td>0.0015</td>\n",
       "      <td>0.025000</td>\n",
       "      <td>0.059</td>\n",
       "      <td>0.953</td>\n",
       "    </tr>\n",
       "    <tr>\n",
       "      <th>ASSENTOS_COMPLEXO_INFERIDO</th>\n",
       "      <td>0.0006</td>\n",
       "      <td>0.000087</td>\n",
       "      <td>6.937</td>\n",
       "      <td>0.000</td>\n",
       "    </tr>\n",
       "  </tbody>\n",
       "</table>\n",
       "</div>"
      ],
      "text/plain": [
       "                                                    coef   std err       t  \\\n",
       "CUMPRIMENTO_NORMALIZADO                           0.7836  0.230000   3.413   \n",
       "OBRIGAÇÃO_FINAL_POR_SALA                          0.0234  0.004000   6.484   \n",
       "CUMPRIMENTO_NORMALIZADO:OBRIGAÇÃO_FINAL_POR_SALA -0.0071  0.005000  -1.398   \n",
       "DIAS_FUNCIONAMENTO                                0.0062  0.001000  11.361   \n",
       "SALAS_COMPLEXO_INFERIDO                           0.0015  0.025000   0.059   \n",
       "ASSENTOS_COMPLEXO_INFERIDO                        0.0006  0.000087   6.937   \n",
       "\n",
       "                                                  P>|t|  \n",
       "CUMPRIMENTO_NORMALIZADO                           0.001  \n",
       "OBRIGAÇÃO_FINAL_POR_SALA                          0.000  \n",
       "CUMPRIMENTO_NORMALIZADO:OBRIGAÇÃO_FINAL_POR_SALA  0.163  \n",
       "DIAS_FUNCIONAMENTO                                0.000  \n",
       "SALAS_COMPLEXO_INFERIDO                           0.953  \n",
       "ASSENTOS_COMPLEXO_INFERIDO                        0.000  "
      ]
     },
     "execution_count": 63,
     "metadata": {},
     "output_type": "execute_result"
    }
   ],
   "source": [
    "pd.read_html(reg_w89.summary().tables[1].as_html(),header=0,index_col=0)[0].iloc[-6:,:-2]"
   ]
  },
  {
   "cell_type": "markdown",
   "metadata": {},
   "source": [
    "###### Triangular kernel"
   ]
  },
  {
   "cell_type": "code",
   "execution_count": 64,
   "metadata": {
    "ExecuteTime": {
     "end_time": "2021-06-09T19:21:23.633136Z",
     "start_time": "2021-06-09T19:21:21.514350Z"
    }
   },
   "outputs": [],
   "source": [
    "formul = 'np.log(PUBLICO) ~ CUMPRIMENTO_LINEAR*OBRIGAÇÃO_FINAL_POR_SALA + DIAS_FUNCIONAMENTO + SALAS_COMPLEXO_INFERIDO + ASSENTOS_COMPLEXO_INFERIDO + C(ANO_CINEMATOGRAFICO)*C(MUN_COMPLEXO)'\n",
    "data = [tds_1718, est_1718, bras_1718]\n",
    "\n",
    "# all\n",
    "reg_w90 = smf.ols(formula = formul, data=data[0]).fit()\n",
    "\n",
    "# foreign\n",
    "reg_w91 = smf.ols(formula = formul, data=data[1]).fit()\n",
    "\n",
    "# Brazilian\n",
    "reg_w92 = smf.ols(formula = formul, data=data[2]).fit()"
   ]
  },
  {
   "cell_type": "code",
   "execution_count": 65,
   "metadata": {
    "ExecuteTime": {
     "end_time": "2021-06-09T19:21:24.531500Z",
     "start_time": "2021-06-09T19:21:24.027430Z"
    }
   },
   "outputs": [
    {
     "data": {
      "text/html": [
       "<div>\n",
       "<style scoped>\n",
       "    .dataframe tbody tr th:only-of-type {\n",
       "        vertical-align: middle;\n",
       "    }\n",
       "\n",
       "    .dataframe tbody tr th {\n",
       "        vertical-align: top;\n",
       "    }\n",
       "\n",
       "    .dataframe thead th {\n",
       "        text-align: right;\n",
       "    }\n",
       "</style>\n",
       "<table border=\"1\" class=\"dataframe\">\n",
       "  <thead>\n",
       "    <tr style=\"text-align: right;\">\n",
       "      <th></th>\n",
       "      <th>coef</th>\n",
       "      <th>std err</th>\n",
       "      <th>t</th>\n",
       "      <th>P&gt;|t|</th>\n",
       "    </tr>\n",
       "  </thead>\n",
       "  <tbody>\n",
       "    <tr>\n",
       "      <th>CUMPRIMENTO_LINEAR</th>\n",
       "      <td>1.5910</td>\n",
       "      <td>0.599000</td>\n",
       "      <td>2.654</td>\n",
       "      <td>0.008</td>\n",
       "    </tr>\n",
       "    <tr>\n",
       "      <th>OBRIGAÇÃO_FINAL_POR_SALA</th>\n",
       "      <td>-0.0074</td>\n",
       "      <td>0.007000</td>\n",
       "      <td>-1.075</td>\n",
       "      <td>0.283</td>\n",
       "    </tr>\n",
       "    <tr>\n",
       "      <th>CUMPRIMENTO_LINEAR:OBRIGAÇÃO_FINAL_POR_SALA</th>\n",
       "      <td>0.0520</td>\n",
       "      <td>0.019000</td>\n",
       "      <td>2.789</td>\n",
       "      <td>0.005</td>\n",
       "    </tr>\n",
       "    <tr>\n",
       "      <th>DIAS_FUNCIONAMENTO</th>\n",
       "      <td>0.0072</td>\n",
       "      <td>0.000000</td>\n",
       "      <td>18.740</td>\n",
       "      <td>0.000</td>\n",
       "    </tr>\n",
       "    <tr>\n",
       "      <th>SALAS_COMPLEXO_INFERIDO</th>\n",
       "      <td>0.1275</td>\n",
       "      <td>0.018000</td>\n",
       "      <td>7.221</td>\n",
       "      <td>0.000</td>\n",
       "    </tr>\n",
       "    <tr>\n",
       "      <th>ASSENTOS_COMPLEXO_INFERIDO</th>\n",
       "      <td>0.0005</td>\n",
       "      <td>0.000065</td>\n",
       "      <td>7.076</td>\n",
       "      <td>0.000</td>\n",
       "    </tr>\n",
       "  </tbody>\n",
       "</table>\n",
       "</div>"
      ],
      "text/plain": [
       "                                               coef   std err       t  P>|t|\n",
       "CUMPRIMENTO_LINEAR                           1.5910  0.599000   2.654  0.008\n",
       "OBRIGAÇÃO_FINAL_POR_SALA                    -0.0074  0.007000  -1.075  0.283\n",
       "CUMPRIMENTO_LINEAR:OBRIGAÇÃO_FINAL_POR_SALA  0.0520  0.019000   2.789  0.005\n",
       "DIAS_FUNCIONAMENTO                           0.0072  0.000000  18.740  0.000\n",
       "SALAS_COMPLEXO_INFERIDO                      0.1275  0.018000   7.221  0.000\n",
       "ASSENTOS_COMPLEXO_INFERIDO                   0.0005  0.000065   7.076  0.000"
      ]
     },
     "execution_count": 65,
     "metadata": {},
     "output_type": "execute_result"
    }
   ],
   "source": [
    "pd.read_html(reg_w90.summary().tables[1].as_html(),header=0,index_col=0)[0].iloc[-6:,:-2]"
   ]
  },
  {
   "cell_type": "code",
   "execution_count": 66,
   "metadata": {
    "ExecuteTime": {
     "end_time": "2021-06-09T19:21:25.381210Z",
     "start_time": "2021-06-09T19:21:24.899705Z"
    }
   },
   "outputs": [
    {
     "data": {
      "text/html": [
       "<div>\n",
       "<style scoped>\n",
       "    .dataframe tbody tr th:only-of-type {\n",
       "        vertical-align: middle;\n",
       "    }\n",
       "\n",
       "    .dataframe tbody tr th {\n",
       "        vertical-align: top;\n",
       "    }\n",
       "\n",
       "    .dataframe thead th {\n",
       "        text-align: right;\n",
       "    }\n",
       "</style>\n",
       "<table border=\"1\" class=\"dataframe\">\n",
       "  <thead>\n",
       "    <tr style=\"text-align: right;\">\n",
       "      <th></th>\n",
       "      <th>coef</th>\n",
       "      <th>std err</th>\n",
       "      <th>t</th>\n",
       "      <th>P&gt;|t|</th>\n",
       "    </tr>\n",
       "  </thead>\n",
       "  <tbody>\n",
       "    <tr>\n",
       "      <th>CUMPRIMENTO_LINEAR</th>\n",
       "      <td>2.5100</td>\n",
       "      <td>0.67600</td>\n",
       "      <td>3.713</td>\n",
       "      <td>0.000</td>\n",
       "    </tr>\n",
       "    <tr>\n",
       "      <th>OBRIGAÇÃO_FINAL_POR_SALA</th>\n",
       "      <td>-0.0049</td>\n",
       "      <td>0.00800</td>\n",
       "      <td>-0.644</td>\n",
       "      <td>0.520</td>\n",
       "    </tr>\n",
       "    <tr>\n",
       "      <th>CUMPRIMENTO_LINEAR:OBRIGAÇÃO_FINAL_POR_SALA</th>\n",
       "      <td>0.0354</td>\n",
       "      <td>0.02100</td>\n",
       "      <td>1.727</td>\n",
       "      <td>0.085</td>\n",
       "    </tr>\n",
       "    <tr>\n",
       "      <th>DIAS_FUNCIONAMENTO</th>\n",
       "      <td>0.0083</td>\n",
       "      <td>0.00000</td>\n",
       "      <td>20.477</td>\n",
       "      <td>0.000</td>\n",
       "    </tr>\n",
       "    <tr>\n",
       "      <th>SALAS_COMPLEXO_INFERIDO</th>\n",
       "      <td>0.1319</td>\n",
       "      <td>0.01900</td>\n",
       "      <td>6.951</td>\n",
       "      <td>0.000</td>\n",
       "    </tr>\n",
       "    <tr>\n",
       "      <th>ASSENTOS_COMPLEXO_INFERIDO</th>\n",
       "      <td>0.0005</td>\n",
       "      <td>0.00007</td>\n",
       "      <td>6.589</td>\n",
       "      <td>0.000</td>\n",
       "    </tr>\n",
       "  </tbody>\n",
       "</table>\n",
       "</div>"
      ],
      "text/plain": [
       "                                               coef  std err       t  P>|t|\n",
       "CUMPRIMENTO_LINEAR                           2.5100  0.67600   3.713  0.000\n",
       "OBRIGAÇÃO_FINAL_POR_SALA                    -0.0049  0.00800  -0.644  0.520\n",
       "CUMPRIMENTO_LINEAR:OBRIGAÇÃO_FINAL_POR_SALA  0.0354  0.02100   1.727  0.085\n",
       "DIAS_FUNCIONAMENTO                           0.0083  0.00000  20.477  0.000\n",
       "SALAS_COMPLEXO_INFERIDO                      0.1319  0.01900   6.951  0.000\n",
       "ASSENTOS_COMPLEXO_INFERIDO                   0.0005  0.00007   6.589  0.000"
      ]
     },
     "execution_count": 66,
     "metadata": {},
     "output_type": "execute_result"
    }
   ],
   "source": [
    "pd.read_html(reg_w91.summary().tables[1].as_html(),header=0,index_col=0)[0].iloc[-6:,:-2]"
   ]
  },
  {
   "cell_type": "code",
   "execution_count": 67,
   "metadata": {
    "ExecuteTime": {
     "end_time": "2021-06-09T19:21:26.205542Z",
     "start_time": "2021-06-09T19:21:25.792293Z"
    }
   },
   "outputs": [
    {
     "data": {
      "text/html": [
       "<div>\n",
       "<style scoped>\n",
       "    .dataframe tbody tr th:only-of-type {\n",
       "        vertical-align: middle;\n",
       "    }\n",
       "\n",
       "    .dataframe tbody tr th {\n",
       "        vertical-align: top;\n",
       "    }\n",
       "\n",
       "    .dataframe thead th {\n",
       "        text-align: right;\n",
       "    }\n",
       "</style>\n",
       "<table border=\"1\" class=\"dataframe\">\n",
       "  <thead>\n",
       "    <tr style=\"text-align: right;\">\n",
       "      <th></th>\n",
       "      <th>coef</th>\n",
       "      <th>std err</th>\n",
       "      <th>t</th>\n",
       "      <th>P&gt;|t|</th>\n",
       "    </tr>\n",
       "  </thead>\n",
       "  <tbody>\n",
       "    <tr>\n",
       "      <th>CUMPRIMENTO_LINEAR</th>\n",
       "      <td>-0.010300</td>\n",
       "      <td>0.811000</td>\n",
       "      <td>-0.013</td>\n",
       "      <td>0.990</td>\n",
       "    </tr>\n",
       "    <tr>\n",
       "      <th>OBRIGAÇÃO_FINAL_POR_SALA</th>\n",
       "      <td>-0.001200</td>\n",
       "      <td>0.009000</td>\n",
       "      <td>-0.133</td>\n",
       "      <td>0.894</td>\n",
       "    </tr>\n",
       "    <tr>\n",
       "      <th>CUMPRIMENTO_LINEAR:OBRIGAÇÃO_FINAL_POR_SALA</th>\n",
       "      <td>0.056000</td>\n",
       "      <td>0.026000</td>\n",
       "      <td>2.158</td>\n",
       "      <td>0.031</td>\n",
       "    </tr>\n",
       "    <tr>\n",
       "      <th>DIAS_FUNCIONAMENTO</th>\n",
       "      <td>0.006300</td>\n",
       "      <td>0.001000</td>\n",
       "      <td>12.135</td>\n",
       "      <td>0.000</td>\n",
       "    </tr>\n",
       "    <tr>\n",
       "      <th>SALAS_COMPLEXO_INFERIDO</th>\n",
       "      <td>-0.000055</td>\n",
       "      <td>0.025000</td>\n",
       "      <td>-0.002</td>\n",
       "      <td>0.998</td>\n",
       "    </tr>\n",
       "    <tr>\n",
       "      <th>ASSENTOS_COMPLEXO_INFERIDO</th>\n",
       "      <td>0.000600</td>\n",
       "      <td>0.000087</td>\n",
       "      <td>6.885</td>\n",
       "      <td>0.000</td>\n",
       "    </tr>\n",
       "  </tbody>\n",
       "</table>\n",
       "</div>"
      ],
      "text/plain": [
       "                                                 coef   std err       t  P>|t|\n",
       "CUMPRIMENTO_LINEAR                          -0.010300  0.811000  -0.013  0.990\n",
       "OBRIGAÇÃO_FINAL_POR_SALA                    -0.001200  0.009000  -0.133  0.894\n",
       "CUMPRIMENTO_LINEAR:OBRIGAÇÃO_FINAL_POR_SALA  0.056000  0.026000   2.158  0.031\n",
       "DIAS_FUNCIONAMENTO                           0.006300  0.001000  12.135  0.000\n",
       "SALAS_COMPLEXO_INFERIDO                     -0.000055  0.025000  -0.002  0.998\n",
       "ASSENTOS_COMPLEXO_INFERIDO                   0.000600  0.000087   6.885  0.000"
      ]
     },
     "execution_count": 67,
     "metadata": {},
     "output_type": "execute_result"
    }
   ],
   "source": [
    "pd.read_html(reg_w92.summary().tables[1].as_html(),header=0,index_col=0)[0].iloc[-6:,:-2]"
   ]
  },
  {
   "cell_type": "markdown",
   "metadata": {},
   "source": [
    "###### Triweight kernel"
   ]
  },
  {
   "cell_type": "code",
   "execution_count": 68,
   "metadata": {
    "ExecuteTime": {
     "end_time": "2021-06-09T19:22:03.511213Z",
     "start_time": "2021-06-09T19:22:01.324662Z"
    }
   },
   "outputs": [],
   "source": [
    "formul = 'np.log(PUBLICO) ~ CUMPRIMENTO_TRIWEIGHT*OBRIGAÇÃO_FINAL_POR_SALA + DIAS_FUNCIONAMENTO + SALAS_COMPLEXO_INFERIDO + ASSENTOS_COMPLEXO_INFERIDO + C(ANO_CINEMATOGRAFICO)*C(MUN_COMPLEXO)'\n",
    "data = [tds_1718, est_1718, bras_1718]\n",
    "\n",
    "# all\n",
    "reg_w93 = smf.ols(formula = formul, data=data[0]).fit()\n",
    "\n",
    "# foreign\n",
    "reg_w94 = smf.ols(formula = formul, data=data[1]).fit()\n",
    "\n",
    "# Brazilian\n",
    "reg_w95 = smf.ols(formula = formul, data=data[2]).fit()"
   ]
  },
  {
   "cell_type": "code",
   "execution_count": 69,
   "metadata": {
    "ExecuteTime": {
     "end_time": "2021-06-09T19:22:04.498653Z",
     "start_time": "2021-06-09T19:22:03.961905Z"
    },
    "scrolled": true
   },
   "outputs": [
    {
     "data": {
      "text/html": [
       "<div>\n",
       "<style scoped>\n",
       "    .dataframe tbody tr th:only-of-type {\n",
       "        vertical-align: middle;\n",
       "    }\n",
       "\n",
       "    .dataframe tbody tr th {\n",
       "        vertical-align: top;\n",
       "    }\n",
       "\n",
       "    .dataframe thead th {\n",
       "        text-align: right;\n",
       "    }\n",
       "</style>\n",
       "<table border=\"1\" class=\"dataframe\">\n",
       "  <thead>\n",
       "    <tr style=\"text-align: right;\">\n",
       "      <th></th>\n",
       "      <th>coef</th>\n",
       "      <th>std err</th>\n",
       "      <th>t</th>\n",
       "      <th>P&gt;|t|</th>\n",
       "    </tr>\n",
       "  </thead>\n",
       "  <tbody>\n",
       "    <tr>\n",
       "      <th>CUMPRIMENTO_TRIWEIGHT</th>\n",
       "      <td>0.8429</td>\n",
       "      <td>0.157000</td>\n",
       "      <td>5.363</td>\n",
       "      <td>0.000</td>\n",
       "    </tr>\n",
       "    <tr>\n",
       "      <th>OBRIGAÇÃO_FINAL_POR_SALA</th>\n",
       "      <td>0.0175</td>\n",
       "      <td>0.003000</td>\n",
       "      <td>6.504</td>\n",
       "      <td>0.000</td>\n",
       "    </tr>\n",
       "    <tr>\n",
       "      <th>CUMPRIMENTO_TRIWEIGHT:OBRIGAÇÃO_FINAL_POR_SALA</th>\n",
       "      <td>-0.0075</td>\n",
       "      <td>0.003000</td>\n",
       "      <td>-2.354</td>\n",
       "      <td>0.019</td>\n",
       "    </tr>\n",
       "    <tr>\n",
       "      <th>DIAS_FUNCIONAMENTO</th>\n",
       "      <td>0.0072</td>\n",
       "      <td>0.000000</td>\n",
       "      <td>18.479</td>\n",
       "      <td>0.000</td>\n",
       "    </tr>\n",
       "    <tr>\n",
       "      <th>SALAS_COMPLEXO_INFERIDO</th>\n",
       "      <td>0.1342</td>\n",
       "      <td>0.018000</td>\n",
       "      <td>7.404</td>\n",
       "      <td>0.000</td>\n",
       "    </tr>\n",
       "    <tr>\n",
       "      <th>ASSENTOS_COMPLEXO_INFERIDO</th>\n",
       "      <td>0.0005</td>\n",
       "      <td>0.000066</td>\n",
       "      <td>6.883</td>\n",
       "      <td>0.000</td>\n",
       "    </tr>\n",
       "  </tbody>\n",
       "</table>\n",
       "</div>"
      ],
      "text/plain": [
       "                                                  coef   std err       t  \\\n",
       "CUMPRIMENTO_TRIWEIGHT                           0.8429  0.157000   5.363   \n",
       "OBRIGAÇÃO_FINAL_POR_SALA                        0.0175  0.003000   6.504   \n",
       "CUMPRIMENTO_TRIWEIGHT:OBRIGAÇÃO_FINAL_POR_SALA -0.0075  0.003000  -2.354   \n",
       "DIAS_FUNCIONAMENTO                              0.0072  0.000000  18.479   \n",
       "SALAS_COMPLEXO_INFERIDO                         0.1342  0.018000   7.404   \n",
       "ASSENTOS_COMPLEXO_INFERIDO                      0.0005  0.000066   6.883   \n",
       "\n",
       "                                                P>|t|  \n",
       "CUMPRIMENTO_TRIWEIGHT                           0.000  \n",
       "OBRIGAÇÃO_FINAL_POR_SALA                        0.000  \n",
       "CUMPRIMENTO_TRIWEIGHT:OBRIGAÇÃO_FINAL_POR_SALA  0.019  \n",
       "DIAS_FUNCIONAMENTO                              0.000  \n",
       "SALAS_COMPLEXO_INFERIDO                         0.000  \n",
       "ASSENTOS_COMPLEXO_INFERIDO                      0.000  "
      ]
     },
     "execution_count": 69,
     "metadata": {},
     "output_type": "execute_result"
    }
   ],
   "source": [
    "pd.read_html(reg_w93.summary().tables[1].as_html(),header=0,index_col=0)[0].iloc[-6:,:-2]"
   ]
  },
  {
   "cell_type": "code",
   "execution_count": 70,
   "metadata": {
    "ExecuteTime": {
     "end_time": "2021-06-09T19:22:05.291356Z",
     "start_time": "2021-06-09T19:22:04.882924Z"
    }
   },
   "outputs": [
    {
     "data": {
      "text/html": [
       "<div>\n",
       "<style scoped>\n",
       "    .dataframe tbody tr th:only-of-type {\n",
       "        vertical-align: middle;\n",
       "    }\n",
       "\n",
       "    .dataframe tbody tr th {\n",
       "        vertical-align: top;\n",
       "    }\n",
       "\n",
       "    .dataframe thead th {\n",
       "        text-align: right;\n",
       "    }\n",
       "</style>\n",
       "<table border=\"1\" class=\"dataframe\">\n",
       "  <thead>\n",
       "    <tr style=\"text-align: right;\">\n",
       "      <th></th>\n",
       "      <th>coef</th>\n",
       "      <th>std err</th>\n",
       "      <th>t</th>\n",
       "      <th>P&gt;|t|</th>\n",
       "    </tr>\n",
       "  </thead>\n",
       "  <tbody>\n",
       "    <tr>\n",
       "      <th>CUMPRIMENTO_TRIWEIGHT</th>\n",
       "      <td>0.9478</td>\n",
       "      <td>0.172000</td>\n",
       "      <td>5.510</td>\n",
       "      <td>0.000</td>\n",
       "    </tr>\n",
       "    <tr>\n",
       "      <th>OBRIGAÇÃO_FINAL_POR_SALA</th>\n",
       "      <td>0.0154</td>\n",
       "      <td>0.003000</td>\n",
       "      <td>5.241</td>\n",
       "      <td>0.000</td>\n",
       "    </tr>\n",
       "    <tr>\n",
       "      <th>CUMPRIMENTO_TRIWEIGHT:OBRIGAÇÃO_FINAL_POR_SALA</th>\n",
       "      <td>-0.0102</td>\n",
       "      <td>0.003000</td>\n",
       "      <td>-2.956</td>\n",
       "      <td>0.003</td>\n",
       "    </tr>\n",
       "    <tr>\n",
       "      <th>DIAS_FUNCIONAMENTO</th>\n",
       "      <td>0.0087</td>\n",
       "      <td>0.000000</td>\n",
       "      <td>21.326</td>\n",
       "      <td>0.000</td>\n",
       "    </tr>\n",
       "    <tr>\n",
       "      <th>SALAS_COMPLEXO_INFERIDO</th>\n",
       "      <td>0.1405</td>\n",
       "      <td>0.020000</td>\n",
       "      <td>7.189</td>\n",
       "      <td>0.000</td>\n",
       "    </tr>\n",
       "    <tr>\n",
       "      <th>ASSENTOS_COMPLEXO_INFERIDO</th>\n",
       "      <td>0.0005</td>\n",
       "      <td>0.000072</td>\n",
       "      <td>6.368</td>\n",
       "      <td>0.000</td>\n",
       "    </tr>\n",
       "  </tbody>\n",
       "</table>\n",
       "</div>"
      ],
      "text/plain": [
       "                                                  coef   std err       t  \\\n",
       "CUMPRIMENTO_TRIWEIGHT                           0.9478  0.172000   5.510   \n",
       "OBRIGAÇÃO_FINAL_POR_SALA                        0.0154  0.003000   5.241   \n",
       "CUMPRIMENTO_TRIWEIGHT:OBRIGAÇÃO_FINAL_POR_SALA -0.0102  0.003000  -2.956   \n",
       "DIAS_FUNCIONAMENTO                              0.0087  0.000000  21.326   \n",
       "SALAS_COMPLEXO_INFERIDO                         0.1405  0.020000   7.189   \n",
       "ASSENTOS_COMPLEXO_INFERIDO                      0.0005  0.000072   6.368   \n",
       "\n",
       "                                                P>|t|  \n",
       "CUMPRIMENTO_TRIWEIGHT                           0.000  \n",
       "OBRIGAÇÃO_FINAL_POR_SALA                        0.000  \n",
       "CUMPRIMENTO_TRIWEIGHT:OBRIGAÇÃO_FINAL_POR_SALA  0.003  \n",
       "DIAS_FUNCIONAMENTO                              0.000  \n",
       "SALAS_COMPLEXO_INFERIDO                         0.000  \n",
       "ASSENTOS_COMPLEXO_INFERIDO                      0.000  "
      ]
     },
     "execution_count": 70,
     "metadata": {},
     "output_type": "execute_result"
    }
   ],
   "source": [
    "pd.read_html(reg_w94.summary().tables[1].as_html(),header=0,index_col=0)[0].iloc[-6:,:-2]"
   ]
  },
  {
   "cell_type": "code",
   "execution_count": 71,
   "metadata": {
    "ExecuteTime": {
     "end_time": "2021-06-09T19:22:06.070635Z",
     "start_time": "2021-06-09T19:22:05.662575Z"
    },
    "scrolled": false
   },
   "outputs": [
    {
     "data": {
      "text/html": [
       "<div>\n",
       "<style scoped>\n",
       "    .dataframe tbody tr th:only-of-type {\n",
       "        vertical-align: middle;\n",
       "    }\n",
       "\n",
       "    .dataframe tbody tr th {\n",
       "        vertical-align: top;\n",
       "    }\n",
       "\n",
       "    .dataframe thead th {\n",
       "        text-align: right;\n",
       "    }\n",
       "</style>\n",
       "<table border=\"1\" class=\"dataframe\">\n",
       "  <thead>\n",
       "    <tr style=\"text-align: right;\">\n",
       "      <th></th>\n",
       "      <th>coef</th>\n",
       "      <th>std err</th>\n",
       "      <th>t</th>\n",
       "      <th>P&gt;|t|</th>\n",
       "    </tr>\n",
       "  </thead>\n",
       "  <tbody>\n",
       "    <tr>\n",
       "      <th>CUMPRIMENTO_TRIWEIGHT</th>\n",
       "      <td>0.7410</td>\n",
       "      <td>0.206000</td>\n",
       "      <td>3.598</td>\n",
       "      <td>0.000</td>\n",
       "    </tr>\n",
       "    <tr>\n",
       "      <th>OBRIGAÇÃO_FINAL_POR_SALA</th>\n",
       "      <td>0.0237</td>\n",
       "      <td>0.003000</td>\n",
       "      <td>7.388</td>\n",
       "      <td>0.000</td>\n",
       "    </tr>\n",
       "    <tr>\n",
       "      <th>CUMPRIMENTO_TRIWEIGHT:OBRIGAÇÃO_FINAL_POR_SALA</th>\n",
       "      <td>-0.0071</td>\n",
       "      <td>0.004000</td>\n",
       "      <td>-1.587</td>\n",
       "      <td>0.113</td>\n",
       "    </tr>\n",
       "    <tr>\n",
       "      <th>DIAS_FUNCIONAMENTO</th>\n",
       "      <td>0.0061</td>\n",
       "      <td>0.001000</td>\n",
       "      <td>10.924</td>\n",
       "      <td>0.000</td>\n",
       "    </tr>\n",
       "    <tr>\n",
       "      <th>SALAS_COMPLEXO_INFERIDO</th>\n",
       "      <td>0.0025</td>\n",
       "      <td>0.025000</td>\n",
       "      <td>0.101</td>\n",
       "      <td>0.919</td>\n",
       "    </tr>\n",
       "    <tr>\n",
       "      <th>ASSENTOS_COMPLEXO_INFERIDO</th>\n",
       "      <td>0.0006</td>\n",
       "      <td>0.000087</td>\n",
       "      <td>6.926</td>\n",
       "      <td>0.000</td>\n",
       "    </tr>\n",
       "  </tbody>\n",
       "</table>\n",
       "</div>"
      ],
      "text/plain": [
       "                                                  coef   std err       t  \\\n",
       "CUMPRIMENTO_TRIWEIGHT                           0.7410  0.206000   3.598   \n",
       "OBRIGAÇÃO_FINAL_POR_SALA                        0.0237  0.003000   7.388   \n",
       "CUMPRIMENTO_TRIWEIGHT:OBRIGAÇÃO_FINAL_POR_SALA -0.0071  0.004000  -1.587   \n",
       "DIAS_FUNCIONAMENTO                              0.0061  0.001000  10.924   \n",
       "SALAS_COMPLEXO_INFERIDO                         0.0025  0.025000   0.101   \n",
       "ASSENTOS_COMPLEXO_INFERIDO                      0.0006  0.000087   6.926   \n",
       "\n",
       "                                                P>|t|  \n",
       "CUMPRIMENTO_TRIWEIGHT                           0.000  \n",
       "OBRIGAÇÃO_FINAL_POR_SALA                        0.000  \n",
       "CUMPRIMENTO_TRIWEIGHT:OBRIGAÇÃO_FINAL_POR_SALA  0.113  \n",
       "DIAS_FUNCIONAMENTO                              0.000  \n",
       "SALAS_COMPLEXO_INFERIDO                         0.919  \n",
       "ASSENTOS_COMPLEXO_INFERIDO                      0.000  "
      ]
     },
     "execution_count": 71,
     "metadata": {},
     "output_type": "execute_result"
    }
   ],
   "source": [
    "pd.read_html(reg_w95.summary().tables[1].as_html(),header=0,index_col=0)[0].iloc[-6:,:-2]"
   ]
  },
  {
   "cell_type": "markdown",
   "metadata": {},
   "source": [
    "## Segmented regressions"
   ]
  },
  {
   "cell_type": "markdown",
   "metadata": {},
   "source": [
    "Define multiplex $i$ in year $t$ and title \"nationality\" (meaning all, foreign or Brazilian movie sessions) and nominal screen quota obligation $SQ$:\n",
    "\n",
    "$$ \\ln(Y_{nit}) = \\beta_0 + \\beta_1 SQ_{it} + \\theta X_{it} + \\varepsilon_{it} $$\n",
    "\n",
    "$Y$ is the interest variable that can be either Yearly Income or total public (# of moviegoers). $X_{it}$ is a vector of controls with opening days, movie theater fixed-effects and year fixed-effects. Alternatively, we also drop entity fixed-effects and use number of viewing rooms and seats per movie-theater as controls.\n",
    "\n",
    "Here, we segment regressions by complance level. Each regression comprises a bin of compliance. In addition, 2019 is excluded from all regressions."
   ]
  },
  {
   "cell_type": "markdown",
   "metadata": {
    "heading_collapsed": true
   },
   "source": [
    "### Preliminary: checking for correlation between compliance levels"
   ]
  },
  {
   "cell_type": "markdown",
   "metadata": {
    "hidden": true
   },
   "source": [
    "*One problem of segmented regressions (by compliance level) is that a movie theater may shift bins from one year to another, as a result, only one observation for said movie theater will be available for each bin, making it impossible to use fixed-effects on that particular movie theater*"
   ]
  },
  {
   "cell_type": "code",
   "execution_count": 5,
   "metadata": {
    "ExecuteTime": {
     "end_time": "2021-06-15T21:00:16.507249Z",
     "start_time": "2021-06-15T21:00:16.503235Z"
    },
    "hidden": true
   },
   "outputs": [
    {
     "data": {
      "text/plain": [
       "1525"
      ]
     },
     "execution_count": 5,
     "metadata": {},
     "output_type": "execute_result"
    }
   ],
   "source": [
    "tds_1718.shape[0]"
   ]
  },
  {
   "cell_type": "code",
   "execution_count": 6,
   "metadata": {
    "ExecuteTime": {
     "end_time": "2021-06-15T21:00:16.945357Z",
     "start_time": "2021-06-15T21:00:16.928285Z"
    },
    "hidden": true
   },
   "outputs": [
    {
     "name": "stdout",
     "output_type": "stream",
     "text": [
      "83 observations, out of 1525, appear in only one of two years and can have no fixed-effects\n"
     ]
    }
   ],
   "source": [
    "# getting only movie theaters that appear in both years\n",
    "dups = tds_1718[tds_1718.duplicated(subset=['REGISTRO_COMPLEXO'], keep=False)]\n",
    "\n",
    "print(f'{tds_1718.shape[0] - dups.shape[0]} observations, out of {tds_1718.shape[0]}, appear in only one of two years and can\\\n",
    " have no fixed-effects')"
   ]
  },
  {
   "cell_type": "code",
   "execution_count": 7,
   "metadata": {
    "ExecuteTime": {
     "end_time": "2021-06-15T21:00:17.598139Z",
     "start_time": "2021-06-15T21:00:17.560007Z"
    },
    "hidden": true
   },
   "outputs": [],
   "source": [
    "# getting yearly compliance to compare both\n",
    "d_17 = dups.query('ANO_CINEMATOGRAFICO == 2017')[['REGISTRO_COMPLEXO','CUMPRIMENTO_PROPORCIONAL']] \n",
    "d_17.rename({'CUMPRIMENTO_PROPORCIONAL':'CUMPRIMENTO_PROPORCIONAL_2017'}, axis=1, inplace=True)\n",
    "\n",
    "d_18 = dups.query('ANO_CINEMATOGRAFICO == 2018')[['REGISTRO_COMPLEXO','CUMPRIMENTO_PROPORCIONAL']]\n",
    "d_18.rename({'CUMPRIMENTO_PROPORCIONAL':'CUMPRIMENTO_PROPORCIONAL_2018'}, axis=1, inplace=True)\n",
    "\n",
    "# merging both\n",
    "compliance_comparison = pd.merge(d_17,d_18,on='REGISTRO_COMPLEXO')"
   ]
  },
  {
   "cell_type": "code",
   "execution_count": 8,
   "metadata": {
    "ExecuteTime": {
     "end_time": "2021-06-15T21:00:20.119707Z",
     "start_time": "2021-06-15T21:00:20.107676Z"
    },
    "hidden": true
   },
   "outputs": [
    {
     "data": {
      "text/html": [
       "<div>\n",
       "<style scoped>\n",
       "    .dataframe tbody tr th:only-of-type {\n",
       "        vertical-align: middle;\n",
       "    }\n",
       "\n",
       "    .dataframe tbody tr th {\n",
       "        vertical-align: top;\n",
       "    }\n",
       "\n",
       "    .dataframe thead th {\n",
       "        text-align: right;\n",
       "    }\n",
       "</style>\n",
       "<table border=\"1\" class=\"dataframe\">\n",
       "  <thead>\n",
       "    <tr style=\"text-align: right;\">\n",
       "      <th></th>\n",
       "      <th>CUMPRIMENTO_PROPORCIONAL_2017</th>\n",
       "      <th>CUMPRIMENTO_PROPORCIONAL_2018</th>\n",
       "    </tr>\n",
       "  </thead>\n",
       "  <tbody>\n",
       "    <tr>\n",
       "      <th>CUMPRIMENTO_PROPORCIONAL_2017</th>\n",
       "      <td>1.000000</td>\n",
       "      <td>0.553052</td>\n",
       "    </tr>\n",
       "    <tr>\n",
       "      <th>CUMPRIMENTO_PROPORCIONAL_2018</th>\n",
       "      <td>0.553052</td>\n",
       "      <td>1.000000</td>\n",
       "    </tr>\n",
       "  </tbody>\n",
       "</table>\n",
       "</div>"
      ],
      "text/plain": [
       "                               CUMPRIMENTO_PROPORCIONAL_2017  \\\n",
       "CUMPRIMENTO_PROPORCIONAL_2017                       1.000000   \n",
       "CUMPRIMENTO_PROPORCIONAL_2018                       0.553052   \n",
       "\n",
       "                               CUMPRIMENTO_PROPORCIONAL_2018  \n",
       "CUMPRIMENTO_PROPORCIONAL_2017                       0.553052  \n",
       "CUMPRIMENTO_PROPORCIONAL_2018                       1.000000  "
      ]
     },
     "execution_count": 8,
     "metadata": {},
     "output_type": "execute_result"
    }
   ],
   "source": [
    "compliance_comparison.corr()\n",
    "# as one can see, correlation is only 0.55, not particularly high"
   ]
  },
  {
   "cell_type": "code",
   "execution_count": 9,
   "metadata": {
    "ExecuteTime": {
     "end_time": "2021-06-15T21:00:20.623761Z",
     "start_time": "2021-06-15T21:00:20.616744Z"
    },
    "hidden": true
   },
   "outputs": [],
   "source": [
    "# getting absolute delta for both\n",
    "compliance_comparison['DELTA'] = np.where(\n",
    "    compliance_comparison['CUMPRIMENTO_PROPORCIONAL_2017'] >= compliance_comparison['CUMPRIMENTO_PROPORCIONAL_2018'],\n",
    "    compliance_comparison['CUMPRIMENTO_PROPORCIONAL_2017'] - compliance_comparison['CUMPRIMENTO_PROPORCIONAL_2018'],\n",
    "    compliance_comparison['CUMPRIMENTO_PROPORCIONAL_2018'] - compliance_comparison['CUMPRIMENTO_PROPORCIONAL_2017'])"
   ]
  },
  {
   "cell_type": "code",
   "execution_count": 11,
   "metadata": {
    "ExecuteTime": {
     "end_time": "2021-06-15T21:00:34.557262Z",
     "start_time": "2021-06-15T21:00:34.276460Z"
    },
    "hidden": true
   },
   "outputs": [
    {
     "data": {
      "text/plain": [
       "<matplotlib.axes._subplots.AxesSubplot at 0x2929a9b7bb0>"
      ]
     },
     "execution_count": 11,
     "metadata": {},
     "output_type": "execute_result"
    },
    {
     "data": {
      "image/png": "[encoded data removed]",
      "text/plain": [
       "<Figure size 432x288 with 1 Axes>"
      ]
     },
     "metadata": {
      "needs_background": "light"
     },
     "output_type": "display_data"
    }
   ],
   "source": [
    "compliance_comparison['DELTA'].plot.hist(bins=100)"
   ]
  },
  {
   "cell_type": "code",
   "execution_count": 12,
   "metadata": {
    "ExecuteTime": {
     "end_time": "2021-06-15T21:00:45.083330Z",
     "start_time": "2021-06-15T21:00:45.074307Z"
    },
    "hidden": true
   },
   "outputs": [
    {
     "name": "stdout",
     "output_type": "stream",
     "text": [
      "43 full-time compliers represent 0.96 out of 45 consistent (0 delta) movie theaters\n",
      "1 full-time non-compliers represent 0.02 out of 45 consistent (0 delta) movie theaters\n"
     ]
    }
   ],
   "source": [
    "a = compliance_comparison[\n",
    "    (compliance_comparison.CUMPRIMENTO_PROPORCIONAL_2017 == 0)&(compliance_comparison.CUMPRIMENTO_PROPORCIONAL_2018 == 0)\n",
    "    ].shape[0]\n",
    "b = compliance_comparison[\n",
    "    (compliance_comparison.CUMPRIMENTO_PROPORCIONAL_2017 == 1)&(compliance_comparison.CUMPRIMENTO_PROPORCIONAL_2018 == 1)\n",
    "    ].shape[0]\n",
    "c = compliance_comparison[compliance_comparison.DELTA == 0].shape[0]\n",
    "\n",
    "print(f'{b} full-time compliers represent {np.round(b/c, 2)} out of {c} consistent (0 delta) movie theaters')\n",
    "print(f'{a} full-time non-compliers represent {np.round(a/c, 2)} out of {c} consistent (0 delta) movie theaters')"
   ]
  },
  {
   "cell_type": "code",
   "execution_count": 17,
   "metadata": {
    "ExecuteTime": {
     "end_time": "2021-06-15T21:16:15.368475Z",
     "start_time": "2021-06-15T21:16:15.338816Z"
    },
    "hidden": true
   },
   "outputs": [],
   "source": [
    "# checking for how many obs will be spread across diff bins\n",
    "\n",
    "bounds = {}\n",
    "\n",
    "# bounds to be used later\n",
    "bounds['b1'] = [-0.1, 0.3, 0.6, 0.9, 1.2, 1.5, 50]\n",
    "bounds['b2'] = [-0.1, 0.3, 0.5, 0.7, 0.9, 1.1, 1.3, 1.5, 50]\n",
    "bounds['b3'] = [-0.1, 0.4, 0.8, 1.2, 1.6, 50]\n",
    "bounds['b4'] = [-0.1, 0.45, 0.85, 1.25, 1.65, 50]\n",
    "bounds['b5'] = [-0.1, 0.1, 0.2, 0.3, 0.4, 0.5, 0.6, 0.7, 0.8, 0.9, 1.0, 1.1, 1.2, 1.3, 50]\n",
    "bounds['b6'] = [-0.1, 0.85, 0.95, 1.05, 1.15, 50]\n",
    "\n",
    "alpha = 'ABCDEFGHIJKLMNOPQRSTUVXZ'\n",
    "\n",
    "for i in range(1,7):\n",
    "    compliance_comparison[f'2017_B{i}'] = pd.cut(compliance_comparison.CUMPRIMENTO_PROPORCIONAL_2017, \n",
    "           bounds[f'b{i}'], labels=[alpha[i] for i in range(len(bounds[f'b{i}']) - 1)])\n",
    "    compliance_comparison[f'2018_B{i}'] = pd.cut(compliance_comparison.CUMPRIMENTO_PROPORCIONAL_2018, \n",
    "           bounds[f'b{i}'], labels=[alpha[i] for i in range(len(bounds[f'b{i}']) - 1)])"
   ]
  },
  {
   "cell_type": "code",
   "execution_count": 22,
   "metadata": {
    "ExecuteTime": {
     "end_time": "2021-06-15T21:26:51.395960Z",
     "start_time": "2021-06-15T21:26:51.387937Z"
    },
    "hidden": true
   },
   "outputs": [
    {
     "name": "stdout",
     "output_type": "stream",
     "text": [
      "For bounds B1, 381 movie theaters will be shifted between bounds out of 721 movie theaters, meaning 680 out of 1525 observations (or 0.45) will have FE\n",
      "For bounds B2, 438 movie theaters will be shifted between bounds out of 721 movie theaters, meaning 566 out of 1525 observations (or 0.37) will have FE\n",
      "For bounds B3, 326 movie theaters will be shifted between bounds out of 721 movie theaters, meaning 790 out of 1525 observations (or 0.52) will have FE\n",
      "For bounds B4, 321 movie theaters will be shifted between bounds out of 721 movie theaters, meaning 800 out of 1525 observations (or 0.52) will have FE\n",
      "For bounds B5, 542 movie theaters will be shifted between bounds out of 721 movie theaters, meaning 358 out of 1525 observations (or 0.23) will have FE\n",
      "For bounds B6, 375 movie theaters will be shifted between bounds out of 721 movie theaters, meaning 692 out of 1525 observations (or 0.45) will have FE\n"
     ]
    }
   ],
   "source": [
    "b = tds_1718.shape[0]\n",
    "\n",
    "for i in range(1,7):\n",
    "    mts = np.where(compliance_comparison[f'2017_B{i}'] != compliance_comparison[f'2018_B{i}'], 1, 0).sum()\n",
    "    mtt = compliance_comparison.shape[0]\n",
    "    a = 2*(mtt - mts)\n",
    "    print(f'For bounds B{i}, {mts} movie theaters will be shifted between bounds out of {mtt} movie theaters, meaning\\\n",
    " {a} out of {b} observations (or {np.round(a/b,2)}) will have FE')"
   ]
  },
  {
   "cell_type": "markdown",
   "metadata": {},
   "source": [
    "### Dependent variable: income"
   ]
  },
  {
   "cell_type": "code",
   "execution_count": 122,
   "metadata": {
    "ExecuteTime": {
     "end_time": "2021-06-09T20:15:42.214716Z",
     "start_time": "2021-06-09T20:15:42.169686Z"
    }
   },
   "outputs": [],
   "source": [
    "seg_regs = {} # creating dict to store regression objects\n",
    "\n",
    "count_regs = 0 # counter to automatically generate reg numbers"
   ]
  },
  {
   "cell_type": "markdown",
   "metadata": {
    "heading_collapsed": true
   },
   "source": [
    "#### Bounds - [0, 0.3, 0.6, 0.9, 1.2, 1.5, 50] "
   ]
  },
  {
   "cell_type": "code",
   "execution_count": 123,
   "metadata": {
    "ExecuteTime": {
     "end_time": "2021-06-09T20:15:48.521913Z",
     "start_time": "2021-06-09T20:15:47.808022Z"
    },
    "hidden": true
   },
   "outputs": [
    {
     "name": "stdout",
     "output_type": "stream",
     "text": [
      "18\n"
     ]
    }
   ],
   "source": [
    "bounds = [0, 0.3, 0.6, 0.9, 1.2, 1.5, 50] \n",
    "\n",
    "formul = 'np.log(RENDA) ~ OBRIGAÇÃO_FINAL_POR_SALA + DIAS_FUNCIONAMENTO + C(REGISTRO_COMPLEXO) + C(ANO_CINEMATOGRAFICO)'\n",
    "\n",
    "last_count = count_regs\n",
    "\n",
    "for i in range(len(bounds)-1):\n",
    "    seg_regs[f'reg_seg{count_regs}'] = smf.ols(formula=formul, \n",
    "                    data = tds_1718[tds_1718.CUMPRIMENTO_PROPORCIONAL.between(bounds[i],bounds[i+1])]).fit()\n",
    "    count_regs += 1\n",
    "    seg_regs[f'reg_seg{count_regs}'] = smf.ols(formula=formul, \n",
    "                    data = est_1718[est_1718.CUMPRIMENTO_PROPORCIONAL.between(bounds[i],bounds[i+1])]).fit()\n",
    "    count_regs += 1\n",
    "    seg_regs[f'reg_seg{count_regs}'] = smf.ols(formula=formul, \n",
    "                    data = bras_1718[bras_1718.CUMPRIMENTO_PROPORCIONAL.between(bounds[i],bounds[i+1])]).fit()\n",
    "    count_regs += 1\n",
    "\n",
    "print(count_regs)"
   ]
  },
  {
   "cell_type": "code",
   "execution_count": 124,
   "metadata": {
    "ExecuteTime": {
     "end_time": "2021-06-09T20:15:51.684954Z",
     "start_time": "2021-06-09T20:15:48.938370Z"
    },
    "hidden": true
   },
   "outputs": [
    {
     "name": "stdout",
     "output_type": "stream",
     "text": [
      "Reg_seg 0, ALL: lower bound 0, higher bound 0.3\n",
      "                            coef  std err      t  P>|t|\n",
      "OBRIGAÇÃO_FINAL_POR_SALA  0.0304    0.066  0.462  0.663\n",
      "DIAS_FUNCIONAMENTO        0.0065    0.005  1.338  0.238\n",
      "\n",
      "\n",
      "Reg_seg 1, FOREIGN: lower bound 0, higher bound 0.3\n",
      "                            coef  std err      t  P>|t|\n",
      "OBRIGAÇÃO_FINAL_POR_SALA  0.0279    0.068  0.414  0.696\n",
      "DIAS_FUNCIONAMENTO        0.0067    0.005  1.330  0.241\n",
      "\n",
      "\n",
      "Reg_seg 2, BRAZILIAN: lower bound 0, higher bound 0.3\n",
      "                            coef  std err      t  P>|t|\n",
      "OBRIGAÇÃO_FINAL_POR_SALA -0.1096    0.248 -0.443  0.735\n",
      "DIAS_FUNCIONAMENTO        0.0207    0.106  0.195  0.877\n",
      "\n",
      "\n",
      "Reg_seg 3, ALL: lower bound 0.3, higher bound 0.6\n",
      "                            coef  std err      t  P>|t|\n",
      "OBRIGAÇÃO_FINAL_POR_SALA  0.0055    0.003  1.761  0.089\n",
      "DIAS_FUNCIONAMENTO        0.0045    0.000  9.917  0.000\n",
      "\n",
      "\n",
      "Reg_seg 4, FOREIGN: lower bound 0.3, higher bound 0.6\n",
      "                            coef  std err       t  P>|t|\n",
      "OBRIGAÇÃO_FINAL_POR_SALA  0.0053    0.003   1.702    0.1\n",
      "DIAS_FUNCIONAMENTO        0.0046    0.000  10.168    0.0\n",
      "\n",
      "\n",
      "Reg_seg 5, BRAZILIAN: lower bound 0.3, higher bound 0.6\n",
      "                            coef  std err      t  P>|t|\n",
      "OBRIGAÇÃO_FINAL_POR_SALA  0.0061    0.011  0.559  0.581\n",
      "DIAS_FUNCIONAMENTO        0.0074    0.003  2.336  0.027\n",
      "\n",
      "\n",
      "Reg_seg 6, ALL: lower bound 0.6, higher bound 0.9\n",
      "                            coef  std err      t  P>|t|\n",
      "OBRIGAÇÃO_FINAL_POR_SALA  0.0048    0.005  0.940  0.354\n",
      "DIAS_FUNCIONAMENTO        0.0056    0.001  6.589  0.000\n",
      "\n",
      "\n",
      "Reg_seg 7, FOREIGN: lower bound 0.6, higher bound 0.9\n",
      "                            coef  std err      t  P>|t|\n",
      "OBRIGAÇÃO_FINAL_POR_SALA  0.0050    0.006  0.895  0.377\n",
      "DIAS_FUNCIONAMENTO        0.0058    0.001  6.254  0.000\n",
      "\n",
      "\n",
      "Reg_seg 8, BRAZILIAN: lower bound 0.6, higher bound 0.9\n",
      "                            coef  std err      t  P>|t|\n",
      "OBRIGAÇÃO_FINAL_POR_SALA  0.0079    0.014  0.552  0.585\n",
      "DIAS_FUNCIONAMENTO        0.0072    0.004  1.960  0.058\n",
      "\n",
      "\n",
      "Reg_seg 9, ALL: lower bound 0.9, higher bound 1.2\n",
      "                            coef  std err       t  P>|t|\n",
      "OBRIGAÇÃO_FINAL_POR_SALA -0.0008    0.002  -0.466  0.642\n",
      "DIAS_FUNCIONAMENTO        0.0049    0.000  12.424  0.000\n",
      "\n",
      "\n",
      "Reg_seg 10, FOREIGN: lower bound 0.9, higher bound 1.2\n",
      "                           coef  std err       t  P>|t|\n",
      "OBRIGAÇÃO_FINAL_POR_SALA -0.002    0.002  -1.160  0.247\n",
      "DIAS_FUNCIONAMENTO        0.005    0.000  12.773  0.000\n",
      "\n",
      "\n",
      "Reg_seg 11, BRAZILIAN: lower bound 0.9, higher bound 1.2\n",
      "                            coef  std err      t  P>|t|\n",
      "OBRIGAÇÃO_FINAL_POR_SALA  0.0100    0.004  2.516  0.012\n",
      "DIAS_FUNCIONAMENTO        0.0038    0.001  3.997  0.000\n",
      "\n",
      "\n",
      "Reg_seg 12, ALL: lower bound 1.2, higher bound 1.5\n",
      "                            coef  std err  t  P>|t|\n",
      "OBRIGAÇÃO_FINAL_POR_SALA  0.0933      inf  0    NaN\n",
      "DIAS_FUNCIONAMENTO        0.0042      inf  0    NaN\n",
      "\n",
      "\n",
      "Reg_seg 13, FOREIGN: lower bound 1.2, higher bound 1.5\n",
      "                            coef  std err  t  P>|t|\n",
      "OBRIGAÇÃO_FINAL_POR_SALA  0.0862      inf  0    NaN\n",
      "DIAS_FUNCIONAMENTO        0.0052      inf  0    NaN\n",
      "\n",
      "\n",
      "Reg_seg 14, BRAZILIAN: lower bound 1.2, higher bound 1.5\n",
      "                            coef  std err  t  P>|t|\n",
      "OBRIGAÇÃO_FINAL_POR_SALA  0.0787      inf  0    NaN\n",
      "DIAS_FUNCIONAMENTO        0.0065      inf  0    NaN"
     ]
    },
    {
     "name": "stderr",
     "output_type": "stream",
     "text": [
      "C:\\Users\\Pedro\\anaconda3\\lib\\site-packages\\statsmodels\\regression\\linear_model.py:1728: RuntimeWarning: divide by zero encountered in true_divide\n",
      "  return 1 - (np.divide(self.nobs - self.k_constant, self.df_resid)\n",
      "C:\\Users\\Pedro\\anaconda3\\lib\\site-packages\\statsmodels\\regression\\linear_model.py:1728: RuntimeWarning: invalid value encountered in double_scalars\n",
      "  return 1 - (np.divide(self.nobs - self.k_constant, self.df_resid)\n",
      "C:\\Users\\Pedro\\anaconda3\\lib\\site-packages\\statsmodels\\regression\\linear_model.py:1650: RuntimeWarning: divide by zero encountered in double_scalars\n",
      "  return np.dot(wresid, wresid) / self.df_resid\n",
      "C:\\Users\\Pedro\\anaconda3\\lib\\site-packages\\statsmodels\\regression\\linear_model.py:1728: RuntimeWarning: divide by zero encountered in true_divide\n",
      "  return 1 - (np.divide(self.nobs - self.k_constant, self.df_resid)\n",
      "C:\\Users\\Pedro\\anaconda3\\lib\\site-packages\\statsmodels\\regression\\linear_model.py:1728: RuntimeWarning: invalid value encountered in double_scalars\n",
      "  return 1 - (np.divide(self.nobs - self.k_constant, self.df_resid)\n",
      "C:\\Users\\Pedro\\anaconda3\\lib\\site-packages\\statsmodels\\regression\\linear_model.py:1650: RuntimeWarning: divide by zero encountered in double_scalars\n",
      "  return np.dot(wresid, wresid) / self.df_resid\n",
      "C:\\Users\\Pedro\\anaconda3\\lib\\site-packages\\statsmodels\\regression\\linear_model.py:1728: RuntimeWarning: divide by zero encountered in true_divide\n",
      "  return 1 - (np.divide(self.nobs - self.k_constant, self.df_resid)\n",
      "C:\\Users\\Pedro\\anaconda3\\lib\\site-packages\\statsmodels\\regression\\linear_model.py:1728: RuntimeWarning: invalid value encountered in double_scalars\n",
      "  return 1 - (np.divide(self.nobs - self.k_constant, self.df_resid)\n",
      "C:\\Users\\Pedro\\anaconda3\\lib\\site-packages\\statsmodels\\regression\\linear_model.py:1650: RuntimeWarning: divide by zero encountered in double_scalars\n",
      "  return np.dot(wresid, wresid) / self.df_resid\n"
     ]
    },
    {
     "name": "stdout",
     "output_type": "stream",
     "text": [
      "\n",
      "\n",
      "\n",
      "Reg_seg 15, ALL: lower bound 1.5, higher bound 50\n",
      "                            coef  std err      t  P>|t|\n",
      "OBRIGAÇÃO_FINAL_POR_SALA -0.0053    0.011 -0.500  0.635\n",
      "DIAS_FUNCIONAMENTO        0.0138    0.003  5.407  0.002\n",
      "\n",
      "\n",
      "Reg_seg 16, FOREIGN: lower bound 1.5, higher bound 50\n",
      "                            coef  std err      t  P>|t|\n",
      "OBRIGAÇÃO_FINAL_POR_SALA  0.0218    0.033  0.656  0.541\n",
      "DIAS_FUNCIONAMENTO        0.0259    0.007  3.477  0.018\n",
      "\n",
      "\n",
      "Reg_seg 17, BRAZILIAN: lower bound 1.5, higher bound 50\n",
      "                            coef  std err      t  P>|t|\n",
      "OBRIGAÇÃO_FINAL_POR_SALA -0.0018    0.012 -0.143  0.891\n",
      "DIAS_FUNCIONAMENTO        0.0097    0.003  3.505  0.013\n",
      "\n",
      "\n"
     ]
    }
   ],
   "source": [
    "works = ['ALL', 'FOREIGN', 'BRAZILIAN']\n",
    "\n",
    "for i in range(last_count,count_regs):\n",
    "    print(f'Reg_seg {i}, {works[i%3]}: lower bound {bounds[(i-last_count)//3]}, higher bound {bounds[((i-last_count)//3)+1]}')\n",
    "    print(pd.read_html(seg_regs[f'reg_seg{i}'].summary().\n",
    "                       tables[1].as_html(),header=0,index_col=0)[0].iloc[-2:,:-2])\n",
    "    print('\\n')"
   ]
  },
  {
   "cell_type": "markdown",
   "metadata": {
    "heading_collapsed": true
   },
   "source": [
    "#### Bounds - [0, 0.3, 0.5, 0.7, 0.9, 1.1, 1.3, 1.5, 50] "
   ]
  },
  {
   "cell_type": "code",
   "execution_count": 125,
   "metadata": {
    "ExecuteTime": {
     "end_time": "2021-06-09T20:15:52.893639Z",
     "start_time": "2021-06-09T20:15:52.116052Z"
    },
    "hidden": true
   },
   "outputs": [
    {
     "name": "stdout",
     "output_type": "stream",
     "text": [
      "42\n"
     ]
    }
   ],
   "source": [
    "bounds = [0, 0.3, 0.5, 0.7, 0.9, 1.1, 1.3, 1.5, 50] \n",
    "\n",
    "formul = 'np.log(RENDA) ~ OBRIGAÇÃO_FINAL_POR_SALA + DIAS_FUNCIONAMENTO + C(REGISTRO_COMPLEXO) + C(ANO_CINEMATOGRAFICO)'\n",
    "\n",
    "last_count = count_regs\n",
    "\n",
    "for i in range(len(bounds)-1):\n",
    "    seg_regs[f'reg_seg{count_regs}'] = smf.ols(formula=formul, \n",
    "                    data = tds_1718[tds_1718.CUMPRIMENTO_PROPORCIONAL.between(bounds[i],bounds[i+1])]).fit()\n",
    "    count_regs += 1\n",
    "    seg_regs[f'reg_seg{count_regs}'] = smf.ols(formula=formul, \n",
    "                    data = est_1718[est_1718.CUMPRIMENTO_PROPORCIONAL.between(bounds[i],bounds[i+1])]).fit()\n",
    "    count_regs += 1\n",
    "    seg_regs[f'reg_seg{count_regs}'] = smf.ols(formula=formul, \n",
    "                    data = bras_1718[bras_1718.CUMPRIMENTO_PROPORCIONAL.between(bounds[i],bounds[i+1])]).fit()\n",
    "    count_regs += 1\n",
    "\n",
    "print(count_regs)"
   ]
  },
  {
   "cell_type": "code",
   "execution_count": 126,
   "metadata": {
    "ExecuteTime": {
     "end_time": "2021-06-09T20:15:55.486553Z",
     "start_time": "2021-06-09T20:15:52.895679Z"
    },
    "hidden": true
   },
   "outputs": [
    {
     "name": "stdout",
     "output_type": "stream",
     "text": [
      "Reg_seg 18, ALL: lower bound 0, higher bound 0.3\n",
      "                            coef  std err      t  P>|t|\n",
      "OBRIGAÇÃO_FINAL_POR_SALA  0.0304    0.066  0.462  0.663\n",
      "DIAS_FUNCIONAMENTO        0.0065    0.005  1.338  0.238\n",
      "\n",
      "\n",
      "Reg_seg 19, FOREIGN: lower bound 0, higher bound 0.3\n",
      "                            coef  std err      t  P>|t|\n",
      "OBRIGAÇÃO_FINAL_POR_SALA  0.0279    0.068  0.414  0.696\n",
      "DIAS_FUNCIONAMENTO        0.0067    0.005  1.330  0.241\n",
      "\n",
      "\n",
      "Reg_seg 20, BRAZILIAN: lower bound 0, higher bound 0.3\n",
      "                            coef  std err      t  P>|t|\n",
      "OBRIGAÇÃO_FINAL_POR_SALA -0.1096    0.248 -0.443  0.735\n",
      "DIAS_FUNCIONAMENTO        0.0207    0.106  0.195  0.877\n",
      "\n",
      "\n",
      "Reg_seg 21, ALL: lower bound 0.3, higher bound 0.5\n",
      "                            coef  std err      t  P>|t|\n",
      "OBRIGAÇÃO_FINAL_POR_SALA  0.0065    0.005  1.369  0.220\n",
      "DIAS_FUNCIONAMENTO        0.0040    0.001  6.681  0.001\n",
      "\n",
      "\n",
      "Reg_seg 22, FOREIGN: lower bound 0.3, higher bound 0.5\n",
      "                            coef  std err      t  P>|t|\n",
      "OBRIGAÇÃO_FINAL_POR_SALA  0.0059    0.007  0.784  0.463\n",
      "DIAS_FUNCIONAMENTO        0.0039    0.001  4.121  0.006\n",
      "\n",
      "\n",
      "Reg_seg 23, BRAZILIAN: lower bound 0.3, higher bound 0.5\n",
      "                            coef  std err      t  P>|t|\n",
      "OBRIGAÇÃO_FINAL_POR_SALA  0.0094    0.037  0.257  0.806\n",
      "DIAS_FUNCIONAMENTO        0.0133    0.008  1.747  0.131\n",
      "\n",
      "\n",
      "Reg_seg 24, ALL: lower bound 0.5, higher bound 0.7\n",
      "                            coef  std err       t  P>|t|\n",
      "OBRIGAÇÃO_FINAL_POR_SALA  0.0063    0.002   2.535  0.017\n",
      "DIAS_FUNCIONAMENTO        0.0064    0.000  15.486  0.000\n",
      "\n",
      "\n",
      "Reg_seg 25, FOREIGN: lower bound 0.5, higher bound 0.7\n",
      "                            coef  std err       t  P>|t|\n",
      "OBRIGAÇÃO_FINAL_POR_SALA  0.0063    0.003   2.397  0.023\n",
      "DIAS_FUNCIONAMENTO        0.0067    0.000  15.300  0.000\n",
      "\n",
      "\n",
      "Reg_seg 26, BRAZILIAN: lower bound 0.5, higher bound 0.7\n",
      "                            coef  std err      t  P>|t|\n",
      "OBRIGAÇÃO_FINAL_POR_SALA  0.0115    0.009  1.314  0.199\n",
      "DIAS_FUNCIONAMENTO        0.0074    0.003  2.569  0.015\n",
      "\n",
      "\n",
      "Reg_seg 27, ALL: lower bound 0.7, higher bound 0.9\n",
      "                            coef  std err      t  P>|t|\n",
      "OBRIGAÇÃO_FINAL_POR_SALA -0.0126    0.010 -1.216  0.249\n",
      "DIAS_FUNCIONAMENTO        0.0065    0.001  4.600  0.001\n",
      "\n",
      "\n",
      "Reg_seg 28, FOREIGN: lower bound 0.7, higher bound 0.9\n",
      "                            coef  std err      t  P>|t|\n",
      "OBRIGAÇÃO_FINAL_POR_SALA -0.0110    0.012 -0.890  0.393\n",
      "DIAS_FUNCIONAMENTO        0.0062    0.002  3.702  0.003\n",
      "\n",
      "\n",
      "Reg_seg 29, BRAZILIAN: lower bound 0.7, higher bound 0.9\n",
      "                            coef  std err      t  P>|t|\n",
      "OBRIGAÇÃO_FINAL_POR_SALA -0.0195    0.071 -0.273  0.790\n",
      "DIAS_FUNCIONAMENTO        0.0131    0.016  0.844  0.417\n",
      "\n",
      "\n",
      "Reg_seg 30, ALL: lower bound 0.9, higher bound 1.1\n",
      "                            coef  std err       t  P>|t|\n",
      "OBRIGAÇÃO_FINAL_POR_SALA  0.0008    0.001   0.702  0.484\n",
      "DIAS_FUNCIONAMENTO        0.0048    0.000  20.611  0.000\n",
      "\n",
      "\n",
      "Reg_seg 31, FOREIGN: lower bound 0.9, higher bound 1.1\n",
      "                            coef  std err       t  P>|t|\n",
      "OBRIGAÇÃO_FINAL_POR_SALA -0.0008    0.001  -0.738  0.461\n",
      "DIAS_FUNCIONAMENTO        0.0051    0.000  22.010  0.000\n",
      "\n",
      "\n",
      "Reg_seg 32, BRAZILIAN: lower bound 0.9, higher bound 1.1\n",
      "                            coef  std err      t  P>|t|\n",
      "OBRIGAÇÃO_FINAL_POR_SALA  0.0174    0.004  3.937  0.000\n",
      "DIAS_FUNCIONAMENTO        0.0015    0.001  1.397  0.164\n",
      "\n",
      "\n",
      "Reg_seg 33, ALL: lower bound 1.1, higher bound 1.3\n",
      "                            coef  std err      t  P>|t|\n",
      "OBRIGAÇÃO_FINAL_POR_SALA -0.0919    0.031 -2.950  0.018\n",
      "DIAS_FUNCIONAMENTO        0.0151    0.003  4.868  0.001\n",
      "\n",
      "\n",
      "Reg_seg 34, FOREIGN: lower bound 1.1, higher bound 1.3\n",
      "                            coef  std err      t  P>|t|\n",
      "OBRIGAÇÃO_FINAL_POR_SALA -0.0941    0.032 -2.977  0.018\n",
      "DIAS_FUNCIONAMENTO        0.0151    0.003  4.739  0.001\n",
      "\n",
      "\n",
      "Reg_seg 35, BRAZILIAN: lower bound 1.1, higher bound 1.3\n",
      "                            coef  std err      t  P>|t|\n",
      "OBRIGAÇÃO_FINAL_POR_SALA  0.0329    0.054  0.614  0.556\n",
      "DIAS_FUNCIONAMENTO        0.0136    0.013  1.062  0.319\n",
      "\n",
      "\n",
      "Reg_seg 36, ALL: lower bound 1.3, higher bound 1.5\n",
      "                            coef  std err  t  P>|t|\n",
      "OBRIGAÇÃO_FINAL_POR_SALA  0.0942      inf  0    NaN\n",
      "DIAS_FUNCIONAMENTO        0.0063      inf  0    NaN\n",
      "\n",
      "\n",
      "Reg_seg 37, FOREIGN: lower bound 1.3, higher bound 1.5\n",
      "                            coef  std err  t  P>|t|\n",
      "OBRIGAÇÃO_FINAL_POR_SALA  0.0885      inf  0    NaN\n",
      "DIAS_FUNCIONAMENTO        0.0067      inf  0    NaN\n",
      "\n",
      "\n",
      "Reg_seg 38, BRAZILIAN: lower bound 1.3, higher bound 1.5\n",
      "                            coef  std err  t  P>|t|\n",
      "OBRIGAÇÃO_FINAL_POR_SALA  0.1037      inf  0    NaN\n",
      "DIAS_FUNCIONAMENTO        0.0036      inf  0    NaN\n",
      "\n",
      "\n",
      "Reg_seg 39, ALL: lower bound 1.5, higher bound 50\n"
     ]
    },
    {
     "name": "stderr",
     "output_type": "stream",
     "text": [
      "C:\\Users\\Pedro\\anaconda3\\lib\\site-packages\\statsmodels\\regression\\linear_model.py:1728: RuntimeWarning: divide by zero encountered in true_divide\n",
      "  return 1 - (np.divide(self.nobs - self.k_constant, self.df_resid)\n",
      "C:\\Users\\Pedro\\anaconda3\\lib\\site-packages\\statsmodels\\regression\\linear_model.py:1728: RuntimeWarning: invalid value encountered in double_scalars\n",
      "  return 1 - (np.divide(self.nobs - self.k_constant, self.df_resid)\n",
      "C:\\Users\\Pedro\\anaconda3\\lib\\site-packages\\statsmodels\\regression\\linear_model.py:1650: RuntimeWarning: divide by zero encountered in double_scalars\n",
      "  return np.dot(wresid, wresid) / self.df_resid\n",
      "C:\\Users\\Pedro\\anaconda3\\lib\\site-packages\\statsmodels\\regression\\linear_model.py:1728: RuntimeWarning: divide by zero encountered in true_divide\n",
      "  return 1 - (np.divide(self.nobs - self.k_constant, self.df_resid)\n",
      "C:\\Users\\Pedro\\anaconda3\\lib\\site-packages\\statsmodels\\regression\\linear_model.py:1728: RuntimeWarning: invalid value encountered in double_scalars\n",
      "  return 1 - (np.divide(self.nobs - self.k_constant, self.df_resid)\n",
      "C:\\Users\\Pedro\\anaconda3\\lib\\site-packages\\statsmodels\\regression\\linear_model.py:1650: RuntimeWarning: divide by zero encountered in double_scalars\n",
      "  return np.dot(wresid, wresid) / self.df_resid\n",
      "C:\\Users\\Pedro\\anaconda3\\lib\\site-packages\\statsmodels\\regression\\linear_model.py:1728: RuntimeWarning: divide by zero encountered in true_divide\n",
      "  return 1 - (np.divide(self.nobs - self.k_constant, self.df_resid)\n",
      "C:\\Users\\Pedro\\anaconda3\\lib\\site-packages\\statsmodels\\regression\\linear_model.py:1728: RuntimeWarning: invalid value encountered in double_scalars\n",
      "  return 1 - (np.divide(self.nobs - self.k_constant, self.df_resid)\n",
      "C:\\Users\\Pedro\\anaconda3\\lib\\site-packages\\statsmodels\\regression\\linear_model.py:1650: RuntimeWarning: divide by zero encountered in double_scalars\n",
      "  return np.dot(wresid, wresid) / self.df_resid\n"
     ]
    },
    {
     "name": "stdout",
     "output_type": "stream",
     "text": [
      "                            coef  std err      t  P>|t|\n",
      "OBRIGAÇÃO_FINAL_POR_SALA -0.0053    0.011 -0.500  0.635\n",
      "DIAS_FUNCIONAMENTO        0.0138    0.003  5.407  0.002\n",
      "\n",
      "\n",
      "Reg_seg 40, FOREIGN: lower bound 1.5, higher bound 50\n",
      "                            coef  std err      t  P>|t|\n",
      "OBRIGAÇÃO_FINAL_POR_SALA  0.0218    0.033  0.656  0.541\n",
      "DIAS_FUNCIONAMENTO        0.0259    0.007  3.477  0.018\n",
      "\n",
      "\n",
      "Reg_seg 41, BRAZILIAN: lower bound 1.5, higher bound 50\n",
      "                            coef  std err      t  P>|t|\n",
      "OBRIGAÇÃO_FINAL_POR_SALA -0.0018    0.012 -0.143  0.891\n",
      "DIAS_FUNCIONAMENTO        0.0097    0.003  3.505  0.013\n",
      "\n",
      "\n"
     ]
    }
   ],
   "source": [
    "works = ['ALL', 'FOREIGN', 'BRAZILIAN']\n",
    "\n",
    "for i in range(last_count,count_regs):\n",
    "    print(f'Reg_seg {i}, {works[i%3]}: lower bound {bounds[(i-last_count)//3]}, higher bound {bounds[((i-last_count)//3)+1]}')\n",
    "    print(pd.read_html(seg_regs[f'reg_seg{i}'].summary().\n",
    "                       tables[1].as_html(),header=0,index_col=0)[0].iloc[-2:,:-2])\n",
    "    print('\\n')"
   ]
  },
  {
   "cell_type": "markdown",
   "metadata": {
    "heading_collapsed": true
   },
   "source": [
    "#### Bounds - [0, 0.4, 0.8, 1.2, 1.6, 50]"
   ]
  },
  {
   "cell_type": "code",
   "execution_count": 127,
   "metadata": {
    "ExecuteTime": {
     "end_time": "2021-06-09T20:15:57.025435Z",
     "start_time": "2021-06-09T20:15:56.198082Z"
    },
    "hidden": true
   },
   "outputs": [
    {
     "name": "stdout",
     "output_type": "stream",
     "text": [
      "57\n"
     ]
    }
   ],
   "source": [
    "bounds = [0, 0.4, 0.8, 1.2, 1.6, 50] \n",
    "\n",
    "last_count = count_regs\n",
    "\n",
    "formul = 'np.log(RENDA) ~ OBRIGAÇÃO_FINAL_POR_SALA + DIAS_FUNCIONAMENTO + C(REGISTRO_COMPLEXO) + C(ANO_CINEMATOGRAFICO)'\n",
    "\n",
    "for i in range(len(bounds)-1):\n",
    "    seg_regs[f'reg_seg{count_regs}'] = smf.ols(formula=formul, \n",
    "                    data = tds_1718[tds_1718.CUMPRIMENTO_PROPORCIONAL.between(bounds[i],bounds[i+1])]).fit()\n",
    "    count_regs += 1\n",
    "    seg_regs[f'reg_seg{count_regs}'] = smf.ols(formula=formul, \n",
    "                    data = est_1718[est_1718.CUMPRIMENTO_PROPORCIONAL.between(bounds[i],bounds[i+1])]).fit()\n",
    "    count_regs += 1\n",
    "    seg_regs[f'reg_seg{count_regs}'] = smf.ols(formula=formul, \n",
    "                    data = bras_1718[bras_1718.CUMPRIMENTO_PROPORCIONAL.between(bounds[i],bounds[i+1])]).fit()\n",
    "    count_regs += 1\n",
    "\n",
    "print(count_regs)"
   ]
  },
  {
   "cell_type": "code",
   "execution_count": 128,
   "metadata": {
    "ExecuteTime": {
     "end_time": "2021-06-09T20:15:59.416817Z",
     "start_time": "2021-06-09T20:15:57.377510Z"
    },
    "hidden": true,
    "scrolled": true
   },
   "outputs": [
    {
     "name": "stdout",
     "output_type": "stream",
     "text": [
      "Reg_seg 42, ALL: lower bound 0, higher bound 0.4\n",
      "                            coef  std err      t  P>|t|\n",
      "OBRIGAÇÃO_FINAL_POR_SALA  0.0210    0.031  0.677  0.510\n",
      "DIAS_FUNCIONAMENTO        0.0056    0.003  2.207  0.044\n",
      "\n",
      "\n",
      "Reg_seg 43, FOREIGN: lower bound 0, higher bound 0.4\n",
      "                            coef  std err      t  P>|t|\n",
      "OBRIGAÇÃO_FINAL_POR_SALA  0.0207    0.033  0.632  0.538\n",
      "DIAS_FUNCIONAMENTO        0.0057    0.003  2.101  0.054\n",
      "\n",
      "\n",
      "Reg_seg 44, BRAZILIAN: lower bound 0, higher bound 0.4\n",
      "                            coef  std err      t  P>|t|\n",
      "OBRIGAÇÃO_FINAL_POR_SALA -0.1005    0.053 -1.891  0.095\n",
      "DIAS_FUNCIONAMENTO        0.0452    0.015  3.087  0.015\n",
      "\n",
      "\n",
      "Reg_seg 45, ALL: lower bound 0.4, higher bound 0.8\n",
      "                            coef  std err       t  P>|t|\n",
      "OBRIGAÇÃO_FINAL_POR_SALA  0.0078    0.002   3.166  0.002\n",
      "DIAS_FUNCIONAMENTO        0.0048    0.000  11.272  0.000\n",
      "\n",
      "\n",
      "Reg_seg 46, FOREIGN: lower bound 0.4, higher bound 0.8\n",
      "                            coef  std err       t  P>|t|\n",
      "OBRIGAÇÃO_FINAL_POR_SALA  0.0069    0.002   2.838  0.006\n",
      "DIAS_FUNCIONAMENTO        0.0052    0.000  12.194  0.000\n",
      "\n",
      "\n",
      "Reg_seg 47, BRAZILIAN: lower bound 0.4, higher bound 0.8\n",
      "                            coef  std err      t  P>|t|\n",
      "OBRIGAÇÃO_FINAL_POR_SALA  0.0074    0.007  1.142  0.257\n",
      "DIAS_FUNCIONAMENTO        0.0063    0.002  3.202  0.002\n",
      "\n",
      "\n",
      "Reg_seg 48, ALL: lower bound 0.8, higher bound 1.2\n",
      "                              coef  std err       t  P>|t|\n",
      "OBRIGAÇÃO_FINAL_POR_SALA -0.000096    0.002  -0.061  0.952\n",
      "DIAS_FUNCIONAMENTO        0.005100    0.000  14.364  0.000\n",
      "\n",
      "\n",
      "Reg_seg 49, FOREIGN: lower bound 0.8, higher bound 1.2\n",
      "                            coef  std err       t  P>|t|\n",
      "OBRIGAÇÃO_FINAL_POR_SALA -0.0013    0.002  -0.854  0.394\n",
      "DIAS_FUNCIONAMENTO        0.0051    0.000  14.708  0.000\n",
      "\n",
      "\n",
      "Reg_seg 50, BRAZILIAN: lower bound 0.8, higher bound 1.2\n",
      "                            coef  std err      t  P>|t|\n",
      "OBRIGAÇÃO_FINAL_POR_SALA  0.0120    0.004  3.056  0.002\n",
      "DIAS_FUNCIONAMENTO        0.0037    0.001  3.904  0.000\n",
      "\n",
      "\n",
      "Reg_seg 51, ALL: lower bound 1.2, higher bound 1.6\n",
      "                            coef  std err  t  P>|t|\n",
      "OBRIGAÇÃO_FINAL_POR_SALA  0.0946      inf  0    NaN\n",
      "DIAS_FUNCIONAMENTO        0.0038      inf  0    NaN\n",
      "\n",
      "\n",
      "Reg_seg 52, FOREIGN: lower bound 1.2, higher bound 1.6\n",
      "                            coef  std err  t  P>|t|\n",
      "OBRIGAÇÃO_FINAL_POR_SALA  0.0878      inf  0    NaN\n",
      "DIAS_FUNCIONAMENTO        0.0048      inf  0    NaN\n",
      "\n",
      "\n",
      "Reg_seg 53, BRAZILIAN: lower bound 1.2, higher bound 1.6\n"
     ]
    },
    {
     "name": "stderr",
     "output_type": "stream",
     "text": [
      "C:\\Users\\Pedro\\anaconda3\\lib\\site-packages\\statsmodels\\regression\\linear_model.py:1728: RuntimeWarning: divide by zero encountered in true_divide\n",
      "  return 1 - (np.divide(self.nobs - self.k_constant, self.df_resid)\n",
      "C:\\Users\\Pedro\\anaconda3\\lib\\site-packages\\statsmodels\\regression\\linear_model.py:1728: RuntimeWarning: invalid value encountered in double_scalars\n",
      "  return 1 - (np.divide(self.nobs - self.k_constant, self.df_resid)\n",
      "C:\\Users\\Pedro\\anaconda3\\lib\\site-packages\\statsmodels\\regression\\linear_model.py:1650: RuntimeWarning: divide by zero encountered in double_scalars\n",
      "  return np.dot(wresid, wresid) / self.df_resid\n",
      "C:\\Users\\Pedro\\anaconda3\\lib\\site-packages\\statsmodels\\regression\\linear_model.py:1728: RuntimeWarning: divide by zero encountered in true_divide\n",
      "  return 1 - (np.divide(self.nobs - self.k_constant, self.df_resid)\n",
      "C:\\Users\\Pedro\\anaconda3\\lib\\site-packages\\statsmodels\\regression\\linear_model.py:1728: RuntimeWarning: invalid value encountered in double_scalars\n",
      "  return 1 - (np.divide(self.nobs - self.k_constant, self.df_resid)\n",
      "C:\\Users\\Pedro\\anaconda3\\lib\\site-packages\\statsmodels\\regression\\linear_model.py:1650: RuntimeWarning: divide by zero encountered in double_scalars\n",
      "  return np.dot(wresid, wresid) / self.df_resid\n",
      "C:\\Users\\Pedro\\anaconda3\\lib\\site-packages\\statsmodels\\regression\\linear_model.py:1728: RuntimeWarning: divide by zero encountered in true_divide\n",
      "  return 1 - (np.divide(self.nobs - self.k_constant, self.df_resid)\n",
      "C:\\Users\\Pedro\\anaconda3\\lib\\site-packages\\statsmodels\\regression\\linear_model.py:1728: RuntimeWarning: invalid value encountered in double_scalars\n",
      "  return 1 - (np.divide(self.nobs - self.k_constant, self.df_resid)\n",
      "C:\\Users\\Pedro\\anaconda3\\lib\\site-packages\\statsmodels\\regression\\linear_model.py:1650: RuntimeWarning: divide by zero encountered in double_scalars\n",
      "  return np.dot(wresid, wresid) / self.df_resid\n"
     ]
    },
    {
     "name": "stdout",
     "output_type": "stream",
     "text": [
      "                            coef  std err  t  P>|t|\n",
      "OBRIGAÇÃO_FINAL_POR_SALA  0.0829      inf  0    NaN\n",
      "DIAS_FUNCIONAMENTO        0.0059      inf  0    NaN\n",
      "\n",
      "\n",
      "Reg_seg 54, ALL: lower bound 1.6, higher bound 50\n",
      "                            coef  std err      t  P>|t|\n",
      "OBRIGAÇÃO_FINAL_POR_SALA -0.0053    0.011 -0.500  0.635\n",
      "DIAS_FUNCIONAMENTO        0.0138    0.003  5.407  0.002\n",
      "\n",
      "\n",
      "Reg_seg 55, FOREIGN: lower bound 1.6, higher bound 50\n",
      "                            coef  std err      t  P>|t|\n",
      "OBRIGAÇÃO_FINAL_POR_SALA  0.0218    0.033  0.656  0.541\n",
      "DIAS_FUNCIONAMENTO        0.0259    0.007  3.477  0.018\n",
      "\n",
      "\n",
      "Reg_seg 56, BRAZILIAN: lower bound 1.6, higher bound 50\n",
      "                            coef  std err      t  P>|t|\n",
      "OBRIGAÇÃO_FINAL_POR_SALA -0.0018    0.012 -0.143  0.891\n",
      "DIAS_FUNCIONAMENTO        0.0097    0.003  3.505  0.013\n",
      "\n",
      "\n"
     ]
    }
   ],
   "source": [
    "works = ['ALL', 'FOREIGN', 'BRAZILIAN']\n",
    "\n",
    "for i in range(last_count,count_regs):\n",
    "    print(f'Reg_seg {i}, {works[i%3]}: lower bound {bounds[(i-last_count)//3]}, higher bound {bounds[((i-last_count)//3)+1]}')\n",
    "    print(pd.read_html(seg_regs[f'reg_seg{i}'].summary().\n",
    "                       tables[1].as_html(),header=0,index_col=0)[0].iloc[-2:,:-2])\n",
    "    print('\\n')"
   ]
  },
  {
   "cell_type": "markdown",
   "metadata": {
    "heading_collapsed": true
   },
   "source": [
    "#### Bounds - [0, 0.45, 0.85, 1.25, 1.65, 50]"
   ]
  },
  {
   "cell_type": "code",
   "execution_count": 129,
   "metadata": {
    "ExecuteTime": {
     "end_time": "2021-06-09T20:16:00.518172Z",
     "start_time": "2021-06-09T20:15:59.784114Z"
    },
    "hidden": true
   },
   "outputs": [
    {
     "name": "stdout",
     "output_type": "stream",
     "text": [
      "72\n"
     ]
    }
   ],
   "source": [
    "bounds = [0, 0.45, 0.85, 1.25, 1.65, 50] \n",
    "\n",
    "last_count = count_regs\n",
    "\n",
    "formul = 'np.log(RENDA) ~ OBRIGAÇÃO_FINAL_POR_SALA + DIAS_FUNCIONAMENTO + C(REGISTRO_COMPLEXO) + C(ANO_CINEMATOGRAFICO)'\n",
    "\n",
    "for i in range(len(bounds)-1):\n",
    "    seg_regs[f'reg_seg{count_regs}'] = smf.ols(formula=formul, \n",
    "                    data = tds_1718[tds_1718.CUMPRIMENTO_PROPORCIONAL.between(bounds[i],bounds[i+1])]).fit()\n",
    "    count_regs += 1\n",
    "    seg_regs[f'reg_seg{count_regs}'] = smf.ols(formula=formul, \n",
    "                    data = est_1718[est_1718.CUMPRIMENTO_PROPORCIONAL.between(bounds[i],bounds[i+1])]).fit()\n",
    "    count_regs += 1\n",
    "    seg_regs[f'reg_seg{count_regs}'] = smf.ols(formula=formul, \n",
    "                    data = bras_1718[bras_1718.CUMPRIMENTO_PROPORCIONAL.between(bounds[i],bounds[i+1])]).fit()\n",
    "    count_regs += 1\n",
    "\n",
    "print(count_regs)"
   ]
  },
  {
   "cell_type": "code",
   "execution_count": 130,
   "metadata": {
    "ExecuteTime": {
     "end_time": "2021-06-09T20:16:02.833679Z",
     "start_time": "2021-06-09T20:16:00.876347Z"
    },
    "hidden": true,
    "scrolled": true
   },
   "outputs": [
    {
     "name": "stdout",
     "output_type": "stream",
     "text": [
      "Reg_seg 57, ALL: lower bound 0, higher bound 0.45\n",
      "                            coef  std err      t  P>|t|\n",
      "OBRIGAÇÃO_FINAL_POR_SALA  0.0194    0.017  1.158   0.26\n",
      "DIAS_FUNCIONAMENTO        0.0059    0.001  4.153   0.00\n",
      "\n",
      "\n",
      "Reg_seg 58, FOREIGN: lower bound 0, higher bound 0.45\n",
      "                            coef  std err      t  P>|t|\n",
      "OBRIGAÇÃO_FINAL_POR_SALA  0.0183    0.018  1.042  0.309\n",
      "DIAS_FUNCIONAMENTO        0.0060    0.001  4.041  0.001\n",
      "\n",
      "\n",
      "Reg_seg 59, BRAZILIAN: lower bound 0, higher bound 0.45\n",
      "                            coef  std err      t  P>|t|\n",
      "OBRIGAÇÃO_FINAL_POR_SALA -0.0035    0.037 -0.094  0.926\n",
      "DIAS_FUNCIONAMENTO        0.0212    0.008  2.567  0.021\n",
      "\n",
      "\n",
      "Reg_seg 60, ALL: lower bound 0.45, higher bound 0.85\n",
      "                            coef  std err      t  P>|t|\n",
      "OBRIGAÇÃO_FINAL_POR_SALA  0.0061    0.003  2.163  0.034\n",
      "DIAS_FUNCIONAMENTO        0.0048    0.001  9.524  0.000\n",
      "\n",
      "\n",
      "Reg_seg 61, FOREIGN: lower bound 0.45, higher bound 0.85\n",
      "                            coef  std err      t  P>|t|\n",
      "OBRIGAÇÃO_FINAL_POR_SALA  0.0058    0.003  2.040  0.045\n",
      "DIAS_FUNCIONAMENTO        0.0051    0.001  9.975  0.000\n",
      "\n",
      "\n",
      "Reg_seg 62, BRAZILIAN: lower bound 0.45, higher bound 0.85\n",
      "                            coef  std err      t  P>|t|\n",
      "OBRIGAÇÃO_FINAL_POR_SALA  0.0069    0.007  1.014  0.314\n",
      "DIAS_FUNCIONAMENTO        0.0060    0.002  2.556  0.013\n",
      "\n",
      "\n",
      "Reg_seg 63, ALL: lower bound 0.85, higher bound 1.25\n",
      "                            coef  std err       t  P>|t|\n",
      "OBRIGAÇÃO_FINAL_POR_SALA -0.0011    0.002  -0.728  0.467\n",
      "DIAS_FUNCIONAMENTO        0.0053    0.000  16.005  0.000\n",
      "\n",
      "\n",
      "Reg_seg 64, FOREIGN: lower bound 0.85, higher bound 1.25\n",
      "                            coef  std err       t  P>|t|\n",
      "OBRIGAÇÃO_FINAL_POR_SALA -0.0020    0.002  -1.262  0.208\n",
      "DIAS_FUNCIONAMENTO        0.0053    0.000  16.118  0.000\n",
      "\n",
      "\n",
      "Reg_seg 65, BRAZILIAN: lower bound 0.85, higher bound 1.25\n",
      "                            coef  std err      t  P>|t|\n",
      "OBRIGAÇÃO_FINAL_POR_SALA  0.0103    0.004  2.784  0.006\n",
      "DIAS_FUNCIONAMENTO        0.0042    0.001  4.582  0.000\n",
      "\n",
      "\n",
      "Reg_seg 66, ALL: lower bound 1.25, higher bound 1.65\n",
      "                            coef  std err  t  P>|t|\n",
      "OBRIGAÇÃO_FINAL_POR_SALA  0.0943      inf  0    NaN\n",
      "DIAS_FUNCIONAMENTO        0.0061      inf  0    NaN\n",
      "\n",
      "\n",
      "Reg_seg 67, FOREIGN: lower bound 1.25, higher bound 1.65\n",
      "                            coef  std err  t  P>|t|\n",
      "OBRIGAÇÃO_FINAL_POR_SALA  0.0879      inf  0    NaN\n",
      "DIAS_FUNCIONAMENTO        0.0067      inf  0    NaN\n",
      "\n",
      "\n",
      "Reg_seg 68, BRAZILIAN: lower bound 1.25, higher bound 1.65\n",
      "                            coef  std err  t  P>|t|\n",
      "OBRIGAÇÃO_FINAL_POR_SALA  0.0877      inf  0    NaN\n",
      "DIAS_FUNCIONAMENTO        0.0061      inf  0    NaN\n",
      "\n",
      "\n",
      "Reg_seg 69, ALL: lower bound 1.65, higher bound 50\n",
      "                            coef  std err      t  P>|t|\n",
      "OBRIGAÇÃO_FINAL_POR_SALA -0.0053    0.011 -0.500  0.635\n",
      "DIAS_FUNCIONAMENTO        0.0138    0.003  5.407  0.002\n",
      "\n",
      "\n",
      "Reg_seg 70, FOREIGN: lower bound 1.65, higher bound 50\n"
     ]
    },
    {
     "name": "stderr",
     "output_type": "stream",
     "text": [
      "C:\\Users\\Pedro\\anaconda3\\lib\\site-packages\\statsmodels\\regression\\linear_model.py:1728: RuntimeWarning: divide by zero encountered in true_divide\n",
      "  return 1 - (np.divide(self.nobs - self.k_constant, self.df_resid)\n",
      "C:\\Users\\Pedro\\anaconda3\\lib\\site-packages\\statsmodels\\regression\\linear_model.py:1728: RuntimeWarning: invalid value encountered in double_scalars\n",
      "  return 1 - (np.divide(self.nobs - self.k_constant, self.df_resid)\n",
      "C:\\Users\\Pedro\\anaconda3\\lib\\site-packages\\statsmodels\\regression\\linear_model.py:1650: RuntimeWarning: divide by zero encountered in double_scalars\n",
      "  return np.dot(wresid, wresid) / self.df_resid\n",
      "C:\\Users\\Pedro\\anaconda3\\lib\\site-packages\\statsmodels\\regression\\linear_model.py:1728: RuntimeWarning: divide by zero encountered in true_divide\n",
      "  return 1 - (np.divide(self.nobs - self.k_constant, self.df_resid)\n",
      "C:\\Users\\Pedro\\anaconda3\\lib\\site-packages\\statsmodels\\regression\\linear_model.py:1728: RuntimeWarning: invalid value encountered in double_scalars\n",
      "  return 1 - (np.divide(self.nobs - self.k_constant, self.df_resid)\n",
      "C:\\Users\\Pedro\\anaconda3\\lib\\site-packages\\statsmodels\\regression\\linear_model.py:1650: RuntimeWarning: divide by zero encountered in double_scalars\n",
      "  return np.dot(wresid, wresid) / self.df_resid\n",
      "C:\\Users\\Pedro\\anaconda3\\lib\\site-packages\\statsmodels\\regression\\linear_model.py:1728: RuntimeWarning: divide by zero encountered in true_divide\n",
      "  return 1 - (np.divide(self.nobs - self.k_constant, self.df_resid)\n",
      "C:\\Users\\Pedro\\anaconda3\\lib\\site-packages\\statsmodels\\regression\\linear_model.py:1728: RuntimeWarning: invalid value encountered in double_scalars\n",
      "  return 1 - (np.divide(self.nobs - self.k_constant, self.df_resid)\n",
      "C:\\Users\\Pedro\\anaconda3\\lib\\site-packages\\statsmodels\\regression\\linear_model.py:1650: RuntimeWarning: divide by zero encountered in double_scalars\n",
      "  return np.dot(wresid, wresid) / self.df_resid\n"
     ]
    },
    {
     "name": "stdout",
     "output_type": "stream",
     "text": [
      "                            coef  std err      t  P>|t|\n",
      "OBRIGAÇÃO_FINAL_POR_SALA  0.0218    0.033  0.656  0.541\n",
      "DIAS_FUNCIONAMENTO        0.0259    0.007  3.477  0.018\n",
      "\n",
      "\n",
      "Reg_seg 71, BRAZILIAN: lower bound 1.65, higher bound 50\n",
      "                            coef  std err      t  P>|t|\n",
      "OBRIGAÇÃO_FINAL_POR_SALA -0.0018    0.012 -0.143  0.891\n",
      "DIAS_FUNCIONAMENTO        0.0097    0.003  3.505  0.013\n",
      "\n",
      "\n"
     ]
    }
   ],
   "source": [
    "works = ['ALL', 'FOREIGN', 'BRAZILIAN']\n",
    "\n",
    "for i in range(last_count,count_regs):\n",
    "    print(f'Reg_seg {i}, {works[i%3]}: lower bound {bounds[(i-last_count)//3]}, higher bound {bounds[((i-last_count)//3)+1]}')\n",
    "    print(pd.read_html(seg_regs[f'reg_seg{i}'].summary().\n",
    "                       tables[1].as_html(),header=0,index_col=0)[0].iloc[-2:,:-2])\n",
    "    print('\\n')"
   ]
  },
  {
   "cell_type": "markdown",
   "metadata": {
    "heading_collapsed": true
   },
   "source": [
    "#### Bounds - [0.0, 0.1, 0.2, 0.3, 0.4, 0.5, 0.6, 0.7, 0.8, 0.9, 1.0, 1.1, 1.2, 1.3, 50]"
   ]
  },
  {
   "cell_type": "code",
   "execution_count": 131,
   "metadata": {
    "ExecuteTime": {
     "end_time": "2021-06-09T20:16:08.581011Z",
     "start_time": "2021-06-09T20:16:07.809129Z"
    },
    "hidden": true
   },
   "outputs": [
    {
     "name": "stdout",
     "output_type": "stream",
     "text": [
      "114\n"
     ]
    }
   ],
   "source": [
    "bounds = [x/10 for x in range(14)]\n",
    "bounds.append(50)\n",
    "\n",
    "last_count = count_regs\n",
    "\n",
    "formul = 'np.log(RENDA) ~ OBRIGAÇÃO_FINAL_POR_SALA + DIAS_FUNCIONAMENTO + C(REGISTRO_COMPLEXO) + C(ANO_CINEMATOGRAFICO)'\n",
    "\n",
    "for i in range(len(bounds)-1):\n",
    "    seg_regs[f'reg_seg{count_regs}'] = smf.ols(formula=formul, \n",
    "                    data = tds_1718[tds_1718.CUMPRIMENTO_PROPORCIONAL.between(bounds[i],bounds[i+1])]).fit()\n",
    "    count_regs += 1\n",
    "    seg_regs[f'reg_seg{count_regs}'] = smf.ols(formula=formul, \n",
    "                    data = est_1718[est_1718.CUMPRIMENTO_PROPORCIONAL.between(bounds[i],bounds[i+1])]).fit()\n",
    "    count_regs += 1\n",
    "    seg_regs[f'reg_seg{count_regs}'] = smf.ols(formula=formul, \n",
    "                    data = bras_1718[bras_1718.CUMPRIMENTO_PROPORCIONAL.between(bounds[i],bounds[i+1])]).fit()\n",
    "    count_regs += 1\n",
    "\n",
    "print(count_regs)"
   ]
  },
  {
   "cell_type": "code",
   "execution_count": 132,
   "metadata": {
    "ExecuteTime": {
     "end_time": "2021-06-09T20:16:11.758724Z",
     "start_time": "2021-06-09T20:16:09.014692Z"
    },
    "hidden": true,
    "scrolled": true
   },
   "outputs": [
    {
     "name": "stdout",
     "output_type": "stream",
     "text": [
      "Reg_seg 72, ALL: lower bound 0.0, higher bound 0.1\n",
      "                            coef  std err  t  P>|t|\n",
      "OBRIGAÇÃO_FINAL_POR_SALA -0.0566      inf  0    NaN\n",
      "DIAS_FUNCIONAMENTO        0.0118      inf  0    NaN\n",
      "\n",
      "\n",
      "Reg_seg 73, FOREIGN: lower bound 0.0, higher bound 0.1\n",
      "                            coef  std err  t  P>|t|\n",
      "OBRIGAÇÃO_FINAL_POR_SALA -0.0690      inf  0    NaN\n",
      "DIAS_FUNCIONAMENTO        0.0119      inf  0    NaN\n",
      "\n",
      "\n",
      "Reg_seg 74, BRAZILIAN: lower bound 0.0, higher bound 0.1\n",
      "                            coef  std err  t  P>|t|\n",
      "OBRIGAÇÃO_FINAL_POR_SALA  0.0608      inf  0    NaN\n",
      "DIAS_FUNCIONAMENTO        0.1112      inf  0    NaN\n",
      "\n",
      "\n",
      "Reg_seg 75, ALL: lower bound 0.1, higher bound 0.2\n",
      "                            coef  std err  t  P>|t|\n",
      "OBRIGAÇÃO_FINAL_POR_SALA  0.1663      inf  0    NaN\n",
      "DIAS_FUNCIONAMENTO        0.0107      inf  0    NaN\n",
      "\n",
      "\n",
      "Reg_seg 76, FOREIGN: lower bound 0.1, higher bound 0.2\n",
      "                            coef  std err  t  P>|t|\n",
      "OBRIGAÇÃO_FINAL_POR_SALA  0.1663      inf  0    NaN\n",
      "DIAS_FUNCIONAMENTO        0.0108      inf  0    NaN\n",
      "\n",
      "\n",
      "Reg_seg 77, BRAZILIAN: lower bound 0.1, higher bound 0.2\n",
      "                            coef  std err  t  P>|t|\n",
      "OBRIGAÇÃO_FINAL_POR_SALA  0.1361      inf  0    NaN\n",
      "DIAS_FUNCIONAMENTO        0.0303      inf  0    NaN\n",
      "\n",
      "\n",
      "Reg_seg 78, ALL: lower bound 0.2, higher bound 0.3\n"
     ]
    },
    {
     "name": "stderr",
     "output_type": "stream",
     "text": [
      "C:\\Users\\Pedro\\anaconda3\\lib\\site-packages\\statsmodels\\regression\\linear_model.py:1728: RuntimeWarning: divide by zero encountered in true_divide\n",
      "  return 1 - (np.divide(self.nobs - self.k_constant, self.df_resid)\n",
      "C:\\Users\\Pedro\\anaconda3\\lib\\site-packages\\statsmodels\\regression\\linear_model.py:1728: RuntimeWarning: invalid value encountered in double_scalars\n",
      "  return 1 - (np.divide(self.nobs - self.k_constant, self.df_resid)\n",
      "C:\\Users\\Pedro\\anaconda3\\lib\\site-packages\\statsmodels\\regression\\linear_model.py:1650: RuntimeWarning: divide by zero encountered in double_scalars\n",
      "  return np.dot(wresid, wresid) / self.df_resid\n",
      "C:\\Users\\Pedro\\anaconda3\\lib\\site-packages\\statsmodels\\regression\\linear_model.py:1728: RuntimeWarning: divide by zero encountered in true_divide\n",
      "  return 1 - (np.divide(self.nobs - self.k_constant, self.df_resid)\n",
      "C:\\Users\\Pedro\\anaconda3\\lib\\site-packages\\statsmodels\\regression\\linear_model.py:1728: RuntimeWarning: invalid value encountered in double_scalars\n",
      "  return 1 - (np.divide(self.nobs - self.k_constant, self.df_resid)\n",
      "C:\\Users\\Pedro\\anaconda3\\lib\\site-packages\\statsmodels\\regression\\linear_model.py:1650: RuntimeWarning: divide by zero encountered in double_scalars\n",
      "  return np.dot(wresid, wresid) / self.df_resid\n",
      "C:\\Users\\Pedro\\anaconda3\\lib\\site-packages\\statsmodels\\regression\\linear_model.py:1728: RuntimeWarning: divide by zero encountered in true_divide\n",
      "  return 1 - (np.divide(self.nobs - self.k_constant, self.df_resid)\n",
      "C:\\Users\\Pedro\\anaconda3\\lib\\site-packages\\statsmodels\\regression\\linear_model.py:1728: RuntimeWarning: invalid value encountered in double_scalars\n",
      "  return 1 - (np.divide(self.nobs - self.k_constant, self.df_resid)\n",
      "C:\\Users\\Pedro\\anaconda3\\lib\\site-packages\\statsmodels\\regression\\linear_model.py:1650: RuntimeWarning: divide by zero encountered in double_scalars\n",
      "  return np.dot(wresid, wresid) / self.df_resid\n",
      "C:\\Users\\Pedro\\anaconda3\\lib\\site-packages\\statsmodels\\regression\\linear_model.py:1728: RuntimeWarning: divide by zero encountered in true_divide\n",
      "  return 1 - (np.divide(self.nobs - self.k_constant, self.df_resid)\n",
      "C:\\Users\\Pedro\\anaconda3\\lib\\site-packages\\statsmodels\\regression\\linear_model.py:1728: RuntimeWarning: invalid value encountered in double_scalars\n",
      "  return 1 - (np.divide(self.nobs - self.k_constant, self.df_resid)\n",
      "C:\\Users\\Pedro\\anaconda3\\lib\\site-packages\\statsmodels\\regression\\linear_model.py:1650: RuntimeWarning: divide by zero encountered in double_scalars\n",
      "  return np.dot(wresid, wresid) / self.df_resid\n",
      "C:\\Users\\Pedro\\anaconda3\\lib\\site-packages\\statsmodels\\regression\\linear_model.py:1728: RuntimeWarning: divide by zero encountered in true_divide\n",
      "  return 1 - (np.divide(self.nobs - self.k_constant, self.df_resid)\n",
      "C:\\Users\\Pedro\\anaconda3\\lib\\site-packages\\statsmodels\\regression\\linear_model.py:1728: RuntimeWarning: invalid value encountered in double_scalars\n",
      "  return 1 - (np.divide(self.nobs - self.k_constant, self.df_resid)\n",
      "C:\\Users\\Pedro\\anaconda3\\lib\\site-packages\\statsmodels\\regression\\linear_model.py:1650: RuntimeWarning: divide by zero encountered in double_scalars\n",
      "  return np.dot(wresid, wresid) / self.df_resid\n",
      "C:\\Users\\Pedro\\anaconda3\\lib\\site-packages\\statsmodels\\regression\\linear_model.py:1728: RuntimeWarning: divide by zero encountered in true_divide\n",
      "  return 1 - (np.divide(self.nobs - self.k_constant, self.df_resid)\n",
      "C:\\Users\\Pedro\\anaconda3\\lib\\site-packages\\statsmodels\\regression\\linear_model.py:1728: RuntimeWarning: invalid value encountered in double_scalars\n",
      "  return 1 - (np.divide(self.nobs - self.k_constant, self.df_resid)\n",
      "C:\\Users\\Pedro\\anaconda3\\lib\\site-packages\\statsmodels\\regression\\linear_model.py:1650: RuntimeWarning: divide by zero encountered in double_scalars\n",
      "  return np.dot(wresid, wresid) / self.df_resid\n",
      "C:\\Users\\Pedro\\anaconda3\\lib\\site-packages\\statsmodels\\regression\\linear_model.py:1728: RuntimeWarning: divide by zero encountered in true_divide\n",
      "  return 1 - (np.divide(self.nobs - self.k_constant, self.df_resid)\n",
      "C:\\Users\\Pedro\\anaconda3\\lib\\site-packages\\statsmodels\\regression\\linear_model.py:1728: RuntimeWarning: invalid value encountered in double_scalars\n",
      "  return 1 - (np.divide(self.nobs - self.k_constant, self.df_resid)\n",
      "C:\\Users\\Pedro\\anaconda3\\lib\\site-packages\\statsmodels\\regression\\linear_model.py:1650: RuntimeWarning: divide by zero encountered in double_scalars\n",
      "  return np.dot(wresid, wresid) / self.df_resid\n"
     ]
    },
    {
     "name": "stdout",
     "output_type": "stream",
     "text": [
      "                            coef  std err  t  P>|t|\n",
      "OBRIGAÇÃO_FINAL_POR_SALA  0.0315      inf  0    NaN\n",
      "DIAS_FUNCIONAMENTO        0.0117      inf  0    NaN\n",
      "\n",
      "\n",
      "Reg_seg 79, FOREIGN: lower bound 0.2, higher bound 0.3\n",
      "                            coef  std err  t  P>|t|\n",
      "OBRIGAÇÃO_FINAL_POR_SALA  0.0309      inf  0    NaN\n",
      "DIAS_FUNCIONAMENTO        0.0122      inf  0    NaN\n",
      "\n",
      "\n",
      "Reg_seg 80, BRAZILIAN: lower bound 0.2, higher bound 0.3\n",
      "                            coef  std err  t  P>|t|\n",
      "OBRIGAÇÃO_FINAL_POR_SALA  0.0411      inf  0    NaN\n",
      "DIAS_FUNCIONAMENTO        0.0105      inf  0    NaN\n",
      "\n",
      "\n",
      "Reg_seg 81, ALL: lower bound 0.3, higher bound 0.4\n",
      "                            coef  std err  t  P>|t|\n",
      "OBRIGAÇÃO_FINAL_POR_SALA  0.0255      inf  0    NaN\n",
      "DIAS_FUNCIONAMENTO        0.0028      inf  0    NaN\n",
      "\n",
      "\n",
      "Reg_seg 82, FOREIGN: lower bound 0.3, higher bound 0.4\n",
      "                            coef  std err  t  P>|t|\n",
      "OBRIGAÇÃO_FINAL_POR_SALA  0.0262      inf  0    NaN\n",
      "DIAS_FUNCIONAMENTO        0.0034      inf  0    NaN\n",
      "\n",
      "\n",
      "Reg_seg 83, BRAZILIAN: lower bound 0.3, higher bound 0.4\n",
      "                            coef  std err  t  P>|t|\n",
      "OBRIGAÇÃO_FINAL_POR_SALA -0.0788      inf  0    NaN\n",
      "DIAS_FUNCIONAMENTO        0.0153      inf  0    NaN\n",
      "\n",
      "\n",
      "Reg_seg 84, ALL: lower bound 0.4, higher bound 0.5\n"
     ]
    },
    {
     "name": "stderr",
     "output_type": "stream",
     "text": [
      "C:\\Users\\Pedro\\anaconda3\\lib\\site-packages\\statsmodels\\regression\\linear_model.py:1728: RuntimeWarning: divide by zero encountered in true_divide\n",
      "  return 1 - (np.divide(self.nobs - self.k_constant, self.df_resid)\n",
      "C:\\Users\\Pedro\\anaconda3\\lib\\site-packages\\statsmodels\\regression\\linear_model.py:1728: RuntimeWarning: invalid value encountered in double_scalars\n",
      "  return 1 - (np.divide(self.nobs - self.k_constant, self.df_resid)\n",
      "C:\\Users\\Pedro\\anaconda3\\lib\\site-packages\\statsmodels\\regression\\linear_model.py:1650: RuntimeWarning: divide by zero encountered in double_scalars\n",
      "  return np.dot(wresid, wresid) / self.df_resid\n",
      "C:\\Users\\Pedro\\anaconda3\\lib\\site-packages\\statsmodels\\regression\\linear_model.py:1728: RuntimeWarning: divide by zero encountered in true_divide\n",
      "  return 1 - (np.divide(self.nobs - self.k_constant, self.df_resid)\n",
      "C:\\Users\\Pedro\\anaconda3\\lib\\site-packages\\statsmodels\\regression\\linear_model.py:1728: RuntimeWarning: invalid value encountered in double_scalars\n",
      "  return 1 - (np.divide(self.nobs - self.k_constant, self.df_resid)\n",
      "C:\\Users\\Pedro\\anaconda3\\lib\\site-packages\\statsmodels\\regression\\linear_model.py:1650: RuntimeWarning: divide by zero encountered in double_scalars\n",
      "  return np.dot(wresid, wresid) / self.df_resid\n",
      "C:\\Users\\Pedro\\anaconda3\\lib\\site-packages\\statsmodels\\regression\\linear_model.py:1728: RuntimeWarning: divide by zero encountered in true_divide\n",
      "  return 1 - (np.divide(self.nobs - self.k_constant, self.df_resid)\n",
      "C:\\Users\\Pedro\\anaconda3\\lib\\site-packages\\statsmodels\\regression\\linear_model.py:1728: RuntimeWarning: invalid value encountered in double_scalars\n",
      "  return 1 - (np.divide(self.nobs - self.k_constant, self.df_resid)\n",
      "C:\\Users\\Pedro\\anaconda3\\lib\\site-packages\\statsmodels\\regression\\linear_model.py:1650: RuntimeWarning: divide by zero encountered in double_scalars\n",
      "  return np.dot(wresid, wresid) / self.df_resid\n",
      "C:\\Users\\Pedro\\anaconda3\\lib\\site-packages\\statsmodels\\regression\\linear_model.py:1728: RuntimeWarning: divide by zero encountered in true_divide\n",
      "  return 1 - (np.divide(self.nobs - self.k_constant, self.df_resid)\n",
      "C:\\Users\\Pedro\\anaconda3\\lib\\site-packages\\statsmodels\\regression\\linear_model.py:1728: RuntimeWarning: invalid value encountered in double_scalars\n",
      "  return 1 - (np.divide(self.nobs - self.k_constant, self.df_resid)\n",
      "C:\\Users\\Pedro\\anaconda3\\lib\\site-packages\\statsmodels\\regression\\linear_model.py:1650: RuntimeWarning: divide by zero encountered in double_scalars\n",
      "  return np.dot(wresid, wresid) / self.df_resid\n",
      "C:\\Users\\Pedro\\anaconda3\\lib\\site-packages\\statsmodels\\regression\\linear_model.py:1728: RuntimeWarning: divide by zero encountered in true_divide\n",
      "  return 1 - (np.divide(self.nobs - self.k_constant, self.df_resid)\n",
      "C:\\Users\\Pedro\\anaconda3\\lib\\site-packages\\statsmodels\\regression\\linear_model.py:1728: RuntimeWarning: invalid value encountered in double_scalars\n",
      "  return 1 - (np.divide(self.nobs - self.k_constant, self.df_resid)\n",
      "C:\\Users\\Pedro\\anaconda3\\lib\\site-packages\\statsmodels\\regression\\linear_model.py:1650: RuntimeWarning: divide by zero encountered in double_scalars\n",
      "  return np.dot(wresid, wresid) / self.df_resid\n"
     ]
    },
    {
     "name": "stdout",
     "output_type": "stream",
     "text": [
      "                            coef  std err      t  P>|t|\n",
      "OBRIGAÇÃO_FINAL_POR_SALA  0.0004    0.001  0.276  0.809\n",
      "DIAS_FUNCIONAMENTO        0.0033    0.001  3.919  0.059\n",
      "\n",
      "\n",
      "Reg_seg 85, FOREIGN: lower bound 0.4, higher bound 0.5\n",
      "                            coef  std err      t  P>|t|\n",
      "OBRIGAÇÃO_FINAL_POR_SALA -0.0025    0.001 -4.039  0.056\n",
      "DIAS_FUNCIONAMENTO        0.0030    0.000  7.629  0.017\n",
      "\n",
      "\n",
      "Reg_seg 86, BRAZILIAN: lower bound 0.4, higher bound 0.5\n",
      "                            coef  std err      t  P>|t|\n",
      "OBRIGAÇÃO_FINAL_POR_SALA  0.0413    0.018  2.239  0.155\n",
      "DIAS_FUNCIONAMENTO        0.0156    0.009  1.795  0.215\n",
      "\n",
      "\n",
      "Reg_seg 87, ALL: lower bound 0.5, higher bound 0.6\n",
      "                            coef  std err      t  P>|t|\n",
      "OBRIGAÇÃO_FINAL_POR_SALA  0.0121    0.006  1.939  0.110\n",
      "DIAS_FUNCIONAMENTO        0.0051    0.001  7.140  0.001\n",
      "\n",
      "\n",
      "Reg_seg 88, FOREIGN: lower bound 0.5, higher bound 0.6\n",
      "                            coef  std err      t  P>|t|\n",
      "OBRIGAÇÃO_FINAL_POR_SALA  0.0108    0.007  1.604  0.170\n",
      "DIAS_FUNCIONAMENTO        0.0053    0.001  6.853  0.001\n",
      "\n",
      "\n",
      "Reg_seg 89, BRAZILIAN: lower bound 0.5, higher bound 0.6\n",
      "                            coef  std err     t  P>|t|\n",
      "OBRIGAÇÃO_FINAL_POR_SALA  0.0302    0.022  1.38  0.226\n",
      "DIAS_FUNCIONAMENTO        0.0155    0.011  1.42  0.215\n",
      "\n",
      "\n",
      "Reg_seg 90, ALL: lower bound 0.6, higher bound 0.7\n",
      "                            coef  std err      t  P>|t|\n",
      "OBRIGAÇÃO_FINAL_POR_SALA  0.0043    0.004  0.982  0.371\n",
      "DIAS_FUNCIONAMENTO        0.0072    0.001  9.158  0.000\n",
      "\n",
      "\n",
      "Reg_seg 91, FOREIGN: lower bound 0.6, higher bound 0.7\n",
      "                            coef  std err       t  P>|t|\n",
      "OBRIGAÇÃO_FINAL_POR_SALA  0.0045    0.004   1.122  0.313\n",
      "DIAS_FUNCIONAMENTO        0.0077    0.001  10.879  0.000\n",
      "\n",
      "\n",
      "Reg_seg 92, BRAZILIAN: lower bound 0.6, higher bound 0.7\n",
      "                            coef  std err      t  P>|t|\n",
      "OBRIGAÇÃO_FINAL_POR_SALA -0.0116    0.022 -0.521  0.625\n",
      "DIAS_FUNCIONAMENTO        0.0125    0.007  1.925  0.112\n",
      "\n",
      "\n",
      "Reg_seg 93, ALL: lower bound 0.7, higher bound 0.8\n",
      "                            coef  std err      t  P>|t|\n",
      "OBRIGAÇÃO_FINAL_POR_SALA  0.0170    0.012  1.424  0.290\n",
      "DIAS_FUNCIONAMENTO        0.0059    0.005  1.111  0.382\n",
      "\n",
      "\n",
      "Reg_seg 94, FOREIGN: lower bound 0.7, higher bound 0.8\n",
      "                            coef  std err      t  P>|t|\n",
      "OBRIGAÇÃO_FINAL_POR_SALA  0.0156    0.007  2.083  0.173\n",
      "DIAS_FUNCIONAMENTO        0.0057    0.003  1.769  0.219\n",
      "\n",
      "\n",
      "Reg_seg 95, BRAZILIAN: lower bound 0.7, higher bound 0.8\n",
      "                            coef  std err      t  P>|t|\n",
      "OBRIGAÇÃO_FINAL_POR_SALA -0.0338    0.163 -0.207  0.855\n",
      "DIAS_FUNCIONAMENTO        0.0115    0.028  0.402  0.726\n",
      "\n",
      "\n",
      "Reg_seg 96, ALL: lower bound 0.8, higher bound 0.9\n"
     ]
    },
    {
     "name": "stderr",
     "output_type": "stream",
     "text": [
      "C:\\Users\\Pedro\\anaconda3\\lib\\site-packages\\statsmodels\\regression\\linear_model.py:1728: RuntimeWarning: divide by zero encountered in true_divide\n",
      "  return 1 - (np.divide(self.nobs - self.k_constant, self.df_resid)\n",
      "C:\\Users\\Pedro\\anaconda3\\lib\\site-packages\\statsmodels\\regression\\linear_model.py:1728: RuntimeWarning: invalid value encountered in double_scalars\n",
      "  return 1 - (np.divide(self.nobs - self.k_constant, self.df_resid)\n",
      "C:\\Users\\Pedro\\anaconda3\\lib\\site-packages\\statsmodels\\regression\\linear_model.py:1650: RuntimeWarning: divide by zero encountered in double_scalars\n",
      "  return np.dot(wresid, wresid) / self.df_resid\n",
      "C:\\Users\\Pedro\\anaconda3\\lib\\site-packages\\statsmodels\\regression\\linear_model.py:1728: RuntimeWarning: divide by zero encountered in true_divide\n",
      "  return 1 - (np.divide(self.nobs - self.k_constant, self.df_resid)\n",
      "C:\\Users\\Pedro\\anaconda3\\lib\\site-packages\\statsmodels\\regression\\linear_model.py:1728: RuntimeWarning: invalid value encountered in double_scalars\n",
      "  return 1 - (np.divide(self.nobs - self.k_constant, self.df_resid)\n",
      "C:\\Users\\Pedro\\anaconda3\\lib\\site-packages\\statsmodels\\regression\\linear_model.py:1650: RuntimeWarning: divide by zero encountered in double_scalars\n",
      "  return np.dot(wresid, wresid) / self.df_resid\n",
      "C:\\Users\\Pedro\\anaconda3\\lib\\site-packages\\statsmodels\\regression\\linear_model.py:1728: RuntimeWarning: divide by zero encountered in true_divide\n",
      "  return 1 - (np.divide(self.nobs - self.k_constant, self.df_resid)\n",
      "C:\\Users\\Pedro\\anaconda3\\lib\\site-packages\\statsmodels\\regression\\linear_model.py:1728: RuntimeWarning: invalid value encountered in double_scalars\n",
      "  return 1 - (np.divide(self.nobs - self.k_constant, self.df_resid)\n",
      "C:\\Users\\Pedro\\anaconda3\\lib\\site-packages\\statsmodels\\regression\\linear_model.py:1650: RuntimeWarning: divide by zero encountered in double_scalars\n",
      "  return np.dot(wresid, wresid) / self.df_resid\n"
     ]
    },
    {
     "name": "stdout",
     "output_type": "stream",
     "text": [
      "                            coef  std err  t  P>|t|\n",
      "OBRIGAÇÃO_FINAL_POR_SALA  0.0805      inf  0    NaN\n",
      "DIAS_FUNCIONAMENTO        0.0051      inf  0    NaN\n",
      "\n",
      "\n",
      "Reg_seg 97, FOREIGN: lower bound 0.8, higher bound 0.9\n",
      "                            coef  std err  t  P>|t|\n",
      "OBRIGAÇÃO_FINAL_POR_SALA  0.3410      inf  0    NaN\n",
      "DIAS_FUNCIONAMENTO       -0.0227      inf  0    NaN\n",
      "\n",
      "\n",
      "Reg_seg 98, BRAZILIAN: lower bound 0.8, higher bound 0.9\n",
      "                            coef  std err  t  P>|t|\n",
      "OBRIGAÇÃO_FINAL_POR_SALA  0.8416      inf  0    NaN\n",
      "DIAS_FUNCIONAMENTO       -0.1754      inf  0    NaN\n",
      "\n",
      "\n",
      "Reg_seg 99, ALL: lower bound 0.9, higher bound 1.0\n",
      "                            coef  std err       t  P>|t|\n",
      "OBRIGAÇÃO_FINAL_POR_SALA -0.0005    0.001  -0.381  0.704\n",
      "DIAS_FUNCIONAMENTO        0.0050    0.000  10.686  0.000\n",
      "\n",
      "\n",
      "Reg_seg 100, FOREIGN: lower bound 0.9, higher bound 1.0\n",
      "                            coef  std err      t  P>|t|\n",
      "OBRIGAÇÃO_FINAL_POR_SALA -0.0017    0.002 -1.127  0.264\n",
      "DIAS_FUNCIONAMENTO        0.0049    0.001  9.741  0.000\n",
      "\n",
      "\n",
      "Reg_seg 101, BRAZILIAN: lower bound 0.9, higher bound 1.0\n",
      "                            coef  std err      t  P>|t|\n",
      "OBRIGAÇÃO_FINAL_POR_SALA  0.0218    0.008  2.578  0.012\n",
      "DIAS_FUNCIONAMENTO       -0.0015    0.002 -0.706  0.483\n",
      "\n",
      "\n",
      "Reg_seg 102, ALL: lower bound 1.0, higher bound 1.1\n",
      "                            coef  std err       t  P>|t|\n",
      "OBRIGAÇÃO_FINAL_POR_SALA  0.0005    0.001   0.438  0.662\n",
      "DIAS_FUNCIONAMENTO        0.0050    0.000  21.183  0.000\n",
      "\n",
      "\n",
      "Reg_seg 103, FOREIGN: lower bound 1.0, higher bound 1.1\n",
      "                            coef  std err       t  P>|t|\n",
      "OBRIGAÇÃO_FINAL_POR_SALA -0.0011    0.001  -1.041  0.299\n",
      "DIAS_FUNCIONAMENTO        0.0053    0.000  22.686  0.000\n",
      "\n",
      "\n",
      "Reg_seg 104, BRAZILIAN: lower bound 1.0, higher bound 1.1\n",
      "                              coef  std err      t  P>|t|\n",
      "OBRIGAÇÃO_FINAL_POR_SALA  0.021400    0.005  4.367  0.000\n",
      "DIAS_FUNCIONAMENTO        0.000068    0.001  0.058  0.954\n",
      "\n",
      "\n",
      "Reg_seg 105, ALL: lower bound 1.1, higher bound 1.2\n",
      "                            coef  std err       t  P>|t|\n",
      "OBRIGAÇÃO_FINAL_POR_SALA -0.0070    0.002  -3.142  0.196\n",
      "DIAS_FUNCIONAMENTO        0.0358    0.000  88.327  0.007\n",
      "\n",
      "\n",
      "Reg_seg 106, FOREIGN: lower bound 1.1, higher bound 1.2\n",
      "                            coef  std err  t  P>|t|\n",
      "OBRIGAÇÃO_FINAL_POR_SALA  0.0025      inf  0    NaN\n",
      "DIAS_FUNCIONAMENTO       -0.1194      inf  0    NaN\n",
      "\n",
      "\n",
      "Reg_seg 107, BRAZILIAN: lower bound 1.1, higher bound 1.2\n",
      "                            coef  std err  t  P>|t|\n",
      "OBRIGAÇÃO_FINAL_POR_SALA  0.0245      inf  0    NaN\n",
      "DIAS_FUNCIONAMENTO       -0.0032      inf  0    NaN\n",
      "\n",
      "\n",
      "Reg_seg 108, ALL: lower bound 1.2, higher bound 1.3\n",
      "                            coef  std err  t  P>|t|\n",
      "OBRIGAÇÃO_FINAL_POR_SALA  0.0702      inf  0    NaN\n",
      "DIAS_FUNCIONAMENTO        0.0067      inf  0    NaN\n",
      "\n",
      "\n",
      "Reg_seg 109, FOREIGN: lower bound 1.2, higher bound 1.3\n"
     ]
    },
    {
     "name": "stderr",
     "output_type": "stream",
     "text": [
      "C:\\Users\\Pedro\\anaconda3\\lib\\site-packages\\statsmodels\\regression\\linear_model.py:1728: RuntimeWarning: divide by zero encountered in true_divide\n",
      "  return 1 - (np.divide(self.nobs - self.k_constant, self.df_resid)\n",
      "C:\\Users\\Pedro\\anaconda3\\lib\\site-packages\\statsmodels\\regression\\linear_model.py:1728: RuntimeWarning: invalid value encountered in double_scalars\n",
      "  return 1 - (np.divide(self.nobs - self.k_constant, self.df_resid)\n",
      "C:\\Users\\Pedro\\anaconda3\\lib\\site-packages\\statsmodels\\regression\\linear_model.py:1650: RuntimeWarning: divide by zero encountered in double_scalars\n",
      "  return np.dot(wresid, wresid) / self.df_resid\n",
      "C:\\Users\\Pedro\\anaconda3\\lib\\site-packages\\statsmodels\\regression\\linear_model.py:1728: RuntimeWarning: divide by zero encountered in true_divide\n",
      "  return 1 - (np.divide(self.nobs - self.k_constant, self.df_resid)\n",
      "C:\\Users\\Pedro\\anaconda3\\lib\\site-packages\\statsmodels\\regression\\linear_model.py:1728: RuntimeWarning: invalid value encountered in double_scalars\n",
      "  return 1 - (np.divide(self.nobs - self.k_constant, self.df_resid)\n",
      "C:\\Users\\Pedro\\anaconda3\\lib\\site-packages\\statsmodels\\regression\\linear_model.py:1650: RuntimeWarning: divide by zero encountered in double_scalars\n",
      "  return np.dot(wresid, wresid) / self.df_resid\n",
      "C:\\Users\\Pedro\\anaconda3\\lib\\site-packages\\statsmodels\\regression\\linear_model.py:1728: RuntimeWarning: divide by zero encountered in true_divide\n",
      "  return 1 - (np.divide(self.nobs - self.k_constant, self.df_resid)\n",
      "C:\\Users\\Pedro\\anaconda3\\lib\\site-packages\\statsmodels\\regression\\linear_model.py:1728: RuntimeWarning: invalid value encountered in double_scalars\n",
      "  return 1 - (np.divide(self.nobs - self.k_constant, self.df_resid)\n",
      "C:\\Users\\Pedro\\anaconda3\\lib\\site-packages\\statsmodels\\regression\\linear_model.py:1650: RuntimeWarning: divide by zero encountered in double_scalars\n",
      "  return np.dot(wresid, wresid) / self.df_resid\n",
      "C:\\Users\\Pedro\\anaconda3\\lib\\site-packages\\statsmodels\\regression\\linear_model.py:1728: RuntimeWarning: divide by zero encountered in true_divide\n",
      "  return 1 - (np.divide(self.nobs - self.k_constant, self.df_resid)\n",
      "C:\\Users\\Pedro\\anaconda3\\lib\\site-packages\\statsmodels\\regression\\linear_model.py:1728: RuntimeWarning: invalid value encountered in double_scalars\n",
      "  return 1 - (np.divide(self.nobs - self.k_constant, self.df_resid)\n",
      "C:\\Users\\Pedro\\anaconda3\\lib\\site-packages\\statsmodels\\regression\\linear_model.py:1650: RuntimeWarning: divide by zero encountered in double_scalars\n",
      "  return np.dot(wresid, wresid) / self.df_resid\n"
     ]
    },
    {
     "name": "stdout",
     "output_type": "stream",
     "text": [
      "                            coef  std err  t  P>|t|\n",
      "OBRIGAÇÃO_FINAL_POR_SALA  0.0676      inf  0    NaN\n",
      "DIAS_FUNCIONAMENTO        0.0063      inf  0    NaN\n",
      "\n",
      "\n",
      "Reg_seg 110, BRAZILIAN: lower bound 1.2, higher bound 1.3\n",
      "                            coef  std err  t  P>|t|\n",
      "OBRIGAÇÃO_FINAL_POR_SALA  0.1256      inf  0    NaN\n",
      "DIAS_FUNCIONAMENTO        0.0055      inf  0    NaN\n",
      "\n",
      "\n",
      "Reg_seg 111, ALL: lower bound 1.3, higher bound 50\n",
      "                            coef  std err      t  P>|t|\n",
      "OBRIGAÇÃO_FINAL_POR_SALA -0.0055    0.010 -0.559  0.593\n",
      "DIAS_FUNCIONAMENTO        0.0139    0.002  5.889  0.001\n",
      "\n",
      "\n",
      "Reg_seg 112, FOREIGN: lower bound 1.3, higher bound 50\n",
      "                            coef  std err      t  P>|t|\n",
      "OBRIGAÇÃO_FINAL_POR_SALA  0.0227    0.032  0.706  0.507\n",
      "DIAS_FUNCIONAMENTO        0.0263    0.007  3.632  0.011\n",
      "\n",
      "\n",
      "Reg_seg 113, BRAZILIAN: lower bound 1.3, higher bound 50\n"
     ]
    },
    {
     "name": "stderr",
     "output_type": "stream",
     "text": [
      "C:\\Users\\Pedro\\anaconda3\\lib\\site-packages\\statsmodels\\regression\\linear_model.py:1728: RuntimeWarning: divide by zero encountered in true_divide\n",
      "  return 1 - (np.divide(self.nobs - self.k_constant, self.df_resid)\n",
      "C:\\Users\\Pedro\\anaconda3\\lib\\site-packages\\statsmodels\\regression\\linear_model.py:1728: RuntimeWarning: invalid value encountered in double_scalars\n",
      "  return 1 - (np.divide(self.nobs - self.k_constant, self.df_resid)\n",
      "C:\\Users\\Pedro\\anaconda3\\lib\\site-packages\\statsmodels\\regression\\linear_model.py:1650: RuntimeWarning: divide by zero encountered in double_scalars\n",
      "  return np.dot(wresid, wresid) / self.df_resid\n"
     ]
    },
    {
     "name": "stdout",
     "output_type": "stream",
     "text": [
      "                            coef  std err      t  P>|t|\n",
      "OBRIGAÇÃO_FINAL_POR_SALA -0.0019    0.011 -0.170  0.870\n",
      "DIAS_FUNCIONAMENTO        0.0098    0.003  3.884  0.006\n",
      "\n",
      "\n"
     ]
    }
   ],
   "source": [
    "works = ['ALL', 'FOREIGN', 'BRAZILIAN']\n",
    "\n",
    "for i in range(last_count,count_regs):\n",
    "    print(f'Reg_seg {i}, {works[i%3]}: lower bound {bounds[(i-last_count)//3]}, higher bound {bounds[((i-last_count)//3)+1]}')\n",
    "    print(pd.read_html(seg_regs[f'reg_seg{i}'].summary().\n",
    "                       tables[1].as_html(),header=0,index_col=0)[0].iloc[-2:,:-2])\n",
    "    print('\\n')"
   ]
  },
  {
   "cell_type": "markdown",
   "metadata": {},
   "source": [
    "#### Bounds - [0, 0.85, 0.95, 1.05, 1.15, 50]"
   ]
  },
  {
   "cell_type": "code",
   "execution_count": 133,
   "metadata": {
    "ExecuteTime": {
     "end_time": "2021-06-09T20:16:08.581011Z",
     "start_time": "2021-06-09T20:16:07.809129Z"
    }
   },
   "outputs": [
    {
     "name": "stdout",
     "output_type": "stream",
     "text": [
      "129\n"
     ]
    }
   ],
   "source": [
    "bounds = [0, 0.85, 0.95, 1.05, 1.15, 50]\n",
    "\n",
    "last_count = count_regs\n",
    "\n",
    "formul = 'np.log(RENDA) ~ OBRIGAÇÃO_FINAL_POR_SALA + DIAS_FUNCIONAMENTO + C(REGISTRO_COMPLEXO) + C(ANO_CINEMATOGRAFICO)'\n",
    "\n",
    "for i in range(len(bounds)-1):\n",
    "    seg_regs[f'reg_seg{count_regs}'] = smf.ols(formula=formul, \n",
    "                    data = tds_1718[tds_1718.CUMPRIMENTO_PROPORCIONAL.between(bounds[i],bounds[i+1])]).fit()\n",
    "    count_regs += 1\n",
    "    seg_regs[f'reg_seg{count_regs}'] = smf.ols(formula=formul, \n",
    "                    data = est_1718[est_1718.CUMPRIMENTO_PROPORCIONAL.between(bounds[i],bounds[i+1])]).fit()\n",
    "    count_regs += 1\n",
    "    seg_regs[f'reg_seg{count_regs}'] = smf.ols(formula=formul, \n",
    "                    data = bras_1718[bras_1718.CUMPRIMENTO_PROPORCIONAL.between(bounds[i],bounds[i+1])]).fit()\n",
    "    count_regs += 1\n",
    "\n",
    "print(count_regs)"
   ]
  },
  {
   "cell_type": "code",
   "execution_count": 134,
   "metadata": {
    "ExecuteTime": {
     "end_time": "2021-06-09T20:16:11.758724Z",
     "start_time": "2021-06-09T20:16:09.014692Z"
    },
    "scrolled": true
   },
   "outputs": [
    {
     "name": "stdout",
     "output_type": "stream",
     "text": [
      "Reg_seg 114, ALL: lower bound 0, higher bound 0.85\n",
      "                            coef  std err       t  P>|t|\n",
      "OBRIGAÇÃO_FINAL_POR_SALA  0.0037    0.002   1.755  0.081\n",
      "DIAS_FUNCIONAMENTO        0.0064    0.000  17.074  0.000\n",
      "\n",
      "\n",
      "Reg_seg 115, FOREIGN: lower bound 0, higher bound 0.85\n",
      "                            coef  std err       t  P>|t|\n",
      "OBRIGAÇÃO_FINAL_POR_SALA  0.0037    0.002   1.852  0.066\n",
      "DIAS_FUNCIONAMENTO        0.0065    0.000  17.839  0.000\n",
      "\n",
      "\n",
      "Reg_seg 116, BRAZILIAN: lower bound 0, higher bound 0.85\n",
      "                            coef  std err      t  P>|t|\n",
      "OBRIGAÇÃO_FINAL_POR_SALA -0.0041    0.005 -0.865  0.389\n",
      "DIAS_FUNCIONAMENTO        0.0115    0.002  5.900  0.000\n",
      "\n",
      "\n",
      "Reg_seg 117, ALL: lower bound 0.85, higher bound 0.95\n",
      "                            coef  std err      t  P>|t|\n",
      "OBRIGAÇÃO_FINAL_POR_SALA  0.0952    0.081  1.178  0.448\n",
      "DIAS_FUNCIONAMENTO        0.0195    0.009  2.097  0.283\n",
      "\n",
      "\n",
      "Reg_seg 118, FOREIGN: lower bound 0.85, higher bound 0.95\n",
      "                            coef  std err      t  P>|t|\n",
      "OBRIGAÇÃO_FINAL_POR_SALA  0.3068    0.066  4.662  0.135\n",
      "DIAS_FUNCIONAMENTO        0.0114    0.008  1.431  0.388\n",
      "\n",
      "\n",
      "Reg_seg 119, BRAZILIAN: lower bound 0.85, higher bound 0.95\n",
      "                            coef  std err       t  P>|t|\n",
      "OBRIGAÇÃO_FINAL_POR_SALA -1.9842    0.135 -14.683  0.043\n",
      "DIAS_FUNCIONAMENTO        0.0205    0.003   6.273  0.101\n",
      "\n",
      "\n",
      "Reg_seg 120, ALL: lower bound 0.95, higher bound 1.05\n",
      "                            coef  std err       t  P>|t|\n",
      "OBRIGAÇÃO_FINAL_POR_SALA -0.0001    0.001  -0.123  0.902\n",
      "DIAS_FUNCIONAMENTO        0.0056    0.000  21.409  0.000\n",
      "\n",
      "\n",
      "Reg_seg 121, FOREIGN: lower bound 0.95, higher bound 1.05\n",
      "                            coef  std err       t  P>|t|\n",
      "OBRIGAÇÃO_FINAL_POR_SALA -0.0018    0.001  -1.636  0.105\n",
      "DIAS_FUNCIONAMENTO        0.0059    0.000  21.764  0.000\n",
      "\n",
      "\n",
      "Reg_seg 122, BRAZILIAN: lower bound 0.95, higher bound 1.05\n",
      "                            coef  std err      t  P>|t|\n",
      "OBRIGAÇÃO_FINAL_POR_SALA  0.0252    0.006  4.501  0.000\n",
      "DIAS_FUNCIONAMENTO       -0.0010    0.001 -0.731  0.466\n",
      "\n",
      "\n",
      "Reg_seg 123, ALL: lower bound 1.05, higher bound 1.15\n",
      "                              coef  std err      t  P>|t|\n",
      "OBRIGAÇÃO_FINAL_POR_SALA -0.000068    0.004 -0.017  0.987\n",
      "DIAS_FUNCIONAMENTO        0.004100    0.001  4.700  0.000\n",
      "\n",
      "\n",
      "Reg_seg 124, FOREIGN: lower bound 1.05, higher bound 1.15\n",
      "                            coef  std err      t  P>|t|\n",
      "OBRIGAÇÃO_FINAL_POR_SALA -0.0026    0.004 -0.602  0.553\n",
      "DIAS_FUNCIONAMENTO        0.0046    0.001  4.961  0.000\n",
      "\n",
      "\n",
      "Reg_seg 125, BRAZILIAN: lower bound 1.05, higher bound 1.15\n",
      "                            coef  std err      t  P>|t|\n",
      "OBRIGAÇÃO_FINAL_POR_SALA  0.0133    0.010  1.273  0.215\n",
      "DIAS_FUNCIONAMENTO        0.0015    0.002  0.725  0.475\n",
      "\n",
      "\n",
      "Reg_seg 126, ALL: lower bound 1.15, higher bound 50\n",
      "                            coef  std err      t  P>|t|\n",
      "OBRIGAÇÃO_FINAL_POR_SALA  0.0099    0.006  1.561  0.132\n",
      "DIAS_FUNCIONAMENTO        0.0053    0.001  5.756  0.000\n",
      "\n",
      "\n",
      "Reg_seg 127, FOREIGN: lower bound 1.15, higher bound 50\n",
      "                            coef  std err      t  P>|t|\n",
      "OBRIGAÇÃO_FINAL_POR_SALA  0.0273    0.019  1.471  0.155\n",
      "DIAS_FUNCIONAMENTO        0.0066    0.003  2.494  0.021\n",
      "\n",
      "\n",
      "Reg_seg 128, BRAZILIAN: lower bound 1.15, higher bound 50\n",
      "                            coef  std err      t  P>|t|\n",
      "OBRIGAÇÃO_FINAL_POR_SALA  0.0179    0.010  1.728  0.097\n",
      "DIAS_FUNCIONAMENTO        0.0063    0.002  3.125  0.005\n",
      "\n",
      "\n"
     ]
    }
   ],
   "source": [
    "works = ['ALL', 'FOREIGN', 'BRAZILIAN']\n",
    "\n",
    "for i in range(last_count,count_regs):\n",
    "    print(f'Reg_seg {i}, {works[i%3]}: lower bound {bounds[(i-last_count)//3]}, higher bound {bounds[((i-last_count)//3)+1]}')\n",
    "    print(pd.read_html(seg_regs[f'reg_seg{i}'].summary().\n",
    "                       tables[1].as_html(),header=0,index_col=0)[0].iloc[-2:,:-2])\n",
    "    print('\\n')"
   ]
  },
  {
   "cell_type": "markdown",
   "metadata": {},
   "source": [
    "#### Bounds - [0.99, 1.01]"
   ]
  },
  {
   "cell_type": "code",
   "execution_count": 135,
   "metadata": {
    "ExecuteTime": {
     "end_time": "2021-06-09T20:16:12.360743Z",
     "start_time": "2021-06-09T20:16:12.230886Z"
    }
   },
   "outputs": [
    {
     "name": "stdout",
     "output_type": "stream",
     "text": [
      "132\n"
     ]
    }
   ],
   "source": [
    "bounds = [0.99, 1.01]\n",
    "\n",
    "last_count = count_regs\n",
    "\n",
    "formul = 'np.log(RENDA) ~ OBRIGAÇÃO_FINAL_POR_SALA + DIAS_FUNCIONAMENTO + C(REGISTRO_COMPLEXO) + C(ANO_CINEMATOGRAFICO)'\n",
    "\n",
    "for i in range(len(bounds)-1):\n",
    "    seg_regs[f'reg_seg{count_regs}'] = smf.ols(formula=formul, \n",
    "                    data = tds_1718[tds_1718.CUMPRIMENTO_PROPORCIONAL.between(bounds[i],bounds[i+1])]).fit()\n",
    "    count_regs += 1\n",
    "    seg_regs[f'reg_seg{count_regs}'] = smf.ols(formula=formul, \n",
    "                    data = est_1718[est_1718.CUMPRIMENTO_PROPORCIONAL.between(bounds[i],bounds[i+1])]).fit()\n",
    "    count_regs += 1\n",
    "    seg_regs[f'reg_seg{count_regs}'] = smf.ols(formula=formul, \n",
    "                    data = bras_1718[bras_1718.CUMPRIMENTO_PROPORCIONAL.between(bounds[i],bounds[i+1])]).fit()\n",
    "    count_regs += 1\n",
    "\n",
    "print(count_regs)"
   ]
  },
  {
   "cell_type": "code",
   "execution_count": 136,
   "metadata": {
    "ExecuteTime": {
     "end_time": "2021-06-09T20:16:13.280045Z",
     "start_time": "2021-06-09T20:16:12.814200Z"
    },
    "scrolled": true
   },
   "outputs": [
    {
     "name": "stdout",
     "output_type": "stream",
     "text": [
      "Reg_seg 129, ALL: lower bound 0.99, higher bound 1.01\n",
      "                            coef  std err      t  P>|t|\n",
      "OBRIGAÇÃO_FINAL_POR_SALA  0.0011    0.002  0.734  0.466\n",
      "DIAS_FUNCIONAMENTO        0.0012    0.002  0.691  0.492\n",
      "\n",
      "\n",
      "Reg_seg 130, FOREIGN: lower bound 0.99, higher bound 1.01\n",
      "                            coef  std err      t  P>|t|\n",
      "OBRIGAÇÃO_FINAL_POR_SALA -0.0013    0.002 -0.774  0.441\n",
      "DIAS_FUNCIONAMENTO        0.0027    0.002  1.360  0.178\n",
      "\n",
      "\n",
      "Reg_seg 131, BRAZILIAN: lower bound 0.99, higher bound 1.01\n",
      "                            coef  std err      t  P>|t|\n",
      "OBRIGAÇÃO_FINAL_POR_SALA  0.0286    0.006  4.469    0.0\n",
      "DIAS_FUNCIONAMENTO       -0.0062    0.002 -3.786    0.0\n",
      "\n",
      "\n"
     ]
    }
   ],
   "source": [
    "works = ['ALL', 'FOREIGN', 'BRAZILIAN']\n",
    "\n",
    "for i in range(last_count,count_regs):\n",
    "    print(f'Reg_seg {i}, {works[i%3]}: lower bound {bounds[(i-last_count)//3]}, higher bound {bounds[((i-last_count)//3)+1]}')\n",
    "    print(pd.read_html(seg_regs[f'reg_seg{i}'].summary().\n",
    "                       tables[1].as_html(),header=0,index_col=0)[0].iloc[-2:,:-2])\n",
    "    print('\\n')"
   ]
  },
  {
   "cell_type": "markdown",
   "metadata": {},
   "source": [
    "## Alternative regressions"
   ]
  },
  {
   "cell_type": "code",
   "execution_count": 14,
   "metadata": {
    "ExecuteTime": {
     "end_time": "2021-06-16T23:32:05.641979Z",
     "start_time": "2021-06-16T23:32:05.628493Z"
    }
   },
   "outputs": [
    {
     "data": {
      "text/plain": [
       "Index(['ANO_CINEMATOGRAFICO', 'QTDE_TIT_DIF_EXIB', 'PUBLICO', 'RENDA',\n",
       "       'DATA_HORA_SESSAO', 'DIAS_FUNCIONAMENTO', 'TOT_SALAS_FUNC',\n",
       "       'REGISTRO_SALA', 'SALAS_COMPLEXO_INFERIDO',\n",
       "       'ASSENTOS_COMPLEXO_INFERIDO', 'UF_COMPLEXO', 'OBRIGAÇÃO_TOTAL_POR_SALA',\n",
       "       'OBRIGAÇÃO_TOTAL_INCREMENTO_POR_SALA', 'OBRIGAÇÃO_PROP_POR_SALA',\n",
       "       'OBRIGAÇÃO_PROP_INCREMENTO_POR_SALA', 'OBRIGAÇÃO_FINAL_POR_SALA',\n",
       "       'CUMPRIMENTO_PROP_TRUNCADO', 'CUMPRIMENTO_NORMALIZADO', 'TRANSF_ORIGEM',\n",
       "       'TRANSF_RECEBIDOS', 'CUMPRIU_COTA', 'TOTAL_SALAS',\n",
       "       'DIAS_FUNC_INFERIDOS', 'CUMPRIMENTO_PROPORCIONAL', 'CUMPRIMENTO_LINEAR',\n",
       "       'CUMPRIMENTO_TRIWEIGHT', 'REGISTRO_COMPLEXO', 'REG_EMPRESA',\n",
       "       'REGISTRO_GRUPO', 'CEP_COMPLEXO', 'MUN_COMPLEXO'],\n",
       "      dtype='object')"
      ]
     },
     "execution_count": 14,
     "metadata": {},
     "output_type": "execute_result"
    }
   ],
   "source": [
    "tds_1719.columns"
   ]
  },
  {
   "cell_type": "code",
   "execution_count": 23,
   "metadata": {
    "ExecuteTime": {
     "end_time": "2021-06-16T23:38:29.178724Z",
     "start_time": "2021-06-16T23:38:29.171533Z"
    }
   },
   "outputs": [],
   "source": [
    "# renaming cols\n",
    "\n",
    "tds_1719.columns = ['ANO_CINEMATOGRAFICO', 'QTDE_TIT_DIF_EXIB', 'PUBLICO', 'RENDA',\n",
    "       'DATA_HORA_SESSAO', 'DIAS_FUNCIONAMENTO', 'TOT_SALAS_FUNC',\n",
    "       'REGISTRO_SALA', 'SALAS_COMPLEXO_INFERIDO',\n",
    "       'ASSENTOS_COMPLEXO_INFERIDO', 'UF_COMPLEXO', 'OBRIGAÇÃO_TOTAL_POR_SALA',\n",
    "       'OBRIGAÇÃO_TOTAL_INCREMENTO_POR_SALA', 'OBRIGAÇÃO_PROP_POR_SALA',\n",
    "       'OBRIGAÇÃO_PROP_INCREMENTO_POR_SALA', 'OBRIGAÇÃO_FINAL_POR_SALA',\n",
    "       'CUMP_QUADRATIC', 'CUMP_NORMALIZADO', 'TRANSF_ORIGEM',\n",
    "       'TRANSF_RECEBIDOS', 'CUMPRIU_COTA', 'TOTAL_SALAS',\n",
    "       'DIAS_FUNC_INFERIDOS', 'CUMPRIMENTO_PROPORCIONAL', 'CUMP_LINEAR',\n",
    "       'CUMP_TRIWEIGHT', 'REGISTRO_COMPLEXO', 'REG_EMPRESA',\n",
    "       'REGISTRO_GRUPO', 'CEP_COMPLEXO', 'MUN_COMPLEXO']\n",
    "\n",
    "est_1719.columns = tds_1719.columns\n",
    "bras_1719.columns = tds_1719.columns\n",
    "tds_1718.columns = tds_1719.columns\n",
    "est_1718.columns = tds_1719.columns\n",
    "bras_1718.columns = tds_1719.columns"
   ]
  },
  {
   "cell_type": "markdown",
   "metadata": {},
   "source": [
    "### Dependent variable: number of sessions"
   ]
  },
  {
   "cell_type": "code",
   "execution_count": 19,
   "metadata": {
    "ExecuteTime": {
     "end_time": "2021-06-16T23:36:16.867752Z",
     "start_time": "2021-06-16T23:36:16.842235Z"
    }
   },
   "outputs": [],
   "source": [
    "complex_days = {}\n",
    "\n",
    "d_count = 0\n",
    "\n",
    "weight_funcs = [\n",
    "    'CUMP_QUADRATIC','CUMP_NORMALIZADO', 'CUMP_LINEAR','CUMP_TRIWEIGHT']"
   ]
  },
  {
   "cell_type": "markdown",
   "metadata": {},
   "source": [
    "#### 2017-2019"
   ]
  },
  {
   "cell_type": "code",
   "execution_count": 20,
   "metadata": {
    "ExecuteTime": {
     "end_time": "2021-06-16T23:36:44.200987Z",
     "start_time": "2021-06-16T23:36:19.351419Z"
    }
   },
   "outputs": [],
   "source": [
    "last_d_count = d_count # to get num range of regressions to be executed\n",
    "\n",
    "for f in weight_funcs:\n",
    "    # adjust formula as we run through the weighting funcs\n",
    "    formul = f'DIAS_FUNCIONAMENTO ~ OBRIGAÇÃO_TOTAL_POR_SALA*{f} + C(REGISTRO_COMPLEXO) + C(ANO_CINEMATOGRAFICO)'\n",
    "    complex_days[f'reg_cd{d_count}'] = smf.ols(formula = formul, data=tds_1719).fit()\n",
    "    d_count += 1\n",
    "    complex_days[f'reg_cd{d_count}'] = smf.ols(formula = formul, data=est_1719).fit()\n",
    "    d_count += 1\n",
    "    complex_days[f'reg_cd{d_count}'] = smf.ols(formula = formul, data=bras_1719).fit()\n",
    "    d_count += 1"
   ]
  },
  {
   "cell_type": "code",
   "execution_count": 21,
   "metadata": {
    "ExecuteTime": {
     "end_time": "2021-06-16T23:36:54.000128Z",
     "start_time": "2021-06-16T23:36:44.589858Z"
    }
   },
   "outputs": [
    {
     "name": "stdout",
     "output_type": "stream",
     "text": [
      "Reg_complex_days 0, ALL, weighting function CUMP_QUADRATIC:\n",
      "                                            coef  std err      t  P>|t|\n",
      "OBRIGAÇÃO_TOTAL_POR_SALA                 -0.3288    0.772 -0.426  0.670\n",
      "CUMP_QUADRATIC                           37.0108   29.696  1.246  0.213\n",
      "OBRIGAÇÃO_TOTAL_POR_SALA:CUMP_QUADRATIC   0.5683    0.823  0.690  0.490\n",
      "\n",
      "\n",
      "Reg_complex_days 1, FOREIGN, weighting function CUMP_QUADRATIC:\n",
      "                                            coef  std err      t  P>|t|\n",
      "OBRIGAÇÃO_TOTAL_POR_SALA                 -0.4326    0.773 -0.560  0.576\n",
      "CUMP_QUADRATIC                           34.4065   29.829  1.153  0.249\n",
      "OBRIGAÇÃO_TOTAL_POR_SALA:CUMP_QUADRATIC   0.6174    0.823  0.750  0.453\n",
      "\n",
      "\n",
      "Reg_complex_days 2, BRAZILIAN, weighting function CUMP_QUADRATIC:\n",
      "                                             coef  std err      t  P>|t|\n",
      "OBRIGAÇÃO_TOTAL_POR_SALA                  -3.1930    0.527 -6.058    0.0\n",
      "CUMP_QUADRATIC                          -119.4115   20.822 -5.735    0.0\n",
      "OBRIGAÇÃO_TOTAL_POR_SALA:CUMP_QUADRATIC    4.0929    0.564  7.256    0.0\n",
      "\n",
      "\n",
      "Reg_complex_days 3, ALL, weighting function CUMP_NORMALIZADO:\n",
      "                                              coef  std err      t  P>|t|\n",
      "OBRIGAÇÃO_TOTAL_POR_SALA                    0.5305    0.513  1.033  0.302\n",
      "CUMP_NORMALIZADO                           60.7747   25.235  2.408  0.016\n",
      "OBRIGAÇÃO_TOTAL_POR_SALA:CUMP_NORMALIZADO  -0.4160    0.614 -0.678  0.498\n",
      "\n",
      "\n",
      "Reg_complex_days 4, FOREIGN, weighting function CUMP_NORMALIZADO:\n",
      "                                              coef  std err      t  P>|t|\n",
      "OBRIGAÇÃO_TOTAL_POR_SALA                    0.4176    0.514  0.813  0.417\n",
      "CUMP_NORMALIZADO                           56.6683   25.295  2.240  0.025\n",
      "OBRIGAÇÃO_TOTAL_POR_SALA:CUMP_NORMALIZADO  -0.3443    0.613 -0.561  0.575\n",
      "\n",
      "\n",
      "Reg_complex_days 5, BRAZILIAN, weighting function CUMP_NORMALIZADO:\n",
      "                                              coef  std err      t  P>|t|\n",
      "OBRIGAÇÃO_TOTAL_POR_SALA                   -1.6936    0.346 -4.897    0.0\n",
      "CUMP_NORMALIZADO                          -72.2597   17.345 -4.166    0.0\n",
      "OBRIGAÇÃO_TOTAL_POR_SALA:CUMP_NORMALIZADO   2.6680    0.415  6.429    0.0\n",
      "\n",
      "\n",
      "Reg_complex_days 6, ALL, weighting function CUMP_LINEAR:\n",
      "                                         coef  std err      t  P>|t|\n",
      "OBRIGAÇÃO_TOTAL_POR_SALA              -2.4295    1.612 -1.507  0.132\n",
      "CUMP_LINEAR                          -39.8730  138.969 -0.287  0.774\n",
      "OBRIGAÇÃO_TOTAL_POR_SALA:CUMP_LINEAR   7.2275    4.160  1.737  0.083\n",
      "\n",
      "\n",
      "Reg_complex_days 7, FOREIGN, weighting function CUMP_LINEAR:\n",
      "                                         coef  std err      t  P>|t|\n",
      "OBRIGAÇÃO_TOTAL_POR_SALA              -2.3133    1.622 -1.426  0.154\n",
      "CUMP_LINEAR                          -15.1304  141.955 -0.107  0.915\n",
      "OBRIGAÇÃO_TOTAL_POR_SALA:CUMP_LINEAR   6.7213    4.187  1.605  0.109\n",
      "\n",
      "\n",
      "Reg_complex_days 8, BRAZILIAN, weighting function CUMP_LINEAR:\n",
      "                                          coef  std err      t  P>|t|\n",
      "OBRIGAÇÃO_TOTAL_POR_SALA               -7.9796    1.075 -7.421    0.0\n",
      "CUMP_LINEAR                          -669.0919   93.104 -7.186    0.0\n",
      "OBRIGAÇÃO_TOTAL_POR_SALA:CUMP_LINEAR   22.3692    2.774  8.064    0.0\n",
      "\n",
      "\n",
      "Reg_complex_days 9, ALL, weighting function CUMP_TRIWEIGHT:\n",
      "                                            coef  std err      t  P>|t|\n",
      "OBRIGAÇÃO_TOTAL_POR_SALA                  0.4876    0.454  1.073  0.283\n",
      "CUMP_TRIWEIGHT                           38.0792   21.657  1.758  0.079\n",
      "OBRIGAÇÃO_TOTAL_POR_SALA:CUMP_TRIWEIGHT  -0.1925    0.526 -0.366  0.714\n",
      "\n",
      "\n",
      "Reg_complex_days 10, FOREIGN, weighting function CUMP_TRIWEIGHT:\n",
      "                                            coef  std err      t  P>|t|\n",
      "OBRIGAÇÃO_TOTAL_POR_SALA                  0.3616    0.454  0.797  0.426\n",
      "CUMP_TRIWEIGHT                           33.7655   21.631  1.561  0.119\n",
      "OBRIGAÇÃO_TOTAL_POR_SALA:CUMP_TRIWEIGHT  -0.1118    0.524 -0.213  0.831\n",
      "\n",
      "\n",
      "Reg_complex_days 11, BRAZILIAN, weighting function CUMP_TRIWEIGHT:\n",
      "                                            coef  std err      t  P>|t|\n",
      "OBRIGAÇÃO_TOTAL_POR_SALA                 -1.3320    0.303 -4.397    0.0\n",
      "CUMP_TRIWEIGHT                          -57.3728   14.614 -3.926    0.0\n",
      "OBRIGAÇÃO_TOTAL_POR_SALA:CUMP_TRIWEIGHT   2.1857    0.351  6.224    0.0\n",
      "\n",
      "\n"
     ]
    }
   ],
   "source": [
    "works = ['ALL', 'FOREIGN', 'BRAZILIAN']\n",
    "\n",
    "for i in range(last_d_count, d_count):\n",
    "    print(f'Reg_complex_days {i}, {works[i%3]}, weighting function {weight_funcs[(i-last_d_count)//3]}:')\n",
    "    print(pd.read_html(complex_days[f'reg_cd{i}'].summary().\n",
    "                       tables[1].as_html(),header=0,index_col=0)[0].iloc[-3:,:-2])\n",
    "    print('\\n')"
   ]
  },
  {
   "cell_type": "markdown",
   "metadata": {},
   "source": [
    "#### 2017-2018"
   ]
  },
  {
   "cell_type": "code",
   "execution_count": 24,
   "metadata": {
    "ExecuteTime": {
     "end_time": "2021-06-16T23:38:54.929854Z",
     "start_time": "2021-06-16T23:38:39.782583Z"
    }
   },
   "outputs": [],
   "source": [
    "last_d_count = d_count # to get num range of regressions to be executed\n",
    "\n",
    "for f in weight_funcs:\n",
    "    # adjust formula as we run through the weighting funcs\n",
    "    formul = f'DIAS_FUNCIONAMENTO ~ OBRIGAÇÃO_TOTAL_POR_SALA*{f} + C(REGISTRO_COMPLEXO) + C(ANO_CINEMATOGRAFICO)'\n",
    "    complex_days[f'reg_cd{d_count}'] = smf.ols(formula = formul, data=tds_1718).fit()\n",
    "    d_count += 1\n",
    "    complex_days[f'reg_cd{d_count}'] = smf.ols(formula = formul, data=est_1718).fit()\n",
    "    d_count += 1\n",
    "    complex_days[f'reg_cd{d_count}'] = smf.ols(formula = formul, data=bras_1718).fit()\n",
    "    d_count += 1"
   ]
  },
  {
   "cell_type": "code",
   "execution_count": 26,
   "metadata": {
    "ExecuteTime": {
     "end_time": "2021-06-16T23:39:24.450107Z",
     "start_time": "2021-06-16T23:39:16.239235Z"
    }
   },
   "outputs": [
    {
     "name": "stdout",
     "output_type": "stream",
     "text": [
      "Reg_complex_days 12, ALL, weighting function CUMP_QUADRATIC:\n",
      "                                            coef  std err      t  P>|t|\n",
      "OBRIGAÇÃO_TOTAL_POR_SALA                  0.1607    2.455  0.065  0.948\n",
      "CUMP_QUADRATIC                           48.1702   41.535  1.160  0.247\n",
      "OBRIGAÇÃO_TOTAL_POR_SALA:CUMP_QUADRATIC   0.3867    1.157  0.334  0.738\n",
      "\n",
      "\n",
      "Reg_complex_days 13, FOREIGN, weighting function CUMP_QUADRATIC:\n",
      "                                            coef  std err      t  P>|t|\n",
      "OBRIGAÇÃO_TOTAL_POR_SALA                  0.1350    2.423  0.056  0.956\n",
      "CUMP_QUADRATIC                           49.8296   40.988  1.216  0.224\n",
      "OBRIGAÇÃO_TOTAL_POR_SALA:CUMP_QUADRATIC   0.3346    1.142  0.293  0.770\n",
      "\n",
      "\n",
      "Reg_complex_days 14, BRAZILIAN, weighting function CUMP_QUADRATIC:\n",
      "                                             coef  std err      t  P>|t|\n",
      "OBRIGAÇÃO_TOTAL_POR_SALA                   2.5337    1.457  1.739  0.082\n",
      "CUMP_QUADRATIC                          -133.0333   26.417 -5.036  0.000\n",
      "OBRIGAÇÃO_TOTAL_POR_SALA:CUMP_QUADRATIC    4.4545    0.717  6.217  0.000\n",
      "\n",
      "\n",
      "Reg_complex_days 15, ALL, weighting function CUMP_NORMALIZADO:\n",
      "                                              coef  std err      t  P>|t|\n",
      "OBRIGAÇÃO_TOTAL_POR_SALA                    0.9459    2.408  0.393  0.695\n",
      "CUMP_NORMALIZADO                           73.0414   36.096  2.024  0.043\n",
      "OBRIGAÇÃO_TOTAL_POR_SALA:CUMP_NORMALIZADO  -0.6871    0.913 -0.752  0.452\n",
      "\n",
      "\n",
      "Reg_complex_days 16, FOREIGN, weighting function CUMP_NORMALIZADO:\n",
      "                                              coef  std err      t  P>|t|\n",
      "OBRIGAÇÃO_TOTAL_POR_SALA                    0.9096    2.378  0.382  0.702\n",
      "CUMP_NORMALIZADO                           72.5793   35.650  2.036  0.042\n",
      "OBRIGAÇÃO_TOTAL_POR_SALA:CUMP_NORMALIZADO  -0.7020    0.902 -0.778  0.437\n",
      "\n",
      "\n",
      "Reg_complex_days 17, BRAZILIAN, weighting function CUMP_NORMALIZADO:\n",
      "                                              coef  std err      t  P>|t|\n",
      "OBRIGAÇÃO_TOTAL_POR_SALA                    3.9436    1.415  2.786  0.005\n",
      "CUMP_NORMALIZADO                          -75.2575   22.200 -3.390  0.001\n",
      "OBRIGAÇÃO_TOTAL_POR_SALA:CUMP_NORMALIZADO   2.7479    0.553  4.970  0.000\n",
      "\n",
      "\n",
      "Reg_complex_days 18, ALL, weighting function CUMP_LINEAR:\n",
      "                                          coef  std err      t  P>|t|\n",
      "OBRIGAÇÃO_TOTAL_POR_SALA               -0.8075    3.065 -0.263  0.792\n",
      "CUMP_LINEAR                           100.2095  199.656  0.502  0.616\n",
      "OBRIGAÇÃO_TOTAL_POR_SALA:CUMP_LINEAR    4.6467    5.867  0.792  0.429\n",
      "\n",
      "\n",
      "Reg_complex_days 19, FOREIGN, weighting function CUMP_LINEAR:\n",
      "                                          coef  std err      t  P>|t|\n",
      "OBRIGAÇÃO_TOTAL_POR_SALA               -0.4876    3.018 -0.162  0.872\n",
      "CUMP_LINEAR                           157.3402  196.551  0.801  0.424\n",
      "OBRIGAÇÃO_TOTAL_POR_SALA:CUMP_LINEAR    3.3785    5.775  0.585  0.559\n",
      "\n",
      "\n",
      "Reg_complex_days 20, BRAZILIAN, weighting function CUMP_LINEAR:\n",
      "                                          coef  std err      t  P>|t|\n",
      "OBRIGAÇÃO_TOTAL_POR_SALA               -2.6896    1.818 -1.480  0.139\n",
      "CUMP_LINEAR                          -748.4436  120.644 -6.204  0.000\n",
      "OBRIGAÇÃO_TOTAL_POR_SALA:CUMP_LINEAR   24.2795    3.510  6.917  0.000\n",
      "\n",
      "\n",
      "Reg_complex_days 21, ALL, weighting function CUMP_TRIWEIGHT:\n",
      "                                            coef  std err      t  P>|t|\n",
      "OBRIGAÇÃO_TOTAL_POR_SALA                  1.0536    2.404  0.438  0.661\n",
      "CUMP_TRIWEIGHT                           42.6915   30.564  1.397  0.163\n",
      "OBRIGAÇÃO_TOTAL_POR_SALA:CUMP_TRIWEIGHT  -0.3109    0.775 -0.401  0.688\n",
      "\n",
      "\n",
      "Reg_complex_days 22, FOREIGN, weighting function CUMP_TRIWEIGHT:\n",
      "                                            coef  std err      t  P>|t|\n",
      "OBRIGAÇÃO_TOTAL_POR_SALA                  1.0022    2.374  0.422  0.673\n",
      "CUMP_TRIWEIGHT                           40.9095   30.190  1.355  0.176\n",
      "OBRIGAÇÃO_TOTAL_POR_SALA:CUMP_TRIWEIGHT  -0.2882    0.765 -0.377  0.707\n",
      "\n",
      "\n",
      "Reg_complex_days 23, BRAZILIAN, weighting function CUMP_TRIWEIGHT:\n",
      "                                            coef  std err      t  P>|t|\n",
      "OBRIGAÇÃO_TOTAL_POR_SALA                  4.4319    1.397  3.171  0.002\n",
      "CUMP_TRIWEIGHT                          -62.6033   18.340 -3.414  0.001\n",
      "OBRIGAÇÃO_TOTAL_POR_SALA:CUMP_TRIWEIGHT   2.3374    0.460  5.080  0.000\n",
      "\n",
      "\n"
     ]
    }
   ],
   "source": [
    "works = ['ALL', 'FOREIGN', 'BRAZILIAN']\n",
    "\n",
    "for i in range(last_d_count, d_count):\n",
    "    print(f'Reg_complex_days {i}, {works[i%3]}, weighting function {weight_funcs[(i-last_d_count)//3]}:')\n",
    "    print(pd.read_html(complex_days[f'reg_cd{i}'].summary().\n",
    "                       tables[1].as_html(),header=0,index_col=0)[0].iloc[-3:,:-2])\n",
    "    print('\\n')"
   ]
  },
  {
   "cell_type": "markdown",
   "metadata": {},
   "source": [
    "# Chain/year regressions"
   ]
  },
  {
   "cell_type": "markdown",
   "metadata": {},
   "source": [
    "## Import and adjust"
   ]
  },
  {
   "cell_type": "code",
   "execution_count": 27,
   "metadata": {
    "ExecuteTime": {
     "end_time": "2021-06-16T23:41:54.789941Z",
     "start_time": "2021-06-16T23:41:54.694743Z"
    }
   },
   "outputs": [],
   "source": [
    "# import\n",
    "gtds_1719 = pd.read_csv('SCB_Grupo x Ano - 2017 a 2019 - mesclado fiscalização.csv')\n",
    "gest_1719 = pd.read_csv('SCB_Grupo x Ano (receita estrangeiros) - 2017 a 2019 - mesclado fiscalização.csv')\n",
    "gbras_1719 = pd.read_csv('SCB_Grupo x Ano (receita brasileiros) - 2017 a 2019 - mesclado fiscalização.csv')"
   ]
  },
  {
   "cell_type": "code",
   "execution_count": 28,
   "metadata": {
    "ExecuteTime": {
     "end_time": "2021-06-16T23:42:00.917330Z",
     "start_time": "2021-06-16T23:42:00.892526Z"
    }
   },
   "outputs": [
    {
     "data": {
      "text/plain": [
       "240"
      ]
     },
     "execution_count": 28,
     "metadata": {},
     "output_type": "execute_result"
    }
   ],
   "source": [
    "gtds_1719.REGISTRO_GRUPO.nunique()"
   ]
  },
  {
   "cell_type": "code",
   "execution_count": 29,
   "metadata": {
    "ExecuteTime": {
     "end_time": "2021-06-16T23:42:01.497750Z",
     "start_time": "2021-06-16T23:42:01.483802Z"
    }
   },
   "outputs": [
    {
     "data": {
      "text/plain": [
       "Index(['ANO_CINEMATOGRAFICO', 'QTDE_TIT_DIF_EXIB', 'PUBLICO', 'RENDA',\n",
       "       'DATA_HORA_SESSAO', 'DIAS_FUNCIONAMENTO', 'REG_EMPRESA',\n",
       "       'REGISTRO_COMPLEXO', 'REGISTRO_SALA', 'GRUPO_EXIBIDOR',\n",
       "       'SALAS_GRUPO_INFERIDO', 'ASSENTOS_GRUPO_INFERIDO',\n",
       "       'OBRIGAÇÃO_TOTAL_POR_SALA', 'OBRIGAÇÃO_TOTAL_INCREMENTO_POR_SALA',\n",
       "       'OBRIGAÇÃO_PROP_POR_SALA', 'OBRIGAÇÃO_PROP_INCREMENTO_POR_SALA',\n",
       "       'OBRIGAÇÃO_FINAL_POR_SALA', 'CUMP_QUADRATIC', 'CUMP_NORMALIZADO',\n",
       "       'TRANSF_ORIGEM', 'TRANSF_RECEBIDOS', 'CUMPRIMENTO_PROPORCIONAL',\n",
       "       'CUMP_LINEAR', 'CUMP_TRIWEIGHT', 'REGISTRO_GRUPO'],\n",
       "      dtype='object')"
      ]
     },
     "execution_count": 29,
     "metadata": {},
     "output_type": "execute_result"
    }
   ],
   "source": [
    "gtds_1719.columns"
   ]
  },
  {
   "cell_type": "code",
   "execution_count": 30,
   "metadata": {
    "ExecuteTime": {
     "end_time": "2021-06-16T23:42:02.175474Z",
     "start_time": "2021-06-16T23:42:02.163205Z"
    }
   },
   "outputs": [],
   "source": [
    "gtds_1719.columns = ['ANO_CINEMATOGRAFICO', 'QTDE_TIT_DIF_EXIB', 'PUBLICO', 'RENDA',\n",
    "       'DATA_HORA_SESSAO', 'DIAS_FUNCIONAMENTO', 'REG_EMPRESA',\n",
    "       'REGISTRO_COMPLEXO', 'REGISTRO_SALA', 'GRUPO_EXIBIDOR',\n",
    "       'SALAS_GRUPO_INFERIDO', 'ASSENTOS_GRUPO_INFERIDO',\n",
    "       'OBRIGAÇÃO_TOTAL_POR_SALA', 'OBRIGAÇÃO_TOTAL_INCREMENTO_POR_SALA',\n",
    "       'OBRIGAÇÃO_PROP_POR_SALA', 'OBRIGAÇÃO_PROP_INCREMENTO_POR_SALA',\n",
    "       'OBRIGAÇÃO_FINAL_POR_SALA', 'CUMP_QUADRATIC',\n",
    "       'CUMP_NORMALIZADO', 'TRANSF_ORIGEM', 'TRANSF_RECEBIDOS',\n",
    "       'CUMPRIMENTO_PROPORCIONAL', 'CUMP_LINEAR',\n",
    "       'CUMP_TRIWEIGHT', 'REGISTRO_GRUPO']\n",
    "\n",
    "gest_1719.columns = gtds_1719.columns\n",
    "gbras_1719.columns = gtds_1719.columns"
   ]
  },
  {
   "cell_type": "code",
   "execution_count": 31,
   "metadata": {
    "ExecuteTime": {
     "end_time": "2021-06-16T23:42:06.475614Z",
     "start_time": "2021-06-16T23:42:06.458803Z"
    }
   },
   "outputs": [],
   "source": [
    "# getting panels without 2019\n",
    "gtds_1718 = gtds_1719[gtds_1719.ANO_CINEMATOGRAFICO != 2019]\n",
    "gest_1718 = gest_1719[gest_1719.ANO_CINEMATOGRAFICO != 2019]\n",
    "gbras_1718 = gbras_1719[gbras_1719.ANO_CINEMATOGRAFICO != 2019]"
   ]
  },
  {
   "cell_type": "code",
   "execution_count": 28,
   "metadata": {
    "ExecuteTime": {
     "end_time": "2021-06-15T21:27:35.101248Z",
     "start_time": "2021-06-15T21:27:35.000473Z"
    }
   },
   "outputs": [],
   "source": [
    "# export for R\n",
    "gtds_1719.to_csv('SCB_Grupo x Ano - 2017 a 2019 - mesclado fiscalização.csv',index=False)\n",
    "gest_1719.to_csv('SCB_Grupo x Ano (receita estrangeiros) - 2017 a 2019 - mesclado fiscalização.csv',index=False)\n",
    "gbras_1719.to_csv('SCB_Grupo x Ano (receita brasileiros) - 2017 a 2019 - mesclado fiscalização.csv',index=False)\n",
    "\n",
    "gtds_1718.to_csv('SCB_Grupo x Ano - 2017 a 2018 - mesclado fiscalização.csv',index=False)\n",
    "gest_1718.to_csv('SCB_Grupo x Ano (receita estrangeiros) - 2017 a 2018 - mesclado fiscalização.csv',index=False)\n",
    "gbras_1718.to_csv('SCB_Grupo x Ano (receita brasileiros) - 2017 a 2018 - mesclado fiscalização.csv',index=False)"
   ]
  },
  {
   "cell_type": "markdown",
   "metadata": {
    "heading_collapsed": true
   },
   "source": [
    "## Naïve regressions"
   ]
  },
  {
   "cell_type": "markdown",
   "metadata": {
    "hidden": true
   },
   "source": [
    "Define movie-theater chain $i$ in year $t$ and title \"nationality\" (meaning all, foreign or Brazilian movie sessions) and nominal screen quota obligation $SQ$:\n",
    "\n",
    "$$ \\ln(Y_{nit}) = \\beta_0 + \\beta_1 SQ_{it} + \\theta X_{it} + \\varepsilon_{it} $$\n",
    "\n",
    "$Y$ is the interest variable that can be either Yearly Income or total public (# of moviegoers). $X_{it}$ is a vector of controls with opening days, movie theater fixed-effects and year fixed-effects. Alternatively, we also drop entity fixed-effects and use number of viewing rooms and seats per movie-theater as controls."
   ]
  },
  {
   "cell_type": "code",
   "execution_count": 17,
   "metadata": {
    "ExecuteTime": {
     "end_time": "2021-06-10T19:24:55.181557Z",
     "start_time": "2021-06-10T19:24:55.164433Z"
    },
    "hidden": true
   },
   "outputs": [],
   "source": [
    "group_naive = {}\n",
    "\n",
    "g_count = 0"
   ]
  },
  {
   "cell_type": "markdown",
   "metadata": {
    "hidden": true
   },
   "source": [
    "### Dependent variable: income"
   ]
  },
  {
   "cell_type": "markdown",
   "metadata": {
    "hidden": true
   },
   "source": [
    "#### With entity fixed-effects"
   ]
  },
  {
   "cell_type": "markdown",
   "metadata": {
    "hidden": true
   },
   "source": [
    "##### 2017-2019"
   ]
  },
  {
   "cell_type": "code",
   "execution_count": 18,
   "metadata": {
    "ExecuteTime": {
     "end_time": "2021-06-10T19:24:57.216879Z",
     "start_time": "2021-06-10T19:24:57.013489Z"
    },
    "hidden": true
   },
   "outputs": [],
   "source": [
    "formul = 'np.log(RENDA) ~ OBRIGAÇÃO_TOTAL_POR_SALA + DIAS_FUNCIONAMENTO + C(REGISTRO_GRUPO) + C(ANO_CINEMATOGRAFICO)'\n",
    "\n",
    "last_g_count = g_count\n",
    "\n",
    "group_naive[f'reg_gn{g_count}'] = smf.ols(formula = formul, data=gtds_1719).fit()\n",
    "g_count += 1\n",
    "\n",
    "group_naive[f'reg_gn{g_count}'] = smf.ols(formula = formul, data=gest_1719).fit()\n",
    "g_count += 1\n",
    "\n",
    "group_naive[f'reg_gn{g_count}'] = smf.ols(formula = formul, data=gbras_1719).fit()\n",
    "g_count += 1"
   ]
  },
  {
   "cell_type": "code",
   "execution_count": 19,
   "metadata": {
    "ExecuteTime": {
     "end_time": "2021-06-10T19:25:00.078463Z",
     "start_time": "2021-06-10T19:24:59.640831Z"
    },
    "hidden": true
   },
   "outputs": [
    {
     "name": "stdout",
     "output_type": "stream",
     "text": [
      "Reg_group 0, ALL:\n",
      "                            coef  std err      t  P>|t|\n",
      "OBRIGAÇÃO_TOTAL_POR_SALA  0.0088    0.004  1.968   0.05\n",
      "DIAS_FUNCIONAMENTO        0.0011    0.000  7.144   0.00\n",
      "\n",
      "\n",
      "Reg_group 1, FOREIGN:\n",
      "                            coef  std err      t  P>|t|\n",
      "OBRIGAÇÃO_TOTAL_POR_SALA  0.0100    0.005  2.204  0.028\n",
      "DIAS_FUNCIONAMENTO        0.0011    0.000  6.872  0.000\n",
      "\n",
      "\n",
      "Reg_group 2, BRAZILIAN:\n",
      "                            coef  std err      t  P>|t|\n",
      "OBRIGAÇÃO_TOTAL_POR_SALA  0.0083    0.006  1.322  0.187\n",
      "DIAS_FUNCIONAMENTO        0.0007    0.000  3.168  0.002\n",
      "\n",
      "\n"
     ]
    }
   ],
   "source": [
    "works = ['ALL', 'FOREIGN', 'BRAZILIAN']\n",
    "\n",
    "for i in range(last_g_count, g_count):\n",
    "    print(f'Reg_group {i}, {works[i%3]}:')\n",
    "    print(pd.read_html(group_naive[f'reg_gn{i}'].summary().\n",
    "                       tables[1].as_html(),header=0,index_col=0)[0].iloc[-2:,:-2])\n",
    "    print('\\n')"
   ]
  },
  {
   "cell_type": "markdown",
   "metadata": {
    "hidden": true
   },
   "source": [
    "##### 2017-2018"
   ]
  },
  {
   "cell_type": "code",
   "execution_count": 20,
   "metadata": {
    "ExecuteTime": {
     "end_time": "2021-06-10T19:26:26.284801Z",
     "start_time": "2021-06-10T19:26:26.121639Z"
    },
    "hidden": true
   },
   "outputs": [],
   "source": [
    "formul = 'np.log(RENDA) ~ OBRIGAÇÃO_TOTAL_POR_SALA + DIAS_FUNCIONAMENTO + C(REGISTRO_GRUPO) + C(ANO_CINEMATOGRAFICO)'\n",
    "\n",
    "last_g_count = g_count\n",
    "\n",
    "group_naive[f'reg_gn{g_count}'] = smf.ols(formula = formul, data=gtds_1718).fit()\n",
    "g_count += 1\n",
    "\n",
    "group_naive[f'reg_gn{g_count}'] = smf.ols(formula = formul, data=gest_1718).fit()\n",
    "g_count += 1\n",
    "\n",
    "group_naive[f'reg_gn{g_count}'] = smf.ols(formula = formul, data=gbras_1718).fit()\n",
    "g_count += 1"
   ]
  },
  {
   "cell_type": "code",
   "execution_count": 21,
   "metadata": {
    "ExecuteTime": {
     "end_time": "2021-06-10T19:27:46.442900Z",
     "start_time": "2021-06-10T19:27:46.377458Z"
    },
    "hidden": true
   },
   "outputs": [
    {
     "name": "stdout",
     "output_type": "stream",
     "text": [
      "Reg_group 3, ALL:\n",
      "                            coef  std err      t  P>|t|\n",
      "OBRIGAÇÃO_TOTAL_POR_SALA -0.0391    0.043 -0.901  0.369\n",
      "DIAS_FUNCIONAMENTO        0.0013    0.000  5.127  0.000\n",
      "\n",
      "\n",
      "Reg_group 4, FOREIGN:\n",
      "                            coef  std err      t  P>|t|\n",
      "OBRIGAÇÃO_TOTAL_POR_SALA -0.0394    0.045 -0.881  0.379\n",
      "DIAS_FUNCIONAMENTO        0.0013    0.000  4.676  0.000\n",
      "\n",
      "\n",
      "Reg_group 5, BRAZILIAN:\n",
      "                            coef  std err      t  P>|t|\n",
      "OBRIGAÇÃO_TOTAL_POR_SALA  0.0402    0.065  0.621  0.535\n",
      "DIAS_FUNCIONAMENTO        0.0007    0.000  1.850  0.066\n",
      "\n",
      "\n"
     ]
    }
   ],
   "source": [
    "works = ['ALL', 'FOREIGN', 'BRAZILIAN']\n",
    "\n",
    "for i in range(last_g_count, g_count):\n",
    "    print(f'Reg_group {i}, {works[i%3]}:')\n",
    "    print(pd.read_html(group_naive[f'reg_gn{i}'].summary().\n",
    "                       tables[1].as_html(),header=0,index_col=0)[0].iloc[-2:,:-2])\n",
    "    print('\\n')"
   ]
  },
  {
   "cell_type": "markdown",
   "metadata": {
    "hidden": true
   },
   "source": [
    "#### Without entity fixed-effects"
   ]
  },
  {
   "cell_type": "markdown",
   "metadata": {
    "hidden": true
   },
   "source": [
    "##### 2017-2019"
   ]
  },
  {
   "cell_type": "code",
   "execution_count": 22,
   "metadata": {
    "ExecuteTime": {
     "end_time": "2021-06-10T19:26:50.402758Z",
     "start_time": "2021-06-10T19:26:50.323434Z"
    },
    "hidden": true
   },
   "outputs": [],
   "source": [
    "formul = 'np.log(RENDA) ~ OBRIGAÇÃO_FINAL_POR_SALA + DIAS_FUNCIONAMENTO + SALAS_GRUPO_INFERIDO + ASSENTOS_GRUPO_INFERIDO + C(ANO_CINEMATOGRAFICO)'\n",
    "last_g_count = g_count\n",
    "\n",
    "group_naive[f'reg_gn{g_count}'] = smf.ols(formula = formul, data=gtds_1719).fit()\n",
    "g_count += 1\n",
    "\n",
    "group_naive[f'reg_gn{g_count}'] = smf.ols(formula = formul, data=gest_1719).fit()\n",
    "g_count += 1\n",
    "\n",
    "group_naive[f'reg_gn{g_count}'] = smf.ols(formula = formul, data=gbras_1719).fit()\n",
    "g_count += 1"
   ]
  },
  {
   "cell_type": "code",
   "execution_count": 24,
   "metadata": {
    "ExecuteTime": {
     "end_time": "2021-06-10T19:27:46.442900Z",
     "start_time": "2021-06-10T19:27:46.377458Z"
    },
    "hidden": true
   },
   "outputs": [
    {
     "name": "stdout",
     "output_type": "stream",
     "text": [
      "Reg_group 6, ALL:\n",
      "                            coef   std err       t  P>|t|\n",
      "OBRIGAÇÃO_FINAL_POR_SALA  0.0940  0.006000  16.470  0.000\n",
      "DIAS_FUNCIONAMENTO        0.0009  0.000085  10.364  0.000\n",
      "SALAS_GRUPO_INFERIDO      0.0439  0.015000   2.921  0.004\n",
      "ASSENTOS_GRUPO_INFERIDO  -0.0003  0.000061  -5.370  0.000\n",
      "\n",
      "\n",
      "Reg_group 7, FOREIGN:\n",
      "                            coef   std err       t  P>|t|\n",
      "OBRIGAÇÃO_FINAL_POR_SALA  0.0959  0.006000  15.873  0.000\n",
      "DIAS_FUNCIONAMENTO        0.0009  0.000089   9.866  0.000\n",
      "SALAS_GRUPO_INFERIDO      0.0430  0.016000   2.716  0.007\n",
      "ASSENTOS_GRUPO_INFERIDO  -0.0003  0.000064  -5.045  0.000\n",
      "\n",
      "\n",
      "Reg_group 8, BRAZILIAN:\n",
      "                            coef   std err       t  P>|t|\n",
      "OBRIGAÇÃO_FINAL_POR_SALA  0.0949  0.006000  15.751    0.0\n",
      "DIAS_FUNCIONAMENTO        0.0008  0.000084   9.411    0.0\n",
      "SALAS_GRUPO_INFERIDO      0.0636  0.015000   4.272    0.0\n",
      "ASSENTOS_GRUPO_INFERIDO  -0.0004  0.000061  -6.551    0.0\n",
      "\n",
      "\n"
     ]
    }
   ],
   "source": [
    "works = ['ALL', 'FOREIGN', 'BRAZILIAN']\n",
    "\n",
    "for i in range(last_g_count, g_count):\n",
    "    print(f'Reg_group {i}, {works[i%3]}:')\n",
    "    print(pd.read_html(group_naive[f'reg_gn{i}'].summary().\n",
    "                       tables[1].as_html(),header=0,index_col=0)[0].iloc[-4:,:-2])\n",
    "    print('\\n')"
   ]
  },
  {
   "cell_type": "markdown",
   "metadata": {
    "hidden": true
   },
   "source": [
    "##### 2017-2018"
   ]
  },
  {
   "cell_type": "code",
   "execution_count": 25,
   "metadata": {
    "ExecuteTime": {
     "end_time": "2021-06-10T19:27:43.719283Z",
     "start_time": "2021-06-10T19:27:43.647801Z"
    },
    "hidden": true
   },
   "outputs": [],
   "source": [
    "formul = 'np.log(RENDA) ~ OBRIGAÇÃO_FINAL_POR_SALA + DIAS_FUNCIONAMENTO + SALAS_GRUPO_INFERIDO + ASSENTOS_GRUPO_INFERIDO + C(ANO_CINEMATOGRAFICO)'\n",
    "\n",
    "last_g_count = g_count\n",
    "\n",
    "group_naive[f'reg_gn{g_count}'] = smf.ols(formula = formul, data=gtds_1718).fit()\n",
    "g_count += 1\n",
    "\n",
    "group_naive[f'reg_gn{g_count}'] = smf.ols(formula = formul, data=gest_1718).fit()\n",
    "g_count += 1\n",
    "\n",
    "group_naive[f'reg_gn{g_count}'] = smf.ols(formula = formul, data=gbras_1718).fit()\n",
    "g_count += 1"
   ]
  },
  {
   "cell_type": "code",
   "execution_count": 26,
   "metadata": {
    "ExecuteTime": {
     "end_time": "2021-06-10T19:27:46.442900Z",
     "start_time": "2021-06-10T19:27:46.377458Z"
    },
    "hidden": true,
    "scrolled": true
   },
   "outputs": [
    {
     "name": "stdout",
     "output_type": "stream",
     "text": [
      "Reg_group 9, ALL:\n",
      "                            coef   std err       t  P>|t|\n",
      "OBRIGAÇÃO_FINAL_POR_SALA  0.1011  0.005000  18.662  0.000\n",
      "DIAS_FUNCIONAMENTO        0.0008  0.000095   8.632  0.000\n",
      "SALAS_GRUPO_INFERIDO      0.0201  0.018000   1.108  0.269\n",
      "ASSENTOS_GRUPO_INFERIDO  -0.0002  0.000073  -2.993  0.003\n",
      "\n",
      "\n",
      "Reg_group 10, FOREIGN:\n",
      "                            coef  std err       t  P>|t|\n",
      "OBRIGAÇÃO_FINAL_POR_SALA  0.1030  0.00600  17.457  0.000\n",
      "DIAS_FUNCIONAMENTO        0.0008  0.00000   8.078  0.000\n",
      "SALAS_GRUPO_INFERIDO      0.0183  0.02000   0.934  0.351\n",
      "ASSENTOS_GRUPO_INFERIDO  -0.0002  0.00008  -2.696  0.007\n",
      "\n",
      "\n",
      "Reg_group 11, BRAZILIAN:\n",
      "                            coef   std err       t  P>|t|\n",
      "OBRIGAÇÃO_FINAL_POR_SALA  0.1018  0.006000  17.734   0.00\n",
      "DIAS_FUNCIONAMENTO        0.0008  0.000095   8.001   0.00\n",
      "SALAS_GRUPO_INFERIDO      0.0393  0.018000   2.179   0.03\n",
      "ASSENTOS_GRUPO_INFERIDO  -0.0003  0.000073  -3.971   0.00\n",
      "\n",
      "\n"
     ]
    }
   ],
   "source": [
    "works = ['ALL', 'FOREIGN', 'BRAZILIAN']\n",
    "\n",
    "for i in range(last_g_count, g_count):\n",
    "    print(f'Reg_group {i}, {works[i%3]}:')\n",
    "    print(pd.read_html(group_naive[f'reg_gn{i}'].summary().\n",
    "                       tables[1].as_html(),header=0,index_col=0)[0].iloc[-4:,:-2])\n",
    "    print('\\n')"
   ]
  },
  {
   "cell_type": "markdown",
   "metadata": {
    "hidden": true
   },
   "source": [
    "### Dependent variable: public (moviegoers)"
   ]
  },
  {
   "cell_type": "markdown",
   "metadata": {
    "hidden": true
   },
   "source": [
    "#### With entity fixed-effects"
   ]
  },
  {
   "cell_type": "markdown",
   "metadata": {
    "hidden": true
   },
   "source": [
    "##### 2017-2019"
   ]
  },
  {
   "cell_type": "code",
   "execution_count": 27,
   "metadata": {
    "ExecuteTime": {
     "end_time": "2021-06-10T19:30:25.407624Z",
     "start_time": "2021-06-10T19:30:25.231902Z"
    },
    "hidden": true
   },
   "outputs": [],
   "source": [
    "formul = 'np.log(PUBLICO) ~ OBRIGAÇÃO_TOTAL_POR_SALA + DIAS_FUNCIONAMENTO + C(REGISTRO_GRUPO) + C(ANO_CINEMATOGRAFICO)'\n",
    "\n",
    "last_g_count = g_count\n",
    "\n",
    "group_naive[f'reg_gn{g_count}'] = smf.ols(formula = formul, data=gtds_1719).fit()\n",
    "g_count += 1\n",
    "\n",
    "group_naive[f'reg_gn{g_count}'] = smf.ols(formula = formul, data=gest_1719).fit()\n",
    "g_count += 1\n",
    "\n",
    "group_naive[f'reg_gn{g_count}'] = smf.ols(formula = formul, data=gbras_1719).fit()\n",
    "g_count += 1"
   ]
  },
  {
   "cell_type": "code",
   "execution_count": 28,
   "metadata": {
    "ExecuteTime": {
     "end_time": "2021-06-10T19:30:26.311278Z",
     "start_time": "2021-06-10T19:30:25.891293Z"
    },
    "hidden": true
   },
   "outputs": [
    {
     "name": "stdout",
     "output_type": "stream",
     "text": [
      "Reg_group 12, ALL:\n",
      "                            coef  std err      t  P>|t|\n",
      "OBRIGAÇÃO_TOTAL_POR_SALA  0.0097    0.004  2.244  0.025\n",
      "DIAS_FUNCIONAMENTO        0.0011    0.000  7.352  0.000\n",
      "\n",
      "\n",
      "Reg_group 13, FOREIGN:\n",
      "                            coef  std err      t  P>|t|\n",
      "OBRIGAÇÃO_TOTAL_POR_SALA  0.0106    0.004  2.391  0.017\n",
      "DIAS_FUNCIONAMENTO        0.0010    0.000  6.953  0.000\n",
      "\n",
      "\n",
      "Reg_group 14, BRAZILIAN:\n",
      "                            coef  std err      t  P>|t|\n",
      "OBRIGAÇÃO_TOTAL_POR_SALA  0.0105    0.006  1.761  0.079\n",
      "DIAS_FUNCIONAMENTO        0.0007    0.000  3.394  0.001\n",
      "\n",
      "\n"
     ]
    }
   ],
   "source": [
    "works = ['ALL', 'FOREIGN', 'BRAZILIAN']\n",
    "\n",
    "for i in range(last_g_count, g_count):\n",
    "    print(f'Reg_group {i}, {works[i%3]}:')\n",
    "    print(pd.read_html(group_naive[f'reg_gn{i}'].summary().\n",
    "                       tables[1].as_html(),header=0,index_col=0)[0].iloc[-2:,:-2])\n",
    "    print('\\n')"
   ]
  },
  {
   "cell_type": "markdown",
   "metadata": {
    "hidden": true
   },
   "source": [
    "##### 2017-2018"
   ]
  },
  {
   "cell_type": "code",
   "execution_count": 29,
   "metadata": {
    "ExecuteTime": {
     "end_time": "2021-06-10T19:30:31.571473Z",
     "start_time": "2021-06-10T19:30:31.411394Z"
    },
    "hidden": true
   },
   "outputs": [],
   "source": [
    "formul = 'np.log(PUBLICO) ~ OBRIGAÇÃO_TOTAL_POR_SALA + DIAS_FUNCIONAMENTO + C(REGISTRO_GRUPO) + C(ANO_CINEMATOGRAFICO)'\n",
    "\n",
    "last_g_count = g_count\n",
    "\n",
    "group_naive[f'reg_gn{g_count}'] = smf.ols(formula = formul, data=gtds_1718).fit()\n",
    "g_count += 1\n",
    "\n",
    "group_naive[f'reg_gn{g_count}'] = smf.ols(formula = formul, data=gest_1718).fit()\n",
    "g_count += 1\n",
    "\n",
    "group_naive[f'reg_gn{g_count}'] = smf.ols(formula = formul, data=gbras_1718).fit()\n",
    "g_count += 1"
   ]
  },
  {
   "cell_type": "code",
   "execution_count": 30,
   "metadata": {
    "ExecuteTime": {
     "end_time": "2021-06-10T19:30:32.709666Z",
     "start_time": "2021-06-10T19:30:32.258515Z"
    },
    "hidden": true
   },
   "outputs": [
    {
     "name": "stdout",
     "output_type": "stream",
     "text": [
      "Reg_group 15, ALL:\n",
      "                            coef  std err      t  P>|t|\n",
      "OBRIGAÇÃO_TOTAL_POR_SALA -0.0431    0.041 -1.046  0.297\n",
      "DIAS_FUNCIONAMENTO        0.0013    0.000  5.426  0.000\n",
      "\n",
      "\n",
      "Reg_group 16, FOREIGN:\n",
      "                            coef  std err      t  P>|t|\n",
      "OBRIGAÇÃO_TOTAL_POR_SALA -0.0436    0.043 -1.012  0.313\n",
      "DIAS_FUNCIONAMENTO        0.0012    0.000  4.803  0.000\n",
      "\n",
      "\n",
      "Reg_group 17, BRAZILIAN:\n",
      "                            coef  std err      t  P>|t|\n",
      "OBRIGAÇÃO_TOTAL_POR_SALA  0.0387     0.06  0.643  0.521\n",
      "DIAS_FUNCIONAMENTO        0.0008     0.00  2.083  0.039\n",
      "\n",
      "\n"
     ]
    }
   ],
   "source": [
    "works = ['ALL', 'FOREIGN', 'BRAZILIAN']\n",
    "\n",
    "for i in range(last_g_count, g_count):\n",
    "    print(f'Reg_group {i}, {works[i%3]}:')\n",
    "    print(pd.read_html(group_naive[f'reg_gn{i}'].summary().\n",
    "                       tables[1].as_html(),header=0,index_col=0)[0].iloc[-2:,:-2])\n",
    "    print('\\n')"
   ]
  },
  {
   "cell_type": "markdown",
   "metadata": {
    "hidden": true
   },
   "source": [
    "#### Without entity fixed-effects"
   ]
  },
  {
   "cell_type": "markdown",
   "metadata": {
    "hidden": true
   },
   "source": [
    "##### 2017-2019"
   ]
  },
  {
   "cell_type": "code",
   "execution_count": 31,
   "metadata": {
    "ExecuteTime": {
     "end_time": "2021-06-10T19:30:36.338200Z",
     "start_time": "2021-06-10T19:30:36.257722Z"
    },
    "hidden": true
   },
   "outputs": [],
   "source": [
    "formul = 'np.log(PUBLICO) ~ OBRIGAÇÃO_FINAL_POR_SALA + DIAS_FUNCIONAMENTO + SALAS_GRUPO_INFERIDO + ASSENTOS_GRUPO_INFERIDO + C(ANO_CINEMATOGRAFICO)'\n",
    "last_g_count = g_count\n",
    "\n",
    "group_naive[f'reg_gn{g_count}'] = smf.ols(formula = formul, data=gtds_1719).fit()\n",
    "g_count += 1\n",
    "\n",
    "group_naive[f'reg_gn{g_count}'] = smf.ols(formula = formul, data=gest_1719).fit()\n",
    "g_count += 1\n",
    "\n",
    "group_naive[f'reg_gn{g_count}'] = smf.ols(formula = formul, data=gbras_1719).fit()\n",
    "g_count += 1"
   ]
  },
  {
   "cell_type": "code",
   "execution_count": 32,
   "metadata": {
    "ExecuteTime": {
     "end_time": "2021-06-10T19:30:37.244583Z",
     "start_time": "2021-06-10T19:30:37.164386Z"
    },
    "hidden": true
   },
   "outputs": [
    {
     "name": "stdout",
     "output_type": "stream",
     "text": [
      "Reg_group 18, ALL:\n",
      "                            coef   std err       t  P>|t|\n",
      "OBRIGAÇÃO_FINAL_POR_SALA  0.0893  0.005000  16.769  0.000\n",
      "DIAS_FUNCIONAMENTO        0.0009  0.000079  11.177  0.000\n",
      "SALAS_GRUPO_INFERIDO      0.0378  0.014000   2.695  0.007\n",
      "ASSENTOS_GRUPO_INFERIDO  -0.0003  0.000057  -5.362  0.000\n",
      "\n",
      "\n",
      "Reg_group 19, FOREIGN:\n",
      "                            coef   std err       t  P>|t|\n",
      "OBRIGAÇÃO_FINAL_POR_SALA  0.0912  0.006000  16.134  0.000\n",
      "DIAS_FUNCIONAMENTO        0.0009  0.000084  10.631  0.000\n",
      "SALAS_GRUPO_INFERIDO      0.0365  0.015000   2.462  0.014\n",
      "ASSENTOS_GRUPO_INFERIDO  -0.0003  0.000060  -4.997  0.000\n",
      "\n",
      "\n",
      "Reg_group 20, BRAZILIAN:\n",
      "                            coef   std err       t  P>|t|\n",
      "OBRIGAÇÃO_FINAL_POR_SALA  0.0905  0.006000  15.499    0.0\n",
      "DIAS_FUNCIONAMENTO        0.0008  0.000082   9.792    0.0\n",
      "SALAS_GRUPO_INFERIDO      0.0573  0.014000   3.964    0.0\n",
      "ASSENTOS_GRUPO_INFERIDO  -0.0004  0.000059  -6.344    0.0\n",
      "\n",
      "\n"
     ]
    }
   ],
   "source": [
    "works = ['ALL', 'FOREIGN', 'BRAZILIAN']\n",
    "\n",
    "for i in range(last_g_count, g_count):\n",
    "    print(f'Reg_group {i}, {works[i%3]}:')\n",
    "    print(pd.read_html(group_naive[f'reg_gn{i}'].summary().\n",
    "                       tables[1].as_html(),header=0,index_col=0)[0].iloc[-4:,:-2])\n",
    "    print('\\n')"
   ]
  },
  {
   "cell_type": "markdown",
   "metadata": {
    "hidden": true
   },
   "source": [
    "##### 2017-2018"
   ]
  },
  {
   "cell_type": "code",
   "execution_count": 33,
   "metadata": {
    "ExecuteTime": {
     "end_time": "2021-06-10T19:30:40.775406Z",
     "start_time": "2021-06-10T19:30:40.710454Z"
    },
    "hidden": true
   },
   "outputs": [],
   "source": [
    "formul = 'np.log(PUBLICO) ~ OBRIGAÇÃO_FINAL_POR_SALA + DIAS_FUNCIONAMENTO + SALAS_GRUPO_INFERIDO + ASSENTOS_GRUPO_INFERIDO + C(ANO_CINEMATOGRAFICO)'\n",
    "\n",
    "last_g_count = g_count\n",
    "\n",
    "group_naive[f'reg_gn{g_count}'] = smf.ols(formula = formul, data=gtds_1718).fit()\n",
    "g_count += 1\n",
    "\n",
    "group_naive[f'reg_gn{g_count}'] = smf.ols(formula = formul, data=gest_1718).fit()\n",
    "g_count += 1\n",
    "\n",
    "group_naive[f'reg_gn{g_count}'] = smf.ols(formula = formul, data=gbras_1718).fit()\n",
    "g_count += 1"
   ]
  },
  {
   "cell_type": "code",
   "execution_count": 34,
   "metadata": {
    "ExecuteTime": {
     "end_time": "2021-06-10T19:30:41.274341Z",
     "start_time": "2021-06-10T19:30:41.210250Z"
    },
    "hidden": true
   },
   "outputs": [
    {
     "name": "stdout",
     "output_type": "stream",
     "text": [
      "Reg_group 21, ALL:\n",
      "                            coef   std err       t  P>|t|\n",
      "OBRIGAÇÃO_FINAL_POR_SALA  0.0962  0.005000  19.252  0.000\n",
      "DIAS_FUNCIONAMENTO        0.0008  0.000088   9.326  0.000\n",
      "SALAS_GRUPO_INFERIDO      0.0165  0.017000   0.989  0.323\n",
      "ASSENTOS_GRUPO_INFERIDO  -0.0002  0.000068  -3.055  0.002\n",
      "\n",
      "\n",
      "Reg_group 22, FOREIGN:\n",
      "                            coef   std err       t  P>|t|\n",
      "OBRIGAÇÃO_FINAL_POR_SALA  0.0982  0.005000  17.911  0.000\n",
      "DIAS_FUNCIONAMENTO        0.0008  0.000096   8.684  0.000\n",
      "SALAS_GRUPO_INFERIDO      0.0142  0.018000   0.780  0.436\n",
      "ASSENTOS_GRUPO_INFERIDO  -0.0002  0.000074  -2.701  0.007\n",
      "\n",
      "\n",
      "Reg_group 23, BRAZILIAN:\n",
      "                            coef   std err       t  P>|t|\n",
      "OBRIGAÇÃO_FINAL_POR_SALA  0.0972  0.006000  17.540   0.00\n",
      "DIAS_FUNCIONAMENTO        0.0008  0.000092   8.250   0.00\n",
      "SALAS_GRUPO_INFERIDO      0.0359  0.017000   2.061   0.04\n",
      "ASSENTOS_GRUPO_INFERIDO  -0.0003  0.000071  -3.922   0.00\n",
      "\n",
      "\n"
     ]
    }
   ],
   "source": [
    "works = ['ALL', 'FOREIGN', 'BRAZILIAN']\n",
    "\n",
    "for i in range(last_g_count, g_count):\n",
    "    print(f'Reg_group {i}, {works[i%3]}:')\n",
    "    print(pd.read_html(group_naive[f'reg_gn{i}'].summary().\n",
    "                       tables[1].as_html(),header=0,index_col=0)[0].iloc[-4:,:-2])\n",
    "    print('\\n')"
   ]
  },
  {
   "cell_type": "markdown",
   "metadata": {},
   "source": [
    "## Weighted regressions"
   ]
  },
  {
   "cell_type": "markdown",
   "metadata": {},
   "source": [
    "Define movie-theater chain $i$ in year $t$ and title \"nationality\" (meaning all, foreign or Brazilian movie sessions), futher define nominal screen quota obligation $SQ$ and compliance level (quota fulfilled / quota due) as $C_{it}$:\n",
    "\n",
    "$$ \\ln(Y_{nit}) = \\beta_0 + \\beta_1 SQ_{it} + \\beta_2 C_{it} + \\beta_3 SQ_{it} * f(C_{it}) + \\theta X_{it} + \\varepsilon_{it} $$\n",
    "\n",
    "$Y$ is the interest variable that can be either Yearly Income or total public (# of moviegoers). $X_{it}$ is a vector of controls with opening days, movie theater fixed-effects and year fixed-effects. $f(.)$ is the chosen weighting function (kernel). Alternatively, we also drop entity fixed-effects and use number of viewing rooms and seats per movie-theater chain as controls."
   ]
  },
  {
   "cell_type": "code",
   "execution_count": 49,
   "metadata": {
    "ExecuteTime": {
     "end_time": "2021-06-10T19:53:06.162150Z",
     "start_time": "2021-06-10T19:53:06.144180Z"
    }
   },
   "outputs": [],
   "source": [
    "group_weighted = {}\n",
    "\n",
    "g_count = 0\n",
    "\n",
    "weight_funcs = [\n",
    "    'CUMP_QUADRATIC','CUMP_NORMALIZADO', 'CUMP_LINEAR','CUMP_TRIWEIGHT']"
   ]
  },
  {
   "cell_type": "markdown",
   "metadata": {},
   "source": [
    "### Dependent variable: income"
   ]
  },
  {
   "cell_type": "markdown",
   "metadata": {},
   "source": [
    "#### With entity fixed-effects"
   ]
  },
  {
   "cell_type": "markdown",
   "metadata": {},
   "source": [
    "##### 2017-2019"
   ]
  },
  {
   "cell_type": "code",
   "execution_count": 52,
   "metadata": {
    "ExecuteTime": {
     "end_time": "2021-06-10T19:54:25.737166Z",
     "start_time": "2021-06-10T19:54:25.104350Z"
    }
   },
   "outputs": [],
   "source": [
    "last_g_count = g_count # to get num range of regressions to be executed\n",
    "\n",
    "for f in weight_funcs:\n",
    "    # adjust formula as we run through the weighting funcs\n",
    "    formul = f'np.log(RENDA) ~ OBRIGAÇÃO_FINAL_POR_SALA*{f} + DIAS_FUNCIONAMENTO + C(REGISTRO_GRUPO) + C(ANO_CINEMATOGRAFICO)'\n",
    "    group_weighted[f'reg_gw{g_count}'] = smf.ols(formula = formul, data=gtds_1719).fit()\n",
    "    g_count += 1\n",
    "    group_weighted[f'reg_gw{g_count}'] = smf.ols(formula = formul, data=gest_1719).fit()\n",
    "    g_count += 1\n",
    "    group_weighted[f'reg_gw{g_count}'] = smf.ols(formula = formul, data=gbras_1719).fit()\n",
    "    g_count += 1"
   ]
  },
  {
   "cell_type": "code",
   "execution_count": 54,
   "metadata": {
    "ExecuteTime": {
     "end_time": "2021-06-10T19:54:55.074117Z",
     "start_time": "2021-06-10T19:54:53.489350Z"
    }
   },
   "outputs": [
    {
     "name": "stdout",
     "output_type": "stream",
     "text": [
      "Reg_group_weighted 0, ALL, weighting function CUMP_QUADRATIC:\n",
      "                                           coef  std err      t  P>|t|\n",
      "OBRIGAÇÃO_FINAL_POR_SALA                 0.0487    0.008  6.472    0.0\n",
      "CUMP_QUADRATIC                           1.8657    0.277  6.726    0.0\n",
      "OBRIGAÇÃO_FINAL_POR_SALA:CUMP_QUADRATIC -0.0478    0.009 -5.358    0.0\n",
      "DIAS_FUNCIONAMENTO                       0.0009    0.000  6.607    0.0\n",
      "\n",
      "\n",
      "Reg_group_weighted 1, FOREIGN, weighting function CUMP_QUADRATIC:\n",
      "                                           coef  std err      t  P>|t|\n",
      "OBRIGAÇÃO_FINAL_POR_SALA                 0.0545    0.008  6.958    0.0\n",
      "CUMP_QUADRATIC                           1.9062    0.287  6.648    0.0\n",
      "OBRIGAÇÃO_FINAL_POR_SALA:CUMP_QUADRATIC -0.0523    0.009 -5.670    0.0\n",
      "DIAS_FUNCIONAMENTO                       0.0009    0.000  6.211    0.0\n",
      "\n",
      "\n",
      "Reg_group_weighted 2, BRAZILIAN, weighting function CUMP_QUADRATIC:\n",
      "                                           coef  std err      t  P>|t|\n",
      "OBRIGAÇÃO_FINAL_POR_SALA                -0.0104    0.016 -0.653  0.514\n",
      "CUMP_QUADRATIC                           0.4965    0.565  0.879  0.380\n",
      "OBRIGAÇÃO_FINAL_POR_SALA:CUMP_QUADRATIC  0.0154    0.018  0.858  0.392\n",
      "DIAS_FUNCIONAMENTO                       0.0007    0.000  3.353  0.001\n",
      "\n",
      "\n",
      "Reg_group_weighted 3, ALL, weighting function CUMP_NORMALIZADO:\n",
      "                                             coef  std err      t  P>|t|\n",
      "OBRIGAÇÃO_FINAL_POR_SALA                   0.0573    0.015  3.933  0.000\n",
      "CUMP_NORMALIZADO                           4.4489    1.140  3.903  0.000\n",
      "OBRIGAÇÃO_FINAL_POR_SALA:CUMP_NORMALIZADO -0.1202    0.040 -3.015  0.003\n",
      "DIAS_FUNCIONAMENTO                         0.0010    0.000  6.875  0.000\n",
      "\n",
      "\n",
      "Reg_group_weighted 4, FOREIGN, weighting function CUMP_NORMALIZADO:\n",
      "                                             coef  std err      t  P>|t|\n",
      "OBRIGAÇÃO_FINAL_POR_SALA                   0.0837    0.016  5.238    0.0\n",
      "CUMP_NORMALIZADO                           6.0130    1.248  4.818    0.0\n",
      "OBRIGAÇÃO_FINAL_POR_SALA:CUMP_NORMALIZADO -0.1886    0.044 -4.322    0.0\n",
      "DIAS_FUNCIONAMENTO                         0.0009    0.000  6.476    0.0\n",
      "\n",
      "\n",
      "Reg_group_weighted 5, BRAZILIAN, weighting function CUMP_NORMALIZADO:\n",
      "                                             coef  std err      t  P>|t|\n",
      "OBRIGAÇÃO_FINAL_POR_SALA                  -0.0278    0.024 -1.184  0.237\n",
      "CUMP_NORMALIZADO                           0.0728    1.766  0.041  0.967\n",
      "OBRIGAÇÃO_FINAL_POR_SALA:CUMP_NORMALIZADO  0.0893    0.063  1.428  0.154\n",
      "DIAS_FUNCIONAMENTO                         0.0007    0.000  3.292  0.001\n",
      "\n",
      "\n",
      "Reg_group_weighted 6, ALL, weighting function CUMP_LINEAR:\n",
      "                                        coef  std err      t  P>|t|\n",
      "OBRIGAÇÃO_FINAL_POR_SALA              0.0422    0.006  6.625    0.0\n",
      "CUMP_LINEAR                           1.8260    0.300  6.091    0.0\n",
      "OBRIGAÇÃO_FINAL_POR_SALA:CUMP_LINEAR -0.0460    0.009 -5.234    0.0\n",
      "DIAS_FUNCIONAMENTO                    0.0009    0.000  6.611    0.0\n",
      "\n",
      "\n",
      "Reg_group_weighted 7, FOREIGN, weighting function CUMP_LINEAR:\n",
      "                                        coef  std err      t  P>|t|\n",
      "OBRIGAÇÃO_FINAL_POR_SALA              0.0459    0.007  6.956    0.0\n",
      "CUMP_LINEAR                           1.7946    0.308  5.818    0.0\n",
      "OBRIGAÇÃO_FINAL_POR_SALA:CUMP_LINEAR -0.0482    0.009 -5.329    0.0\n",
      "DIAS_FUNCIONAMENTO                    0.0009    0.000  6.231    0.0\n",
      "\n",
      "\n",
      "Reg_group_weighted 8, BRAZILIAN, weighting function CUMP_LINEAR:\n",
      "                                        coef  std err      t  P>|t|\n",
      "OBRIGAÇÃO_FINAL_POR_SALA              0.0034    0.012  0.283  0.777\n",
      "CUMP_LINEAR                           1.0754    0.536  2.005  0.046\n",
      "OBRIGAÇÃO_FINAL_POR_SALA:CUMP_LINEAR -0.0028    0.016 -0.176  0.860\n",
      "DIAS_FUNCIONAMENTO                    0.0007    0.000  3.346  0.001\n",
      "\n",
      "\n",
      "Reg_group_weighted 9, ALL, weighting function CUMP_TRIWEIGHT:\n",
      "                                           coef  std err      t  P>|t|\n",
      "OBRIGAÇÃO_FINAL_POR_SALA                 0.0422    0.006  6.625    0.0\n",
      "CUMP_TRIWEIGHT                           1.8260    0.300  6.091    0.0\n",
      "OBRIGAÇÃO_FINAL_POR_SALA:CUMP_TRIWEIGHT -0.0460    0.009 -5.234    0.0\n",
      "DIAS_FUNCIONAMENTO                       0.0009    0.000  6.611    0.0\n",
      "\n",
      "\n",
      "Reg_group_weighted 10, FOREIGN, weighting function CUMP_TRIWEIGHT:\n",
      "                                           coef  std err      t  P>|t|\n",
      "OBRIGAÇÃO_FINAL_POR_SALA                 0.0459    0.007  6.956    0.0\n",
      "CUMP_TRIWEIGHT                           1.7946    0.308  5.818    0.0\n",
      "OBRIGAÇÃO_FINAL_POR_SALA:CUMP_TRIWEIGHT -0.0482    0.009 -5.329    0.0\n",
      "DIAS_FUNCIONAMENTO                       0.0009    0.000  6.231    0.0\n",
      "\n",
      "\n",
      "Reg_group_weighted 11, BRAZILIAN, weighting function CUMP_TRIWEIGHT:\n",
      "                                           coef  std err      t  P>|t|\n",
      "OBRIGAÇÃO_FINAL_POR_SALA                 0.0034    0.012  0.283  0.777\n",
      "CUMP_TRIWEIGHT                           1.0754    0.536  2.005  0.046\n",
      "OBRIGAÇÃO_FINAL_POR_SALA:CUMP_TRIWEIGHT -0.0028    0.016 -0.176  0.860\n",
      "DIAS_FUNCIONAMENTO                       0.0007    0.000  3.346  0.001\n",
      "\n",
      "\n"
     ]
    }
   ],
   "source": [
    "works = ['ALL', 'FOREIGN', 'BRAZILIAN']\n",
    "\n",
    "for i in range(last_g_count, g_count):\n",
    "    print(f'Reg_group_weighted {i}, {works[i%3]}, weighting function {weight_funcs[(i-last_g_count)//3]}:')\n",
    "    print(pd.read_html(group_weighted[f'reg_gw{i}'].summary().\n",
    "                       tables[1].as_html(),header=0,index_col=0)[0].iloc[-4:,:-2])\n",
    "    print('\\n')"
   ]
  },
  {
   "cell_type": "markdown",
   "metadata": {},
   "source": [
    "##### 2017-2018"
   ]
  },
  {
   "cell_type": "code",
   "execution_count": 56,
   "metadata": {
    "ExecuteTime": {
     "end_time": "2021-06-10T20:03:58.433172Z",
     "start_time": "2021-06-10T20:03:58.179852Z"
    }
   },
   "outputs": [],
   "source": [
    "last_g_count = g_count # to get num range of regressions to be executed\n",
    "\n",
    "for f in weight_funcs:\n",
    "    # adjust formula as we run through the weighting funcs\n",
    "    formul = f'np.log(RENDA) ~ OBRIGAÇÃO_FINAL_POR_SALA*{f} + DIAS_FUNCIONAMENTO + C(REGISTRO_GRUPO) + C(ANO_CINEMATOGRAFICO)'\n",
    "    group_weighted[f'reg_gw{g_count}'] = smf.ols(formula = formul, data=gtds_1718).fit()\n",
    "    g_count += 1\n",
    "    group_weighted[f'reg_gw{g_count}'] = smf.ols(formula = formul, data=gest_1718).fit()\n",
    "    g_count += 1\n",
    "    group_weighted[f'reg_gw{g_count}'] = smf.ols(formula = formul, data=gbras_1718).fit()\n",
    "    g_count += 1"
   ]
  },
  {
   "cell_type": "code",
   "execution_count": 57,
   "metadata": {
    "ExecuteTime": {
     "end_time": "2021-06-10T20:04:11.469950Z",
     "start_time": "2021-06-10T20:04:11.245551Z"
    }
   },
   "outputs": [
    {
     "name": "stdout",
     "output_type": "stream",
     "text": [
      "Reg_group_weighted 12, ALL, weighting function CUMP_QUADRATIC:\n",
      "                                           coef  std err      t  P>|t|\n",
      "OBRIGAÇÃO_FINAL_POR_SALA                 0.0625    0.009  6.732    0.0\n",
      "CUMP_QUADRATIC                           2.5027    0.416  6.013    0.0\n",
      "OBRIGAÇÃO_FINAL_POR_SALA:CUMP_QUADRATIC -0.0682    0.014 -4.999    0.0\n",
      "DIAS_FUNCIONAMENTO                       0.0010    0.000  4.358    0.0\n",
      "\n",
      "\n",
      "Reg_group_weighted 13, FOREIGN, weighting function CUMP_QUADRATIC:\n",
      "                                           coef  std err      t  P>|t|\n",
      "OBRIGAÇÃO_FINAL_POR_SALA                 0.0696    0.010  7.045    0.0\n",
      "CUMP_QUADRATIC                           2.5718    0.434  5.931    0.0\n",
      "OBRIGAÇÃO_FINAL_POR_SALA:CUMP_QUADRATIC -0.0748    0.014 -5.248    0.0\n",
      "DIAS_FUNCIONAMENTO                       0.0009    0.000  3.848    0.0\n",
      "\n",
      "\n",
      "Reg_group_weighted 14, BRAZILIAN, weighting function CUMP_QUADRATIC:\n",
      "                                           coef  std err      t  P>|t|\n",
      "OBRIGAÇÃO_FINAL_POR_SALA                -0.0019    0.023 -0.080  0.936\n",
      "CUMP_QUADRATIC                           1.3092    0.895  1.462  0.146\n",
      "OBRIGAÇÃO_FINAL_POR_SALA:CUMP_QUADRATIC -0.0027    0.028 -0.097  0.923\n",
      "DIAS_FUNCIONAMENTO                       0.0008    0.000  2.159  0.032\n",
      "\n",
      "\n",
      "Reg_group_weighted 15, ALL, weighting function CUMP_NORMALIZADO:\n",
      "                                             coef  std err      t  P>|t|\n",
      "OBRIGAÇÃO_FINAL_POR_SALA                   0.0704    0.019  3.764  0.000\n",
      "CUMP_NORMALIZADO                           4.5829    1.673  2.739  0.007\n",
      "OBRIGAÇÃO_FINAL_POR_SALA:CUMP_NORMALIZADO -0.1272    0.059 -2.165  0.032\n",
      "DIAS_FUNCIONAMENTO                         0.0011    0.000  4.477  0.000\n",
      "\n",
      "\n",
      "Reg_group_weighted 16, FOREIGN, weighting function CUMP_NORMALIZADO:\n",
      "                                             coef  std err      t  P>|t|\n",
      "OBRIGAÇÃO_FINAL_POR_SALA                   0.1048    0.021  4.944  0.000\n",
      "CUMP_NORMALIZADO                           7.0617    1.816  3.889  0.000\n",
      "OBRIGAÇÃO_FINAL_POR_SALA:CUMP_NORMALIZADO -0.2288    0.065 -3.506  0.001\n",
      "DIAS_FUNCIONAMENTO                         0.0010    0.000  4.100  0.000\n",
      "\n",
      "\n",
      "Reg_group_weighted 17, BRAZILIAN, weighting function CUMP_NORMALIZADO:\n",
      "                                             coef  std err      t  P>|t|\n",
      "OBRIGAÇÃO_FINAL_POR_SALA                  -0.0265    0.032 -0.833  0.406\n",
      "CUMP_NORMALIZADO                           2.0246    2.605  0.777  0.438\n",
      "OBRIGAÇÃO_FINAL_POR_SALA:CUMP_NORMALIZADO  0.0621    0.091  0.681  0.497\n",
      "DIAS_FUNCIONAMENTO                         0.0008    0.000  2.171  0.031\n",
      "\n",
      "\n",
      "Reg_group_weighted 18, ALL, weighting function CUMP_LINEAR:\n",
      "                                        coef  std err      t  P>|t|\n",
      "OBRIGAÇÃO_FINAL_POR_SALA              0.0562    0.008  6.668    0.0\n",
      "CUMP_LINEAR                           2.4363    0.458  5.322    0.0\n",
      "OBRIGAÇÃO_FINAL_POR_SALA:CUMP_LINEAR -0.0664    0.014 -4.763    0.0\n",
      "DIAS_FUNCIONAMENTO                    0.0010    0.000  4.363    0.0\n",
      "\n",
      "\n",
      "Reg_group_weighted 19, FOREIGN, weighting function CUMP_LINEAR:\n",
      "                                        coef  std err      t  P>|t|\n",
      "OBRIGAÇÃO_FINAL_POR_SALA              0.0610    0.009  6.824    0.0\n",
      "CUMP_LINEAR                           2.4021    0.476  5.046    0.0\n",
      "OBRIGAÇÃO_FINAL_POR_SALA:CUMP_LINEAR -0.0696    0.015 -4.801    0.0\n",
      "DIAS_FUNCIONAMENTO                    0.0009    0.000  3.880    0.0\n",
      "\n",
      "\n",
      "Reg_group_weighted 20, BRAZILIAN, weighting function CUMP_LINEAR:\n",
      "                                        coef  std err      t  P>|t|\n",
      "OBRIGAÇÃO_FINAL_POR_SALA              0.0071    0.019  0.375  0.708\n",
      "CUMP_LINEAR                           1.9219    0.852  2.257  0.025\n",
      "OBRIGAÇÃO_FINAL_POR_SALA:CUMP_LINEAR -0.0217    0.026 -0.847  0.398\n",
      "DIAS_FUNCIONAMENTO                    0.0008    0.000  2.080  0.039\n",
      "\n",
      "\n",
      "Reg_group_weighted 21, ALL, weighting function CUMP_TRIWEIGHT:\n",
      "                                           coef  std err      t  P>|t|\n",
      "OBRIGAÇÃO_FINAL_POR_SALA                 0.0562    0.008  6.668    0.0\n",
      "CUMP_TRIWEIGHT                           2.4363    0.458  5.322    0.0\n",
      "OBRIGAÇÃO_FINAL_POR_SALA:CUMP_TRIWEIGHT -0.0664    0.014 -4.763    0.0\n",
      "DIAS_FUNCIONAMENTO                       0.0010    0.000  4.363    0.0\n",
      "\n",
      "\n",
      "Reg_group_weighted 22, FOREIGN, weighting function CUMP_TRIWEIGHT:\n",
      "                                           coef  std err      t  P>|t|\n",
      "OBRIGAÇÃO_FINAL_POR_SALA                 0.0610    0.009  6.824    0.0\n",
      "CUMP_TRIWEIGHT                           2.4021    0.476  5.046    0.0\n",
      "OBRIGAÇÃO_FINAL_POR_SALA:CUMP_TRIWEIGHT -0.0696    0.015 -4.801    0.0\n",
      "DIAS_FUNCIONAMENTO                       0.0009    0.000  3.880    0.0\n",
      "\n",
      "\n",
      "Reg_group_weighted 23, BRAZILIAN, weighting function CUMP_TRIWEIGHT:\n",
      "                                           coef  std err      t  P>|t|\n",
      "OBRIGAÇÃO_FINAL_POR_SALA                 0.0071    0.019  0.375  0.708\n",
      "CUMP_TRIWEIGHT                           1.9219    0.852  2.257  0.025\n",
      "OBRIGAÇÃO_FINAL_POR_SALA:CUMP_TRIWEIGHT -0.0217    0.026 -0.847  0.398\n",
      "DIAS_FUNCIONAMENTO                       0.0008    0.000  2.080  0.039\n",
      "\n",
      "\n"
     ]
    }
   ],
   "source": [
    "works = ['ALL', 'FOREIGN', 'BRAZILIAN']\n",
    "\n",
    "for i in range(last_g_count, g_count):\n",
    "    print(f'Reg_group_weighted {i}, {works[i%3]}, weighting function {weight_funcs[(i-last_g_count)//3]}:')\n",
    "    print(pd.read_html(group_weighted[f'reg_gw{i}'].summary().\n",
    "                       tables[1].as_html(),header=0,index_col=0)[0].iloc[-4:,:-2])\n",
    "    print('\\n')"
   ]
  },
  {
   "cell_type": "markdown",
   "metadata": {},
   "source": [
    "#### Without entity fixed-effects"
   ]
  },
  {
   "cell_type": "markdown",
   "metadata": {},
   "source": [
    "##### 2017-2019"
   ]
  },
  {
   "cell_type": "code",
   "execution_count": 71,
   "metadata": {
    "ExecuteTime": {
     "end_time": "2021-06-10T20:03:58.433172Z",
     "start_time": "2021-06-10T20:03:58.179852Z"
    }
   },
   "outputs": [],
   "source": [
    "g_count = 24\n",
    "\n",
    "last_g_count = g_count # to get num range of regressions to be executed\n",
    "\n",
    "for f in weight_funcs:\n",
    "    # adjust formula as we run through the weighting funcs\n",
    "    formul = f'np.log(RENDA) ~ OBRIGAÇÃO_FINAL_POR_SALA*{f} + DIAS_FUNCIONAMENTO + SALAS_GRUPO_INFERIDO + ASSENTOS_GRUPO_INFERIDO + C(ANO_CINEMATOGRAFICO)'\n",
    "    group_weighted[f'reg_gw{g_count}'] = smf.ols(formula = formul, data=gtds_1719).fit()\n",
    "    g_count += 1\n",
    "    group_weighted[f'reg_gw{g_count}'] = smf.ols(formula = formul, data=gest_1719).fit()\n",
    "    g_count += 1\n",
    "    group_weighted[f'reg_gw{g_count}'] = smf.ols(formula = formul, data=gbras_1719).fit()\n",
    "    g_count += 1"
   ]
  },
  {
   "cell_type": "code",
   "execution_count": 73,
   "metadata": {
    "ExecuteTime": {
     "end_time": "2021-06-10T20:04:11.469950Z",
     "start_time": "2021-06-10T20:04:11.245551Z"
    }
   },
   "outputs": [
    {
     "name": "stdout",
     "output_type": "stream",
     "text": [
      "Reg_group_weighted 24, ALL, weighting function CUMP_QUADRATIC:\n",
      "                                           coef   std err       t  P>|t|\n",
      "OBRIGAÇÃO_FINAL_POR_SALA                 0.0573  0.015000   3.831  0.000\n",
      "CUMP_QUADRATIC                           0.7802  0.536000   1.457  0.146\n",
      "OBRIGAÇÃO_FINAL_POR_SALA:CUMP_QUADRATIC  0.0261  0.018000   1.485  0.138\n",
      "DIAS_FUNCIONAMENTO                       0.0008  0.000082  10.157  0.000\n",
      "SALAS_GRUPO_INFERIDO                     0.0437  0.015000   2.982  0.003\n",
      "ASSENTOS_GRUPO_INFERIDO                 -0.0003  0.000059  -5.363  0.000\n",
      "\n",
      "\n",
      "Reg_group_weighted 25, FOREIGN, weighting function CUMP_QUADRATIC:\n",
      "                                           coef   std err      t  P>|t|\n",
      "OBRIGAÇÃO_FINAL_POR_SALA                 0.0594  0.016000  3.710  0.000\n",
      "CUMP_QUADRATIC                           0.9670  0.573000  1.686  0.092\n",
      "OBRIGAÇÃO_FINAL_POR_SALA:CUMP_QUADRATIC  0.0243  0.019000  1.297  0.195\n",
      "DIAS_FUNCIONAMENTO                       0.0008  0.000087  9.649  0.000\n",
      "SALAS_GRUPO_INFERIDO                     0.0431  0.015000  2.797  0.005\n",
      "ASSENTOS_GRUPO_INFERIDO                 -0.0003  0.000063 -5.054  0.000\n",
      "\n",
      "\n",
      "Reg_group_weighted 26, BRAZILIAN, weighting function CUMP_QUADRATIC:\n",
      "                                           coef   std err      t  P>|t|\n",
      "OBRIGAÇÃO_FINAL_POR_SALA                -0.0008  0.021000 -0.037  0.970\n",
      "CUMP_QUADRATIC                          -1.8723  0.741000 -2.528  0.012\n",
      "OBRIGAÇÃO_FINAL_POR_SALA:CUMP_QUADRATIC  0.1027  0.024000  4.362  0.000\n",
      "DIAS_FUNCIONAMENTO                       0.0008  0.000082  9.598  0.000\n",
      "SALAS_GRUPO_INFERIDO                     0.0558  0.015000  3.835  0.000\n",
      "ASSENTOS_GRUPO_INFERIDO                 -0.0004  0.000059 -6.138  0.000\n",
      "\n",
      "\n",
      "Reg_group_weighted 27, ALL, weighting function CUMP_NORMALIZADO:\n",
      "                                             coef   std err       t  P>|t|\n",
      "OBRIGAÇÃO_FINAL_POR_SALA                   0.0439  0.029000   1.497  0.135\n",
      "CUMP_NORMALIZADO                           2.8856  2.256000   1.279  0.201\n",
      "OBRIGAÇÃO_FINAL_POR_SALA:CUMP_NORMALIZADO  0.1024  0.080000   1.280  0.201\n",
      "DIAS_FUNCIONAMENTO                         0.0008  0.000082  10.281  0.000\n",
      "SALAS_GRUPO_INFERIDO                       0.0445  0.015000   3.030  0.003\n",
      "ASSENTOS_GRUPO_INFERIDO                   -0.0003  0.000060  -5.446  0.000\n",
      "\n",
      "\n",
      "Reg_group_weighted 28, FOREIGN, weighting function CUMP_NORMALIZADO:\n",
      "                                             coef   std err      t  P>|t|\n",
      "OBRIGAÇÃO_FINAL_POR_SALA                   0.0596  0.033000  1.816  0.070\n",
      "CUMP_NORMALIZADO                           5.7165  2.566000  2.228  0.026\n",
      "OBRIGAÇÃO_FINAL_POR_SALA:CUMP_NORMALIZADO  0.0558  0.089000  0.624  0.533\n",
      "DIAS_FUNCIONAMENTO                         0.0008  0.000086  9.809  0.000\n",
      "SALAS_GRUPO_INFERIDO                       0.0449  0.015000  2.938  0.003\n",
      "ASSENTOS_GRUPO_INFERIDO                   -0.0003  0.000062 -5.238  0.000\n",
      "\n",
      "\n",
      "Reg_group_weighted 29, BRAZILIAN, weighting function CUMP_NORMALIZADO:\n",
      "                                             coef   std err      t  P>|t|\n",
      "OBRIGAÇÃO_FINAL_POR_SALA                  -0.0389  0.033000 -1.175  0.240\n",
      "CUMP_NORMALIZADO                          -7.4195  2.471000 -3.002  0.003\n",
      "OBRIGAÇÃO_FINAL_POR_SALA:CUMP_NORMALIZADO  0.3523  0.088000  3.998  0.000\n",
      "DIAS_FUNCIONAMENTO                         0.0008  0.000083  9.542  0.000\n",
      "SALAS_GRUPO_INFERIDO                       0.0580  0.015000  3.929  0.000\n",
      "ASSENTOS_GRUPO_INFERIDO                   -0.0004  0.000060 -6.227  0.000\n",
      "\n",
      "\n",
      "Reg_group_weighted 30, ALL, weighting function CUMP_LINEAR:\n",
      "                                        coef   std err       t  P>|t|\n",
      "OBRIGAÇÃO_FINAL_POR_SALA              0.0728  0.012000   5.887  0.000\n",
      "CUMP_LINEAR                           1.0905  0.577000   1.889  0.059\n",
      "OBRIGAÇÃO_FINAL_POR_SALA:CUMP_LINEAR  0.0103  0.017000   0.604  0.546\n",
      "DIAS_FUNCIONAMENTO                    0.0009  0.000083  10.271  0.000\n",
      "SALAS_GRUPO_INFERIDO                  0.0421  0.015000   2.833  0.005\n",
      "ASSENTOS_GRUPO_INFERIDO              -0.0003  0.000060  -5.250  0.000\n",
      "\n",
      "\n",
      "Reg_group_weighted 31, FOREIGN, weighting function CUMP_LINEAR:\n",
      "                                        coef   std err      t  P>|t|\n",
      "OBRIGAÇÃO_FINAL_POR_SALA              0.0763  0.013000  5.781  0.000\n",
      "CUMP_LINEAR                           1.2995  0.616000  2.109  0.035\n",
      "OBRIGAÇÃO_FINAL_POR_SALA:CUMP_LINEAR  0.0065  0.018000  0.360  0.719\n",
      "DIAS_FUNCIONAMENTO                    0.0009  0.000088  9.750  0.000\n",
      "SALAS_GRUPO_INFERIDO                  0.0416  0.016000  2.660  0.008\n",
      "ASSENTOS_GRUPO_INFERIDO              -0.0003  0.000063 -4.951  0.000\n",
      "\n",
      "\n",
      "Reg_group_weighted 32, BRAZILIAN, weighting function CUMP_LINEAR:\n",
      "                                        coef   std err      t  P>|t|\n",
      "OBRIGAÇÃO_FINAL_POR_SALA              0.0391  0.015000  2.526  0.012\n",
      "CUMP_LINEAR                          -0.7418  0.712000 -1.042  0.298\n",
      "OBRIGAÇÃO_FINAL_POR_SALA:CUMP_LINEAR  0.0645  0.021000  3.116  0.002\n",
      "DIAS_FUNCIONAMENTO                    0.0008  0.000082  9.731  0.000\n",
      "SALAS_GRUPO_INFERIDO                  0.0546  0.015000  3.720  0.000\n",
      "ASSENTOS_GRUPO_INFERIDO              -0.0004  0.000059 -6.069  0.000\n",
      "\n",
      "\n",
      "Reg_group_weighted 33, ALL, weighting function CUMP_TRIWEIGHT:\n",
      "                                           coef   std err       t  P>|t|\n",
      "OBRIGAÇÃO_FINAL_POR_SALA                 0.0728  0.012000   5.887  0.000\n",
      "CUMP_TRIWEIGHT                           1.0905  0.577000   1.889  0.059\n",
      "OBRIGAÇÃO_FINAL_POR_SALA:CUMP_TRIWEIGHT  0.0103  0.017000   0.604  0.546\n",
      "DIAS_FUNCIONAMENTO                       0.0009  0.000083  10.271  0.000\n",
      "SALAS_GRUPO_INFERIDO                     0.0421  0.015000   2.833  0.005\n",
      "ASSENTOS_GRUPO_INFERIDO                 -0.0003  0.000060  -5.250  0.000\n",
      "\n",
      "\n",
      "Reg_group_weighted 34, FOREIGN, weighting function CUMP_TRIWEIGHT:\n",
      "                                           coef   std err      t  P>|t|\n",
      "OBRIGAÇÃO_FINAL_POR_SALA                 0.0763  0.013000  5.781  0.000\n",
      "CUMP_TRIWEIGHT                           1.2995  0.616000  2.109  0.035\n",
      "OBRIGAÇÃO_FINAL_POR_SALA:CUMP_TRIWEIGHT  0.0065  0.018000  0.360  0.719\n",
      "DIAS_FUNCIONAMENTO                       0.0009  0.000088  9.750  0.000\n",
      "SALAS_GRUPO_INFERIDO                     0.0416  0.016000  2.660  0.008\n",
      "ASSENTOS_GRUPO_INFERIDO                 -0.0003  0.000063 -4.951  0.000\n",
      "\n",
      "\n",
      "Reg_group_weighted 35, BRAZILIAN, weighting function CUMP_TRIWEIGHT:\n",
      "                                           coef   std err      t  P>|t|\n",
      "OBRIGAÇÃO_FINAL_POR_SALA                 0.0391  0.015000  2.526  0.012\n",
      "CUMP_TRIWEIGHT                          -0.7418  0.712000 -1.042  0.298\n",
      "OBRIGAÇÃO_FINAL_POR_SALA:CUMP_TRIWEIGHT  0.0645  0.021000  3.116  0.002\n",
      "DIAS_FUNCIONAMENTO                       0.0008  0.000082  9.731  0.000\n",
      "SALAS_GRUPO_INFERIDO                     0.0546  0.015000  3.720  0.000\n",
      "ASSENTOS_GRUPO_INFERIDO                 -0.0004  0.000059 -6.069  0.000\n",
      "\n",
      "\n"
     ]
    }
   ],
   "source": [
    "works = ['ALL', 'FOREIGN', 'BRAZILIAN']\n",
    "\n",
    "for i in range(last_g_count, g_count):\n",
    "    print(f'Reg_group_weighted {i}, {works[i%3]}, weighting function {weight_funcs[(i-last_g_count)//3]}:')\n",
    "    print(pd.read_html(group_weighted[f'reg_gw{i}'].summary().\n",
    "                       tables[1].as_html(),header=0,index_col=0)[0].iloc[-6:,:-2])\n",
    "    print('\\n')"
   ]
  },
  {
   "cell_type": "markdown",
   "metadata": {},
   "source": [
    "##### 2017-2018"
   ]
  },
  {
   "cell_type": "code",
   "execution_count": 74,
   "metadata": {
    "ExecuteTime": {
     "end_time": "2021-06-10T20:05:23.348583Z",
     "start_time": "2021-06-10T20:05:23.126667Z"
    }
   },
   "outputs": [],
   "source": [
    "last_g_count = g_count # to get num range of regressions to be executed\n",
    "\n",
    "for f in weight_funcs:\n",
    "    # adjust formula as we run through the weighting funcs\n",
    "    formul = f'np.log(RENDA) ~ OBRIGAÇÃO_FINAL_POR_SALA*{f} + DIAS_FUNCIONAMENTO + SALAS_GRUPO_INFERIDO + ASSENTOS_GRUPO_INFERIDO + C(ANO_CINEMATOGRAFICO)'\n",
    "    group_weighted[f'reg_gw{g_count}'] = smf.ols(formula = formul, data=gtds_1718).fit()\n",
    "    g_count += 1\n",
    "    group_weighted[f'reg_gw{g_count}'] = smf.ols(formula = formul, data=gest_1718).fit()\n",
    "    g_count += 1\n",
    "    group_weighted[f'reg_gw{g_count}'] = smf.ols(formula = formul, data=gbras_1718).fit()\n",
    "    g_count += 1"
   ]
  },
  {
   "cell_type": "code",
   "execution_count": 76,
   "metadata": {
    "ExecuteTime": {
     "end_time": "2021-06-10T20:05:33.845236Z",
     "start_time": "2021-06-10T20:05:33.655257Z"
    },
    "scrolled": true
   },
   "outputs": [
    {
     "name": "stdout",
     "output_type": "stream",
     "text": [
      "Reg_group_weighted 36, ALL, weighting function CUMP_QUADRATIC:\n",
      "                                           coef   std err      t  P>|t|\n",
      "OBRIGAÇÃO_FINAL_POR_SALA                 0.0550  0.013000  4.234  0.000\n",
      "CUMP_QUADRATIC                           0.4555  0.471000  0.968  0.334\n",
      "OBRIGAÇÃO_FINAL_POR_SALA:CUMP_QUADRATIC  0.0391  0.015000  2.526  0.012\n",
      "DIAS_FUNCIONAMENTO                       0.0008  0.000089  8.565  0.000\n",
      "SALAS_GRUPO_INFERIDO                     0.0151  0.017000  0.881  0.379\n",
      "ASSENTOS_GRUPO_INFERIDO                 -0.0002  0.000069 -2.699  0.007\n",
      "\n",
      "\n",
      "Reg_group_weighted 37, FOREIGN, weighting function CUMP_QUADRATIC:\n",
      "                                           coef   std err      t  P>|t|\n",
      "OBRIGAÇÃO_FINAL_POR_SALA                 0.0569  0.014000  3.965  0.000\n",
      "CUMP_QUADRATIC                           0.6363  0.520000  1.223  0.222\n",
      "OBRIGAÇÃO_FINAL_POR_SALA:CUMP_QUADRATIC  0.0375  0.017000  2.198  0.029\n",
      "DIAS_FUNCIONAMENTO                       0.0008  0.000097  7.955  0.000\n",
      "SALAS_GRUPO_INFERIDO                     0.0138  0.019000  0.745  0.457\n",
      "ASSENTOS_GRUPO_INFERIDO                 -0.0002  0.000075 -2.429  0.016\n",
      "\n",
      "\n",
      "Reg_group_weighted 38, BRAZILIAN, weighting function CUMP_QUADRATIC:\n",
      "                                           coef   std err      t  P>|t|\n",
      "OBRIGAÇÃO_FINAL_POR_SALA                -0.0071  0.018000 -0.396  0.692\n",
      "CUMP_QUADRATIC                          -2.3561  0.649000 -3.632  0.000\n",
      "OBRIGAÇÃO_FINAL_POR_SALA:CUMP_QUADRATIC  0.1205  0.021000  5.828  0.000\n",
      "DIAS_FUNCIONAMENTO                       0.0008  0.000088  8.587  0.000\n",
      "SALAS_GRUPO_INFERIDO                     0.0196  0.017000  1.150  0.251\n",
      "ASSENTOS_GRUPO_INFERIDO                 -0.0002  0.000069 -3.010  0.003\n",
      "\n",
      "\n",
      "Reg_group_weighted 39, ALL, weighting function CUMP_NORMALIZADO:\n",
      "                                             coef  std err      t  P>|t|\n",
      "OBRIGAÇÃO_FINAL_POR_SALA                   0.0331  0.02600  1.284  0.200\n",
      "CUMP_NORMALIZADO                           1.6091  1.99300  0.808  0.420\n",
      "OBRIGAÇÃO_FINAL_POR_SALA:CUMP_NORMALIZADO  0.1540  0.07100  2.176  0.030\n",
      "DIAS_FUNCIONAMENTO                         0.0008  0.00009  8.684  0.000\n",
      "SALAS_GRUPO_INFERIDO                       0.0178  0.01700  1.029  0.304\n",
      "ASSENTOS_GRUPO_INFERIDO                   -0.0002  0.00007 -2.888  0.004\n",
      "\n",
      "\n",
      "Reg_group_weighted 40, FOREIGN, weighting function CUMP_NORMALIZADO:\n",
      "                                             coef   std err      t  P>|t|\n",
      "OBRIGAÇÃO_FINAL_POR_SALA                   0.0473  0.029000  1.605  0.109\n",
      "CUMP_NORMALIZADO                           4.3241  2.317000  1.866  0.063\n",
      "OBRIGAÇÃO_FINAL_POR_SALA:CUMP_NORMALIZADO  0.1111  0.081000  1.372  0.171\n",
      "DIAS_FUNCIONAMENTO                         0.0008  0.000095  8.145  0.000\n",
      "SALAS_GRUPO_INFERIDO                       0.0184  0.018000  1.000  0.318\n",
      "ASSENTOS_GRUPO_INFERIDO                   -0.0002  0.000074 -2.739  0.006\n",
      "\n",
      "\n",
      "Reg_group_weighted 41, BRAZILIAN, weighting function CUMP_NORMALIZADO:\n",
      "                                             coef   std err      t  P>|t|\n",
      "OBRIGAÇÃO_FINAL_POR_SALA                  -0.0500  0.029000 -1.700  0.090\n",
      "CUMP_NORMALIZADO                          -8.7433  2.208000 -3.960  0.000\n",
      "OBRIGAÇÃO_FINAL_POR_SALA:CUMP_NORMALIZADO  0.4046  0.079000  5.131  0.000\n",
      "DIAS_FUNCIONAMENTO                         0.0008  0.000092  8.359  0.000\n",
      "SALAS_GRUPO_INFERIDO                       0.0256  0.018000  1.453  0.147\n",
      "ASSENTOS_GRUPO_INFERIDO                   -0.0002  0.000071 -3.286  0.001\n",
      "\n",
      "\n",
      "Reg_group_weighted 42, ALL, weighting function CUMP_LINEAR:\n",
      "                                        coef   std err      t  P>|t|\n",
      "OBRIGAÇÃO_FINAL_POR_SALA              0.0711  0.011000  6.548  0.000\n",
      "CUMP_LINEAR                           0.7026  0.514000  1.366  0.173\n",
      "OBRIGAÇÃO_FINAL_POR_SALA:CUMP_LINEAR  0.0251  0.015000  1.637  0.102\n",
      "DIAS_FUNCIONAMENTO                    0.0008  0.000091  8.770  0.000\n",
      "SALAS_GRUPO_INFERIDO                  0.0106  0.018000  0.601  0.548\n",
      "ASSENTOS_GRUPO_INFERIDO              -0.0002  0.000071 -2.466  0.014\n",
      "\n",
      "\n",
      "Reg_group_weighted 43, FOREIGN, weighting function CUMP_LINEAR:\n",
      "                                        coef   std err      t  P>|t|\n",
      "OBRIGAÇÃO_FINAL_POR_SALA              0.0745  0.012000  6.218  0.000\n",
      "CUMP_LINEAR                           0.9060  0.567000  1.598  0.111\n",
      "OBRIGAÇÃO_FINAL_POR_SALA:CUMP_LINEAR  0.0215  0.017000  1.272  0.204\n",
      "DIAS_FUNCIONAMENTO                    0.0008  0.000099  8.135  0.000\n",
      "SALAS_GRUPO_INFERIDO                  0.0096  0.019000  0.502  0.616\n",
      "ASSENTOS_GRUPO_INFERIDO              -0.0002  0.000077 -2.229  0.026\n",
      "\n",
      "\n",
      "Reg_group_weighted 44, BRAZILIAN, weighting function CUMP_LINEAR:\n",
      "                                        coef   std err      t  P>|t|\n",
      "OBRIGAÇÃO_FINAL_POR_SALA              0.0346  0.013000  2.563  0.011\n",
      "CUMP_LINEAR                          -1.2749  0.627000 -2.032  0.043\n",
      "OBRIGAÇÃO_FINAL_POR_SALA:CUMP_LINEAR  0.0835  0.018000  4.551  0.000\n",
      "DIAS_FUNCIONAMENTO                    0.0008  0.000089  8.856  0.000\n",
      "SALAS_GRUPO_INFERIDO                  0.0154  0.017000  0.888  0.375\n",
      "ASSENTOS_GRUPO_INFERIDO              -0.0002  0.000070 -2.813  0.005\n",
      "\n",
      "\n",
      "Reg_group_weighted 45, ALL, weighting function CUMP_TRIWEIGHT:\n",
      "                                           coef   std err      t  P>|t|\n",
      "OBRIGAÇÃO_FINAL_POR_SALA                 0.0711  0.011000  6.548  0.000\n",
      "CUMP_TRIWEIGHT                           0.7026  0.514000  1.366  0.173\n",
      "OBRIGAÇÃO_FINAL_POR_SALA:CUMP_TRIWEIGHT  0.0251  0.015000  1.637  0.102\n",
      "DIAS_FUNCIONAMENTO                       0.0008  0.000091  8.770  0.000\n",
      "SALAS_GRUPO_INFERIDO                     0.0106  0.018000  0.601  0.548\n",
      "ASSENTOS_GRUPO_INFERIDO                 -0.0002  0.000071 -2.466  0.014\n",
      "\n",
      "\n",
      "Reg_group_weighted 46, FOREIGN, weighting function CUMP_TRIWEIGHT:\n",
      "                                           coef   std err      t  P>|t|\n",
      "OBRIGAÇÃO_FINAL_POR_SALA                 0.0745  0.012000  6.218  0.000\n",
      "CUMP_TRIWEIGHT                           0.9060  0.567000  1.598  0.111\n",
      "OBRIGAÇÃO_FINAL_POR_SALA:CUMP_TRIWEIGHT  0.0215  0.017000  1.272  0.204\n",
      "DIAS_FUNCIONAMENTO                       0.0008  0.000099  8.135  0.000\n",
      "SALAS_GRUPO_INFERIDO                     0.0096  0.019000  0.502  0.616\n",
      "ASSENTOS_GRUPO_INFERIDO                 -0.0002  0.000077 -2.229  0.026\n",
      "\n",
      "\n",
      "Reg_group_weighted 47, BRAZILIAN, weighting function CUMP_TRIWEIGHT:\n",
      "                                           coef   std err      t  P>|t|\n",
      "OBRIGAÇÃO_FINAL_POR_SALA                 0.0346  0.013000  2.563  0.011\n",
      "CUMP_TRIWEIGHT                          -1.2749  0.627000 -2.032  0.043\n",
      "OBRIGAÇÃO_FINAL_POR_SALA:CUMP_TRIWEIGHT  0.0835  0.018000  4.551  0.000\n",
      "DIAS_FUNCIONAMENTO                       0.0008  0.000089  8.856  0.000\n",
      "SALAS_GRUPO_INFERIDO                     0.0154  0.017000  0.888  0.375\n",
      "ASSENTOS_GRUPO_INFERIDO                 -0.0002  0.000070 -2.813  0.005\n",
      "\n",
      "\n"
     ]
    }
   ],
   "source": [
    "works = ['ALL', 'FOREIGN', 'BRAZILIAN']\n",
    "\n",
    "for i in range(last_g_count, g_count):\n",
    "    print(f'Reg_group_weighted {i}, {works[i%3]}, weighting function {weight_funcs[(i-last_g_count)//3]}:')\n",
    "    print(pd.read_html(group_weighted[f'reg_gw{i}'].summary().\n",
    "                       tables[1].as_html(),header=0,index_col=0)[0].iloc[-6:,:-2])\n",
    "    print('\\n')"
   ]
  },
  {
   "cell_type": "markdown",
   "metadata": {},
   "source": [
    "### Dependent variable: public (moviegoers)"
   ]
  },
  {
   "cell_type": "markdown",
   "metadata": {},
   "source": [
    "#### With entity fixed-effects"
   ]
  },
  {
   "cell_type": "markdown",
   "metadata": {},
   "source": [
    "##### 2017-2019"
   ]
  },
  {
   "cell_type": "code",
   "execution_count": 64,
   "metadata": {
    "ExecuteTime": {
     "end_time": "2021-06-10T20:00:05.026776Z",
     "start_time": "2021-06-10T20:00:04.364822Z"
    }
   },
   "outputs": [],
   "source": [
    "last_g_count = g_count # to get num range of regressions to be executed\n",
    "\n",
    "for f in weight_funcs:\n",
    "    # adjust formula as we run through the weighting funcs\n",
    "    formul = f'np.log(PUBLICO) ~ OBRIGAÇÃO_FINAL_POR_SALA*{f} + DIAS_FUNCIONAMENTO + C(REGISTRO_GRUPO) + C(ANO_CINEMATOGRAFICO)'\n",
    "    group_weighted[f'reg_gw{g_count}'] = smf.ols(formula = formul, data=gtds_1719).fit()\n",
    "    g_count += 1\n",
    "    group_weighted[f'reg_gw{g_count}'] = smf.ols(formula = formul, data=gest_1719).fit()\n",
    "    g_count += 1\n",
    "    group_weighted[f'reg_gw{g_count}'] = smf.ols(formula = formul, data=gbras_1719).fit()\n",
    "    g_count += 1"
   ]
  },
  {
   "cell_type": "code",
   "execution_count": 65,
   "metadata": {
    "ExecuteTime": {
     "end_time": "2021-06-10T20:00:09.455124Z",
     "start_time": "2021-06-10T20:00:07.019100Z"
    }
   },
   "outputs": [
    {
     "name": "stdout",
     "output_type": "stream",
     "text": [
      "Reg_group_weighted 48, ALL, weighting function CUMP_QUADRATIC:\n",
      "                                           coef  std err      t  P>|t|\n",
      "OBRIGAÇÃO_FINAL_POR_SALA                 0.0490    0.007  6.821    0.0\n",
      "CUMP_QUADRATIC                           1.8106    0.265  6.845    0.0\n",
      "OBRIGAÇÃO_FINAL_POR_SALA:CUMP_QUADRATIC -0.0458    0.009 -5.391    0.0\n",
      "DIAS_FUNCIONAMENTO                       0.0009    0.000  6.853    0.0\n",
      "\n",
      "\n",
      "Reg_group_weighted 49, FOREIGN, weighting function CUMP_QUADRATIC:\n",
      "                                           coef  std err      t  P>|t|\n",
      "OBRIGAÇÃO_FINAL_POR_SALA                 0.0552    0.008  7.354    0.0\n",
      "CUMP_QUADRATIC                           1.8985    0.275  6.908    0.0\n",
      "OBRIGAÇÃO_FINAL_POR_SALA:CUMP_QUADRATIC -0.0513    0.009 -5.807    0.0\n",
      "DIAS_FUNCIONAMENTO                       0.0009    0.000  6.321    0.0\n",
      "\n",
      "\n",
      "Reg_group_weighted 50, BRAZILIAN, weighting function CUMP_QUADRATIC:\n",
      "                                           coef  std err      t  P>|t|\n",
      "OBRIGAÇÃO_FINAL_POR_SALA                -0.0095    0.015 -0.629  0.530\n",
      "CUMP_QUADRATIC                           0.4028    0.538  0.749  0.454\n",
      "OBRIGAÇÃO_FINAL_POR_SALA:CUMP_QUADRATIC  0.0175    0.017  1.021  0.308\n",
      "DIAS_FUNCIONAMENTO                       0.0007    0.000  3.564  0.000\n",
      "\n",
      "\n",
      "Reg_group_weighted 51, ALL, weighting function CUMP_NORMALIZADO:\n",
      "                                             coef  std err      t  P>|t|\n",
      "OBRIGAÇÃO_FINAL_POR_SALA                   0.0568    0.014  4.085  0.000\n",
      "CUMP_NORMALIZADO                           4.2912    1.089  3.941  0.000\n",
      "OBRIGAÇÃO_FINAL_POR_SALA:CUMP_NORMALIZADO -0.1142    0.038 -2.996  0.003\n",
      "DIAS_FUNCIONAMENTO                         0.0010    0.000  7.109  0.000\n",
      "\n",
      "\n",
      "Reg_group_weighted 52, FOREIGN, weighting function CUMP_NORMALIZADO:\n",
      "                                             coef  std err      t  P>|t|\n",
      "OBRIGAÇÃO_FINAL_POR_SALA                   0.0849    0.015  5.535    0.0\n",
      "CUMP_NORMALIZADO                           6.1108    1.197  5.103    0.0\n",
      "OBRIGAÇÃO_FINAL_POR_SALA:CUMP_NORMALIZADO -0.1880    0.042 -4.490    0.0\n",
      "DIAS_FUNCIONAMENTO                         0.0009    0.000  6.589    0.0\n",
      "\n",
      "\n",
      "Reg_group_weighted 53, BRAZILIAN, weighting function CUMP_NORMALIZADO:\n",
      "                                             coef  std err      t  P>|t|\n",
      "OBRIGAÇÃO_FINAL_POR_SALA                  -0.0258    0.022 -1.153  0.250\n",
      "CUMP_NORMALIZADO                          -0.0136    1.681 -0.008  0.994\n",
      "OBRIGAÇÃO_FINAL_POR_SALA:CUMP_NORMALIZADO  0.0905    0.060  1.520  0.129\n",
      "DIAS_FUNCIONAMENTO                         0.0007    0.000  3.498  0.001\n",
      "\n",
      "\n",
      "Reg_group_weighted 54, ALL, weighting function CUMP_LINEAR:\n",
      "                                        coef  std err      t  P>|t|\n",
      "OBRIGAÇÃO_FINAL_POR_SALA              0.0434    0.006  7.129    0.0\n",
      "CUMP_LINEAR                           1.7723    0.286  6.192    0.0\n",
      "OBRIGAÇÃO_FINAL_POR_SALA:CUMP_LINEAR -0.0449    0.008 -5.342    0.0\n",
      "DIAS_FUNCIONAMENTO                    0.0009    0.000  6.838    0.0\n",
      "\n",
      "\n",
      "Reg_group_weighted 55, FOREIGN, weighting function CUMP_LINEAR:\n",
      "                                        coef  std err      t  P>|t|\n",
      "OBRIGAÇÃO_FINAL_POR_SALA              0.0476    0.006  7.518    0.0\n",
      "CUMP_LINEAR                           1.8064    0.296  6.107    0.0\n",
      "OBRIGAÇÃO_FINAL_POR_SALA:CUMP_LINEAR -0.0484    0.009 -5.577    0.0\n",
      "DIAS_FUNCIONAMENTO                    0.0009    0.000  6.327    0.0\n",
      "\n",
      "\n",
      "Reg_group_weighted 56, BRAZILIAN, weighting function CUMP_LINEAR:\n",
      "                                        coef  std err      t  P>|t|\n",
      "OBRIGAÇÃO_FINAL_POR_SALA              0.0050    0.011  0.437  0.662\n",
      "CUMP_LINEAR                           0.9696    0.511  1.896  0.059\n",
      "OBRIGAÇÃO_FINAL_POR_SALA:CUMP_LINEAR -0.0011    0.015 -0.073  0.942\n",
      "DIAS_FUNCIONAMENTO                    0.0007    0.000  3.548  0.000\n",
      "\n",
      "\n",
      "Reg_group_weighted 57, ALL, weighting function CUMP_TRIWEIGHT:\n",
      "                                           coef  std err      t  P>|t|\n",
      "OBRIGAÇÃO_FINAL_POR_SALA                 0.0434    0.006  7.129    0.0\n",
      "CUMP_TRIWEIGHT                           1.7723    0.286  6.192    0.0\n",
      "OBRIGAÇÃO_FINAL_POR_SALA:CUMP_TRIWEIGHT -0.0449    0.008 -5.342    0.0\n",
      "DIAS_FUNCIONAMENTO                       0.0009    0.000  6.838    0.0\n",
      "\n",
      "\n",
      "Reg_group_weighted 58, FOREIGN, weighting function CUMP_TRIWEIGHT:\n",
      "                                           coef  std err      t  P>|t|\n",
      "OBRIGAÇÃO_FINAL_POR_SALA                 0.0476    0.006  7.518    0.0\n",
      "CUMP_TRIWEIGHT                           1.8064    0.296  6.107    0.0\n",
      "OBRIGAÇÃO_FINAL_POR_SALA:CUMP_TRIWEIGHT -0.0484    0.009 -5.577    0.0\n",
      "DIAS_FUNCIONAMENTO                       0.0009    0.000  6.327    0.0\n",
      "\n",
      "\n",
      "Reg_group_weighted 59, BRAZILIAN, weighting function CUMP_TRIWEIGHT:\n",
      "                                           coef  std err      t  P>|t|\n",
      "OBRIGAÇÃO_FINAL_POR_SALA                 0.0050    0.011  0.437  0.662\n",
      "CUMP_TRIWEIGHT                           0.9696    0.511  1.896  0.059\n",
      "OBRIGAÇÃO_FINAL_POR_SALA:CUMP_TRIWEIGHT -0.0011    0.015 -0.073  0.942\n",
      "DIAS_FUNCIONAMENTO                       0.0007    0.000  3.548  0.000\n",
      "\n",
      "\n"
     ]
    }
   ],
   "source": [
    "works = ['ALL', 'FOREIGN', 'BRAZILIAN']\n",
    "\n",
    "for i in range(last_g_count, g_count):\n",
    "    print(f'Reg_group_weighted {i}, {works[i%3]}, weighting function {weight_funcs[(i-last_g_count)//3]}:')\n",
    "    print(pd.read_html(group_weighted[f'reg_gw{i}'].summary().\n",
    "                       tables[1].as_html(),header=0,index_col=0)[0].iloc[-4:,:-2])\n",
    "    print('\\n')"
   ]
  },
  {
   "cell_type": "markdown",
   "metadata": {
    "heading_collapsed": true
   },
   "source": [
    "##### 2017-2018"
   ]
  },
  {
   "cell_type": "code",
   "execution_count": 66,
   "metadata": {
    "ExecuteTime": {
     "end_time": "2021-06-10T20:00:12.597396Z",
     "start_time": "2021-06-10T20:00:12.058217Z"
    },
    "hidden": true
   },
   "outputs": [],
   "source": [
    "last_g_count = g_count # to get num range of regressions to be executed\n",
    "\n",
    "for f in weight_funcs:\n",
    "    # adjust formula as we run through the weighting funcs\n",
    "    formul = f'np.log(PUBLICO) ~ OBRIGAÇÃO_FINAL_POR_SALA*{f} + DIAS_FUNCIONAMENTO + C(REGISTRO_GRUPO) + C(ANO_CINEMATOGRAFICO)'\n",
    "    group_weighted[f'reg_gw{g_count}'] = smf.ols(formula = formul, data=gtds_1718).fit()\n",
    "    g_count += 1\n",
    "    group_weighted[f'reg_gw{g_count}'] = smf.ols(formula = formul, data=gest_1718).fit()\n",
    "    g_count += 1\n",
    "    group_weighted[f'reg_gw{g_count}'] = smf.ols(formula = formul, data=gbras_1718).fit()\n",
    "    g_count += 1"
   ]
  },
  {
   "cell_type": "code",
   "execution_count": 67,
   "metadata": {
    "ExecuteTime": {
     "end_time": "2021-06-10T20:00:14.920313Z",
     "start_time": "2021-06-10T20:00:13.471180Z"
    },
    "hidden": true
   },
   "outputs": [
    {
     "name": "stdout",
     "output_type": "stream",
     "text": [
      "Reg_group_weighted 60, ALL, weighting function CUMP_QUADRATIC:\n",
      "                                           coef  std err      t  P>|t|\n",
      "OBRIGAÇÃO_FINAL_POR_SALA                 0.0634    0.009  7.394    0.0\n",
      "CUMP_QUADRATIC                           2.3471    0.384  6.106    0.0\n",
      "OBRIGAÇÃO_FINAL_POR_SALA:CUMP_QUADRATIC -0.0621    0.013 -4.930    0.0\n",
      "DIAS_FUNCIONAMENTO                       0.0010    0.000  4.651    0.0\n",
      "\n",
      "\n",
      "Reg_group_weighted 61, FOREIGN, weighting function CUMP_QUADRATIC:\n",
      "                                           coef  std err      t  P>|t|\n",
      "OBRIGAÇÃO_FINAL_POR_SALA                 0.0707    0.009  7.590    0.0\n",
      "CUMP_QUADRATIC                           2.4410    0.409  5.967    0.0\n",
      "OBRIGAÇÃO_FINAL_POR_SALA:CUMP_QUADRATIC -0.0692    0.013 -5.147    0.0\n",
      "DIAS_FUNCIONAMENTO                       0.0009    0.000  3.931    0.0\n",
      "\n",
      "\n",
      "Reg_group_weighted 62, BRAZILIAN, weighting function CUMP_QUADRATIC:\n",
      "                                           coef  std err      t  P>|t|\n",
      "OBRIGAÇÃO_FINAL_POR_SALA                -0.0005    0.022 -0.023  0.982\n",
      "CUMP_QUADRATIC                           1.1560    0.832  1.390  0.166\n",
      "OBRIGAÇÃO_FINAL_POR_SALA:CUMP_QUADRATIC  0.0004    0.026  0.017  0.987\n",
      "DIAS_FUNCIONAMENTO                       0.0008    0.000  2.383  0.018\n",
      "\n",
      "\n",
      "Reg_group_weighted 63, ALL, weighting function CUMP_NORMALIZADO:\n",
      "                                             coef  std err      t  P>|t|\n",
      "OBRIGAÇÃO_FINAL_POR_SALA                   0.0689    0.017  3.972  0.000\n",
      "CUMP_NORMALIZADO                           4.2157    1.552  2.716  0.007\n",
      "OBRIGAÇÃO_FINAL_POR_SALA:CUMP_NORMALIZADO -0.1097    0.054 -2.014  0.045\n",
      "DIAS_FUNCIONAMENTO                         0.0011    0.000  4.743  0.000\n",
      "\n",
      "\n",
      "Reg_group_weighted 64, FOREIGN, weighting function CUMP_NORMALIZADO:\n",
      "                                             coef  std err      t  P>|t|\n",
      "OBRIGAÇÃO_FINAL_POR_SALA                   0.1037    0.020  5.188  0.000\n",
      "CUMP_NORMALIZADO                           6.8056    1.713  3.972  0.000\n",
      "OBRIGAÇÃO_FINAL_POR_SALA:CUMP_NORMALIZADO -0.2133    0.062 -3.464  0.001\n",
      "DIAS_FUNCIONAMENTO                         0.0010    0.000  4.193  0.000\n",
      "\n",
      "\n",
      "Reg_group_weighted 65, BRAZILIAN, weighting function CUMP_NORMALIZADO:\n",
      "                                             coef  std err      t  P>|t|\n",
      "OBRIGAÇÃO_FINAL_POR_SALA                  -0.0224    0.029 -0.759  0.449\n",
      "CUMP_NORMALIZADO                           2.0230    2.418  0.837  0.404\n",
      "OBRIGAÇÃO_FINAL_POR_SALA:CUMP_NORMALIZADO  0.0601    0.085  0.710  0.479\n",
      "DIAS_FUNCIONAMENTO                         0.0009    0.000  2.406  0.017\n",
      "\n",
      "\n",
      "Reg_group_weighted 66, ALL, weighting function CUMP_LINEAR:\n",
      "                                        coef  std err      t  P>|t|\n",
      "OBRIGAÇÃO_FINAL_POR_SALA              0.0581    0.008  7.434    0.0\n",
      "CUMP_LINEAR                           2.2647    0.425  5.333    0.0\n",
      "OBRIGAÇÃO_FINAL_POR_SALA:CUMP_LINEAR -0.0608    0.013 -4.707    0.0\n",
      "DIAS_FUNCIONAMENTO                    0.0010    0.000  4.628    0.0\n",
      "\n",
      "\n",
      "Reg_group_weighted 67, FOREIGN, weighting function CUMP_LINEAR:\n",
      "                                        coef  std err      t  P>|t|\n",
      "OBRIGAÇÃO_FINAL_POR_SALA              0.0633    0.008  7.497    0.0\n",
      "CUMP_LINEAR                           2.2843    0.450  5.079    0.0\n",
      "OBRIGAÇÃO_FINAL_POR_SALA:CUMP_LINEAR -0.0652    0.014 -4.757    0.0\n",
      "DIAS_FUNCIONAMENTO                    0.0009    0.000  3.950    0.0\n",
      "\n",
      "\n",
      "Reg_group_weighted 68, BRAZILIAN, weighting function CUMP_LINEAR:\n",
      "                                        coef  std err      t  P>|t|\n",
      "OBRIGAÇÃO_FINAL_POR_SALA              0.0089    0.018  0.501  0.617\n",
      "CUMP_LINEAR                           1.7294    0.793  2.182  0.030\n",
      "OBRIGAÇÃO_FINAL_POR_SALA:CUMP_LINEAR -0.0182    0.024 -0.760  0.448\n",
      "DIAS_FUNCIONAMENTO                    0.0008    0.000  2.298  0.023\n",
      "\n",
      "\n",
      "Reg_group_weighted 69, ALL, weighting function CUMP_TRIWEIGHT:\n",
      "                                           coef  std err      t  P>|t|\n",
      "OBRIGAÇÃO_FINAL_POR_SALA                 0.0581    0.008  7.434    0.0\n",
      "CUMP_TRIWEIGHT                           2.2647    0.425  5.333    0.0\n",
      "OBRIGAÇÃO_FINAL_POR_SALA:CUMP_TRIWEIGHT -0.0608    0.013 -4.707    0.0\n",
      "DIAS_FUNCIONAMENTO                       0.0010    0.000  4.628    0.0\n",
      "\n",
      "\n",
      "Reg_group_weighted 70, FOREIGN, weighting function CUMP_TRIWEIGHT:\n",
      "                                           coef  std err      t  P>|t|\n",
      "OBRIGAÇÃO_FINAL_POR_SALA                 0.0633    0.008  7.497    0.0\n",
      "CUMP_TRIWEIGHT                           2.2843    0.450  5.079    0.0\n",
      "OBRIGAÇÃO_FINAL_POR_SALA:CUMP_TRIWEIGHT -0.0652    0.014 -4.757    0.0\n",
      "DIAS_FUNCIONAMENTO                       0.0009    0.000  3.950    0.0\n",
      "\n",
      "\n",
      "Reg_group_weighted 71, BRAZILIAN, weighting function CUMP_TRIWEIGHT:\n",
      "                                           coef  std err      t  P>|t|\n",
      "OBRIGAÇÃO_FINAL_POR_SALA                 0.0089    0.018  0.501  0.617\n",
      "CUMP_TRIWEIGHT                           1.7294    0.793  2.182  0.030\n",
      "OBRIGAÇÃO_FINAL_POR_SALA:CUMP_TRIWEIGHT -0.0182    0.024 -0.760  0.448\n",
      "DIAS_FUNCIONAMENTO                       0.0008    0.000  2.298  0.023\n",
      "\n",
      "\n"
     ]
    }
   ],
   "source": [
    "works = ['ALL', 'FOREIGN', 'BRAZILIAN']\n",
    "\n",
    "for i in range(last_g_count, g_count):\n",
    "    print(f'Reg_group_weighted {i}, {works[i%3]}, weighting function {weight_funcs[(i-last_g_count)//3]}:')\n",
    "    print(pd.read_html(group_weighted[f'reg_gw{i}'].summary().\n",
    "                       tables[1].as_html(),header=0,index_col=0)[0].iloc[-4:,:-2])\n",
    "    print('\\n')"
   ]
  },
  {
   "cell_type": "markdown",
   "metadata": {
    "heading_collapsed": true
   },
   "source": [
    "#### Without entity fixed-effects"
   ]
  },
  {
   "cell_type": "markdown",
   "metadata": {
    "hidden": true
   },
   "source": [
    "##### 2017-2019"
   ]
  },
  {
   "cell_type": "code",
   "execution_count": 77,
   "metadata": {
    "ExecuteTime": {
     "end_time": "2021-06-10T20:06:59.837975Z",
     "start_time": "2021-06-10T20:06:59.587646Z"
    },
    "hidden": true
   },
   "outputs": [],
   "source": [
    "g_count = 72\n",
    "\n",
    "last_g_count = g_count # to get num range of regressions to be executed\n",
    "\n",
    "for f in weight_funcs:\n",
    "    # adjust formula as we run through the weighting funcs\n",
    "    formul = f'np.log(PUBLICO) ~ OBRIGAÇÃO_FINAL_POR_SALA*{f} + DIAS_FUNCIONAMENTO + SALAS_GRUPO_INFERIDO + ASSENTOS_GRUPO_INFERIDO + C(ANO_CINEMATOGRAFICO)'\n",
    "    group_weighted[f'reg_gw{g_count}'] = smf.ols(formula = formul, data=gtds_1719).fit()\n",
    "    g_count += 1\n",
    "    group_weighted[f'reg_gw{g_count}'] = smf.ols(formula = formul, data=gest_1719).fit()\n",
    "    g_count += 1\n",
    "    group_weighted[f'reg_gw{g_count}'] = smf.ols(formula = formul, data=gbras_1719).fit()\n",
    "    g_count += 1"
   ]
  },
  {
   "cell_type": "code",
   "execution_count": 78,
   "metadata": {
    "ExecuteTime": {
     "end_time": "2021-06-10T20:07:00.576936Z",
     "start_time": "2021-06-10T20:07:00.353512Z"
    },
    "hidden": true
   },
   "outputs": [
    {
     "name": "stdout",
     "output_type": "stream",
     "text": [
      "Reg_group_weighted 72, ALL, weighting function CUMP_QUADRATIC:\n",
      "                                           coef   std err       t  P>|t|\n",
      "OBRIGAÇÃO_FINAL_POR_SALA                 0.0554  0.014000   3.967  0.000\n",
      "CUMP_QUADRATIC                           0.7016  0.500000   1.402  0.161\n",
      "OBRIGAÇÃO_FINAL_POR_SALA:CUMP_QUADRATIC  0.0242  0.016000   1.478  0.140\n",
      "DIAS_FUNCIONAMENTO                       0.0008  0.000077  10.991  0.000\n",
      "SALAS_GRUPO_INFERIDO                     0.0376  0.014000   2.743  0.006\n",
      "ASSENTOS_GRUPO_INFERIDO                 -0.0003  0.000056  -5.346  0.000\n",
      "\n",
      "\n",
      "Reg_group_weighted 73, FOREIGN, weighting function CUMP_QUADRATIC:\n",
      "                                           coef   std err       t  P>|t|\n",
      "OBRIGAÇÃO_FINAL_POR_SALA                 0.0590  0.015000   3.936  0.000\n",
      "CUMP_QUADRATIC                           0.9782  0.537000   1.822  0.069\n",
      "OBRIGAÇÃO_FINAL_POR_SALA:CUMP_QUADRATIC  0.0203  0.018000   1.154  0.249\n",
      "DIAS_FUNCIONAMENTO                       0.0008  0.000081  10.429  0.000\n",
      "SALAS_GRUPO_INFERIDO                     0.0369  0.014000   2.556  0.011\n",
      "ASSENTOS_GRUPO_INFERIDO                 -0.0003  0.000058  -5.023  0.000\n",
      "\n",
      "\n",
      "Reg_group_weighted 74, BRAZILIAN, weighting function CUMP_QUADRATIC:\n",
      "                                           coef   std err       t  P>|t|\n",
      "OBRIGAÇÃO_FINAL_POR_SALA                -0.0058  0.020000  -0.286  0.775\n",
      "CUMP_QUADRATIC                          -2.0951  0.720000  -2.910  0.004\n",
      "OBRIGAÇÃO_FINAL_POR_SALA:CUMP_QUADRATIC  0.1050  0.023000   4.588  0.000\n",
      "DIAS_FUNCIONAMENTO                       0.0008  0.000080  10.016  0.000\n",
      "SALAS_GRUPO_INFERIDO                     0.0492  0.014000   3.474  0.001\n",
      "ASSENTOS_GRUPO_INFERIDO                 -0.0003  0.000057  -5.886  0.000\n",
      "\n",
      "\n",
      "Reg_group_weighted 75, ALL, weighting function CUMP_NORMALIZADO:\n",
      "                                             coef   std err       t  P>|t|\n",
      "OBRIGAÇÃO_FINAL_POR_SALA                   0.0382  0.028000   1.390  0.165\n",
      "CUMP_NORMALIZADO                           1.8910  2.114000   0.895  0.371\n",
      "OBRIGAÇÃO_FINAL_POR_SALA:CUMP_NORMALIZADO  0.1104  0.075000   1.472  0.141\n",
      "DIAS_FUNCIONAMENTO                         0.0009  0.000077  11.109  0.000\n",
      "SALAS_GRUPO_INFERIDO                       0.0378  0.014000   2.746  0.006\n",
      "ASSENTOS_GRUPO_INFERIDO                   -0.0003  0.000056  -5.383  0.000\n",
      "\n",
      "\n",
      "Reg_group_weighted 76, FOREIGN, weighting function CUMP_NORMALIZADO:\n",
      "                                             coef   std err       t  P>|t|\n",
      "OBRIGAÇÃO_FINAL_POR_SALA                   0.0586  0.031000   1.902  0.058\n",
      "CUMP_NORMALIZADO                           5.2639  2.407000   2.187  0.029\n",
      "OBRIGAÇÃO_FINAL_POR_SALA:CUMP_NORMALIZADO  0.0496  0.084000   0.591  0.555\n",
      "DIAS_FUNCIONAMENTO                         0.0009  0.000081  10.593  0.000\n",
      "SALAS_GRUPO_INFERIDO                       0.0383  0.014000   2.669  0.008\n",
      "ASSENTOS_GRUPO_INFERIDO                   -0.0003  0.000058  -5.180  0.000\n",
      "\n",
      "\n",
      "Reg_group_weighted 77, BRAZILIAN, weighting function CUMP_NORMALIZADO:\n",
      "                                             coef   std err      t  P>|t|\n",
      "OBRIGAÇÃO_FINAL_POR_SALA                  -0.0471  0.032000 -1.467  0.143\n",
      "CUMP_NORMALIZADO                          -8.4813  2.397000 -3.539  0.000\n",
      "OBRIGAÇÃO_FINAL_POR_SALA:CUMP_NORMALIZADO  0.3668  0.085000  4.291  0.000\n",
      "DIAS_FUNCIONAMENTO                         0.0008  0.000081  9.978  0.000\n",
      "SALAS_GRUPO_INFERIDO                       0.0511  0.014000  3.569  0.000\n",
      "ASSENTOS_GRUPO_INFERIDO                   -0.0003  0.000058 -5.980  0.000\n",
      "\n",
      "\n",
      "Reg_group_weighted 78, ALL, weighting function CUMP_LINEAR:\n",
      "                                        coef   std err       t  P>|t|\n",
      "OBRIGAÇÃO_FINAL_POR_SALA              0.0709  0.012000   6.138  0.000\n",
      "CUMP_LINEAR                           1.0294  0.539000   1.909  0.057\n",
      "OBRIGAÇÃO_FINAL_POR_SALA:CUMP_LINEAR  0.0080  0.016000   0.501  0.617\n",
      "DIAS_FUNCIONAMENTO                    0.0009  0.000078  11.082  0.000\n",
      "SALAS_GRUPO_INFERIDO                  0.0364  0.014000   2.618  0.009\n",
      "ASSENTOS_GRUPO_INFERIDO              -0.0003  0.000056  -5.251  0.000\n",
      "\n",
      "\n",
      "Reg_group_weighted 79, FOREIGN, weighting function CUMP_LINEAR:\n",
      "                                        coef   std err       t  P>|t|\n",
      "OBRIGAÇÃO_FINAL_POR_SALA              0.0756  0.012000   6.118  0.000\n",
      "CUMP_LINEAR                           1.3363  0.577000   2.316  0.021\n",
      "OBRIGAÇÃO_FINAL_POR_SALA:CUMP_LINEAR  0.0020  0.017000   0.115  0.909\n",
      "DIAS_FUNCIONAMENTO                    0.0009  0.000082  10.504  0.000\n",
      "SALAS_GRUPO_INFERIDO                  0.0358  0.015000   2.444  0.015\n",
      "ASSENTOS_GRUPO_INFERIDO              -0.0003  0.000059  -4.938  0.000\n",
      "\n",
      "\n",
      "Reg_group_weighted 80, BRAZILIAN, weighting function CUMP_LINEAR:\n",
      "                                        coef   std err       t  P>|t|\n",
      "OBRIGAÇÃO_FINAL_POR_SALA              0.0360  0.015000   2.388  0.017\n",
      "CUMP_LINEAR                          -0.8972  0.693000  -1.295  0.196\n",
      "OBRIGAÇÃO_FINAL_POR_SALA:CUMP_LINEAR  0.0646  0.020000   3.208  0.001\n",
      "DIAS_FUNCIONAMENTO                    0.0008  0.000080  10.115  0.000\n",
      "SALAS_GRUPO_INFERIDO                  0.0483  0.014000   3.385  0.001\n",
      "ASSENTOS_GRUPO_INFERIDO              -0.0003  0.000058  -5.835  0.000\n",
      "\n",
      "\n",
      "Reg_group_weighted 81, ALL, weighting function CUMP_TRIWEIGHT:\n",
      "                                           coef   std err       t  P>|t|\n",
      "OBRIGAÇÃO_FINAL_POR_SALA                 0.0709  0.012000   6.138  0.000\n",
      "CUMP_TRIWEIGHT                           1.0294  0.539000   1.909  0.057\n",
      "OBRIGAÇÃO_FINAL_POR_SALA:CUMP_TRIWEIGHT  0.0080  0.016000   0.501  0.617\n",
      "DIAS_FUNCIONAMENTO                       0.0009  0.000078  11.082  0.000\n",
      "SALAS_GRUPO_INFERIDO                     0.0364  0.014000   2.618  0.009\n",
      "ASSENTOS_GRUPO_INFERIDO                 -0.0003  0.000056  -5.251  0.000\n",
      "\n",
      "\n",
      "Reg_group_weighted 82, FOREIGN, weighting function CUMP_TRIWEIGHT:\n",
      "                                           coef   std err       t  P>|t|\n",
      "OBRIGAÇÃO_FINAL_POR_SALA                 0.0756  0.012000   6.118  0.000\n",
      "CUMP_TRIWEIGHT                           1.3363  0.577000   2.316  0.021\n",
      "OBRIGAÇÃO_FINAL_POR_SALA:CUMP_TRIWEIGHT  0.0020  0.017000   0.115  0.909\n",
      "DIAS_FUNCIONAMENTO                       0.0009  0.000082  10.504  0.000\n",
      "SALAS_GRUPO_INFERIDO                     0.0358  0.015000   2.444  0.015\n",
      "ASSENTOS_GRUPO_INFERIDO                 -0.0003  0.000059  -4.938  0.000\n",
      "\n",
      "\n",
      "Reg_group_weighted 83, BRAZILIAN, weighting function CUMP_TRIWEIGHT:\n",
      "                                           coef   std err       t  P>|t|\n",
      "OBRIGAÇÃO_FINAL_POR_SALA                 0.0360  0.015000   2.388  0.017\n",
      "CUMP_TRIWEIGHT                          -0.8972  0.693000  -1.295  0.196\n",
      "OBRIGAÇÃO_FINAL_POR_SALA:CUMP_TRIWEIGHT  0.0646  0.020000   3.208  0.001\n",
      "DIAS_FUNCIONAMENTO                       0.0008  0.000080  10.115  0.000\n",
      "SALAS_GRUPO_INFERIDO                     0.0483  0.014000   3.385  0.001\n",
      "ASSENTOS_GRUPO_INFERIDO                 -0.0003  0.000058  -5.835  0.000\n",
      "\n",
      "\n"
     ]
    }
   ],
   "source": [
    "works = ['ALL', 'FOREIGN', 'BRAZILIAN']\n",
    "\n",
    "for i in range(last_g_count, g_count):\n",
    "    print(f'Reg_group_weighted {i}, {works[i%3]}, weighting function {weight_funcs[(i-last_g_count)//3]}:')\n",
    "    print(pd.read_html(group_weighted[f'reg_gw{i}'].summary().\n",
    "                       tables[1].as_html(),header=0,index_col=0)[0].iloc[-6:,:-2])\n",
    "    print('\\n')"
   ]
  },
  {
   "cell_type": "markdown",
   "metadata": {
    "heading_collapsed": true,
    "hidden": true
   },
   "source": [
    "##### 2017-2018"
   ]
  },
  {
   "cell_type": "code",
   "execution_count": 79,
   "metadata": {
    "ExecuteTime": {
     "end_time": "2021-06-10T20:07:11.755896Z",
     "start_time": "2021-06-10T20:07:11.520522Z"
    },
    "hidden": true
   },
   "outputs": [],
   "source": [
    "last_g_count = g_count # to get num range of regressions to be executed\n",
    "\n",
    "for f in weight_funcs:\n",
    "    # adjust formula as we run through the weighting funcs\n",
    "    formul = f'np.log(PUBLICO) ~ OBRIGAÇÃO_FINAL_POR_SALA*{f} + DIAS_FUNCIONAMENTO + SALAS_GRUPO_INFERIDO + ASSENTOS_GRUPO_INFERIDO + C(ANO_CINEMATOGRAFICO)'\n",
    "    group_weighted[f'reg_gw{g_count}'] = smf.ols(formula = formul, data=gtds_1718).fit()\n",
    "    g_count += 1\n",
    "    group_weighted[f'reg_gw{g_count}'] = smf.ols(formula = formul, data=gest_1718).fit()\n",
    "    g_count += 1\n",
    "    group_weighted[f'reg_gw{g_count}'] = smf.ols(formula = formul, data=gbras_1718).fit()\n",
    "    g_count += 1"
   ]
  },
  {
   "cell_type": "code",
   "execution_count": 80,
   "metadata": {
    "ExecuteTime": {
     "end_time": "2021-06-10T20:07:12.848561Z",
     "start_time": "2021-06-10T20:07:12.624161Z"
    },
    "hidden": true,
    "scrolled": true
   },
   "outputs": [
    {
     "name": "stdout",
     "output_type": "stream",
     "text": [
      "Reg_group_weighted 84, ALL, weighting function CUMP_QUADRATIC:\n",
      "                                           coef   std err      t  P>|t|\n",
      "OBRIGAÇÃO_FINAL_POR_SALA                 0.0534  0.012000  4.452  0.000\n",
      "CUMP_QUADRATIC                           0.3966  0.435000  0.913  0.362\n",
      "OBRIGAÇÃO_FINAL_POR_SALA:CUMP_QUADRATIC  0.0366  0.014000  2.560  0.011\n",
      "DIAS_FUNCIONAMENTO                       0.0008  0.000082  9.309  0.000\n",
      "SALAS_GRUPO_INFERIDO                     0.0118  0.016000  0.747  0.456\n",
      "ASSENTOS_GRUPO_INFERIDO                 -0.0002  0.000064 -2.754  0.006\n",
      "\n",
      "\n",
      "Reg_group_weighted 85, FOREIGN, weighting function CUMP_QUADRATIC:\n",
      "                                           coef  std err      t  P>|t|\n",
      "OBRIGAÇÃO_FINAL_POR_SALA                 0.0568  0.01300  4.264  0.000\n",
      "CUMP_QUADRATIC                           0.6684  0.48300  1.385  0.167\n",
      "OBRIGAÇÃO_FINAL_POR_SALA:CUMP_QUADRATIC  0.0327  0.01600  2.067  0.039\n",
      "DIAS_FUNCIONAMENTO                       0.0008  0.00009  8.593  0.000\n",
      "SALAS_GRUPO_INFERIDO                     0.0106  0.01700  0.614  0.540\n",
      "ASSENTOS_GRUPO_INFERIDO                 -0.0002  0.00007 -2.464  0.014\n",
      "\n",
      "\n",
      "Reg_group_weighted 86, BRAZILIAN, weighting function CUMP_QUADRATIC:\n",
      "                                           coef   std err      t  P>|t|\n",
      "OBRIGAÇÃO_FINAL_POR_SALA                -0.0116  0.017000 -0.669  0.504\n",
      "CUMP_QUADRATIC                          -2.5526  0.629000 -4.059  0.000\n",
      "OBRIGAÇÃO_FINAL_POR_SALA:CUMP_QUADRATIC  0.1219  0.020000  6.084  0.000\n",
      "DIAS_FUNCIONAMENTO                       0.0008  0.000086  8.890  0.000\n",
      "SALAS_GRUPO_INFERIDO                     0.0159  0.017000  0.961  0.337\n",
      "ASSENTOS_GRUPO_INFERIDO                 -0.0002  0.000067 -2.901  0.004\n",
      "\n",
      "\n",
      "Reg_group_weighted 87, ALL, weighting function CUMP_NORMALIZADO:\n",
      "                                             coef   std err      t  P>|t|\n",
      "OBRIGAÇÃO_FINAL_POR_SALA                   0.0279  0.024000  1.167  0.244\n",
      "CUMP_NORMALIZADO                           0.6711  1.851000  0.363  0.717\n",
      "OBRIGAÇÃO_FINAL_POR_SALA:CUMP_NORMALIZADO  0.1599  0.066000  2.432  0.015\n",
      "DIAS_FUNCIONAMENTO                         0.0008  0.000083  9.411  0.000\n",
      "SALAS_GRUPO_INFERIDO                       0.0133  0.016000  0.830  0.407\n",
      "ASSENTOS_GRUPO_INFERIDO                   -0.0002  0.000065 -2.875  0.004\n",
      "\n",
      "\n",
      "Reg_group_weighted 88, FOREIGN, weighting function CUMP_NORMALIZADO:\n",
      "                                             coef   std err      t  P>|t|\n",
      "OBRIGAÇÃO_FINAL_POR_SALA                   0.0469  0.027000  1.710  0.088\n",
      "CUMP_NORMALIZADO                           3.9429  2.158000  1.827  0.068\n",
      "OBRIGAÇÃO_FINAL_POR_SALA:CUMP_NORMALIZADO  0.1023  0.075000  1.357  0.176\n",
      "DIAS_FUNCIONAMENTO                         0.0008  0.000089  8.787  0.000\n",
      "SALAS_GRUPO_INFERIDO                       0.0142  0.017000  0.832  0.406\n",
      "ASSENTOS_GRUPO_INFERIDO                   -0.0002  0.000069 -2.738  0.006\n",
      "\n",
      "\n",
      "Reg_group_weighted 89, BRAZILIAN, weighting function CUMP_NORMALIZADO:\n",
      "                                             coef   std err      t  P>|t|\n",
      "OBRIGAÇÃO_FINAL_POR_SALA                  -0.0576  0.028000 -2.029  0.043\n",
      "CUMP_NORMALIZADO                          -9.7425  2.131000 -4.572  0.000\n",
      "OBRIGAÇÃO_FINAL_POR_SALA:CUMP_NORMALIZADO  0.4168  0.076000  5.478  0.000\n",
      "DIAS_FUNCIONAMENTO                         0.0008  0.000089  8.696  0.000\n",
      "SALAS_GRUPO_INFERIDO                       0.0213  0.017000  1.254  0.211\n",
      "ASSENTOS_GRUPO_INFERIDO                   -0.0002  0.000069 -3.173  0.002\n",
      "\n",
      "\n",
      "Reg_group_weighted 90, ALL, weighting function CUMP_LINEAR:\n",
      "                                        coef   std err      t  P>|t|\n",
      "OBRIGAÇÃO_FINAL_POR_SALA              0.0695  0.010000  6.930  0.000\n",
      "CUMP_LINEAR                           0.6705  0.475000  1.411  0.159\n",
      "OBRIGAÇÃO_FINAL_POR_SALA:CUMP_LINEAR  0.0218  0.014000  1.537  0.125\n",
      "DIAS_FUNCIONAMENTO                    0.0008  0.000084  9.471  0.000\n",
      "SALAS_GRUPO_INFERIDO                  0.0083  0.016000  0.505  0.614\n",
      "ASSENTOS_GRUPO_INFERIDO              -0.0002  0.000066 -2.550  0.011\n",
      "\n",
      "\n",
      "Reg_group_weighted 91, FOREIGN, weighting function CUMP_LINEAR:\n",
      "                                        coef   std err      t  P>|t|\n",
      "OBRIGAÇÃO_FINAL_POR_SALA              0.0741  0.011000  6.662  0.000\n",
      "CUMP_LINEAR                           0.9735  0.527000  1.848  0.065\n",
      "OBRIGAÇÃO_FINAL_POR_SALA:CUMP_LINEAR  0.0158  0.016000  1.010  0.313\n",
      "DIAS_FUNCIONAMENTO                    0.0008  0.000092  8.728  0.000\n",
      "SALAS_GRUPO_INFERIDO                  0.0074  0.018000  0.413  0.680\n",
      "ASSENTOS_GRUPO_INFERIDO              -0.0002  0.000072 -2.295  0.022\n",
      "\n",
      "\n",
      "Reg_group_weighted 92, BRAZILIAN, weighting function CUMP_LINEAR:\n",
      "                                        coef   std err      t  P>|t|\n",
      "OBRIGAÇÃO_FINAL_POR_SALA              0.0320  0.013000  2.434  0.015\n",
      "CUMP_LINEAR                          -1.3946  0.610000 -2.285  0.023\n",
      "OBRIGAÇÃO_FINAL_POR_SALA:CUMP_LINEAR  0.0825  0.018000  4.620  0.000\n",
      "DIAS_FUNCIONAMENTO                    0.0008  0.000087  9.094  0.000\n",
      "SALAS_GRUPO_INFERIDO                  0.0127  0.017000  0.751  0.453\n",
      "ASSENTOS_GRUPO_INFERIDO              -0.0002  0.000068 -2.743  0.006\n",
      "\n",
      "\n",
      "Reg_group_weighted 93, ALL, weighting function CUMP_TRIWEIGHT:\n",
      "                                           coef   std err      t  P>|t|\n",
      "OBRIGAÇÃO_FINAL_POR_SALA                 0.0695  0.010000  6.930  0.000\n",
      "CUMP_TRIWEIGHT                           0.6705  0.475000  1.411  0.159\n",
      "OBRIGAÇÃO_FINAL_POR_SALA:CUMP_TRIWEIGHT  0.0218  0.014000  1.537  0.125\n",
      "DIAS_FUNCIONAMENTO                       0.0008  0.000084  9.471  0.000\n",
      "SALAS_GRUPO_INFERIDO                     0.0083  0.016000  0.505  0.614\n",
      "ASSENTOS_GRUPO_INFERIDO                 -0.0002  0.000066 -2.550  0.011\n",
      "\n",
      "\n",
      "Reg_group_weighted 94, FOREIGN, weighting function CUMP_TRIWEIGHT:\n",
      "                                           coef   std err      t  P>|t|\n",
      "OBRIGAÇÃO_FINAL_POR_SALA                 0.0741  0.011000  6.662  0.000\n",
      "CUMP_TRIWEIGHT                           0.9735  0.527000  1.848  0.065\n",
      "OBRIGAÇÃO_FINAL_POR_SALA:CUMP_TRIWEIGHT  0.0158  0.016000  1.010  0.313\n",
      "DIAS_FUNCIONAMENTO                       0.0008  0.000092  8.728  0.000\n",
      "SALAS_GRUPO_INFERIDO                     0.0074  0.018000  0.413  0.680\n",
      "ASSENTOS_GRUPO_INFERIDO                 -0.0002  0.000072 -2.295  0.022\n",
      "\n",
      "\n",
      "Reg_group_weighted 95, BRAZILIAN, weighting function CUMP_TRIWEIGHT:\n",
      "                                           coef   std err      t  P>|t|\n",
      "OBRIGAÇÃO_FINAL_POR_SALA                 0.0320  0.013000  2.434  0.015\n",
      "CUMP_TRIWEIGHT                          -1.3946  0.610000 -2.285  0.023\n",
      "OBRIGAÇÃO_FINAL_POR_SALA:CUMP_TRIWEIGHT  0.0825  0.018000  4.620  0.000\n",
      "DIAS_FUNCIONAMENTO                       0.0008  0.000087  9.094  0.000\n",
      "SALAS_GRUPO_INFERIDO                     0.0127  0.017000  0.751  0.453\n",
      "ASSENTOS_GRUPO_INFERIDO                 -0.0002  0.000068 -2.743  0.006\n",
      "\n",
      "\n"
     ]
    }
   ],
   "source": [
    "works = ['ALL', 'FOREIGN', 'BRAZILIAN']\n",
    "\n",
    "for i in range(last_g_count, g_count):\n",
    "    print(f'Reg_group_weighted {i}, {works[i%3]}, weighting function {weight_funcs[(i-last_g_count)//3]}:')\n",
    "    print(pd.read_html(group_weighted[f'reg_gw{i}'].summary().\n",
    "                       tables[1].as_html(),header=0,index_col=0)[0].iloc[-6:,:-2])\n",
    "    print('\\n')"
   ]
  },
  {
   "cell_type": "markdown",
   "metadata": {},
   "source": [
    "## Segmented regressions"
   ]
  },
  {
   "cell_type": "markdown",
   "metadata": {},
   "source": [
    "Define multiplex $i$ in year $t$ and title \"nationality\" (meaning all, foreign or Brazilian movie sessions) and nominal screen quota obligation $SQ$:\n",
    "\n",
    "$$ \\ln(Y_{nit}) = \\beta_0 + \\beta_1 SQ_{it} + \\theta X_{it} + \\varepsilon_{it} $$\n",
    "\n",
    "$Y$ is the interest variable that can be either Yearly Income or total public (# of moviegoers). $X_{it}$ is a vector of controls with opening days, movie theater fixed-effects and year fixed-effects. Alternatively, we also drop entity fixed-effects and use number of viewing rooms and seats per movie-theater as controls.\n",
    "\n",
    "Here, we segment regressions by complance level. Each regression comprises a bin of compliance. In addition, 2019 is excluded from all regressions."
   ]
  },
  {
   "cell_type": "markdown",
   "metadata": {},
   "source": [
    "### Preliminary: checking for correlation between compliance levels"
   ]
  },
  {
   "cell_type": "markdown",
   "metadata": {},
   "source": [
    "*One problem of segmented regressions (by compliance level) is that a movie theater may shift bins from one year to another, as a result, only one observation for said movie theater will be available for each bin, making it impossible to use fixed-effects on that particular movie theater*"
   ]
  },
  {
   "cell_type": "code",
   "execution_count": 29,
   "metadata": {
    "ExecuteTime": {
     "end_time": "2021-06-15T21:27:43.144110Z",
     "start_time": "2021-06-15T21:27:43.126590Z"
    }
   },
   "outputs": [
    {
     "data": {
      "text/plain": [
       "408"
      ]
     },
     "execution_count": 29,
     "metadata": {},
     "output_type": "execute_result"
    }
   ],
   "source": [
    "gtds_1718.shape[0]"
   ]
  },
  {
   "cell_type": "code",
   "execution_count": 30,
   "metadata": {
    "ExecuteTime": {
     "end_time": "2021-06-15T21:27:49.664677Z",
     "start_time": "2021-06-15T21:27:49.657659Z"
    }
   },
   "outputs": [
    {
     "name": "stdout",
     "output_type": "stream",
     "text": [
      "10 observations, out of 408, appear in only one of two years and can have no fixed-effects\n"
     ]
    }
   ],
   "source": [
    "# getting only movie theaters that appear in both years\n",
    "dups = gtds_1718[gtds_1718.duplicated(subset=['REGISTRO_COMPLEXO'], keep=False)]\n",
    "\n",
    "print(f'{gtds_1718.shape[0] - dups.shape[0]} observations, out of {gtds_1718.shape[0]}, appear in only one of two years and can\\\n",
    " have no fixed-effects')"
   ]
  },
  {
   "cell_type": "code",
   "execution_count": 31,
   "metadata": {
    "ExecuteTime": {
     "end_time": "2021-06-15T21:27:51.436665Z",
     "start_time": "2021-06-15T21:27:51.418617Z"
    }
   },
   "outputs": [],
   "source": [
    "# getting yearly compliance to compare both\n",
    "d_17 = dups.query('ANO_CINEMATOGRAFICO == 2017')[['REGISTRO_GRUPO','CUMPRIMENTO_PROPORCIONAL']] \n",
    "d_17.rename({'CUMPRIMENTO_PROPORCIONAL':'CUMPRIMENTO_PROPORCIONAL_2017'}, axis=1, inplace=True)\n",
    "\n",
    "d_18 = dups.query('ANO_CINEMATOGRAFICO == 2018')[['REGISTRO_GRUPO','CUMPRIMENTO_PROPORCIONAL']]\n",
    "d_18.rename({'CUMPRIMENTO_PROPORCIONAL':'CUMPRIMENTO_PROPORCIONAL_2018'}, axis=1, inplace=True)\n",
    "\n",
    "# merging both\n",
    "compliance_comparison = pd.merge(d_17,d_18,on='REGISTRO_GRUPO')"
   ]
  },
  {
   "cell_type": "code",
   "execution_count": 32,
   "metadata": {
    "ExecuteTime": {
     "end_time": "2021-06-15T21:27:51.795167Z",
     "start_time": "2021-06-15T21:27:51.786171Z"
    }
   },
   "outputs": [
    {
     "data": {
      "text/html": [
       "<div>\n",
       "<style scoped>\n",
       "    .dataframe tbody tr th:only-of-type {\n",
       "        vertical-align: middle;\n",
       "    }\n",
       "\n",
       "    .dataframe tbody tr th {\n",
       "        vertical-align: top;\n",
       "    }\n",
       "\n",
       "    .dataframe thead th {\n",
       "        text-align: right;\n",
       "    }\n",
       "</style>\n",
       "<table border=\"1\" class=\"dataframe\">\n",
       "  <thead>\n",
       "    <tr style=\"text-align: right;\">\n",
       "      <th></th>\n",
       "      <th>CUMPRIMENTO_PROPORCIONAL_2017</th>\n",
       "      <th>CUMPRIMENTO_PROPORCIONAL_2018</th>\n",
       "    </tr>\n",
       "  </thead>\n",
       "  <tbody>\n",
       "    <tr>\n",
       "      <th>CUMPRIMENTO_PROPORCIONAL_2017</th>\n",
       "      <td>1.000000</td>\n",
       "      <td>0.763376</td>\n",
       "    </tr>\n",
       "    <tr>\n",
       "      <th>CUMPRIMENTO_PROPORCIONAL_2018</th>\n",
       "      <td>0.763376</td>\n",
       "      <td>1.000000</td>\n",
       "    </tr>\n",
       "  </tbody>\n",
       "</table>\n",
       "</div>"
      ],
      "text/plain": [
       "                               CUMPRIMENTO_PROPORCIONAL_2017  \\\n",
       "CUMPRIMENTO_PROPORCIONAL_2017                       1.000000   \n",
       "CUMPRIMENTO_PROPORCIONAL_2018                       0.763376   \n",
       "\n",
       "                               CUMPRIMENTO_PROPORCIONAL_2018  \n",
       "CUMPRIMENTO_PROPORCIONAL_2017                       0.763376  \n",
       "CUMPRIMENTO_PROPORCIONAL_2018                       1.000000  "
      ]
     },
     "execution_count": 32,
     "metadata": {},
     "output_type": "execute_result"
    }
   ],
   "source": [
    "compliance_comparison.corr()\n",
    "# as one can see, correlation is 0.76 (higher than for complexes, which is only 0.55), but not particularly high"
   ]
  },
  {
   "cell_type": "code",
   "execution_count": 33,
   "metadata": {
    "ExecuteTime": {
     "end_time": "2021-06-15T21:27:52.589543Z",
     "start_time": "2021-06-15T21:27:52.584529Z"
    }
   },
   "outputs": [],
   "source": [
    "# getting absolute delta for both\n",
    "compliance_comparison['DELTA'] = np.where(\n",
    "    compliance_comparison['CUMPRIMENTO_PROPORCIONAL_2017'] >= compliance_comparison['CUMPRIMENTO_PROPORCIONAL_2018'],\n",
    "    compliance_comparison['CUMPRIMENTO_PROPORCIONAL_2017'] - compliance_comparison['CUMPRIMENTO_PROPORCIONAL_2018'],\n",
    "    compliance_comparison['CUMPRIMENTO_PROPORCIONAL_2018'] - compliance_comparison['CUMPRIMENTO_PROPORCIONAL_2017'])"
   ]
  },
  {
   "cell_type": "code",
   "execution_count": 34,
   "metadata": {
    "ExecuteTime": {
     "end_time": "2021-06-15T21:27:53.447385Z",
     "start_time": "2021-06-15T21:27:53.168834Z"
    }
   },
   "outputs": [
    {
     "data": {
      "text/plain": [
       "<matplotlib.axes._subplots.AxesSubplot at 0x2929ab53220>"
      ]
     },
     "execution_count": 34,
     "metadata": {},
     "output_type": "execute_result"
    },
    {
     "data": {
      "image/png": "[encoded data removed]",
      "text/plain": [
       "<Figure size 432x288 with 1 Axes>"
      ]
     },
     "metadata": {
      "needs_background": "light"
     },
     "output_type": "display_data"
    }
   ],
   "source": [
    "compliance_comparison['DELTA'].plot.hist(bins=100)"
   ]
  },
  {
   "cell_type": "code",
   "execution_count": 35,
   "metadata": {
    "ExecuteTime": {
     "end_time": "2021-06-15T21:27:56.252065Z",
     "start_time": "2021-06-15T21:27:56.232388Z"
    }
   },
   "outputs": [
    {
     "name": "stdout",
     "output_type": "stream",
     "text": [
      "0 full-time compliers represent 0.0 out of 2 consistent (0 delta) movie theaters\n",
      "1 full-time non-compliers represent 0.5 out of 2 consistent (0 delta) movie theaters\n"
     ]
    }
   ],
   "source": [
    "a = compliance_comparison[\n",
    "    (compliance_comparison.CUMPRIMENTO_PROPORCIONAL_2017 == 0)&(compliance_comparison.CUMPRIMENTO_PROPORCIONAL_2018 == 0)\n",
    "    ].shape[0]\n",
    "b = compliance_comparison[\n",
    "    (compliance_comparison.CUMPRIMENTO_PROPORCIONAL_2017 == 1)&(compliance_comparison.CUMPRIMENTO_PROPORCIONAL_2018 == 1)\n",
    "    ].shape[0]\n",
    "c = compliance_comparison[compliance_comparison.DELTA == 0].shape[0]\n",
    "\n",
    "print(f'{b} full-time compliers represent {np.round(b/c, 2)} out of {c} consistent (0 delta) movie theaters')\n",
    "print(f'{a} full-time non-compliers represent {np.round(a/c, 2)} out of {c} consistent (0 delta) movie theaters')"
   ]
  },
  {
   "cell_type": "code",
   "execution_count": 36,
   "metadata": {
    "ExecuteTime": {
     "end_time": "2021-06-15T21:28:02.255486Z",
     "start_time": "2021-06-15T21:28:02.225371Z"
    }
   },
   "outputs": [],
   "source": [
    "# checking for how many obs will be spread across diff bins\n",
    "\n",
    "bounds = {}\n",
    "\n",
    "# bounds to be used later\n",
    "bounds['b1'] = [-0.1, 0.3, 0.6, 0.9, 1.2, 1.5, 50]\n",
    "bounds['b2'] = [-0.1, 0.3, 0.5, 0.7, 0.9, 1.1, 1.3, 1.5, 50]\n",
    "bounds['b3'] = [-0.1, 0.4, 0.8, 1.2, 1.6, 50]\n",
    "bounds['b4'] = [-0.1, 0.45, 0.85, 1.25, 1.65, 50]\n",
    "bounds['b5'] = [-0.1, 0.1, 0.2, 0.3, 0.4, 0.5, 0.6, 0.7, 0.8, 0.9, 1.0, 1.1, 1.2, 1.3, 50]\n",
    "bounds['b6'] = [-0.1, 0.85, 0.95, 1.05, 1.15, 50]\n",
    "\n",
    "alpha = 'ABCDEFGHIJKLMNOPQRSTUVXZ'\n",
    "\n",
    "for i in range(1,7):\n",
    "    compliance_comparison[f'2017_B{i}'] = pd.cut(compliance_comparison.CUMPRIMENTO_PROPORCIONAL_2017, \n",
    "           bounds[f'b{i}'], labels=[alpha[i] for i in range(len(bounds[f'b{i}']) - 1)])\n",
    "    compliance_comparison[f'2018_B{i}'] = pd.cut(compliance_comparison.CUMPRIMENTO_PROPORCIONAL_2018, \n",
    "           bounds[f'b{i}'], labels=[alpha[i] for i in range(len(bounds[f'b{i}']) - 1)])"
   ]
  },
  {
   "cell_type": "code",
   "execution_count": 40,
   "metadata": {
    "ExecuteTime": {
     "end_time": "2021-06-15T21:31:33.271222Z",
     "start_time": "2021-06-15T21:31:33.263197Z"
    }
   },
   "outputs": [
    {
     "name": "stdout",
     "output_type": "stream",
     "text": [
      "For bounds B1, 124 out of 183 movie theaters will be shifted between bounds , meaning 118 out of 408 observations (or 0.29) will have FE \n",
      "\n",
      "For bounds B2, 138 out of 183 movie theaters will be shifted between bounds , meaning 90 out of 408 observations (or 0.22) will have FE \n",
      "\n",
      "For bounds B3, 109 out of 183 movie theaters will be shifted between bounds , meaning 148 out of 408 observations (or 0.36) will have FE \n",
      "\n",
      "For bounds B4, 112 out of 183 movie theaters will be shifted between bounds , meaning 142 out of 408 observations (or 0.35) will have FE \n",
      "\n",
      "For bounds B5, 156 out of 183 movie theaters will be shifted between bounds , meaning 54 out of 408 observations (or 0.13) will have FE \n",
      "\n",
      "For bounds B6, 100 out of 183 movie theaters will be shifted between bounds , meaning 166 out of 408 observations (or 0.41) will have FE \n",
      "\n"
     ]
    }
   ],
   "source": [
    "b = gtds_1718.shape[0]\n",
    "\n",
    "for i in range(1,7):\n",
    "    mts = np.where(compliance_comparison[f'2017_B{i}'] != compliance_comparison[f'2018_B{i}'], 1, 0).sum()\n",
    "    mtt = compliance_comparison.shape[0]\n",
    "    a = 2*(mtt - mts)\n",
    "    print(f'For bounds B{i}, {mts} out of {mtt} movie theaters will be shifted between bounds , meaning\\\n",
    " {a} out of {b} observations (or {np.round(a/b,2)}) will have FE \\n')"
   ]
  },
  {
   "cell_type": "markdown",
   "metadata": {},
   "source": [
    "### Dependent variable: income"
   ]
  },
  {
   "cell_type": "code",
   "execution_count": 61,
   "metadata": {
    "ExecuteTime": {
     "end_time": "2021-06-14T23:10:49.962199Z",
     "start_time": "2021-06-14T23:10:49.959223Z"
    }
   },
   "outputs": [],
   "source": [
    "seg_gregs = {} # creating dict to store regression objects\n",
    "\n",
    "count_regs = 0 # counter to automatically generate reg numbers"
   ]
  },
  {
   "cell_type": "markdown",
   "metadata": {},
   "source": [
    "#### Bounds - [0, 0.3, 0.6, 0.9, 1.2, 1.5, 50] "
   ]
  },
  {
   "cell_type": "code",
   "execution_count": 62,
   "metadata": {
    "ExecuteTime": {
     "end_time": "2021-06-14T23:10:51.664105Z",
     "start_time": "2021-06-14T23:10:50.915501Z"
    }
   },
   "outputs": [
    {
     "name": "stdout",
     "output_type": "stream",
     "text": [
      "18\n"
     ]
    }
   ],
   "source": [
    "bounds = [0, 0.3, 0.6, 0.9, 1.2, 1.5, 50] \n",
    "\n",
    "formul = 'np.log(RENDA) ~ OBRIGAÇÃO_FINAL_POR_SALA + DIAS_FUNCIONAMENTO + C(REGISTRO_COMPLEXO) + C(ANO_CINEMATOGRAFICO)'\n",
    "\n",
    "last_count = count_regs\n",
    "\n",
    "for i in range(len(bounds)-1):\n",
    "    seg_gregs[f'reg_seg{count_regs}'] = smf.ols(formula=formul, \n",
    "                    data = tds_1718[tds_1718.CUMPRIMENTO_PROPORCIONAL.between(bounds[i],bounds[i+1])]).fit()\n",
    "    count_regs += 1\n",
    "    seg_gregs[f'reg_seg{count_regs}'] = smf.ols(formula=formul, \n",
    "                    data = est_1718[est_1718.CUMPRIMENTO_PROPORCIONAL.between(bounds[i],bounds[i+1])]).fit()\n",
    "    count_regs += 1\n",
    "    seg_gregs[f'reg_seg{count_regs}'] = smf.ols(formula=formul, \n",
    "                    data = bras_1718[bras_1718.CUMPRIMENTO_PROPORCIONAL.between(bounds[i],bounds[i+1])]).fit()\n",
    "    count_regs += 1\n",
    "\n",
    "print(count_regs)"
   ]
  },
  {
   "cell_type": "code",
   "execution_count": 63,
   "metadata": {
    "ExecuteTime": {
     "end_time": "2021-06-14T23:10:53.710043Z",
     "start_time": "2021-06-14T23:10:51.666110Z"
    }
   },
   "outputs": [
    {
     "name": "stdout",
     "output_type": "stream",
     "text": [
      "Reg_seg 0, ALL: lower bound 0, higher bound 0.3\n",
      "                            coef  std err      t  P>|t|\n",
      "OBRIGAÇÃO_FINAL_POR_SALA  0.0304    0.066  0.462  0.663\n",
      "DIAS_FUNCIONAMENTO        0.0065    0.005  1.338  0.238\n",
      "\n",
      "\n",
      "Reg_seg 1, FOREIGN: lower bound 0, higher bound 0.3\n",
      "                            coef  std err      t  P>|t|\n",
      "OBRIGAÇÃO_FINAL_POR_SALA  0.0279    0.068  0.414  0.696\n",
      "DIAS_FUNCIONAMENTO        0.0067    0.005  1.330  0.241\n",
      "\n",
      "\n",
      "Reg_seg 2, BRAZILIAN: lower bound 0, higher bound 0.3\n",
      "                            coef  std err      t  P>|t|\n",
      "OBRIGAÇÃO_FINAL_POR_SALA -0.1096    0.248 -0.443  0.735\n",
      "DIAS_FUNCIONAMENTO        0.0207    0.106  0.195  0.877\n",
      "\n",
      "\n",
      "Reg_seg 3, ALL: lower bound 0.3, higher bound 0.6\n",
      "                            coef  std err      t  P>|t|\n",
      "OBRIGAÇÃO_FINAL_POR_SALA  0.0055    0.003  1.761  0.089\n",
      "DIAS_FUNCIONAMENTO        0.0045    0.000  9.917  0.000\n",
      "\n",
      "\n",
      "Reg_seg 4, FOREIGN: lower bound 0.3, higher bound 0.6\n",
      "                            coef  std err       t  P>|t|\n",
      "OBRIGAÇÃO_FINAL_POR_SALA  0.0053    0.003   1.702    0.1\n",
      "DIAS_FUNCIONAMENTO        0.0046    0.000  10.168    0.0\n",
      "\n",
      "\n",
      "Reg_seg 5, BRAZILIAN: lower bound 0.3, higher bound 0.6\n",
      "                            coef  std err      t  P>|t|\n",
      "OBRIGAÇÃO_FINAL_POR_SALA  0.0061    0.011  0.559  0.581\n",
      "DIAS_FUNCIONAMENTO        0.0074    0.003  2.336  0.027\n",
      "\n",
      "\n",
      "Reg_seg 6, ALL: lower bound 0.6, higher bound 0.9\n",
      "                            coef  std err      t  P>|t|\n",
      "OBRIGAÇÃO_FINAL_POR_SALA  0.0048    0.005  0.940  0.354\n",
      "DIAS_FUNCIONAMENTO        0.0056    0.001  6.589  0.000\n",
      "\n",
      "\n",
      "Reg_seg 7, FOREIGN: lower bound 0.6, higher bound 0.9\n",
      "                            coef  std err      t  P>|t|\n",
      "OBRIGAÇÃO_FINAL_POR_SALA  0.0050    0.006  0.895  0.377\n",
      "DIAS_FUNCIONAMENTO        0.0058    0.001  6.254  0.000\n",
      "\n",
      "\n",
      "Reg_seg 8, BRAZILIAN: lower bound 0.6, higher bound 0.9\n",
      "                            coef  std err      t  P>|t|\n",
      "OBRIGAÇÃO_FINAL_POR_SALA  0.0079    0.014  0.552  0.585\n",
      "DIAS_FUNCIONAMENTO        0.0072    0.004  1.960  0.058\n",
      "\n",
      "\n",
      "Reg_seg 9, ALL: lower bound 0.9, higher bound 1.2\n",
      "                            coef  std err       t  P>|t|\n",
      "OBRIGAÇÃO_FINAL_POR_SALA -0.0008    0.002  -0.466  0.642\n",
      "DIAS_FUNCIONAMENTO        0.0049    0.000  12.424  0.000\n",
      "\n",
      "\n",
      "Reg_seg 10, FOREIGN: lower bound 0.9, higher bound 1.2\n",
      "                           coef  std err       t  P>|t|\n",
      "OBRIGAÇÃO_FINAL_POR_SALA -0.002    0.002  -1.160  0.247\n",
      "DIAS_FUNCIONAMENTO        0.005    0.000  12.773  0.000\n",
      "\n",
      "\n",
      "Reg_seg 11, BRAZILIAN: lower bound 0.9, higher bound 1.2\n",
      "                            coef  std err      t  P>|t|\n",
      "OBRIGAÇÃO_FINAL_POR_SALA  0.0100    0.004  2.516  0.012\n",
      "DIAS_FUNCIONAMENTO        0.0038    0.001  3.997  0.000\n",
      "\n",
      "\n",
      "Reg_seg 12, ALL: lower bound 1.2, higher bound 1.5\n",
      "                            coef  std err  t  P>|t|\n",
      "OBRIGAÇÃO_FINAL_POR_SALA  0.0933      inf  0    NaN\n",
      "DIAS_FUNCIONAMENTO        0.0042      inf  0    NaN\n",
      "\n",
      "\n",
      "Reg_seg 13, FOREIGN: lower bound 1.2, higher bound 1.5\n",
      "                            coef  std err  t  P>|t|\n",
      "OBRIGAÇÃO_FINAL_POR_SALA  0.0862      inf  0    NaN\n",
      "DIAS_FUNCIONAMENTO        0.0052      inf  0    NaN\n",
      "\n",
      "\n",
      "Reg_seg 14, BRAZILIAN: lower bound 1.2, higher bound 1.5\n",
      "                            coef  std err  t  P>|t|\n",
      "OBRIGAÇÃO_FINAL_POR_SALA  0.0787      inf  0    NaN\n",
      "DIAS_FUNCIONAMENTO        0.0065      inf  0    NaN"
     ]
    },
    {
     "name": "stderr",
     "output_type": "stream",
     "text": [
      "C:\\ProgramData\\Anaconda3\\lib\\site-packages\\statsmodels\\regression\\linear_model.py:1698: RuntimeWarning: divide by zero encountered in true_divide\n",
      "  return 1 - (np.divide(self.nobs - self.k_constant, self.df_resid)\n",
      "C:\\ProgramData\\Anaconda3\\lib\\site-packages\\statsmodels\\regression\\linear_model.py:1698: RuntimeWarning: invalid value encountered in double_scalars\n",
      "  return 1 - (np.divide(self.nobs - self.k_constant, self.df_resid)\n",
      "C:\\ProgramData\\Anaconda3\\lib\\site-packages\\scipy\\stats\\_distn_infrastructure.py:1932: RuntimeWarning: invalid value encountered in less_equal\n",
      "  cond2 = cond0 & (x <= _a)\n",
      "C:\\ProgramData\\Anaconda3\\lib\\site-packages\\statsmodels\\regression\\linear_model.py:1620: RuntimeWarning: divide by zero encountered in double_scalars\n",
      "  return np.dot(wresid, wresid) / self.df_resid\n",
      "C:\\ProgramData\\Anaconda3\\lib\\site-packages\\statsmodels\\regression\\linear_model.py:1698: RuntimeWarning: divide by zero encountered in true_divide\n",
      "  return 1 - (np.divide(self.nobs - self.k_constant, self.df_resid)\n",
      "C:\\ProgramData\\Anaconda3\\lib\\site-packages\\statsmodels\\regression\\linear_model.py:1698: RuntimeWarning: invalid value encountered in double_scalars\n",
      "  return 1 - (np.divide(self.nobs - self.k_constant, self.df_resid)\n",
      "C:\\ProgramData\\Anaconda3\\lib\\site-packages\\scipy\\stats\\_distn_infrastructure.py:1932: RuntimeWarning: invalid value encountered in less_equal\n",
      "  cond2 = cond0 & (x <= _a)\n",
      "C:\\ProgramData\\Anaconda3\\lib\\site-packages\\statsmodels\\regression\\linear_model.py:1620: RuntimeWarning: divide by zero encountered in double_scalars\n",
      "  return np.dot(wresid, wresid) / self.df_resid\n",
      "C:\\ProgramData\\Anaconda3\\lib\\site-packages\\statsmodels\\regression\\linear_model.py:1698: RuntimeWarning: divide by zero encountered in true_divide\n",
      "  return 1 - (np.divide(self.nobs - self.k_constant, self.df_resid)\n",
      "C:\\ProgramData\\Anaconda3\\lib\\site-packages\\statsmodels\\regression\\linear_model.py:1698: RuntimeWarning: invalid value encountered in double_scalars\n",
      "  return 1 - (np.divide(self.nobs - self.k_constant, self.df_resid)\n",
      "C:\\ProgramData\\Anaconda3\\lib\\site-packages\\scipy\\stats\\_distn_infrastructure.py:1932: RuntimeWarning: invalid value encountered in less_equal\n",
      "  cond2 = cond0 & (x <= _a)\n",
      "C:\\ProgramData\\Anaconda3\\lib\\site-packages\\statsmodels\\regression\\linear_model.py:1620: RuntimeWarning: divide by zero encountered in double_scalars\n",
      "  return np.dot(wresid, wresid) / self.df_resid\n"
     ]
    },
    {
     "name": "stdout",
     "output_type": "stream",
     "text": [
      "\n",
      "\n",
      "\n",
      "Reg_seg 15, ALL: lower bound 1.5, higher bound 50\n",
      "                            coef  std err      t  P>|t|\n",
      "OBRIGAÇÃO_FINAL_POR_SALA -0.0053    0.011 -0.500  0.635\n",
      "DIAS_FUNCIONAMENTO        0.0138    0.003  5.407  0.002\n",
      "\n",
      "\n",
      "Reg_seg 16, FOREIGN: lower bound 1.5, higher bound 50\n",
      "                            coef  std err      t  P>|t|\n",
      "OBRIGAÇÃO_FINAL_POR_SALA  0.0218    0.033  0.656  0.541\n",
      "DIAS_FUNCIONAMENTO        0.0259    0.007  3.477  0.018\n",
      "\n",
      "\n",
      "Reg_seg 17, BRAZILIAN: lower bound 1.5, higher bound 50\n",
      "                            coef  std err      t  P>|t|\n",
      "OBRIGAÇÃO_FINAL_POR_SALA -0.0018    0.012 -0.143  0.891\n",
      "DIAS_FUNCIONAMENTO        0.0097    0.003  3.505  0.013\n",
      "\n",
      "\n"
     ]
    }
   ],
   "source": [
    "works = ['ALL', 'FOREIGN', 'BRAZILIAN']\n",
    "\n",
    "for i in range(last_count,count_regs):\n",
    "    print(f'Reg_seg {i}, {works[i%3]}: lower bound {bounds[(i-last_count)//3]}, higher bound {bounds[((i-last_count)//3)+1]}')\n",
    "    print(pd.read_html(seg_gregs[f'reg_seg{i}'].summary().\n",
    "                       tables[1].as_html(),header=0,index_col=0)[0].iloc[-2:,:-2])\n",
    "    print('\\n')"
   ]
  },
  {
   "cell_type": "markdown",
   "metadata": {},
   "source": [
    "#### Bounds - [0, 0.3, 0.5, 0.7, 0.9, 1.1, 1.3, 1.5, 50] "
   ]
  },
  {
   "cell_type": "code",
   "execution_count": 64,
   "metadata": {
    "ExecuteTime": {
     "end_time": "2021-06-14T23:10:54.441001Z",
     "start_time": "2021-06-14T23:10:53.712049Z"
    }
   },
   "outputs": [
    {
     "name": "stdout",
     "output_type": "stream",
     "text": [
      "42\n"
     ]
    }
   ],
   "source": [
    "bounds = [0, 0.3, 0.5, 0.7, 0.9, 1.1, 1.3, 1.5, 50] \n",
    "\n",
    "formul = 'np.log(RENDA) ~ OBRIGAÇÃO_FINAL_POR_SALA + DIAS_FUNCIONAMENTO + C(REGISTRO_COMPLEXO) + C(ANO_CINEMATOGRAFICO)'\n",
    "\n",
    "last_count = count_regs\n",
    "\n",
    "for i in range(len(bounds)-1):\n",
    "    seg_gregs[f'reg_seg{count_regs}'] = smf.ols(formula=formul, \n",
    "                    data = tds_1718[tds_1718.CUMPRIMENTO_PROPORCIONAL.between(bounds[i],bounds[i+1])]).fit()\n",
    "    count_regs += 1\n",
    "    seg_gregs[f'reg_seg{count_regs}'] = smf.ols(formula=formul, \n",
    "                    data = est_1718[est_1718.CUMPRIMENTO_PROPORCIONAL.between(bounds[i],bounds[i+1])]).fit()\n",
    "    count_regs += 1\n",
    "    seg_gregs[f'reg_seg{count_regs}'] = smf.ols(formula=formul, \n",
    "                    data = bras_1718[bras_1718.CUMPRIMENTO_PROPORCIONAL.between(bounds[i],bounds[i+1])]).fit()\n",
    "    count_regs += 1\n",
    "\n",
    "print(count_regs)"
   ]
  },
  {
   "cell_type": "code",
   "execution_count": 65,
   "metadata": {
    "ExecuteTime": {
     "end_time": "2021-06-14T23:10:56.474050Z",
     "start_time": "2021-06-14T23:10:54.443007Z"
    }
   },
   "outputs": [
    {
     "name": "stdout",
     "output_type": "stream",
     "text": [
      "Reg_seg 18, ALL: lower bound 0, higher bound 0.3\n",
      "                            coef  std err      t  P>|t|\n",
      "OBRIGAÇÃO_FINAL_POR_SALA  0.0304    0.066  0.462  0.663\n",
      "DIAS_FUNCIONAMENTO        0.0065    0.005  1.338  0.238\n",
      "\n",
      "\n",
      "Reg_seg 19, FOREIGN: lower bound 0, higher bound 0.3\n",
      "                            coef  std err      t  P>|t|\n",
      "OBRIGAÇÃO_FINAL_POR_SALA  0.0279    0.068  0.414  0.696\n",
      "DIAS_FUNCIONAMENTO        0.0067    0.005  1.330  0.241\n",
      "\n",
      "\n",
      "Reg_seg 20, BRAZILIAN: lower bound 0, higher bound 0.3\n",
      "                            coef  std err      t  P>|t|\n",
      "OBRIGAÇÃO_FINAL_POR_SALA -0.1096    0.248 -0.443  0.735\n",
      "DIAS_FUNCIONAMENTO        0.0207    0.106  0.195  0.877\n",
      "\n",
      "\n",
      "Reg_seg 21, ALL: lower bound 0.3, higher bound 0.5\n",
      "                            coef  std err      t  P>|t|\n",
      "OBRIGAÇÃO_FINAL_POR_SALA  0.0065    0.005  1.369  0.220\n",
      "DIAS_FUNCIONAMENTO        0.0040    0.001  6.681  0.001\n",
      "\n",
      "\n",
      "Reg_seg 22, FOREIGN: lower bound 0.3, higher bound 0.5\n",
      "                            coef  std err      t  P>|t|\n",
      "OBRIGAÇÃO_FINAL_POR_SALA  0.0059    0.007  0.784  0.463\n",
      "DIAS_FUNCIONAMENTO        0.0039    0.001  4.121  0.006\n",
      "\n",
      "\n",
      "Reg_seg 23, BRAZILIAN: lower bound 0.3, higher bound 0.5\n",
      "                            coef  std err      t  P>|t|\n",
      "OBRIGAÇÃO_FINAL_POR_SALA  0.0094    0.037  0.257  0.806\n",
      "DIAS_FUNCIONAMENTO        0.0133    0.008  1.747  0.131\n",
      "\n",
      "\n",
      "Reg_seg 24, ALL: lower bound 0.5, higher bound 0.7\n",
      "                            coef  std err       t  P>|t|\n",
      "OBRIGAÇÃO_FINAL_POR_SALA  0.0063    0.002   2.535  0.017\n",
      "DIAS_FUNCIONAMENTO        0.0064    0.000  15.486  0.000\n",
      "\n",
      "\n",
      "Reg_seg 25, FOREIGN: lower bound 0.5, higher bound 0.7\n",
      "                            coef  std err       t  P>|t|\n",
      "OBRIGAÇÃO_FINAL_POR_SALA  0.0063    0.003   2.397  0.023\n",
      "DIAS_FUNCIONAMENTO        0.0067    0.000  15.300  0.000\n",
      "\n",
      "\n",
      "Reg_seg 26, BRAZILIAN: lower bound 0.5, higher bound 0.7\n",
      "                            coef  std err      t  P>|t|\n",
      "OBRIGAÇÃO_FINAL_POR_SALA  0.0115    0.009  1.314  0.199\n",
      "DIAS_FUNCIONAMENTO        0.0074    0.003  2.569  0.015\n",
      "\n",
      "\n",
      "Reg_seg 27, ALL: lower bound 0.7, higher bound 0.9\n",
      "                            coef  std err      t  P>|t|\n",
      "OBRIGAÇÃO_FINAL_POR_SALA -0.0126    0.010 -1.216  0.249\n",
      "DIAS_FUNCIONAMENTO        0.0065    0.001  4.600  0.001\n",
      "\n",
      "\n",
      "Reg_seg 28, FOREIGN: lower bound 0.7, higher bound 0.9\n",
      "                            coef  std err      t  P>|t|\n",
      "OBRIGAÇÃO_FINAL_POR_SALA -0.0110    0.012 -0.890  0.393\n",
      "DIAS_FUNCIONAMENTO        0.0062    0.002  3.702  0.003\n",
      "\n",
      "\n",
      "Reg_seg 29, BRAZILIAN: lower bound 0.7, higher bound 0.9\n",
      "                            coef  std err      t  P>|t|\n",
      "OBRIGAÇÃO_FINAL_POR_SALA -0.0195    0.071 -0.273  0.790\n",
      "DIAS_FUNCIONAMENTO        0.0131    0.016  0.844  0.417\n",
      "\n",
      "\n",
      "Reg_seg 30, ALL: lower bound 0.9, higher bound 1.1\n",
      "                            coef  std err       t  P>|t|\n",
      "OBRIGAÇÃO_FINAL_POR_SALA  0.0008    0.001   0.702  0.484\n",
      "DIAS_FUNCIONAMENTO        0.0048    0.000  20.611  0.000\n",
      "\n",
      "\n",
      "Reg_seg 31, FOREIGN: lower bound 0.9, higher bound 1.1\n",
      "                            coef  std err       t  P>|t|\n",
      "OBRIGAÇÃO_FINAL_POR_SALA -0.0008    0.001  -0.738  0.461\n",
      "DIAS_FUNCIONAMENTO        0.0051    0.000  22.010  0.000\n",
      "\n",
      "\n",
      "Reg_seg 32, BRAZILIAN: lower bound 0.9, higher bound 1.1\n",
      "                            coef  std err      t  P>|t|\n",
      "OBRIGAÇÃO_FINAL_POR_SALA  0.0174    0.004  3.937  0.000\n",
      "DIAS_FUNCIONAMENTO        0.0015    0.001  1.397  0.164\n",
      "\n",
      "\n",
      "Reg_seg 33, ALL: lower bound 1.1, higher bound 1.3\n",
      "                            coef  std err      t  P>|t|\n",
      "OBRIGAÇÃO_FINAL_POR_SALA -0.0919    0.031 -2.950  0.018\n",
      "DIAS_FUNCIONAMENTO        0.0151    0.003  4.868  0.001\n",
      "\n",
      "\n",
      "Reg_seg 34, FOREIGN: lower bound 1.1, higher bound 1.3\n",
      "                            coef  std err      t  P>|t|\n",
      "OBRIGAÇÃO_FINAL_POR_SALA -0.0941    0.032 -2.977  0.018\n",
      "DIAS_FUNCIONAMENTO        0.0151    0.003  4.739  0.001\n",
      "\n",
      "\n",
      "Reg_seg 35, BRAZILIAN: lower bound 1.1, higher bound 1.3\n",
      "                            coef  std err      t  P>|t|\n",
      "OBRIGAÇÃO_FINAL_POR_SALA  0.0329    0.054  0.614  0.556\n",
      "DIAS_FUNCIONAMENTO        0.0136    0.013  1.062  0.319\n",
      "\n",
      "\n",
      "Reg_seg 36, ALL: lower bound 1.3, higher bound 1.5\n",
      "                            coef  std err  t  P>|t|\n",
      "OBRIGAÇÃO_FINAL_POR_SALA  0.0942      inf  0    NaN\n",
      "DIAS_FUNCIONAMENTO        0.0063      inf  0    NaN\n",
      "\n",
      "\n",
      "Reg_seg 37, FOREIGN: lower bound 1.3, higher bound 1.5\n",
      "                            coef  std err  t  P>|t|\n",
      "OBRIGAÇÃO_FINAL_POR_SALA  0.0885      inf  0    NaN\n",
      "DIAS_FUNCIONAMENTO        0.0067      inf  0    NaN\n",
      "\n",
      "\n",
      "Reg_seg 38, BRAZILIAN: lower bound 1.3, higher bound 1.5\n",
      "                            coef  std err  t  P>|t|\n",
      "OBRIGAÇÃO_FINAL_POR_SALA  0.1037      inf  0    NaN\n",
      "DIAS_FUNCIONAMENTO        0.0036      inf  0    NaN"
     ]
    },
    {
     "name": "stderr",
     "output_type": "stream",
     "text": [
      "C:\\ProgramData\\Anaconda3\\lib\\site-packages\\statsmodels\\regression\\linear_model.py:1698: RuntimeWarning: divide by zero encountered in true_divide\n",
      "  return 1 - (np.divide(self.nobs - self.k_constant, self.df_resid)\n",
      "C:\\ProgramData\\Anaconda3\\lib\\site-packages\\statsmodels\\regression\\linear_model.py:1698: RuntimeWarning: invalid value encountered in double_scalars\n",
      "  return 1 - (np.divide(self.nobs - self.k_constant, self.df_resid)\n",
      "C:\\ProgramData\\Anaconda3\\lib\\site-packages\\scipy\\stats\\_distn_infrastructure.py:1932: RuntimeWarning: invalid value encountered in less_equal\n",
      "  cond2 = cond0 & (x <= _a)\n",
      "C:\\ProgramData\\Anaconda3\\lib\\site-packages\\statsmodels\\regression\\linear_model.py:1620: RuntimeWarning: divide by zero encountered in double_scalars\n",
      "  return np.dot(wresid, wresid) / self.df_resid\n",
      "C:\\ProgramData\\Anaconda3\\lib\\site-packages\\statsmodels\\regression\\linear_model.py:1698: RuntimeWarning: divide by zero encountered in true_divide\n",
      "  return 1 - (np.divide(self.nobs - self.k_constant, self.df_resid)\n",
      "C:\\ProgramData\\Anaconda3\\lib\\site-packages\\statsmodels\\regression\\linear_model.py:1698: RuntimeWarning: invalid value encountered in double_scalars\n",
      "  return 1 - (np.divide(self.nobs - self.k_constant, self.df_resid)\n",
      "C:\\ProgramData\\Anaconda3\\lib\\site-packages\\scipy\\stats\\_distn_infrastructure.py:1932: RuntimeWarning: invalid value encountered in less_equal\n",
      "  cond2 = cond0 & (x <= _a)\n",
      "C:\\ProgramData\\Anaconda3\\lib\\site-packages\\statsmodels\\regression\\linear_model.py:1620: RuntimeWarning: divide by zero encountered in double_scalars\n",
      "  return np.dot(wresid, wresid) / self.df_resid\n",
      "C:\\ProgramData\\Anaconda3\\lib\\site-packages\\statsmodels\\regression\\linear_model.py:1698: RuntimeWarning: divide by zero encountered in true_divide\n",
      "  return 1 - (np.divide(self.nobs - self.k_constant, self.df_resid)\n",
      "C:\\ProgramData\\Anaconda3\\lib\\site-packages\\statsmodels\\regression\\linear_model.py:1698: RuntimeWarning: invalid value encountered in double_scalars\n",
      "  return 1 - (np.divide(self.nobs - self.k_constant, self.df_resid)\n",
      "C:\\ProgramData\\Anaconda3\\lib\\site-packages\\scipy\\stats\\_distn_infrastructure.py:1932: RuntimeWarning: invalid value encountered in less_equal\n",
      "  cond2 = cond0 & (x <= _a)\n",
      "C:\\ProgramData\\Anaconda3\\lib\\site-packages\\statsmodels\\regression\\linear_model.py:1620: RuntimeWarning: divide by zero encountered in double_scalars\n",
      "  return np.dot(wresid, wresid) / self.df_resid\n"
     ]
    },
    {
     "name": "stdout",
     "output_type": "stream",
     "text": [
      "\n",
      "\n",
      "\n",
      "Reg_seg 39, ALL: lower bound 1.5, higher bound 50\n",
      "                            coef  std err      t  P>|t|\n",
      "OBRIGAÇÃO_FINAL_POR_SALA -0.0053    0.011 -0.500  0.635\n",
      "DIAS_FUNCIONAMENTO        0.0138    0.003  5.407  0.002\n",
      "\n",
      "\n",
      "Reg_seg 40, FOREIGN: lower bound 1.5, higher bound 50\n",
      "                            coef  std err      t  P>|t|\n",
      "OBRIGAÇÃO_FINAL_POR_SALA  0.0218    0.033  0.656  0.541\n",
      "DIAS_FUNCIONAMENTO        0.0259    0.007  3.477  0.018\n",
      "\n",
      "\n",
      "Reg_seg 41, BRAZILIAN: lower bound 1.5, higher bound 50\n",
      "                            coef  std err      t  P>|t|\n",
      "OBRIGAÇÃO_FINAL_POR_SALA -0.0018    0.012 -0.143  0.891\n",
      "DIAS_FUNCIONAMENTO        0.0097    0.003  3.505  0.013\n",
      "\n",
      "\n"
     ]
    }
   ],
   "source": [
    "works = ['ALL', 'FOREIGN', 'BRAZILIAN']\n",
    "\n",
    "for i in range(last_count,count_regs):\n",
    "    print(f'Reg_seg {i}, {works[i%3]}: lower bound {bounds[(i-last_count)//3]}, higher bound {bounds[((i-last_count)//3)+1]}')\n",
    "    print(pd.read_html(seg_gregs[f'reg_seg{i}'].summary().\n",
    "                       tables[1].as_html(),header=0,index_col=0)[0].iloc[-2:,:-2])\n",
    "    print('\\n')"
   ]
  },
  {
   "cell_type": "markdown",
   "metadata": {},
   "source": [
    "#### Bounds - [0, 0.4, 0.8, 1.2, 1.6, 50]"
   ]
  },
  {
   "cell_type": "code",
   "execution_count": 66,
   "metadata": {
    "ExecuteTime": {
     "end_time": "2021-06-14T23:10:57.260375Z",
     "start_time": "2021-06-14T23:10:56.476034Z"
    }
   },
   "outputs": [
    {
     "name": "stdout",
     "output_type": "stream",
     "text": [
      "57\n"
     ]
    }
   ],
   "source": [
    "bounds = [0, 0.4, 0.8, 1.2, 1.6, 50] \n",
    "\n",
    "last_count = count_regs\n",
    "\n",
    "formul = 'np.log(RENDA) ~ OBRIGAÇÃO_FINAL_POR_SALA + DIAS_FUNCIONAMENTO + C(REGISTRO_COMPLEXO) + C(ANO_CINEMATOGRAFICO)'\n",
    "\n",
    "for i in range(len(bounds)-1):\n",
    "    seg_gregs[f'reg_seg{count_regs}'] = smf.ols(formula=formul, \n",
    "                    data = tds_1718[tds_1718.CUMPRIMENTO_PROPORCIONAL.between(bounds[i],bounds[i+1])]).fit()\n",
    "    count_regs += 1\n",
    "    seg_gregs[f'reg_seg{count_regs}'] = smf.ols(formula=formul, \n",
    "                    data = est_1718[est_1718.CUMPRIMENTO_PROPORCIONAL.between(bounds[i],bounds[i+1])]).fit()\n",
    "    count_regs += 1\n",
    "    seg_gregs[f'reg_seg{count_regs}'] = smf.ols(formula=formul, \n",
    "                    data = bras_1718[bras_1718.CUMPRIMENTO_PROPORCIONAL.between(bounds[i],bounds[i+1])]).fit()\n",
    "    count_regs += 1\n",
    "\n",
    "print(count_regs)"
   ]
  },
  {
   "cell_type": "code",
   "execution_count": 67,
   "metadata": {
    "ExecuteTime": {
     "end_time": "2021-06-14T23:10:58.946936Z",
     "start_time": "2021-06-14T23:10:57.263145Z"
    },
    "scrolled": true
   },
   "outputs": [
    {
     "name": "stdout",
     "output_type": "stream",
     "text": [
      "Reg_seg 42, ALL: lower bound 0, higher bound 0.4\n",
      "                            coef  std err      t  P>|t|\n",
      "OBRIGAÇÃO_FINAL_POR_SALA  0.0210    0.031  0.677  0.510\n",
      "DIAS_FUNCIONAMENTO        0.0056    0.003  2.207  0.044\n",
      "\n",
      "\n",
      "Reg_seg 43, FOREIGN: lower bound 0, higher bound 0.4\n",
      "                            coef  std err      t  P>|t|\n",
      "OBRIGAÇÃO_FINAL_POR_SALA  0.0207    0.033  0.632  0.538\n",
      "DIAS_FUNCIONAMENTO        0.0057    0.003  2.101  0.054\n",
      "\n",
      "\n",
      "Reg_seg 44, BRAZILIAN: lower bound 0, higher bound 0.4\n",
      "                            coef  std err      t  P>|t|\n",
      "OBRIGAÇÃO_FINAL_POR_SALA -0.1005    0.053 -1.891  0.095\n",
      "DIAS_FUNCIONAMENTO        0.0452    0.015  3.087  0.015\n",
      "\n",
      "\n",
      "Reg_seg 45, ALL: lower bound 0.4, higher bound 0.8\n",
      "                            coef  std err       t  P>|t|\n",
      "OBRIGAÇÃO_FINAL_POR_SALA  0.0078    0.002   3.166  0.002\n",
      "DIAS_FUNCIONAMENTO        0.0048    0.000  11.272  0.000\n",
      "\n",
      "\n",
      "Reg_seg 46, FOREIGN: lower bound 0.4, higher bound 0.8\n",
      "                            coef  std err       t  P>|t|\n",
      "OBRIGAÇÃO_FINAL_POR_SALA  0.0069    0.002   2.838  0.006\n",
      "DIAS_FUNCIONAMENTO        0.0052    0.000  12.194  0.000\n",
      "\n",
      "\n",
      "Reg_seg 47, BRAZILIAN: lower bound 0.4, higher bound 0.8\n",
      "                            coef  std err      t  P>|t|\n",
      "OBRIGAÇÃO_FINAL_POR_SALA  0.0074    0.007  1.142  0.257\n",
      "DIAS_FUNCIONAMENTO        0.0063    0.002  3.202  0.002\n",
      "\n",
      "\n",
      "Reg_seg 48, ALL: lower bound 0.8, higher bound 1.2\n",
      "                              coef  std err       t  P>|t|\n",
      "OBRIGAÇÃO_FINAL_POR_SALA -0.000096    0.002  -0.061  0.952\n",
      "DIAS_FUNCIONAMENTO        0.005100    0.000  14.364  0.000\n",
      "\n",
      "\n",
      "Reg_seg 49, FOREIGN: lower bound 0.8, higher bound 1.2\n",
      "                            coef  std err       t  P>|t|\n",
      "OBRIGAÇÃO_FINAL_POR_SALA -0.0013    0.002  -0.854  0.394\n",
      "DIAS_FUNCIONAMENTO        0.0051    0.000  14.708  0.000\n",
      "\n",
      "\n",
      "Reg_seg 50, BRAZILIAN: lower bound 0.8, higher bound 1.2\n",
      "                            coef  std err      t  P>|t|\n",
      "OBRIGAÇÃO_FINAL_POR_SALA  0.0120    0.004  3.056  0.002\n",
      "DIAS_FUNCIONAMENTO        0.0037    0.001  3.904  0.000\n",
      "\n",
      "\n",
      "Reg_seg 51, ALL: lower bound 1.2, higher bound 1.6\n",
      "                            coef  std err  t  P>|t|\n",
      "OBRIGAÇÃO_FINAL_POR_SALA  0.0946      inf  0    NaN\n",
      "DIAS_FUNCIONAMENTO        0.0038      inf  0    NaN\n",
      "\n",
      "\n",
      "Reg_seg 52, FOREIGN: lower bound 1.2, higher bound 1.6\n",
      "                            coef  std err  t  P>|t|\n",
      "OBRIGAÇÃO_FINAL_POR_SALA  0.0878      inf  0    NaN\n",
      "DIAS_FUNCIONAMENTO        0.0048      inf  0    NaN\n",
      "\n",
      "\n",
      "Reg_seg 53, BRAZILIAN: lower bound 1.2, higher bound 1.6\n",
      "                            coef  std err  t  P>|t|\n",
      "OBRIGAÇÃO_FINAL_POR_SALA  0.0829      inf  0    NaN\n",
      "DIAS_FUNCIONAMENTO        0.0059      inf  0    NaN"
     ]
    },
    {
     "name": "stderr",
     "output_type": "stream",
     "text": [
      "C:\\ProgramData\\Anaconda3\\lib\\site-packages\\statsmodels\\regression\\linear_model.py:1698: RuntimeWarning: divide by zero encountered in true_divide\n",
      "  return 1 - (np.divide(self.nobs - self.k_constant, self.df_resid)\n",
      "C:\\ProgramData\\Anaconda3\\lib\\site-packages\\statsmodels\\regression\\linear_model.py:1698: RuntimeWarning: invalid value encountered in double_scalars\n",
      "  return 1 - (np.divide(self.nobs - self.k_constant, self.df_resid)\n",
      "C:\\ProgramData\\Anaconda3\\lib\\site-packages\\scipy\\stats\\_distn_infrastructure.py:1932: RuntimeWarning: invalid value encountered in less_equal\n",
      "  cond2 = cond0 & (x <= _a)\n",
      "C:\\ProgramData\\Anaconda3\\lib\\site-packages\\statsmodels\\regression\\linear_model.py:1620: RuntimeWarning: divide by zero encountered in double_scalars\n",
      "  return np.dot(wresid, wresid) / self.df_resid\n",
      "C:\\ProgramData\\Anaconda3\\lib\\site-packages\\statsmodels\\regression\\linear_model.py:1698: RuntimeWarning: divide by zero encountered in true_divide\n",
      "  return 1 - (np.divide(self.nobs - self.k_constant, self.df_resid)\n",
      "C:\\ProgramData\\Anaconda3\\lib\\site-packages\\statsmodels\\regression\\linear_model.py:1698: RuntimeWarning: invalid value encountered in double_scalars\n",
      "  return 1 - (np.divide(self.nobs - self.k_constant, self.df_resid)\n",
      "C:\\ProgramData\\Anaconda3\\lib\\site-packages\\scipy\\stats\\_distn_infrastructure.py:1932: RuntimeWarning: invalid value encountered in less_equal\n",
      "  cond2 = cond0 & (x <= _a)\n",
      "C:\\ProgramData\\Anaconda3\\lib\\site-packages\\statsmodels\\regression\\linear_model.py:1620: RuntimeWarning: divide by zero encountered in double_scalars\n",
      "  return np.dot(wresid, wresid) / self.df_resid\n",
      "C:\\ProgramData\\Anaconda3\\lib\\site-packages\\statsmodels\\regression\\linear_model.py:1698: RuntimeWarning: divide by zero encountered in true_divide\n",
      "  return 1 - (np.divide(self.nobs - self.k_constant, self.df_resid)\n",
      "C:\\ProgramData\\Anaconda3\\lib\\site-packages\\statsmodels\\regression\\linear_model.py:1698: RuntimeWarning: invalid value encountered in double_scalars\n",
      "  return 1 - (np.divide(self.nobs - self.k_constant, self.df_resid)\n",
      "C:\\ProgramData\\Anaconda3\\lib\\site-packages\\scipy\\stats\\_distn_infrastructure.py:1932: RuntimeWarning: invalid value encountered in less_equal\n",
      "  cond2 = cond0 & (x <= _a)\n",
      "C:\\ProgramData\\Anaconda3\\lib\\site-packages\\statsmodels\\regression\\linear_model.py:1620: RuntimeWarning: divide by zero encountered in double_scalars\n",
      "  return np.dot(wresid, wresid) / self.df_resid\n"
     ]
    },
    {
     "name": "stdout",
     "output_type": "stream",
     "text": [
      "\n",
      "\n",
      "\n",
      "Reg_seg 54, ALL: lower bound 1.6, higher bound 50\n",
      "                            coef  std err      t  P>|t|\n",
      "OBRIGAÇÃO_FINAL_POR_SALA -0.0053    0.011 -0.500  0.635\n",
      "DIAS_FUNCIONAMENTO        0.0138    0.003  5.407  0.002\n",
      "\n",
      "\n",
      "Reg_seg 55, FOREIGN: lower bound 1.6, higher bound 50\n",
      "                            coef  std err      t  P>|t|\n",
      "OBRIGAÇÃO_FINAL_POR_SALA  0.0218    0.033  0.656  0.541\n",
      "DIAS_FUNCIONAMENTO        0.0259    0.007  3.477  0.018\n",
      "\n",
      "\n",
      "Reg_seg 56, BRAZILIAN: lower bound 1.6, higher bound 50\n",
      "                            coef  std err      t  P>|t|\n",
      "OBRIGAÇÃO_FINAL_POR_SALA -0.0018    0.012 -0.143  0.891\n",
      "DIAS_FUNCIONAMENTO        0.0097    0.003  3.505  0.013\n",
      "\n",
      "\n"
     ]
    }
   ],
   "source": [
    "works = ['ALL', 'FOREIGN', 'BRAZILIAN']\n",
    "\n",
    "for i in range(last_count,count_regs):\n",
    "    print(f'Reg_seg {i}, {works[i%3]}: lower bound {bounds[(i-last_count)//3]}, higher bound {bounds[((i-last_count)//3)+1]}')\n",
    "    print(pd.read_html(seg_gregs[f'reg_seg{i}'].summary().\n",
    "                       tables[1].as_html(),header=0,index_col=0)[0].iloc[-2:,:-2])\n",
    "    print('\\n')"
   ]
  },
  {
   "cell_type": "markdown",
   "metadata": {},
   "source": [
    "#### Bounds - [0, 0.45, 0.85, 1.25, 1.65, 50]"
   ]
  },
  {
   "cell_type": "code",
   "execution_count": 68,
   "metadata": {
    "ExecuteTime": {
     "end_time": "2021-06-14T23:10:59.801754Z",
     "start_time": "2021-06-14T23:10:58.948941Z"
    }
   },
   "outputs": [
    {
     "name": "stdout",
     "output_type": "stream",
     "text": [
      "72\n"
     ]
    }
   ],
   "source": [
    "bounds = [0, 0.45, 0.85, 1.25, 1.65, 50] \n",
    "\n",
    "last_count = count_regs\n",
    "\n",
    "formul = 'np.log(RENDA) ~ OBRIGAÇÃO_FINAL_POR_SALA + DIAS_FUNCIONAMENTO + C(REGISTRO_COMPLEXO) + C(ANO_CINEMATOGRAFICO)'\n",
    "\n",
    "for i in range(len(bounds)-1):\n",
    "    seg_gregs[f'reg_seg{count_regs}'] = smf.ols(formula=formul, \n",
    "                    data = tds_1718[tds_1718.CUMPRIMENTO_PROPORCIONAL.between(bounds[i],bounds[i+1])]).fit()\n",
    "    count_regs += 1\n",
    "    seg_gregs[f'reg_seg{count_regs}'] = smf.ols(formula=formul, \n",
    "                    data = est_1718[est_1718.CUMPRIMENTO_PROPORCIONAL.between(bounds[i],bounds[i+1])]).fit()\n",
    "    count_regs += 1\n",
    "    seg_gregs[f'reg_seg{count_regs}'] = smf.ols(formula=formul, \n",
    "                    data = bras_1718[bras_1718.CUMPRIMENTO_PROPORCIONAL.between(bounds[i],bounds[i+1])]).fit()\n",
    "    count_regs += 1\n",
    "\n",
    "print(count_regs)"
   ]
  },
  {
   "cell_type": "code",
   "execution_count": 69,
   "metadata": {
    "ExecuteTime": {
     "end_time": "2021-06-14T23:11:01.439284Z",
     "start_time": "2021-06-14T23:10:59.803715Z"
    },
    "scrolled": true
   },
   "outputs": [
    {
     "name": "stdout",
     "output_type": "stream",
     "text": [
      "Reg_seg 57, ALL: lower bound 0, higher bound 0.45\n",
      "                            coef  std err      t  P>|t|\n",
      "OBRIGAÇÃO_FINAL_POR_SALA  0.0194    0.017  1.158   0.26\n",
      "DIAS_FUNCIONAMENTO        0.0059    0.001  4.153   0.00\n",
      "\n",
      "\n",
      "Reg_seg 58, FOREIGN: lower bound 0, higher bound 0.45\n",
      "                            coef  std err      t  P>|t|\n",
      "OBRIGAÇÃO_FINAL_POR_SALA  0.0183    0.018  1.042  0.309\n",
      "DIAS_FUNCIONAMENTO        0.0060    0.001  4.041  0.001\n",
      "\n",
      "\n",
      "Reg_seg 59, BRAZILIAN: lower bound 0, higher bound 0.45\n",
      "                            coef  std err      t  P>|t|\n",
      "OBRIGAÇÃO_FINAL_POR_SALA -0.0035    0.037 -0.094  0.926\n",
      "DIAS_FUNCIONAMENTO        0.0212    0.008  2.567  0.021\n",
      "\n",
      "\n",
      "Reg_seg 60, ALL: lower bound 0.45, higher bound 0.85\n",
      "                            coef  std err      t  P>|t|\n",
      "OBRIGAÇÃO_FINAL_POR_SALA  0.0061    0.003  2.163  0.034\n",
      "DIAS_FUNCIONAMENTO        0.0048    0.001  9.524  0.000\n",
      "\n",
      "\n",
      "Reg_seg 61, FOREIGN: lower bound 0.45, higher bound 0.85\n",
      "                            coef  std err      t  P>|t|\n",
      "OBRIGAÇÃO_FINAL_POR_SALA  0.0058    0.003  2.040  0.045\n",
      "DIAS_FUNCIONAMENTO        0.0051    0.001  9.975  0.000\n",
      "\n",
      "\n",
      "Reg_seg 62, BRAZILIAN: lower bound 0.45, higher bound 0.85\n",
      "                            coef  std err      t  P>|t|\n",
      "OBRIGAÇÃO_FINAL_POR_SALA  0.0069    0.007  1.014  0.314\n",
      "DIAS_FUNCIONAMENTO        0.0060    0.002  2.556  0.013\n",
      "\n",
      "\n",
      "Reg_seg 63, ALL: lower bound 0.85, higher bound 1.25\n",
      "                            coef  std err       t  P>|t|\n",
      "OBRIGAÇÃO_FINAL_POR_SALA -0.0011    0.002  -0.728  0.467\n",
      "DIAS_FUNCIONAMENTO        0.0053    0.000  16.005  0.000\n",
      "\n",
      "\n",
      "Reg_seg 64, FOREIGN: lower bound 0.85, higher bound 1.25\n",
      "                            coef  std err       t  P>|t|\n",
      "OBRIGAÇÃO_FINAL_POR_SALA -0.0020    0.002  -1.262  0.208\n",
      "DIAS_FUNCIONAMENTO        0.0053    0.000  16.118  0.000\n",
      "\n",
      "\n",
      "Reg_seg 65, BRAZILIAN: lower bound 0.85, higher bound 1.25\n",
      "                            coef  std err      t  P>|t|\n",
      "OBRIGAÇÃO_FINAL_POR_SALA  0.0103    0.004  2.784  0.006\n",
      "DIAS_FUNCIONAMENTO        0.0042    0.001  4.582  0.000\n",
      "\n",
      "\n",
      "Reg_seg 66, ALL: lower bound 1.25, higher bound 1.65\n",
      "                            coef  std err  t  P>|t|\n",
      "OBRIGAÇÃO_FINAL_POR_SALA  0.0943      inf  0    NaN\n",
      "DIAS_FUNCIONAMENTO        0.0061      inf  0    NaN\n",
      "\n",
      "\n",
      "Reg_seg 67, FOREIGN: lower bound 1.25, higher bound 1.65\n",
      "                            coef  std err  t  P>|t|\n",
      "OBRIGAÇÃO_FINAL_POR_SALA  0.0879      inf  0    NaN\n",
      "DIAS_FUNCIONAMENTO        0.0067      inf  0    NaN\n",
      "\n",
      "\n",
      "Reg_seg 68, BRAZILIAN: lower bound 1.25, higher bound 1.65\n",
      "                            coef  std err  t  P>|t|\n",
      "OBRIGAÇÃO_FINAL_POR_SALA  0.0877      inf  0    NaN\n",
      "DIAS_FUNCIONAMENTO        0.0061      inf  0    NaN\n",
      "\n",
      "\n",
      "Reg_seg 69, ALL: lower bound 1.65, higher bound 50\n",
      "                            coef  std err      t  P>|t|\n",
      "OBRIGAÇÃO_FINAL_POR_SALA -0.0053    0.011 -0.500  0.635\n",
      "DIAS_FUNCIONAMENTO        0.0138    0.003  5.407  0.002\n",
      "\n",
      "\n",
      "Reg_seg 70, FOREIGN: lower bound 1.65, higher bound 50\n"
     ]
    },
    {
     "name": "stderr",
     "output_type": "stream",
     "text": [
      "C:\\ProgramData\\Anaconda3\\lib\\site-packages\\statsmodels\\regression\\linear_model.py:1698: RuntimeWarning: divide by zero encountered in true_divide\n",
      "  return 1 - (np.divide(self.nobs - self.k_constant, self.df_resid)\n",
      "C:\\ProgramData\\Anaconda3\\lib\\site-packages\\statsmodels\\regression\\linear_model.py:1698: RuntimeWarning: invalid value encountered in double_scalars\n",
      "  return 1 - (np.divide(self.nobs - self.k_constant, self.df_resid)\n",
      "C:\\ProgramData\\Anaconda3\\lib\\site-packages\\scipy\\stats\\_distn_infrastructure.py:1932: RuntimeWarning: invalid value encountered in less_equal\n",
      "  cond2 = cond0 & (x <= _a)\n",
      "C:\\ProgramData\\Anaconda3\\lib\\site-packages\\statsmodels\\regression\\linear_model.py:1620: RuntimeWarning: divide by zero encountered in double_scalars\n",
      "  return np.dot(wresid, wresid) / self.df_resid\n",
      "C:\\ProgramData\\Anaconda3\\lib\\site-packages\\statsmodels\\regression\\linear_model.py:1698: RuntimeWarning: divide by zero encountered in true_divide\n",
      "  return 1 - (np.divide(self.nobs - self.k_constant, self.df_resid)\n",
      "C:\\ProgramData\\Anaconda3\\lib\\site-packages\\statsmodels\\regression\\linear_model.py:1698: RuntimeWarning: invalid value encountered in double_scalars\n",
      "  return 1 - (np.divide(self.nobs - self.k_constant, self.df_resid)\n",
      "C:\\ProgramData\\Anaconda3\\lib\\site-packages\\scipy\\stats\\_distn_infrastructure.py:1932: RuntimeWarning: invalid value encountered in less_equal\n",
      "  cond2 = cond0 & (x <= _a)\n",
      "C:\\ProgramData\\Anaconda3\\lib\\site-packages\\statsmodels\\regression\\linear_model.py:1620: RuntimeWarning: divide by zero encountered in double_scalars\n",
      "  return np.dot(wresid, wresid) / self.df_resid\n",
      "C:\\ProgramData\\Anaconda3\\lib\\site-packages\\statsmodels\\regression\\linear_model.py:1698: RuntimeWarning: divide by zero encountered in true_divide\n",
      "  return 1 - (np.divide(self.nobs - self.k_constant, self.df_resid)\n",
      "C:\\ProgramData\\Anaconda3\\lib\\site-packages\\statsmodels\\regression\\linear_model.py:1698: RuntimeWarning: invalid value encountered in double_scalars\n",
      "  return 1 - (np.divide(self.nobs - self.k_constant, self.df_resid)\n",
      "C:\\ProgramData\\Anaconda3\\lib\\site-packages\\scipy\\stats\\_distn_infrastructure.py:1932: RuntimeWarning: invalid value encountered in less_equal\n",
      "  cond2 = cond0 & (x <= _a)\n",
      "C:\\ProgramData\\Anaconda3\\lib\\site-packages\\statsmodels\\regression\\linear_model.py:1620: RuntimeWarning: divide by zero encountered in double_scalars\n",
      "  return np.dot(wresid, wresid) / self.df_resid\n"
     ]
    },
    {
     "name": "stdout",
     "output_type": "stream",
     "text": [
      "                            coef  std err      t  P>|t|\n",
      "OBRIGAÇÃO_FINAL_POR_SALA  0.0218    0.033  0.656  0.541\n",
      "DIAS_FUNCIONAMENTO        0.0259    0.007  3.477  0.018\n",
      "\n",
      "\n",
      "Reg_seg 71, BRAZILIAN: lower bound 1.65, higher bound 50\n",
      "                            coef  std err      t  P>|t|\n",
      "OBRIGAÇÃO_FINAL_POR_SALA -0.0018    0.012 -0.143  0.891\n",
      "DIAS_FUNCIONAMENTO        0.0097    0.003  3.505  0.013\n",
      "\n",
      "\n"
     ]
    }
   ],
   "source": [
    "works = ['ALL', 'FOREIGN', 'BRAZILIAN']\n",
    "\n",
    "for i in range(last_count,count_regs):\n",
    "    print(f'Reg_seg {i}, {works[i%3]}: lower bound {bounds[(i-last_count)//3]}, higher bound {bounds[((i-last_count)//3)+1]}')\n",
    "    print(pd.read_html(seg_gregs[f'reg_seg{i}'].summary().\n",
    "                       tables[1].as_html(),header=0,index_col=0)[0].iloc[-2:,:-2])\n",
    "    print('\\n')"
   ]
  },
  {
   "cell_type": "markdown",
   "metadata": {},
   "source": [
    "#### Bounds - [0.0, 0.1, 0.2, 0.3, 0.4, 0.5, 0.6, 0.7, 0.8, 0.9, 1.0, 1.1, 1.2, 1.3, 50]"
   ]
  },
  {
   "cell_type": "code",
   "execution_count": 70,
   "metadata": {
    "ExecuteTime": {
     "end_time": "2021-06-14T23:11:02.338982Z",
     "start_time": "2021-06-14T23:11:01.442797Z"
    }
   },
   "outputs": [
    {
     "name": "stdout",
     "output_type": "stream",
     "text": [
      "114\n"
     ]
    }
   ],
   "source": [
    "bounds = [x/10 for x in range(14)]\n",
    "bounds.append(50)\n",
    "\n",
    "last_count = count_regs\n",
    "\n",
    "formul = 'np.log(RENDA) ~ OBRIGAÇÃO_FINAL_POR_SALA + DIAS_FUNCIONAMENTO + C(REGISTRO_COMPLEXO) + C(ANO_CINEMATOGRAFICO)'\n",
    "\n",
    "for i in range(len(bounds)-1):\n",
    "    seg_gregs[f'reg_seg{count_regs}'] = smf.ols(formula=formul, \n",
    "                    data = tds_1718[tds_1718.CUMPRIMENTO_PROPORCIONAL.between(bounds[i],bounds[i+1])]).fit()\n",
    "    count_regs += 1\n",
    "    seg_gregs[f'reg_seg{count_regs}'] = smf.ols(formula=formul, \n",
    "                    data = est_1718[est_1718.CUMPRIMENTO_PROPORCIONAL.between(bounds[i],bounds[i+1])]).fit()\n",
    "    count_regs += 1\n",
    "    seg_gregs[f'reg_seg{count_regs}'] = smf.ols(formula=formul, \n",
    "                    data = bras_1718[bras_1718.CUMPRIMENTO_PROPORCIONAL.between(bounds[i],bounds[i+1])]).fit()\n",
    "    count_regs += 1\n",
    "\n",
    "print(count_regs)"
   ]
  },
  {
   "cell_type": "code",
   "execution_count": 71,
   "metadata": {
    "ExecuteTime": {
     "end_time": "2021-06-14T23:11:04.798178Z",
     "start_time": "2021-06-14T23:11:02.341197Z"
    },
    "scrolled": true
   },
   "outputs": [
    {
     "name": "stdout",
     "output_type": "stream",
     "text": [
      "Reg_seg 72, ALL: lower bound 0.0, higher bound 0.1\n",
      "                            coef  std err  t  P>|t|\n",
      "OBRIGAÇÃO_FINAL_POR_SALA -0.0566      inf  0    NaN\n",
      "DIAS_FUNCIONAMENTO        0.0118      inf  0    NaN\n",
      "\n",
      "\n",
      "Reg_seg 73, FOREIGN: lower bound 0.0, higher bound 0.1\n",
      "                            coef  std err  t  P>|t|\n",
      "OBRIGAÇÃO_FINAL_POR_SALA -0.0690      inf  0    NaN\n",
      "DIAS_FUNCIONAMENTO        0.0119      inf  0    NaN\n",
      "\n",
      "\n",
      "Reg_seg 74, BRAZILIAN: lower bound 0.0, higher bound 0.1\n",
      "                            coef  std err  t  P>|t|\n",
      "OBRIGAÇÃO_FINAL_POR_SALA  0.0608      inf  0    NaN\n",
      "DIAS_FUNCIONAMENTO        0.1112      inf  0    NaN\n",
      "\n",
      "\n",
      "Reg_seg 75, ALL: lower bound 0.1, higher bound 0.2\n",
      "                            coef  std err  t  P>|t|\n",
      "OBRIGAÇÃO_FINAL_POR_SALA  0.1663      inf  0    NaN\n",
      "DIAS_FUNCIONAMENTO        0.0107      inf  0    NaN\n",
      "\n",
      "\n",
      "Reg_seg 76, FOREIGN: lower bound 0.1, higher bound 0.2\n",
      "                            coef  std err  t  P>|t|\n",
      "OBRIGAÇÃO_FINAL_POR_SALA  0.1663      inf  0    NaN\n",
      "DIAS_FUNCIONAMENTO        0.0108      inf  0    NaN\n",
      "\n",
      "\n",
      "Reg_seg 77, BRAZILIAN: lower bound 0.1, higher bound 0.2\n",
      "                            coef  std err  t  P>|t|\n",
      "OBRIGAÇÃO_FINAL_POR_SALA  0.1361      inf  0    NaN\n",
      "DIAS_FUNCIONAMENTO        0.0303      inf  0    NaN\n",
      "\n",
      "\n",
      "Reg_seg 78, ALL: lower bound 0.2, higher bound 0.3\n"
     ]
    },
    {
     "name": "stderr",
     "output_type": "stream",
     "text": [
      "C:\\ProgramData\\Anaconda3\\lib\\site-packages\\statsmodels\\regression\\linear_model.py:1698: RuntimeWarning: divide by zero encountered in true_divide\n",
      "  return 1 - (np.divide(self.nobs - self.k_constant, self.df_resid)\n",
      "C:\\ProgramData\\Anaconda3\\lib\\site-packages\\statsmodels\\regression\\linear_model.py:1698: RuntimeWarning: invalid value encountered in double_scalars\n",
      "  return 1 - (np.divide(self.nobs - self.k_constant, self.df_resid)\n",
      "C:\\ProgramData\\Anaconda3\\lib\\site-packages\\scipy\\stats\\_distn_infrastructure.py:1932: RuntimeWarning: invalid value encountered in less_equal\n",
      "  cond2 = cond0 & (x <= _a)\n",
      "C:\\ProgramData\\Anaconda3\\lib\\site-packages\\statsmodels\\regression\\linear_model.py:1620: RuntimeWarning: divide by zero encountered in double_scalars\n",
      "  return np.dot(wresid, wresid) / self.df_resid\n",
      "C:\\ProgramData\\Anaconda3\\lib\\site-packages\\statsmodels\\regression\\linear_model.py:1698: RuntimeWarning: divide by zero encountered in true_divide\n",
      "  return 1 - (np.divide(self.nobs - self.k_constant, self.df_resid)\n",
      "C:\\ProgramData\\Anaconda3\\lib\\site-packages\\statsmodels\\regression\\linear_model.py:1698: RuntimeWarning: invalid value encountered in double_scalars\n",
      "  return 1 - (np.divide(self.nobs - self.k_constant, self.df_resid)\n",
      "C:\\ProgramData\\Anaconda3\\lib\\site-packages\\scipy\\stats\\_distn_infrastructure.py:1932: RuntimeWarning: invalid value encountered in less_equal\n",
      "  cond2 = cond0 & (x <= _a)\n",
      "C:\\ProgramData\\Anaconda3\\lib\\site-packages\\statsmodels\\regression\\linear_model.py:1620: RuntimeWarning: divide by zero encountered in double_scalars\n",
      "  return np.dot(wresid, wresid) / self.df_resid\n",
      "C:\\ProgramData\\Anaconda3\\lib\\site-packages\\statsmodels\\regression\\linear_model.py:1698: RuntimeWarning: divide by zero encountered in true_divide\n",
      "  return 1 - (np.divide(self.nobs - self.k_constant, self.df_resid)\n",
      "C:\\ProgramData\\Anaconda3\\lib\\site-packages\\statsmodels\\regression\\linear_model.py:1698: RuntimeWarning: invalid value encountered in double_scalars\n",
      "  return 1 - (np.divide(self.nobs - self.k_constant, self.df_resid)\n",
      "C:\\ProgramData\\Anaconda3\\lib\\site-packages\\scipy\\stats\\_distn_infrastructure.py:1932: RuntimeWarning: invalid value encountered in less_equal\n",
      "  cond2 = cond0 & (x <= _a)\n",
      "C:\\ProgramData\\Anaconda3\\lib\\site-packages\\statsmodels\\regression\\linear_model.py:1620: RuntimeWarning: divide by zero encountered in double_scalars\n",
      "  return np.dot(wresid, wresid) / self.df_resid\n",
      "C:\\ProgramData\\Anaconda3\\lib\\site-packages\\statsmodels\\regression\\linear_model.py:1698: RuntimeWarning: divide by zero encountered in true_divide\n",
      "  return 1 - (np.divide(self.nobs - self.k_constant, self.df_resid)\n",
      "C:\\ProgramData\\Anaconda3\\lib\\site-packages\\statsmodels\\regression\\linear_model.py:1698: RuntimeWarning: invalid value encountered in double_scalars\n",
      "  return 1 - (np.divide(self.nobs - self.k_constant, self.df_resid)\n",
      "C:\\ProgramData\\Anaconda3\\lib\\site-packages\\scipy\\stats\\_distn_infrastructure.py:1932: RuntimeWarning: invalid value encountered in less_equal\n",
      "  cond2 = cond0 & (x <= _a)\n",
      "C:\\ProgramData\\Anaconda3\\lib\\site-packages\\statsmodels\\regression\\linear_model.py:1620: RuntimeWarning: divide by zero encountered in double_scalars\n",
      "  return np.dot(wresid, wresid) / self.df_resid\n",
      "C:\\ProgramData\\Anaconda3\\lib\\site-packages\\statsmodels\\regression\\linear_model.py:1698: RuntimeWarning: divide by zero encountered in true_divide\n",
      "  return 1 - (np.divide(self.nobs - self.k_constant, self.df_resid)\n",
      "C:\\ProgramData\\Anaconda3\\lib\\site-packages\\statsmodels\\regression\\linear_model.py:1698: RuntimeWarning: invalid value encountered in double_scalars\n",
      "  return 1 - (np.divide(self.nobs - self.k_constant, self.df_resid)\n",
      "C:\\ProgramData\\Anaconda3\\lib\\site-packages\\scipy\\stats\\_distn_infrastructure.py:1932: RuntimeWarning: invalid value encountered in less_equal\n",
      "  cond2 = cond0 & (x <= _a)\n",
      "C:\\ProgramData\\Anaconda3\\lib\\site-packages\\statsmodels\\regression\\linear_model.py:1620: RuntimeWarning: divide by zero encountered in double_scalars\n",
      "  return np.dot(wresid, wresid) / self.df_resid\n",
      "C:\\ProgramData\\Anaconda3\\lib\\site-packages\\statsmodels\\regression\\linear_model.py:1698: RuntimeWarning: divide by zero encountered in true_divide\n",
      "  return 1 - (np.divide(self.nobs - self.k_constant, self.df_resid)\n",
      "C:\\ProgramData\\Anaconda3\\lib\\site-packages\\statsmodels\\regression\\linear_model.py:1698: RuntimeWarning: invalid value encountered in double_scalars\n",
      "  return 1 - (np.divide(self.nobs - self.k_constant, self.df_resid)\n",
      "C:\\ProgramData\\Anaconda3\\lib\\site-packages\\scipy\\stats\\_distn_infrastructure.py:1932: RuntimeWarning: invalid value encountered in less_equal\n",
      "  cond2 = cond0 & (x <= _a)\n",
      "C:\\ProgramData\\Anaconda3\\lib\\site-packages\\statsmodels\\regression\\linear_model.py:1620: RuntimeWarning: divide by zero encountered in double_scalars\n",
      "  return np.dot(wresid, wresid) / self.df_resid\n",
      "C:\\ProgramData\\Anaconda3\\lib\\site-packages\\statsmodels\\regression\\linear_model.py:1698: RuntimeWarning: divide by zero encountered in true_divide\n",
      "  return 1 - (np.divide(self.nobs - self.k_constant, self.df_resid)\n",
      "C:\\ProgramData\\Anaconda3\\lib\\site-packages\\statsmodels\\regression\\linear_model.py:1698: RuntimeWarning: invalid value encountered in double_scalars\n",
      "  return 1 - (np.divide(self.nobs - self.k_constant, self.df_resid)\n",
      "C:\\ProgramData\\Anaconda3\\lib\\site-packages\\scipy\\stats\\_distn_infrastructure.py:1932: RuntimeWarning: invalid value encountered in less_equal\n",
      "  cond2 = cond0 & (x <= _a)\n",
      "C:\\ProgramData\\Anaconda3\\lib\\site-packages\\statsmodels\\regression\\linear_model.py:1620: RuntimeWarning: divide by zero encountered in double_scalars\n",
      "  return np.dot(wresid, wresid) / self.df_resid\n"
     ]
    },
    {
     "name": "stdout",
     "output_type": "stream",
     "text": [
      "                            coef  std err  t  P>|t|\n",
      "OBRIGAÇÃO_FINAL_POR_SALA  0.0315      inf  0    NaN\n",
      "DIAS_FUNCIONAMENTO        0.0117      inf  0    NaN\n",
      "\n",
      "\n",
      "Reg_seg 79, FOREIGN: lower bound 0.2, higher bound 0.3\n",
      "                            coef  std err  t  P>|t|\n",
      "OBRIGAÇÃO_FINAL_POR_SALA  0.0309      inf  0    NaN\n",
      "DIAS_FUNCIONAMENTO        0.0122      inf  0    NaN\n",
      "\n",
      "\n",
      "Reg_seg 80, BRAZILIAN: lower bound 0.2, higher bound 0.3\n",
      "                            coef  std err  t  P>|t|\n",
      "OBRIGAÇÃO_FINAL_POR_SALA  0.0411      inf  0    NaN\n",
      "DIAS_FUNCIONAMENTO        0.0105      inf  0    NaN\n",
      "\n",
      "\n",
      "Reg_seg 81, ALL: lower bound 0.3, higher bound 0.4\n",
      "                            coef  std err  t  P>|t|\n",
      "OBRIGAÇÃO_FINAL_POR_SALA  0.0255      inf  0    NaN\n",
      "DIAS_FUNCIONAMENTO        0.0028      inf  0    NaN\n",
      "\n",
      "\n",
      "Reg_seg 82, FOREIGN: lower bound 0.3, higher bound 0.4\n",
      "                            coef  std err  t  P>|t|\n",
      "OBRIGAÇÃO_FINAL_POR_SALA  0.0262      inf  0    NaN\n",
      "DIAS_FUNCIONAMENTO        0.0034      inf  0    NaN\n",
      "\n",
      "\n",
      "Reg_seg 83, BRAZILIAN: lower bound 0.3, higher bound 0.4\n",
      "                            coef  std err  t  P>|t|\n",
      "OBRIGAÇÃO_FINAL_POR_SALA -0.0788      inf  0    NaN\n",
      "DIAS_FUNCIONAMENTO        0.0153      inf  0    NaN\n",
      "\n",
      "\n",
      "Reg_seg 84, ALL: lower bound 0.4, higher bound 0.5\n",
      "                            coef  std err      t  P>|t|\n",
      "OBRIGAÇÃO_FINAL_POR_SALA  0.0004    0.001  0.276  0.809\n",
      "DIAS_FUNCIONAMENTO        0.0033    0.001  3.919  0.059\n",
      "\n",
      "\n",
      "Reg_seg 85, FOREIGN: lower bound 0.4, higher bound 0.5\n"
     ]
    },
    {
     "name": "stderr",
     "output_type": "stream",
     "text": [
      "C:\\ProgramData\\Anaconda3\\lib\\site-packages\\statsmodels\\regression\\linear_model.py:1698: RuntimeWarning: divide by zero encountered in true_divide\n",
      "  return 1 - (np.divide(self.nobs - self.k_constant, self.df_resid)\n",
      "C:\\ProgramData\\Anaconda3\\lib\\site-packages\\statsmodels\\regression\\linear_model.py:1698: RuntimeWarning: invalid value encountered in double_scalars\n",
      "  return 1 - (np.divide(self.nobs - self.k_constant, self.df_resid)\n",
      "C:\\ProgramData\\Anaconda3\\lib\\site-packages\\scipy\\stats\\_distn_infrastructure.py:1932: RuntimeWarning: invalid value encountered in less_equal\n",
      "  cond2 = cond0 & (x <= _a)\n",
      "C:\\ProgramData\\Anaconda3\\lib\\site-packages\\statsmodels\\regression\\linear_model.py:1620: RuntimeWarning: divide by zero encountered in double_scalars\n",
      "  return np.dot(wresid, wresid) / self.df_resid\n",
      "C:\\ProgramData\\Anaconda3\\lib\\site-packages\\statsmodels\\regression\\linear_model.py:1698: RuntimeWarning: divide by zero encountered in true_divide\n",
      "  return 1 - (np.divide(self.nobs - self.k_constant, self.df_resid)\n",
      "C:\\ProgramData\\Anaconda3\\lib\\site-packages\\statsmodels\\regression\\linear_model.py:1698: RuntimeWarning: invalid value encountered in double_scalars\n",
      "  return 1 - (np.divide(self.nobs - self.k_constant, self.df_resid)\n",
      "C:\\ProgramData\\Anaconda3\\lib\\site-packages\\scipy\\stats\\_distn_infrastructure.py:1932: RuntimeWarning: invalid value encountered in less_equal\n",
      "  cond2 = cond0 & (x <= _a)\n",
      "C:\\ProgramData\\Anaconda3\\lib\\site-packages\\statsmodels\\regression\\linear_model.py:1620: RuntimeWarning: divide by zero encountered in double_scalars\n",
      "  return np.dot(wresid, wresid) / self.df_resid\n",
      "C:\\ProgramData\\Anaconda3\\lib\\site-packages\\statsmodels\\regression\\linear_model.py:1698: RuntimeWarning: divide by zero encountered in true_divide\n",
      "  return 1 - (np.divide(self.nobs - self.k_constant, self.df_resid)\n",
      "C:\\ProgramData\\Anaconda3\\lib\\site-packages\\statsmodels\\regression\\linear_model.py:1698: RuntimeWarning: invalid value encountered in double_scalars\n",
      "  return 1 - (np.divide(self.nobs - self.k_constant, self.df_resid)\n",
      "C:\\ProgramData\\Anaconda3\\lib\\site-packages\\scipy\\stats\\_distn_infrastructure.py:1932: RuntimeWarning: invalid value encountered in less_equal\n",
      "  cond2 = cond0 & (x <= _a)\n",
      "C:\\ProgramData\\Anaconda3\\lib\\site-packages\\statsmodels\\regression\\linear_model.py:1620: RuntimeWarning: divide by zero encountered in double_scalars\n",
      "  return np.dot(wresid, wresid) / self.df_resid\n",
      "C:\\ProgramData\\Anaconda3\\lib\\site-packages\\statsmodels\\regression\\linear_model.py:1698: RuntimeWarning: divide by zero encountered in true_divide\n",
      "  return 1 - (np.divide(self.nobs - self.k_constant, self.df_resid)\n",
      "C:\\ProgramData\\Anaconda3\\lib\\site-packages\\statsmodels\\regression\\linear_model.py:1698: RuntimeWarning: invalid value encountered in double_scalars\n",
      "  return 1 - (np.divide(self.nobs - self.k_constant, self.df_resid)\n",
      "C:\\ProgramData\\Anaconda3\\lib\\site-packages\\scipy\\stats\\_distn_infrastructure.py:1932: RuntimeWarning: invalid value encountered in less_equal\n",
      "  cond2 = cond0 & (x <= _a)\n",
      "C:\\ProgramData\\Anaconda3\\lib\\site-packages\\statsmodels\\regression\\linear_model.py:1620: RuntimeWarning: divide by zero encountered in double_scalars\n",
      "  return np.dot(wresid, wresid) / self.df_resid\n",
      "C:\\ProgramData\\Anaconda3\\lib\\site-packages\\statsmodels\\regression\\linear_model.py:1698: RuntimeWarning: divide by zero encountered in true_divide\n",
      "  return 1 - (np.divide(self.nobs - self.k_constant, self.df_resid)\n",
      "C:\\ProgramData\\Anaconda3\\lib\\site-packages\\statsmodels\\regression\\linear_model.py:1698: RuntimeWarning: invalid value encountered in double_scalars\n",
      "  return 1 - (np.divide(self.nobs - self.k_constant, self.df_resid)\n",
      "C:\\ProgramData\\Anaconda3\\lib\\site-packages\\scipy\\stats\\_distn_infrastructure.py:1932: RuntimeWarning: invalid value encountered in less_equal\n",
      "  cond2 = cond0 & (x <= _a)\n",
      "C:\\ProgramData\\Anaconda3\\lib\\site-packages\\statsmodels\\regression\\linear_model.py:1620: RuntimeWarning: divide by zero encountered in double_scalars\n",
      "  return np.dot(wresid, wresid) / self.df_resid\n"
     ]
    },
    {
     "name": "stdout",
     "output_type": "stream",
     "text": [
      "                            coef  std err      t  P>|t|\n",
      "OBRIGAÇÃO_FINAL_POR_SALA -0.0025    0.001 -4.039  0.056\n",
      "DIAS_FUNCIONAMENTO        0.0030    0.000  7.629  0.017\n",
      "\n",
      "\n",
      "Reg_seg 86, BRAZILIAN: lower bound 0.4, higher bound 0.5\n",
      "                            coef  std err      t  P>|t|\n",
      "OBRIGAÇÃO_FINAL_POR_SALA  0.0413    0.018  2.239  0.155\n",
      "DIAS_FUNCIONAMENTO        0.0156    0.009  1.795  0.215\n",
      "\n",
      "\n",
      "Reg_seg 87, ALL: lower bound 0.5, higher bound 0.6\n",
      "                            coef  std err      t  P>|t|\n",
      "OBRIGAÇÃO_FINAL_POR_SALA  0.0121    0.006  1.939  0.110\n",
      "DIAS_FUNCIONAMENTO        0.0051    0.001  7.140  0.001\n",
      "\n",
      "\n",
      "Reg_seg 88, FOREIGN: lower bound 0.5, higher bound 0.6\n",
      "                            coef  std err      t  P>|t|\n",
      "OBRIGAÇÃO_FINAL_POR_SALA  0.0108    0.007  1.604  0.170\n",
      "DIAS_FUNCIONAMENTO        0.0053    0.001  6.853  0.001\n",
      "\n",
      "\n",
      "Reg_seg 89, BRAZILIAN: lower bound 0.5, higher bound 0.6\n",
      "                            coef  std err     t  P>|t|\n",
      "OBRIGAÇÃO_FINAL_POR_SALA  0.0302    0.022  1.38  0.226\n",
      "DIAS_FUNCIONAMENTO        0.0155    0.011  1.42  0.215\n",
      "\n",
      "\n",
      "Reg_seg 90, ALL: lower bound 0.6, higher bound 0.7\n",
      "                            coef  std err      t  P>|t|\n",
      "OBRIGAÇÃO_FINAL_POR_SALA  0.0043    0.004  0.982  0.371\n",
      "DIAS_FUNCIONAMENTO        0.0072    0.001  9.158  0.000\n",
      "\n",
      "\n",
      "Reg_seg 91, FOREIGN: lower bound 0.6, higher bound 0.7\n",
      "                            coef  std err       t  P>|t|\n",
      "OBRIGAÇÃO_FINAL_POR_SALA  0.0045    0.004   1.122  0.313\n",
      "DIAS_FUNCIONAMENTO        0.0077    0.001  10.879  0.000\n",
      "\n",
      "\n",
      "Reg_seg 92, BRAZILIAN: lower bound 0.6, higher bound 0.7\n",
      "                            coef  std err      t  P>|t|\n",
      "OBRIGAÇÃO_FINAL_POR_SALA -0.0116    0.022 -0.521  0.625\n",
      "DIAS_FUNCIONAMENTO        0.0125    0.007  1.925  0.112\n",
      "\n",
      "\n",
      "Reg_seg 93, ALL: lower bound 0.7, higher bound 0.8\n",
      "                            coef  std err      t  P>|t|\n",
      "OBRIGAÇÃO_FINAL_POR_SALA  0.0170    0.012  1.424  0.290\n",
      "DIAS_FUNCIONAMENTO        0.0059    0.005  1.111  0.382\n",
      "\n",
      "\n",
      "Reg_seg 94, FOREIGN: lower bound 0.7, higher bound 0.8\n",
      "                            coef  std err      t  P>|t|\n",
      "OBRIGAÇÃO_FINAL_POR_SALA  0.0156    0.007  2.083  0.173\n",
      "DIAS_FUNCIONAMENTO        0.0057    0.003  1.769  0.219\n",
      "\n",
      "\n",
      "Reg_seg 95, BRAZILIAN: lower bound 0.7, higher bound 0.8\n",
      "                            coef  std err      t  P>|t|\n",
      "OBRIGAÇÃO_FINAL_POR_SALA -0.0338    0.163 -0.207  0.855\n",
      "DIAS_FUNCIONAMENTO        0.0115    0.028  0.402  0.726\n",
      "\n",
      "\n",
      "Reg_seg 96, ALL: lower bound 0.8, higher bound 0.9\n",
      "                            coef  std err  t  P>|t|\n",
      "OBRIGAÇÃO_FINAL_POR_SALA  0.0805      inf  0    NaN\n",
      "DIAS_FUNCIONAMENTO        0.0051      inf  0    NaN\n",
      "\n",
      "\n",
      "Reg_seg 97, FOREIGN: lower bound 0.8, higher bound 0.9\n",
      "                            coef  std err  t  P>|t|\n",
      "OBRIGAÇÃO_FINAL_POR_SALA  0.3410      inf  0    NaN\n",
      "DIAS_FUNCIONAMENTO       -0.0227      inf  0    NaN\n",
      "\n",
      "\n",
      "Reg_seg 98, BRAZILIAN: lower bound 0.8, higher bound 0.9\n",
      "                            coef  std err  t  P>|t|\n",
      "OBRIGAÇÃO_FINAL_POR_SALA  0.8416      inf  0    NaN\n",
      "DIAS_FUNCIONAMENTO       -0.1754      inf  0    NaN\n",
      "\n",
      "\n",
      "Reg_seg 99, ALL: lower bound 0.9, higher bound 1.0\n"
     ]
    },
    {
     "name": "stderr",
     "output_type": "stream",
     "text": [
      "C:\\ProgramData\\Anaconda3\\lib\\site-packages\\statsmodels\\regression\\linear_model.py:1698: RuntimeWarning: divide by zero encountered in true_divide\n",
      "  return 1 - (np.divide(self.nobs - self.k_constant, self.df_resid)\n",
      "C:\\ProgramData\\Anaconda3\\lib\\site-packages\\statsmodels\\regression\\linear_model.py:1698: RuntimeWarning: invalid value encountered in double_scalars\n",
      "  return 1 - (np.divide(self.nobs - self.k_constant, self.df_resid)\n",
      "C:\\ProgramData\\Anaconda3\\lib\\site-packages\\scipy\\stats\\_distn_infrastructure.py:1932: RuntimeWarning: invalid value encountered in less_equal\n",
      "  cond2 = cond0 & (x <= _a)\n",
      "C:\\ProgramData\\Anaconda3\\lib\\site-packages\\statsmodels\\regression\\linear_model.py:1620: RuntimeWarning: divide by zero encountered in double_scalars\n",
      "  return np.dot(wresid, wresid) / self.df_resid\n",
      "C:\\ProgramData\\Anaconda3\\lib\\site-packages\\statsmodels\\regression\\linear_model.py:1698: RuntimeWarning: divide by zero encountered in true_divide\n",
      "  return 1 - (np.divide(self.nobs - self.k_constant, self.df_resid)\n",
      "C:\\ProgramData\\Anaconda3\\lib\\site-packages\\statsmodels\\regression\\linear_model.py:1698: RuntimeWarning: invalid value encountered in double_scalars\n",
      "  return 1 - (np.divide(self.nobs - self.k_constant, self.df_resid)\n",
      "C:\\ProgramData\\Anaconda3\\lib\\site-packages\\scipy\\stats\\_distn_infrastructure.py:1932: RuntimeWarning: invalid value encountered in less_equal\n",
      "  cond2 = cond0 & (x <= _a)\n",
      "C:\\ProgramData\\Anaconda3\\lib\\site-packages\\statsmodels\\regression\\linear_model.py:1620: RuntimeWarning: divide by zero encountered in double_scalars\n",
      "  return np.dot(wresid, wresid) / self.df_resid\n",
      "C:\\ProgramData\\Anaconda3\\lib\\site-packages\\statsmodels\\regression\\linear_model.py:1698: RuntimeWarning: divide by zero encountered in true_divide\n",
      "  return 1 - (np.divide(self.nobs - self.k_constant, self.df_resid)\n",
      "C:\\ProgramData\\Anaconda3\\lib\\site-packages\\statsmodels\\regression\\linear_model.py:1698: RuntimeWarning: invalid value encountered in double_scalars\n",
      "  return 1 - (np.divide(self.nobs - self.k_constant, self.df_resid)\n",
      "C:\\ProgramData\\Anaconda3\\lib\\site-packages\\scipy\\stats\\_distn_infrastructure.py:1932: RuntimeWarning: invalid value encountered in less_equal\n",
      "  cond2 = cond0 & (x <= _a)\n",
      "C:\\ProgramData\\Anaconda3\\lib\\site-packages\\statsmodels\\regression\\linear_model.py:1620: RuntimeWarning: divide by zero encountered in double_scalars\n",
      "  return np.dot(wresid, wresid) / self.df_resid\n"
     ]
    },
    {
     "name": "stdout",
     "output_type": "stream",
     "text": [
      "                            coef  std err       t  P>|t|\n",
      "OBRIGAÇÃO_FINAL_POR_SALA -0.0005    0.001  -0.381  0.704\n",
      "DIAS_FUNCIONAMENTO        0.0050    0.000  10.686  0.000\n",
      "\n",
      "\n",
      "Reg_seg 100, FOREIGN: lower bound 0.9, higher bound 1.0\n",
      "                            coef  std err      t  P>|t|\n",
      "OBRIGAÇÃO_FINAL_POR_SALA -0.0017    0.002 -1.127  0.264\n",
      "DIAS_FUNCIONAMENTO        0.0049    0.001  9.741  0.000\n",
      "\n",
      "\n",
      "Reg_seg 101, BRAZILIAN: lower bound 0.9, higher bound 1.0\n",
      "                            coef  std err      t  P>|t|\n",
      "OBRIGAÇÃO_FINAL_POR_SALA  0.0218    0.008  2.578  0.012\n",
      "DIAS_FUNCIONAMENTO       -0.0015    0.002 -0.706  0.483\n",
      "\n",
      "\n",
      "Reg_seg 102, ALL: lower bound 1.0, higher bound 1.1\n",
      "                            coef  std err       t  P>|t|\n",
      "OBRIGAÇÃO_FINAL_POR_SALA  0.0005    0.001   0.438  0.662\n",
      "DIAS_FUNCIONAMENTO        0.0050    0.000  21.183  0.000\n",
      "\n",
      "\n",
      "Reg_seg 103, FOREIGN: lower bound 1.0, higher bound 1.1\n",
      "                            coef  std err       t  P>|t|\n",
      "OBRIGAÇÃO_FINAL_POR_SALA -0.0011    0.001  -1.041  0.299\n",
      "DIAS_FUNCIONAMENTO        0.0053    0.000  22.686  0.000\n",
      "\n",
      "\n",
      "Reg_seg 104, BRAZILIAN: lower bound 1.0, higher bound 1.1\n",
      "                              coef  std err      t  P>|t|\n",
      "OBRIGAÇÃO_FINAL_POR_SALA  0.021400    0.005  4.367  0.000\n",
      "DIAS_FUNCIONAMENTO        0.000068    0.001  0.058  0.954\n",
      "\n",
      "\n",
      "Reg_seg 105, ALL: lower bound 1.1, higher bound 1.2\n",
      "                            coef  std err       t  P>|t|\n",
      "OBRIGAÇÃO_FINAL_POR_SALA -0.0070    0.002  -3.142  0.196\n",
      "DIAS_FUNCIONAMENTO        0.0358    0.000  88.327  0.007\n",
      "\n",
      "\n",
      "Reg_seg 106, FOREIGN: lower bound 1.1, higher bound 1.2\n",
      "                            coef  std err  t  P>|t|\n",
      "OBRIGAÇÃO_FINAL_POR_SALA  0.0025      inf  0    NaN\n",
      "DIAS_FUNCIONAMENTO       -0.1194      inf  0    NaN\n",
      "\n",
      "\n",
      "Reg_seg 107, BRAZILIAN: lower bound 1.1, higher bound 1.2\n",
      "                            coef  std err  t  P>|t|\n",
      "OBRIGAÇÃO_FINAL_POR_SALA  0.0245      inf  0    NaN\n",
      "DIAS_FUNCIONAMENTO       -0.0032      inf  0    NaN\n",
      "\n",
      "\n",
      "Reg_seg 108, ALL: lower bound 1.2, higher bound 1.3\n",
      "                            coef  std err  t  P>|t|\n",
      "OBRIGAÇÃO_FINAL_POR_SALA  0.0702      inf  0    NaN\n",
      "DIAS_FUNCIONAMENTO        0.0067      inf  0    NaN\n",
      "\n",
      "\n",
      "Reg_seg 109, FOREIGN: lower bound 1.2, higher bound 1.3\n"
     ]
    },
    {
     "name": "stderr",
     "output_type": "stream",
     "text": [
      "C:\\ProgramData\\Anaconda3\\lib\\site-packages\\statsmodels\\regression\\linear_model.py:1698: RuntimeWarning: divide by zero encountered in true_divide\n",
      "  return 1 - (np.divide(self.nobs - self.k_constant, self.df_resid)\n",
      "C:\\ProgramData\\Anaconda3\\lib\\site-packages\\statsmodels\\regression\\linear_model.py:1698: RuntimeWarning: invalid value encountered in double_scalars\n",
      "  return 1 - (np.divide(self.nobs - self.k_constant, self.df_resid)\n",
      "C:\\ProgramData\\Anaconda3\\lib\\site-packages\\scipy\\stats\\_distn_infrastructure.py:1932: RuntimeWarning: invalid value encountered in less_equal\n",
      "  cond2 = cond0 & (x <= _a)\n",
      "C:\\ProgramData\\Anaconda3\\lib\\site-packages\\statsmodels\\regression\\linear_model.py:1620: RuntimeWarning: divide by zero encountered in double_scalars\n",
      "  return np.dot(wresid, wresid) / self.df_resid\n",
      "C:\\ProgramData\\Anaconda3\\lib\\site-packages\\statsmodels\\regression\\linear_model.py:1698: RuntimeWarning: divide by zero encountered in true_divide\n",
      "  return 1 - (np.divide(self.nobs - self.k_constant, self.df_resid)\n",
      "C:\\ProgramData\\Anaconda3\\lib\\site-packages\\statsmodels\\regression\\linear_model.py:1698: RuntimeWarning: invalid value encountered in double_scalars\n",
      "  return 1 - (np.divide(self.nobs - self.k_constant, self.df_resid)\n",
      "C:\\ProgramData\\Anaconda3\\lib\\site-packages\\scipy\\stats\\_distn_infrastructure.py:1932: RuntimeWarning: invalid value encountered in less_equal\n",
      "  cond2 = cond0 & (x <= _a)\n",
      "C:\\ProgramData\\Anaconda3\\lib\\site-packages\\statsmodels\\regression\\linear_model.py:1620: RuntimeWarning: divide by zero encountered in double_scalars\n",
      "  return np.dot(wresid, wresid) / self.df_resid\n",
      "C:\\ProgramData\\Anaconda3\\lib\\site-packages\\statsmodels\\regression\\linear_model.py:1698: RuntimeWarning: divide by zero encountered in true_divide\n",
      "  return 1 - (np.divide(self.nobs - self.k_constant, self.df_resid)\n",
      "C:\\ProgramData\\Anaconda3\\lib\\site-packages\\statsmodels\\regression\\linear_model.py:1698: RuntimeWarning: invalid value encountered in double_scalars\n",
      "  return 1 - (np.divide(self.nobs - self.k_constant, self.df_resid)\n",
      "C:\\ProgramData\\Anaconda3\\lib\\site-packages\\scipy\\stats\\_distn_infrastructure.py:1932: RuntimeWarning: invalid value encountered in less_equal\n",
      "  cond2 = cond0 & (x <= _a)\n",
      "C:\\ProgramData\\Anaconda3\\lib\\site-packages\\statsmodels\\regression\\linear_model.py:1620: RuntimeWarning: divide by zero encountered in double_scalars\n",
      "  return np.dot(wresid, wresid) / self.df_resid\n",
      "C:\\ProgramData\\Anaconda3\\lib\\site-packages\\statsmodels\\regression\\linear_model.py:1698: RuntimeWarning: divide by zero encountered in true_divide\n",
      "  return 1 - (np.divide(self.nobs - self.k_constant, self.df_resid)\n",
      "C:\\ProgramData\\Anaconda3\\lib\\site-packages\\statsmodels\\regression\\linear_model.py:1698: RuntimeWarning: invalid value encountered in double_scalars\n",
      "  return 1 - (np.divide(self.nobs - self.k_constant, self.df_resid)\n",
      "C:\\ProgramData\\Anaconda3\\lib\\site-packages\\scipy\\stats\\_distn_infrastructure.py:1932: RuntimeWarning: invalid value encountered in less_equal\n",
      "  cond2 = cond0 & (x <= _a)\n",
      "C:\\ProgramData\\Anaconda3\\lib\\site-packages\\statsmodels\\regression\\linear_model.py:1620: RuntimeWarning: divide by zero encountered in double_scalars\n",
      "  return np.dot(wresid, wresid) / self.df_resid\n",
      "C:\\ProgramData\\Anaconda3\\lib\\site-packages\\statsmodels\\regression\\linear_model.py:1698: RuntimeWarning: divide by zero encountered in true_divide\n",
      "  return 1 - (np.divide(self.nobs - self.k_constant, self.df_resid)\n",
      "C:\\ProgramData\\Anaconda3\\lib\\site-packages\\statsmodels\\regression\\linear_model.py:1698: RuntimeWarning: invalid value encountered in double_scalars\n",
      "  return 1 - (np.divide(self.nobs - self.k_constant, self.df_resid)\n",
      "C:\\ProgramData\\Anaconda3\\lib\\site-packages\\scipy\\stats\\_distn_infrastructure.py:1932: RuntimeWarning: invalid value encountered in less_equal\n",
      "  cond2 = cond0 & (x <= _a)\n",
      "C:\\ProgramData\\Anaconda3\\lib\\site-packages\\statsmodels\\regression\\linear_model.py:1620: RuntimeWarning: divide by zero encountered in double_scalars\n",
      "  return np.dot(wresid, wresid) / self.df_resid\n"
     ]
    },
    {
     "name": "stdout",
     "output_type": "stream",
     "text": [
      "                            coef  std err  t  P>|t|\n",
      "OBRIGAÇÃO_FINAL_POR_SALA  0.0676      inf  0    NaN\n",
      "DIAS_FUNCIONAMENTO        0.0063      inf  0    NaN\n",
      "\n",
      "\n",
      "Reg_seg 110, BRAZILIAN: lower bound 1.2, higher bound 1.3\n",
      "                            coef  std err  t  P>|t|\n",
      "OBRIGAÇÃO_FINAL_POR_SALA  0.1256      inf  0    NaN\n",
      "DIAS_FUNCIONAMENTO        0.0055      inf  0    NaN\n",
      "\n",
      "\n",
      "Reg_seg 111, ALL: lower bound 1.3, higher bound 50\n",
      "                            coef  std err      t  P>|t|\n",
      "OBRIGAÇÃO_FINAL_POR_SALA -0.0055    0.010 -0.559  0.593\n",
      "DIAS_FUNCIONAMENTO        0.0139    0.002  5.889  0.001\n",
      "\n",
      "\n",
      "Reg_seg 112, FOREIGN: lower bound 1.3, higher bound 50\n",
      "                            coef  std err      t  P>|t|\n",
      "OBRIGAÇÃO_FINAL_POR_SALA  0.0227    0.032  0.706  0.507\n",
      "DIAS_FUNCIONAMENTO        0.0263    0.007  3.632  0.011\n",
      "\n",
      "\n",
      "Reg_seg 113, BRAZILIAN: lower bound 1.3, higher bound 50\n",
      "                            coef  std err      t  P>|t|\n",
      "OBRIGAÇÃO_FINAL_POR_SALA -0.0019    0.011 -0.170  0.870\n",
      "DIAS_FUNCIONAMENTO        0.0098    0.003  3.884  0.006\n",
      "\n",
      "\n"
     ]
    }
   ],
   "source": [
    "works = ['ALL', 'FOREIGN', 'BRAZILIAN']\n",
    "\n",
    "for i in range(last_count,count_regs):\n",
    "    print(f'Reg_seg {i}, {works[i%3]}: lower bound {bounds[(i-last_count)//3]}, higher bound {bounds[((i-last_count)//3)+1]}')\n",
    "    print(pd.read_html(seg_gregs[f'reg_seg{i}'].summary().\n",
    "                       tables[1].as_html(),header=0,index_col=0)[0].iloc[-2:,:-2])\n",
    "    print('\\n')"
   ]
  },
  {
   "cell_type": "markdown",
   "metadata": {},
   "source": [
    "#### Bounds - [0, 0.85, 0.95, 1.05, 1.15, 50]"
   ]
  },
  {
   "cell_type": "code",
   "execution_count": 72,
   "metadata": {
    "ExecuteTime": {
     "end_time": "2021-06-14T23:11:05.421483Z",
     "start_time": "2021-06-14T23:11:04.800183Z"
    }
   },
   "outputs": [
    {
     "name": "stdout",
     "output_type": "stream",
     "text": [
      "129\n"
     ]
    }
   ],
   "source": [
    "bounds = [0, 0.85, 0.95, 1.05, 1.15, 50]\n",
    "\n",
    "last_count = count_regs\n",
    "\n",
    "formul = 'np.log(RENDA) ~ OBRIGAÇÃO_FINAL_POR_SALA + DIAS_FUNCIONAMENTO + C(REGISTRO_COMPLEXO) + C(ANO_CINEMATOGRAFICO)'\n",
    "\n",
    "for i in range(len(bounds)-1):\n",
    "    seg_gregs[f'reg_seg{count_regs}'] = smf.ols(formula=formul, \n",
    "                    data = tds_1718[tds_1718.CUMPRIMENTO_PROPORCIONAL.between(bounds[i],bounds[i+1])]).fit()\n",
    "    count_regs += 1\n",
    "    seg_gregs[f'reg_seg{count_regs}'] = smf.ols(formula=formul, \n",
    "                    data = est_1718[est_1718.CUMPRIMENTO_PROPORCIONAL.between(bounds[i],bounds[i+1])]).fit()\n",
    "    count_regs += 1\n",
    "    seg_gregs[f'reg_seg{count_regs}'] = smf.ols(formula=formul, \n",
    "                    data = bras_1718[bras_1718.CUMPRIMENTO_PROPORCIONAL.between(bounds[i],bounds[i+1])]).fit()\n",
    "    count_regs += 1\n",
    "\n",
    "print(count_regs)"
   ]
  },
  {
   "cell_type": "code",
   "execution_count": 73,
   "metadata": {
    "ExecuteTime": {
     "end_time": "2021-06-14T23:11:07.100208Z",
     "start_time": "2021-06-14T23:11:05.423342Z"
    },
    "scrolled": true
   },
   "outputs": [
    {
     "name": "stdout",
     "output_type": "stream",
     "text": [
      "Reg_seg 114, ALL: lower bound 0, higher bound 0.85\n",
      "                            coef  std err       t  P>|t|\n",
      "OBRIGAÇÃO_FINAL_POR_SALA  0.0037    0.002   1.755  0.081\n",
      "DIAS_FUNCIONAMENTO        0.0064    0.000  17.074  0.000\n",
      "\n",
      "\n",
      "Reg_seg 115, FOREIGN: lower bound 0, higher bound 0.85\n",
      "                            coef  std err       t  P>|t|\n",
      "OBRIGAÇÃO_FINAL_POR_SALA  0.0037    0.002   1.852  0.066\n",
      "DIAS_FUNCIONAMENTO        0.0065    0.000  17.839  0.000\n",
      "\n",
      "\n",
      "Reg_seg 116, BRAZILIAN: lower bound 0, higher bound 0.85\n",
      "                            coef  std err      t  P>|t|\n",
      "OBRIGAÇÃO_FINAL_POR_SALA -0.0041    0.005 -0.865  0.389\n",
      "DIAS_FUNCIONAMENTO        0.0115    0.002  5.900  0.000\n",
      "\n",
      "\n",
      "Reg_seg 117, ALL: lower bound 0.85, higher bound 0.95\n",
      "                            coef  std err      t  P>|t|\n",
      "OBRIGAÇÃO_FINAL_POR_SALA  0.0952    0.081  1.178  0.448\n",
      "DIAS_FUNCIONAMENTO        0.0195    0.009  2.097  0.283\n",
      "\n",
      "\n",
      "Reg_seg 118, FOREIGN: lower bound 0.85, higher bound 0.95\n",
      "                            coef  std err      t  P>|t|\n",
      "OBRIGAÇÃO_FINAL_POR_SALA  0.3068    0.066  4.662  0.135\n",
      "DIAS_FUNCIONAMENTO        0.0114    0.008  1.431  0.388\n",
      "\n",
      "\n",
      "Reg_seg 119, BRAZILIAN: lower bound 0.85, higher bound 0.95\n",
      "                            coef  std err       t  P>|t|\n",
      "OBRIGAÇÃO_FINAL_POR_SALA -1.9842    0.135 -14.683  0.043\n",
      "DIAS_FUNCIONAMENTO        0.0205    0.003   6.273  0.101\n",
      "\n",
      "\n",
      "Reg_seg 120, ALL: lower bound 0.95, higher bound 1.05\n",
      "                            coef  std err       t  P>|t|\n",
      "OBRIGAÇÃO_FINAL_POR_SALA -0.0001    0.001  -0.123  0.902\n",
      "DIAS_FUNCIONAMENTO        0.0056    0.000  21.409  0.000\n",
      "\n",
      "\n",
      "Reg_seg 121, FOREIGN: lower bound 0.95, higher bound 1.05\n",
      "                            coef  std err       t  P>|t|\n",
      "OBRIGAÇÃO_FINAL_POR_SALA -0.0018    0.001  -1.636  0.105\n",
      "DIAS_FUNCIONAMENTO        0.0059    0.000  21.764  0.000\n",
      "\n",
      "\n",
      "Reg_seg 122, BRAZILIAN: lower bound 0.95, higher bound 1.05\n",
      "                            coef  std err      t  P>|t|\n",
      "OBRIGAÇÃO_FINAL_POR_SALA  0.0252    0.006  4.501  0.000\n",
      "DIAS_FUNCIONAMENTO       -0.0010    0.001 -0.731  0.466\n",
      "\n",
      "\n",
      "Reg_seg 123, ALL: lower bound 1.05, higher bound 1.15\n",
      "                              coef  std err      t  P>|t|\n",
      "OBRIGAÇÃO_FINAL_POR_SALA -0.000068    0.004 -0.017  0.987\n",
      "DIAS_FUNCIONAMENTO        0.004100    0.001  4.700  0.000\n",
      "\n",
      "\n",
      "Reg_seg 124, FOREIGN: lower bound 1.05, higher bound 1.15\n",
      "                            coef  std err      t  P>|t|\n",
      "OBRIGAÇÃO_FINAL_POR_SALA -0.0026    0.004 -0.602  0.553\n",
      "DIAS_FUNCIONAMENTO        0.0046    0.001  4.961  0.000\n",
      "\n",
      "\n",
      "Reg_seg 125, BRAZILIAN: lower bound 1.05, higher bound 1.15\n",
      "                            coef  std err      t  P>|t|\n",
      "OBRIGAÇÃO_FINAL_POR_SALA  0.0133    0.010  1.273  0.215\n",
      "DIAS_FUNCIONAMENTO        0.0015    0.002  0.725  0.475\n",
      "\n",
      "\n",
      "Reg_seg 126, ALL: lower bound 1.15, higher bound 50\n",
      "                            coef  std err      t  P>|t|\n",
      "OBRIGAÇÃO_FINAL_POR_SALA  0.0099    0.006  1.561  0.132\n",
      "DIAS_FUNCIONAMENTO        0.0053    0.001  5.756  0.000\n",
      "\n",
      "\n",
      "Reg_seg 127, FOREIGN: lower bound 1.15, higher bound 50\n",
      "                            coef  std err      t  P>|t|\n",
      "OBRIGAÇÃO_FINAL_POR_SALA  0.0273    0.019  1.471  0.155\n",
      "DIAS_FUNCIONAMENTO        0.0066    0.003  2.494  0.021\n",
      "\n",
      "\n",
      "Reg_seg 128, BRAZILIAN: lower bound 1.15, higher bound 50\n",
      "                            coef  std err      t  P>|t|\n",
      "OBRIGAÇÃO_FINAL_POR_SALA  0.0179    0.010  1.728  0.097\n",
      "DIAS_FUNCIONAMENTO        0.0063    0.002  3.125  0.005\n",
      "\n",
      "\n"
     ]
    }
   ],
   "source": [
    "works = ['ALL', 'FOREIGN', 'BRAZILIAN']\n",
    "\n",
    "for i in range(last_count,count_regs):\n",
    "    print(f'Reg_seg {i}, {works[i%3]}: lower bound {bounds[(i-last_count)//3]}, higher bound {bounds[((i-last_count)//3)+1]}')\n",
    "    print(pd.read_html(seg_gregs[f'reg_seg{i}'].summary().\n",
    "                       tables[1].as_html(),header=0,index_col=0)[0].iloc[-2:,:-2])\n",
    "    print('\\n')"
   ]
  },
  {
   "cell_type": "markdown",
   "metadata": {},
   "source": [
    "#### Bounds - [0.99, 1.01]"
   ]
  },
  {
   "cell_type": "code",
   "execution_count": 74,
   "metadata": {
    "ExecuteTime": {
     "end_time": "2021-06-14T23:11:07.204904Z",
     "start_time": "2021-06-14T23:11:07.102130Z"
    }
   },
   "outputs": [
    {
     "name": "stdout",
     "output_type": "stream",
     "text": [
      "132\n"
     ]
    }
   ],
   "source": [
    "bounds = [0.99, 1.01]\n",
    "\n",
    "last_count = count_regs\n",
    "\n",
    "formul = 'np.log(RENDA) ~ OBRIGAÇÃO_FINAL_POR_SALA + DIAS_FUNCIONAMENTO + C(REGISTRO_COMPLEXO) + C(ANO_CINEMATOGRAFICO)'\n",
    "\n",
    "for i in range(len(bounds)-1):\n",
    "    seg_gregs[f'reg_seg{count_regs}'] = smf.ols(formula=formul, \n",
    "                    data = tds_1718[tds_1718.CUMPRIMENTO_PROPORCIONAL.between(bounds[i],bounds[i+1])]).fit()\n",
    "    count_regs += 1\n",
    "    seg_gregs[f'reg_seg{count_regs}'] = smf.ols(formula=formul, \n",
    "                    data = est_1718[est_1718.CUMPRIMENTO_PROPORCIONAL.between(bounds[i],bounds[i+1])]).fit()\n",
    "    count_regs += 1\n",
    "    seg_gregs[f'reg_seg{count_regs}'] = smf.ols(formula=formul, \n",
    "                    data = bras_1718[bras_1718.CUMPRIMENTO_PROPORCIONAL.between(bounds[i],bounds[i+1])]).fit()\n",
    "    count_regs += 1\n",
    "\n",
    "print(count_regs)"
   ]
  },
  {
   "cell_type": "code",
   "execution_count": 75,
   "metadata": {
    "ExecuteTime": {
     "end_time": "2021-06-14T23:11:07.479133Z",
     "start_time": "2021-06-14T23:11:07.206409Z"
    },
    "scrolled": true
   },
   "outputs": [
    {
     "name": "stdout",
     "output_type": "stream",
     "text": [
      "Reg_seg 129, ALL: lower bound 0.99, higher bound 1.01\n",
      "                            coef  std err      t  P>|t|\n",
      "OBRIGAÇÃO_FINAL_POR_SALA  0.0011    0.002  0.734  0.466\n",
      "DIAS_FUNCIONAMENTO        0.0012    0.002  0.691  0.492\n",
      "\n",
      "\n",
      "Reg_seg 130, FOREIGN: lower bound 0.99, higher bound 1.01\n",
      "                            coef  std err      t  P>|t|\n",
      "OBRIGAÇÃO_FINAL_POR_SALA -0.0013    0.002 -0.774  0.441\n",
      "DIAS_FUNCIONAMENTO        0.0027    0.002  1.360  0.178\n",
      "\n",
      "\n",
      "Reg_seg 131, BRAZILIAN: lower bound 0.99, higher bound 1.01\n",
      "                            coef  std err      t  P>|t|\n",
      "OBRIGAÇÃO_FINAL_POR_SALA  0.0286    0.006  4.469    0.0\n",
      "DIAS_FUNCIONAMENTO       -0.0062    0.002 -3.786    0.0\n",
      "\n",
      "\n"
     ]
    }
   ],
   "source": [
    "works = ['ALL', 'FOREIGN', 'BRAZILIAN']\n",
    "\n",
    "for i in range(last_count,count_regs):\n",
    "    print(f'Reg_seg {i}, {works[i%3]}: lower bound {bounds[(i-last_count)//3]}, higher bound {bounds[((i-last_count)//3)+1]}')\n",
    "    print(pd.read_html(seg_gregs[f'reg_seg{i}'].summary().\n",
    "                       tables[1].as_html(),header=0,index_col=0)[0].iloc[-2:,:-2])\n",
    "    print('\\n')"
   ]
  },
  {
   "cell_type": "markdown",
   "metadata": {},
   "source": [
    "## Alternative regressions"
   ]
  },
  {
   "cell_type": "markdown",
   "metadata": {},
   "source": [
    "### Dependent variable: number of sessions"
   ]
  },
  {
   "cell_type": "code",
   "execution_count": 32,
   "metadata": {
    "ExecuteTime": {
     "end_time": "2021-06-16T23:43:00.239922Z",
     "start_time": "2021-06-16T23:43:00.229285Z"
    }
   },
   "outputs": [],
   "source": [
    "group_days = {}\n",
    "\n",
    "d_count = 0\n",
    "\n",
    "weight_funcs = [\n",
    "    'CUMP_QUADRATIC','CUMP_NORMALIZADO', 'CUMP_LINEAR','CUMP_TRIWEIGHT']"
   ]
  },
  {
   "cell_type": "markdown",
   "metadata": {},
   "source": [
    "#### 2017-2019"
   ]
  },
  {
   "cell_type": "code",
   "execution_count": 33,
   "metadata": {
    "ExecuteTime": {
     "end_time": "2021-06-16T23:43:27.764782Z",
     "start_time": "2021-06-16T23:43:02.300142Z"
    }
   },
   "outputs": [],
   "source": [
    "last_d_count = d_count # to get num range of regressions to be executed\n",
    "\n",
    "for f in weight_funcs:\n",
    "    # adjust formula as we run through the weighting funcs\n",
    "    formul = f'DIAS_FUNCIONAMENTO ~ OBRIGAÇÃO_TOTAL_POR_SALA*{f} + C(REGISTRO_COMPLEXO) + C(ANO_CINEMATOGRAFICO)'\n",
    "    group_days[f'reg_gcd{d_count}'] = smf.ols(formula = formul, data=tds_1719).fit()\n",
    "    d_count += 1\n",
    "    group_days[f'reg_gcd{d_count}'] = smf.ols(formula = formul, data=est_1719).fit()\n",
    "    d_count += 1\n",
    "    group_days[f'reg_gcd{d_count}'] = smf.ols(formula = formul, data=bras_1719).fit()\n",
    "    d_count += 1"
   ]
  },
  {
   "cell_type": "code",
   "execution_count": 34,
   "metadata": {
    "ExecuteTime": {
     "end_time": "2021-06-16T23:43:38.369891Z",
     "start_time": "2021-06-16T23:43:28.411283Z"
    }
   },
   "outputs": [
    {
     "name": "stdout",
     "output_type": "stream",
     "text": [
      "Reg_group_days 0, ALL, weighting function CUMP_QUADRATIC:\n",
      "                                            coef  std err      t  P>|t|\n",
      "OBRIGAÇÃO_TOTAL_POR_SALA                 -0.3288    0.772 -0.426  0.670\n",
      "CUMP_QUADRATIC                           37.0108   29.696  1.246  0.213\n",
      "OBRIGAÇÃO_TOTAL_POR_SALA:CUMP_QUADRATIC   0.5683    0.823  0.690  0.490\n",
      "\n",
      "\n",
      "Reg_group_days 1, FOREIGN, weighting function CUMP_QUADRATIC:\n",
      "                                            coef  std err      t  P>|t|\n",
      "OBRIGAÇÃO_TOTAL_POR_SALA                 -0.4326    0.773 -0.560  0.576\n",
      "CUMP_QUADRATIC                           34.4065   29.829  1.153  0.249\n",
      "OBRIGAÇÃO_TOTAL_POR_SALA:CUMP_QUADRATIC   0.6174    0.823  0.750  0.453\n",
      "\n",
      "\n",
      "Reg_group_days 2, BRAZILIAN, weighting function CUMP_QUADRATIC:\n",
      "                                             coef  std err      t  P>|t|\n",
      "OBRIGAÇÃO_TOTAL_POR_SALA                  -3.1930    0.527 -6.058    0.0\n",
      "CUMP_QUADRATIC                          -119.4115   20.822 -5.735    0.0\n",
      "OBRIGAÇÃO_TOTAL_POR_SALA:CUMP_QUADRATIC    4.0929    0.564  7.256    0.0\n",
      "\n",
      "\n",
      "Reg_group_days 3, ALL, weighting function CUMP_NORMALIZADO:\n",
      "                                              coef  std err      t  P>|t|\n",
      "OBRIGAÇÃO_TOTAL_POR_SALA                    0.5305    0.513  1.033  0.302\n",
      "CUMP_NORMALIZADO                           60.7747   25.235  2.408  0.016\n",
      "OBRIGAÇÃO_TOTAL_POR_SALA:CUMP_NORMALIZADO  -0.4160    0.614 -0.678  0.498\n",
      "\n",
      "\n",
      "Reg_group_days 4, FOREIGN, weighting function CUMP_NORMALIZADO:\n",
      "                                              coef  std err      t  P>|t|\n",
      "OBRIGAÇÃO_TOTAL_POR_SALA                    0.4176    0.514  0.813  0.417\n",
      "CUMP_NORMALIZADO                           56.6683   25.295  2.240  0.025\n",
      "OBRIGAÇÃO_TOTAL_POR_SALA:CUMP_NORMALIZADO  -0.3443    0.613 -0.561  0.575\n",
      "\n",
      "\n",
      "Reg_group_days 5, BRAZILIAN, weighting function CUMP_NORMALIZADO:\n",
      "                                              coef  std err      t  P>|t|\n",
      "OBRIGAÇÃO_TOTAL_POR_SALA                   -1.6936    0.346 -4.897    0.0\n",
      "CUMP_NORMALIZADO                          -72.2597   17.345 -4.166    0.0\n",
      "OBRIGAÇÃO_TOTAL_POR_SALA:CUMP_NORMALIZADO   2.6680    0.415  6.429    0.0\n",
      "\n",
      "\n",
      "Reg_group_days 6, ALL, weighting function CUMP_LINEAR:\n",
      "                                         coef  std err      t  P>|t|\n",
      "OBRIGAÇÃO_TOTAL_POR_SALA              -2.4295    1.612 -1.507  0.132\n",
      "CUMP_LINEAR                          -39.8730  138.969 -0.287  0.774\n",
      "OBRIGAÇÃO_TOTAL_POR_SALA:CUMP_LINEAR   7.2275    4.160  1.737  0.083\n",
      "\n",
      "\n",
      "Reg_group_days 7, FOREIGN, weighting function CUMP_LINEAR:\n",
      "                                         coef  std err      t  P>|t|\n",
      "OBRIGAÇÃO_TOTAL_POR_SALA              -2.3133    1.622 -1.426  0.154\n",
      "CUMP_LINEAR                          -15.1304  141.955 -0.107  0.915\n",
      "OBRIGAÇÃO_TOTAL_POR_SALA:CUMP_LINEAR   6.7213    4.187  1.605  0.109\n",
      "\n",
      "\n",
      "Reg_group_days 8, BRAZILIAN, weighting function CUMP_LINEAR:\n",
      "                                          coef  std err      t  P>|t|\n",
      "OBRIGAÇÃO_TOTAL_POR_SALA               -7.9796    1.075 -7.421    0.0\n",
      "CUMP_LINEAR                          -669.0919   93.104 -7.186    0.0\n",
      "OBRIGAÇÃO_TOTAL_POR_SALA:CUMP_LINEAR   22.3692    2.774  8.064    0.0\n",
      "\n",
      "\n",
      "Reg_group_days 9, ALL, weighting function CUMP_TRIWEIGHT:\n",
      "                                            coef  std err      t  P>|t|\n",
      "OBRIGAÇÃO_TOTAL_POR_SALA                  0.4876    0.454  1.073  0.283\n",
      "CUMP_TRIWEIGHT                           38.0792   21.657  1.758  0.079\n",
      "OBRIGAÇÃO_TOTAL_POR_SALA:CUMP_TRIWEIGHT  -0.1925    0.526 -0.366  0.714\n",
      "\n",
      "\n",
      "Reg_group_days 10, FOREIGN, weighting function CUMP_TRIWEIGHT:\n",
      "                                            coef  std err      t  P>|t|\n",
      "OBRIGAÇÃO_TOTAL_POR_SALA                  0.3616    0.454  0.797  0.426\n",
      "CUMP_TRIWEIGHT                           33.7655   21.631  1.561  0.119\n",
      "OBRIGAÇÃO_TOTAL_POR_SALA:CUMP_TRIWEIGHT  -0.1118    0.524 -0.213  0.831\n",
      "\n",
      "\n",
      "Reg_group_days 11, BRAZILIAN, weighting function CUMP_TRIWEIGHT:\n",
      "                                            coef  std err      t  P>|t|\n",
      "OBRIGAÇÃO_TOTAL_POR_SALA                 -1.3320    0.303 -4.397    0.0\n",
      "CUMP_TRIWEIGHT                          -57.3728   14.614 -3.926    0.0\n",
      "OBRIGAÇÃO_TOTAL_POR_SALA:CUMP_TRIWEIGHT   2.1857    0.351  6.224    0.0\n",
      "\n",
      "\n"
     ]
    }
   ],
   "source": [
    "works = ['ALL', 'FOREIGN', 'BRAZILIAN']\n",
    "\n",
    "for i in range(last_d_count, d_count):\n",
    "    print(f'Reg_group_days {i}, {works[i%3]}, weighting function {weight_funcs[(i-last_d_count)//3]}:')\n",
    "    print(pd.read_html(group_days[f'reg_gcd{i}'].summary().\n",
    "                       tables[1].as_html(),header=0,index_col=0)[0].iloc[-3:,:-2])\n",
    "    print('\\n')"
   ]
  },
  {
   "cell_type": "markdown",
   "metadata": {},
   "source": [
    "#### 2017-2018"
   ]
  },
  {
   "cell_type": "code",
   "execution_count": 35,
   "metadata": {
    "ExecuteTime": {
     "end_time": "2021-06-16T23:43:51.939936Z",
     "start_time": "2021-06-16T23:43:38.943646Z"
    }
   },
   "outputs": [],
   "source": [
    "last_d_count = d_count # to get num range of regressions to be executed\n",
    "\n",
    "for f in weight_funcs:\n",
    "    # adjust formula as we run through the weighting funcs\n",
    "    formul = f'DIAS_FUNCIONAMENTO ~ OBRIGAÇÃO_TOTAL_POR_SALA*{f} + C(REGISTRO_COMPLEXO) + C(ANO_CINEMATOGRAFICO)'\n",
    "    group_days[f'reg_gcd{d_count}'] = smf.ols(formula = formul, data=tds_1718).fit()\n",
    "    d_count += 1\n",
    "    group_days[f'reg_gcd{d_count}'] = smf.ols(formula = formul, data=est_1718).fit()\n",
    "    d_count += 1\n",
    "    group_days[f'reg_gcd{d_count}'] = smf.ols(formula = formul, data=bras_1718).fit()\n",
    "    d_count += 1"
   ]
  },
  {
   "cell_type": "code",
   "execution_count": 36,
   "metadata": {
    "ExecuteTime": {
     "end_time": "2021-06-16T23:44:00.710046Z",
     "start_time": "2021-06-16T23:43:52.593447Z"
    }
   },
   "outputs": [
    {
     "name": "stdout",
     "output_type": "stream",
     "text": [
      "Reg_group_days 12, ALL, weighting function CUMP_QUADRATIC:\n",
      "                                            coef  std err      t  P>|t|\n",
      "OBRIGAÇÃO_TOTAL_POR_SALA                  0.1607    2.455  0.065  0.948\n",
      "CUMP_QUADRATIC                           48.1702   41.535  1.160  0.247\n",
      "OBRIGAÇÃO_TOTAL_POR_SALA:CUMP_QUADRATIC   0.3867    1.157  0.334  0.738\n",
      "\n",
      "\n",
      "Reg_group_days 13, FOREIGN, weighting function CUMP_QUADRATIC:\n",
      "                                            coef  std err      t  P>|t|\n",
      "OBRIGAÇÃO_TOTAL_POR_SALA                  0.1350    2.423  0.056  0.956\n",
      "CUMP_QUADRATIC                           49.8296   40.988  1.216  0.224\n",
      "OBRIGAÇÃO_TOTAL_POR_SALA:CUMP_QUADRATIC   0.3346    1.142  0.293  0.770\n",
      "\n",
      "\n",
      "Reg_group_days 14, BRAZILIAN, weighting function CUMP_QUADRATIC:\n",
      "                                             coef  std err      t  P>|t|\n",
      "OBRIGAÇÃO_TOTAL_POR_SALA                   2.5337    1.457  1.739  0.082\n",
      "CUMP_QUADRATIC                          -133.0333   26.417 -5.036  0.000\n",
      "OBRIGAÇÃO_TOTAL_POR_SALA:CUMP_QUADRATIC    4.4545    0.717  6.217  0.000\n",
      "\n",
      "\n",
      "Reg_group_days 15, ALL, weighting function CUMP_NORMALIZADO:\n",
      "                                              coef  std err      t  P>|t|\n",
      "OBRIGAÇÃO_TOTAL_POR_SALA                    0.9459    2.408  0.393  0.695\n",
      "CUMP_NORMALIZADO                           73.0414   36.096  2.024  0.043\n",
      "OBRIGAÇÃO_TOTAL_POR_SALA:CUMP_NORMALIZADO  -0.6871    0.913 -0.752  0.452\n",
      "\n",
      "\n",
      "Reg_group_days 16, FOREIGN, weighting function CUMP_NORMALIZADO:\n",
      "                                              coef  std err      t  P>|t|\n",
      "OBRIGAÇÃO_TOTAL_POR_SALA                    0.9096    2.378  0.382  0.702\n",
      "CUMP_NORMALIZADO                           72.5793   35.650  2.036  0.042\n",
      "OBRIGAÇÃO_TOTAL_POR_SALA:CUMP_NORMALIZADO  -0.7020    0.902 -0.778  0.437\n",
      "\n",
      "\n",
      "Reg_group_days 17, BRAZILIAN, weighting function CUMP_NORMALIZADO:\n",
      "                                              coef  std err      t  P>|t|\n",
      "OBRIGAÇÃO_TOTAL_POR_SALA                    3.9436    1.415  2.786  0.005\n",
      "CUMP_NORMALIZADO                          -75.2575   22.200 -3.390  0.001\n",
      "OBRIGAÇÃO_TOTAL_POR_SALA:CUMP_NORMALIZADO   2.7479    0.553  4.970  0.000\n",
      "\n",
      "\n",
      "Reg_group_days 18, ALL, weighting function CUMP_LINEAR:\n",
      "                                          coef  std err      t  P>|t|\n",
      "OBRIGAÇÃO_TOTAL_POR_SALA               -0.8075    3.065 -0.263  0.792\n",
      "CUMP_LINEAR                           100.2095  199.656  0.502  0.616\n",
      "OBRIGAÇÃO_TOTAL_POR_SALA:CUMP_LINEAR    4.6467    5.867  0.792  0.429\n",
      "\n",
      "\n",
      "Reg_group_days 19, FOREIGN, weighting function CUMP_LINEAR:\n",
      "                                          coef  std err      t  P>|t|\n",
      "OBRIGAÇÃO_TOTAL_POR_SALA               -0.4876    3.018 -0.162  0.872\n",
      "CUMP_LINEAR                           157.3402  196.551  0.801  0.424\n",
      "OBRIGAÇÃO_TOTAL_POR_SALA:CUMP_LINEAR    3.3785    5.775  0.585  0.559\n",
      "\n",
      "\n",
      "Reg_group_days 20, BRAZILIAN, weighting function CUMP_LINEAR:\n",
      "                                          coef  std err      t  P>|t|\n",
      "OBRIGAÇÃO_TOTAL_POR_SALA               -2.6896    1.818 -1.480  0.139\n",
      "CUMP_LINEAR                          -748.4436  120.644 -6.204  0.000\n",
      "OBRIGAÇÃO_TOTAL_POR_SALA:CUMP_LINEAR   24.2795    3.510  6.917  0.000\n",
      "\n",
      "\n",
      "Reg_group_days 21, ALL, weighting function CUMP_TRIWEIGHT:\n",
      "                                            coef  std err      t  P>|t|\n",
      "OBRIGAÇÃO_TOTAL_POR_SALA                  1.0536    2.404  0.438  0.661\n",
      "CUMP_TRIWEIGHT                           42.6915   30.564  1.397  0.163\n",
      "OBRIGAÇÃO_TOTAL_POR_SALA:CUMP_TRIWEIGHT  -0.3109    0.775 -0.401  0.688\n",
      "\n",
      "\n",
      "Reg_group_days 22, FOREIGN, weighting function CUMP_TRIWEIGHT:\n",
      "                                            coef  std err      t  P>|t|\n",
      "OBRIGAÇÃO_TOTAL_POR_SALA                  1.0022    2.374  0.422  0.673\n",
      "CUMP_TRIWEIGHT                           40.9095   30.190  1.355  0.176\n",
      "OBRIGAÇÃO_TOTAL_POR_SALA:CUMP_TRIWEIGHT  -0.2882    0.765 -0.377  0.707\n",
      "\n",
      "\n",
      "Reg_group_days 23, BRAZILIAN, weighting function CUMP_TRIWEIGHT:\n",
      "                                            coef  std err      t  P>|t|\n",
      "OBRIGAÇÃO_TOTAL_POR_SALA                  4.4319    1.397  3.171  0.002\n",
      "CUMP_TRIWEIGHT                          -62.6033   18.340 -3.414  0.001\n",
      "OBRIGAÇÃO_TOTAL_POR_SALA:CUMP_TRIWEIGHT   2.3374    0.460  5.080  0.000\n",
      "\n",
      "\n"
     ]
    }
   ],
   "source": [
    "works = ['ALL', 'FOREIGN', 'BRAZILIAN']\n",
    "\n",
    "for i in range(last_d_count, d_count):\n",
    "    print(f'Reg_group_days {i}, {works[i%3]}, weighting function {weight_funcs[(i-last_d_count)//3]}:')\n",
    "    print(pd.read_html(group_days[f'reg_gcd{i}'].summary().\n",
    "                       tables[1].as_html(),header=0,index_col=0)[0].iloc[-3:,:-2])\n",
    "    print('\\n')"
   ]
  }
 ],
 "metadata": {
  "kernelspec": {
   "display_name": "Python 3",
   "language": "python",
   "name": "python3"
  },
  "language_info": {
   "codemirror_mode": {
    "name": "ipython",
    "version": 3
   },
   "file_extension": ".py",
   "mimetype": "text/x-python",
   "name": "python",
   "nbconvert_exporter": "python",
   "pygments_lexer": "ipython3",
   "version": "3.8.5"
  },
  "toc": {
   "base_numbering": 1,
   "nav_menu": {},
   "number_sections": true,
   "sideBar": true,
   "skip_h1_title": false,
   "title_cell": "Table of Contents",
   "title_sidebar": "Contents",
   "toc_cell": false,
   "toc_position": {
    "height": "604px",
    "left": "31px",
    "top": "80px",
    "width": "284.188px"
   },
   "toc_section_display": true,
   "toc_window_display": true
  },
  "varInspector": {
   "cols": {
    "lenName": 16,
    "lenType": 16,
    "lenVar": 40
   },
   "kernels_config": {
    "python": {
     "delete_cmd_postfix": "",
     "delete_cmd_prefix": "del ",
     "library": "var_list.py",
     "varRefreshCmd": "print(var_dic_list())"
    },
    "r": {
     "delete_cmd_postfix": ") ",
     "delete_cmd_prefix": "rm(",
     "library": "var_list.r",
     "varRefreshCmd": "cat(var_dic_list()) "
    }
   },
   "types_to_exclude": [
    "module",
    "function",
    "builtin_function_or_method",
    "instance",
    "_Feature"
   ],
   "window_display": false
  }
 },
 "nbformat": 4,
 "nbformat_minor": 4
}
