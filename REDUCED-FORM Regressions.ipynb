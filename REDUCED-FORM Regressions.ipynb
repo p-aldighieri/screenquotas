{
 "cells": [
  {
   "cell_type": "code",
   "execution_count": 1,
   "metadata": {
    "ExecuteTime": {
     "end_time": "2021-07-20T00:03:40.980726Z",
     "start_time": "2021-07-20T00:03:38.846128Z"
    }
   },
   "outputs": [],
   "source": [
    "import pandas as pd\n",
    "import numpy as np\n",
    "import statsmodels.api as sm\n",
    "import statsmodels.formula.api as smf"
   ]
  },
  {
   "cell_type": "markdown",
   "metadata": {},
   "source": [
    "# Multiplex/year regressions"
   ]
  },
  {
   "cell_type": "markdown",
   "metadata": {},
   "source": [
    "## Import and adjust"
   ]
  },
  {
   "cell_type": "code",
   "execution_count": 73,
   "metadata": {
    "ExecuteTime": {
     "end_time": "2021-07-20T01:02:31.495257Z",
     "start_time": "2021-07-20T01:02:31.430103Z"
    }
   },
   "outputs": [],
   "source": [
    "# import\n",
    "tds_1719 = pd.read_csv('SCB_Complexo x Ano - 2017 a 2019 - mesclado fiscalização.csv')\n",
    "est_1719 = pd.read_csv('SCB_Complexo x Ano (receita estrangeiros) - 2017 a 2019 - mesclado fiscalização.csv')\n",
    "bras_1719 = pd.read_csv('SCB_Complexo x Ano (receita brasileiros) - 2017 a 2019 - mesclado fiscalização.csv')"
   ]
  },
  {
   "cell_type": "code",
   "execution_count": 74,
   "metadata": {
    "ExecuteTime": {
     "end_time": "2021-07-20T01:02:32.147428Z",
     "start_time": "2021-07-20T01:02:32.142415Z"
    }
   },
   "outputs": [],
   "source": [
    "tds_1719.columns = est_1719.columns = bras_1719.columns = ['ANO_CINEMATOGRAFICO', 'QTDE_DIF_TIT_EXIB', 'QTDE_DIF_TIT_EXIB_BR',\n",
    "       'QTDE_DIF_TIT_EXIB_EST', 'PUBLICO', 'RENDA', 'QTDE_SESSOES',\n",
    "       'DIAS_FUNCIONAMENTO', 'TOT_SALAS_FUNC', 'QTD_SALAS_NUNIQUE',\n",
    "       'SALAS_COMPLEXO_INFERIDO', 'ASSENTOS_COMPLEXO_INFERIDO', 'UF_COMPLEXO',\n",
    "       'OBRIGAÇÃO_TOTAL_POR_SALA', 'OBRIGAÇÃO_TOTAL_INCREMENTO_POR_SALA',\n",
    "       'OBRIGAÇÃO_PROP_POR_SALA', 'OBRIGAÇÃO_PROP_INCREMENTO_POR_SALA',\n",
    "       'OBRIGAÇÃO_FINAL_POR_SALA', 'TRANSF_ORIGEM', 'TRANSF_RECEBIDOS',\n",
    "       'TRANSF_FLAG', 'CUMPRIU_COTA', 'TOTAL_SALAS', 'DIAS_FUNC_INFERIDOS',\n",
    "       'CUMP_QUADRATIC', 'CUMPRIMENTO_PROPORCIONAL',\n",
    "       'CUMP_LINEAR', 'CUMP_TRIWEIGHT',\n",
    "       'CUMP_NORMALIZADO', 'REGISTRO_COMPLEXO', 'REG_EMPRESA',\n",
    "       'REGISTRO_GRUPO', 'CEP_COMPLEXO', 'MUN_COMPLEXO']"
   ]
  },
  {
   "cell_type": "code",
   "execution_count": 75,
   "metadata": {
    "ExecuteTime": {
     "end_time": "2021-07-20T01:02:32.392954Z",
     "start_time": "2021-07-20T01:02:32.384935Z"
    }
   },
   "outputs": [],
   "source": [
    "# defining data w/o 2019 to account for possible problems with 2019 having no screen quota\n",
    "tds_1718 = tds_1719[tds_1719.ANO_CINEMATOGRAFICO != 2019]\n",
    "est_1718 = est_1719[est_1719.ANO_CINEMATOGRAFICO != 2019]\n",
    "bras_1718 = bras_1719[bras_1719.ANO_CINEMATOGRAFICO != 2019]"
   ]
  },
  {
   "cell_type": "markdown",
   "metadata": {},
   "source": [
    "## Naïve regressions"
   ]
  },
  {
   "cell_type": "markdown",
   "metadata": {},
   "source": [
    "Define multiplex $i$ in year $t$ and title \"nationality\" (meaning all, foreign or Brazilian movie sessions) and nominal screen quota obligation $SQ$:\n",
    "\n",
    "$$ \\ln(Y_{nit}) = \\beta_0 + \\beta_1 SQ_{it} + \\theta X_{it} + \\varepsilon_{it} $$\n",
    "\n",
    "$Y$ is the interest variable that can be either Yearly Income or total public (# of moviegoers). $X_{it}$ is a vector of controls with opening days, movie theater fixed-effects and year fixed-effects. Alternatively, we also drop entity fixed-effects and use number of viewing rooms and seats per movie-theater as controls."
   ]
  },
  {
   "cell_type": "markdown",
   "metadata": {},
   "source": [
    "### Dependent variable: income"
   ]
  },
  {
   "cell_type": "markdown",
   "metadata": {},
   "source": [
    "#### With entity fixed-effects"
   ]
  },
  {
   "cell_type": "markdown",
   "metadata": {},
   "source": [
    "##### 2017-2019"
   ]
  },
  {
   "cell_type": "code",
   "execution_count": 5,
   "metadata": {
    "ExecuteTime": {
     "end_time": "2021-07-16T02:48:19.444960Z",
     "start_time": "2021-07-16T02:48:17.511430Z"
    }
   },
   "outputs": [],
   "source": [
    "formul = 'np.log(RENDA) ~ OBRIGAÇÃO_FINAL_POR_SALA + DIAS_FUNCIONAMENTO + C(REGISTRO_COMPLEXO) + C(ANO_CINEMATOGRAFICO)'\n",
    "data = [tds_1719, est_1719, bras_1719]\n",
    "\n",
    "# all\n",
    "reg_n1 = smf.ols(formula = formul, data=data[0]).fit()\n",
    "\n",
    "# foreign\n",
    "reg_n2 = smf.ols(formula = formul, data=data[1]).fit()\n",
    "\n",
    "# Brazilian\n",
    "reg_n3 = smf.ols(formula = formul, data=data[2]).fit()"
   ]
  },
  {
   "cell_type": "code",
   "execution_count": 6,
   "metadata": {
    "ExecuteTime": {
     "end_time": "2021-07-16T02:48:20.742607Z",
     "start_time": "2021-07-16T02:48:20.088388Z"
    }
   },
   "outputs": [
    {
     "data": {
      "text/html": [
       "<div>\n",
       "<style scoped>\n",
       "    .dataframe tbody tr th:only-of-type {\n",
       "        vertical-align: middle;\n",
       "    }\n",
       "\n",
       "    .dataframe tbody tr th {\n",
       "        vertical-align: top;\n",
       "    }\n",
       "\n",
       "    .dataframe thead th {\n",
       "        text-align: right;\n",
       "    }\n",
       "</style>\n",
       "<table border=\"1\" class=\"dataframe\">\n",
       "  <thead>\n",
       "    <tr style=\"text-align: right;\">\n",
       "      <th></th>\n",
       "      <th>coef</th>\n",
       "      <th>std err</th>\n",
       "      <th>t</th>\n",
       "      <th>P&gt;|t|</th>\n",
       "    </tr>\n",
       "  </thead>\n",
       "  <tbody>\n",
       "    <tr>\n",
       "      <th>OBRIGAÇÃO_FINAL_POR_SALA</th>\n",
       "      <td>-0.00005</td>\n",
       "      <td>0.001</td>\n",
       "      <td>-0.071</td>\n",
       "      <td>0.944</td>\n",
       "    </tr>\n",
       "    <tr>\n",
       "      <th>DIAS_FUNCIONAMENTO</th>\n",
       "      <td>0.00660</td>\n",
       "      <td>0.000</td>\n",
       "      <td>45.777</td>\n",
       "      <td>0.000</td>\n",
       "    </tr>\n",
       "  </tbody>\n",
       "</table>\n",
       "</div>"
      ],
      "text/plain": [
       "                             coef  std err       t  P>|t|\n",
       "OBRIGAÇÃO_FINAL_POR_SALA -0.00005    0.001  -0.071  0.944\n",
       "DIAS_FUNCIONAMENTO        0.00660    0.000  45.777  0.000"
      ]
     },
     "execution_count": 6,
     "metadata": {},
     "output_type": "execute_result"
    }
   ],
   "source": [
    "pd.read_html(reg_n1.summary().tables[1].as_html(),header=0,index_col=0)[0].iloc[-2:,:-2]"
   ]
  },
  {
   "cell_type": "code",
   "execution_count": 7,
   "metadata": {
    "ExecuteTime": {
     "end_time": "2021-07-16T02:48:22.025877Z",
     "start_time": "2021-07-16T02:48:21.632354Z"
    }
   },
   "outputs": [
    {
     "data": {
      "text/html": [
       "<div>\n",
       "<style scoped>\n",
       "    .dataframe tbody tr th:only-of-type {\n",
       "        vertical-align: middle;\n",
       "    }\n",
       "\n",
       "    .dataframe tbody tr th {\n",
       "        vertical-align: top;\n",
       "    }\n",
       "\n",
       "    .dataframe thead th {\n",
       "        text-align: right;\n",
       "    }\n",
       "</style>\n",
       "<table border=\"1\" class=\"dataframe\">\n",
       "  <thead>\n",
       "    <tr style=\"text-align: right;\">\n",
       "      <th></th>\n",
       "      <th>coef</th>\n",
       "      <th>std err</th>\n",
       "      <th>t</th>\n",
       "      <th>P&gt;|t|</th>\n",
       "    </tr>\n",
       "  </thead>\n",
       "  <tbody>\n",
       "    <tr>\n",
       "      <th>OBRIGAÇÃO_FINAL_POR_SALA</th>\n",
       "      <td>-0.000012</td>\n",
       "      <td>0.001</td>\n",
       "      <td>-0.017</td>\n",
       "      <td>0.987</td>\n",
       "    </tr>\n",
       "    <tr>\n",
       "      <th>DIAS_FUNCIONAMENTO</th>\n",
       "      <td>0.006600</td>\n",
       "      <td>0.000</td>\n",
       "      <td>43.628</td>\n",
       "      <td>0.000</td>\n",
       "    </tr>\n",
       "  </tbody>\n",
       "</table>\n",
       "</div>"
      ],
      "text/plain": [
       "                              coef  std err       t  P>|t|\n",
       "OBRIGAÇÃO_FINAL_POR_SALA -0.000012    0.001  -0.017  0.987\n",
       "DIAS_FUNCIONAMENTO        0.006600    0.000  43.628  0.000"
      ]
     },
     "execution_count": 7,
     "metadata": {},
     "output_type": "execute_result"
    }
   ],
   "source": [
    "pd.read_html(reg_n2.summary().tables[1].as_html(),header=0,index_col=0)[0].iloc[-2:,:-2]"
   ]
  },
  {
   "cell_type": "code",
   "execution_count": 8,
   "metadata": {
    "ExecuteTime": {
     "end_time": "2021-07-16T02:48:22.443988Z",
     "start_time": "2021-07-16T02:48:22.038944Z"
    }
   },
   "outputs": [
    {
     "data": {
      "text/html": [
       "<div>\n",
       "<style scoped>\n",
       "    .dataframe tbody tr th:only-of-type {\n",
       "        vertical-align: middle;\n",
       "    }\n",
       "\n",
       "    .dataframe tbody tr th {\n",
       "        vertical-align: top;\n",
       "    }\n",
       "\n",
       "    .dataframe thead th {\n",
       "        text-align: right;\n",
       "    }\n",
       "</style>\n",
       "<table border=\"1\" class=\"dataframe\">\n",
       "  <thead>\n",
       "    <tr style=\"text-align: right;\">\n",
       "      <th></th>\n",
       "      <th>coef</th>\n",
       "      <th>std err</th>\n",
       "      <th>t</th>\n",
       "      <th>P&gt;|t|</th>\n",
       "    </tr>\n",
       "  </thead>\n",
       "  <tbody>\n",
       "    <tr>\n",
       "      <th>OBRIGAÇÃO_FINAL_POR_SALA</th>\n",
       "      <td>0.0010</td>\n",
       "      <td>0.001</td>\n",
       "      <td>0.689</td>\n",
       "      <td>0.491</td>\n",
       "    </tr>\n",
       "    <tr>\n",
       "      <th>DIAS_FUNCIONAMENTO</th>\n",
       "      <td>0.0057</td>\n",
       "      <td>0.000</td>\n",
       "      <td>18.021</td>\n",
       "      <td>0.000</td>\n",
       "    </tr>\n",
       "  </tbody>\n",
       "</table>\n",
       "</div>"
      ],
      "text/plain": [
       "                            coef  std err       t  P>|t|\n",
       "OBRIGAÇÃO_FINAL_POR_SALA  0.0010    0.001   0.689  0.491\n",
       "DIAS_FUNCIONAMENTO        0.0057    0.000  18.021  0.000"
      ]
     },
     "execution_count": 8,
     "metadata": {},
     "output_type": "execute_result"
    }
   ],
   "source": [
    "pd.read_html(reg_n3.summary().tables[1].as_html(),header=0,index_col=0)[0].iloc[-2:,:-2]"
   ]
  },
  {
   "cell_type": "markdown",
   "metadata": {},
   "source": [
    "##### 2017-2018"
   ]
  },
  {
   "cell_type": "code",
   "execution_count": 9,
   "metadata": {
    "ExecuteTime": {
     "end_time": "2021-07-16T02:48:26.469640Z",
     "start_time": "2021-07-16T02:48:25.118307Z"
    }
   },
   "outputs": [],
   "source": [
    "formul = 'np.log(RENDA) ~ OBRIGAÇÃO_FINAL_POR_SALA + DIAS_FUNCIONAMENTO + C(REGISTRO_COMPLEXO) + C(ANO_CINEMATOGRAFICO)'\n",
    "data = [tds_1718, est_1718, bras_1718]\n",
    "\n",
    "# all\n",
    "reg_n4 = smf.ols(formula = formul, data=data[0]).fit()\n",
    "\n",
    "# foreign\n",
    "reg_n5 = smf.ols(formula = formul, data=data[1]).fit()\n",
    "\n",
    "# Brazilian\n",
    "reg_n6 = smf.ols(formula = formul, data=data[2]).fit()"
   ]
  },
  {
   "cell_type": "code",
   "execution_count": 10,
   "metadata": {
    "ExecuteTime": {
     "end_time": "2021-07-16T02:48:26.913947Z",
     "start_time": "2021-07-16T02:48:26.469640Z"
    }
   },
   "outputs": [
    {
     "data": {
      "text/html": [
       "<div>\n",
       "<style scoped>\n",
       "    .dataframe tbody tr th:only-of-type {\n",
       "        vertical-align: middle;\n",
       "    }\n",
       "\n",
       "    .dataframe tbody tr th {\n",
       "        vertical-align: top;\n",
       "    }\n",
       "\n",
       "    .dataframe thead th {\n",
       "        text-align: right;\n",
       "    }\n",
       "</style>\n",
       "<table border=\"1\" class=\"dataframe\">\n",
       "  <thead>\n",
       "    <tr style=\"text-align: right;\">\n",
       "      <th></th>\n",
       "      <th>coef</th>\n",
       "      <th>std err</th>\n",
       "      <th>t</th>\n",
       "      <th>P&gt;|t|</th>\n",
       "    </tr>\n",
       "  </thead>\n",
       "  <tbody>\n",
       "    <tr>\n",
       "      <th>OBRIGAÇÃO_FINAL_POR_SALA</th>\n",
       "      <td>-0.0012</td>\n",
       "      <td>0.001</td>\n",
       "      <td>-0.826</td>\n",
       "      <td>0.409</td>\n",
       "    </tr>\n",
       "    <tr>\n",
       "      <th>DIAS_FUNCIONAMENTO</th>\n",
       "      <td>0.0068</td>\n",
       "      <td>0.000</td>\n",
       "      <td>28.197</td>\n",
       "      <td>0.000</td>\n",
       "    </tr>\n",
       "  </tbody>\n",
       "</table>\n",
       "</div>"
      ],
      "text/plain": [
       "                            coef  std err       t  P>|t|\n",
       "OBRIGAÇÃO_FINAL_POR_SALA -0.0012    0.001  -0.826  0.409\n",
       "DIAS_FUNCIONAMENTO        0.0068    0.000  28.197  0.000"
      ]
     },
     "execution_count": 10,
     "metadata": {},
     "output_type": "execute_result"
    }
   ],
   "source": [
    "pd.read_html(reg_n4.summary().tables[1].as_html(),header=0,index_col=0)[0].iloc[-2:,:-2]"
   ]
  },
  {
   "cell_type": "code",
   "execution_count": 11,
   "metadata": {
    "ExecuteTime": {
     "end_time": "2021-07-16T02:48:27.296964Z",
     "start_time": "2021-07-16T02:48:26.916955Z"
    }
   },
   "outputs": [
    {
     "data": {
      "text/html": [
       "<div>\n",
       "<style scoped>\n",
       "    .dataframe tbody tr th:only-of-type {\n",
       "        vertical-align: middle;\n",
       "    }\n",
       "\n",
       "    .dataframe tbody tr th {\n",
       "        vertical-align: top;\n",
       "    }\n",
       "\n",
       "    .dataframe thead th {\n",
       "        text-align: right;\n",
       "    }\n",
       "</style>\n",
       "<table border=\"1\" class=\"dataframe\">\n",
       "  <thead>\n",
       "    <tr style=\"text-align: right;\">\n",
       "      <th></th>\n",
       "      <th>coef</th>\n",
       "      <th>std err</th>\n",
       "      <th>t</th>\n",
       "      <th>P&gt;|t|</th>\n",
       "    </tr>\n",
       "  </thead>\n",
       "  <tbody>\n",
       "    <tr>\n",
       "      <th>OBRIGAÇÃO_FINAL_POR_SALA</th>\n",
       "      <td>-0.0004</td>\n",
       "      <td>0.001</td>\n",
       "      <td>-0.248</td>\n",
       "      <td>0.804</td>\n",
       "    </tr>\n",
       "    <tr>\n",
       "      <th>DIAS_FUNCIONAMENTO</th>\n",
       "      <td>0.0068</td>\n",
       "      <td>0.000</td>\n",
       "      <td>28.272</td>\n",
       "      <td>0.000</td>\n",
       "    </tr>\n",
       "  </tbody>\n",
       "</table>\n",
       "</div>"
      ],
      "text/plain": [
       "                            coef  std err       t  P>|t|\n",
       "OBRIGAÇÃO_FINAL_POR_SALA -0.0004    0.001  -0.248  0.804\n",
       "DIAS_FUNCIONAMENTO        0.0068    0.000  28.272  0.000"
      ]
     },
     "execution_count": 11,
     "metadata": {},
     "output_type": "execute_result"
    }
   ],
   "source": [
    "pd.read_html(reg_n5.summary().tables[1].as_html(),header=0,index_col=0)[0].iloc[-2:,:-2]"
   ]
  },
  {
   "cell_type": "code",
   "execution_count": 12,
   "metadata": {
    "ExecuteTime": {
     "end_time": "2021-07-16T02:48:27.670037Z",
     "start_time": "2021-07-16T02:48:27.298972Z"
    }
   },
   "outputs": [
    {
     "data": {
      "text/html": [
       "<div>\n",
       "<style scoped>\n",
       "    .dataframe tbody tr th:only-of-type {\n",
       "        vertical-align: middle;\n",
       "    }\n",
       "\n",
       "    .dataframe tbody tr th {\n",
       "        vertical-align: top;\n",
       "    }\n",
       "\n",
       "    .dataframe thead th {\n",
       "        text-align: right;\n",
       "    }\n",
       "</style>\n",
       "<table border=\"1\" class=\"dataframe\">\n",
       "  <thead>\n",
       "    <tr style=\"text-align: right;\">\n",
       "      <th></th>\n",
       "      <th>coef</th>\n",
       "      <th>std err</th>\n",
       "      <th>t</th>\n",
       "      <th>P&gt;|t|</th>\n",
       "    </tr>\n",
       "  </thead>\n",
       "  <tbody>\n",
       "    <tr>\n",
       "      <th>OBRIGAÇÃO_FINAL_POR_SALA</th>\n",
       "      <td>-0.0039</td>\n",
       "      <td>0.003</td>\n",
       "      <td>-1.199</td>\n",
       "      <td>0.231</td>\n",
       "    </tr>\n",
       "    <tr>\n",
       "      <th>DIAS_FUNCIONAMENTO</th>\n",
       "      <td>0.0053</td>\n",
       "      <td>0.001</td>\n",
       "      <td>8.766</td>\n",
       "      <td>0.000</td>\n",
       "    </tr>\n",
       "  </tbody>\n",
       "</table>\n",
       "</div>"
      ],
      "text/plain": [
       "                            coef  std err      t  P>|t|\n",
       "OBRIGAÇÃO_FINAL_POR_SALA -0.0039    0.003 -1.199  0.231\n",
       "DIAS_FUNCIONAMENTO        0.0053    0.001  8.766  0.000"
      ]
     },
     "execution_count": 12,
     "metadata": {},
     "output_type": "execute_result"
    }
   ],
   "source": [
    "pd.read_html(reg_n6.summary().tables[1].as_html(),header=0,index_col=0)[0].iloc[-2:,:-2]"
   ]
  },
  {
   "cell_type": "markdown",
   "metadata": {},
   "source": [
    "#### Without entity fixed-effects"
   ]
  },
  {
   "cell_type": "markdown",
   "metadata": {},
   "source": [
    "##### 2017-2019"
   ]
  },
  {
   "cell_type": "code",
   "execution_count": 13,
   "metadata": {
    "ExecuteTime": {
     "end_time": "2021-07-16T02:48:36.700768Z",
     "start_time": "2021-07-16T02:48:31.622551Z"
    }
   },
   "outputs": [],
   "source": [
    "formul = 'np.log(RENDA) ~ OBRIGAÇÃO_FINAL_POR_SALA + DIAS_FUNCIONAMENTO + SALAS_COMPLEXO_INFERIDO + ASSENTOS_COMPLEXO_INFERIDO + C(ANO_CINEMATOGRAFICO)*C(MUN_COMPLEXO)'\n",
    "\n",
    "data = [tds_1719, est_1719, bras_1719]\n",
    "\n",
    "# all\n",
    "reg_n7 = smf.ols(formula = formul, data=data[0]).fit()\n",
    "\n",
    "# foreign\n",
    "reg_n8 = smf.ols(formula = formul, data=data[1]).fit()\n",
    "\n",
    "# Brazilian\n",
    "reg_n9 = smf.ols(formula = formul, data=data[2]).fit()"
   ]
  },
  {
   "cell_type": "code",
   "execution_count": 14,
   "metadata": {
    "ExecuteTime": {
     "end_time": "2021-07-16T02:48:37.327237Z",
     "start_time": "2021-07-16T02:48:36.701770Z"
    }
   },
   "outputs": [
    {
     "data": {
      "text/html": [
       "<div>\n",
       "<style scoped>\n",
       "    .dataframe tbody tr th:only-of-type {\n",
       "        vertical-align: middle;\n",
       "    }\n",
       "\n",
       "    .dataframe tbody tr th {\n",
       "        vertical-align: top;\n",
       "    }\n",
       "\n",
       "    .dataframe thead th {\n",
       "        text-align: right;\n",
       "    }\n",
       "</style>\n",
       "<table border=\"1\" class=\"dataframe\">\n",
       "  <thead>\n",
       "    <tr style=\"text-align: right;\">\n",
       "      <th></th>\n",
       "      <th>coef</th>\n",
       "      <th>std err</th>\n",
       "      <th>t</th>\n",
       "      <th>P&gt;|t|</th>\n",
       "    </tr>\n",
       "  </thead>\n",
       "  <tbody>\n",
       "    <tr>\n",
       "      <th>OBRIGAÇÃO_FINAL_POR_SALA</th>\n",
       "      <td>0.0070</td>\n",
       "      <td>0.002000</td>\n",
       "      <td>3.718</td>\n",
       "      <td>0.0</td>\n",
       "    </tr>\n",
       "    <tr>\n",
       "      <th>DIAS_FUNCIONAMENTO</th>\n",
       "      <td>0.0098</td>\n",
       "      <td>0.000000</td>\n",
       "      <td>32.408</td>\n",
       "      <td>0.0</td>\n",
       "    </tr>\n",
       "    <tr>\n",
       "      <th>SALAS_COMPLEXO_INFERIDO</th>\n",
       "      <td>0.2298</td>\n",
       "      <td>0.017000</td>\n",
       "      <td>13.233</td>\n",
       "      <td>0.0</td>\n",
       "    </tr>\n",
       "    <tr>\n",
       "      <th>ASSENTOS_COMPLEXO_INFERIDO</th>\n",
       "      <td>0.0004</td>\n",
       "      <td>0.000066</td>\n",
       "      <td>6.016</td>\n",
       "      <td>0.0</td>\n",
       "    </tr>\n",
       "  </tbody>\n",
       "</table>\n",
       "</div>"
      ],
      "text/plain": [
       "                              coef   std err       t  P>|t|\n",
       "OBRIGAÇÃO_FINAL_POR_SALA    0.0070  0.002000   3.718    0.0\n",
       "DIAS_FUNCIONAMENTO          0.0098  0.000000  32.408    0.0\n",
       "SALAS_COMPLEXO_INFERIDO     0.2298  0.017000  13.233    0.0\n",
       "ASSENTOS_COMPLEXO_INFERIDO  0.0004  0.000066   6.016    0.0"
      ]
     },
     "execution_count": 14,
     "metadata": {},
     "output_type": "execute_result"
    }
   ],
   "source": [
    "pd.read_html(reg_n7.summary().tables[1].as_html(),header=0,index_col=0)[0].iloc[-4:,:-2]"
   ]
  },
  {
   "cell_type": "code",
   "execution_count": 15,
   "metadata": {
    "ExecuteTime": {
     "end_time": "2021-07-16T02:48:37.915822Z",
     "start_time": "2021-07-16T02:48:37.329242Z"
    }
   },
   "outputs": [
    {
     "data": {
      "text/html": [
       "<div>\n",
       "<style scoped>\n",
       "    .dataframe tbody tr th:only-of-type {\n",
       "        vertical-align: middle;\n",
       "    }\n",
       "\n",
       "    .dataframe tbody tr th {\n",
       "        vertical-align: top;\n",
       "    }\n",
       "\n",
       "    .dataframe thead th {\n",
       "        text-align: right;\n",
       "    }\n",
       "</style>\n",
       "<table border=\"1\" class=\"dataframe\">\n",
       "  <thead>\n",
       "    <tr style=\"text-align: right;\">\n",
       "      <th></th>\n",
       "      <th>coef</th>\n",
       "      <th>std err</th>\n",
       "      <th>t</th>\n",
       "      <th>P&gt;|t|</th>\n",
       "    </tr>\n",
       "  </thead>\n",
       "  <tbody>\n",
       "    <tr>\n",
       "      <th>OBRIGAÇÃO_FINAL_POR_SALA</th>\n",
       "      <td>0.0058</td>\n",
       "      <td>0.002000</td>\n",
       "      <td>2.668</td>\n",
       "      <td>0.008</td>\n",
       "    </tr>\n",
       "    <tr>\n",
       "      <th>DIAS_FUNCIONAMENTO</th>\n",
       "      <td>0.0106</td>\n",
       "      <td>0.000000</td>\n",
       "      <td>30.029</td>\n",
       "      <td>0.000</td>\n",
       "    </tr>\n",
       "    <tr>\n",
       "      <th>SALAS_COMPLEXO_INFERIDO</th>\n",
       "      <td>0.2434</td>\n",
       "      <td>0.020000</td>\n",
       "      <td>12.171</td>\n",
       "      <td>0.000</td>\n",
       "    </tr>\n",
       "    <tr>\n",
       "      <th>ASSENTOS_COMPLEXO_INFERIDO</th>\n",
       "      <td>0.0004</td>\n",
       "      <td>0.000076</td>\n",
       "      <td>5.286</td>\n",
       "      <td>0.000</td>\n",
       "    </tr>\n",
       "  </tbody>\n",
       "</table>\n",
       "</div>"
      ],
      "text/plain": [
       "                              coef   std err       t  P>|t|\n",
       "OBRIGAÇÃO_FINAL_POR_SALA    0.0058  0.002000   2.668  0.008\n",
       "DIAS_FUNCIONAMENTO          0.0106  0.000000  30.029  0.000\n",
       "SALAS_COMPLEXO_INFERIDO     0.2434  0.020000  12.171  0.000\n",
       "ASSENTOS_COMPLEXO_INFERIDO  0.0004  0.000076   5.286  0.000"
      ]
     },
     "execution_count": 15,
     "metadata": {},
     "output_type": "execute_result"
    }
   ],
   "source": [
    "pd.read_html(reg_n8.summary().tables[1].as_html(),header=0,index_col=0)[0].iloc[-4:,:-2]"
   ]
  },
  {
   "cell_type": "code",
   "execution_count": 16,
   "metadata": {
    "ExecuteTime": {
     "end_time": "2021-07-16T02:48:38.486949Z",
     "start_time": "2021-07-16T02:48:37.917809Z"
    }
   },
   "outputs": [
    {
     "data": {
      "text/html": [
       "<div>\n",
       "<style scoped>\n",
       "    .dataframe tbody tr th:only-of-type {\n",
       "        vertical-align: middle;\n",
       "    }\n",
       "\n",
       "    .dataframe tbody tr th {\n",
       "        vertical-align: top;\n",
       "    }\n",
       "\n",
       "    .dataframe thead th {\n",
       "        text-align: right;\n",
       "    }\n",
       "</style>\n",
       "<table border=\"1\" class=\"dataframe\">\n",
       "  <thead>\n",
       "    <tr style=\"text-align: right;\">\n",
       "      <th></th>\n",
       "      <th>coef</th>\n",
       "      <th>std err</th>\n",
       "      <th>t</th>\n",
       "      <th>P&gt;|t|</th>\n",
       "    </tr>\n",
       "  </thead>\n",
       "  <tbody>\n",
       "    <tr>\n",
       "      <th>OBRIGAÇÃO_FINAL_POR_SALA</th>\n",
       "      <td>0.0159</td>\n",
       "      <td>0.002000</td>\n",
       "      <td>7.349</td>\n",
       "      <td>0.0</td>\n",
       "    </tr>\n",
       "    <tr>\n",
       "      <th>DIAS_FUNCIONAMENTO</th>\n",
       "      <td>0.0074</td>\n",
       "      <td>0.000000</td>\n",
       "      <td>20.889</td>\n",
       "      <td>0.0</td>\n",
       "    </tr>\n",
       "    <tr>\n",
       "      <th>SALAS_COMPLEXO_INFERIDO</th>\n",
       "      <td>0.2101</td>\n",
       "      <td>0.020000</td>\n",
       "      <td>10.578</td>\n",
       "      <td>0.0</td>\n",
       "    </tr>\n",
       "    <tr>\n",
       "      <th>ASSENTOS_COMPLEXO_INFERIDO</th>\n",
       "      <td>0.0004</td>\n",
       "      <td>0.000075</td>\n",
       "      <td>5.344</td>\n",
       "      <td>0.0</td>\n",
       "    </tr>\n",
       "  </tbody>\n",
       "</table>\n",
       "</div>"
      ],
      "text/plain": [
       "                              coef   std err       t  P>|t|\n",
       "OBRIGAÇÃO_FINAL_POR_SALA    0.0159  0.002000   7.349    0.0\n",
       "DIAS_FUNCIONAMENTO          0.0074  0.000000  20.889    0.0\n",
       "SALAS_COMPLEXO_INFERIDO     0.2101  0.020000  10.578    0.0\n",
       "ASSENTOS_COMPLEXO_INFERIDO  0.0004  0.000075   5.344    0.0"
      ]
     },
     "execution_count": 16,
     "metadata": {},
     "output_type": "execute_result"
    }
   ],
   "source": [
    "pd.read_html(reg_n9.summary().tables[1].as_html(),header=0,index_col=0)[0].iloc[-4:,:-2]"
   ]
  },
  {
   "cell_type": "markdown",
   "metadata": {},
   "source": [
    "##### 2017-2018"
   ]
  },
  {
   "cell_type": "code",
   "execution_count": 17,
   "metadata": {
    "ExecuteTime": {
     "end_time": "2021-07-16T02:48:39.652003Z",
     "start_time": "2021-07-16T02:48:38.488927Z"
    }
   },
   "outputs": [],
   "source": [
    "formul = 'np.log(RENDA) ~ OBRIGAÇÃO_FINAL_POR_SALA + DIAS_FUNCIONAMENTO + SALAS_COMPLEXO_INFERIDO + ASSENTOS_COMPLEXO_INFERIDO + C(ANO_CINEMATOGRAFICO)*C(MUN_COMPLEXO)'\n",
    "\n",
    "data = [tds_1718, est_1718, bras_1718]\n",
    "\n",
    "# all\n",
    "reg_n10 = smf.ols(formula = formul, data=data[0]).fit()\n",
    "\n",
    "# foreign\n",
    "reg_n11 = smf.ols(formula = formul, data=data[1]).fit()\n",
    "\n",
    "# Brazilian\n",
    "reg_n12 = smf.ols(formula = formul, data=data[2]).fit()"
   ]
  },
  {
   "cell_type": "code",
   "execution_count": 18,
   "metadata": {
    "ExecuteTime": {
     "end_time": "2021-07-16T02:48:40.110606Z",
     "start_time": "2021-07-16T02:48:39.659406Z"
    }
   },
   "outputs": [
    {
     "data": {
      "text/html": [
       "<div>\n",
       "<style scoped>\n",
       "    .dataframe tbody tr th:only-of-type {\n",
       "        vertical-align: middle;\n",
       "    }\n",
       "\n",
       "    .dataframe tbody tr th {\n",
       "        vertical-align: top;\n",
       "    }\n",
       "\n",
       "    .dataframe thead th {\n",
       "        text-align: right;\n",
       "    }\n",
       "</style>\n",
       "<table border=\"1\" class=\"dataframe\">\n",
       "  <thead>\n",
       "    <tr style=\"text-align: right;\">\n",
       "      <th></th>\n",
       "      <th>coef</th>\n",
       "      <th>std err</th>\n",
       "      <th>t</th>\n",
       "      <th>P&gt;|t|</th>\n",
       "    </tr>\n",
       "  </thead>\n",
       "  <tbody>\n",
       "    <tr>\n",
       "      <th>OBRIGAÇÃO_FINAL_POR_SALA</th>\n",
       "      <td>0.0094</td>\n",
       "      <td>0.002000</td>\n",
       "      <td>4.224</td>\n",
       "      <td>0.0</td>\n",
       "    </tr>\n",
       "    <tr>\n",
       "      <th>DIAS_FUNCIONAMENTO</th>\n",
       "      <td>0.0092</td>\n",
       "      <td>0.000000</td>\n",
       "      <td>19.665</td>\n",
       "      <td>0.0</td>\n",
       "    </tr>\n",
       "    <tr>\n",
       "      <th>SALAS_COMPLEXO_INFERIDO</th>\n",
       "      <td>0.2206</td>\n",
       "      <td>0.022000</td>\n",
       "      <td>9.988</td>\n",
       "      <td>0.0</td>\n",
       "    </tr>\n",
       "    <tr>\n",
       "      <th>ASSENTOS_COMPLEXO_INFERIDO</th>\n",
       "      <td>0.0004</td>\n",
       "      <td>0.000083</td>\n",
       "      <td>4.790</td>\n",
       "      <td>0.0</td>\n",
       "    </tr>\n",
       "  </tbody>\n",
       "</table>\n",
       "</div>"
      ],
      "text/plain": [
       "                              coef   std err       t  P>|t|\n",
       "OBRIGAÇÃO_FINAL_POR_SALA    0.0094  0.002000   4.224    0.0\n",
       "DIAS_FUNCIONAMENTO          0.0092  0.000000  19.665    0.0\n",
       "SALAS_COMPLEXO_INFERIDO     0.2206  0.022000   9.988    0.0\n",
       "ASSENTOS_COMPLEXO_INFERIDO  0.0004  0.000083   4.790    0.0"
      ]
     },
     "execution_count": 18,
     "metadata": {},
     "output_type": "execute_result"
    }
   ],
   "source": [
    "pd.read_html(reg_n10.summary().tables[1].as_html(),header=0,index_col=0)[0].iloc[-4:,:-2]"
   ]
  },
  {
   "cell_type": "code",
   "execution_count": 19,
   "metadata": {
    "ExecuteTime": {
     "end_time": "2021-07-16T02:48:40.481591Z",
     "start_time": "2021-07-16T02:48:40.112611Z"
    }
   },
   "outputs": [
    {
     "data": {
      "text/html": [
       "<div>\n",
       "<style scoped>\n",
       "    .dataframe tbody tr th:only-of-type {\n",
       "        vertical-align: middle;\n",
       "    }\n",
       "\n",
       "    .dataframe tbody tr th {\n",
       "        vertical-align: top;\n",
       "    }\n",
       "\n",
       "    .dataframe thead th {\n",
       "        text-align: right;\n",
       "    }\n",
       "</style>\n",
       "<table border=\"1\" class=\"dataframe\">\n",
       "  <thead>\n",
       "    <tr style=\"text-align: right;\">\n",
       "      <th></th>\n",
       "      <th>coef</th>\n",
       "      <th>std err</th>\n",
       "      <th>t</th>\n",
       "      <th>P&gt;|t|</th>\n",
       "    </tr>\n",
       "  </thead>\n",
       "  <tbody>\n",
       "    <tr>\n",
       "      <th>OBRIGAÇÃO_FINAL_POR_SALA</th>\n",
       "      <td>0.0088</td>\n",
       "      <td>0.003000</td>\n",
       "      <td>3.471</td>\n",
       "      <td>0.001</td>\n",
       "    </tr>\n",
       "    <tr>\n",
       "      <th>DIAS_FUNCIONAMENTO</th>\n",
       "      <td>0.0099</td>\n",
       "      <td>0.001000</td>\n",
       "      <td>18.407</td>\n",
       "      <td>0.000</td>\n",
       "    </tr>\n",
       "    <tr>\n",
       "      <th>SALAS_COMPLEXO_INFERIDO</th>\n",
       "      <td>0.2312</td>\n",
       "      <td>0.025000</td>\n",
       "      <td>9.275</td>\n",
       "      <td>0.000</td>\n",
       "    </tr>\n",
       "    <tr>\n",
       "      <th>ASSENTOS_COMPLEXO_INFERIDO</th>\n",
       "      <td>0.0004</td>\n",
       "      <td>0.000093</td>\n",
       "      <td>4.351</td>\n",
       "      <td>0.000</td>\n",
       "    </tr>\n",
       "  </tbody>\n",
       "</table>\n",
       "</div>"
      ],
      "text/plain": [
       "                              coef   std err       t  P>|t|\n",
       "OBRIGAÇÃO_FINAL_POR_SALA    0.0088  0.003000   3.471  0.001\n",
       "DIAS_FUNCIONAMENTO          0.0099  0.001000  18.407  0.000\n",
       "SALAS_COMPLEXO_INFERIDO     0.2312  0.025000   9.275  0.000\n",
       "ASSENTOS_COMPLEXO_INFERIDO  0.0004  0.000093   4.351  0.000"
      ]
     },
     "execution_count": 19,
     "metadata": {},
     "output_type": "execute_result"
    }
   ],
   "source": [
    "pd.read_html(reg_n11.summary().tables[1].as_html(),header=0,index_col=0)[0].iloc[-4:,:-2]"
   ]
  },
  {
   "cell_type": "code",
   "execution_count": 20,
   "metadata": {
    "ExecuteTime": {
     "end_time": "2021-07-16T02:48:40.851870Z",
     "start_time": "2021-07-16T02:48:40.485603Z"
    }
   },
   "outputs": [
    {
     "data": {
      "text/html": [
       "<div>\n",
       "<style scoped>\n",
       "    .dataframe tbody tr th:only-of-type {\n",
       "        vertical-align: middle;\n",
       "    }\n",
       "\n",
       "    .dataframe tbody tr th {\n",
       "        vertical-align: top;\n",
       "    }\n",
       "\n",
       "    .dataframe thead th {\n",
       "        text-align: right;\n",
       "    }\n",
       "</style>\n",
       "<table border=\"1\" class=\"dataframe\">\n",
       "  <thead>\n",
       "    <tr style=\"text-align: right;\">\n",
       "      <th></th>\n",
       "      <th>coef</th>\n",
       "      <th>std err</th>\n",
       "      <th>t</th>\n",
       "      <th>P&gt;|t|</th>\n",
       "    </tr>\n",
       "  </thead>\n",
       "  <tbody>\n",
       "    <tr>\n",
       "      <th>OBRIGAÇÃO_FINAL_POR_SALA</th>\n",
       "      <td>0.0189</td>\n",
       "      <td>0.003000</td>\n",
       "      <td>7.188</td>\n",
       "      <td>0.0</td>\n",
       "    </tr>\n",
       "    <tr>\n",
       "      <th>DIAS_FUNCIONAMENTO</th>\n",
       "      <td>0.0067</td>\n",
       "      <td>0.001000</td>\n",
       "      <td>12.062</td>\n",
       "      <td>0.0</td>\n",
       "    </tr>\n",
       "    <tr>\n",
       "      <th>SALAS_COMPLEXO_INFERIDO</th>\n",
       "      <td>0.1939</td>\n",
       "      <td>0.026000</td>\n",
       "      <td>7.462</td>\n",
       "      <td>0.0</td>\n",
       "    </tr>\n",
       "    <tr>\n",
       "      <th>ASSENTOS_COMPLEXO_INFERIDO</th>\n",
       "      <td>0.0004</td>\n",
       "      <td>0.000097</td>\n",
       "      <td>4.242</td>\n",
       "      <td>0.0</td>\n",
       "    </tr>\n",
       "  </tbody>\n",
       "</table>\n",
       "</div>"
      ],
      "text/plain": [
       "                              coef   std err       t  P>|t|\n",
       "OBRIGAÇÃO_FINAL_POR_SALA    0.0189  0.003000   7.188    0.0\n",
       "DIAS_FUNCIONAMENTO          0.0067  0.001000  12.062    0.0\n",
       "SALAS_COMPLEXO_INFERIDO     0.1939  0.026000   7.462    0.0\n",
       "ASSENTOS_COMPLEXO_INFERIDO  0.0004  0.000097   4.242    0.0"
      ]
     },
     "execution_count": 20,
     "metadata": {},
     "output_type": "execute_result"
    }
   ],
   "source": [
    "pd.read_html(reg_n12.summary().tables[1].as_html(),header=0,index_col=0)[0].iloc[-4:,:-2]"
   ]
  },
  {
   "cell_type": "markdown",
   "metadata": {},
   "source": [
    "### Dependent variable: public (moviegoers)"
   ]
  },
  {
   "cell_type": "markdown",
   "metadata": {},
   "source": [
    "#### With entity fixed-effects"
   ]
  },
  {
   "cell_type": "markdown",
   "metadata": {},
   "source": [
    "##### 2017-2019"
   ]
  },
  {
   "cell_type": "code",
   "execution_count": 21,
   "metadata": {
    "ExecuteTime": {
     "end_time": "2021-07-16T02:48:45.787282Z",
     "start_time": "2021-07-16T02:48:43.763365Z"
    }
   },
   "outputs": [],
   "source": [
    "formul = 'np.log(PUBLICO) ~ OBRIGAÇÃO_FINAL_POR_SALA + DIAS_FUNCIONAMENTO + C(REGISTRO_COMPLEXO) + C(ANO_CINEMATOGRAFICO)'\n",
    "\n",
    "data = [tds_1719, est_1719, bras_1719]\n",
    "\n",
    "# all\n",
    "reg_np1 = smf.ols(formula = formul, data=data[0]).fit()\n",
    "\n",
    "# foreign\n",
    "reg_np2 = smf.ols(formula = formul, data=data[1]).fit()\n",
    "\n",
    "# Brazilian\n",
    "reg_np3 = smf.ols(formula = formul, data=data[2]).fit()"
   ]
  },
  {
   "cell_type": "code",
   "execution_count": 22,
   "metadata": {
    "ExecuteTime": {
     "end_time": "2021-07-16T02:48:46.217763Z",
     "start_time": "2021-07-16T02:48:45.789289Z"
    }
   },
   "outputs": [
    {
     "data": {
      "text/html": [
       "<div>\n",
       "<style scoped>\n",
       "    .dataframe tbody tr th:only-of-type {\n",
       "        vertical-align: middle;\n",
       "    }\n",
       "\n",
       "    .dataframe tbody tr th {\n",
       "        vertical-align: top;\n",
       "    }\n",
       "\n",
       "    .dataframe thead th {\n",
       "        text-align: right;\n",
       "    }\n",
       "</style>\n",
       "<table border=\"1\" class=\"dataframe\">\n",
       "  <thead>\n",
       "    <tr style=\"text-align: right;\">\n",
       "      <th></th>\n",
       "      <th>coef</th>\n",
       "      <th>std err</th>\n",
       "      <th>t</th>\n",
       "      <th>P&gt;|t|</th>\n",
       "    </tr>\n",
       "  </thead>\n",
       "  <tbody>\n",
       "    <tr>\n",
       "      <th>OBRIGAÇÃO_FINAL_POR_SALA</th>\n",
       "      <td>0.0008</td>\n",
       "      <td>0.001</td>\n",
       "      <td>1.229</td>\n",
       "      <td>0.219</td>\n",
       "    </tr>\n",
       "    <tr>\n",
       "      <th>DIAS_FUNCIONAMENTO</th>\n",
       "      <td>0.0065</td>\n",
       "      <td>0.000</td>\n",
       "      <td>50.858</td>\n",
       "      <td>0.000</td>\n",
       "    </tr>\n",
       "  </tbody>\n",
       "</table>\n",
       "</div>"
      ],
      "text/plain": [
       "                            coef  std err       t  P>|t|\n",
       "OBRIGAÇÃO_FINAL_POR_SALA  0.0008    0.001   1.229  0.219\n",
       "DIAS_FUNCIONAMENTO        0.0065    0.000  50.858  0.000"
      ]
     },
     "execution_count": 22,
     "metadata": {},
     "output_type": "execute_result"
    }
   ],
   "source": [
    "pd.read_html(reg_np1.summary().tables[1].as_html(),header=0,index_col=0)[0].iloc[-2:,:-2]"
   ]
  },
  {
   "cell_type": "code",
   "execution_count": 23,
   "metadata": {
    "ExecuteTime": {
     "end_time": "2021-07-16T02:48:46.672994Z",
     "start_time": "2021-07-16T02:48:46.219768Z"
    }
   },
   "outputs": [
    {
     "data": {
      "text/html": [
       "<div>\n",
       "<style scoped>\n",
       "    .dataframe tbody tr th:only-of-type {\n",
       "        vertical-align: middle;\n",
       "    }\n",
       "\n",
       "    .dataframe tbody tr th {\n",
       "        vertical-align: top;\n",
       "    }\n",
       "\n",
       "    .dataframe thead th {\n",
       "        text-align: right;\n",
       "    }\n",
       "</style>\n",
       "<table border=\"1\" class=\"dataframe\">\n",
       "  <thead>\n",
       "    <tr style=\"text-align: right;\">\n",
       "      <th></th>\n",
       "      <th>coef</th>\n",
       "      <th>std err</th>\n",
       "      <th>t</th>\n",
       "      <th>P&gt;|t|</th>\n",
       "    </tr>\n",
       "  </thead>\n",
       "  <tbody>\n",
       "    <tr>\n",
       "      <th>OBRIGAÇÃO_FINAL_POR_SALA</th>\n",
       "      <td>0.0009</td>\n",
       "      <td>0.001</td>\n",
       "      <td>1.252</td>\n",
       "      <td>0.211</td>\n",
       "    </tr>\n",
       "    <tr>\n",
       "      <th>DIAS_FUNCIONAMENTO</th>\n",
       "      <td>0.0065</td>\n",
       "      <td>0.000</td>\n",
       "      <td>46.829</td>\n",
       "      <td>0.000</td>\n",
       "    </tr>\n",
       "  </tbody>\n",
       "</table>\n",
       "</div>"
      ],
      "text/plain": [
       "                            coef  std err       t  P>|t|\n",
       "OBRIGAÇÃO_FINAL_POR_SALA  0.0009    0.001   1.252  0.211\n",
       "DIAS_FUNCIONAMENTO        0.0065    0.000  46.829  0.000"
      ]
     },
     "execution_count": 23,
     "metadata": {},
     "output_type": "execute_result"
    }
   ],
   "source": [
    "pd.read_html(reg_np2.summary().tables[1].as_html(),header=0,index_col=0)[0].iloc[-2:,:-2]"
   ]
  },
  {
   "cell_type": "code",
   "execution_count": 24,
   "metadata": {
    "ExecuteTime": {
     "end_time": "2021-07-16T02:48:47.076043Z",
     "start_time": "2021-07-16T02:48:46.674978Z"
    }
   },
   "outputs": [
    {
     "data": {
      "text/html": [
       "<div>\n",
       "<style scoped>\n",
       "    .dataframe tbody tr th:only-of-type {\n",
       "        vertical-align: middle;\n",
       "    }\n",
       "\n",
       "    .dataframe tbody tr th {\n",
       "        vertical-align: top;\n",
       "    }\n",
       "\n",
       "    .dataframe thead th {\n",
       "        text-align: right;\n",
       "    }\n",
       "</style>\n",
       "<table border=\"1\" class=\"dataframe\">\n",
       "  <thead>\n",
       "    <tr style=\"text-align: right;\">\n",
       "      <th></th>\n",
       "      <th>coef</th>\n",
       "      <th>std err</th>\n",
       "      <th>t</th>\n",
       "      <th>P&gt;|t|</th>\n",
       "    </tr>\n",
       "  </thead>\n",
       "  <tbody>\n",
       "    <tr>\n",
       "      <th>OBRIGAÇÃO_FINAL_POR_SALA</th>\n",
       "      <td>0.0018</td>\n",
       "      <td>0.001</td>\n",
       "      <td>1.339</td>\n",
       "      <td>0.181</td>\n",
       "    </tr>\n",
       "    <tr>\n",
       "      <th>DIAS_FUNCIONAMENTO</th>\n",
       "      <td>0.0057</td>\n",
       "      <td>0.000</td>\n",
       "      <td>19.206</td>\n",
       "      <td>0.000</td>\n",
       "    </tr>\n",
       "  </tbody>\n",
       "</table>\n",
       "</div>"
      ],
      "text/plain": [
       "                            coef  std err       t  P>|t|\n",
       "OBRIGAÇÃO_FINAL_POR_SALA  0.0018    0.001   1.339  0.181\n",
       "DIAS_FUNCIONAMENTO        0.0057    0.000  19.206  0.000"
      ]
     },
     "execution_count": 24,
     "metadata": {},
     "output_type": "execute_result"
    }
   ],
   "source": [
    "pd.read_html(reg_np3.summary().tables[1].as_html(),header=0,index_col=0)[0].iloc[-2:,:-2]"
   ]
  },
  {
   "cell_type": "markdown",
   "metadata": {},
   "source": [
    "##### 2017-2018"
   ]
  },
  {
   "cell_type": "code",
   "execution_count": 25,
   "metadata": {
    "ExecuteTime": {
     "end_time": "2021-07-16T02:48:48.169297Z",
     "start_time": "2021-07-16T02:48:47.078049Z"
    }
   },
   "outputs": [],
   "source": [
    "formul = 'np.log(PUBLICO) ~ OBRIGAÇÃO_FINAL_POR_SALA + DIAS_FUNCIONAMENTO + C(REGISTRO_COMPLEXO) + C(ANO_CINEMATOGRAFICO)'\n",
    "data = [tds_1718, est_1718, bras_1718]\n",
    "\n",
    "# all\n",
    "reg_np4 = smf.ols(formula = formul, data=data[0]).fit()\n",
    "\n",
    "# foreign\n",
    "reg_np5 = smf.ols(formula = formul, data=data[1]).fit()\n",
    "\n",
    "# Brazilian\n",
    "reg_np6 = smf.ols(formula = formul, data=data[2]).fit()"
   ]
  },
  {
   "cell_type": "code",
   "execution_count": 26,
   "metadata": {
    "ExecuteTime": {
     "end_time": "2021-07-16T02:48:48.548671Z",
     "start_time": "2021-07-16T02:48:48.169297Z"
    }
   },
   "outputs": [
    {
     "data": {
      "text/html": [
       "<div>\n",
       "<style scoped>\n",
       "    .dataframe tbody tr th:only-of-type {\n",
       "        vertical-align: middle;\n",
       "    }\n",
       "\n",
       "    .dataframe tbody tr th {\n",
       "        vertical-align: top;\n",
       "    }\n",
       "\n",
       "    .dataframe thead th {\n",
       "        text-align: right;\n",
       "    }\n",
       "</style>\n",
       "<table border=\"1\" class=\"dataframe\">\n",
       "  <thead>\n",
       "    <tr style=\"text-align: right;\">\n",
       "      <th></th>\n",
       "      <th>coef</th>\n",
       "      <th>std err</th>\n",
       "      <th>t</th>\n",
       "      <th>P&gt;|t|</th>\n",
       "    </tr>\n",
       "  </thead>\n",
       "  <tbody>\n",
       "    <tr>\n",
       "      <th>OBRIGAÇÃO_FINAL_POR_SALA</th>\n",
       "      <td>-0.0004</td>\n",
       "      <td>0.001</td>\n",
       "      <td>-0.289</td>\n",
       "      <td>0.772</td>\n",
       "    </tr>\n",
       "    <tr>\n",
       "      <th>DIAS_FUNCIONAMENTO</th>\n",
       "      <td>0.0068</td>\n",
       "      <td>0.000</td>\n",
       "      <td>32.317</td>\n",
       "      <td>0.000</td>\n",
       "    </tr>\n",
       "  </tbody>\n",
       "</table>\n",
       "</div>"
      ],
      "text/plain": [
       "                            coef  std err       t  P>|t|\n",
       "OBRIGAÇÃO_FINAL_POR_SALA -0.0004    0.001  -0.289  0.772\n",
       "DIAS_FUNCIONAMENTO        0.0068    0.000  32.317  0.000"
      ]
     },
     "execution_count": 26,
     "metadata": {},
     "output_type": "execute_result"
    }
   ],
   "source": [
    "pd.read_html(reg_np4.summary().tables[1].as_html(),header=0,index_col=0)[0].iloc[-2:,:-2]"
   ]
  },
  {
   "cell_type": "code",
   "execution_count": 27,
   "metadata": {
    "ExecuteTime": {
     "end_time": "2021-07-16T02:48:48.967785Z",
     "start_time": "2021-07-16T02:48:48.550677Z"
    }
   },
   "outputs": [
    {
     "data": {
      "text/html": [
       "<div>\n",
       "<style scoped>\n",
       "    .dataframe tbody tr th:only-of-type {\n",
       "        vertical-align: middle;\n",
       "    }\n",
       "\n",
       "    .dataframe tbody tr th {\n",
       "        vertical-align: top;\n",
       "    }\n",
       "\n",
       "    .dataframe thead th {\n",
       "        text-align: right;\n",
       "    }\n",
       "</style>\n",
       "<table border=\"1\" class=\"dataframe\">\n",
       "  <thead>\n",
       "    <tr style=\"text-align: right;\">\n",
       "      <th></th>\n",
       "      <th>coef</th>\n",
       "      <th>std err</th>\n",
       "      <th>t</th>\n",
       "      <th>P&gt;|t|</th>\n",
       "    </tr>\n",
       "  </thead>\n",
       "  <tbody>\n",
       "    <tr>\n",
       "      <th>OBRIGAÇÃO_FINAL_POR_SALA</th>\n",
       "      <td>0.0005</td>\n",
       "      <td>0.001</td>\n",
       "      <td>0.389</td>\n",
       "      <td>0.698</td>\n",
       "    </tr>\n",
       "    <tr>\n",
       "      <th>DIAS_FUNCIONAMENTO</th>\n",
       "      <td>0.0068</td>\n",
       "      <td>0.000</td>\n",
       "      <td>31.264</td>\n",
       "      <td>0.000</td>\n",
       "    </tr>\n",
       "  </tbody>\n",
       "</table>\n",
       "</div>"
      ],
      "text/plain": [
       "                            coef  std err       t  P>|t|\n",
       "OBRIGAÇÃO_FINAL_POR_SALA  0.0005    0.001   0.389  0.698\n",
       "DIAS_FUNCIONAMENTO        0.0068    0.000  31.264  0.000"
      ]
     },
     "execution_count": 27,
     "metadata": {},
     "output_type": "execute_result"
    }
   ],
   "source": [
    "pd.read_html(reg_np5.summary().tables[1].as_html(),header=0,index_col=0)[0].iloc[-2:,:-2]"
   ]
  },
  {
   "cell_type": "code",
   "execution_count": 28,
   "metadata": {
    "ExecuteTime": {
     "end_time": "2021-07-16T02:48:49.350088Z",
     "start_time": "2021-07-16T02:48:48.970793Z"
    }
   },
   "outputs": [
    {
     "data": {
      "text/html": [
       "<div>\n",
       "<style scoped>\n",
       "    .dataframe tbody tr th:only-of-type {\n",
       "        vertical-align: middle;\n",
       "    }\n",
       "\n",
       "    .dataframe tbody tr th {\n",
       "        vertical-align: top;\n",
       "    }\n",
       "\n",
       "    .dataframe thead th {\n",
       "        text-align: right;\n",
       "    }\n",
       "</style>\n",
       "<table border=\"1\" class=\"dataframe\">\n",
       "  <thead>\n",
       "    <tr style=\"text-align: right;\">\n",
       "      <th></th>\n",
       "      <th>coef</th>\n",
       "      <th>std err</th>\n",
       "      <th>t</th>\n",
       "      <th>P&gt;|t|</th>\n",
       "    </tr>\n",
       "  </thead>\n",
       "  <tbody>\n",
       "    <tr>\n",
       "      <th>OBRIGAÇÃO_FINAL_POR_SALA</th>\n",
       "      <td>-0.0035</td>\n",
       "      <td>0.003</td>\n",
       "      <td>-1.171</td>\n",
       "      <td>0.242</td>\n",
       "    </tr>\n",
       "    <tr>\n",
       "      <th>DIAS_FUNCIONAMENTO</th>\n",
       "      <td>0.0055</td>\n",
       "      <td>0.001</td>\n",
       "      <td>9.711</td>\n",
       "      <td>0.000</td>\n",
       "    </tr>\n",
       "  </tbody>\n",
       "</table>\n",
       "</div>"
      ],
      "text/plain": [
       "                            coef  std err      t  P>|t|\n",
       "OBRIGAÇÃO_FINAL_POR_SALA -0.0035    0.003 -1.171  0.242\n",
       "DIAS_FUNCIONAMENTO        0.0055    0.001  9.711  0.000"
      ]
     },
     "execution_count": 28,
     "metadata": {},
     "output_type": "execute_result"
    }
   ],
   "source": [
    "pd.read_html(reg_np6.summary().tables[1].as_html(),header=0,index_col=0)[0].iloc[-2:,:-2]"
   ]
  },
  {
   "cell_type": "markdown",
   "metadata": {},
   "source": [
    "#### Without entity fixed-effects"
   ]
  },
  {
   "cell_type": "code",
   "execution_count": 29,
   "metadata": {
    "ExecuteTime": {
     "end_time": "2021-07-16T02:48:52.632996Z",
     "start_time": "2021-07-16T02:48:52.629987Z"
    }
   },
   "outputs": [],
   "source": [
    "formul = 'np.log(PUBLICO) ~ OBRIGAÇÃO_FINAL_POR_SALA + DIAS_FUNCIONAMENTO + SALAS_COMPLEXO_INFERIDO + ASSENTOS_COMPLEXO_INFERIDO + C(ANO_CINEMATOGRAFICO)*C(MUN_COMPLEXO)'"
   ]
  },
  {
   "cell_type": "markdown",
   "metadata": {},
   "source": [
    "##### 2017-2019"
   ]
  },
  {
   "cell_type": "code",
   "execution_count": 30,
   "metadata": {
    "ExecuteTime": {
     "end_time": "2021-07-16T02:48:58.557218Z",
     "start_time": "2021-07-16T02:48:53.230871Z"
    }
   },
   "outputs": [],
   "source": [
    "data = [tds_1719, est_1719, bras_1719]\n",
    "\n",
    "# all\n",
    "reg_np7 = smf.ols(formula = formul, data=data[0]).fit()\n",
    "\n",
    "# foreign\n",
    "reg_np8 = smf.ols(formula = formul, data=data[1]).fit()\n",
    "\n",
    "# Brazilian\n",
    "reg_np9 = smf.ols(formula = formul, data=data[2]).fit()"
   ]
  },
  {
   "cell_type": "code",
   "execution_count": 31,
   "metadata": {
    "ExecuteTime": {
     "end_time": "2021-07-16T02:48:59.143535Z",
     "start_time": "2021-07-16T02:48:58.558221Z"
    },
    "scrolled": true
   },
   "outputs": [
    {
     "data": {
      "text/html": [
       "<div>\n",
       "<style scoped>\n",
       "    .dataframe tbody tr th:only-of-type {\n",
       "        vertical-align: middle;\n",
       "    }\n",
       "\n",
       "    .dataframe tbody tr th {\n",
       "        vertical-align: top;\n",
       "    }\n",
       "\n",
       "    .dataframe thead th {\n",
       "        text-align: right;\n",
       "    }\n",
       "</style>\n",
       "<table border=\"1\" class=\"dataframe\">\n",
       "  <thead>\n",
       "    <tr style=\"text-align: right;\">\n",
       "      <th></th>\n",
       "      <th>coef</th>\n",
       "      <th>std err</th>\n",
       "      <th>t</th>\n",
       "      <th>P&gt;|t|</th>\n",
       "    </tr>\n",
       "  </thead>\n",
       "  <tbody>\n",
       "    <tr>\n",
       "      <th>OBRIGAÇÃO_FINAL_POR_SALA</th>\n",
       "      <td>0.0091</td>\n",
       "      <td>0.002000</td>\n",
       "      <td>5.801</td>\n",
       "      <td>0.0</td>\n",
       "    </tr>\n",
       "    <tr>\n",
       "      <th>DIAS_FUNCIONAMENTO</th>\n",
       "      <td>0.0091</td>\n",
       "      <td>0.000000</td>\n",
       "      <td>36.134</td>\n",
       "      <td>0.0</td>\n",
       "    </tr>\n",
       "    <tr>\n",
       "      <th>SALAS_COMPLEXO_INFERIDO</th>\n",
       "      <td>0.1606</td>\n",
       "      <td>0.015000</td>\n",
       "      <td>11.077</td>\n",
       "      <td>0.0</td>\n",
       "    </tr>\n",
       "    <tr>\n",
       "      <th>ASSENTOS_COMPLEXO_INFERIDO</th>\n",
       "      <td>0.0005</td>\n",
       "      <td>0.000055</td>\n",
       "      <td>8.533</td>\n",
       "      <td>0.0</td>\n",
       "    </tr>\n",
       "  </tbody>\n",
       "</table>\n",
       "</div>"
      ],
      "text/plain": [
       "                              coef   std err       t  P>|t|\n",
       "OBRIGAÇÃO_FINAL_POR_SALA    0.0091  0.002000   5.801    0.0\n",
       "DIAS_FUNCIONAMENTO          0.0091  0.000000  36.134    0.0\n",
       "SALAS_COMPLEXO_INFERIDO     0.1606  0.015000  11.077    0.0\n",
       "ASSENTOS_COMPLEXO_INFERIDO  0.0005  0.000055   8.533    0.0"
      ]
     },
     "execution_count": 31,
     "metadata": {},
     "output_type": "execute_result"
    }
   ],
   "source": [
    "pd.read_html(reg_np7.summary().tables[1].as_html(),header=0,index_col=0)[0].iloc[-4:,:-2]"
   ]
  },
  {
   "cell_type": "code",
   "execution_count": 32,
   "metadata": {
    "ExecuteTime": {
     "end_time": "2021-07-16T02:48:59.751750Z",
     "start_time": "2021-07-16T02:48:59.145540Z"
    }
   },
   "outputs": [
    {
     "data": {
      "text/html": [
       "<div>\n",
       "<style scoped>\n",
       "    .dataframe tbody tr th:only-of-type {\n",
       "        vertical-align: middle;\n",
       "    }\n",
       "\n",
       "    .dataframe tbody tr th {\n",
       "        vertical-align: top;\n",
       "    }\n",
       "\n",
       "    .dataframe thead th {\n",
       "        text-align: right;\n",
       "    }\n",
       "</style>\n",
       "<table border=\"1\" class=\"dataframe\">\n",
       "  <thead>\n",
       "    <tr style=\"text-align: right;\">\n",
       "      <th></th>\n",
       "      <th>coef</th>\n",
       "      <th>std err</th>\n",
       "      <th>t</th>\n",
       "      <th>P&gt;|t|</th>\n",
       "    </tr>\n",
       "  </thead>\n",
       "  <tbody>\n",
       "    <tr>\n",
       "      <th>OBRIGAÇÃO_FINAL_POR_SALA</th>\n",
       "      <td>0.0080</td>\n",
       "      <td>0.002000</td>\n",
       "      <td>4.229</td>\n",
       "      <td>0.0</td>\n",
       "    </tr>\n",
       "    <tr>\n",
       "      <th>DIAS_FUNCIONAMENTO</th>\n",
       "      <td>0.0100</td>\n",
       "      <td>0.000000</td>\n",
       "      <td>32.640</td>\n",
       "      <td>0.0</td>\n",
       "    </tr>\n",
       "    <tr>\n",
       "      <th>SALAS_COMPLEXO_INFERIDO</th>\n",
       "      <td>0.1757</td>\n",
       "      <td>0.017000</td>\n",
       "      <td>10.134</td>\n",
       "      <td>0.0</td>\n",
       "    </tr>\n",
       "    <tr>\n",
       "      <th>ASSENTOS_COMPLEXO_INFERIDO</th>\n",
       "      <td>0.0005</td>\n",
       "      <td>0.000066</td>\n",
       "      <td>7.025</td>\n",
       "      <td>0.0</td>\n",
       "    </tr>\n",
       "  </tbody>\n",
       "</table>\n",
       "</div>"
      ],
      "text/plain": [
       "                              coef   std err       t  P>|t|\n",
       "OBRIGAÇÃO_FINAL_POR_SALA    0.0080  0.002000   4.229    0.0\n",
       "DIAS_FUNCIONAMENTO          0.0100  0.000000  32.640    0.0\n",
       "SALAS_COMPLEXO_INFERIDO     0.1757  0.017000  10.134    0.0\n",
       "ASSENTOS_COMPLEXO_INFERIDO  0.0005  0.000066   7.025    0.0"
      ]
     },
     "execution_count": 32,
     "metadata": {},
     "output_type": "execute_result"
    }
   ],
   "source": [
    "pd.read_html(reg_np8.summary().tables[1].as_html(),header=0,index_col=0)[0].iloc[-4:,:-2]"
   ]
  },
  {
   "cell_type": "code",
   "execution_count": 33,
   "metadata": {
    "ExecuteTime": {
     "end_time": "2021-07-16T02:49:00.299204Z",
     "start_time": "2021-07-16T02:48:59.753782Z"
    }
   },
   "outputs": [
    {
     "data": {
      "text/html": [
       "<div>\n",
       "<style scoped>\n",
       "    .dataframe tbody tr th:only-of-type {\n",
       "        vertical-align: middle;\n",
       "    }\n",
       "\n",
       "    .dataframe tbody tr th {\n",
       "        vertical-align: top;\n",
       "    }\n",
       "\n",
       "    .dataframe thead th {\n",
       "        text-align: right;\n",
       "    }\n",
       "</style>\n",
       "<table border=\"1\" class=\"dataframe\">\n",
       "  <thead>\n",
       "    <tr style=\"text-align: right;\">\n",
       "      <th></th>\n",
       "      <th>coef</th>\n",
       "      <th>std err</th>\n",
       "      <th>t</th>\n",
       "      <th>P&gt;|t|</th>\n",
       "    </tr>\n",
       "  </thead>\n",
       "  <tbody>\n",
       "    <tr>\n",
       "      <th>OBRIGAÇÃO_FINAL_POR_SALA</th>\n",
       "      <td>0.0176</td>\n",
       "      <td>0.002000</td>\n",
       "      <td>8.588</td>\n",
       "      <td>0.0</td>\n",
       "    </tr>\n",
       "    <tr>\n",
       "      <th>DIAS_FUNCIONAMENTO</th>\n",
       "      <td>0.0069</td>\n",
       "      <td>0.000000</td>\n",
       "      <td>20.538</td>\n",
       "      <td>0.0</td>\n",
       "    </tr>\n",
       "    <tr>\n",
       "      <th>SALAS_COMPLEXO_INFERIDO</th>\n",
       "      <td>0.1441</td>\n",
       "      <td>0.019000</td>\n",
       "      <td>7.662</td>\n",
       "      <td>0.0</td>\n",
       "    </tr>\n",
       "    <tr>\n",
       "      <th>ASSENTOS_COMPLEXO_INFERIDO</th>\n",
       "      <td>0.0005</td>\n",
       "      <td>0.000071</td>\n",
       "      <td>7.334</td>\n",
       "      <td>0.0</td>\n",
       "    </tr>\n",
       "  </tbody>\n",
       "</table>\n",
       "</div>"
      ],
      "text/plain": [
       "                              coef   std err       t  P>|t|\n",
       "OBRIGAÇÃO_FINAL_POR_SALA    0.0176  0.002000   8.588    0.0\n",
       "DIAS_FUNCIONAMENTO          0.0069  0.000000  20.538    0.0\n",
       "SALAS_COMPLEXO_INFERIDO     0.1441  0.019000   7.662    0.0\n",
       "ASSENTOS_COMPLEXO_INFERIDO  0.0005  0.000071   7.334    0.0"
      ]
     },
     "execution_count": 33,
     "metadata": {},
     "output_type": "execute_result"
    }
   ],
   "source": [
    "pd.read_html(reg_np9.summary().tables[1].as_html(),header=0,index_col=0)[0].iloc[-4:,:-2]"
   ]
  },
  {
   "cell_type": "markdown",
   "metadata": {},
   "source": [
    "##### 2017-2018"
   ]
  },
  {
   "cell_type": "code",
   "execution_count": 34,
   "metadata": {
    "ExecuteTime": {
     "end_time": "2021-07-16T02:49:01.456597Z",
     "start_time": "2021-07-16T02:49:00.301211Z"
    }
   },
   "outputs": [],
   "source": [
    "data = [tds_1718, est_1718, bras_1718]\n",
    "\n",
    "# all\n",
    "reg_np10 = smf.ols(formula = formul, data=data[0]).fit()\n",
    "\n",
    "# foreign\n",
    "reg_np11 = smf.ols(formula = formul, data=data[1]).fit()\n",
    "\n",
    "# Brazilian\n",
    "reg_np12 = smf.ols(formula = formul, data=data[2]).fit()"
   ]
  },
  {
   "cell_type": "code",
   "execution_count": 35,
   "metadata": {
    "ExecuteTime": {
     "end_time": "2021-07-16T02:49:02.034930Z",
     "start_time": "2021-07-16T02:49:01.461047Z"
    }
   },
   "outputs": [
    {
     "data": {
      "text/html": [
       "<div>\n",
       "<style scoped>\n",
       "    .dataframe tbody tr th:only-of-type {\n",
       "        vertical-align: middle;\n",
       "    }\n",
       "\n",
       "    .dataframe tbody tr th {\n",
       "        vertical-align: top;\n",
       "    }\n",
       "\n",
       "    .dataframe thead th {\n",
       "        text-align: right;\n",
       "    }\n",
       "</style>\n",
       "<table border=\"1\" class=\"dataframe\">\n",
       "  <thead>\n",
       "    <tr style=\"text-align: right;\">\n",
       "      <th></th>\n",
       "      <th>coef</th>\n",
       "      <th>std err</th>\n",
       "      <th>t</th>\n",
       "      <th>P&gt;|t|</th>\n",
       "    </tr>\n",
       "  </thead>\n",
       "  <tbody>\n",
       "    <tr>\n",
       "      <th>OBRIGAÇÃO_FINAL_POR_SALA</th>\n",
       "      <td>0.0070</td>\n",
       "      <td>0.002000</td>\n",
       "      <td>3.718</td>\n",
       "      <td>0.0</td>\n",
       "    </tr>\n",
       "    <tr>\n",
       "      <th>DIAS_FUNCIONAMENTO</th>\n",
       "      <td>0.0098</td>\n",
       "      <td>0.000000</td>\n",
       "      <td>32.408</td>\n",
       "      <td>0.0</td>\n",
       "    </tr>\n",
       "    <tr>\n",
       "      <th>SALAS_COMPLEXO_INFERIDO</th>\n",
       "      <td>0.2298</td>\n",
       "      <td>0.017000</td>\n",
       "      <td>13.233</td>\n",
       "      <td>0.0</td>\n",
       "    </tr>\n",
       "    <tr>\n",
       "      <th>ASSENTOS_COMPLEXO_INFERIDO</th>\n",
       "      <td>0.0004</td>\n",
       "      <td>0.000066</td>\n",
       "      <td>6.016</td>\n",
       "      <td>0.0</td>\n",
       "    </tr>\n",
       "  </tbody>\n",
       "</table>\n",
       "</div>"
      ],
      "text/plain": [
       "                              coef   std err       t  P>|t|\n",
       "OBRIGAÇÃO_FINAL_POR_SALA    0.0070  0.002000   3.718    0.0\n",
       "DIAS_FUNCIONAMENTO          0.0098  0.000000  32.408    0.0\n",
       "SALAS_COMPLEXO_INFERIDO     0.2298  0.017000  13.233    0.0\n",
       "ASSENTOS_COMPLEXO_INFERIDO  0.0004  0.000066   6.016    0.0"
      ]
     },
     "execution_count": 35,
     "metadata": {},
     "output_type": "execute_result"
    }
   ],
   "source": [
    "pd.read_html(reg_n7.summary().tables[1].as_html(),header=0,index_col=0)[0].iloc[-4:,:-2]"
   ]
  },
  {
   "cell_type": "code",
   "execution_count": 36,
   "metadata": {
    "ExecuteTime": {
     "end_time": "2021-07-16T02:49:02.630629Z",
     "start_time": "2021-07-16T02:49:02.036949Z"
    }
   },
   "outputs": [
    {
     "data": {
      "text/html": [
       "<div>\n",
       "<style scoped>\n",
       "    .dataframe tbody tr th:only-of-type {\n",
       "        vertical-align: middle;\n",
       "    }\n",
       "\n",
       "    .dataframe tbody tr th {\n",
       "        vertical-align: top;\n",
       "    }\n",
       "\n",
       "    .dataframe thead th {\n",
       "        text-align: right;\n",
       "    }\n",
       "</style>\n",
       "<table border=\"1\" class=\"dataframe\">\n",
       "  <thead>\n",
       "    <tr style=\"text-align: right;\">\n",
       "      <th></th>\n",
       "      <th>coef</th>\n",
       "      <th>std err</th>\n",
       "      <th>t</th>\n",
       "      <th>P&gt;|t|</th>\n",
       "    </tr>\n",
       "  </thead>\n",
       "  <tbody>\n",
       "    <tr>\n",
       "      <th>OBRIGAÇÃO_FINAL_POR_SALA</th>\n",
       "      <td>0.0058</td>\n",
       "      <td>0.002000</td>\n",
       "      <td>2.668</td>\n",
       "      <td>0.008</td>\n",
       "    </tr>\n",
       "    <tr>\n",
       "      <th>DIAS_FUNCIONAMENTO</th>\n",
       "      <td>0.0106</td>\n",
       "      <td>0.000000</td>\n",
       "      <td>30.029</td>\n",
       "      <td>0.000</td>\n",
       "    </tr>\n",
       "    <tr>\n",
       "      <th>SALAS_COMPLEXO_INFERIDO</th>\n",
       "      <td>0.2434</td>\n",
       "      <td>0.020000</td>\n",
       "      <td>12.171</td>\n",
       "      <td>0.000</td>\n",
       "    </tr>\n",
       "    <tr>\n",
       "      <th>ASSENTOS_COMPLEXO_INFERIDO</th>\n",
       "      <td>0.0004</td>\n",
       "      <td>0.000076</td>\n",
       "      <td>5.286</td>\n",
       "      <td>0.000</td>\n",
       "    </tr>\n",
       "  </tbody>\n",
       "</table>\n",
       "</div>"
      ],
      "text/plain": [
       "                              coef   std err       t  P>|t|\n",
       "OBRIGAÇÃO_FINAL_POR_SALA    0.0058  0.002000   2.668  0.008\n",
       "DIAS_FUNCIONAMENTO          0.0106  0.000000  30.029  0.000\n",
       "SALAS_COMPLEXO_INFERIDO     0.2434  0.020000  12.171  0.000\n",
       "ASSENTOS_COMPLEXO_INFERIDO  0.0004  0.000076   5.286  0.000"
      ]
     },
     "execution_count": 36,
     "metadata": {},
     "output_type": "execute_result"
    }
   ],
   "source": [
    "pd.read_html(reg_n8.summary().tables[1].as_html(),header=0,index_col=0)[0].iloc[-4:,:-2]"
   ]
  },
  {
   "cell_type": "code",
   "execution_count": 37,
   "metadata": {
    "ExecuteTime": {
     "end_time": "2021-07-16T02:49:03.230243Z",
     "start_time": "2021-07-16T02:49:02.633636Z"
    }
   },
   "outputs": [
    {
     "data": {
      "text/html": [
       "<div>\n",
       "<style scoped>\n",
       "    .dataframe tbody tr th:only-of-type {\n",
       "        vertical-align: middle;\n",
       "    }\n",
       "\n",
       "    .dataframe tbody tr th {\n",
       "        vertical-align: top;\n",
       "    }\n",
       "\n",
       "    .dataframe thead th {\n",
       "        text-align: right;\n",
       "    }\n",
       "</style>\n",
       "<table border=\"1\" class=\"dataframe\">\n",
       "  <thead>\n",
       "    <tr style=\"text-align: right;\">\n",
       "      <th></th>\n",
       "      <th>coef</th>\n",
       "      <th>std err</th>\n",
       "      <th>t</th>\n",
       "      <th>P&gt;|t|</th>\n",
       "    </tr>\n",
       "  </thead>\n",
       "  <tbody>\n",
       "    <tr>\n",
       "      <th>OBRIGAÇÃO_FINAL_POR_SALA</th>\n",
       "      <td>0.0159</td>\n",
       "      <td>0.002000</td>\n",
       "      <td>7.349</td>\n",
       "      <td>0.0</td>\n",
       "    </tr>\n",
       "    <tr>\n",
       "      <th>DIAS_FUNCIONAMENTO</th>\n",
       "      <td>0.0074</td>\n",
       "      <td>0.000000</td>\n",
       "      <td>20.889</td>\n",
       "      <td>0.0</td>\n",
       "    </tr>\n",
       "    <tr>\n",
       "      <th>SALAS_COMPLEXO_INFERIDO</th>\n",
       "      <td>0.2101</td>\n",
       "      <td>0.020000</td>\n",
       "      <td>10.578</td>\n",
       "      <td>0.0</td>\n",
       "    </tr>\n",
       "    <tr>\n",
       "      <th>ASSENTOS_COMPLEXO_INFERIDO</th>\n",
       "      <td>0.0004</td>\n",
       "      <td>0.000075</td>\n",
       "      <td>5.344</td>\n",
       "      <td>0.0</td>\n",
       "    </tr>\n",
       "  </tbody>\n",
       "</table>\n",
       "</div>"
      ],
      "text/plain": [
       "                              coef   std err       t  P>|t|\n",
       "OBRIGAÇÃO_FINAL_POR_SALA    0.0159  0.002000   7.349    0.0\n",
       "DIAS_FUNCIONAMENTO          0.0074  0.000000  20.889    0.0\n",
       "SALAS_COMPLEXO_INFERIDO     0.2101  0.020000  10.578    0.0\n",
       "ASSENTOS_COMPLEXO_INFERIDO  0.0004  0.000075   5.344    0.0"
      ]
     },
     "execution_count": 37,
     "metadata": {},
     "output_type": "execute_result"
    }
   ],
   "source": [
    "pd.read_html(reg_n9.summary().tables[1].as_html(),header=0,index_col=0)[0].iloc[-4:,:-2]"
   ]
  },
  {
   "cell_type": "markdown",
   "metadata": {},
   "source": [
    "### Dependent variable: different titles"
   ]
  },
  {
   "cell_type": "markdown",
   "metadata": {},
   "source": [
    "#### With entity fixed-effects"
   ]
  },
  {
   "cell_type": "markdown",
   "metadata": {},
   "source": [
    "##### 2017-2019"
   ]
  },
  {
   "cell_type": "code",
   "execution_count": 38,
   "metadata": {
    "ExecuteTime": {
     "end_time": "2021-07-16T02:49:07.666445Z",
     "start_time": "2021-07-16T02:49:05.879386Z"
    }
   },
   "outputs": [],
   "source": [
    "formul_1 = 'QTDE_DIF_TIT_EXIB ~ OBRIGAÇÃO_FINAL_POR_SALA + DIAS_FUNCIONAMENTO + C(REGISTRO_COMPLEXO) + C(ANO_CINEMATOGRAFICO)'\n",
    "formul_2 = 'QTDE_DIF_TIT_EXIB_EST ~ OBRIGAÇÃO_FINAL_POR_SALA + DIAS_FUNCIONAMENTO + C(REGISTRO_COMPLEXO) + C(ANO_CINEMATOGRAFICO)'\n",
    "formul_3 = 'QTDE_DIF_TIT_EXIB_BR ~ OBRIGAÇÃO_FINAL_POR_SALA + DIAS_FUNCIONAMENTO + C(REGISTRO_COMPLEXO) + C(ANO_CINEMATOGRAFICO)'\n",
    "\n",
    "data = [tds_1719]\n",
    "\n",
    "# all\n",
    "reg_nt1 = smf.ols(formula = formul_1, data=data[0]).fit()\n",
    "\n",
    "# foreign\n",
    "reg_nt2 = smf.ols(formula = formul_2, data=data[0]).fit()\n",
    "\n",
    "# Brazilian\n",
    "reg_nt3 = smf.ols(formula = formul_3, data=data[0]).fit()"
   ]
  },
  {
   "cell_type": "code",
   "execution_count": 39,
   "metadata": {
    "ExecuteTime": {
     "end_time": "2021-07-16T02:49:09.939867Z",
     "start_time": "2021-07-16T02:49:09.487545Z"
    }
   },
   "outputs": [
    {
     "data": {
      "text/html": [
       "<div>\n",
       "<style scoped>\n",
       "    .dataframe tbody tr th:only-of-type {\n",
       "        vertical-align: middle;\n",
       "    }\n",
       "\n",
       "    .dataframe tbody tr th {\n",
       "        vertical-align: top;\n",
       "    }\n",
       "\n",
       "    .dataframe thead th {\n",
       "        text-align: right;\n",
       "    }\n",
       "</style>\n",
       "<table border=\"1\" class=\"dataframe\">\n",
       "  <thead>\n",
       "    <tr style=\"text-align: right;\">\n",
       "      <th></th>\n",
       "      <th>coef</th>\n",
       "      <th>std err</th>\n",
       "      <th>t</th>\n",
       "      <th>P&gt;|t|</th>\n",
       "    </tr>\n",
       "  </thead>\n",
       "  <tbody>\n",
       "    <tr>\n",
       "      <th>OBRIGAÇÃO_FINAL_POR_SALA</th>\n",
       "      <td>0.0256</td>\n",
       "      <td>0.027</td>\n",
       "      <td>0.958</td>\n",
       "      <td>0.338</td>\n",
       "    </tr>\n",
       "    <tr>\n",
       "      <th>DIAS_FUNCIONAMENTO</th>\n",
       "      <td>0.2045</td>\n",
       "      <td>0.005</td>\n",
       "      <td>37.974</td>\n",
       "      <td>0.000</td>\n",
       "    </tr>\n",
       "  </tbody>\n",
       "</table>\n",
       "</div>"
      ],
      "text/plain": [
       "                            coef  std err       t  P>|t|\n",
       "OBRIGAÇÃO_FINAL_POR_SALA  0.0256    0.027   0.958  0.338\n",
       "DIAS_FUNCIONAMENTO        0.2045    0.005  37.974  0.000"
      ]
     },
     "execution_count": 39,
     "metadata": {},
     "output_type": "execute_result"
    }
   ],
   "source": [
    "pd.read_html(reg_nt1.summary().tables[1].as_html(),header=0,index_col=0)[0].iloc[-2:,:-2]"
   ]
  },
  {
   "cell_type": "code",
   "execution_count": 40,
   "metadata": {
    "ExecuteTime": {
     "end_time": "2021-07-16T02:49:10.355951Z",
     "start_time": "2021-07-16T02:49:09.941850Z"
    }
   },
   "outputs": [
    {
     "data": {
      "text/html": [
       "<div>\n",
       "<style scoped>\n",
       "    .dataframe tbody tr th:only-of-type {\n",
       "        vertical-align: middle;\n",
       "    }\n",
       "\n",
       "    .dataframe tbody tr th {\n",
       "        vertical-align: top;\n",
       "    }\n",
       "\n",
       "    .dataframe thead th {\n",
       "        text-align: right;\n",
       "    }\n",
       "</style>\n",
       "<table border=\"1\" class=\"dataframe\">\n",
       "  <thead>\n",
       "    <tr style=\"text-align: right;\">\n",
       "      <th></th>\n",
       "      <th>coef</th>\n",
       "      <th>std err</th>\n",
       "      <th>t</th>\n",
       "      <th>P&gt;|t|</th>\n",
       "    </tr>\n",
       "  </thead>\n",
       "  <tbody>\n",
       "    <tr>\n",
       "      <th>OBRIGAÇÃO_FINAL_POR_SALA</th>\n",
       "      <td>-0.0041</td>\n",
       "      <td>0.021</td>\n",
       "      <td>-0.191</td>\n",
       "      <td>0.849</td>\n",
       "    </tr>\n",
       "    <tr>\n",
       "      <th>DIAS_FUNCIONAMENTO</th>\n",
       "      <td>0.1694</td>\n",
       "      <td>0.004</td>\n",
       "      <td>39.194</td>\n",
       "      <td>0.000</td>\n",
       "    </tr>\n",
       "  </tbody>\n",
       "</table>\n",
       "</div>"
      ],
      "text/plain": [
       "                            coef  std err       t  P>|t|\n",
       "OBRIGAÇÃO_FINAL_POR_SALA -0.0041    0.021  -0.191  0.849\n",
       "DIAS_FUNCIONAMENTO        0.1694    0.004  39.194  0.000"
      ]
     },
     "execution_count": 40,
     "metadata": {},
     "output_type": "execute_result"
    }
   ],
   "source": [
    "pd.read_html(reg_nt2.summary().tables[1].as_html(),header=0,index_col=0)[0].iloc[-2:,:-2]"
   ]
  },
  {
   "cell_type": "code",
   "execution_count": 41,
   "metadata": {
    "ExecuteTime": {
     "end_time": "2021-07-16T02:49:10.764034Z",
     "start_time": "2021-07-16T02:49:10.358959Z"
    }
   },
   "outputs": [
    {
     "data": {
      "text/html": [
       "<div>\n",
       "<style scoped>\n",
       "    .dataframe tbody tr th:only-of-type {\n",
       "        vertical-align: middle;\n",
       "    }\n",
       "\n",
       "    .dataframe tbody tr th {\n",
       "        vertical-align: top;\n",
       "    }\n",
       "\n",
       "    .dataframe thead th {\n",
       "        text-align: right;\n",
       "    }\n",
       "</style>\n",
       "<table border=\"1\" class=\"dataframe\">\n",
       "  <thead>\n",
       "    <tr style=\"text-align: right;\">\n",
       "      <th></th>\n",
       "      <th>coef</th>\n",
       "      <th>std err</th>\n",
       "      <th>t</th>\n",
       "      <th>P&gt;|t|</th>\n",
       "    </tr>\n",
       "  </thead>\n",
       "  <tbody>\n",
       "    <tr>\n",
       "      <th>OBRIGAÇÃO_FINAL_POR_SALA</th>\n",
       "      <td>0.0297</td>\n",
       "      <td>0.012</td>\n",
       "      <td>2.551</td>\n",
       "      <td>0.011</td>\n",
       "    </tr>\n",
       "    <tr>\n",
       "      <th>DIAS_FUNCIONAMENTO</th>\n",
       "      <td>0.0350</td>\n",
       "      <td>0.002</td>\n",
       "      <td>14.951</td>\n",
       "      <td>0.000</td>\n",
       "    </tr>\n",
       "  </tbody>\n",
       "</table>\n",
       "</div>"
      ],
      "text/plain": [
       "                            coef  std err       t  P>|t|\n",
       "OBRIGAÇÃO_FINAL_POR_SALA  0.0297    0.012   2.551  0.011\n",
       "DIAS_FUNCIONAMENTO        0.0350    0.002  14.951  0.000"
      ]
     },
     "execution_count": 41,
     "metadata": {},
     "output_type": "execute_result"
    }
   ],
   "source": [
    "pd.read_html(reg_nt3.summary().tables[1].as_html(),header=0,index_col=0)[0].iloc[-2:,:-2]"
   ]
  },
  {
   "cell_type": "markdown",
   "metadata": {},
   "source": [
    "##### 2017-2018"
   ]
  },
  {
   "cell_type": "code",
   "execution_count": 43,
   "metadata": {
    "ExecuteTime": {
     "end_time": "2021-07-16T02:50:01.122525Z",
     "start_time": "2021-07-16T02:50:00.129182Z"
    }
   },
   "outputs": [],
   "source": [
    "data = [tds_1718]\n",
    "\n",
    "# all\n",
    "reg_nt4 = smf.ols(formula = formul_1, data=data[0]).fit()\n",
    "\n",
    "# foreign\n",
    "reg_nt5 = smf.ols(formula = formul_2, data=data[0]).fit()\n",
    "\n",
    "# Brazilian\n",
    "reg_nt6 = smf.ols(formula = formul_3, data=data[0]).fit()"
   ]
  },
  {
   "cell_type": "code",
   "execution_count": 44,
   "metadata": {
    "ExecuteTime": {
     "end_time": "2021-07-16T02:50:01.795010Z",
     "start_time": "2021-07-16T02:50:01.447388Z"
    }
   },
   "outputs": [
    {
     "data": {
      "text/html": [
       "<div>\n",
       "<style scoped>\n",
       "    .dataframe tbody tr th:only-of-type {\n",
       "        vertical-align: middle;\n",
       "    }\n",
       "\n",
       "    .dataframe tbody tr th {\n",
       "        vertical-align: top;\n",
       "    }\n",
       "\n",
       "    .dataframe thead th {\n",
       "        text-align: right;\n",
       "    }\n",
       "</style>\n",
       "<table border=\"1\" class=\"dataframe\">\n",
       "  <thead>\n",
       "    <tr style=\"text-align: right;\">\n",
       "      <th></th>\n",
       "      <th>coef</th>\n",
       "      <th>std err</th>\n",
       "      <th>t</th>\n",
       "      <th>P&gt;|t|</th>\n",
       "    </tr>\n",
       "  </thead>\n",
       "  <tbody>\n",
       "    <tr>\n",
       "      <th>OBRIGAÇÃO_FINAL_POR_SALA</th>\n",
       "      <td>0.1233</td>\n",
       "      <td>0.042</td>\n",
       "      <td>2.956</td>\n",
       "      <td>0.003</td>\n",
       "    </tr>\n",
       "    <tr>\n",
       "      <th>DIAS_FUNCIONAMENTO</th>\n",
       "      <td>0.1671</td>\n",
       "      <td>0.007</td>\n",
       "      <td>23.693</td>\n",
       "      <td>0.000</td>\n",
       "    </tr>\n",
       "  </tbody>\n",
       "</table>\n",
       "</div>"
      ],
      "text/plain": [
       "                            coef  std err       t  P>|t|\n",
       "OBRIGAÇÃO_FINAL_POR_SALA  0.1233    0.042   2.956  0.003\n",
       "DIAS_FUNCIONAMENTO        0.1671    0.007  23.693  0.000"
      ]
     },
     "execution_count": 44,
     "metadata": {},
     "output_type": "execute_result"
    }
   ],
   "source": [
    "pd.read_html(reg_nt4.summary().tables[1].as_html(),header=0,index_col=0)[0].iloc[-2:,:-2]"
   ]
  },
  {
   "cell_type": "code",
   "execution_count": 45,
   "metadata": {
    "ExecuteTime": {
     "end_time": "2021-07-16T02:50:03.743861Z",
     "start_time": "2021-07-16T02:50:03.336235Z"
    }
   },
   "outputs": [
    {
     "data": {
      "text/html": [
       "<div>\n",
       "<style scoped>\n",
       "    .dataframe tbody tr th:only-of-type {\n",
       "        vertical-align: middle;\n",
       "    }\n",
       "\n",
       "    .dataframe tbody tr th {\n",
       "        vertical-align: top;\n",
       "    }\n",
       "\n",
       "    .dataframe thead th {\n",
       "        text-align: right;\n",
       "    }\n",
       "</style>\n",
       "<table border=\"1\" class=\"dataframe\">\n",
       "  <thead>\n",
       "    <tr style=\"text-align: right;\">\n",
       "      <th></th>\n",
       "      <th>coef</th>\n",
       "      <th>std err</th>\n",
       "      <th>t</th>\n",
       "      <th>P&gt;|t|</th>\n",
       "    </tr>\n",
       "  </thead>\n",
       "  <tbody>\n",
       "    <tr>\n",
       "      <th>OBRIGAÇÃO_FINAL_POR_SALA</th>\n",
       "      <td>0.1503</td>\n",
       "      <td>0.034</td>\n",
       "      <td>4.419</td>\n",
       "      <td>0.0</td>\n",
       "    </tr>\n",
       "    <tr>\n",
       "      <th>DIAS_FUNCIONAMENTO</th>\n",
       "      <td>0.1350</td>\n",
       "      <td>0.006</td>\n",
       "      <td>23.462</td>\n",
       "      <td>0.0</td>\n",
       "    </tr>\n",
       "  </tbody>\n",
       "</table>\n",
       "</div>"
      ],
      "text/plain": [
       "                            coef  std err       t  P>|t|\n",
       "OBRIGAÇÃO_FINAL_POR_SALA  0.1503    0.034   4.419    0.0\n",
       "DIAS_FUNCIONAMENTO        0.1350    0.006  23.462    0.0"
      ]
     },
     "execution_count": 45,
     "metadata": {},
     "output_type": "execute_result"
    }
   ],
   "source": [
    "pd.read_html(reg_nt5.summary().tables[1].as_html(),header=0,index_col=0)[0].iloc[-2:,:-2]"
   ]
  },
  {
   "cell_type": "code",
   "execution_count": 46,
   "metadata": {
    "ExecuteTime": {
     "end_time": "2021-07-16T02:50:04.972477Z",
     "start_time": "2021-07-16T02:50:04.607244Z"
    }
   },
   "outputs": [
    {
     "data": {
      "text/html": [
       "<div>\n",
       "<style scoped>\n",
       "    .dataframe tbody tr th:only-of-type {\n",
       "        vertical-align: middle;\n",
       "    }\n",
       "\n",
       "    .dataframe tbody tr th {\n",
       "        vertical-align: top;\n",
       "    }\n",
       "\n",
       "    .dataframe thead th {\n",
       "        text-align: right;\n",
       "    }\n",
       "</style>\n",
       "<table border=\"1\" class=\"dataframe\">\n",
       "  <thead>\n",
       "    <tr style=\"text-align: right;\">\n",
       "      <th></th>\n",
       "      <th>coef</th>\n",
       "      <th>std err</th>\n",
       "      <th>t</th>\n",
       "      <th>P&gt;|t|</th>\n",
       "    </tr>\n",
       "  </thead>\n",
       "  <tbody>\n",
       "    <tr>\n",
       "      <th>OBRIGAÇÃO_FINAL_POR_SALA</th>\n",
       "      <td>-0.0271</td>\n",
       "      <td>0.021</td>\n",
       "      <td>-1.309</td>\n",
       "      <td>0.191</td>\n",
       "    </tr>\n",
       "    <tr>\n",
       "      <th>DIAS_FUNCIONAMENTO</th>\n",
       "      <td>0.0321</td>\n",
       "      <td>0.003</td>\n",
       "      <td>9.180</td>\n",
       "      <td>0.000</td>\n",
       "    </tr>\n",
       "  </tbody>\n",
       "</table>\n",
       "</div>"
      ],
      "text/plain": [
       "                            coef  std err      t  P>|t|\n",
       "OBRIGAÇÃO_FINAL_POR_SALA -0.0271    0.021 -1.309  0.191\n",
       "DIAS_FUNCIONAMENTO        0.0321    0.003  9.180  0.000"
      ]
     },
     "execution_count": 46,
     "metadata": {},
     "output_type": "execute_result"
    }
   ],
   "source": [
    "pd.read_html(reg_nt6.summary().tables[1].as_html(),header=0,index_col=0)[0].iloc[-2:,:-2]"
   ]
  },
  {
   "cell_type": "markdown",
   "metadata": {},
   "source": [
    "#### Without entity fixed-effects"
   ]
  },
  {
   "cell_type": "code",
   "execution_count": 47,
   "metadata": {
    "ExecuteTime": {
     "end_time": "2021-07-16T02:50:20.260364Z",
     "start_time": "2021-07-16T02:50:20.256332Z"
    }
   },
   "outputs": [],
   "source": [
    "var1 = 'QTDE_DIF_TIT_EXIB '\n",
    "var2 = 'QTDE_DIF_TIT_EXIB_EST '\n",
    "var3 = 'QTDE_DIF_TIT_EXIB_BR '\n",
    "\n",
    "suffix = '~ OBRIGAÇÃO_FINAL_POR_SALA + DIAS_FUNCIONAMENTO + SALAS_COMPLEXO_INFERIDO + ASSENTOS_COMPLEXO_INFERIDO + C(ANO_CINEMATOGRAFICO)*C(MUN_COMPLEXO)'\n",
    "\n",
    "f1 = var1 + suffix\n",
    "f2 = var2 + suffix\n",
    "f3 = var3 + suffix"
   ]
  },
  {
   "cell_type": "markdown",
   "metadata": {},
   "source": [
    "##### 2017-2019"
   ]
  },
  {
   "cell_type": "code",
   "execution_count": 48,
   "metadata": {
    "ExecuteTime": {
     "end_time": "2021-07-16T02:50:32.599587Z",
     "start_time": "2021-07-16T02:50:27.870197Z"
    }
   },
   "outputs": [],
   "source": [
    "data = [tds_1719]\n",
    "\n",
    "# all\n",
    "reg_nt7 = smf.ols(formula = f1, data=data[0]).fit()\n",
    "\n",
    "# foreign\n",
    "reg_nt8 = smf.ols(formula = f2, data=data[0]).fit()\n",
    "\n",
    "# Brazilian\n",
    "reg_nt9 = smf.ols(formula = f3, data=data[0]).fit()"
   ]
  },
  {
   "cell_type": "code",
   "execution_count": 49,
   "metadata": {
    "ExecuteTime": {
     "end_time": "2021-07-16T02:50:33.182456Z",
     "start_time": "2021-07-16T02:50:32.599587Z"
    },
    "scrolled": true
   },
   "outputs": [
    {
     "data": {
      "text/html": [
       "<div>\n",
       "<style scoped>\n",
       "    .dataframe tbody tr th:only-of-type {\n",
       "        vertical-align: middle;\n",
       "    }\n",
       "\n",
       "    .dataframe tbody tr th {\n",
       "        vertical-align: top;\n",
       "    }\n",
       "\n",
       "    .dataframe thead th {\n",
       "        text-align: right;\n",
       "    }\n",
       "</style>\n",
       "<table border=\"1\" class=\"dataframe\">\n",
       "  <thead>\n",
       "    <tr style=\"text-align: right;\">\n",
       "      <th></th>\n",
       "      <th>coef</th>\n",
       "      <th>std err</th>\n",
       "      <th>t</th>\n",
       "      <th>P&gt;|t|</th>\n",
       "    </tr>\n",
       "  </thead>\n",
       "  <tbody>\n",
       "    <tr>\n",
       "      <th>OBRIGAÇÃO_FINAL_POR_SALA</th>\n",
       "      <td>-0.0052</td>\n",
       "      <td>0.081</td>\n",
       "      <td>-0.064</td>\n",
       "      <td>0.949</td>\n",
       "    </tr>\n",
       "    <tr>\n",
       "      <th>DIAS_FUNCIONAMENTO</th>\n",
       "      <td>0.2201</td>\n",
       "      <td>0.013</td>\n",
       "      <td>16.906</td>\n",
       "      <td>0.000</td>\n",
       "    </tr>\n",
       "    <tr>\n",
       "      <th>SALAS_COMPLEXO_INFERIDO</th>\n",
       "      <td>14.8738</td>\n",
       "      <td>0.747</td>\n",
       "      <td>19.914</td>\n",
       "      <td>0.000</td>\n",
       "    </tr>\n",
       "    <tr>\n",
       "      <th>ASSENTOS_COMPLEXO_INFERIDO</th>\n",
       "      <td>-0.0202</td>\n",
       "      <td>0.003</td>\n",
       "      <td>-7.110</td>\n",
       "      <td>0.000</td>\n",
       "    </tr>\n",
       "  </tbody>\n",
       "</table>\n",
       "</div>"
      ],
      "text/plain": [
       "                               coef  std err       t  P>|t|\n",
       "OBRIGAÇÃO_FINAL_POR_SALA    -0.0052    0.081  -0.064  0.949\n",
       "DIAS_FUNCIONAMENTO           0.2201    0.013  16.906  0.000\n",
       "SALAS_COMPLEXO_INFERIDO     14.8738    0.747  19.914  0.000\n",
       "ASSENTOS_COMPLEXO_INFERIDO  -0.0202    0.003  -7.110  0.000"
      ]
     },
     "execution_count": 49,
     "metadata": {},
     "output_type": "execute_result"
    }
   ],
   "source": [
    "pd.read_html(reg_nt7.summary().tables[1].as_html(),header=0,index_col=0)[0].iloc[-4:,:-2]"
   ]
  },
  {
   "cell_type": "code",
   "execution_count": 50,
   "metadata": {
    "ExecuteTime": {
     "end_time": "2021-07-16T02:50:33.809330Z",
     "start_time": "2021-07-16T02:50:33.185463Z"
    }
   },
   "outputs": [
    {
     "data": {
      "text/html": [
       "<div>\n",
       "<style scoped>\n",
       "    .dataframe tbody tr th:only-of-type {\n",
       "        vertical-align: middle;\n",
       "    }\n",
       "\n",
       "    .dataframe tbody tr th {\n",
       "        vertical-align: top;\n",
       "    }\n",
       "\n",
       "    .dataframe thead th {\n",
       "        text-align: right;\n",
       "    }\n",
       "</style>\n",
       "<table border=\"1\" class=\"dataframe\">\n",
       "  <thead>\n",
       "    <tr style=\"text-align: right;\">\n",
       "      <th></th>\n",
       "      <th>coef</th>\n",
       "      <th>std err</th>\n",
       "      <th>t</th>\n",
       "      <th>P&gt;|t|</th>\n",
       "    </tr>\n",
       "  </thead>\n",
       "  <tbody>\n",
       "    <tr>\n",
       "      <th>OBRIGAÇÃO_FINAL_POR_SALA</th>\n",
       "      <td>-0.0399</td>\n",
       "      <td>0.056</td>\n",
       "      <td>-0.715</td>\n",
       "      <td>0.475</td>\n",
       "    </tr>\n",
       "    <tr>\n",
       "      <th>DIAS_FUNCIONAMENTO</th>\n",
       "      <td>0.1922</td>\n",
       "      <td>0.009</td>\n",
       "      <td>21.439</td>\n",
       "      <td>0.000</td>\n",
       "    </tr>\n",
       "    <tr>\n",
       "      <th>SALAS_COMPLEXO_INFERIDO</th>\n",
       "      <td>11.5152</td>\n",
       "      <td>0.514</td>\n",
       "      <td>22.400</td>\n",
       "      <td>0.000</td>\n",
       "    </tr>\n",
       "    <tr>\n",
       "      <th>ASSENTOS_COMPLEXO_INFERIDO</th>\n",
       "      <td>-0.0147</td>\n",
       "      <td>0.002</td>\n",
       "      <td>-7.535</td>\n",
       "      <td>0.000</td>\n",
       "    </tr>\n",
       "  </tbody>\n",
       "</table>\n",
       "</div>"
      ],
      "text/plain": [
       "                               coef  std err       t  P>|t|\n",
       "OBRIGAÇÃO_FINAL_POR_SALA    -0.0399    0.056  -0.715  0.475\n",
       "DIAS_FUNCIONAMENTO           0.1922    0.009  21.439  0.000\n",
       "SALAS_COMPLEXO_INFERIDO     11.5152    0.514  22.400  0.000\n",
       "ASSENTOS_COMPLEXO_INFERIDO  -0.0147    0.002  -7.535  0.000"
      ]
     },
     "execution_count": 50,
     "metadata": {},
     "output_type": "execute_result"
    }
   ],
   "source": [
    "pd.read_html(reg_nt8.summary().tables[1].as_html(),header=0,index_col=0)[0].iloc[-4:,:-2]"
   ]
  },
  {
   "cell_type": "code",
   "execution_count": 51,
   "metadata": {
    "ExecuteTime": {
     "end_time": "2021-07-16T02:50:34.397705Z",
     "start_time": "2021-07-16T02:50:33.811336Z"
    }
   },
   "outputs": [
    {
     "data": {
      "text/html": [
       "<div>\n",
       "<style scoped>\n",
       "    .dataframe tbody tr th:only-of-type {\n",
       "        vertical-align: middle;\n",
       "    }\n",
       "\n",
       "    .dataframe tbody tr th {\n",
       "        vertical-align: top;\n",
       "    }\n",
       "\n",
       "    .dataframe thead th {\n",
       "        text-align: right;\n",
       "    }\n",
       "</style>\n",
       "<table border=\"1\" class=\"dataframe\">\n",
       "  <thead>\n",
       "    <tr style=\"text-align: right;\">\n",
       "      <th></th>\n",
       "      <th>coef</th>\n",
       "      <th>std err</th>\n",
       "      <th>t</th>\n",
       "      <th>P&gt;|t|</th>\n",
       "    </tr>\n",
       "  </thead>\n",
       "  <tbody>\n",
       "    <tr>\n",
       "      <th>OBRIGAÇÃO_FINAL_POR_SALA</th>\n",
       "      <td>0.0348</td>\n",
       "      <td>0.034</td>\n",
       "      <td>1.017</td>\n",
       "      <td>0.309</td>\n",
       "    </tr>\n",
       "    <tr>\n",
       "      <th>DIAS_FUNCIONAMENTO</th>\n",
       "      <td>0.0280</td>\n",
       "      <td>0.005</td>\n",
       "      <td>5.100</td>\n",
       "      <td>0.000</td>\n",
       "    </tr>\n",
       "    <tr>\n",
       "      <th>SALAS_COMPLEXO_INFERIDO</th>\n",
       "      <td>3.3586</td>\n",
       "      <td>0.315</td>\n",
       "      <td>10.670</td>\n",
       "      <td>0.000</td>\n",
       "    </tr>\n",
       "    <tr>\n",
       "      <th>ASSENTOS_COMPLEXO_INFERIDO</th>\n",
       "      <td>-0.0055</td>\n",
       "      <td>0.001</td>\n",
       "      <td>-4.565</td>\n",
       "      <td>0.000</td>\n",
       "    </tr>\n",
       "  </tbody>\n",
       "</table>\n",
       "</div>"
      ],
      "text/plain": [
       "                              coef  std err       t  P>|t|\n",
       "OBRIGAÇÃO_FINAL_POR_SALA    0.0348    0.034   1.017  0.309\n",
       "DIAS_FUNCIONAMENTO          0.0280    0.005   5.100  0.000\n",
       "SALAS_COMPLEXO_INFERIDO     3.3586    0.315  10.670  0.000\n",
       "ASSENTOS_COMPLEXO_INFERIDO -0.0055    0.001  -4.565  0.000"
      ]
     },
     "execution_count": 51,
     "metadata": {},
     "output_type": "execute_result"
    }
   ],
   "source": [
    "pd.read_html(reg_nt9.summary().tables[1].as_html(),header=0,index_col=0)[0].iloc[-4:,:-2]"
   ]
  },
  {
   "cell_type": "markdown",
   "metadata": {},
   "source": [
    "##### 2017-2018"
   ]
  },
  {
   "cell_type": "code",
   "execution_count": 52,
   "metadata": {
    "ExecuteTime": {
     "end_time": "2021-07-16T02:50:40.687134Z",
     "start_time": "2021-07-16T02:50:39.295447Z"
    }
   },
   "outputs": [],
   "source": [
    "data = [tds_1718]\n",
    "\n",
    "# all\n",
    "reg_nt10 = smf.ols(formula = f1, data=data[0]).fit()\n",
    "\n",
    "# foreign\n",
    "reg_nt11 = smf.ols(formula = f2, data=data[0]).fit()\n",
    "\n",
    "# Brazilian\n",
    "reg_nt12 = smf.ols(formula = f3, data=data[0]).fit()"
   ]
  },
  {
   "cell_type": "code",
   "execution_count": 53,
   "metadata": {
    "ExecuteTime": {
     "end_time": "2021-07-16T02:50:41.080226Z",
     "start_time": "2021-07-16T02:50:40.687134Z"
    }
   },
   "outputs": [
    {
     "data": {
      "text/html": [
       "<div>\n",
       "<style scoped>\n",
       "    .dataframe tbody tr th:only-of-type {\n",
       "        vertical-align: middle;\n",
       "    }\n",
       "\n",
       "    .dataframe tbody tr th {\n",
       "        vertical-align: top;\n",
       "    }\n",
       "\n",
       "    .dataframe thead th {\n",
       "        text-align: right;\n",
       "    }\n",
       "</style>\n",
       "<table border=\"1\" class=\"dataframe\">\n",
       "  <thead>\n",
       "    <tr style=\"text-align: right;\">\n",
       "      <th></th>\n",
       "      <th>coef</th>\n",
       "      <th>std err</th>\n",
       "      <th>t</th>\n",
       "      <th>P&gt;|t|</th>\n",
       "    </tr>\n",
       "  </thead>\n",
       "  <tbody>\n",
       "    <tr>\n",
       "      <th>OBRIGAÇÃO_FINAL_POR_SALA</th>\n",
       "      <td>0.0302</td>\n",
       "      <td>0.096</td>\n",
       "      <td>0.316</td>\n",
       "      <td>0.752</td>\n",
       "    </tr>\n",
       "    <tr>\n",
       "      <th>DIAS_FUNCIONAMENTO</th>\n",
       "      <td>0.2013</td>\n",
       "      <td>0.020</td>\n",
       "      <td>10.012</td>\n",
       "      <td>0.000</td>\n",
       "    </tr>\n",
       "    <tr>\n",
       "      <th>SALAS_COMPLEXO_INFERIDO</th>\n",
       "      <td>15.6463</td>\n",
       "      <td>0.947</td>\n",
       "      <td>16.529</td>\n",
       "      <td>0.000</td>\n",
       "    </tr>\n",
       "    <tr>\n",
       "      <th>ASSENTOS_COMPLEXO_INFERIDO</th>\n",
       "      <td>-0.0226</td>\n",
       "      <td>0.004</td>\n",
       "      <td>-6.373</td>\n",
       "      <td>0.000</td>\n",
       "    </tr>\n",
       "  </tbody>\n",
       "</table>\n",
       "</div>"
      ],
      "text/plain": [
       "                               coef  std err       t  P>|t|\n",
       "OBRIGAÇÃO_FINAL_POR_SALA     0.0302    0.096   0.316  0.752\n",
       "DIAS_FUNCIONAMENTO           0.2013    0.020  10.012  0.000\n",
       "SALAS_COMPLEXO_INFERIDO     15.6463    0.947  16.529  0.000\n",
       "ASSENTOS_COMPLEXO_INFERIDO  -0.0226    0.004  -6.373  0.000"
      ]
     },
     "execution_count": 53,
     "metadata": {},
     "output_type": "execute_result"
    }
   ],
   "source": [
    "pd.read_html(reg_nt10.summary().tables[1].as_html(),header=0,index_col=0)[0].iloc[-4:,:-2]"
   ]
  },
  {
   "cell_type": "code",
   "execution_count": 54,
   "metadata": {
    "ExecuteTime": {
     "end_time": "2021-07-16T02:50:41.521402Z",
     "start_time": "2021-07-16T02:50:41.083233Z"
    }
   },
   "outputs": [
    {
     "data": {
      "text/html": [
       "<div>\n",
       "<style scoped>\n",
       "    .dataframe tbody tr th:only-of-type {\n",
       "        vertical-align: middle;\n",
       "    }\n",
       "\n",
       "    .dataframe tbody tr th {\n",
       "        vertical-align: top;\n",
       "    }\n",
       "\n",
       "    .dataframe thead th {\n",
       "        text-align: right;\n",
       "    }\n",
       "</style>\n",
       "<table border=\"1\" class=\"dataframe\">\n",
       "  <thead>\n",
       "    <tr style=\"text-align: right;\">\n",
       "      <th></th>\n",
       "      <th>coef</th>\n",
       "      <th>std err</th>\n",
       "      <th>t</th>\n",
       "      <th>P&gt;|t|</th>\n",
       "    </tr>\n",
       "  </thead>\n",
       "  <tbody>\n",
       "    <tr>\n",
       "      <th>OBRIGAÇÃO_FINAL_POR_SALA</th>\n",
       "      <td>-0.0242</td>\n",
       "      <td>0.066</td>\n",
       "      <td>-0.364</td>\n",
       "      <td>0.716</td>\n",
       "    </tr>\n",
       "    <tr>\n",
       "      <th>DIAS_FUNCIONAMENTO</th>\n",
       "      <td>0.1834</td>\n",
       "      <td>0.014</td>\n",
       "      <td>13.151</td>\n",
       "      <td>0.000</td>\n",
       "    </tr>\n",
       "    <tr>\n",
       "      <th>SALAS_COMPLEXO_INFERIDO</th>\n",
       "      <td>11.7658</td>\n",
       "      <td>0.656</td>\n",
       "      <td>17.926</td>\n",
       "      <td>0.000</td>\n",
       "    </tr>\n",
       "    <tr>\n",
       "      <th>ASSENTOS_COMPLEXO_INFERIDO</th>\n",
       "      <td>-0.0153</td>\n",
       "      <td>0.002</td>\n",
       "      <td>-6.242</td>\n",
       "      <td>0.000</td>\n",
       "    </tr>\n",
       "  </tbody>\n",
       "</table>\n",
       "</div>"
      ],
      "text/plain": [
       "                               coef  std err       t  P>|t|\n",
       "OBRIGAÇÃO_FINAL_POR_SALA    -0.0242    0.066  -0.364  0.716\n",
       "DIAS_FUNCIONAMENTO           0.1834    0.014  13.151  0.000\n",
       "SALAS_COMPLEXO_INFERIDO     11.7658    0.656  17.926  0.000\n",
       "ASSENTOS_COMPLEXO_INFERIDO  -0.0153    0.002  -6.242  0.000"
      ]
     },
     "execution_count": 54,
     "metadata": {},
     "output_type": "execute_result"
    }
   ],
   "source": [
    "pd.read_html(reg_nt11.summary().tables[1].as_html(),header=0,index_col=0)[0].iloc[-4:,:-2]"
   ]
  },
  {
   "cell_type": "code",
   "execution_count": 55,
   "metadata": {
    "ExecuteTime": {
     "end_time": "2021-07-16T02:50:41.908439Z",
     "start_time": "2021-07-16T02:50:41.523403Z"
    }
   },
   "outputs": [
    {
     "data": {
      "text/html": [
       "<div>\n",
       "<style scoped>\n",
       "    .dataframe tbody tr th:only-of-type {\n",
       "        vertical-align: middle;\n",
       "    }\n",
       "\n",
       "    .dataframe tbody tr th {\n",
       "        vertical-align: top;\n",
       "    }\n",
       "\n",
       "    .dataframe thead th {\n",
       "        text-align: right;\n",
       "    }\n",
       "</style>\n",
       "<table border=\"1\" class=\"dataframe\">\n",
       "  <thead>\n",
       "    <tr style=\"text-align: right;\">\n",
       "      <th></th>\n",
       "      <th>coef</th>\n",
       "      <th>std err</th>\n",
       "      <th>t</th>\n",
       "      <th>P&gt;|t|</th>\n",
       "    </tr>\n",
       "  </thead>\n",
       "  <tbody>\n",
       "    <tr>\n",
       "      <th>OBRIGAÇÃO_FINAL_POR_SALA</th>\n",
       "      <td>0.0544</td>\n",
       "      <td>0.040</td>\n",
       "      <td>1.372</td>\n",
       "      <td>0.170</td>\n",
       "    </tr>\n",
       "    <tr>\n",
       "      <th>DIAS_FUNCIONAMENTO</th>\n",
       "      <td>0.0180</td>\n",
       "      <td>0.008</td>\n",
       "      <td>2.158</td>\n",
       "      <td>0.031</td>\n",
       "    </tr>\n",
       "    <tr>\n",
       "      <th>SALAS_COMPLEXO_INFERIDO</th>\n",
       "      <td>3.8804</td>\n",
       "      <td>0.392</td>\n",
       "      <td>9.905</td>\n",
       "      <td>0.000</td>\n",
       "    </tr>\n",
       "    <tr>\n",
       "      <th>ASSENTOS_COMPLEXO_INFERIDO</th>\n",
       "      <td>-0.0072</td>\n",
       "      <td>0.001</td>\n",
       "      <td>-4.940</td>\n",
       "      <td>0.000</td>\n",
       "    </tr>\n",
       "  </tbody>\n",
       "</table>\n",
       "</div>"
      ],
      "text/plain": [
       "                              coef  std err      t  P>|t|\n",
       "OBRIGAÇÃO_FINAL_POR_SALA    0.0544    0.040  1.372  0.170\n",
       "DIAS_FUNCIONAMENTO          0.0180    0.008  2.158  0.031\n",
       "SALAS_COMPLEXO_INFERIDO     3.8804    0.392  9.905  0.000\n",
       "ASSENTOS_COMPLEXO_INFERIDO -0.0072    0.001 -4.940  0.000"
      ]
     },
     "execution_count": 55,
     "metadata": {},
     "output_type": "execute_result"
    }
   ],
   "source": [
    "pd.read_html(reg_nt12.summary().tables[1].as_html(),header=0,index_col=0)[0].iloc[-4:,:-2]"
   ]
  },
  {
   "cell_type": "markdown",
   "metadata": {},
   "source": [
    "## Weighted regressions"
   ]
  },
  {
   "cell_type": "markdown",
   "metadata": {},
   "source": [
    "Define multiplex $i$ in year $t$ and title \"nationality\" (meaning all, foreign or Brazilian movie sessions), futher define nominal screen quota obligation $SQ$ and compliance level (quota fulfilled / quota due) as $C_{it}$:\n",
    "\n",
    "$$ \\ln(Y_{nit}) = \\beta_0 + \\beta_1 SQ_{it} + \\beta_2 C_{it} + \\beta_3 SQ_{it} * f(C_{it}) + \\theta X_{it} + \\varepsilon_{it} $$\n",
    "\n",
    "$Y$ is the interest variable that can be either Yearly Income or total public (# of moviegoers). $X_{it}$ is a vector of controls with opening days, movie theater fixed-effects and year fixed-effects. $f(.)$ is the chosen weighting function (kernel). Alternatively, we also drop entity fixed-effects and use number of viewing rooms and seats per movie-theater as controls."
   ]
  },
  {
   "cell_type": "markdown",
   "metadata": {},
   "source": [
    "### Dependent variable: income"
   ]
  },
  {
   "cell_type": "markdown",
   "metadata": {},
   "source": [
    "#### With entity fixed-effects"
   ]
  },
  {
   "cell_type": "markdown",
   "metadata": {},
   "source": [
    "##### 2017-2019"
   ]
  },
  {
   "cell_type": "markdown",
   "metadata": {},
   "source": [
    "###### Quadratic kernel"
   ]
  },
  {
   "cell_type": "code",
   "execution_count": 82,
   "metadata": {
    "ExecuteTime": {
     "end_time": "2021-07-16T03:14:02.909210Z",
     "start_time": "2021-07-16T03:14:01.129161Z"
    }
   },
   "outputs": [],
   "source": [
    "formul = 'np.log(RENDA) ~ CUMP_QUADRATIC*OBRIGAÇÃO_FINAL_POR_SALA + DIAS_FUNCIONAMENTO + C(REGISTRO_COMPLEXO) + C(ANO_CINEMATOGRAFICO)'\n",
    "data = [tds_1719, est_1719, bras_1719]\n",
    "\n",
    "# all\n",
    "reg_w1 = smf.ols(formula = formul, data=data[0]).fit()\n",
    "\n",
    "# foreign\n",
    "reg_w2 = smf.ols(formula = formul, data=data[1]).fit()\n",
    "\n",
    "# Brazilian\n",
    "reg_w3 = smf.ols(formula = formul, data=data[2]).fit()"
   ]
  },
  {
   "cell_type": "code",
   "execution_count": 83,
   "metadata": {
    "ExecuteTime": {
     "end_time": "2021-07-16T03:14:04.491070Z",
     "start_time": "2021-07-16T03:14:04.092381Z"
    }
   },
   "outputs": [
    {
     "data": {
      "text/html": [
       "<div>\n",
       "<style scoped>\n",
       "    .dataframe tbody tr th:only-of-type {\n",
       "        vertical-align: middle;\n",
       "    }\n",
       "\n",
       "    .dataframe tbody tr th {\n",
       "        vertical-align: top;\n",
       "    }\n",
       "\n",
       "    .dataframe thead th {\n",
       "        text-align: right;\n",
       "    }\n",
       "</style>\n",
       "<table border=\"1\" class=\"dataframe\">\n",
       "  <thead>\n",
       "    <tr style=\"text-align: right;\">\n",
       "      <th></th>\n",
       "      <th>coef</th>\n",
       "      <th>std err</th>\n",
       "      <th>t</th>\n",
       "      <th>P&gt;|t|</th>\n",
       "    </tr>\n",
       "  </thead>\n",
       "  <tbody>\n",
       "    <tr>\n",
       "      <th>CUMP_QUADRATIC</th>\n",
       "      <td>0.6236</td>\n",
       "      <td>0.082</td>\n",
       "      <td>7.559</td>\n",
       "      <td>0.0</td>\n",
       "    </tr>\n",
       "    <tr>\n",
       "      <th>OBRIGAÇÃO_FINAL_POR_SALA</th>\n",
       "      <td>0.0091</td>\n",
       "      <td>0.002</td>\n",
       "      <td>4.857</td>\n",
       "      <td>0.0</td>\n",
       "    </tr>\n",
       "    <tr>\n",
       "      <th>CUMP_QUADRATIC:OBRIGAÇÃO_FINAL_POR_SALA</th>\n",
       "      <td>-0.0126</td>\n",
       "      <td>0.002</td>\n",
       "      <td>-5.839</td>\n",
       "      <td>0.0</td>\n",
       "    </tr>\n",
       "    <tr>\n",
       "      <th>DIAS_FUNCIONAMENTO</th>\n",
       "      <td>0.0064</td>\n",
       "      <td>0.000</td>\n",
       "      <td>44.765</td>\n",
       "      <td>0.0</td>\n",
       "    </tr>\n",
       "  </tbody>\n",
       "</table>\n",
       "</div>"
      ],
      "text/plain": [
       "                                           coef  std err       t  P>|t|\n",
       "CUMP_QUADRATIC                           0.6236    0.082   7.559    0.0\n",
       "OBRIGAÇÃO_FINAL_POR_SALA                 0.0091    0.002   4.857    0.0\n",
       "CUMP_QUADRATIC:OBRIGAÇÃO_FINAL_POR_SALA -0.0126    0.002  -5.839    0.0\n",
       "DIAS_FUNCIONAMENTO                       0.0064    0.000  44.765    0.0"
      ]
     },
     "execution_count": 83,
     "metadata": {},
     "output_type": "execute_result"
    }
   ],
   "source": [
    "pd.read_html(reg_w1.summary().tables[1].as_html(),header=0,index_col=0)[0].iloc[-4:,:-2]"
   ]
  },
  {
   "cell_type": "code",
   "execution_count": 84,
   "metadata": {
    "ExecuteTime": {
     "end_time": "2021-07-16T03:14:04.959688Z",
     "start_time": "2021-07-16T03:14:04.493074Z"
    }
   },
   "outputs": [
    {
     "data": {
      "text/html": [
       "<div>\n",
       "<style scoped>\n",
       "    .dataframe tbody tr th:only-of-type {\n",
       "        vertical-align: middle;\n",
       "    }\n",
       "\n",
       "    .dataframe tbody tr th {\n",
       "        vertical-align: top;\n",
       "    }\n",
       "\n",
       "    .dataframe thead th {\n",
       "        text-align: right;\n",
       "    }\n",
       "</style>\n",
       "<table border=\"1\" class=\"dataframe\">\n",
       "  <thead>\n",
       "    <tr style=\"text-align: right;\">\n",
       "      <th></th>\n",
       "      <th>coef</th>\n",
       "      <th>std err</th>\n",
       "      <th>t</th>\n",
       "      <th>P&gt;|t|</th>\n",
       "    </tr>\n",
       "  </thead>\n",
       "  <tbody>\n",
       "    <tr>\n",
       "      <th>CUMP_QUADRATIC</th>\n",
       "      <td>0.6011</td>\n",
       "      <td>0.090</td>\n",
       "      <td>6.696</td>\n",
       "      <td>0.0</td>\n",
       "    </tr>\n",
       "    <tr>\n",
       "      <th>OBRIGAÇÃO_FINAL_POR_SALA</th>\n",
       "      <td>0.0102</td>\n",
       "      <td>0.002</td>\n",
       "      <td>5.039</td>\n",
       "      <td>0.0</td>\n",
       "    </tr>\n",
       "    <tr>\n",
       "      <th>CUMP_QUADRATIC:OBRIGAÇÃO_FINAL_POR_SALA</th>\n",
       "      <td>-0.0134</td>\n",
       "      <td>0.002</td>\n",
       "      <td>-5.781</td>\n",
       "      <td>0.0</td>\n",
       "    </tr>\n",
       "    <tr>\n",
       "      <th>DIAS_FUNCIONAMENTO</th>\n",
       "      <td>0.0064</td>\n",
       "      <td>0.000</td>\n",
       "      <td>42.514</td>\n",
       "      <td>0.0</td>\n",
       "    </tr>\n",
       "  </tbody>\n",
       "</table>\n",
       "</div>"
      ],
      "text/plain": [
       "                                           coef  std err       t  P>|t|\n",
       "CUMP_QUADRATIC                           0.6011    0.090   6.696    0.0\n",
       "OBRIGAÇÃO_FINAL_POR_SALA                 0.0102    0.002   5.039    0.0\n",
       "CUMP_QUADRATIC:OBRIGAÇÃO_FINAL_POR_SALA -0.0134    0.002  -5.781    0.0\n",
       "DIAS_FUNCIONAMENTO                       0.0064    0.000  42.514    0.0"
      ]
     },
     "execution_count": 84,
     "metadata": {},
     "output_type": "execute_result"
    }
   ],
   "source": [
    "pd.read_html(reg_w2.summary().tables[1].as_html(),header=0,index_col=0)[0].iloc[-4:,:-2]"
   ]
  },
  {
   "cell_type": "code",
   "execution_count": 85,
   "metadata": {
    "ExecuteTime": {
     "end_time": "2021-07-16T03:14:05.376957Z",
     "start_time": "2021-07-16T03:14:04.961670Z"
    }
   },
   "outputs": [
    {
     "data": {
      "text/html": [
       "<div>\n",
       "<style scoped>\n",
       "    .dataframe tbody tr th:only-of-type {\n",
       "        vertical-align: middle;\n",
       "    }\n",
       "\n",
       "    .dataframe tbody tr th {\n",
       "        vertical-align: top;\n",
       "    }\n",
       "\n",
       "    .dataframe thead th {\n",
       "        text-align: right;\n",
       "    }\n",
       "</style>\n",
       "<table border=\"1\" class=\"dataframe\">\n",
       "  <thead>\n",
       "    <tr style=\"text-align: right;\">\n",
       "      <th></th>\n",
       "      <th>coef</th>\n",
       "      <th>std err</th>\n",
       "      <th>t</th>\n",
       "      <th>P&gt;|t|</th>\n",
       "    </tr>\n",
       "  </thead>\n",
       "  <tbody>\n",
       "    <tr>\n",
       "      <th>CUMP_QUADRATIC</th>\n",
       "      <td>0.1596</td>\n",
       "      <td>0.190</td>\n",
       "      <td>0.841</td>\n",
       "      <td>0.401</td>\n",
       "    </tr>\n",
       "    <tr>\n",
       "      <th>OBRIGAÇÃO_FINAL_POR_SALA</th>\n",
       "      <td>-0.0142</td>\n",
       "      <td>0.004</td>\n",
       "      <td>-3.476</td>\n",
       "      <td>0.001</td>\n",
       "    </tr>\n",
       "    <tr>\n",
       "      <th>CUMP_QUADRATIC:OBRIGAÇÃO_FINAL_POR_SALA</th>\n",
       "      <td>0.0153</td>\n",
       "      <td>0.005</td>\n",
       "      <td>3.211</td>\n",
       "      <td>0.001</td>\n",
       "    </tr>\n",
       "    <tr>\n",
       "      <th>DIAS_FUNCIONAMENTO</th>\n",
       "      <td>0.0056</td>\n",
       "      <td>0.000</td>\n",
       "      <td>18.301</td>\n",
       "      <td>0.000</td>\n",
       "    </tr>\n",
       "  </tbody>\n",
       "</table>\n",
       "</div>"
      ],
      "text/plain": [
       "                                           coef  std err       t  P>|t|\n",
       "CUMP_QUADRATIC                           0.1596    0.190   0.841  0.401\n",
       "OBRIGAÇÃO_FINAL_POR_SALA                -0.0142    0.004  -3.476  0.001\n",
       "CUMP_QUADRATIC:OBRIGAÇÃO_FINAL_POR_SALA  0.0153    0.005   3.211  0.001\n",
       "DIAS_FUNCIONAMENTO                       0.0056    0.000  18.301  0.000"
      ]
     },
     "execution_count": 85,
     "metadata": {},
     "output_type": "execute_result"
    }
   ],
   "source": [
    "pd.read_html(reg_w3.summary().tables[1].as_html(),header=0,index_col=0)[0].iloc[-4:,:-2]"
   ]
  },
  {
   "cell_type": "markdown",
   "metadata": {},
   "source": [
    "###### Normal pdf kernel"
   ]
  },
  {
   "cell_type": "code",
   "execution_count": 86,
   "metadata": {
    "ExecuteTime": {
     "end_time": "2021-07-16T03:14:31.288187Z",
     "start_time": "2021-07-16T03:14:29.355347Z"
    }
   },
   "outputs": [],
   "source": [
    "formul = 'np.log(RENDA) ~ CUMP_NORMALIZADO*OBRIGAÇÃO_FINAL_POR_SALA + DIAS_FUNCIONAMENTO + C(REGISTRO_COMPLEXO) + C(ANO_CINEMATOGRAFICO)'\n",
    "data = [tds_1719, est_1719, bras_1719]\n",
    "\n",
    "# all\n",
    "reg_w4 = smf.ols(formula = formul, data=data[0]).fit()\n",
    "\n",
    "# foreign\n",
    "reg_w5 = smf.ols(formula = formul, data=data[1]).fit()\n",
    "\n",
    "# Brazilian\n",
    "reg_w6 = smf.ols(formula = formul, data=data[2]).fit()"
   ]
  },
  {
   "cell_type": "code",
   "execution_count": 87,
   "metadata": {
    "ExecuteTime": {
     "end_time": "2021-07-16T03:14:31.723344Z",
     "start_time": "2021-07-16T03:14:31.290192Z"
    }
   },
   "outputs": [
    {
     "data": {
      "text/html": [
       "<div>\n",
       "<style scoped>\n",
       "    .dataframe tbody tr th:only-of-type {\n",
       "        vertical-align: middle;\n",
       "    }\n",
       "\n",
       "    .dataframe tbody tr th {\n",
       "        vertical-align: top;\n",
       "    }\n",
       "\n",
       "    .dataframe thead th {\n",
       "        text-align: right;\n",
       "    }\n",
       "</style>\n",
       "<table border=\"1\" class=\"dataframe\">\n",
       "  <thead>\n",
       "    <tr style=\"text-align: right;\">\n",
       "      <th></th>\n",
       "      <th>coef</th>\n",
       "      <th>std err</th>\n",
       "      <th>t</th>\n",
       "      <th>P&gt;|t|</th>\n",
       "    </tr>\n",
       "  </thead>\n",
       "  <tbody>\n",
       "    <tr>\n",
       "      <th>CUMP_NORMALIZADO</th>\n",
       "      <td>1.8771</td>\n",
       "      <td>0.344</td>\n",
       "      <td>5.453</td>\n",
       "      <td>0.000</td>\n",
       "    </tr>\n",
       "    <tr>\n",
       "      <th>OBRIGAÇÃO_FINAL_POR_SALA</th>\n",
       "      <td>0.0129</td>\n",
       "      <td>0.004</td>\n",
       "      <td>3.391</td>\n",
       "      <td>0.001</td>\n",
       "    </tr>\n",
       "    <tr>\n",
       "      <th>CUMP_NORMALIZADO:OBRIGAÇÃO_FINAL_POR_SALA</th>\n",
       "      <td>-0.0378</td>\n",
       "      <td>0.010</td>\n",
       "      <td>-3.705</td>\n",
       "      <td>0.000</td>\n",
       "    </tr>\n",
       "    <tr>\n",
       "      <th>DIAS_FUNCIONAMENTO</th>\n",
       "      <td>0.0065</td>\n",
       "      <td>0.000</td>\n",
       "      <td>45.237</td>\n",
       "      <td>0.000</td>\n",
       "    </tr>\n",
       "  </tbody>\n",
       "</table>\n",
       "</div>"
      ],
      "text/plain": [
       "                                             coef  std err       t  P>|t|\n",
       "CUMP_NORMALIZADO                           1.8771    0.344   5.453  0.000\n",
       "OBRIGAÇÃO_FINAL_POR_SALA                   0.0129    0.004   3.391  0.001\n",
       "CUMP_NORMALIZADO:OBRIGAÇÃO_FINAL_POR_SALA -0.0378    0.010  -3.705  0.000\n",
       "DIAS_FUNCIONAMENTO                         0.0065    0.000  45.237  0.000"
      ]
     },
     "execution_count": 87,
     "metadata": {},
     "output_type": "execute_result"
    }
   ],
   "source": [
    "pd.read_html(reg_w4.summary().tables[1].as_html(),header=0,index_col=0)[0].iloc[-4:,:-2]"
   ]
  },
  {
   "cell_type": "code",
   "execution_count": 88,
   "metadata": {
    "ExecuteTime": {
     "end_time": "2021-07-16T03:14:32.189611Z",
     "start_time": "2021-07-16T03:14:31.726353Z"
    }
   },
   "outputs": [
    {
     "data": {
      "text/html": [
       "<div>\n",
       "<style scoped>\n",
       "    .dataframe tbody tr th:only-of-type {\n",
       "        vertical-align: middle;\n",
       "    }\n",
       "\n",
       "    .dataframe tbody tr th {\n",
       "        vertical-align: top;\n",
       "    }\n",
       "\n",
       "    .dataframe thead th {\n",
       "        text-align: right;\n",
       "    }\n",
       "</style>\n",
       "<table border=\"1\" class=\"dataframe\">\n",
       "  <thead>\n",
       "    <tr style=\"text-align: right;\">\n",
       "      <th></th>\n",
       "      <th>coef</th>\n",
       "      <th>std err</th>\n",
       "      <th>t</th>\n",
       "      <th>P&gt;|t|</th>\n",
       "    </tr>\n",
       "  </thead>\n",
       "  <tbody>\n",
       "    <tr>\n",
       "      <th>CUMP_NORMALIZADO</th>\n",
       "      <td>2.2833</td>\n",
       "      <td>0.403</td>\n",
       "      <td>5.664</td>\n",
       "      <td>0.0</td>\n",
       "    </tr>\n",
       "    <tr>\n",
       "      <th>OBRIGAÇÃO_FINAL_POR_SALA</th>\n",
       "      <td>0.0199</td>\n",
       "      <td>0.004</td>\n",
       "      <td>4.602</td>\n",
       "      <td>0.0</td>\n",
       "    </tr>\n",
       "    <tr>\n",
       "      <th>CUMP_NORMALIZADO:OBRIGAÇÃO_FINAL_POR_SALA</th>\n",
       "      <td>-0.0558</td>\n",
       "      <td>0.012</td>\n",
       "      <td>-4.816</td>\n",
       "      <td>0.0</td>\n",
       "    </tr>\n",
       "    <tr>\n",
       "      <th>DIAS_FUNCIONAMENTO</th>\n",
       "      <td>0.0065</td>\n",
       "      <td>0.000</td>\n",
       "      <td>42.915</td>\n",
       "      <td>0.0</td>\n",
       "    </tr>\n",
       "  </tbody>\n",
       "</table>\n",
       "</div>"
      ],
      "text/plain": [
       "                                             coef  std err       t  P>|t|\n",
       "CUMP_NORMALIZADO                           2.2833    0.403   5.664    0.0\n",
       "OBRIGAÇÃO_FINAL_POR_SALA                   0.0199    0.004   4.602    0.0\n",
       "CUMP_NORMALIZADO:OBRIGAÇÃO_FINAL_POR_SALA -0.0558    0.012  -4.816    0.0\n",
       "DIAS_FUNCIONAMENTO                         0.0065    0.000  42.915    0.0"
      ]
     },
     "execution_count": 88,
     "metadata": {},
     "output_type": "execute_result"
    }
   ],
   "source": [
    "pd.read_html(reg_w5.summary().tables[1].as_html(),header=0,index_col=0)[0].iloc[-4:,:-2]"
   ]
  },
  {
   "cell_type": "code",
   "execution_count": 89,
   "metadata": {
    "ExecuteTime": {
     "end_time": "2021-07-16T03:14:32.598671Z",
     "start_time": "2021-07-16T03:14:32.192621Z"
    }
   },
   "outputs": [
    {
     "data": {
      "text/html": [
       "<div>\n",
       "<style scoped>\n",
       "    .dataframe tbody tr th:only-of-type {\n",
       "        vertical-align: middle;\n",
       "    }\n",
       "\n",
       "    .dataframe tbody tr th {\n",
       "        vertical-align: top;\n",
       "    }\n",
       "\n",
       "    .dataframe thead th {\n",
       "        text-align: right;\n",
       "    }\n",
       "</style>\n",
       "<table border=\"1\" class=\"dataframe\">\n",
       "  <thead>\n",
       "    <tr style=\"text-align: right;\">\n",
       "      <th></th>\n",
       "      <th>coef</th>\n",
       "      <th>std err</th>\n",
       "      <th>t</th>\n",
       "      <th>P&gt;|t|</th>\n",
       "    </tr>\n",
       "  </thead>\n",
       "  <tbody>\n",
       "    <tr>\n",
       "      <th>CUMP_NORMALIZADO</th>\n",
       "      <td>-1.6596</td>\n",
       "      <td>0.710</td>\n",
       "      <td>-2.336</td>\n",
       "      <td>0.02</td>\n",
       "    </tr>\n",
       "    <tr>\n",
       "      <th>OBRIGAÇÃO_FINAL_POR_SALA</th>\n",
       "      <td>-0.0447</td>\n",
       "      <td>0.008</td>\n",
       "      <td>-5.752</td>\n",
       "      <td>0.00</td>\n",
       "    </tr>\n",
       "    <tr>\n",
       "      <th>CUMP_NORMALIZADO:OBRIGAÇÃO_FINAL_POR_SALA</th>\n",
       "      <td>0.1196</td>\n",
       "      <td>0.021</td>\n",
       "      <td>5.731</td>\n",
       "      <td>0.00</td>\n",
       "    </tr>\n",
       "    <tr>\n",
       "      <th>DIAS_FUNCIONAMENTO</th>\n",
       "      <td>0.0057</td>\n",
       "      <td>0.000</td>\n",
       "      <td>18.503</td>\n",
       "      <td>0.00</td>\n",
       "    </tr>\n",
       "  </tbody>\n",
       "</table>\n",
       "</div>"
      ],
      "text/plain": [
       "                                             coef  std err       t  P>|t|\n",
       "CUMP_NORMALIZADO                          -1.6596    0.710  -2.336   0.02\n",
       "OBRIGAÇÃO_FINAL_POR_SALA                  -0.0447    0.008  -5.752   0.00\n",
       "CUMP_NORMALIZADO:OBRIGAÇÃO_FINAL_POR_SALA  0.1196    0.021   5.731   0.00\n",
       "DIAS_FUNCIONAMENTO                         0.0057    0.000  18.503   0.00"
      ]
     },
     "execution_count": 89,
     "metadata": {},
     "output_type": "execute_result"
    }
   ],
   "source": [
    "pd.read_html(reg_w6.summary().tables[1].as_html(),header=0,index_col=0)[0].iloc[-4:,:-2]"
   ]
  },
  {
   "cell_type": "markdown",
   "metadata": {},
   "source": [
    "###### Triangular kernel"
   ]
  },
  {
   "cell_type": "code",
   "execution_count": 90,
   "metadata": {
    "ExecuteTime": {
     "end_time": "2021-07-16T03:14:46.254254Z",
     "start_time": "2021-07-16T03:14:44.237135Z"
    }
   },
   "outputs": [],
   "source": [
    "formul = 'np.log(RENDA) ~ CUMP_LINEAR*OBRIGAÇÃO_FINAL_POR_SALA + DIAS_FUNCIONAMENTO + C(REGISTRO_COMPLEXO) + C(ANO_CINEMATOGRAFICO)'\n",
    "data = [tds_1719, est_1719, bras_1719]\n",
    "\n",
    "# all\n",
    "reg_w7 = smf.ols(formula = formul, data=data[0]).fit()\n",
    "\n",
    "# foreign\n",
    "reg_w8 = smf.ols(formula = formul, data=data[1]).fit()\n",
    "\n",
    "# Brazilian\n",
    "reg_w9 = smf.ols(formula = formul, data=data[2]).fit()"
   ]
  },
  {
   "cell_type": "code",
   "execution_count": 91,
   "metadata": {
    "ExecuteTime": {
     "end_time": "2021-07-16T03:14:46.690641Z",
     "start_time": "2021-07-16T03:14:46.256259Z"
    }
   },
   "outputs": [
    {
     "data": {
      "text/html": [
       "<div>\n",
       "<style scoped>\n",
       "    .dataframe tbody tr th:only-of-type {\n",
       "        vertical-align: middle;\n",
       "    }\n",
       "\n",
       "    .dataframe tbody tr th {\n",
       "        vertical-align: top;\n",
       "    }\n",
       "\n",
       "    .dataframe thead th {\n",
       "        text-align: right;\n",
       "    }\n",
       "</style>\n",
       "<table border=\"1\" class=\"dataframe\">\n",
       "  <thead>\n",
       "    <tr style=\"text-align: right;\">\n",
       "      <th></th>\n",
       "      <th>coef</th>\n",
       "      <th>std err</th>\n",
       "      <th>t</th>\n",
       "      <th>P&gt;|t|</th>\n",
       "    </tr>\n",
       "  </thead>\n",
       "  <tbody>\n",
       "    <tr>\n",
       "      <th>CUMP_LINEAR</th>\n",
       "      <td>0.5849</td>\n",
       "      <td>0.083</td>\n",
       "      <td>7.019</td>\n",
       "      <td>0.0</td>\n",
       "    </tr>\n",
       "    <tr>\n",
       "      <th>OBRIGAÇÃO_FINAL_POR_SALA</th>\n",
       "      <td>0.0058</td>\n",
       "      <td>0.001</td>\n",
       "      <td>4.012</td>\n",
       "      <td>0.0</td>\n",
       "    </tr>\n",
       "    <tr>\n",
       "      <th>CUMP_LINEAR:OBRIGAÇÃO_FINAL_POR_SALA</th>\n",
       "      <td>-0.0103</td>\n",
       "      <td>0.002</td>\n",
       "      <td>-5.494</td>\n",
       "      <td>0.0</td>\n",
       "    </tr>\n",
       "    <tr>\n",
       "      <th>DIAS_FUNCIONAMENTO</th>\n",
       "      <td>0.0064</td>\n",
       "      <td>0.000</td>\n",
       "      <td>45.090</td>\n",
       "      <td>0.0</td>\n",
       "    </tr>\n",
       "  </tbody>\n",
       "</table>\n",
       "</div>"
      ],
      "text/plain": [
       "                                        coef  std err       t  P>|t|\n",
       "CUMP_LINEAR                           0.5849    0.083   7.019    0.0\n",
       "OBRIGAÇÃO_FINAL_POR_SALA              0.0058    0.001   4.012    0.0\n",
       "CUMP_LINEAR:OBRIGAÇÃO_FINAL_POR_SALA -0.0103    0.002  -5.494    0.0\n",
       "DIAS_FUNCIONAMENTO                    0.0064    0.000  45.090    0.0"
      ]
     },
     "execution_count": 91,
     "metadata": {},
     "output_type": "execute_result"
    }
   ],
   "source": [
    "pd.read_html(reg_w7.summary().tables[1].as_html(),header=0,index_col=0)[0].iloc[-4:,:-2]"
   ]
  },
  {
   "cell_type": "code",
   "execution_count": 92,
   "metadata": {
    "ExecuteTime": {
     "end_time": "2021-07-16T03:14:47.131938Z",
     "start_time": "2021-07-16T03:14:46.692647Z"
    }
   },
   "outputs": [
    {
     "data": {
      "text/html": [
       "<div>\n",
       "<style scoped>\n",
       "    .dataframe tbody tr th:only-of-type {\n",
       "        vertical-align: middle;\n",
       "    }\n",
       "\n",
       "    .dataframe tbody tr th {\n",
       "        vertical-align: top;\n",
       "    }\n",
       "\n",
       "    .dataframe thead th {\n",
       "        text-align: right;\n",
       "    }\n",
       "</style>\n",
       "<table border=\"1\" class=\"dataframe\">\n",
       "  <thead>\n",
       "    <tr style=\"text-align: right;\">\n",
       "      <th></th>\n",
       "      <th>coef</th>\n",
       "      <th>std err</th>\n",
       "      <th>t</th>\n",
       "      <th>P&gt;|t|</th>\n",
       "    </tr>\n",
       "  </thead>\n",
       "  <tbody>\n",
       "    <tr>\n",
       "      <th>CUMP_LINEAR</th>\n",
       "      <td>0.5259</td>\n",
       "      <td>0.090</td>\n",
       "      <td>5.852</td>\n",
       "      <td>0.0</td>\n",
       "    </tr>\n",
       "    <tr>\n",
       "      <th>OBRIGAÇÃO_FINAL_POR_SALA</th>\n",
       "      <td>0.0061</td>\n",
       "      <td>0.002</td>\n",
       "      <td>3.969</td>\n",
       "      <td>0.0</td>\n",
       "    </tr>\n",
       "    <tr>\n",
       "      <th>CUMP_LINEAR:OBRIGAÇÃO_FINAL_POR_SALA</th>\n",
       "      <td>-0.0102</td>\n",
       "      <td>0.002</td>\n",
       "      <td>-5.061</td>\n",
       "      <td>0.0</td>\n",
       "    </tr>\n",
       "    <tr>\n",
       "      <th>DIAS_FUNCIONAMENTO</th>\n",
       "      <td>0.0065</td>\n",
       "      <td>0.000</td>\n",
       "      <td>42.808</td>\n",
       "      <td>0.0</td>\n",
       "    </tr>\n",
       "  </tbody>\n",
       "</table>\n",
       "</div>"
      ],
      "text/plain": [
       "                                        coef  std err       t  P>|t|\n",
       "CUMP_LINEAR                           0.5259    0.090   5.852    0.0\n",
       "OBRIGAÇÃO_FINAL_POR_SALA              0.0061    0.002   3.969    0.0\n",
       "CUMP_LINEAR:OBRIGAÇÃO_FINAL_POR_SALA -0.0102    0.002  -5.061    0.0\n",
       "DIAS_FUNCIONAMENTO                    0.0065    0.000  42.808    0.0"
      ]
     },
     "execution_count": 92,
     "metadata": {},
     "output_type": "execute_result"
    }
   ],
   "source": [
    "pd.read_html(reg_w8.summary().tables[1].as_html(),header=0,index_col=0)[0].iloc[-4:,:-2]"
   ]
  },
  {
   "cell_type": "code",
   "execution_count": 93,
   "metadata": {
    "ExecuteTime": {
     "end_time": "2021-07-16T03:14:47.607202Z",
     "start_time": "2021-07-16T03:14:47.133944Z"
    }
   },
   "outputs": [
    {
     "data": {
      "text/html": [
       "<div>\n",
       "<style scoped>\n",
       "    .dataframe tbody tr th:only-of-type {\n",
       "        vertical-align: middle;\n",
       "    }\n",
       "\n",
       "    .dataframe tbody tr th {\n",
       "        vertical-align: top;\n",
       "    }\n",
       "\n",
       "    .dataframe thead th {\n",
       "        text-align: right;\n",
       "    }\n",
       "</style>\n",
       "<table border=\"1\" class=\"dataframe\">\n",
       "  <thead>\n",
       "    <tr style=\"text-align: right;\">\n",
       "      <th></th>\n",
       "      <th>coef</th>\n",
       "      <th>std err</th>\n",
       "      <th>t</th>\n",
       "      <th>P&gt;|t|</th>\n",
       "    </tr>\n",
       "  </thead>\n",
       "  <tbody>\n",
       "    <tr>\n",
       "      <th>CUMP_LINEAR</th>\n",
       "      <td>0.6319</td>\n",
       "      <td>0.180</td>\n",
       "      <td>3.512</td>\n",
       "      <td>0.000</td>\n",
       "    </tr>\n",
       "    <tr>\n",
       "      <th>OBRIGAÇÃO_FINAL_POR_SALA</th>\n",
       "      <td>-0.0041</td>\n",
       "      <td>0.003</td>\n",
       "      <td>-1.356</td>\n",
       "      <td>0.175</td>\n",
       "    </tr>\n",
       "    <tr>\n",
       "      <th>CUMP_LINEAR:OBRIGAÇÃO_FINAL_POR_SALA</th>\n",
       "      <td>0.0020</td>\n",
       "      <td>0.004</td>\n",
       "      <td>0.506</td>\n",
       "      <td>0.613</td>\n",
       "    </tr>\n",
       "    <tr>\n",
       "      <th>DIAS_FUNCIONAMENTO</th>\n",
       "      <td>0.0056</td>\n",
       "      <td>0.000</td>\n",
       "      <td>18.397</td>\n",
       "      <td>0.000</td>\n",
       "    </tr>\n",
       "  </tbody>\n",
       "</table>\n",
       "</div>"
      ],
      "text/plain": [
       "                                        coef  std err       t  P>|t|\n",
       "CUMP_LINEAR                           0.6319    0.180   3.512  0.000\n",
       "OBRIGAÇÃO_FINAL_POR_SALA             -0.0041    0.003  -1.356  0.175\n",
       "CUMP_LINEAR:OBRIGAÇÃO_FINAL_POR_SALA  0.0020    0.004   0.506  0.613\n",
       "DIAS_FUNCIONAMENTO                    0.0056    0.000  18.397  0.000"
      ]
     },
     "execution_count": 93,
     "metadata": {},
     "output_type": "execute_result"
    }
   ],
   "source": [
    "pd.read_html(reg_w9.summary().tables[1].as_html(),header=0,index_col=0)[0].iloc[-4:,:-2]"
   ]
  },
  {
   "cell_type": "markdown",
   "metadata": {},
   "source": [
    "###### Triweight kernel"
   ]
  },
  {
   "cell_type": "code",
   "execution_count": 94,
   "metadata": {
    "ExecuteTime": {
     "end_time": "2021-07-16T03:14:56.926939Z",
     "start_time": "2021-07-16T03:14:54.763129Z"
    }
   },
   "outputs": [],
   "source": [
    "formul = 'np.log(RENDA) ~ CUMP_TRIWEIGHT*OBRIGAÇÃO_FINAL_POR_SALA + DIAS_FUNCIONAMENTO + C(REGISTRO_COMPLEXO) + C(ANO_CINEMATOGRAFICO)'\n",
    "data = [tds_1719, est_1719, bras_1719]\n",
    "\n",
    "# all\n",
    "reg_w10 = smf.ols(formula = formul, data=data[0]).fit()\n",
    "\n",
    "# foreign\n",
    "reg_w11 = smf.ols(formula = formul, data=data[1]).fit()\n",
    "\n",
    "# Brazilian\n",
    "reg_w12 = smf.ols(formula = formul, data=data[2]).fit()"
   ]
  },
  {
   "cell_type": "code",
   "execution_count": 95,
   "metadata": {
    "ExecuteTime": {
     "end_time": "2021-07-16T03:14:57.362095Z",
     "start_time": "2021-07-16T03:14:56.928944Z"
    }
   },
   "outputs": [
    {
     "data": {
      "text/html": [
       "<div>\n",
       "<style scoped>\n",
       "    .dataframe tbody tr th:only-of-type {\n",
       "        vertical-align: middle;\n",
       "    }\n",
       "\n",
       "    .dataframe tbody tr th {\n",
       "        vertical-align: top;\n",
       "    }\n",
       "\n",
       "    .dataframe thead th {\n",
       "        text-align: right;\n",
       "    }\n",
       "</style>\n",
       "<table border=\"1\" class=\"dataframe\">\n",
       "  <thead>\n",
       "    <tr style=\"text-align: right;\">\n",
       "      <th></th>\n",
       "      <th>coef</th>\n",
       "      <th>std err</th>\n",
       "      <th>t</th>\n",
       "      <th>P&gt;|t|</th>\n",
       "    </tr>\n",
       "  </thead>\n",
       "  <tbody>\n",
       "    <tr>\n",
       "      <th>CUMP_TRIWEIGHT</th>\n",
       "      <td>0.4494</td>\n",
       "      <td>0.072</td>\n",
       "      <td>6.280</td>\n",
       "      <td>0.000</td>\n",
       "    </tr>\n",
       "    <tr>\n",
       "      <th>OBRIGAÇÃO_FINAL_POR_SALA</th>\n",
       "      <td>0.0042</td>\n",
       "      <td>0.001</td>\n",
       "      <td>3.398</td>\n",
       "      <td>0.001</td>\n",
       "    </tr>\n",
       "    <tr>\n",
       "      <th>CUMP_TRIWEIGHT:OBRIGAÇÃO_FINAL_POR_SALA</th>\n",
       "      <td>-0.0080</td>\n",
       "      <td>0.002</td>\n",
       "      <td>-4.995</td>\n",
       "      <td>0.000</td>\n",
       "    </tr>\n",
       "    <tr>\n",
       "      <th>DIAS_FUNCIONAMENTO</th>\n",
       "      <td>0.0065</td>\n",
       "      <td>0.000</td>\n",
       "      <td>45.537</td>\n",
       "      <td>0.000</td>\n",
       "    </tr>\n",
       "  </tbody>\n",
       "</table>\n",
       "</div>"
      ],
      "text/plain": [
       "                                           coef  std err       t  P>|t|\n",
       "CUMP_TRIWEIGHT                           0.4494    0.072   6.280  0.000\n",
       "OBRIGAÇÃO_FINAL_POR_SALA                 0.0042    0.001   3.398  0.001\n",
       "CUMP_TRIWEIGHT:OBRIGAÇÃO_FINAL_POR_SALA -0.0080    0.002  -4.995  0.000\n",
       "DIAS_FUNCIONAMENTO                       0.0065    0.000  45.537  0.000"
      ]
     },
     "execution_count": 95,
     "metadata": {},
     "output_type": "execute_result"
    }
   ],
   "source": [
    "pd.read_html(reg_w10.summary().tables[1].as_html(),header=0,index_col=0)[0].iloc[-4:,:-2]"
   ]
  },
  {
   "cell_type": "code",
   "execution_count": 96,
   "metadata": {
    "ExecuteTime": {
     "end_time": "2021-07-16T03:14:57.778201Z",
     "start_time": "2021-07-16T03:14:57.364101Z"
    }
   },
   "outputs": [
    {
     "data": {
      "text/html": [
       "<div>\n",
       "<style scoped>\n",
       "    .dataframe tbody tr th:only-of-type {\n",
       "        vertical-align: middle;\n",
       "    }\n",
       "\n",
       "    .dataframe tbody tr th {\n",
       "        vertical-align: top;\n",
       "    }\n",
       "\n",
       "    .dataframe thead th {\n",
       "        text-align: right;\n",
       "    }\n",
       "</style>\n",
       "<table border=\"1\" class=\"dataframe\">\n",
       "  <thead>\n",
       "    <tr style=\"text-align: right;\">\n",
       "      <th></th>\n",
       "      <th>coef</th>\n",
       "      <th>std err</th>\n",
       "      <th>t</th>\n",
       "      <th>P&gt;|t|</th>\n",
       "    </tr>\n",
       "  </thead>\n",
       "  <tbody>\n",
       "    <tr>\n",
       "      <th>CUMP_TRIWEIGHT</th>\n",
       "      <td>0.3864</td>\n",
       "      <td>0.077</td>\n",
       "      <td>5.045</td>\n",
       "      <td>0.000</td>\n",
       "    </tr>\n",
       "    <tr>\n",
       "      <th>OBRIGAÇÃO_FINAL_POR_SALA</th>\n",
       "      <td>0.0044</td>\n",
       "      <td>0.001</td>\n",
       "      <td>3.306</td>\n",
       "      <td>0.001</td>\n",
       "    </tr>\n",
       "    <tr>\n",
       "      <th>CUMP_TRIWEIGHT:OBRIGAÇÃO_FINAL_POR_SALA</th>\n",
       "      <td>-0.0076</td>\n",
       "      <td>0.002</td>\n",
       "      <td>-4.474</td>\n",
       "      <td>0.000</td>\n",
       "    </tr>\n",
       "    <tr>\n",
       "      <th>DIAS_FUNCIONAMENTO</th>\n",
       "      <td>0.0065</td>\n",
       "      <td>0.000</td>\n",
       "      <td>43.264</td>\n",
       "      <td>0.000</td>\n",
       "    </tr>\n",
       "  </tbody>\n",
       "</table>\n",
       "</div>"
      ],
      "text/plain": [
       "                                           coef  std err       t  P>|t|\n",
       "CUMP_TRIWEIGHT                           0.3864    0.077   5.045  0.000\n",
       "OBRIGAÇÃO_FINAL_POR_SALA                 0.0044    0.001   3.306  0.001\n",
       "CUMP_TRIWEIGHT:OBRIGAÇÃO_FINAL_POR_SALA -0.0076    0.002  -4.474  0.000\n",
       "DIAS_FUNCIONAMENTO                       0.0065    0.000  43.264  0.000"
      ]
     },
     "execution_count": 96,
     "metadata": {},
     "output_type": "execute_result"
    }
   ],
   "source": [
    "pd.read_html(reg_w11.summary().tables[1].as_html(),header=0,index_col=0)[0].iloc[-4:,:-2]"
   ]
  },
  {
   "cell_type": "code",
   "execution_count": 97,
   "metadata": {
    "ExecuteTime": {
     "end_time": "2021-07-16T03:14:58.247449Z",
     "start_time": "2021-07-16T03:14:57.780208Z"
    },
    "scrolled": true
   },
   "outputs": [
    {
     "data": {
      "text/html": [
       "<div>\n",
       "<style scoped>\n",
       "    .dataframe tbody tr th:only-of-type {\n",
       "        vertical-align: middle;\n",
       "    }\n",
       "\n",
       "    .dataframe tbody tr th {\n",
       "        vertical-align: top;\n",
       "    }\n",
       "\n",
       "    .dataframe thead th {\n",
       "        text-align: right;\n",
       "    }\n",
       "</style>\n",
       "<table border=\"1\" class=\"dataframe\">\n",
       "  <thead>\n",
       "    <tr style=\"text-align: right;\">\n",
       "      <th></th>\n",
       "      <th>coef</th>\n",
       "      <th>std err</th>\n",
       "      <th>t</th>\n",
       "      <th>P&gt;|t|</th>\n",
       "    </tr>\n",
       "  </thead>\n",
       "  <tbody>\n",
       "    <tr>\n",
       "      <th>CUMP_TRIWEIGHT</th>\n",
       "      <td>0.6626</td>\n",
       "      <td>0.149</td>\n",
       "      <td>4.452</td>\n",
       "      <td>0.000</td>\n",
       "    </tr>\n",
       "    <tr>\n",
       "      <th>OBRIGAÇÃO_FINAL_POR_SALA</th>\n",
       "      <td>-0.0019</td>\n",
       "      <td>0.003</td>\n",
       "      <td>-0.761</td>\n",
       "      <td>0.447</td>\n",
       "    </tr>\n",
       "    <tr>\n",
       "      <th>CUMP_TRIWEIGHT:OBRIGAÇÃO_FINAL_POR_SALA</th>\n",
       "      <td>-0.0008</td>\n",
       "      <td>0.003</td>\n",
       "      <td>-0.260</td>\n",
       "      <td>0.795</td>\n",
       "    </tr>\n",
       "    <tr>\n",
       "      <th>DIAS_FUNCIONAMENTO</th>\n",
       "      <td>0.0056</td>\n",
       "      <td>0.000</td>\n",
       "      <td>18.457</td>\n",
       "      <td>0.000</td>\n",
       "    </tr>\n",
       "  </tbody>\n",
       "</table>\n",
       "</div>"
      ],
      "text/plain": [
       "                                           coef  std err       t  P>|t|\n",
       "CUMP_TRIWEIGHT                           0.6626    0.149   4.452  0.000\n",
       "OBRIGAÇÃO_FINAL_POR_SALA                -0.0019    0.003  -0.761  0.447\n",
       "CUMP_TRIWEIGHT:OBRIGAÇÃO_FINAL_POR_SALA -0.0008    0.003  -0.260  0.795\n",
       "DIAS_FUNCIONAMENTO                       0.0056    0.000  18.457  0.000"
      ]
     },
     "execution_count": 97,
     "metadata": {},
     "output_type": "execute_result"
    }
   ],
   "source": [
    "pd.read_html(reg_w12.summary().tables[1].as_html(),header=0,index_col=0)[0].iloc[-4:,:-2]"
   ]
  },
  {
   "cell_type": "markdown",
   "metadata": {},
   "source": [
    "##### 2017-2018"
   ]
  },
  {
   "cell_type": "markdown",
   "metadata": {},
   "source": [
    "###### Quadratic kernel"
   ]
  },
  {
   "cell_type": "code",
   "execution_count": 98,
   "metadata": {
    "ExecuteTime": {
     "end_time": "2021-07-16T03:15:23.556330Z",
     "start_time": "2021-07-16T03:15:22.307155Z"
    }
   },
   "outputs": [],
   "source": [
    "formul = 'np.log(RENDA) ~ CUMP_QUADRATIC*OBRIGAÇÃO_FINAL_POR_SALA + DIAS_FUNCIONAMENTO + C(REGISTRO_COMPLEXO) + C(ANO_CINEMATOGRAFICO)'\n",
    "data = [tds_1718, est_1718, bras_1718]\n",
    "\n",
    "# all\n",
    "reg_w13 = smf.ols(formula = formul, data=data[0]).fit()\n",
    "\n",
    "# foreign\n",
    "reg_w14 = smf.ols(formula = formul, data=data[1]).fit()\n",
    "\n",
    "# Brazilian\n",
    "reg_w15 = smf.ols(formula = formul, data=data[2]).fit()"
   ]
  },
  {
   "cell_type": "code",
   "execution_count": 99,
   "metadata": {
    "ExecuteTime": {
     "end_time": "2021-07-16T03:15:23.945684Z",
     "start_time": "2021-07-16T03:15:23.556330Z"
    }
   },
   "outputs": [
    {
     "data": {
      "text/html": [
       "<div>\n",
       "<style scoped>\n",
       "    .dataframe tbody tr th:only-of-type {\n",
       "        vertical-align: middle;\n",
       "    }\n",
       "\n",
       "    .dataframe tbody tr th {\n",
       "        vertical-align: top;\n",
       "    }\n",
       "\n",
       "    .dataframe thead th {\n",
       "        text-align: right;\n",
       "    }\n",
       "</style>\n",
       "<table border=\"1\" class=\"dataframe\">\n",
       "  <thead>\n",
       "    <tr style=\"text-align: right;\">\n",
       "      <th></th>\n",
       "      <th>coef</th>\n",
       "      <th>std err</th>\n",
       "      <th>t</th>\n",
       "      <th>P&gt;|t|</th>\n",
       "    </tr>\n",
       "  </thead>\n",
       "  <tbody>\n",
       "    <tr>\n",
       "      <th>CUMP_QUADRATIC</th>\n",
       "      <td>0.6775</td>\n",
       "      <td>0.114</td>\n",
       "      <td>5.919</td>\n",
       "      <td>0.0</td>\n",
       "    </tr>\n",
       "    <tr>\n",
       "      <th>OBRIGAÇÃO_FINAL_POR_SALA</th>\n",
       "      <td>0.0105</td>\n",
       "      <td>0.003</td>\n",
       "      <td>4.033</td>\n",
       "      <td>0.0</td>\n",
       "    </tr>\n",
       "    <tr>\n",
       "      <th>CUMP_QUADRATIC:OBRIGAÇÃO_FINAL_POR_SALA</th>\n",
       "      <td>-0.0156</td>\n",
       "      <td>0.003</td>\n",
       "      <td>-5.213</td>\n",
       "      <td>0.0</td>\n",
       "    </tr>\n",
       "    <tr>\n",
       "      <th>DIAS_FUNCIONAMENTO</th>\n",
       "      <td>0.0065</td>\n",
       "      <td>0.000</td>\n",
       "      <td>26.768</td>\n",
       "      <td>0.0</td>\n",
       "    </tr>\n",
       "  </tbody>\n",
       "</table>\n",
       "</div>"
      ],
      "text/plain": [
       "                                           coef  std err       t  P>|t|\n",
       "CUMP_QUADRATIC                           0.6775    0.114   5.919    0.0\n",
       "OBRIGAÇÃO_FINAL_POR_SALA                 0.0105    0.003   4.033    0.0\n",
       "CUMP_QUADRATIC:OBRIGAÇÃO_FINAL_POR_SALA -0.0156    0.003  -5.213    0.0\n",
       "DIAS_FUNCIONAMENTO                       0.0065    0.000  26.768    0.0"
      ]
     },
     "execution_count": 99,
     "metadata": {},
     "output_type": "execute_result"
    }
   ],
   "source": [
    "pd.read_html(reg_w13.summary().tables[1].as_html(),header=0,index_col=0)[0].iloc[-4:,:-2]"
   ]
  },
  {
   "cell_type": "code",
   "execution_count": 100,
   "metadata": {
    "ExecuteTime": {
     "end_time": "2021-07-16T03:15:24.313362Z",
     "start_time": "2021-07-16T03:15:23.947660Z"
    }
   },
   "outputs": [
    {
     "data": {
      "text/html": [
       "<div>\n",
       "<style scoped>\n",
       "    .dataframe tbody tr th:only-of-type {\n",
       "        vertical-align: middle;\n",
       "    }\n",
       "\n",
       "    .dataframe tbody tr th {\n",
       "        vertical-align: top;\n",
       "    }\n",
       "\n",
       "    .dataframe thead th {\n",
       "        text-align: right;\n",
       "    }\n",
       "</style>\n",
       "<table border=\"1\" class=\"dataframe\">\n",
       "  <thead>\n",
       "    <tr style=\"text-align: right;\">\n",
       "      <th></th>\n",
       "      <th>coef</th>\n",
       "      <th>std err</th>\n",
       "      <th>t</th>\n",
       "      <th>P&gt;|t|</th>\n",
       "    </tr>\n",
       "  </thead>\n",
       "  <tbody>\n",
       "    <tr>\n",
       "      <th>CUMP_QUADRATIC</th>\n",
       "      <td>0.7269</td>\n",
       "      <td>0.115</td>\n",
       "      <td>6.331</td>\n",
       "      <td>0.0</td>\n",
       "    </tr>\n",
       "    <tr>\n",
       "      <th>OBRIGAÇÃO_FINAL_POR_SALA</th>\n",
       "      <td>0.0132</td>\n",
       "      <td>0.003</td>\n",
       "      <td>5.036</td>\n",
       "      <td>0.0</td>\n",
       "    </tr>\n",
       "    <tr>\n",
       "      <th>CUMP_QUADRATIC:OBRIGAÇÃO_FINAL_POR_SALA</th>\n",
       "      <td>-0.0182</td>\n",
       "      <td>0.003</td>\n",
       "      <td>-6.036</td>\n",
       "      <td>0.0</td>\n",
       "    </tr>\n",
       "    <tr>\n",
       "      <th>DIAS_FUNCIONAMENTO</th>\n",
       "      <td>0.0066</td>\n",
       "      <td>0.000</td>\n",
       "      <td>27.010</td>\n",
       "      <td>0.0</td>\n",
       "    </tr>\n",
       "  </tbody>\n",
       "</table>\n",
       "</div>"
      ],
      "text/plain": [
       "                                           coef  std err       t  P>|t|\n",
       "CUMP_QUADRATIC                           0.7269    0.115   6.331    0.0\n",
       "OBRIGAÇÃO_FINAL_POR_SALA                 0.0132    0.003   5.036    0.0\n",
       "CUMP_QUADRATIC:OBRIGAÇÃO_FINAL_POR_SALA -0.0182    0.003  -6.036    0.0\n",
       "DIAS_FUNCIONAMENTO                       0.0066    0.000  27.010    0.0"
      ]
     },
     "execution_count": 100,
     "metadata": {},
     "output_type": "execute_result"
    }
   ],
   "source": [
    "pd.read_html(reg_w14.summary().tables[1].as_html(),header=0,index_col=0)[0].iloc[-4:,:-2]"
   ]
  },
  {
   "cell_type": "code",
   "execution_count": 101,
   "metadata": {
    "ExecuteTime": {
     "end_time": "2021-07-16T03:15:24.683345Z",
     "start_time": "2021-07-16T03:15:24.315398Z"
    }
   },
   "outputs": [
    {
     "data": {
      "text/html": [
       "<div>\n",
       "<style scoped>\n",
       "    .dataframe tbody tr th:only-of-type {\n",
       "        vertical-align: middle;\n",
       "    }\n",
       "\n",
       "    .dataframe tbody tr th {\n",
       "        vertical-align: top;\n",
       "    }\n",
       "\n",
       "    .dataframe thead th {\n",
       "        text-align: right;\n",
       "    }\n",
       "</style>\n",
       "<table border=\"1\" class=\"dataframe\">\n",
       "  <thead>\n",
       "    <tr style=\"text-align: right;\">\n",
       "      <th></th>\n",
       "      <th>coef</th>\n",
       "      <th>std err</th>\n",
       "      <th>t</th>\n",
       "      <th>P&gt;|t|</th>\n",
       "    </tr>\n",
       "  </thead>\n",
       "  <tbody>\n",
       "    <tr>\n",
       "      <th>CUMP_QUADRATIC</th>\n",
       "      <td>0.2627</td>\n",
       "      <td>0.296</td>\n",
       "      <td>0.888</td>\n",
       "      <td>0.375</td>\n",
       "    </tr>\n",
       "    <tr>\n",
       "      <th>OBRIGAÇÃO_FINAL_POR_SALA</th>\n",
       "      <td>-0.0166</td>\n",
       "      <td>0.006</td>\n",
       "      <td>-2.637</td>\n",
       "      <td>0.009</td>\n",
       "    </tr>\n",
       "    <tr>\n",
       "      <th>CUMP_QUADRATIC:OBRIGAÇÃO_FINAL_POR_SALA</th>\n",
       "      <td>0.0190</td>\n",
       "      <td>0.007</td>\n",
       "      <td>2.538</td>\n",
       "      <td>0.011</td>\n",
       "    </tr>\n",
       "    <tr>\n",
       "      <th>DIAS_FUNCIONAMENTO</th>\n",
       "      <td>0.0046</td>\n",
       "      <td>0.001</td>\n",
       "      <td>7.823</td>\n",
       "      <td>0.000</td>\n",
       "    </tr>\n",
       "  </tbody>\n",
       "</table>\n",
       "</div>"
      ],
      "text/plain": [
       "                                           coef  std err      t  P>|t|\n",
       "CUMP_QUADRATIC                           0.2627    0.296  0.888  0.375\n",
       "OBRIGAÇÃO_FINAL_POR_SALA                -0.0166    0.006 -2.637  0.009\n",
       "CUMP_QUADRATIC:OBRIGAÇÃO_FINAL_POR_SALA  0.0190    0.007  2.538  0.011\n",
       "DIAS_FUNCIONAMENTO                       0.0046    0.001  7.823  0.000"
      ]
     },
     "execution_count": 101,
     "metadata": {},
     "output_type": "execute_result"
    }
   ],
   "source": [
    "pd.read_html(reg_w15.summary().tables[1].as_html(),header=0,index_col=0)[0].iloc[-4:,:-2]"
   ]
  },
  {
   "cell_type": "markdown",
   "metadata": {},
   "source": [
    "###### Normal pdf kernel"
   ]
  },
  {
   "cell_type": "code",
   "execution_count": 102,
   "metadata": {
    "ExecuteTime": {
     "end_time": "2021-07-16T03:15:34.652913Z",
     "start_time": "2021-07-16T03:15:33.515058Z"
    }
   },
   "outputs": [],
   "source": [
    "formul = 'np.log(RENDA) ~ CUMP_NORMALIZADO*OBRIGAÇÃO_FINAL_POR_SALA + DIAS_FUNCIONAMENTO + C(REGISTRO_COMPLEXO) + C(ANO_CINEMATOGRAFICO)'\n",
    "data = [tds_1718, est_1718, bras_1718]\n",
    "\n",
    "# all\n",
    "reg_w16 = smf.ols(formula = formul, data=data[0]).fit()\n",
    "\n",
    "# foreign\n",
    "reg_w17 = smf.ols(formula = formul, data=data[1]).fit()\n",
    "\n",
    "# Brazilian\n",
    "reg_w18 = smf.ols(formula = formul, data=data[2]).fit()"
   ]
  },
  {
   "cell_type": "code",
   "execution_count": 103,
   "metadata": {
    "ExecuteTime": {
     "end_time": "2021-07-16T03:15:35.092788Z",
     "start_time": "2021-07-16T03:15:34.652913Z"
    }
   },
   "outputs": [
    {
     "data": {
      "text/html": [
       "<div>\n",
       "<style scoped>\n",
       "    .dataframe tbody tr th:only-of-type {\n",
       "        vertical-align: middle;\n",
       "    }\n",
       "\n",
       "    .dataframe tbody tr th {\n",
       "        vertical-align: top;\n",
       "    }\n",
       "\n",
       "    .dataframe thead th {\n",
       "        text-align: right;\n",
       "    }\n",
       "</style>\n",
       "<table border=\"1\" class=\"dataframe\">\n",
       "  <thead>\n",
       "    <tr style=\"text-align: right;\">\n",
       "      <th></th>\n",
       "      <th>coef</th>\n",
       "      <th>std err</th>\n",
       "      <th>t</th>\n",
       "      <th>P&gt;|t|</th>\n",
       "    </tr>\n",
       "  </thead>\n",
       "  <tbody>\n",
       "    <tr>\n",
       "      <th>CUMP_NORMALIZADO</th>\n",
       "      <td>1.6071</td>\n",
       "      <td>0.501</td>\n",
       "      <td>3.210</td>\n",
       "      <td>0.001</td>\n",
       "    </tr>\n",
       "    <tr>\n",
       "      <th>OBRIGAÇÃO_FINAL_POR_SALA</th>\n",
       "      <td>0.0135</td>\n",
       "      <td>0.005</td>\n",
       "      <td>2.562</td>\n",
       "      <td>0.011</td>\n",
       "    </tr>\n",
       "    <tr>\n",
       "      <th>CUMP_NORMALIZADO:OBRIGAÇÃO_FINAL_POR_SALA</th>\n",
       "      <td>-0.0420</td>\n",
       "      <td>0.014</td>\n",
       "      <td>-2.897</td>\n",
       "      <td>0.004</td>\n",
       "    </tr>\n",
       "    <tr>\n",
       "      <th>DIAS_FUNCIONAMENTO</th>\n",
       "      <td>0.0067</td>\n",
       "      <td>0.000</td>\n",
       "      <td>27.329</td>\n",
       "      <td>0.000</td>\n",
       "    </tr>\n",
       "  </tbody>\n",
       "</table>\n",
       "</div>"
      ],
      "text/plain": [
       "                                             coef  std err       t  P>|t|\n",
       "CUMP_NORMALIZADO                           1.6071    0.501   3.210  0.001\n",
       "OBRIGAÇÃO_FINAL_POR_SALA                   0.0135    0.005   2.562  0.011\n",
       "CUMP_NORMALIZADO:OBRIGAÇÃO_FINAL_POR_SALA -0.0420    0.014  -2.897  0.004\n",
       "DIAS_FUNCIONAMENTO                         0.0067    0.000  27.329  0.000"
      ]
     },
     "execution_count": 103,
     "metadata": {},
     "output_type": "execute_result"
    }
   ],
   "source": [
    "pd.read_html(reg_w16.summary().tables[1].as_html(),header=0,index_col=0)[0].iloc[-4:,:-2]"
   ]
  },
  {
   "cell_type": "code",
   "execution_count": 104,
   "metadata": {
    "ExecuteTime": {
     "end_time": "2021-07-16T03:15:35.458861Z",
     "start_time": "2021-07-16T03:15:35.094794Z"
    }
   },
   "outputs": [
    {
     "data": {
      "text/html": [
       "<div>\n",
       "<style scoped>\n",
       "    .dataframe tbody tr th:only-of-type {\n",
       "        vertical-align: middle;\n",
       "    }\n",
       "\n",
       "    .dataframe tbody tr th {\n",
       "        vertical-align: top;\n",
       "    }\n",
       "\n",
       "    .dataframe thead th {\n",
       "        text-align: right;\n",
       "    }\n",
       "</style>\n",
       "<table border=\"1\" class=\"dataframe\">\n",
       "  <thead>\n",
       "    <tr style=\"text-align: right;\">\n",
       "      <th></th>\n",
       "      <th>coef</th>\n",
       "      <th>std err</th>\n",
       "      <th>t</th>\n",
       "      <th>P&gt;|t|</th>\n",
       "    </tr>\n",
       "  </thead>\n",
       "  <tbody>\n",
       "    <tr>\n",
       "      <th>CUMP_NORMALIZADO</th>\n",
       "      <td>2.6374</td>\n",
       "      <td>0.506</td>\n",
       "      <td>5.212</td>\n",
       "      <td>0.0</td>\n",
       "    </tr>\n",
       "    <tr>\n",
       "      <th>OBRIGAÇÃO_FINAL_POR_SALA</th>\n",
       "      <td>0.0249</td>\n",
       "      <td>0.005</td>\n",
       "      <td>4.633</td>\n",
       "      <td>0.0</td>\n",
       "    </tr>\n",
       "    <tr>\n",
       "      <th>CUMP_NORMALIZADO:OBRIGAÇÃO_FINAL_POR_SALA</th>\n",
       "      <td>-0.0721</td>\n",
       "      <td>0.015</td>\n",
       "      <td>-4.876</td>\n",
       "      <td>0.0</td>\n",
       "    </tr>\n",
       "    <tr>\n",
       "      <th>DIAS_FUNCIONAMENTO</th>\n",
       "      <td>0.0066</td>\n",
       "      <td>0.000</td>\n",
       "      <td>27.450</td>\n",
       "      <td>0.0</td>\n",
       "    </tr>\n",
       "  </tbody>\n",
       "</table>\n",
       "</div>"
      ],
      "text/plain": [
       "                                             coef  std err       t  P>|t|\n",
       "CUMP_NORMALIZADO                           2.6374    0.506   5.212    0.0\n",
       "OBRIGAÇÃO_FINAL_POR_SALA                   0.0249    0.005   4.633    0.0\n",
       "CUMP_NORMALIZADO:OBRIGAÇÃO_FINAL_POR_SALA -0.0721    0.015  -4.876    0.0\n",
       "DIAS_FUNCIONAMENTO                         0.0066    0.000  27.450    0.0"
      ]
     },
     "execution_count": 104,
     "metadata": {},
     "output_type": "execute_result"
    }
   ],
   "source": [
    "pd.read_html(reg_w17.summary().tables[1].as_html(),header=0,index_col=0)[0].iloc[-4:,:-2]"
   ]
  },
  {
   "cell_type": "code",
   "execution_count": 105,
   "metadata": {
    "ExecuteTime": {
     "end_time": "2021-07-16T03:15:35.825837Z",
     "start_time": "2021-07-16T03:15:35.459893Z"
    }
   },
   "outputs": [
    {
     "data": {
      "text/html": [
       "<div>\n",
       "<style scoped>\n",
       "    .dataframe tbody tr th:only-of-type {\n",
       "        vertical-align: middle;\n",
       "    }\n",
       "\n",
       "    .dataframe tbody tr th {\n",
       "        vertical-align: top;\n",
       "    }\n",
       "\n",
       "    .dataframe thead th {\n",
       "        text-align: right;\n",
       "    }\n",
       "</style>\n",
       "<table border=\"1\" class=\"dataframe\">\n",
       "  <thead>\n",
       "    <tr style=\"text-align: right;\">\n",
       "      <th></th>\n",
       "      <th>coef</th>\n",
       "      <th>std err</th>\n",
       "      <th>t</th>\n",
       "      <th>P&gt;|t|</th>\n",
       "    </tr>\n",
       "  </thead>\n",
       "  <tbody>\n",
       "    <tr>\n",
       "      <th>CUMP_NORMALIZADO</th>\n",
       "      <td>-2.0805</td>\n",
       "      <td>1.160</td>\n",
       "      <td>-1.794</td>\n",
       "      <td>0.073</td>\n",
       "    </tr>\n",
       "    <tr>\n",
       "      <th>OBRIGAÇÃO_FINAL_POR_SALA</th>\n",
       "      <td>-0.0575</td>\n",
       "      <td>0.012</td>\n",
       "      <td>-4.796</td>\n",
       "      <td>0.000</td>\n",
       "    </tr>\n",
       "    <tr>\n",
       "      <th>CUMP_NORMALIZADO:OBRIGAÇÃO_FINAL_POR_SALA</th>\n",
       "      <td>0.1533</td>\n",
       "      <td>0.033</td>\n",
       "      <td>4.617</td>\n",
       "      <td>0.000</td>\n",
       "    </tr>\n",
       "    <tr>\n",
       "      <th>DIAS_FUNCIONAMENTO</th>\n",
       "      <td>0.0050</td>\n",
       "      <td>0.001</td>\n",
       "      <td>8.431</td>\n",
       "      <td>0.000</td>\n",
       "    </tr>\n",
       "  </tbody>\n",
       "</table>\n",
       "</div>"
      ],
      "text/plain": [
       "                                             coef  std err      t  P>|t|\n",
       "CUMP_NORMALIZADO                          -2.0805    1.160 -1.794  0.073\n",
       "OBRIGAÇÃO_FINAL_POR_SALA                  -0.0575    0.012 -4.796  0.000\n",
       "CUMP_NORMALIZADO:OBRIGAÇÃO_FINAL_POR_SALA  0.1533    0.033  4.617  0.000\n",
       "DIAS_FUNCIONAMENTO                         0.0050    0.001  8.431  0.000"
      ]
     },
     "execution_count": 105,
     "metadata": {},
     "output_type": "execute_result"
    }
   ],
   "source": [
    "pd.read_html(reg_w18.summary().tables[1].as_html(),header=0,index_col=0)[0].iloc[-4:,:-2]"
   ]
  },
  {
   "cell_type": "markdown",
   "metadata": {},
   "source": [
    "###### Triangular kernel"
   ]
  },
  {
   "cell_type": "code",
   "execution_count": 106,
   "metadata": {
    "ExecuteTime": {
     "end_time": "2021-07-16T03:15:44.893864Z",
     "start_time": "2021-07-16T03:15:43.645052Z"
    }
   },
   "outputs": [],
   "source": [
    "formul = 'np.log(RENDA) ~ CUMP_LINEAR*OBRIGAÇÃO_FINAL_POR_SALA + DIAS_FUNCIONAMENTO + C(REGISTRO_COMPLEXO) + C(ANO_CINEMATOGRAFICO)'\n",
    "data = [tds_1718, est_1718, bras_1718]\n",
    "\n",
    "# all\n",
    "reg_w19 = smf.ols(formula = formul, data=data[0]).fit()\n",
    "\n",
    "# foreign\n",
    "reg_w20 = smf.ols(formula = formul, data=data[1]).fit()\n",
    "\n",
    "# Brazilian\n",
    "reg_w21 = smf.ols(formula = formul, data=data[2]).fit()"
   ]
  },
  {
   "cell_type": "code",
   "execution_count": 107,
   "metadata": {
    "ExecuteTime": {
     "end_time": "2021-07-16T03:15:45.365225Z",
     "start_time": "2021-07-16T03:15:44.893864Z"
    }
   },
   "outputs": [
    {
     "data": {
      "text/html": [
       "<div>\n",
       "<style scoped>\n",
       "    .dataframe tbody tr th:only-of-type {\n",
       "        vertical-align: middle;\n",
       "    }\n",
       "\n",
       "    .dataframe tbody tr th {\n",
       "        vertical-align: top;\n",
       "    }\n",
       "\n",
       "    .dataframe thead th {\n",
       "        text-align: right;\n",
       "    }\n",
       "</style>\n",
       "<table border=\"1\" class=\"dataframe\">\n",
       "  <thead>\n",
       "    <tr style=\"text-align: right;\">\n",
       "      <th></th>\n",
       "      <th>coef</th>\n",
       "      <th>std err</th>\n",
       "      <th>t</th>\n",
       "      <th>P&gt;|t|</th>\n",
       "    </tr>\n",
       "  </thead>\n",
       "  <tbody>\n",
       "    <tr>\n",
       "      <th>CUMP_LINEAR</th>\n",
       "      <td>0.6427</td>\n",
       "      <td>0.115</td>\n",
       "      <td>5.574</td>\n",
       "      <td>0.000</td>\n",
       "    </tr>\n",
       "    <tr>\n",
       "      <th>OBRIGAÇÃO_FINAL_POR_SALA</th>\n",
       "      <td>0.0070</td>\n",
       "      <td>0.002</td>\n",
       "      <td>3.257</td>\n",
       "      <td>0.001</td>\n",
       "    </tr>\n",
       "    <tr>\n",
       "      <th>CUMP_LINEAR:OBRIGAÇÃO_FINAL_POR_SALA</th>\n",
       "      <td>-0.0132</td>\n",
       "      <td>0.003</td>\n",
       "      <td>-4.927</td>\n",
       "      <td>0.000</td>\n",
       "    </tr>\n",
       "    <tr>\n",
       "      <th>DIAS_FUNCIONAMENTO</th>\n",
       "      <td>0.0066</td>\n",
       "      <td>0.000</td>\n",
       "      <td>27.162</td>\n",
       "      <td>0.000</td>\n",
       "    </tr>\n",
       "  </tbody>\n",
       "</table>\n",
       "</div>"
      ],
      "text/plain": [
       "                                        coef  std err       t  P>|t|\n",
       "CUMP_LINEAR                           0.6427    0.115   5.574  0.000\n",
       "OBRIGAÇÃO_FINAL_POR_SALA              0.0070    0.002   3.257  0.001\n",
       "CUMP_LINEAR:OBRIGAÇÃO_FINAL_POR_SALA -0.0132    0.003  -4.927  0.000\n",
       "DIAS_FUNCIONAMENTO                    0.0066    0.000  27.162  0.000"
      ]
     },
     "execution_count": 107,
     "metadata": {},
     "output_type": "execute_result"
    }
   ],
   "source": [
    "pd.read_html(reg_w19.summary().tables[1].as_html(),header=0,index_col=0)[0].iloc[-4:,:-2]"
   ]
  },
  {
   "cell_type": "code",
   "execution_count": 108,
   "metadata": {
    "ExecuteTime": {
     "end_time": "2021-07-16T03:15:45.746083Z",
     "start_time": "2021-07-16T03:15:45.367231Z"
    }
   },
   "outputs": [
    {
     "data": {
      "text/html": [
       "<div>\n",
       "<style scoped>\n",
       "    .dataframe tbody tr th:only-of-type {\n",
       "        vertical-align: middle;\n",
       "    }\n",
       "\n",
       "    .dataframe tbody tr th {\n",
       "        vertical-align: top;\n",
       "    }\n",
       "\n",
       "    .dataframe thead th {\n",
       "        text-align: right;\n",
       "    }\n",
       "</style>\n",
       "<table border=\"1\" class=\"dataframe\">\n",
       "  <thead>\n",
       "    <tr style=\"text-align: right;\">\n",
       "      <th></th>\n",
       "      <th>coef</th>\n",
       "      <th>std err</th>\n",
       "      <th>t</th>\n",
       "      <th>P&gt;|t|</th>\n",
       "    </tr>\n",
       "  </thead>\n",
       "  <tbody>\n",
       "    <tr>\n",
       "      <th>CUMP_LINEAR</th>\n",
       "      <td>0.6389</td>\n",
       "      <td>0.116</td>\n",
       "      <td>5.513</td>\n",
       "      <td>0.0</td>\n",
       "    </tr>\n",
       "    <tr>\n",
       "      <th>OBRIGAÇÃO_FINAL_POR_SALA</th>\n",
       "      <td>0.0087</td>\n",
       "      <td>0.002</td>\n",
       "      <td>4.023</td>\n",
       "      <td>0.0</td>\n",
       "    </tr>\n",
       "    <tr>\n",
       "      <th>CUMP_LINEAR:OBRIGAÇÃO_FINAL_POR_SALA</th>\n",
       "      <td>-0.0147</td>\n",
       "      <td>0.003</td>\n",
       "      <td>-5.456</td>\n",
       "      <td>0.0</td>\n",
       "    </tr>\n",
       "    <tr>\n",
       "      <th>DIAS_FUNCIONAMENTO</th>\n",
       "      <td>0.0066</td>\n",
       "      <td>0.000</td>\n",
       "      <td>27.401</td>\n",
       "      <td>0.0</td>\n",
       "    </tr>\n",
       "  </tbody>\n",
       "</table>\n",
       "</div>"
      ],
      "text/plain": [
       "                                        coef  std err       t  P>|t|\n",
       "CUMP_LINEAR                           0.6389    0.116   5.513    0.0\n",
       "OBRIGAÇÃO_FINAL_POR_SALA              0.0087    0.002   4.023    0.0\n",
       "CUMP_LINEAR:OBRIGAÇÃO_FINAL_POR_SALA -0.0147    0.003  -5.456    0.0\n",
       "DIAS_FUNCIONAMENTO                    0.0066    0.000  27.401    0.0"
      ]
     },
     "execution_count": 108,
     "metadata": {},
     "output_type": "execute_result"
    }
   ],
   "source": [
    "pd.read_html(reg_w20.summary().tables[1].as_html(),header=0,index_col=0)[0].iloc[-4:,:-2]"
   ]
  },
  {
   "cell_type": "code",
   "execution_count": 109,
   "metadata": {
    "ExecuteTime": {
     "end_time": "2021-07-16T03:15:46.111122Z",
     "start_time": "2021-07-16T03:15:45.748058Z"
    }
   },
   "outputs": [
    {
     "data": {
      "text/html": [
       "<div>\n",
       "<style scoped>\n",
       "    .dataframe tbody tr th:only-of-type {\n",
       "        vertical-align: middle;\n",
       "    }\n",
       "\n",
       "    .dataframe tbody tr th {\n",
       "        vertical-align: top;\n",
       "    }\n",
       "\n",
       "    .dataframe thead th {\n",
       "        text-align: right;\n",
       "    }\n",
       "</style>\n",
       "<table border=\"1\" class=\"dataframe\">\n",
       "  <thead>\n",
       "    <tr style=\"text-align: right;\">\n",
       "      <th></th>\n",
       "      <th>coef</th>\n",
       "      <th>std err</th>\n",
       "      <th>t</th>\n",
       "      <th>P&gt;|t|</th>\n",
       "    </tr>\n",
       "  </thead>\n",
       "  <tbody>\n",
       "    <tr>\n",
       "      <th>CUMP_LINEAR</th>\n",
       "      <td>0.8211</td>\n",
       "      <td>0.275</td>\n",
       "      <td>2.982</td>\n",
       "      <td>0.003</td>\n",
       "    </tr>\n",
       "    <tr>\n",
       "      <th>OBRIGAÇÃO_FINAL_POR_SALA</th>\n",
       "      <td>-0.0056</td>\n",
       "      <td>0.005</td>\n",
       "      <td>-1.133</td>\n",
       "      <td>0.258</td>\n",
       "    </tr>\n",
       "    <tr>\n",
       "      <th>CUMP_LINEAR:OBRIGAÇÃO_FINAL_POR_SALA</th>\n",
       "      <td>0.0042</td>\n",
       "      <td>0.006</td>\n",
       "      <td>0.673</td>\n",
       "      <td>0.501</td>\n",
       "    </tr>\n",
       "    <tr>\n",
       "      <th>DIAS_FUNCIONAMENTO</th>\n",
       "      <td>0.0047</td>\n",
       "      <td>0.001</td>\n",
       "      <td>8.014</td>\n",
       "      <td>0.000</td>\n",
       "    </tr>\n",
       "  </tbody>\n",
       "</table>\n",
       "</div>"
      ],
      "text/plain": [
       "                                        coef  std err      t  P>|t|\n",
       "CUMP_LINEAR                           0.8211    0.275  2.982  0.003\n",
       "OBRIGAÇÃO_FINAL_POR_SALA             -0.0056    0.005 -1.133  0.258\n",
       "CUMP_LINEAR:OBRIGAÇÃO_FINAL_POR_SALA  0.0042    0.006  0.673  0.501\n",
       "DIAS_FUNCIONAMENTO                    0.0047    0.001  8.014  0.000"
      ]
     },
     "execution_count": 109,
     "metadata": {},
     "output_type": "execute_result"
    }
   ],
   "source": [
    "pd.read_html(reg_w21.summary().tables[1].as_html(),header=0,index_col=0)[0].iloc[-4:,:-2]"
   ]
  },
  {
   "cell_type": "markdown",
   "metadata": {},
   "source": [
    "###### Triweight kernel"
   ]
  },
  {
   "cell_type": "code",
   "execution_count": 110,
   "metadata": {
    "ExecuteTime": {
     "end_time": "2021-07-16T03:15:51.738078Z",
     "start_time": "2021-07-16T03:15:50.538920Z"
    }
   },
   "outputs": [],
   "source": [
    "formul = 'np.log(RENDA) ~ CUMP_TRIWEIGHT*OBRIGAÇÃO_FINAL_POR_SALA + DIAS_FUNCIONAMENTO + C(REGISTRO_COMPLEXO) + C(ANO_CINEMATOGRAFICO)'\n",
    "data = [tds_1718, est_1718, bras_1718]\n",
    "\n",
    "# all\n",
    "reg_w22 = smf.ols(formula = formul, data=data[0]).fit()\n",
    "\n",
    "# foreign\n",
    "reg_w23 = smf.ols(formula = formul, data=data[1]).fit()\n",
    "\n",
    "# Brazilian\n",
    "reg_w24 = smf.ols(formula = formul, data=data[2]).fit()"
   ]
  },
  {
   "cell_type": "code",
   "execution_count": 111,
   "metadata": {
    "ExecuteTime": {
     "end_time": "2021-07-16T03:15:52.166216Z",
     "start_time": "2021-07-16T03:15:51.740082Z"
    }
   },
   "outputs": [
    {
     "data": {
      "text/html": [
       "<div>\n",
       "<style scoped>\n",
       "    .dataframe tbody tr th:only-of-type {\n",
       "        vertical-align: middle;\n",
       "    }\n",
       "\n",
       "    .dataframe tbody tr th {\n",
       "        vertical-align: top;\n",
       "    }\n",
       "\n",
       "    .dataframe thead th {\n",
       "        text-align: right;\n",
       "    }\n",
       "</style>\n",
       "<table border=\"1\" class=\"dataframe\">\n",
       "  <thead>\n",
       "    <tr style=\"text-align: right;\">\n",
       "      <th></th>\n",
       "      <th>coef</th>\n",
       "      <th>std err</th>\n",
       "      <th>t</th>\n",
       "      <th>P&gt;|t|</th>\n",
       "    </tr>\n",
       "  </thead>\n",
       "  <tbody>\n",
       "    <tr>\n",
       "      <th>CUMP_TRIWEIGHT</th>\n",
       "      <td>0.4841</td>\n",
       "      <td>0.097</td>\n",
       "      <td>4.970</td>\n",
       "      <td>0.000</td>\n",
       "    </tr>\n",
       "    <tr>\n",
       "      <th>OBRIGAÇÃO_FINAL_POR_SALA</th>\n",
       "      <td>0.0046</td>\n",
       "      <td>0.002</td>\n",
       "      <td>2.470</td>\n",
       "      <td>0.014</td>\n",
       "    </tr>\n",
       "    <tr>\n",
       "      <th>CUMP_TRIWEIGHT:OBRIGAÇÃO_FINAL_POR_SALA</th>\n",
       "      <td>-0.0102</td>\n",
       "      <td>0.002</td>\n",
       "      <td>-4.525</td>\n",
       "      <td>0.000</td>\n",
       "    </tr>\n",
       "    <tr>\n",
       "      <th>DIAS_FUNCIONAMENTO</th>\n",
       "      <td>0.0067</td>\n",
       "      <td>0.000</td>\n",
       "      <td>27.731</td>\n",
       "      <td>0.000</td>\n",
       "    </tr>\n",
       "  </tbody>\n",
       "</table>\n",
       "</div>"
      ],
      "text/plain": [
       "                                           coef  std err       t  P>|t|\n",
       "CUMP_TRIWEIGHT                           0.4841    0.097   4.970  0.000\n",
       "OBRIGAÇÃO_FINAL_POR_SALA                 0.0046    0.002   2.470  0.014\n",
       "CUMP_TRIWEIGHT:OBRIGAÇÃO_FINAL_POR_SALA -0.0102    0.002  -4.525  0.000\n",
       "DIAS_FUNCIONAMENTO                       0.0067    0.000  27.731  0.000"
      ]
     },
     "execution_count": 111,
     "metadata": {},
     "output_type": "execute_result"
    }
   ],
   "source": [
    "pd.read_html(reg_w22.summary().tables[1].as_html(),header=0,index_col=0)[0].iloc[-4:,:-2]"
   ]
  },
  {
   "cell_type": "code",
   "execution_count": 112,
   "metadata": {
    "ExecuteTime": {
     "end_time": "2021-07-16T03:15:52.606083Z",
     "start_time": "2021-07-16T03:15:52.168222Z"
    }
   },
   "outputs": [
    {
     "data": {
      "text/html": [
       "<div>\n",
       "<style scoped>\n",
       "    .dataframe tbody tr th:only-of-type {\n",
       "        vertical-align: middle;\n",
       "    }\n",
       "\n",
       "    .dataframe tbody tr th {\n",
       "        vertical-align: top;\n",
       "    }\n",
       "\n",
       "    .dataframe thead th {\n",
       "        text-align: right;\n",
       "    }\n",
       "</style>\n",
       "<table border=\"1\" class=\"dataframe\">\n",
       "  <thead>\n",
       "    <tr style=\"text-align: right;\">\n",
       "      <th></th>\n",
       "      <th>coef</th>\n",
       "      <th>std err</th>\n",
       "      <th>t</th>\n",
       "      <th>P&gt;|t|</th>\n",
       "    </tr>\n",
       "  </thead>\n",
       "  <tbody>\n",
       "    <tr>\n",
       "      <th>CUMP_TRIWEIGHT</th>\n",
       "      <td>0.4582</td>\n",
       "      <td>0.098</td>\n",
       "      <td>4.679</td>\n",
       "      <td>0.000</td>\n",
       "    </tr>\n",
       "    <tr>\n",
       "      <th>OBRIGAÇÃO_FINAL_POR_SALA</th>\n",
       "      <td>0.0058</td>\n",
       "      <td>0.002</td>\n",
       "      <td>3.068</td>\n",
       "      <td>0.002</td>\n",
       "    </tr>\n",
       "    <tr>\n",
       "      <th>CUMP_TRIWEIGHT:OBRIGAÇÃO_FINAL_POR_SALA</th>\n",
       "      <td>-0.0110</td>\n",
       "      <td>0.002</td>\n",
       "      <td>-4.865</td>\n",
       "      <td>0.000</td>\n",
       "    </tr>\n",
       "    <tr>\n",
       "      <th>DIAS_FUNCIONAMENTO</th>\n",
       "      <td>0.0068</td>\n",
       "      <td>0.000</td>\n",
       "      <td>28.005</td>\n",
       "      <td>0.000</td>\n",
       "    </tr>\n",
       "  </tbody>\n",
       "</table>\n",
       "</div>"
      ],
      "text/plain": [
       "                                           coef  std err       t  P>|t|\n",
       "CUMP_TRIWEIGHT                           0.4582    0.098   4.679  0.000\n",
       "OBRIGAÇÃO_FINAL_POR_SALA                 0.0058    0.002   3.068  0.002\n",
       "CUMP_TRIWEIGHT:OBRIGAÇÃO_FINAL_POR_SALA -0.0110    0.002  -4.865  0.000\n",
       "DIAS_FUNCIONAMENTO                       0.0068    0.000  28.005  0.000"
      ]
     },
     "execution_count": 112,
     "metadata": {},
     "output_type": "execute_result"
    }
   ],
   "source": [
    "pd.read_html(reg_w23.summary().tables[1].as_html(),header=0,index_col=0)[0].iloc[-4:,:-2]"
   ]
  },
  {
   "cell_type": "code",
   "execution_count": 113,
   "metadata": {
    "ExecuteTime": {
     "end_time": "2021-07-16T03:15:52.985212Z",
     "start_time": "2021-07-16T03:15:52.608087Z"
    },
    "scrolled": true
   },
   "outputs": [
    {
     "data": {
      "text/html": [
       "<div>\n",
       "<style scoped>\n",
       "    .dataframe tbody tr th:only-of-type {\n",
       "        vertical-align: middle;\n",
       "    }\n",
       "\n",
       "    .dataframe tbody tr th {\n",
       "        vertical-align: top;\n",
       "    }\n",
       "\n",
       "    .dataframe thead th {\n",
       "        text-align: right;\n",
       "    }\n",
       "</style>\n",
       "<table border=\"1\" class=\"dataframe\">\n",
       "  <thead>\n",
       "    <tr style=\"text-align: right;\">\n",
       "      <th></th>\n",
       "      <th>coef</th>\n",
       "      <th>std err</th>\n",
       "      <th>t</th>\n",
       "      <th>P&gt;|t|</th>\n",
       "    </tr>\n",
       "  </thead>\n",
       "  <tbody>\n",
       "    <tr>\n",
       "      <th>CUMP_TRIWEIGHT</th>\n",
       "      <td>0.8074</td>\n",
       "      <td>0.224</td>\n",
       "      <td>3.604</td>\n",
       "      <td>0.000</td>\n",
       "    </tr>\n",
       "    <tr>\n",
       "      <th>OBRIGAÇÃO_FINAL_POR_SALA</th>\n",
       "      <td>-0.0024</td>\n",
       "      <td>0.004</td>\n",
       "      <td>-0.575</td>\n",
       "      <td>0.566</td>\n",
       "    </tr>\n",
       "    <tr>\n",
       "      <th>CUMP_TRIWEIGHT:OBRIGAÇÃO_FINAL_POR_SALA</th>\n",
       "      <td>0.0009</td>\n",
       "      <td>0.005</td>\n",
       "      <td>0.176</td>\n",
       "      <td>0.860</td>\n",
       "    </tr>\n",
       "    <tr>\n",
       "      <th>DIAS_FUNCIONAMENTO</th>\n",
       "      <td>0.0046</td>\n",
       "      <td>0.001</td>\n",
       "      <td>7.918</td>\n",
       "      <td>0.000</td>\n",
       "    </tr>\n",
       "  </tbody>\n",
       "</table>\n",
       "</div>"
      ],
      "text/plain": [
       "                                           coef  std err      t  P>|t|\n",
       "CUMP_TRIWEIGHT                           0.8074    0.224  3.604  0.000\n",
       "OBRIGAÇÃO_FINAL_POR_SALA                -0.0024    0.004 -0.575  0.566\n",
       "CUMP_TRIWEIGHT:OBRIGAÇÃO_FINAL_POR_SALA  0.0009    0.005  0.176  0.860\n",
       "DIAS_FUNCIONAMENTO                       0.0046    0.001  7.918  0.000"
      ]
     },
     "execution_count": 113,
     "metadata": {},
     "output_type": "execute_result"
    }
   ],
   "source": [
    "pd.read_html(reg_w24.summary().tables[1].as_html(),header=0,index_col=0)[0].iloc[-4:,:-2]"
   ]
  },
  {
   "cell_type": "markdown",
   "metadata": {},
   "source": [
    "#### Without entity fixed-effects"
   ]
  },
  {
   "cell_type": "markdown",
   "metadata": {},
   "source": [
    "##### 2017-2019"
   ]
  },
  {
   "cell_type": "markdown",
   "metadata": {},
   "source": [
    "###### Quadratic kernel"
   ]
  },
  {
   "cell_type": "code",
   "execution_count": 114,
   "metadata": {
    "ExecuteTime": {
     "end_time": "2021-07-16T03:16:06.440881Z",
     "start_time": "2021-07-16T03:16:01.002039Z"
    }
   },
   "outputs": [],
   "source": [
    "formul = 'np.log(RENDA) ~ CUMP_QUADRATIC*OBRIGAÇÃO_FINAL_POR_SALA + DIAS_FUNCIONAMENTO + SALAS_COMPLEXO_INFERIDO + ASSENTOS_COMPLEXO_INFERIDO + C(ANO_CINEMATOGRAFICO)*C(MUN_COMPLEXO)'\n",
    "data = [tds_1719, est_1719, bras_1719]\n",
    "\n",
    "# all\n",
    "reg_w25 = smf.ols(formula = formul, data=data[0]).fit()\n",
    "\n",
    "# foreign\n",
    "reg_w26 = smf.ols(formula = formul, data=data[1]).fit()\n",
    "\n",
    "# Brazilian\n",
    "reg_w27 = smf.ols(formula = formul, data=data[2]).fit()"
   ]
  },
  {
   "cell_type": "code",
   "execution_count": 115,
   "metadata": {
    "ExecuteTime": {
     "end_time": "2021-07-16T03:16:07.011528Z",
     "start_time": "2021-07-16T03:16:06.442886Z"
    }
   },
   "outputs": [
    {
     "data": {
      "text/html": [
       "<div>\n",
       "<style scoped>\n",
       "    .dataframe tbody tr th:only-of-type {\n",
       "        vertical-align: middle;\n",
       "    }\n",
       "\n",
       "    .dataframe tbody tr th {\n",
       "        vertical-align: top;\n",
       "    }\n",
       "\n",
       "    .dataframe thead th {\n",
       "        text-align: right;\n",
       "    }\n",
       "</style>\n",
       "<table border=\"1\" class=\"dataframe\">\n",
       "  <thead>\n",
       "    <tr style=\"text-align: right;\">\n",
       "      <th></th>\n",
       "      <th>coef</th>\n",
       "      <th>std err</th>\n",
       "      <th>t</th>\n",
       "      <th>P&gt;|t|</th>\n",
       "    </tr>\n",
       "  </thead>\n",
       "  <tbody>\n",
       "    <tr>\n",
       "      <th>CUMP_QUADRATIC</th>\n",
       "      <td>0.9849</td>\n",
       "      <td>0.200000</td>\n",
       "      <td>4.915</td>\n",
       "      <td>0.000</td>\n",
       "    </tr>\n",
       "    <tr>\n",
       "      <th>OBRIGAÇÃO_FINAL_POR_SALA</th>\n",
       "      <td>0.0055</td>\n",
       "      <td>0.004000</td>\n",
       "      <td>1.237</td>\n",
       "      <td>0.216</td>\n",
       "    </tr>\n",
       "    <tr>\n",
       "      <th>CUMP_QUADRATIC:OBRIGAÇÃO_FINAL_POR_SALA</th>\n",
       "      <td>-0.0033</td>\n",
       "      <td>0.005000</td>\n",
       "      <td>-0.650</td>\n",
       "      <td>0.516</td>\n",
       "    </tr>\n",
       "    <tr>\n",
       "      <th>DIAS_FUNCIONAMENTO</th>\n",
       "      <td>0.0094</td>\n",
       "      <td>0.000000</td>\n",
       "      <td>31.227</td>\n",
       "      <td>0.000</td>\n",
       "    </tr>\n",
       "    <tr>\n",
       "      <th>SALAS_COMPLEXO_INFERIDO</th>\n",
       "      <td>0.2134</td>\n",
       "      <td>0.017000</td>\n",
       "      <td>12.472</td>\n",
       "      <td>0.000</td>\n",
       "    </tr>\n",
       "    <tr>\n",
       "      <th>ASSENTOS_COMPLEXO_INFERIDO</th>\n",
       "      <td>0.0004</td>\n",
       "      <td>0.000064</td>\n",
       "      <td>6.489</td>\n",
       "      <td>0.000</td>\n",
       "    </tr>\n",
       "  </tbody>\n",
       "</table>\n",
       "</div>"
      ],
      "text/plain": [
       "                                           coef   std err       t  P>|t|\n",
       "CUMP_QUADRATIC                           0.9849  0.200000   4.915  0.000\n",
       "OBRIGAÇÃO_FINAL_POR_SALA                 0.0055  0.004000   1.237  0.216\n",
       "CUMP_QUADRATIC:OBRIGAÇÃO_FINAL_POR_SALA -0.0033  0.005000  -0.650  0.516\n",
       "DIAS_FUNCIONAMENTO                       0.0094  0.000000  31.227  0.000\n",
       "SALAS_COMPLEXO_INFERIDO                  0.2134  0.017000  12.472  0.000\n",
       "ASSENTOS_COMPLEXO_INFERIDO               0.0004  0.000064   6.489  0.000"
      ]
     },
     "execution_count": 115,
     "metadata": {},
     "output_type": "execute_result"
    }
   ],
   "source": [
    "pd.read_html(reg_w25.summary().tables[1].as_html(),header=0,index_col=0)[0].iloc[-6:,:-2]"
   ]
  },
  {
   "cell_type": "code",
   "execution_count": 116,
   "metadata": {
    "ExecuteTime": {
     "end_time": "2021-07-16T03:16:07.659221Z",
     "start_time": "2021-07-16T03:16:07.013505Z"
    }
   },
   "outputs": [
    {
     "data": {
      "text/html": [
       "<div>\n",
       "<style scoped>\n",
       "    .dataframe tbody tr th:only-of-type {\n",
       "        vertical-align: middle;\n",
       "    }\n",
       "\n",
       "    .dataframe tbody tr th {\n",
       "        vertical-align: top;\n",
       "    }\n",
       "\n",
       "    .dataframe thead th {\n",
       "        text-align: right;\n",
       "    }\n",
       "</style>\n",
       "<table border=\"1\" class=\"dataframe\">\n",
       "  <thead>\n",
       "    <tr style=\"text-align: right;\">\n",
       "      <th></th>\n",
       "      <th>coef</th>\n",
       "      <th>std err</th>\n",
       "      <th>t</th>\n",
       "      <th>P&gt;|t|</th>\n",
       "    </tr>\n",
       "  </thead>\n",
       "  <tbody>\n",
       "    <tr>\n",
       "      <th>CUMP_QUADRATIC</th>\n",
       "      <td>1.3636</td>\n",
       "      <td>0.232000</td>\n",
       "      <td>5.866</td>\n",
       "      <td>0.000</td>\n",
       "    </tr>\n",
       "    <tr>\n",
       "      <th>OBRIGAÇÃO_FINAL_POR_SALA</th>\n",
       "      <td>0.0078</td>\n",
       "      <td>0.005000</td>\n",
       "      <td>1.517</td>\n",
       "      <td>0.129</td>\n",
       "    </tr>\n",
       "    <tr>\n",
       "      <th>CUMP_QUADRATIC:OBRIGAÇÃO_FINAL_POR_SALA</th>\n",
       "      <td>-0.0087</td>\n",
       "      <td>0.006000</td>\n",
       "      <td>-1.484</td>\n",
       "      <td>0.138</td>\n",
       "    </tr>\n",
       "    <tr>\n",
       "      <th>DIAS_FUNCIONAMENTO</th>\n",
       "      <td>0.0101</td>\n",
       "      <td>0.000000</td>\n",
       "      <td>28.948</td>\n",
       "      <td>0.000</td>\n",
       "    </tr>\n",
       "    <tr>\n",
       "      <th>SALAS_COMPLEXO_INFERIDO</th>\n",
       "      <td>0.2248</td>\n",
       "      <td>0.020000</td>\n",
       "      <td>11.459</td>\n",
       "      <td>0.000</td>\n",
       "    </tr>\n",
       "    <tr>\n",
       "      <th>ASSENTOS_COMPLEXO_INFERIDO</th>\n",
       "      <td>0.0004</td>\n",
       "      <td>0.000074</td>\n",
       "      <td>5.768</td>\n",
       "      <td>0.000</td>\n",
       "    </tr>\n",
       "  </tbody>\n",
       "</table>\n",
       "</div>"
      ],
      "text/plain": [
       "                                           coef   std err       t  P>|t|\n",
       "CUMP_QUADRATIC                           1.3636  0.232000   5.866  0.000\n",
       "OBRIGAÇÃO_FINAL_POR_SALA                 0.0078  0.005000   1.517  0.129\n",
       "CUMP_QUADRATIC:OBRIGAÇÃO_FINAL_POR_SALA -0.0087  0.006000  -1.484  0.138\n",
       "DIAS_FUNCIONAMENTO                       0.0101  0.000000  28.948  0.000\n",
       "SALAS_COMPLEXO_INFERIDO                  0.2248  0.020000  11.459  0.000\n",
       "ASSENTOS_COMPLEXO_INFERIDO               0.0004  0.000074   5.768  0.000"
      ]
     },
     "execution_count": 116,
     "metadata": {},
     "output_type": "execute_result"
    }
   ],
   "source": [
    "pd.read_html(reg_w26.summary().tables[1].as_html(),header=0,index_col=0)[0].iloc[-6:,:-2]"
   ]
  },
  {
   "cell_type": "code",
   "execution_count": 117,
   "metadata": {
    "ExecuteTime": {
     "end_time": "2021-07-16T03:16:08.228757Z",
     "start_time": "2021-07-16T03:16:07.661227Z"
    }
   },
   "outputs": [
    {
     "data": {
      "text/html": [
       "<div>\n",
       "<style scoped>\n",
       "    .dataframe tbody tr th:only-of-type {\n",
       "        vertical-align: middle;\n",
       "    }\n",
       "\n",
       "    .dataframe tbody tr th {\n",
       "        vertical-align: top;\n",
       "    }\n",
       "\n",
       "    .dataframe thead th {\n",
       "        text-align: right;\n",
       "    }\n",
       "</style>\n",
       "<table border=\"1\" class=\"dataframe\">\n",
       "  <thead>\n",
       "    <tr style=\"text-align: right;\">\n",
       "      <th></th>\n",
       "      <th>coef</th>\n",
       "      <th>std err</th>\n",
       "      <th>t</th>\n",
       "      <th>P&gt;|t|</th>\n",
       "    </tr>\n",
       "  </thead>\n",
       "  <tbody>\n",
       "    <tr>\n",
       "      <th>CUMP_QUADRATIC</th>\n",
       "      <td>-0.3221</td>\n",
       "      <td>0.237000</td>\n",
       "      <td>-1.360</td>\n",
       "      <td>0.174</td>\n",
       "    </tr>\n",
       "    <tr>\n",
       "      <th>OBRIGAÇÃO_FINAL_POR_SALA</th>\n",
       "      <td>-0.0080</td>\n",
       "      <td>0.005000</td>\n",
       "      <td>-1.550</td>\n",
       "      <td>0.121</td>\n",
       "    </tr>\n",
       "    <tr>\n",
       "      <th>CUMP_QUADRATIC:OBRIGAÇÃO_FINAL_POR_SALA</th>\n",
       "      <td>0.0270</td>\n",
       "      <td>0.006000</td>\n",
       "      <td>4.549</td>\n",
       "      <td>0.000</td>\n",
       "    </tr>\n",
       "    <tr>\n",
       "      <th>DIAS_FUNCIONAMENTO</th>\n",
       "      <td>0.0072</td>\n",
       "      <td>0.000000</td>\n",
       "      <td>20.432</td>\n",
       "      <td>0.000</td>\n",
       "    </tr>\n",
       "    <tr>\n",
       "      <th>SALAS_COMPLEXO_INFERIDO</th>\n",
       "      <td>0.1908</td>\n",
       "      <td>0.020000</td>\n",
       "      <td>9.659</td>\n",
       "      <td>0.000</td>\n",
       "    </tr>\n",
       "    <tr>\n",
       "      <th>ASSENTOS_COMPLEXO_INFERIDO</th>\n",
       "      <td>0.0004</td>\n",
       "      <td>0.000074</td>\n",
       "      <td>5.619</td>\n",
       "      <td>0.000</td>\n",
       "    </tr>\n",
       "  </tbody>\n",
       "</table>\n",
       "</div>"
      ],
      "text/plain": [
       "                                           coef   std err       t  P>|t|\n",
       "CUMP_QUADRATIC                          -0.3221  0.237000  -1.360  0.174\n",
       "OBRIGAÇÃO_FINAL_POR_SALA                -0.0080  0.005000  -1.550  0.121\n",
       "CUMP_QUADRATIC:OBRIGAÇÃO_FINAL_POR_SALA  0.0270  0.006000   4.549  0.000\n",
       "DIAS_FUNCIONAMENTO                       0.0072  0.000000  20.432  0.000\n",
       "SALAS_COMPLEXO_INFERIDO                  0.1908  0.020000   9.659  0.000\n",
       "ASSENTOS_COMPLEXO_INFERIDO               0.0004  0.000074   5.619  0.000"
      ]
     },
     "execution_count": 117,
     "metadata": {},
     "output_type": "execute_result"
    }
   ],
   "source": [
    "pd.read_html(reg_w27.summary().tables[1].as_html(),header=0,index_col=0)[0].iloc[-6:,:-2]"
   ]
  },
  {
   "cell_type": "markdown",
   "metadata": {},
   "source": [
    "###### Normal pdf kernel"
   ]
  },
  {
   "cell_type": "code",
   "execution_count": 118,
   "metadata": {
    "ExecuteTime": {
     "end_time": "2021-07-16T03:16:13.639807Z",
     "start_time": "2021-07-16T03:16:08.230740Z"
    }
   },
   "outputs": [],
   "source": [
    "formul = 'np.log(RENDA) ~ CUMP_NORMALIZADO*OBRIGAÇÃO_FINAL_POR_SALA + DIAS_FUNCIONAMENTO + SALAS_COMPLEXO_INFERIDO + ASSENTOS_COMPLEXO_INFERIDO + C(ANO_CINEMATOGRAFICO)*C(MUN_COMPLEXO)'\n",
    "data = [tds_1719, est_1719, bras_1719]\n",
    "\n",
    "# all\n",
    "reg_w28 = smf.ols(formula = formul, data=data[0]).fit()\n",
    "\n",
    "# foreign\n",
    "reg_w29 = smf.ols(formula = formul, data=data[1]).fit()\n",
    "\n",
    "# Brazilian\n",
    "reg_w30 = smf.ols(formula = formul, data=data[2]).fit()"
   ]
  },
  {
   "cell_type": "code",
   "execution_count": 119,
   "metadata": {
    "ExecuteTime": {
     "end_time": "2021-07-16T03:16:14.207810Z",
     "start_time": "2021-07-16T03:16:13.639807Z"
    }
   },
   "outputs": [
    {
     "data": {
      "text/html": [
       "<div>\n",
       "<style scoped>\n",
       "    .dataframe tbody tr th:only-of-type {\n",
       "        vertical-align: middle;\n",
       "    }\n",
       "\n",
       "    .dataframe tbody tr th {\n",
       "        vertical-align: top;\n",
       "    }\n",
       "\n",
       "    .dataframe thead th {\n",
       "        text-align: right;\n",
       "    }\n",
       "</style>\n",
       "<table border=\"1\" class=\"dataframe\">\n",
       "  <thead>\n",
       "    <tr style=\"text-align: right;\">\n",
       "      <th></th>\n",
       "      <th>coef</th>\n",
       "      <th>std err</th>\n",
       "      <th>t</th>\n",
       "      <th>P&gt;|t|</th>\n",
       "    </tr>\n",
       "  </thead>\n",
       "  <tbody>\n",
       "    <tr>\n",
       "      <th>CUMP_NORMALIZADO</th>\n",
       "      <td>2.8144</td>\n",
       "      <td>0.723000</td>\n",
       "      <td>3.895</td>\n",
       "      <td>0.000</td>\n",
       "    </tr>\n",
       "    <tr>\n",
       "      <th>OBRIGAÇÃO_FINAL_POR_SALA</th>\n",
       "      <td>-0.0108</td>\n",
       "      <td>0.008000</td>\n",
       "      <td>-1.297</td>\n",
       "      <td>0.195</td>\n",
       "    </tr>\n",
       "    <tr>\n",
       "      <th>CUMP_NORMALIZADO:OBRIGAÇÃO_FINAL_POR_SALA</th>\n",
       "      <td>0.0347</td>\n",
       "      <td>0.022000</td>\n",
       "      <td>1.546</td>\n",
       "      <td>0.122</td>\n",
       "    </tr>\n",
       "    <tr>\n",
       "      <th>DIAS_FUNCIONAMENTO</th>\n",
       "      <td>0.0094</td>\n",
       "      <td>0.000000</td>\n",
       "      <td>31.795</td>\n",
       "      <td>0.000</td>\n",
       "    </tr>\n",
       "    <tr>\n",
       "      <th>SALAS_COMPLEXO_INFERIDO</th>\n",
       "      <td>0.2104</td>\n",
       "      <td>0.017000</td>\n",
       "      <td>12.467</td>\n",
       "      <td>0.000</td>\n",
       "    </tr>\n",
       "    <tr>\n",
       "      <th>ASSENTOS_COMPLEXO_INFERIDO</th>\n",
       "      <td>0.0004</td>\n",
       "      <td>0.000063</td>\n",
       "      <td>6.536</td>\n",
       "      <td>0.000</td>\n",
       "    </tr>\n",
       "  </tbody>\n",
       "</table>\n",
       "</div>"
      ],
      "text/plain": [
       "                                             coef   std err       t  P>|t|\n",
       "CUMP_NORMALIZADO                           2.8144  0.723000   3.895  0.000\n",
       "OBRIGAÇÃO_FINAL_POR_SALA                  -0.0108  0.008000  -1.297  0.195\n",
       "CUMP_NORMALIZADO:OBRIGAÇÃO_FINAL_POR_SALA  0.0347  0.022000   1.546  0.122\n",
       "DIAS_FUNCIONAMENTO                         0.0094  0.000000  31.795  0.000\n",
       "SALAS_COMPLEXO_INFERIDO                    0.2104  0.017000  12.467  0.000\n",
       "ASSENTOS_COMPLEXO_INFERIDO                 0.0004  0.000063   6.536  0.000"
      ]
     },
     "execution_count": 119,
     "metadata": {},
     "output_type": "execute_result"
    }
   ],
   "source": [
    "pd.read_html(reg_w28.summary().tables[1].as_html(),header=0,index_col=0)[0].iloc[-6:,:-2]"
   ]
  },
  {
   "cell_type": "code",
   "execution_count": 120,
   "metadata": {
    "ExecuteTime": {
     "end_time": "2021-07-16T03:16:14.832340Z",
     "start_time": "2021-07-16T03:16:14.208897Z"
    }
   },
   "outputs": [
    {
     "data": {
      "text/html": [
       "<div>\n",
       "<style scoped>\n",
       "    .dataframe tbody tr th:only-of-type {\n",
       "        vertical-align: middle;\n",
       "    }\n",
       "\n",
       "    .dataframe tbody tr th {\n",
       "        vertical-align: top;\n",
       "    }\n",
       "\n",
       "    .dataframe thead th {\n",
       "        text-align: right;\n",
       "    }\n",
       "</style>\n",
       "<table border=\"1\" class=\"dataframe\">\n",
       "  <thead>\n",
       "    <tr style=\"text-align: right;\">\n",
       "      <th></th>\n",
       "      <th>coef</th>\n",
       "      <th>std err</th>\n",
       "      <th>t</th>\n",
       "      <th>P&gt;|t|</th>\n",
       "    </tr>\n",
       "  </thead>\n",
       "  <tbody>\n",
       "    <tr>\n",
       "      <th>CUMP_NORMALIZADO</th>\n",
       "      <td>4.6488</td>\n",
       "      <td>0.853000</td>\n",
       "      <td>5.449</td>\n",
       "      <td>0.000</td>\n",
       "    </tr>\n",
       "    <tr>\n",
       "      <th>OBRIGAÇÃO_FINAL_POR_SALA</th>\n",
       "      <td>-0.0072</td>\n",
       "      <td>0.010000</td>\n",
       "      <td>-0.738</td>\n",
       "      <td>0.461</td>\n",
       "    </tr>\n",
       "    <tr>\n",
       "      <th>CUMP_NORMALIZADO:OBRIGAÇÃO_FINAL_POR_SALA</th>\n",
       "      <td>0.0170</td>\n",
       "      <td>0.026000</td>\n",
       "      <td>0.648</td>\n",
       "      <td>0.517</td>\n",
       "    </tr>\n",
       "    <tr>\n",
       "      <th>DIAS_FUNCIONAMENTO</th>\n",
       "      <td>0.0101</td>\n",
       "      <td>0.000000</td>\n",
       "      <td>29.702</td>\n",
       "      <td>0.000</td>\n",
       "    </tr>\n",
       "    <tr>\n",
       "      <th>SALAS_COMPLEXO_INFERIDO</th>\n",
       "      <td>0.2201</td>\n",
       "      <td>0.019000</td>\n",
       "      <td>11.466</td>\n",
       "      <td>0.000</td>\n",
       "    </tr>\n",
       "    <tr>\n",
       "      <th>ASSENTOS_COMPLEXO_INFERIDO</th>\n",
       "      <td>0.0004</td>\n",
       "      <td>0.000072</td>\n",
       "      <td>5.861</td>\n",
       "      <td>0.000</td>\n",
       "    </tr>\n",
       "  </tbody>\n",
       "</table>\n",
       "</div>"
      ],
      "text/plain": [
       "                                             coef   std err       t  P>|t|\n",
       "CUMP_NORMALIZADO                           4.6488  0.853000   5.449  0.000\n",
       "OBRIGAÇÃO_FINAL_POR_SALA                  -0.0072  0.010000  -0.738  0.461\n",
       "CUMP_NORMALIZADO:OBRIGAÇÃO_FINAL_POR_SALA  0.0170  0.026000   0.648  0.517\n",
       "DIAS_FUNCIONAMENTO                         0.0101  0.000000  29.702  0.000\n",
       "SALAS_COMPLEXO_INFERIDO                    0.2201  0.019000  11.466  0.000\n",
       "ASSENTOS_COMPLEXO_INFERIDO                 0.0004  0.000072   5.861  0.000"
      ]
     },
     "execution_count": 120,
     "metadata": {},
     "output_type": "execute_result"
    }
   ],
   "source": [
    "pd.read_html(reg_w29.summary().tables[1].as_html(),header=0,index_col=0)[0].iloc[-6:,:-2]"
   ]
  },
  {
   "cell_type": "code",
   "execution_count": 121,
   "metadata": {
    "ExecuteTime": {
     "end_time": "2021-07-16T03:16:15.428143Z",
     "start_time": "2021-07-16T03:16:14.836351Z"
    }
   },
   "outputs": [
    {
     "data": {
      "text/html": [
       "<div>\n",
       "<style scoped>\n",
       "    .dataframe tbody tr th:only-of-type {\n",
       "        vertical-align: middle;\n",
       "    }\n",
       "\n",
       "    .dataframe tbody tr th {\n",
       "        vertical-align: top;\n",
       "    }\n",
       "\n",
       "    .dataframe thead th {\n",
       "        text-align: right;\n",
       "    }\n",
       "</style>\n",
       "<table border=\"1\" class=\"dataframe\">\n",
       "  <thead>\n",
       "    <tr style=\"text-align: right;\">\n",
       "      <th></th>\n",
       "      <th>coef</th>\n",
       "      <th>std err</th>\n",
       "      <th>t</th>\n",
       "      <th>P&gt;|t|</th>\n",
       "    </tr>\n",
       "  </thead>\n",
       "  <tbody>\n",
       "    <tr>\n",
       "      <th>CUMP_NORMALIZADO</th>\n",
       "      <td>-3.1058</td>\n",
       "      <td>0.848000</td>\n",
       "      <td>-3.663</td>\n",
       "      <td>0.0</td>\n",
       "    </tr>\n",
       "    <tr>\n",
       "      <th>OBRIGAÇÃO_FINAL_POR_SALA</th>\n",
       "      <td>-0.0391</td>\n",
       "      <td>0.010000</td>\n",
       "      <td>-4.000</td>\n",
       "      <td>0.0</td>\n",
       "    </tr>\n",
       "    <tr>\n",
       "      <th>CUMP_NORMALIZADO:OBRIGAÇÃO_FINAL_POR_SALA</th>\n",
       "      <td>0.1486</td>\n",
       "      <td>0.026000</td>\n",
       "      <td>5.644</td>\n",
       "      <td>0.0</td>\n",
       "    </tr>\n",
       "    <tr>\n",
       "      <th>DIAS_FUNCIONAMENTO</th>\n",
       "      <td>0.0075</td>\n",
       "      <td>0.000000</td>\n",
       "      <td>20.994</td>\n",
       "      <td>0.0</td>\n",
       "    </tr>\n",
       "    <tr>\n",
       "      <th>SALAS_COMPLEXO_INFERIDO</th>\n",
       "      <td>0.1944</td>\n",
       "      <td>0.020000</td>\n",
       "      <td>9.828</td>\n",
       "      <td>0.0</td>\n",
       "    </tr>\n",
       "    <tr>\n",
       "      <th>ASSENTOS_COMPLEXO_INFERIDO</th>\n",
       "      <td>0.0004</td>\n",
       "      <td>0.000074</td>\n",
       "      <td>5.503</td>\n",
       "      <td>0.0</td>\n",
       "    </tr>\n",
       "  </tbody>\n",
       "</table>\n",
       "</div>"
      ],
      "text/plain": [
       "                                             coef   std err       t  P>|t|\n",
       "CUMP_NORMALIZADO                          -3.1058  0.848000  -3.663    0.0\n",
       "OBRIGAÇÃO_FINAL_POR_SALA                  -0.0391  0.010000  -4.000    0.0\n",
       "CUMP_NORMALIZADO:OBRIGAÇÃO_FINAL_POR_SALA  0.1486  0.026000   5.644    0.0\n",
       "DIAS_FUNCIONAMENTO                         0.0075  0.000000  20.994    0.0\n",
       "SALAS_COMPLEXO_INFERIDO                    0.1944  0.020000   9.828    0.0\n",
       "ASSENTOS_COMPLEXO_INFERIDO                 0.0004  0.000074   5.503    0.0"
      ]
     },
     "execution_count": 121,
     "metadata": {},
     "output_type": "execute_result"
    }
   ],
   "source": [
    "pd.read_html(reg_w30.summary().tables[1].as_html(),header=0,index_col=0)[0].iloc[-6:,:-2]"
   ]
  },
  {
   "cell_type": "markdown",
   "metadata": {},
   "source": [
    "###### Triangular kernel"
   ]
  },
  {
   "cell_type": "code",
   "execution_count": 122,
   "metadata": {
    "ExecuteTime": {
     "end_time": "2021-07-16T03:16:20.462532Z",
     "start_time": "2021-07-16T03:16:15.431151Z"
    }
   },
   "outputs": [],
   "source": [
    "formul = 'np.log(RENDA) ~ CUMP_LINEAR*OBRIGAÇÃO_FINAL_POR_SALA + DIAS_FUNCIONAMENTO + SALAS_COMPLEXO_INFERIDO + ASSENTOS_COMPLEXO_INFERIDO + C(ANO_CINEMATOGRAFICO)*C(MUN_COMPLEXO)'\n",
    "data = [tds_1719, est_1719, bras_1719]\n",
    "\n",
    "# all\n",
    "reg_w31 = smf.ols(formula = formul, data=data[0]).fit()\n",
    "\n",
    "# foreign\n",
    "reg_w32 = smf.ols(formula = formul, data=data[1]).fit()\n",
    "\n",
    "# Brazilian\n",
    "reg_w33 = smf.ols(formula = formul, data=data[2]).fit()"
   ]
  },
  {
   "cell_type": "code",
   "execution_count": 123,
   "metadata": {
    "ExecuteTime": {
     "end_time": "2021-07-16T03:16:21.083087Z",
     "start_time": "2021-07-16T03:16:20.462532Z"
    }
   },
   "outputs": [
    {
     "data": {
      "text/html": [
       "<div>\n",
       "<style scoped>\n",
       "    .dataframe tbody tr th:only-of-type {\n",
       "        vertical-align: middle;\n",
       "    }\n",
       "\n",
       "    .dataframe tbody tr th {\n",
       "        vertical-align: top;\n",
       "    }\n",
       "\n",
       "    .dataframe thead th {\n",
       "        text-align: right;\n",
       "    }\n",
       "</style>\n",
       "<table border=\"1\" class=\"dataframe\">\n",
       "  <thead>\n",
       "    <tr style=\"text-align: right;\">\n",
       "      <th></th>\n",
       "      <th>coef</th>\n",
       "      <th>std err</th>\n",
       "      <th>t</th>\n",
       "      <th>P&gt;|t|</th>\n",
       "    </tr>\n",
       "  </thead>\n",
       "  <tbody>\n",
       "    <tr>\n",
       "      <th>CUMP_LINEAR</th>\n",
       "      <td>1.4171</td>\n",
       "      <td>0.207000</td>\n",
       "      <td>6.859</td>\n",
       "      <td>0.000</td>\n",
       "    </tr>\n",
       "    <tr>\n",
       "      <th>OBRIGAÇÃO_FINAL_POR_SALA</th>\n",
       "      <td>0.0119</td>\n",
       "      <td>0.003000</td>\n",
       "      <td>3.506</td>\n",
       "      <td>0.000</td>\n",
       "    </tr>\n",
       "    <tr>\n",
       "      <th>CUMP_LINEAR:OBRIGAÇÃO_FINAL_POR_SALA</th>\n",
       "      <td>-0.0136</td>\n",
       "      <td>0.004000</td>\n",
       "      <td>-3.121</td>\n",
       "      <td>0.002</td>\n",
       "    </tr>\n",
       "    <tr>\n",
       "      <th>DIAS_FUNCIONAMENTO</th>\n",
       "      <td>0.0093</td>\n",
       "      <td>0.000000</td>\n",
       "      <td>31.436</td>\n",
       "      <td>0.000</td>\n",
       "    </tr>\n",
       "    <tr>\n",
       "      <th>SALAS_COMPLEXO_INFERIDO</th>\n",
       "      <td>0.2111</td>\n",
       "      <td>0.017000</td>\n",
       "      <td>12.430</td>\n",
       "      <td>0.000</td>\n",
       "    </tr>\n",
       "    <tr>\n",
       "      <th>ASSENTOS_COMPLEXO_INFERIDO</th>\n",
       "      <td>0.0004</td>\n",
       "      <td>0.000064</td>\n",
       "      <td>6.547</td>\n",
       "      <td>0.000</td>\n",
       "    </tr>\n",
       "  </tbody>\n",
       "</table>\n",
       "</div>"
      ],
      "text/plain": [
       "                                        coef   std err       t  P>|t|\n",
       "CUMP_LINEAR                           1.4171  0.207000   6.859  0.000\n",
       "OBRIGAÇÃO_FINAL_POR_SALA              0.0119  0.003000   3.506  0.000\n",
       "CUMP_LINEAR:OBRIGAÇÃO_FINAL_POR_SALA -0.0136  0.004000  -3.121  0.002\n",
       "DIAS_FUNCIONAMENTO                    0.0093  0.000000  31.436  0.000\n",
       "SALAS_COMPLEXO_INFERIDO               0.2111  0.017000  12.430  0.000\n",
       "ASSENTOS_COMPLEXO_INFERIDO            0.0004  0.000064   6.547  0.000"
      ]
     },
     "execution_count": 123,
     "metadata": {},
     "output_type": "execute_result"
    }
   ],
   "source": [
    "pd.read_html(reg_w31.summary().tables[1].as_html(),header=0,index_col=0)[0].iloc[-6:,:-2]"
   ]
  },
  {
   "cell_type": "code",
   "execution_count": 124,
   "metadata": {
    "ExecuteTime": {
     "end_time": "2021-07-16T03:16:21.661899Z",
     "start_time": "2021-07-16T03:16:21.085092Z"
    }
   },
   "outputs": [
    {
     "data": {
      "text/html": [
       "<div>\n",
       "<style scoped>\n",
       "    .dataframe tbody tr th:only-of-type {\n",
       "        vertical-align: middle;\n",
       "    }\n",
       "\n",
       "    .dataframe tbody tr th {\n",
       "        vertical-align: top;\n",
       "    }\n",
       "\n",
       "    .dataframe thead th {\n",
       "        text-align: right;\n",
       "    }\n",
       "</style>\n",
       "<table border=\"1\" class=\"dataframe\">\n",
       "  <thead>\n",
       "    <tr style=\"text-align: right;\">\n",
       "      <th></th>\n",
       "      <th>coef</th>\n",
       "      <th>std err</th>\n",
       "      <th>t</th>\n",
       "      <th>P&gt;|t|</th>\n",
       "    </tr>\n",
       "  </thead>\n",
       "  <tbody>\n",
       "    <tr>\n",
       "      <th>CUMP_LINEAR</th>\n",
       "      <td>1.7959</td>\n",
       "      <td>0.240000</td>\n",
       "      <td>7.494</td>\n",
       "      <td>0.0</td>\n",
       "    </tr>\n",
       "    <tr>\n",
       "      <th>OBRIGAÇÃO_FINAL_POR_SALA</th>\n",
       "      <td>0.0142</td>\n",
       "      <td>0.004000</td>\n",
       "      <td>3.617</td>\n",
       "      <td>0.0</td>\n",
       "    </tr>\n",
       "    <tr>\n",
       "      <th>CUMP_LINEAR:OBRIGAÇÃO_FINAL_POR_SALA</th>\n",
       "      <td>-0.0197</td>\n",
       "      <td>0.005000</td>\n",
       "      <td>-3.899</td>\n",
       "      <td>0.0</td>\n",
       "    </tr>\n",
       "    <tr>\n",
       "      <th>DIAS_FUNCIONAMENTO</th>\n",
       "      <td>0.0101</td>\n",
       "      <td>0.000000</td>\n",
       "      <td>29.136</td>\n",
       "      <td>0.0</td>\n",
       "    </tr>\n",
       "    <tr>\n",
       "      <th>SALAS_COMPLEXO_INFERIDO</th>\n",
       "      <td>0.2229</td>\n",
       "      <td>0.020000</td>\n",
       "      <td>11.415</td>\n",
       "      <td>0.0</td>\n",
       "    </tr>\n",
       "    <tr>\n",
       "      <th>ASSENTOS_COMPLEXO_INFERIDO</th>\n",
       "      <td>0.0004</td>\n",
       "      <td>0.000073</td>\n",
       "      <td>5.795</td>\n",
       "      <td>0.0</td>\n",
       "    </tr>\n",
       "  </tbody>\n",
       "</table>\n",
       "</div>"
      ],
      "text/plain": [
       "                                        coef   std err       t  P>|t|\n",
       "CUMP_LINEAR                           1.7959  0.240000   7.494    0.0\n",
       "OBRIGAÇÃO_FINAL_POR_SALA              0.0142  0.004000   3.617    0.0\n",
       "CUMP_LINEAR:OBRIGAÇÃO_FINAL_POR_SALA -0.0197  0.005000  -3.899    0.0\n",
       "DIAS_FUNCIONAMENTO                    0.0101  0.000000  29.136    0.0\n",
       "SALAS_COMPLEXO_INFERIDO               0.2229  0.020000  11.415    0.0\n",
       "ASSENTOS_COMPLEXO_INFERIDO            0.0004  0.000073   5.795    0.0"
      ]
     },
     "execution_count": 124,
     "metadata": {},
     "output_type": "execute_result"
    }
   ],
   "source": [
    "pd.read_html(reg_w32.summary().tables[1].as_html(),header=0,index_col=0)[0].iloc[-6:,:-2]"
   ]
  },
  {
   "cell_type": "code",
   "execution_count": 125,
   "metadata": {
    "ExecuteTime": {
     "end_time": "2021-07-16T03:16:22.233418Z",
     "start_time": "2021-07-16T03:16:21.663904Z"
    }
   },
   "outputs": [
    {
     "data": {
      "text/html": [
       "<div>\n",
       "<style scoped>\n",
       "    .dataframe tbody tr th:only-of-type {\n",
       "        vertical-align: middle;\n",
       "    }\n",
       "\n",
       "    .dataframe tbody tr th {\n",
       "        vertical-align: top;\n",
       "    }\n",
       "\n",
       "    .dataframe thead th {\n",
       "        text-align: right;\n",
       "    }\n",
       "</style>\n",
       "<table border=\"1\" class=\"dataframe\">\n",
       "  <thead>\n",
       "    <tr style=\"text-align: right;\">\n",
       "      <th></th>\n",
       "      <th>coef</th>\n",
       "      <th>std err</th>\n",
       "      <th>t</th>\n",
       "      <th>P&gt;|t|</th>\n",
       "    </tr>\n",
       "  </thead>\n",
       "  <tbody>\n",
       "    <tr>\n",
       "      <th>CUMP_LINEAR</th>\n",
       "      <td>0.3137</td>\n",
       "      <td>0.243000</td>\n",
       "      <td>1.290</td>\n",
       "      <td>0.197</td>\n",
       "    </tr>\n",
       "    <tr>\n",
       "      <th>OBRIGAÇÃO_FINAL_POR_SALA</th>\n",
       "      <td>0.0055</td>\n",
       "      <td>0.004000</td>\n",
       "      <td>1.397</td>\n",
       "      <td>0.163</td>\n",
       "    </tr>\n",
       "    <tr>\n",
       "      <th>CUMP_LINEAR:OBRIGAÇÃO_FINAL_POR_SALA</th>\n",
       "      <td>0.0108</td>\n",
       "      <td>0.005000</td>\n",
       "      <td>2.107</td>\n",
       "      <td>0.035</td>\n",
       "    </tr>\n",
       "    <tr>\n",
       "      <th>DIAS_FUNCIONAMENTO</th>\n",
       "      <td>0.0071</td>\n",
       "      <td>0.000000</td>\n",
       "      <td>20.253</td>\n",
       "      <td>0.000</td>\n",
       "    </tr>\n",
       "    <tr>\n",
       "      <th>SALAS_COMPLEXO_INFERIDO</th>\n",
       "      <td>0.1891</td>\n",
       "      <td>0.020000</td>\n",
       "      <td>9.598</td>\n",
       "      <td>0.000</td>\n",
       "    </tr>\n",
       "    <tr>\n",
       "      <th>ASSENTOS_COMPLEXO_INFERIDO</th>\n",
       "      <td>0.0004</td>\n",
       "      <td>0.000074</td>\n",
       "      <td>5.657</td>\n",
       "      <td>0.000</td>\n",
       "    </tr>\n",
       "  </tbody>\n",
       "</table>\n",
       "</div>"
      ],
      "text/plain": [
       "                                        coef   std err       t  P>|t|\n",
       "CUMP_LINEAR                           0.3137  0.243000   1.290  0.197\n",
       "OBRIGAÇÃO_FINAL_POR_SALA              0.0055  0.004000   1.397  0.163\n",
       "CUMP_LINEAR:OBRIGAÇÃO_FINAL_POR_SALA  0.0108  0.005000   2.107  0.035\n",
       "DIAS_FUNCIONAMENTO                    0.0071  0.000000  20.253  0.000\n",
       "SALAS_COMPLEXO_INFERIDO               0.1891  0.020000   9.598  0.000\n",
       "ASSENTOS_COMPLEXO_INFERIDO            0.0004  0.000074   5.657  0.000"
      ]
     },
     "execution_count": 125,
     "metadata": {},
     "output_type": "execute_result"
    }
   ],
   "source": [
    "pd.read_html(reg_w33.summary().tables[1].as_html(),header=0,index_col=0)[0].iloc[-6:,:-2]"
   ]
  },
  {
   "cell_type": "markdown",
   "metadata": {},
   "source": [
    "###### Triweight kernel"
   ]
  },
  {
   "cell_type": "code",
   "execution_count": 126,
   "metadata": {
    "ExecuteTime": {
     "end_time": "2021-07-16T03:16:27.375654Z",
     "start_time": "2021-07-16T03:16:22.235423Z"
    }
   },
   "outputs": [],
   "source": [
    "formul = 'np.log(RENDA) ~ CUMP_TRIWEIGHT*OBRIGAÇÃO_FINAL_POR_SALA + DIAS_FUNCIONAMENTO + SALAS_COMPLEXO_INFERIDO + ASSENTOS_COMPLEXO_INFERIDO + C(ANO_CINEMATOGRAFICO)*C(MUN_COMPLEXO)'\n",
    "data = [tds_1719, est_1719, bras_1719]\n",
    "\n",
    "# all\n",
    "reg_w34 = smf.ols(formula = formul, data=data[0]).fit()\n",
    "\n",
    "# foreign\n",
    "reg_w35 = smf.ols(formula = formul, data=data[1]).fit()\n",
    "\n",
    "# Brazilian\n",
    "reg_w36 = smf.ols(formula = formul, data=data[2]).fit()"
   ]
  },
  {
   "cell_type": "code",
   "execution_count": 127,
   "metadata": {
    "ExecuteTime": {
     "end_time": "2021-07-16T03:16:28.012490Z",
     "start_time": "2021-07-16T03:16:27.376657Z"
    }
   },
   "outputs": [
    {
     "data": {
      "text/html": [
       "<div>\n",
       "<style scoped>\n",
       "    .dataframe tbody tr th:only-of-type {\n",
       "        vertical-align: middle;\n",
       "    }\n",
       "\n",
       "    .dataframe tbody tr th {\n",
       "        vertical-align: top;\n",
       "    }\n",
       "\n",
       "    .dataframe thead th {\n",
       "        text-align: right;\n",
       "    }\n",
       "</style>\n",
       "<table border=\"1\" class=\"dataframe\">\n",
       "  <thead>\n",
       "    <tr style=\"text-align: right;\">\n",
       "      <th></th>\n",
       "      <th>coef</th>\n",
       "      <th>std err</th>\n",
       "      <th>t</th>\n",
       "      <th>P&gt;|t|</th>\n",
       "    </tr>\n",
       "  </thead>\n",
       "  <tbody>\n",
       "    <tr>\n",
       "      <th>CUMP_TRIWEIGHT</th>\n",
       "      <td>1.3488</td>\n",
       "      <td>0.186000</td>\n",
       "      <td>7.232</td>\n",
       "      <td>0.0</td>\n",
       "    </tr>\n",
       "    <tr>\n",
       "      <th>OBRIGAÇÃO_FINAL_POR_SALA</th>\n",
       "      <td>0.0133</td>\n",
       "      <td>0.003000</td>\n",
       "      <td>4.406</td>\n",
       "      <td>0.0</td>\n",
       "    </tr>\n",
       "    <tr>\n",
       "      <th>CUMP_TRIWEIGHT:OBRIGAÇÃO_FINAL_POR_SALA</th>\n",
       "      <td>-0.0152</td>\n",
       "      <td>0.004000</td>\n",
       "      <td>-3.987</td>\n",
       "      <td>0.0</td>\n",
       "    </tr>\n",
       "    <tr>\n",
       "      <th>DIAS_FUNCIONAMENTO</th>\n",
       "      <td>0.0094</td>\n",
       "      <td>0.000000</td>\n",
       "      <td>31.632</td>\n",
       "      <td>0.0</td>\n",
       "    </tr>\n",
       "    <tr>\n",
       "      <th>SALAS_COMPLEXO_INFERIDO</th>\n",
       "      <td>0.2128</td>\n",
       "      <td>0.017000</td>\n",
       "      <td>12.506</td>\n",
       "      <td>0.0</td>\n",
       "    </tr>\n",
       "    <tr>\n",
       "      <th>ASSENTOS_COMPLEXO_INFERIDO</th>\n",
       "      <td>0.0004</td>\n",
       "      <td>0.000064</td>\n",
       "      <td>6.505</td>\n",
       "      <td>0.0</td>\n",
       "    </tr>\n",
       "  </tbody>\n",
       "</table>\n",
       "</div>"
      ],
      "text/plain": [
       "                                           coef   std err       t  P>|t|\n",
       "CUMP_TRIWEIGHT                           1.3488  0.186000   7.232    0.0\n",
       "OBRIGAÇÃO_FINAL_POR_SALA                 0.0133  0.003000   4.406    0.0\n",
       "CUMP_TRIWEIGHT:OBRIGAÇÃO_FINAL_POR_SALA -0.0152  0.004000  -3.987    0.0\n",
       "DIAS_FUNCIONAMENTO                       0.0094  0.000000  31.632    0.0\n",
       "SALAS_COMPLEXO_INFERIDO                  0.2128  0.017000  12.506    0.0\n",
       "ASSENTOS_COMPLEXO_INFERIDO               0.0004  0.000064   6.505    0.0"
      ]
     },
     "execution_count": 127,
     "metadata": {},
     "output_type": "execute_result"
    }
   ],
   "source": [
    "pd.read_html(reg_w34.summary().tables[1].as_html(),header=0,index_col=0)[0].iloc[-6:,:-2]"
   ]
  },
  {
   "cell_type": "code",
   "execution_count": 128,
   "metadata": {
    "ExecuteTime": {
     "end_time": "2021-07-16T03:16:28.584008Z",
     "start_time": "2021-07-16T03:16:28.014472Z"
    }
   },
   "outputs": [
    {
     "data": {
      "text/html": [
       "<div>\n",
       "<style scoped>\n",
       "    .dataframe tbody tr th:only-of-type {\n",
       "        vertical-align: middle;\n",
       "    }\n",
       "\n",
       "    .dataframe tbody tr th {\n",
       "        vertical-align: top;\n",
       "    }\n",
       "\n",
       "    .dataframe thead th {\n",
       "        text-align: right;\n",
       "    }\n",
       "</style>\n",
       "<table border=\"1\" class=\"dataframe\">\n",
       "  <thead>\n",
       "    <tr style=\"text-align: right;\">\n",
       "      <th></th>\n",
       "      <th>coef</th>\n",
       "      <th>std err</th>\n",
       "      <th>t</th>\n",
       "      <th>P&gt;|t|</th>\n",
       "    </tr>\n",
       "  </thead>\n",
       "  <tbody>\n",
       "    <tr>\n",
       "      <th>CUMP_TRIWEIGHT</th>\n",
       "      <td>1.6678</td>\n",
       "      <td>0.216000</td>\n",
       "      <td>7.720</td>\n",
       "      <td>0.0</td>\n",
       "    </tr>\n",
       "    <tr>\n",
       "      <th>OBRIGAÇÃO_FINAL_POR_SALA</th>\n",
       "      <td>0.0152</td>\n",
       "      <td>0.003000</td>\n",
       "      <td>4.351</td>\n",
       "      <td>0.0</td>\n",
       "    </tr>\n",
       "    <tr>\n",
       "      <th>CUMP_TRIWEIGHT:OBRIGAÇÃO_FINAL_POR_SALA</th>\n",
       "      <td>-0.0206</td>\n",
       "      <td>0.004000</td>\n",
       "      <td>-4.667</td>\n",
       "      <td>0.0</td>\n",
       "    </tr>\n",
       "    <tr>\n",
       "      <th>DIAS_FUNCIONAMENTO</th>\n",
       "      <td>0.0101</td>\n",
       "      <td>0.000000</td>\n",
       "      <td>29.333</td>\n",
       "      <td>0.0</td>\n",
       "    </tr>\n",
       "    <tr>\n",
       "      <th>SALAS_COMPLEXO_INFERIDO</th>\n",
       "      <td>0.2250</td>\n",
       "      <td>0.020000</td>\n",
       "      <td>11.498</td>\n",
       "      <td>0.0</td>\n",
       "    </tr>\n",
       "    <tr>\n",
       "      <th>ASSENTOS_COMPLEXO_INFERIDO</th>\n",
       "      <td>0.0004</td>\n",
       "      <td>0.000073</td>\n",
       "      <td>5.746</td>\n",
       "      <td>0.0</td>\n",
       "    </tr>\n",
       "  </tbody>\n",
       "</table>\n",
       "</div>"
      ],
      "text/plain": [
       "                                           coef   std err       t  P>|t|\n",
       "CUMP_TRIWEIGHT                           1.6678  0.216000   7.720    0.0\n",
       "OBRIGAÇÃO_FINAL_POR_SALA                 0.0152  0.003000   4.351    0.0\n",
       "CUMP_TRIWEIGHT:OBRIGAÇÃO_FINAL_POR_SALA -0.0206  0.004000  -4.667    0.0\n",
       "DIAS_FUNCIONAMENTO                       0.0101  0.000000  29.333    0.0\n",
       "SALAS_COMPLEXO_INFERIDO                  0.2250  0.020000  11.498    0.0\n",
       "ASSENTOS_COMPLEXO_INFERIDO               0.0004  0.000073   5.746    0.0"
      ]
     },
     "execution_count": 128,
     "metadata": {},
     "output_type": "execute_result"
    }
   ],
   "source": [
    "pd.read_html(reg_w35.summary().tables[1].as_html(),header=0,index_col=0)[0].iloc[-6:,:-2]"
   ]
  },
  {
   "cell_type": "code",
   "execution_count": 129,
   "metadata": {
    "ExecuteTime": {
     "end_time": "2021-07-16T03:16:29.206664Z",
     "start_time": "2021-07-16T03:16:28.585992Z"
    },
    "scrolled": true
   },
   "outputs": [
    {
     "data": {
      "text/html": [
       "<div>\n",
       "<style scoped>\n",
       "    .dataframe tbody tr th:only-of-type {\n",
       "        vertical-align: middle;\n",
       "    }\n",
       "\n",
       "    .dataframe tbody tr th {\n",
       "        vertical-align: top;\n",
       "    }\n",
       "\n",
       "    .dataframe thead th {\n",
       "        text-align: right;\n",
       "    }\n",
       "</style>\n",
       "<table border=\"1\" class=\"dataframe\">\n",
       "  <thead>\n",
       "    <tr style=\"text-align: right;\">\n",
       "      <th></th>\n",
       "      <th>coef</th>\n",
       "      <th>std err</th>\n",
       "      <th>t</th>\n",
       "      <th>P&gt;|t|</th>\n",
       "    </tr>\n",
       "  </thead>\n",
       "  <tbody>\n",
       "    <tr>\n",
       "      <th>CUMP_TRIWEIGHT</th>\n",
       "      <td>0.4597</td>\n",
       "      <td>0.217000</td>\n",
       "      <td>2.115</td>\n",
       "      <td>0.035</td>\n",
       "    </tr>\n",
       "    <tr>\n",
       "      <th>OBRIGAÇÃO_FINAL_POR_SALA</th>\n",
       "      <td>0.0089</td>\n",
       "      <td>0.004000</td>\n",
       "      <td>2.537</td>\n",
       "      <td>0.011</td>\n",
       "    </tr>\n",
       "    <tr>\n",
       "      <th>CUMP_TRIWEIGHT:OBRIGAÇÃO_FINAL_POR_SALA</th>\n",
       "      <td>0.0061</td>\n",
       "      <td>0.004000</td>\n",
       "      <td>1.384</td>\n",
       "      <td>0.167</td>\n",
       "    </tr>\n",
       "    <tr>\n",
       "      <th>DIAS_FUNCIONAMENTO</th>\n",
       "      <td>0.0071</td>\n",
       "      <td>0.000000</td>\n",
       "      <td>20.226</td>\n",
       "      <td>0.000</td>\n",
       "    </tr>\n",
       "    <tr>\n",
       "      <th>SALAS_COMPLEXO_INFERIDO</th>\n",
       "      <td>0.1881</td>\n",
       "      <td>0.020000</td>\n",
       "      <td>9.573</td>\n",
       "      <td>0.000</td>\n",
       "    </tr>\n",
       "    <tr>\n",
       "      <th>ASSENTOS_COMPLEXO_INFERIDO</th>\n",
       "      <td>0.0004</td>\n",
       "      <td>0.000074</td>\n",
       "      <td>5.679</td>\n",
       "      <td>0.000</td>\n",
       "    </tr>\n",
       "  </tbody>\n",
       "</table>\n",
       "</div>"
      ],
      "text/plain": [
       "                                           coef   std err       t  P>|t|\n",
       "CUMP_TRIWEIGHT                           0.4597  0.217000   2.115  0.035\n",
       "OBRIGAÇÃO_FINAL_POR_SALA                 0.0089  0.004000   2.537  0.011\n",
       "CUMP_TRIWEIGHT:OBRIGAÇÃO_FINAL_POR_SALA  0.0061  0.004000   1.384  0.167\n",
       "DIAS_FUNCIONAMENTO                       0.0071  0.000000  20.226  0.000\n",
       "SALAS_COMPLEXO_INFERIDO                  0.1881  0.020000   9.573  0.000\n",
       "ASSENTOS_COMPLEXO_INFERIDO               0.0004  0.000074   5.679  0.000"
      ]
     },
     "execution_count": 129,
     "metadata": {},
     "output_type": "execute_result"
    }
   ],
   "source": [
    "pd.read_html(reg_w36.summary().tables[1].as_html(),header=0,index_col=0)[0].iloc[-6:,:-2]"
   ]
  },
  {
   "cell_type": "markdown",
   "metadata": {},
   "source": [
    "##### 2017-2018"
   ]
  },
  {
   "cell_type": "markdown",
   "metadata": {},
   "source": [
    "###### Quadratic kernel"
   ]
  },
  {
   "cell_type": "code",
   "execution_count": 130,
   "metadata": {
    "ExecuteTime": {
     "end_time": "2021-07-16T03:16:30.532947Z",
     "start_time": "2021-07-16T03:16:29.208763Z"
    }
   },
   "outputs": [],
   "source": [
    "formul = 'np.log(RENDA) ~ CUMP_QUADRATIC*OBRIGAÇÃO_FINAL_POR_SALA + DIAS_FUNCIONAMENTO + SALAS_COMPLEXO_INFERIDO + ASSENTOS_COMPLEXO_INFERIDO + C(ANO_CINEMATOGRAFICO)*C(MUN_COMPLEXO)'\n",
    "data = [tds_1718, est_1718, bras_1718]\n",
    "\n",
    "# all\n",
    "reg_w36 = smf.ols(formula = formul, data=data[0]).fit()\n",
    "\n",
    "# foreign\n",
    "reg_w37 = smf.ols(formula = formul, data=data[1]).fit()\n",
    "\n",
    "# Brazilian\n",
    "reg_w38 = smf.ols(formula = formul, data=data[2]).fit()"
   ]
  },
  {
   "cell_type": "code",
   "execution_count": 131,
   "metadata": {
    "ExecuteTime": {
     "end_time": "2021-07-16T03:16:30.912958Z",
     "start_time": "2021-07-16T03:16:30.533950Z"
    }
   },
   "outputs": [
    {
     "data": {
      "text/html": [
       "<div>\n",
       "<style scoped>\n",
       "    .dataframe tbody tr th:only-of-type {\n",
       "        vertical-align: middle;\n",
       "    }\n",
       "\n",
       "    .dataframe tbody tr th {\n",
       "        vertical-align: top;\n",
       "    }\n",
       "\n",
       "    .dataframe thead th {\n",
       "        text-align: right;\n",
       "    }\n",
       "</style>\n",
       "<table border=\"1\" class=\"dataframe\">\n",
       "  <thead>\n",
       "    <tr style=\"text-align: right;\">\n",
       "      <th></th>\n",
       "      <th>coef</th>\n",
       "      <th>std err</th>\n",
       "      <th>t</th>\n",
       "      <th>P&gt;|t|</th>\n",
       "    </tr>\n",
       "  </thead>\n",
       "  <tbody>\n",
       "    <tr>\n",
       "      <th>CUMP_QUADRATIC</th>\n",
       "      <td>1.1182</td>\n",
       "      <td>0.198000</td>\n",
       "      <td>5.639</td>\n",
       "      <td>0.000</td>\n",
       "    </tr>\n",
       "    <tr>\n",
       "      <th>OBRIGAÇÃO_FINAL_POR_SALA</th>\n",
       "      <td>0.0096</td>\n",
       "      <td>0.004000</td>\n",
       "      <td>2.168</td>\n",
       "      <td>0.030</td>\n",
       "    </tr>\n",
       "    <tr>\n",
       "      <th>CUMP_QUADRATIC:OBRIGAÇÃO_FINAL_POR_SALA</th>\n",
       "      <td>-0.0021</td>\n",
       "      <td>0.005000</td>\n",
       "      <td>-0.422</td>\n",
       "      <td>0.673</td>\n",
       "    </tr>\n",
       "    <tr>\n",
       "      <th>DIAS_FUNCIONAMENTO</th>\n",
       "      <td>0.0078</td>\n",
       "      <td>0.000000</td>\n",
       "      <td>16.762</td>\n",
       "      <td>0.000</td>\n",
       "    </tr>\n",
       "    <tr>\n",
       "      <th>SALAS_COMPLEXO_INFERIDO</th>\n",
       "      <td>0.1861</td>\n",
       "      <td>0.021000</td>\n",
       "      <td>8.711</td>\n",
       "      <td>0.000</td>\n",
       "    </tr>\n",
       "    <tr>\n",
       "      <th>ASSENTOS_COMPLEXO_INFERIDO</th>\n",
       "      <td>0.0004</td>\n",
       "      <td>0.000078</td>\n",
       "      <td>5.444</td>\n",
       "      <td>0.000</td>\n",
       "    </tr>\n",
       "  </tbody>\n",
       "</table>\n",
       "</div>"
      ],
      "text/plain": [
       "                                           coef   std err       t  P>|t|\n",
       "CUMP_QUADRATIC                           1.1182  0.198000   5.639  0.000\n",
       "OBRIGAÇÃO_FINAL_POR_SALA                 0.0096  0.004000   2.168  0.030\n",
       "CUMP_QUADRATIC:OBRIGAÇÃO_FINAL_POR_SALA -0.0021  0.005000  -0.422  0.673\n",
       "DIAS_FUNCIONAMENTO                       0.0078  0.000000  16.762  0.000\n",
       "SALAS_COMPLEXO_INFERIDO                  0.1861  0.021000   8.711  0.000\n",
       "ASSENTOS_COMPLEXO_INFERIDO               0.0004  0.000078   5.444  0.000"
      ]
     },
     "execution_count": 131,
     "metadata": {},
     "output_type": "execute_result"
    }
   ],
   "source": [
    "pd.read_html(reg_w36.summary().tables[1].as_html(),header=0,index_col=0)[0].iloc[-6:,:-2]"
   ]
  },
  {
   "cell_type": "code",
   "execution_count": 132,
   "metadata": {
    "ExecuteTime": {
     "end_time": "2021-07-16T03:16:31.269907Z",
     "start_time": "2021-07-16T03:16:30.913975Z"
    }
   },
   "outputs": [
    {
     "data": {
      "text/html": [
       "<div>\n",
       "<style scoped>\n",
       "    .dataframe tbody tr th:only-of-type {\n",
       "        vertical-align: middle;\n",
       "    }\n",
       "\n",
       "    .dataframe tbody tr th {\n",
       "        vertical-align: top;\n",
       "    }\n",
       "\n",
       "    .dataframe thead th {\n",
       "        text-align: right;\n",
       "    }\n",
       "</style>\n",
       "<table border=\"1\" class=\"dataframe\">\n",
       "  <thead>\n",
       "    <tr style=\"text-align: right;\">\n",
       "      <th></th>\n",
       "      <th>coef</th>\n",
       "      <th>std err</th>\n",
       "      <th>t</th>\n",
       "      <th>P&gt;|t|</th>\n",
       "    </tr>\n",
       "  </thead>\n",
       "  <tbody>\n",
       "    <tr>\n",
       "      <th>CUMP_QUADRATIC</th>\n",
       "      <td>1.5105</td>\n",
       "      <td>0.224000</td>\n",
       "      <td>6.754</td>\n",
       "      <td>0.000</td>\n",
       "    </tr>\n",
       "    <tr>\n",
       "      <th>OBRIGAÇÃO_FINAL_POR_SALA</th>\n",
       "      <td>0.0125</td>\n",
       "      <td>0.005000</td>\n",
       "      <td>2.512</td>\n",
       "      <td>0.012</td>\n",
       "    </tr>\n",
       "    <tr>\n",
       "      <th>CUMP_QUADRATIC:OBRIGAÇÃO_FINAL_POR_SALA</th>\n",
       "      <td>-0.0072</td>\n",
       "      <td>0.006000</td>\n",
       "      <td>-1.275</td>\n",
       "      <td>0.203</td>\n",
       "    </tr>\n",
       "    <tr>\n",
       "      <th>DIAS_FUNCIONAMENTO</th>\n",
       "      <td>0.0082</td>\n",
       "      <td>0.001000</td>\n",
       "      <td>15.654</td>\n",
       "      <td>0.000</td>\n",
       "    </tr>\n",
       "    <tr>\n",
       "      <th>SALAS_COMPLEXO_INFERIDO</th>\n",
       "      <td>0.1924</td>\n",
       "      <td>0.024000</td>\n",
       "      <td>8.058</td>\n",
       "      <td>0.000</td>\n",
       "    </tr>\n",
       "    <tr>\n",
       "      <th>ASSENTOS_COMPLEXO_INFERIDO</th>\n",
       "      <td>0.0004</td>\n",
       "      <td>0.000087</td>\n",
       "      <td>5.038</td>\n",
       "      <td>0.000</td>\n",
       "    </tr>\n",
       "  </tbody>\n",
       "</table>\n",
       "</div>"
      ],
      "text/plain": [
       "                                           coef   std err       t  P>|t|\n",
       "CUMP_QUADRATIC                           1.5105  0.224000   6.754  0.000\n",
       "OBRIGAÇÃO_FINAL_POR_SALA                 0.0125  0.005000   2.512  0.012\n",
       "CUMP_QUADRATIC:OBRIGAÇÃO_FINAL_POR_SALA -0.0072  0.006000  -1.275  0.203\n",
       "DIAS_FUNCIONAMENTO                       0.0082  0.001000  15.654  0.000\n",
       "SALAS_COMPLEXO_INFERIDO                  0.1924  0.024000   8.058  0.000\n",
       "ASSENTOS_COMPLEXO_INFERIDO               0.0004  0.000087   5.038  0.000"
      ]
     },
     "execution_count": 132,
     "metadata": {},
     "output_type": "execute_result"
    }
   ],
   "source": [
    "pd.read_html(reg_w37.summary().tables[1].as_html(),header=0,index_col=0)[0].iloc[-6:,:-2]"
   ]
  },
  {
   "cell_type": "code",
   "execution_count": 133,
   "metadata": {
    "ExecuteTime": {
     "end_time": "2021-07-16T03:16:31.626855Z",
     "start_time": "2021-07-16T03:16:31.271912Z"
    }
   },
   "outputs": [
    {
     "data": {
      "text/html": [
       "<div>\n",
       "<style scoped>\n",
       "    .dataframe tbody tr th:only-of-type {\n",
       "        vertical-align: middle;\n",
       "    }\n",
       "\n",
       "    .dataframe tbody tr th {\n",
       "        vertical-align: top;\n",
       "    }\n",
       "\n",
       "    .dataframe thead th {\n",
       "        text-align: right;\n",
       "    }\n",
       "</style>\n",
       "<table border=\"1\" class=\"dataframe\">\n",
       "  <thead>\n",
       "    <tr style=\"text-align: right;\">\n",
       "      <th></th>\n",
       "      <th>coef</th>\n",
       "      <th>std err</th>\n",
       "      <th>t</th>\n",
       "      <th>P&gt;|t|</th>\n",
       "    </tr>\n",
       "  </thead>\n",
       "  <tbody>\n",
       "    <tr>\n",
       "      <th>CUMP_QUADRATIC</th>\n",
       "      <td>-0.2312</td>\n",
       "      <td>0.244000</td>\n",
       "      <td>-0.949</td>\n",
       "      <td>0.343</td>\n",
       "    </tr>\n",
       "    <tr>\n",
       "      <th>OBRIGAÇÃO_FINAL_POR_SALA</th>\n",
       "      <td>-0.0050</td>\n",
       "      <td>0.005000</td>\n",
       "      <td>-0.919</td>\n",
       "      <td>0.358</td>\n",
       "    </tr>\n",
       "    <tr>\n",
       "      <th>CUMP_QUADRATIC:OBRIGAÇÃO_FINAL_POR_SALA</th>\n",
       "      <td>0.0292</td>\n",
       "      <td>0.006000</td>\n",
       "      <td>4.788</td>\n",
       "      <td>0.000</td>\n",
       "    </tr>\n",
       "    <tr>\n",
       "      <th>DIAS_FUNCIONAMENTO</th>\n",
       "      <td>0.0060</td>\n",
       "      <td>0.001000</td>\n",
       "      <td>10.646</td>\n",
       "      <td>0.000</td>\n",
       "    </tr>\n",
       "    <tr>\n",
       "      <th>SALAS_COMPLEXO_INFERIDO</th>\n",
       "      <td>0.1547</td>\n",
       "      <td>0.026000</td>\n",
       "      <td>6.022</td>\n",
       "      <td>0.000</td>\n",
       "    </tr>\n",
       "    <tr>\n",
       "      <th>ASSENTOS_COMPLEXO_INFERIDO</th>\n",
       "      <td>0.0004</td>\n",
       "      <td>0.000094</td>\n",
       "      <td>4.638</td>\n",
       "      <td>0.000</td>\n",
       "    </tr>\n",
       "  </tbody>\n",
       "</table>\n",
       "</div>"
      ],
      "text/plain": [
       "                                           coef   std err       t  P>|t|\n",
       "CUMP_QUADRATIC                          -0.2312  0.244000  -0.949  0.343\n",
       "OBRIGAÇÃO_FINAL_POR_SALA                -0.0050  0.005000  -0.919  0.358\n",
       "CUMP_QUADRATIC:OBRIGAÇÃO_FINAL_POR_SALA  0.0292  0.006000   4.788  0.000\n",
       "DIAS_FUNCIONAMENTO                       0.0060  0.001000  10.646  0.000\n",
       "SALAS_COMPLEXO_INFERIDO                  0.1547  0.026000   6.022  0.000\n",
       "ASSENTOS_COMPLEXO_INFERIDO               0.0004  0.000094   4.638  0.000"
      ]
     },
     "execution_count": 133,
     "metadata": {},
     "output_type": "execute_result"
    }
   ],
   "source": [
    "pd.read_html(reg_w38.summary().tables[1].as_html(),header=0,index_col=0)[0].iloc[-6:,:-2]"
   ]
  },
  {
   "cell_type": "markdown",
   "metadata": {},
   "source": [
    "###### Normal pdf kernel"
   ]
  },
  {
   "cell_type": "code",
   "execution_count": 134,
   "metadata": {
    "ExecuteTime": {
     "end_time": "2021-07-16T03:16:33.025210Z",
     "start_time": "2021-07-16T03:16:31.628861Z"
    }
   },
   "outputs": [],
   "source": [
    "formul = 'np.log(RENDA) ~ CUMP_NORMALIZADO*OBRIGAÇÃO_FINAL_POR_SALA + DIAS_FUNCIONAMENTO + SALAS_COMPLEXO_INFERIDO + ASSENTOS_COMPLEXO_INFERIDO + C(ANO_CINEMATOGRAFICO)*C(MUN_COMPLEXO)'\n",
    "data = [tds_1718, est_1718, bras_1718]\n",
    "\n",
    "# all\n",
    "reg_w39 = smf.ols(formula = formul, data=data[0]).fit()\n",
    "\n",
    "# foreign\n",
    "reg_w40 = smf.ols(formula = formul, data=data[1]).fit()\n",
    "\n",
    "# Brazilian\n",
    "reg_w41 = smf.ols(formula = formul, data=data[2]).fit()"
   ]
  },
  {
   "cell_type": "code",
   "execution_count": 135,
   "metadata": {
    "ExecuteTime": {
     "end_time": "2021-07-16T03:16:33.472312Z",
     "start_time": "2021-07-16T03:16:33.025210Z"
    }
   },
   "outputs": [
    {
     "data": {
      "text/html": [
       "<div>\n",
       "<style scoped>\n",
       "    .dataframe tbody tr th:only-of-type {\n",
       "        vertical-align: middle;\n",
       "    }\n",
       "\n",
       "    .dataframe tbody tr th {\n",
       "        vertical-align: top;\n",
       "    }\n",
       "\n",
       "    .dataframe thead th {\n",
       "        text-align: right;\n",
       "    }\n",
       "</style>\n",
       "<table border=\"1\" class=\"dataframe\">\n",
       "  <thead>\n",
       "    <tr style=\"text-align: right;\">\n",
       "      <th></th>\n",
       "      <th>coef</th>\n",
       "      <th>std err</th>\n",
       "      <th>t</th>\n",
       "      <th>P&gt;|t|</th>\n",
       "    </tr>\n",
       "  </thead>\n",
       "  <tbody>\n",
       "    <tr>\n",
       "      <th>CUMP_NORMALIZADO</th>\n",
       "      <td>3.1545</td>\n",
       "      <td>0.708000</td>\n",
       "      <td>4.457</td>\n",
       "      <td>0.000</td>\n",
       "    </tr>\n",
       "    <tr>\n",
       "      <th>OBRIGAÇÃO_FINAL_POR_SALA</th>\n",
       "      <td>-0.0084</td>\n",
       "      <td>0.008000</td>\n",
       "      <td>-1.031</td>\n",
       "      <td>0.303</td>\n",
       "    </tr>\n",
       "    <tr>\n",
       "      <th>CUMP_NORMALIZADO:OBRIGAÇÃO_FINAL_POR_SALA</th>\n",
       "      <td>0.0425</td>\n",
       "      <td>0.022000</td>\n",
       "      <td>1.933</td>\n",
       "      <td>0.054</td>\n",
       "    </tr>\n",
       "    <tr>\n",
       "      <th>DIAS_FUNCIONAMENTO</th>\n",
       "      <td>0.0079</td>\n",
       "      <td>0.000000</td>\n",
       "      <td>17.515</td>\n",
       "      <td>0.000</td>\n",
       "    </tr>\n",
       "    <tr>\n",
       "      <th>SALAS_COMPLEXO_INFERIDO</th>\n",
       "      <td>0.1822</td>\n",
       "      <td>0.021000</td>\n",
       "      <td>8.736</td>\n",
       "      <td>0.000</td>\n",
       "    </tr>\n",
       "    <tr>\n",
       "      <th>ASSENTOS_COMPLEXO_INFERIDO</th>\n",
       "      <td>0.0004</td>\n",
       "      <td>0.000077</td>\n",
       "      <td>5.504</td>\n",
       "      <td>0.000</td>\n",
       "    </tr>\n",
       "  </tbody>\n",
       "</table>\n",
       "</div>"
      ],
      "text/plain": [
       "                                             coef   std err       t  P>|t|\n",
       "CUMP_NORMALIZADO                           3.1545  0.708000   4.457  0.000\n",
       "OBRIGAÇÃO_FINAL_POR_SALA                  -0.0084  0.008000  -1.031  0.303\n",
       "CUMP_NORMALIZADO:OBRIGAÇÃO_FINAL_POR_SALA  0.0425  0.022000   1.933  0.054\n",
       "DIAS_FUNCIONAMENTO                         0.0079  0.000000  17.515  0.000\n",
       "SALAS_COMPLEXO_INFERIDO                    0.1822  0.021000   8.736  0.000\n",
       "ASSENTOS_COMPLEXO_INFERIDO                 0.0004  0.000077   5.504  0.000"
      ]
     },
     "execution_count": 135,
     "metadata": {},
     "output_type": "execute_result"
    }
   ],
   "source": [
    "pd.read_html(reg_w39.summary().tables[1].as_html(),header=0,index_col=0)[0].iloc[-6:,:-2]"
   ]
  },
  {
   "cell_type": "code",
   "execution_count": 136,
   "metadata": {
    "ExecuteTime": {
     "end_time": "2021-07-16T03:16:33.843936Z",
     "start_time": "2021-07-16T03:16:33.476300Z"
    }
   },
   "outputs": [
    {
     "data": {
      "text/html": [
       "<div>\n",
       "<style scoped>\n",
       "    .dataframe tbody tr th:only-of-type {\n",
       "        vertical-align: middle;\n",
       "    }\n",
       "\n",
       "    .dataframe tbody tr th {\n",
       "        vertical-align: top;\n",
       "    }\n",
       "\n",
       "    .dataframe thead th {\n",
       "        text-align: right;\n",
       "    }\n",
       "</style>\n",
       "<table border=\"1\" class=\"dataframe\">\n",
       "  <thead>\n",
       "    <tr style=\"text-align: right;\">\n",
       "      <th></th>\n",
       "      <th>coef</th>\n",
       "      <th>std err</th>\n",
       "      <th>t</th>\n",
       "      <th>P&gt;|t|</th>\n",
       "    </tr>\n",
       "  </thead>\n",
       "  <tbody>\n",
       "    <tr>\n",
       "      <th>CUMP_NORMALIZADO</th>\n",
       "      <td>5.0054</td>\n",
       "      <td>0.805000</td>\n",
       "      <td>6.218</td>\n",
       "      <td>0.000</td>\n",
       "    </tr>\n",
       "    <tr>\n",
       "      <th>OBRIGAÇÃO_FINAL_POR_SALA</th>\n",
       "      <td>-0.0046</td>\n",
       "      <td>0.009000</td>\n",
       "      <td>-0.505</td>\n",
       "      <td>0.614</td>\n",
       "    </tr>\n",
       "    <tr>\n",
       "      <th>CUMP_NORMALIZADO:OBRIGAÇÃO_FINAL_POR_SALA</th>\n",
       "      <td>0.0273</td>\n",
       "      <td>0.025000</td>\n",
       "      <td>1.104</td>\n",
       "      <td>0.270</td>\n",
       "    </tr>\n",
       "    <tr>\n",
       "      <th>DIAS_FUNCIONAMENTO</th>\n",
       "      <td>0.0083</td>\n",
       "      <td>0.000000</td>\n",
       "      <td>16.606</td>\n",
       "      <td>0.000</td>\n",
       "    </tr>\n",
       "    <tr>\n",
       "      <th>SALAS_COMPLEXO_INFERIDO</th>\n",
       "      <td>0.1855</td>\n",
       "      <td>0.023000</td>\n",
       "      <td>8.097</td>\n",
       "      <td>0.000</td>\n",
       "    </tr>\n",
       "    <tr>\n",
       "      <th>ASSENTOS_COMPLEXO_INFERIDO</th>\n",
       "      <td>0.0004</td>\n",
       "      <td>0.000084</td>\n",
       "      <td>5.180</td>\n",
       "      <td>0.000</td>\n",
       "    </tr>\n",
       "  </tbody>\n",
       "</table>\n",
       "</div>"
      ],
      "text/plain": [
       "                                             coef   std err       t  P>|t|\n",
       "CUMP_NORMALIZADO                           5.0054  0.805000   6.218  0.000\n",
       "OBRIGAÇÃO_FINAL_POR_SALA                  -0.0046  0.009000  -0.505  0.614\n",
       "CUMP_NORMALIZADO:OBRIGAÇÃO_FINAL_POR_SALA  0.0273  0.025000   1.104  0.270\n",
       "DIAS_FUNCIONAMENTO                         0.0083  0.000000  16.606  0.000\n",
       "SALAS_COMPLEXO_INFERIDO                    0.1855  0.023000   8.097  0.000\n",
       "ASSENTOS_COMPLEXO_INFERIDO                 0.0004  0.000084   5.180  0.000"
      ]
     },
     "execution_count": 136,
     "metadata": {},
     "output_type": "execute_result"
    }
   ],
   "source": [
    "pd.read_html(reg_w40.summary().tables[1].as_html(),header=0,index_col=0)[0].iloc[-6:,:-2]"
   ]
  },
  {
   "cell_type": "code",
   "execution_count": 137,
   "metadata": {
    "ExecuteTime": {
     "end_time": "2021-07-16T03:16:34.206872Z",
     "start_time": "2021-07-16T03:16:33.845913Z"
    }
   },
   "outputs": [
    {
     "data": {
      "text/html": [
       "<div>\n",
       "<style scoped>\n",
       "    .dataframe tbody tr th:only-of-type {\n",
       "        vertical-align: middle;\n",
       "    }\n",
       "\n",
       "    .dataframe tbody tr th {\n",
       "        vertical-align: top;\n",
       "    }\n",
       "\n",
       "    .dataframe thead th {\n",
       "        text-align: right;\n",
       "    }\n",
       "</style>\n",
       "<table border=\"1\" class=\"dataframe\">\n",
       "  <thead>\n",
       "    <tr style=\"text-align: right;\">\n",
       "      <th></th>\n",
       "      <th>coef</th>\n",
       "      <th>std err</th>\n",
       "      <th>t</th>\n",
       "      <th>P&gt;|t|</th>\n",
       "    </tr>\n",
       "  </thead>\n",
       "  <tbody>\n",
       "    <tr>\n",
       "      <th>CUMP_NORMALIZADO</th>\n",
       "      <td>-2.9984</td>\n",
       "      <td>0.878000</td>\n",
       "      <td>-3.415</td>\n",
       "      <td>0.001</td>\n",
       "    </tr>\n",
       "    <tr>\n",
       "      <th>OBRIGAÇÃO_FINAL_POR_SALA</th>\n",
       "      <td>-0.0394</td>\n",
       "      <td>0.010000</td>\n",
       "      <td>-3.876</td>\n",
       "      <td>0.000</td>\n",
       "    </tr>\n",
       "    <tr>\n",
       "      <th>CUMP_NORMALIZADO:OBRIGAÇÃO_FINAL_POR_SALA</th>\n",
       "      <td>0.1597</td>\n",
       "      <td>0.027000</td>\n",
       "      <td>5.851</td>\n",
       "      <td>0.000</td>\n",
       "    </tr>\n",
       "    <tr>\n",
       "      <th>DIAS_FUNCIONAMENTO</th>\n",
       "      <td>0.0066</td>\n",
       "      <td>0.001000</td>\n",
       "      <td>11.668</td>\n",
       "      <td>0.000</td>\n",
       "    </tr>\n",
       "    <tr>\n",
       "      <th>SALAS_COMPLEXO_INFERIDO</th>\n",
       "      <td>0.1627</td>\n",
       "      <td>0.026000</td>\n",
       "      <td>6.299</td>\n",
       "      <td>0.000</td>\n",
       "    </tr>\n",
       "    <tr>\n",
       "      <th>ASSENTOS_COMPLEXO_INFERIDO</th>\n",
       "      <td>0.0004</td>\n",
       "      <td>0.000095</td>\n",
       "      <td>4.494</td>\n",
       "      <td>0.000</td>\n",
       "    </tr>\n",
       "  </tbody>\n",
       "</table>\n",
       "</div>"
      ],
      "text/plain": [
       "                                             coef   std err       t  P>|t|\n",
       "CUMP_NORMALIZADO                          -2.9984  0.878000  -3.415  0.001\n",
       "OBRIGAÇÃO_FINAL_POR_SALA                  -0.0394  0.010000  -3.876  0.000\n",
       "CUMP_NORMALIZADO:OBRIGAÇÃO_FINAL_POR_SALA  0.1597  0.027000   5.851  0.000\n",
       "DIAS_FUNCIONAMENTO                         0.0066  0.001000  11.668  0.000\n",
       "SALAS_COMPLEXO_INFERIDO                    0.1627  0.026000   6.299  0.000\n",
       "ASSENTOS_COMPLEXO_INFERIDO                 0.0004  0.000095   4.494  0.000"
      ]
     },
     "execution_count": 137,
     "metadata": {},
     "output_type": "execute_result"
    }
   ],
   "source": [
    "pd.read_html(reg_w41.summary().tables[1].as_html(),header=0,index_col=0)[0].iloc[-6:,:-2]"
   ]
  },
  {
   "cell_type": "markdown",
   "metadata": {},
   "source": [
    "###### Triangular kernel"
   ]
  },
  {
   "cell_type": "code",
   "execution_count": 138,
   "metadata": {
    "ExecuteTime": {
     "end_time": "2021-07-16T03:16:35.661952Z",
     "start_time": "2021-07-16T03:16:34.208878Z"
    }
   },
   "outputs": [],
   "source": [
    "formul = 'np.log(RENDA) ~ CUMP_LINEAR*OBRIGAÇÃO_FINAL_POR_SALA + DIAS_FUNCIONAMENTO + SALAS_COMPLEXO_INFERIDO + ASSENTOS_COMPLEXO_INFERIDO + C(ANO_CINEMATOGRAFICO)*C(MUN_COMPLEXO)'\n",
    "data = [tds_1718, est_1718, bras_1718]\n",
    "\n",
    "# all\n",
    "reg_w42 = smf.ols(formula = formul, data=data[0]).fit()\n",
    "\n",
    "# foreign\n",
    "reg_w43 = smf.ols(formula = formul, data=data[1]).fit()\n",
    "\n",
    "# Brazilian\n",
    "reg_w44 = smf.ols(formula = formul, data=data[2]).fit()"
   ]
  },
  {
   "cell_type": "code",
   "execution_count": 139,
   "metadata": {
    "ExecuteTime": {
     "end_time": "2021-07-16T03:16:36.038893Z",
     "start_time": "2021-07-16T03:16:35.661952Z"
    }
   },
   "outputs": [
    {
     "data": {
      "text/html": [
       "<div>\n",
       "<style scoped>\n",
       "    .dataframe tbody tr th:only-of-type {\n",
       "        vertical-align: middle;\n",
       "    }\n",
       "\n",
       "    .dataframe tbody tr th {\n",
       "        vertical-align: top;\n",
       "    }\n",
       "\n",
       "    .dataframe thead th {\n",
       "        text-align: right;\n",
       "    }\n",
       "</style>\n",
       "<table border=\"1\" class=\"dataframe\">\n",
       "  <thead>\n",
       "    <tr style=\"text-align: right;\">\n",
       "      <th></th>\n",
       "      <th>coef</th>\n",
       "      <th>std err</th>\n",
       "      <th>t</th>\n",
       "      <th>P&gt;|t|</th>\n",
       "    </tr>\n",
       "  </thead>\n",
       "  <tbody>\n",
       "    <tr>\n",
       "      <th>CUMP_LINEAR</th>\n",
       "      <td>1.6074</td>\n",
       "      <td>0.204000</td>\n",
       "      <td>7.890</td>\n",
       "      <td>0.000</td>\n",
       "    </tr>\n",
       "    <tr>\n",
       "      <th>OBRIGAÇÃO_FINAL_POR_SALA</th>\n",
       "      <td>0.0176</td>\n",
       "      <td>0.003000</td>\n",
       "      <td>5.060</td>\n",
       "      <td>0.000</td>\n",
       "    </tr>\n",
       "    <tr>\n",
       "      <th>CUMP_LINEAR:OBRIGAÇÃO_FINAL_POR_SALA</th>\n",
       "      <td>-0.0141</td>\n",
       "      <td>0.004000</td>\n",
       "      <td>-3.308</td>\n",
       "      <td>0.001</td>\n",
       "    </tr>\n",
       "    <tr>\n",
       "      <th>DIAS_FUNCIONAMENTO</th>\n",
       "      <td>0.0078</td>\n",
       "      <td>0.000000</td>\n",
       "      <td>16.894</td>\n",
       "      <td>0.000</td>\n",
       "    </tr>\n",
       "    <tr>\n",
       "      <th>SALAS_COMPLEXO_INFERIDO</th>\n",
       "      <td>0.1816</td>\n",
       "      <td>0.021000</td>\n",
       "      <td>8.616</td>\n",
       "      <td>0.000</td>\n",
       "    </tr>\n",
       "    <tr>\n",
       "      <th>ASSENTOS_COMPLEXO_INFERIDO</th>\n",
       "      <td>0.0004</td>\n",
       "      <td>0.000077</td>\n",
       "      <td>5.528</td>\n",
       "      <td>0.000</td>\n",
       "    </tr>\n",
       "  </tbody>\n",
       "</table>\n",
       "</div>"
      ],
      "text/plain": [
       "                                        coef   std err       t  P>|t|\n",
       "CUMP_LINEAR                           1.6074  0.204000   7.890  0.000\n",
       "OBRIGAÇÃO_FINAL_POR_SALA              0.0176  0.003000   5.060  0.000\n",
       "CUMP_LINEAR:OBRIGAÇÃO_FINAL_POR_SALA -0.0141  0.004000  -3.308  0.001\n",
       "DIAS_FUNCIONAMENTO                    0.0078  0.000000  16.894  0.000\n",
       "SALAS_COMPLEXO_INFERIDO               0.1816  0.021000   8.616  0.000\n",
       "ASSENTOS_COMPLEXO_INFERIDO            0.0004  0.000077   5.528  0.000"
      ]
     },
     "execution_count": 139,
     "metadata": {},
     "output_type": "execute_result"
    }
   ],
   "source": [
    "pd.read_html(reg_w42.summary().tables[1].as_html(),header=0,index_col=0)[0].iloc[-6:,:-2]"
   ]
  },
  {
   "cell_type": "code",
   "execution_count": 140,
   "metadata": {
    "ExecuteTime": {
     "end_time": "2021-07-16T03:16:36.478335Z",
     "start_time": "2021-07-16T03:16:36.040899Z"
    }
   },
   "outputs": [
    {
     "data": {
      "text/html": [
       "<div>\n",
       "<style scoped>\n",
       "    .dataframe tbody tr th:only-of-type {\n",
       "        vertical-align: middle;\n",
       "    }\n",
       "\n",
       "    .dataframe tbody tr th {\n",
       "        vertical-align: top;\n",
       "    }\n",
       "\n",
       "    .dataframe thead th {\n",
       "        text-align: right;\n",
       "    }\n",
       "</style>\n",
       "<table border=\"1\" class=\"dataframe\">\n",
       "  <thead>\n",
       "    <tr style=\"text-align: right;\">\n",
       "      <th></th>\n",
       "      <th>coef</th>\n",
       "      <th>std err</th>\n",
       "      <th>t</th>\n",
       "      <th>P&gt;|t|</th>\n",
       "    </tr>\n",
       "  </thead>\n",
       "  <tbody>\n",
       "    <tr>\n",
       "      <th>CUMP_LINEAR</th>\n",
       "      <td>2.0038</td>\n",
       "      <td>0.230000</td>\n",
       "      <td>8.706</td>\n",
       "      <td>0.0</td>\n",
       "    </tr>\n",
       "    <tr>\n",
       "      <th>OBRIGAÇÃO_FINAL_POR_SALA</th>\n",
       "      <td>0.0207</td>\n",
       "      <td>0.004000</td>\n",
       "      <td>5.271</td>\n",
       "      <td>0.0</td>\n",
       "    </tr>\n",
       "    <tr>\n",
       "      <th>CUMP_LINEAR:OBRIGAÇÃO_FINAL_POR_SALA</th>\n",
       "      <td>-0.0201</td>\n",
       "      <td>0.005000</td>\n",
       "      <td>-4.179</td>\n",
       "      <td>0.0</td>\n",
       "    </tr>\n",
       "    <tr>\n",
       "      <th>DIAS_FUNCIONAMENTO</th>\n",
       "      <td>0.0082</td>\n",
       "      <td>0.001000</td>\n",
       "      <td>15.827</td>\n",
       "      <td>0.0</td>\n",
       "    </tr>\n",
       "    <tr>\n",
       "      <th>SALAS_COMPLEXO_INFERIDO</th>\n",
       "      <td>0.1885</td>\n",
       "      <td>0.024000</td>\n",
       "      <td>7.969</td>\n",
       "      <td>0.0</td>\n",
       "    </tr>\n",
       "    <tr>\n",
       "      <th>ASSENTOS_COMPLEXO_INFERIDO</th>\n",
       "      <td>0.0004</td>\n",
       "      <td>0.000087</td>\n",
       "      <td>5.082</td>\n",
       "      <td>0.0</td>\n",
       "    </tr>\n",
       "  </tbody>\n",
       "</table>\n",
       "</div>"
      ],
      "text/plain": [
       "                                        coef   std err       t  P>|t|\n",
       "CUMP_LINEAR                           2.0038  0.230000   8.706    0.0\n",
       "OBRIGAÇÃO_FINAL_POR_SALA              0.0207  0.004000   5.271    0.0\n",
       "CUMP_LINEAR:OBRIGAÇÃO_FINAL_POR_SALA -0.0201  0.005000  -4.179    0.0\n",
       "DIAS_FUNCIONAMENTO                    0.0082  0.001000  15.827    0.0\n",
       "SALAS_COMPLEXO_INFERIDO               0.1885  0.024000   7.969    0.0\n",
       "ASSENTOS_COMPLEXO_INFERIDO            0.0004  0.000087   5.082    0.0"
      ]
     },
     "execution_count": 140,
     "metadata": {},
     "output_type": "execute_result"
    }
   ],
   "source": [
    "pd.read_html(reg_w43.summary().tables[1].as_html(),header=0,index_col=0)[0].iloc[-6:,:-2]"
   ]
  },
  {
   "cell_type": "code",
   "execution_count": 141,
   "metadata": {
    "ExecuteTime": {
     "end_time": "2021-07-16T03:16:36.846385Z",
     "start_time": "2021-07-16T03:16:36.480340Z"
    }
   },
   "outputs": [
    {
     "data": {
      "text/html": [
       "<div>\n",
       "<style scoped>\n",
       "    .dataframe tbody tr th:only-of-type {\n",
       "        vertical-align: middle;\n",
       "    }\n",
       "\n",
       "    .dataframe tbody tr th {\n",
       "        vertical-align: top;\n",
       "    }\n",
       "\n",
       "    .dataframe thead th {\n",
       "        text-align: right;\n",
       "    }\n",
       "</style>\n",
       "<table border=\"1\" class=\"dataframe\">\n",
       "  <thead>\n",
       "    <tr style=\"text-align: right;\">\n",
       "      <th></th>\n",
       "      <th>coef</th>\n",
       "      <th>std err</th>\n",
       "      <th>t</th>\n",
       "      <th>P&gt;|t|</th>\n",
       "    </tr>\n",
       "  </thead>\n",
       "  <tbody>\n",
       "    <tr>\n",
       "      <th>CUMP_LINEAR</th>\n",
       "      <td>0.4755</td>\n",
       "      <td>0.250000</td>\n",
       "      <td>1.900</td>\n",
       "      <td>0.058</td>\n",
       "    </tr>\n",
       "    <tr>\n",
       "      <th>OBRIGAÇÃO_FINAL_POR_SALA</th>\n",
       "      <td>0.0107</td>\n",
       "      <td>0.004000</td>\n",
       "      <td>2.512</td>\n",
       "      <td>0.012</td>\n",
       "    </tr>\n",
       "    <tr>\n",
       "      <th>CUMP_LINEAR:OBRIGAÇÃO_FINAL_POR_SALA</th>\n",
       "      <td>0.0110</td>\n",
       "      <td>0.005000</td>\n",
       "      <td>2.120</td>\n",
       "      <td>0.034</td>\n",
       "    </tr>\n",
       "    <tr>\n",
       "      <th>DIAS_FUNCIONAMENTO</th>\n",
       "      <td>0.0058</td>\n",
       "      <td>0.001000</td>\n",
       "      <td>10.298</td>\n",
       "      <td>0.000</td>\n",
       "    </tr>\n",
       "    <tr>\n",
       "      <th>SALAS_COMPLEXO_INFERIDO</th>\n",
       "      <td>0.1511</td>\n",
       "      <td>0.026000</td>\n",
       "      <td>5.914</td>\n",
       "      <td>0.000</td>\n",
       "    </tr>\n",
       "    <tr>\n",
       "      <th>ASSENTOS_COMPLEXO_INFERIDO</th>\n",
       "      <td>0.0004</td>\n",
       "      <td>0.000093</td>\n",
       "      <td>4.675</td>\n",
       "      <td>0.000</td>\n",
       "    </tr>\n",
       "  </tbody>\n",
       "</table>\n",
       "</div>"
      ],
      "text/plain": [
       "                                        coef   std err       t  P>|t|\n",
       "CUMP_LINEAR                           0.4755  0.250000   1.900  0.058\n",
       "OBRIGAÇÃO_FINAL_POR_SALA              0.0107  0.004000   2.512  0.012\n",
       "CUMP_LINEAR:OBRIGAÇÃO_FINAL_POR_SALA  0.0110  0.005000   2.120  0.034\n",
       "DIAS_FUNCIONAMENTO                    0.0058  0.001000  10.298  0.000\n",
       "SALAS_COMPLEXO_INFERIDO               0.1511  0.026000   5.914  0.000\n",
       "ASSENTOS_COMPLEXO_INFERIDO            0.0004  0.000093   4.675  0.000"
      ]
     },
     "execution_count": 141,
     "metadata": {},
     "output_type": "execute_result"
    }
   ],
   "source": [
    "pd.read_html(reg_w44.summary().tables[1].as_html(),header=0,index_col=0)[0].iloc[-6:,:-2]"
   ]
  },
  {
   "cell_type": "markdown",
   "metadata": {},
   "source": [
    "###### Triweight kernel"
   ]
  },
  {
   "cell_type": "code",
   "execution_count": 142,
   "metadata": {
    "ExecuteTime": {
     "end_time": "2021-07-16T03:16:38.130186Z",
     "start_time": "2021-07-16T03:16:36.848391Z"
    }
   },
   "outputs": [],
   "source": [
    "formul = 'np.log(RENDA) ~ CUMP_TRIWEIGHT*OBRIGAÇÃO_FINAL_POR_SALA + DIAS_FUNCIONAMENTO + SALAS_COMPLEXO_INFERIDO + ASSENTOS_COMPLEXO_INFERIDO + C(ANO_CINEMATOGRAFICO)*C(MUN_COMPLEXO)'\n",
    "data = [tds_1718, est_1718, bras_1718]\n",
    "\n",
    "# all\n",
    "reg_w45 = smf.ols(formula = formul, data=data[0]).fit()\n",
    "\n",
    "# foreign\n",
    "reg_w46 = smf.ols(formula = formul, data=data[1]).fit()\n",
    "\n",
    "# Brazilian\n",
    "reg_w47 = smf.ols(formula = formul, data=data[2]).fit()"
   ]
  },
  {
   "cell_type": "code",
   "execution_count": 143,
   "metadata": {
    "ExecuteTime": {
     "end_time": "2021-07-16T03:16:38.503790Z",
     "start_time": "2021-07-16T03:16:38.130186Z"
    },
    "scrolled": true
   },
   "outputs": [
    {
     "data": {
      "text/html": [
       "<div>\n",
       "<style scoped>\n",
       "    .dataframe tbody tr th:only-of-type {\n",
       "        vertical-align: middle;\n",
       "    }\n",
       "\n",
       "    .dataframe tbody tr th {\n",
       "        vertical-align: top;\n",
       "    }\n",
       "\n",
       "    .dataframe thead th {\n",
       "        text-align: right;\n",
       "    }\n",
       "</style>\n",
       "<table border=\"1\" class=\"dataframe\">\n",
       "  <thead>\n",
       "    <tr style=\"text-align: right;\">\n",
       "      <th></th>\n",
       "      <th>coef</th>\n",
       "      <th>std err</th>\n",
       "      <th>t</th>\n",
       "      <th>P&gt;|t|</th>\n",
       "    </tr>\n",
       "  </thead>\n",
       "  <tbody>\n",
       "    <tr>\n",
       "      <th>CUMP_TRIWEIGHT</th>\n",
       "      <td>1.4928</td>\n",
       "      <td>0.184000</td>\n",
       "      <td>8.131</td>\n",
       "      <td>0.0</td>\n",
       "    </tr>\n",
       "    <tr>\n",
       "      <th>OBRIGAÇÃO_FINAL_POR_SALA</th>\n",
       "      <td>0.0186</td>\n",
       "      <td>0.003000</td>\n",
       "      <td>5.930</td>\n",
       "      <td>0.0</td>\n",
       "    </tr>\n",
       "    <tr>\n",
       "      <th>CUMP_TRIWEIGHT:OBRIGAÇÃO_FINAL_POR_SALA</th>\n",
       "      <td>-0.0153</td>\n",
       "      <td>0.004000</td>\n",
       "      <td>-4.114</td>\n",
       "      <td>0.0</td>\n",
       "    </tr>\n",
       "    <tr>\n",
       "      <th>DIAS_FUNCIONAMENTO</th>\n",
       "      <td>0.0079</td>\n",
       "      <td>0.000000</td>\n",
       "      <td>17.256</td>\n",
       "      <td>0.0</td>\n",
       "    </tr>\n",
       "    <tr>\n",
       "      <th>SALAS_COMPLEXO_INFERIDO</th>\n",
       "      <td>0.1847</td>\n",
       "      <td>0.021000</td>\n",
       "      <td>8.721</td>\n",
       "      <td>0.0</td>\n",
       "    </tr>\n",
       "    <tr>\n",
       "      <th>ASSENTOS_COMPLEXO_INFERIDO</th>\n",
       "      <td>0.0004</td>\n",
       "      <td>0.000077</td>\n",
       "      <td>5.462</td>\n",
       "      <td>0.0</td>\n",
       "    </tr>\n",
       "  </tbody>\n",
       "</table>\n",
       "</div>"
      ],
      "text/plain": [
       "                                           coef   std err       t  P>|t|\n",
       "CUMP_TRIWEIGHT                           1.4928  0.184000   8.131    0.0\n",
       "OBRIGAÇÃO_FINAL_POR_SALA                 0.0186  0.003000   5.930    0.0\n",
       "CUMP_TRIWEIGHT:OBRIGAÇÃO_FINAL_POR_SALA -0.0153  0.004000  -4.114    0.0\n",
       "DIAS_FUNCIONAMENTO                       0.0079  0.000000  17.256    0.0\n",
       "SALAS_COMPLEXO_INFERIDO                  0.1847  0.021000   8.721    0.0\n",
       "ASSENTOS_COMPLEXO_INFERIDO               0.0004  0.000077   5.462    0.0"
      ]
     },
     "execution_count": 143,
     "metadata": {},
     "output_type": "execute_result"
    }
   ],
   "source": [
    "pd.read_html(reg_w45.summary().tables[1].as_html(),header=0,index_col=0)[0].iloc[-6:,:-2]"
   ]
  },
  {
   "cell_type": "code",
   "execution_count": 144,
   "metadata": {
    "ExecuteTime": {
     "end_time": "2021-07-16T03:16:38.942306Z",
     "start_time": "2021-07-16T03:16:38.505796Z"
    }
   },
   "outputs": [
    {
     "data": {
      "text/html": [
       "<div>\n",
       "<style scoped>\n",
       "    .dataframe tbody tr th:only-of-type {\n",
       "        vertical-align: middle;\n",
       "    }\n",
       "\n",
       "    .dataframe tbody tr th {\n",
       "        vertical-align: top;\n",
       "    }\n",
       "\n",
       "    .dataframe thead th {\n",
       "        text-align: right;\n",
       "    }\n",
       "</style>\n",
       "<table border=\"1\" class=\"dataframe\">\n",
       "  <thead>\n",
       "    <tr style=\"text-align: right;\">\n",
       "      <th></th>\n",
       "      <th>coef</th>\n",
       "      <th>std err</th>\n",
       "      <th>t</th>\n",
       "      <th>P&gt;|t|</th>\n",
       "    </tr>\n",
       "  </thead>\n",
       "  <tbody>\n",
       "    <tr>\n",
       "      <th>CUMP_TRIWEIGHT</th>\n",
       "      <td>1.8227</td>\n",
       "      <td>0.208000</td>\n",
       "      <td>8.782</td>\n",
       "      <td>0.0</td>\n",
       "    </tr>\n",
       "    <tr>\n",
       "      <th>OBRIGAÇÃO_FINAL_POR_SALA</th>\n",
       "      <td>0.0211</td>\n",
       "      <td>0.004000</td>\n",
       "      <td>5.977</td>\n",
       "      <td>0.0</td>\n",
       "    </tr>\n",
       "    <tr>\n",
       "      <th>CUMP_TRIWEIGHT:OBRIGAÇÃO_FINAL_POR_SALA</th>\n",
       "      <td>-0.0205</td>\n",
       "      <td>0.004000</td>\n",
       "      <td>-4.894</td>\n",
       "      <td>0.0</td>\n",
       "    </tr>\n",
       "    <tr>\n",
       "      <th>DIAS_FUNCIONAMENTO</th>\n",
       "      <td>0.0084</td>\n",
       "      <td>0.001000</td>\n",
       "      <td>16.203</td>\n",
       "      <td>0.0</td>\n",
       "    </tr>\n",
       "    <tr>\n",
       "      <th>SALAS_COMPLEXO_INFERIDO</th>\n",
       "      <td>0.1925</td>\n",
       "      <td>0.024000</td>\n",
       "      <td>8.084</td>\n",
       "      <td>0.0</td>\n",
       "    </tr>\n",
       "    <tr>\n",
       "      <th>ASSENTOS_COMPLEXO_INFERIDO</th>\n",
       "      <td>0.0004</td>\n",
       "      <td>0.000087</td>\n",
       "      <td>5.004</td>\n",
       "      <td>0.0</td>\n",
       "    </tr>\n",
       "  </tbody>\n",
       "</table>\n",
       "</div>"
      ],
      "text/plain": [
       "                                           coef   std err       t  P>|t|\n",
       "CUMP_TRIWEIGHT                           1.8227  0.208000   8.782    0.0\n",
       "OBRIGAÇÃO_FINAL_POR_SALA                 0.0211  0.004000   5.977    0.0\n",
       "CUMP_TRIWEIGHT:OBRIGAÇÃO_FINAL_POR_SALA -0.0205  0.004000  -4.894    0.0\n",
       "DIAS_FUNCIONAMENTO                       0.0084  0.001000  16.203    0.0\n",
       "SALAS_COMPLEXO_INFERIDO                  0.1925  0.024000   8.084    0.0\n",
       "ASSENTOS_COMPLEXO_INFERIDO               0.0004  0.000087   5.004    0.0"
      ]
     },
     "execution_count": 144,
     "metadata": {},
     "output_type": "execute_result"
    }
   ],
   "source": [
    "pd.read_html(reg_w46.summary().tables[1].as_html(),header=0,index_col=0)[0].iloc[-6:,:-2]"
   ]
  },
  {
   "cell_type": "code",
   "execution_count": 145,
   "metadata": {
    "ExecuteTime": {
     "end_time": "2021-07-16T03:16:39.317277Z",
     "start_time": "2021-07-16T03:16:38.944311Z"
    },
    "scrolled": false
   },
   "outputs": [
    {
     "data": {
      "text/html": [
       "<div>\n",
       "<style scoped>\n",
       "    .dataframe tbody tr th:only-of-type {\n",
       "        vertical-align: middle;\n",
       "    }\n",
       "\n",
       "    .dataframe tbody tr th {\n",
       "        vertical-align: top;\n",
       "    }\n",
       "\n",
       "    .dataframe thead th {\n",
       "        text-align: right;\n",
       "    }\n",
       "</style>\n",
       "<table border=\"1\" class=\"dataframe\">\n",
       "  <thead>\n",
       "    <tr style=\"text-align: right;\">\n",
       "      <th></th>\n",
       "      <th>coef</th>\n",
       "      <th>std err</th>\n",
       "      <th>t</th>\n",
       "      <th>P&gt;|t|</th>\n",
       "    </tr>\n",
       "  </thead>\n",
       "  <tbody>\n",
       "    <tr>\n",
       "      <th>CUMP_TRIWEIGHT</th>\n",
       "      <td>0.5973</td>\n",
       "      <td>0.222000</td>\n",
       "      <td>2.689</td>\n",
       "      <td>0.007</td>\n",
       "    </tr>\n",
       "    <tr>\n",
       "      <th>OBRIGAÇÃO_FINAL_POR_SALA</th>\n",
       "      <td>0.0143</td>\n",
       "      <td>0.004000</td>\n",
       "      <td>3.781</td>\n",
       "      <td>0.000</td>\n",
       "    </tr>\n",
       "    <tr>\n",
       "      <th>CUMP_TRIWEIGHT:OBRIGAÇÃO_FINAL_POR_SALA</th>\n",
       "      <td>0.0065</td>\n",
       "      <td>0.004000</td>\n",
       "      <td>1.460</td>\n",
       "      <td>0.145</td>\n",
       "    </tr>\n",
       "    <tr>\n",
       "      <th>DIAS_FUNCIONAMENTO</th>\n",
       "      <td>0.0057</td>\n",
       "      <td>0.001000</td>\n",
       "      <td>10.205</td>\n",
       "      <td>0.000</td>\n",
       "    </tr>\n",
       "    <tr>\n",
       "      <th>SALAS_COMPLEXO_INFERIDO</th>\n",
       "      <td>0.1491</td>\n",
       "      <td>0.025000</td>\n",
       "      <td>5.866</td>\n",
       "      <td>0.000</td>\n",
       "    </tr>\n",
       "    <tr>\n",
       "      <th>ASSENTOS_COMPLEXO_INFERIDO</th>\n",
       "      <td>0.0004</td>\n",
       "      <td>0.000093</td>\n",
       "      <td>4.698</td>\n",
       "      <td>0.000</td>\n",
       "    </tr>\n",
       "  </tbody>\n",
       "</table>\n",
       "</div>"
      ],
      "text/plain": [
       "                                           coef   std err       t  P>|t|\n",
       "CUMP_TRIWEIGHT                           0.5973  0.222000   2.689  0.007\n",
       "OBRIGAÇÃO_FINAL_POR_SALA                 0.0143  0.004000   3.781  0.000\n",
       "CUMP_TRIWEIGHT:OBRIGAÇÃO_FINAL_POR_SALA  0.0065  0.004000   1.460  0.145\n",
       "DIAS_FUNCIONAMENTO                       0.0057  0.001000  10.205  0.000\n",
       "SALAS_COMPLEXO_INFERIDO                  0.1491  0.025000   5.866  0.000\n",
       "ASSENTOS_COMPLEXO_INFERIDO               0.0004  0.000093   4.698  0.000"
      ]
     },
     "execution_count": 145,
     "metadata": {},
     "output_type": "execute_result"
    }
   ],
   "source": [
    "pd.read_html(reg_w47.summary().tables[1].as_html(),header=0,index_col=0)[0].iloc[-6:,:-2]"
   ]
  },
  {
   "cell_type": "markdown",
   "metadata": {},
   "source": [
    "### Dependent variable: public (moviegoers)"
   ]
  },
  {
   "cell_type": "markdown",
   "metadata": {},
   "source": [
    "#### With entity fixed-effects"
   ]
  },
  {
   "cell_type": "markdown",
   "metadata": {},
   "source": [
    "##### 2017-2019"
   ]
  },
  {
   "cell_type": "markdown",
   "metadata": {},
   "source": [
    "###### Quadratic kernel"
   ]
  },
  {
   "cell_type": "code",
   "execution_count": 146,
   "metadata": {
    "ExecuteTime": {
     "end_time": "2021-07-16T03:16:41.120303Z",
     "start_time": "2021-07-16T03:16:39.319261Z"
    }
   },
   "outputs": [],
   "source": [
    "formul = 'np.log(PUBLICO) ~ CUMP_QUADRATIC*OBRIGAÇÃO_FINAL_POR_SALA + DIAS_FUNCIONAMENTO + C(REGISTRO_COMPLEXO) + C(ANO_CINEMATOGRAFICO)'\n",
    "data = [tds_1719, est_1719, bras_1719]\n",
    "\n",
    "# all\n",
    "reg_w48 = smf.ols(formula = formul, data=data[0]).fit()\n",
    "\n",
    "# foreign\n",
    "reg_w49 = smf.ols(formula = formul, data=data[1]).fit()\n",
    "\n",
    "# Brazilian\n",
    "reg_w50 = smf.ols(formula = formul, data=data[2]).fit()"
   ]
  },
  {
   "cell_type": "code",
   "execution_count": 147,
   "metadata": {
    "ExecuteTime": {
     "end_time": "2021-07-16T03:16:41.530611Z",
     "start_time": "2021-07-16T03:16:41.120303Z"
    }
   },
   "outputs": [
    {
     "data": {
      "text/html": [
       "<div>\n",
       "<style scoped>\n",
       "    .dataframe tbody tr th:only-of-type {\n",
       "        vertical-align: middle;\n",
       "    }\n",
       "\n",
       "    .dataframe tbody tr th {\n",
       "        vertical-align: top;\n",
       "    }\n",
       "\n",
       "    .dataframe thead th {\n",
       "        text-align: right;\n",
       "    }\n",
       "</style>\n",
       "<table border=\"1\" class=\"dataframe\">\n",
       "  <thead>\n",
       "    <tr style=\"text-align: right;\">\n",
       "      <th></th>\n",
       "      <th>coef</th>\n",
       "      <th>std err</th>\n",
       "      <th>t</th>\n",
       "      <th>P&gt;|t|</th>\n",
       "    </tr>\n",
       "  </thead>\n",
       "  <tbody>\n",
       "    <tr>\n",
       "      <th>CUMP_QUADRATIC</th>\n",
       "      <td>0.5329</td>\n",
       "      <td>0.074</td>\n",
       "      <td>7.239</td>\n",
       "      <td>0.0</td>\n",
       "    </tr>\n",
       "    <tr>\n",
       "      <th>OBRIGAÇÃO_FINAL_POR_SALA</th>\n",
       "      <td>0.0092</td>\n",
       "      <td>0.002</td>\n",
       "      <td>5.535</td>\n",
       "      <td>0.0</td>\n",
       "    </tr>\n",
       "    <tr>\n",
       "      <th>CUMP_QUADRATIC:OBRIGAÇÃO_FINAL_POR_SALA</th>\n",
       "      <td>-0.0114</td>\n",
       "      <td>0.002</td>\n",
       "      <td>-5.946</td>\n",
       "      <td>0.0</td>\n",
       "    </tr>\n",
       "    <tr>\n",
       "      <th>DIAS_FUNCIONAMENTO</th>\n",
       "      <td>0.0063</td>\n",
       "      <td>0.000</td>\n",
       "      <td>49.837</td>\n",
       "      <td>0.0</td>\n",
       "    </tr>\n",
       "  </tbody>\n",
       "</table>\n",
       "</div>"
      ],
      "text/plain": [
       "                                           coef  std err       t  P>|t|\n",
       "CUMP_QUADRATIC                           0.5329    0.074   7.239    0.0\n",
       "OBRIGAÇÃO_FINAL_POR_SALA                 0.0092    0.002   5.535    0.0\n",
       "CUMP_QUADRATIC:OBRIGAÇÃO_FINAL_POR_SALA -0.0114    0.002  -5.946    0.0\n",
       "DIAS_FUNCIONAMENTO                       0.0063    0.000  49.837    0.0"
      ]
     },
     "execution_count": 147,
     "metadata": {},
     "output_type": "execute_result"
    }
   ],
   "source": [
    "pd.read_html(reg_w48.summary().tables[1].as_html(),header=0,index_col=0)[0].iloc[-4:,:-2]"
   ]
  },
  {
   "cell_type": "code",
   "execution_count": 148,
   "metadata": {
    "ExecuteTime": {
     "end_time": "2021-07-16T03:16:41.932676Z",
     "start_time": "2021-07-16T03:16:41.531581Z"
    }
   },
   "outputs": [
    {
     "data": {
      "text/html": [
       "<div>\n",
       "<style scoped>\n",
       "    .dataframe tbody tr th:only-of-type {\n",
       "        vertical-align: middle;\n",
       "    }\n",
       "\n",
       "    .dataframe tbody tr th {\n",
       "        vertical-align: top;\n",
       "    }\n",
       "\n",
       "    .dataframe thead th {\n",
       "        text-align: right;\n",
       "    }\n",
       "</style>\n",
       "<table border=\"1\" class=\"dataframe\">\n",
       "  <thead>\n",
       "    <tr style=\"text-align: right;\">\n",
       "      <th></th>\n",
       "      <th>coef</th>\n",
       "      <th>std err</th>\n",
       "      <th>t</th>\n",
       "      <th>P&gt;|t|</th>\n",
       "    </tr>\n",
       "  </thead>\n",
       "  <tbody>\n",
       "    <tr>\n",
       "      <th>CUMP_QUADRATIC</th>\n",
       "      <td>0.5402</td>\n",
       "      <td>0.082</td>\n",
       "      <td>6.550</td>\n",
       "      <td>0.0</td>\n",
       "    </tr>\n",
       "    <tr>\n",
       "      <th>OBRIGAÇÃO_FINAL_POR_SALA</th>\n",
       "      <td>0.0108</td>\n",
       "      <td>0.002</td>\n",
       "      <td>5.802</td>\n",
       "      <td>0.0</td>\n",
       "    </tr>\n",
       "    <tr>\n",
       "      <th>CUMP_QUADRATIC:OBRIGAÇÃO_FINAL_POR_SALA</th>\n",
       "      <td>-0.0128</td>\n",
       "      <td>0.002</td>\n",
       "      <td>-6.021</td>\n",
       "      <td>0.0</td>\n",
       "    </tr>\n",
       "    <tr>\n",
       "      <th>DIAS_FUNCIONAMENTO</th>\n",
       "      <td>0.0063</td>\n",
       "      <td>0.000</td>\n",
       "      <td>45.736</td>\n",
       "      <td>0.0</td>\n",
       "    </tr>\n",
       "  </tbody>\n",
       "</table>\n",
       "</div>"
      ],
      "text/plain": [
       "                                           coef  std err       t  P>|t|\n",
       "CUMP_QUADRATIC                           0.5402    0.082   6.550    0.0\n",
       "OBRIGAÇÃO_FINAL_POR_SALA                 0.0108    0.002   5.802    0.0\n",
       "CUMP_QUADRATIC:OBRIGAÇÃO_FINAL_POR_SALA -0.0128    0.002  -6.021    0.0\n",
       "DIAS_FUNCIONAMENTO                       0.0063    0.000  45.736    0.0"
      ]
     },
     "execution_count": 148,
     "metadata": {},
     "output_type": "execute_result"
    }
   ],
   "source": [
    "pd.read_html(reg_w49.summary().tables[1].as_html(),header=0,index_col=0)[0].iloc[-4:,:-2]"
   ]
  },
  {
   "cell_type": "code",
   "execution_count": 149,
   "metadata": {
    "ExecuteTime": {
     "end_time": "2021-07-16T03:16:42.383032Z",
     "start_time": "2021-07-16T03:16:41.934653Z"
    }
   },
   "outputs": [
    {
     "data": {
      "text/html": [
       "<div>\n",
       "<style scoped>\n",
       "    .dataframe tbody tr th:only-of-type {\n",
       "        vertical-align: middle;\n",
       "    }\n",
       "\n",
       "    .dataframe tbody tr th {\n",
       "        vertical-align: top;\n",
       "    }\n",
       "\n",
       "    .dataframe thead th {\n",
       "        text-align: right;\n",
       "    }\n",
       "</style>\n",
       "<table border=\"1\" class=\"dataframe\">\n",
       "  <thead>\n",
       "    <tr style=\"text-align: right;\">\n",
       "      <th></th>\n",
       "      <th>coef</th>\n",
       "      <th>std err</th>\n",
       "      <th>t</th>\n",
       "      <th>P&gt;|t|</th>\n",
       "    </tr>\n",
       "  </thead>\n",
       "  <tbody>\n",
       "    <tr>\n",
       "      <th>CUMP_QUADRATIC</th>\n",
       "      <td>0.1196</td>\n",
       "      <td>0.181</td>\n",
       "      <td>0.661</td>\n",
       "      <td>0.509</td>\n",
       "    </tr>\n",
       "    <tr>\n",
       "      <th>OBRIGAÇÃO_FINAL_POR_SALA</th>\n",
       "      <td>-0.0125</td>\n",
       "      <td>0.004</td>\n",
       "      <td>-3.190</td>\n",
       "      <td>0.001</td>\n",
       "    </tr>\n",
       "    <tr>\n",
       "      <th>CUMP_QUADRATIC:OBRIGAÇÃO_FINAL_POR_SALA</th>\n",
       "      <td>0.0145</td>\n",
       "      <td>0.005</td>\n",
       "      <td>3.189</td>\n",
       "      <td>0.001</td>\n",
       "    </tr>\n",
       "    <tr>\n",
       "      <th>DIAS_FUNCIONAMENTO</th>\n",
       "      <td>0.0057</td>\n",
       "      <td>0.000</td>\n",
       "      <td>19.480</td>\n",
       "      <td>0.000</td>\n",
       "    </tr>\n",
       "  </tbody>\n",
       "</table>\n",
       "</div>"
      ],
      "text/plain": [
       "                                           coef  std err       t  P>|t|\n",
       "CUMP_QUADRATIC                           0.1196    0.181   0.661  0.509\n",
       "OBRIGAÇÃO_FINAL_POR_SALA                -0.0125    0.004  -3.190  0.001\n",
       "CUMP_QUADRATIC:OBRIGAÇÃO_FINAL_POR_SALA  0.0145    0.005   3.189  0.001\n",
       "DIAS_FUNCIONAMENTO                       0.0057    0.000  19.480  0.000"
      ]
     },
     "execution_count": 149,
     "metadata": {},
     "output_type": "execute_result"
    }
   ],
   "source": [
    "pd.read_html(reg_w50.summary().tables[1].as_html(),header=0,index_col=0)[0].iloc[-4:,:-2]"
   ]
  },
  {
   "cell_type": "markdown",
   "metadata": {},
   "source": [
    "###### Normal pdf kernel"
   ]
  },
  {
   "cell_type": "code",
   "execution_count": 150,
   "metadata": {
    "ExecuteTime": {
     "end_time": "2021-07-16T03:16:44.214807Z",
     "start_time": "2021-07-16T03:16:42.386012Z"
    }
   },
   "outputs": [],
   "source": [
    "formul = 'np.log(PUBLICO) ~ CUMP_NORMALIZADO*OBRIGAÇÃO_FINAL_POR_SALA + DIAS_FUNCIONAMENTO + C(REGISTRO_COMPLEXO) + C(ANO_CINEMATOGRAFICO)'\n",
    "data = [tds_1719, est_1719, bras_1719]\n",
    "\n",
    "# all\n",
    "reg_w51 = smf.ols(formula = formul, data=data[0]).fit()\n",
    "\n",
    "# foreign\n",
    "reg_w52 = smf.ols(formula = formul, data=data[1]).fit()\n",
    "\n",
    "# Brazilian\n",
    "reg_w53 = smf.ols(formula = formul, data=data[2]).fit()"
   ]
  },
  {
   "cell_type": "code",
   "execution_count": 151,
   "metadata": {
    "ExecuteTime": {
     "end_time": "2021-07-16T03:16:44.656544Z",
     "start_time": "2021-07-16T03:16:44.215809Z"
    }
   },
   "outputs": [
    {
     "data": {
      "text/html": [
       "<div>\n",
       "<style scoped>\n",
       "    .dataframe tbody tr th:only-of-type {\n",
       "        vertical-align: middle;\n",
       "    }\n",
       "\n",
       "    .dataframe tbody tr th {\n",
       "        vertical-align: top;\n",
       "    }\n",
       "\n",
       "    .dataframe thead th {\n",
       "        text-align: right;\n",
       "    }\n",
       "</style>\n",
       "<table border=\"1\" class=\"dataframe\">\n",
       "  <thead>\n",
       "    <tr style=\"text-align: right;\">\n",
       "      <th></th>\n",
       "      <th>coef</th>\n",
       "      <th>std err</th>\n",
       "      <th>t</th>\n",
       "      <th>P&gt;|t|</th>\n",
       "    </tr>\n",
       "  </thead>\n",
       "  <tbody>\n",
       "    <tr>\n",
       "      <th>CUMP_NORMALIZADO</th>\n",
       "      <td>1.6050</td>\n",
       "      <td>0.307</td>\n",
       "      <td>5.228</td>\n",
       "      <td>0.0</td>\n",
       "    </tr>\n",
       "    <tr>\n",
       "      <th>OBRIGAÇÃO_FINAL_POR_SALA</th>\n",
       "      <td>0.0132</td>\n",
       "      <td>0.003</td>\n",
       "      <td>3.891</td>\n",
       "      <td>0.0</td>\n",
       "    </tr>\n",
       "    <tr>\n",
       "      <th>CUMP_NORMALIZADO:OBRIGAÇÃO_FINAL_POR_SALA</th>\n",
       "      <td>-0.0357</td>\n",
       "      <td>0.009</td>\n",
       "      <td>-3.924</td>\n",
       "      <td>0.0</td>\n",
       "    </tr>\n",
       "    <tr>\n",
       "      <th>DIAS_FUNCIONAMENTO</th>\n",
       "      <td>0.0064</td>\n",
       "      <td>0.000</td>\n",
       "      <td>50.275</td>\n",
       "      <td>0.0</td>\n",
       "    </tr>\n",
       "  </tbody>\n",
       "</table>\n",
       "</div>"
      ],
      "text/plain": [
       "                                             coef  std err       t  P>|t|\n",
       "CUMP_NORMALIZADO                           1.6050    0.307   5.228    0.0\n",
       "OBRIGAÇÃO_FINAL_POR_SALA                   0.0132    0.003   3.891    0.0\n",
       "CUMP_NORMALIZADO:OBRIGAÇÃO_FINAL_POR_SALA -0.0357    0.009  -3.924    0.0\n",
       "DIAS_FUNCIONAMENTO                         0.0064    0.000  50.275    0.0"
      ]
     },
     "execution_count": 151,
     "metadata": {},
     "output_type": "execute_result"
    }
   ],
   "source": [
    "pd.read_html(reg_w51.summary().tables[1].as_html(),header=0,index_col=0)[0].iloc[-4:,:-2]"
   ]
  },
  {
   "cell_type": "code",
   "execution_count": 152,
   "metadata": {
    "ExecuteTime": {
     "end_time": "2021-07-16T03:16:45.070644Z",
     "start_time": "2021-07-16T03:16:44.660558Z"
    }
   },
   "outputs": [
    {
     "data": {
      "text/html": [
       "<div>\n",
       "<style scoped>\n",
       "    .dataframe tbody tr th:only-of-type {\n",
       "        vertical-align: middle;\n",
       "    }\n",
       "\n",
       "    .dataframe tbody tr th {\n",
       "        vertical-align: top;\n",
       "    }\n",
       "\n",
       "    .dataframe thead th {\n",
       "        text-align: right;\n",
       "    }\n",
       "</style>\n",
       "<table border=\"1\" class=\"dataframe\">\n",
       "  <thead>\n",
       "    <tr style=\"text-align: right;\">\n",
       "      <th></th>\n",
       "      <th>coef</th>\n",
       "      <th>std err</th>\n",
       "      <th>t</th>\n",
       "      <th>P&gt;|t|</th>\n",
       "    </tr>\n",
       "  </thead>\n",
       "  <tbody>\n",
       "    <tr>\n",
       "      <th>CUMP_NORMALIZADO</th>\n",
       "      <td>2.1901</td>\n",
       "      <td>0.370</td>\n",
       "      <td>5.924</td>\n",
       "      <td>0.0</td>\n",
       "    </tr>\n",
       "    <tr>\n",
       "      <th>OBRIGAÇÃO_FINAL_POR_SALA</th>\n",
       "      <td>0.0215</td>\n",
       "      <td>0.004</td>\n",
       "      <td>5.423</td>\n",
       "      <td>0.0</td>\n",
       "    </tr>\n",
       "    <tr>\n",
       "      <th>CUMP_NORMALIZADO:OBRIGAÇÃO_FINAL_POR_SALA</th>\n",
       "      <td>-0.0574</td>\n",
       "      <td>0.011</td>\n",
       "      <td>-5.400</td>\n",
       "      <td>0.0</td>\n",
       "    </tr>\n",
       "    <tr>\n",
       "      <th>DIAS_FUNCIONAMENTO</th>\n",
       "      <td>0.0064</td>\n",
       "      <td>0.000</td>\n",
       "      <td>46.134</td>\n",
       "      <td>0.0</td>\n",
       "    </tr>\n",
       "  </tbody>\n",
       "</table>\n",
       "</div>"
      ],
      "text/plain": [
       "                                             coef  std err       t  P>|t|\n",
       "CUMP_NORMALIZADO                           2.1901    0.370   5.924    0.0\n",
       "OBRIGAÇÃO_FINAL_POR_SALA                   0.0215    0.004   5.423    0.0\n",
       "CUMP_NORMALIZADO:OBRIGAÇÃO_FINAL_POR_SALA -0.0574    0.011  -5.400    0.0\n",
       "DIAS_FUNCIONAMENTO                         0.0064    0.000  46.134    0.0"
      ]
     },
     "execution_count": 152,
     "metadata": {},
     "output_type": "execute_result"
    }
   ],
   "source": [
    "pd.read_html(reg_w52.summary().tables[1].as_html(),header=0,index_col=0)[0].iloc[-4:,:-2]"
   ]
  },
  {
   "cell_type": "code",
   "execution_count": 153,
   "metadata": {
    "ExecuteTime": {
     "end_time": "2021-07-16T03:16:45.540903Z",
     "start_time": "2021-07-16T03:16:45.072650Z"
    }
   },
   "outputs": [
    {
     "data": {
      "text/html": [
       "<div>\n",
       "<style scoped>\n",
       "    .dataframe tbody tr th:only-of-type {\n",
       "        vertical-align: middle;\n",
       "    }\n",
       "\n",
       "    .dataframe tbody tr th {\n",
       "        vertical-align: top;\n",
       "    }\n",
       "\n",
       "    .dataframe thead th {\n",
       "        text-align: right;\n",
       "    }\n",
       "</style>\n",
       "<table border=\"1\" class=\"dataframe\">\n",
       "  <thead>\n",
       "    <tr style=\"text-align: right;\">\n",
       "      <th></th>\n",
       "      <th>coef</th>\n",
       "      <th>std err</th>\n",
       "      <th>t</th>\n",
       "      <th>P&gt;|t|</th>\n",
       "    </tr>\n",
       "  </thead>\n",
       "  <tbody>\n",
       "    <tr>\n",
       "      <th>CUMP_NORMALIZADO</th>\n",
       "      <td>-1.5329</td>\n",
       "      <td>0.676</td>\n",
       "      <td>-2.266</td>\n",
       "      <td>0.024</td>\n",
       "    </tr>\n",
       "    <tr>\n",
       "      <th>OBRIGAÇÃO_FINAL_POR_SALA</th>\n",
       "      <td>-0.0400</td>\n",
       "      <td>0.007</td>\n",
       "      <td>-5.397</td>\n",
       "      <td>0.000</td>\n",
       "    </tr>\n",
       "    <tr>\n",
       "      <th>CUMP_NORMALIZADO:OBRIGAÇÃO_FINAL_POR_SALA</th>\n",
       "      <td>0.1093</td>\n",
       "      <td>0.020</td>\n",
       "      <td>5.503</td>\n",
       "      <td>0.000</td>\n",
       "    </tr>\n",
       "    <tr>\n",
       "      <th>DIAS_FUNCIONAMENTO</th>\n",
       "      <td>0.0058</td>\n",
       "      <td>0.000</td>\n",
       "      <td>19.674</td>\n",
       "      <td>0.000</td>\n",
       "    </tr>\n",
       "  </tbody>\n",
       "</table>\n",
       "</div>"
      ],
      "text/plain": [
       "                                             coef  std err       t  P>|t|\n",
       "CUMP_NORMALIZADO                          -1.5329    0.676  -2.266  0.024\n",
       "OBRIGAÇÃO_FINAL_POR_SALA                  -0.0400    0.007  -5.397  0.000\n",
       "CUMP_NORMALIZADO:OBRIGAÇÃO_FINAL_POR_SALA  0.1093    0.020   5.503  0.000\n",
       "DIAS_FUNCIONAMENTO                         0.0058    0.000  19.674  0.000"
      ]
     },
     "execution_count": 153,
     "metadata": {},
     "output_type": "execute_result"
    }
   ],
   "source": [
    "pd.read_html(reg_w53.summary().tables[1].as_html(),header=0,index_col=0)[0].iloc[-4:,:-2]"
   ]
  },
  {
   "cell_type": "markdown",
   "metadata": {},
   "source": [
    "###### Triangular kernel"
   ]
  },
  {
   "cell_type": "code",
   "execution_count": 154,
   "metadata": {
    "ExecuteTime": {
     "end_time": "2021-07-16T03:16:47.574351Z",
     "start_time": "2021-07-16T03:16:45.543902Z"
    }
   },
   "outputs": [],
   "source": [
    "formul = 'np.log(PUBLICO) ~ CUMP_LINEAR*OBRIGAÇÃO_FINAL_POR_SALA + DIAS_FUNCIONAMENTO + C(REGISTRO_COMPLEXO) + C(ANO_CINEMATOGRAFICO)'\n",
    "data = [tds_1719, est_1719, bras_1719]\n",
    "\n",
    "# all\n",
    "reg_w54 = smf.ols(formula = formul, data=data[0]).fit()\n",
    "\n",
    "# foreign\n",
    "reg_w55 = smf.ols(formula = formul, data=data[1]).fit()\n",
    "\n",
    "# Brazilian\n",
    "reg_w56 = smf.ols(formula = formul, data=data[2]).fit()"
   ]
  },
  {
   "cell_type": "code",
   "execution_count": 155,
   "metadata": {
    "ExecuteTime": {
     "end_time": "2021-07-16T03:16:48.016526Z",
     "start_time": "2021-07-16T03:16:47.576357Z"
    }
   },
   "outputs": [
    {
     "data": {
      "text/html": [
       "<div>\n",
       "<style scoped>\n",
       "    .dataframe tbody tr th:only-of-type {\n",
       "        vertical-align: middle;\n",
       "    }\n",
       "\n",
       "    .dataframe tbody tr th {\n",
       "        vertical-align: top;\n",
       "    }\n",
       "\n",
       "    .dataframe thead th {\n",
       "        text-align: right;\n",
       "    }\n",
       "</style>\n",
       "<table border=\"1\" class=\"dataframe\">\n",
       "  <thead>\n",
       "    <tr style=\"text-align: right;\">\n",
       "      <th></th>\n",
       "      <th>coef</th>\n",
       "      <th>std err</th>\n",
       "      <th>t</th>\n",
       "      <th>P&gt;|t|</th>\n",
       "    </tr>\n",
       "  </thead>\n",
       "  <tbody>\n",
       "    <tr>\n",
       "      <th>CUMP_LINEAR</th>\n",
       "      <td>0.4290</td>\n",
       "      <td>0.075</td>\n",
       "      <td>5.744</td>\n",
       "      <td>0.0</td>\n",
       "    </tr>\n",
       "    <tr>\n",
       "      <th>OBRIGAÇÃO_FINAL_POR_SALA</th>\n",
       "      <td>0.0057</td>\n",
       "      <td>0.001</td>\n",
       "      <td>4.424</td>\n",
       "      <td>0.0</td>\n",
       "    </tr>\n",
       "    <tr>\n",
       "      <th>CUMP_LINEAR:OBRIGAÇÃO_FINAL_POR_SALA</th>\n",
       "      <td>-0.0083</td>\n",
       "      <td>0.002</td>\n",
       "      <td>-4.934</td>\n",
       "      <td>0.0</td>\n",
       "    </tr>\n",
       "    <tr>\n",
       "      <th>DIAS_FUNCIONAMENTO</th>\n",
       "      <td>0.0064</td>\n",
       "      <td>0.000</td>\n",
       "      <td>50.065</td>\n",
       "      <td>0.0</td>\n",
       "    </tr>\n",
       "  </tbody>\n",
       "</table>\n",
       "</div>"
      ],
      "text/plain": [
       "                                        coef  std err       t  P>|t|\n",
       "CUMP_LINEAR                           0.4290    0.075   5.744    0.0\n",
       "OBRIGAÇÃO_FINAL_POR_SALA              0.0057    0.001   4.424    0.0\n",
       "CUMP_LINEAR:OBRIGAÇÃO_FINAL_POR_SALA -0.0083    0.002  -4.934    0.0\n",
       "DIAS_FUNCIONAMENTO                    0.0064    0.000  50.065    0.0"
      ]
     },
     "execution_count": 155,
     "metadata": {},
     "output_type": "execute_result"
    }
   ],
   "source": [
    "pd.read_html(reg_w54.summary().tables[1].as_html(),header=0,index_col=0)[0].iloc[-4:,:-2]"
   ]
  },
  {
   "cell_type": "code",
   "execution_count": 156,
   "metadata": {
    "ExecuteTime": {
     "end_time": "2021-07-16T03:16:48.433636Z",
     "start_time": "2021-07-16T03:16:48.017539Z"
    }
   },
   "outputs": [
    {
     "data": {
      "text/html": [
       "<div>\n",
       "<style scoped>\n",
       "    .dataframe tbody tr th:only-of-type {\n",
       "        vertical-align: middle;\n",
       "    }\n",
       "\n",
       "    .dataframe tbody tr th {\n",
       "        vertical-align: top;\n",
       "    }\n",
       "\n",
       "    .dataframe thead th {\n",
       "        text-align: right;\n",
       "    }\n",
       "</style>\n",
       "<table border=\"1\" class=\"dataframe\">\n",
       "  <thead>\n",
       "    <tr style=\"text-align: right;\">\n",
       "      <th></th>\n",
       "      <th>coef</th>\n",
       "      <th>std err</th>\n",
       "      <th>t</th>\n",
       "      <th>P&gt;|t|</th>\n",
       "    </tr>\n",
       "  </thead>\n",
       "  <tbody>\n",
       "    <tr>\n",
       "      <th>CUMP_LINEAR</th>\n",
       "      <td>0.4016</td>\n",
       "      <td>0.083</td>\n",
       "      <td>4.850</td>\n",
       "      <td>0.0</td>\n",
       "    </tr>\n",
       "    <tr>\n",
       "      <th>OBRIGAÇÃO_FINAL_POR_SALA</th>\n",
       "      <td>0.0064</td>\n",
       "      <td>0.001</td>\n",
       "      <td>4.464</td>\n",
       "      <td>0.0</td>\n",
       "    </tr>\n",
       "    <tr>\n",
       "      <th>CUMP_LINEAR:OBRIGAÇÃO_FINAL_POR_SALA</th>\n",
       "      <td>-0.0087</td>\n",
       "      <td>0.002</td>\n",
       "      <td>-4.683</td>\n",
       "      <td>0.0</td>\n",
       "    </tr>\n",
       "    <tr>\n",
       "      <th>DIAS_FUNCIONAMENTO</th>\n",
       "      <td>0.0064</td>\n",
       "      <td>0.000</td>\n",
       "      <td>46.000</td>\n",
       "      <td>0.0</td>\n",
       "    </tr>\n",
       "  </tbody>\n",
       "</table>\n",
       "</div>"
      ],
      "text/plain": [
       "                                        coef  std err       t  P>|t|\n",
       "CUMP_LINEAR                           0.4016    0.083   4.850    0.0\n",
       "OBRIGAÇÃO_FINAL_POR_SALA              0.0064    0.001   4.464    0.0\n",
       "CUMP_LINEAR:OBRIGAÇÃO_FINAL_POR_SALA -0.0087    0.002  -4.683    0.0\n",
       "DIAS_FUNCIONAMENTO                    0.0064    0.000  46.000    0.0"
      ]
     },
     "execution_count": 156,
     "metadata": {},
     "output_type": "execute_result"
    }
   ],
   "source": [
    "pd.read_html(reg_w55.summary().tables[1].as_html(),header=0,index_col=0)[0].iloc[-4:,:-2]"
   ]
  },
  {
   "cell_type": "code",
   "execution_count": 157,
   "metadata": {
    "ExecuteTime": {
     "end_time": "2021-07-16T03:16:48.839102Z",
     "start_time": "2021-07-16T03:16:48.435641Z"
    }
   },
   "outputs": [
    {
     "data": {
      "text/html": [
       "<div>\n",
       "<style scoped>\n",
       "    .dataframe tbody tr th:only-of-type {\n",
       "        vertical-align: middle;\n",
       "    }\n",
       "\n",
       "    .dataframe tbody tr th {\n",
       "        vertical-align: top;\n",
       "    }\n",
       "\n",
       "    .dataframe thead th {\n",
       "        text-align: right;\n",
       "    }\n",
       "</style>\n",
       "<table border=\"1\" class=\"dataframe\">\n",
       "  <thead>\n",
       "    <tr style=\"text-align: right;\">\n",
       "      <th></th>\n",
       "      <th>coef</th>\n",
       "      <th>std err</th>\n",
       "      <th>t</th>\n",
       "      <th>P&gt;|t|</th>\n",
       "    </tr>\n",
       "  </thead>\n",
       "  <tbody>\n",
       "    <tr>\n",
       "      <th>CUMP_LINEAR</th>\n",
       "      <td>0.4957</td>\n",
       "      <td>0.172</td>\n",
       "      <td>2.882</td>\n",
       "      <td>0.004</td>\n",
       "    </tr>\n",
       "    <tr>\n",
       "      <th>OBRIGAÇÃO_FINAL_POR_SALA</th>\n",
       "      <td>-0.0033</td>\n",
       "      <td>0.003</td>\n",
       "      <td>-1.156</td>\n",
       "      <td>0.248</td>\n",
       "    </tr>\n",
       "    <tr>\n",
       "      <th>CUMP_LINEAR:OBRIGAÇÃO_FINAL_POR_SALA</th>\n",
       "      <td>0.0029</td>\n",
       "      <td>0.004</td>\n",
       "      <td>0.768</td>\n",
       "      <td>0.442</td>\n",
       "    </tr>\n",
       "    <tr>\n",
       "      <th>DIAS_FUNCIONAMENTO</th>\n",
       "      <td>0.0057</td>\n",
       "      <td>0.000</td>\n",
       "      <td>19.530</td>\n",
       "      <td>0.000</td>\n",
       "    </tr>\n",
       "  </tbody>\n",
       "</table>\n",
       "</div>"
      ],
      "text/plain": [
       "                                        coef  std err       t  P>|t|\n",
       "CUMP_LINEAR                           0.4957    0.172   2.882  0.004\n",
       "OBRIGAÇÃO_FINAL_POR_SALA             -0.0033    0.003  -1.156  0.248\n",
       "CUMP_LINEAR:OBRIGAÇÃO_FINAL_POR_SALA  0.0029    0.004   0.768  0.442\n",
       "DIAS_FUNCIONAMENTO                    0.0057    0.000  19.530  0.000"
      ]
     },
     "execution_count": 157,
     "metadata": {},
     "output_type": "execute_result"
    }
   ],
   "source": [
    "pd.read_html(reg_w56.summary().tables[1].as_html(),header=0,index_col=0)[0].iloc[-4:,:-2]"
   ]
  },
  {
   "cell_type": "markdown",
   "metadata": {},
   "source": [
    "###### Triweight kernel"
   ]
  },
  {
   "cell_type": "code",
   "execution_count": 158,
   "metadata": {
    "ExecuteTime": {
     "end_time": "2021-07-16T03:16:50.613255Z",
     "start_time": "2021-07-16T03:16:48.842089Z"
    }
   },
   "outputs": [],
   "source": [
    "formul = 'np.log(PUBLICO) ~ CUMP_TRIWEIGHT*OBRIGAÇÃO_FINAL_POR_SALA + DIAS_FUNCIONAMENTO + C(REGISTRO_COMPLEXO) + C(ANO_CINEMATOGRAFICO)'\n",
    "data = [tds_1719, est_1719, bras_1719]\n",
    "\n",
    "# all\n",
    "reg_w57 = smf.ols(formula = formul, data=data[0]).fit()\n",
    "\n",
    "# foreign\n",
    "reg_w58 = smf.ols(formula = formul, data=data[1]).fit()\n",
    "\n",
    "# Brazilian\n",
    "reg_w59 = smf.ols(formula = formul, data=data[2]).fit()"
   ]
  },
  {
   "cell_type": "code",
   "execution_count": 159,
   "metadata": {
    "ExecuteTime": {
     "end_time": "2021-07-16T03:16:51.099636Z",
     "start_time": "2021-07-16T03:16:50.613255Z"
    }
   },
   "outputs": [
    {
     "data": {
      "text/html": [
       "<div>\n",
       "<style scoped>\n",
       "    .dataframe tbody tr th:only-of-type {\n",
       "        vertical-align: middle;\n",
       "    }\n",
       "\n",
       "    .dataframe tbody tr th {\n",
       "        vertical-align: top;\n",
       "    }\n",
       "\n",
       "    .dataframe thead th {\n",
       "        text-align: right;\n",
       "    }\n",
       "</style>\n",
       "<table border=\"1\" class=\"dataframe\">\n",
       "  <thead>\n",
       "    <tr style=\"text-align: right;\">\n",
       "      <th></th>\n",
       "      <th>coef</th>\n",
       "      <th>std err</th>\n",
       "      <th>t</th>\n",
       "      <th>P&gt;|t|</th>\n",
       "    </tr>\n",
       "  </thead>\n",
       "  <tbody>\n",
       "    <tr>\n",
       "      <th>CUMP_TRIWEIGHT</th>\n",
       "      <td>0.3080</td>\n",
       "      <td>0.064</td>\n",
       "      <td>4.802</td>\n",
       "      <td>0.0</td>\n",
       "    </tr>\n",
       "    <tr>\n",
       "      <th>OBRIGAÇÃO_FINAL_POR_SALA</th>\n",
       "      <td>0.0042</td>\n",
       "      <td>0.001</td>\n",
       "      <td>3.769</td>\n",
       "      <td>0.0</td>\n",
       "    </tr>\n",
       "    <tr>\n",
       "      <th>CUMP_TRIWEIGHT:OBRIGAÇÃO_FINAL_POR_SALA</th>\n",
       "      <td>-0.0060</td>\n",
       "      <td>0.001</td>\n",
       "      <td>-4.208</td>\n",
       "      <td>0.0</td>\n",
       "    </tr>\n",
       "    <tr>\n",
       "      <th>DIAS_FUNCIONAMENTO</th>\n",
       "      <td>0.0064</td>\n",
       "      <td>0.000</td>\n",
       "      <td>50.504</td>\n",
       "      <td>0.0</td>\n",
       "    </tr>\n",
       "  </tbody>\n",
       "</table>\n",
       "</div>"
      ],
      "text/plain": [
       "                                           coef  std err       t  P>|t|\n",
       "CUMP_TRIWEIGHT                           0.3080    0.064   4.802    0.0\n",
       "OBRIGAÇÃO_FINAL_POR_SALA                 0.0042    0.001   3.769    0.0\n",
       "CUMP_TRIWEIGHT:OBRIGAÇÃO_FINAL_POR_SALA -0.0060    0.001  -4.208    0.0\n",
       "DIAS_FUNCIONAMENTO                       0.0064    0.000  50.504    0.0"
      ]
     },
     "execution_count": 159,
     "metadata": {},
     "output_type": "execute_result"
    }
   ],
   "source": [
    "pd.read_html(reg_w57.summary().tables[1].as_html(),header=0,index_col=0)[0].iloc[-4:,:-2]"
   ]
  },
  {
   "cell_type": "code",
   "execution_count": 160,
   "metadata": {
    "ExecuteTime": {
     "end_time": "2021-07-16T03:16:51.522766Z",
     "start_time": "2021-07-16T03:16:51.101620Z"
    }
   },
   "outputs": [
    {
     "data": {
      "text/html": [
       "<div>\n",
       "<style scoped>\n",
       "    .dataframe tbody tr th:only-of-type {\n",
       "        vertical-align: middle;\n",
       "    }\n",
       "\n",
       "    .dataframe tbody tr th {\n",
       "        vertical-align: top;\n",
       "    }\n",
       "\n",
       "    .dataframe thead th {\n",
       "        text-align: right;\n",
       "    }\n",
       "</style>\n",
       "<table border=\"1\" class=\"dataframe\">\n",
       "  <thead>\n",
       "    <tr style=\"text-align: right;\">\n",
       "      <th></th>\n",
       "      <th>coef</th>\n",
       "      <th>std err</th>\n",
       "      <th>t</th>\n",
       "      <th>P&gt;|t|</th>\n",
       "    </tr>\n",
       "  </thead>\n",
       "  <tbody>\n",
       "    <tr>\n",
       "      <th>CUMP_TRIWEIGHT</th>\n",
       "      <td>0.2721</td>\n",
       "      <td>0.071</td>\n",
       "      <td>3.857</td>\n",
       "      <td>0.0</td>\n",
       "    </tr>\n",
       "    <tr>\n",
       "      <th>OBRIGAÇÃO_FINAL_POR_SALA</th>\n",
       "      <td>0.0046</td>\n",
       "      <td>0.001</td>\n",
       "      <td>3.778</td>\n",
       "      <td>0.0</td>\n",
       "    </tr>\n",
       "    <tr>\n",
       "      <th>CUMP_TRIWEIGHT:OBRIGAÇÃO_FINAL_POR_SALA</th>\n",
       "      <td>-0.0061</td>\n",
       "      <td>0.002</td>\n",
       "      <td>-3.900</td>\n",
       "      <td>0.0</td>\n",
       "    </tr>\n",
       "    <tr>\n",
       "      <th>DIAS_FUNCIONAMENTO</th>\n",
       "      <td>0.0064</td>\n",
       "      <td>0.000</td>\n",
       "      <td>46.457</td>\n",
       "      <td>0.0</td>\n",
       "    </tr>\n",
       "  </tbody>\n",
       "</table>\n",
       "</div>"
      ],
      "text/plain": [
       "                                           coef  std err       t  P>|t|\n",
       "CUMP_TRIWEIGHT                           0.2721    0.071   3.857    0.0\n",
       "OBRIGAÇÃO_FINAL_POR_SALA                 0.0046    0.001   3.778    0.0\n",
       "CUMP_TRIWEIGHT:OBRIGAÇÃO_FINAL_POR_SALA -0.0061    0.002  -3.900    0.0\n",
       "DIAS_FUNCIONAMENTO                       0.0064    0.000  46.457    0.0"
      ]
     },
     "execution_count": 160,
     "metadata": {},
     "output_type": "execute_result"
    }
   ],
   "source": [
    "pd.read_html(reg_w58.summary().tables[1].as_html(),header=0,index_col=0)[0].iloc[-4:,:-2]"
   ]
  },
  {
   "cell_type": "code",
   "execution_count": 161,
   "metadata": {
    "ExecuteTime": {
     "end_time": "2021-07-16T03:16:51.936839Z",
     "start_time": "2021-07-16T03:16:51.524744Z"
    },
    "scrolled": true
   },
   "outputs": [
    {
     "data": {
      "text/html": [
       "<div>\n",
       "<style scoped>\n",
       "    .dataframe tbody tr th:only-of-type {\n",
       "        vertical-align: middle;\n",
       "    }\n",
       "\n",
       "    .dataframe tbody tr th {\n",
       "        vertical-align: top;\n",
       "    }\n",
       "\n",
       "    .dataframe thead th {\n",
       "        text-align: right;\n",
       "    }\n",
       "</style>\n",
       "<table border=\"1\" class=\"dataframe\">\n",
       "  <thead>\n",
       "    <tr style=\"text-align: right;\">\n",
       "      <th></th>\n",
       "      <th>coef</th>\n",
       "      <th>std err</th>\n",
       "      <th>t</th>\n",
       "      <th>P&gt;|t|</th>\n",
       "    </tr>\n",
       "  </thead>\n",
       "  <tbody>\n",
       "    <tr>\n",
       "      <th>CUMP_TRIWEIGHT</th>\n",
       "      <td>0.5324</td>\n",
       "      <td>0.142</td>\n",
       "      <td>3.739</td>\n",
       "      <td>0.000</td>\n",
       "    </tr>\n",
       "    <tr>\n",
       "      <th>OBRIGAÇÃO_FINAL_POR_SALA</th>\n",
       "      <td>-0.0014</td>\n",
       "      <td>0.002</td>\n",
       "      <td>-0.573</td>\n",
       "      <td>0.567</td>\n",
       "    </tr>\n",
       "    <tr>\n",
       "      <th>CUMP_TRIWEIGHT:OBRIGAÇÃO_FINAL_POR_SALA</th>\n",
       "      <td>0.0003</td>\n",
       "      <td>0.003</td>\n",
       "      <td>0.106</td>\n",
       "      <td>0.915</td>\n",
       "    </tr>\n",
       "    <tr>\n",
       "      <th>DIAS_FUNCIONAMENTO</th>\n",
       "      <td>0.0057</td>\n",
       "      <td>0.000</td>\n",
       "      <td>19.579</td>\n",
       "      <td>0.000</td>\n",
       "    </tr>\n",
       "  </tbody>\n",
       "</table>\n",
       "</div>"
      ],
      "text/plain": [
       "                                           coef  std err       t  P>|t|\n",
       "CUMP_TRIWEIGHT                           0.5324    0.142   3.739  0.000\n",
       "OBRIGAÇÃO_FINAL_POR_SALA                -0.0014    0.002  -0.573  0.567\n",
       "CUMP_TRIWEIGHT:OBRIGAÇÃO_FINAL_POR_SALA  0.0003    0.003   0.106  0.915\n",
       "DIAS_FUNCIONAMENTO                       0.0057    0.000  19.579  0.000"
      ]
     },
     "execution_count": 161,
     "metadata": {},
     "output_type": "execute_result"
    }
   ],
   "source": [
    "pd.read_html(reg_w59.summary().tables[1].as_html(),header=0,index_col=0)[0].iloc[-4:,:-2]"
   ]
  },
  {
   "cell_type": "markdown",
   "metadata": {},
   "source": [
    "##### 2017-2018"
   ]
  },
  {
   "cell_type": "markdown",
   "metadata": {},
   "source": [
    "###### Quadratic kernel"
   ]
  },
  {
   "cell_type": "code",
   "execution_count": 162,
   "metadata": {
    "ExecuteTime": {
     "end_time": "2021-07-16T03:16:56.280610Z",
     "start_time": "2021-07-16T03:16:55.026974Z"
    }
   },
   "outputs": [],
   "source": [
    "formul = 'np.log(PUBLICO) ~ CUMP_QUADRATIC*OBRIGAÇÃO_FINAL_POR_SALA + DIAS_FUNCIONAMENTO + C(REGISTRO_COMPLEXO) + C(ANO_CINEMATOGRAFICO)'\n",
    "data = [tds_1718, est_1718, bras_1718]\n",
    "\n",
    "# all\n",
    "reg_w60 = smf.ols(formula = formul, data=data[0]).fit()\n",
    "\n",
    "# foreign\n",
    "reg_w61 = smf.ols(formula = formul, data=data[1]).fit()\n",
    "\n",
    "# Brazilian\n",
    "reg_w62 = smf.ols(formula = formul, data=data[2]).fit()"
   ]
  },
  {
   "cell_type": "code",
   "execution_count": 163,
   "metadata": {
    "ExecuteTime": {
     "end_time": "2021-07-16T03:16:56.743860Z",
     "start_time": "2021-07-16T03:16:56.280610Z"
    }
   },
   "outputs": [
    {
     "data": {
      "text/html": [
       "<div>\n",
       "<style scoped>\n",
       "    .dataframe tbody tr th:only-of-type {\n",
       "        vertical-align: middle;\n",
       "    }\n",
       "\n",
       "    .dataframe tbody tr th {\n",
       "        vertical-align: top;\n",
       "    }\n",
       "\n",
       "    .dataframe thead th {\n",
       "        text-align: right;\n",
       "    }\n",
       "</style>\n",
       "<table border=\"1\" class=\"dataframe\">\n",
       "  <thead>\n",
       "    <tr style=\"text-align: right;\">\n",
       "      <th></th>\n",
       "      <th>coef</th>\n",
       "      <th>std err</th>\n",
       "      <th>t</th>\n",
       "      <th>P&gt;|t|</th>\n",
       "    </tr>\n",
       "  </thead>\n",
       "  <tbody>\n",
       "    <tr>\n",
       "      <th>CUMP_QUADRATIC</th>\n",
       "      <td>0.5520</td>\n",
       "      <td>0.100</td>\n",
       "      <td>5.523</td>\n",
       "      <td>0.0</td>\n",
       "    </tr>\n",
       "    <tr>\n",
       "      <th>OBRIGAÇÃO_FINAL_POR_SALA</th>\n",
       "      <td>0.0096</td>\n",
       "      <td>0.002</td>\n",
       "      <td>4.226</td>\n",
       "      <td>0.0</td>\n",
       "    </tr>\n",
       "    <tr>\n",
       "      <th>CUMP_QUADRATIC:OBRIGAÇÃO_FINAL_POR_SALA</th>\n",
       "      <td>-0.0134</td>\n",
       "      <td>0.003</td>\n",
       "      <td>-5.115</td>\n",
       "      <td>0.0</td>\n",
       "    </tr>\n",
       "    <tr>\n",
       "      <th>DIAS_FUNCIONAMENTO</th>\n",
       "      <td>0.0066</td>\n",
       "      <td>0.000</td>\n",
       "      <td>30.913</td>\n",
       "      <td>0.0</td>\n",
       "    </tr>\n",
       "  </tbody>\n",
       "</table>\n",
       "</div>"
      ],
      "text/plain": [
       "                                           coef  std err       t  P>|t|\n",
       "CUMP_QUADRATIC                           0.5520    0.100   5.523    0.0\n",
       "OBRIGAÇÃO_FINAL_POR_SALA                 0.0096    0.002   4.226    0.0\n",
       "CUMP_QUADRATIC:OBRIGAÇÃO_FINAL_POR_SALA -0.0134    0.003  -5.115    0.0\n",
       "DIAS_FUNCIONAMENTO                       0.0066    0.000  30.913    0.0"
      ]
     },
     "execution_count": 163,
     "metadata": {},
     "output_type": "execute_result"
    }
   ],
   "source": [
    "pd.read_html(reg_w60.summary().tables[1].as_html(),header=0,index_col=0)[0].iloc[-4:,:-2]"
   ]
  },
  {
   "cell_type": "code",
   "execution_count": 164,
   "metadata": {
    "ExecuteTime": {
     "end_time": "2021-07-16T03:16:57.107828Z",
     "start_time": "2021-07-16T03:16:56.745866Z"
    }
   },
   "outputs": [
    {
     "data": {
      "text/html": [
       "<div>\n",
       "<style scoped>\n",
       "    .dataframe tbody tr th:only-of-type {\n",
       "        vertical-align: middle;\n",
       "    }\n",
       "\n",
       "    .dataframe tbody tr th {\n",
       "        vertical-align: top;\n",
       "    }\n",
       "\n",
       "    .dataframe thead th {\n",
       "        text-align: right;\n",
       "    }\n",
       "</style>\n",
       "<table border=\"1\" class=\"dataframe\">\n",
       "  <thead>\n",
       "    <tr style=\"text-align: right;\">\n",
       "      <th></th>\n",
       "      <th>coef</th>\n",
       "      <th>std err</th>\n",
       "      <th>t</th>\n",
       "      <th>P&gt;|t|</th>\n",
       "    </tr>\n",
       "  </thead>\n",
       "  <tbody>\n",
       "    <tr>\n",
       "      <th>CUMP_QUADRATIC</th>\n",
       "      <td>0.6062</td>\n",
       "      <td>0.104</td>\n",
       "      <td>5.839</td>\n",
       "      <td>0.0</td>\n",
       "    </tr>\n",
       "    <tr>\n",
       "      <th>OBRIGAÇÃO_FINAL_POR_SALA</th>\n",
       "      <td>0.0123</td>\n",
       "      <td>0.002</td>\n",
       "      <td>5.190</td>\n",
       "      <td>0.0</td>\n",
       "    </tr>\n",
       "    <tr>\n",
       "      <th>CUMP_QUADRATIC:OBRIGAÇÃO_FINAL_POR_SALA</th>\n",
       "      <td>-0.0159</td>\n",
       "      <td>0.003</td>\n",
       "      <td>-5.830</td>\n",
       "      <td>0.0</td>\n",
       "    </tr>\n",
       "    <tr>\n",
       "      <th>DIAS_FUNCIONAMENTO</th>\n",
       "      <td>0.0066</td>\n",
       "      <td>0.000</td>\n",
       "      <td>30.051</td>\n",
       "      <td>0.0</td>\n",
       "    </tr>\n",
       "  </tbody>\n",
       "</table>\n",
       "</div>"
      ],
      "text/plain": [
       "                                           coef  std err       t  P>|t|\n",
       "CUMP_QUADRATIC                           0.6062    0.104   5.839    0.0\n",
       "OBRIGAÇÃO_FINAL_POR_SALA                 0.0123    0.002   5.190    0.0\n",
       "CUMP_QUADRATIC:OBRIGAÇÃO_FINAL_POR_SALA -0.0159    0.003  -5.830    0.0\n",
       "DIAS_FUNCIONAMENTO                       0.0066    0.000  30.051    0.0"
      ]
     },
     "execution_count": 164,
     "metadata": {},
     "output_type": "execute_result"
    }
   ],
   "source": [
    "pd.read_html(reg_w61.summary().tables[1].as_html(),header=0,index_col=0)[0].iloc[-4:,:-2]"
   ]
  },
  {
   "cell_type": "code",
   "execution_count": 165,
   "metadata": {
    "ExecuteTime": {
     "end_time": "2021-07-16T03:16:57.476808Z",
     "start_time": "2021-07-16T03:16:57.109833Z"
    }
   },
   "outputs": [
    {
     "data": {
      "text/html": [
       "<div>\n",
       "<style scoped>\n",
       "    .dataframe tbody tr th:only-of-type {\n",
       "        vertical-align: middle;\n",
       "    }\n",
       "\n",
       "    .dataframe tbody tr th {\n",
       "        vertical-align: top;\n",
       "    }\n",
       "\n",
       "    .dataframe thead th {\n",
       "        text-align: right;\n",
       "    }\n",
       "</style>\n",
       "<table border=\"1\" class=\"dataframe\">\n",
       "  <thead>\n",
       "    <tr style=\"text-align: right;\">\n",
       "      <th></th>\n",
       "      <th>coef</th>\n",
       "      <th>std err</th>\n",
       "      <th>t</th>\n",
       "      <th>P&gt;|t|</th>\n",
       "    </tr>\n",
       "  </thead>\n",
       "  <tbody>\n",
       "    <tr>\n",
       "      <th>CUMP_QUADRATIC</th>\n",
       "      <td>0.2614</td>\n",
       "      <td>0.277</td>\n",
       "      <td>0.943</td>\n",
       "      <td>0.346</td>\n",
       "    </tr>\n",
       "    <tr>\n",
       "      <th>OBRIGAÇÃO_FINAL_POR_SALA</th>\n",
       "      <td>-0.0148</td>\n",
       "      <td>0.006</td>\n",
       "      <td>-2.512</td>\n",
       "      <td>0.012</td>\n",
       "    </tr>\n",
       "    <tr>\n",
       "      <th>CUMP_QUADRATIC:OBRIGAÇÃO_FINAL_POR_SALA</th>\n",
       "      <td>0.0169</td>\n",
       "      <td>0.007</td>\n",
       "      <td>2.407</td>\n",
       "      <td>0.016</td>\n",
       "    </tr>\n",
       "    <tr>\n",
       "      <th>DIAS_FUNCIONAMENTO</th>\n",
       "      <td>0.0049</td>\n",
       "      <td>0.001</td>\n",
       "      <td>8.801</td>\n",
       "      <td>0.000</td>\n",
       "    </tr>\n",
       "  </tbody>\n",
       "</table>\n",
       "</div>"
      ],
      "text/plain": [
       "                                           coef  std err      t  P>|t|\n",
       "CUMP_QUADRATIC                           0.2614    0.277  0.943  0.346\n",
       "OBRIGAÇÃO_FINAL_POR_SALA                -0.0148    0.006 -2.512  0.012\n",
       "CUMP_QUADRATIC:OBRIGAÇÃO_FINAL_POR_SALA  0.0169    0.007  2.407  0.016\n",
       "DIAS_FUNCIONAMENTO                       0.0049    0.001  8.801  0.000"
      ]
     },
     "execution_count": 165,
     "metadata": {},
     "output_type": "execute_result"
    }
   ],
   "source": [
    "pd.read_html(reg_w62.summary().tables[1].as_html(),header=0,index_col=0)[0].iloc[-4:,:-2]"
   ]
  },
  {
   "cell_type": "markdown",
   "metadata": {},
   "source": [
    "###### Normal pdf kernel"
   ]
  },
  {
   "cell_type": "code",
   "execution_count": 166,
   "metadata": {
    "ExecuteTime": {
     "end_time": "2021-07-16T03:16:58.907059Z",
     "start_time": "2021-07-16T03:16:57.478815Z"
    }
   },
   "outputs": [],
   "source": [
    "formul = 'np.log(PUBLICO) ~ CUMP_NORMALIZADO*OBRIGAÇÃO_FINAL_POR_SALA + DIAS_FUNCIONAMENTO + C(REGISTRO_COMPLEXO) + C(ANO_CINEMATOGRAFICO)'\n",
    "data = [tds_1718, est_1718, bras_1718]\n",
    "\n",
    "# all\n",
    "reg_w63 = smf.ols(formula = formul, data=data[0]).fit()\n",
    "\n",
    "# foreign\n",
    "reg_w64 = smf.ols(formula = formul, data=data[1]).fit()\n",
    "\n",
    "# Brazilian\n",
    "reg_w65 = smf.ols(formula = formul, data=data[2]).fit()"
   ]
  },
  {
   "cell_type": "code",
   "execution_count": 167,
   "metadata": {
    "ExecuteTime": {
     "end_time": "2021-07-16T03:16:59.271268Z",
     "start_time": "2021-07-16T03:16:58.909065Z"
    }
   },
   "outputs": [
    {
     "data": {
      "text/html": [
       "<div>\n",
       "<style scoped>\n",
       "    .dataframe tbody tr th:only-of-type {\n",
       "        vertical-align: middle;\n",
       "    }\n",
       "\n",
       "    .dataframe tbody tr th {\n",
       "        vertical-align: top;\n",
       "    }\n",
       "\n",
       "    .dataframe thead th {\n",
       "        text-align: right;\n",
       "    }\n",
       "</style>\n",
       "<table border=\"1\" class=\"dataframe\">\n",
       "  <thead>\n",
       "    <tr style=\"text-align: right;\">\n",
       "      <th></th>\n",
       "      <th>coef</th>\n",
       "      <th>std err</th>\n",
       "      <th>t</th>\n",
       "      <th>P&gt;|t|</th>\n",
       "    </tr>\n",
       "  </thead>\n",
       "  <tbody>\n",
       "    <tr>\n",
       "      <th>CUMP_NORMALIZADO</th>\n",
       "      <td>1.3559</td>\n",
       "      <td>0.436</td>\n",
       "      <td>3.110</td>\n",
       "      <td>0.002</td>\n",
       "    </tr>\n",
       "    <tr>\n",
       "      <th>OBRIGAÇÃO_FINAL_POR_SALA</th>\n",
       "      <td>0.0131</td>\n",
       "      <td>0.005</td>\n",
       "      <td>2.852</td>\n",
       "      <td>0.004</td>\n",
       "    </tr>\n",
       "    <tr>\n",
       "      <th>CUMP_NORMALIZADO:OBRIGAÇÃO_FINAL_POR_SALA</th>\n",
       "      <td>-0.0385</td>\n",
       "      <td>0.013</td>\n",
       "      <td>-3.046</td>\n",
       "      <td>0.002</td>\n",
       "    </tr>\n",
       "    <tr>\n",
       "      <th>DIAS_FUNCIONAMENTO</th>\n",
       "      <td>0.0067</td>\n",
       "      <td>0.000</td>\n",
       "      <td>31.449</td>\n",
       "      <td>0.000</td>\n",
       "    </tr>\n",
       "  </tbody>\n",
       "</table>\n",
       "</div>"
      ],
      "text/plain": [
       "                                             coef  std err       t  P>|t|\n",
       "CUMP_NORMALIZADO                           1.3559    0.436   3.110  0.002\n",
       "OBRIGAÇÃO_FINAL_POR_SALA                   0.0131    0.005   2.852  0.004\n",
       "CUMP_NORMALIZADO:OBRIGAÇÃO_FINAL_POR_SALA -0.0385    0.013  -3.046  0.002\n",
       "DIAS_FUNCIONAMENTO                         0.0067    0.000  31.449  0.000"
      ]
     },
     "execution_count": 167,
     "metadata": {},
     "output_type": "execute_result"
    }
   ],
   "source": [
    "pd.read_html(reg_w63.summary().tables[1].as_html(),header=0,index_col=0)[0].iloc[-4:,:-2]"
   ]
  },
  {
   "cell_type": "code",
   "execution_count": 168,
   "metadata": {
    "ExecuteTime": {
     "end_time": "2021-07-16T03:16:59.699405Z",
     "start_time": "2021-07-16T03:16:59.273273Z"
    }
   },
   "outputs": [
    {
     "data": {
      "text/html": [
       "<div>\n",
       "<style scoped>\n",
       "    .dataframe tbody tr th:only-of-type {\n",
       "        vertical-align: middle;\n",
       "    }\n",
       "\n",
       "    .dataframe tbody tr th {\n",
       "        vertical-align: top;\n",
       "    }\n",
       "\n",
       "    .dataframe thead th {\n",
       "        text-align: right;\n",
       "    }\n",
       "</style>\n",
       "<table border=\"1\" class=\"dataframe\">\n",
       "  <thead>\n",
       "    <tr style=\"text-align: right;\">\n",
       "      <th></th>\n",
       "      <th>coef</th>\n",
       "      <th>std err</th>\n",
       "      <th>t</th>\n",
       "      <th>P&gt;|t|</th>\n",
       "    </tr>\n",
       "  </thead>\n",
       "  <tbody>\n",
       "    <tr>\n",
       "      <th>CUMP_NORMALIZADO</th>\n",
       "      <td>2.3718</td>\n",
       "      <td>0.456</td>\n",
       "      <td>5.203</td>\n",
       "      <td>0.0</td>\n",
       "    </tr>\n",
       "    <tr>\n",
       "      <th>OBRIGAÇÃO_FINAL_POR_SALA</th>\n",
       "      <td>0.0241</td>\n",
       "      <td>0.005</td>\n",
       "      <td>4.979</td>\n",
       "      <td>0.0</td>\n",
       "    </tr>\n",
       "    <tr>\n",
       "      <th>CUMP_NORMALIZADO:OBRIGAÇÃO_FINAL_POR_SALA</th>\n",
       "      <td>-0.0673</td>\n",
       "      <td>0.013</td>\n",
       "      <td>-5.058</td>\n",
       "      <td>0.0</td>\n",
       "    </tr>\n",
       "    <tr>\n",
       "      <th>DIAS_FUNCIONAMENTO</th>\n",
       "      <td>0.0066</td>\n",
       "      <td>0.000</td>\n",
       "      <td>30.488</td>\n",
       "      <td>0.0</td>\n",
       "    </tr>\n",
       "  </tbody>\n",
       "</table>\n",
       "</div>"
      ],
      "text/plain": [
       "                                             coef  std err       t  P>|t|\n",
       "CUMP_NORMALIZADO                           2.3718    0.456   5.203    0.0\n",
       "OBRIGAÇÃO_FINAL_POR_SALA                   0.0241    0.005   4.979    0.0\n",
       "CUMP_NORMALIZADO:OBRIGAÇÃO_FINAL_POR_SALA -0.0673    0.013  -5.058    0.0\n",
       "DIAS_FUNCIONAMENTO                         0.0066    0.000  30.488    0.0"
      ]
     },
     "execution_count": 168,
     "metadata": {},
     "output_type": "execute_result"
    }
   ],
   "source": [
    "pd.read_html(reg_w64.summary().tables[1].as_html(),header=0,index_col=0)[0].iloc[-4:,:-2]"
   ]
  },
  {
   "cell_type": "code",
   "execution_count": 169,
   "metadata": {
    "ExecuteTime": {
     "end_time": "2021-07-16T03:17:00.067383Z",
     "start_time": "2021-07-16T03:16:59.701411Z"
    }
   },
   "outputs": [
    {
     "data": {
      "text/html": [
       "<div>\n",
       "<style scoped>\n",
       "    .dataframe tbody tr th:only-of-type {\n",
       "        vertical-align: middle;\n",
       "    }\n",
       "\n",
       "    .dataframe tbody tr th {\n",
       "        vertical-align: top;\n",
       "    }\n",
       "\n",
       "    .dataframe thead th {\n",
       "        text-align: right;\n",
       "    }\n",
       "</style>\n",
       "<table border=\"1\" class=\"dataframe\">\n",
       "  <thead>\n",
       "    <tr style=\"text-align: right;\">\n",
       "      <th></th>\n",
       "      <th>coef</th>\n",
       "      <th>std err</th>\n",
       "      <th>t</th>\n",
       "      <th>P&gt;|t|</th>\n",
       "    </tr>\n",
       "  </thead>\n",
       "  <tbody>\n",
       "    <tr>\n",
       "      <th>CUMP_NORMALIZADO</th>\n",
       "      <td>-1.5204</td>\n",
       "      <td>1.086</td>\n",
       "      <td>-1.400</td>\n",
       "      <td>0.162</td>\n",
       "    </tr>\n",
       "    <tr>\n",
       "      <th>OBRIGAÇÃO_FINAL_POR_SALA</th>\n",
       "      <td>-0.0500</td>\n",
       "      <td>0.011</td>\n",
       "      <td>-4.453</td>\n",
       "      <td>0.000</td>\n",
       "    </tr>\n",
       "    <tr>\n",
       "      <th>CUMP_NORMALIZADO:OBRIGAÇÃO_FINAL_POR_SALA</th>\n",
       "      <td>0.1327</td>\n",
       "      <td>0.031</td>\n",
       "      <td>4.269</td>\n",
       "      <td>0.000</td>\n",
       "    </tr>\n",
       "    <tr>\n",
       "      <th>DIAS_FUNCIONAMENTO</th>\n",
       "      <td>0.0052</td>\n",
       "      <td>0.001</td>\n",
       "      <td>9.364</td>\n",
       "      <td>0.000</td>\n",
       "    </tr>\n",
       "  </tbody>\n",
       "</table>\n",
       "</div>"
      ],
      "text/plain": [
       "                                             coef  std err      t  P>|t|\n",
       "CUMP_NORMALIZADO                          -1.5204    1.086 -1.400  0.162\n",
       "OBRIGAÇÃO_FINAL_POR_SALA                  -0.0500    0.011 -4.453  0.000\n",
       "CUMP_NORMALIZADO:OBRIGAÇÃO_FINAL_POR_SALA  0.1327    0.031  4.269  0.000\n",
       "DIAS_FUNCIONAMENTO                         0.0052    0.001  9.364  0.000"
      ]
     },
     "execution_count": 169,
     "metadata": {},
     "output_type": "execute_result"
    }
   ],
   "source": [
    "pd.read_html(reg_w65.summary().tables[1].as_html(),header=0,index_col=0)[0].iloc[-4:,:-2]"
   ]
  },
  {
   "cell_type": "markdown",
   "metadata": {},
   "source": [
    "###### Triangular kernel"
   ]
  },
  {
   "cell_type": "code",
   "execution_count": 170,
   "metadata": {
    "ExecuteTime": {
     "end_time": "2021-07-16T03:17:01.182097Z",
     "start_time": "2021-07-16T03:17:00.069389Z"
    }
   },
   "outputs": [],
   "source": [
    "formul = 'np.log(PUBLICO) ~ CUMP_LINEAR*OBRIGAÇÃO_FINAL_POR_SALA + DIAS_FUNCIONAMENTO + C(REGISTRO_COMPLEXO) + C(ANO_CINEMATOGRAFICO)'\n",
    "data = [tds_1718, est_1718, bras_1718]\n",
    "\n",
    "# all\n",
    "reg_w66 = smf.ols(formula = formul, data=data[0]).fit()\n",
    "\n",
    "# foreign\n",
    "reg_w67 = smf.ols(formula = formul, data=data[1]).fit()\n",
    "\n",
    "# Brazilian\n",
    "reg_w68 = smf.ols(formula = formul, data=data[2]).fit()"
   ]
  },
  {
   "cell_type": "code",
   "execution_count": 171,
   "metadata": {
    "ExecuteTime": {
     "end_time": "2021-07-16T03:17:01.593280Z",
     "start_time": "2021-07-16T03:17:01.184102Z"
    }
   },
   "outputs": [
    {
     "data": {
      "text/html": [
       "<div>\n",
       "<style scoped>\n",
       "    .dataframe tbody tr th:only-of-type {\n",
       "        vertical-align: middle;\n",
       "    }\n",
       "\n",
       "    .dataframe tbody tr th {\n",
       "        vertical-align: top;\n",
       "    }\n",
       "\n",
       "    .dataframe thead th {\n",
       "        text-align: right;\n",
       "    }\n",
       "</style>\n",
       "<table border=\"1\" class=\"dataframe\">\n",
       "  <thead>\n",
       "    <tr style=\"text-align: right;\">\n",
       "      <th></th>\n",
       "      <th>coef</th>\n",
       "      <th>std err</th>\n",
       "      <th>t</th>\n",
       "      <th>P&gt;|t|</th>\n",
       "    </tr>\n",
       "  </thead>\n",
       "  <tbody>\n",
       "    <tr>\n",
       "      <th>CUMP_LINEAR</th>\n",
       "      <td>0.4271</td>\n",
       "      <td>0.101</td>\n",
       "      <td>4.218</td>\n",
       "      <td>0.000</td>\n",
       "    </tr>\n",
       "    <tr>\n",
       "      <th>OBRIGAÇÃO_FINAL_POR_SALA</th>\n",
       "      <td>0.0056</td>\n",
       "      <td>0.002</td>\n",
       "      <td>2.967</td>\n",
       "      <td>0.003</td>\n",
       "    </tr>\n",
       "    <tr>\n",
       "      <th>CUMP_LINEAR:OBRIGAÇÃO_FINAL_POR_SALA</th>\n",
       "      <td>-0.0097</td>\n",
       "      <td>0.002</td>\n",
       "      <td>-4.119</td>\n",
       "      <td>0.000</td>\n",
       "    </tr>\n",
       "    <tr>\n",
       "      <th>DIAS_FUNCIONAMENTO</th>\n",
       "      <td>0.0066</td>\n",
       "      <td>0.000</td>\n",
       "      <td>31.331</td>\n",
       "      <td>0.000</td>\n",
       "    </tr>\n",
       "  </tbody>\n",
       "</table>\n",
       "</div>"
      ],
      "text/plain": [
       "                                        coef  std err       t  P>|t|\n",
       "CUMP_LINEAR                           0.4271    0.101   4.218  0.000\n",
       "OBRIGAÇÃO_FINAL_POR_SALA              0.0056    0.002   2.967  0.003\n",
       "CUMP_LINEAR:OBRIGAÇÃO_FINAL_POR_SALA -0.0097    0.002  -4.119  0.000\n",
       "DIAS_FUNCIONAMENTO                    0.0066    0.000  31.331  0.000"
      ]
     },
     "execution_count": 171,
     "metadata": {},
     "output_type": "execute_result"
    }
   ],
   "source": [
    "pd.read_html(reg_w66.summary().tables[1].as_html(),header=0,index_col=0)[0].iloc[-4:,:-2]"
   ]
  },
  {
   "cell_type": "code",
   "execution_count": 172,
   "metadata": {
    "ExecuteTime": {
     "end_time": "2021-07-16T03:17:01.975464Z",
     "start_time": "2021-07-16T03:17:01.595285Z"
    }
   },
   "outputs": [
    {
     "data": {
      "text/html": [
       "<div>\n",
       "<style scoped>\n",
       "    .dataframe tbody tr th:only-of-type {\n",
       "        vertical-align: middle;\n",
       "    }\n",
       "\n",
       "    .dataframe tbody tr th {\n",
       "        vertical-align: top;\n",
       "    }\n",
       "\n",
       "    .dataframe thead th {\n",
       "        text-align: right;\n",
       "    }\n",
       "</style>\n",
       "<table border=\"1\" class=\"dataframe\">\n",
       "  <thead>\n",
       "    <tr style=\"text-align: right;\">\n",
       "      <th></th>\n",
       "      <th>coef</th>\n",
       "      <th>std err</th>\n",
       "      <th>t</th>\n",
       "      <th>P&gt;|t|</th>\n",
       "    </tr>\n",
       "  </thead>\n",
       "  <tbody>\n",
       "    <tr>\n",
       "      <th>CUMP_LINEAR</th>\n",
       "      <td>0.4397</td>\n",
       "      <td>0.105</td>\n",
       "      <td>4.180</td>\n",
       "      <td>0.0</td>\n",
       "    </tr>\n",
       "    <tr>\n",
       "      <th>OBRIGAÇÃO_FINAL_POR_SALA</th>\n",
       "      <td>0.0074</td>\n",
       "      <td>0.002</td>\n",
       "      <td>3.767</td>\n",
       "      <td>0.0</td>\n",
       "    </tr>\n",
       "    <tr>\n",
       "      <th>CUMP_LINEAR:OBRIGAÇÃO_FINAL_POR_SALA</th>\n",
       "      <td>-0.0113</td>\n",
       "      <td>0.002</td>\n",
       "      <td>-4.609</td>\n",
       "      <td>0.0</td>\n",
       "    </tr>\n",
       "    <tr>\n",
       "      <th>DIAS_FUNCIONAMENTO</th>\n",
       "      <td>0.0067</td>\n",
       "      <td>0.000</td>\n",
       "      <td>30.478</td>\n",
       "      <td>0.0</td>\n",
       "    </tr>\n",
       "  </tbody>\n",
       "</table>\n",
       "</div>"
      ],
      "text/plain": [
       "                                        coef  std err       t  P>|t|\n",
       "CUMP_LINEAR                           0.4397    0.105   4.180    0.0\n",
       "OBRIGAÇÃO_FINAL_POR_SALA              0.0074    0.002   3.767    0.0\n",
       "CUMP_LINEAR:OBRIGAÇÃO_FINAL_POR_SALA -0.0113    0.002  -4.609    0.0\n",
       "DIAS_FUNCIONAMENTO                    0.0067    0.000  30.478    0.0"
      ]
     },
     "execution_count": 172,
     "metadata": {},
     "output_type": "execute_result"
    }
   ],
   "source": [
    "pd.read_html(reg_w67.summary().tables[1].as_html(),header=0,index_col=0)[0].iloc[-4:,:-2]"
   ]
  },
  {
   "cell_type": "code",
   "execution_count": 173,
   "metadata": {
    "ExecuteTime": {
     "end_time": "2021-07-16T03:17:02.431763Z",
     "start_time": "2021-07-16T03:17:01.977469Z"
    }
   },
   "outputs": [
    {
     "data": {
      "text/html": [
       "<div>\n",
       "<style scoped>\n",
       "    .dataframe tbody tr th:only-of-type {\n",
       "        vertical-align: middle;\n",
       "    }\n",
       "\n",
       "    .dataframe tbody tr th {\n",
       "        vertical-align: top;\n",
       "    }\n",
       "\n",
       "    .dataframe thead th {\n",
       "        text-align: right;\n",
       "    }\n",
       "</style>\n",
       "<table border=\"1\" class=\"dataframe\">\n",
       "  <thead>\n",
       "    <tr style=\"text-align: right;\">\n",
       "      <th></th>\n",
       "      <th>coef</th>\n",
       "      <th>std err</th>\n",
       "      <th>t</th>\n",
       "      <th>P&gt;|t|</th>\n",
       "    </tr>\n",
       "  </thead>\n",
       "  <tbody>\n",
       "    <tr>\n",
       "      <th>CUMP_LINEAR</th>\n",
       "      <td>0.6714</td>\n",
       "      <td>0.259</td>\n",
       "      <td>2.591</td>\n",
       "      <td>0.010</td>\n",
       "    </tr>\n",
       "    <tr>\n",
       "      <th>OBRIGAÇÃO_FINAL_POR_SALA</th>\n",
       "      <td>-0.0057</td>\n",
       "      <td>0.005</td>\n",
       "      <td>-1.230</td>\n",
       "      <td>0.219</td>\n",
       "    </tr>\n",
       "    <tr>\n",
       "      <th>CUMP_LINEAR:OBRIGAÇÃO_FINAL_POR_SALA</th>\n",
       "      <td>0.0048</td>\n",
       "      <td>0.006</td>\n",
       "      <td>0.809</td>\n",
       "      <td>0.419</td>\n",
       "    </tr>\n",
       "    <tr>\n",
       "      <th>DIAS_FUNCIONAMENTO</th>\n",
       "      <td>0.0049</td>\n",
       "      <td>0.001</td>\n",
       "      <td>9.005</td>\n",
       "      <td>0.000</td>\n",
       "    </tr>\n",
       "  </tbody>\n",
       "</table>\n",
       "</div>"
      ],
      "text/plain": [
       "                                        coef  std err      t  P>|t|\n",
       "CUMP_LINEAR                           0.6714    0.259  2.591  0.010\n",
       "OBRIGAÇÃO_FINAL_POR_SALA             -0.0057    0.005 -1.230  0.219\n",
       "CUMP_LINEAR:OBRIGAÇÃO_FINAL_POR_SALA  0.0048    0.006  0.809  0.419\n",
       "DIAS_FUNCIONAMENTO                    0.0049    0.001  9.005  0.000"
      ]
     },
     "execution_count": 173,
     "metadata": {},
     "output_type": "execute_result"
    }
   ],
   "source": [
    "pd.read_html(reg_w68.summary().tables[1].as_html(),header=0,index_col=0)[0].iloc[-4:,:-2]"
   ]
  },
  {
   "cell_type": "markdown",
   "metadata": {},
   "source": [
    "###### Triweight kernel"
   ]
  },
  {
   "cell_type": "code",
   "execution_count": 174,
   "metadata": {
    "ExecuteTime": {
     "end_time": "2021-07-16T03:17:03.631374Z",
     "start_time": "2021-07-16T03:17:02.433768Z"
    }
   },
   "outputs": [],
   "source": [
    "formul = 'np.log(PUBLICO) ~ CUMP_TRIWEIGHT*OBRIGAÇÃO_FINAL_POR_SALA + DIAS_FUNCIONAMENTO + C(REGISTRO_COMPLEXO) + C(ANO_CINEMATOGRAFICO)'\n",
    "data = [tds_1718, est_1718, bras_1718]\n",
    "\n",
    "# all\n",
    "reg_w69 = smf.ols(formula = formul, data=data[0]).fit()\n",
    "\n",
    "# foreign\n",
    "reg_w70 = smf.ols(formula = formul, data=data[1]).fit()\n",
    "\n",
    "# Brazilian\n",
    "reg_w71 = smf.ols(formula = formul, data=data[2]).fit()"
   ]
  },
  {
   "cell_type": "code",
   "execution_count": 175,
   "metadata": {
    "ExecuteTime": {
     "end_time": "2021-07-16T03:17:04.042468Z",
     "start_time": "2021-07-16T03:17:03.632377Z"
    }
   },
   "outputs": [
    {
     "data": {
      "text/html": [
       "<div>\n",
       "<style scoped>\n",
       "    .dataframe tbody tr th:only-of-type {\n",
       "        vertical-align: middle;\n",
       "    }\n",
       "\n",
       "    .dataframe tbody tr th {\n",
       "        vertical-align: top;\n",
       "    }\n",
       "\n",
       "    .dataframe thead th {\n",
       "        text-align: right;\n",
       "    }\n",
       "</style>\n",
       "<table border=\"1\" class=\"dataframe\">\n",
       "  <thead>\n",
       "    <tr style=\"text-align: right;\">\n",
       "      <th></th>\n",
       "      <th>coef</th>\n",
       "      <th>std err</th>\n",
       "      <th>t</th>\n",
       "      <th>P&gt;|t|</th>\n",
       "    </tr>\n",
       "  </thead>\n",
       "  <tbody>\n",
       "    <tr>\n",
       "      <th>CUMP_TRIWEIGHT</th>\n",
       "      <td>0.2849</td>\n",
       "      <td>0.086</td>\n",
       "      <td>3.331</td>\n",
       "      <td>0.001</td>\n",
       "    </tr>\n",
       "    <tr>\n",
       "      <th>OBRIGAÇÃO_FINAL_POR_SALA</th>\n",
       "      <td>0.0034</td>\n",
       "      <td>0.002</td>\n",
       "      <td>2.090</td>\n",
       "      <td>0.037</td>\n",
       "    </tr>\n",
       "    <tr>\n",
       "      <th>CUMP_TRIWEIGHT:OBRIGAÇÃO_FINAL_POR_SALA</th>\n",
       "      <td>-0.0068</td>\n",
       "      <td>0.002</td>\n",
       "      <td>-3.456</td>\n",
       "      <td>0.001</td>\n",
       "    </tr>\n",
       "    <tr>\n",
       "      <th>DIAS_FUNCIONAMENTO</th>\n",
       "      <td>0.0067</td>\n",
       "      <td>0.000</td>\n",
       "      <td>31.871</td>\n",
       "      <td>0.000</td>\n",
       "    </tr>\n",
       "  </tbody>\n",
       "</table>\n",
       "</div>"
      ],
      "text/plain": [
       "                                           coef  std err       t  P>|t|\n",
       "CUMP_TRIWEIGHT                           0.2849    0.086   3.331  0.001\n",
       "OBRIGAÇÃO_FINAL_POR_SALA                 0.0034    0.002   2.090  0.037\n",
       "CUMP_TRIWEIGHT:OBRIGAÇÃO_FINAL_POR_SALA -0.0068    0.002  -3.456  0.001\n",
       "DIAS_FUNCIONAMENTO                       0.0067    0.000  31.871  0.000"
      ]
     },
     "execution_count": 175,
     "metadata": {},
     "output_type": "execute_result"
    }
   ],
   "source": [
    "pd.read_html(reg_w69.summary().tables[1].as_html(),header=0,index_col=0)[0].iloc[-4:,:-2]"
   ]
  },
  {
   "cell_type": "code",
   "execution_count": 176,
   "metadata": {
    "ExecuteTime": {
     "end_time": "2021-07-16T03:17:04.409475Z",
     "start_time": "2021-07-16T03:17:04.044472Z"
    }
   },
   "outputs": [
    {
     "data": {
      "text/html": [
       "<div>\n",
       "<style scoped>\n",
       "    .dataframe tbody tr th:only-of-type {\n",
       "        vertical-align: middle;\n",
       "    }\n",
       "\n",
       "    .dataframe tbody tr th {\n",
       "        vertical-align: top;\n",
       "    }\n",
       "\n",
       "    .dataframe thead th {\n",
       "        text-align: right;\n",
       "    }\n",
       "</style>\n",
       "<table border=\"1\" class=\"dataframe\">\n",
       "  <thead>\n",
       "    <tr style=\"text-align: right;\">\n",
       "      <th></th>\n",
       "      <th>coef</th>\n",
       "      <th>std err</th>\n",
       "      <th>t</th>\n",
       "      <th>P&gt;|t|</th>\n",
       "    </tr>\n",
       "  </thead>\n",
       "  <tbody>\n",
       "    <tr>\n",
       "      <th>CUMP_TRIWEIGHT</th>\n",
       "      <td>0.2769</td>\n",
       "      <td>0.089</td>\n",
       "      <td>3.118</td>\n",
       "      <td>0.002</td>\n",
       "    </tr>\n",
       "    <tr>\n",
       "      <th>OBRIGAÇÃO_FINAL_POR_SALA</th>\n",
       "      <td>0.0047</td>\n",
       "      <td>0.002</td>\n",
       "      <td>2.779</td>\n",
       "      <td>0.006</td>\n",
       "    </tr>\n",
       "    <tr>\n",
       "      <th>CUMP_TRIWEIGHT:OBRIGAÇÃO_FINAL_POR_SALA</th>\n",
       "      <td>-0.0078</td>\n",
       "      <td>0.002</td>\n",
       "      <td>-3.818</td>\n",
       "      <td>0.000</td>\n",
       "    </tr>\n",
       "    <tr>\n",
       "      <th>DIAS_FUNCIONAMENTO</th>\n",
       "      <td>0.0068</td>\n",
       "      <td>0.000</td>\n",
       "      <td>31.072</td>\n",
       "      <td>0.000</td>\n",
       "    </tr>\n",
       "  </tbody>\n",
       "</table>\n",
       "</div>"
      ],
      "text/plain": [
       "                                           coef  std err       t  P>|t|\n",
       "CUMP_TRIWEIGHT                           0.2769    0.089   3.118  0.002\n",
       "OBRIGAÇÃO_FINAL_POR_SALA                 0.0047    0.002   2.779  0.006\n",
       "CUMP_TRIWEIGHT:OBRIGAÇÃO_FINAL_POR_SALA -0.0078    0.002  -3.818  0.000\n",
       "DIAS_FUNCIONAMENTO                       0.0068    0.000  31.072  0.000"
      ]
     },
     "execution_count": 176,
     "metadata": {},
     "output_type": "execute_result"
    }
   ],
   "source": [
    "pd.read_html(reg_w70.summary().tables[1].as_html(),header=0,index_col=0)[0].iloc[-4:,:-2]"
   ]
  },
  {
   "cell_type": "code",
   "execution_count": 177,
   "metadata": {
    "ExecuteTime": {
     "end_time": "2021-07-16T03:17:04.769525Z",
     "start_time": "2021-07-16T03:17:04.412451Z"
    },
    "scrolled": true
   },
   "outputs": [
    {
     "data": {
      "text/html": [
       "<div>\n",
       "<style scoped>\n",
       "    .dataframe tbody tr th:only-of-type {\n",
       "        vertical-align: middle;\n",
       "    }\n",
       "\n",
       "    .dataframe tbody tr th {\n",
       "        vertical-align: top;\n",
       "    }\n",
       "\n",
       "    .dataframe thead th {\n",
       "        text-align: right;\n",
       "    }\n",
       "</style>\n",
       "<table border=\"1\" class=\"dataframe\">\n",
       "  <thead>\n",
       "    <tr style=\"text-align: right;\">\n",
       "      <th></th>\n",
       "      <th>coef</th>\n",
       "      <th>std err</th>\n",
       "      <th>t</th>\n",
       "      <th>P&gt;|t|</th>\n",
       "    </tr>\n",
       "  </thead>\n",
       "  <tbody>\n",
       "    <tr>\n",
       "      <th>CUMP_TRIWEIGHT</th>\n",
       "      <td>0.6432</td>\n",
       "      <td>0.211</td>\n",
       "      <td>3.047</td>\n",
       "      <td>0.002</td>\n",
       "    </tr>\n",
       "    <tr>\n",
       "      <th>OBRIGAÇÃO_FINAL_POR_SALA</th>\n",
       "      <td>-0.0031</td>\n",
       "      <td>0.004</td>\n",
       "      <td>-0.779</td>\n",
       "      <td>0.436</td>\n",
       "    </tr>\n",
       "    <tr>\n",
       "      <th>CUMP_TRIWEIGHT:OBRIGAÇÃO_FINAL_POR_SALA</th>\n",
       "      <td>0.0023</td>\n",
       "      <td>0.005</td>\n",
       "      <td>0.467</td>\n",
       "      <td>0.641</td>\n",
       "    </tr>\n",
       "    <tr>\n",
       "      <th>DIAS_FUNCIONAMENTO</th>\n",
       "      <td>0.0049</td>\n",
       "      <td>0.001</td>\n",
       "      <td>8.895</td>\n",
       "      <td>0.000</td>\n",
       "    </tr>\n",
       "  </tbody>\n",
       "</table>\n",
       "</div>"
      ],
      "text/plain": [
       "                                           coef  std err      t  P>|t|\n",
       "CUMP_TRIWEIGHT                           0.6432    0.211  3.047  0.002\n",
       "OBRIGAÇÃO_FINAL_POR_SALA                -0.0031    0.004 -0.779  0.436\n",
       "CUMP_TRIWEIGHT:OBRIGAÇÃO_FINAL_POR_SALA  0.0023    0.005  0.467  0.641\n",
       "DIAS_FUNCIONAMENTO                       0.0049    0.001  8.895  0.000"
      ]
     },
     "execution_count": 177,
     "metadata": {},
     "output_type": "execute_result"
    }
   ],
   "source": [
    "pd.read_html(reg_w71.summary().tables[1].as_html(),header=0,index_col=0)[0].iloc[-4:,:-2]"
   ]
  },
  {
   "cell_type": "markdown",
   "metadata": {},
   "source": [
    "#### Without entity fixed-effects"
   ]
  },
  {
   "cell_type": "markdown",
   "metadata": {},
   "source": [
    "##### 2017-2019"
   ]
  },
  {
   "cell_type": "markdown",
   "metadata": {},
   "source": [
    "###### Quadratic kernel"
   ]
  },
  {
   "cell_type": "code",
   "execution_count": 178,
   "metadata": {
    "ExecuteTime": {
     "end_time": "2021-07-16T03:17:10.020149Z",
     "start_time": "2021-07-16T03:17:04.771518Z"
    }
   },
   "outputs": [],
   "source": [
    "formul = 'np.log(PUBLICO) ~ CUMP_QUADRATIC*OBRIGAÇÃO_FINAL_POR_SALA + DIAS_FUNCIONAMENTO + SALAS_COMPLEXO_INFERIDO + ASSENTOS_COMPLEXO_INFERIDO + C(ANO_CINEMATOGRAFICO)*C(MUN_COMPLEXO)'\n",
    "data = [tds_1719, est_1719, bras_1719]\n",
    "\n",
    "# all\n",
    "reg_w72 = smf.ols(formula = formul, data=data[0]).fit()\n",
    "\n",
    "# foreign\n",
    "reg_w73 = smf.ols(formula = formul, data=data[1]).fit()\n",
    "\n",
    "# Brazilian\n",
    "reg_w74 = smf.ols(formula = formul, data=data[2]).fit()"
   ]
  },
  {
   "cell_type": "code",
   "execution_count": 179,
   "metadata": {
    "ExecuteTime": {
     "end_time": "2021-07-16T03:17:10.625979Z",
     "start_time": "2021-07-16T03:17:10.022155Z"
    }
   },
   "outputs": [
    {
     "data": {
      "text/html": [
       "<div>\n",
       "<style scoped>\n",
       "    .dataframe tbody tr th:only-of-type {\n",
       "        vertical-align: middle;\n",
       "    }\n",
       "\n",
       "    .dataframe tbody tr th {\n",
       "        vertical-align: top;\n",
       "    }\n",
       "\n",
       "    .dataframe thead th {\n",
       "        text-align: right;\n",
       "    }\n",
       "</style>\n",
       "<table border=\"1\" class=\"dataframe\">\n",
       "  <thead>\n",
       "    <tr style=\"text-align: right;\">\n",
       "      <th></th>\n",
       "      <th>coef</th>\n",
       "      <th>std err</th>\n",
       "      <th>t</th>\n",
       "      <th>P&gt;|t|</th>\n",
       "    </tr>\n",
       "  </thead>\n",
       "  <tbody>\n",
       "    <tr>\n",
       "      <th>CUMP_QUADRATIC</th>\n",
       "      <td>0.4302</td>\n",
       "      <td>0.170000</td>\n",
       "      <td>2.535</td>\n",
       "      <td>0.011</td>\n",
       "    </tr>\n",
       "    <tr>\n",
       "      <th>OBRIGAÇÃO_FINAL_POR_SALA</th>\n",
       "      <td>0.0047</td>\n",
       "      <td>0.004000</td>\n",
       "      <td>1.247</td>\n",
       "      <td>0.213</td>\n",
       "    </tr>\n",
       "    <tr>\n",
       "      <th>CUMP_QUADRATIC:OBRIGAÇÃO_FINAL_POR_SALA</th>\n",
       "      <td>0.0026</td>\n",
       "      <td>0.004000</td>\n",
       "      <td>0.598</td>\n",
       "      <td>0.550</td>\n",
       "    </tr>\n",
       "    <tr>\n",
       "      <th>DIAS_FUNCIONAMENTO</th>\n",
       "      <td>0.0089</td>\n",
       "      <td>0.000000</td>\n",
       "      <td>34.995</td>\n",
       "      <td>0.000</td>\n",
       "    </tr>\n",
       "    <tr>\n",
       "      <th>SALAS_COMPLEXO_INFERIDO</th>\n",
       "      <td>0.1496</td>\n",
       "      <td>0.014000</td>\n",
       "      <td>10.325</td>\n",
       "      <td>0.000</td>\n",
       "    </tr>\n",
       "    <tr>\n",
       "      <th>ASSENTOS_COMPLEXO_INFERIDO</th>\n",
       "      <td>0.0005</td>\n",
       "      <td>0.000054</td>\n",
       "      <td>8.858</td>\n",
       "      <td>0.000</td>\n",
       "    </tr>\n",
       "  </tbody>\n",
       "</table>\n",
       "</div>"
      ],
      "text/plain": [
       "                                           coef   std err       t  P>|t|\n",
       "CUMP_QUADRATIC                           0.4302  0.170000   2.535  0.011\n",
       "OBRIGAÇÃO_FINAL_POR_SALA                 0.0047  0.004000   1.247  0.213\n",
       "CUMP_QUADRATIC:OBRIGAÇÃO_FINAL_POR_SALA  0.0026  0.004000   0.598  0.550\n",
       "DIAS_FUNCIONAMENTO                       0.0089  0.000000  34.995  0.000\n",
       "SALAS_COMPLEXO_INFERIDO                  0.1496  0.014000  10.325  0.000\n",
       "ASSENTOS_COMPLEXO_INFERIDO               0.0005  0.000054   8.858  0.000"
      ]
     },
     "execution_count": 179,
     "metadata": {},
     "output_type": "execute_result"
    }
   ],
   "source": [
    "pd.read_html(reg_w72.summary().tables[1].as_html(),header=0,index_col=0)[0].iloc[-6:,:-2]"
   ]
  },
  {
   "cell_type": "code",
   "execution_count": 180,
   "metadata": {
    "ExecuteTime": {
     "end_time": "2021-07-16T03:17:11.198635Z",
     "start_time": "2021-07-16T03:17:10.627985Z"
    }
   },
   "outputs": [
    {
     "data": {
      "text/html": [
       "<div>\n",
       "<style scoped>\n",
       "    .dataframe tbody tr th:only-of-type {\n",
       "        vertical-align: middle;\n",
       "    }\n",
       "\n",
       "    .dataframe tbody tr th {\n",
       "        vertical-align: top;\n",
       "    }\n",
       "\n",
       "    .dataframe thead th {\n",
       "        text-align: right;\n",
       "    }\n",
       "</style>\n",
       "<table border=\"1\" class=\"dataframe\">\n",
       "  <thead>\n",
       "    <tr style=\"text-align: right;\">\n",
       "      <th></th>\n",
       "      <th>coef</th>\n",
       "      <th>std err</th>\n",
       "      <th>t</th>\n",
       "      <th>P&gt;|t|</th>\n",
       "    </tr>\n",
       "  </thead>\n",
       "  <tbody>\n",
       "    <tr>\n",
       "      <th>CUMP_QUADRATIC</th>\n",
       "      <td>0.8521</td>\n",
       "      <td>0.204000</td>\n",
       "      <td>4.174</td>\n",
       "      <td>0.000</td>\n",
       "    </tr>\n",
       "    <tr>\n",
       "      <th>OBRIGAÇÃO_FINAL_POR_SALA</th>\n",
       "      <td>0.0075</td>\n",
       "      <td>0.004000</td>\n",
       "      <td>1.659</td>\n",
       "      <td>0.097</td>\n",
       "    </tr>\n",
       "    <tr>\n",
       "      <th>CUMP_QUADRATIC:OBRIGAÇÃO_FINAL_POR_SALA</th>\n",
       "      <td>-0.0036</td>\n",
       "      <td>0.005000</td>\n",
       "      <td>-0.694</td>\n",
       "      <td>0.488</td>\n",
       "    </tr>\n",
       "    <tr>\n",
       "      <th>DIAS_FUNCIONAMENTO</th>\n",
       "      <td>0.0096</td>\n",
       "      <td>0.000000</td>\n",
       "      <td>31.547</td>\n",
       "      <td>0.000</td>\n",
       "    </tr>\n",
       "    <tr>\n",
       "      <th>SALAS_COMPLEXO_INFERIDO</th>\n",
       "      <td>0.1623</td>\n",
       "      <td>0.017000</td>\n",
       "      <td>9.421</td>\n",
       "      <td>0.000</td>\n",
       "    </tr>\n",
       "    <tr>\n",
       "      <th>ASSENTOS_COMPLEXO_INFERIDO</th>\n",
       "      <td>0.0005</td>\n",
       "      <td>0.000065</td>\n",
       "      <td>7.400</td>\n",
       "      <td>0.000</td>\n",
       "    </tr>\n",
       "  </tbody>\n",
       "</table>\n",
       "</div>"
      ],
      "text/plain": [
       "                                           coef   std err       t  P>|t|\n",
       "CUMP_QUADRATIC                           0.8521  0.204000   4.174  0.000\n",
       "OBRIGAÇÃO_FINAL_POR_SALA                 0.0075  0.004000   1.659  0.097\n",
       "CUMP_QUADRATIC:OBRIGAÇÃO_FINAL_POR_SALA -0.0036  0.005000  -0.694  0.488\n",
       "DIAS_FUNCIONAMENTO                       0.0096  0.000000  31.547  0.000\n",
       "SALAS_COMPLEXO_INFERIDO                  0.1623  0.017000   9.421  0.000\n",
       "ASSENTOS_COMPLEXO_INFERIDO               0.0005  0.000065   7.400  0.000"
      ]
     },
     "execution_count": 180,
     "metadata": {},
     "output_type": "execute_result"
    }
   ],
   "source": [
    "pd.read_html(reg_w73.summary().tables[1].as_html(),header=0,index_col=0)[0].iloc[-6:,:-2]"
   ]
  },
  {
   "cell_type": "code",
   "execution_count": 181,
   "metadata": {
    "ExecuteTime": {
     "end_time": "2021-07-16T03:17:11.826303Z",
     "start_time": "2021-07-16T03:17:11.200641Z"
    }
   },
   "outputs": [
    {
     "data": {
      "text/html": [
       "<div>\n",
       "<style scoped>\n",
       "    .dataframe tbody tr th:only-of-type {\n",
       "        vertical-align: middle;\n",
       "    }\n",
       "\n",
       "    .dataframe tbody tr th {\n",
       "        vertical-align: top;\n",
       "    }\n",
       "\n",
       "    .dataframe thead th {\n",
       "        text-align: right;\n",
       "    }\n",
       "</style>\n",
       "<table border=\"1\" class=\"dataframe\">\n",
       "  <thead>\n",
       "    <tr style=\"text-align: right;\">\n",
       "      <th></th>\n",
       "      <th>coef</th>\n",
       "      <th>std err</th>\n",
       "      <th>t</th>\n",
       "      <th>P&gt;|t|</th>\n",
       "    </tr>\n",
       "  </thead>\n",
       "  <tbody>\n",
       "    <tr>\n",
       "      <th>CUMP_QUADRATIC</th>\n",
       "      <td>-0.8727</td>\n",
       "      <td>0.22500</td>\n",
       "      <td>-3.884</td>\n",
       "      <td>0.000</td>\n",
       "    </tr>\n",
       "    <tr>\n",
       "      <th>OBRIGAÇÃO_FINAL_POR_SALA</th>\n",
       "      <td>-0.0093</td>\n",
       "      <td>0.00500</td>\n",
       "      <td>-1.891</td>\n",
       "      <td>0.059</td>\n",
       "    </tr>\n",
       "    <tr>\n",
       "      <th>CUMP_QUADRATIC:OBRIGAÇÃO_FINAL_POR_SALA</th>\n",
       "      <td>0.0328</td>\n",
       "      <td>0.00600</td>\n",
       "      <td>5.823</td>\n",
       "      <td>0.000</td>\n",
       "    </tr>\n",
       "    <tr>\n",
       "      <th>DIAS_FUNCIONAMENTO</th>\n",
       "      <td>0.0069</td>\n",
       "      <td>0.00000</td>\n",
       "      <td>20.567</td>\n",
       "      <td>0.000</td>\n",
       "    </tr>\n",
       "    <tr>\n",
       "      <th>SALAS_COMPLEXO_INFERIDO</th>\n",
       "      <td>0.1303</td>\n",
       "      <td>0.01900</td>\n",
       "      <td>6.951</td>\n",
       "      <td>0.000</td>\n",
       "    </tr>\n",
       "    <tr>\n",
       "      <th>ASSENTOS_COMPLEXO_INFERIDO</th>\n",
       "      <td>0.0005</td>\n",
       "      <td>0.00007</td>\n",
       "      <td>7.524</td>\n",
       "      <td>0.000</td>\n",
       "    </tr>\n",
       "  </tbody>\n",
       "</table>\n",
       "</div>"
      ],
      "text/plain": [
       "                                           coef  std err       t  P>|t|\n",
       "CUMP_QUADRATIC                          -0.8727  0.22500  -3.884  0.000\n",
       "OBRIGAÇÃO_FINAL_POR_SALA                -0.0093  0.00500  -1.891  0.059\n",
       "CUMP_QUADRATIC:OBRIGAÇÃO_FINAL_POR_SALA  0.0328  0.00600   5.823  0.000\n",
       "DIAS_FUNCIONAMENTO                       0.0069  0.00000  20.567  0.000\n",
       "SALAS_COMPLEXO_INFERIDO                  0.1303  0.01900   6.951  0.000\n",
       "ASSENTOS_COMPLEXO_INFERIDO               0.0005  0.00007   7.524  0.000"
      ]
     },
     "execution_count": 181,
     "metadata": {},
     "output_type": "execute_result"
    }
   ],
   "source": [
    "pd.read_html(reg_w74.summary().tables[1].as_html(),header=0,index_col=0)[0].iloc[-6:,:-2]"
   ]
  },
  {
   "cell_type": "markdown",
   "metadata": {},
   "source": [
    "###### Normal pdf kernel"
   ]
  },
  {
   "cell_type": "code",
   "execution_count": 182,
   "metadata": {
    "ExecuteTime": {
     "end_time": "2021-07-16T03:17:17.042563Z",
     "start_time": "2021-07-16T03:17:11.827307Z"
    }
   },
   "outputs": [],
   "source": [
    "formul = 'np.log(PUBLICO) ~ CUMP_NORMALIZADO*OBRIGAÇÃO_FINAL_POR_SALA + DIAS_FUNCIONAMENTO + SALAS_COMPLEXO_INFERIDO + ASSENTOS_COMPLEXO_INFERIDO + C(ANO_CINEMATOGRAFICO)*C(MUN_COMPLEXO)'\n",
    "data = [tds_1719, est_1719, bras_1719]\n",
    "\n",
    "# all\n",
    "reg_w75 = smf.ols(formula = formul, data=data[0]).fit()\n",
    "\n",
    "# foreign\n",
    "reg_w76 = smf.ols(formula = formul, data=data[1]).fit()\n",
    "\n",
    "# Brazilian\n",
    "reg_w77 = smf.ols(formula = formul, data=data[2]).fit()"
   ]
  },
  {
   "cell_type": "code",
   "execution_count": 183,
   "metadata": {
    "ExecuteTime": {
     "end_time": "2021-07-16T03:17:17.631114Z",
     "start_time": "2021-07-16T03:17:17.042563Z"
    }
   },
   "outputs": [
    {
     "data": {
      "text/html": [
       "<div>\n",
       "<style scoped>\n",
       "    .dataframe tbody tr th:only-of-type {\n",
       "        vertical-align: middle;\n",
       "    }\n",
       "\n",
       "    .dataframe tbody tr th {\n",
       "        vertical-align: top;\n",
       "    }\n",
       "\n",
       "    .dataframe thead th {\n",
       "        text-align: right;\n",
       "    }\n",
       "</style>\n",
       "<table border=\"1\" class=\"dataframe\">\n",
       "  <thead>\n",
       "    <tr style=\"text-align: right;\">\n",
       "      <th></th>\n",
       "      <th>coef</th>\n",
       "      <th>std err</th>\n",
       "      <th>t</th>\n",
       "      <th>P&gt;|t|</th>\n",
       "    </tr>\n",
       "  </thead>\n",
       "  <tbody>\n",
       "    <tr>\n",
       "      <th>CUMP_NORMALIZADO</th>\n",
       "      <td>1.1518</td>\n",
       "      <td>0.612000</td>\n",
       "      <td>1.881</td>\n",
       "      <td>0.060</td>\n",
       "    </tr>\n",
       "    <tr>\n",
       "      <th>OBRIGAÇÃO_FINAL_POR_SALA</th>\n",
       "      <td>-0.0111</td>\n",
       "      <td>0.007000</td>\n",
       "      <td>-1.577</td>\n",
       "      <td>0.115</td>\n",
       "    </tr>\n",
       "    <tr>\n",
       "      <th>CUMP_NORMALIZADO:OBRIGAÇÃO_FINAL_POR_SALA</th>\n",
       "      <td>0.0467</td>\n",
       "      <td>0.019000</td>\n",
       "      <td>2.455</td>\n",
       "      <td>0.014</td>\n",
       "    </tr>\n",
       "    <tr>\n",
       "      <th>DIAS_FUNCIONAMENTO</th>\n",
       "      <td>0.0089</td>\n",
       "      <td>0.000000</td>\n",
       "      <td>35.507</td>\n",
       "      <td>0.000</td>\n",
       "    </tr>\n",
       "    <tr>\n",
       "      <th>SALAS_COMPLEXO_INFERIDO</th>\n",
       "      <td>0.1462</td>\n",
       "      <td>0.014000</td>\n",
       "      <td>10.224</td>\n",
       "      <td>0.000</td>\n",
       "    </tr>\n",
       "    <tr>\n",
       "      <th>ASSENTOS_COMPLEXO_INFERIDO</th>\n",
       "      <td>0.0005</td>\n",
       "      <td>0.000054</td>\n",
       "      <td>8.963</td>\n",
       "      <td>0.000</td>\n",
       "    </tr>\n",
       "  </tbody>\n",
       "</table>\n",
       "</div>"
      ],
      "text/plain": [
       "                                             coef   std err       t  P>|t|\n",
       "CUMP_NORMALIZADO                           1.1518  0.612000   1.881  0.060\n",
       "OBRIGAÇÃO_FINAL_POR_SALA                  -0.0111  0.007000  -1.577  0.115\n",
       "CUMP_NORMALIZADO:OBRIGAÇÃO_FINAL_POR_SALA  0.0467  0.019000   2.455  0.014\n",
       "DIAS_FUNCIONAMENTO                         0.0089  0.000000  35.507  0.000\n",
       "SALAS_COMPLEXO_INFERIDO                    0.1462  0.014000  10.224  0.000\n",
       "ASSENTOS_COMPLEXO_INFERIDO                 0.0005  0.000054   8.963  0.000"
      ]
     },
     "execution_count": 183,
     "metadata": {},
     "output_type": "execute_result"
    }
   ],
   "source": [
    "pd.read_html(reg_w75.summary().tables[1].as_html(),header=0,index_col=0)[0].iloc[-6:,:-2]"
   ]
  },
  {
   "cell_type": "code",
   "execution_count": 184,
   "metadata": {
    "ExecuteTime": {
     "end_time": "2021-07-16T03:17:18.249667Z",
     "start_time": "2021-07-16T03:17:17.633783Z"
    }
   },
   "outputs": [
    {
     "data": {
      "text/html": [
       "<div>\n",
       "<style scoped>\n",
       "    .dataframe tbody tr th:only-of-type {\n",
       "        vertical-align: middle;\n",
       "    }\n",
       "\n",
       "    .dataframe tbody tr th {\n",
       "        vertical-align: top;\n",
       "    }\n",
       "\n",
       "    .dataframe thead th {\n",
       "        text-align: right;\n",
       "    }\n",
       "</style>\n",
       "<table border=\"1\" class=\"dataframe\">\n",
       "  <thead>\n",
       "    <tr style=\"text-align: right;\">\n",
       "      <th></th>\n",
       "      <th>coef</th>\n",
       "      <th>std err</th>\n",
       "      <th>t</th>\n",
       "      <th>P&gt;|t|</th>\n",
       "    </tr>\n",
       "  </thead>\n",
       "  <tbody>\n",
       "    <tr>\n",
       "      <th>CUMP_NORMALIZADO</th>\n",
       "      <td>3.1789</td>\n",
       "      <td>0.749000</td>\n",
       "      <td>4.242</td>\n",
       "      <td>0.000</td>\n",
       "    </tr>\n",
       "    <tr>\n",
       "      <th>OBRIGAÇÃO_FINAL_POR_SALA</th>\n",
       "      <td>-0.0063</td>\n",
       "      <td>0.009000</td>\n",
       "      <td>-0.738</td>\n",
       "      <td>0.461</td>\n",
       "    </tr>\n",
       "    <tr>\n",
       "      <th>CUMP_NORMALIZADO:OBRIGAÇÃO_FINAL_POR_SALA</th>\n",
       "      <td>0.0252</td>\n",
       "      <td>0.023000</td>\n",
       "      <td>1.095</td>\n",
       "      <td>0.274</td>\n",
       "    </tr>\n",
       "    <tr>\n",
       "      <th>DIAS_FUNCIONAMENTO</th>\n",
       "      <td>0.0096</td>\n",
       "      <td>0.000000</td>\n",
       "      <td>32.241</td>\n",
       "      <td>0.000</td>\n",
       "    </tr>\n",
       "    <tr>\n",
       "      <th>SALAS_COMPLEXO_INFERIDO</th>\n",
       "      <td>0.1571</td>\n",
       "      <td>0.017000</td>\n",
       "      <td>9.322</td>\n",
       "      <td>0.000</td>\n",
       "    </tr>\n",
       "    <tr>\n",
       "      <th>ASSENTOS_COMPLEXO_INFERIDO</th>\n",
       "      <td>0.0005</td>\n",
       "      <td>0.000063</td>\n",
       "      <td>7.562</td>\n",
       "      <td>0.000</td>\n",
       "    </tr>\n",
       "  </tbody>\n",
       "</table>\n",
       "</div>"
      ],
      "text/plain": [
       "                                             coef   std err       t  P>|t|\n",
       "CUMP_NORMALIZADO                           3.1789  0.749000   4.242  0.000\n",
       "OBRIGAÇÃO_FINAL_POR_SALA                  -0.0063  0.009000  -0.738  0.461\n",
       "CUMP_NORMALIZADO:OBRIGAÇÃO_FINAL_POR_SALA  0.0252  0.023000   1.095  0.274\n",
       "DIAS_FUNCIONAMENTO                         0.0096  0.000000  32.241  0.000\n",
       "SALAS_COMPLEXO_INFERIDO                    0.1571  0.017000   9.322  0.000\n",
       "ASSENTOS_COMPLEXO_INFERIDO                 0.0005  0.000063   7.562  0.000"
      ]
     },
     "execution_count": 184,
     "metadata": {},
     "output_type": "execute_result"
    }
   ],
   "source": [
    "pd.read_html(reg_w76.summary().tables[1].as_html(),header=0,index_col=0)[0].iloc[-6:,:-2]"
   ]
  },
  {
   "cell_type": "code",
   "execution_count": 185,
   "metadata": {
    "ExecuteTime": {
     "end_time": "2021-07-16T03:17:18.800420Z",
     "start_time": "2021-07-16T03:17:18.251672Z"
    }
   },
   "outputs": [
    {
     "data": {
      "text/html": [
       "<div>\n",
       "<style scoped>\n",
       "    .dataframe tbody tr th:only-of-type {\n",
       "        vertical-align: middle;\n",
       "    }\n",
       "\n",
       "    .dataframe tbody tr th {\n",
       "        vertical-align: top;\n",
       "    }\n",
       "\n",
       "    .dataframe thead th {\n",
       "        text-align: right;\n",
       "    }\n",
       "</style>\n",
       "<table border=\"1\" class=\"dataframe\">\n",
       "  <thead>\n",
       "    <tr style=\"text-align: right;\">\n",
       "      <th></th>\n",
       "      <th>coef</th>\n",
       "      <th>std err</th>\n",
       "      <th>t</th>\n",
       "      <th>P&gt;|t|</th>\n",
       "    </tr>\n",
       "  </thead>\n",
       "  <tbody>\n",
       "    <tr>\n",
       "      <th>CUMP_NORMALIZADO</th>\n",
       "      <td>-4.5743</td>\n",
       "      <td>0.80100</td>\n",
       "      <td>-5.709</td>\n",
       "      <td>0.0</td>\n",
       "    </tr>\n",
       "    <tr>\n",
       "      <th>OBRIGAÇÃO_FINAL_POR_SALA</th>\n",
       "      <td>-0.0393</td>\n",
       "      <td>0.00900</td>\n",
       "      <td>-4.257</td>\n",
       "      <td>0.0</td>\n",
       "    </tr>\n",
       "    <tr>\n",
       "      <th>CUMP_NORMALIZADO:OBRIGAÇÃO_FINAL_POR_SALA</th>\n",
       "      <td>0.1585</td>\n",
       "      <td>0.02500</td>\n",
       "      <td>6.369</td>\n",
       "      <td>0.0</td>\n",
       "    </tr>\n",
       "    <tr>\n",
       "      <th>DIAS_FUNCIONAMENTO</th>\n",
       "      <td>0.0071</td>\n",
       "      <td>0.00000</td>\n",
       "      <td>21.153</td>\n",
       "      <td>0.0</td>\n",
       "    </tr>\n",
       "    <tr>\n",
       "      <th>SALAS_COMPLEXO_INFERIDO</th>\n",
       "      <td>0.1330</td>\n",
       "      <td>0.01900</td>\n",
       "      <td>7.116</td>\n",
       "      <td>0.0</td>\n",
       "    </tr>\n",
       "    <tr>\n",
       "      <th>ASSENTOS_COMPLEXO_INFERIDO</th>\n",
       "      <td>0.0005</td>\n",
       "      <td>0.00007</td>\n",
       "      <td>7.463</td>\n",
       "      <td>0.0</td>\n",
       "    </tr>\n",
       "  </tbody>\n",
       "</table>\n",
       "</div>"
      ],
      "text/plain": [
       "                                             coef  std err       t  P>|t|\n",
       "CUMP_NORMALIZADO                          -4.5743  0.80100  -5.709    0.0\n",
       "OBRIGAÇÃO_FINAL_POR_SALA                  -0.0393  0.00900  -4.257    0.0\n",
       "CUMP_NORMALIZADO:OBRIGAÇÃO_FINAL_POR_SALA  0.1585  0.02500   6.369    0.0\n",
       "DIAS_FUNCIONAMENTO                         0.0071  0.00000  21.153    0.0\n",
       "SALAS_COMPLEXO_INFERIDO                    0.1330  0.01900   7.116    0.0\n",
       "ASSENTOS_COMPLEXO_INFERIDO                 0.0005  0.00007   7.463    0.0"
      ]
     },
     "execution_count": 185,
     "metadata": {},
     "output_type": "execute_result"
    }
   ],
   "source": [
    "pd.read_html(reg_w77.summary().tables[1].as_html(),header=0,index_col=0)[0].iloc[-6:,:-2]"
   ]
  },
  {
   "cell_type": "markdown",
   "metadata": {},
   "source": [
    "###### Triangular kernel"
   ]
  },
  {
   "cell_type": "code",
   "execution_count": 186,
   "metadata": {
    "ExecuteTime": {
     "end_time": "2021-07-16T03:17:24.411981Z",
     "start_time": "2021-07-16T03:17:18.804431Z"
    }
   },
   "outputs": [],
   "source": [
    "formul = 'np.log(PUBLICO) ~ CUMP_LINEAR*OBRIGAÇÃO_FINAL_POR_SALA + DIAS_FUNCIONAMENTO + SALAS_COMPLEXO_INFERIDO + ASSENTOS_COMPLEXO_INFERIDO + C(ANO_CINEMATOGRAFICO)*C(MUN_COMPLEXO)'\n",
    "data = [tds_1719, est_1719, bras_1719]\n",
    "\n",
    "# all\n",
    "reg_w78 = smf.ols(formula = formul, data=data[0]).fit()\n",
    "\n",
    "# foreign\n",
    "reg_w79 = smf.ols(formula = formul, data=data[1]).fit()\n",
    "\n",
    "# Brazilian\n",
    "reg_w80 = smf.ols(formula = formul, data=data[2]).fit()"
   ]
  },
  {
   "cell_type": "code",
   "execution_count": 187,
   "metadata": {
    "ExecuteTime": {
     "end_time": "2021-07-16T03:17:24.995532Z",
     "start_time": "2021-07-16T03:17:24.413987Z"
    }
   },
   "outputs": [
    {
     "data": {
      "text/html": [
       "<div>\n",
       "<style scoped>\n",
       "    .dataframe tbody tr th:only-of-type {\n",
       "        vertical-align: middle;\n",
       "    }\n",
       "\n",
       "    .dataframe tbody tr th {\n",
       "        vertical-align: top;\n",
       "    }\n",
       "\n",
       "    .dataframe thead th {\n",
       "        text-align: right;\n",
       "    }\n",
       "</style>\n",
       "<table border=\"1\" class=\"dataframe\">\n",
       "  <thead>\n",
       "    <tr style=\"text-align: right;\">\n",
       "      <th></th>\n",
       "      <th>coef</th>\n",
       "      <th>std err</th>\n",
       "      <th>t</th>\n",
       "      <th>P&gt;|t|</th>\n",
       "    </tr>\n",
       "  </thead>\n",
       "  <tbody>\n",
       "    <tr>\n",
       "      <th>CUMP_LINEAR</th>\n",
       "      <td>0.7142</td>\n",
       "      <td>0.176000</td>\n",
       "      <td>4.057</td>\n",
       "      <td>0.000</td>\n",
       "    </tr>\n",
       "    <tr>\n",
       "      <th>OBRIGAÇÃO_FINAL_POR_SALA</th>\n",
       "      <td>0.0106</td>\n",
       "      <td>0.003000</td>\n",
       "      <td>3.673</td>\n",
       "      <td>0.000</td>\n",
       "    </tr>\n",
       "    <tr>\n",
       "      <th>CUMP_LINEAR:OBRIGAÇÃO_FINAL_POR_SALA</th>\n",
       "      <td>-0.0057</td>\n",
       "      <td>0.004000</td>\n",
       "      <td>-1.530</td>\n",
       "      <td>0.126</td>\n",
       "    </tr>\n",
       "    <tr>\n",
       "      <th>DIAS_FUNCIONAMENTO</th>\n",
       "      <td>0.0089</td>\n",
       "      <td>0.000000</td>\n",
       "      <td>35.079</td>\n",
       "      <td>0.000</td>\n",
       "    </tr>\n",
       "    <tr>\n",
       "      <th>SALAS_COMPLEXO_INFERIDO</th>\n",
       "      <td>0.1498</td>\n",
       "      <td>0.014000</td>\n",
       "      <td>10.348</td>\n",
       "      <td>0.000</td>\n",
       "    </tr>\n",
       "    <tr>\n",
       "      <th>ASSENTOS_COMPLEXO_INFERIDO</th>\n",
       "      <td>0.0005</td>\n",
       "      <td>0.000054</td>\n",
       "      <td>8.857</td>\n",
       "      <td>0.000</td>\n",
       "    </tr>\n",
       "  </tbody>\n",
       "</table>\n",
       "</div>"
      ],
      "text/plain": [
       "                                        coef   std err       t  P>|t|\n",
       "CUMP_LINEAR                           0.7142  0.176000   4.057  0.000\n",
       "OBRIGAÇÃO_FINAL_POR_SALA              0.0106  0.003000   3.673  0.000\n",
       "CUMP_LINEAR:OBRIGAÇÃO_FINAL_POR_SALA -0.0057  0.004000  -1.530  0.126\n",
       "DIAS_FUNCIONAMENTO                    0.0089  0.000000  35.079  0.000\n",
       "SALAS_COMPLEXO_INFERIDO               0.1498  0.014000  10.348  0.000\n",
       "ASSENTOS_COMPLEXO_INFERIDO            0.0005  0.000054   8.857  0.000"
      ]
     },
     "execution_count": 187,
     "metadata": {},
     "output_type": "execute_result"
    }
   ],
   "source": [
    "pd.read_html(reg_w78.summary().tables[1].as_html(),header=0,index_col=0)[0].iloc[-6:,:-2]"
   ]
  },
  {
   "cell_type": "code",
   "execution_count": 188,
   "metadata": {
    "ExecuteTime": {
     "end_time": "2021-07-16T03:17:25.621915Z",
     "start_time": "2021-07-16T03:17:24.997537Z"
    }
   },
   "outputs": [
    {
     "data": {
      "text/html": [
       "<div>\n",
       "<style scoped>\n",
       "    .dataframe tbody tr th:only-of-type {\n",
       "        vertical-align: middle;\n",
       "    }\n",
       "\n",
       "    .dataframe tbody tr th {\n",
       "        vertical-align: top;\n",
       "    }\n",
       "\n",
       "    .dataframe thead th {\n",
       "        text-align: right;\n",
       "    }\n",
       "</style>\n",
       "<table border=\"1\" class=\"dataframe\">\n",
       "  <thead>\n",
       "    <tr style=\"text-align: right;\">\n",
       "      <th></th>\n",
       "      <th>coef</th>\n",
       "      <th>std err</th>\n",
       "      <th>t</th>\n",
       "      <th>P&gt;|t|</th>\n",
       "    </tr>\n",
       "  </thead>\n",
       "  <tbody>\n",
       "    <tr>\n",
       "      <th>CUMP_LINEAR</th>\n",
       "      <td>1.1341</td>\n",
       "      <td>0.211000</td>\n",
       "      <td>5.363</td>\n",
       "      <td>0.000</td>\n",
       "    </tr>\n",
       "    <tr>\n",
       "      <th>OBRIGAÇÃO_FINAL_POR_SALA</th>\n",
       "      <td>0.0133</td>\n",
       "      <td>0.003000</td>\n",
       "      <td>3.830</td>\n",
       "      <td>0.000</td>\n",
       "    </tr>\n",
       "    <tr>\n",
       "      <th>CUMP_LINEAR:OBRIGAÇÃO_FINAL_POR_SALA</th>\n",
       "      <td>-0.0124</td>\n",
       "      <td>0.004000</td>\n",
       "      <td>-2.784</td>\n",
       "      <td>0.005</td>\n",
       "    </tr>\n",
       "    <tr>\n",
       "      <th>DIAS_FUNCIONAMENTO</th>\n",
       "      <td>0.0097</td>\n",
       "      <td>0.000000</td>\n",
       "      <td>31.666</td>\n",
       "      <td>0.000</td>\n",
       "    </tr>\n",
       "    <tr>\n",
       "      <th>SALAS_COMPLEXO_INFERIDO</th>\n",
       "      <td>0.1628</td>\n",
       "      <td>0.017000</td>\n",
       "      <td>9.445</td>\n",
       "      <td>0.000</td>\n",
       "    </tr>\n",
       "    <tr>\n",
       "      <th>ASSENTOS_COMPLEXO_INFERIDO</th>\n",
       "      <td>0.0005</td>\n",
       "      <td>0.000065</td>\n",
       "      <td>7.379</td>\n",
       "      <td>0.000</td>\n",
       "    </tr>\n",
       "  </tbody>\n",
       "</table>\n",
       "</div>"
      ],
      "text/plain": [
       "                                        coef   std err       t  P>|t|\n",
       "CUMP_LINEAR                           1.1341  0.211000   5.363  0.000\n",
       "OBRIGAÇÃO_FINAL_POR_SALA              0.0133  0.003000   3.830  0.000\n",
       "CUMP_LINEAR:OBRIGAÇÃO_FINAL_POR_SALA -0.0124  0.004000  -2.784  0.005\n",
       "DIAS_FUNCIONAMENTO                    0.0097  0.000000  31.666  0.000\n",
       "SALAS_COMPLEXO_INFERIDO               0.1628  0.017000   9.445  0.000\n",
       "ASSENTOS_COMPLEXO_INFERIDO            0.0005  0.000065   7.379  0.000"
      ]
     },
     "execution_count": 188,
     "metadata": {},
     "output_type": "execute_result"
    }
   ],
   "source": [
    "pd.read_html(reg_w79.summary().tables[1].as_html(),header=0,index_col=0)[0].iloc[-6:,:-2]"
   ]
  },
  {
   "cell_type": "code",
   "execution_count": 189,
   "metadata": {
    "ExecuteTime": {
     "end_time": "2021-07-16T03:17:26.178741Z",
     "start_time": "2021-07-16T03:17:25.623921Z"
    }
   },
   "outputs": [
    {
     "data": {
      "text/html": [
       "<div>\n",
       "<style scoped>\n",
       "    .dataframe tbody tr th:only-of-type {\n",
       "        vertical-align: middle;\n",
       "    }\n",
       "\n",
       "    .dataframe tbody tr th {\n",
       "        vertical-align: top;\n",
       "    }\n",
       "\n",
       "    .dataframe thead th {\n",
       "        text-align: right;\n",
       "    }\n",
       "</style>\n",
       "<table border=\"1\" class=\"dataframe\">\n",
       "  <thead>\n",
       "    <tr style=\"text-align: right;\">\n",
       "      <th></th>\n",
       "      <th>coef</th>\n",
       "      <th>std err</th>\n",
       "      <th>t</th>\n",
       "      <th>P&gt;|t|</th>\n",
       "    </tr>\n",
       "  </thead>\n",
       "  <tbody>\n",
       "    <tr>\n",
       "      <th>CUMP_LINEAR</th>\n",
       "      <td>-0.3791</td>\n",
       "      <td>0.23200</td>\n",
       "      <td>-1.631</td>\n",
       "      <td>0.103</td>\n",
       "    </tr>\n",
       "    <tr>\n",
       "      <th>OBRIGAÇÃO_FINAL_POR_SALA</th>\n",
       "      <td>0.0038</td>\n",
       "      <td>0.00400</td>\n",
       "      <td>1.008</td>\n",
       "      <td>0.313</td>\n",
       "    </tr>\n",
       "    <tr>\n",
       "      <th>CUMP_LINEAR:OBRIGAÇÃO_FINAL_POR_SALA</th>\n",
       "      <td>0.0186</td>\n",
       "      <td>0.00500</td>\n",
       "      <td>3.800</td>\n",
       "      <td>0.000</td>\n",
       "    </tr>\n",
       "    <tr>\n",
       "      <th>DIAS_FUNCIONAMENTO</th>\n",
       "      <td>0.0068</td>\n",
       "      <td>0.00000</td>\n",
       "      <td>20.290</td>\n",
       "      <td>0.000</td>\n",
       "    </tr>\n",
       "    <tr>\n",
       "      <th>SALAS_COMPLEXO_INFERIDO</th>\n",
       "      <td>0.1309</td>\n",
       "      <td>0.01900</td>\n",
       "      <td>6.955</td>\n",
       "      <td>0.000</td>\n",
       "    </tr>\n",
       "    <tr>\n",
       "      <th>ASSENTOS_COMPLEXO_INFERIDO</th>\n",
       "      <td>0.0005</td>\n",
       "      <td>0.00007</td>\n",
       "      <td>7.500</td>\n",
       "      <td>0.000</td>\n",
       "    </tr>\n",
       "  </tbody>\n",
       "</table>\n",
       "</div>"
      ],
      "text/plain": [
       "                                        coef  std err       t  P>|t|\n",
       "CUMP_LINEAR                          -0.3791  0.23200  -1.631  0.103\n",
       "OBRIGAÇÃO_FINAL_POR_SALA              0.0038  0.00400   1.008  0.313\n",
       "CUMP_LINEAR:OBRIGAÇÃO_FINAL_POR_SALA  0.0186  0.00500   3.800  0.000\n",
       "DIAS_FUNCIONAMENTO                    0.0068  0.00000  20.290  0.000\n",
       "SALAS_COMPLEXO_INFERIDO               0.1309  0.01900   6.955  0.000\n",
       "ASSENTOS_COMPLEXO_INFERIDO            0.0005  0.00007   7.500  0.000"
      ]
     },
     "execution_count": 189,
     "metadata": {},
     "output_type": "execute_result"
    }
   ],
   "source": [
    "pd.read_html(reg_w80.summary().tables[1].as_html(),header=0,index_col=0)[0].iloc[-6:,:-2]"
   ]
  },
  {
   "cell_type": "markdown",
   "metadata": {},
   "source": [
    "###### Triweight kernel"
   ]
  },
  {
   "cell_type": "code",
   "execution_count": 190,
   "metadata": {
    "ExecuteTime": {
     "end_time": "2021-07-16T03:17:30.985096Z",
     "start_time": "2021-07-16T03:17:26.180737Z"
    }
   },
   "outputs": [],
   "source": [
    "formul = 'np.log(PUBLICO) ~ CUMP_TRIWEIGHT*OBRIGAÇÃO_FINAL_POR_SALA + DIAS_FUNCIONAMENTO + SALAS_COMPLEXO_INFERIDO + ASSENTOS_COMPLEXO_INFERIDO + C(ANO_CINEMATOGRAFICO)*C(MUN_COMPLEXO)'\n",
    "data = [tds_1719, est_1719, bras_1719]\n",
    "\n",
    "# all\n",
    "reg_w81 = smf.ols(formula = formul, data=data[0]).fit()\n",
    "\n",
    "# foreign\n",
    "reg_w82 = smf.ols(formula = formul, data=data[1]).fit()\n",
    "\n",
    "# Brazilian\n",
    "reg_w83 = smf.ols(formula = formul, data=data[2]).fit()"
   ]
  },
  {
   "cell_type": "code",
   "execution_count": 191,
   "metadata": {
    "ExecuteTime": {
     "end_time": "2021-07-16T03:17:31.621375Z",
     "start_time": "2021-07-16T03:17:30.985096Z"
    }
   },
   "outputs": [
    {
     "data": {
      "text/html": [
       "<div>\n",
       "<style scoped>\n",
       "    .dataframe tbody tr th:only-of-type {\n",
       "        vertical-align: middle;\n",
       "    }\n",
       "\n",
       "    .dataframe tbody tr th {\n",
       "        vertical-align: top;\n",
       "    }\n",
       "\n",
       "    .dataframe thead th {\n",
       "        text-align: right;\n",
       "    }\n",
       "</style>\n",
       "<table border=\"1\" class=\"dataframe\">\n",
       "  <thead>\n",
       "    <tr style=\"text-align: right;\">\n",
       "      <th></th>\n",
       "      <th>coef</th>\n",
       "      <th>std err</th>\n",
       "      <th>t</th>\n",
       "      <th>P&gt;|t|</th>\n",
       "    </tr>\n",
       "  </thead>\n",
       "  <tbody>\n",
       "    <tr>\n",
       "      <th>CUMP_TRIWEIGHT</th>\n",
       "      <td>0.6886</td>\n",
       "      <td>0.159000</td>\n",
       "      <td>4.336</td>\n",
       "      <td>0.000</td>\n",
       "    </tr>\n",
       "    <tr>\n",
       "      <th>OBRIGAÇÃO_FINAL_POR_SALA</th>\n",
       "      <td>0.0118</td>\n",
       "      <td>0.003000</td>\n",
       "      <td>4.585</td>\n",
       "      <td>0.000</td>\n",
       "    </tr>\n",
       "    <tr>\n",
       "      <th>CUMP_TRIWEIGHT:OBRIGAÇÃO_FINAL_POR_SALA</th>\n",
       "      <td>-0.0071</td>\n",
       "      <td>0.003000</td>\n",
       "      <td>-2.182</td>\n",
       "      <td>0.029</td>\n",
       "    </tr>\n",
       "    <tr>\n",
       "      <th>DIAS_FUNCIONAMENTO</th>\n",
       "      <td>0.0089</td>\n",
       "      <td>0.000000</td>\n",
       "      <td>35.238</td>\n",
       "      <td>0.000</td>\n",
       "    </tr>\n",
       "    <tr>\n",
       "      <th>SALAS_COMPLEXO_INFERIDO</th>\n",
       "      <td>0.1509</td>\n",
       "      <td>0.014000</td>\n",
       "      <td>10.419</td>\n",
       "      <td>0.000</td>\n",
       "    </tr>\n",
       "    <tr>\n",
       "      <th>ASSENTOS_COMPLEXO_INFERIDO</th>\n",
       "      <td>0.0005</td>\n",
       "      <td>0.000054</td>\n",
       "      <td>8.824</td>\n",
       "      <td>0.000</td>\n",
       "    </tr>\n",
       "  </tbody>\n",
       "</table>\n",
       "</div>"
      ],
      "text/plain": [
       "                                           coef   std err       t  P>|t|\n",
       "CUMP_TRIWEIGHT                           0.6886  0.159000   4.336  0.000\n",
       "OBRIGAÇÃO_FINAL_POR_SALA                 0.0118  0.003000   4.585  0.000\n",
       "CUMP_TRIWEIGHT:OBRIGAÇÃO_FINAL_POR_SALA -0.0071  0.003000  -2.182  0.029\n",
       "DIAS_FUNCIONAMENTO                       0.0089  0.000000  35.238  0.000\n",
       "SALAS_COMPLEXO_INFERIDO                  0.1509  0.014000  10.419  0.000\n",
       "ASSENTOS_COMPLEXO_INFERIDO               0.0005  0.000054   8.824  0.000"
      ]
     },
     "execution_count": 191,
     "metadata": {},
     "output_type": "execute_result"
    }
   ],
   "source": [
    "pd.read_html(reg_w81.summary().tables[1].as_html(),header=0,index_col=0)[0].iloc[-6:,:-2]"
   ]
  },
  {
   "cell_type": "code",
   "execution_count": 192,
   "metadata": {
    "ExecuteTime": {
     "end_time": "2021-07-16T03:17:32.186144Z",
     "start_time": "2021-07-16T03:17:31.623347Z"
    }
   },
   "outputs": [
    {
     "data": {
      "text/html": [
       "<div>\n",
       "<style scoped>\n",
       "    .dataframe tbody tr th:only-of-type {\n",
       "        vertical-align: middle;\n",
       "    }\n",
       "\n",
       "    .dataframe tbody tr th {\n",
       "        vertical-align: top;\n",
       "    }\n",
       "\n",
       "    .dataframe thead th {\n",
       "        text-align: right;\n",
       "    }\n",
       "</style>\n",
       "<table border=\"1\" class=\"dataframe\">\n",
       "  <thead>\n",
       "    <tr style=\"text-align: right;\">\n",
       "      <th></th>\n",
       "      <th>coef</th>\n",
       "      <th>std err</th>\n",
       "      <th>t</th>\n",
       "      <th>P&gt;|t|</th>\n",
       "    </tr>\n",
       "  </thead>\n",
       "  <tbody>\n",
       "    <tr>\n",
       "      <th>CUMP_TRIWEIGHT</th>\n",
       "      <td>1.0431</td>\n",
       "      <td>0.191000</td>\n",
       "      <td>5.474</td>\n",
       "      <td>0.000</td>\n",
       "    </tr>\n",
       "    <tr>\n",
       "      <th>OBRIGAÇÃO_FINAL_POR_SALA</th>\n",
       "      <td>0.0140</td>\n",
       "      <td>0.003000</td>\n",
       "      <td>4.545</td>\n",
       "      <td>0.000</td>\n",
       "    </tr>\n",
       "    <tr>\n",
       "      <th>CUMP_TRIWEIGHT:OBRIGAÇÃO_FINAL_POR_SALA</th>\n",
       "      <td>-0.0130</td>\n",
       "      <td>0.004000</td>\n",
       "      <td>-3.354</td>\n",
       "      <td>0.001</td>\n",
       "    </tr>\n",
       "    <tr>\n",
       "      <th>DIAS_FUNCIONAMENTO</th>\n",
       "      <td>0.0097</td>\n",
       "      <td>0.000000</td>\n",
       "      <td>31.844</td>\n",
       "      <td>0.000</td>\n",
       "    </tr>\n",
       "    <tr>\n",
       "      <th>SALAS_COMPLEXO_INFERIDO</th>\n",
       "      <td>0.1645</td>\n",
       "      <td>0.017000</td>\n",
       "      <td>9.530</td>\n",
       "      <td>0.000</td>\n",
       "    </tr>\n",
       "    <tr>\n",
       "      <th>ASSENTOS_COMPLEXO_INFERIDO</th>\n",
       "      <td>0.0005</td>\n",
       "      <td>0.000065</td>\n",
       "      <td>7.336</td>\n",
       "      <td>0.000</td>\n",
       "    </tr>\n",
       "  </tbody>\n",
       "</table>\n",
       "</div>"
      ],
      "text/plain": [
       "                                           coef   std err       t  P>|t|\n",
       "CUMP_TRIWEIGHT                           1.0431  0.191000   5.474  0.000\n",
       "OBRIGAÇÃO_FINAL_POR_SALA                 0.0140  0.003000   4.545  0.000\n",
       "CUMP_TRIWEIGHT:OBRIGAÇÃO_FINAL_POR_SALA -0.0130  0.004000  -3.354  0.001\n",
       "DIAS_FUNCIONAMENTO                       0.0097  0.000000  31.844  0.000\n",
       "SALAS_COMPLEXO_INFERIDO                  0.1645  0.017000   9.530  0.000\n",
       "ASSENTOS_COMPLEXO_INFERIDO               0.0005  0.000065   7.336  0.000"
      ]
     },
     "execution_count": 192,
     "metadata": {},
     "output_type": "execute_result"
    }
   ],
   "source": [
    "pd.read_html(reg_w82.summary().tables[1].as_html(),header=0,index_col=0)[0].iloc[-6:,:-2]"
   ]
  },
  {
   "cell_type": "code",
   "execution_count": 193,
   "metadata": {
    "ExecuteTime": {
     "end_time": "2021-07-16T03:17:32.743225Z",
     "start_time": "2021-07-16T03:17:32.188151Z"
    },
    "scrolled": true
   },
   "outputs": [
    {
     "data": {
      "text/html": [
       "<div>\n",
       "<style scoped>\n",
       "    .dataframe tbody tr th:only-of-type {\n",
       "        vertical-align: middle;\n",
       "    }\n",
       "\n",
       "    .dataframe tbody tr th {\n",
       "        vertical-align: top;\n",
       "    }\n",
       "\n",
       "    .dataframe thead th {\n",
       "        text-align: right;\n",
       "    }\n",
       "</style>\n",
       "<table border=\"1\" class=\"dataframe\">\n",
       "  <thead>\n",
       "    <tr style=\"text-align: right;\">\n",
       "      <th></th>\n",
       "      <th>coef</th>\n",
       "      <th>std err</th>\n",
       "      <th>t</th>\n",
       "      <th>P&gt;|t|</th>\n",
       "    </tr>\n",
       "  </thead>\n",
       "  <tbody>\n",
       "    <tr>\n",
       "      <th>CUMP_TRIWEIGHT</th>\n",
       "      <td>-0.1875</td>\n",
       "      <td>0.20800</td>\n",
       "      <td>-0.902</td>\n",
       "      <td>0.367</td>\n",
       "    </tr>\n",
       "    <tr>\n",
       "      <th>OBRIGAÇÃO_FINAL_POR_SALA</th>\n",
       "      <td>0.0070</td>\n",
       "      <td>0.00300</td>\n",
       "      <td>2.083</td>\n",
       "      <td>0.038</td>\n",
       "    </tr>\n",
       "    <tr>\n",
       "      <th>CUMP_TRIWEIGHT:OBRIGAÇÃO_FINAL_POR_SALA</th>\n",
       "      <td>0.0140</td>\n",
       "      <td>0.00400</td>\n",
       "      <td>3.315</td>\n",
       "      <td>0.001</td>\n",
       "    </tr>\n",
       "    <tr>\n",
       "      <th>DIAS_FUNCIONAMENTO</th>\n",
       "      <td>0.0068</td>\n",
       "      <td>0.00000</td>\n",
       "      <td>20.171</td>\n",
       "      <td>0.000</td>\n",
       "    </tr>\n",
       "    <tr>\n",
       "      <th>SALAS_COMPLEXO_INFERIDO</th>\n",
       "      <td>0.1295</td>\n",
       "      <td>0.01900</td>\n",
       "      <td>6.888</td>\n",
       "      <td>0.000</td>\n",
       "    </tr>\n",
       "    <tr>\n",
       "      <th>ASSENTOS_COMPLEXO_INFERIDO</th>\n",
       "      <td>0.0005</td>\n",
       "      <td>0.00007</td>\n",
       "      <td>7.530</td>\n",
       "      <td>0.000</td>\n",
       "    </tr>\n",
       "  </tbody>\n",
       "</table>\n",
       "</div>"
      ],
      "text/plain": [
       "                                           coef  std err       t  P>|t|\n",
       "CUMP_TRIWEIGHT                          -0.1875  0.20800  -0.902  0.367\n",
       "OBRIGAÇÃO_FINAL_POR_SALA                 0.0070  0.00300   2.083  0.038\n",
       "CUMP_TRIWEIGHT:OBRIGAÇÃO_FINAL_POR_SALA  0.0140  0.00400   3.315  0.001\n",
       "DIAS_FUNCIONAMENTO                       0.0068  0.00000  20.171  0.000\n",
       "SALAS_COMPLEXO_INFERIDO                  0.1295  0.01900   6.888  0.000\n",
       "ASSENTOS_COMPLEXO_INFERIDO               0.0005  0.00007   7.530  0.000"
      ]
     },
     "execution_count": 193,
     "metadata": {},
     "output_type": "execute_result"
    }
   ],
   "source": [
    "pd.read_html(reg_w83.summary().tables[1].as_html(),header=0,index_col=0)[0].iloc[-6:,:-2]"
   ]
  },
  {
   "cell_type": "markdown",
   "metadata": {},
   "source": [
    "##### 2017-2018"
   ]
  },
  {
   "cell_type": "markdown",
   "metadata": {},
   "source": [
    "###### Quadratic kernel"
   ]
  },
  {
   "cell_type": "code",
   "execution_count": 194,
   "metadata": {
    "ExecuteTime": {
     "end_time": "2021-07-16T03:17:34.086082Z",
     "start_time": "2021-07-16T03:17:32.745227Z"
    }
   },
   "outputs": [],
   "source": [
    "formul = 'np.log(PUBLICO) ~ CUMP_QUADRATIC*OBRIGAÇÃO_FINAL_POR_SALA + DIAS_FUNCIONAMENTO + SALAS_COMPLEXO_INFERIDO + ASSENTOS_COMPLEXO_INFERIDO + C(ANO_CINEMATOGRAFICO)*C(MUN_COMPLEXO)'\n",
    "data = [tds_1718, est_1718, bras_1718]\n",
    "\n",
    "# all\n",
    "reg_w84 = smf.ols(formula = formul, data=data[0]).fit()\n",
    "\n",
    "# foreign\n",
    "reg_w85 = smf.ols(formula = formul, data=data[1]).fit()\n",
    "\n",
    "# Brazilian\n",
    "reg_w86 = smf.ols(formula = formul, data=data[2]).fit()"
   ]
  },
  {
   "cell_type": "code",
   "execution_count": 195,
   "metadata": {
    "ExecuteTime": {
     "end_time": "2021-07-16T03:17:34.542541Z",
     "start_time": "2021-07-16T03:17:34.088087Z"
    }
   },
   "outputs": [
    {
     "data": {
      "text/html": [
       "<div>\n",
       "<style scoped>\n",
       "    .dataframe tbody tr th:only-of-type {\n",
       "        vertical-align: middle;\n",
       "    }\n",
       "\n",
       "    .dataframe tbody tr th {\n",
       "        vertical-align: top;\n",
       "    }\n",
       "\n",
       "    .dataframe thead th {\n",
       "        text-align: right;\n",
       "    }\n",
       "</style>\n",
       "<table border=\"1\" class=\"dataframe\">\n",
       "  <thead>\n",
       "    <tr style=\"text-align: right;\">\n",
       "      <th></th>\n",
       "      <th>coef</th>\n",
       "      <th>std err</th>\n",
       "      <th>t</th>\n",
       "      <th>P&gt;|t|</th>\n",
       "    </tr>\n",
       "  </thead>\n",
       "  <tbody>\n",
       "    <tr>\n",
       "      <th>CUMP_QUADRATIC</th>\n",
       "      <td>0.5844</td>\n",
       "      <td>0.168000</td>\n",
       "      <td>3.480</td>\n",
       "      <td>0.001</td>\n",
       "    </tr>\n",
       "    <tr>\n",
       "      <th>OBRIGAÇÃO_FINAL_POR_SALA</th>\n",
       "      <td>0.0095</td>\n",
       "      <td>0.004000</td>\n",
       "      <td>2.525</td>\n",
       "      <td>0.012</td>\n",
       "    </tr>\n",
       "    <tr>\n",
       "      <th>CUMP_QUADRATIC:OBRIGAÇÃO_FINAL_POR_SALA</th>\n",
       "      <td>0.0033</td>\n",
       "      <td>0.004000</td>\n",
       "      <td>0.778</td>\n",
       "      <td>0.437</td>\n",
       "    </tr>\n",
       "    <tr>\n",
       "      <th>DIAS_FUNCIONAMENTO</th>\n",
       "      <td>0.0072</td>\n",
       "      <td>0.000000</td>\n",
       "      <td>18.084</td>\n",
       "      <td>0.000</td>\n",
       "    </tr>\n",
       "    <tr>\n",
       "      <th>SALAS_COMPLEXO_INFERIDO</th>\n",
       "      <td>0.1321</td>\n",
       "      <td>0.018000</td>\n",
       "      <td>7.298</td>\n",
       "      <td>0.000</td>\n",
       "    </tr>\n",
       "    <tr>\n",
       "      <th>ASSENTOS_COMPLEXO_INFERIDO</th>\n",
       "      <td>0.0005</td>\n",
       "      <td>0.000066</td>\n",
       "      <td>6.949</td>\n",
       "      <td>0.000</td>\n",
       "    </tr>\n",
       "  </tbody>\n",
       "</table>\n",
       "</div>"
      ],
      "text/plain": [
       "                                           coef   std err       t  P>|t|\n",
       "CUMP_QUADRATIC                           0.5844  0.168000   3.480  0.001\n",
       "OBRIGAÇÃO_FINAL_POR_SALA                 0.0095  0.004000   2.525  0.012\n",
       "CUMP_QUADRATIC:OBRIGAÇÃO_FINAL_POR_SALA  0.0033  0.004000   0.778  0.437\n",
       "DIAS_FUNCIONAMENTO                       0.0072  0.000000  18.084  0.000\n",
       "SALAS_COMPLEXO_INFERIDO                  0.1321  0.018000   7.298  0.000\n",
       "ASSENTOS_COMPLEXO_INFERIDO               0.0005  0.000066   6.949  0.000"
      ]
     },
     "execution_count": 195,
     "metadata": {},
     "output_type": "execute_result"
    }
   ],
   "source": [
    "pd.read_html(reg_w84.summary().tables[1].as_html(),header=0,index_col=0)[0].iloc[-6:,:-2]"
   ]
  },
  {
   "cell_type": "code",
   "execution_count": 196,
   "metadata": {
    "ExecuteTime": {
     "end_time": "2021-07-16T03:17:34.913689Z",
     "start_time": "2021-07-16T03:17:34.544539Z"
    }
   },
   "outputs": [
    {
     "data": {
      "text/html": [
       "<div>\n",
       "<style scoped>\n",
       "    .dataframe tbody tr th:only-of-type {\n",
       "        vertical-align: middle;\n",
       "    }\n",
       "\n",
       "    .dataframe tbody tr th {\n",
       "        vertical-align: top;\n",
       "    }\n",
       "\n",
       "    .dataframe thead th {\n",
       "        text-align: right;\n",
       "    }\n",
       "</style>\n",
       "<table border=\"1\" class=\"dataframe\">\n",
       "  <thead>\n",
       "    <tr style=\"text-align: right;\">\n",
       "      <th></th>\n",
       "      <th>coef</th>\n",
       "      <th>std err</th>\n",
       "      <th>t</th>\n",
       "      <th>P&gt;|t|</th>\n",
       "    </tr>\n",
       "  </thead>\n",
       "  <tbody>\n",
       "    <tr>\n",
       "      <th>CUMP_QUADRATIC</th>\n",
       "      <td>1.0169</td>\n",
       "      <td>0.196000</td>\n",
       "      <td>5.192</td>\n",
       "      <td>0.000</td>\n",
       "    </tr>\n",
       "    <tr>\n",
       "      <th>OBRIGAÇÃO_FINAL_POR_SALA</th>\n",
       "      <td>0.0128</td>\n",
       "      <td>0.004000</td>\n",
       "      <td>2.934</td>\n",
       "      <td>0.003</td>\n",
       "    </tr>\n",
       "    <tr>\n",
       "      <th>CUMP_QUADRATIC:OBRIGAÇÃO_FINAL_POR_SALA</th>\n",
       "      <td>-0.0025</td>\n",
       "      <td>0.005000</td>\n",
       "      <td>-0.502</td>\n",
       "      <td>0.616</td>\n",
       "    </tr>\n",
       "    <tr>\n",
       "      <th>DIAS_FUNCIONAMENTO</th>\n",
       "      <td>0.0076</td>\n",
       "      <td>0.000000</td>\n",
       "      <td>16.556</td>\n",
       "      <td>0.000</td>\n",
       "    </tr>\n",
       "    <tr>\n",
       "      <th>SALAS_COMPLEXO_INFERIDO</th>\n",
       "      <td>0.1394</td>\n",
       "      <td>0.021000</td>\n",
       "      <td>6.671</td>\n",
       "      <td>0.000</td>\n",
       "    </tr>\n",
       "    <tr>\n",
       "      <th>ASSENTOS_COMPLEXO_INFERIDO</th>\n",
       "      <td>0.0005</td>\n",
       "      <td>0.000077</td>\n",
       "      <td>6.067</td>\n",
       "      <td>0.000</td>\n",
       "    </tr>\n",
       "  </tbody>\n",
       "</table>\n",
       "</div>"
      ],
      "text/plain": [
       "                                           coef   std err       t  P>|t|\n",
       "CUMP_QUADRATIC                           1.0169  0.196000   5.192  0.000\n",
       "OBRIGAÇÃO_FINAL_POR_SALA                 0.0128  0.004000   2.934  0.003\n",
       "CUMP_QUADRATIC:OBRIGAÇÃO_FINAL_POR_SALA -0.0025  0.005000  -0.502  0.616\n",
       "DIAS_FUNCIONAMENTO                       0.0076  0.000000  16.556  0.000\n",
       "SALAS_COMPLEXO_INFERIDO                  0.1394  0.021000   6.671  0.000\n",
       "ASSENTOS_COMPLEXO_INFERIDO               0.0005  0.000077   6.067  0.000"
      ]
     },
     "execution_count": 196,
     "metadata": {},
     "output_type": "execute_result"
    }
   ],
   "source": [
    "pd.read_html(reg_w85.summary().tables[1].as_html(),header=0,index_col=0)[0].iloc[-6:,:-2]"
   ]
  },
  {
   "cell_type": "code",
   "execution_count": 197,
   "metadata": {
    "ExecuteTime": {
     "end_time": "2021-07-16T03:17:35.273632Z",
     "start_time": "2021-07-16T03:17:34.915681Z"
    }
   },
   "outputs": [
    {
     "data": {
      "text/html": [
       "<div>\n",
       "<style scoped>\n",
       "    .dataframe tbody tr th:only-of-type {\n",
       "        vertical-align: middle;\n",
       "    }\n",
       "\n",
       "    .dataframe tbody tr th {\n",
       "        vertical-align: top;\n",
       "    }\n",
       "\n",
       "    .dataframe thead th {\n",
       "        text-align: right;\n",
       "    }\n",
       "</style>\n",
       "<table border=\"1\" class=\"dataframe\">\n",
       "  <thead>\n",
       "    <tr style=\"text-align: right;\">\n",
       "      <th></th>\n",
       "      <th>coef</th>\n",
       "      <th>std err</th>\n",
       "      <th>t</th>\n",
       "      <th>P&gt;|t|</th>\n",
       "    </tr>\n",
       "  </thead>\n",
       "  <tbody>\n",
       "    <tr>\n",
       "      <th>CUMP_QUADRATIC</th>\n",
       "      <td>-0.7464</td>\n",
       "      <td>0.228000</td>\n",
       "      <td>-3.275</td>\n",
       "      <td>0.001</td>\n",
       "    </tr>\n",
       "    <tr>\n",
       "      <th>OBRIGAÇÃO_FINAL_POR_SALA</th>\n",
       "      <td>-0.0051</td>\n",
       "      <td>0.005000</td>\n",
       "      <td>-1.006</td>\n",
       "      <td>0.315</td>\n",
       "    </tr>\n",
       "    <tr>\n",
       "      <th>CUMP_QUADRATIC:OBRIGAÇÃO_FINAL_POR_SALA</th>\n",
       "      <td>0.0343</td>\n",
       "      <td>0.006000</td>\n",
       "      <td>6.023</td>\n",
       "      <td>0.000</td>\n",
       "    </tr>\n",
       "    <tr>\n",
       "      <th>DIAS_FUNCIONAMENTO</th>\n",
       "      <td>0.0053</td>\n",
       "      <td>0.001000</td>\n",
       "      <td>10.075</td>\n",
       "      <td>0.000</td>\n",
       "    </tr>\n",
       "    <tr>\n",
       "      <th>SALAS_COMPLEXO_INFERIDO</th>\n",
       "      <td>0.1042</td>\n",
       "      <td>0.024000</td>\n",
       "      <td>4.338</td>\n",
       "      <td>0.000</td>\n",
       "    </tr>\n",
       "    <tr>\n",
       "      <th>ASSENTOS_COMPLEXO_INFERIDO</th>\n",
       "      <td>0.0005</td>\n",
       "      <td>0.000088</td>\n",
       "      <td>5.923</td>\n",
       "      <td>0.000</td>\n",
       "    </tr>\n",
       "  </tbody>\n",
       "</table>\n",
       "</div>"
      ],
      "text/plain": [
       "                                           coef   std err       t  P>|t|\n",
       "CUMP_QUADRATIC                          -0.7464  0.228000  -3.275  0.001\n",
       "OBRIGAÇÃO_FINAL_POR_SALA                -0.0051  0.005000  -1.006  0.315\n",
       "CUMP_QUADRATIC:OBRIGAÇÃO_FINAL_POR_SALA  0.0343  0.006000   6.023  0.000\n",
       "DIAS_FUNCIONAMENTO                       0.0053  0.001000  10.075  0.000\n",
       "SALAS_COMPLEXO_INFERIDO                  0.1042  0.024000   4.338  0.000\n",
       "ASSENTOS_COMPLEXO_INFERIDO               0.0005  0.000088   5.923  0.000"
      ]
     },
     "execution_count": 197,
     "metadata": {},
     "output_type": "execute_result"
    }
   ],
   "source": [
    "pd.read_html(reg_w86.summary().tables[1].as_html(),header=0,index_col=0)[0].iloc[-6:,:-2]"
   ]
  },
  {
   "cell_type": "markdown",
   "metadata": {},
   "source": [
    "###### Normal pdf kernel"
   ]
  },
  {
   "cell_type": "code",
   "execution_count": 198,
   "metadata": {
    "ExecuteTime": {
     "end_time": "2021-07-16T03:17:36.500847Z",
     "start_time": "2021-07-16T03:17:35.275637Z"
    }
   },
   "outputs": [],
   "source": [
    "formul = 'np.log(PUBLICO) ~ CUMP_NORMALIZADO*OBRIGAÇÃO_FINAL_POR_SALA + DIAS_FUNCIONAMENTO + SALAS_COMPLEXO_INFERIDO + ASSENTOS_COMPLEXO_INFERIDO + C(ANO_CINEMATOGRAFICO)*C(MUN_COMPLEXO)'\n",
    "data = [tds_1718, est_1718, bras_1718]\n",
    "\n",
    "# all\n",
    "reg_w87 = smf.ols(formula = formul, data=data[0]).fit()\n",
    "\n",
    "# foreign\n",
    "reg_w88 = smf.ols(formula = formul, data=data[1]).fit()\n",
    "\n",
    "# Brazilian\n",
    "reg_w89 = smf.ols(formula = formul, data=data[2]).fit()"
   ]
  },
  {
   "cell_type": "code",
   "execution_count": 199,
   "metadata": {
    "ExecuteTime": {
     "end_time": "2021-07-16T03:17:36.878028Z",
     "start_time": "2021-07-16T03:17:36.500847Z"
    }
   },
   "outputs": [
    {
     "data": {
      "text/html": [
       "<div>\n",
       "<style scoped>\n",
       "    .dataframe tbody tr th:only-of-type {\n",
       "        vertical-align: middle;\n",
       "    }\n",
       "\n",
       "    .dataframe tbody tr th {\n",
       "        vertical-align: top;\n",
       "    }\n",
       "\n",
       "    .dataframe thead th {\n",
       "        text-align: right;\n",
       "    }\n",
       "</style>\n",
       "<table border=\"1\" class=\"dataframe\">\n",
       "  <thead>\n",
       "    <tr style=\"text-align: right;\">\n",
       "      <th></th>\n",
       "      <th>coef</th>\n",
       "      <th>std err</th>\n",
       "      <th>t</th>\n",
       "      <th>P&gt;|t|</th>\n",
       "    </tr>\n",
       "  </thead>\n",
       "  <tbody>\n",
       "    <tr>\n",
       "      <th>CUMP_NORMALIZADO</th>\n",
       "      <td>1.5910</td>\n",
       "      <td>0.599000</td>\n",
       "      <td>2.654</td>\n",
       "      <td>0.008</td>\n",
       "    </tr>\n",
       "    <tr>\n",
       "      <th>OBRIGAÇÃO_FINAL_POR_SALA</th>\n",
       "      <td>-0.0074</td>\n",
       "      <td>0.007000</td>\n",
       "      <td>-1.075</td>\n",
       "      <td>0.283</td>\n",
       "    </tr>\n",
       "    <tr>\n",
       "      <th>CUMP_NORMALIZADO:OBRIGAÇÃO_FINAL_POR_SALA</th>\n",
       "      <td>0.0520</td>\n",
       "      <td>0.019000</td>\n",
       "      <td>2.789</td>\n",
       "      <td>0.005</td>\n",
       "    </tr>\n",
       "    <tr>\n",
       "      <th>DIAS_FUNCIONAMENTO</th>\n",
       "      <td>0.0072</td>\n",
       "      <td>0.000000</td>\n",
       "      <td>18.740</td>\n",
       "      <td>0.000</td>\n",
       "    </tr>\n",
       "    <tr>\n",
       "      <th>SALAS_COMPLEXO_INFERIDO</th>\n",
       "      <td>0.1275</td>\n",
       "      <td>0.018000</td>\n",
       "      <td>7.221</td>\n",
       "      <td>0.000</td>\n",
       "    </tr>\n",
       "    <tr>\n",
       "      <th>ASSENTOS_COMPLEXO_INFERIDO</th>\n",
       "      <td>0.0005</td>\n",
       "      <td>0.000065</td>\n",
       "      <td>7.076</td>\n",
       "      <td>0.000</td>\n",
       "    </tr>\n",
       "  </tbody>\n",
       "</table>\n",
       "</div>"
      ],
      "text/plain": [
       "                                             coef   std err       t  P>|t|\n",
       "CUMP_NORMALIZADO                           1.5910  0.599000   2.654  0.008\n",
       "OBRIGAÇÃO_FINAL_POR_SALA                  -0.0074  0.007000  -1.075  0.283\n",
       "CUMP_NORMALIZADO:OBRIGAÇÃO_FINAL_POR_SALA  0.0520  0.019000   2.789  0.005\n",
       "DIAS_FUNCIONAMENTO                         0.0072  0.000000  18.740  0.000\n",
       "SALAS_COMPLEXO_INFERIDO                    0.1275  0.018000   7.221  0.000\n",
       "ASSENTOS_COMPLEXO_INFERIDO                 0.0005  0.000065   7.076  0.000"
      ]
     },
     "execution_count": 199,
     "metadata": {},
     "output_type": "execute_result"
    }
   ],
   "source": [
    "pd.read_html(reg_w87.summary().tables[1].as_html(),header=0,index_col=0)[0].iloc[-6:,:-2]"
   ]
  },
  {
   "cell_type": "code",
   "execution_count": 200,
   "metadata": {
    "ExecuteTime": {
     "end_time": "2021-07-16T03:17:37.297340Z",
     "start_time": "2021-07-16T03:17:36.880034Z"
    }
   },
   "outputs": [
    {
     "data": {
      "text/html": [
       "<div>\n",
       "<style scoped>\n",
       "    .dataframe tbody tr th:only-of-type {\n",
       "        vertical-align: middle;\n",
       "    }\n",
       "\n",
       "    .dataframe tbody tr th {\n",
       "        vertical-align: top;\n",
       "    }\n",
       "\n",
       "    .dataframe thead th {\n",
       "        text-align: right;\n",
       "    }\n",
       "</style>\n",
       "<table border=\"1\" class=\"dataframe\">\n",
       "  <thead>\n",
       "    <tr style=\"text-align: right;\">\n",
       "      <th></th>\n",
       "      <th>coef</th>\n",
       "      <th>std err</th>\n",
       "      <th>t</th>\n",
       "      <th>P&gt;|t|</th>\n",
       "    </tr>\n",
       "  </thead>\n",
       "  <tbody>\n",
       "    <tr>\n",
       "      <th>CUMP_NORMALIZADO</th>\n",
       "      <td>3.6269</td>\n",
       "      <td>0.703000</td>\n",
       "      <td>5.157</td>\n",
       "      <td>0.000</td>\n",
       "    </tr>\n",
       "    <tr>\n",
       "      <th>OBRIGAÇÃO_FINAL_POR_SALA</th>\n",
       "      <td>-0.0025</td>\n",
       "      <td>0.008000</td>\n",
       "      <td>-0.312</td>\n",
       "      <td>0.755</td>\n",
       "    </tr>\n",
       "    <tr>\n",
       "      <th>CUMP_NORMALIZADO:OBRIGAÇÃO_FINAL_POR_SALA</th>\n",
       "      <td>0.0332</td>\n",
       "      <td>0.022000</td>\n",
       "      <td>1.532</td>\n",
       "      <td>0.126</td>\n",
       "    </tr>\n",
       "    <tr>\n",
       "      <th>DIAS_FUNCIONAMENTO</th>\n",
       "      <td>0.0076</td>\n",
       "      <td>0.000000</td>\n",
       "      <td>17.386</td>\n",
       "      <td>0.000</td>\n",
       "    </tr>\n",
       "    <tr>\n",
       "      <th>SALAS_COMPLEXO_INFERIDO</th>\n",
       "      <td>0.1319</td>\n",
       "      <td>0.020000</td>\n",
       "      <td>6.587</td>\n",
       "      <td>0.000</td>\n",
       "    </tr>\n",
       "    <tr>\n",
       "      <th>ASSENTOS_COMPLEXO_INFERIDO</th>\n",
       "      <td>0.0005</td>\n",
       "      <td>0.000073</td>\n",
       "      <td>6.297</td>\n",
       "      <td>0.000</td>\n",
       "    </tr>\n",
       "  </tbody>\n",
       "</table>\n",
       "</div>"
      ],
      "text/plain": [
       "                                             coef   std err       t  P>|t|\n",
       "CUMP_NORMALIZADO                           3.6269  0.703000   5.157  0.000\n",
       "OBRIGAÇÃO_FINAL_POR_SALA                  -0.0025  0.008000  -0.312  0.755\n",
       "CUMP_NORMALIZADO:OBRIGAÇÃO_FINAL_POR_SALA  0.0332  0.022000   1.532  0.126\n",
       "DIAS_FUNCIONAMENTO                         0.0076  0.000000  17.386  0.000\n",
       "SALAS_COMPLEXO_INFERIDO                    0.1319  0.020000   6.587  0.000\n",
       "ASSENTOS_COMPLEXO_INFERIDO                 0.0005  0.000073   6.297  0.000"
      ]
     },
     "execution_count": 200,
     "metadata": {},
     "output_type": "execute_result"
    }
   ],
   "source": [
    "pd.read_html(reg_w88.summary().tables[1].as_html(),header=0,index_col=0)[0].iloc[-6:,:-2]"
   ]
  },
  {
   "cell_type": "code",
   "execution_count": 201,
   "metadata": {
    "ExecuteTime": {
     "end_time": "2021-07-16T03:17:37.651576Z",
     "start_time": "2021-07-16T03:17:37.299345Z"
    }
   },
   "outputs": [
    {
     "data": {
      "text/html": [
       "<div>\n",
       "<style scoped>\n",
       "    .dataframe tbody tr th:only-of-type {\n",
       "        vertical-align: middle;\n",
       "    }\n",
       "\n",
       "    .dataframe tbody tr th {\n",
       "        vertical-align: top;\n",
       "    }\n",
       "\n",
       "    .dataframe thead th {\n",
       "        text-align: right;\n",
       "    }\n",
       "</style>\n",
       "<table border=\"1\" class=\"dataframe\">\n",
       "  <thead>\n",
       "    <tr style=\"text-align: right;\">\n",
       "      <th></th>\n",
       "      <th>coef</th>\n",
       "      <th>std err</th>\n",
       "      <th>t</th>\n",
       "      <th>P&gt;|t|</th>\n",
       "    </tr>\n",
       "  </thead>\n",
       "  <tbody>\n",
       "    <tr>\n",
       "      <th>CUMP_NORMALIZADO</th>\n",
       "      <td>-4.3079</td>\n",
       "      <td>0.817000</td>\n",
       "      <td>-5.276</td>\n",
       "      <td>0.0</td>\n",
       "    </tr>\n",
       "    <tr>\n",
       "      <th>OBRIGAÇÃO_FINAL_POR_SALA</th>\n",
       "      <td>-0.0375</td>\n",
       "      <td>0.009000</td>\n",
       "      <td>-3.976</td>\n",
       "      <td>0.0</td>\n",
       "    </tr>\n",
       "    <tr>\n",
       "      <th>CUMP_NORMALIZADO:OBRIGAÇÃO_FINAL_POR_SALA</th>\n",
       "      <td>0.1660</td>\n",
       "      <td>0.025000</td>\n",
       "      <td>6.539</td>\n",
       "      <td>0.0</td>\n",
       "    </tr>\n",
       "    <tr>\n",
       "      <th>DIAS_FUNCIONAMENTO</th>\n",
       "      <td>0.0058</td>\n",
       "      <td>0.001000</td>\n",
       "      <td>11.078</td>\n",
       "      <td>0.0</td>\n",
       "    </tr>\n",
       "    <tr>\n",
       "      <th>SALAS_COMPLEXO_INFERIDO</th>\n",
       "      <td>0.1109</td>\n",
       "      <td>0.024000</td>\n",
       "      <td>4.618</td>\n",
       "      <td>0.0</td>\n",
       "    </tr>\n",
       "    <tr>\n",
       "      <th>ASSENTOS_COMPLEXO_INFERIDO</th>\n",
       "      <td>0.0005</td>\n",
       "      <td>0.000088</td>\n",
       "      <td>5.831</td>\n",
       "      <td>0.0</td>\n",
       "    </tr>\n",
       "  </tbody>\n",
       "</table>\n",
       "</div>"
      ],
      "text/plain": [
       "                                             coef   std err       t  P>|t|\n",
       "CUMP_NORMALIZADO                          -4.3079  0.817000  -5.276    0.0\n",
       "OBRIGAÇÃO_FINAL_POR_SALA                  -0.0375  0.009000  -3.976    0.0\n",
       "CUMP_NORMALIZADO:OBRIGAÇÃO_FINAL_POR_SALA  0.1660  0.025000   6.539    0.0\n",
       "DIAS_FUNCIONAMENTO                         0.0058  0.001000  11.078    0.0\n",
       "SALAS_COMPLEXO_INFERIDO                    0.1109  0.024000   4.618    0.0\n",
       "ASSENTOS_COMPLEXO_INFERIDO                 0.0005  0.000088   5.831    0.0"
      ]
     },
     "execution_count": 201,
     "metadata": {},
     "output_type": "execute_result"
    }
   ],
   "source": [
    "pd.read_html(reg_w89.summary().tables[1].as_html(),header=0,index_col=0)[0].iloc[-6:,:-2]"
   ]
  },
  {
   "cell_type": "markdown",
   "metadata": {},
   "source": [
    "###### Triangular kernel"
   ]
  },
  {
   "cell_type": "code",
   "execution_count": 202,
   "metadata": {
    "ExecuteTime": {
     "end_time": "2021-07-16T03:17:38.815062Z",
     "start_time": "2021-07-16T03:17:37.653561Z"
    }
   },
   "outputs": [],
   "source": [
    "formul = 'np.log(PUBLICO) ~ CUMP_LINEAR*OBRIGAÇÃO_FINAL_POR_SALA + DIAS_FUNCIONAMENTO + SALAS_COMPLEXO_INFERIDO + ASSENTOS_COMPLEXO_INFERIDO + C(ANO_CINEMATOGRAFICO)*C(MUN_COMPLEXO)'\n",
    "data = [tds_1718, est_1718, bras_1718]\n",
    "\n",
    "# all\n",
    "reg_w90 = smf.ols(formula = formul, data=data[0]).fit()\n",
    "\n",
    "# foreign\n",
    "reg_w91 = smf.ols(formula = formul, data=data[1]).fit()\n",
    "\n",
    "# Brazilian\n",
    "reg_w92 = smf.ols(formula = formul, data=data[2]).fit()"
   ]
  },
  {
   "cell_type": "code",
   "execution_count": 203,
   "metadata": {
    "ExecuteTime": {
     "end_time": "2021-07-16T03:17:39.189057Z",
     "start_time": "2021-07-16T03:17:38.819076Z"
    }
   },
   "outputs": [
    {
     "data": {
      "text/html": [
       "<div>\n",
       "<style scoped>\n",
       "    .dataframe tbody tr th:only-of-type {\n",
       "        vertical-align: middle;\n",
       "    }\n",
       "\n",
       "    .dataframe tbody tr th {\n",
       "        vertical-align: top;\n",
       "    }\n",
       "\n",
       "    .dataframe thead th {\n",
       "        text-align: right;\n",
       "    }\n",
       "</style>\n",
       "<table border=\"1\" class=\"dataframe\">\n",
       "  <thead>\n",
       "    <tr style=\"text-align: right;\">\n",
       "      <th></th>\n",
       "      <th>coef</th>\n",
       "      <th>std err</th>\n",
       "      <th>t</th>\n",
       "      <th>P&gt;|t|</th>\n",
       "    </tr>\n",
       "  </thead>\n",
       "  <tbody>\n",
       "    <tr>\n",
       "      <th>CUMP_LINEAR</th>\n",
       "      <td>0.9153</td>\n",
       "      <td>0.175000</td>\n",
       "      <td>5.243</td>\n",
       "      <td>0.000</td>\n",
       "    </tr>\n",
       "    <tr>\n",
       "      <th>OBRIGAÇÃO_FINAL_POR_SALA</th>\n",
       "      <td>0.0167</td>\n",
       "      <td>0.003000</td>\n",
       "      <td>5.589</td>\n",
       "      <td>0.000</td>\n",
       "    </tr>\n",
       "    <tr>\n",
       "      <th>CUMP_LINEAR:OBRIGAÇÃO_FINAL_POR_SALA</th>\n",
       "      <td>-0.0066</td>\n",
       "      <td>0.004000</td>\n",
       "      <td>-1.801</td>\n",
       "      <td>0.072</td>\n",
       "    </tr>\n",
       "    <tr>\n",
       "      <th>DIAS_FUNCIONAMENTO</th>\n",
       "      <td>0.0072</td>\n",
       "      <td>0.000000</td>\n",
       "      <td>18.184</td>\n",
       "      <td>0.000</td>\n",
       "    </tr>\n",
       "    <tr>\n",
       "      <th>SALAS_COMPLEXO_INFERIDO</th>\n",
       "      <td>0.1321</td>\n",
       "      <td>0.018000</td>\n",
       "      <td>7.309</td>\n",
       "      <td>0.000</td>\n",
       "    </tr>\n",
       "    <tr>\n",
       "      <th>ASSENTOS_COMPLEXO_INFERIDO</th>\n",
       "      <td>0.0005</td>\n",
       "      <td>0.000066</td>\n",
       "      <td>6.941</td>\n",
       "      <td>0.000</td>\n",
       "    </tr>\n",
       "  </tbody>\n",
       "</table>\n",
       "</div>"
      ],
      "text/plain": [
       "                                        coef   std err       t  P>|t|\n",
       "CUMP_LINEAR                           0.9153  0.175000   5.243  0.000\n",
       "OBRIGAÇÃO_FINAL_POR_SALA              0.0167  0.003000   5.589  0.000\n",
       "CUMP_LINEAR:OBRIGAÇÃO_FINAL_POR_SALA -0.0066  0.004000  -1.801  0.072\n",
       "DIAS_FUNCIONAMENTO                    0.0072  0.000000  18.184  0.000\n",
       "SALAS_COMPLEXO_INFERIDO               0.1321  0.018000   7.309  0.000\n",
       "ASSENTOS_COMPLEXO_INFERIDO            0.0005  0.000066   6.941  0.000"
      ]
     },
     "execution_count": 203,
     "metadata": {},
     "output_type": "execute_result"
    }
   ],
   "source": [
    "pd.read_html(reg_w90.summary().tables[1].as_html(),header=0,index_col=0)[0].iloc[-6:,:-2]"
   ]
  },
  {
   "cell_type": "code",
   "execution_count": 204,
   "metadata": {
    "ExecuteTime": {
     "end_time": "2021-07-16T03:17:39.563563Z",
     "start_time": "2021-07-16T03:17:39.191062Z"
    }
   },
   "outputs": [
    {
     "data": {
      "text/html": [
       "<div>\n",
       "<style scoped>\n",
       "    .dataframe tbody tr th:only-of-type {\n",
       "        vertical-align: middle;\n",
       "    }\n",
       "\n",
       "    .dataframe tbody tr th {\n",
       "        vertical-align: top;\n",
       "    }\n",
       "\n",
       "    .dataframe thead th {\n",
       "        text-align: right;\n",
       "    }\n",
       "</style>\n",
       "<table border=\"1\" class=\"dataframe\">\n",
       "  <thead>\n",
       "    <tr style=\"text-align: right;\">\n",
       "      <th></th>\n",
       "      <th>coef</th>\n",
       "      <th>std err</th>\n",
       "      <th>t</th>\n",
       "      <th>P&gt;|t|</th>\n",
       "    </tr>\n",
       "  </thead>\n",
       "  <tbody>\n",
       "    <tr>\n",
       "      <th>CUMP_LINEAR</th>\n",
       "      <td>1.3501</td>\n",
       "      <td>0.204000</td>\n",
       "      <td>6.632</td>\n",
       "      <td>0.000</td>\n",
       "    </tr>\n",
       "    <tr>\n",
       "      <th>OBRIGAÇÃO_FINAL_POR_SALA</th>\n",
       "      <td>0.0200</td>\n",
       "      <td>0.003000</td>\n",
       "      <td>5.768</td>\n",
       "      <td>0.000</td>\n",
       "    </tr>\n",
       "    <tr>\n",
       "      <th>CUMP_LINEAR:OBRIGAÇÃO_FINAL_POR_SALA</th>\n",
       "      <td>-0.0132</td>\n",
       "      <td>0.004000</td>\n",
       "      <td>-3.100</td>\n",
       "      <td>0.002</td>\n",
       "    </tr>\n",
       "    <tr>\n",
       "      <th>DIAS_FUNCIONAMENTO</th>\n",
       "      <td>0.0077</td>\n",
       "      <td>0.000000</td>\n",
       "      <td>16.733</td>\n",
       "      <td>0.000</td>\n",
       "    </tr>\n",
       "    <tr>\n",
       "      <th>SALAS_COMPLEXO_INFERIDO</th>\n",
       "      <td>0.1399</td>\n",
       "      <td>0.021000</td>\n",
       "      <td>6.687</td>\n",
       "      <td>0.000</td>\n",
       "    </tr>\n",
       "    <tr>\n",
       "      <th>ASSENTOS_COMPLEXO_INFERIDO</th>\n",
       "      <td>0.0005</td>\n",
       "      <td>0.000077</td>\n",
       "      <td>6.032</td>\n",
       "      <td>0.000</td>\n",
       "    </tr>\n",
       "  </tbody>\n",
       "</table>\n",
       "</div>"
      ],
      "text/plain": [
       "                                        coef   std err       t  P>|t|\n",
       "CUMP_LINEAR                           1.3501  0.204000   6.632  0.000\n",
       "OBRIGAÇÃO_FINAL_POR_SALA              0.0200  0.003000   5.768  0.000\n",
       "CUMP_LINEAR:OBRIGAÇÃO_FINAL_POR_SALA -0.0132  0.004000  -3.100  0.002\n",
       "DIAS_FUNCIONAMENTO                    0.0077  0.000000  16.733  0.000\n",
       "SALAS_COMPLEXO_INFERIDO               0.1399  0.021000   6.687  0.000\n",
       "ASSENTOS_COMPLEXO_INFERIDO            0.0005  0.000077   6.032  0.000"
      ]
     },
     "execution_count": 204,
     "metadata": {},
     "output_type": "execute_result"
    }
   ],
   "source": [
    "pd.read_html(reg_w91.summary().tables[1].as_html(),header=0,index_col=0)[0].iloc[-6:,:-2]"
   ]
  },
  {
   "cell_type": "code",
   "execution_count": 205,
   "metadata": {
    "ExecuteTime": {
     "end_time": "2021-07-16T03:17:39.981479Z",
     "start_time": "2021-07-16T03:17:39.565568Z"
    }
   },
   "outputs": [
    {
     "data": {
      "text/html": [
       "<div>\n",
       "<style scoped>\n",
       "    .dataframe tbody tr th:only-of-type {\n",
       "        vertical-align: middle;\n",
       "    }\n",
       "\n",
       "    .dataframe tbody tr th {\n",
       "        vertical-align: top;\n",
       "    }\n",
       "\n",
       "    .dataframe thead th {\n",
       "        text-align: right;\n",
       "    }\n",
       "</style>\n",
       "<table border=\"1\" class=\"dataframe\">\n",
       "  <thead>\n",
       "    <tr style=\"text-align: right;\">\n",
       "      <th></th>\n",
       "      <th>coef</th>\n",
       "      <th>std err</th>\n",
       "      <th>t</th>\n",
       "      <th>P&gt;|t|</th>\n",
       "    </tr>\n",
       "  </thead>\n",
       "  <tbody>\n",
       "    <tr>\n",
       "      <th>CUMP_LINEAR</th>\n",
       "      <td>-0.1913</td>\n",
       "      <td>0.237000</td>\n",
       "      <td>-0.808</td>\n",
       "      <td>0.419</td>\n",
       "    </tr>\n",
       "    <tr>\n",
       "      <th>OBRIGAÇÃO_FINAL_POR_SALA</th>\n",
       "      <td>0.0098</td>\n",
       "      <td>0.004000</td>\n",
       "      <td>2.431</td>\n",
       "      <td>0.015</td>\n",
       "    </tr>\n",
       "    <tr>\n",
       "      <th>CUMP_LINEAR:OBRIGAÇÃO_FINAL_POR_SALA</th>\n",
       "      <td>0.0182</td>\n",
       "      <td>0.005000</td>\n",
       "      <td>3.697</td>\n",
       "      <td>0.000</td>\n",
       "    </tr>\n",
       "    <tr>\n",
       "      <th>DIAS_FUNCIONAMENTO</th>\n",
       "      <td>0.0052</td>\n",
       "      <td>0.001000</td>\n",
       "      <td>9.719</td>\n",
       "      <td>0.000</td>\n",
       "    </tr>\n",
       "    <tr>\n",
       "      <th>SALAS_COMPLEXO_INFERIDO</th>\n",
       "      <td>0.1048</td>\n",
       "      <td>0.024000</td>\n",
       "      <td>4.339</td>\n",
       "      <td>0.000</td>\n",
       "    </tr>\n",
       "    <tr>\n",
       "      <th>ASSENTOS_COMPLEXO_INFERIDO</th>\n",
       "      <td>0.0005</td>\n",
       "      <td>0.000088</td>\n",
       "      <td>5.882</td>\n",
       "      <td>0.000</td>\n",
       "    </tr>\n",
       "  </tbody>\n",
       "</table>\n",
       "</div>"
      ],
      "text/plain": [
       "                                        coef   std err      t  P>|t|\n",
       "CUMP_LINEAR                          -0.1913  0.237000 -0.808  0.419\n",
       "OBRIGAÇÃO_FINAL_POR_SALA              0.0098  0.004000  2.431  0.015\n",
       "CUMP_LINEAR:OBRIGAÇÃO_FINAL_POR_SALA  0.0182  0.005000  3.697  0.000\n",
       "DIAS_FUNCIONAMENTO                    0.0052  0.001000  9.719  0.000\n",
       "SALAS_COMPLEXO_INFERIDO               0.1048  0.024000  4.339  0.000\n",
       "ASSENTOS_COMPLEXO_INFERIDO            0.0005  0.000088  5.882  0.000"
      ]
     },
     "execution_count": 205,
     "metadata": {},
     "output_type": "execute_result"
    }
   ],
   "source": [
    "pd.read_html(reg_w92.summary().tables[1].as_html(),header=0,index_col=0)[0].iloc[-6:,:-2]"
   ]
  },
  {
   "cell_type": "markdown",
   "metadata": {},
   "source": [
    "###### Triweight kernel"
   ]
  },
  {
   "cell_type": "code",
   "execution_count": 206,
   "metadata": {
    "ExecuteTime": {
     "end_time": "2021-07-16T03:17:41.143267Z",
     "start_time": "2021-07-16T03:17:39.983463Z"
    }
   },
   "outputs": [],
   "source": [
    "formul = 'np.log(PUBLICO) ~ CUMP_TRIWEIGHT*OBRIGAÇÃO_FINAL_POR_SALA + DIAS_FUNCIONAMENTO + SALAS_COMPLEXO_INFERIDO + ASSENTOS_COMPLEXO_INFERIDO + C(ANO_CINEMATOGRAFICO)*C(MUN_COMPLEXO)'\n",
    "data = [tds_1718, est_1718, bras_1718]\n",
    "\n",
    "# all\n",
    "reg_w93 = smf.ols(formula = formul, data=data[0]).fit()\n",
    "\n",
    "# foreign\n",
    "reg_w94 = smf.ols(formula = formul, data=data[1]).fit()\n",
    "\n",
    "# Brazilian\n",
    "reg_w95 = smf.ols(formula = formul, data=data[2]).fit()"
   ]
  },
  {
   "cell_type": "code",
   "execution_count": 207,
   "metadata": {
    "ExecuteTime": {
     "end_time": "2021-07-16T03:17:41.511258Z",
     "start_time": "2021-07-16T03:17:41.143267Z"
    },
    "scrolled": true
   },
   "outputs": [
    {
     "data": {
      "text/html": [
       "<div>\n",
       "<style scoped>\n",
       "    .dataframe tbody tr th:only-of-type {\n",
       "        vertical-align: middle;\n",
       "    }\n",
       "\n",
       "    .dataframe tbody tr th {\n",
       "        vertical-align: top;\n",
       "    }\n",
       "\n",
       "    .dataframe thead th {\n",
       "        text-align: right;\n",
       "    }\n",
       "</style>\n",
       "<table border=\"1\" class=\"dataframe\">\n",
       "  <thead>\n",
       "    <tr style=\"text-align: right;\">\n",
       "      <th></th>\n",
       "      <th>coef</th>\n",
       "      <th>std err</th>\n",
       "      <th>t</th>\n",
       "      <th>P&gt;|t|</th>\n",
       "    </tr>\n",
       "  </thead>\n",
       "  <tbody>\n",
       "    <tr>\n",
       "      <th>CUMP_TRIWEIGHT</th>\n",
       "      <td>0.8429</td>\n",
       "      <td>0.157000</td>\n",
       "      <td>5.363</td>\n",
       "      <td>0.000</td>\n",
       "    </tr>\n",
       "    <tr>\n",
       "      <th>OBRIGAÇÃO_FINAL_POR_SALA</th>\n",
       "      <td>0.0175</td>\n",
       "      <td>0.003000</td>\n",
       "      <td>6.504</td>\n",
       "      <td>0.000</td>\n",
       "    </tr>\n",
       "    <tr>\n",
       "      <th>CUMP_TRIWEIGHT:OBRIGAÇÃO_FINAL_POR_SALA</th>\n",
       "      <td>-0.0075</td>\n",
       "      <td>0.003000</td>\n",
       "      <td>-2.354</td>\n",
       "      <td>0.019</td>\n",
       "    </tr>\n",
       "    <tr>\n",
       "      <th>DIAS_FUNCIONAMENTO</th>\n",
       "      <td>0.0072</td>\n",
       "      <td>0.000000</td>\n",
       "      <td>18.479</td>\n",
       "      <td>0.000</td>\n",
       "    </tr>\n",
       "    <tr>\n",
       "      <th>SALAS_COMPLEXO_INFERIDO</th>\n",
       "      <td>0.1342</td>\n",
       "      <td>0.018000</td>\n",
       "      <td>7.404</td>\n",
       "      <td>0.000</td>\n",
       "    </tr>\n",
       "    <tr>\n",
       "      <th>ASSENTOS_COMPLEXO_INFERIDO</th>\n",
       "      <td>0.0005</td>\n",
       "      <td>0.000066</td>\n",
       "      <td>6.883</td>\n",
       "      <td>0.000</td>\n",
       "    </tr>\n",
       "  </tbody>\n",
       "</table>\n",
       "</div>"
      ],
      "text/plain": [
       "                                           coef   std err       t  P>|t|\n",
       "CUMP_TRIWEIGHT                           0.8429  0.157000   5.363  0.000\n",
       "OBRIGAÇÃO_FINAL_POR_SALA                 0.0175  0.003000   6.504  0.000\n",
       "CUMP_TRIWEIGHT:OBRIGAÇÃO_FINAL_POR_SALA -0.0075  0.003000  -2.354  0.019\n",
       "DIAS_FUNCIONAMENTO                       0.0072  0.000000  18.479  0.000\n",
       "SALAS_COMPLEXO_INFERIDO                  0.1342  0.018000   7.404  0.000\n",
       "ASSENTOS_COMPLEXO_INFERIDO               0.0005  0.000066   6.883  0.000"
      ]
     },
     "execution_count": 207,
     "metadata": {},
     "output_type": "execute_result"
    }
   ],
   "source": [
    "pd.read_html(reg_w93.summary().tables[1].as_html(),header=0,index_col=0)[0].iloc[-6:,:-2]"
   ]
  },
  {
   "cell_type": "code",
   "execution_count": 208,
   "metadata": {
    "ExecuteTime": {
     "end_time": "2021-07-16T03:17:41.866409Z",
     "start_time": "2021-07-16T03:17:41.513232Z"
    }
   },
   "outputs": [
    {
     "data": {
      "text/html": [
       "<div>\n",
       "<style scoped>\n",
       "    .dataframe tbody tr th:only-of-type {\n",
       "        vertical-align: middle;\n",
       "    }\n",
       "\n",
       "    .dataframe tbody tr th {\n",
       "        vertical-align: top;\n",
       "    }\n",
       "\n",
       "    .dataframe thead th {\n",
       "        text-align: right;\n",
       "    }\n",
       "</style>\n",
       "<table border=\"1\" class=\"dataframe\">\n",
       "  <thead>\n",
       "    <tr style=\"text-align: right;\">\n",
       "      <th></th>\n",
       "      <th>coef</th>\n",
       "      <th>std err</th>\n",
       "      <th>t</th>\n",
       "      <th>P&gt;|t|</th>\n",
       "    </tr>\n",
       "  </thead>\n",
       "  <tbody>\n",
       "    <tr>\n",
       "      <th>CUMP_TRIWEIGHT</th>\n",
       "      <td>1.2052</td>\n",
       "      <td>0.183000</td>\n",
       "      <td>6.572</td>\n",
       "      <td>0.0</td>\n",
       "    </tr>\n",
       "    <tr>\n",
       "      <th>OBRIGAÇÃO_FINAL_POR_SALA</th>\n",
       "      <td>0.0202</td>\n",
       "      <td>0.003000</td>\n",
       "      <td>6.474</td>\n",
       "      <td>0.0</td>\n",
       "    </tr>\n",
       "    <tr>\n",
       "      <th>CUMP_TRIWEIGHT:OBRIGAÇÃO_FINAL_POR_SALA</th>\n",
       "      <td>-0.0133</td>\n",
       "      <td>0.004000</td>\n",
       "      <td>-3.585</td>\n",
       "      <td>0.0</td>\n",
       "    </tr>\n",
       "    <tr>\n",
       "      <th>DIAS_FUNCIONAMENTO</th>\n",
       "      <td>0.0078</td>\n",
       "      <td>0.000000</td>\n",
       "      <td>17.072</td>\n",
       "      <td>0.0</td>\n",
       "    </tr>\n",
       "    <tr>\n",
       "      <th>SALAS_COMPLEXO_INFERIDO</th>\n",
       "      <td>0.1431</td>\n",
       "      <td>0.021000</td>\n",
       "      <td>6.803</td>\n",
       "      <td>0.0</td>\n",
       "    </tr>\n",
       "    <tr>\n",
       "      <th>ASSENTOS_COMPLEXO_INFERIDO</th>\n",
       "      <td>0.0005</td>\n",
       "      <td>0.000077</td>\n",
       "      <td>5.958</td>\n",
       "      <td>0.0</td>\n",
       "    </tr>\n",
       "  </tbody>\n",
       "</table>\n",
       "</div>"
      ],
      "text/plain": [
       "                                           coef   std err       t  P>|t|\n",
       "CUMP_TRIWEIGHT                           1.2052  0.183000   6.572    0.0\n",
       "OBRIGAÇÃO_FINAL_POR_SALA                 0.0202  0.003000   6.474    0.0\n",
       "CUMP_TRIWEIGHT:OBRIGAÇÃO_FINAL_POR_SALA -0.0133  0.004000  -3.585    0.0\n",
       "DIAS_FUNCIONAMENTO                       0.0078  0.000000  17.072    0.0\n",
       "SALAS_COMPLEXO_INFERIDO                  0.1431  0.021000   6.803    0.0\n",
       "ASSENTOS_COMPLEXO_INFERIDO               0.0005  0.000077   5.958    0.0"
      ]
     },
     "execution_count": 208,
     "metadata": {},
     "output_type": "execute_result"
    }
   ],
   "source": [
    "pd.read_html(reg_w94.summary().tables[1].as_html(),header=0,index_col=0)[0].iloc[-6:,:-2]"
   ]
  },
  {
   "cell_type": "code",
   "execution_count": 209,
   "metadata": {
    "ExecuteTime": {
     "end_time": "2021-07-16T03:17:42.222390Z",
     "start_time": "2021-07-16T03:17:41.867412Z"
    },
    "scrolled": true
   },
   "outputs": [
    {
     "data": {
      "text/html": [
       "<div>\n",
       "<style scoped>\n",
       "    .dataframe tbody tr th:only-of-type {\n",
       "        vertical-align: middle;\n",
       "    }\n",
       "\n",
       "    .dataframe tbody tr th {\n",
       "        vertical-align: top;\n",
       "    }\n",
       "\n",
       "    .dataframe thead th {\n",
       "        text-align: right;\n",
       "    }\n",
       "</style>\n",
       "<table border=\"1\" class=\"dataframe\">\n",
       "  <thead>\n",
       "    <tr style=\"text-align: right;\">\n",
       "      <th></th>\n",
       "      <th>coef</th>\n",
       "      <th>std err</th>\n",
       "      <th>t</th>\n",
       "      <th>P&gt;|t|</th>\n",
       "    </tr>\n",
       "  </thead>\n",
       "  <tbody>\n",
       "    <tr>\n",
       "      <th>CUMP_TRIWEIGHT</th>\n",
       "      <td>-0.0292</td>\n",
       "      <td>0.210000</td>\n",
       "      <td>-0.139</td>\n",
       "      <td>0.890</td>\n",
       "    </tr>\n",
       "    <tr>\n",
       "      <th>OBRIGAÇÃO_FINAL_POR_SALA</th>\n",
       "      <td>0.0132</td>\n",
       "      <td>0.004000</td>\n",
       "      <td>3.682</td>\n",
       "      <td>0.000</td>\n",
       "    </tr>\n",
       "    <tr>\n",
       "      <th>CUMP_TRIWEIGHT:OBRIGAÇÃO_FINAL_POR_SALA</th>\n",
       "      <td>0.0140</td>\n",
       "      <td>0.004000</td>\n",
       "      <td>3.301</td>\n",
       "      <td>0.001</td>\n",
       "    </tr>\n",
       "    <tr>\n",
       "      <th>DIAS_FUNCIONAMENTO</th>\n",
       "      <td>0.0050</td>\n",
       "      <td>0.001000</td>\n",
       "      <td>9.503</td>\n",
       "      <td>0.000</td>\n",
       "    </tr>\n",
       "    <tr>\n",
       "      <th>SALAS_COMPLEXO_INFERIDO</th>\n",
       "      <td>0.1019</td>\n",
       "      <td>0.024000</td>\n",
       "      <td>4.236</td>\n",
       "      <td>0.000</td>\n",
       "    </tr>\n",
       "    <tr>\n",
       "      <th>ASSENTOS_COMPLEXO_INFERIDO</th>\n",
       "      <td>0.0005</td>\n",
       "      <td>0.000088</td>\n",
       "      <td>5.915</td>\n",
       "      <td>0.000</td>\n",
       "    </tr>\n",
       "  </tbody>\n",
       "</table>\n",
       "</div>"
      ],
      "text/plain": [
       "                                           coef   std err      t  P>|t|\n",
       "CUMP_TRIWEIGHT                          -0.0292  0.210000 -0.139  0.890\n",
       "OBRIGAÇÃO_FINAL_POR_SALA                 0.0132  0.004000  3.682  0.000\n",
       "CUMP_TRIWEIGHT:OBRIGAÇÃO_FINAL_POR_SALA  0.0140  0.004000  3.301  0.001\n",
       "DIAS_FUNCIONAMENTO                       0.0050  0.001000  9.503  0.000\n",
       "SALAS_COMPLEXO_INFERIDO                  0.1019  0.024000  4.236  0.000\n",
       "ASSENTOS_COMPLEXO_INFERIDO               0.0005  0.000088  5.915  0.000"
      ]
     },
     "execution_count": 209,
     "metadata": {},
     "output_type": "execute_result"
    }
   ],
   "source": [
    "pd.read_html(reg_w95.summary().tables[1].as_html(),header=0,index_col=0)[0].iloc[-6:,:-2]"
   ]
  },
  {
   "cell_type": "markdown",
   "metadata": {},
   "source": [
    "### Dependent variable: different titles"
   ]
  },
  {
   "cell_type": "code",
   "execution_count": 210,
   "metadata": {
    "ExecuteTime": {
     "end_time": "2021-07-16T03:17:47.904968Z",
     "start_time": "2021-07-16T03:17:47.841835Z"
    }
   },
   "outputs": [],
   "source": [
    "c_weighted = {}\n",
    "\n",
    "wcount = 96\n",
    "\n",
    "weight_funcs = [\n",
    "    'CUMP_QUADRATIC','CUMP_NORMALIZADO', 'CUMP_LINEAR','CUMP_TRIWEIGHT']\n",
    "\n",
    "f1 = 'QTDE_DIF_TIT_EXIB ~ '\n",
    "f2 = 'QTDE_DIF_TIT_EXIB_EST ~'\n",
    "f3 = 'QTDE_DIF_TIT_EXIB_BR ~ '\n",
    "\n",
    "formules = [f1, f2, f3]"
   ]
  },
  {
   "cell_type": "markdown",
   "metadata": {},
   "source": [
    "#### With entity fixed-effects"
   ]
  },
  {
   "cell_type": "markdown",
   "metadata": {},
   "source": [
    "##### 2017-2019"
   ]
  },
  {
   "cell_type": "code",
   "execution_count": 211,
   "metadata": {
    "ExecuteTime": {
     "end_time": "2021-07-16T03:17:57.622530Z",
     "start_time": "2021-07-16T03:17:49.761752Z"
    }
   },
   "outputs": [],
   "source": [
    "last_wcount = wcount # to get num range of regressions to be executed\n",
    "\n",
    "dat = tds_1719 # define data\n",
    "\n",
    "for f in weight_funcs: # loop over weighting functions\n",
    "    for form in formules: # loop over formulas\n",
    "        formul = form + f'{f}*OBRIGAÇÃO_FINAL_POR_SALA + DIAS_FUNCIONAMENTO + C(REGISTRO_COMPLEXO) + C(ANO_CINEMATOGRAFICO)'\n",
    "        c_weighted[f'reg_cw{wcount}'] = smf.ols(formula = formul, data = dat).fit()\n",
    "        wcount += 1"
   ]
  },
  {
   "cell_type": "code",
   "execution_count": 212,
   "metadata": {
    "ExecuteTime": {
     "end_time": "2021-07-16T03:18:02.573328Z",
     "start_time": "2021-07-16T03:17:57.624535Z"
    }
   },
   "outputs": [
    {
     "name": "stdout",
     "output_type": "stream",
     "text": [
      "Reg_comp_weighted 96, ALL, weighting function CUMP_QUADRATIC:\n",
      "                                            coef  std err       t  P>|t|\n",
      "CUMP_QUADRATIC                          -15.6437    3.134  -4.991  0.000\n",
      "OBRIGAÇÃO_FINAL_POR_SALA                 -0.2456    0.071  -3.454  0.001\n",
      "CUMP_QUADRATIC:OBRIGAÇÃO_FINAL_POR_SALA   0.3587    0.082   4.390  0.000\n",
      "DIAS_FUNCIONAMENTO                        0.2089    0.005  38.558  0.000\n",
      "\n",
      "\n",
      "Reg_comp_weighted 97, FOREIGN, weighting function CUMP_QUADRATIC:\n",
      "                                            coef  std err       t  P>|t|\n",
      "CUMP_QUADRATIC                          -10.7872    2.519  -4.282  0.000\n",
      "OBRIGAÇÃO_FINAL_POR_SALA                 -0.1340    0.057  -2.345  0.019\n",
      "CUMP_QUADRATIC:OBRIGAÇÃO_FINAL_POR_SALA   0.1878    0.066   2.860  0.004\n",
      "DIAS_FUNCIONAMENTO                        0.1727    0.004  39.665  0.000\n",
      "\n",
      "\n",
      "Reg_comp_weighted 98, BRAZILIAN, weighting function CUMP_QUADRATIC:\n",
      "                                           coef  std err       t  P>|t|\n",
      "CUMP_QUADRATIC                          -4.8565    1.364  -3.559    0.0\n",
      "OBRIGAÇÃO_FINAL_POR_SALA                -0.1116    0.031  -3.605    0.0\n",
      "CUMP_QUADRATIC:OBRIGAÇÃO_FINAL_POR_SALA  0.1709    0.036   4.805    0.0\n",
      "DIAS_FUNCIONAMENTO                       0.0362    0.002  15.345    0.0\n",
      "\n",
      "\n",
      "Reg_comp_weighted 99, ALL, weighting function CUMP_NORMALIZADO:\n",
      "                                              coef  std err       t  P>|t|\n",
      "CUMP_NORMALIZADO                          -56.9060   12.988  -4.381  0.000\n",
      "OBRIGAÇÃO_FINAL_POR_SALA                   -0.4822    0.143  -3.365  0.001\n",
      "CUMP_NORMALIZADO:OBRIGAÇÃO_FINAL_POR_SALA   1.4377    0.385   3.734  0.000\n",
      "DIAS_FUNCIONAMENTO                          0.2074    0.005  38.445  0.000\n",
      "\n",
      "\n",
      "Reg_comp_weighted 100, FOREIGN, weighting function CUMP_NORMALIZADO:\n",
      "                                              coef  std err       t  P>|t|\n",
      "CUMP_NORMALIZADO                          -35.7039   10.450  -3.417  0.001\n",
      "OBRIGAÇÃO_FINAL_POR_SALA                   -0.2639    0.115  -2.289  0.022\n",
      "CUMP_NORMALIZADO:OBRIGAÇÃO_FINAL_POR_SALA   0.7542    0.310   2.435  0.015\n",
      "DIAS_FUNCIONAMENTO                          0.1713    0.004  39.450  0.000\n",
      "\n",
      "\n",
      "Reg_comp_weighted 101, BRAZILIAN, weighting function CUMP_NORMALIZADO:\n",
      "                                              coef  std err       t  P>|t|\n",
      "CUMP_NORMALIZADO                          -21.2021    5.659  -3.747    0.0\n",
      "OBRIGAÇÃO_FINAL_POR_SALA                   -0.2183    0.062  -3.496    0.0\n",
      "CUMP_NORMALIZADO:OBRIGAÇÃO_FINAL_POR_SALA   0.6835    0.168   4.074    0.0\n",
      "DIAS_FUNCIONAMENTO                          0.0362    0.002  15.384    0.0\n",
      "\n",
      "\n",
      "Reg_comp_weighted 102, ALL, weighting function CUMP_LINEAR:\n",
      "                                         coef  std err       t  P>|t|\n",
      "CUMP_LINEAR                          -14.3957    3.163  -4.551  0.000\n",
      "OBRIGAÇÃO_FINAL_POR_SALA              -0.1508    0.054  -2.770  0.006\n",
      "CUMP_LINEAR:OBRIGAÇÃO_FINAL_POR_SALA   0.2924    0.071   4.096  0.000\n",
      "DIAS_FUNCIONAMENTO                     0.2080    0.005  38.475  0.000\n",
      "\n",
      "\n",
      "Reg_comp_weighted 103, FOREIGN, weighting function CUMP_LINEAR:\n",
      "                                         coef  std err       t  P>|t|\n",
      "CUMP_LINEAR                          -10.5113    2.537  -4.143  0.000\n",
      "OBRIGAÇÃO_FINAL_POR_SALA              -0.0779    0.044  -1.784  0.075\n",
      "CUMP_LINEAR:OBRIGAÇÃO_FINAL_POR_SALA   0.1510    0.057   2.638  0.008\n",
      "DIAS_FUNCIONAMENTO                     0.1721    0.004  39.683  0.000\n",
      "\n",
      "\n",
      "Reg_comp_weighted 104, BRAZILIAN, weighting function CUMP_LINEAR:\n",
      "                                        coef  std err       t  P>|t|\n",
      "CUMP_LINEAR                          -3.8844    1.373  -2.829  0.005\n",
      "OBRIGAÇÃO_FINAL_POR_SALA             -0.0729    0.024  -3.084  0.002\n",
      "CUMP_LINEAR:OBRIGAÇÃO_FINAL_POR_SALA  0.1413    0.031   4.562  0.000\n",
      "DIAS_FUNCIONAMENTO                    0.0359    0.002  15.307  0.000\n",
      "\n",
      "\n",
      "Reg_comp_weighted 105, ALL, weighting function CUMP_TRIWEIGHT:\n",
      "                                            coef  std err       t  P>|t|\n",
      "CUMP_TRIWEIGHT                          -10.6532    2.712  -3.928  0.000\n",
      "OBRIGAÇÃO_FINAL_POR_SALA                 -0.0976    0.047  -2.088  0.037\n",
      "CUMP_TRIWEIGHT:OBRIGAÇÃO_FINAL_POR_SALA   0.2146    0.060   3.558  0.000\n",
      "DIAS_FUNCIONAMENTO                        0.2065    0.005  38.344  0.000\n",
      "\n",
      "\n",
      "Reg_comp_weighted 106, FOREIGN, weighting function CUMP_TRIWEIGHT:\n",
      "                                           coef  std err       t  P>|t|\n",
      "CUMP_TRIWEIGHT                          -7.9325    2.174  -3.649  0.000\n",
      "OBRIGAÇÃO_FINAL_POR_SALA                -0.0489    0.037  -1.306  0.192\n",
      "CUMP_TRIWEIGHT:OBRIGAÇÃO_FINAL_POR_SALA  0.1056    0.048   2.185  0.029\n",
      "DIAS_FUNCIONAMENTO                       0.1712    0.004  39.644  0.000\n",
      "\n",
      "\n",
      "Reg_comp_weighted 107, BRAZILIAN, weighting function CUMP_TRIWEIGHT:\n",
      "                                           coef  std err       t  P>|t|\n",
      "CUMP_TRIWEIGHT                          -2.7207    1.175  -2.315  0.021\n",
      "OBRIGAÇÃO_FINAL_POR_SALA                -0.0487    0.020  -2.402  0.016\n",
      "CUMP_TRIWEIGHT:OBRIGAÇÃO_FINAL_POR_SALA  0.1089    0.026   4.169  0.000\n",
      "DIAS_FUNCIONAMENTO                       0.0354    0.002  15.160  0.000\n",
      "\n",
      "\n"
     ]
    }
   ],
   "source": [
    "works = ['ALL', 'FOREIGN', 'BRAZILIAN']\n",
    "\n",
    "for i in range(last_wcount, wcount):\n",
    "    print(f'Reg_comp_weighted {i}, {works[i%3]}, weighting function {weight_funcs[(i-last_wcount)//3]}:')\n",
    "    print(pd.read_html(c_weighted[f'reg_cw{i}'].summary().\n",
    "                       tables[1].as_html(),header=0,index_col=0)[0].iloc[-4:,:-2])\n",
    "    print('\\n')"
   ]
  },
  {
   "cell_type": "markdown",
   "metadata": {},
   "source": [
    "##### 2017-2018"
   ]
  },
  {
   "cell_type": "code",
   "execution_count": 213,
   "metadata": {
    "ExecuteTime": {
     "end_time": "2021-07-16T03:20:38.808465Z",
     "start_time": "2021-07-16T03:20:34.740496Z"
    }
   },
   "outputs": [],
   "source": [
    "last_wcount = wcount # to get num range of regressions to be executed\n",
    "\n",
    "dat = tds_1718 # define data\n",
    "\n",
    "for f in weight_funcs: # loop over weighting functions\n",
    "    for form in formules: # loop over formulas\n",
    "        formul = form + f'{f}*OBRIGAÇÃO_FINAL_POR_SALA + DIAS_FUNCIONAMENTO + C(REGISTRO_COMPLEXO) + C(ANO_CINEMATOGRAFICO)'\n",
    "        c_weighted[f'reg_cw{wcount}'] = smf.ols(formula = formul, data = dat).fit()\n",
    "        wcount += 1"
   ]
  },
  {
   "cell_type": "code",
   "execution_count": 214,
   "metadata": {
    "ExecuteTime": {
     "end_time": "2021-07-16T03:20:44.998639Z",
     "start_time": "2021-07-16T03:20:40.619687Z"
    }
   },
   "outputs": [
    {
     "name": "stdout",
     "output_type": "stream",
     "text": [
      "Reg_comp_weighted 108, ALL, weighting function CUMP_QUADRATIC:\n",
      "                                            coef  std err       t  P>|t|\n",
      "CUMP_QUADRATIC                          -13.6905    3.392  -4.036  0.000\n",
      "OBRIGAÇÃO_FINAL_POR_SALA                 -0.1061    0.077  -1.376  0.169\n",
      "CUMP_QUADRATIC:OBRIGAÇÃO_FINAL_POR_SALA   0.3065    0.089   3.449  0.001\n",
      "DIAS_FUNCIONAMENTO                        0.1731    0.007  24.025  0.000\n",
      "\n",
      "\n",
      "Reg_comp_weighted 109, FOREIGN, weighting function CUMP_QUADRATIC:\n",
      "                                           coef  std err       t  P>|t|\n",
      "CUMP_QUADRATIC                          -8.7266    2.778  -3.142  0.002\n",
      "OBRIGAÇÃO_FINAL_POR_SALA                 0.0292    0.063   0.463  0.644\n",
      "CUMP_QUADRATIC:OBRIGAÇÃO_FINAL_POR_SALA  0.1588    0.073   2.182  0.029\n",
      "DIAS_FUNCIONAMENTO                       0.1397    0.006  23.670  0.000\n",
      "\n",
      "\n",
      "Reg_comp_weighted 110, BRAZILIAN, weighting function CUMP_QUADRATIC:\n",
      "                                           coef  std err      t  P>|t|\n",
      "CUMP_QUADRATIC                          -4.9639    1.688 -2.941  0.003\n",
      "OBRIGAÇÃO_FINAL_POR_SALA                -0.1353    0.038 -3.528  0.000\n",
      "CUMP_QUADRATIC:OBRIGAÇÃO_FINAL_POR_SALA  0.1477    0.044  3.341  0.001\n",
      "DIAS_FUNCIONAMENTO                       0.0335    0.004  9.333  0.000\n",
      "\n",
      "\n",
      "Reg_comp_weighted 111, ALL, weighting function CUMP_NORMALIZADO:\n",
      "                                              coef  std err       t  P>|t|\n",
      "CUMP_NORMALIZADO                          -64.2261   14.557  -4.412  0.000\n",
      "OBRIGAÇÃO_FINAL_POR_SALA                   -0.3674    0.153  -2.403  0.016\n",
      "CUMP_NORMALIZADO:OBRIGAÇÃO_FINAL_POR_SALA   1.4093    0.421   3.344  0.001\n",
      "DIAS_FUNCIONAMENTO                          0.1728    0.007  24.354  0.000\n",
      "\n",
      "\n",
      "Reg_comp_weighted 112, FOREIGN, weighting function CUMP_NORMALIZADO:\n",
      "                                              coef  std err       t  P>|t|\n",
      "CUMP_NORMALIZADO                          -31.5480   11.981  -2.633  0.009\n",
      "OBRIGAÇÃO_FINAL_POR_SALA                   -0.0831    0.126  -0.660  0.509\n",
      "CUMP_NORMALIZADO:OBRIGAÇÃO_FINAL_POR_SALA   0.6705    0.347   1.933  0.054\n",
      "DIAS_FUNCIONAMENTO                          0.1379    0.006  23.605  0.000\n",
      "\n",
      "\n",
      "Reg_comp_weighted 113, BRAZILIAN, weighting function CUMP_NORMALIZADO:\n",
      "                                              coef  std err      t  P>|t|\n",
      "CUMP_NORMALIZADO                          -32.6781    7.212 -4.531    0.0\n",
      "OBRIGAÇÃO_FINAL_POR_SALA                   -0.2844    0.076 -3.754    0.0\n",
      "CUMP_NORMALIZADO:OBRIGAÇÃO_FINAL_POR_SALA   0.7388    0.209  3.538    0.0\n",
      "DIAS_FUNCIONAMENTO                          0.0350    0.004  9.941    0.0\n",
      "\n",
      "\n",
      "Reg_comp_weighted 114, ALL, weighting function CUMP_LINEAR:\n",
      "                                         coef  std err       t  P>|t|\n",
      "CUMP_LINEAR                          -12.1444    3.416  -3.555  0.000\n",
      "OBRIGAÇÃO_FINAL_POR_SALA              -0.0242    0.064  -0.380  0.704\n",
      "CUMP_LINEAR:OBRIGAÇÃO_FINAL_POR_SALA   0.2371    0.079   2.988  0.003\n",
      "DIAS_FUNCIONAMENTO                     0.1718    0.007  24.025  0.000\n",
      "\n",
      "\n",
      "Reg_comp_weighted 115, FOREIGN, weighting function CUMP_LINEAR:\n",
      "                                        coef  std err       t  P>|t|\n",
      "CUMP_LINEAR                          -8.4056    2.790  -3.013  0.003\n",
      "OBRIGAÇÃO_FINAL_POR_SALA              0.0707    0.052   1.361  0.174\n",
      "CUMP_LINEAR:OBRIGAÇÃO_FINAL_POR_SALA  0.1248    0.065   1.926  0.054\n",
      "DIAS_FUNCIONAMENTO                    0.1391    0.006  23.815  0.000\n",
      "\n",
      "\n",
      "Reg_comp_weighted 116, BRAZILIAN, weighting function CUMP_LINEAR:\n",
      "                                        coef  std err      t  P>|t|\n",
      "CUMP_LINEAR                          -3.7388    1.698 -2.201  0.028\n",
      "OBRIGAÇÃO_FINAL_POR_SALA             -0.0949    0.032 -2.999  0.003\n",
      "CUMP_LINEAR:OBRIGAÇÃO_FINAL_POR_SALA  0.1123    0.039  2.847  0.005\n",
      "DIAS_FUNCIONAMENTO                    0.0328    0.004  9.211  0.000\n",
      "\n",
      "\n",
      "Reg_comp_weighted 117, ALL, weighting function CUMP_TRIWEIGHT:\n",
      "                                           coef  std err       t  P>|t|\n",
      "CUMP_TRIWEIGHT                          -9.0126    2.879  -3.130  0.002\n",
      "OBRIGAÇÃO_FINAL_POR_SALA                 0.0195    0.055   0.352  0.725\n",
      "CUMP_TRIWEIGHT:OBRIGAÇÃO_FINAL_POR_SALA  0.1805    0.067   2.712  0.007\n",
      "DIAS_FUNCIONAMENTO                       0.1696    0.007  23.840  0.000\n",
      "\n",
      "\n",
      "Reg_comp_weighted 118, FOREIGN, weighting function CUMP_TRIWEIGHT:\n",
      "                                           coef  std err       t  P>|t|\n",
      "CUMP_TRIWEIGHT                          -6.4755    2.348  -2.758  0.006\n",
      "OBRIGAÇÃO_FINAL_POR_SALA                 0.0936    0.045   2.075  0.038\n",
      "CUMP_TRIWEIGHT:OBRIGAÇÃO_FINAL_POR_SALA  0.0906    0.054   1.670  0.095\n",
      "DIAS_FUNCIONAMENTO                       0.1380    0.006  23.793  0.000\n",
      "\n",
      "\n",
      "Reg_comp_weighted 119, BRAZILIAN, weighting function CUMP_TRIWEIGHT:\n",
      "                                           coef  std err      t  P>|t|\n",
      "CUMP_TRIWEIGHT                          -2.5371    1.428 -1.777  0.076\n",
      "OBRIGAÇÃO_FINAL_POR_SALA                -0.0741    0.027 -2.701  0.007\n",
      "CUMP_TRIWEIGHT:OBRIGAÇÃO_FINAL_POR_SALA  0.0899    0.033  2.725  0.007\n",
      "DIAS_FUNCIONAMENTO                       0.0316    0.004  8.956  0.000\n",
      "\n",
      "\n"
     ]
    }
   ],
   "source": [
    "works = ['ALL', 'FOREIGN', 'BRAZILIAN']\n",
    "\n",
    "for i in range(last_wcount, wcount):\n",
    "    print(f'Reg_comp_weighted {i}, {works[i%3]}, weighting function {weight_funcs[(i-last_wcount)//3]}:')\n",
    "    print(pd.read_html(c_weighted[f'reg_cw{i}'].summary().\n",
    "                       tables[1].as_html(),header=0,index_col=0)[0].iloc[-4:,:-2])\n",
    "    print('\\n')"
   ]
  },
  {
   "cell_type": "markdown",
   "metadata": {},
   "source": [
    "#### Without entity fixed-effects"
   ]
  },
  {
   "cell_type": "markdown",
   "metadata": {},
   "source": [
    "##### 2017-2019"
   ]
  },
  {
   "cell_type": "code",
   "execution_count": 215,
   "metadata": {
    "ExecuteTime": {
     "end_time": "2021-07-16T03:23:20.321027Z",
     "start_time": "2021-07-16T03:23:01.188027Z"
    }
   },
   "outputs": [],
   "source": [
    "last_wcount = wcount # to get num range of regressions to be executed\n",
    "\n",
    "dat = tds_1719 # define data\n",
    "\n",
    "for f in weight_funcs: # loop over weighting functions\n",
    "    for form in formules: # loop over formulas\n",
    "        formul = form + f'{f}*OBRIGAÇÃO_FINAL_POR_SALA + DIAS_FUNCIONAMENTO + SALAS_COMPLEXO_INFERIDO + ASSENTOS_COMPLEXO_INFERIDO + C(ANO_CINEMATOGRAFICO)*C(MUN_COMPLEXO)'\n",
    "        c_weighted[f'reg_cw{wcount}'] = smf.ols(formula = formul, data = dat).fit()\n",
    "        wcount += 1"
   ]
  },
  {
   "cell_type": "code",
   "execution_count": 216,
   "metadata": {
    "ExecuteTime": {
     "end_time": "2021-07-16T03:23:27.114482Z",
     "start_time": "2021-07-16T03:23:20.323033Z"
    }
   },
   "outputs": [
    {
     "name": "stdout",
     "output_type": "stream",
     "text": [
      "Reg_comp_weighted 120, ALL, weighting function CUMP_QUADRATIC:\n",
      "                                            coef  std err       t  P>|t|\n",
      "CUMP_QUADRATIC:OBRIGAÇÃO_FINAL_POR_SALA   0.5031    0.224   2.247  0.025\n",
      "DIAS_FUNCIONAMENTO                        0.2271    0.013  17.181  0.000\n",
      "SALAS_COMPLEXO_INFERIDO                  14.9235    0.753  19.808  0.000\n",
      "ASSENTOS_COMPLEXO_INFERIDO               -0.0204    0.003  -7.202  0.000\n",
      "\n",
      "\n",
      "Reg_comp_weighted 121, FOREIGN, weighting function CUMP_QUADRATIC:\n",
      "                                            coef  std err       t  P>|t|\n",
      "CUMP_QUADRATIC:OBRIGAÇÃO_FINAL_POR_SALA   0.2507    0.155   1.622  0.105\n",
      "DIAS_FUNCIONAMENTO                        0.1934    0.009  21.199  0.000\n",
      "SALAS_COMPLEXO_INFERIDO                  11.4507    0.520  22.017  0.000\n",
      "ASSENTOS_COMPLEXO_INFERIDO               -0.0147    0.002  -7.533  0.000\n",
      "\n",
      "\n",
      "Reg_comp_weighted 122, BRAZILIAN, weighting function CUMP_QUADRATIC:\n",
      "                                           coef  std err       t  P>|t|\n",
      "CUMP_QUADRATIC:OBRIGAÇÃO_FINAL_POR_SALA  0.2524    0.094   2.698  0.007\n",
      "DIAS_FUNCIONAMENTO                       0.0337    0.006   6.096  0.000\n",
      "SALAS_COMPLEXO_INFERIDO                  3.4729    0.315  11.034  0.000\n",
      "ASSENTOS_COMPLEXO_INFERIDO              -0.0057    0.001  -4.793  0.000\n",
      "\n",
      "\n",
      "Reg_comp_weighted 123, ALL, weighting function CUMP_NORMALIZADO:\n",
      "                                              coef  std err       t  P>|t|\n",
      "CUMP_NORMALIZADO:OBRIGAÇÃO_FINAL_POR_SALA   1.3271    1.002   1.325  0.186\n",
      "DIAS_FUNCIONAMENTO                          0.2267    0.013  17.189  0.000\n",
      "SALAS_COMPLEXO_INFERIDO                    14.9630    0.753  19.873  0.000\n",
      "ASSENTOS_COMPLEXO_INFERIDO                 -0.0203    0.003  -7.190  0.000\n",
      "\n",
      "\n",
      "Reg_comp_weighted 124, FOREIGN, weighting function CUMP_NORMALIZADO:\n",
      "                                              coef  std err       t  P>|t|\n",
      "CUMP_NORMALIZADO:OBRIGAÇÃO_FINAL_POR_SALA   0.9871    0.691   1.428  0.154\n",
      "DIAS_FUNCIONAMENTO                          0.1925    0.009  21.146  0.000\n",
      "SALAS_COMPLEXO_INFERIDO                    11.4111    0.520  21.963  0.000\n",
      "ASSENTOS_COMPLEXO_INFERIDO                 -0.0147    0.002  -7.511  0.000\n",
      "\n",
      "\n",
      "Reg_comp_weighted 125, BRAZILIAN, weighting function CUMP_NORMALIZADO:\n",
      "                                             coef  std err       t  P>|t|\n",
      "CUMP_NORMALIZADO:OBRIGAÇÃO_FINAL_POR_SALA  0.3400    0.415   0.819  0.413\n",
      "DIAS_FUNCIONAMENTO                         0.0343    0.005   6.269  0.000\n",
      "SALAS_COMPLEXO_INFERIDO                    3.5519    0.312  11.387  0.000\n",
      "ASSENTOS_COMPLEXO_INFERIDO                -0.0057    0.001  -4.844  0.000\n",
      "\n",
      "\n",
      "Reg_comp_weighted 126, ALL, weighting function CUMP_LINEAR:\n",
      "                                         coef  std err       t  P>|t|\n",
      "CUMP_LINEAR:OBRIGAÇÃO_FINAL_POR_SALA   0.5371    0.194   2.770  0.006\n",
      "DIAS_FUNCIONAMENTO                     0.2249    0.013  17.043  0.000\n",
      "SALAS_COMPLEXO_INFERIDO               14.8431    0.754  19.690  0.000\n",
      "ASSENTOS_COMPLEXO_INFERIDO            -0.0203    0.003  -7.170  0.000\n",
      "\n",
      "\n",
      "Reg_comp_weighted 127, FOREIGN, weighting function CUMP_LINEAR:\n",
      "                                         coef  std err       t  P>|t|\n",
      "CUMP_LINEAR:OBRIGAÇÃO_FINAL_POR_SALA   0.2116    0.134   1.582  0.114\n",
      "DIAS_FUNCIONAMENTO                     0.1925    0.009  21.155  0.000\n",
      "SALAS_COMPLEXO_INFERIDO               11.4196    0.520  21.962  0.000\n",
      "ASSENTOS_COMPLEXO_INFERIDO            -0.0147    0.002  -7.521  0.000\n",
      "\n",
      "\n",
      "Reg_comp_weighted 128, BRAZILIAN, weighting function CUMP_LINEAR:\n",
      "                                        coef  std err       t  P>|t|\n",
      "CUMP_LINEAR:OBRIGAÇÃO_FINAL_POR_SALA  0.3255    0.081   4.010    0.0\n",
      "DIAS_FUNCIONAMENTO                    0.0323    0.006   5.854    0.0\n",
      "SALAS_COMPLEXO_INFERIDO               3.4236    0.316  10.848    0.0\n",
      "ASSENTOS_COMPLEXO_INFERIDO           -0.0056    0.001  -4.734    0.0\n",
      "\n",
      "\n",
      "Reg_comp_weighted 129, ALL, weighting function CUMP_TRIWEIGHT:\n",
      "                                            coef  std err       t  P>|t|\n",
      "CUMP_TRIWEIGHT:OBRIGAÇÃO_FINAL_POR_SALA   0.5059    0.169   2.998  0.003\n",
      "DIAS_FUNCIONAMENTO                        0.2237    0.013  17.012  0.000\n",
      "SALAS_COMPLEXO_INFERIDO                  14.8195    0.753  19.671  0.000\n",
      "ASSENTOS_COMPLEXO_INFERIDO               -0.0203    0.003  -7.167  0.000\n",
      "\n",
      "\n",
      "Reg_comp_weighted 130, FOREIGN, weighting function CUMP_TRIWEIGHT:\n",
      "                                            coef  std err       t  P>|t|\n",
      "CUMP_TRIWEIGHT:OBRIGAÇÃO_FINAL_POR_SALA   0.1994    0.116   1.712  0.087\n",
      "DIAS_FUNCIONAMENTO                        0.1925    0.009  21.215  0.000\n",
      "SALAS_COMPLEXO_INFERIDO                  11.4295    0.520  21.988  0.000\n",
      "ASSENTOS_COMPLEXO_INFERIDO               -0.0147    0.002  -7.530  0.000\n",
      "\n",
      "\n",
      "Reg_comp_weighted 131, BRAZILIAN, weighting function CUMP_TRIWEIGHT:\n",
      "                                           coef  std err       t  P>|t|\n",
      "CUMP_TRIWEIGHT:OBRIGAÇÃO_FINAL_POR_SALA  0.3066    0.071   4.334    0.0\n",
      "DIAS_FUNCIONAMENTO                       0.0312    0.006   5.665    0.0\n",
      "SALAS_COMPLEXO_INFERIDO                  3.3900    0.316  10.738    0.0\n",
      "ASSENTOS_COMPLEXO_INFERIDO              -0.0056    0.001  -4.704    0.0\n",
      "\n",
      "\n"
     ]
    }
   ],
   "source": [
    "works = ['ALL', 'FOREIGN', 'BRAZILIAN']\n",
    "\n",
    "for i in range(last_wcount, wcount):\n",
    "    print(f'Reg_comp_weighted {i}, {works[i%3]}, weighting function {weight_funcs[(i-last_wcount)//3]}:')\n",
    "    print(pd.read_html(c_weighted[f'reg_cw{i}'].summary().\n",
    "                       tables[1].as_html(),header=0,index_col=0)[0].iloc[-4:,:-2])\n",
    "    print('\\n')"
   ]
  },
  {
   "cell_type": "markdown",
   "metadata": {},
   "source": [
    "##### 2017-2018"
   ]
  },
  {
   "cell_type": "code",
   "execution_count": 217,
   "metadata": {
    "ExecuteTime": {
     "end_time": "2021-07-16T03:23:31.923980Z",
     "start_time": "2021-07-16T03:23:27.116488Z"
    }
   },
   "outputs": [],
   "source": [
    "last_wcount = wcount # to get num range of regressions to be executed\n",
    "\n",
    "dat = tds_1718 # define data\n",
    "\n",
    "for f in weight_funcs: # loop over weighting functions\n",
    "    for form in formules: # loop over formulas\n",
    "        formul = form + f'{f}*OBRIGAÇÃO_FINAL_POR_SALA + DIAS_FUNCIONAMENTO + SALAS_COMPLEXO_INFERIDO + ASSENTOS_COMPLEXO_INFERIDO + C(ANO_CINEMATOGRAFICO)*C(MUN_COMPLEXO)'\n",
    "        c_weighted[f'reg_cw{wcount}'] = smf.ols(formula = formul, data = dat).fit()\n",
    "        wcount += 1"
   ]
  },
  {
   "cell_type": "code",
   "execution_count": 218,
   "metadata": {
    "ExecuteTime": {
     "end_time": "2021-07-16T03:23:36.548838Z",
     "start_time": "2021-07-16T03:23:31.925986Z"
    }
   },
   "outputs": [
    {
     "name": "stdout",
     "output_type": "stream",
     "text": [
      "Reg_comp_weighted 132, ALL, weighting function CUMP_QUADRATIC:\n",
      "                                            coef  std err       t  P>|t|\n",
      "CUMP_QUADRATIC:OBRIGAÇÃO_FINAL_POR_SALA   0.4668    0.226   2.065  0.039\n",
      "DIAS_FUNCIONAMENTO                        0.2180    0.021  10.326  0.000\n",
      "SALAS_COMPLEXO_INFERIDO                  15.7523    0.965  16.330  0.000\n",
      "ASSENTOS_COMPLEXO_INFERIDO               -0.0228    0.004  -6.458  0.000\n",
      "\n",
      "\n",
      "Reg_comp_weighted 133, FOREIGN, weighting function CUMP_QUADRATIC:\n",
      "                                            coef  std err       t  P>|t|\n",
      "CUMP_QUADRATIC:OBRIGAÇÃO_FINAL_POR_SALA   0.2370    0.157   1.506  0.133\n",
      "DIAS_FUNCIONAMENTO                        0.1852    0.015  12.602  0.000\n",
      "SALAS_COMPLEXO_INFERIDO                  11.6487    0.672  17.344  0.000\n",
      "ASSENTOS_COMPLEXO_INFERIDO               -0.0153    0.002  -6.225  0.000\n",
      "\n",
      "\n",
      "Reg_comp_weighted 134, BRAZILIAN, weighting function CUMP_QUADRATIC:\n",
      "                                           coef  std err       t  P>|t|\n",
      "CUMP_QUADRATIC:OBRIGAÇÃO_FINAL_POR_SALA  0.2297    0.092   2.492  0.013\n",
      "DIAS_FUNCIONAMENTO                       0.0328    0.009   3.806  0.000\n",
      "SALAS_COMPLEXO_INFERIDO                  4.1036    0.393  10.432  0.000\n",
      "ASSENTOS_COMPLEXO_INFERIDO              -0.0075    0.001  -5.208  0.000\n",
      "\n",
      "\n",
      "Reg_comp_weighted 135, ALL, weighting function CUMP_NORMALIZADO:\n",
      "                                              coef  std err       t  P>|t|\n",
      "CUMP_NORMALIZADO:OBRIGAÇÃO_FINAL_POR_SALA   1.1172    1.016   1.100  0.272\n",
      "DIAS_FUNCIONAMENTO                          0.2174    0.021  10.402  0.000\n",
      "SALAS_COMPLEXO_INFERIDO                    15.8302    0.963  16.441  0.000\n",
      "ASSENTOS_COMPLEXO_INFERIDO                 -0.0228    0.004  -6.446  0.000\n",
      "\n",
      "\n",
      "Reg_comp_weighted 136, FOREIGN, weighting function CUMP_NORMALIZADO:\n",
      "                                              coef  std err       t  P>|t|\n",
      "CUMP_NORMALIZADO:OBRIGAÇÃO_FINAL_POR_SALA   0.9243    0.707   1.307  0.191\n",
      "DIAS_FUNCIONAMENTO                          0.1825    0.015  12.551  0.000\n",
      "SALAS_COMPLEXO_INFERIDO                    11.5816    0.670  17.286  0.000\n",
      "ASSENTOS_COMPLEXO_INFERIDO                 -0.0153    0.002  -6.206  0.000\n",
      "\n",
      "\n",
      "Reg_comp_weighted 137, BRAZILIAN, weighting function CUMP_NORMALIZADO:\n",
      "                                             coef  std err       t  P>|t|\n",
      "CUMP_NORMALIZADO:OBRIGAÇÃO_FINAL_POR_SALA  0.1929    0.408   0.472  0.637\n",
      "DIAS_FUNCIONAMENTO                         0.0349    0.008   4.154  0.000\n",
      "SALAS_COMPLEXO_INFERIDO                    4.2486    0.387  10.981  0.000\n",
      "ASSENTOS_COMPLEXO_INFERIDO                -0.0075    0.001  -5.295  0.000\n",
      "\n",
      "\n",
      "Reg_comp_weighted 138, ALL, weighting function CUMP_LINEAR:\n",
      "                                         coef  std err       t  P>|t|\n",
      "CUMP_LINEAR:OBRIGAÇÃO_FINAL_POR_SALA   0.5106    0.195   2.617  0.009\n",
      "DIAS_FUNCIONAMENTO                     0.2116    0.021  10.067  0.000\n",
      "SALAS_COMPLEXO_INFERIDO               15.5959    0.966  16.151  0.000\n",
      "ASSENTOS_COMPLEXO_INFERIDO            -0.0227    0.004  -6.423  0.000\n",
      "\n",
      "\n",
      "Reg_comp_weighted 139, FOREIGN, weighting function CUMP_LINEAR:\n",
      "                                         coef  std err       t  P>|t|\n",
      "CUMP_LINEAR:OBRIGAÇÃO_FINAL_POR_SALA   0.1979    0.136   1.459  0.145\n",
      "DIAS_FUNCIONAMENTO                     0.1827    0.015  12.496  0.000\n",
      "SALAS_COMPLEXO_INFERIDO               11.5870    0.672  17.255  0.000\n",
      "ASSENTOS_COMPLEXO_INFERIDO            -0.0153    0.002  -6.216  0.000\n",
      "\n",
      "\n",
      "Reg_comp_weighted 140, BRAZILIAN, weighting function CUMP_LINEAR:\n",
      "                                        coef  std err       t  P>|t|\n",
      "CUMP_LINEAR:OBRIGAÇÃO_FINAL_POR_SALA  0.3126    0.080   3.914  0.000\n",
      "DIAS_FUNCIONAMENTO                    0.0290    0.009   3.365  0.001\n",
      "SALAS_COMPLEXO_INFERIDO               4.0089    0.395  10.140  0.000\n",
      "ASSENTOS_COMPLEXO_INFERIDO           -0.0074    0.001  -5.131  0.000\n",
      "\n",
      "\n",
      "Reg_comp_weighted 141, ALL, weighting function CUMP_TRIWEIGHT:\n",
      "                                            coef  std err       t  P>|t|\n",
      "CUMP_TRIWEIGHT:OBRIGAÇÃO_FINAL_POR_SALA   0.4871    0.169   2.877  0.004\n",
      "DIAS_FUNCIONAMENTO                        0.2086    0.021   9.997  0.000\n",
      "SALAS_COMPLEXO_INFERIDO                  15.5462    0.965  16.116  0.000\n",
      "ASSENTOS_COMPLEXO_INFERIDO               -0.0227    0.004  -6.425  0.000\n",
      "\n",
      "\n",
      "Reg_comp_weighted 142, FOREIGN, weighting function CUMP_TRIWEIGHT:\n",
      "                                            coef  std err       t  P>|t|\n",
      "CUMP_TRIWEIGHT:OBRIGAÇÃO_FINAL_POR_SALA   0.1901    0.118   1.614  0.107\n",
      "DIAS_FUNCIONAMENTO                        0.1828    0.015  12.589  0.000\n",
      "SALAS_COMPLEXO_INFERIDO                  11.6038    0.671  17.289  0.000\n",
      "ASSENTOS_COMPLEXO_INFERIDO               -0.0153    0.002  -6.228  0.000\n",
      "\n",
      "\n",
      "Reg_comp_weighted 143, BRAZILIAN, weighting function CUMP_TRIWEIGHT:\n",
      "                                           coef  std err      t  P>|t|\n",
      "CUMP_TRIWEIGHT:OBRIGAÇÃO_FINAL_POR_SALA  0.2969    0.069  4.276  0.000\n",
      "DIAS_FUNCIONAMENTO                       0.0258    0.009  3.019  0.003\n",
      "SALAS_COMPLEXO_INFERIDO                  3.9424    0.396  9.965  0.000\n",
      "ASSENTOS_COMPLEXO_INFERIDO              -0.0074    0.001 -5.099  0.000\n",
      "\n",
      "\n"
     ]
    }
   ],
   "source": [
    "works = ['ALL', 'FOREIGN', 'BRAZILIAN']\n",
    "\n",
    "for i in range(last_wcount, wcount):\n",
    "    print(f'Reg_comp_weighted {i}, {works[i%3]}, weighting function {weight_funcs[(i-last_wcount)//3]}:')\n",
    "    print(pd.read_html(c_weighted[f'reg_cw{i}'].summary().\n",
    "                       tables[1].as_html(),header=0,index_col=0)[0].iloc[-4:,:-2])\n",
    "    print('\\n')"
   ]
  },
  {
   "cell_type": "markdown",
   "metadata": {},
   "source": [
    "## Segmented regressions"
   ]
  },
  {
   "cell_type": "markdown",
   "metadata": {},
   "source": [
    "Define multiplex $i$ in year $t$ and title \"nationality\" (meaning all, foreign or Brazilian movie sessions) and nominal screen quota obligation $SQ$:\n",
    "\n",
    "$$ \\ln(Y_{nit}) = \\beta_0 + \\beta_1 SQ_{it} + \\theta X_{it} + \\varepsilon_{it} $$\n",
    "\n",
    "$Y$ is the interest variable that can be either Yearly Income or total public (# of moviegoers). $X_{it}$ is a vector of controls with opening days, movie theater fixed-effects and year fixed-effects. Alternatively, we also drop entity fixed-effects and use number of viewing rooms and seats per movie-theater as controls.\n",
    "\n",
    "Here, we segment regressions by complance level. Each regression comprises a bin of compliance. In addition, 2019 is excluded from all regressions."
   ]
  },
  {
   "cell_type": "markdown",
   "metadata": {
    "heading_collapsed": true
   },
   "source": [
    "### Preliminary: checking for correlation between compliance levels"
   ]
  },
  {
   "cell_type": "markdown",
   "metadata": {
    "hidden": true
   },
   "source": [
    "*One problem of segmented regressions (by compliance level) is that a movie theater may shift bins from one year to another, as a result, only one observation for said movie theater will be available for each bin, making it impossible to use fixed-effects on that particular movie theater*"
   ]
  },
  {
   "cell_type": "code",
   "execution_count": 5,
   "metadata": {
    "ExecuteTime": {
     "end_time": "2021-06-15T21:00:16.507249Z",
     "start_time": "2021-06-15T21:00:16.503235Z"
    },
    "hidden": true
   },
   "outputs": [
    {
     "data": {
      "text/plain": [
       "1525"
      ]
     },
     "execution_count": 5,
     "metadata": {},
     "output_type": "execute_result"
    }
   ],
   "source": [
    "tds_1718.shape[0]"
   ]
  },
  {
   "cell_type": "code",
   "execution_count": 6,
   "metadata": {
    "ExecuteTime": {
     "end_time": "2021-06-15T21:00:16.945357Z",
     "start_time": "2021-06-15T21:00:16.928285Z"
    },
    "hidden": true
   },
   "outputs": [
    {
     "name": "stdout",
     "output_type": "stream",
     "text": [
      "83 observations, out of 1525, appear in only one of two years and can have no fixed-effects\n"
     ]
    }
   ],
   "source": [
    "# getting only movie theaters that appear in both years\n",
    "dups = tds_1718[tds_1718.duplicated(subset=['REGISTRO_COMPLEXO'], keep=False)]\n",
    "\n",
    "print(f'{tds_1718.shape[0] - dups.shape[0]} observations, out of {tds_1718.shape[0]}, appear in only one of two years and can\\\n",
    " have no fixed-effects')"
   ]
  },
  {
   "cell_type": "code",
   "execution_count": 7,
   "metadata": {
    "ExecuteTime": {
     "end_time": "2021-06-15T21:00:17.598139Z",
     "start_time": "2021-06-15T21:00:17.560007Z"
    },
    "hidden": true
   },
   "outputs": [],
   "source": [
    "# getting yearly compliance to compare both\n",
    "d_17 = dups.query('ANO_CINEMATOGRAFICO == 2017')[['REGISTRO_COMPLEXO','CUMPRIMENTO_PROPORCIONAL']] \n",
    "d_17.rename({'CUMPRIMENTO_PROPORCIONAL':'CUMPRIMENTO_PROPORCIONAL_2017'}, axis=1, inplace=True)\n",
    "\n",
    "d_18 = dups.query('ANO_CINEMATOGRAFICO == 2018')[['REGISTRO_COMPLEXO','CUMPRIMENTO_PROPORCIONAL']]\n",
    "d_18.rename({'CUMPRIMENTO_PROPORCIONAL':'CUMPRIMENTO_PROPORCIONAL_2018'}, axis=1, inplace=True)\n",
    "\n",
    "# merging both\n",
    "compliance_comparison = pd.merge(d_17,d_18,on='REGISTRO_COMPLEXO')"
   ]
  },
  {
   "cell_type": "code",
   "execution_count": 8,
   "metadata": {
    "ExecuteTime": {
     "end_time": "2021-06-15T21:00:20.119707Z",
     "start_time": "2021-06-15T21:00:20.107676Z"
    },
    "hidden": true
   },
   "outputs": [
    {
     "data": {
      "text/html": [
       "<div>\n",
       "<style scoped>\n",
       "    .dataframe tbody tr th:only-of-type {\n",
       "        vertical-align: middle;\n",
       "    }\n",
       "\n",
       "    .dataframe tbody tr th {\n",
       "        vertical-align: top;\n",
       "    }\n",
       "\n",
       "    .dataframe thead th {\n",
       "        text-align: right;\n",
       "    }\n",
       "</style>\n",
       "<table border=\"1\" class=\"dataframe\">\n",
       "  <thead>\n",
       "    <tr style=\"text-align: right;\">\n",
       "      <th></th>\n",
       "      <th>CUMPRIMENTO_PROPORCIONAL_2017</th>\n",
       "      <th>CUMPRIMENTO_PROPORCIONAL_2018</th>\n",
       "    </tr>\n",
       "  </thead>\n",
       "  <tbody>\n",
       "    <tr>\n",
       "      <th>CUMPRIMENTO_PROPORCIONAL_2017</th>\n",
       "      <td>1.000000</td>\n",
       "      <td>0.553052</td>\n",
       "    </tr>\n",
       "    <tr>\n",
       "      <th>CUMPRIMENTO_PROPORCIONAL_2018</th>\n",
       "      <td>0.553052</td>\n",
       "      <td>1.000000</td>\n",
       "    </tr>\n",
       "  </tbody>\n",
       "</table>\n",
       "</div>"
      ],
      "text/plain": [
       "                               CUMPRIMENTO_PROPORCIONAL_2017  \\\n",
       "CUMPRIMENTO_PROPORCIONAL_2017                       1.000000   \n",
       "CUMPRIMENTO_PROPORCIONAL_2018                       0.553052   \n",
       "\n",
       "                               CUMPRIMENTO_PROPORCIONAL_2018  \n",
       "CUMPRIMENTO_PROPORCIONAL_2017                       0.553052  \n",
       "CUMPRIMENTO_PROPORCIONAL_2018                       1.000000  "
      ]
     },
     "execution_count": 8,
     "metadata": {},
     "output_type": "execute_result"
    }
   ],
   "source": [
    "compliance_comparison.corr()\n",
    "# as one can see, correlation is only 0.55, not particularly high"
   ]
  },
  {
   "cell_type": "code",
   "execution_count": 9,
   "metadata": {
    "ExecuteTime": {
     "end_time": "2021-06-15T21:00:20.623761Z",
     "start_time": "2021-06-15T21:00:20.616744Z"
    },
    "hidden": true
   },
   "outputs": [],
   "source": [
    "# getting absolute delta for both\n",
    "compliance_comparison['DELTA'] = np.where(\n",
    "    compliance_comparison['CUMPRIMENTO_PROPORCIONAL_2017'] >= compliance_comparison['CUMPRIMENTO_PROPORCIONAL_2018'],\n",
    "    compliance_comparison['CUMPRIMENTO_PROPORCIONAL_2017'] - compliance_comparison['CUMPRIMENTO_PROPORCIONAL_2018'],\n",
    "    compliance_comparison['CUMPRIMENTO_PROPORCIONAL_2018'] - compliance_comparison['CUMPRIMENTO_PROPORCIONAL_2017'])"
   ]
  },
  {
   "cell_type": "code",
   "execution_count": 11,
   "metadata": {
    "ExecuteTime": {
     "end_time": "2021-06-15T21:00:34.557262Z",
     "start_time": "2021-06-15T21:00:34.276460Z"
    },
    "hidden": true
   },
   "outputs": [
    {
     "data": {
      "text/plain": [
       "<matplotlib.axes._subplots.AxesSubplot at 0x2929a9b7bb0>"
      ]
     },
     "execution_count": 11,
     "metadata": {},
     "output_type": "execute_result"
    },
    {
     "data": {
      "image/png": "[encoded data removed]",
      "text/plain": [
       "<Figure size 432x288 with 1 Axes>"
      ]
     },
     "metadata": {
      "needs_background": "light"
     },
     "output_type": "display_data"
    }
   ],
   "source": [
    "compliance_comparison['DELTA'].plot.hist(bins=100)"
   ]
  },
  {
   "cell_type": "code",
   "execution_count": 12,
   "metadata": {
    "ExecuteTime": {
     "end_time": "2021-06-15T21:00:45.083330Z",
     "start_time": "2021-06-15T21:00:45.074307Z"
    },
    "hidden": true
   },
   "outputs": [
    {
     "name": "stdout",
     "output_type": "stream",
     "text": [
      "43 full-time compliers represent 0.96 out of 45 consistent (0 delta) movie theaters\n",
      "1 full-time non-compliers represent 0.02 out of 45 consistent (0 delta) movie theaters\n"
     ]
    }
   ],
   "source": [
    "a = compliance_comparison[\n",
    "    (compliance_comparison.CUMPRIMENTO_PROPORCIONAL_2017 == 0)&(compliance_comparison.CUMPRIMENTO_PROPORCIONAL_2018 == 0)\n",
    "    ].shape[0]\n",
    "b = compliance_comparison[\n",
    "    (compliance_comparison.CUMPRIMENTO_PROPORCIONAL_2017 == 1)&(compliance_comparison.CUMPRIMENTO_PROPORCIONAL_2018 == 1)\n",
    "    ].shape[0]\n",
    "c = compliance_comparison[compliance_comparison.DELTA == 0].shape[0]\n",
    "\n",
    "print(f'{b} full-time compliers represent {np.round(b/c, 2)} out of {c} consistent (0 delta) movie theaters')\n",
    "print(f'{a} full-time non-compliers represent {np.round(a/c, 2)} out of {c} consistent (0 delta) movie theaters')"
   ]
  },
  {
   "cell_type": "code",
   "execution_count": 17,
   "metadata": {
    "ExecuteTime": {
     "end_time": "2021-06-15T21:16:15.368475Z",
     "start_time": "2021-06-15T21:16:15.338816Z"
    },
    "hidden": true
   },
   "outputs": [],
   "source": [
    "# checking for how many obs will be spread across diff bins\n",
    "\n",
    "bounds = {}\n",
    "\n",
    "# bounds to be used later\n",
    "bounds['b1'] = [-0.1, 0.3, 0.6, 0.9, 1.2, 1.5, 50]\n",
    "bounds['b2'] = [-0.1, 0.3, 0.5, 0.7, 0.9, 1.1, 1.3, 1.5, 50]\n",
    "bounds['b3'] = [-0.1, 0.4, 0.8, 1.2, 1.6, 50]\n",
    "bounds['b4'] = [-0.1, 0.45, 0.85, 1.25, 1.65, 50]\n",
    "bounds['b5'] = [-0.1, 0.1, 0.2, 0.3, 0.4, 0.5, 0.6, 0.7, 0.8, 0.9, 1.0, 1.1, 1.2, 1.3, 50]\n",
    "bounds['b6'] = [-0.1, 0.85, 0.95, 1.05, 1.15, 50]\n",
    "\n",
    "alpha = 'ABCDEFGHIJKLMNOPQRSTUVXZ'\n",
    "\n",
    "for i in range(1,7):\n",
    "    compliance_comparison[f'2017_B{i}'] = pd.cut(compliance_comparison.CUMPRIMENTO_PROPORCIONAL_2017, \n",
    "           bounds[f'b{i}'], labels=[alpha[i] for i in range(len(bounds[f'b{i}']) - 1)])\n",
    "    compliance_comparison[f'2018_B{i}'] = pd.cut(compliance_comparison.CUMPRIMENTO_PROPORCIONAL_2018, \n",
    "           bounds[f'b{i}'], labels=[alpha[i] for i in range(len(bounds[f'b{i}']) - 1)])"
   ]
  },
  {
   "cell_type": "code",
   "execution_count": 22,
   "metadata": {
    "ExecuteTime": {
     "end_time": "2021-06-15T21:26:51.395960Z",
     "start_time": "2021-06-15T21:26:51.387937Z"
    },
    "hidden": true
   },
   "outputs": [
    {
     "name": "stdout",
     "output_type": "stream",
     "text": [
      "For bounds B1, 381 movie theaters will be shifted between bounds out of 721 movie theaters, meaning 680 out of 1525 observations (or 0.45) will have FE\n",
      "For bounds B2, 438 movie theaters will be shifted between bounds out of 721 movie theaters, meaning 566 out of 1525 observations (or 0.37) will have FE\n",
      "For bounds B3, 326 movie theaters will be shifted between bounds out of 721 movie theaters, meaning 790 out of 1525 observations (or 0.52) will have FE\n",
      "For bounds B4, 321 movie theaters will be shifted between bounds out of 721 movie theaters, meaning 800 out of 1525 observations (or 0.52) will have FE\n",
      "For bounds B5, 542 movie theaters will be shifted between bounds out of 721 movie theaters, meaning 358 out of 1525 observations (or 0.23) will have FE\n",
      "For bounds B6, 375 movie theaters will be shifted between bounds out of 721 movie theaters, meaning 692 out of 1525 observations (or 0.45) will have FE\n"
     ]
    }
   ],
   "source": [
    "b = tds_1718.shape[0]\n",
    "\n",
    "for i in range(1,7):\n",
    "    mts = np.where(compliance_comparison[f'2017_B{i}'] != compliance_comparison[f'2018_B{i}'], 1, 0).sum()\n",
    "    mtt = compliance_comparison.shape[0]\n",
    "    a = 2*(mtt - mts)\n",
    "    print(f'For bounds B{i}, {mts} movie theaters will be shifted between bounds out of {mtt} movie theaters, meaning\\\n",
    " {a} out of {b} observations (or {np.round(a/b,2)}) will have FE')"
   ]
  },
  {
   "cell_type": "markdown",
   "metadata": {},
   "source": [
    "### Dependent variable: income"
   ]
  },
  {
   "cell_type": "code",
   "execution_count": 199,
   "metadata": {
    "ExecuteTime": {
     "end_time": "2021-06-22T00:10:47.217770Z",
     "start_time": "2021-06-22T00:10:47.215765Z"
    }
   },
   "outputs": [],
   "source": [
    "seg_regs = {} # creating dict to store regression objects\n",
    "\n",
    "count_regs = 0 # counter to automatically generate reg numbers"
   ]
  },
  {
   "cell_type": "markdown",
   "metadata": {},
   "source": [
    "#### Bounds - [0, 0.3, 0.6, 0.9, 1.2, 1.5, 50] "
   ]
  },
  {
   "cell_type": "code",
   "execution_count": 200,
   "metadata": {
    "ExecuteTime": {
     "end_time": "2021-06-22T00:10:56.382332Z",
     "start_time": "2021-06-22T00:10:55.732430Z"
    }
   },
   "outputs": [
    {
     "name": "stdout",
     "output_type": "stream",
     "text": [
      "18\n"
     ]
    }
   ],
   "source": [
    "bounds = [0, 0.3, 0.6, 0.9, 1.2, 1.5, 50] \n",
    "\n",
    "formul = 'np.log(RENDA) ~ OBRIGAÇÃO_FINAL_POR_SALA + DIAS_FUNCIONAMENTO + C(REGISTRO_COMPLEXO) + C(ANO_CINEMATOGRAFICO)'\n",
    "\n",
    "last_count = count_regs\n",
    "\n",
    "for i in range(len(bounds)-1):\n",
    "    seg_regs[f'reg_seg{count_regs}'] = smf.ols(formula=formul, \n",
    "                    data = tds_1718[tds_1718.CUMPRIMENTO_PROPORCIONAL.between(bounds[i],bounds[i+1])]).fit()\n",
    "    count_regs += 1\n",
    "    seg_regs[f'reg_seg{count_regs}'] = smf.ols(formula=formul, \n",
    "                    data = est_1718[est_1718.CUMPRIMENTO_PROPORCIONAL.between(bounds[i],bounds[i+1])]).fit()\n",
    "    count_regs += 1\n",
    "    seg_regs[f'reg_seg{count_regs}'] = smf.ols(formula=formul, \n",
    "                    data = bras_1718[bras_1718.CUMPRIMENTO_PROPORCIONAL.between(bounds[i],bounds[i+1])]).fit()\n",
    "    count_regs += 1\n",
    "\n",
    "print(count_regs)"
   ]
  },
  {
   "cell_type": "code",
   "execution_count": 201,
   "metadata": {
    "ExecuteTime": {
     "end_time": "2021-06-22T00:10:58.378958Z",
     "start_time": "2021-06-22T00:10:56.466561Z"
    }
   },
   "outputs": [
    {
     "name": "stdout",
     "output_type": "stream",
     "text": [
      "Reg_seg 0, ALL: lower bound 0, higher bound 0.3\n",
      "                            coef  std err      t  P>|t|\n",
      "OBRIGAÇÃO_FINAL_POR_SALA  0.0304    0.066  0.462  0.663\n",
      "DIAS_FUNCIONAMENTO        0.0065    0.005  1.338  0.238\n",
      "\n",
      "\n",
      "Reg_seg 1, FOREIGN: lower bound 0, higher bound 0.3\n",
      "                            coef  std err      t  P>|t|\n",
      "OBRIGAÇÃO_FINAL_POR_SALA  0.0278    0.067  0.413  0.697\n",
      "DIAS_FUNCIONAMENTO        0.0067    0.005  1.334  0.240\n",
      "\n",
      "\n",
      "Reg_seg 2, BRAZILIAN: lower bound 0, higher bound 0.3\n",
      "                            coef  std err      t  P>|t|\n",
      "OBRIGAÇÃO_FINAL_POR_SALA -0.3731    0.086 -4.361  0.143\n",
      "DIAS_FUNCIONAMENTO        0.0168    0.004  4.126  0.151\n",
      "\n",
      "\n",
      "Reg_seg 3, ALL: lower bound 0.3, higher bound 0.6\n",
      "                            coef  std err      t  P>|t|\n",
      "OBRIGAÇÃO_FINAL_POR_SALA  0.0055    0.003  1.761  0.089\n",
      "DIAS_FUNCIONAMENTO        0.0045    0.000  9.917  0.000\n",
      "\n",
      "\n",
      "Reg_seg 4, FOREIGN: lower bound 0.3, higher bound 0.6\n",
      "                            coef  std err       t  P>|t|\n",
      "OBRIGAÇÃO_FINAL_POR_SALA  0.0054    0.003   1.714  0.098\n",
      "DIAS_FUNCIONAMENTO        0.0046    0.000  10.170  0.000\n",
      "\n",
      "\n",
      "Reg_seg 5, BRAZILIAN: lower bound 0.3, higher bound 0.6\n",
      "                            coef  std err      t  P>|t|\n",
      "OBRIGAÇÃO_FINAL_POR_SALA -0.0037    0.012 -0.316  0.754\n",
      "DIAS_FUNCIONAMENTO        0.0052    0.002  3.081  0.005\n",
      "\n",
      "\n",
      "Reg_seg 6, ALL: lower bound 0.6, higher bound 0.9\n",
      "                            coef  std err      t  P>|t|\n",
      "OBRIGAÇÃO_FINAL_POR_SALA  0.0048    0.005  0.940  0.354\n",
      "DIAS_FUNCIONAMENTO        0.0056    0.001  6.589  0.000\n",
      "\n",
      "\n",
      "Reg_seg 7, FOREIGN: lower bound 0.6, higher bound 0.9\n",
      "                            coef  std err      t  P>|t|\n",
      "OBRIGAÇÃO_FINAL_POR_SALA  0.0048    0.006  0.861  0.395\n",
      "DIAS_FUNCIONAMENTO        0.0058    0.001  6.370  0.000\n",
      "\n",
      "\n",
      "Reg_seg 8, BRAZILIAN: lower bound 0.6, higher bound 0.9\n",
      "                            coef  std err      t  P>|t|\n",
      "OBRIGAÇÃO_FINAL_POR_SALA  0.0122    0.013  0.910  0.369\n",
      "DIAS_FUNCIONAMENTO        0.0040    0.002  1.792  0.082\n",
      "\n",
      "\n",
      "Reg_seg 9, ALL: lower bound 0.9, higher bound 1.2\n",
      "                            coef  std err       t  P>|t|\n",
      "OBRIGAÇÃO_FINAL_POR_SALA -0.0008    0.002  -0.466  0.642\n",
      "DIAS_FUNCIONAMENTO        0.0049    0.000  12.424  0.000\n",
      "\n",
      "\n",
      "Reg_seg 10, FOREIGN: lower bound 0.9, higher bound 1.2\n",
      "                            coef  std err       t  P>|t|\n",
      "OBRIGAÇÃO_FINAL_POR_SALA -0.0024    0.002  -1.438  0.152\n",
      "DIAS_FUNCIONAMENTO        0.0051    0.000  13.289  0.000\n",
      "\n",
      "\n",
      "Reg_seg 11, BRAZILIAN: lower bound 0.9, higher bound 1.2\n",
      "                            coef  std err      t  P>|t|\n",
      "OBRIGAÇÃO_FINAL_POR_SALA  0.0102    0.003  2.964  0.003\n",
      "DIAS_FUNCIONAMENTO        0.0040    0.001  5.145  0.000\n",
      "\n",
      "\n",
      "Reg_seg 12, ALL: lower bound 1.2, higher bound 1.5\n",
      "                            coef  std err  t  P>|t|\n",
      "OBRIGAÇÃO_FINAL_POR_SALA  0.0935      inf  0    NaN\n",
      "DIAS_FUNCIONAMENTO        0.0029      inf  0    NaN\n",
      "\n",
      "\n",
      "Reg_seg 13, FOREIGN: lower bound 1.2, higher bound 1.5\n",
      "                            coef  std err  t  P>|t|\n",
      "OBRIGAÇÃO_FINAL_POR_SALA  0.0927      inf  0    NaN\n",
      "DIAS_FUNCIONAMENTO        0.0020      inf  0    NaN\n",
      "\n",
      "\n",
      "Reg_seg 14, BRAZILIAN: lower bound 1.2, higher bound 1.5\n",
      "                            coef  std err  t  P>|t|\n",
      "OBRIGAÇÃO_FINAL_POR_SALA  0.1119      inf  0    NaN\n",
      "DIAS_FUNCIONAMENTO        0.0085      inf  0    NaN"
     ]
    },
    {
     "name": "stderr",
     "output_type": "stream",
     "text": [
      "C:\\ProgramData\\Anaconda3\\lib\\site-packages\\statsmodels\\regression\\linear_model.py:1698: RuntimeWarning: divide by zero encountered in true_divide\n",
      "  return 1 - (np.divide(self.nobs - self.k_constant, self.df_resid)\n",
      "C:\\ProgramData\\Anaconda3\\lib\\site-packages\\statsmodels\\regression\\linear_model.py:1698: RuntimeWarning: invalid value encountered in double_scalars\n",
      "  return 1 - (np.divide(self.nobs - self.k_constant, self.df_resid)\n",
      "C:\\ProgramData\\Anaconda3\\lib\\site-packages\\scipy\\stats\\_distn_infrastructure.py:1932: RuntimeWarning: invalid value encountered in less_equal\n",
      "  cond2 = cond0 & (x <= _a)\n",
      "C:\\ProgramData\\Anaconda3\\lib\\site-packages\\statsmodels\\regression\\linear_model.py:1620: RuntimeWarning: divide by zero encountered in double_scalars\n",
      "  return np.dot(wresid, wresid) / self.df_resid\n",
      "C:\\ProgramData\\Anaconda3\\lib\\site-packages\\statsmodels\\regression\\linear_model.py:1698: RuntimeWarning: divide by zero encountered in true_divide\n",
      "  return 1 - (np.divide(self.nobs - self.k_constant, self.df_resid)\n",
      "C:\\ProgramData\\Anaconda3\\lib\\site-packages\\statsmodels\\regression\\linear_model.py:1698: RuntimeWarning: invalid value encountered in double_scalars\n",
      "  return 1 - (np.divide(self.nobs - self.k_constant, self.df_resid)\n",
      "C:\\ProgramData\\Anaconda3\\lib\\site-packages\\scipy\\stats\\_distn_infrastructure.py:1932: RuntimeWarning: invalid value encountered in less_equal\n",
      "  cond2 = cond0 & (x <= _a)\n",
      "C:\\ProgramData\\Anaconda3\\lib\\site-packages\\statsmodels\\regression\\linear_model.py:1620: RuntimeWarning: divide by zero encountered in double_scalars\n",
      "  return np.dot(wresid, wresid) / self.df_resid\n",
      "C:\\ProgramData\\Anaconda3\\lib\\site-packages\\statsmodels\\regression\\linear_model.py:1698: RuntimeWarning: divide by zero encountered in true_divide\n",
      "  return 1 - (np.divide(self.nobs - self.k_constant, self.df_resid)\n",
      "C:\\ProgramData\\Anaconda3\\lib\\site-packages\\statsmodels\\regression\\linear_model.py:1698: RuntimeWarning: invalid value encountered in double_scalars\n",
      "  return 1 - (np.divide(self.nobs - self.k_constant, self.df_resid)\n",
      "C:\\ProgramData\\Anaconda3\\lib\\site-packages\\scipy\\stats\\_distn_infrastructure.py:1932: RuntimeWarning: invalid value encountered in less_equal\n",
      "  cond2 = cond0 & (x <= _a)\n",
      "C:\\ProgramData\\Anaconda3\\lib\\site-packages\\statsmodels\\regression\\linear_model.py:1620: RuntimeWarning: divide by zero encountered in double_scalars\n",
      "  return np.dot(wresid, wresid) / self.df_resid\n"
     ]
    },
    {
     "name": "stdout",
     "output_type": "stream",
     "text": [
      "\n",
      "\n",
      "\n",
      "Reg_seg 15, ALL: lower bound 1.5, higher bound 50\n",
      "                            coef  std err      t  P>|t|\n",
      "OBRIGAÇÃO_FINAL_POR_SALA -0.0053    0.011 -0.500  0.635\n",
      "DIAS_FUNCIONAMENTO        0.0138    0.003  5.407  0.002\n",
      "\n",
      "\n",
      "Reg_seg 16, FOREIGN: lower bound 1.5, higher bound 50\n",
      "                            coef  std err      t  P>|t|\n",
      "OBRIGAÇÃO_FINAL_POR_SALA  0.0360    0.053  0.681  0.526\n",
      "DIAS_FUNCIONAMENTO        0.0185    0.013  1.414  0.216\n",
      "\n",
      "\n",
      "Reg_seg 17, BRAZILIAN: lower bound 1.5, higher bound 50\n",
      "                            coef  std err      t  P>|t|\n",
      "OBRIGAÇÃO_FINAL_POR_SALA -0.0103    0.011 -0.941  0.383\n",
      "DIAS_FUNCIONAMENTO        0.0122    0.003  4.628  0.004\n",
      "\n",
      "\n"
     ]
    }
   ],
   "source": [
    "works = ['ALL', 'FOREIGN', 'BRAZILIAN']\n",
    "\n",
    "for i in range(last_count,count_regs):\n",
    "    print(f'Reg_seg {i}, {works[i%3]}: lower bound {bounds[(i-last_count)//3]}, higher bound {bounds[((i-last_count)//3)+1]}')\n",
    "    print(pd.read_html(seg_regs[f'reg_seg{i}'].summary().\n",
    "                       tables[1].as_html(),header=0,index_col=0)[0].iloc[-2:,:-2])\n",
    "    print('\\n')"
   ]
  },
  {
   "cell_type": "markdown",
   "metadata": {},
   "source": [
    "#### Bounds - [0, 0.3, 0.5, 0.7, 0.9, 1.1, 1.3, 1.5, 50] "
   ]
  },
  {
   "cell_type": "code",
   "execution_count": 202,
   "metadata": {
    "ExecuteTime": {
     "end_time": "2021-06-22T00:10:59.068254Z",
     "start_time": "2021-06-22T00:10:58.380964Z"
    }
   },
   "outputs": [
    {
     "name": "stdout",
     "output_type": "stream",
     "text": [
      "42\n"
     ]
    }
   ],
   "source": [
    "bounds = [0, 0.3, 0.5, 0.7, 0.9, 1.1, 1.3, 1.5, 50] \n",
    "\n",
    "formul = 'np.log(RENDA) ~ OBRIGAÇÃO_FINAL_POR_SALA + DIAS_FUNCIONAMENTO + C(REGISTRO_COMPLEXO) + C(ANO_CINEMATOGRAFICO)'\n",
    "\n",
    "last_count = count_regs\n",
    "\n",
    "for i in range(len(bounds)-1):\n",
    "    seg_regs[f'reg_seg{count_regs}'] = smf.ols(formula=formul, \n",
    "                    data = tds_1718[tds_1718.CUMPRIMENTO_PROPORCIONAL.between(bounds[i],bounds[i+1])]).fit()\n",
    "    count_regs += 1\n",
    "    seg_regs[f'reg_seg{count_regs}'] = smf.ols(formula=formul, \n",
    "                    data = est_1718[est_1718.CUMPRIMENTO_PROPORCIONAL.between(bounds[i],bounds[i+1])]).fit()\n",
    "    count_regs += 1\n",
    "    seg_regs[f'reg_seg{count_regs}'] = smf.ols(formula=formul, \n",
    "                    data = bras_1718[bras_1718.CUMPRIMENTO_PROPORCIONAL.between(bounds[i],bounds[i+1])]).fit()\n",
    "    count_regs += 1\n",
    "\n",
    "print(count_regs)"
   ]
  },
  {
   "cell_type": "code",
   "execution_count": 203,
   "metadata": {
    "ExecuteTime": {
     "end_time": "2021-06-22T00:11:04.466056Z",
     "start_time": "2021-06-22T00:11:02.501384Z"
    }
   },
   "outputs": [
    {
     "name": "stdout",
     "output_type": "stream",
     "text": [
      "Reg_seg 18, ALL: lower bound 0, higher bound 0.3\n",
      "                            coef  std err      t  P>|t|\n",
      "OBRIGAÇÃO_FINAL_POR_SALA  0.0304    0.066  0.462  0.663\n",
      "DIAS_FUNCIONAMENTO        0.0065    0.005  1.338  0.238\n",
      "\n",
      "\n",
      "Reg_seg 19, FOREIGN: lower bound 0, higher bound 0.3\n",
      "                            coef  std err      t  P>|t|\n",
      "OBRIGAÇÃO_FINAL_POR_SALA  0.0278    0.067  0.413  0.697\n",
      "DIAS_FUNCIONAMENTO        0.0067    0.005  1.334  0.240\n",
      "\n",
      "\n",
      "Reg_seg 20, BRAZILIAN: lower bound 0, higher bound 0.3\n",
      "                            coef  std err      t  P>|t|\n",
      "OBRIGAÇÃO_FINAL_POR_SALA -0.3731    0.086 -4.361  0.143\n",
      "DIAS_FUNCIONAMENTO        0.0168    0.004  4.126  0.151\n",
      "\n",
      "\n",
      "Reg_seg 21, ALL: lower bound 0.3, higher bound 0.5\n",
      "                            coef  std err      t  P>|t|\n",
      "OBRIGAÇÃO_FINAL_POR_SALA  0.0065    0.005  1.369  0.220\n",
      "DIAS_FUNCIONAMENTO        0.0040    0.001  6.681  0.001\n",
      "\n",
      "\n",
      "Reg_seg 22, FOREIGN: lower bound 0.3, higher bound 0.5\n",
      "                            coef  std err      t  P>|t|\n",
      "OBRIGAÇÃO_FINAL_POR_SALA  0.0059    0.007  0.784  0.463\n",
      "DIAS_FUNCIONAMENTO        0.0039    0.001  4.121  0.006\n",
      "\n",
      "\n",
      "Reg_seg 23, BRAZILIAN: lower bound 0.3, higher bound 0.5\n",
      "                            coef  std err      t  P>|t|\n",
      "OBRIGAÇÃO_FINAL_POR_SALA  0.0001    0.049  0.003  0.998\n",
      "DIAS_FUNCIONAMENTO        0.0070    0.006  1.131  0.301\n",
      "\n",
      "\n",
      "Reg_seg 24, ALL: lower bound 0.5, higher bound 0.7\n",
      "                            coef  std err       t  P>|t|\n",
      "OBRIGAÇÃO_FINAL_POR_SALA  0.0063    0.002   2.535  0.017\n",
      "DIAS_FUNCIONAMENTO        0.0064    0.000  15.486  0.000\n",
      "\n",
      "\n",
      "Reg_seg 25, FOREIGN: lower bound 0.5, higher bound 0.7\n",
      "                            coef  std err       t  P>|t|\n",
      "OBRIGAÇÃO_FINAL_POR_SALA  0.0063    0.003   2.414  0.022\n",
      "DIAS_FUNCIONAMENTO        0.0067    0.000  15.249  0.000\n",
      "\n",
      "\n",
      "Reg_seg 26, BRAZILIAN: lower bound 0.5, higher bound 0.7\n",
      "                            coef  std err      t  P>|t|\n",
      "OBRIGAÇÃO_FINAL_POR_SALA -0.0042    0.009 -0.494  0.625\n",
      "DIAS_FUNCIONAMENTO        0.0067    0.001  4.732  0.000\n",
      "\n",
      "\n",
      "Reg_seg 27, ALL: lower bound 0.7, higher bound 0.9\n",
      "                            coef  std err      t  P>|t|\n",
      "OBRIGAÇÃO_FINAL_POR_SALA -0.0126    0.010 -1.216  0.249\n",
      "DIAS_FUNCIONAMENTO        0.0065    0.001  4.600  0.001\n",
      "\n",
      "\n",
      "Reg_seg 28, FOREIGN: lower bound 0.7, higher bound 0.9\n",
      "                            coef  std err      t  P>|t|\n",
      "OBRIGAÇÃO_FINAL_POR_SALA -0.0120    0.012 -0.999  0.339\n",
      "DIAS_FUNCIONAMENTO        0.0064    0.002  3.894  0.003\n",
      "\n",
      "\n",
      "Reg_seg 29, BRAZILIAN: lower bound 0.7, higher bound 0.9\n",
      "                            coef  std err      t  P>|t|\n",
      "OBRIGAÇÃO_FINAL_POR_SALA -0.0212    0.042 -0.499  0.627\n",
      "DIAS_FUNCIONAMENTO        0.0089    0.006  1.547  0.150\n",
      "\n",
      "\n",
      "Reg_seg 30, ALL: lower bound 0.9, higher bound 1.1\n",
      "                            coef  std err       t  P>|t|\n",
      "OBRIGAÇÃO_FINAL_POR_SALA  0.0008    0.001   0.702  0.484\n",
      "DIAS_FUNCIONAMENTO        0.0048    0.000  20.611  0.000\n",
      "\n",
      "\n",
      "Reg_seg 31, FOREIGN: lower bound 0.9, higher bound 1.1\n",
      "                            coef  std err       t  P>|t|\n",
      "OBRIGAÇÃO_FINAL_POR_SALA -0.0009    0.001  -0.814  0.417\n",
      "DIAS_FUNCIONAMENTO        0.0051    0.000  21.975  0.000\n",
      "\n",
      "\n",
      "Reg_seg 32, BRAZILIAN: lower bound 0.9, higher bound 1.1\n",
      "                            coef  std err      t  P>|t|\n",
      "OBRIGAÇÃO_FINAL_POR_SALA  0.0122    0.003  3.532  0.001\n",
      "DIAS_FUNCIONAMENTO        0.0033    0.001  4.377  0.000\n",
      "\n",
      "\n",
      "Reg_seg 33, ALL: lower bound 1.1, higher bound 1.3\n",
      "                            coef  std err      t  P>|t|\n",
      "OBRIGAÇÃO_FINAL_POR_SALA -0.0919    0.031 -2.950  0.018\n",
      "DIAS_FUNCIONAMENTO        0.0151    0.003  4.868  0.001\n",
      "\n",
      "\n",
      "Reg_seg 34, FOREIGN: lower bound 1.1, higher bound 1.3\n",
      "                            coef  std err      t  P>|t|\n",
      "OBRIGAÇÃO_FINAL_POR_SALA -0.0904    0.029 -3.154  0.014\n",
      "DIAS_FUNCIONAMENTO        0.0146    0.003  5.125  0.001\n",
      "\n",
      "\n",
      "Reg_seg 35, BRAZILIAN: lower bound 1.1, higher bound 1.3\n",
      "                            coef  std err      t  P>|t|\n",
      "OBRIGAÇÃO_FINAL_POR_SALA -0.1072    0.056 -1.926  0.090\n",
      "DIAS_FUNCIONAMENTO        0.0200    0.006  3.617  0.007\n",
      "\n",
      "\n",
      "Reg_seg 36, ALL: lower bound 1.3, higher bound 1.5\n",
      "                            coef  std err  t  P>|t|\n",
      "OBRIGAÇÃO_FINAL_POR_SALA  0.1095      inf  0    NaN\n",
      "DIAS_FUNCIONAMENTO        0.0024      inf  0    NaN\n",
      "\n",
      "\n",
      "Reg_seg 37, FOREIGN: lower bound 1.3, higher bound 1.5\n"
     ]
    },
    {
     "name": "stderr",
     "output_type": "stream",
     "text": [
      "C:\\ProgramData\\Anaconda3\\lib\\site-packages\\statsmodels\\regression\\linear_model.py:1698: RuntimeWarning: divide by zero encountered in true_divide\n",
      "  return 1 - (np.divide(self.nobs - self.k_constant, self.df_resid)\n",
      "C:\\ProgramData\\Anaconda3\\lib\\site-packages\\statsmodels\\regression\\linear_model.py:1698: RuntimeWarning: invalid value encountered in double_scalars\n",
      "  return 1 - (np.divide(self.nobs - self.k_constant, self.df_resid)\n",
      "C:\\ProgramData\\Anaconda3\\lib\\site-packages\\scipy\\stats\\_distn_infrastructure.py:1932: RuntimeWarning: invalid value encountered in less_equal\n",
      "  cond2 = cond0 & (x <= _a)\n",
      "C:\\ProgramData\\Anaconda3\\lib\\site-packages\\statsmodels\\regression\\linear_model.py:1620: RuntimeWarning: divide by zero encountered in double_scalars\n",
      "  return np.dot(wresid, wresid) / self.df_resid\n",
      "C:\\ProgramData\\Anaconda3\\lib\\site-packages\\statsmodels\\regression\\linear_model.py:1698: RuntimeWarning: divide by zero encountered in true_divide\n",
      "  return 1 - (np.divide(self.nobs - self.k_constant, self.df_resid)\n",
      "C:\\ProgramData\\Anaconda3\\lib\\site-packages\\statsmodels\\regression\\linear_model.py:1698: RuntimeWarning: invalid value encountered in double_scalars\n",
      "  return 1 - (np.divide(self.nobs - self.k_constant, self.df_resid)\n",
      "C:\\ProgramData\\Anaconda3\\lib\\site-packages\\scipy\\stats\\_distn_infrastructure.py:1932: RuntimeWarning: invalid value encountered in less_equal\n",
      "  cond2 = cond0 & (x <= _a)\n",
      "C:\\ProgramData\\Anaconda3\\lib\\site-packages\\statsmodels\\regression\\linear_model.py:1620: RuntimeWarning: divide by zero encountered in double_scalars\n",
      "  return np.dot(wresid, wresid) / self.df_resid\n",
      "C:\\ProgramData\\Anaconda3\\lib\\site-packages\\statsmodels\\regression\\linear_model.py:1698: RuntimeWarning: divide by zero encountered in true_divide\n",
      "  return 1 - (np.divide(self.nobs - self.k_constant, self.df_resid)\n",
      "C:\\ProgramData\\Anaconda3\\lib\\site-packages\\statsmodels\\regression\\linear_model.py:1698: RuntimeWarning: invalid value encountered in double_scalars\n",
      "  return 1 - (np.divide(self.nobs - self.k_constant, self.df_resid)\n",
      "C:\\ProgramData\\Anaconda3\\lib\\site-packages\\scipy\\stats\\_distn_infrastructure.py:1932: RuntimeWarning: invalid value encountered in less_equal\n",
      "  cond2 = cond0 & (x <= _a)\n",
      "C:\\ProgramData\\Anaconda3\\lib\\site-packages\\statsmodels\\regression\\linear_model.py:1620: RuntimeWarning: divide by zero encountered in double_scalars\n",
      "  return np.dot(wresid, wresid) / self.df_resid\n"
     ]
    },
    {
     "name": "stdout",
     "output_type": "stream",
     "text": [
      "                            coef  std err  t  P>|t|\n",
      "OBRIGAÇÃO_FINAL_POR_SALA  0.1091      inf  0    NaN\n",
      "DIAS_FUNCIONAMENTO        0.0014      inf  0    NaN\n",
      "\n",
      "\n",
      "Reg_seg 38, BRAZILIAN: lower bound 1.3, higher bound 1.5\n",
      "                            coef  std err  t  P>|t|\n",
      "OBRIGAÇÃO_FINAL_POR_SALA  0.1271      inf  0    NaN\n",
      "DIAS_FUNCIONAMENTO        0.0076      inf  0    NaN\n",
      "\n",
      "\n",
      "Reg_seg 39, ALL: lower bound 1.5, higher bound 50\n",
      "                            coef  std err      t  P>|t|\n",
      "OBRIGAÇÃO_FINAL_POR_SALA -0.0053    0.011 -0.500  0.635\n",
      "DIAS_FUNCIONAMENTO        0.0138    0.003  5.407  0.002\n",
      "\n",
      "\n",
      "Reg_seg 40, FOREIGN: lower bound 1.5, higher bound 50\n",
      "                            coef  std err      t  P>|t|\n",
      "OBRIGAÇÃO_FINAL_POR_SALA  0.0360    0.053  0.681  0.526\n",
      "DIAS_FUNCIONAMENTO        0.0185    0.013  1.414  0.216\n",
      "\n",
      "\n",
      "Reg_seg 41, BRAZILIAN: lower bound 1.5, higher bound 50\n",
      "                            coef  std err      t  P>|t|\n",
      "OBRIGAÇÃO_FINAL_POR_SALA -0.0103    0.011 -0.941  0.383\n",
      "DIAS_FUNCIONAMENTO        0.0122    0.003  4.628  0.004\n",
      "\n",
      "\n"
     ]
    }
   ],
   "source": [
    "works = ['ALL', 'FOREIGN', 'BRAZILIAN']\n",
    "\n",
    "for i in range(last_count,count_regs):\n",
    "    print(f'Reg_seg {i}, {works[i%3]}: lower bound {bounds[(i-last_count)//3]}, higher bound {bounds[((i-last_count)//3)+1]}')\n",
    "    print(pd.read_html(seg_regs[f'reg_seg{i}'].summary().\n",
    "                       tables[1].as_html(),header=0,index_col=0)[0].iloc[-2:,:-2])\n",
    "    print('\\n')"
   ]
  },
  {
   "cell_type": "markdown",
   "metadata": {},
   "source": [
    "#### Bounds - [0, 0.4, 0.8, 1.2, 1.6, 50]"
   ]
  },
  {
   "cell_type": "code",
   "execution_count": 204,
   "metadata": {
    "ExecuteTime": {
     "end_time": "2021-06-22T00:11:12.785632Z",
     "start_time": "2021-06-22T00:11:12.094435Z"
    }
   },
   "outputs": [
    {
     "name": "stdout",
     "output_type": "stream",
     "text": [
      "57\n"
     ]
    }
   ],
   "source": [
    "bounds = [0, 0.4, 0.8, 1.2, 1.6, 50] \n",
    "\n",
    "last_count = count_regs\n",
    "\n",
    "formul = 'np.log(RENDA) ~ OBRIGAÇÃO_FINAL_POR_SALA + DIAS_FUNCIONAMENTO + C(REGISTRO_COMPLEXO) + C(ANO_CINEMATOGRAFICO)'\n",
    "\n",
    "for i in range(len(bounds)-1):\n",
    "    seg_regs[f'reg_seg{count_regs}'] = smf.ols(formula=formul, \n",
    "                    data = tds_1718[tds_1718.CUMPRIMENTO_PROPORCIONAL.between(bounds[i],bounds[i+1])]).fit()\n",
    "    count_regs += 1\n",
    "    seg_regs[f'reg_seg{count_regs}'] = smf.ols(formula=formul, \n",
    "                    data = est_1718[est_1718.CUMPRIMENTO_PROPORCIONAL.between(bounds[i],bounds[i+1])]).fit()\n",
    "    count_regs += 1\n",
    "    seg_regs[f'reg_seg{count_regs}'] = smf.ols(formula=formul, \n",
    "                    data = bras_1718[bras_1718.CUMPRIMENTO_PROPORCIONAL.between(bounds[i],bounds[i+1])]).fit()\n",
    "    count_regs += 1\n",
    "\n",
    "print(count_regs)"
   ]
  },
  {
   "cell_type": "code",
   "execution_count": 205,
   "metadata": {
    "ExecuteTime": {
     "end_time": "2021-06-22T00:11:14.499149Z",
     "start_time": "2021-06-22T00:11:12.797663Z"
    },
    "scrolled": true
   },
   "outputs": [
    {
     "name": "stdout",
     "output_type": "stream",
     "text": [
      "Reg_seg 42, ALL: lower bound 0, higher bound 0.4\n",
      "                            coef  std err      t  P>|t|\n",
      "OBRIGAÇÃO_FINAL_POR_SALA  0.0210    0.031  0.677  0.510\n",
      "DIAS_FUNCIONAMENTO        0.0056    0.003  2.207  0.044\n",
      "\n",
      "\n",
      "Reg_seg 43, FOREIGN: lower bound 0, higher bound 0.4\n",
      "                            coef  std err      t  P>|t|\n",
      "OBRIGAÇÃO_FINAL_POR_SALA  0.0225    0.032  0.697  0.497\n",
      "DIAS_FUNCIONAMENTO        0.0055    0.003  2.082  0.056\n",
      "\n",
      "\n",
      "Reg_seg 44, BRAZILIAN: lower bound 0, higher bound 0.4\n",
      "                            coef  std err      t  P>|t|\n",
      "OBRIGAÇÃO_FINAL_POR_SALA -0.1362    0.075 -1.805  0.109\n",
      "DIAS_FUNCIONAMENTO        0.0134    0.006  2.302  0.050\n",
      "\n",
      "\n",
      "Reg_seg 45, ALL: lower bound 0.4, higher bound 0.8\n",
      "                            coef  std err       t  P>|t|\n",
      "OBRIGAÇÃO_FINAL_POR_SALA  0.0078    0.002   3.166  0.002\n",
      "DIAS_FUNCIONAMENTO        0.0048    0.000  11.272  0.000\n",
      "\n",
      "\n",
      "Reg_seg 46, FOREIGN: lower bound 0.4, higher bound 0.8\n",
      "                            coef  std err       t  P>|t|\n",
      "OBRIGAÇÃO_FINAL_POR_SALA  0.0070    0.002   2.855  0.005\n",
      "DIAS_FUNCIONAMENTO        0.0052    0.000  12.070  0.000\n",
      "\n",
      "\n",
      "Reg_seg 47, BRAZILIAN: lower bound 0.4, higher bound 0.8\n",
      "                            coef  std err      t  P>|t|\n",
      "OBRIGAÇÃO_FINAL_POR_SALA  0.0085    0.007  1.203  0.232\n",
      "DIAS_FUNCIONAMENTO        0.0028    0.001  2.269  0.026\n",
      "\n",
      "\n",
      "Reg_seg 48, ALL: lower bound 0.8, higher bound 1.2\n",
      "                              coef  std err       t  P>|t|\n",
      "OBRIGAÇÃO_FINAL_POR_SALA -0.000096    0.002  -0.061  0.952\n",
      "DIAS_FUNCIONAMENTO        0.005100    0.000  14.364  0.000\n",
      "\n",
      "\n",
      "Reg_seg 49, FOREIGN: lower bound 0.8, higher bound 1.2\n",
      "                            coef  std err       t  P>|t|\n",
      "OBRIGAÇÃO_FINAL_POR_SALA -0.0017    0.002  -1.098  0.273\n",
      "DIAS_FUNCIONAMENTO        0.0052    0.000  15.225  0.000\n",
      "\n",
      "\n",
      "Reg_seg 50, BRAZILIAN: lower bound 0.8, higher bound 1.2\n",
      "                            coef  std err      t  P>|t|\n",
      "OBRIGAÇÃO_FINAL_POR_SALA  0.0105    0.004  2.993  0.003\n",
      "DIAS_FUNCIONAMENTO        0.0042    0.001  5.440  0.000\n",
      "\n",
      "\n",
      "Reg_seg 51, ALL: lower bound 1.2, higher bound 1.6\n",
      "                            coef  std err  t  P>|t|\n",
      "OBRIGAÇÃO_FINAL_POR_SALA  0.0946      inf  0    NaN\n",
      "DIAS_FUNCIONAMENTO        0.0024      inf  0    NaN\n",
      "\n",
      "\n",
      "Reg_seg 52, FOREIGN: lower bound 1.2, higher bound 1.6\n",
      "                            coef  std err  t  P>|t|\n",
      "OBRIGAÇÃO_FINAL_POR_SALA  0.0945      inf  0    NaN\n",
      "DIAS_FUNCIONAMENTO        0.0013      inf  0    NaN\n",
      "\n",
      "\n",
      "Reg_seg 53, BRAZILIAN: lower bound 1.2, higher bound 1.6\n",
      "                            coef  std err  t  P>|t|\n",
      "OBRIGAÇÃO_FINAL_POR_SALA  0.1077      inf  0    NaN\n",
      "DIAS_FUNCIONAMENTO        0.0093      inf  0    NaN\n",
      "\n",
      "\n",
      "Reg_seg 54, ALL: lower bound 1.6, higher bound 50\n"
     ]
    },
    {
     "name": "stderr",
     "output_type": "stream",
     "text": [
      "C:\\ProgramData\\Anaconda3\\lib\\site-packages\\statsmodels\\regression\\linear_model.py:1698: RuntimeWarning: divide by zero encountered in true_divide\n",
      "  return 1 - (np.divide(self.nobs - self.k_constant, self.df_resid)\n",
      "C:\\ProgramData\\Anaconda3\\lib\\site-packages\\statsmodels\\regression\\linear_model.py:1698: RuntimeWarning: invalid value encountered in double_scalars\n",
      "  return 1 - (np.divide(self.nobs - self.k_constant, self.df_resid)\n",
      "C:\\ProgramData\\Anaconda3\\lib\\site-packages\\scipy\\stats\\_distn_infrastructure.py:1932: RuntimeWarning: invalid value encountered in less_equal\n",
      "  cond2 = cond0 & (x <= _a)\n",
      "C:\\ProgramData\\Anaconda3\\lib\\site-packages\\statsmodels\\regression\\linear_model.py:1620: RuntimeWarning: divide by zero encountered in double_scalars\n",
      "  return np.dot(wresid, wresid) / self.df_resid\n",
      "C:\\ProgramData\\Anaconda3\\lib\\site-packages\\statsmodels\\regression\\linear_model.py:1698: RuntimeWarning: divide by zero encountered in true_divide\n",
      "  return 1 - (np.divide(self.nobs - self.k_constant, self.df_resid)\n",
      "C:\\ProgramData\\Anaconda3\\lib\\site-packages\\statsmodels\\regression\\linear_model.py:1698: RuntimeWarning: invalid value encountered in double_scalars\n",
      "  return 1 - (np.divide(self.nobs - self.k_constant, self.df_resid)\n",
      "C:\\ProgramData\\Anaconda3\\lib\\site-packages\\scipy\\stats\\_distn_infrastructure.py:1932: RuntimeWarning: invalid value encountered in less_equal\n",
      "  cond2 = cond0 & (x <= _a)\n",
      "C:\\ProgramData\\Anaconda3\\lib\\site-packages\\statsmodels\\regression\\linear_model.py:1620: RuntimeWarning: divide by zero encountered in double_scalars\n",
      "  return np.dot(wresid, wresid) / self.df_resid\n",
      "C:\\ProgramData\\Anaconda3\\lib\\site-packages\\statsmodels\\regression\\linear_model.py:1698: RuntimeWarning: divide by zero encountered in true_divide\n",
      "  return 1 - (np.divide(self.nobs - self.k_constant, self.df_resid)\n",
      "C:\\ProgramData\\Anaconda3\\lib\\site-packages\\statsmodels\\regression\\linear_model.py:1698: RuntimeWarning: invalid value encountered in double_scalars\n",
      "  return 1 - (np.divide(self.nobs - self.k_constant, self.df_resid)\n",
      "C:\\ProgramData\\Anaconda3\\lib\\site-packages\\scipy\\stats\\_distn_infrastructure.py:1932: RuntimeWarning: invalid value encountered in less_equal\n",
      "  cond2 = cond0 & (x <= _a)\n",
      "C:\\ProgramData\\Anaconda3\\lib\\site-packages\\statsmodels\\regression\\linear_model.py:1620: RuntimeWarning: divide by zero encountered in double_scalars\n",
      "  return np.dot(wresid, wresid) / self.df_resid\n"
     ]
    },
    {
     "name": "stdout",
     "output_type": "stream",
     "text": [
      "                            coef  std err      t  P>|t|\n",
      "OBRIGAÇÃO_FINAL_POR_SALA -0.0053    0.011 -0.500  0.635\n",
      "DIAS_FUNCIONAMENTO        0.0138    0.003  5.407  0.002\n",
      "\n",
      "\n",
      "Reg_seg 55, FOREIGN: lower bound 1.6, higher bound 50\n",
      "                            coef  std err      t  P>|t|\n",
      "OBRIGAÇÃO_FINAL_POR_SALA  0.0360    0.053  0.681  0.526\n",
      "DIAS_FUNCIONAMENTO        0.0185    0.013  1.414  0.216\n",
      "\n",
      "\n",
      "Reg_seg 56, BRAZILIAN: lower bound 1.6, higher bound 50\n",
      "                            coef  std err      t  P>|t|\n",
      "OBRIGAÇÃO_FINAL_POR_SALA -0.0103    0.011 -0.941  0.383\n",
      "DIAS_FUNCIONAMENTO        0.0122    0.003  4.628  0.004\n",
      "\n",
      "\n"
     ]
    }
   ],
   "source": [
    "works = ['ALL', 'FOREIGN', 'BRAZILIAN']\n",
    "\n",
    "for i in range(last_count,count_regs):\n",
    "    print(f'Reg_seg {i}, {works[i%3]}: lower bound {bounds[(i-last_count)//3]}, higher bound {bounds[((i-last_count)//3)+1]}')\n",
    "    print(pd.read_html(seg_regs[f'reg_seg{i}'].summary().\n",
    "                       tables[1].as_html(),header=0,index_col=0)[0].iloc[-2:,:-2])\n",
    "    print('\\n')"
   ]
  },
  {
   "cell_type": "markdown",
   "metadata": {},
   "source": [
    "#### Bounds - [0, 0.45, 0.85, 1.25, 1.65, 50]"
   ]
  },
  {
   "cell_type": "code",
   "execution_count": 206,
   "metadata": {
    "ExecuteTime": {
     "end_time": "2021-06-22T00:11:17.609969Z",
     "start_time": "2021-06-22T00:11:16.863097Z"
    }
   },
   "outputs": [
    {
     "name": "stdout",
     "output_type": "stream",
     "text": [
      "72\n"
     ]
    }
   ],
   "source": [
    "bounds = [0, 0.45, 0.85, 1.25, 1.65, 50] \n",
    "\n",
    "last_count = count_regs\n",
    "\n",
    "formul = 'np.log(RENDA) ~ OBRIGAÇÃO_FINAL_POR_SALA + DIAS_FUNCIONAMENTO + C(REGISTRO_COMPLEXO) + C(ANO_CINEMATOGRAFICO)'\n",
    "\n",
    "for i in range(len(bounds)-1):\n",
    "    seg_regs[f'reg_seg{count_regs}'] = smf.ols(formula=formul, \n",
    "                    data = tds_1718[tds_1718.CUMPRIMENTO_PROPORCIONAL.between(bounds[i],bounds[i+1])]).fit()\n",
    "    count_regs += 1\n",
    "    seg_regs[f'reg_seg{count_regs}'] = smf.ols(formula=formul, \n",
    "                    data = est_1718[est_1718.CUMPRIMENTO_PROPORCIONAL.between(bounds[i],bounds[i+1])]).fit()\n",
    "    count_regs += 1\n",
    "    seg_regs[f'reg_seg{count_regs}'] = smf.ols(formula=formul, \n",
    "                    data = bras_1718[bras_1718.CUMPRIMENTO_PROPORCIONAL.between(bounds[i],bounds[i+1])]).fit()\n",
    "    count_regs += 1\n",
    "\n",
    "print(count_regs)"
   ]
  },
  {
   "cell_type": "code",
   "execution_count": 207,
   "metadata": {
    "ExecuteTime": {
     "end_time": "2021-06-22T00:11:19.296329Z",
     "start_time": "2021-06-22T00:11:17.611973Z"
    },
    "scrolled": true
   },
   "outputs": [
    {
     "name": "stdout",
     "output_type": "stream",
     "text": [
      "Reg_seg 57, ALL: lower bound 0, higher bound 0.45\n",
      "                            coef  std err      t  P>|t|\n",
      "OBRIGAÇÃO_FINAL_POR_SALA  0.0194    0.017  1.158   0.26\n",
      "DIAS_FUNCIONAMENTO        0.0059    0.001  4.153   0.00\n",
      "\n",
      "\n",
      "Reg_seg 58, FOREIGN: lower bound 0, higher bound 0.45\n",
      "                           coef  std err      t  P>|t|\n",
      "OBRIGAÇÃO_FINAL_POR_SALA  0.019    0.017  1.087  0.289\n",
      "DIAS_FUNCIONAMENTO        0.006    0.001  4.016  0.001\n",
      "\n",
      "\n",
      "Reg_seg 59, BRAZILIAN: lower bound 0, higher bound 0.45\n",
      "                            coef  std err      t  P>|t|\n",
      "OBRIGAÇÃO_FINAL_POR_SALA -0.0333    0.045 -0.747  0.467\n",
      "DIAS_FUNCIONAMENTO        0.0067    0.004  1.850  0.084\n",
      "\n",
      "\n",
      "Reg_seg 60, ALL: lower bound 0.45, higher bound 0.85\n",
      "                            coef  std err      t  P>|t|\n",
      "OBRIGAÇÃO_FINAL_POR_SALA  0.0061    0.003  2.163  0.034\n",
      "DIAS_FUNCIONAMENTO        0.0048    0.001  9.524  0.000\n",
      "\n",
      "\n",
      "Reg_seg 61, FOREIGN: lower bound 0.45, higher bound 0.85\n",
      "                            coef  std err      t  P>|t|\n",
      "OBRIGAÇÃO_FINAL_POR_SALA  0.0058    0.003  2.039  0.045\n",
      "DIAS_FUNCIONAMENTO        0.0051    0.001  9.971  0.000\n",
      "\n",
      "\n",
      "Reg_seg 62, BRAZILIAN: lower bound 0.45, higher bound 0.85\n",
      "                            coef  std err      t  P>|t|\n",
      "OBRIGAÇÃO_FINAL_POR_SALA  0.0022    0.007  0.303  0.763\n",
      "DIAS_FUNCIONAMENTO        0.0038    0.001  2.891  0.005\n",
      "\n",
      "\n",
      "Reg_seg 63, ALL: lower bound 0.85, higher bound 1.25\n",
      "                            coef  std err       t  P>|t|\n",
      "OBRIGAÇÃO_FINAL_POR_SALA -0.0011    0.002  -0.728  0.467\n",
      "DIAS_FUNCIONAMENTO        0.0053    0.000  16.005  0.000\n",
      "\n",
      "\n",
      "Reg_seg 64, FOREIGN: lower bound 0.85, higher bound 1.25\n",
      "                            coef  std err       t  P>|t|\n",
      "OBRIGAÇÃO_FINAL_POR_SALA -0.0023    0.002  -1.514  0.131\n",
      "DIAS_FUNCIONAMENTO        0.0054    0.000  16.621  0.000\n",
      "\n",
      "\n",
      "Reg_seg 65, BRAZILIAN: lower bound 0.85, higher bound 1.25\n",
      "                            coef  std err      t  P>|t|\n",
      "OBRIGAÇÃO_FINAL_POR_SALA  0.0072    0.003  2.207  0.028\n",
      "DIAS_FUNCIONAMENTO        0.0049    0.001  7.013  0.000\n",
      "\n",
      "\n",
      "Reg_seg 66, ALL: lower bound 1.25, higher bound 1.65\n",
      "                            coef  std err  t  P>|t|\n",
      "OBRIGAÇÃO_FINAL_POR_SALA  0.1008      inf  0    NaN\n",
      "DIAS_FUNCIONAMENTO        0.0023      inf  0    NaN\n",
      "\n",
      "\n",
      "Reg_seg 67, FOREIGN: lower bound 1.25, higher bound 1.65\n",
      "                            coef  std err  t  P>|t|\n",
      "OBRIGAÇÃO_FINAL_POR_SALA  0.1011      inf  0    NaN\n",
      "DIAS_FUNCIONAMENTO        0.0011      inf  0    NaN\n",
      "\n",
      "\n",
      "Reg_seg 68, BRAZILIAN: lower bound 1.25, higher bound 1.65\n",
      "                            coef  std err  t  P>|t|\n",
      "OBRIGAÇÃO_FINAL_POR_SALA  0.1108      inf  0    NaN\n",
      "DIAS_FUNCIONAMENTO        0.0097      inf  0    NaN\n",
      "\n",
      "\n",
      "Reg_seg 69, ALL: lower bound 1.65, higher bound 50\n",
      "                            coef  std err      t  P>|t|\n",
      "OBRIGAÇÃO_FINAL_POR_SALA -0.0053    0.011 -0.500  0.635\n",
      "DIAS_FUNCIONAMENTO        0.0138    0.003  5.407  0.002\n"
     ]
    },
    {
     "name": "stderr",
     "output_type": "stream",
     "text": [
      "C:\\ProgramData\\Anaconda3\\lib\\site-packages\\statsmodels\\regression\\linear_model.py:1698: RuntimeWarning: divide by zero encountered in true_divide\n",
      "  return 1 - (np.divide(self.nobs - self.k_constant, self.df_resid)\n",
      "C:\\ProgramData\\Anaconda3\\lib\\site-packages\\statsmodels\\regression\\linear_model.py:1698: RuntimeWarning: invalid value encountered in double_scalars\n",
      "  return 1 - (np.divide(self.nobs - self.k_constant, self.df_resid)\n",
      "C:\\ProgramData\\Anaconda3\\lib\\site-packages\\scipy\\stats\\_distn_infrastructure.py:1932: RuntimeWarning: invalid value encountered in less_equal\n",
      "  cond2 = cond0 & (x <= _a)\n",
      "C:\\ProgramData\\Anaconda3\\lib\\site-packages\\statsmodels\\regression\\linear_model.py:1620: RuntimeWarning: divide by zero encountered in double_scalars\n",
      "  return np.dot(wresid, wresid) / self.df_resid\n",
      "C:\\ProgramData\\Anaconda3\\lib\\site-packages\\statsmodels\\regression\\linear_model.py:1698: RuntimeWarning: divide by zero encountered in true_divide\n",
      "  return 1 - (np.divide(self.nobs - self.k_constant, self.df_resid)\n",
      "C:\\ProgramData\\Anaconda3\\lib\\site-packages\\statsmodels\\regression\\linear_model.py:1698: RuntimeWarning: invalid value encountered in double_scalars\n",
      "  return 1 - (np.divide(self.nobs - self.k_constant, self.df_resid)\n",
      "C:\\ProgramData\\Anaconda3\\lib\\site-packages\\scipy\\stats\\_distn_infrastructure.py:1932: RuntimeWarning: invalid value encountered in less_equal\n",
      "  cond2 = cond0 & (x <= _a)\n",
      "C:\\ProgramData\\Anaconda3\\lib\\site-packages\\statsmodels\\regression\\linear_model.py:1620: RuntimeWarning: divide by zero encountered in double_scalars\n",
      "  return np.dot(wresid, wresid) / self.df_resid\n",
      "C:\\ProgramData\\Anaconda3\\lib\\site-packages\\statsmodels\\regression\\linear_model.py:1698: RuntimeWarning: divide by zero encountered in true_divide\n",
      "  return 1 - (np.divide(self.nobs - self.k_constant, self.df_resid)\n",
      "C:\\ProgramData\\Anaconda3\\lib\\site-packages\\statsmodels\\regression\\linear_model.py:1698: RuntimeWarning: invalid value encountered in double_scalars\n",
      "  return 1 - (np.divide(self.nobs - self.k_constant, self.df_resid)\n",
      "C:\\ProgramData\\Anaconda3\\lib\\site-packages\\scipy\\stats\\_distn_infrastructure.py:1932: RuntimeWarning: invalid value encountered in less_equal\n",
      "  cond2 = cond0 & (x <= _a)\n",
      "C:\\ProgramData\\Anaconda3\\lib\\site-packages\\statsmodels\\regression\\linear_model.py:1620: RuntimeWarning: divide by zero encountered in double_scalars\n",
      "  return np.dot(wresid, wresid) / self.df_resid\n"
     ]
    },
    {
     "name": "stdout",
     "output_type": "stream",
     "text": [
      "\n",
      "\n",
      "Reg_seg 70, FOREIGN: lower bound 1.65, higher bound 50\n",
      "                            coef  std err      t  P>|t|\n",
      "OBRIGAÇÃO_FINAL_POR_SALA  0.0360    0.053  0.681  0.526\n",
      "DIAS_FUNCIONAMENTO        0.0185    0.013  1.414  0.216\n",
      "\n",
      "\n",
      "Reg_seg 71, BRAZILIAN: lower bound 1.65, higher bound 50\n",
      "                            coef  std err      t  P>|t|\n",
      "OBRIGAÇÃO_FINAL_POR_SALA -0.0103    0.011 -0.941  0.383\n",
      "DIAS_FUNCIONAMENTO        0.0122    0.003  4.628  0.004\n",
      "\n",
      "\n"
     ]
    }
   ],
   "source": [
    "works = ['ALL', 'FOREIGN', 'BRAZILIAN']\n",
    "\n",
    "for i in range(last_count,count_regs):\n",
    "    print(f'Reg_seg {i}, {works[i%3]}: lower bound {bounds[(i-last_count)//3]}, higher bound {bounds[((i-last_count)//3)+1]}')\n",
    "    print(pd.read_html(seg_regs[f'reg_seg{i}'].summary().\n",
    "                       tables[1].as_html(),header=0,index_col=0)[0].iloc[-2:,:-2])\n",
    "    print('\\n')"
   ]
  },
  {
   "cell_type": "markdown",
   "metadata": {},
   "source": [
    "#### Bounds - [0.0, 0.1, 0.2, 0.3, 0.4, 0.5, 0.6, 0.7, 0.8, 0.9, 1.0, 1.1, 1.2, 1.3, 50]"
   ]
  },
  {
   "cell_type": "code",
   "execution_count": 208,
   "metadata": {
    "ExecuteTime": {
     "end_time": "2021-06-22T00:11:20.775050Z",
     "start_time": "2021-06-22T00:11:19.801696Z"
    }
   },
   "outputs": [
    {
     "name": "stdout",
     "output_type": "stream",
     "text": [
      "114\n"
     ]
    }
   ],
   "source": [
    "bounds = [x/10 for x in range(14)]\n",
    "bounds.append(50)\n",
    "\n",
    "last_count = count_regs\n",
    "\n",
    "formul = 'np.log(RENDA) ~ OBRIGAÇÃO_FINAL_POR_SALA + DIAS_FUNCIONAMENTO + C(REGISTRO_COMPLEXO) + C(ANO_CINEMATOGRAFICO)'\n",
    "\n",
    "for i in range(len(bounds)-1):\n",
    "    seg_regs[f'reg_seg{count_regs}'] = smf.ols(formula=formul, \n",
    "                    data = tds_1718[tds_1718.CUMPRIMENTO_PROPORCIONAL.between(bounds[i],bounds[i+1])]).fit()\n",
    "    count_regs += 1\n",
    "    seg_regs[f'reg_seg{count_regs}'] = smf.ols(formula=formul, \n",
    "                    data = est_1718[est_1718.CUMPRIMENTO_PROPORCIONAL.between(bounds[i],bounds[i+1])]).fit()\n",
    "    count_regs += 1\n",
    "    seg_regs[f'reg_seg{count_regs}'] = smf.ols(formula=formul, \n",
    "                    data = bras_1718[bras_1718.CUMPRIMENTO_PROPORCIONAL.between(bounds[i],bounds[i+1])]).fit()\n",
    "    count_regs += 1\n",
    "\n",
    "print(count_regs)"
   ]
  },
  {
   "cell_type": "code",
   "execution_count": 209,
   "metadata": {
    "ExecuteTime": {
     "end_time": "2021-06-22T00:11:23.206203Z",
     "start_time": "2021-06-22T00:11:20.777055Z"
    },
    "scrolled": true
   },
   "outputs": [
    {
     "name": "stdout",
     "output_type": "stream",
     "text": [
      "Reg_seg 72, ALL: lower bound 0.0, higher bound 0.1\n",
      "                            coef  std err  t  P>|t|\n",
      "OBRIGAÇÃO_FINAL_POR_SALA -0.0566      inf  0    NaN\n",
      "DIAS_FUNCIONAMENTO        0.0165      inf  0    NaN\n",
      "\n",
      "\n",
      "Reg_seg 73, FOREIGN: lower bound 0.0, higher bound 0.1\n",
      "                            coef  std err  t  P>|t|\n",
      "OBRIGAÇÃO_FINAL_POR_SALA -0.0690      inf  0    NaN\n",
      "DIAS_FUNCIONAMENTO        0.0175      inf  0    NaN\n",
      "\n",
      "\n",
      "Reg_seg 74, BRAZILIAN: lower bound 0.0, higher bound 0.1\n",
      "                            coef  std err  t  P>|t|\n",
      "OBRIGAÇÃO_FINAL_POR_SALA  0.0239      inf  0    NaN\n",
      "DIAS_FUNCIONAMENTO        0.0077      inf  0    NaN\n",
      "\n",
      "\n",
      "Reg_seg 75, ALL: lower bound 0.1, higher bound 0.2\n",
      "                            coef  std err  t  P>|t|\n",
      "OBRIGAÇÃO_FINAL_POR_SALA  0.1550      inf  0    NaN\n",
      "DIAS_FUNCIONAMENTO        0.0111      inf  0    NaN\n",
      "\n",
      "\n",
      "Reg_seg 76, FOREIGN: lower bound 0.1, higher bound 0.2\n",
      "                            coef  std err  t  P>|t|\n",
      "OBRIGAÇÃO_FINAL_POR_SALA  0.1546      inf  0    NaN\n",
      "DIAS_FUNCIONAMENTO        0.0111      inf  0    NaN\n",
      "\n",
      "\n",
      "Reg_seg 77, BRAZILIAN: lower bound 0.1, higher bound 0.2\n",
      "                            coef  std err  t  P>|t|\n",
      "OBRIGAÇÃO_FINAL_POR_SALA  0.0968      inf  0    NaN\n",
      "DIAS_FUNCIONAMENTO        0.0095      inf  0    NaN\n",
      "\n",
      "\n",
      "Reg_seg 78, ALL: lower bound 0.2, higher bound 0.3\n",
      "                            coef  std err  t  P>|t|\n",
      "OBRIGAÇÃO_FINAL_POR_SALA  0.0412      inf  0    NaN\n",
      "DIAS_FUNCIONAMENTO        0.0093      inf  0    NaN"
     ]
    },
    {
     "name": "stderr",
     "output_type": "stream",
     "text": [
      "C:\\ProgramData\\Anaconda3\\lib\\site-packages\\statsmodels\\regression\\linear_model.py:1698: RuntimeWarning: divide by zero encountered in true_divide\n",
      "  return 1 - (np.divide(self.nobs - self.k_constant, self.df_resid)\n",
      "C:\\ProgramData\\Anaconda3\\lib\\site-packages\\statsmodels\\regression\\linear_model.py:1698: RuntimeWarning: invalid value encountered in double_scalars\n",
      "  return 1 - (np.divide(self.nobs - self.k_constant, self.df_resid)\n",
      "C:\\ProgramData\\Anaconda3\\lib\\site-packages\\scipy\\stats\\_distn_infrastructure.py:1932: RuntimeWarning: invalid value encountered in less_equal\n",
      "  cond2 = cond0 & (x <= _a)\n",
      "C:\\ProgramData\\Anaconda3\\lib\\site-packages\\statsmodels\\regression\\linear_model.py:1620: RuntimeWarning: divide by zero encountered in double_scalars\n",
      "  return np.dot(wresid, wresid) / self.df_resid\n",
      "C:\\ProgramData\\Anaconda3\\lib\\site-packages\\statsmodels\\regression\\linear_model.py:1698: RuntimeWarning: divide by zero encountered in true_divide\n",
      "  return 1 - (np.divide(self.nobs - self.k_constant, self.df_resid)\n",
      "C:\\ProgramData\\Anaconda3\\lib\\site-packages\\statsmodels\\regression\\linear_model.py:1698: RuntimeWarning: invalid value encountered in double_scalars\n",
      "  return 1 - (np.divide(self.nobs - self.k_constant, self.df_resid)\n",
      "C:\\ProgramData\\Anaconda3\\lib\\site-packages\\scipy\\stats\\_distn_infrastructure.py:1932: RuntimeWarning: invalid value encountered in less_equal\n",
      "  cond2 = cond0 & (x <= _a)\n",
      "C:\\ProgramData\\Anaconda3\\lib\\site-packages\\statsmodels\\regression\\linear_model.py:1620: RuntimeWarning: divide by zero encountered in double_scalars\n",
      "  return np.dot(wresid, wresid) / self.df_resid\n",
      "C:\\ProgramData\\Anaconda3\\lib\\site-packages\\statsmodels\\regression\\linear_model.py:1698: RuntimeWarning: divide by zero encountered in true_divide\n",
      "  return 1 - (np.divide(self.nobs - self.k_constant, self.df_resid)\n",
      "C:\\ProgramData\\Anaconda3\\lib\\site-packages\\statsmodels\\regression\\linear_model.py:1698: RuntimeWarning: invalid value encountered in double_scalars\n",
      "  return 1 - (np.divide(self.nobs - self.k_constant, self.df_resid)\n",
      "C:\\ProgramData\\Anaconda3\\lib\\site-packages\\scipy\\stats\\_distn_infrastructure.py:1932: RuntimeWarning: invalid value encountered in less_equal\n",
      "  cond2 = cond0 & (x <= _a)\n",
      "C:\\ProgramData\\Anaconda3\\lib\\site-packages\\statsmodels\\regression\\linear_model.py:1620: RuntimeWarning: divide by zero encountered in double_scalars\n",
      "  return np.dot(wresid, wresid) / self.df_resid\n",
      "C:\\ProgramData\\Anaconda3\\lib\\site-packages\\statsmodels\\regression\\linear_model.py:1698: RuntimeWarning: divide by zero encountered in true_divide\n",
      "  return 1 - (np.divide(self.nobs - self.k_constant, self.df_resid)\n",
      "C:\\ProgramData\\Anaconda3\\lib\\site-packages\\statsmodels\\regression\\linear_model.py:1698: RuntimeWarning: invalid value encountered in double_scalars\n",
      "  return 1 - (np.divide(self.nobs - self.k_constant, self.df_resid)\n",
      "C:\\ProgramData\\Anaconda3\\lib\\site-packages\\scipy\\stats\\_distn_infrastructure.py:1932: RuntimeWarning: invalid value encountered in less_equal\n",
      "  cond2 = cond0 & (x <= _a)\n",
      "C:\\ProgramData\\Anaconda3\\lib\\site-packages\\statsmodels\\regression\\linear_model.py:1620: RuntimeWarning: divide by zero encountered in double_scalars\n",
      "  return np.dot(wresid, wresid) / self.df_resid\n",
      "C:\\ProgramData\\Anaconda3\\lib\\site-packages\\statsmodels\\regression\\linear_model.py:1698: RuntimeWarning: divide by zero encountered in true_divide\n",
      "  return 1 - (np.divide(self.nobs - self.k_constant, self.df_resid)\n",
      "C:\\ProgramData\\Anaconda3\\lib\\site-packages\\statsmodels\\regression\\linear_model.py:1698: RuntimeWarning: invalid value encountered in double_scalars\n",
      "  return 1 - (np.divide(self.nobs - self.k_constant, self.df_resid)\n",
      "C:\\ProgramData\\Anaconda3\\lib\\site-packages\\scipy\\stats\\_distn_infrastructure.py:1932: RuntimeWarning: invalid value encountered in less_equal\n",
      "  cond2 = cond0 & (x <= _a)\n",
      "C:\\ProgramData\\Anaconda3\\lib\\site-packages\\statsmodels\\regression\\linear_model.py:1620: RuntimeWarning: divide by zero encountered in double_scalars\n",
      "  return np.dot(wresid, wresid) / self.df_resid\n",
      "C:\\ProgramData\\Anaconda3\\lib\\site-packages\\statsmodels\\regression\\linear_model.py:1698: RuntimeWarning: divide by zero encountered in true_divide\n",
      "  return 1 - (np.divide(self.nobs - self.k_constant, self.df_resid)\n",
      "C:\\ProgramData\\Anaconda3\\lib\\site-packages\\statsmodels\\regression\\linear_model.py:1698: RuntimeWarning: invalid value encountered in double_scalars\n",
      "  return 1 - (np.divide(self.nobs - self.k_constant, self.df_resid)\n",
      "C:\\ProgramData\\Anaconda3\\lib\\site-packages\\scipy\\stats\\_distn_infrastructure.py:1932: RuntimeWarning: invalid value encountered in less_equal\n",
      "  cond2 = cond0 & (x <= _a)\n",
      "C:\\ProgramData\\Anaconda3\\lib\\site-packages\\statsmodels\\regression\\linear_model.py:1620: RuntimeWarning: divide by zero encountered in double_scalars\n",
      "  return np.dot(wresid, wresid) / self.df_resid\n",
      "C:\\ProgramData\\Anaconda3\\lib\\site-packages\\statsmodels\\regression\\linear_model.py:1698: RuntimeWarning: divide by zero encountered in true_divide\n",
      "  return 1 - (np.divide(self.nobs - self.k_constant, self.df_resid)\n",
      "C:\\ProgramData\\Anaconda3\\lib\\site-packages\\statsmodels\\regression\\linear_model.py:1698: RuntimeWarning: invalid value encountered in double_scalars\n",
      "  return 1 - (np.divide(self.nobs - self.k_constant, self.df_resid)\n",
      "C:\\ProgramData\\Anaconda3\\lib\\site-packages\\scipy\\stats\\_distn_infrastructure.py:1932: RuntimeWarning: invalid value encountered in less_equal\n",
      "  cond2 = cond0 & (x <= _a)\n",
      "C:\\ProgramData\\Anaconda3\\lib\\site-packages\\statsmodels\\regression\\linear_model.py:1620: RuntimeWarning: divide by zero encountered in double_scalars\n",
      "  return np.dot(wresid, wresid) / self.df_resid\n"
     ]
    },
    {
     "name": "stdout",
     "output_type": "stream",
     "text": [
      "\n",
      "\n",
      "\n",
      "Reg_seg 79, FOREIGN: lower bound 0.2, higher bound 0.3\n",
      "                            coef  std err  t  P>|t|\n",
      "OBRIGAÇÃO_FINAL_POR_SALA  0.0406      inf  0    NaN\n",
      "DIAS_FUNCIONAMENTO        0.0094      inf  0    NaN\n",
      "\n",
      "\n",
      "Reg_seg 80, BRAZILIAN: lower bound 0.2, higher bound 0.3\n",
      "                            coef  std err  t  P>|t|\n",
      "OBRIGAÇÃO_FINAL_POR_SALA  0.0569      inf  0    NaN\n",
      "DIAS_FUNCIONAMENTO        0.0049      inf  0    NaN\n",
      "\n",
      "\n",
      "Reg_seg 81, ALL: lower bound 0.3, higher bound 0.4\n",
      "                            coef  std err  t  P>|t|\n",
      "OBRIGAÇÃO_FINAL_POR_SALA  0.0479      inf  0    NaN\n",
      "DIAS_FUNCIONAMENTO       -0.0002      inf  0    NaN\n",
      "\n",
      "\n",
      "Reg_seg 82, FOREIGN: lower bound 0.3, higher bound 0.4\n",
      "                              coef  std err  t  P>|t|\n",
      "OBRIGAÇÃO_FINAL_POR_SALA  0.051500      inf  0    NaN\n",
      "DIAS_FUNCIONAMENTO        0.000008      inf  0    NaN\n",
      "\n",
      "\n",
      "Reg_seg 83, BRAZILIAN: lower bound 0.3, higher bound 0.4\n",
      "                            coef  std err  t  P>|t|\n",
      "OBRIGAÇÃO_FINAL_POR_SALA -0.0040      inf  0    NaN\n",
      "DIAS_FUNCIONAMENTO       -0.0043      inf  0    NaN\n",
      "\n",
      "\n",
      "Reg_seg 84, ALL: lower bound 0.4, higher bound 0.5\n"
     ]
    },
    {
     "name": "stderr",
     "output_type": "stream",
     "text": [
      "C:\\ProgramData\\Anaconda3\\lib\\site-packages\\statsmodels\\regression\\linear_model.py:1698: RuntimeWarning: divide by zero encountered in true_divide\n",
      "  return 1 - (np.divide(self.nobs - self.k_constant, self.df_resid)\n",
      "C:\\ProgramData\\Anaconda3\\lib\\site-packages\\statsmodels\\regression\\linear_model.py:1698: RuntimeWarning: invalid value encountered in double_scalars\n",
      "  return 1 - (np.divide(self.nobs - self.k_constant, self.df_resid)\n",
      "C:\\ProgramData\\Anaconda3\\lib\\site-packages\\scipy\\stats\\_distn_infrastructure.py:1932: RuntimeWarning: invalid value encountered in less_equal\n",
      "  cond2 = cond0 & (x <= _a)\n",
      "C:\\ProgramData\\Anaconda3\\lib\\site-packages\\statsmodels\\regression\\linear_model.py:1620: RuntimeWarning: divide by zero encountered in double_scalars\n",
      "  return np.dot(wresid, wresid) / self.df_resid\n",
      "C:\\ProgramData\\Anaconda3\\lib\\site-packages\\statsmodels\\regression\\linear_model.py:1698: RuntimeWarning: divide by zero encountered in true_divide\n",
      "  return 1 - (np.divide(self.nobs - self.k_constant, self.df_resid)\n",
      "C:\\ProgramData\\Anaconda3\\lib\\site-packages\\statsmodels\\regression\\linear_model.py:1698: RuntimeWarning: invalid value encountered in double_scalars\n",
      "  return 1 - (np.divide(self.nobs - self.k_constant, self.df_resid)\n",
      "C:\\ProgramData\\Anaconda3\\lib\\site-packages\\scipy\\stats\\_distn_infrastructure.py:1932: RuntimeWarning: invalid value encountered in less_equal\n",
      "  cond2 = cond0 & (x <= _a)\n",
      "C:\\ProgramData\\Anaconda3\\lib\\site-packages\\statsmodels\\regression\\linear_model.py:1620: RuntimeWarning: divide by zero encountered in double_scalars\n",
      "  return np.dot(wresid, wresid) / self.df_resid\n",
      "C:\\ProgramData\\Anaconda3\\lib\\site-packages\\statsmodels\\regression\\linear_model.py:1698: RuntimeWarning: divide by zero encountered in true_divide\n",
      "  return 1 - (np.divide(self.nobs - self.k_constant, self.df_resid)\n",
      "C:\\ProgramData\\Anaconda3\\lib\\site-packages\\statsmodels\\regression\\linear_model.py:1698: RuntimeWarning: invalid value encountered in double_scalars\n",
      "  return 1 - (np.divide(self.nobs - self.k_constant, self.df_resid)\n",
      "C:\\ProgramData\\Anaconda3\\lib\\site-packages\\scipy\\stats\\_distn_infrastructure.py:1932: RuntimeWarning: invalid value encountered in less_equal\n",
      "  cond2 = cond0 & (x <= _a)\n",
      "C:\\ProgramData\\Anaconda3\\lib\\site-packages\\statsmodels\\regression\\linear_model.py:1620: RuntimeWarning: divide by zero encountered in double_scalars\n",
      "  return np.dot(wresid, wresid) / self.df_resid\n",
      "C:\\ProgramData\\Anaconda3\\lib\\site-packages\\statsmodels\\regression\\linear_model.py:1698: RuntimeWarning: divide by zero encountered in true_divide\n",
      "  return 1 - (np.divide(self.nobs - self.k_constant, self.df_resid)\n",
      "C:\\ProgramData\\Anaconda3\\lib\\site-packages\\statsmodels\\regression\\linear_model.py:1698: RuntimeWarning: invalid value encountered in double_scalars\n",
      "  return 1 - (np.divide(self.nobs - self.k_constant, self.df_resid)\n",
      "C:\\ProgramData\\Anaconda3\\lib\\site-packages\\scipy\\stats\\_distn_infrastructure.py:1932: RuntimeWarning: invalid value encountered in less_equal\n",
      "  cond2 = cond0 & (x <= _a)\n",
      "C:\\ProgramData\\Anaconda3\\lib\\site-packages\\statsmodels\\regression\\linear_model.py:1620: RuntimeWarning: divide by zero encountered in double_scalars\n",
      "  return np.dot(wresid, wresid) / self.df_resid\n",
      "C:\\ProgramData\\Anaconda3\\lib\\site-packages\\statsmodels\\regression\\linear_model.py:1698: RuntimeWarning: divide by zero encountered in true_divide\n",
      "  return 1 - (np.divide(self.nobs - self.k_constant, self.df_resid)\n",
      "C:\\ProgramData\\Anaconda3\\lib\\site-packages\\statsmodels\\regression\\linear_model.py:1698: RuntimeWarning: invalid value encountered in double_scalars\n",
      "  return 1 - (np.divide(self.nobs - self.k_constant, self.df_resid)\n",
      "C:\\ProgramData\\Anaconda3\\lib\\site-packages\\scipy\\stats\\_distn_infrastructure.py:1932: RuntimeWarning: invalid value encountered in less_equal\n",
      "  cond2 = cond0 & (x <= _a)\n",
      "C:\\ProgramData\\Anaconda3\\lib\\site-packages\\statsmodels\\regression\\linear_model.py:1620: RuntimeWarning: divide by zero encountered in double_scalars\n",
      "  return np.dot(wresid, wresid) / self.df_resid\n"
     ]
    },
    {
     "name": "stdout",
     "output_type": "stream",
     "text": [
      "                            coef  std err      t  P>|t|\n",
      "OBRIGAÇÃO_FINAL_POR_SALA  0.0004    0.001  0.276  0.809\n",
      "DIAS_FUNCIONAMENTO        0.0033    0.001  3.919  0.059\n",
      "\n",
      "\n",
      "Reg_seg 85, FOREIGN: lower bound 0.4, higher bound 0.5\n",
      "                            coef  std err      t  P>|t|\n",
      "OBRIGAÇÃO_FINAL_POR_SALA -0.0025    0.001 -4.039  0.056\n",
      "DIAS_FUNCIONAMENTO        0.0030    0.000  7.629  0.017\n",
      "\n",
      "\n",
      "Reg_seg 86, BRAZILIAN: lower bound 0.4, higher bound 0.5\n",
      "                            coef  std err      t  P>|t|\n",
      "OBRIGAÇÃO_FINAL_POR_SALA  0.0241    0.033  0.735  0.539\n",
      "DIAS_FUNCIONAMENTO        0.0046    0.021  0.221  0.846\n",
      "\n",
      "\n",
      "Reg_seg 87, ALL: lower bound 0.5, higher bound 0.6\n",
      "                            coef  std err      t  P>|t|\n",
      "OBRIGAÇÃO_FINAL_POR_SALA  0.0121    0.006  1.939  0.110\n",
      "DIAS_FUNCIONAMENTO        0.0051    0.001  7.140  0.001\n",
      "\n",
      "\n",
      "Reg_seg 88, FOREIGN: lower bound 0.5, higher bound 0.6\n",
      "                            coef  std err      t  P>|t|\n",
      "OBRIGAÇÃO_FINAL_POR_SALA  0.0110    0.007  1.637  0.163\n",
      "DIAS_FUNCIONAMENTO        0.0053    0.001  6.804  0.001\n",
      "\n",
      "\n",
      "Reg_seg 89, BRAZILIAN: lower bound 0.5, higher bound 0.6\n",
      "                            coef  std err      t  P>|t|\n",
      "OBRIGAÇÃO_FINAL_POR_SALA  0.0133    0.011  1.193  0.286\n",
      "DIAS_FUNCIONAMENTO        0.0059    0.001  4.619  0.006\n",
      "\n",
      "\n",
      "Reg_seg 90, ALL: lower bound 0.6, higher bound 0.7\n",
      "                            coef  std err      t  P>|t|\n",
      "OBRIGAÇÃO_FINAL_POR_SALA  0.0043    0.004  0.982  0.371\n",
      "DIAS_FUNCIONAMENTO        0.0072    0.001  9.158  0.000\n",
      "\n",
      "\n",
      "Reg_seg 91, FOREIGN: lower bound 0.6, higher bound 0.7\n",
      "                            coef  std err       t  P>|t|\n",
      "OBRIGAÇÃO_FINAL_POR_SALA  0.0048    0.004   1.220  0.277\n",
      "DIAS_FUNCIONAMENTO        0.0076    0.001  10.916  0.000\n",
      "\n",
      "\n",
      "Reg_seg 92, BRAZILIAN: lower bound 0.6, higher bound 0.7\n",
      "                            coef  std err      t  P>|t|\n",
      "OBRIGAÇÃO_FINAL_POR_SALA -0.0084    0.032 -0.261  0.804\n",
      "DIAS_FUNCIONAMENTO        0.0066    0.006  1.148  0.303\n",
      "\n",
      "\n",
      "Reg_seg 93, ALL: lower bound 0.7, higher bound 0.8\n",
      "                            coef  std err      t  P>|t|\n",
      "OBRIGAÇÃO_FINAL_POR_SALA  0.0170    0.012  1.424  0.290\n",
      "DIAS_FUNCIONAMENTO        0.0059    0.005  1.111  0.382\n",
      "\n",
      "\n",
      "Reg_seg 94, FOREIGN: lower bound 0.7, higher bound 0.8\n",
      "                            coef  std err      t  P>|t|\n",
      "OBRIGAÇÃO_FINAL_POR_SALA  0.0157    0.008  1.924  0.194\n",
      "DIAS_FUNCIONAMENTO        0.0056    0.004  1.539  0.264\n",
      "\n",
      "\n",
      "Reg_seg 95, BRAZILIAN: lower bound 0.7, higher bound 0.8\n",
      "                            coef  std err      t  P>|t|\n",
      "OBRIGAÇÃO_FINAL_POR_SALA  0.0335    0.049  0.691  0.561\n",
      "DIAS_FUNCIONAMENTO        0.0058    0.022  0.270  0.812\n",
      "\n",
      "\n",
      "Reg_seg 96, ALL: lower bound 0.8, higher bound 0.9\n",
      "                            coef  std err  t  P>|t|\n",
      "OBRIGAÇÃO_FINAL_POR_SALA  0.0773      inf  0    NaN\n",
      "DIAS_FUNCIONAMENTO        0.0090      inf  0    NaN\n",
      "\n",
      "\n",
      "Reg_seg 97, FOREIGN: lower bound 0.8, higher bound 0.9\n",
      "                            coef  std err  t  P>|t|\n",
      "OBRIGAÇÃO_FINAL_POR_SALA  0.3372      inf  0    NaN\n",
      "DIAS_FUNCIONAMENTO       -0.0407      inf  0    NaN\n",
      "\n",
      "\n",
      "Reg_seg 98, BRAZILIAN: lower bound 0.8, higher bound 0.9\n",
      "                            coef  std err  t  P>|t|\n",
      "OBRIGAÇÃO_FINAL_POR_SALA -2.0693      inf  0    NaN\n",
      "DIAS_FUNCIONAMENTO        0.4181      inf  0    NaN\n",
      "\n",
      "\n",
      "Reg_seg 99, ALL: lower bound 0.9, higher bound 1.0\n"
     ]
    },
    {
     "name": "stderr",
     "output_type": "stream",
     "text": [
      "C:\\ProgramData\\Anaconda3\\lib\\site-packages\\statsmodels\\regression\\linear_model.py:1698: RuntimeWarning: divide by zero encountered in true_divide\n",
      "  return 1 - (np.divide(self.nobs - self.k_constant, self.df_resid)\n",
      "C:\\ProgramData\\Anaconda3\\lib\\site-packages\\statsmodels\\regression\\linear_model.py:1698: RuntimeWarning: invalid value encountered in double_scalars\n",
      "  return 1 - (np.divide(self.nobs - self.k_constant, self.df_resid)\n",
      "C:\\ProgramData\\Anaconda3\\lib\\site-packages\\scipy\\stats\\_distn_infrastructure.py:1932: RuntimeWarning: invalid value encountered in less_equal\n",
      "  cond2 = cond0 & (x <= _a)\n",
      "C:\\ProgramData\\Anaconda3\\lib\\site-packages\\statsmodels\\regression\\linear_model.py:1620: RuntimeWarning: divide by zero encountered in double_scalars\n",
      "  return np.dot(wresid, wresid) / self.df_resid\n",
      "C:\\ProgramData\\Anaconda3\\lib\\site-packages\\statsmodels\\regression\\linear_model.py:1698: RuntimeWarning: divide by zero encountered in true_divide\n",
      "  return 1 - (np.divide(self.nobs - self.k_constant, self.df_resid)\n",
      "C:\\ProgramData\\Anaconda3\\lib\\site-packages\\statsmodels\\regression\\linear_model.py:1698: RuntimeWarning: invalid value encountered in double_scalars\n",
      "  return 1 - (np.divide(self.nobs - self.k_constant, self.df_resid)\n",
      "C:\\ProgramData\\Anaconda3\\lib\\site-packages\\scipy\\stats\\_distn_infrastructure.py:1932: RuntimeWarning: invalid value encountered in less_equal\n",
      "  cond2 = cond0 & (x <= _a)\n",
      "C:\\ProgramData\\Anaconda3\\lib\\site-packages\\statsmodels\\regression\\linear_model.py:1620: RuntimeWarning: divide by zero encountered in double_scalars\n",
      "  return np.dot(wresid, wresid) / self.df_resid\n",
      "C:\\ProgramData\\Anaconda3\\lib\\site-packages\\statsmodels\\regression\\linear_model.py:1698: RuntimeWarning: divide by zero encountered in true_divide\n",
      "  return 1 - (np.divide(self.nobs - self.k_constant, self.df_resid)\n",
      "C:\\ProgramData\\Anaconda3\\lib\\site-packages\\statsmodels\\regression\\linear_model.py:1698: RuntimeWarning: invalid value encountered in double_scalars\n",
      "  return 1 - (np.divide(self.nobs - self.k_constant, self.df_resid)\n",
      "C:\\ProgramData\\Anaconda3\\lib\\site-packages\\scipy\\stats\\_distn_infrastructure.py:1932: RuntimeWarning: invalid value encountered in less_equal\n",
      "  cond2 = cond0 & (x <= _a)\n",
      "C:\\ProgramData\\Anaconda3\\lib\\site-packages\\statsmodels\\regression\\linear_model.py:1620: RuntimeWarning: divide by zero encountered in double_scalars\n",
      "  return np.dot(wresid, wresid) / self.df_resid\n"
     ]
    },
    {
     "name": "stdout",
     "output_type": "stream",
     "text": [
      "                            coef  std err       t  P>|t|\n",
      "OBRIGAÇÃO_FINAL_POR_SALA -0.0005    0.001  -0.381  0.704\n",
      "DIAS_FUNCIONAMENTO        0.0050    0.000  10.686  0.000\n",
      "\n",
      "\n",
      "Reg_seg 100, FOREIGN: lower bound 0.9, higher bound 1.0\n",
      "                            coef  std err      t  P>|t|\n",
      "OBRIGAÇÃO_FINAL_POR_SALA -0.0018    0.001 -1.223  0.226\n",
      "DIAS_FUNCIONAMENTO        0.0049    0.001  9.833  0.000\n",
      "\n",
      "\n",
      "Reg_seg 101, BRAZILIAN: lower bound 0.9, higher bound 1.0\n",
      "                            coef  std err      t  P>|t|\n",
      "OBRIGAÇÃO_FINAL_POR_SALA  0.0056    0.007  0.823  0.414\n",
      "DIAS_FUNCIONAMENTO        0.0070    0.002  3.038  0.003\n",
      "\n",
      "\n",
      "Reg_seg 102, ALL: lower bound 1.0, higher bound 1.1\n",
      "                            coef  std err       t  P>|t|\n",
      "OBRIGAÇÃO_FINAL_POR_SALA  0.0005    0.001   0.438  0.662\n",
      "DIAS_FUNCIONAMENTO        0.0050    0.000  21.183  0.000\n",
      "\n",
      "\n",
      "Reg_seg 103, FOREIGN: lower bound 1.0, higher bound 1.1\n",
      "                            coef  std err       t  P>|t|\n",
      "OBRIGAÇÃO_FINAL_POR_SALA -0.0012    0.001  -1.107   0.27\n",
      "DIAS_FUNCIONAMENTO        0.0053    0.000  22.511   0.00\n",
      "\n",
      "\n",
      "Reg_seg 104, BRAZILIAN: lower bound 1.0, higher bound 1.1\n",
      "                            coef  std err      t  P>|t|\n",
      "OBRIGAÇÃO_FINAL_POR_SALA  0.0127    0.004  3.485  0.001\n",
      "DIAS_FUNCIONAMENTO        0.0028    0.001  3.587  0.000\n",
      "\n",
      "\n",
      "Reg_seg 105, ALL: lower bound 1.1, higher bound 1.2\n",
      "                            coef  std err       t  P>|t|\n",
      "OBRIGAÇÃO_FINAL_POR_SALA -0.0070    0.002  -3.142  0.196\n",
      "DIAS_FUNCIONAMENTO        0.0239    0.000  64.123  0.010\n",
      "\n",
      "\n",
      "Reg_seg 106, FOREIGN: lower bound 1.1, higher bound 1.2\n",
      "                            coef  std err        t  P>|t|\n",
      "OBRIGAÇÃO_FINAL_POR_SALA -0.0118    0.001  -10.887  0.058\n",
      "DIAS_FUNCIONAMENTO        0.0253    0.000  138.865  0.005\n",
      "\n",
      "\n",
      "Reg_seg 107, BRAZILIAN: lower bound 1.1, higher bound 1.2\n",
      "                            coef  std err      t  P>|t|\n",
      "OBRIGAÇÃO_FINAL_POR_SALA  0.0294    0.009  3.151  0.196\n",
      "DIAS_FUNCIONAMENTO        0.0149    0.002  9.513  0.067\n",
      "\n",
      "\n",
      "Reg_seg 108, ALL: lower bound 1.2, higher bound 1.3\n",
      "                            coef  std err  t  P>|t|\n",
      "OBRIGAÇÃO_FINAL_POR_SALA  0.0746      inf  0    NaN\n",
      "DIAS_FUNCIONAMENTO        0.0104      inf  0    NaN\n",
      "\n",
      "\n",
      "Reg_seg 109, FOREIGN: lower bound 1.2, higher bound 1.3\n",
      "                            coef  std err  t  P>|t|\n",
      "OBRIGAÇÃO_FINAL_POR_SALA  0.0742      inf  0    NaN\n",
      "DIAS_FUNCIONAMENTO        0.0104      inf  0    NaN\n",
      "\n",
      "\n",
      "Reg_seg 110, BRAZILIAN: lower bound 1.2, higher bound 1.3\n",
      "                            coef  std err  t  P>|t|\n",
      "OBRIGAÇÃO_FINAL_POR_SALA  0.0881      inf  0    NaN\n",
      "DIAS_FUNCIONAMENTO        0.0083      inf  0    NaN\n"
     ]
    },
    {
     "name": "stderr",
     "output_type": "stream",
     "text": [
      "C:\\ProgramData\\Anaconda3\\lib\\site-packages\\statsmodels\\regression\\linear_model.py:1698: RuntimeWarning: divide by zero encountered in true_divide\n",
      "  return 1 - (np.divide(self.nobs - self.k_constant, self.df_resid)\n",
      "C:\\ProgramData\\Anaconda3\\lib\\site-packages\\statsmodels\\regression\\linear_model.py:1698: RuntimeWarning: invalid value encountered in double_scalars\n",
      "  return 1 - (np.divide(self.nobs - self.k_constant, self.df_resid)\n",
      "C:\\ProgramData\\Anaconda3\\lib\\site-packages\\scipy\\stats\\_distn_infrastructure.py:1932: RuntimeWarning: invalid value encountered in less_equal\n",
      "  cond2 = cond0 & (x <= _a)\n",
      "C:\\ProgramData\\Anaconda3\\lib\\site-packages\\statsmodels\\regression\\linear_model.py:1620: RuntimeWarning: divide by zero encountered in double_scalars\n",
      "  return np.dot(wresid, wresid) / self.df_resid\n",
      "C:\\ProgramData\\Anaconda3\\lib\\site-packages\\statsmodels\\regression\\linear_model.py:1698: RuntimeWarning: divide by zero encountered in true_divide\n",
      "  return 1 - (np.divide(self.nobs - self.k_constant, self.df_resid)\n",
      "C:\\ProgramData\\Anaconda3\\lib\\site-packages\\statsmodels\\regression\\linear_model.py:1698: RuntimeWarning: invalid value encountered in double_scalars\n",
      "  return 1 - (np.divide(self.nobs - self.k_constant, self.df_resid)\n",
      "C:\\ProgramData\\Anaconda3\\lib\\site-packages\\scipy\\stats\\_distn_infrastructure.py:1932: RuntimeWarning: invalid value encountered in less_equal\n",
      "  cond2 = cond0 & (x <= _a)\n",
      "C:\\ProgramData\\Anaconda3\\lib\\site-packages\\statsmodels\\regression\\linear_model.py:1620: RuntimeWarning: divide by zero encountered in double_scalars\n",
      "  return np.dot(wresid, wresid) / self.df_resid\n",
      "C:\\ProgramData\\Anaconda3\\lib\\site-packages\\statsmodels\\regression\\linear_model.py:1698: RuntimeWarning: divide by zero encountered in true_divide\n",
      "  return 1 - (np.divide(self.nobs - self.k_constant, self.df_resid)\n",
      "C:\\ProgramData\\Anaconda3\\lib\\site-packages\\statsmodels\\regression\\linear_model.py:1698: RuntimeWarning: invalid value encountered in double_scalars\n",
      "  return 1 - (np.divide(self.nobs - self.k_constant, self.df_resid)\n",
      "C:\\ProgramData\\Anaconda3\\lib\\site-packages\\scipy\\stats\\_distn_infrastructure.py:1932: RuntimeWarning: invalid value encountered in less_equal\n",
      "  cond2 = cond0 & (x <= _a)\n",
      "C:\\ProgramData\\Anaconda3\\lib\\site-packages\\statsmodels\\regression\\linear_model.py:1620: RuntimeWarning: divide by zero encountered in double_scalars\n",
      "  return np.dot(wresid, wresid) / self.df_resid\n"
     ]
    },
    {
     "name": "stdout",
     "output_type": "stream",
     "text": [
      "\n",
      "\n",
      "Reg_seg 111, ALL: lower bound 1.3, higher bound 50\n",
      "                            coef  std err      t  P>|t|\n",
      "OBRIGAÇÃO_FINAL_POR_SALA -0.0055    0.010 -0.559  0.593\n",
      "DIAS_FUNCIONAMENTO        0.0139    0.002  5.889  0.001\n",
      "\n",
      "\n",
      "Reg_seg 112, FOREIGN: lower bound 1.3, higher bound 50\n",
      "                            coef  std err      t  P>|t|\n",
      "OBRIGAÇÃO_FINAL_POR_SALA  0.0355    0.049  0.727  0.495\n",
      "DIAS_FUNCIONAMENTO        0.0193    0.012  1.626  0.155\n",
      "\n",
      "\n",
      "Reg_seg 113, BRAZILIAN: lower bound 1.3, higher bound 50\n",
      "                            coef  std err      t  P>|t|\n",
      "OBRIGAÇÃO_FINAL_POR_SALA -0.0107    0.010 -1.050  0.329\n",
      "DIAS_FUNCIONAMENTO        0.0123    0.002  5.007  0.002\n",
      "\n",
      "\n"
     ]
    }
   ],
   "source": [
    "works = ['ALL', 'FOREIGN', 'BRAZILIAN']\n",
    "\n",
    "for i in range(last_count,count_regs):\n",
    "    print(f'Reg_seg {i}, {works[i%3]}: lower bound {bounds[(i-last_count)//3]}, higher bound {bounds[((i-last_count)//3)+1]}')\n",
    "    print(pd.read_html(seg_regs[f'reg_seg{i}'].summary().\n",
    "                       tables[1].as_html(),header=0,index_col=0)[0].iloc[-2:,:-2])\n",
    "    print('\\n')"
   ]
  },
  {
   "cell_type": "markdown",
   "metadata": {},
   "source": [
    "#### Bounds - [0, 0.85, 0.95, 1.05, 1.15, 50]"
   ]
  },
  {
   "cell_type": "code",
   "execution_count": 210,
   "metadata": {
    "ExecuteTime": {
     "end_time": "2021-06-22T00:11:23.946240Z",
     "start_time": "2021-06-22T00:11:23.208209Z"
    }
   },
   "outputs": [
    {
     "name": "stdout",
     "output_type": "stream",
     "text": [
      "129\n"
     ]
    }
   ],
   "source": [
    "bounds = [0, 0.85, 0.95, 1.05, 1.15, 50]\n",
    "\n",
    "last_count = count_regs\n",
    "\n",
    "formul = 'np.log(RENDA) ~ OBRIGAÇÃO_FINAL_POR_SALA + DIAS_FUNCIONAMENTO + C(REGISTRO_COMPLEXO) + C(ANO_CINEMATOGRAFICO)'\n",
    "\n",
    "for i in range(len(bounds)-1):\n",
    "    seg_regs[f'reg_seg{count_regs}'] = smf.ols(formula=formul, \n",
    "                    data = tds_1718[tds_1718.CUMPRIMENTO_PROPORCIONAL.between(bounds[i],bounds[i+1])]).fit()\n",
    "    count_regs += 1\n",
    "    seg_regs[f'reg_seg{count_regs}'] = smf.ols(formula=formul, \n",
    "                    data = est_1718[est_1718.CUMPRIMENTO_PROPORCIONAL.between(bounds[i],bounds[i+1])]).fit()\n",
    "    count_regs += 1\n",
    "    seg_regs[f'reg_seg{count_regs}'] = smf.ols(formula=formul, \n",
    "                    data = bras_1718[bras_1718.CUMPRIMENTO_PROPORCIONAL.between(bounds[i],bounds[i+1])]).fit()\n",
    "    count_regs += 1\n",
    "\n",
    "print(count_regs)"
   ]
  },
  {
   "cell_type": "code",
   "execution_count": 211,
   "metadata": {
    "ExecuteTime": {
     "end_time": "2021-06-22T00:11:25.625706Z",
     "start_time": "2021-06-22T00:11:23.948245Z"
    },
    "scrolled": true
   },
   "outputs": [
    {
     "name": "stdout",
     "output_type": "stream",
     "text": [
      "Reg_seg 114, ALL: lower bound 0, higher bound 0.85\n",
      "                            coef  std err       t  P>|t|\n",
      "OBRIGAÇÃO_FINAL_POR_SALA  0.0037    0.002   1.755  0.081\n",
      "DIAS_FUNCIONAMENTO        0.0064    0.000  17.074  0.000\n",
      "\n",
      "\n",
      "Reg_seg 115, FOREIGN: lower bound 0, higher bound 0.85\n",
      "                            coef  std err       t  P>|t|\n",
      "OBRIGAÇÃO_FINAL_POR_SALA  0.0038    0.002   1.889  0.061\n",
      "DIAS_FUNCIONAMENTO        0.0065    0.000  18.179  0.000\n",
      "\n",
      "\n",
      "Reg_seg 116, BRAZILIAN: lower bound 0, higher bound 0.85\n",
      "                            coef  std err     t  P>|t|\n",
      "OBRIGAÇÃO_FINAL_POR_SALA -0.0050    0.005 -0.98  0.329\n",
      "DIAS_FUNCIONAMENTO        0.0048    0.001  4.35  0.000\n",
      "\n",
      "\n",
      "Reg_seg 117, ALL: lower bound 0.85, higher bound 0.95\n",
      "                            coef  std err      t  P>|t|\n",
      "OBRIGAÇÃO_FINAL_POR_SALA  0.0952    0.081  1.178  0.448\n",
      "DIAS_FUNCIONAMENTO        0.0195    0.009  2.097  0.283\n",
      "\n",
      "\n",
      "Reg_seg 118, FOREIGN: lower bound 0.85, higher bound 0.95\n",
      "                            coef  std err      t  P>|t|\n",
      "OBRIGAÇÃO_FINAL_POR_SALA  0.3159    0.064  4.952  0.127\n",
      "DIAS_FUNCIONAMENTO        0.0111    0.007  1.509  0.373\n",
      "\n",
      "\n",
      "Reg_seg 119, BRAZILIAN: lower bound 0.85, higher bound 0.95\n",
      "                            coef  std err       t  P>|t|\n",
      "OBRIGAÇÃO_FINAL_POR_SALA -1.7528    0.166 -10.549  0.060\n",
      "DIAS_FUNCIONAMENTO        0.0961    0.019   5.017  0.125\n",
      "\n",
      "\n",
      "Reg_seg 120, ALL: lower bound 0.95, higher bound 1.05\n",
      "                            coef  std err       t  P>|t|\n",
      "OBRIGAÇÃO_FINAL_POR_SALA -0.0001    0.001  -0.123  0.902\n",
      "DIAS_FUNCIONAMENTO        0.0056    0.000  21.409  0.000\n",
      "\n",
      "\n",
      "Reg_seg 121, FOREIGN: lower bound 0.95, higher bound 1.05\n",
      "                            coef  std err       t  P>|t|\n",
      "OBRIGAÇÃO_FINAL_POR_SALA -0.0020    0.001  -1.837  0.069\n",
      "DIAS_FUNCIONAMENTO        0.0059    0.000  22.091  0.000\n",
      "\n",
      "\n",
      "Reg_seg 122, BRAZILIAN: lower bound 0.95, higher bound 1.05\n",
      "                            coef  std err      t  P>|t|\n",
      "OBRIGAÇÃO_FINAL_POR_SALA  0.0136    0.004  3.388  0.001\n",
      "DIAS_FUNCIONAMENTO        0.0036    0.001  3.592  0.000\n",
      "\n",
      "\n",
      "Reg_seg 123, ALL: lower bound 1.05, higher bound 1.15\n",
      "                              coef  std err      t  P>|t|\n",
      "OBRIGAÇÃO_FINAL_POR_SALA -0.000068    0.004 -0.017  0.987\n",
      "DIAS_FUNCIONAMENTO        0.004100    0.001  4.700  0.000\n",
      "\n",
      "\n",
      "Reg_seg 124, FOREIGN: lower bound 1.05, higher bound 1.15\n",
      "                            coef  std err      t  P>|t|\n",
      "OBRIGAÇÃO_FINAL_POR_SALA -0.0026    0.004 -0.589  0.561\n",
      "DIAS_FUNCIONAMENTO        0.0046    0.001  4.877  0.000\n",
      "\n",
      "\n",
      "Reg_seg 125, BRAZILIAN: lower bound 1.05, higher bound 1.15\n",
      "                            coef  std err      t  P>|t|\n",
      "OBRIGAÇÃO_FINAL_POR_SALA  0.0156    0.012  1.258  0.220\n",
      "DIAS_FUNCIONAMENTO        0.0009    0.003  0.338  0.738\n",
      "\n",
      "\n",
      "Reg_seg 126, ALL: lower bound 1.15, higher bound 50\n",
      "                            coef  std err      t  P>|t|\n",
      "OBRIGAÇÃO_FINAL_POR_SALA  0.0099    0.006  1.561  0.132\n",
      "DIAS_FUNCIONAMENTO        0.0053    0.001  5.756  0.000\n",
      "\n",
      "\n",
      "Reg_seg 127, FOREIGN: lower bound 1.15, higher bound 50\n",
      "                            coef  std err      t  P>|t|\n",
      "OBRIGAÇÃO_FINAL_POR_SALA  0.0314    0.020  1.607  0.122\n",
      "DIAS_FUNCIONAMENTO        0.0053    0.003  1.922  0.068\n",
      "\n",
      "\n",
      "Reg_seg 128, BRAZILIAN: lower bound 1.15, higher bound 50\n",
      "                            coef  std err      t  P>|t|\n",
      "OBRIGAÇÃO_FINAL_POR_SALA  0.0079    0.010  0.761  0.454\n",
      "DIAS_FUNCIONAMENTO        0.0061    0.002  4.048  0.000\n",
      "\n",
      "\n"
     ]
    }
   ],
   "source": [
    "works = ['ALL', 'FOREIGN', 'BRAZILIAN']\n",
    "\n",
    "for i in range(last_count,count_regs):\n",
    "    print(f'Reg_seg {i}, {works[i%3]}: lower bound {bounds[(i-last_count)//3]}, higher bound {bounds[((i-last_count)//3)+1]}')\n",
    "    print(pd.read_html(seg_regs[f'reg_seg{i}'].summary().\n",
    "                       tables[1].as_html(),header=0,index_col=0)[0].iloc[-2:,:-2])\n",
    "    print('\\n')"
   ]
  },
  {
   "cell_type": "markdown",
   "metadata": {},
   "source": [
    "#### Bounds - [0.99, 1.01]"
   ]
  },
  {
   "cell_type": "code",
   "execution_count": 212,
   "metadata": {
    "ExecuteTime": {
     "end_time": "2021-06-22T00:11:25.805258Z",
     "start_time": "2021-06-22T00:11:25.627712Z"
    }
   },
   "outputs": [
    {
     "name": "stdout",
     "output_type": "stream",
     "text": [
      "132\n"
     ]
    }
   ],
   "source": [
    "bounds = [0.99, 1.01]\n",
    "\n",
    "last_count = count_regs\n",
    "\n",
    "formul = 'np.log(RENDA) ~ OBRIGAÇÃO_FINAL_POR_SALA + DIAS_FUNCIONAMENTO + C(REGISTRO_COMPLEXO) + C(ANO_CINEMATOGRAFICO)'\n",
    "\n",
    "for i in range(len(bounds)-1):\n",
    "    seg_regs[f'reg_seg{count_regs}'] = smf.ols(formula=formul, \n",
    "                    data = tds_1718[tds_1718.CUMPRIMENTO_PROPORCIONAL.between(bounds[i],bounds[i+1])]).fit()\n",
    "    count_regs += 1\n",
    "    seg_regs[f'reg_seg{count_regs}'] = smf.ols(formula=formul, \n",
    "                    data = est_1718[est_1718.CUMPRIMENTO_PROPORCIONAL.between(bounds[i],bounds[i+1])]).fit()\n",
    "    count_regs += 1\n",
    "    seg_regs[f'reg_seg{count_regs}'] = smf.ols(formula=formul, \n",
    "                    data = bras_1718[bras_1718.CUMPRIMENTO_PROPORCIONAL.between(bounds[i],bounds[i+1])]).fit()\n",
    "    count_regs += 1\n",
    "\n",
    "print(count_regs)"
   ]
  },
  {
   "cell_type": "code",
   "execution_count": 213,
   "metadata": {
    "ExecuteTime": {
     "end_time": "2021-06-22T00:11:26.085003Z",
     "start_time": "2021-06-22T00:11:25.807264Z"
    },
    "scrolled": true
   },
   "outputs": [
    {
     "name": "stdout",
     "output_type": "stream",
     "text": [
      "Reg_seg 129, ALL: lower bound 0.99, higher bound 1.01\n",
      "                            coef  std err      t  P>|t|\n",
      "OBRIGAÇÃO_FINAL_POR_SALA  0.0011    0.002  0.734  0.466\n",
      "DIAS_FUNCIONAMENTO        0.0012    0.002  0.691  0.492\n",
      "\n",
      "\n",
      "Reg_seg 130, FOREIGN: lower bound 0.99, higher bound 1.01\n",
      "                            coef  std err      t  P>|t|\n",
      "OBRIGAÇÃO_FINAL_POR_SALA -0.0016    0.002 -0.935  0.353\n",
      "DIAS_FUNCIONAMENTO        0.0031    0.002  1.619  0.110\n",
      "\n",
      "\n",
      "Reg_seg 131, BRAZILIAN: lower bound 0.99, higher bound 1.01\n",
      "                            coef  std err      t  P>|t|\n",
      "OBRIGAÇÃO_FINAL_POR_SALA  0.0216    0.006  3.708  0.000\n",
      "DIAS_FUNCIONAMENTO       -0.0202    0.007 -3.029  0.004\n",
      "\n",
      "\n"
     ]
    }
   ],
   "source": [
    "works = ['ALL', 'FOREIGN', 'BRAZILIAN']\n",
    "\n",
    "for i in range(last_count,count_regs):\n",
    "    print(f'Reg_seg {i}, {works[i%3]}: lower bound {bounds[(i-last_count)//3]}, higher bound {bounds[((i-last_count)//3)+1]}')\n",
    "    print(pd.read_html(seg_regs[f'reg_seg{i}'].summary().\n",
    "                       tables[1].as_html(),header=0,index_col=0)[0].iloc[-2:,:-2])\n",
    "    print('\\n')"
   ]
  },
  {
   "cell_type": "markdown",
   "metadata": {},
   "source": [
    "## Alternative regressions"
   ]
  },
  {
   "cell_type": "markdown",
   "metadata": {},
   "source": [
    "### Dependent variable: number of opening days"
   ]
  },
  {
   "cell_type": "code",
   "execution_count": 219,
   "metadata": {
    "ExecuteTime": {
     "end_time": "2021-07-16T03:23:51.545037Z",
     "start_time": "2021-07-16T03:23:51.541026Z"
    }
   },
   "outputs": [],
   "source": [
    "complex_days = {}\n",
    "\n",
    "d_count = 0\n",
    "\n",
    "weight_funcs = [\n",
    "    'CUMP_QUADRATIC','CUMP_NORMALIZADO', 'CUMP_LINEAR','CUMP_TRIWEIGHT']"
   ]
  },
  {
   "cell_type": "markdown",
   "metadata": {},
   "source": [
    "#### 2017-2019"
   ]
  },
  {
   "cell_type": "code",
   "execution_count": 220,
   "metadata": {
    "ExecuteTime": {
     "end_time": "2021-07-16T03:24:01.021694Z",
     "start_time": "2021-07-16T03:23:52.664993Z"
    }
   },
   "outputs": [],
   "source": [
    "last_d_count = d_count # to get num range of regressions to be executed\n",
    "\n",
    "for f in weight_funcs:\n",
    "    # adjust formula as we run through the weighting funcs\n",
    "    formul = f'DIAS_FUNCIONAMENTO ~ OBRIGAÇÃO_TOTAL_POR_SALA*{f} + C(REGISTRO_COMPLEXO) + C(ANO_CINEMATOGRAFICO)'\n",
    "    complex_days[f'reg_cd{d_count}'] = smf.ols(formula = formul, data=tds_1719).fit()\n",
    "    d_count += 1\n",
    "    complex_days[f'reg_cd{d_count}'] = smf.ols(formula = formul, data=est_1719).fit()\n",
    "    d_count += 1\n",
    "    complex_days[f'reg_cd{d_count}'] = smf.ols(formula = formul, data=bras_1719).fit()\n",
    "    d_count += 1"
   ]
  },
  {
   "cell_type": "code",
   "execution_count": 221,
   "metadata": {
    "ExecuteTime": {
     "end_time": "2021-07-16T03:24:06.005953Z",
     "start_time": "2021-07-16T03:24:01.021694Z"
    }
   },
   "outputs": [
    {
     "name": "stdout",
     "output_type": "stream",
     "text": [
      "Reg_complex_days 0, ALL, weighting function CUMP_QUADRATIC:\n",
      "                                            coef  std err      t  P>|t|\n",
      "OBRIGAÇÃO_TOTAL_POR_SALA                 -0.3288    0.772 -0.426  0.670\n",
      "CUMP_QUADRATIC                           37.0108   29.696  1.246  0.213\n",
      "OBRIGAÇÃO_TOTAL_POR_SALA:CUMP_QUADRATIC   0.5683    0.823  0.690  0.490\n",
      "\n",
      "\n",
      "Reg_complex_days 1, FOREIGN, weighting function CUMP_QUADRATIC:\n",
      "                                            coef  std err      t  P>|t|\n",
      "OBRIGAÇÃO_TOTAL_POR_SALA                 -0.3388    0.779 -0.435  0.664\n",
      "CUMP_QUADRATIC                           36.1906   30.076  1.203  0.229\n",
      "OBRIGAÇÃO_TOTAL_POR_SALA:CUMP_QUADRATIC   0.5846    0.830  0.705  0.481\n",
      "\n",
      "\n",
      "Reg_complex_days 2, BRAZILIAN, weighting function CUMP_QUADRATIC:\n",
      "                                            coef  std err      t  P>|t|\n",
      "OBRIGAÇÃO_TOTAL_POR_SALA                 -1.6298    0.731 -2.230  0.026\n",
      "CUMP_QUADRATIC                          -46.9744   28.876 -1.627  0.104\n",
      "OBRIGAÇÃO_TOTAL_POR_SALA:CUMP_QUADRATIC   2.0817    0.782  2.661  0.008\n",
      "\n",
      "\n",
      "Reg_complex_days 3, ALL, weighting function CUMP_NORMALIZADO:\n",
      "                                              coef  std err      t  P>|t|\n",
      "OBRIGAÇÃO_TOTAL_POR_SALA                   -2.4295    1.612 -1.507  0.132\n",
      "CUMP_NORMALIZADO                          -39.8730  138.969 -0.287  0.774\n",
      "OBRIGAÇÃO_TOTAL_POR_SALA:CUMP_NORMALIZADO   7.2275    4.160  1.737  0.083\n",
      "\n",
      "\n",
      "Reg_complex_days 4, FOREIGN, weighting function CUMP_NORMALIZADO:\n",
      "                                              coef  std err      t  P>|t|\n",
      "OBRIGAÇÃO_TOTAL_POR_SALA                   -2.3606    1.637 -1.442  0.149\n",
      "CUMP_NORMALIZADO                          -32.1737  143.244 -0.225  0.822\n",
      "OBRIGAÇÃO_TOTAL_POR_SALA:CUMP_NORMALIZADO   7.0583    4.225  1.670  0.095\n",
      "\n",
      "\n",
      "Reg_complex_days 5, BRAZILIAN, weighting function CUMP_NORMALIZADO:\n",
      "                                               coef  std err      t  P>|t|\n",
      "OBRIGAÇÃO_TOTAL_POR_SALA                    -3.5573    1.491 -2.386  0.017\n",
      "CUMP_NORMALIZADO                          -215.1098  129.074 -1.667  0.096\n",
      "OBRIGAÇÃO_TOTAL_POR_SALA:CUMP_NORMALIZADO    9.9723    3.845  2.593  0.010\n",
      "\n",
      "\n",
      "Reg_complex_days 6, ALL, weighting function CUMP_LINEAR:\n",
      "                                         coef  std err      t  P>|t|\n",
      "OBRIGAÇÃO_TOTAL_POR_SALA               0.5305    0.513  1.033  0.302\n",
      "CUMP_LINEAR                           60.7747   25.235  2.408  0.016\n",
      "OBRIGAÇÃO_TOTAL_POR_SALA:CUMP_LINEAR  -0.4160    0.614 -0.678  0.498\n",
      "\n",
      "\n",
      "Reg_complex_days 7, FOREIGN, weighting function CUMP_LINEAR:\n",
      "                                         coef  std err      t  P>|t|\n",
      "OBRIGAÇÃO_TOTAL_POR_SALA               0.5085    0.518  0.982  0.326\n",
      "CUMP_LINEAR                           59.2087   25.499  2.322  0.020\n",
      "OBRIGAÇÃO_TOTAL_POR_SALA:CUMP_LINEAR  -0.3856    0.618 -0.624  0.533\n",
      "\n",
      "\n",
      "Reg_complex_days 8, BRAZILIAN, weighting function CUMP_LINEAR:\n",
      "                                         coef  std err      t  P>|t|\n",
      "OBRIGAÇÃO_TOTAL_POR_SALA              -0.5201    0.482 -1.079  0.281\n",
      "CUMP_LINEAR                          -12.2171   24.182 -0.505  0.613\n",
      "OBRIGAÇÃO_TOTAL_POR_SALA:CUMP_LINEAR   0.9441    0.579  1.632  0.103\n",
      "\n",
      "\n",
      "Reg_complex_days 9, ALL, weighting function CUMP_TRIWEIGHT:\n",
      "                                            coef  std err      t  P>|t|\n",
      "OBRIGAÇÃO_TOTAL_POR_SALA                  0.4876    0.454  1.073  0.283\n",
      "CUMP_TRIWEIGHT                           38.0792   21.657  1.758  0.079\n",
      "OBRIGAÇÃO_TOTAL_POR_SALA:CUMP_TRIWEIGHT  -0.1925    0.526 -0.366  0.714\n",
      "\n",
      "\n",
      "Reg_complex_days 10, FOREIGN, weighting function CUMP_TRIWEIGHT:\n",
      "                                            coef  std err      t  P>|t|\n",
      "OBRIGAÇÃO_TOTAL_POR_SALA                  0.4554    0.458  0.995  0.320\n",
      "CUMP_TRIWEIGHT                           36.2311   21.806  1.662  0.097\n",
      "OBRIGAÇÃO_TOTAL_POR_SALA:CUMP_TRIWEIGHT  -0.1555    0.529 -0.294  0.769\n",
      "\n",
      "\n",
      "Reg_complex_days 11, BRAZILIAN, weighting function CUMP_TRIWEIGHT:\n",
      "                                            coef  std err      t  P>|t|\n",
      "OBRIGAÇÃO_TOTAL_POR_SALA                 -0.3588    0.423 -0.848  0.397\n",
      "CUMP_TRIWEIGHT                          -13.4196   20.413 -0.657  0.511\n",
      "OBRIGAÇÃO_TOTAL_POR_SALA:CUMP_TRIWEIGHT   0.7975    0.491  1.626  0.104\n",
      "\n",
      "\n"
     ]
    }
   ],
   "source": [
    "works = ['ALL', 'FOREIGN', 'BRAZILIAN']\n",
    "\n",
    "for i in range(last_d_count, d_count):\n",
    "    print(f'Reg_complex_days {i}, {works[i%3]}, weighting function {weight_funcs[(i-last_d_count)//3]}:')\n",
    "    print(pd.read_html(complex_days[f'reg_cd{i}'].summary().\n",
    "                       tables[1].as_html(),header=0,index_col=0)[0].iloc[-3:,:-2])\n",
    "    print('\\n')"
   ]
  },
  {
   "cell_type": "markdown",
   "metadata": {},
   "source": [
    "#### 2017-2018"
   ]
  },
  {
   "cell_type": "code",
   "execution_count": 222,
   "metadata": {
    "ExecuteTime": {
     "end_time": "2021-07-16T03:24:11.051477Z",
     "start_time": "2021-07-16T03:24:06.007957Z"
    }
   },
   "outputs": [],
   "source": [
    "last_d_count = d_count # to get num range of regressions to be executed\n",
    "\n",
    "for f in weight_funcs:\n",
    "    # adjust formula as we run through the weighting funcs\n",
    "    formul = f'DIAS_FUNCIONAMENTO ~ OBRIGAÇÃO_TOTAL_POR_SALA*{f} + C(REGISTRO_COMPLEXO) + C(ANO_CINEMATOGRAFICO)'\n",
    "    complex_days[f'reg_cd{d_count}'] = smf.ols(formula = formul, data=tds_1718).fit()\n",
    "    d_count += 1\n",
    "    complex_days[f'reg_cd{d_count}'] = smf.ols(formula = formul, data=est_1718).fit()\n",
    "    d_count += 1\n",
    "    complex_days[f'reg_cd{d_count}'] = smf.ols(formula = formul, data=bras_1718).fit()\n",
    "    d_count += 1"
   ]
  },
  {
   "cell_type": "code",
   "execution_count": 223,
   "metadata": {
    "ExecuteTime": {
     "end_time": "2021-07-16T03:24:15.892599Z",
     "start_time": "2021-07-16T03:24:11.051477Z"
    }
   },
   "outputs": [
    {
     "name": "stdout",
     "output_type": "stream",
     "text": [
      "Reg_complex_days 12, ALL, weighting function CUMP_QUADRATIC:\n",
      "                                            coef  std err      t  P>|t|\n",
      "OBRIGAÇÃO_TOTAL_POR_SALA                  0.1607    2.455  0.065  0.948\n",
      "CUMP_QUADRATIC                           48.1702   41.535  1.160  0.247\n",
      "OBRIGAÇÃO_TOTAL_POR_SALA:CUMP_QUADRATIC   0.3867    1.157  0.334  0.738\n",
      "\n",
      "\n",
      "Reg_complex_days 13, FOREIGN, weighting function CUMP_QUADRATIC:\n",
      "                                            coef  std err      t  P>|t|\n",
      "OBRIGAÇÃO_TOTAL_POR_SALA                  0.1570    2.455  0.064  0.949\n",
      "CUMP_QUADRATIC                           48.0319   41.526  1.157  0.248\n",
      "OBRIGAÇÃO_TOTAL_POR_SALA:CUMP_QUADRATIC   0.3891    1.157  0.336  0.737\n",
      "\n",
      "\n",
      "Reg_complex_days 14, BRAZILIAN, weighting function CUMP_QUADRATIC:\n",
      "                                            coef  std err      t  P>|t|\n",
      "OBRIGAÇÃO_TOTAL_POR_SALA                 -0.2880    2.244 -0.128  0.898\n",
      "CUMP_QUADRATIC                          -40.8075   40.695 -1.003  0.316\n",
      "OBRIGAÇÃO_TOTAL_POR_SALA:CUMP_QUADRATIC   2.1381    1.104  1.937  0.053\n",
      "\n",
      "\n",
      "Reg_complex_days 15, ALL, weighting function CUMP_NORMALIZADO:\n",
      "                                               coef  std err      t  P>|t|\n",
      "OBRIGAÇÃO_TOTAL_POR_SALA                    -0.8075    3.065 -0.263  0.792\n",
      "CUMP_NORMALIZADO                           100.2095  199.656  0.502  0.616\n",
      "OBRIGAÇÃO_TOTAL_POR_SALA:CUMP_NORMALIZADO    4.6467    5.867  0.792  0.429\n",
      "\n",
      "\n",
      "Reg_complex_days 16, FOREIGN, weighting function CUMP_NORMALIZADO:\n",
      "                                               coef  std err      t  P>|t|\n",
      "OBRIGAÇÃO_TOTAL_POR_SALA                    -0.8107    3.065 -0.265  0.791\n",
      "CUMP_NORMALIZADO                           100.0796  199.610  0.501  0.616\n",
      "OBRIGAÇÃO_TOTAL_POR_SALA:CUMP_NORMALIZADO    4.6473    5.865  0.792  0.428\n",
      "\n",
      "\n",
      "Reg_complex_days 17, BRAZILIAN, weighting function CUMP_NORMALIZADO:\n",
      "                                               coef  std err      t  P>|t|\n",
      "OBRIGAÇÃO_TOTAL_POR_SALA                    -1.9047    2.795 -0.681  0.496\n",
      "CUMP_NORMALIZADO                          -137.9315  185.507 -0.744  0.457\n",
      "OBRIGAÇÃO_TOTAL_POR_SALA:CUMP_NORMALIZADO    9.0299    5.398  1.673  0.095\n",
      "\n",
      "\n",
      "Reg_complex_days 18, ALL, weighting function CUMP_LINEAR:\n",
      "                                         coef  std err      t  P>|t|\n",
      "OBRIGAÇÃO_TOTAL_POR_SALA               0.9459    2.408  0.393  0.695\n",
      "CUMP_LINEAR                           73.0414   36.096  2.024  0.043\n",
      "OBRIGAÇÃO_TOTAL_POR_SALA:CUMP_LINEAR  -0.6871    0.913 -0.752  0.452\n",
      "\n",
      "\n",
      "Reg_complex_days 19, FOREIGN, weighting function CUMP_LINEAR:\n",
      "                                         coef  std err      t  P>|t|\n",
      "OBRIGAÇÃO_TOTAL_POR_SALA               0.9419    2.407  0.391  0.696\n",
      "CUMP_LINEAR                           72.8189   36.089  2.018  0.044\n",
      "OBRIGAÇÃO_TOTAL_POR_SALA:CUMP_LINEAR  -0.6828    0.913 -0.748  0.455\n",
      "\n",
      "\n",
      "Reg_complex_days 20, BRAZILIAN, weighting function CUMP_LINEAR:\n",
      "                                        coef  std err      t  P>|t|\n",
      "OBRIGAÇÃO_TOTAL_POR_SALA              0.8303    2.186  0.380  0.704\n",
      "CUMP_LINEAR                           8.6218   34.283  0.251  0.802\n",
      "OBRIGAÇÃO_TOTAL_POR_SALA:CUMP_LINEAR  0.5551    0.854  0.650  0.516\n",
      "\n",
      "\n",
      "Reg_complex_days 21, ALL, weighting function CUMP_TRIWEIGHT:\n",
      "                                            coef  std err      t  P>|t|\n",
      "OBRIGAÇÃO_TOTAL_POR_SALA                  1.0536    2.404  0.438  0.661\n",
      "CUMP_TRIWEIGHT                           42.6915   30.564  1.397  0.163\n",
      "OBRIGAÇÃO_TOTAL_POR_SALA:CUMP_TRIWEIGHT  -0.3109    0.775 -0.401  0.688\n",
      "\n",
      "\n",
      "Reg_complex_days 22, FOREIGN, weighting function CUMP_TRIWEIGHT:\n",
      "                                            coef  std err      t  P>|t|\n",
      "OBRIGAÇÃO_TOTAL_POR_SALA                  1.0503    2.403  0.437  0.662\n",
      "CUMP_TRIWEIGHT                           42.5145   30.558  1.391  0.165\n",
      "OBRIGAÇÃO_TOTAL_POR_SALA:CUMP_TRIWEIGHT  -0.3078    0.775 -0.397  0.691\n",
      "\n",
      "\n",
      "Reg_complex_days 23, BRAZILIAN, weighting function CUMP_TRIWEIGHT:\n",
      "                                           coef  std err      t  P>|t|\n",
      "OBRIGAÇÃO_TOTAL_POR_SALA                 1.0658    2.172  0.491  0.624\n",
      "CUMP_TRIWEIGHT                           2.3785   28.505  0.083  0.934\n",
      "OBRIGAÇÃO_TOTAL_POR_SALA:CUMP_TRIWEIGHT  0.4975    0.715  0.696  0.487\n",
      "\n",
      "\n"
     ]
    }
   ],
   "source": [
    "works = ['ALL', 'FOREIGN', 'BRAZILIAN']\n",
    "\n",
    "for i in range(last_d_count, d_count):\n",
    "    print(f'Reg_complex_days {i}, {works[i%3]}, weighting function {weight_funcs[(i-last_d_count)//3]}:')\n",
    "    print(pd.read_html(complex_days[f'reg_cd{i}'].summary().\n",
    "                       tables[1].as_html(),header=0,index_col=0)[0].iloc[-3:,:-2])\n",
    "    print('\\n')"
   ]
  },
  {
   "cell_type": "markdown",
   "metadata": {},
   "source": [
    "### Dependent variable: number of sessions"
   ]
  },
  {
   "cell_type": "code",
   "execution_count": 224,
   "metadata": {
    "ExecuteTime": {
     "end_time": "2021-07-16T03:24:15.939725Z",
     "start_time": "2021-07-16T03:24:15.894605Z"
    }
   },
   "outputs": [],
   "source": [
    "complex_sessions = {}\n",
    "\n",
    "d_count = 0\n",
    "\n",
    "weight_funcs = [\n",
    "    'CUMP_QUADRATIC','CUMP_NORMALIZADO', 'CUMP_LINEAR','CUMP_TRIWEIGHT']"
   ]
  },
  {
   "cell_type": "markdown",
   "metadata": {},
   "source": [
    "#### 2017-2019"
   ]
  },
  {
   "cell_type": "code",
   "execution_count": 225,
   "metadata": {
    "ExecuteTime": {
     "end_time": "2021-07-16T03:24:24.785407Z",
     "start_time": "2021-07-16T03:24:15.941734Z"
    }
   },
   "outputs": [],
   "source": [
    "last_d_count = d_count # to get num range of regressions to be executed\n",
    "\n",
    "for f in weight_funcs:\n",
    "    # adjust formula as we run through the weighting funcs\n",
    "    formul = f'QTDE_SESSOES ~ OBRIGAÇÃO_TOTAL_POR_SALA*{f} + C(REGISTRO_COMPLEXO) + C(ANO_CINEMATOGRAFICO)'\n",
    "    complex_sessions[f'reg_cs{d_count}'] = smf.ols(formula = formul, data=tds_1719).fit()\n",
    "    d_count += 1\n",
    "    complex_sessions[f'reg_cs{d_count}'] = smf.ols(formula = formul, data=est_1719).fit()\n",
    "    d_count += 1\n",
    "    complex_sessions[f'reg_cs{d_count}'] = smf.ols(formula = formul, data=bras_1719).fit()\n",
    "    d_count += 1"
   ]
  },
  {
   "cell_type": "code",
   "execution_count": 226,
   "metadata": {
    "ExecuteTime": {
     "end_time": "2021-07-16T03:24:29.740796Z",
     "start_time": "2021-07-16T03:24:24.785407Z"
    }
   },
   "outputs": [
    {
     "name": "stdout",
     "output_type": "stream",
     "text": [
      "Reg_complex_sessions 0, ALL, weighting function CUMP_QUADRATIC:\n",
      "                                              coef  std err      t  P>|t|\n",
      "OBRIGAÇÃO_TOTAL_POR_SALA                  -43.6831   12.770 -3.421  0.001\n",
      "CUMP_QUADRATIC                          -1440.8506  491.116 -2.934  0.003\n",
      "OBRIGAÇÃO_TOTAL_POR_SALA:CUMP_QUADRATIC    54.0346   13.616  3.968  0.000\n",
      "\n",
      "\n",
      "Reg_complex_sessions 1, FOREIGN, weighting function CUMP_QUADRATIC:\n",
      "                                             coef  std err      t  P>|t|\n",
      "OBRIGAÇÃO_TOTAL_POR_SALA                 -27.5502   11.150 -2.471  0.014\n",
      "CUMP_QUADRATIC                          -702.8966  430.466 -1.633  0.103\n",
      "OBRIGAÇÃO_TOTAL_POR_SALA:CUMP_QUADRATIC   29.8130   11.876  2.510  0.012\n",
      "\n",
      "\n",
      "Reg_complex_sessions 2, BRAZILIAN, weighting function CUMP_QUADRATIC:\n",
      "                                             coef  std err      t  P>|t|\n",
      "OBRIGAÇÃO_TOTAL_POR_SALA                 -16.8138    2.817 -5.969    0.0\n",
      "CUMP_QUADRATIC                          -771.2451  111.282 -6.931    0.0\n",
      "OBRIGAÇÃO_TOTAL_POR_SALA:CUMP_QUADRATIC   25.0267    3.014  8.302    0.0\n",
      "\n",
      "\n",
      "Reg_complex_sessions 3, ALL, weighting function CUMP_NORMALIZADO:\n",
      "                                                coef   std err      t  P>|t|\n",
      "OBRIGAÇÃO_TOTAL_POR_SALA                   -104.5105    26.536 -3.938  0.000\n",
      "CUMP_NORMALIZADO                          -7914.3598  2287.307 -3.460  0.001\n",
      "OBRIGAÇÃO_TOTAL_POR_SALA:CUMP_NORMALIZADO   288.8950    68.476  4.219  0.000\n",
      "\n",
      "\n",
      "Reg_complex_sessions 4, FOREIGN, weighting function CUMP_NORMALIZADO:\n",
      "                                                coef   std err      t  P>|t|\n",
      "OBRIGAÇÃO_TOTAL_POR_SALA                    -61.1477    23.307 -2.624  0.009\n",
      "CUMP_NORMALIZADO                          -3947.8560  2039.711 -1.935  0.053\n",
      "OBRIGAÇÃO_TOTAL_POR_SALA:CUMP_NORMALIZADO   159.6470    60.167  2.653  0.008\n",
      "\n",
      "\n",
      "Reg_complex_sessions 5, BRAZILIAN, weighting function CUMP_NORMALIZADO:\n",
      "                                                coef  std err      t  P>|t|\n",
      "OBRIGAÇÃO_TOTAL_POR_SALA                    -43.2344    5.750 -7.520    0.0\n",
      "CUMP_NORMALIZADO                          -3920.4151  497.857 -7.875    0.0\n",
      "OBRIGAÇÃO_TOTAL_POR_SALA:CUMP_NORMALIZADO   128.8439   14.833  8.686    0.0\n",
      "\n",
      "\n",
      "Reg_complex_sessions 6, ALL, weighting function CUMP_LINEAR:\n",
      "                                          coef  std err      t  P>|t|\n",
      "OBRIGAÇÃO_TOTAL_POR_SALA              -23.7087    8.449 -2.806  0.005\n",
      "CUMP_LINEAR                          -983.6267  415.332 -2.368  0.018\n",
      "OBRIGAÇÃO_TOTAL_POR_SALA:CUMP_LINEAR   36.4676   10.101  3.610  0.000\n",
      "\n",
      "\n",
      "Reg_complex_sessions 7, FOREIGN, weighting function CUMP_LINEAR:\n",
      "                                          coef  std err      t  P>|t|\n",
      "OBRIGAÇÃO_TOTAL_POR_SALA              -14.9894    7.385 -2.030  0.043\n",
      "CUMP_LINEAR                          -450.6711  363.543 -1.240  0.215\n",
      "OBRIGAÇÃO_TOTAL_POR_SALA:CUMP_LINEAR   18.7017    8.813  2.122  0.034\n",
      "\n",
      "\n",
      "Reg_complex_sessions 8, BRAZILIAN, weighting function CUMP_LINEAR:\n",
      "                                          coef  std err      t  P>|t|\n",
      "OBRIGAÇÃO_TOTAL_POR_SALA               -9.1836    1.840 -4.991    0.0\n",
      "CUMP_LINEAR                          -557.7741   92.284 -6.044    0.0\n",
      "OBRIGAÇÃO_TOTAL_POR_SALA:CUMP_LINEAR   18.3609    2.208  8.316    0.0\n",
      "\n",
      "\n",
      "Reg_complex_sessions 9, ALL, weighting function CUMP_TRIWEIGHT:\n",
      "                                             coef  std err      t  P>|t|\n",
      "OBRIGAÇÃO_TOTAL_POR_SALA                 -18.6627    7.454 -2.504  0.012\n",
      "CUMP_TRIWEIGHT                          -885.0392  355.403 -2.490  0.013\n",
      "OBRIGAÇÃO_TOTAL_POR_SALA:CUMP_TRIWEIGHT   30.8989    8.631  3.580  0.000\n",
      "\n",
      "\n",
      "Reg_complex_sessions 10, FOREIGN, weighting function CUMP_TRIWEIGHT:\n",
      "                                             coef  std err      t  P>|t|\n",
      "OBRIGAÇÃO_TOTAL_POR_SALA                 -12.2801    6.504 -1.888  0.059\n",
      "CUMP_TRIWEIGHT                          -445.1815  309.951 -1.436  0.151\n",
      "OBRIGAÇÃO_TOTAL_POR_SALA:CUMP_TRIWEIGHT   16.1539    7.513  2.150  0.032\n",
      "\n",
      "\n",
      "Reg_complex_sessions 11, BRAZILIAN, weighting function CUMP_TRIWEIGHT:\n",
      "                                             coef  std err      t  P>|t|\n",
      "OBRIGAÇÃO_TOTAL_POR_SALA                  -6.7777    1.614 -4.200    0.0\n",
      "CUMP_TRIWEIGHT                          -459.8525   77.853 -5.907    0.0\n",
      "OBRIGAÇÃO_TOTAL_POR_SALA:CUMP_TRIWEIGHT   15.2246    1.871  8.137    0.0\n",
      "\n",
      "\n"
     ]
    }
   ],
   "source": [
    "works = ['ALL', 'FOREIGN', 'BRAZILIAN']\n",
    "\n",
    "for i in range(last_d_count, d_count):\n",
    "    print(f'Reg_complex_sessions {i}, {works[i%3]}, weighting function {weight_funcs[(i-last_d_count)//3]}:')\n",
    "    print(pd.read_html(complex_sessions[f'reg_cs{i}'].summary().\n",
    "                       tables[1].as_html(),header=0,index_col=0)[0].iloc[-3:,:-2])\n",
    "    print('\\n')"
   ]
  },
  {
   "cell_type": "markdown",
   "metadata": {},
   "source": [
    "#### 2017-2018"
   ]
  },
  {
   "cell_type": "code",
   "execution_count": 227,
   "metadata": {
    "ExecuteTime": {
     "end_time": "2021-07-16T03:24:34.216321Z",
     "start_time": "2021-07-16T03:24:29.743790Z"
    }
   },
   "outputs": [],
   "source": [
    "last_d_count = d_count # to get num range of regressions to be executed\n",
    "\n",
    "for f in weight_funcs:\n",
    "    # adjust formula as we run through the weighting funcs\n",
    "    formul = f'QTDE_SESSOES ~ OBRIGAÇÃO_TOTAL_POR_SALA*{f} + C(REGISTRO_COMPLEXO) + C(ANO_CINEMATOGRAFICO)'\n",
    "    complex_sessions[f'reg_cs{d_count}'] = smf.ols(formula = formul, data=tds_1718).fit()\n",
    "    d_count += 1\n",
    "    complex_sessions[f'reg_cs{d_count}'] = smf.ols(formula = formul, data=est_1718).fit()\n",
    "    d_count += 1\n",
    "    complex_sessions[f'reg_cs{d_count}'] = smf.ols(formula = formul, data=bras_1718).fit()\n",
    "    d_count += 1"
   ]
  },
  {
   "cell_type": "code",
   "execution_count": 228,
   "metadata": {
    "ExecuteTime": {
     "end_time": "2021-07-16T03:24:38.820374Z",
     "start_time": "2021-07-16T03:24:34.216321Z"
    },
    "scrolled": true
   },
   "outputs": [
    {
     "name": "stdout",
     "output_type": "stream",
     "text": [
      "Reg_complex_sessions 12, ALL, weighting function CUMP_QUADRATIC:\n",
      "                                             coef  std err      t  P>|t|\n",
      "OBRIGAÇÃO_TOTAL_POR_SALA                  20.6551   33.495  0.617  0.538\n",
      "CUMP_QUADRATIC                          -815.0256  566.599 -1.438  0.151\n",
      "OBRIGAÇÃO_TOTAL_POR_SALA:CUMP_QUADRATIC   34.3751   15.785  2.178  0.030\n",
      "\n",
      "\n",
      "Reg_complex_sessions 13, FOREIGN, weighting function CUMP_QUADRATIC:\n",
      "                                             coef  std err      t  P>|t|\n",
      "OBRIGAÇÃO_TOTAL_POR_SALA                  22.4802   29.058  0.774  0.439\n",
      "CUMP_QUADRATIC                          -302.0462  491.547 -0.614  0.539\n",
      "OBRIGAÇÃO_TOTAL_POR_SALA:CUMP_QUADRATIC   17.0369   13.694  1.244  0.214\n",
      "\n",
      "\n",
      "Reg_complex_sessions 14, BRAZILIAN, weighting function CUMP_QUADRATIC:\n",
      "                                             coef  std err      t  P>|t|\n",
      "OBRIGAÇÃO_TOTAL_POR_SALA                  -2.3377    7.825 -0.299  0.765\n",
      "CUMP_QUADRATIC                          -575.2498  141.900 -4.054  0.000\n",
      "OBRIGAÇÃO_TOTAL_POR_SALA:CUMP_QUADRATIC   18.6883    3.849  4.855  0.000\n",
      "\n",
      "\n",
      "Reg_complex_sessions 15, ALL, weighting function CUMP_NORMALIZADO:\n",
      "                                                coef   std err      t  P>|t|\n",
      "OBRIGAÇÃO_TOTAL_POR_SALA                    -14.0866    41.648 -0.338  0.735\n",
      "CUMP_NORMALIZADO                          -4101.6475  2712.578 -1.512  0.131\n",
      "OBRIGAÇÃO_TOTAL_POR_SALA:CUMP_NORMALIZADO   171.7614    79.706  2.155  0.031\n",
      "\n",
      "\n",
      "Reg_complex_sessions 16, FOREIGN, weighting function CUMP_NORMALIZADO:\n",
      "                                                coef   std err      t  P>|t|\n",
      "OBRIGAÇÃO_TOTAL_POR_SALA                      6.7262    36.097  0.186  0.852\n",
      "CUMP_NORMALIZADO                          -1357.4646  2350.991 -0.577  0.564\n",
      "OBRIGAÇÃO_TOTAL_POR_SALA:CUMP_NORMALIZADO    81.3522    69.081  1.178  0.239\n",
      "\n",
      "\n",
      "Reg_complex_sessions 17, BRAZILIAN, weighting function CUMP_NORMALIZADO:\n",
      "                                                coef  std err      t  P>|t|\n",
      "OBRIGAÇÃO_TOTAL_POR_SALA                    -21.8106    9.772 -2.232  0.026\n",
      "CUMP_NORMALIZADO                          -2906.5382  648.519 -4.482  0.000\n",
      "OBRIGAÇÃO_TOTAL_POR_SALA:CUMP_NORMALIZADO    93.8677   18.870  4.974  0.000\n",
      "\n",
      "\n",
      "Reg_complex_sessions 18, ALL, weighting function CUMP_LINEAR:\n",
      "                                          coef  std err      t  P>|t|\n",
      "OBRIGAÇÃO_TOTAL_POR_SALA               33.4846   32.632  1.026  0.305\n",
      "CUMP_LINEAR                          -494.2938  489.178 -1.010  0.313\n",
      "OBRIGAÇÃO_TOTAL_POR_SALA:CUMP_LINEAR   21.4456   12.378  1.733  0.084\n",
      "\n",
      "\n",
      "Reg_complex_sessions 19, FOREIGN, weighting function CUMP_LINEAR:\n",
      "                                          coef  std err      t  P>|t|\n",
      "OBRIGAÇÃO_TOTAL_POR_SALA               30.3099   28.312  1.071  0.285\n",
      "CUMP_LINEAR                          -147.4034  424.425 -0.347  0.728\n",
      "OBRIGAÇÃO_TOTAL_POR_SALA:CUMP_LINEAR    9.3202   10.739  0.868  0.386\n",
      "\n",
      "\n",
      "Reg_complex_sessions 20, BRAZILIAN, weighting function CUMP_LINEAR:\n",
      "                                          coef  std err      t  P>|t|\n",
      "OBRIGAÇÃO_TOTAL_POR_SALA                3.0520    7.586  0.402  0.688\n",
      "CUMP_LINEAR                          -379.1099  118.983 -3.186  0.002\n",
      "OBRIGAÇÃO_TOTAL_POR_SALA:CUMP_LINEAR   12.7741    2.964  4.310  0.000\n",
      "\n",
      "\n",
      "Reg_complex_sessions 21, ALL, weighting function CUMP_TRIWEIGHT:\n",
      "                                             coef  std err      t  P>|t|\n",
      "OBRIGAÇÃO_TOTAL_POR_SALA                  38.4362   32.414  1.186  0.236\n",
      "CUMP_TRIWEIGHT                          -494.2793  412.145 -1.199  0.231\n",
      "OBRIGAÇÃO_TOTAL_POR_SALA:CUMP_TRIWEIGHT   18.7460   10.449  1.794  0.073\n",
      "\n",
      "\n",
      "Reg_complex_sessions 22, FOREIGN, weighting function CUMP_TRIWEIGHT:\n",
      "                                             coef  std err      t  P>|t|\n",
      "OBRIGAÇÃO_TOTAL_POR_SALA                  33.3775   28.127  1.187  0.236\n",
      "CUMP_TRIWEIGHT                          -175.1168  357.640 -0.490  0.625\n",
      "OBRIGAÇÃO_TOTAL_POR_SALA:CUMP_TRIWEIGHT    7.6476    9.067  0.843  0.399\n",
      "\n",
      "\n",
      "Reg_complex_sessions 23, BRAZILIAN, weighting function CUMP_TRIWEIGHT:\n",
      "                                             coef  std err      t  P>|t|\n",
      "OBRIGAÇÃO_TOTAL_POR_SALA                   5.0163    7.490  0.670  0.503\n",
      "CUMP_TRIWEIGHT                          -340.9017   98.300 -3.468  0.001\n",
      "OBRIGAÇÃO_TOTAL_POR_SALA:CUMP_TRIWEIGHT   11.5438    2.466  4.681  0.000\n",
      "\n",
      "\n"
     ]
    }
   ],
   "source": [
    "works = ['ALL', 'FOREIGN', 'BRAZILIAN']\n",
    "\n",
    "for i in range(last_d_count, d_count):\n",
    "    print(f'Reg_complex_sessions {i}, {works[i%3]}, weighting function {weight_funcs[(i-last_d_count)//3]}:')\n",
    "    print(pd.read_html(complex_sessions[f'reg_cs{i}'].summary().\n",
    "                       tables[1].as_html(),header=0,index_col=0)[0].iloc[-3:,:-2])\n",
    "    print('\\n')"
   ]
  },
  {
   "cell_type": "markdown",
   "metadata": {},
   "source": [
    "### Regressions only with 0 transfer multiplexes"
   ]
  },
  {
   "cell_type": "code",
   "execution_count": 83,
   "metadata": {
    "ExecuteTime": {
     "end_time": "2021-07-20T01:33:02.781970Z",
     "start_time": "2021-07-20T01:33:00.339871Z"
    }
   },
   "outputs": [],
   "source": [
    "l_tds = [] # storing multiplexes that appear at least two times in data\n",
    "l_est = [] # same for foreign\n",
    "l_bras = [] # same for br\n",
    "\n",
    "list_of_lists = [l_tds,l_est,l_bras]\n",
    "data = [tds_1719,est_1719,bras_1719]\n",
    "\n",
    "for l in list_of_lists:\n",
    "    for c in data[list_of_lists.index(l)].REGISTRO_COMPLEXO.unique():\n",
    "        if tds_1719.loc[(tds_1719.REGISTRO_COMPLEXO == c) & (tds_1719.TRANSF_FLAG == 0)].shape[0] > 1:\n",
    "            l.append(c)"
   ]
  },
  {
   "cell_type": "code",
   "execution_count": 86,
   "metadata": {
    "ExecuteTime": {
     "end_time": "2021-07-20T01:35:15.117827Z",
     "start_time": "2021-07-20T01:35:15.059134Z"
    }
   },
   "outputs": [],
   "source": [
    "filt_tds_1719 = tds_1719[tds_1719.REGISTRO_COMPLEXO.apply(lambda x: True if (x in l_tds) else False)]\n",
    "filt_est_1719 = est_1719[est_1719.REGISTRO_COMPLEXO.apply(lambda x: True if (x in l_est) else False)]\n",
    "filt_bras_1719 = bras_1719[bras_1719.REGISTRO_COMPLEXO.apply(lambda x: True if (x in l_bras) else False)]"
   ]
  },
  {
   "cell_type": "code",
   "execution_count": 96,
   "metadata": {
    "ExecuteTime": {
     "end_time": "2021-07-20T01:47:07.018943Z",
     "start_time": "2021-07-20T01:47:07.010945Z"
    }
   },
   "outputs": [],
   "source": [
    "filt_tds_1718 = filt_tds_1719[filt_tds_1719.ANO_CINEMATOGRAFICO != 2019]\n",
    "filt_est_1718 = filt_est_1719[filt_est_1719.ANO_CINEMATOGRAFICO != 2019]\n",
    "filt_bras_1718 = filt_bras_1719[filt_bras_1719.ANO_CINEMATOGRAFICO != 2019]"
   ]
  },
  {
   "cell_type": "code",
   "execution_count": 92,
   "metadata": {
    "ExecuteTime": {
     "end_time": "2021-07-20T01:43:50.736735Z",
     "start_time": "2021-07-20T01:43:50.706157Z"
    }
   },
   "outputs": [],
   "source": [
    "no_transfers = {}\n",
    "\n",
    "d_count = 0\n",
    "\n",
    "weight_funcs = [\n",
    "    'CUMP_QUADRATIC','CUMP_NORMALIZADO', 'CUMP_LINEAR','CUMP_TRIWEIGHT']"
   ]
  },
  {
   "cell_type": "markdown",
   "metadata": {},
   "source": [
    "#### 2017-2019"
   ]
  },
  {
   "cell_type": "code",
   "execution_count": 93,
   "metadata": {
    "ExecuteTime": {
     "end_time": "2021-07-20T01:43:55.480764Z",
     "start_time": "2021-07-20T01:43:52.561263Z"
    }
   },
   "outputs": [],
   "source": [
    "last_d_count = d_count # to get num range of regressions to be executed\n",
    "\n",
    "dvar = 'np.log(RENDA)'\n",
    "\n",
    "for f in weight_funcs:\n",
    "    # adjust formula as we run through the weighting funcs\n",
    "    formul = f'{dvar} ~ OBRIGAÇÃO_TOTAL_POR_SALA*{f} + DIAS_FUNCIONAMENTO + C(REGISTRO_COMPLEXO) + C(ANO_CINEMATOGRAFICO)'\n",
    "    no_transfers[f'reg_filt{d_count}'] = smf.ols(formula = formul, data=filt_tds_1719).fit()\n",
    "    d_count += 1\n",
    "    no_transfers[f'reg_filt{d_count}'] = smf.ols(formula = formul, data=filt_est_1719).fit()\n",
    "    d_count += 1\n",
    "    no_transfers[f'reg_filt{d_count}'] = smf.ols(formula = formul, data=filt_bras_1719).fit()\n",
    "    d_count += 1"
   ]
  },
  {
   "cell_type": "code",
   "execution_count": 95,
   "metadata": {
    "ExecuteTime": {
     "end_time": "2021-07-20T01:44:06.599965Z",
     "start_time": "2021-07-20T01:44:03.491535Z"
    }
   },
   "outputs": [
    {
     "name": "stdout",
     "output_type": "stream",
     "text": [
      "Reg_filter_multiplex 0, ALL, weighting function CUMP_QUADRATIC:\n",
      "                                           coef  std err       t  P>|t|\n",
      "OBRIGAÇÃO_TOTAL_POR_SALA                 0.0027    0.005   0.596  0.551\n",
      "CUMP_QUADRATIC                           0.3748    0.178   2.107  0.035\n",
      "OBRIGAÇÃO_TOTAL_POR_SALA:CUMP_QUADRATIC -0.0051    0.005  -1.020  0.308\n",
      "DIAS_FUNCIONAMENTO                       0.0066    0.000  40.306  0.000\n",
      "\n",
      "\n",
      "Reg_filter_multiplex 1, FOREIGN, weighting function CUMP_QUADRATIC:\n",
      "                                           coef  std err       t  P>|t|\n",
      "OBRIGAÇÃO_TOTAL_POR_SALA                 0.0020    0.005   0.425  0.671\n",
      "CUMP_QUADRATIC                           0.2713    0.190   1.427  0.154\n",
      "OBRIGAÇÃO_TOTAL_POR_SALA:CUMP_QUADRATIC -0.0038    0.005  -0.720  0.472\n",
      "DIAS_FUNCIONAMENTO                       0.0067    0.000  38.515  0.000\n",
      "\n",
      "\n",
      "Reg_filter_multiplex 2, BRAZILIAN, weighting function CUMP_QUADRATIC:\n",
      "                                           coef  std err       t  P>|t|\n",
      "OBRIGAÇÃO_TOTAL_POR_SALA                -0.0244    0.009  -2.704  0.007\n",
      "CUMP_QUADRATIC                          -0.1631    0.363  -0.449  0.654\n",
      "OBRIGAÇÃO_TOTAL_POR_SALA:CUMP_QUADRATIC  0.0248    0.010   2.496  0.013\n",
      "DIAS_FUNCIONAMENTO                       0.0053    0.000  15.001  0.000\n",
      "\n",
      "\n",
      "Reg_filter_multiplex 3, ALL, weighting function CUMP_NORMALIZADO:\n",
      "                                             coef  std err       t  P>|t|\n",
      "OBRIGAÇÃO_TOTAL_POR_SALA                   0.0011    0.010   0.115  0.909\n",
      "CUMP_NORMALIZADO                           0.9599    0.830   1.157  0.248\n",
      "OBRIGAÇÃO_TOTAL_POR_SALA:CUMP_NORMALIZADO -0.0065    0.025  -0.259  0.795\n",
      "DIAS_FUNCIONAMENTO                         0.0066    0.000  40.728  0.000\n",
      "\n",
      "\n",
      "Reg_filter_multiplex 4, FOREIGN, weighting function CUMP_NORMALIZADO:\n",
      "                                             coef  std err       t  P>|t|\n",
      "OBRIGAÇÃO_TOTAL_POR_SALA                   0.0015    0.010   0.149  0.881\n",
      "CUMP_NORMALIZADO                           0.7661    0.902   0.850  0.396\n",
      "OBRIGAÇÃO_TOTAL_POR_SALA:CUMP_NORMALIZADO -0.0068    0.027  -0.252  0.801\n",
      "DIAS_FUNCIONAMENTO                         0.0067    0.000  38.891  0.000\n",
      "\n",
      "\n",
      "Reg_filter_multiplex 5, BRAZILIAN, weighting function CUMP_NORMALIZADO:\n",
      "                                             coef  std err       t  P>|t|\n",
      "OBRIGAÇÃO_TOTAL_POR_SALA                  -0.0819    0.019  -4.356  0.000\n",
      "CUMP_NORMALIZADO                          -5.2052    1.641  -3.173  0.002\n",
      "OBRIGAÇÃO_TOTAL_POR_SALA:CUMP_NORMALIZADO  0.2164    0.049   4.391  0.000\n",
      "DIAS_FUNCIONAMENTO                         0.0053    0.000  15.024  0.000\n",
      "\n",
      "\n",
      "Reg_filter_multiplex 6, ALL, weighting function CUMP_LINEAR:\n",
      "                                        coef  std err       t  P>|t|\n",
      "OBRIGAÇÃO_TOTAL_POR_SALA              0.0010    0.003   0.336  0.737\n",
      "CUMP_LINEAR                           0.3324    0.156   2.137  0.033\n",
      "OBRIGAÇÃO_TOTAL_POR_SALA:CUMP_LINEAR -0.0039    0.004  -0.999  0.318\n",
      "DIAS_FUNCIONAMENTO                    0.0066    0.000  40.683  0.000\n",
      "\n",
      "\n",
      "Reg_filter_multiplex 7, FOREIGN, weighting function CUMP_LINEAR:\n",
      "                                        coef  std err       t  P>|t|\n",
      "OBRIGAÇÃO_TOTAL_POR_SALA              0.0005    0.003   0.144  0.886\n",
      "CUMP_LINEAR                           0.2104    0.166   1.268  0.205\n",
      "OBRIGAÇÃO_TOTAL_POR_SALA:CUMP_LINEAR -0.0024    0.004  -0.571  0.568\n",
      "DIAS_FUNCIONAMENTO                    0.0067    0.000  38.851  0.000\n",
      "\n",
      "\n",
      "Reg_filter_multiplex 8, BRAZILIAN, weighting function CUMP_LINEAR:\n",
      "                                        coef  std err       t  P>|t|\n",
      "OBRIGAÇÃO_TOTAL_POR_SALA             -0.0071    0.006  -1.177  0.239\n",
      "CUMP_LINEAR                           0.6107    0.311   1.962  0.050\n",
      "OBRIGAÇÃO_TOTAL_POR_SALA:CUMP_LINEAR  0.0041    0.008   0.537  0.592\n",
      "DIAS_FUNCIONAMENTO                    0.0053    0.000  15.208  0.000\n",
      "\n",
      "\n",
      "Reg_filter_multiplex 9, ALL, weighting function CUMP_TRIWEIGHT:\n",
      "                                           coef  std err       t  P>|t|\n",
      "OBRIGAÇÃO_TOTAL_POR_SALA                 0.0006    0.003   0.215  0.830\n",
      "CUMP_TRIWEIGHT                           0.2323    0.131   1.780  0.075\n",
      "OBRIGAÇÃO_TOTAL_POR_SALA:CUMP_TRIWEIGHT -0.0027    0.003  -0.838  0.402\n",
      "DIAS_FUNCIONAMENTO                       0.0066    0.000  40.969  0.000\n",
      "\n",
      "\n",
      "Reg_filter_multiplex 10, FOREIGN, weighting function CUMP_TRIWEIGHT:\n",
      "                                           coef  std err       t  P>|t|\n",
      "OBRIGAÇÃO_TOTAL_POR_SALA                 0.0002    0.003   0.054  0.957\n",
      "CUMP_TRIWEIGHT                           0.1278    0.139   0.922  0.357\n",
      "OBRIGAÇÃO_TOTAL_POR_SALA:CUMP_TRIWEIGHT -0.0014    0.003  -0.415  0.678\n",
      "DIAS_FUNCIONAMENTO                       0.0067    0.000  39.115  0.000\n",
      "\n",
      "\n",
      "Reg_filter_multiplex 11, BRAZILIAN, weighting function CUMP_TRIWEIGHT:\n",
      "                                           coef  std err       t  P>|t|\n",
      "OBRIGAÇÃO_TOTAL_POR_SALA                -0.0048    0.005  -0.941  0.347\n",
      "CUMP_TRIWEIGHT                           0.6266    0.256   2.443  0.015\n",
      "OBRIGAÇÃO_TOTAL_POR_SALA:CUMP_TRIWEIGHT  0.0009    0.006   0.145  0.884\n",
      "DIAS_FUNCIONAMENTO                       0.0053    0.000  15.319  0.000\n",
      "\n",
      "\n"
     ]
    }
   ],
   "source": [
    "works = ['ALL', 'FOREIGN', 'BRAZILIAN']\n",
    "\n",
    "for i in range(last_d_count, d_count):\n",
    "    print(f'Reg_filter_multiplex {i}, {works[i%3]}, weighting function {weight_funcs[(i-last_d_count)//3]}:')\n",
    "    print(pd.read_html(no_transfers[f'reg_filt{i}'].summary().\n",
    "                       tables[1].as_html(),header=0,index_col=0)[0].iloc[-4:,:-2])\n",
    "    print('\\n')"
   ]
  },
  {
   "cell_type": "markdown",
   "metadata": {},
   "source": [
    "#### 2017-2018"
   ]
  },
  {
   "cell_type": "code",
   "execution_count": 97,
   "metadata": {
    "ExecuteTime": {
     "end_time": "2021-07-20T01:47:46.959759Z",
     "start_time": "2021-07-20T01:47:44.520718Z"
    }
   },
   "outputs": [],
   "source": [
    "last_d_count = d_count # to get num range of regressions to be executed\n",
    "\n",
    "dvar = 'np.log(RENDA)'\n",
    "\n",
    "for f in weight_funcs:\n",
    "    # adjust formula as we run through the weighting funcs\n",
    "    formul = f'{dvar} ~ OBRIGAÇÃO_TOTAL_POR_SALA*{f} + DIAS_FUNCIONAMENTO + C(REGISTRO_COMPLEXO) + C(ANO_CINEMATOGRAFICO)'\n",
    "    no_transfers[f'reg_filt{d_count}'] = smf.ols(formula = formul, data=filt_tds_1718).fit()\n",
    "    d_count += 1\n",
    "    no_transfers[f'reg_filt{d_count}'] = smf.ols(formula = formul, data=filt_est_1718).fit()\n",
    "    d_count += 1\n",
    "    no_transfers[f'reg_filt{d_count}'] = smf.ols(formula = formul, data=filt_bras_1718).fit()\n",
    "    d_count += 1"
   ]
  },
  {
   "cell_type": "code",
   "execution_count": 98,
   "metadata": {
    "ExecuteTime": {
     "end_time": "2021-07-20T01:47:51.093040Z",
     "start_time": "2021-07-20T01:47:47.720834Z"
    }
   },
   "outputs": [
    {
     "name": "stdout",
     "output_type": "stream",
     "text": [
      "Reg_filter_multiplex 12, ALL, weighting function CUMP_QUADRATIC:\n",
      "                                           coef  std err       t  P>|t|\n",
      "OBRIGAÇÃO_TOTAL_POR_SALA                 0.0128    0.016   0.781  0.435\n",
      "CUMP_QUADRATIC                           0.6306    0.268   2.351  0.019\n",
      "OBRIGAÇÃO_TOTAL_POR_SALA:CUMP_QUADRATIC -0.0138    0.007  -1.846  0.065\n",
      "DIAS_FUNCIONAMENTO                       0.0067    0.000  26.683  0.000\n",
      "\n",
      "\n",
      "Reg_filter_multiplex 13, FOREIGN, weighting function CUMP_QUADRATIC:\n",
      "                                           coef  std err       t  P>|t|\n",
      "OBRIGAÇÃO_TOTAL_POR_SALA                 0.0122    0.016   0.739  0.460\n",
      "CUMP_QUADRATIC                           0.6783    0.269   2.521  0.012\n",
      "OBRIGAÇÃO_TOTAL_POR_SALA:CUMP_QUADRATIC -0.0161    0.008  -2.150  0.032\n",
      "DIAS_FUNCIONAMENTO                       0.0069    0.000  27.322  0.000\n",
      "\n",
      "\n",
      "Reg_filter_multiplex 14, BRAZILIAN, weighting function CUMP_QUADRATIC:\n",
      "                                           coef  std err      t  P>|t|\n",
      "OBRIGAÇÃO_TOTAL_POR_SALA                 0.0254    0.035  0.724  0.470\n",
      "CUMP_QUADRATIC                          -0.1799    0.615 -0.293  0.770\n",
      "OBRIGAÇÃO_TOTAL_POR_SALA:CUMP_QUADRATIC  0.0300    0.017  1.789  0.074\n",
      "DIAS_FUNCIONAMENTO                       0.0039    0.001  6.472  0.000\n",
      "\n",
      "\n",
      "Reg_filter_multiplex 15, ALL, weighting function CUMP_NORMALIZADO:\n",
      "                                             coef  std err       t  P>|t|\n",
      "OBRIGAÇÃO_TOTAL_POR_SALA                   0.0173    0.020   0.859  0.391\n",
      "CUMP_NORMALIZADO                           1.3914    1.291   1.078  0.282\n",
      "OBRIGAÇÃO_TOTAL_POR_SALA:CUMP_NORMALIZADO -0.0321    0.038  -0.845  0.399\n",
      "DIAS_FUNCIONAMENTO                         0.0068    0.000  26.945  0.000\n",
      "\n",
      "\n",
      "Reg_filter_multiplex 16, FOREIGN, weighting function CUMP_NORMALIZADO:\n",
      "                                             coef  std err       t  P>|t|\n",
      "OBRIGAÇÃO_TOTAL_POR_SALA                   0.0246    0.020   1.223  0.222\n",
      "CUMP_NORMALIZADO                           2.5983    1.290   2.014  0.044\n",
      "OBRIGAÇÃO_TOTAL_POR_SALA:CUMP_NORMALIZADO -0.0638    0.038  -1.679  0.094\n",
      "DIAS_FUNCIONAMENTO                         0.0069    0.000  27.483  0.000\n",
      "\n",
      "\n",
      "Reg_filter_multiplex 17, BRAZILIAN, weighting function CUMP_NORMALIZADO:\n",
      "                                             coef  std err      t  P>|t|\n",
      "OBRIGAÇÃO_TOTAL_POR_SALA                  -0.0416    0.043 -0.956  0.340\n",
      "CUMP_NORMALIZADO                          -6.9746    2.839 -2.457  0.014\n",
      "OBRIGAÇÃO_TOTAL_POR_SALA:CUMP_NORMALIZADO  0.2822    0.083  3.403  0.001\n",
      "DIAS_FUNCIONAMENTO                         0.0040    0.001  6.597  0.000\n",
      "\n",
      "\n",
      "Reg_filter_multiplex 18, ALL, weighting function CUMP_LINEAR:\n",
      "                                        coef  std err       t  P>|t|\n",
      "OBRIGAÇÃO_TOTAL_POR_SALA              0.0087    0.016   0.539  0.590\n",
      "CUMP_LINEAR                           0.4557    0.237   1.926  0.055\n",
      "OBRIGAÇÃO_TOTAL_POR_SALA:CUMP_LINEAR -0.0085    0.006  -1.402  0.161\n",
      "DIAS_FUNCIONAMENTO                    0.0067    0.000  26.980  0.000\n",
      "\n",
      "\n",
      "Reg_filter_multiplex 19, FOREIGN, weighting function CUMP_LINEAR:\n",
      "                                        coef  std err       t  P>|t|\n",
      "OBRIGAÇÃO_TOTAL_POR_SALA              0.0075    0.016   0.467  0.641\n",
      "CUMP_LINEAR                           0.4486    0.238   1.887  0.060\n",
      "OBRIGAÇÃO_TOTAL_POR_SALA:CUMP_LINEAR -0.0098    0.006  -1.616  0.107\n",
      "DIAS_FUNCIONAMENTO                    0.0069    0.000  27.619  0.000\n",
      "\n",
      "\n",
      "Reg_filter_multiplex 20, BRAZILIAN, weighting function CUMP_LINEAR:\n",
      "                                        coef  std err      t  P>|t|\n",
      "OBRIGAÇÃO_TOTAL_POR_SALA              0.0390    0.034  1.151   0.25\n",
      "CUMP_LINEAR                           0.6838    0.521  1.313   0.19\n",
      "OBRIGAÇÃO_TOTAL_POR_SALA:CUMP_LINEAR  0.0069    0.013  0.524   0.60\n",
      "DIAS_FUNCIONAMENTO                    0.0040    0.001  6.673   0.00\n",
      "\n",
      "\n",
      "Reg_filter_multiplex 21, ALL, weighting function CUMP_TRIWEIGHT:\n",
      "                                           coef  std err       t  P>|t|\n",
      "OBRIGAÇÃO_TOTAL_POR_SALA                 0.0080    0.016   0.498  0.619\n",
      "CUMP_TRIWEIGHT                           0.3040    0.197   1.542  0.124\n",
      "OBRIGAÇÃO_TOTAL_POR_SALA:CUMP_TRIWEIGHT -0.0057    0.005  -1.144  0.253\n",
      "DIAS_FUNCIONAMENTO                       0.0068    0.000  27.267  0.000\n",
      "\n",
      "\n",
      "Reg_filter_multiplex 22, FOREIGN, weighting function CUMP_TRIWEIGHT:\n",
      "                                           coef  std err       t  P>|t|\n",
      "OBRIGAÇÃO_TOTAL_POR_SALA                 0.0064    0.016   0.401  0.688\n",
      "CUMP_TRIWEIGHT                           0.2821    0.198   1.425  0.155\n",
      "OBRIGAÇÃO_TOTAL_POR_SALA:CUMP_TRIWEIGHT -0.0066    0.005  -1.313  0.190\n",
      "DIAS_FUNCIONAMENTO                       0.0070    0.000  27.913  0.000\n",
      "\n",
      "\n",
      "Reg_filter_multiplex 23, BRAZILIAN, weighting function CUMP_TRIWEIGHT:\n",
      "                                           coef  std err      t  P>|t|\n",
      "OBRIGAÇÃO_TOTAL_POR_SALA                 0.0441    0.033  1.319  0.188\n",
      "CUMP_TRIWEIGHT                           0.6154    0.425  1.446  0.149\n",
      "OBRIGAÇÃO_TOTAL_POR_SALA:CUMP_TRIWEIGHT  0.0049    0.011  0.456  0.649\n",
      "DIAS_FUNCIONAMENTO                       0.0040    0.001  6.764  0.000\n",
      "\n",
      "\n"
     ]
    }
   ],
   "source": [
    "works = ['ALL', 'FOREIGN', 'BRAZILIAN']\n",
    "\n",
    "for i in range(last_d_count, d_count):\n",
    "    print(f'Reg_filter_multiplex {i}, {works[i%3]}, weighting function {weight_funcs[(i-last_d_count)//3]}:')\n",
    "    print(pd.read_html(no_transfers[f'reg_filt{i}'].summary().\n",
    "                       tables[1].as_html(),header=0,index_col=0)[0].iloc[-4:,:-2])\n",
    "    print('\\n')"
   ]
  },
  {
   "cell_type": "markdown",
   "metadata": {},
   "source": [
    "# Chain/year regressions"
   ]
  },
  {
   "cell_type": "markdown",
   "metadata": {},
   "source": [
    "## Import and adjust"
   ]
  },
  {
   "cell_type": "code",
   "execution_count": 5,
   "metadata": {
    "ExecuteTime": {
     "end_time": "2021-07-20T00:12:30.213129Z",
     "start_time": "2021-07-20T00:12:30.000578Z"
    }
   },
   "outputs": [],
   "source": [
    "# import\n",
    "gtds_1719 = pd.read_csv('SCB_Grupo x Ano - 2017 a 2019 - mesclado fiscalização.csv')\n",
    "gest_1719 = pd.read_csv('SCB_Grupo x Ano (receita estrangeiros) - 2017 a 2019 - mesclado fiscalização.csv')\n",
    "gbras_1719 = pd.read_csv('SCB_Grupo x Ano (receita brasileiros) - 2017 a 2019 - mesclado fiscalização.csv')"
   ]
  },
  {
   "cell_type": "code",
   "execution_count": 6,
   "metadata": {
    "ExecuteTime": {
     "end_time": "2021-07-20T00:12:30.417714Z",
     "start_time": "2021-07-20T00:12:30.405681Z"
    }
   },
   "outputs": [
    {
     "data": {
      "text/plain": [
       "240"
      ]
     },
     "execution_count": 6,
     "metadata": {},
     "output_type": "execute_result"
    }
   ],
   "source": [
    "gtds_1719.REGISTRO_GRUPO.nunique()"
   ]
  },
  {
   "cell_type": "code",
   "execution_count": 7,
   "metadata": {
    "ExecuteTime": {
     "end_time": "2021-07-20T00:12:33.713257Z",
     "start_time": "2021-07-20T00:12:33.701226Z"
    }
   },
   "outputs": [
    {
     "data": {
      "text/plain": [
       "Index(['ANO_CINEMATOGRAFICO', 'G_QTDE_TIT_DIF_EXIB', 'G_QTDE_DIF_TIT_EXIB_BR',\n",
       "       'G_QTDE_DIF_TIT_EXIB_EST', 'PUBLICO', 'RENDA', 'QTDE_SESSOES',\n",
       "       'DIAS_FUNCIONAMENTO_GRUPO', 'REG_EMPRESA', 'REGISTRO_COMPLEXO',\n",
       "       'REGISTRO_SALA', 'SALAS_GRUPO_INFERIDO', 'ASSENTOS_GRUPO_INFERIDO',\n",
       "       'OBRIGAÇÃO_TOTAL_POR_SALA', 'OBRIGAÇÃO_TOTAL_INCREMENTO_POR_SALA',\n",
       "       'OBRIGAÇÃO_PROP_POR_SALA', 'OBRIGAÇÃO_PROP_INCREMENTO_POR_SALA',\n",
       "       'OBRIGAÇÃO_FINAL_POR_SALA', 'TRANSF_ORIGEM', 'TRANSF_RECEBIDOS',\n",
       "       'CUMPRIMENTO_PROP_TRUNCADO', 'CUMPRIMENTO_PROPORCIONAL',\n",
       "       'CUMPRIMENTO_LINEAR', 'CUMPRIMENTO_TRIWEIGHT',\n",
       "       'CUMPRIMENTO_NORMALIZADO', 'DIAS_FUNCIONAMENTO', 'QTDE_DIF_TIT_EXIB',\n",
       "       'QTDE_DIF_TIT_EXIB_BR', 'QTDE_DIF_TIT_EXIB_EST', 'REGISTRO_GRUPO'],\n",
       "      dtype='object')"
      ]
     },
     "execution_count": 7,
     "metadata": {},
     "output_type": "execute_result"
    }
   ],
   "source": [
    "gtds_1719.columns"
   ]
  },
  {
   "cell_type": "code",
   "execution_count": 8,
   "metadata": {
    "ExecuteTime": {
     "end_time": "2021-07-20T00:19:10.208662Z",
     "start_time": "2021-07-20T00:19:10.193622Z"
    }
   },
   "outputs": [],
   "source": [
    "gtds_1719.columns = ['ANO_CINEMATOGRAFICO', 'G_QTDE_TIT_DIF_EXIB', 'G_QTDE_DIF_TIT_EXIB_BR',\n",
    "       'G_QTDE_DIF_TIT_EXIB_EST', 'PUBLICO', 'RENDA', 'QTDE_SESSOES',\n",
    "       'DIAS_FUNCIONAMENTO', 'QTDE_EMPRESA', 'QTDE_COMPLEXO',\n",
    "       'QTDE_SALAS', 'SALAS_GRUPO_INFERIDO', 'ASSENTOS_GRUPO_INFERIDO',\n",
    "       'OBRIGAÇÃO_TOTAL_POR_SALA', 'OBRIGAÇÃO_TOTAL_INCREMENTO_POR_SALA',\n",
    "       'OBRIGAÇÃO_PROP_POR_SALA', 'OBRIGAÇÃO_PROP_INCREMENTO_POR_SALA',\n",
    "       'OBRIGAÇÃO_FINAL_POR_SALA', 'TRANSF_ORIGEM', 'TRANSF_RECEBIDOS',\n",
    "       'CUMP_QUADRATIC', 'CUMP_PROPORCIONAL',\n",
    "       'CUMP_LINEAR', 'CUMP_TRIWEIGHT',\n",
    "       'CUMP_NORMALIZADO', 'DIAS_FUNCIONAMENTO_GRUPO', 'TIT_TOTAL',\n",
    "       'TIT_BR', 'TIT_EST', 'REGISTRO_GRUPO']\n",
    "\n",
    "gest_1719.columns = gtds_1719.columns\n",
    "gbras_1719.columns = gtds_1719.columns"
   ]
  },
  {
   "cell_type": "code",
   "execution_count": 9,
   "metadata": {
    "ExecuteTime": {
     "end_time": "2021-07-20T00:19:12.592879Z",
     "start_time": "2021-07-20T00:19:12.570830Z"
    }
   },
   "outputs": [],
   "source": [
    "# getting panels without 2019\n",
    "gtds_1718 = gtds_1719[gtds_1719.ANO_CINEMATOGRAFICO != 2019]\n",
    "gest_1718 = gest_1719[gest_1719.ANO_CINEMATOGRAFICO != 2019]\n",
    "gbras_1718 = gbras_1719[gbras_1719.ANO_CINEMATOGRAFICO != 2019]"
   ]
  },
  {
   "cell_type": "code",
   "execution_count": 333,
   "metadata": {
    "ExecuteTime": {
     "end_time": "2021-06-22T00:46:12.105948Z",
     "start_time": "2021-06-22T00:46:12.012668Z"
    }
   },
   "outputs": [],
   "source": [
    "# export for R\n",
    "gtds_1719.to_csv('SCB_Grupo x Ano - 2017 a 2019 - mesclado fiscalização.csv',index=False)\n",
    "gest_1719.to_csv('SCB_Grupo x Ano (receita estrangeiros) - 2017 a 2019 - mesclado fiscalização.csv',index=False)\n",
    "gbras_1719.to_csv('SCB_Grupo x Ano (receita brasileiros) - 2017 a 2019 - mesclado fiscalização.csv',index=False)\n",
    "\n",
    "gtds_1718.to_csv('SCB_Grupo x Ano - 2017 a 2018 - mesclado fiscalização.csv',index=False)\n",
    "gest_1718.to_csv('SCB_Grupo x Ano (receita estrangeiros) - 2017 a 2018 - mesclado fiscalização.csv',index=False)\n",
    "gbras_1718.to_csv('SCB_Grupo x Ano (receita brasileiros) - 2017 a 2018 - mesclado fiscalização.csv',index=False)"
   ]
  },
  {
   "cell_type": "markdown",
   "metadata": {},
   "source": [
    "## Naïve regressions"
   ]
  },
  {
   "cell_type": "markdown",
   "metadata": {},
   "source": [
    "Define movie-theater chain $i$ in year $t$ and title \"nationality\" (meaning all, foreign or Brazilian movie sessions) and nominal screen quota obligation $SQ$:\n",
    "\n",
    "$$ \\ln(Y_{nit}) = \\beta_0 + \\beta_1 SQ_{it} + \\theta X_{it} + \\varepsilon_{it} $$\n",
    "\n",
    "$Y$ is the interest variable that can be either Yearly Income or total public (# of moviegoers). $X_{it}$ is a vector of controls with opening days, movie theater fixed-effects and year fixed-effects. Alternatively, we also drop entity fixed-effects and use number of viewing rooms and seats per movie-theater as controls."
   ]
  },
  {
   "cell_type": "code",
   "execution_count": 10,
   "metadata": {
    "ExecuteTime": {
     "end_time": "2021-07-20T00:19:27.717718Z",
     "start_time": "2021-07-20T00:19:27.714709Z"
    }
   },
   "outputs": [],
   "source": [
    "group_naive = {}\n",
    "\n",
    "g_count = 0"
   ]
  },
  {
   "cell_type": "markdown",
   "metadata": {},
   "source": [
    "### Dependent variable: income"
   ]
  },
  {
   "cell_type": "markdown",
   "metadata": {},
   "source": [
    "#### With entity fixed-effects"
   ]
  },
  {
   "cell_type": "markdown",
   "metadata": {},
   "source": [
    "##### 2017-2019"
   ]
  },
  {
   "cell_type": "code",
   "execution_count": 11,
   "metadata": {
    "ExecuteTime": {
     "end_time": "2021-07-20T00:19:32.693004Z",
     "start_time": "2021-07-20T00:19:32.169766Z"
    }
   },
   "outputs": [],
   "source": [
    "formul = 'np.log(RENDA) ~ OBRIGAÇÃO_TOTAL_POR_SALA + DIAS_FUNCIONAMENTO + C(REGISTRO_GRUPO) + C(ANO_CINEMATOGRAFICO)'\n",
    "\n",
    "last_g_count = g_count\n",
    "\n",
    "group_naive[f'reg_gn{g_count}'] = smf.ols(formula = formul, data=gtds_1719).fit()\n",
    "g_count += 1\n",
    "\n",
    "group_naive[f'reg_gn{g_count}'] = smf.ols(formula = formul, data=gest_1719).fit()\n",
    "g_count += 1\n",
    "\n",
    "group_naive[f'reg_gn{g_count}'] = smf.ols(formula = formul, data=gbras_1719).fit()\n",
    "g_count += 1"
   ]
  },
  {
   "cell_type": "code",
   "execution_count": 12,
   "metadata": {
    "ExecuteTime": {
     "end_time": "2021-07-20T00:19:34.353326Z",
     "start_time": "2021-07-20T00:19:33.523574Z"
    }
   },
   "outputs": [
    {
     "name": "stdout",
     "output_type": "stream",
     "text": [
      "Reg_group 0, ALL:\n",
      "                            coef  std err      t  P>|t|\n",
      "OBRIGAÇÃO_TOTAL_POR_SALA  0.0064    0.005  1.332  0.184\n",
      "DIAS_FUNCIONAMENTO        0.0212    0.032  0.663  0.508\n",
      "\n",
      "\n",
      "Reg_group 1, FOREIGN:\n",
      "                            coef  std err      t  P>|t|\n",
      "OBRIGAÇÃO_TOTAL_POR_SALA  0.0078    0.005  1.595  0.112\n",
      "DIAS_FUNCIONAMENTO        0.0207    0.032  0.645  0.519\n",
      "\n",
      "\n",
      "Reg_group 2, BRAZILIAN:\n",
      "                            coef  std err      t  P>|t|\n",
      "OBRIGAÇÃO_TOTAL_POR_SALA  0.0065    0.006  1.012  0.312\n",
      "DIAS_FUNCIONAMENTO        0.0074    0.042  0.175  0.861\n",
      "\n",
      "\n"
     ]
    }
   ],
   "source": [
    "works = ['ALL', 'FOREIGN', 'BRAZILIAN']\n",
    "\n",
    "for i in range(last_g_count, g_count):\n",
    "    print(f'Reg_group {i}, {works[i%3]}:')\n",
    "    print(pd.read_html(group_naive[f'reg_gn{i}'].summary().\n",
    "                       tables[1].as_html(),header=0,index_col=0)[0].iloc[-2:,:-2])\n",
    "    print('\\n')"
   ]
  },
  {
   "cell_type": "markdown",
   "metadata": {},
   "source": [
    "##### 2017-2018"
   ]
  },
  {
   "cell_type": "code",
   "execution_count": 13,
   "metadata": {
    "ExecuteTime": {
     "end_time": "2021-07-20T00:19:35.387698Z",
     "start_time": "2021-07-20T00:19:35.272387Z"
    }
   },
   "outputs": [],
   "source": [
    "formul = 'np.log(RENDA) ~ OBRIGAÇÃO_TOTAL_POR_SALA + DIAS_FUNCIONAMENTO + C(REGISTRO_GRUPO) + C(ANO_CINEMATOGRAFICO)'\n",
    "\n",
    "last_g_count = g_count\n",
    "\n",
    "group_naive[f'reg_gn{g_count}'] = smf.ols(formula = formul, data=gtds_1718).fit()\n",
    "g_count += 1\n",
    "\n",
    "group_naive[f'reg_gn{g_count}'] = smf.ols(formula = formul, data=gest_1718).fit()\n",
    "g_count += 1\n",
    "\n",
    "group_naive[f'reg_gn{g_count}'] = smf.ols(formula = formul, data=gbras_1718).fit()\n",
    "g_count += 1"
   ]
  },
  {
   "cell_type": "code",
   "execution_count": 14,
   "metadata": {
    "ExecuteTime": {
     "end_time": "2021-07-20T00:19:36.679934Z",
     "start_time": "2021-07-20T00:19:36.362104Z"
    }
   },
   "outputs": [
    {
     "name": "stdout",
     "output_type": "stream",
     "text": [
      "Reg_group 3, ALL:\n",
      "                            coef  std err      t  P>|t|\n",
      "OBRIGAÇÃO_TOTAL_POR_SALA -0.0343    0.046 -0.739  0.461\n",
      "DIAS_FUNCIONAMENTO        0.0233    0.069  0.335  0.738\n",
      "\n",
      "\n",
      "Reg_group 4, FOREIGN:\n",
      "                            coef  std err      t  P>|t|\n",
      "OBRIGAÇÃO_TOTAL_POR_SALA -0.0350    0.047 -0.739  0.461\n",
      "DIAS_FUNCIONAMENTO        0.0213    0.071  0.302  0.763\n",
      "\n",
      "\n",
      "Reg_group 5, BRAZILIAN:\n",
      "                            coef  std err      t  P>|t|\n",
      "OBRIGAÇÃO_TOTAL_POR_SALA  0.0491    0.065  0.754  0.452\n",
      "DIAS_FUNCIONAMENTO       -0.0004    0.094 -0.004  0.997\n",
      "\n",
      "\n"
     ]
    }
   ],
   "source": [
    "works = ['ALL', 'FOREIGN', 'BRAZILIAN']\n",
    "\n",
    "for i in range(last_g_count, g_count):\n",
    "    print(f'Reg_group {i}, {works[i%3]}:')\n",
    "    print(pd.read_html(group_naive[f'reg_gn{i}'].summary().\n",
    "                       tables[1].as_html(),header=0,index_col=0)[0].iloc[-2:,:-2])\n",
    "    print('\\n')"
   ]
  },
  {
   "cell_type": "markdown",
   "metadata": {},
   "source": [
    "#### Without entity fixed-effects"
   ]
  },
  {
   "cell_type": "markdown",
   "metadata": {},
   "source": [
    "##### 2017-2019"
   ]
  },
  {
   "cell_type": "code",
   "execution_count": 15,
   "metadata": {
    "ExecuteTime": {
     "end_time": "2021-07-20T00:19:38.043462Z",
     "start_time": "2021-07-20T00:19:37.976280Z"
    }
   },
   "outputs": [],
   "source": [
    "formul = 'np.log(RENDA) ~ OBRIGAÇÃO_FINAL_POR_SALA + DIAS_FUNCIONAMENTO + SALAS_GRUPO_INFERIDO + ASSENTOS_GRUPO_INFERIDO + C(ANO_CINEMATOGRAFICO)'\n",
    "last_g_count = g_count\n",
    "\n",
    "group_naive[f'reg_gn{g_count}'] = smf.ols(formula = formul, data=gtds_1719).fit()\n",
    "g_count += 1\n",
    "\n",
    "group_naive[f'reg_gn{g_count}'] = smf.ols(formula = formul, data=gest_1719).fit()\n",
    "g_count += 1\n",
    "\n",
    "group_naive[f'reg_gn{g_count}'] = smf.ols(formula = formul, data=gbras_1719).fit()\n",
    "g_count += 1"
   ]
  },
  {
   "cell_type": "code",
   "execution_count": 16,
   "metadata": {
    "ExecuteTime": {
     "end_time": "2021-07-20T00:19:38.893427Z",
     "start_time": "2021-07-20T00:19:38.842282Z"
    }
   },
   "outputs": [
    {
     "name": "stdout",
     "output_type": "stream",
     "text": [
      "Reg_group 6, ALL:\n",
      "                            coef   std err       t  P>|t|\n",
      "OBRIGAÇÃO_FINAL_POR_SALA  0.1024  0.006000  17.472    0.0\n",
      "DIAS_FUNCIONAMENTO        0.1908  0.025000   7.572    0.0\n",
      "SALAS_GRUPO_INFERIDO      0.0640  0.015000   4.133    0.0\n",
      "ASSENTOS_GRUPO_INFERIDO  -0.0003  0.000064  -5.399    0.0\n",
      "\n",
      "\n",
      "Reg_group 7, FOREIGN:\n",
      "                            coef   std err       t  P>|t|\n",
      "OBRIGAÇÃO_FINAL_POR_SALA  0.1043  0.006000  16.856    0.0\n",
      "DIAS_FUNCIONAMENTO        0.1907  0.026000   7.214    0.0\n",
      "SALAS_GRUPO_INFERIDO      0.0632  0.016000   3.890    0.0\n",
      "ASSENTOS_GRUPO_INFERIDO  -0.0003  0.000067  -5.092    0.0\n",
      "\n",
      "\n",
      "Reg_group 8, BRAZILIAN:\n",
      "                            coef   std err       t  P>|t|\n",
      "OBRIGAÇÃO_FINAL_POR_SALA  0.1022  0.006000  16.759    0.0\n",
      "DIAS_FUNCIONAMENTO        0.1960  0.024000   7.999    0.0\n",
      "SALAS_GRUPO_INFERIDO      0.0745  0.015000   4.944    0.0\n",
      "ASSENTOS_GRUPO_INFERIDO  -0.0004  0.000062  -6.343    0.0\n",
      "\n",
      "\n"
     ]
    }
   ],
   "source": [
    "works = ['ALL', 'FOREIGN', 'BRAZILIAN']\n",
    "\n",
    "for i in range(last_g_count, g_count):\n",
    "    print(f'Reg_group {i}, {works[i%3]}:')\n",
    "    print(pd.read_html(group_naive[f'reg_gn{i}'].summary().\n",
    "                       tables[1].as_html(),header=0,index_col=0)[0].iloc[-4:,:-2])\n",
    "    print('\\n')"
   ]
  },
  {
   "cell_type": "markdown",
   "metadata": {},
   "source": [
    "##### 2017-2018"
   ]
  },
  {
   "cell_type": "code",
   "execution_count": 17,
   "metadata": {
    "ExecuteTime": {
     "end_time": "2021-07-20T00:19:39.924268Z",
     "start_time": "2021-07-20T00:19:39.864108Z"
    }
   },
   "outputs": [],
   "source": [
    "formul = 'np.log(RENDA) ~ OBRIGAÇÃO_FINAL_POR_SALA + DIAS_FUNCIONAMENTO + SALAS_GRUPO_INFERIDO + ASSENTOS_GRUPO_INFERIDO + C(ANO_CINEMATOGRAFICO)'\n",
    "\n",
    "last_g_count = g_count\n",
    "\n",
    "group_naive[f'reg_gn{g_count}'] = smf.ols(formula = formul, data=gtds_1718).fit()\n",
    "g_count += 1\n",
    "\n",
    "group_naive[f'reg_gn{g_count}'] = smf.ols(formula = formul, data=gest_1718).fit()\n",
    "g_count += 1\n",
    "\n",
    "group_naive[f'reg_gn{g_count}'] = smf.ols(formula = formul, data=gbras_1718).fit()\n",
    "g_count += 1"
   ]
  },
  {
   "cell_type": "code",
   "execution_count": 18,
   "metadata": {
    "ExecuteTime": {
     "end_time": "2021-07-20T00:19:40.115786Z",
     "start_time": "2021-07-20T00:19:40.068160Z"
    },
    "scrolled": true
   },
   "outputs": [
    {
     "name": "stdout",
     "output_type": "stream",
     "text": [
      "Reg_group 9, ALL:\n",
      "                            coef   std err       t  P>|t|\n",
      "OBRIGAÇÃO_FINAL_POR_SALA  0.1083  0.005000  19.771  0.000\n",
      "DIAS_FUNCIONAMENTO        0.2077  0.028000   7.444  0.000\n",
      "SALAS_GRUPO_INFERIDO      0.0346  0.018000   1.907  0.057\n",
      "ASSENTOS_GRUPO_INFERIDO  -0.0002  0.000075  -3.115  0.002\n",
      "\n",
      "\n",
      "Reg_group 10, FOREIGN:\n",
      "                            coef   std err       t  P>|t|\n",
      "OBRIGAÇÃO_FINAL_POR_SALA  0.1102  0.006000  18.506  0.000\n",
      "DIAS_FUNCIONAMENTO        0.2091  0.030000   6.931  0.000\n",
      "SALAS_GRUPO_INFERIDO      0.0334  0.020000   1.706  0.089\n",
      "ASSENTOS_GRUPO_INFERIDO  -0.0002  0.000081  -2.828  0.005\n",
      "\n",
      "\n",
      "Reg_group 11, BRAZILIAN:\n",
      "                            coef   std err       t  P>|t|\n",
      "OBRIGAÇÃO_FINAL_POR_SALA  0.1082  0.006000  18.949  0.000\n",
      "DIAS_FUNCIONAMENTO        0.2171  0.027000   7.996  0.000\n",
      "SALAS_GRUPO_INFERIDO      0.0453  0.018000   2.562  0.011\n",
      "ASSENTOS_GRUPO_INFERIDO  -0.0003  0.000073  -3.909  0.000\n",
      "\n",
      "\n"
     ]
    }
   ],
   "source": [
    "works = ['ALL', 'FOREIGN', 'BRAZILIAN']\n",
    "\n",
    "for i in range(last_g_count, g_count):\n",
    "    print(f'Reg_group {i}, {works[i%3]}:')\n",
    "    print(pd.read_html(group_naive[f'reg_gn{i}'].summary().\n",
    "                       tables[1].as_html(),header=0,index_col=0)[0].iloc[-4:,:-2])\n",
    "    print('\\n')"
   ]
  },
  {
   "cell_type": "markdown",
   "metadata": {},
   "source": [
    "### Dependent variable: public (moviegoers)"
   ]
  },
  {
   "cell_type": "markdown",
   "metadata": {},
   "source": [
    "#### With entity fixed-effects"
   ]
  },
  {
   "cell_type": "markdown",
   "metadata": {},
   "source": [
    "##### 2017-2019"
   ]
  },
  {
   "cell_type": "code",
   "execution_count": 19,
   "metadata": {
    "ExecuteTime": {
     "end_time": "2021-07-20T00:19:42.574601Z",
     "start_time": "2021-07-20T00:19:42.416695Z"
    }
   },
   "outputs": [],
   "source": [
    "formul = 'np.log(PUBLICO) ~ OBRIGAÇÃO_TOTAL_POR_SALA + DIAS_FUNCIONAMENTO + C(REGISTRO_GRUPO) + C(ANO_CINEMATOGRAFICO)'\n",
    "\n",
    "last_g_count = g_count\n",
    "\n",
    "group_naive[f'reg_gn{g_count}'] = smf.ols(formula = formul, data=gtds_1719).fit()\n",
    "g_count += 1\n",
    "\n",
    "group_naive[f'reg_gn{g_count}'] = smf.ols(formula = formul, data=gest_1719).fit()\n",
    "g_count += 1\n",
    "\n",
    "group_naive[f'reg_gn{g_count}'] = smf.ols(formula = formul, data=gbras_1719).fit()\n",
    "g_count += 1"
   ]
  },
  {
   "cell_type": "code",
   "execution_count": 20,
   "metadata": {
    "ExecuteTime": {
     "end_time": "2021-07-20T00:19:43.779692Z",
     "start_time": "2021-07-20T00:19:43.433767Z"
    }
   },
   "outputs": [
    {
     "name": "stdout",
     "output_type": "stream",
     "text": [
      "Reg_group 12, ALL:\n",
      "                            coef  std err      t  P>|t|\n",
      "OBRIGAÇÃO_TOTAL_POR_SALA  0.0074    0.005  1.592  0.112\n",
      "DIAS_FUNCIONAMENTO        0.0255    0.031  0.824  0.410\n",
      "\n",
      "\n",
      "Reg_group 13, FOREIGN:\n",
      "                            coef  std err      t  P>|t|\n",
      "OBRIGAÇÃO_TOTAL_POR_SALA  0.0084    0.005  1.782  0.076\n",
      "DIAS_FUNCIONAMENTO        0.0242    0.031  0.774  0.440\n",
      "\n",
      "\n",
      "Reg_group 14, BRAZILIAN:\n",
      "                            coef  std err      t  P>|t|\n",
      "OBRIGAÇÃO_TOTAL_POR_SALA  0.0088    0.006  1.443  0.150\n",
      "DIAS_FUNCIONAMENTO        0.0139    0.040  0.344  0.731\n",
      "\n",
      "\n"
     ]
    }
   ],
   "source": [
    "works = ['ALL', 'FOREIGN', 'BRAZILIAN']\n",
    "\n",
    "for i in range(last_g_count, g_count):\n",
    "    print(f'Reg_group {i}, {works[i%3]}:')\n",
    "    print(pd.read_html(group_naive[f'reg_gn{i}'].summary().\n",
    "                       tables[1].as_html(),header=0,index_col=0)[0].iloc[-2:,:-2])\n",
    "    print('\\n')"
   ]
  },
  {
   "cell_type": "markdown",
   "metadata": {},
   "source": [
    "##### 2017-2018"
   ]
  },
  {
   "cell_type": "code",
   "execution_count": 21,
   "metadata": {
    "ExecuteTime": {
     "end_time": "2021-07-20T00:19:44.803601Z",
     "start_time": "2021-07-20T00:19:44.689590Z"
    }
   },
   "outputs": [],
   "source": [
    "formul = 'np.log(PUBLICO) ~ OBRIGAÇÃO_TOTAL_POR_SALA + DIAS_FUNCIONAMENTO + C(REGISTRO_GRUPO) + C(ANO_CINEMATOGRAFICO)'\n",
    "\n",
    "last_g_count = g_count\n",
    "\n",
    "group_naive[f'reg_gn{g_count}'] = smf.ols(formula = formul, data=gtds_1718).fit()\n",
    "g_count += 1\n",
    "\n",
    "group_naive[f'reg_gn{g_count}'] = smf.ols(formula = formul, data=gest_1718).fit()\n",
    "g_count += 1\n",
    "\n",
    "group_naive[f'reg_gn{g_count}'] = smf.ols(formula = formul, data=gbras_1718).fit()\n",
    "g_count += 1"
   ]
  },
  {
   "cell_type": "code",
   "execution_count": 22,
   "metadata": {
    "ExecuteTime": {
     "end_time": "2021-07-20T00:19:45.904708Z",
     "start_time": "2021-07-20T00:19:45.593722Z"
    }
   },
   "outputs": [
    {
     "name": "stdout",
     "output_type": "stream",
     "text": [
      "Reg_group 15, ALL:\n",
      "                            coef  std err      t  P>|t|\n",
      "OBRIGAÇÃO_TOTAL_POR_SALA -0.0384    0.044 -0.864  0.388\n",
      "DIAS_FUNCIONAMENTO        0.0257    0.066  0.387  0.699\n",
      "\n",
      "\n",
      "Reg_group 16, FOREIGN:\n",
      "                            coef  std err      t  P>|t|\n",
      "OBRIGAÇÃO_TOTAL_POR_SALA -0.0392    0.046 -0.858  0.392\n",
      "DIAS_FUNCIONAMENTO        0.0207    0.068  0.303  0.762\n",
      "\n",
      "\n",
      "Reg_group 17, BRAZILIAN:\n",
      "                            coef  std err      t  P>|t|\n",
      "OBRIGAÇÃO_TOTAL_POR_SALA  0.0478    0.061  0.786  0.433\n",
      "DIAS_FUNCIONAMENTO        0.0088    0.087  0.101  0.920\n",
      "\n",
      "\n"
     ]
    }
   ],
   "source": [
    "works = ['ALL', 'FOREIGN', 'BRAZILIAN']\n",
    "\n",
    "for i in range(last_g_count, g_count):\n",
    "    print(f'Reg_group {i}, {works[i%3]}:')\n",
    "    print(pd.read_html(group_naive[f'reg_gn{i}'].summary().\n",
    "                       tables[1].as_html(),header=0,index_col=0)[0].iloc[-2:,:-2])\n",
    "    print('\\n')"
   ]
  },
  {
   "cell_type": "markdown",
   "metadata": {},
   "source": [
    "#### Without entity fixed-effects"
   ]
  },
  {
   "cell_type": "markdown",
   "metadata": {},
   "source": [
    "##### 2017-2019"
   ]
  },
  {
   "cell_type": "code",
   "execution_count": 23,
   "metadata": {
    "ExecuteTime": {
     "end_time": "2021-07-20T00:19:50.215877Z",
     "start_time": "2021-07-20T00:19:50.152717Z"
    }
   },
   "outputs": [],
   "source": [
    "formul = 'np.log(PUBLICO) ~ OBRIGAÇÃO_FINAL_POR_SALA + DIAS_FUNCIONAMENTO + SALAS_GRUPO_INFERIDO + ASSENTOS_GRUPO_INFERIDO + C(ANO_CINEMATOGRAFICO)'\n",
    "last_g_count = g_count\n",
    "\n",
    "group_naive[f'reg_gn{g_count}'] = smf.ols(formula = formul, data=gtds_1719).fit()\n",
    "g_count += 1\n",
    "\n",
    "group_naive[f'reg_gn{g_count}'] = smf.ols(formula = formul, data=gest_1719).fit()\n",
    "g_count += 1\n",
    "\n",
    "group_naive[f'reg_gn{g_count}'] = smf.ols(formula = formul, data=gbras_1719).fit()\n",
    "g_count += 1"
   ]
  },
  {
   "cell_type": "code",
   "execution_count": 24,
   "metadata": {
    "ExecuteTime": {
     "end_time": "2021-07-20T00:19:50.482174Z",
     "start_time": "2021-07-20T00:19:50.434051Z"
    }
   },
   "outputs": [
    {
     "name": "stdout",
     "output_type": "stream",
     "text": [
      "Reg_group 18, ALL:\n",
      "                            coef  std err       t  P>|t|\n",
      "OBRIGAÇÃO_FINAL_POR_SALA  0.0978  0.00500  17.881    0.0\n",
      "DIAS_FUNCIONAMENTO        0.2016  0.02300   8.578    0.0\n",
      "SALAS_GRUPO_INFERIDO      0.0552  0.01400   3.818    0.0\n",
      "ASSENTOS_GRUPO_INFERIDO  -0.0003  0.00006  -5.300    0.0\n",
      "\n",
      "\n",
      "Reg_group 19, FOREIGN:\n",
      "                            coef   std err       t  P>|t|\n",
      "OBRIGAÇÃO_FINAL_POR_SALA  0.0998  0.006000  17.220    0.0\n",
      "DIAS_FUNCIONAMENTO        0.2019  0.025000   8.158    0.0\n",
      "SALAS_GRUPO_INFERIDO      0.0541  0.015000   3.554    0.0\n",
      "ASSENTOS_GRUPO_INFERIDO  -0.0003  0.000063  -4.962    0.0\n",
      "\n",
      "\n",
      "Reg_group 20, BRAZILIAN:\n",
      "                            coef  std err       t  P>|t|\n",
      "OBRIGAÇÃO_FINAL_POR_SALA  0.0980  0.00600  16.625    0.0\n",
      "DIAS_FUNCIONAMENTO        0.2060  0.02400   8.698    0.0\n",
      "SALAS_GRUPO_INFERIDO      0.0659  0.01500   4.520    0.0\n",
      "ASSENTOS_GRUPO_INFERIDO  -0.0004  0.00006  -6.068    0.0\n",
      "\n",
      "\n"
     ]
    }
   ],
   "source": [
    "works = ['ALL', 'FOREIGN', 'BRAZILIAN']\n",
    "\n",
    "for i in range(last_g_count, g_count):\n",
    "    print(f'Reg_group {i}, {works[i%3]}:')\n",
    "    print(pd.read_html(group_naive[f'reg_gn{i}'].summary().\n",
    "                       tables[1].as_html(),header=0,index_col=0)[0].iloc[-4:,:-2])\n",
    "    print('\\n')"
   ]
  },
  {
   "cell_type": "markdown",
   "metadata": {},
   "source": [
    "##### 2017-2018"
   ]
  },
  {
   "cell_type": "code",
   "execution_count": 25,
   "metadata": {
    "ExecuteTime": {
     "end_time": "2021-07-20T00:19:51.795970Z",
     "start_time": "2021-07-20T00:19:51.736695Z"
    }
   },
   "outputs": [],
   "source": [
    "formul = 'np.log(PUBLICO) ~ OBRIGAÇÃO_FINAL_POR_SALA + DIAS_FUNCIONAMENTO + SALAS_GRUPO_INFERIDO + ASSENTOS_GRUPO_INFERIDO + C(ANO_CINEMATOGRAFICO)'\n",
    "\n",
    "last_g_count = g_count\n",
    "\n",
    "group_naive[f'reg_gn{g_count}'] = smf.ols(formula = formul, data=gtds_1718).fit()\n",
    "g_count += 1\n",
    "\n",
    "group_naive[f'reg_gn{g_count}'] = smf.ols(formula = formul, data=gest_1718).fit()\n",
    "g_count += 1\n",
    "\n",
    "group_naive[f'reg_gn{g_count}'] = smf.ols(formula = formul, data=gbras_1718).fit()\n",
    "g_count += 1"
   ]
  },
  {
   "cell_type": "code",
   "execution_count": 26,
   "metadata": {
    "ExecuteTime": {
     "end_time": "2021-07-20T00:19:52.175662Z",
     "start_time": "2021-07-20T00:19:52.126533Z"
    }
   },
   "outputs": [
    {
     "name": "stdout",
     "output_type": "stream",
     "text": [
      "Reg_group 21, ALL:\n",
      "                            coef   std err       t  P>|t|\n",
      "OBRIGAÇÃO_FINAL_POR_SALA  0.1033  0.005000  20.462  0.000\n",
      "DIAS_FUNCIONAMENTO        0.2112  0.026000   8.207  0.000\n",
      "SALAS_GRUPO_INFERIDO      0.0298  0.017000   1.779  0.076\n",
      "ASSENTOS_GRUPO_INFERIDO  -0.0002  0.000069  -3.149  0.002\n",
      "\n",
      "\n",
      "Reg_group 22, FOREIGN:\n",
      "                            coef   std err       t  P>|t|\n",
      "OBRIGAÇÃO_FINAL_POR_SALA  0.1054  0.006000  19.048  0.000\n",
      "DIAS_FUNCIONAMENTO        0.2129  0.028000   7.598  0.000\n",
      "SALAS_GRUPO_INFERIDO      0.0281  0.018000   1.544  0.123\n",
      "ASSENTOS_GRUPO_INFERIDO  -0.0002  0.000076  -2.810  0.005\n",
      "\n",
      "\n",
      "Reg_group 23, BRAZILIAN:\n",
      "                            coef  std err       t  P>|t|\n",
      "OBRIGAÇÃO_FINAL_POR_SALA  0.1036  0.00500  18.844  0.000\n",
      "DIAS_FUNCIONAMENTO        0.2195  0.02600   8.396  0.000\n",
      "SALAS_GRUPO_INFERIDO      0.0409  0.01700   2.402  0.017\n",
      "ASSENTOS_GRUPO_INFERIDO  -0.0003  0.00007  -3.838  0.000\n",
      "\n",
      "\n"
     ]
    }
   ],
   "source": [
    "works = ['ALL', 'FOREIGN', 'BRAZILIAN']\n",
    "\n",
    "for i in range(last_g_count, g_count):\n",
    "    print(f'Reg_group {i}, {works[i%3]}:')\n",
    "    print(pd.read_html(group_naive[f'reg_gn{i}'].summary().\n",
    "                       tables[1].as_html(),header=0,index_col=0)[0].iloc[-4:,:-2])\n",
    "    print('\\n')"
   ]
  },
  {
   "cell_type": "markdown",
   "metadata": {},
   "source": [
    "### Dependent variable: different titles"
   ]
  },
  {
   "cell_type": "markdown",
   "metadata": {},
   "source": [
    "#### With entity fixed-effects"
   ]
  },
  {
   "cell_type": "markdown",
   "metadata": {},
   "source": [
    "##### 2017-2019"
   ]
  },
  {
   "cell_type": "code",
   "execution_count": 28,
   "metadata": {
    "ExecuteTime": {
     "end_time": "2021-07-20T00:39:06.250246Z",
     "start_time": "2021-07-20T00:39:06.104874Z"
    }
   },
   "outputs": [],
   "source": [
    "f1 = 'TIT_TOTAL '\n",
    "f2 = 'TIT_EST '\n",
    "f3 = 'TIT_BR '\n",
    "\n",
    "suffix = '~ OBRIGAÇÃO_TOTAL_POR_SALA + DIAS_FUNCIONAMENTO + C(REGISTRO_GRUPO) + C(ANO_CINEMATOGRAFICO)'\n",
    "\n",
    "last_g_count = g_count\n",
    "\n",
    "for form in [f1,f2,f3]:\n",
    "    group_naive[f'reg_gn{g_count}'] = smf.ols(formula = form+suffix, data=gtds_1719).fit()\n",
    "    g_count += 1"
   ]
  },
  {
   "cell_type": "code",
   "execution_count": 29,
   "metadata": {
    "ExecuteTime": {
     "end_time": "2021-07-20T00:40:23.040363Z",
     "start_time": "2021-07-20T00:40:22.639928Z"
    }
   },
   "outputs": [
    {
     "name": "stdout",
     "output_type": "stream",
     "text": [
      "Reg_group 24, ALL:\n",
      "                             coef  std err       t  P>|t|\n",
      "OBRIGAÇÃO_TOTAL_POR_SALA   0.4211    0.404   1.042  0.298\n",
      "DIAS_FUNCIONAMENTO        30.9966    2.680  11.568  0.000\n",
      "\n",
      "\n",
      "Reg_group 25, FOREIGN:\n",
      "                             coef  std err       t  P>|t|\n",
      "OBRIGAÇÃO_TOTAL_POR_SALA   0.0749    0.407   0.184  0.854\n",
      "DIAS_FUNCIONAMENTO        27.5413    2.700  10.200  0.000\n",
      "\n",
      "\n",
      "Reg_group 26, BRAZILIAN:\n",
      "                            coef  std err      t  P>|t|\n",
      "OBRIGAÇÃO_TOTAL_POR_SALA  0.3463    0.218  1.592  0.112\n",
      "DIAS_FUNCIONAMENTO        3.4553    1.443  2.394  0.017\n",
      "\n",
      "\n"
     ]
    }
   ],
   "source": [
    "works = ['ALL', 'FOREIGN', 'BRAZILIAN']\n",
    "\n",
    "for i in range(last_g_count, g_count):\n",
    "    print(f'Reg_group {i}, {works[i%3]}:')\n",
    "    print(pd.read_html(group_naive[f'reg_gn{i}'].summary().\n",
    "                       tables[1].as_html(),header=0,index_col=0)[0].iloc[-2:,:-2])\n",
    "    print('\\n')"
   ]
  },
  {
   "cell_type": "markdown",
   "metadata": {},
   "source": [
    "##### 2017-2018"
   ]
  },
  {
   "cell_type": "code",
   "execution_count": 33,
   "metadata": {
    "ExecuteTime": {
     "end_time": "2021-07-20T00:41:21.737344Z",
     "start_time": "2021-07-20T00:41:21.624961Z"
    }
   },
   "outputs": [],
   "source": [
    "g_count = 27\n",
    "\n",
    "last_g_count = g_count\n",
    "\n",
    "for form in [f1,f2,f3]:\n",
    "    group_naive[f'reg_gn{g_count}'] = smf.ols(formula = form+suffix, data=gtds_1718).fit()\n",
    "    g_count += 1"
   ]
  },
  {
   "cell_type": "code",
   "execution_count": 34,
   "metadata": {
    "ExecuteTime": {
     "end_time": "2021-07-20T00:41:22.111842Z",
     "start_time": "2021-07-20T00:41:21.784471Z"
    }
   },
   "outputs": [
    {
     "name": "stdout",
     "output_type": "stream",
     "text": [
      "Reg_group 27, ALL:\n",
      "                             coef  std err      t  P>|t|\n",
      "OBRIGAÇÃO_TOTAL_POR_SALA   0.8136    2.820  0.289  0.773\n",
      "DIAS_FUNCIONAMENTO        40.3858    4.213  9.585  0.000\n",
      "\n",
      "\n",
      "Reg_group 28, FOREIGN:\n",
      "                             coef  std err      t  P>|t|\n",
      "OBRIGAÇÃO_TOTAL_POR_SALA  -0.9871    3.475 -0.284  0.777\n",
      "DIAS_FUNCIONAMENTO        37.7971    5.191  7.281  0.000\n",
      "\n",
      "\n",
      "Reg_group 29, BRAZILIAN:\n",
      "                            coef  std err      t  P>|t|\n",
      "OBRIGAÇÃO_TOTAL_POR_SALA  1.8007    1.851  0.973  0.332\n",
      "DIAS_FUNCIONAMENTO        2.5887    2.766  0.936  0.351\n",
      "\n",
      "\n"
     ]
    }
   ],
   "source": [
    "works = ['ALL', 'FOREIGN', 'BRAZILIAN']\n",
    "\n",
    "for i in range(last_g_count, g_count):\n",
    "    print(f'Reg_group {i}, {works[i%3]}:')\n",
    "    print(pd.read_html(group_naive[f'reg_gn{i}'].summary().\n",
    "                       tables[1].as_html(),header=0,index_col=0)[0].iloc[-2:,:-2])\n",
    "    print('\\n')"
   ]
  },
  {
   "cell_type": "markdown",
   "metadata": {},
   "source": [
    "#### Without entity fixed-effects"
   ]
  },
  {
   "cell_type": "markdown",
   "metadata": {},
   "source": [
    "##### 2017-2019"
   ]
  },
  {
   "cell_type": "code",
   "execution_count": 35,
   "metadata": {
    "ExecuteTime": {
     "end_time": "2021-07-20T00:42:47.733938Z",
     "start_time": "2021-07-20T00:42:47.673805Z"
    }
   },
   "outputs": [],
   "source": [
    "suffix = '~ OBRIGAÇÃO_FINAL_POR_SALA + DIAS_FUNCIONAMENTO + SALAS_GRUPO_INFERIDO + ASSENTOS_GRUPO_INFERIDO + C(ANO_CINEMATOGRAFICO)'\n",
    "\n",
    "last_g_count = g_count\n",
    "\n",
    "for form in [f1,f2,f3]:\n",
    "    group_naive[f'reg_gn{g_count}'] = smf.ols(formula = form+suffix, data=gtds_1719).fit()\n",
    "    g_count += 1"
   ]
  },
  {
   "cell_type": "code",
   "execution_count": 36,
   "metadata": {
    "ExecuteTime": {
     "end_time": "2021-07-20T00:42:48.777494Z",
     "start_time": "2021-07-20T00:42:48.727859Z"
    }
   },
   "outputs": [
    {
     "name": "stdout",
     "output_type": "stream",
     "text": [
      "Reg_group 30, ALL:\n",
      "                             coef  std err       t  P>|t|\n",
      "OBRIGAÇÃO_FINAL_POR_SALA   2.1893    0.460   4.755  0.000\n",
      "DIAS_FUNCIONAMENTO        23.3869    1.979  11.820  0.000\n",
      "SALAS_GRUPO_INFERIDO      17.3918    1.216  14.299  0.000\n",
      "ASSENTOS_GRUPO_INFERIDO   -0.0144    0.005  -2.872  0.004\n",
      "\n",
      "\n",
      "Reg_group 31, FOREIGN:\n",
      "                             coef  std err       t  P>|t|\n",
      "OBRIGAÇÃO_FINAL_POR_SALA   1.9071    0.313   6.101    0.0\n",
      "DIAS_FUNCIONAMENTO        20.2199    1.343  15.055    0.0\n",
      "SALAS_GRUPO_INFERIDO      14.2278    0.826  17.232    0.0\n",
      "ASSENTOS_GRUPO_INFERIDO   -0.0143    0.003  -4.185    0.0\n",
      "\n",
      "\n",
      "Reg_group 32, BRAZILIAN:\n",
      "                            coef  std err      t  P>|t|\n",
      "OBRIGAÇÃO_FINAL_POR_SALA  0.2822    0.209  1.348  0.178\n",
      "DIAS_FUNCIONAMENTO        3.1671    0.900  3.520  0.000\n",
      "SALAS_GRUPO_INFERIDO      3.1639    0.553  5.720  0.000\n",
      "ASSENTOS_GRUPO_INFERIDO  -0.0002    0.002 -0.070  0.944\n",
      "\n",
      "\n"
     ]
    }
   ],
   "source": [
    "works = ['ALL', 'FOREIGN', 'BRAZILIAN']\n",
    "\n",
    "for i in range(last_g_count, g_count):\n",
    "    print(f'Reg_group {i}, {works[i%3]}:')\n",
    "    print(pd.read_html(group_naive[f'reg_gn{i}'].summary().\n",
    "                       tables[1].as_html(),header=0,index_col=0)[0].iloc[-4:,:-2])\n",
    "    print('\\n')"
   ]
  },
  {
   "cell_type": "markdown",
   "metadata": {},
   "source": [
    "##### 2017-2018"
   ]
  },
  {
   "cell_type": "code",
   "execution_count": 39,
   "metadata": {
    "ExecuteTime": {
     "end_time": "2021-07-20T00:43:30.065411Z",
     "start_time": "2021-07-20T00:43:30.007753Z"
    }
   },
   "outputs": [],
   "source": [
    "last_g_count = g_count\n",
    "\n",
    "for form in [f1,f2,f3]:\n",
    "    group_naive[f'reg_gn{g_count}'] = smf.ols(formula = form+suffix, data=gtds_1718).fit()\n",
    "    g_count += 1"
   ]
  },
  {
   "cell_type": "code",
   "execution_count": 40,
   "metadata": {
    "ExecuteTime": {
     "end_time": "2021-07-20T00:43:30.724214Z",
     "start_time": "2021-07-20T00:43:30.672047Z"
    }
   },
   "outputs": [
    {
     "name": "stdout",
     "output_type": "stream",
     "text": [
      "Reg_group 36, ALL:\n",
      "                             coef  std err       t  P>|t|\n",
      "OBRIGAÇÃO_FINAL_POR_SALA   1.5705    0.474   3.310  0.001\n",
      "DIAS_FUNCIONAMENTO        28.1640    2.418  11.648  0.000\n",
      "SALAS_GRUPO_INFERIDO      19.9717    1.571  12.710  0.000\n",
      "ASSENTOS_GRUPO_INFERIDO   -0.0283    0.007  -4.351  0.000\n",
      "\n",
      "\n",
      "Reg_group 37, FOREIGN:\n",
      "                             coef  std err       t  P>|t|\n",
      "OBRIGAÇÃO_FINAL_POR_SALA   1.5408    0.307   5.016    0.0\n",
      "DIAS_FUNCIONAMENTO        24.0622    1.565  15.371    0.0\n",
      "SALAS_GRUPO_INFERIDO      14.8561    1.017  14.603    0.0\n",
      "ASSENTOS_GRUPO_INFERIDO   -0.0189    0.004  -4.491    0.0\n",
      "\n",
      "\n",
      "Reg_group 38, BRAZILIAN:\n",
      "                            coef  std err      t  P>|t|\n",
      "OBRIGAÇÃO_FINAL_POR_SALA  0.0297    0.224  0.132  0.895\n",
      "DIAS_FUNCIONAMENTO        4.1018    1.144  3.586  0.000\n",
      "SALAS_GRUPO_INFERIDO      5.1156    0.743  6.881  0.000\n",
      "ASSENTOS_GRUPO_INFERIDO  -0.0094    0.003 -3.052  0.002\n",
      "\n",
      "\n"
     ]
    }
   ],
   "source": [
    "works = ['ALL', 'FOREIGN', 'BRAZILIAN']\n",
    "\n",
    "for i in range(last_g_count, g_count):\n",
    "    print(f'Reg_group {i}, {works[i%3]}:')\n",
    "    print(pd.read_html(group_naive[f'reg_gn{i}'].summary().\n",
    "                       tables[1].as_html(),header=0,index_col=0)[0].iloc[-4:,:-2])\n",
    "    print('\\n')"
   ]
  },
  {
   "cell_type": "markdown",
   "metadata": {},
   "source": [
    "## Weighted regressions"
   ]
  },
  {
   "cell_type": "markdown",
   "metadata": {},
   "source": [
    "Define movie-theater chain $i$ in year $t$ and title \"nationality\" (meaning all, foreign or Brazilian movie sessions), futher define nominal screen quota obligation $SQ$ and compliance level (quota fulfilled / quota due) as $C_{it}$:\n",
    "\n",
    "$$ \\ln(Y_{nit}) = \\beta_0 + \\beta_1 SQ_{it} + \\beta_2 C_{it} + \\beta_3 SQ_{it} * f(C_{it}) + \\theta X_{it} + \\varepsilon_{it} $$\n",
    "\n",
    "$Y$ is the interest variable that can be either Yearly Income or total public (# of moviegoers). $X_{it}$ is a vector of controls with opening days, movie theater fixed-effects and year fixed-effects. $f(.)$ is the chosen weighting function (kernel). Alternatively, we also drop entity fixed-effects and use number of viewing rooms and seats per movie-theater chain as controls."
   ]
  },
  {
   "cell_type": "code",
   "execution_count": 41,
   "metadata": {
    "ExecuteTime": {
     "end_time": "2021-07-20T00:44:44.868872Z",
     "start_time": "2021-07-20T00:44:44.865584Z"
    }
   },
   "outputs": [],
   "source": [
    "group_weighted = {}\n",
    "\n",
    "g_count = 0\n",
    "\n",
    "weight_funcs = [\n",
    "    'CUMP_QUADRATIC','CUMP_NORMALIZADO', 'CUMP_LINEAR','CUMP_TRIWEIGHT']"
   ]
  },
  {
   "cell_type": "markdown",
   "metadata": {},
   "source": [
    "### Dependent variable: income"
   ]
  },
  {
   "cell_type": "markdown",
   "metadata": {},
   "source": [
    "#### With entity fixed-effects"
   ]
  },
  {
   "cell_type": "markdown",
   "metadata": {},
   "source": [
    "##### 2017-2019"
   ]
  },
  {
   "cell_type": "code",
   "execution_count": 42,
   "metadata": {
    "ExecuteTime": {
     "end_time": "2021-07-20T00:44:47.952561Z",
     "start_time": "2021-07-20T00:44:47.342931Z"
    }
   },
   "outputs": [],
   "source": [
    "last_g_count = g_count # to get num range of regressions to be executed\n",
    "\n",
    "for f in weight_funcs:\n",
    "    # adjust formula as we run through the weighting funcs\n",
    "    formul = f'np.log(RENDA) ~ OBRIGAÇÃO_FINAL_POR_SALA*{f} + DIAS_FUNCIONAMENTO + C(REGISTRO_GRUPO) + C(ANO_CINEMATOGRAFICO)'\n",
    "    group_weighted[f'reg_gw{g_count}'] = smf.ols(formula = formul, data=gtds_1719).fit()\n",
    "    g_count += 1\n",
    "    group_weighted[f'reg_gw{g_count}'] = smf.ols(formula = formul, data=gest_1719).fit()\n",
    "    g_count += 1\n",
    "    group_weighted[f'reg_gw{g_count}'] = smf.ols(formula = formul, data=gbras_1719).fit()\n",
    "    g_count += 1"
   ]
  },
  {
   "cell_type": "code",
   "execution_count": 43,
   "metadata": {
    "ExecuteTime": {
     "end_time": "2021-07-20T00:44:49.432995Z",
     "start_time": "2021-07-20T00:44:47.954566Z"
    }
   },
   "outputs": [
    {
     "name": "stdout",
     "output_type": "stream",
     "text": [
      "Reg_group_weighted 0, ALL, weighting function CUMP_QUADRATIC:\n",
      "                                           coef  std err      t  P>|t|\n",
      "OBRIGAÇÃO_FINAL_POR_SALA                 0.0553    0.008  7.017  0.000\n",
      "CUMP_QUADRATIC                           2.0501    0.291  7.044  0.000\n",
      "OBRIGAÇÃO_FINAL_POR_SALA:CUMP_QUADRATIC -0.0541    0.009 -5.786  0.000\n",
      "DIAS_FUNCIONAMENTO                       0.0348    0.029  1.188  0.235\n",
      "\n",
      "\n",
      "Reg_group_weighted 1, FOREIGN, weighting function CUMP_QUADRATIC:\n",
      "                                           coef  std err      t  P>|t|\n",
      "OBRIGAÇÃO_FINAL_POR_SALA                 0.0609    0.008  7.481  0.000\n",
      "CUMP_QUADRATIC                           2.0906    0.299  6.991  0.000\n",
      "OBRIGAÇÃO_FINAL_POR_SALA:CUMP_QUADRATIC -0.0585    0.010 -6.083  0.000\n",
      "DIAS_FUNCIONAMENTO                       0.0343    0.029  1.166  0.244\n",
      "\n",
      "\n",
      "Reg_group_weighted 2, BRAZILIAN, weighting function CUMP_QUADRATIC:\n",
      "                                           coef  std err      t  P>|t|\n",
      "OBRIGAÇÃO_FINAL_POR_SALA                -0.0091    0.016 -0.565  0.572\n",
      "CUMP_QUADRATIC                           0.5047    0.574  0.879  0.380\n",
      "OBRIGAÇÃO_FINAL_POR_SALA:CUMP_QUADRATIC  0.0145    0.018  0.793  0.428\n",
      "DIAS_FUNCIONAMENTO                       0.0187    0.041  0.454  0.650\n",
      "\n",
      "\n",
      "Reg_group_weighted 3, ALL, weighting function CUMP_NORMALIZADO:\n",
      "                                             coef  std err      t  P>|t|\n",
      "OBRIGAÇÃO_FINAL_POR_SALA                   0.0661    0.015  4.312  0.000\n",
      "CUMP_NORMALIZADO                           4.8385    1.205  4.015  0.000\n",
      "OBRIGAÇÃO_FINAL_POR_SALA:CUMP_NORMALIZADO -0.1390    0.042 -3.300  0.001\n",
      "DIAS_FUNCIONAMENTO                         0.0410    0.030  1.344  0.180\n",
      "\n",
      "\n",
      "Reg_group_weighted 4, FOREIGN, weighting function CUMP_NORMALIZADO:\n",
      "                                             coef  std err      t  P>|t|\n",
      "OBRIGAÇÃO_FINAL_POR_SALA                   0.0930    0.017  5.555  0.000\n",
      "CUMP_NORMALIZADO                           6.4733    1.311  4.936  0.000\n",
      "OBRIGAÇÃO_FINAL_POR_SALA:CUMP_NORMALIZADO -0.2087    0.046 -4.557  0.000\n",
      "DIAS_FUNCIONAMENTO                         0.0390    0.030  1.286  0.199\n",
      "\n",
      "\n",
      "Reg_group_weighted 5, BRAZILIAN, weighting function CUMP_NORMALIZADO:\n",
      "                                             coef  std err      t  P>|t|\n",
      "OBRIGAÇÃO_FINAL_POR_SALA                  -0.0258    0.024 -1.084  0.279\n",
      "CUMP_NORMALIZADO                           0.0709    1.793  0.040  0.968\n",
      "OBRIGAÇÃO_FINAL_POR_SALA:CUMP_NORMALIZADO  0.0853    0.063  1.345  0.179\n",
      "DIAS_FUNCIONAMENTO                         0.0183    0.042  0.436  0.663\n",
      "\n",
      "\n",
      "Reg_group_weighted 6, ALL, weighting function CUMP_LINEAR:\n",
      "                                        coef  std err      t  P>|t|\n",
      "OBRIGAÇÃO_FINAL_POR_SALA              0.0479    0.007  7.187  0.000\n",
      "CUMP_LINEAR                           2.0112    0.315  6.391  0.000\n",
      "OBRIGAÇÃO_FINAL_POR_SALA:CUMP_LINEAR -0.0522    0.009 -5.662  0.000\n",
      "DIAS_FUNCIONAMENTO                    0.0362    0.030  1.222  0.223\n",
      "\n",
      "\n",
      "Reg_group_weighted 7, FOREIGN, weighting function CUMP_LINEAR:\n",
      "                                        coef  std err      t  P>|t|\n",
      "OBRIGAÇÃO_FINAL_POR_SALA              0.0515    0.007  7.504  0.000\n",
      "CUMP_LINEAR                           1.9793    0.322  6.148  0.000\n",
      "OBRIGAÇÃO_FINAL_POR_SALA:CUMP_LINEAR -0.0543    0.009 -5.751  0.000\n",
      "DIAS_FUNCIONAMENTO                    0.0360    0.030  1.207  0.228\n",
      "\n",
      "\n",
      "Reg_group_weighted 8, BRAZILIAN, weighting function CUMP_LINEAR:\n",
      "                                        coef  std err      t  P>|t|\n",
      "OBRIGAÇÃO_FINAL_POR_SALA              0.0049    0.012  0.400  0.689\n",
      "CUMP_LINEAR                           1.1049    0.545  2.028  0.043\n",
      "OBRIGAÇÃO_FINAL_POR_SALA:CUMP_LINEAR -0.0043    0.016 -0.268  0.789\n",
      "DIAS_FUNCIONAMENTO                    0.0166    0.041  0.406  0.685\n",
      "\n",
      "\n",
      "Reg_group_weighted 9, ALL, weighting function CUMP_TRIWEIGHT:\n",
      "                                           coef  std err      t  P>|t|\n",
      "OBRIGAÇÃO_FINAL_POR_SALA                 0.0479    0.007  7.187  0.000\n",
      "CUMP_TRIWEIGHT                           2.0112    0.315  6.391  0.000\n",
      "OBRIGAÇÃO_FINAL_POR_SALA:CUMP_TRIWEIGHT -0.0522    0.009 -5.662  0.000\n",
      "DIAS_FUNCIONAMENTO                       0.0362    0.030  1.222  0.223\n",
      "\n",
      "\n",
      "Reg_group_weighted 10, FOREIGN, weighting function CUMP_TRIWEIGHT:\n",
      "                                           coef  std err      t  P>|t|\n",
      "OBRIGAÇÃO_FINAL_POR_SALA                 0.0515    0.007  7.504  0.000\n",
      "CUMP_TRIWEIGHT                           1.9793    0.322  6.148  0.000\n",
      "OBRIGAÇÃO_FINAL_POR_SALA:CUMP_TRIWEIGHT -0.0543    0.009 -5.751  0.000\n",
      "DIAS_FUNCIONAMENTO                       0.0360    0.030  1.207  0.228\n",
      "\n",
      "\n",
      "Reg_group_weighted 11, BRAZILIAN, weighting function CUMP_TRIWEIGHT:\n",
      "                                           coef  std err      t  P>|t|\n",
      "OBRIGAÇÃO_FINAL_POR_SALA                 0.0049    0.012  0.400  0.689\n",
      "CUMP_TRIWEIGHT                           1.1049    0.545  2.028  0.043\n",
      "OBRIGAÇÃO_FINAL_POR_SALA:CUMP_TRIWEIGHT -0.0043    0.016 -0.268  0.789\n",
      "DIAS_FUNCIONAMENTO                       0.0166    0.041  0.406  0.685\n",
      "\n",
      "\n"
     ]
    }
   ],
   "source": [
    "works = ['ALL', 'FOREIGN', 'BRAZILIAN']\n",
    "\n",
    "for i in range(last_g_count, g_count):\n",
    "    print(f'Reg_group_weighted {i}, {works[i%3]}, weighting function {weight_funcs[(i-last_g_count)//3]}:')\n",
    "    print(pd.read_html(group_weighted[f'reg_gw{i}'].summary().\n",
    "                       tables[1].as_html(),header=0,index_col=0)[0].iloc[-4:,:-2])\n",
    "    print('\\n')"
   ]
  },
  {
   "cell_type": "markdown",
   "metadata": {},
   "source": [
    "##### 2017-2018"
   ]
  },
  {
   "cell_type": "code",
   "execution_count": 44,
   "metadata": {
    "ExecuteTime": {
     "end_time": "2021-07-20T00:44:49.922797Z",
     "start_time": "2021-07-20T00:44:49.436003Z"
    }
   },
   "outputs": [],
   "source": [
    "last_g_count = g_count # to get num range of regressions to be executed\n",
    "\n",
    "for f in weight_funcs:\n",
    "    # adjust formula as we run through the weighting funcs\n",
    "    formul = f'np.log(RENDA) ~ OBRIGAÇÃO_FINAL_POR_SALA*{f} + DIAS_FUNCIONAMENTO + C(REGISTRO_GRUPO) + C(ANO_CINEMATOGRAFICO)'\n",
    "    group_weighted[f'reg_gw{g_count}'] = smf.ols(formula = formul, data=gtds_1718).fit()\n",
    "    g_count += 1\n",
    "    group_weighted[f'reg_gw{g_count}'] = smf.ols(formula = formul, data=gest_1718).fit()\n",
    "    g_count += 1\n",
    "    group_weighted[f'reg_gw{g_count}'] = smf.ols(formula = formul, data=gbras_1718).fit()\n",
    "    g_count += 1"
   ]
  },
  {
   "cell_type": "code",
   "execution_count": 45,
   "metadata": {
    "ExecuteTime": {
     "end_time": "2021-07-20T00:44:51.254334Z",
     "start_time": "2021-07-20T00:44:49.925304Z"
    }
   },
   "outputs": [
    {
     "name": "stdout",
     "output_type": "stream",
     "text": [
      "Reg_group_weighted 12, ALL, weighting function CUMP_QUADRATIC:\n",
      "                                           coef  std err      t  P>|t|\n",
      "OBRIGAÇÃO_FINAL_POR_SALA                 0.0705    0.010  7.365  0.000\n",
      "CUMP_QUADRATIC                           2.5331    0.445  5.689  0.000\n",
      "OBRIGAÇÃO_FINAL_POR_SALA:CUMP_QUADRATIC -0.0692    0.015 -4.732  0.000\n",
      "DIAS_FUNCIONAMENTO                       0.0532    0.062  0.853  0.395\n",
      "\n",
      "\n",
      "Reg_group_weighted 13, FOREIGN, weighting function CUMP_QUADRATIC:\n",
      "                                           coef  std err      t  P>|t|\n",
      "OBRIGAÇÃO_FINAL_POR_SALA                 0.0770    0.010  7.629  0.000\n",
      "CUMP_QUADRATIC                           2.5937    0.459  5.655  0.000\n",
      "OBRIGAÇÃO_FINAL_POR_SALA:CUMP_QUADRATIC -0.0755    0.015 -5.002  0.000\n",
      "DIAS_FUNCIONAMENTO                       0.0539    0.064  0.845  0.399\n",
      "\n",
      "\n",
      "Reg_group_weighted 14, BRAZILIAN, weighting function CUMP_QUADRATIC:\n",
      "                                           coef  std err      t  P>|t|\n",
      "OBRIGAÇÃO_FINAL_POR_SALA                -0.0006    0.024 -0.025  0.980\n",
      "CUMP_QUADRATIC                           1.1897    0.913  1.303  0.194\n",
      "OBRIGAÇÃO_FINAL_POR_SALA:CUMP_QUADRATIC  0.0005    0.029  0.016  0.987\n",
      "DIAS_FUNCIONAMENTO                       0.0133    0.095  0.139  0.890\n",
      "\n",
      "\n",
      "Reg_group_weighted 15, ALL, weighting function CUMP_NORMALIZADO:\n",
      "                                             coef  std err      t  P>|t|\n",
      "OBRIGAÇÃO_FINAL_POR_SALA                   0.0760    0.020  3.895  0.000\n",
      "CUMP_NORMALIZADO                           3.9628    1.773  2.235  0.027\n",
      "OBRIGAÇÃO_FINAL_POR_SALA:CUMP_NORMALIZADO -0.1116    0.062 -1.791  0.075\n",
      "DIAS_FUNCIONAMENTO                         0.1003    0.066  1.512  0.132\n",
      "\n",
      "\n",
      "Reg_group_weighted 16, FOREIGN, weighting function CUMP_NORMALIZADO:\n",
      "                                             coef  std err      t  P>|t|\n",
      "OBRIGAÇÃO_FINAL_POR_SALA                   0.1097    0.022  4.989  0.000\n",
      "CUMP_NORMALIZADO                           6.4793    1.909  3.394  0.001\n",
      "OBRIGAÇÃO_FINAL_POR_SALA:CUMP_NORMALIZADO -0.2140    0.069 -3.116  0.002\n",
      "DIAS_FUNCIONAMENTO                         0.0905    0.066  1.361  0.175\n",
      "\n",
      "\n",
      "Reg_group_weighted 17, BRAZILIAN, weighting function CUMP_NORMALIZADO:\n",
      "                                             coef  std err      t  P>|t|\n",
      "OBRIGAÇÃO_FINAL_POR_SALA                  -0.0252    0.032 -0.782  0.435\n",
      "CUMP_NORMALIZADO                           1.5868    2.655  0.598  0.551\n",
      "OBRIGAÇÃO_FINAL_POR_SALA:CUMP_NORMALIZADO  0.0706    0.093  0.757  0.450\n",
      "DIAS_FUNCIONAMENTO                         0.0147    0.098  0.151  0.881\n",
      "\n",
      "\n",
      "Reg_group_weighted 18, ALL, weighting function CUMP_LINEAR:\n",
      "                                        coef  std err      t  P>|t|\n",
      "OBRIGAÇÃO_FINAL_POR_SALA              0.0641    0.009  7.343  0.000\n",
      "CUMP_LINEAR                           2.4321    0.488  4.989  0.000\n",
      "OBRIGAÇÃO_FINAL_POR_SALA:CUMP_LINEAR -0.0659    0.015 -4.431  0.000\n",
      "DIAS_FUNCIONAMENTO                    0.0655    0.063  1.032  0.303\n",
      "\n",
      "\n",
      "Reg_group_weighted 19, FOREIGN, weighting function CUMP_LINEAR:\n",
      "                                        coef  std err      t  P>|t|\n",
      "OBRIGAÇÃO_FINAL_POR_SALA              0.0685    0.009  7.456  0.000\n",
      "CUMP_LINEAR                           2.3885    0.502  4.762  0.000\n",
      "OBRIGAÇÃO_FINAL_POR_SALA:CUMP_LINEAR -0.0689    0.015 -4.500  0.000\n",
      "DIAS_FUNCIONAMENTO                    0.0682    0.065  1.048  0.296\n",
      "\n",
      "\n",
      "Reg_group_weighted 20, BRAZILIAN, weighting function CUMP_LINEAR:\n",
      "                                        coef  std err      t  P>|t|\n",
      "OBRIGAÇÃO_FINAL_POR_SALA              0.0086    0.019  0.443  0.658\n",
      "CUMP_LINEAR                           1.8404    0.867  2.124  0.035\n",
      "OBRIGAÇÃO_FINAL_POR_SALA:CUMP_LINEAR -0.0193    0.026 -0.738  0.461\n",
      "DIAS_FUNCIONAMENTO                    0.0026    0.094  0.028  0.978\n",
      "\n",
      "\n",
      "Reg_group_weighted 21, ALL, weighting function CUMP_TRIWEIGHT:\n",
      "                                           coef  std err      t  P>|t|\n",
      "OBRIGAÇÃO_FINAL_POR_SALA                 0.0641    0.009  7.343  0.000\n",
      "CUMP_TRIWEIGHT                           2.4321    0.488  4.989  0.000\n",
      "OBRIGAÇÃO_FINAL_POR_SALA:CUMP_TRIWEIGHT -0.0659    0.015 -4.431  0.000\n",
      "DIAS_FUNCIONAMENTO                       0.0655    0.063  1.032  0.303\n",
      "\n",
      "\n",
      "Reg_group_weighted 22, FOREIGN, weighting function CUMP_TRIWEIGHT:\n",
      "                                           coef  std err      t  P>|t|\n",
      "OBRIGAÇÃO_FINAL_POR_SALA                 0.0685    0.009  7.456  0.000\n",
      "CUMP_TRIWEIGHT                           2.3885    0.502  4.762  0.000\n",
      "OBRIGAÇÃO_FINAL_POR_SALA:CUMP_TRIWEIGHT -0.0689    0.015 -4.500  0.000\n",
      "DIAS_FUNCIONAMENTO                       0.0682    0.065  1.048  0.296\n",
      "\n",
      "\n",
      "Reg_group_weighted 23, BRAZILIAN, weighting function CUMP_TRIWEIGHT:\n",
      "                                           coef  std err      t  P>|t|\n",
      "OBRIGAÇÃO_FINAL_POR_SALA                 0.0086    0.019  0.443  0.658\n",
      "CUMP_TRIWEIGHT                           1.8404    0.867  2.124  0.035\n",
      "OBRIGAÇÃO_FINAL_POR_SALA:CUMP_TRIWEIGHT -0.0193    0.026 -0.738  0.461\n",
      "DIAS_FUNCIONAMENTO                       0.0026    0.094  0.028  0.978\n",
      "\n",
      "\n"
     ]
    }
   ],
   "source": [
    "works = ['ALL', 'FOREIGN', 'BRAZILIAN']\n",
    "\n",
    "for i in range(last_g_count, g_count):\n",
    "    print(f'Reg_group_weighted {i}, {works[i%3]}, weighting function {weight_funcs[(i-last_g_count)//3]}:')\n",
    "    print(pd.read_html(group_weighted[f'reg_gw{i}'].summary().\n",
    "                       tables[1].as_html(),header=0,index_col=0)[0].iloc[-4:,:-2])\n",
    "    print('\\n')"
   ]
  },
  {
   "cell_type": "markdown",
   "metadata": {},
   "source": [
    "#### Without entity fixed-effects"
   ]
  },
  {
   "cell_type": "markdown",
   "metadata": {},
   "source": [
    "##### 2017-2019"
   ]
  },
  {
   "cell_type": "code",
   "execution_count": 46,
   "metadata": {
    "ExecuteTime": {
     "end_time": "2021-07-20T00:44:51.548116Z",
     "start_time": "2021-07-20T00:44:51.256341Z"
    }
   },
   "outputs": [],
   "source": [
    "g_count = 24\n",
    "\n",
    "last_g_count = g_count # to get num range of regressions to be executed\n",
    "\n",
    "for f in weight_funcs:\n",
    "    # adjust formula as we run through the weighting funcs\n",
    "    formul = f'np.log(RENDA) ~ OBRIGAÇÃO_FINAL_POR_SALA*{f} + DIAS_FUNCIONAMENTO + SALAS_GRUPO_INFERIDO + ASSENTOS_GRUPO_INFERIDO + C(ANO_CINEMATOGRAFICO)'\n",
    "    group_weighted[f'reg_gw{g_count}'] = smf.ols(formula = formul, data=gtds_1719).fit()\n",
    "    g_count += 1\n",
    "    group_weighted[f'reg_gw{g_count}'] = smf.ols(formula = formul, data=gest_1719).fit()\n",
    "    g_count += 1\n",
    "    group_weighted[f'reg_gw{g_count}'] = smf.ols(formula = formul, data=gbras_1719).fit()\n",
    "    g_count += 1"
   ]
  },
  {
   "cell_type": "code",
   "execution_count": 47,
   "metadata": {
    "ExecuteTime": {
     "end_time": "2021-07-20T00:44:51.750654Z",
     "start_time": "2021-07-20T00:44:51.550121Z"
    }
   },
   "outputs": [
    {
     "name": "stdout",
     "output_type": "stream",
     "text": [
      "Reg_group_weighted 24, ALL, weighting function CUMP_QUADRATIC:\n",
      "                                           coef   std err      t  P>|t|\n",
      "OBRIGAÇÃO_FINAL_POR_SALA                 0.0655  0.015000  4.241  0.000\n",
      "CUMP_QUADRATIC                           0.8834  0.555000  1.592  0.112\n",
      "OBRIGAÇÃO_FINAL_POR_SALA:CUMP_QUADRATIC  0.0248  0.018000  1.365  0.173\n",
      "DIAS_FUNCIONAMENTO                       0.1798  0.024000  7.358  0.000\n",
      "SALAS_GRUPO_INFERIDO                     0.0634  0.015000  4.197  0.000\n",
      "ASSENTOS_GRUPO_INFERIDO                 -0.0003  0.000062 -5.408  0.000\n",
      "\n",
      "\n",
      "Reg_group_weighted 25, FOREIGN, weighting function CUMP_QUADRATIC:\n",
      "                                           coef   std err      t  P>|t|\n",
      "OBRIGAÇÃO_FINAL_POR_SALA                 0.0677  0.016000  4.105  0.000\n",
      "CUMP_QUADRATIC                           1.0730  0.592000  1.811  0.071\n",
      "OBRIGAÇÃO_FINAL_POR_SALA:CUMP_QUADRATIC  0.0230  0.019000  1.185  0.236\n",
      "DIAS_FUNCIONAMENTO                       0.1788  0.026000  6.988  0.000\n",
      "SALAS_GRUPO_INFERIDO                     0.0629  0.016000  3.975  0.000\n",
      "ASSENTOS_GRUPO_INFERIDO                 -0.0003  0.000065 -5.119  0.000\n",
      "\n",
      "\n",
      "Reg_group_weighted 26, BRAZILIAN, weighting function CUMP_QUADRATIC:\n",
      "                                           coef   std err      t  P>|t|\n",
      "OBRIGAÇÃO_FINAL_POR_SALA                 0.0054  0.021000  0.257  0.797\n",
      "CUMP_QUADRATIC                          -1.8805  0.755000 -2.490  0.013\n",
      "OBRIGAÇÃO_FINAL_POR_SALA:CUMP_QUADRATIC  0.1038  0.024000  4.325  0.000\n",
      "DIAS_FUNCIONAMENTO                       0.1954  0.024000  8.205  0.000\n",
      "SALAS_GRUPO_INFERIDO                     0.0661  0.015000  4.485  0.000\n",
      "ASSENTOS_GRUPO_INFERIDO                 -0.0004  0.000061 -5.916  0.000\n",
      "\n",
      "\n",
      "Reg_group_weighted 27, ALL, weighting function CUMP_NORMALIZADO:\n",
      "                                             coef   std err      t  P>|t|\n",
      "OBRIGAÇÃO_FINAL_POR_SALA                   0.0536  0.030000  1.765  0.078\n",
      "CUMP_NORMALIZADO                           3.2376  2.338000  1.385  0.167\n",
      "OBRIGAÇÃO_FINAL_POR_SALA:CUMP_NORMALIZADO  0.0967  0.083000  1.166  0.244\n",
      "DIAS_FUNCIONAMENTO                         0.1828  0.024000  7.461  0.000\n",
      "SALAS_GRUPO_INFERIDO                       0.0644  0.015000  4.253  0.000\n",
      "ASSENTOS_GRUPO_INFERIDO                   -0.0003  0.000063 -5.487  0.000\n",
      "\n",
      "\n",
      "Reg_group_weighted 28, FOREIGN, weighting function CUMP_NORMALIZADO:\n",
      "                                             coef   std err      t  P>|t|\n",
      "OBRIGAÇÃO_FINAL_POR_SALA                   0.0700  0.034000  2.065  0.039\n",
      "CUMP_NORMALIZADO                           6.1290  2.653000  2.310  0.021\n",
      "OBRIGAÇÃO_FINAL_POR_SALA:CUMP_NORMALIZADO  0.0480  0.093000  0.519  0.604\n",
      "DIAS_FUNCIONAMENTO                         0.1805  0.025000  7.104  0.000\n",
      "SALAS_GRUPO_INFERIDO                       0.0649  0.016000  4.131  0.000\n",
      "ASSENTOS_GRUPO_INFERIDO                   -0.0003  0.000065 -5.298  0.000\n",
      "\n",
      "\n",
      "Reg_group_weighted 29, BRAZILIAN, weighting function CUMP_NORMALIZADO:\n",
      "                                             coef   std err      t  P>|t|\n",
      "OBRIGAÇÃO_FINAL_POR_SALA                  -0.0315  0.034000 -0.935  0.350\n",
      "CUMP_NORMALIZADO                          -7.3142  2.518000 -2.905  0.004\n",
      "OBRIGAÇÃO_FINAL_POR_SALA:CUMP_NORMALIZADO  0.3518  0.090000  3.918  0.000\n",
      "DIAS_FUNCIONAMENTO                         0.1966  0.024000  8.127  0.000\n",
      "SALAS_GRUPO_INFERIDO                       0.0688  0.015000  4.603  0.000\n",
      "ASSENTOS_GRUPO_INFERIDO                   -0.0004  0.000062 -6.021  0.000\n",
      "\n",
      "\n",
      "Reg_group_weighted 30, ALL, weighting function CUMP_LINEAR:\n",
      "                                        coef   std err      t  P>|t|\n",
      "OBRIGAÇÃO_FINAL_POR_SALA              0.0827  0.013000  6.492  0.000\n",
      "CUMP_LINEAR                           1.2421  0.599000  2.075  0.038\n",
      "OBRIGAÇÃO_FINAL_POR_SALA:CUMP_LINEAR  0.0068  0.018000  0.385  0.701\n",
      "DIAS_FUNCIONAMENTO                    0.1835  0.025000  7.423  0.000\n",
      "SALAS_GRUPO_INFERIDO                  0.0625  0.015000  4.075  0.000\n",
      "ASSENTOS_GRUPO_INFERIDO              -0.0003  0.000063 -5.314  0.000\n",
      "\n",
      "\n",
      "Reg_group_weighted 31, FOREIGN, weighting function CUMP_LINEAR:\n",
      "                                        coef   std err      t  P>|t|\n",
      "OBRIGAÇÃO_FINAL_POR_SALA              0.0863  0.014000  6.364  0.000\n",
      "CUMP_LINEAR                           1.4545  0.637000  2.282  0.023\n",
      "OBRIGAÇÃO_FINAL_POR_SALA:CUMP_LINEAR  0.0029  0.019000  0.156  0.876\n",
      "DIAS_FUNCIONAMENTO                    0.1827  0.026000  7.044  0.000\n",
      "SALAS_GRUPO_INFERIDO                  0.0621  0.016000  3.864  0.000\n",
      "ASSENTOS_GRUPO_INFERIDO              -0.0003  0.000066 -5.034  0.000\n",
      "\n",
      "\n",
      "Reg_group_weighted 32, BRAZILIAN, weighting function CUMP_LINEAR:\n",
      "                                        coef   std err      t  P>|t|\n",
      "OBRIGAÇÃO_FINAL_POR_SALA              0.0468  0.016000  2.975  0.003\n",
      "CUMP_LINEAR                          -0.7228  0.727000 -0.994  0.321\n",
      "OBRIGAÇÃO_FINAL_POR_SALA:CUMP_LINEAR  0.0641  0.021000  3.034  0.003\n",
      "DIAS_FUNCIONAMENTO                    0.1985  0.024000  8.281  0.000\n",
      "SALAS_GRUPO_INFERIDO                  0.0654  0.015000  4.394  0.000\n",
      "ASSENTOS_GRUPO_INFERIDO              -0.0004  0.000061 -5.856  0.000\n",
      "\n",
      "\n",
      "Reg_group_weighted 33, ALL, weighting function CUMP_TRIWEIGHT:\n",
      "                                           coef   std err      t  P>|t|\n",
      "OBRIGAÇÃO_FINAL_POR_SALA                 0.0827  0.013000  6.492  0.000\n",
      "CUMP_TRIWEIGHT                           1.2421  0.599000  2.075  0.038\n",
      "OBRIGAÇÃO_FINAL_POR_SALA:CUMP_TRIWEIGHT  0.0068  0.018000  0.385  0.701\n",
      "DIAS_FUNCIONAMENTO                       0.1835  0.025000  7.423  0.000\n",
      "SALAS_GRUPO_INFERIDO                     0.0625  0.015000  4.075  0.000\n",
      "ASSENTOS_GRUPO_INFERIDO                 -0.0003  0.000063 -5.314  0.000\n",
      "\n",
      "\n",
      "Reg_group_weighted 34, FOREIGN, weighting function CUMP_TRIWEIGHT:\n",
      "                                           coef   std err      t  P>|t|\n",
      "OBRIGAÇÃO_FINAL_POR_SALA                 0.0863  0.014000  6.364  0.000\n",
      "CUMP_TRIWEIGHT                           1.4545  0.637000  2.282  0.023\n",
      "OBRIGAÇÃO_FINAL_POR_SALA:CUMP_TRIWEIGHT  0.0029  0.019000  0.156  0.876\n",
      "DIAS_FUNCIONAMENTO                       0.1827  0.026000  7.044  0.000\n",
      "SALAS_GRUPO_INFERIDO                     0.0621  0.016000  3.864  0.000\n",
      "ASSENTOS_GRUPO_INFERIDO                 -0.0003  0.000066 -5.034  0.000\n",
      "\n",
      "\n",
      "Reg_group_weighted 35, BRAZILIAN, weighting function CUMP_TRIWEIGHT:\n",
      "                                           coef   std err      t  P>|t|\n",
      "OBRIGAÇÃO_FINAL_POR_SALA                 0.0468  0.016000  2.975  0.003\n",
      "CUMP_TRIWEIGHT                          -0.7228  0.727000 -0.994  0.321\n",
      "OBRIGAÇÃO_FINAL_POR_SALA:CUMP_TRIWEIGHT  0.0641  0.021000  3.034  0.003\n",
      "DIAS_FUNCIONAMENTO                       0.1985  0.024000  8.281  0.000\n",
      "SALAS_GRUPO_INFERIDO                     0.0654  0.015000  4.394  0.000\n",
      "ASSENTOS_GRUPO_INFERIDO                 -0.0004  0.000061 -5.856  0.000\n",
      "\n",
      "\n"
     ]
    }
   ],
   "source": [
    "works = ['ALL', 'FOREIGN', 'BRAZILIAN']\n",
    "\n",
    "for i in range(last_g_count, g_count):\n",
    "    print(f'Reg_group_weighted {i}, {works[i%3]}, weighting function {weight_funcs[(i-last_g_count)//3]}:')\n",
    "    print(pd.read_html(group_weighted[f'reg_gw{i}'].summary().\n",
    "                       tables[1].as_html(),header=0,index_col=0)[0].iloc[-6:,:-2])\n",
    "    print('\\n')"
   ]
  },
  {
   "cell_type": "markdown",
   "metadata": {},
   "source": [
    "##### 2017-2018"
   ]
  },
  {
   "cell_type": "code",
   "execution_count": 48,
   "metadata": {
    "ExecuteTime": {
     "end_time": "2021-07-20T00:44:52.002322Z",
     "start_time": "2021-07-20T00:44:51.753161Z"
    }
   },
   "outputs": [],
   "source": [
    "last_g_count = g_count # to get num range of regressions to be executed\n",
    "\n",
    "for f in weight_funcs:\n",
    "    # adjust formula as we run through the weighting funcs\n",
    "    formul = f'np.log(RENDA) ~ OBRIGAÇÃO_FINAL_POR_SALA*{f} + DIAS_FUNCIONAMENTO + SALAS_GRUPO_INFERIDO + ASSENTOS_GRUPO_INFERIDO + C(ANO_CINEMATOGRAFICO)'\n",
    "    group_weighted[f'reg_gw{g_count}'] = smf.ols(formula = formul, data=gtds_1718).fit()\n",
    "    g_count += 1\n",
    "    group_weighted[f'reg_gw{g_count}'] = smf.ols(formula = formul, data=gest_1718).fit()\n",
    "    g_count += 1\n",
    "    group_weighted[f'reg_gw{g_count}'] = smf.ols(formula = formul, data=gbras_1718).fit()\n",
    "    g_count += 1"
   ]
  },
  {
   "cell_type": "code",
   "execution_count": 49,
   "metadata": {
    "ExecuteTime": {
     "end_time": "2021-07-20T00:44:53.133401Z",
     "start_time": "2021-07-20T00:44:52.943647Z"
    },
    "scrolled": true
   },
   "outputs": [
    {
     "name": "stdout",
     "output_type": "stream",
     "text": [
      "Reg_group_weighted 36, ALL, weighting function CUMP_QUADRATIC:\n",
      "                                           coef   std err      t  P>|t|\n",
      "OBRIGAÇÃO_FINAL_POR_SALA                 0.0622  0.013000  4.714  0.000\n",
      "CUMP_QUADRATIC                           0.5320  0.480000  1.108  0.268\n",
      "OBRIGAÇÃO_FINAL_POR_SALA:CUMP_QUADRATIC  0.0378  0.016000  2.391  0.017\n",
      "DIAS_FUNCIONAMENTO                       0.1921  0.026000  7.381  0.000\n",
      "SALAS_GRUPO_INFERIDO                     0.0289  0.017000  1.681  0.093\n",
      "ASSENTOS_GRUPO_INFERIDO                 -0.0002  0.000071 -2.838  0.005\n",
      "\n",
      "\n",
      "Reg_group_weighted 37, FOREIGN, weighting function CUMP_QUADRATIC:\n",
      "                                           coef   std err      t  P>|t|\n",
      "OBRIGAÇÃO_FINAL_POR_SALA                 0.0642  0.015000  4.417  0.000\n",
      "CUMP_QUADRATIC                           0.7181  0.530000  1.356  0.176\n",
      "OBRIGAÇÃO_FINAL_POR_SALA:CUMP_QUADRATIC  0.0360  0.017000  2.072  0.039\n",
      "DIAS_FUNCIONAMENTO                       0.1919  0.028000  6.814  0.000\n",
      "SALAS_GRUPO_INFERIDO                     0.0282  0.019000  1.515  0.131\n",
      "ASSENTOS_GRUPO_INFERIDO                 -0.0002  0.000077 -2.579  0.010\n",
      "\n",
      "\n",
      "Reg_group_weighted 38, BRAZILIAN, weighting function CUMP_QUADRATIC:\n",
      "                                           coef   std err      t  P>|t|\n",
      "OBRIGAÇÃO_FINAL_POR_SALA                -0.0017  0.018000 -0.098  0.922\n",
      "CUMP_QUADRATIC                          -2.3936  0.649000 -3.690  0.000\n",
      "OBRIGAÇÃO_FINAL_POR_SALA:CUMP_QUADRATIC  0.1218  0.021000  5.892  0.000\n",
      "DIAS_FUNCIONAMENTO                       0.2179  0.025000  8.634  0.000\n",
      "SALAS_GRUPO_INFERIDO                     0.0251  0.017000  1.501  0.134\n",
      "ASSENTOS_GRUPO_INFERIDO                 -0.0002  0.000069 -2.926  0.004\n",
      "\n",
      "\n",
      "Reg_group_weighted 39, ALL, weighting function CUMP_NORMALIZADO:\n",
      "                                             coef   std err      t  P>|t|\n",
      "OBRIGAÇÃO_FINAL_POR_SALA                   0.0422  0.026000  1.610  0.108\n",
      "CUMP_NORMALIZADO                           1.9281  2.033000  0.948  0.344\n",
      "OBRIGAÇÃO_FINAL_POR_SALA:CUMP_NORMALIZADO  0.1464  0.072000  2.027  0.043\n",
      "DIAS_FUNCIONAMENTO                         0.1963  0.026000  7.473  0.000\n",
      "SALAS_GRUPO_INFERIDO                       0.0320  0.017000  1.848  0.065\n",
      "ASSENTOS_GRUPO_INFERIDO                   -0.0002  0.000072 -3.032  0.003\n",
      "\n",
      "\n",
      "Reg_group_weighted 40, FOREIGN, weighting function CUMP_NORMALIZADO:\n",
      "                                             coef   std err      t  P>|t|\n",
      "OBRIGAÇÃO_FINAL_POR_SALA                   0.0572  0.030000  1.908  0.057\n",
      "CUMP_NORMALIZADO                           4.7073  2.361000  1.994  0.047\n",
      "OBRIGAÇÃO_FINAL_POR_SALA:CUMP_NORMALIZADO  0.1013  0.083000  1.228  0.220\n",
      "DIAS_FUNCIONAMENTO                         0.1940  0.028000  6.965  0.000\n",
      "SALAS_GRUPO_INFERIDO                       0.0330  0.018000  1.797  0.073\n",
      "ASSENTOS_GRUPO_INFERIDO                   -0.0002  0.000076 -2.894  0.004\n",
      "\n",
      "\n",
      "Reg_group_weighted 41, BRAZILIAN, weighting function CUMP_NORMALIZADO:\n",
      "                                             coef   std err      t  P>|t|\n",
      "OBRIGAÇÃO_FINAL_POR_SALA                  -0.0426  0.029000 -1.449  0.148\n",
      "CUMP_NORMALIZADO                          -8.6408  2.208000 -3.913  0.000\n",
      "OBRIGAÇÃO_FINAL_POR_SALA:CUMP_NORMALIZADO  0.4018  0.079000  5.095  0.000\n",
      "DIAS_FUNCIONAMENTO                         0.2188  0.026000  8.341  0.000\n",
      "SALAS_GRUPO_INFERIDO                       0.0319  0.017000  1.846  0.066\n",
      "ASSENTOS_GRUPO_INFERIDO                   -0.0002  0.000072 -3.233  0.001\n",
      "\n",
      "\n",
      "Reg_group_weighted 42, ALL, weighting function CUMP_LINEAR:\n",
      "                                        coef   std err      t  P>|t|\n",
      "OBRIGAÇÃO_FINAL_POR_SALA              0.0796  0.011000  7.243  0.000\n",
      "CUMP_LINEAR                           0.8102  0.525000  1.542  0.124\n",
      "OBRIGAÇÃO_FINAL_POR_SALA:CUMP_LINEAR  0.0222  0.016000  1.418  0.157\n",
      "DIAS_FUNCIONAMENTO                    0.1996  0.027000  7.494  0.000\n",
      "SALAS_GRUPO_INFERIDO                  0.0257  0.018000  1.452  0.147\n",
      "ASSENTOS_GRUPO_INFERIDO              -0.0002  0.000073 -2.643  0.009\n",
      "\n",
      "\n",
      "Reg_group_weighted 43, FOREIGN, weighting function CUMP_LINEAR:\n",
      "                                        coef   std err      t  P>|t|\n",
      "OBRIGAÇÃO_FINAL_POR_SALA              0.0831  0.012000  6.872  0.000\n",
      "CUMP_LINEAR                           1.0207  0.578000  1.766  0.078\n",
      "OBRIGAÇÃO_FINAL_POR_SALA:CUMP_LINEAR  0.0184  0.017000  1.067  0.286\n",
      "DIAS_FUNCIONAMENTO                    0.1996  0.029000  6.910  0.000\n",
      "SALAS_GRUPO_INFERIDO                  0.0254  0.019000  1.321  0.187\n",
      "ASSENTOS_GRUPO_INFERIDO              -0.0002  0.000079 -2.415  0.016\n",
      "\n",
      "\n",
      "Reg_group_weighted 44, BRAZILIAN, weighting function CUMP_LINEAR:\n",
      "                                        coef  std err      t  P>|t|\n",
      "OBRIGAÇÃO_FINAL_POR_SALA              0.0410  0.01300  3.057  0.002\n",
      "CUMP_LINEAR                          -1.3070  0.62900 -2.079  0.038\n",
      "OBRIGAÇÃO_FINAL_POR_SALA:CUMP_LINEAR  0.0840  0.01800  4.574  0.000\n",
      "DIAS_FUNCIONAMENTO                    0.2246  0.02500  8.809  0.000\n",
      "SALAS_GRUPO_INFERIDO                  0.0218  0.01700  1.282  0.201\n",
      "ASSENTOS_GRUPO_INFERIDO              -0.0002  0.00007 -2.751  0.006\n",
      "\n",
      "\n",
      "Reg_group_weighted 45, ALL, weighting function CUMP_TRIWEIGHT:\n",
      "                                           coef   std err      t  P>|t|\n",
      "OBRIGAÇÃO_FINAL_POR_SALA                 0.0796  0.011000  7.243  0.000\n",
      "CUMP_TRIWEIGHT                           0.8102  0.525000  1.542  0.124\n",
      "OBRIGAÇÃO_FINAL_POR_SALA:CUMP_TRIWEIGHT  0.0222  0.016000  1.418  0.157\n",
      "DIAS_FUNCIONAMENTO                       0.1996  0.027000  7.494  0.000\n",
      "SALAS_GRUPO_INFERIDO                     0.0257  0.018000  1.452  0.147\n",
      "ASSENTOS_GRUPO_INFERIDO                 -0.0002  0.000073 -2.643  0.009\n",
      "\n",
      "\n",
      "Reg_group_weighted 46, FOREIGN, weighting function CUMP_TRIWEIGHT:\n",
      "                                           coef   std err      t  P>|t|\n",
      "OBRIGAÇÃO_FINAL_POR_SALA                 0.0831  0.012000  6.872  0.000\n",
      "CUMP_TRIWEIGHT                           1.0207  0.578000  1.766  0.078\n",
      "OBRIGAÇÃO_FINAL_POR_SALA:CUMP_TRIWEIGHT  0.0184  0.017000  1.067  0.286\n",
      "DIAS_FUNCIONAMENTO                       0.1996  0.029000  6.910  0.000\n",
      "SALAS_GRUPO_INFERIDO                     0.0254  0.019000  1.321  0.187\n",
      "ASSENTOS_GRUPO_INFERIDO                 -0.0002  0.000079 -2.415  0.016\n",
      "\n",
      "\n",
      "Reg_group_weighted 47, BRAZILIAN, weighting function CUMP_TRIWEIGHT:\n",
      "                                           coef  std err      t  P>|t|\n",
      "OBRIGAÇÃO_FINAL_POR_SALA                 0.0410  0.01300  3.057  0.002\n",
      "CUMP_TRIWEIGHT                          -1.3070  0.62900 -2.079  0.038\n",
      "OBRIGAÇÃO_FINAL_POR_SALA:CUMP_TRIWEIGHT  0.0840  0.01800  4.574  0.000\n",
      "DIAS_FUNCIONAMENTO                       0.2246  0.02500  8.809  0.000\n",
      "SALAS_GRUPO_INFERIDO                     0.0218  0.01700  1.282  0.201\n",
      "ASSENTOS_GRUPO_INFERIDO                 -0.0002  0.00007 -2.751  0.006\n",
      "\n",
      "\n"
     ]
    }
   ],
   "source": [
    "works = ['ALL', 'FOREIGN', 'BRAZILIAN']\n",
    "\n",
    "for i in range(last_g_count, g_count):\n",
    "    print(f'Reg_group_weighted {i}, {works[i%3]}, weighting function {weight_funcs[(i-last_g_count)//3]}:')\n",
    "    print(pd.read_html(group_weighted[f'reg_gw{i}'].summary().\n",
    "                       tables[1].as_html(),header=0,index_col=0)[0].iloc[-6:,:-2])\n",
    "    print('\\n')"
   ]
  },
  {
   "cell_type": "markdown",
   "metadata": {},
   "source": [
    "### Dependent variable: public (moviegoers)"
   ]
  },
  {
   "cell_type": "markdown",
   "metadata": {},
   "source": [
    "#### With entity fixed-effects"
   ]
  },
  {
   "cell_type": "markdown",
   "metadata": {},
   "source": [
    "##### 2017-2019"
   ]
  },
  {
   "cell_type": "code",
   "execution_count": 50,
   "metadata": {
    "ExecuteTime": {
     "end_time": "2021-07-20T00:44:56.561635Z",
     "start_time": "2021-07-20T00:44:55.999277Z"
    }
   },
   "outputs": [],
   "source": [
    "last_g_count = g_count # to get num range of regressions to be executed\n",
    "\n",
    "for f in weight_funcs:\n",
    "    # adjust formula as we run through the weighting funcs\n",
    "    formul = f'np.log(PUBLICO) ~ OBRIGAÇÃO_FINAL_POR_SALA*{f} + DIAS_FUNCIONAMENTO + C(REGISTRO_GRUPO) + C(ANO_CINEMATOGRAFICO)'\n",
    "    group_weighted[f'reg_gw{g_count}'] = smf.ols(formula = formul, data=gtds_1719).fit()\n",
    "    g_count += 1\n",
    "    group_weighted[f'reg_gw{g_count}'] = smf.ols(formula = formul, data=gest_1719).fit()\n",
    "    g_count += 1\n",
    "    group_weighted[f'reg_gw{g_count}'] = smf.ols(formula = formul, data=gbras_1719).fit()\n",
    "    g_count += 1"
   ]
  },
  {
   "cell_type": "code",
   "execution_count": 51,
   "metadata": {
    "ExecuteTime": {
     "end_time": "2021-07-20T00:44:58.240617Z",
     "start_time": "2021-07-20T00:44:56.824346Z"
    }
   },
   "outputs": [
    {
     "name": "stdout",
     "output_type": "stream",
     "text": [
      "Reg_group_weighted 48, ALL, weighting function CUMP_QUADRATIC:\n",
      "                                           coef  std err      t  P>|t|\n",
      "OBRIGAÇÃO_FINAL_POR_SALA                 0.0555    0.008  7.366  0.000\n",
      "CUMP_QUADRATIC                           1.9880    0.278  7.142  0.000\n",
      "OBRIGAÇÃO_FINAL_POR_SALA:CUMP_QUADRATIC -0.0519    0.009 -5.807  0.000\n",
      "DIAS_FUNCIONAMENTO                       0.0416    0.028  1.487  0.138\n",
      "\n",
      "\n",
      "Reg_group_weighted 49, FOREIGN, weighting function CUMP_QUADRATIC:\n",
      "                                           coef  std err      t  P>|t|\n",
      "OBRIGAÇÃO_FINAL_POR_SALA                 0.0615    0.008  7.874  0.000\n",
      "CUMP_QUADRATIC                           2.0739    0.287  7.230  0.000\n",
      "OBRIGAÇÃO_FINAL_POR_SALA:CUMP_QUADRATIC -0.0572    0.009 -6.205  0.000\n",
      "DIAS_FUNCIONAMENTO                       0.0402    0.028  1.424  0.155\n",
      "\n",
      "\n",
      "Reg_group_weighted 50, BRAZILIAN, weighting function CUMP_QUADRATIC:\n",
      "                                           coef  std err      t  P>|t|\n",
      "OBRIGAÇÃO_FINAL_POR_SALA                -0.0082    0.015 -0.532  0.595\n",
      "CUMP_QUADRATIC                           0.4061    0.547  0.742  0.458\n",
      "OBRIGAÇÃO_FINAL_POR_SALA:CUMP_QUADRATIC  0.0167    0.017  0.959  0.338\n",
      "DIAS_FUNCIONAMENTO                       0.0271    0.039  0.691  0.490\n",
      "\n",
      "\n",
      "Reg_group_weighted 51, ALL, weighting function CUMP_NORMALIZADO:\n",
      "                                             coef  std err      t  P>|t|\n",
      "OBRIGAÇÃO_FINAL_POR_SALA                   0.0655    0.015  4.461  0.000\n",
      "CUMP_NORMALIZADO                           4.6590    1.155  4.035  0.000\n",
      "OBRIGAÇÃO_FINAL_POR_SALA:CUMP_NORMALIZADO -0.1321    0.040 -3.274  0.001\n",
      "DIAS_FUNCIONAMENTO                         0.0476    0.029  1.631  0.104\n",
      "\n",
      "\n",
      "Reg_group_weighted 52, FOREIGN, weighting function CUMP_NORMALIZADO:\n",
      "                                             coef  std err      t  P>|t|\n",
      "OBRIGAÇÃO_FINAL_POR_SALA                   0.0939    0.016  5.840  0.000\n",
      "CUMP_NORMALIZADO                           6.5440    1.259  5.197  0.000\n",
      "OBRIGAÇÃO_FINAL_POR_SALA:CUMP_NORMALIZADO -0.2070    0.044 -4.708  0.000\n",
      "DIAS_FUNCIONAMENTO                         0.0446    0.029  1.533  0.126\n",
      "\n",
      "\n",
      "Reg_group_weighted 53, BRAZILIAN, weighting function CUMP_NORMALIZADO:\n",
      "                                             coef  std err      t  P>|t|\n",
      "OBRIGAÇÃO_FINAL_POR_SALA                  -0.0238    0.023 -1.047  0.296\n",
      "CUMP_NORMALIZADO                          -0.0302    1.710 -0.018  0.986\n",
      "OBRIGAÇÃO_FINAL_POR_SALA:CUMP_NORMALIZADO  0.0870    0.061  1.438  0.151\n",
      "DIAS_FUNCIONAMENTO                         0.0265    0.040  0.665  0.507\n",
      "\n",
      "\n",
      "Reg_group_weighted 54, ALL, weighting function CUMP_LINEAR:\n",
      "                                        coef  std err      t  P>|t|\n",
      "OBRIGAÇÃO_FINAL_POR_SALA              0.0491    0.006  7.688  0.000\n",
      "CUMP_LINEAR                           1.9504    0.301  6.474  0.000\n",
      "OBRIGAÇÃO_FINAL_POR_SALA:CUMP_LINEAR -0.0508    0.009 -5.756  0.000\n",
      "DIAS_FUNCIONAMENTO                    0.0428    0.028  1.512  0.131\n",
      "\n",
      "\n",
      "Reg_group_weighted 55, FOREIGN, weighting function CUMP_LINEAR:\n",
      "                                        coef  std err      t  P>|t|\n",
      "OBRIGAÇÃO_FINAL_POR_SALA              0.0531    0.007  8.062  0.000\n",
      "CUMP_LINEAR                           1.9819    0.309  6.415  0.000\n",
      "OBRIGAÇÃO_FINAL_POR_SALA:CUMP_LINEAR -0.0541    0.009 -5.980  0.000\n",
      "DIAS_FUNCIONAMENTO                    0.0417    0.029  1.456  0.146\n",
      "\n",
      "\n",
      "Reg_group_weighted 56, BRAZILIAN, weighting function CUMP_LINEAR:\n",
      "                                        coef  std err      t  P>|t|\n",
      "OBRIGAÇÃO_FINAL_POR_SALA              0.0066    0.012  0.567  0.571\n",
      "CUMP_LINEAR                           0.9950    0.520  1.913  0.057\n",
      "OBRIGAÇÃO_FINAL_POR_SALA:CUMP_LINEAR -0.0025    0.015 -0.163  0.871\n",
      "DIAS_FUNCIONAMENTO                    0.0250    0.039  0.639  0.523\n",
      "\n",
      "\n",
      "Reg_group_weighted 57, ALL, weighting function CUMP_TRIWEIGHT:\n",
      "                                           coef  std err      t  P>|t|\n",
      "OBRIGAÇÃO_FINAL_POR_SALA                 0.0491    0.006  7.688  0.000\n",
      "CUMP_TRIWEIGHT                           1.9504    0.301  6.474  0.000\n",
      "OBRIGAÇÃO_FINAL_POR_SALA:CUMP_TRIWEIGHT -0.0508    0.009 -5.756  0.000\n",
      "DIAS_FUNCIONAMENTO                       0.0428    0.028  1.512  0.131\n",
      "\n",
      "\n",
      "Reg_group_weighted 58, FOREIGN, weighting function CUMP_TRIWEIGHT:\n",
      "                                           coef  std err      t  P>|t|\n",
      "OBRIGAÇÃO_FINAL_POR_SALA                 0.0531    0.007  8.062  0.000\n",
      "CUMP_TRIWEIGHT                           1.9819    0.309  6.415  0.000\n",
      "OBRIGAÇÃO_FINAL_POR_SALA:CUMP_TRIWEIGHT -0.0541    0.009 -5.980  0.000\n",
      "DIAS_FUNCIONAMENTO                       0.0417    0.029  1.456  0.146\n",
      "\n",
      "\n",
      "Reg_group_weighted 59, BRAZILIAN, weighting function CUMP_TRIWEIGHT:\n",
      "                                           coef  std err      t  P>|t|\n",
      "OBRIGAÇÃO_FINAL_POR_SALA                 0.0066    0.012  0.567  0.571\n",
      "CUMP_TRIWEIGHT                           0.9950    0.520  1.913  0.057\n",
      "OBRIGAÇÃO_FINAL_POR_SALA:CUMP_TRIWEIGHT -0.0025    0.015 -0.163  0.871\n",
      "DIAS_FUNCIONAMENTO                       0.0250    0.039  0.639  0.523\n",
      "\n",
      "\n"
     ]
    }
   ],
   "source": [
    "works = ['ALL', 'FOREIGN', 'BRAZILIAN']\n",
    "\n",
    "for i in range(last_g_count, g_count):\n",
    "    print(f'Reg_group_weighted {i}, {works[i%3]}, weighting function {weight_funcs[(i-last_g_count)//3]}:')\n",
    "    print(pd.read_html(group_weighted[f'reg_gw{i}'].summary().\n",
    "                       tables[1].as_html(),header=0,index_col=0)[0].iloc[-4:,:-2])\n",
    "    print('\\n')"
   ]
  },
  {
   "cell_type": "markdown",
   "metadata": {},
   "source": [
    "##### 2017-2018"
   ]
  },
  {
   "cell_type": "code",
   "execution_count": 52,
   "metadata": {
    "ExecuteTime": {
     "end_time": "2021-07-20T00:44:59.655207Z",
     "start_time": "2021-07-20T00:44:59.221570Z"
    }
   },
   "outputs": [],
   "source": [
    "last_g_count = g_count # to get num range of regressions to be executed\n",
    "\n",
    "for f in weight_funcs:\n",
    "    # adjust formula as we run through the weighting funcs\n",
    "    formul = f'np.log(PUBLICO) ~ OBRIGAÇÃO_FINAL_POR_SALA*{f} + DIAS_FUNCIONAMENTO + C(REGISTRO_GRUPO) + C(ANO_CINEMATOGRAFICO)'\n",
    "    group_weighted[f'reg_gw{g_count}'] = smf.ols(formula = formul, data=gtds_1718).fit()\n",
    "    g_count += 1\n",
    "    group_weighted[f'reg_gw{g_count}'] = smf.ols(formula = formul, data=gest_1718).fit()\n",
    "    g_count += 1\n",
    "    group_weighted[f'reg_gw{g_count}'] = smf.ols(formula = formul, data=gbras_1718).fit()\n",
    "    g_count += 1"
   ]
  },
  {
   "cell_type": "code",
   "execution_count": 53,
   "metadata": {
    "ExecuteTime": {
     "end_time": "2021-07-20T00:45:01.472791Z",
     "start_time": "2021-07-20T00:45:00.160699Z"
    }
   },
   "outputs": [
    {
     "name": "stdout",
     "output_type": "stream",
     "text": [
      "Reg_group_weighted 60, ALL, weighting function CUMP_QUADRATIC:\n",
      "                                           coef  std err      t  P>|t|\n",
      "OBRIGAÇÃO_FINAL_POR_SALA                 0.0714    0.009  8.046  0.000\n",
      "CUMP_QUADRATIC                           2.3502    0.413  5.691  0.000\n",
      "OBRIGAÇÃO_FINAL_POR_SALA:CUMP_QUADRATIC -0.0622    0.014 -4.584  0.000\n",
      "DIAS_FUNCIONAMENTO                       0.0704    0.058  1.217  0.225\n",
      "\n",
      "\n",
      "Reg_group_weighted 61, FOREIGN, weighting function CUMP_QUADRATIC:\n",
      "                                           coef  std err      t  P>|t|\n",
      "OBRIGAÇÃO_FINAL_POR_SALA                 0.0780    0.010  8.193  0.000\n",
      "CUMP_QUADRATIC                           2.4398    0.433  5.638  0.000\n",
      "OBRIGAÇÃO_FINAL_POR_SALA:CUMP_QUADRATIC -0.0691    0.014 -4.853  0.000\n",
      "DIAS_FUNCIONAMENTO                       0.0672    0.060  1.115  0.266\n",
      "\n",
      "\n",
      "Reg_group_weighted 62, BRAZILIAN, weighting function CUMP_QUADRATIC:\n",
      "                                           coef  std err      t  P>|t|\n",
      "OBRIGAÇÃO_FINAL_POR_SALA                 0.0012    0.022  0.053  0.958\n",
      "CUMP_QUADRATIC                           1.0100    0.850  1.188  0.236\n",
      "OBRIGAÇÃO_FINAL_POR_SALA:CUMP_QUADRATIC  0.0045    0.027  0.168  0.867\n",
      "DIAS_FUNCIONAMENTO                       0.0330    0.089  0.371  0.711\n",
      "\n",
      "\n",
      "Reg_group_weighted 63, ALL, weighting function CUMP_NORMALIZADO:\n",
      "                                             coef  std err      t  P>|t|\n",
      "OBRIGAÇÃO_FINAL_POR_SALA                   0.0742    0.018  4.087  0.000\n",
      "CUMP_NORMALIZADO                           3.5369    1.650  2.144  0.033\n",
      "OBRIGAÇÃO_FINAL_POR_SALA:CUMP_NORMALIZADO -0.0919    0.058 -1.585  0.115\n",
      "DIAS_FUNCIONAMENTO                         0.1146    0.062  1.857  0.065\n",
      "\n",
      "\n",
      "Reg_group_weighted 64, FOREIGN, weighting function CUMP_NORMALIZADO:\n",
      "                                             coef  std err      t  P>|t|\n",
      "OBRIGAÇÃO_FINAL_POR_SALA                   0.1083    0.021  5.219  0.000\n",
      "CUMP_NORMALIZADO                           6.1843    1.802  3.433  0.001\n",
      "OBRIGAÇÃO_FINAL_POR_SALA:CUMP_NORMALIZADO -0.1969    0.065 -3.037  0.003\n",
      "DIAS_FUNCIONAMENTO                         0.1007    0.063  1.606  0.110\n",
      "\n",
      "\n",
      "Reg_group_weighted 65, BRAZILIAN, weighting function CUMP_NORMALIZADO:\n",
      "                                             coef  std err      t  P>|t|\n",
      "OBRIGAÇÃO_FINAL_POR_SALA                  -0.0209    0.030 -0.698  0.486\n",
      "CUMP_NORMALIZADO                           1.5110    2.471  0.612  0.542\n",
      "OBRIGAÇÃO_FINAL_POR_SALA:CUMP_NORMALIZADO  0.0711    0.087  0.819  0.414\n",
      "DIAS_FUNCIONAMENTO                         0.0330    0.091  0.362  0.717\n",
      "\n",
      "\n",
      "Reg_group_weighted 66, ALL, weighting function CUMP_LINEAR:\n",
      "                                        coef  std err      t  P>|t|\n",
      "OBRIGAÇÃO_FINAL_POR_SALA              0.0662    0.008  8.144  0.000\n",
      "CUMP_LINEAR                           2.2355    0.454  4.926  0.000\n",
      "OBRIGAÇÃO_FINAL_POR_SALA:CUMP_LINEAR -0.0596    0.014 -4.304  0.000\n",
      "DIAS_FUNCIONAMENTO                    0.0816    0.059  1.383  0.168\n",
      "\n",
      "\n",
      "Reg_group_weighted 67, FOREIGN, weighting function CUMP_LINEAR:\n",
      "                                        coef  std err      t  P>|t|\n",
      "OBRIGAÇÃO_FINAL_POR_SALA              0.0708    0.009  8.156  0.000\n",
      "CUMP_LINEAR                           2.2507    0.474  4.750  0.000\n",
      "OBRIGAÇÃO_FINAL_POR_SALA:CUMP_LINEAR -0.0638    0.014 -4.413  0.000\n",
      "DIAS_FUNCIONAMENTO                    0.0801    0.061  1.304  0.194\n",
      "\n",
      "\n",
      "Reg_group_weighted 68, BRAZILIAN, weighting function CUMP_LINEAR:\n",
      "                                        coef  std err      t  P>|t|\n",
      "OBRIGAÇÃO_FINAL_POR_SALA              0.0110    0.018  0.604  0.546\n",
      "CUMP_LINEAR                           1.6252    0.809  2.009  0.046\n",
      "OBRIGAÇÃO_FINAL_POR_SALA:CUMP_LINEAR -0.0150    0.024 -0.615  0.539\n",
      "DIAS_FUNCIONAMENTO                    0.0224    0.088  0.255  0.799\n",
      "\n",
      "\n",
      "Reg_group_weighted 69, ALL, weighting function CUMP_TRIWEIGHT:\n",
      "                                           coef  std err      t  P>|t|\n",
      "OBRIGAÇÃO_FINAL_POR_SALA                 0.0662    0.008  8.144  0.000\n",
      "CUMP_TRIWEIGHT                           2.2355    0.454  4.926  0.000\n",
      "OBRIGAÇÃO_FINAL_POR_SALA:CUMP_TRIWEIGHT -0.0596    0.014 -4.304  0.000\n",
      "DIAS_FUNCIONAMENTO                       0.0816    0.059  1.383  0.168\n",
      "\n",
      "\n",
      "Reg_group_weighted 70, FOREIGN, weighting function CUMP_TRIWEIGHT:\n",
      "                                           coef  std err      t  P>|t|\n",
      "OBRIGAÇÃO_FINAL_POR_SALA                 0.0708    0.009  8.156  0.000\n",
      "CUMP_TRIWEIGHT                           2.2507    0.474  4.750  0.000\n",
      "OBRIGAÇÃO_FINAL_POR_SALA:CUMP_TRIWEIGHT -0.0638    0.014 -4.413  0.000\n",
      "DIAS_FUNCIONAMENTO                       0.0801    0.061  1.304  0.194\n",
      "\n",
      "\n",
      "Reg_group_weighted 71, BRAZILIAN, weighting function CUMP_TRIWEIGHT:\n",
      "                                           coef  std err      t  P>|t|\n",
      "OBRIGAÇÃO_FINAL_POR_SALA                 0.0110    0.018  0.604  0.546\n",
      "CUMP_TRIWEIGHT                           1.6252    0.809  2.009  0.046\n",
      "OBRIGAÇÃO_FINAL_POR_SALA:CUMP_TRIWEIGHT -0.0150    0.024 -0.615  0.539\n",
      "DIAS_FUNCIONAMENTO                       0.0224    0.088  0.255  0.799\n",
      "\n",
      "\n"
     ]
    }
   ],
   "source": [
    "works = ['ALL', 'FOREIGN', 'BRAZILIAN']\n",
    "\n",
    "for i in range(last_g_count, g_count):\n",
    "    print(f'Reg_group_weighted {i}, {works[i%3]}, weighting function {weight_funcs[(i-last_g_count)//3]}:')\n",
    "    print(pd.read_html(group_weighted[f'reg_gw{i}'].summary().\n",
    "                       tables[1].as_html(),header=0,index_col=0)[0].iloc[-4:,:-2])\n",
    "    print('\\n')"
   ]
  },
  {
   "cell_type": "markdown",
   "metadata": {},
   "source": [
    "#### Without entity fixed-effects"
   ]
  },
  {
   "cell_type": "markdown",
   "metadata": {},
   "source": [
    "##### 2017-2019"
   ]
  },
  {
   "cell_type": "code",
   "execution_count": 54,
   "metadata": {
    "ExecuteTime": {
     "end_time": "2021-07-20T00:45:04.857805Z",
     "start_time": "2021-07-20T00:45:04.598631Z"
    }
   },
   "outputs": [],
   "source": [
    "g_count = 72\n",
    "\n",
    "last_g_count = g_count # to get num range of regressions to be executed\n",
    "\n",
    "for f in weight_funcs:\n",
    "    # adjust formula as we run through the weighting funcs\n",
    "    formul = f'np.log(PUBLICO) ~ OBRIGAÇÃO_FINAL_POR_SALA*{f} + DIAS_FUNCIONAMENTO + SALAS_GRUPO_INFERIDO + ASSENTOS_GRUPO_INFERIDO + C(ANO_CINEMATOGRAFICO)'\n",
    "    group_weighted[f'reg_gw{g_count}'] = smf.ols(formula = formul, data=gtds_1719).fit()\n",
    "    g_count += 1\n",
    "    group_weighted[f'reg_gw{g_count}'] = smf.ols(formula = formul, data=gest_1719).fit()\n",
    "    g_count += 1\n",
    "    group_weighted[f'reg_gw{g_count}'] = smf.ols(formula = formul, data=gbras_1719).fit()\n",
    "    g_count += 1"
   ]
  },
  {
   "cell_type": "code",
   "execution_count": 55,
   "metadata": {
    "ExecuteTime": {
     "end_time": "2021-07-20T00:45:11.234010Z",
     "start_time": "2021-07-20T00:45:11.033521Z"
    }
   },
   "outputs": [
    {
     "name": "stdout",
     "output_type": "stream",
     "text": [
      "Reg_group_weighted 72, ALL, weighting function CUMP_QUADRATIC:\n",
      "                                           coef   std err      t  P>|t|\n",
      "OBRIGAÇÃO_FINAL_POR_SALA                 0.0635  0.014000  4.399  0.000\n",
      "CUMP_QUADRATIC                           0.7861  0.518000  1.516  0.130\n",
      "OBRIGAÇÃO_FINAL_POR_SALA:CUMP_QUADRATIC  0.0234  0.017000  1.378  0.169\n",
      "DIAS_FUNCIONAMENTO                       0.1916  0.023000  8.394  0.000\n",
      "SALAS_GRUPO_INFERIDO                     0.0545  0.014000  3.863  0.000\n",
      "ASSENTOS_GRUPO_INFERIDO                 -0.0003  0.000058 -5.296  0.000\n",
      "\n",
      "\n",
      "Reg_group_weighted 73, FOREIGN, weighting function CUMP_QUADRATIC:\n",
      "                                           coef   std err      t  P>|t|\n",
      "OBRIGAÇÃO_FINAL_POR_SALA                 0.0671  0.015000  4.349  0.000\n",
      "CUMP_QUADRATIC                           1.0660  0.555000  1.922  0.055\n",
      "OBRIGAÇÃO_FINAL_POR_SALA:CUMP_QUADRATIC  0.0193  0.018000  1.066  0.287\n",
      "DIAS_FUNCIONAMENTO                       0.1905  0.024000  7.954  0.000\n",
      "SALAS_GRUPO_INFERIDO                     0.0540  0.015000  3.646  0.000\n",
      "ASSENTOS_GRUPO_INFERIDO                 -0.0003  0.000061 -4.999  0.000\n",
      "\n",
      "\n",
      "Reg_group_weighted 74, BRAZILIAN, weighting function CUMP_QUADRATIC:\n",
      "                                           coef   std err      t  P>|t|\n",
      "OBRIGAÇÃO_FINAL_POR_SALA                 0.0001  0.020000  0.007  0.995\n",
      "CUMP_QUADRATIC                          -2.1262  0.731000 -2.907  0.004\n",
      "OBRIGAÇÃO_FINAL_POR_SALA:CUMP_QUADRATIC  0.1067  0.023000  4.591  0.000\n",
      "DIAS_FUNCIONAMENTO                       0.2066  0.023000  8.958  0.000\n",
      "SALAS_GRUPO_INFERIDO                     0.0571  0.014000  4.000  0.000\n",
      "ASSENTOS_GRUPO_INFERIDO                 -0.0003  0.000059 -5.590  0.000\n",
      "\n",
      "\n",
      "Reg_group_weighted 75, ALL, weighting function CUMP_NORMALIZADO:\n",
      "                                             coef   std err      t  P>|t|\n",
      "OBRIGAÇÃO_FINAL_POR_SALA                   0.0476  0.028000  1.673  0.095\n",
      "CUMP_NORMALIZADO                           2.1897  2.191000  0.999  0.318\n",
      "OBRIGAÇÃO_FINAL_POR_SALA:CUMP_NORMALIZADO  0.1059  0.078000  1.363  0.173\n",
      "DIAS_FUNCIONAMENTO                         0.1950  0.023000  8.494  0.000\n",
      "SALAS_GRUPO_INFERIDO                       0.0550  0.014000  3.875  0.000\n",
      "ASSENTOS_GRUPO_INFERIDO                   -0.0003  0.000058 -5.332  0.000\n",
      "\n",
      "\n",
      "Reg_group_weighted 76, FOREIGN, weighting function CUMP_NORMALIZADO:\n",
      "                                             coef   std err      t  P>|t|\n",
      "OBRIGAÇÃO_FINAL_POR_SALA                   0.0687  0.032000  2.158  0.031\n",
      "CUMP_NORMALIZADO                           5.6194  2.488000  2.258  0.024\n",
      "OBRIGAÇÃO_FINAL_POR_SALA:CUMP_NORMALIZADO  0.0433  0.087000  0.498  0.618\n",
      "DIAS_FUNCIONAMENTO                         0.1925  0.024000  8.078  0.000\n",
      "SALAS_GRUPO_INFERIDO                       0.0556  0.015000  3.774  0.000\n",
      "ASSENTOS_GRUPO_INFERIDO                   -0.0003  0.000061 -5.152  0.000\n",
      "\n",
      "\n",
      "Reg_group_weighted 77, BRAZILIAN, weighting function CUMP_NORMALIZADO:\n",
      "                                             coef  std err      t  P>|t|\n",
      "OBRIGAÇÃO_FINAL_POR_SALA                  -0.0399  0.03300 -1.225  0.221\n",
      "CUMP_NORMALIZADO                          -8.4183  2.43400 -3.459  0.001\n",
      "OBRIGAÇÃO_FINAL_POR_SALA:CUMP_NORMALIZADO  0.3673  0.08700  4.232  0.000\n",
      "DIAS_FUNCIONAMENTO                         0.2077  0.02300  8.884  0.000\n",
      "SALAS_GRUPO_INFERIDO                       0.0596  0.01400  4.124  0.000\n",
      "ASSENTOS_GRUPO_INFERIDO                   -0.0003  0.00006 -5.702  0.000\n",
      "\n",
      "\n",
      "Reg_group_weighted 78, ALL, weighting function CUMP_LINEAR:\n",
      "                                        coef   std err      t  P>|t|\n",
      "OBRIGAÇÃO_FINAL_POR_SALA              0.0805  0.012000  6.765  0.000\n",
      "CUMP_LINEAR                           1.1536  0.559000  2.062  0.040\n",
      "OBRIGAÇÃO_FINAL_POR_SALA:CUMP_LINEAR  0.0052  0.017000  0.315  0.753\n",
      "DIAS_FUNCIONAMENTO                    0.1949  0.023000  8.435  0.000\n",
      "SALAS_GRUPO_INFERIDO                  0.0539  0.014000  3.764  0.000\n",
      "ASSENTOS_GRUPO_INFERIDO              -0.0003  0.000059 -5.219  0.000\n",
      "\n",
      "\n",
      "Reg_group_weighted 79, FOREIGN, weighting function CUMP_LINEAR:\n",
      "                                        coef   std err      t  P>|t|\n",
      "OBRIGAÇÃO_FINAL_POR_SALA              0.0853  0.013000  6.719  0.000\n",
      "CUMP_LINEAR                           1.4645  0.597000  2.454  0.014\n",
      "OBRIGAÇÃO_FINAL_POR_SALA:CUMP_LINEAR -0.0009  0.018000 -0.054  0.957\n",
      "DIAS_FUNCIONAMENTO                    0.1938  0.024000  7.982  0.000\n",
      "SALAS_GRUPO_INFERIDO                  0.0536  0.015000  3.560  0.000\n",
      "ASSENTOS_GRUPO_INFERIDO              -0.0003  0.000062 -4.932  0.000\n",
      "\n",
      "\n",
      "Reg_group_weighted 80, BRAZILIAN, weighting function CUMP_LINEAR:\n",
      "                                        coef   std err      t  P>|t|\n",
      "OBRIGAÇÃO_FINAL_POR_SALA              0.0433  0.015000  2.838  0.005\n",
      "CUMP_LINEAR                          -0.9087  0.705000 -1.289  0.198\n",
      "OBRIGAÇÃO_FINAL_POR_SALA:CUMP_LINEAR  0.0651  0.020000  3.176  0.002\n",
      "DIAS_FUNCIONAMENTO                    0.2092  0.023000  9.004  0.000\n",
      "SALAS_GRUPO_INFERIDO                  0.0567  0.014000  3.932  0.000\n",
      "ASSENTOS_GRUPO_INFERIDO              -0.0003  0.000059 -5.547  0.000\n",
      "\n",
      "\n",
      "Reg_group_weighted 81, ALL, weighting function CUMP_TRIWEIGHT:\n",
      "                                           coef   std err      t  P>|t|\n",
      "OBRIGAÇÃO_FINAL_POR_SALA                 0.0805  0.012000  6.765  0.000\n",
      "CUMP_TRIWEIGHT                           1.1536  0.559000  2.062  0.040\n",
      "OBRIGAÇÃO_FINAL_POR_SALA:CUMP_TRIWEIGHT  0.0052  0.017000  0.315  0.753\n",
      "DIAS_FUNCIONAMENTO                       0.1949  0.023000  8.435  0.000\n",
      "SALAS_GRUPO_INFERIDO                     0.0539  0.014000  3.764  0.000\n",
      "ASSENTOS_GRUPO_INFERIDO                 -0.0003  0.000059 -5.219  0.000\n",
      "\n",
      "\n",
      "Reg_group_weighted 82, FOREIGN, weighting function CUMP_TRIWEIGHT:\n",
      "                                           coef   std err      t  P>|t|\n",
      "OBRIGAÇÃO_FINAL_POR_SALA                 0.0853  0.013000  6.719  0.000\n",
      "CUMP_TRIWEIGHT                           1.4645  0.597000  2.454  0.014\n",
      "OBRIGAÇÃO_FINAL_POR_SALA:CUMP_TRIWEIGHT -0.0009  0.018000 -0.054  0.957\n",
      "DIAS_FUNCIONAMENTO                       0.1938  0.024000  7.982  0.000\n",
      "SALAS_GRUPO_INFERIDO                     0.0536  0.015000  3.560  0.000\n",
      "ASSENTOS_GRUPO_INFERIDO                 -0.0003  0.000062 -4.932  0.000\n",
      "\n",
      "\n",
      "Reg_group_weighted 83, BRAZILIAN, weighting function CUMP_TRIWEIGHT:\n",
      "                                           coef   std err      t  P>|t|\n",
      "OBRIGAÇÃO_FINAL_POR_SALA                 0.0433  0.015000  2.838  0.005\n",
      "CUMP_TRIWEIGHT                          -0.9087  0.705000 -1.289  0.198\n",
      "OBRIGAÇÃO_FINAL_POR_SALA:CUMP_TRIWEIGHT  0.0651  0.020000  3.176  0.002\n",
      "DIAS_FUNCIONAMENTO                       0.2092  0.023000  9.004  0.000\n",
      "SALAS_GRUPO_INFERIDO                     0.0567  0.014000  3.932  0.000\n",
      "ASSENTOS_GRUPO_INFERIDO                 -0.0003  0.000059 -5.547  0.000\n",
      "\n",
      "\n"
     ]
    }
   ],
   "source": [
    "works = ['ALL', 'FOREIGN', 'BRAZILIAN']\n",
    "\n",
    "for i in range(last_g_count, g_count):\n",
    "    print(f'Reg_group_weighted {i}, {works[i%3]}, weighting function {weight_funcs[(i-last_g_count)//3]}:')\n",
    "    print(pd.read_html(group_weighted[f'reg_gw{i}'].summary().\n",
    "                       tables[1].as_html(),header=0,index_col=0)[0].iloc[-6:,:-2])\n",
    "    print('\\n')"
   ]
  },
  {
   "cell_type": "markdown",
   "metadata": {},
   "source": [
    "##### 2017-2018"
   ]
  },
  {
   "cell_type": "code",
   "execution_count": 56,
   "metadata": {
    "ExecuteTime": {
     "end_time": "2021-07-20T00:45:13.399251Z",
     "start_time": "2021-07-20T00:45:13.150518Z"
    }
   },
   "outputs": [],
   "source": [
    "last_g_count = g_count # to get num range of regressions to be executed\n",
    "\n",
    "for f in weight_funcs:\n",
    "    # adjust formula as we run through the weighting funcs\n",
    "    formul = f'np.log(PUBLICO) ~ OBRIGAÇÃO_FINAL_POR_SALA*{f} + DIAS_FUNCIONAMENTO + SALAS_GRUPO_INFERIDO + ASSENTOS_GRUPO_INFERIDO + C(ANO_CINEMATOGRAFICO)'\n",
    "    group_weighted[f'reg_gw{g_count}'] = smf.ols(formula = formul, data=gtds_1718).fit()\n",
    "    g_count += 1\n",
    "    group_weighted[f'reg_gw{g_count}'] = smf.ols(formula = formul, data=gest_1718).fit()\n",
    "    g_count += 1\n",
    "    group_weighted[f'reg_gw{g_count}'] = smf.ols(formula = formul, data=gbras_1718).fit()\n",
    "    g_count += 1"
   ]
  },
  {
   "cell_type": "code",
   "execution_count": 57,
   "metadata": {
    "ExecuteTime": {
     "end_time": "2021-07-20T00:45:14.157019Z",
     "start_time": "2021-07-20T00:45:13.968486Z"
    },
    "scrolled": true
   },
   "outputs": [
    {
     "name": "stdout",
     "output_type": "stream",
     "text": [
      "Reg_group_weighted 84, ALL, weighting function CUMP_QUADRATIC:\n",
      "                                           coef   std err      t  P>|t|\n",
      "OBRIGAÇÃO_FINAL_POR_SALA                 0.0605  0.012000  4.968  0.000\n",
      "CUMP_QUADRATIC                           0.4646  0.443000  1.048  0.295\n",
      "OBRIGAÇÃO_FINAL_POR_SALA:CUMP_QUADRATIC  0.0354  0.015000  2.430  0.016\n",
      "DIAS_FUNCIONAMENTO                       0.1971  0.024000  8.201  0.000\n",
      "SALAS_GRUPO_INFERIDO                     0.0244  0.016000  1.535  0.125\n",
      "ASSENTOS_GRUPO_INFERIDO                 -0.0002  0.000066 -2.864  0.004\n",
      "\n",
      "\n",
      "Reg_group_weighted 85, FOREIGN, weighting function CUMP_QUADRATIC:\n",
      "                                           coef   std err      t  P>|t|\n",
      "OBRIGAÇÃO_FINAL_POR_SALA                 0.0640  0.013000  4.744  0.000\n",
      "CUMP_QUADRATIC                           0.7419  0.491000  1.510  0.132\n",
      "OBRIGAÇÃO_FINAL_POR_SALA:CUMP_QUADRATIC  0.0314  0.016000  1.949  0.052\n",
      "DIAS_FUNCIONAMENTO                       0.1965  0.026000  7.519  0.000\n",
      "SALAS_GRUPO_INFERIDO                     0.0237  0.017000  1.374  0.170\n",
      "ASSENTOS_GRUPO_INFERIDO                 -0.0002  0.000071 -2.588  0.010\n",
      "\n",
      "\n",
      "Reg_group_weighted 86, BRAZILIAN, weighting function CUMP_QUADRATIC:\n",
      "                                           coef   std err      t  P>|t|\n",
      "OBRIGAÇÃO_FINAL_POR_SALA                -0.0064  0.017000 -0.371  0.711\n",
      "CUMP_QUADRATIC                          -2.5996  0.627000 -4.149  0.000\n",
      "OBRIGAÇÃO_FINAL_POR_SALA:CUMP_QUADRATIC  0.1235  0.020000  6.182  0.000\n",
      "DIAS_FUNCIONAMENTO                       0.2221  0.024000  9.108  0.000\n",
      "SALAS_GRUPO_INFERIDO                     0.0204  0.016000  1.261  0.208\n",
      "ASSENTOS_GRUPO_INFERIDO                 -0.0002  0.000067 -2.788  0.006\n",
      "\n",
      "\n",
      "Reg_group_weighted 87, ALL, weighting function CUMP_NORMALIZADO:\n",
      "                                             coef   std err      t  P>|t|\n",
      "OBRIGAÇÃO_FINAL_POR_SALA                   0.0370  0.024000  1.517  0.130\n",
      "CUMP_NORMALIZADO                           0.9670  1.889000  0.512  0.609\n",
      "OBRIGAÇÃO_FINAL_POR_SALA:CUMP_NORMALIZADO  0.1529  0.067000  2.278  0.023\n",
      "DIAS_FUNCIONAMENTO                         0.2019  0.024000  8.275  0.000\n",
      "SALAS_GRUPO_INFERIDO                       0.0263  0.016000  1.638  0.102\n",
      "ASSENTOS_GRUPO_INFERIDO                   -0.0002  0.000067 -2.992  0.003\n",
      "\n",
      "\n",
      "Reg_group_weighted 88, FOREIGN, weighting function CUMP_NORMALIZADO:\n",
      "                                             coef   std err      t  P>|t|\n",
      "OBRIGAÇÃO_FINAL_POR_SALA                   0.0567  0.028000  2.030  0.043\n",
      "CUMP_NORMALIZADO                           4.3006  2.199000  1.955  0.051\n",
      "OBRIGAÇÃO_FINAL_POR_SALA:CUMP_NORMALIZADO  0.0932  0.077000  1.213  0.226\n",
      "DIAS_FUNCIONAMENTO                         0.1992  0.026000  7.675  0.000\n",
      "SALAS_GRUPO_INFERIDO                       0.0277  0.017000  1.619  0.106\n",
      "ASSENTOS_GRUPO_INFERIDO                   -0.0002  0.000071 -2.868  0.004\n",
      "\n",
      "\n",
      "Reg_group_weighted 89, BRAZILIAN, weighting function CUMP_NORMALIZADO:\n",
      "                                             coef   std err      t  P>|t|\n",
      "OBRIGAÇÃO_FINAL_POR_SALA                  -0.0502  0.028000 -1.778  0.076\n",
      "CUMP_NORMALIZADO                          -9.6569  2.125000 -4.545  0.000\n",
      "OBRIGAÇÃO_FINAL_POR_SALA:CUMP_NORMALIZADO  0.4145  0.076000  5.462  0.000\n",
      "DIAS_FUNCIONAMENTO                         0.2229  0.025000  8.831  0.000\n",
      "SALAS_GRUPO_INFERIDO                       0.0267  0.017000  1.603  0.110\n",
      "ASSENTOS_GRUPO_INFERIDO                   -0.0002  0.000069 -3.095  0.002\n",
      "\n",
      "\n",
      "Reg_group_weighted 90, ALL, weighting function CUMP_LINEAR:\n",
      "                                        coef   std err      t  P>|t|\n",
      "OBRIGAÇÃO_FINAL_POR_SALA              0.0778  0.010000  7.665  0.000\n",
      "CUMP_LINEAR                           0.7648  0.486000  1.575  0.116\n",
      "OBRIGAÇÃO_FINAL_POR_SALA:CUMP_LINEAR  0.0193  0.014000  1.330  0.184\n",
      "DIAS_FUNCIONAMENTO                    0.2037  0.025000  8.272  0.000\n",
      "SALAS_GRUPO_INFERIDO                  0.0220  0.016000  1.343  0.180\n",
      "ASSENTOS_GRUPO_INFERIDO              -0.0002  0.000068 -2.695  0.007\n",
      "\n",
      "\n",
      "Reg_group_weighted 91, FOREIGN, weighting function CUMP_LINEAR:\n",
      "                                        coef   std err      t  P>|t|\n",
      "OBRIGAÇÃO_FINAL_POR_SALA              0.0826  0.011000  7.348  0.000\n",
      "CUMP_LINEAR                           1.0751  0.537000  2.001  0.046\n",
      "OBRIGAÇÃO_FINAL_POR_SALA:CUMP_LINEAR  0.0131  0.016000  0.818  0.414\n",
      "DIAS_FUNCIONAMENTO                    0.2032  0.027000  7.570  0.000\n",
      "SALAS_GRUPO_INFERIDO                  0.0218  0.018000  1.219  0.223\n",
      "ASSENTOS_GRUPO_INFERIDO              -0.0002  0.000074 -2.454  0.015\n",
      "\n",
      "\n",
      "Reg_group_weighted 92, BRAZILIAN, weighting function CUMP_LINEAR:\n",
      "                                        coef   std err      t  P>|t|\n",
      "OBRIGAÇÃO_FINAL_POR_SALA              0.0382  0.013000  2.935  0.004\n",
      "CUMP_LINEAR                          -1.4400  0.609000 -2.363  0.019\n",
      "OBRIGAÇÃO_FINAL_POR_SALA:CUMP_LINEAR  0.0834  0.018000  4.680  0.000\n",
      "DIAS_FUNCIONAMENTO                    0.2279  0.025000  9.221  0.000\n",
      "SALAS_GRUPO_INFERIDO                  0.0180  0.016000  1.090  0.276\n",
      "ASSENTOS_GRUPO_INFERIDO              -0.0002  0.000068 -2.649  0.008\n",
      "\n",
      "\n",
      "Reg_group_weighted 93, ALL, weighting function CUMP_TRIWEIGHT:\n",
      "                                           coef   std err      t  P>|t|\n",
      "OBRIGAÇÃO_FINAL_POR_SALA                 0.0778  0.010000  7.665  0.000\n",
      "CUMP_TRIWEIGHT                           0.7648  0.486000  1.575  0.116\n",
      "OBRIGAÇÃO_FINAL_POR_SALA:CUMP_TRIWEIGHT  0.0193  0.014000  1.330  0.184\n",
      "DIAS_FUNCIONAMENTO                       0.2037  0.025000  8.272  0.000\n",
      "SALAS_GRUPO_INFERIDO                     0.0220  0.016000  1.343  0.180\n",
      "ASSENTOS_GRUPO_INFERIDO                 -0.0002  0.000068 -2.695  0.007\n",
      "\n",
      "\n",
      "Reg_group_weighted 94, FOREIGN, weighting function CUMP_TRIWEIGHT:\n",
      "                                           coef   std err      t  P>|t|\n",
      "OBRIGAÇÃO_FINAL_POR_SALA                 0.0826  0.011000  7.348  0.000\n",
      "CUMP_TRIWEIGHT                           1.0751  0.537000  2.001  0.046\n",
      "OBRIGAÇÃO_FINAL_POR_SALA:CUMP_TRIWEIGHT  0.0131  0.016000  0.818  0.414\n",
      "DIAS_FUNCIONAMENTO                       0.2032  0.027000  7.570  0.000\n",
      "SALAS_GRUPO_INFERIDO                     0.0218  0.018000  1.219  0.223\n",
      "ASSENTOS_GRUPO_INFERIDO                 -0.0002  0.000074 -2.454  0.015\n",
      "\n",
      "\n",
      "Reg_group_weighted 95, BRAZILIAN, weighting function CUMP_TRIWEIGHT:\n",
      "                                           coef   std err      t  P>|t|\n",
      "OBRIGAÇÃO_FINAL_POR_SALA                 0.0382  0.013000  2.935  0.004\n",
      "CUMP_TRIWEIGHT                          -1.4400  0.609000 -2.363  0.019\n",
      "OBRIGAÇÃO_FINAL_POR_SALA:CUMP_TRIWEIGHT  0.0834  0.018000  4.680  0.000\n",
      "DIAS_FUNCIONAMENTO                       0.2279  0.025000  9.221  0.000\n",
      "SALAS_GRUPO_INFERIDO                     0.0180  0.016000  1.090  0.276\n",
      "ASSENTOS_GRUPO_INFERIDO                 -0.0002  0.000068 -2.649  0.008\n",
      "\n",
      "\n"
     ]
    }
   ],
   "source": [
    "works = ['ALL', 'FOREIGN', 'BRAZILIAN']\n",
    "\n",
    "for i in range(last_g_count, g_count):\n",
    "    print(f'Reg_group_weighted {i}, {works[i%3]}, weighting function {weight_funcs[(i-last_g_count)//3]}:')\n",
    "    print(pd.read_html(group_weighted[f'reg_gw{i}'].summary().\n",
    "                       tables[1].as_html(),header=0,index_col=0)[0].iloc[-6:,:-2])\n",
    "    print('\\n')"
   ]
  },
  {
   "cell_type": "markdown",
   "metadata": {},
   "source": [
    "### Dependent variable: different titles"
   ]
  },
  {
   "cell_type": "markdown",
   "metadata": {},
   "source": [
    "#### With entity fixed-effects"
   ]
  },
  {
   "cell_type": "markdown",
   "metadata": {},
   "source": [
    "##### 2017-2019"
   ]
  },
  {
   "cell_type": "code",
   "execution_count": 63,
   "metadata": {
    "ExecuteTime": {
     "end_time": "2021-07-20T00:50:14.450399Z",
     "start_time": "2021-07-20T00:50:13.886887Z"
    }
   },
   "outputs": [],
   "source": [
    "f1 = 'TIT_TOTAL '\n",
    "f2 = 'TIT_EST '\n",
    "f3 = 'TIT_BR '\n",
    "\n",
    "g_count = 96\n",
    "\n",
    "suffix = '~ OBRIGAÇÃO_TOTAL_POR_SALA + DIAS_FUNCIONAMENTO + C(REGISTRO_GRUPO) + C(ANO_CINEMATOGRAFICO)'\n",
    "\n",
    "last_g_count = g_count\n",
    "\n",
    "for f in weight_funcs:\n",
    "    for form in [f1,f2,f3]:\n",
    "    # adjust formula as we run through the weighting funcs\n",
    "        formul = form + f'~ OBRIGAÇÃO_FINAL_POR_SALA*{f} + DIAS_FUNCIONAMENTO + C(REGISTRO_GRUPO) + C(ANO_CINEMATOGRAFICO)'\n",
    "        group_weighted[f'reg_gw{g_count}'] = smf.ols(formula = formul, data=gtds_1719).fit()\n",
    "        g_count += 1"
   ]
  },
  {
   "cell_type": "code",
   "execution_count": 65,
   "metadata": {
    "ExecuteTime": {
     "end_time": "2021-07-20T00:50:32.190426Z",
     "start_time": "2021-07-20T00:50:30.832711Z"
    }
   },
   "outputs": [
    {
     "name": "stdout",
     "output_type": "stream",
     "text": [
      "Reg_group_weighted 96, ALL, weighting function CUMP_QUADRATIC:\n",
      "                                            coef  std err       t  P>|t|\n",
      "OBRIGAÇÃO_FINAL_POR_SALA                  1.1892    0.725   1.641  0.102\n",
      "CUMP_QUADRATIC                           19.8812   26.786   0.742  0.458\n",
      "OBRIGAÇÃO_FINAL_POR_SALA:CUMP_QUADRATIC  -0.6175    0.860  -0.718  0.473\n",
      "DIAS_FUNCIONAMENTO                       31.6792    2.692  11.766  0.000\n",
      "\n",
      "\n",
      "Reg_group_weighted 97, FOREIGN, weighting function CUMP_QUADRATIC:\n",
      "                                            coef  std err       t  P>|t|\n",
      "OBRIGAÇÃO_FINAL_POR_SALA                  1.5013    0.730   2.057  0.040\n",
      "CUMP_QUADRATIC                           26.5561   26.986   0.984  0.326\n",
      "OBRIGAÇÃO_FINAL_POR_SALA:CUMP_QUADRATIC  -1.1392    0.867  -1.314  0.190\n",
      "DIAS_FUNCIONAMENTO                       28.2104    2.712  10.401  0.000\n",
      "\n",
      "\n",
      "Reg_group_weighted 98, BRAZILIAN, weighting function CUMP_QUADRATIC:\n",
      "                                           coef  std err      t  P>|t|\n",
      "OBRIGAÇÃO_FINAL_POR_SALA                -0.3121    0.392 -0.796  0.427\n",
      "CUMP_QUADRATIC                          -6.6749   14.502 -0.460  0.646\n",
      "OBRIGAÇÃO_FINAL_POR_SALA:CUMP_QUADRATIC  0.5216    0.466  1.120  0.263\n",
      "DIAS_FUNCIONAMENTO                       3.4689    1.458  2.380  0.018\n",
      "\n",
      "\n",
      "Reg_group_weighted 99, ALL, weighting function CUMP_NORMALIZADO:\n",
      "                                              coef  std err       t  P>|t|\n",
      "OBRIGAÇÃO_FINAL_POR_SALA                    1.3901    1.354   1.027  0.305\n",
      "CUMP_NORMALIZADO                           33.3243  106.401   0.313  0.754\n",
      "OBRIGAÇÃO_FINAL_POR_SALA:CUMP_NORMALIZADO  -1.7379    3.719  -0.467  0.641\n",
      "DIAS_FUNCIONAMENTO                         31.7538    2.691  11.798  0.000\n",
      "\n",
      "\n",
      "Reg_group_weighted 100, FOREIGN, weighting function CUMP_NORMALIZADO:\n",
      "                                              coef  std err       t  P>|t|\n",
      "OBRIGAÇÃO_FINAL_POR_SALA                    1.9172    1.365   1.405  0.161\n",
      "CUMP_NORMALIZADO                           66.2504  107.255   0.618  0.537\n",
      "OBRIGAÇÃO_FINAL_POR_SALA:CUMP_NORMALIZADO  -3.5866    3.749  -0.957  0.339\n",
      "DIAS_FUNCIONAMENTO                         28.3163    2.713  10.437  0.000\n",
      "\n",
      "\n",
      "Reg_group_weighted 101, BRAZILIAN, weighting function CUMP_NORMALIZADO:\n",
      "                                              coef  std err      t  P>|t|\n",
      "OBRIGAÇÃO_FINAL_POR_SALA                   -0.5272    0.734 -0.718  0.473\n",
      "CUMP_NORMALIZADO                          -32.9260   57.715 -0.570  0.569\n",
      "OBRIGAÇÃO_FINAL_POR_SALA:CUMP_NORMALIZADO   1.8487    2.017  0.916  0.360\n",
      "DIAS_FUNCIONAMENTO                          3.4375    1.460  2.355  0.019\n",
      "\n",
      "\n",
      "Reg_group_weighted 102, ALL, weighting function CUMP_LINEAR:\n",
      "                                         coef  std err       t  P>|t|\n",
      "OBRIGAÇÃO_FINAL_POR_SALA               1.2736    0.606   2.102  0.036\n",
      "CUMP_LINEAR                           23.6672   28.594   0.828  0.408\n",
      "OBRIGAÇÃO_FINAL_POR_SALA:CUMP_LINEAR  -0.8263    0.838  -0.986  0.325\n",
      "DIAS_FUNCIONAMENTO                    31.6424    2.690  11.763  0.000\n",
      "\n",
      "\n",
      "Reg_group_weighted 103, FOREIGN, weighting function CUMP_LINEAR:\n",
      "                                         coef  std err       t  P>|t|\n",
      "OBRIGAÇÃO_FINAL_POR_SALA               1.6908    0.608   2.779  0.006\n",
      "CUMP_LINEAR                           36.2801   28.713   1.264  0.207\n",
      "OBRIGAÇÃO_FINAL_POR_SALA:CUMP_LINEAR  -1.5933    0.841  -1.893  0.059\n",
      "DIAS_FUNCIONAMENTO                    28.1154    2.701  10.408  0.000\n",
      "\n",
      "\n",
      "Reg_group_weighted 104, BRAZILIAN, weighting function CUMP_LINEAR:\n",
      "                                         coef  std err      t  P>|t|\n",
      "OBRIGAÇÃO_FINAL_POR_SALA              -0.4172    0.327 -1.277  0.203\n",
      "CUMP_LINEAR                          -12.6129   15.425 -0.818  0.414\n",
      "OBRIGAÇÃO_FINAL_POR_SALA:CUMP_LINEAR   0.7670    0.452  1.697  0.091\n",
      "DIAS_FUNCIONAMENTO                     3.5270    1.451  2.431  0.016\n",
      "\n",
      "\n",
      "Reg_group_weighted 105, ALL, weighting function CUMP_TRIWEIGHT:\n",
      "                                            coef  std err       t  P>|t|\n",
      "OBRIGAÇÃO_FINAL_POR_SALA                  1.2736    0.606   2.102  0.036\n",
      "CUMP_TRIWEIGHT                           23.6672   28.594   0.828  0.408\n",
      "OBRIGAÇÃO_FINAL_POR_SALA:CUMP_TRIWEIGHT  -0.8263    0.838  -0.986  0.325\n",
      "DIAS_FUNCIONAMENTO                       31.6424    2.690  11.763  0.000\n",
      "\n",
      "\n",
      "Reg_group_weighted 106, FOREIGN, weighting function CUMP_TRIWEIGHT:\n",
      "                                            coef  std err       t  P>|t|\n",
      "OBRIGAÇÃO_FINAL_POR_SALA                  1.6908    0.608   2.779  0.006\n",
      "CUMP_TRIWEIGHT                           36.2801   28.713   1.264  0.207\n",
      "OBRIGAÇÃO_FINAL_POR_SALA:CUMP_TRIWEIGHT  -1.5933    0.841  -1.893  0.059\n",
      "DIAS_FUNCIONAMENTO                       28.1154    2.701  10.408  0.000\n",
      "\n",
      "\n",
      "Reg_group_weighted 107, BRAZILIAN, weighting function CUMP_TRIWEIGHT:\n",
      "                                            coef  std err      t  P>|t|\n",
      "OBRIGAÇÃO_FINAL_POR_SALA                 -0.4172    0.327 -1.277  0.203\n",
      "CUMP_TRIWEIGHT                          -12.6129   15.425 -0.818  0.414\n",
      "OBRIGAÇÃO_FINAL_POR_SALA:CUMP_TRIWEIGHT   0.7670    0.452  1.697  0.091\n",
      "DIAS_FUNCIONAMENTO                        3.5270    1.451  2.431  0.016\n",
      "\n",
      "\n"
     ]
    }
   ],
   "source": [
    "works = ['ALL', 'FOREIGN', 'BRAZILIAN']\n",
    "\n",
    "for i in range(last_g_count, g_count):\n",
    "    print(f'Reg_group_weighted {i}, {works[i%3]}, weighting function {weight_funcs[(i-last_g_count)//3]}:')\n",
    "    print(pd.read_html(group_weighted[f'reg_gw{i}'].summary().\n",
    "                       tables[1].as_html(),header=0,index_col=0)[0].iloc[-4:,:-2])\n",
    "    print('\\n')"
   ]
  },
  {
   "cell_type": "markdown",
   "metadata": {},
   "source": [
    "##### 2017-2018"
   ]
  },
  {
   "cell_type": "code",
   "execution_count": 66,
   "metadata": {
    "ExecuteTime": {
     "end_time": "2021-07-20T00:52:34.243089Z",
     "start_time": "2021-07-20T00:52:33.799559Z"
    }
   },
   "outputs": [],
   "source": [
    "last_g_count = g_count\n",
    "\n",
    "for f in weight_funcs:\n",
    "    for form in [f1,f2,f3]:\n",
    "    # adjust formula as we run through the weighting funcs\n",
    "        formul = form + f'~ OBRIGAÇÃO_FINAL_POR_SALA*{f} + DIAS_FUNCIONAMENTO + C(REGISTRO_GRUPO) + C(ANO_CINEMATOGRAFICO)'\n",
    "        group_weighted[f'reg_gw{g_count}'] = smf.ols(formula = formul, data=gtds_1718).fit()\n",
    "        g_count += 1"
   ]
  },
  {
   "cell_type": "code",
   "execution_count": 67,
   "metadata": {
    "ExecuteTime": {
     "end_time": "2021-07-20T00:52:36.616587Z",
     "start_time": "2021-07-20T00:52:35.271507Z"
    },
    "scrolled": true
   },
   "outputs": [
    {
     "name": "stdout",
     "output_type": "stream",
     "text": [
      "Reg_group_weighted 108, ALL, weighting function CUMP_QUADRATIC:\n",
      "                                            coef  std err      t  P>|t|\n",
      "OBRIGAÇÃO_FINAL_POR_SALA                  1.7160    0.674  2.546  0.012\n",
      "CUMP_QUADRATIC                           15.4410   31.361  0.492  0.623\n",
      "OBRIGAÇÃO_FINAL_POR_SALA:CUMP_QUADRATIC  -0.6815    1.030 -0.662  0.509\n",
      "DIAS_FUNCIONAMENTO                       42.9599    4.394  9.776  0.000\n",
      "\n",
      "\n",
      "Reg_group_weighted 109, FOREIGN, weighting function CUMP_QUADRATIC:\n",
      "                                            coef  std err      t  P>|t|\n",
      "OBRIGAÇÃO_FINAL_POR_SALA                  1.9900    0.829  2.400  0.017\n",
      "CUMP_QUADRATIC                           -2.6834   38.584 -0.070  0.945\n",
      "OBRIGAÇÃO_FINAL_POR_SALA:CUMP_QUADRATIC  -0.2983    1.267 -0.235  0.814\n",
      "DIAS_FUNCIONAMENTO                       41.4557    5.406  7.668  0.000\n",
      "\n",
      "\n",
      "Reg_group_weighted 110, BRAZILIAN, weighting function CUMP_QUADRATIC:\n",
      "                                            coef  std err      t  P>|t|\n",
      "OBRIGAÇÃO_FINAL_POR_SALA                 -0.2740    0.450 -0.609  0.544\n",
      "CUMP_QUADRATIC                           18.1245   20.946  0.865  0.388\n",
      "OBRIGAÇÃO_FINAL_POR_SALA:CUMP_QUADRATIC  -0.3832    0.688 -0.557  0.578\n",
      "DIAS_FUNCIONAMENTO                        1.5042    2.935  0.513  0.609\n",
      "\n",
      "\n",
      "Reg_group_weighted 111, ALL, weighting function CUMP_NORMALIZADO:\n",
      "                                              coef  std err       t  P>|t|\n",
      "OBRIGAÇÃO_FINAL_POR_SALA                    1.7491    1.279   1.367  0.173\n",
      "CUMP_NORMALIZADO                          -27.9292  116.187  -0.240  0.810\n",
      "OBRIGAÇÃO_FINAL_POR_SALA:CUMP_NORMALIZADO  -0.8594    4.085  -0.210  0.834\n",
      "DIAS_FUNCIONAMENTO                         43.4901    4.348  10.001  0.000\n",
      "\n",
      "\n",
      "Reg_group_weighted 112, FOREIGN, weighting function CUMP_NORMALIZADO:\n",
      "                                              coef  std err      t  P>|t|\n",
      "OBRIGAÇÃO_FINAL_POR_SALA                    1.8288    1.576  1.161  0.247\n",
      "CUMP_NORMALIZADO                          -52.9264  143.134 -0.370  0.712\n",
      "OBRIGAÇÃO_FINAL_POR_SALA:CUMP_NORMALIZADO   0.1580    5.032  0.031  0.975\n",
      "DIAS_FUNCIONAMENTO                         41.7426    5.357  7.792  0.000\n",
      "\n",
      "\n",
      "Reg_group_weighted 113, BRAZILIAN, weighting function CUMP_NORMALIZADO:\n",
      "                                              coef  std err      t  P>|t|\n",
      "OBRIGAÇÃO_FINAL_POR_SALA                   -0.0797    0.858 -0.093  0.926\n",
      "CUMP_NORMALIZADO                           24.9971   77.909  0.321  0.749\n",
      "OBRIGAÇÃO_FINAL_POR_SALA:CUMP_NORMALIZADO  -1.0174    2.739 -0.371  0.711\n",
      "DIAS_FUNCIONAMENTO                          1.7475    2.916  0.599  0.550\n",
      "\n",
      "\n",
      "Reg_group_weighted 114, ALL, weighting function CUMP_LINEAR:\n",
      "                                         coef  std err      t  P>|t|\n",
      "OBRIGAÇÃO_FINAL_POR_SALA               1.8533    0.600  3.090  0.002\n",
      "CUMP_LINEAR                           34.1201   33.492  1.019  0.310\n",
      "OBRIGAÇÃO_FINAL_POR_SALA:CUMP_LINEAR  -1.3387    1.021 -1.311  0.191\n",
      "DIAS_FUNCIONAMENTO                    42.4629    4.357  9.746  0.000\n",
      "\n",
      "\n",
      "Reg_group_weighted 115, FOREIGN, weighting function CUMP_LINEAR:\n",
      "                                         coef  std err      t  P>|t|\n",
      "OBRIGAÇÃO_FINAL_POR_SALA               2.1900    0.739  2.965  0.003\n",
      "CUMP_LINEAR                           17.7151   41.248  0.429  0.668\n",
      "OBRIGAÇÃO_FINAL_POR_SALA:CUMP_LINEAR  -1.0621    1.257 -0.845  0.399\n",
      "DIAS_FUNCIONAMENTO                    40.8043    5.366  7.605  0.000\n",
      "\n",
      "\n",
      "Reg_group_weighted 116, BRAZILIAN, weighting function CUMP_LINEAR:\n",
      "                                         coef  std err      t  P>|t|\n",
      "OBRIGAÇÃO_FINAL_POR_SALA              -0.3368    0.402 -0.837  0.404\n",
      "CUMP_LINEAR                           16.4051   22.461  0.730  0.466\n",
      "OBRIGAÇÃO_FINAL_POR_SALA:CUMP_LINEAR  -0.2765    0.685 -0.404  0.687\n",
      "DIAS_FUNCIONAMENTO                     1.6586    2.922  0.568  0.571\n",
      "\n",
      "\n",
      "Reg_group_weighted 117, ALL, weighting function CUMP_TRIWEIGHT:\n",
      "                                            coef  std err      t  P>|t|\n",
      "OBRIGAÇÃO_FINAL_POR_SALA                  1.8533    0.600  3.090  0.002\n",
      "CUMP_TRIWEIGHT                           34.1201   33.492  1.019  0.310\n",
      "OBRIGAÇÃO_FINAL_POR_SALA:CUMP_TRIWEIGHT  -1.3387    1.021 -1.311  0.191\n",
      "DIAS_FUNCIONAMENTO                       42.4629    4.357  9.746  0.000\n",
      "\n",
      "\n",
      "Reg_group_weighted 118, FOREIGN, weighting function CUMP_TRIWEIGHT:\n",
      "                                            coef  std err      t  P>|t|\n",
      "OBRIGAÇÃO_FINAL_POR_SALA                  2.1900    0.739  2.965  0.003\n",
      "CUMP_TRIWEIGHT                           17.7151   41.248  0.429  0.668\n",
      "OBRIGAÇÃO_FINAL_POR_SALA:CUMP_TRIWEIGHT  -1.0621    1.257 -0.845  0.399\n",
      "DIAS_FUNCIONAMENTO                       40.8043    5.366  7.605  0.000\n",
      "\n",
      "\n",
      "Reg_group_weighted 119, BRAZILIAN, weighting function CUMP_TRIWEIGHT:\n",
      "                                            coef  std err      t  P>|t|\n",
      "OBRIGAÇÃO_FINAL_POR_SALA                 -0.3368    0.402 -0.837  0.404\n",
      "CUMP_TRIWEIGHT                           16.4051   22.461  0.730  0.466\n",
      "OBRIGAÇÃO_FINAL_POR_SALA:CUMP_TRIWEIGHT  -0.2765    0.685 -0.404  0.687\n",
      "DIAS_FUNCIONAMENTO                        1.6586    2.922  0.568  0.571\n",
      "\n",
      "\n"
     ]
    }
   ],
   "source": [
    "works = ['ALL', 'FOREIGN', 'BRAZILIAN']\n",
    "\n",
    "for i in range(last_g_count, g_count):\n",
    "    print(f'Reg_group_weighted {i}, {works[i%3]}, weighting function {weight_funcs[(i-last_g_count)//3]}:')\n",
    "    print(pd.read_html(group_weighted[f'reg_gw{i}'].summary().\n",
    "                       tables[1].as_html(),header=0,index_col=0)[0].iloc[-4:,:-2])\n",
    "    print('\\n')"
   ]
  },
  {
   "cell_type": "markdown",
   "metadata": {},
   "source": [
    "#### Without entity fixed-effects"
   ]
  },
  {
   "cell_type": "markdown",
   "metadata": {},
   "source": [
    "##### 2017-2019"
   ]
  },
  {
   "cell_type": "code",
   "execution_count": 68,
   "metadata": {
    "ExecuteTime": {
     "end_time": "2021-07-20T01:01:57.885976Z",
     "start_time": "2021-07-20T01:01:57.622260Z"
    }
   },
   "outputs": [],
   "source": [
    "last_g_count = g_count\n",
    "\n",
    "for f in weight_funcs:\n",
    "    for form in [f1,f2,f3]:\n",
    "    # adjust formula as we run through the weighting funcs\n",
    "        formul = form + f'~ OBRIGAÇÃO_FINAL_POR_SALA*{f} + DIAS_FUNCIONAMENTO + SALAS_GRUPO_INFERIDO + ASSENTOS_GRUPO_INFERIDO + C(ANO_CINEMATOGRAFICO)'\n",
    "        group_weighted[f'reg_gw{g_count}'] = smf.ols(formula = formul, data=gtds_1719).fit()\n",
    "        g_count += 1"
   ]
  },
  {
   "cell_type": "code",
   "execution_count": 70,
   "metadata": {
    "ExecuteTime": {
     "end_time": "2021-07-20T01:02:07.749676Z",
     "start_time": "2021-07-20T01:02:07.550443Z"
    }
   },
   "outputs": [
    {
     "name": "stdout",
     "output_type": "stream",
     "text": [
      "Reg_group_weighted 120, ALL, weighting function CUMP_QUADRATIC:\n",
      "                                            coef  std err       t  P>|t|\n",
      "OBRIGAÇÃO_FINAL_POR_SALA                 -0.4483    1.255  -0.357  0.721\n",
      "CUMP_QUADRATIC                          -70.2470   45.039  -1.560  0.119\n",
      "OBRIGAÇÃO_FINAL_POR_SALA:CUMP_QUADRATIC   3.1479    1.477   2.132  0.033\n",
      "DIAS_FUNCIONAMENTO                       23.5029    1.983  11.852  0.000\n",
      "SALAS_GRUPO_INFERIDO                     17.0420    1.226  13.900  0.000\n",
      "ASSENTOS_GRUPO_INFERIDO                  -0.0130    0.005  -2.580  0.010\n",
      "\n",
      "\n",
      "Reg_group_weighted 121, FOREIGN, weighting function CUMP_QUADRATIC:\n",
      "                                            coef  std err       t  P>|t|\n",
      "OBRIGAÇÃO_FINAL_POR_SALA                  0.5431    0.853   0.637  0.525\n",
      "CUMP_QUADRATIC                          -33.0673   30.624  -1.080  0.281\n",
      "OBRIGAÇÃO_FINAL_POR_SALA:CUMP_QUADRATIC   1.5944    1.004   1.588  0.113\n",
      "DIAS_FUNCIONAMENTO                       20.2578    1.348  15.024  0.000\n",
      "SALAS_GRUPO_INFERIDO                     14.0545    0.834  16.859  0.000\n",
      "ASSENTOS_GRUPO_INFERIDO                  -0.0136    0.003  -3.949  0.000\n",
      "\n",
      "\n",
      "Reg_group_weighted 122, BRAZILIAN, weighting function CUMP_QUADRATIC:\n",
      "                                            coef  std err      t  P>|t|\n",
      "OBRIGAÇÃO_FINAL_POR_SALA                 -0.9914    0.570 -1.738  0.083\n",
      "CUMP_QUADRATIC                          -37.1798   20.475 -1.816  0.070\n",
      "OBRIGAÇÃO_FINAL_POR_SALA:CUMP_QUADRATIC   1.5536    0.671  2.314  0.021\n",
      "DIAS_FUNCIONAMENTO                        3.2451    0.902  3.600  0.000\n",
      "SALAS_GRUPO_INFERIDO                      2.9876    0.557  5.360  0.000\n",
      "ASSENTOS_GRUPO_INFERIDO                   0.0005    0.002  0.230  0.818\n",
      "\n",
      "\n",
      "Reg_group_weighted 123, ALL, weighting function CUMP_NORMALIZADO:\n",
      "                                               coef  std err       t  P>|t|\n",
      "OBRIGAÇÃO_FINAL_POR_SALA                    -1.9562    2.459  -0.796  0.427\n",
      "CUMP_NORMALIZADO                          -298.8919  189.207  -1.580  0.115\n",
      "OBRIGAÇÃO_FINAL_POR_SALA:CUMP_NORMALIZADO   11.5440    6.710   1.720  0.086\n",
      "DIAS_FUNCIONAMENTO                          23.5253    1.982  11.868  0.000\n",
      "SALAS_GRUPO_INFERIDO                        17.1313    1.225  13.982  0.000\n",
      "ASSENTOS_GRUPO_INFERIDO                     -0.0134    0.005  -2.656  0.008\n",
      "\n",
      "\n",
      "Reg_group_weighted 124, FOREIGN, weighting function CUMP_NORMALIZADO:\n",
      "                                               coef  std err       t  P>|t|\n",
      "OBRIGAÇÃO_FINAL_POR_SALA                    -0.1470    1.671  -0.088  0.930\n",
      "CUMP_NORMALIZADO                          -113.5106  128.555  -0.883  0.378\n",
      "OBRIGAÇÃO_FINAL_POR_SALA:CUMP_NORMALIZADO    5.5193    4.559   1.211  0.227\n",
      "DIAS_FUNCIONAMENTO                          20.2392    1.347  15.028  0.000\n",
      "SALAS_GRUPO_INFERIDO                        14.1166    0.832  16.957  0.000\n",
      "ASSENTOS_GRUPO_INFERIDO                     -0.0138    0.003  -4.024  0.000\n",
      "\n",
      "\n",
      "Reg_group_weighted 125, BRAZILIAN, weighting function CUMP_NORMALIZADO:\n",
      "                                               coef  std err      t  P>|t|\n",
      "OBRIGAÇÃO_FINAL_POR_SALA                    -1.8091    1.117 -1.620  0.106\n",
      "CUMP_NORMALIZADO                          -185.3813   85.931 -2.157  0.031\n",
      "OBRIGAÇÃO_FINAL_POR_SALA:CUMP_NORMALIZADO    6.0247    3.048  1.977  0.048\n",
      "DIAS_FUNCIONAMENTO                           3.2861    0.900  3.650  0.000\n",
      "SALAS_GRUPO_INFERIDO                         3.0148    0.556  5.418  0.000\n",
      "ASSENTOS_GRUPO_INFERIDO                      0.0004    0.002  0.172  0.864\n",
      "\n",
      "\n",
      "Reg_group_weighted 126, ALL, weighting function CUMP_LINEAR:\n",
      "                                          coef  std err       t  P>|t|\n",
      "OBRIGAÇÃO_FINAL_POR_SALA               -0.8702    1.018  -0.854  0.393\n",
      "CUMP_LINEAR                          -102.3612   47.875  -2.138  0.033\n",
      "OBRIGAÇÃO_FINAL_POR_SALA:CUMP_LINEAR    4.3533    1.417   3.072  0.002\n",
      "DIAS_FUNCIONAMENTO                     23.8520    1.977  12.064  0.000\n",
      "SALAS_GRUPO_INFERIDO                   16.7083    1.226  13.624  0.000\n",
      "ASSENTOS_GRUPO_INFERIDO                -0.0119    0.005  -2.350  0.019\n",
      "\n",
      "\n",
      "Reg_group_weighted 127, FOREIGN, weighting function CUMP_LINEAR:\n",
      "                                         coef  std err       t  P>|t|\n",
      "OBRIGAÇÃO_FINAL_POR_SALA               0.4201    0.695   0.605  0.545\n",
      "CUMP_LINEAR                          -49.5797   32.652  -1.518  0.129\n",
      "OBRIGAÇÃO_FINAL_POR_SALA:CUMP_LINEAR   2.1139    0.967   2.187  0.029\n",
      "DIAS_FUNCIONAMENTO                    20.4450    1.348  15.162  0.000\n",
      "SALAS_GRUPO_INFERIDO                  13.8959    0.836  16.614  0.000\n",
      "ASSENTOS_GRUPO_INFERIDO               -0.0130    0.003  -3.783  0.000\n",
      "\n",
      "\n",
      "Reg_group_weighted 128, BRAZILIAN, weighting function CUMP_LINEAR:\n",
      "                                         coef  std err      t  P>|t|\n",
      "OBRIGAÇÃO_FINAL_POR_SALA              -1.2903    0.462 -2.793  0.005\n",
      "CUMP_LINEAR                          -52.7815   21.714 -2.431  0.015\n",
      "OBRIGAÇÃO_FINAL_POR_SALA:CUMP_LINEAR   2.2394    0.643  3.484  0.001\n",
      "DIAS_FUNCIONAMENTO                     3.4070    0.897  3.799  0.000\n",
      "SALAS_GRUPO_INFERIDO                   2.8124    0.556  5.056  0.000\n",
      "ASSENTOS_GRUPO_INFERIDO                0.0012    0.002  0.507  0.612\n",
      "\n",
      "\n",
      "Reg_group_weighted 129, ALL, weighting function CUMP_TRIWEIGHT:\n",
      "                                             coef  std err       t  P>|t|\n",
      "OBRIGAÇÃO_FINAL_POR_SALA                  -0.8702    1.018  -0.854  0.393\n",
      "CUMP_TRIWEIGHT                          -102.3612   47.875  -2.138  0.033\n",
      "OBRIGAÇÃO_FINAL_POR_SALA:CUMP_TRIWEIGHT    4.3533    1.417   3.072  0.002\n",
      "DIAS_FUNCIONAMENTO                        23.8520    1.977  12.064  0.000\n",
      "SALAS_GRUPO_INFERIDO                      16.7083    1.226  13.624  0.000\n",
      "ASSENTOS_GRUPO_INFERIDO                   -0.0119    0.005  -2.350  0.019\n",
      "\n",
      "\n",
      "Reg_group_weighted 130, FOREIGN, weighting function CUMP_TRIWEIGHT:\n",
      "                                            coef  std err       t  P>|t|\n",
      "OBRIGAÇÃO_FINAL_POR_SALA                  0.4201    0.695   0.605  0.545\n",
      "CUMP_TRIWEIGHT                          -49.5797   32.652  -1.518  0.129\n",
      "OBRIGAÇÃO_FINAL_POR_SALA:CUMP_TRIWEIGHT   2.1139    0.967   2.187  0.029\n",
      "DIAS_FUNCIONAMENTO                       20.4450    1.348  15.162  0.000\n",
      "SALAS_GRUPO_INFERIDO                     13.8959    0.836  16.614  0.000\n",
      "ASSENTOS_GRUPO_INFERIDO                  -0.0130    0.003  -3.783  0.000\n",
      "\n",
      "\n",
      "Reg_group_weighted 131, BRAZILIAN, weighting function CUMP_TRIWEIGHT:\n",
      "                                            coef  std err      t  P>|t|\n",
      "OBRIGAÇÃO_FINAL_POR_SALA                 -1.2903    0.462 -2.793  0.005\n",
      "CUMP_TRIWEIGHT                          -52.7815   21.714 -2.431  0.015\n",
      "OBRIGAÇÃO_FINAL_POR_SALA:CUMP_TRIWEIGHT   2.2394    0.643  3.484  0.001\n",
      "DIAS_FUNCIONAMENTO                        3.4070    0.897  3.799  0.000\n",
      "SALAS_GRUPO_INFERIDO                      2.8124    0.556  5.056  0.000\n",
      "ASSENTOS_GRUPO_INFERIDO                   0.0012    0.002  0.507  0.612\n",
      "\n",
      "\n"
     ]
    }
   ],
   "source": [
    "works = ['ALL', 'FOREIGN', 'BRAZILIAN']\n",
    "\n",
    "for i in range(last_g_count, g_count):\n",
    "    print(f'Reg_group_weighted {i}, {works[i%3]}, weighting function {weight_funcs[(i-last_g_count)//3]}:')\n",
    "    print(pd.read_html(group_weighted[f'reg_gw{i}'].summary().\n",
    "                       tables[1].as_html(),header=0,index_col=0)[0].iloc[-6:,:-2])\n",
    "    print('\\n')"
   ]
  },
  {
   "cell_type": "markdown",
   "metadata": {},
   "source": [
    "##### 2017-2018"
   ]
  },
  {
   "cell_type": "code",
   "execution_count": 71,
   "metadata": {
    "ExecuteTime": {
     "end_time": "2021-07-20T01:02:17.715633Z",
     "start_time": "2021-07-20T01:02:17.469760Z"
    }
   },
   "outputs": [],
   "source": [
    "last_g_count = g_count\n",
    "\n",
    "for f in weight_funcs:\n",
    "    for form in [f1,f2,f3]:\n",
    "    # adjust formula as we run through the weighting funcs\n",
    "        formul = form + f'~ OBRIGAÇÃO_FINAL_POR_SALA*{f} + DIAS_FUNCIONAMENTO + SALAS_GRUPO_INFERIDO + ASSENTOS_GRUPO_INFERIDO + C(ANO_CINEMATOGRAFICO)'\n",
    "        group_weighted[f'reg_gw{g_count}'] = smf.ols(formula = formul, data=gtds_1718).fit()\n",
    "        g_count += 1"
   ]
  },
  {
   "cell_type": "code",
   "execution_count": 72,
   "metadata": {
    "ExecuteTime": {
     "end_time": "2021-07-20T01:02:21.084795Z",
     "start_time": "2021-07-20T01:02:20.861792Z"
    }
   },
   "outputs": [
    {
     "name": "stdout",
     "output_type": "stream",
     "text": [
      "Reg_group_weighted 132, ALL, weighting function CUMP_QUADRATIC:\n",
      "                                            coef  std err       t  P>|t|\n",
      "OBRIGAÇÃO_FINAL_POR_SALA                 -0.2581    1.234  -0.209  0.834\n",
      "CUMP_QUADRATIC                          -50.2517   44.908  -1.119  0.264\n",
      "OBRIGAÇÃO_FINAL_POR_SALA:CUMP_QUADRATIC   2.2395    1.477   1.516  0.130\n",
      "DIAS_FUNCIONAMENTO                       28.2939    2.435  11.621  0.000\n",
      "SALAS_GRUPO_INFERIDO                     19.4765    1.607  12.119  0.000\n",
      "ASSENTOS_GRUPO_INFERIDO                  -0.0263    0.007  -3.966  0.000\n",
      "\n",
      "\n",
      "Reg_group_weighted 133, FOREIGN, weighting function CUMP_QUADRATIC:\n",
      "                                            coef  std err       t  P>|t|\n",
      "OBRIGAÇÃO_FINAL_POR_SALA                  0.6167    0.800   0.771  0.441\n",
      "CUMP_QUADRATIC                          -23.4281   29.110  -0.805  0.421\n",
      "OBRIGAÇÃO_FINAL_POR_SALA:CUMP_QUADRATIC   1.1113    0.958   1.160  0.247\n",
      "DIAS_FUNCIONAMENTO                       24.1072    1.578  15.275  0.000\n",
      "SALAS_GRUPO_INFERIDO                     14.6132    1.042  14.028  0.000\n",
      "ASSENTOS_GRUPO_INFERIDO                  -0.0179    0.004  -4.168  0.000\n",
      "\n",
      "\n",
      "Reg_group_weighted 134, BRAZILIAN, weighting function CUMP_QUADRATIC:\n",
      "                                            coef  std err      t  P>|t|\n",
      "OBRIGAÇÃO_FINAL_POR_SALA                 -0.8748    0.584 -1.499  0.135\n",
      "CUMP_QUADRATIC                          -26.8236   21.243 -1.263  0.207\n",
      "OBRIGAÇÃO_FINAL_POR_SALA:CUMP_QUADRATIC   1.1281    0.699  1.614  0.107\n",
      "DIAS_FUNCIONAMENTO                        4.1867    1.152  3.635  0.000\n",
      "SALAS_GRUPO_INFERIDO                      4.8632    0.760  6.397  0.000\n",
      "ASSENTOS_GRUPO_INFERIDO                  -0.0084    0.003 -2.672  0.008\n",
      "\n",
      "\n",
      "Reg_group_weighted 135, ALL, weighting function CUMP_NORMALIZADO:\n",
      "                                               coef  std err       t  P>|t|\n",
      "OBRIGAÇÃO_FINAL_POR_SALA                    -1.0558    2.427  -0.435  0.664\n",
      "CUMP_NORMALIZADO                          -204.7850  188.160  -1.088  0.277\n",
      "OBRIGAÇÃO_FINAL_POR_SALA:CUMP_NORMALIZADO    7.4707    6.686   1.117  0.264\n",
      "DIAS_FUNCIONAMENTO                          28.3303    2.430  11.658  0.000\n",
      "SALAS_GRUPO_INFERIDO                        19.6335    1.601  12.262  0.000\n",
      "ASSENTOS_GRUPO_INFERIDO                     -0.0270    0.007  -4.078  0.000\n",
      "\n",
      "\n",
      "Reg_group_weighted 136, FOREIGN, weighting function CUMP_NORMALIZADO:\n",
      "                                              coef  std err       t  P>|t|\n",
      "OBRIGAÇÃO_FINAL_POR_SALA                    0.3238    1.573   0.206  0.837\n",
      "CUMP_NORMALIZADO                          -64.6456  121.895  -0.530  0.596\n",
      "OBRIGAÇÃO_FINAL_POR_SALA:CUMP_NORMALIZADO   3.2850    4.331   0.758  0.449\n",
      "DIAS_FUNCIONAMENTO                         24.0723    1.574  15.291  0.000\n",
      "SALAS_GRUPO_INFERIDO                       14.7245    1.037  14.196  0.000\n",
      "ASSENTOS_GRUPO_INFERIDO                    -0.0184    0.004  -4.286  0.000\n",
      "\n",
      "\n",
      "Reg_group_weighted 137, BRAZILIAN, weighting function CUMP_NORMALIZADO:\n",
      "                                               coef  std err      t  P>|t|\n",
      "OBRIGAÇÃO_FINAL_POR_SALA                    -1.3796    1.147 -1.203  0.230\n",
      "CUMP_NORMALIZADO                          -140.1394   88.875 -1.577  0.116\n",
      "OBRIGAÇÃO_FINAL_POR_SALA:CUMP_NORMALIZADO    4.1857    3.158  1.326  0.186\n",
      "DIAS_FUNCIONAMENTO                           4.2579    1.148  3.710  0.000\n",
      "SALAS_GRUPO_INFERIDO                         4.9089    0.756  6.491  0.000\n",
      "ASSENTOS_GRUPO_INFERIDO                     -0.0086    0.003 -2.756  0.006\n",
      "\n",
      "\n",
      "Reg_group_weighted 138, ALL, weighting function CUMP_LINEAR:\n",
      "                                         coef  std err       t  P>|t|\n",
      "OBRIGAÇÃO_FINAL_POR_SALA              -0.8418    1.002  -0.840  0.401\n",
      "CUMP_LINEAR                          -85.5515   47.901  -1.786  0.075\n",
      "OBRIGAÇÃO_FINAL_POR_SALA:CUMP_LINEAR   3.5848    1.429   2.509  0.013\n",
      "DIAS_FUNCIONAMENTO                    28.7672    2.429  11.845  0.000\n",
      "SALAS_GRUPO_INFERIDO                  18.8739    1.616  11.676  0.000\n",
      "ASSENTOS_GRUPO_INFERIDO               -0.0241    0.007  -3.618  0.000\n",
      "\n",
      "\n",
      "Reg_group_weighted 139, FOREIGN, weighting function CUMP_LINEAR:\n",
      "                                         coef  std err       t  P>|t|\n",
      "OBRIGAÇÃO_FINAL_POR_SALA               0.3914    0.652   0.601  0.548\n",
      "CUMP_LINEAR                          -42.2940   31.155  -1.358  0.175\n",
      "OBRIGAÇÃO_FINAL_POR_SALA:CUMP_LINEAR   1.7252    0.929   1.857  0.064\n",
      "DIAS_FUNCIONAMENTO                    24.3624    1.580  15.424  0.000\n",
      "SALAS_GRUPO_INFERIDO                  14.3295    1.051  13.630  0.000\n",
      "ASSENTOS_GRUPO_INFERIDO               -0.0169    0.004  -3.902  0.000\n",
      "\n",
      "\n",
      "Reg_group_weighted 140, BRAZILIAN, weighting function CUMP_LINEAR:\n",
      "                                         coef  std err      t  P>|t|\n",
      "OBRIGAÇÃO_FINAL_POR_SALA              -1.2332    0.473 -2.608  0.009\n",
      "CUMP_LINEAR                          -43.2575   22.608 -1.913  0.056\n",
      "OBRIGAÇÃO_FINAL_POR_SALA:CUMP_LINEAR   1.8596    0.674  2.758  0.006\n",
      "DIAS_FUNCIONAMENTO                     4.4047    1.146  3.843  0.000\n",
      "SALAS_GRUPO_INFERIDO                   4.5444    0.763  5.957  0.000\n",
      "ASSENTOS_GRUPO_INFERIDO               -0.0072    0.003 -2.287  0.023\n",
      "\n",
      "\n",
      "Reg_group_weighted 141, ALL, weighting function CUMP_TRIWEIGHT:\n",
      "                                            coef  std err       t  P>|t|\n",
      "OBRIGAÇÃO_FINAL_POR_SALA                 -0.8418    1.002  -0.840  0.401\n",
      "CUMP_TRIWEIGHT                          -85.5515   47.901  -1.786  0.075\n",
      "OBRIGAÇÃO_FINAL_POR_SALA:CUMP_TRIWEIGHT   3.5848    1.429   2.509  0.013\n",
      "DIAS_FUNCIONAMENTO                       28.7672    2.429  11.845  0.000\n",
      "SALAS_GRUPO_INFERIDO                     18.8739    1.616  11.676  0.000\n",
      "ASSENTOS_GRUPO_INFERIDO                  -0.0241    0.007  -3.618  0.000\n",
      "\n",
      "\n",
      "Reg_group_weighted 142, FOREIGN, weighting function CUMP_TRIWEIGHT:\n",
      "                                            coef  std err       t  P>|t|\n",
      "OBRIGAÇÃO_FINAL_POR_SALA                  0.3914    0.652   0.601  0.548\n",
      "CUMP_TRIWEIGHT                          -42.2940   31.155  -1.358  0.175\n",
      "OBRIGAÇÃO_FINAL_POR_SALA:CUMP_TRIWEIGHT   1.7252    0.929   1.857  0.064\n",
      "DIAS_FUNCIONAMENTO                       24.3624    1.580  15.424  0.000\n",
      "SALAS_GRUPO_INFERIDO                     14.3295    1.051  13.630  0.000\n",
      "ASSENTOS_GRUPO_INFERIDO                  -0.0169    0.004  -3.902  0.000\n",
      "\n",
      "\n",
      "Reg_group_weighted 143, BRAZILIAN, weighting function CUMP_TRIWEIGHT:\n",
      "                                            coef  std err      t  P>|t|\n",
      "OBRIGAÇÃO_FINAL_POR_SALA                 -1.2332    0.473 -2.608  0.009\n",
      "CUMP_TRIWEIGHT                          -43.2575   22.608 -1.913  0.056\n",
      "OBRIGAÇÃO_FINAL_POR_SALA:CUMP_TRIWEIGHT   1.8596    0.674  2.758  0.006\n",
      "DIAS_FUNCIONAMENTO                        4.4047    1.146  3.843  0.000\n",
      "SALAS_GRUPO_INFERIDO                      4.5444    0.763  5.957  0.000\n",
      "ASSENTOS_GRUPO_INFERIDO                  -0.0072    0.003 -2.287  0.023\n",
      "\n",
      "\n"
     ]
    }
   ],
   "source": [
    "works = ['ALL', 'FOREIGN', 'BRAZILIAN']\n",
    "\n",
    "for i in range(last_g_count, g_count):\n",
    "    print(f'Reg_group_weighted {i}, {works[i%3]}, weighting function {weight_funcs[(i-last_g_count)//3]}:')\n",
    "    print(pd.read_html(group_weighted[f'reg_gw{i}'].summary().\n",
    "                       tables[1].as_html(),header=0,index_col=0)[0].iloc[-6:,:-2])\n",
    "    print('\\n')"
   ]
  },
  {
   "cell_type": "markdown",
   "metadata": {},
   "source": [
    "## Segmented regressions"
   ]
  },
  {
   "cell_type": "markdown",
   "metadata": {},
   "source": [
    "Define multiplex $i$ in year $t$ and title \"nationality\" (meaning all, foreign or Brazilian movie sessions) and nominal screen quota obligation $SQ$:\n",
    "\n",
    "$$ \\ln(Y_{nit}) = \\beta_0 + \\beta_1 SQ_{it} + \\theta X_{it} + \\varepsilon_{it} $$\n",
    "\n",
    "$Y$ is the interest variable that can be either Yearly Income or total public (# of moviegoers). $X_{it}$ is a vector of controls with opening days, movie theater fixed-effects and year fixed-effects. Alternatively, we also drop entity fixed-effects and use number of viewing rooms and seats per movie-theater as controls.\n",
    "\n",
    "Here, we segment regressions by complance level. Each regression comprises a bin of compliance. In addition, 2019 is excluded from all regressions."
   ]
  },
  {
   "cell_type": "markdown",
   "metadata": {},
   "source": [
    "### Preliminary: checking for correlation between compliance levels"
   ]
  },
  {
   "cell_type": "markdown",
   "metadata": {},
   "source": [
    "*One problem of segmented regressions (by compliance level) is that a movie theater may shift bins from one year to another, as a result, only one observation for said movie theater will be available for each bin, making it impossible to use fixed-effects on that particular movie theater*"
   ]
  },
  {
   "cell_type": "code",
   "execution_count": 261,
   "metadata": {
    "ExecuteTime": {
     "end_time": "2021-06-22T00:25:33.263685Z",
     "start_time": "2021-06-22T00:25:33.259674Z"
    }
   },
   "outputs": [
    {
     "data": {
      "text/plain": [
       "408"
      ]
     },
     "execution_count": 261,
     "metadata": {},
     "output_type": "execute_result"
    }
   ],
   "source": [
    "gtds_1718.shape[0]"
   ]
  },
  {
   "cell_type": "code",
   "execution_count": 262,
   "metadata": {
    "ExecuteTime": {
     "end_time": "2021-06-22T00:25:33.513548Z",
     "start_time": "2021-06-22T00:25:33.502519Z"
    }
   },
   "outputs": [
    {
     "name": "stdout",
     "output_type": "stream",
     "text": [
      "10 observations, out of 408, appear in only one of two years and can have no fixed-effects\n"
     ]
    }
   ],
   "source": [
    "# getting only movie theaters that appear in both years\n",
    "dups = gtds_1718[gtds_1718.duplicated(subset=['REGISTRO_COMPLEXO'], keep=False)]\n",
    "\n",
    "print(f'{gtds_1718.shape[0] - dups.shape[0]} observations, out of {gtds_1718.shape[0]}, appear in only one of two years and can\\\n",
    " have no fixed-effects')"
   ]
  },
  {
   "cell_type": "code",
   "execution_count": 263,
   "metadata": {
    "ExecuteTime": {
     "end_time": "2021-06-22T00:25:33.777249Z",
     "start_time": "2021-06-22T00:25:33.739170Z"
    }
   },
   "outputs": [],
   "source": [
    "# getting yearly compliance to compare both\n",
    "d_17 = dups.query('ANO_CINEMATOGRAFICO == 2017')[['REGISTRO_GRUPO','CUMPRIMENTO_PROPORCIONAL']] \n",
    "d_17.rename({'CUMPRIMENTO_PROPORCIONAL':'CUMPRIMENTO_PROPORCIONAL_2017'}, axis=1, inplace=True)\n",
    "\n",
    "d_18 = dups.query('ANO_CINEMATOGRAFICO == 2018')[['REGISTRO_GRUPO','CUMPRIMENTO_PROPORCIONAL']]\n",
    "d_18.rename({'CUMPRIMENTO_PROPORCIONAL':'CUMPRIMENTO_PROPORCIONAL_2018'}, axis=1, inplace=True)\n",
    "\n",
    "# merging both\n",
    "compliance_comparison = pd.merge(d_17,d_18,on='REGISTRO_GRUPO')"
   ]
  },
  {
   "cell_type": "code",
   "execution_count": 264,
   "metadata": {
    "ExecuteTime": {
     "end_time": "2021-06-22T00:25:33.967955Z",
     "start_time": "2021-06-22T00:25:33.954941Z"
    }
   },
   "outputs": [
    {
     "data": {
      "text/html": [
       "<div>\n",
       "<style scoped>\n",
       "    .dataframe tbody tr th:only-of-type {\n",
       "        vertical-align: middle;\n",
       "    }\n",
       "\n",
       "    .dataframe tbody tr th {\n",
       "        vertical-align: top;\n",
       "    }\n",
       "\n",
       "    .dataframe thead th {\n",
       "        text-align: right;\n",
       "    }\n",
       "</style>\n",
       "<table border=\"1\" class=\"dataframe\">\n",
       "  <thead>\n",
       "    <tr style=\"text-align: right;\">\n",
       "      <th></th>\n",
       "      <th>CUMPRIMENTO_PROPORCIONAL_2017</th>\n",
       "      <th>CUMPRIMENTO_PROPORCIONAL_2018</th>\n",
       "    </tr>\n",
       "  </thead>\n",
       "  <tbody>\n",
       "    <tr>\n",
       "      <th>CUMPRIMENTO_PROPORCIONAL_2017</th>\n",
       "      <td>1.000000</td>\n",
       "      <td>0.763376</td>\n",
       "    </tr>\n",
       "    <tr>\n",
       "      <th>CUMPRIMENTO_PROPORCIONAL_2018</th>\n",
       "      <td>0.763376</td>\n",
       "      <td>1.000000</td>\n",
       "    </tr>\n",
       "  </tbody>\n",
       "</table>\n",
       "</div>"
      ],
      "text/plain": [
       "                               CUMPRIMENTO_PROPORCIONAL_2017  \\\n",
       "CUMPRIMENTO_PROPORCIONAL_2017                       1.000000   \n",
       "CUMPRIMENTO_PROPORCIONAL_2018                       0.763376   \n",
       "\n",
       "                               CUMPRIMENTO_PROPORCIONAL_2018  \n",
       "CUMPRIMENTO_PROPORCIONAL_2017                       0.763376  \n",
       "CUMPRIMENTO_PROPORCIONAL_2018                       1.000000  "
      ]
     },
     "execution_count": 264,
     "metadata": {},
     "output_type": "execute_result"
    }
   ],
   "source": [
    "compliance_comparison.corr()\n",
    "# as one can see, correlation is 0.76 (higher than for complexes, which is only 0.55), but not particularly high"
   ]
  },
  {
   "cell_type": "code",
   "execution_count": 265,
   "metadata": {
    "ExecuteTime": {
     "end_time": "2021-06-22T00:25:34.234898Z",
     "start_time": "2021-06-22T00:25:34.229862Z"
    }
   },
   "outputs": [],
   "source": [
    "# getting absolute delta for both\n",
    "compliance_comparison['DELTA'] = np.where(\n",
    "    compliance_comparison['CUMPRIMENTO_PROPORCIONAL_2017'] >= compliance_comparison['CUMPRIMENTO_PROPORCIONAL_2018'],\n",
    "    compliance_comparison['CUMPRIMENTO_PROPORCIONAL_2017'] - compliance_comparison['CUMPRIMENTO_PROPORCIONAL_2018'],\n",
    "    compliance_comparison['CUMPRIMENTO_PROPORCIONAL_2018'] - compliance_comparison['CUMPRIMENTO_PROPORCIONAL_2017'])"
   ]
  },
  {
   "cell_type": "code",
   "execution_count": 266,
   "metadata": {
    "ExecuteTime": {
     "end_time": "2021-06-22T00:25:35.321951Z",
     "start_time": "2021-06-22T00:25:34.443156Z"
    }
   },
   "outputs": [
    {
     "data": {
      "text/plain": [
       "<matplotlib.axes._subplots.AxesSubplot at 0x25f8c0b6310>"
      ]
     },
     "execution_count": 266,
     "metadata": {},
     "output_type": "execute_result"
    },
    {
     "data": {
      "image/png": "[encoded data removed]",
      "text/plain": [
       "<Figure size 432x288 with 1 Axes>"
      ]
     },
     "metadata": {
      "needs_background": "light"
     },
     "output_type": "display_data"
    }
   ],
   "source": [
    "compliance_comparison['DELTA'].plot.hist(bins=100)"
   ]
  },
  {
   "cell_type": "code",
   "execution_count": 267,
   "metadata": {
    "ExecuteTime": {
     "end_time": "2021-06-22T00:25:35.332981Z",
     "start_time": "2021-06-22T00:25:35.323957Z"
    }
   },
   "outputs": [
    {
     "name": "stdout",
     "output_type": "stream",
     "text": [
      "0 full-time compliers represent 0.0 out of 2 consistent (0 delta) movie theaters\n",
      "1 full-time non-compliers represent 0.5 out of 2 consistent (0 delta) movie theaters\n"
     ]
    }
   ],
   "source": [
    "a = compliance_comparison[\n",
    "    (compliance_comparison.CUMPRIMENTO_PROPORCIONAL_2017 == 0)&(compliance_comparison.CUMPRIMENTO_PROPORCIONAL_2018 == 0)\n",
    "    ].shape[0]\n",
    "b = compliance_comparison[\n",
    "    (compliance_comparison.CUMPRIMENTO_PROPORCIONAL_2017 == 1)&(compliance_comparison.CUMPRIMENTO_PROPORCIONAL_2018 == 1)\n",
    "    ].shape[0]\n",
    "c = compliance_comparison[compliance_comparison.DELTA == 0].shape[0]\n",
    "\n",
    "print(f'{b} full-time compliers represent {np.round(b/c, 2)} out of {c} consistent (0 delta) movie theaters')\n",
    "print(f'{a} full-time non-compliers represent {np.round(a/c, 2)} out of {c} consistent (0 delta) movie theaters')"
   ]
  },
  {
   "cell_type": "code",
   "execution_count": 268,
   "metadata": {
    "ExecuteTime": {
     "end_time": "2021-06-22T00:25:35.372084Z",
     "start_time": "2021-06-22T00:25:35.334987Z"
    }
   },
   "outputs": [],
   "source": [
    "# checking for how many obs will be spread across diff bins\n",
    "\n",
    "bounds = {}\n",
    "\n",
    "# bounds to be used later\n",
    "bounds['b1'] = [-0.1, 0.3, 0.6, 0.9, 1.2, 1.5, 50]\n",
    "bounds['b2'] = [-0.1, 0.3, 0.5, 0.7, 0.9, 1.1, 1.3, 1.5, 50]\n",
    "bounds['b3'] = [-0.1, 0.4, 0.8, 1.2, 1.6, 50]\n",
    "bounds['b4'] = [-0.1, 0.45, 0.85, 1.25, 1.65, 50]\n",
    "bounds['b5'] = [-0.1, 0.1, 0.2, 0.3, 0.4, 0.5, 0.6, 0.7, 0.8, 0.9, 1.0, 1.1, 1.2, 1.3, 50]\n",
    "bounds['b6'] = [-0.1, 0.85, 0.95, 1.05, 1.15, 50]\n",
    "\n",
    "alpha = 'ABCDEFGHIJKLMNOPQRSTUVXZ'\n",
    "\n",
    "for i in range(1,7):\n",
    "    compliance_comparison[f'2017_B{i}'] = pd.cut(compliance_comparison.CUMPRIMENTO_PROPORCIONAL_2017, \n",
    "           bounds[f'b{i}'], labels=[alpha[i] for i in range(len(bounds[f'b{i}']) - 1)])\n",
    "    compliance_comparison[f'2018_B{i}'] = pd.cut(compliance_comparison.CUMPRIMENTO_PROPORCIONAL_2018, \n",
    "           bounds[f'b{i}'], labels=[alpha[i] for i in range(len(bounds[f'b{i}']) - 1)])"
   ]
  },
  {
   "cell_type": "code",
   "execution_count": 269,
   "metadata": {
    "ExecuteTime": {
     "end_time": "2021-06-22T00:25:35.384117Z",
     "start_time": "2021-06-22T00:25:35.374090Z"
    }
   },
   "outputs": [
    {
     "name": "stdout",
     "output_type": "stream",
     "text": [
      "For bounds B1, 124 out of 183 movie theaters will be shifted between bounds , meaning 118 out of 408 observations (or 0.29) will have FE \n",
      "\n",
      "For bounds B2, 138 out of 183 movie theaters will be shifted between bounds , meaning 90 out of 408 observations (or 0.22) will have FE \n",
      "\n",
      "For bounds B3, 109 out of 183 movie theaters will be shifted between bounds , meaning 148 out of 408 observations (or 0.36) will have FE \n",
      "\n",
      "For bounds B4, 112 out of 183 movie theaters will be shifted between bounds , meaning 142 out of 408 observations (or 0.35) will have FE \n",
      "\n",
      "For bounds B5, 156 out of 183 movie theaters will be shifted between bounds , meaning 54 out of 408 observations (or 0.13) will have FE \n",
      "\n",
      "For bounds B6, 100 out of 183 movie theaters will be shifted between bounds , meaning 166 out of 408 observations (or 0.41) will have FE \n",
      "\n"
     ]
    }
   ],
   "source": [
    "b = gtds_1718.shape[0]\n",
    "\n",
    "for i in range(1,7):\n",
    "    mts = np.where(compliance_comparison[f'2017_B{i}'] != compliance_comparison[f'2018_B{i}'], 1, 0).sum()\n",
    "    mtt = compliance_comparison.shape[0]\n",
    "    a = 2*(mtt - mts)\n",
    "    print(f'For bounds B{i}, {mts} out of {mtt} movie theaters will be shifted between bounds , meaning\\\n",
    " {a} out of {b} observations (or {np.round(a/b,2)}) will have FE \\n')"
   ]
  },
  {
   "cell_type": "markdown",
   "metadata": {},
   "source": [
    "### Dependent variable: income"
   ]
  },
  {
   "cell_type": "code",
   "execution_count": 335,
   "metadata": {
    "ExecuteTime": {
     "end_time": "2021-06-22T00:49:17.586134Z",
     "start_time": "2021-06-22T00:49:17.576127Z"
    }
   },
   "outputs": [],
   "source": [
    "seg_gregs = {} # creating dict to store regression objects\n",
    "\n",
    "count_regs = 0 # counter to automatically generate reg numbers"
   ]
  },
  {
   "cell_type": "markdown",
   "metadata": {},
   "source": [
    "#### Bounds - [0, 0.3, 0.6, 0.9, 1.2, 1.5, 50] "
   ]
  },
  {
   "cell_type": "code",
   "execution_count": 336,
   "metadata": {
    "ExecuteTime": {
     "end_time": "2021-06-22T00:49:18.211861Z",
     "start_time": "2021-06-22T00:49:17.920975Z"
    }
   },
   "outputs": [
    {
     "name": "stdout",
     "output_type": "stream",
     "text": [
      "18\n"
     ]
    }
   ],
   "source": [
    "bounds = [0, 0.3, 0.6, 0.9, 1.2, 1.5, 50] \n",
    "\n",
    "formul = 'np.log(RENDA) ~ OBRIGAÇÃO_FINAL_POR_SALA + DIAS_FUNCIONAMENTO + C(REGISTRO_GRUPO) + C(ANO_CINEMATOGRAFICO)'\n",
    "\n",
    "last_count = count_regs\n",
    "\n",
    "for i in range(len(bounds)-1):\n",
    "    seg_gregs[f'reg_seg{count_regs}'] = smf.ols(formula=formul, \n",
    "                    data = gtds_1718[gtds_1718.CUMPRIMENTO_PROPORCIONAL.between(bounds[i],bounds[i+1])]).fit()\n",
    "    count_regs += 1\n",
    "    seg_gregs[f'reg_seg{count_regs}'] = smf.ols(formula=formul, \n",
    "                    data = gest_1718[gest_1718.CUMPRIMENTO_PROPORCIONAL.between(bounds[i],bounds[i+1])]).fit()\n",
    "    count_regs += 1\n",
    "    seg_gregs[f'reg_seg{count_regs}'] = smf.ols(formula=formul, \n",
    "                    data = gbras_1718[gbras_1718.CUMPRIMENTO_PROPORCIONAL.between(bounds[i],bounds[i+1])]).fit()\n",
    "    count_regs += 1\n",
    "\n",
    "print(count_regs)"
   ]
  },
  {
   "cell_type": "code",
   "execution_count": 337,
   "metadata": {
    "ExecuteTime": {
     "end_time": "2021-06-22T00:49:18.988955Z",
     "start_time": "2021-06-22T00:49:18.213867Z"
    }
   },
   "outputs": [
    {
     "name": "stdout",
     "output_type": "stream",
     "text": [
      "Reg_seg 0, ALL: lower bound 0, higher bound 0.3\n",
      "                            coef  std err      t  P>|t|\n",
      "OBRIGAÇÃO_FINAL_POR_SALA  0.0928    0.020  4.693  0.003\n",
      "DIAS_FUNCIONAMENTO        0.3640    0.873  0.417  0.691\n",
      "\n",
      "\n",
      "Reg_seg 1, FOREIGN: lower bound 0, higher bound 0.3\n",
      "                            coef  std err      t  P>|t|\n",
      "OBRIGAÇÃO_FINAL_POR_SALA  0.0918    0.020  4.543  0.004\n",
      "DIAS_FUNCIONAMENTO        0.3286    0.892  0.369  0.725\n",
      "\n",
      "\n",
      "Reg_seg 2, BRAZILIAN: lower bound 0, higher bound 0.3\n",
      "                            coef  std err      t  P>|t|\n",
      "OBRIGAÇÃO_FINAL_POR_SALA -0.0591    0.174 -0.339  0.767\n",
      "DIAS_FUNCIONAMENTO       -2.2770    2.657 -0.857  0.482\n",
      "\n",
      "\n",
      "Reg_seg 3, ALL: lower bound 0.3, higher bound 0.6\n",
      "                            coef  std err      t  P>|t|\n",
      "OBRIGAÇÃO_FINAL_POR_SALA  0.0059    0.011  0.541  0.612\n",
      "DIAS_FUNCIONAMENTO        0.0264    0.196  0.135  0.898\n",
      "\n",
      "\n",
      "Reg_seg 4, FOREIGN: lower bound 0.3, higher bound 0.6\n",
      "                            coef  std err      t  P>|t|\n",
      "OBRIGAÇÃO_FINAL_POR_SALA  0.0044    0.011  0.421  0.692\n",
      "DIAS_FUNCIONAMENTO        0.0419    0.189  0.222  0.833\n",
      "\n",
      "\n",
      "Reg_seg 5, BRAZILIAN: lower bound 0.3, higher bound 0.6\n",
      "                            coef  std err      t  P>|t|\n",
      "OBRIGAÇÃO_FINAL_POR_SALA  0.0264    0.032  0.825  0.447\n",
      "DIAS_FUNCIONAMENTO       -0.1181    0.573 -0.206  0.845\n",
      "\n",
      "\n",
      "Reg_seg 6, ALL: lower bound 0.6, higher bound 0.9\n",
      "                            coef  std err      t  P>|t|\n",
      "OBRIGAÇÃO_FINAL_POR_SALA -0.0011    0.019 -0.060  0.954\n",
      "DIAS_FUNCIONAMENTO        0.2926    0.216  1.353  0.218\n",
      "\n",
      "\n",
      "Reg_seg 7, FOREIGN: lower bound 0.6, higher bound 0.9\n",
      "                            coef  std err      t  P>|t|\n",
      "OBRIGAÇÃO_FINAL_POR_SALA -0.0041    0.019 -0.210  0.839\n",
      "DIAS_FUNCIONAMENTO        0.2461    0.221  1.112  0.303\n",
      "\n",
      "\n",
      "Reg_seg 8, BRAZILIAN: lower bound 0.6, higher bound 0.9\n",
      "                            coef  std err      t  P>|t|\n",
      "OBRIGAÇÃO_FINAL_POR_SALA  0.0332    0.046  0.721  0.494\n",
      "DIAS_FUNCIONAMENTO        0.8969    0.528  1.698  0.133\n",
      "\n",
      "\n",
      "Reg_seg 9, ALL: lower bound 0.9, higher bound 1.2\n",
      "                            coef  std err      t  P>|t|\n",
      "OBRIGAÇÃO_FINAL_POR_SALA -0.0015    0.006 -0.255  0.801\n",
      "DIAS_FUNCIONAMENTO        0.0208    0.021  0.985  0.335\n",
      "\n",
      "\n",
      "Reg_seg 10, FOREIGN: lower bound 0.9, higher bound 1.2\n",
      "                            coef  std err      t  P>|t|\n",
      "OBRIGAÇÃO_FINAL_POR_SALA -0.0028    0.006 -0.450  0.657\n",
      "DIAS_FUNCIONAMENTO        0.0178    0.023  0.784  0.441\n",
      "\n",
      "\n",
      "Reg_seg 11, BRAZILIAN: lower bound 0.9, higher bound 1.2\n",
      "                            coef  std err      t  P>|t|\n",
      "OBRIGAÇÃO_FINAL_POR_SALA  0.0104    0.015  0.672  0.508\n",
      "DIAS_FUNCIONAMENTO        0.0487    0.056  0.875  0.390\n",
      "\n",
      "\n",
      "Reg_seg 12, ALL: lower bound 1.2, higher bound 1.5\n",
      "                            coef  std err  t  P>|t|\n",
      "OBRIGAÇÃO_FINAL_POR_SALA  0.1380      inf  0    NaN\n",
      "DIAS_FUNCIONAMENTO        0.3325      inf  0    NaN\n",
      "\n",
      "\n",
      "Reg_seg 13, FOREIGN: lower bound 1.2, higher bound 1.5\n",
      "                            coef  std err  t  P>|t|\n",
      "OBRIGAÇÃO_FINAL_POR_SALA  0.1398      inf  0    NaN\n",
      "DIAS_FUNCIONAMENTO        0.3332      inf  0    NaN\n",
      "\n",
      "\n",
      "Reg_seg 14, BRAZILIAN: lower bound 1.2, higher bound 1.5\n",
      "                            coef  std err  t  P>|t|\n",
      "OBRIGAÇÃO_FINAL_POR_SALA  0.1384      inf  0    NaN\n",
      "DIAS_FUNCIONAMENTO        0.3217      inf  0    NaN\n",
      "\n",
      "\n",
      "Reg_seg 15, ALL: lower bound 1.5, higher bound 50\n",
      "                            coef  std err      t  P>|t|\n",
      "OBRIGAÇÃO_FINAL_POR_SALA  0.0328    0.019  1.731  0.134\n",
      "DIAS_FUNCIONAMENTO        0.7768    0.089  8.734  0.000\n",
      "\n",
      "\n",
      "Reg_seg 16, FOREIGN: lower bound 1.5, higher bound 50\n",
      "                            coef  std err      t  P>|t|\n",
      "OBRIGAÇÃO_FINAL_POR_SALA  0.0673    0.055  1.221  0.277\n",
      "DIAS_FUNCIONAMENTO        0.8456    0.208  4.073  0.010\n",
      "\n",
      "\n",
      "Reg_seg 17, BRAZILIAN: lower bound 1.5, higher bound 50\n",
      "                            coef  std err      t  P>|t|\n",
      "OBRIGAÇÃO_FINAL_POR_SALA  0.0237    0.016  1.480  0.189\n",
      "DIAS_FUNCIONAMENTO        0.5414    0.075  7.208  0.000\n",
      "\n",
      "\n"
     ]
    },
    {
     "name": "stderr",
     "output_type": "stream",
     "text": [
      "C:\\ProgramData\\Anaconda3\\lib\\site-packages\\statsmodels\\regression\\linear_model.py:1698: RuntimeWarning: divide by zero encountered in true_divide\n",
      "  return 1 - (np.divide(self.nobs - self.k_constant, self.df_resid)\n",
      "C:\\ProgramData\\Anaconda3\\lib\\site-packages\\statsmodels\\regression\\linear_model.py:1698: RuntimeWarning: invalid value encountered in double_scalars\n",
      "  return 1 - (np.divide(self.nobs - self.k_constant, self.df_resid)\n",
      "C:\\ProgramData\\Anaconda3\\lib\\site-packages\\scipy\\stats\\_distn_infrastructure.py:1932: RuntimeWarning: invalid value encountered in less_equal\n",
      "  cond2 = cond0 & (x <= _a)\n",
      "C:\\ProgramData\\Anaconda3\\lib\\site-packages\\statsmodels\\regression\\linear_model.py:1620: RuntimeWarning: divide by zero encountered in double_scalars\n",
      "  return np.dot(wresid, wresid) / self.df_resid\n",
      "C:\\ProgramData\\Anaconda3\\lib\\site-packages\\statsmodels\\regression\\linear_model.py:1698: RuntimeWarning: divide by zero encountered in true_divide\n",
      "  return 1 - (np.divide(self.nobs - self.k_constant, self.df_resid)\n",
      "C:\\ProgramData\\Anaconda3\\lib\\site-packages\\statsmodels\\regression\\linear_model.py:1698: RuntimeWarning: invalid value encountered in double_scalars\n",
      "  return 1 - (np.divide(self.nobs - self.k_constant, self.df_resid)\n",
      "C:\\ProgramData\\Anaconda3\\lib\\site-packages\\scipy\\stats\\_distn_infrastructure.py:1932: RuntimeWarning: invalid value encountered in less_equal\n",
      "  cond2 = cond0 & (x <= _a)\n",
      "C:\\ProgramData\\Anaconda3\\lib\\site-packages\\statsmodels\\regression\\linear_model.py:1620: RuntimeWarning: divide by zero encountered in double_scalars\n",
      "  return np.dot(wresid, wresid) / self.df_resid\n",
      "C:\\ProgramData\\Anaconda3\\lib\\site-packages\\statsmodels\\regression\\linear_model.py:1698: RuntimeWarning: divide by zero encountered in true_divide\n",
      "  return 1 - (np.divide(self.nobs - self.k_constant, self.df_resid)\n",
      "C:\\ProgramData\\Anaconda3\\lib\\site-packages\\statsmodels\\regression\\linear_model.py:1698: RuntimeWarning: invalid value encountered in double_scalars\n",
      "  return 1 - (np.divide(self.nobs - self.k_constant, self.df_resid)\n",
      "C:\\ProgramData\\Anaconda3\\lib\\site-packages\\scipy\\stats\\_distn_infrastructure.py:1932: RuntimeWarning: invalid value encountered in less_equal\n",
      "  cond2 = cond0 & (x <= _a)\n",
      "C:\\ProgramData\\Anaconda3\\lib\\site-packages\\statsmodels\\regression\\linear_model.py:1620: RuntimeWarning: divide by zero encountered in double_scalars\n",
      "  return np.dot(wresid, wresid) / self.df_resid\n"
     ]
    }
   ],
   "source": [
    "works = ['ALL', 'FOREIGN', 'BRAZILIAN']\n",
    "\n",
    "for i in range(last_count,count_regs):\n",
    "    print(f'Reg_seg {i}, {works[i%3]}: lower bound {bounds[(i-last_count)//3]}, higher bound {bounds[((i-last_count)//3)+1]}')\n",
    "    print(pd.read_html(seg_gregs[f'reg_seg{i}'].summary().\n",
    "                       tables[1].as_html(),header=0,index_col=0)[0].iloc[-2:,:-2])\n",
    "    print('\\n')"
   ]
  },
  {
   "cell_type": "markdown",
   "metadata": {},
   "source": [
    "#### Bounds - [0, 0.3, 0.5, 0.7, 0.9, 1.1, 1.3, 1.5, 50] "
   ]
  },
  {
   "cell_type": "code",
   "execution_count": 338,
   "metadata": {
    "ExecuteTime": {
     "end_time": "2021-06-22T00:49:19.355903Z",
     "start_time": "2021-06-22T00:49:18.990960Z"
    }
   },
   "outputs": [
    {
     "name": "stdout",
     "output_type": "stream",
     "text": [
      "42\n"
     ]
    }
   ],
   "source": [
    "bounds = [0, 0.3, 0.5, 0.7, 0.9, 1.1, 1.3, 1.5, 50] \n",
    "\n",
    "formul = 'np.log(RENDA) ~ OBRIGAÇÃO_FINAL_POR_SALA + DIAS_FUNCIONAMENTO + C(REGISTRO_GRUPO) + C(ANO_CINEMATOGRAFICO)'\n",
    "\n",
    "last_count = count_regs\n",
    "\n",
    "for i in range(len(bounds)-1):\n",
    "    seg_gregs[f'reg_seg{count_regs}'] = smf.ols(formula=formul, \n",
    "                    data = gtds_1718[gtds_1718.CUMPRIMENTO_PROPORCIONAL.between(bounds[i],bounds[i+1])]).fit()\n",
    "    count_regs += 1\n",
    "    seg_gregs[f'reg_seg{count_regs}'] = smf.ols(formula=formul, \n",
    "                    data = gest_1718[gest_1718.CUMPRIMENTO_PROPORCIONAL.between(bounds[i],bounds[i+1])]).fit()\n",
    "    count_regs += 1\n",
    "    seg_gregs[f'reg_seg{count_regs}'] = smf.ols(formula=formul, \n",
    "                    data = gbras_1718[gbras_1718.CUMPRIMENTO_PROPORCIONAL.between(bounds[i],bounds[i+1])]).fit()\n",
    "    count_regs += 1\n",
    "\n",
    "print(count_regs)"
   ]
  },
  {
   "cell_type": "code",
   "execution_count": 339,
   "metadata": {
    "ExecuteTime": {
     "end_time": "2021-06-22T00:49:20.129076Z",
     "start_time": "2021-06-22T00:49:19.357908Z"
    }
   },
   "outputs": [
    {
     "name": "stdout",
     "output_type": "stream",
     "text": [
      "Reg_seg 18, ALL: lower bound 0, higher bound 0.3\n",
      "                            coef  std err      t  P>|t|\n",
      "OBRIGAÇÃO_FINAL_POR_SALA  0.0928    0.020  4.693  0.003\n",
      "DIAS_FUNCIONAMENTO        0.3640    0.873  0.417  0.691\n",
      "\n",
      "\n",
      "Reg_seg 19, FOREIGN: lower bound 0, higher bound 0.3\n",
      "                            coef  std err      t  P>|t|\n",
      "OBRIGAÇÃO_FINAL_POR_SALA  0.0918    0.020  4.543  0.004\n",
      "DIAS_FUNCIONAMENTO        0.3286    0.892  0.369  0.725\n",
      "\n",
      "\n",
      "Reg_seg 20, BRAZILIAN: lower bound 0, higher bound 0.3\n",
      "                            coef  std err      t  P>|t|\n",
      "OBRIGAÇÃO_FINAL_POR_SALA -0.0591    0.174 -0.339  0.767\n",
      "DIAS_FUNCIONAMENTO       -2.2770    2.657 -0.857  0.482\n",
      "\n",
      "\n",
      "Reg_seg 21, ALL: lower bound 0.3, higher bound 0.5\n",
      "                            coef  std err  t  P>|t|\n",
      "OBRIGAÇÃO_FINAL_POR_SALA -0.3658      inf  0    NaN\n",
      "DIAS_FUNCIONAMENTO       -4.9264      inf  0    NaN\n",
      "\n",
      "\n",
      "Reg_seg 22, FOREIGN: lower bound 0.3, higher bound 0.5\n",
      "                            coef  std err  t  P>|t|\n",
      "OBRIGAÇÃO_FINAL_POR_SALA -0.3901      inf  0    NaN\n",
      "DIAS_FUNCIONAMENTO       -5.1146      inf  0    NaN\n",
      "\n",
      "\n",
      "Reg_seg 23, BRAZILIAN: lower bound 0.3, higher bound 0.5\n"
     ]
    },
    {
     "name": "stderr",
     "output_type": "stream",
     "text": [
      "C:\\ProgramData\\Anaconda3\\lib\\site-packages\\statsmodels\\regression\\linear_model.py:1698: RuntimeWarning: divide by zero encountered in true_divide\n",
      "  return 1 - (np.divide(self.nobs - self.k_constant, self.df_resid)\n",
      "C:\\ProgramData\\Anaconda3\\lib\\site-packages\\statsmodels\\regression\\linear_model.py:1698: RuntimeWarning: invalid value encountered in double_scalars\n",
      "  return 1 - (np.divide(self.nobs - self.k_constant, self.df_resid)\n",
      "C:\\ProgramData\\Anaconda3\\lib\\site-packages\\scipy\\stats\\_distn_infrastructure.py:1932: RuntimeWarning: invalid value encountered in less_equal\n",
      "  cond2 = cond0 & (x <= _a)\n",
      "C:\\ProgramData\\Anaconda3\\lib\\site-packages\\statsmodels\\regression\\linear_model.py:1620: RuntimeWarning: divide by zero encountered in double_scalars\n",
      "  return np.dot(wresid, wresid) / self.df_resid\n",
      "C:\\ProgramData\\Anaconda3\\lib\\site-packages\\statsmodels\\regression\\linear_model.py:1698: RuntimeWarning: divide by zero encountered in true_divide\n",
      "  return 1 - (np.divide(self.nobs - self.k_constant, self.df_resid)\n",
      "C:\\ProgramData\\Anaconda3\\lib\\site-packages\\statsmodels\\regression\\linear_model.py:1698: RuntimeWarning: invalid value encountered in double_scalars\n",
      "  return 1 - (np.divide(self.nobs - self.k_constant, self.df_resid)\n",
      "C:\\ProgramData\\Anaconda3\\lib\\site-packages\\scipy\\stats\\_distn_infrastructure.py:1932: RuntimeWarning: invalid value encountered in less_equal\n",
      "  cond2 = cond0 & (x <= _a)\n",
      "C:\\ProgramData\\Anaconda3\\lib\\site-packages\\statsmodels\\regression\\linear_model.py:1620: RuntimeWarning: divide by zero encountered in double_scalars\n",
      "  return np.dot(wresid, wresid) / self.df_resid\n",
      "C:\\ProgramData\\Anaconda3\\lib\\site-packages\\statsmodels\\regression\\linear_model.py:1698: RuntimeWarning: divide by zero encountered in true_divide\n",
      "  return 1 - (np.divide(self.nobs - self.k_constant, self.df_resid)\n",
      "C:\\ProgramData\\Anaconda3\\lib\\site-packages\\statsmodels\\regression\\linear_model.py:1698: RuntimeWarning: invalid value encountered in double_scalars\n",
      "  return 1 - (np.divide(self.nobs - self.k_constant, self.df_resid)\n",
      "C:\\ProgramData\\Anaconda3\\lib\\site-packages\\scipy\\stats\\_distn_infrastructure.py:1932: RuntimeWarning: invalid value encountered in less_equal\n",
      "  cond2 = cond0 & (x <= _a)\n",
      "C:\\ProgramData\\Anaconda3\\lib\\site-packages\\statsmodels\\regression\\linear_model.py:1620: RuntimeWarning: divide by zero encountered in double_scalars\n",
      "  return np.dot(wresid, wresid) / self.df_resid\n"
     ]
    },
    {
     "name": "stdout",
     "output_type": "stream",
     "text": [
      "                            coef  std err  t  P>|t|\n",
      "OBRIGAÇÃO_FINAL_POR_SALA  0.1089      inf  0    NaN\n",
      "DIAS_FUNCIONAMENTO       -0.3712      inf  0    NaN\n",
      "\n",
      "\n",
      "Reg_seg 24, ALL: lower bound 0.5, higher bound 0.7\n",
      "                            coef  std err      t  P>|t|\n",
      "OBRIGAÇÃO_FINAL_POR_SALA  0.0079    0.005  1.436  0.224\n",
      "DIAS_FUNCIONAMENTO       -0.0031    0.110 -0.029  0.979\n",
      "\n",
      "\n",
      "Reg_seg 25, FOREIGN: lower bound 0.5, higher bound 0.7\n",
      "                            coef  std err      t  P>|t|\n",
      "OBRIGAÇÃO_FINAL_POR_SALA  0.0110    0.003  3.918  0.017\n",
      "DIAS_FUNCIONAMENTO       -0.0411    0.056 -0.728  0.507\n",
      "\n",
      "\n",
      "Reg_seg 26, BRAZILIAN: lower bound 0.5, higher bound 0.7\n",
      "                            coef  std err      t  P>|t|\n",
      "OBRIGAÇÃO_FINAL_POR_SALA -0.0217    0.026 -0.834  0.451\n",
      "DIAS_FUNCIONAMENTO        0.0683    0.522  0.131  0.902\n",
      "\n",
      "\n",
      "Reg_seg 27, ALL: lower bound 0.7, higher bound 0.9\n",
      "                            coef  std err      t  P>|t|\n",
      "OBRIGAÇÃO_FINAL_POR_SALA -0.0358    0.041 -0.865  0.546\n",
      "DIAS_FUNCIONAMENTO        0.6783    0.113  6.001  0.105\n",
      "\n",
      "\n",
      "Reg_seg 28, FOREIGN: lower bound 0.7, higher bound 0.9\n",
      "                            coef  std err      t  P>|t|\n",
      "OBRIGAÇÃO_FINAL_POR_SALA -0.0304    0.046 -0.659  0.629\n",
      "DIAS_FUNCIONAMENTO        0.6668    0.126  5.310  0.118\n",
      "\n",
      "\n",
      "Reg_seg 29, BRAZILIAN: lower bound 0.7, higher bound 0.9\n",
      "                            coef  std err      t  P>|t|\n",
      "OBRIGAÇÃO_FINAL_POR_SALA -0.1474    0.074 -1.981  0.298\n",
      "DIAS_FUNCIONAMENTO        0.9444    0.203  4.655  0.135\n",
      "\n",
      "\n",
      "Reg_seg 30, ALL: lower bound 0.9, higher bound 1.1\n",
      "                            coef  std err      t  P>|t|\n",
      "OBRIGAÇÃO_FINAL_POR_SALA  0.0043    0.008  0.555  0.588\n",
      "DIAS_FUNCIONAMENTO        0.0126    0.031  0.408  0.690\n",
      "\n",
      "\n",
      "Reg_seg 31, FOREIGN: lower bound 0.9, higher bound 1.1\n",
      "                            coef  std err      t  P>|t|\n",
      "OBRIGAÇÃO_FINAL_POR_SALA  0.0033    0.008  0.435  0.671\n",
      "DIAS_FUNCIONAMENTO        0.0112    0.030  0.371  0.717\n",
      "\n",
      "\n",
      "Reg_seg 32, BRAZILIAN: lower bound 0.9, higher bound 1.1\n",
      "                            coef  std err      t  P>|t|\n",
      "OBRIGAÇÃO_FINAL_POR_SALA  0.0152    0.020  0.765  0.458\n",
      "DIAS_FUNCIONAMENTO        0.0229    0.079  0.290  0.776\n",
      "\n",
      "\n",
      "Reg_seg 33, ALL: lower bound 1.1, higher bound 1.3\n",
      "                            coef  std err  t  P>|t|\n",
      "OBRIGAÇÃO_FINAL_POR_SALA -3.9513      inf  0    NaN\n",
      "DIAS_FUNCIONAMENTO       -0.2456      inf  0    NaN\n",
      "\n",
      "\n",
      "Reg_seg 34, FOREIGN: lower bound 1.1, higher bound 1.3\n",
      "                            coef  std err  t  P>|t|\n",
      "OBRIGAÇÃO_FINAL_POR_SALA -3.8026      inf  0    NaN\n",
      "DIAS_FUNCIONAMENTO       -0.2339      inf  0    NaN\n",
      "\n",
      "\n",
      "Reg_seg 35, BRAZILIAN: lower bound 1.1, higher bound 1.3\n"
     ]
    },
    {
     "name": "stderr",
     "output_type": "stream",
     "text": [
      "C:\\ProgramData\\Anaconda3\\lib\\site-packages\\statsmodels\\regression\\linear_model.py:1698: RuntimeWarning: divide by zero encountered in true_divide\n",
      "  return 1 - (np.divide(self.nobs - self.k_constant, self.df_resid)\n",
      "C:\\ProgramData\\Anaconda3\\lib\\site-packages\\statsmodels\\regression\\linear_model.py:1698: RuntimeWarning: invalid value encountered in double_scalars\n",
      "  return 1 - (np.divide(self.nobs - self.k_constant, self.df_resid)\n",
      "C:\\ProgramData\\Anaconda3\\lib\\site-packages\\scipy\\stats\\_distn_infrastructure.py:1932: RuntimeWarning: invalid value encountered in less_equal\n",
      "  cond2 = cond0 & (x <= _a)\n",
      "C:\\ProgramData\\Anaconda3\\lib\\site-packages\\statsmodels\\regression\\linear_model.py:1620: RuntimeWarning: divide by zero encountered in double_scalars\n",
      "  return np.dot(wresid, wresid) / self.df_resid\n",
      "C:\\ProgramData\\Anaconda3\\lib\\site-packages\\statsmodels\\regression\\linear_model.py:1698: RuntimeWarning: divide by zero encountered in true_divide\n",
      "  return 1 - (np.divide(self.nobs - self.k_constant, self.df_resid)\n",
      "C:\\ProgramData\\Anaconda3\\lib\\site-packages\\statsmodels\\regression\\linear_model.py:1698: RuntimeWarning: invalid value encountered in double_scalars\n",
      "  return 1 - (np.divide(self.nobs - self.k_constant, self.df_resid)\n",
      "C:\\ProgramData\\Anaconda3\\lib\\site-packages\\scipy\\stats\\_distn_infrastructure.py:1932: RuntimeWarning: invalid value encountered in less_equal\n",
      "  cond2 = cond0 & (x <= _a)\n",
      "C:\\ProgramData\\Anaconda3\\lib\\site-packages\\statsmodels\\regression\\linear_model.py:1620: RuntimeWarning: divide by zero encountered in double_scalars\n",
      "  return np.dot(wresid, wresid) / self.df_resid\n",
      "C:\\ProgramData\\Anaconda3\\lib\\site-packages\\statsmodels\\regression\\linear_model.py:1698: RuntimeWarning: divide by zero encountered in true_divide\n",
      "  return 1 - (np.divide(self.nobs - self.k_constant, self.df_resid)\n",
      "C:\\ProgramData\\Anaconda3\\lib\\site-packages\\statsmodels\\regression\\linear_model.py:1698: RuntimeWarning: invalid value encountered in double_scalars\n",
      "  return 1 - (np.divide(self.nobs - self.k_constant, self.df_resid)\n",
      "C:\\ProgramData\\Anaconda3\\lib\\site-packages\\scipy\\stats\\_distn_infrastructure.py:1932: RuntimeWarning: invalid value encountered in less_equal\n",
      "  cond2 = cond0 & (x <= _a)\n",
      "C:\\ProgramData\\Anaconda3\\lib\\site-packages\\statsmodels\\regression\\linear_model.py:1620: RuntimeWarning: divide by zero encountered in double_scalars\n",
      "  return np.dot(wresid, wresid) / self.df_resid\n",
      "C:\\ProgramData\\Anaconda3\\lib\\site-packages\\scipy\\stats\\stats.py:1603: UserWarning: kurtosistest only valid for n>=20 ... continuing anyway, n=15\n",
      "  warnings.warn(\"kurtosistest only valid for n>=20 ... continuing \"\n",
      "C:\\ProgramData\\Anaconda3\\lib\\site-packages\\statsmodels\\regression\\linear_model.py:1698: RuntimeWarning: divide by zero encountered in true_divide\n",
      "  return 1 - (np.divide(self.nobs - self.k_constant, self.df_resid)\n",
      "C:\\ProgramData\\Anaconda3\\lib\\site-packages\\statsmodels\\regression\\linear_model.py:1698: RuntimeWarning: invalid value encountered in double_scalars\n",
      "  return 1 - (np.divide(self.nobs - self.k_constant, self.df_resid)\n",
      "C:\\ProgramData\\Anaconda3\\lib\\site-packages\\scipy\\stats\\_distn_infrastructure.py:1932: RuntimeWarning: invalid value encountered in less_equal\n",
      "  cond2 = cond0 & (x <= _a)\n",
      "C:\\ProgramData\\Anaconda3\\lib\\site-packages\\statsmodels\\regression\\linear_model.py:1620: RuntimeWarning: divide by zero encountered in double_scalars\n",
      "  return np.dot(wresid, wresid) / self.df_resid\n",
      "C:\\ProgramData\\Anaconda3\\lib\\site-packages\\scipy\\stats\\stats.py:1603: UserWarning: kurtosistest only valid for n>=20 ... continuing anyway, n=15\n",
      "  warnings.warn(\"kurtosistest only valid for n>=20 ... continuing \"\n",
      "C:\\ProgramData\\Anaconda3\\lib\\site-packages\\statsmodels\\regression\\linear_model.py:1698: RuntimeWarning: divide by zero encountered in true_divide\n",
      "  return 1 - (np.divide(self.nobs - self.k_constant, self.df_resid)\n",
      "C:\\ProgramData\\Anaconda3\\lib\\site-packages\\statsmodels\\regression\\linear_model.py:1698: RuntimeWarning: invalid value encountered in double_scalars\n",
      "  return 1 - (np.divide(self.nobs - self.k_constant, self.df_resid)\n",
      "C:\\ProgramData\\Anaconda3\\lib\\site-packages\\scipy\\stats\\_distn_infrastructure.py:1932: RuntimeWarning: invalid value encountered in less_equal\n",
      "  cond2 = cond0 & (x <= _a)\n",
      "C:\\ProgramData\\Anaconda3\\lib\\site-packages\\statsmodels\\regression\\linear_model.py:1620: RuntimeWarning: divide by zero encountered in double_scalars\n",
      "  return np.dot(wresid, wresid) / self.df_resid\n",
      "C:\\ProgramData\\Anaconda3\\lib\\site-packages\\scipy\\stats\\stats.py:1603: UserWarning: kurtosistest only valid for n>=20 ... continuing anyway, n=15\n",
      "  warnings.warn(\"kurtosistest only valid for n>=20 ... continuing \"\n",
      "C:\\ProgramData\\Anaconda3\\lib\\site-packages\\statsmodels\\regression\\linear_model.py:1698: RuntimeWarning: divide by zero encountered in true_divide\n",
      "  return 1 - (np.divide(self.nobs - self.k_constant, self.df_resid)\n",
      "C:\\ProgramData\\Anaconda3\\lib\\site-packages\\statsmodels\\regression\\linear_model.py:1698: RuntimeWarning: invalid value encountered in double_scalars\n",
      "  return 1 - (np.divide(self.nobs - self.k_constant, self.df_resid)\n",
      "C:\\ProgramData\\Anaconda3\\lib\\site-packages\\scipy\\stats\\_distn_infrastructure.py:1932: RuntimeWarning: invalid value encountered in less_equal\n",
      "  cond2 = cond0 & (x <= _a)\n",
      "C:\\ProgramData\\Anaconda3\\lib\\site-packages\\statsmodels\\regression\\linear_model.py:1620: RuntimeWarning: divide by zero encountered in double_scalars\n",
      "  return np.dot(wresid, wresid) / self.df_resid\n"
     ]
    },
    {
     "name": "stdout",
     "output_type": "stream",
     "text": [
      "                            coef  std err  t  P>|t|\n",
      "OBRIGAÇÃO_FINAL_POR_SALA -5.2535      inf  0    NaN\n",
      "DIAS_FUNCIONAMENTO       -0.3502      inf  0    NaN\n",
      "\n",
      "\n",
      "Reg_seg 36, ALL: lower bound 1.3, higher bound 1.5\n",
      "                            coef  std err  t  P>|t|\n",
      "OBRIGAÇÃO_FINAL_POR_SALA  0.2140      inf  0    NaN\n",
      "DIAS_FUNCIONAMENTO        0.2353      inf  0    NaN\n",
      "\n",
      "\n",
      "Reg_seg 37, FOREIGN: lower bound 1.3, higher bound 1.5\n",
      "                            coef  std err  t  P>|t|\n",
      "OBRIGAÇÃO_FINAL_POR_SALA  0.2189      inf  0    NaN\n",
      "DIAS_FUNCIONAMENTO        0.2265      inf  0    NaN\n",
      "\n",
      "\n",
      "Reg_seg 38, BRAZILIAN: lower bound 1.3, higher bound 1.5\n",
      "                            coef  std err  t  P>|t|\n",
      "OBRIGAÇÃO_FINAL_POR_SALA  0.1712      inf  0    NaN\n",
      "DIAS_FUNCIONAMENTO        0.2842      inf  0    NaN\n",
      "\n",
      "\n",
      "Reg_seg 39, ALL: lower bound 1.5, higher bound 50\n",
      "                            coef  std err      t  P>|t|\n",
      "OBRIGAÇÃO_FINAL_POR_SALA  0.0328    0.019  1.731  0.134\n",
      "DIAS_FUNCIONAMENTO        0.7768    0.089  8.734  0.000\n",
      "\n",
      "\n",
      "Reg_seg 40, FOREIGN: lower bound 1.5, higher bound 50\n",
      "                            coef  std err      t  P>|t|\n",
      "OBRIGAÇÃO_FINAL_POR_SALA  0.0673    0.055  1.221  0.277\n",
      "DIAS_FUNCIONAMENTO        0.8456    0.208  4.073  0.010\n",
      "\n",
      "\n",
      "Reg_seg 41, BRAZILIAN: lower bound 1.5, higher bound 50\n",
      "                            coef  std err      t  P>|t|\n",
      "OBRIGAÇÃO_FINAL_POR_SALA  0.0237    0.016  1.480  0.189\n",
      "DIAS_FUNCIONAMENTO        0.5414    0.075  7.208  0.000\n",
      "\n",
      "\n"
     ]
    }
   ],
   "source": [
    "works = ['ALL', 'FOREIGN', 'BRAZILIAN']\n",
    "\n",
    "for i in range(last_count,count_regs):\n",
    "    print(f'Reg_seg {i}, {works[i%3]}: lower bound {bounds[(i-last_count)//3]}, higher bound {bounds[((i-last_count)//3)+1]}')\n",
    "    print(pd.read_html(seg_gregs[f'reg_seg{i}'].summary().\n",
    "                       tables[1].as_html(),header=0,index_col=0)[0].iloc[-2:,:-2])\n",
    "    print('\\n')"
   ]
  },
  {
   "cell_type": "markdown",
   "metadata": {},
   "source": [
    "#### Bounds - [0, 0.4, 0.8, 1.2, 1.6, 50]"
   ]
  },
  {
   "cell_type": "code",
   "execution_count": 340,
   "metadata": {
    "ExecuteTime": {
     "end_time": "2021-06-22T00:49:20.410824Z",
     "start_time": "2021-06-22T00:49:20.131080Z"
    }
   },
   "outputs": [
    {
     "name": "stdout",
     "output_type": "stream",
     "text": [
      "57\n"
     ]
    }
   ],
   "source": [
    "bounds = [0, 0.4, 0.8, 1.2, 1.6, 50] \n",
    "\n",
    "last_count = count_regs\n",
    "\n",
    "formul = 'np.log(RENDA) ~ OBRIGAÇÃO_FINAL_POR_SALA + DIAS_FUNCIONAMENTO + C(REGISTRO_GRUPO) + C(ANO_CINEMATOGRAFICO)'\n",
    "\n",
    "for i in range(len(bounds)-1):\n",
    "    seg_gregs[f'reg_seg{count_regs}'] = smf.ols(formula=formul, \n",
    "                    data = gtds_1718[gtds_1718.CUMPRIMENTO_PROPORCIONAL.between(bounds[i],bounds[i+1])]).fit()\n",
    "    count_regs += 1\n",
    "    seg_gregs[f'reg_seg{count_regs}'] = smf.ols(formula=formul, \n",
    "                    data = gest_1718[gest_1718.CUMPRIMENTO_PROPORCIONAL.between(bounds[i],bounds[i+1])]).fit()\n",
    "    count_regs += 1\n",
    "    seg_gregs[f'reg_seg{count_regs}'] = smf.ols(formula=formul, \n",
    "                    data = gbras_1718[gbras_1718.CUMPRIMENTO_PROPORCIONAL.between(bounds[i],bounds[i+1])]).fit()\n",
    "    count_regs += 1\n",
    "\n",
    "print(count_regs)"
   ]
  },
  {
   "cell_type": "code",
   "execution_count": 341,
   "metadata": {
    "ExecuteTime": {
     "end_time": "2021-06-22T00:49:21.038587Z",
     "start_time": "2021-06-22T00:49:20.412829Z"
    },
    "scrolled": true
   },
   "outputs": [
    {
     "name": "stdout",
     "output_type": "stream",
     "text": [
      "Reg_seg 42, ALL: lower bound 0, higher bound 0.4\n",
      "                            coef  std err      t  P>|t|\n",
      "OBRIGAÇÃO_FINAL_POR_SALA  0.0851    0.016  5.209  0.001\n",
      "DIAS_FUNCIONAMENTO        0.3319    0.790  0.420  0.686\n",
      "\n",
      "\n",
      "Reg_seg 43, FOREIGN: lower bound 0, higher bound 0.4\n",
      "                            coef  std err      t  P>|t|\n",
      "OBRIGAÇÃO_FINAL_POR_SALA  0.0841    0.017  5.056  0.001\n",
      "DIAS_FUNCIONAMENTO        0.3042    0.805  0.378  0.715\n",
      "\n",
      "\n",
      "Reg_seg 44, BRAZILIAN: lower bound 0, higher bound 0.4\n",
      "                            coef  std err      t  P>|t|\n",
      "OBRIGAÇÃO_FINAL_POR_SALA -0.0950    0.127 -0.750  0.508\n",
      "DIAS_FUNCIONAMENTO       -2.7744    1.991 -1.393  0.258\n",
      "\n",
      "\n",
      "Reg_seg 45, ALL: lower bound 0.4, higher bound 0.8\n",
      "                            coef  std err      t  P>|t|\n",
      "OBRIGAÇÃO_FINAL_POR_SALA  0.0061    0.008  0.757  0.457\n",
      "DIAS_FUNCIONAMENTO        0.1533    0.100  1.529  0.141\n",
      "\n",
      "\n",
      "Reg_seg 46, FOREIGN: lower bound 0.4, higher bound 0.8\n",
      "                            coef  std err      t  P>|t|\n",
      "OBRIGAÇÃO_FINAL_POR_SALA  0.0067    0.009  0.783  0.442\n",
      "DIAS_FUNCIONAMENTO        0.1448    0.106  1.361  0.188\n",
      "\n",
      "\n",
      "Reg_seg 47, BRAZILIAN: lower bound 0.4, higher bound 0.8\n",
      "                            coef  std err      t  P>|t|\n",
      "OBRIGAÇÃO_FINAL_POR_SALA -0.0116    0.015 -0.797  0.434\n",
      "DIAS_FUNCIONAMENTO        0.0905    0.183  0.495  0.625\n",
      "\n",
      "\n",
      "Reg_seg 48, ALL: lower bound 0.8, higher bound 1.2\n",
      "                            coef  std err      t  P>|t|\n",
      "OBRIGAÇÃO_FINAL_POR_SALA -0.0613    0.018 -3.363  0.002\n",
      "DIAS_FUNCIONAMENTO       -0.0736    0.075 -0.983  0.334\n",
      "\n",
      "\n",
      "Reg_seg 49, FOREIGN: lower bound 0.8, higher bound 1.2\n",
      "                            coef  std err      t  P>|t|\n",
      "OBRIGAÇÃO_FINAL_POR_SALA -0.0566    0.017 -3.374  0.002\n",
      "DIAS_FUNCIONAMENTO       -0.0645    0.069 -0.935  0.357\n",
      "\n",
      "\n",
      "Reg_seg 50, BRAZILIAN: lower bound 0.8, higher bound 1.2\n",
      "                            coef  std err      t  P>|t|\n",
      "OBRIGAÇÃO_FINAL_POR_SALA -0.0817    0.033 -2.479  0.019\n",
      "DIAS_FUNCIONAMENTO       -0.1264    0.135 -0.933  0.358\n",
      "\n",
      "\n",
      "Reg_seg 51, ALL: lower bound 1.2, higher bound 1.6\n",
      "                            coef  std err  t  P>|t|\n",
      "OBRIGAÇÃO_FINAL_POR_SALA  0.1387      inf  0    NaN\n",
      "DIAS_FUNCIONAMENTO        0.1930      inf  0    NaN\n",
      "\n",
      "\n",
      "Reg_seg 52, FOREIGN: lower bound 1.2, higher bound 1.6\n",
      "                            coef  std err  t  P>|t|\n",
      "OBRIGAÇÃO_FINAL_POR_SALA  0.1417      inf  0    NaN\n",
      "DIAS_FUNCIONAMENTO       -0.0686      inf  0    NaN\n",
      "\n",
      "\n",
      "Reg_seg 53, BRAZILIAN: lower bound 1.2, higher bound 1.6\n",
      "                            coef  std err  t  P>|t|\n",
      "OBRIGAÇÃO_FINAL_POR_SALA  0.1308      inf  0    NaN\n",
      "DIAS_FUNCIONAMENTO        1.8785      inf  0    NaN\n",
      "\n",
      "\n",
      "Reg_seg 54, ALL: lower bound 1.6, higher bound 50\n",
      "                            coef  std err      t  P>|t|\n",
      "OBRIGAÇÃO_FINAL_POR_SALA  0.0328    0.019  1.731  0.134\n",
      "DIAS_FUNCIONAMENTO        0.7356    0.086  8.568  0.000\n",
      "\n",
      "\n",
      "Reg_seg 55, FOREIGN: lower bound 1.6, higher bound 50\n",
      "                            coef  std err      t  P>|t|\n",
      "OBRIGAÇÃO_FINAL_POR_SALA  0.0673    0.055  1.221  0.277\n",
      "DIAS_FUNCIONAMENTO        0.7973    0.202  3.952  0.011\n",
      "\n",
      "\n",
      "Reg_seg 56, BRAZILIAN: lower bound 1.6, higher bound 50\n",
      "                            coef  std err      t  P>|t|\n",
      "OBRIGAÇÃO_FINAL_POR_SALA  0.0237    0.016  1.480  0.189\n",
      "DIAS_FUNCIONAMENTO        0.5512    0.073  7.602  0.000\n",
      "\n",
      "\n"
     ]
    },
    {
     "name": "stderr",
     "output_type": "stream",
     "text": [
      "C:\\ProgramData\\Anaconda3\\lib\\site-packages\\statsmodels\\regression\\linear_model.py:1698: RuntimeWarning: divide by zero encountered in true_divide\n",
      "  return 1 - (np.divide(self.nobs - self.k_constant, self.df_resid)\n",
      "C:\\ProgramData\\Anaconda3\\lib\\site-packages\\statsmodels\\regression\\linear_model.py:1698: RuntimeWarning: invalid value encountered in double_scalars\n",
      "  return 1 - (np.divide(self.nobs - self.k_constant, self.df_resid)\n",
      "C:\\ProgramData\\Anaconda3\\lib\\site-packages\\scipy\\stats\\_distn_infrastructure.py:1932: RuntimeWarning: invalid value encountered in less_equal\n",
      "  cond2 = cond0 & (x <= _a)\n",
      "C:\\ProgramData\\Anaconda3\\lib\\site-packages\\statsmodels\\regression\\linear_model.py:1620: RuntimeWarning: divide by zero encountered in double_scalars\n",
      "  return np.dot(wresid, wresid) / self.df_resid\n",
      "C:\\ProgramData\\Anaconda3\\lib\\site-packages\\statsmodels\\regression\\linear_model.py:1698: RuntimeWarning: divide by zero encountered in true_divide\n",
      "  return 1 - (np.divide(self.nobs - self.k_constant, self.df_resid)\n",
      "C:\\ProgramData\\Anaconda3\\lib\\site-packages\\statsmodels\\regression\\linear_model.py:1698: RuntimeWarning: invalid value encountered in double_scalars\n",
      "  return 1 - (np.divide(self.nobs - self.k_constant, self.df_resid)\n",
      "C:\\ProgramData\\Anaconda3\\lib\\site-packages\\scipy\\stats\\_distn_infrastructure.py:1932: RuntimeWarning: invalid value encountered in less_equal\n",
      "  cond2 = cond0 & (x <= _a)\n",
      "C:\\ProgramData\\Anaconda3\\lib\\site-packages\\statsmodels\\regression\\linear_model.py:1620: RuntimeWarning: divide by zero encountered in double_scalars\n",
      "  return np.dot(wresid, wresid) / self.df_resid\n",
      "C:\\ProgramData\\Anaconda3\\lib\\site-packages\\statsmodels\\regression\\linear_model.py:1698: RuntimeWarning: divide by zero encountered in true_divide\n",
      "  return 1 - (np.divide(self.nobs - self.k_constant, self.df_resid)\n",
      "C:\\ProgramData\\Anaconda3\\lib\\site-packages\\statsmodels\\regression\\linear_model.py:1698: RuntimeWarning: invalid value encountered in double_scalars\n",
      "  return 1 - (np.divide(self.nobs - self.k_constant, self.df_resid)\n",
      "C:\\ProgramData\\Anaconda3\\lib\\site-packages\\scipy\\stats\\_distn_infrastructure.py:1932: RuntimeWarning: invalid value encountered in less_equal\n",
      "  cond2 = cond0 & (x <= _a)\n",
      "C:\\ProgramData\\Anaconda3\\lib\\site-packages\\statsmodels\\regression\\linear_model.py:1620: RuntimeWarning: divide by zero encountered in double_scalars\n",
      "  return np.dot(wresid, wresid) / self.df_resid\n"
     ]
    }
   ],
   "source": [
    "works = ['ALL', 'FOREIGN', 'BRAZILIAN']\n",
    "\n",
    "for i in range(last_count,count_regs):\n",
    "    print(f'Reg_seg {i}, {works[i%3]}: lower bound {bounds[(i-last_count)//3]}, higher bound {bounds[((i-last_count)//3)+1]}')\n",
    "    print(pd.read_html(seg_gregs[f'reg_seg{i}'].summary().\n",
    "                       tables[1].as_html(),header=0,index_col=0)[0].iloc[-2:,:-2])\n",
    "    print('\\n')"
   ]
  },
  {
   "cell_type": "markdown",
   "metadata": {},
   "source": [
    "#### Bounds - [0, 0.45, 0.85, 1.25, 1.65, 50]"
   ]
  },
  {
   "cell_type": "code",
   "execution_count": 342,
   "metadata": {
    "ExecuteTime": {
     "end_time": "2021-06-22T00:49:21.294266Z",
     "start_time": "2021-06-22T00:49:21.040591Z"
    }
   },
   "outputs": [
    {
     "name": "stdout",
     "output_type": "stream",
     "text": [
      "72\n"
     ]
    }
   ],
   "source": [
    "bounds = [0, 0.45, 0.85, 1.25, 1.65, 50] \n",
    "\n",
    "last_count = count_regs\n",
    "\n",
    "formul = 'np.log(RENDA) ~ OBRIGAÇÃO_FINAL_POR_SALA + DIAS_FUNCIONAMENTO + C(REGISTRO_GRUPO) + C(ANO_CINEMATOGRAFICO)'\n",
    "\n",
    "for i in range(len(bounds)-1):\n",
    "    seg_gregs[f'reg_seg{count_regs}'] = smf.ols(formula=formul, \n",
    "                    data = gtds_1718[gtds_1718.CUMPRIMENTO_PROPORCIONAL.between(bounds[i],bounds[i+1])]).fit()\n",
    "    count_regs += 1\n",
    "    seg_gregs[f'reg_seg{count_regs}'] = smf.ols(formula=formul, \n",
    "                    data = gest_1718[gest_1718.CUMPRIMENTO_PROPORCIONAL.between(bounds[i],bounds[i+1])]).fit()\n",
    "    count_regs += 1\n",
    "    seg_gregs[f'reg_seg{count_regs}'] = smf.ols(formula=formul, \n",
    "                    data = gbras_1718[gbras_1718.CUMPRIMENTO_PROPORCIONAL.between(bounds[i],bounds[i+1])]).fit()\n",
    "    count_regs += 1\n",
    "\n",
    "print(count_regs)"
   ]
  },
  {
   "cell_type": "code",
   "execution_count": 343,
   "metadata": {
    "ExecuteTime": {
     "end_time": "2021-06-22T00:49:21.906746Z",
     "start_time": "2021-06-22T00:49:21.296270Z"
    },
    "scrolled": true
   },
   "outputs": [
    {
     "name": "stdout",
     "output_type": "stream",
     "text": [
      "Reg_seg 57, ALL: lower bound 0, higher bound 0.45\n",
      "                            coef  std err      t  P>|t|\n",
      "OBRIGAÇÃO_FINAL_POR_SALA  0.0859    0.014  6.225  0.000\n",
      "DIAS_FUNCIONAMENTO        0.3855    0.655  0.588  0.568\n",
      "\n",
      "\n",
      "Reg_seg 58, FOREIGN: lower bound 0, higher bound 0.45\n",
      "                            coef  std err      t  P>|t|\n",
      "OBRIGAÇÃO_FINAL_POR_SALA  0.0849    0.014  6.040  0.000\n",
      "DIAS_FUNCIONAMENTO        0.3582    0.667  0.537  0.602\n",
      "\n",
      "\n",
      "Reg_seg 59, BRAZILIAN: lower bound 0, higher bound 0.45\n",
      "                            coef  std err      t  P>|t|\n",
      "OBRIGAÇÃO_FINAL_POR_SALA -0.0039    0.100 -0.039  0.970\n",
      "DIAS_FUNCIONAMENTO       -1.5109    1.636 -0.924  0.391\n",
      "\n",
      "\n",
      "Reg_seg 60, ALL: lower bound 0.45, higher bound 0.85\n",
      "                            coef  std err      t  P>|t|\n",
      "OBRIGAÇÃO_FINAL_POR_SALA  0.0069    0.008  0.913  0.374\n",
      "DIAS_FUNCIONAMENTO        0.2083    0.087  2.397  0.028\n",
      "\n",
      "\n",
      "Reg_seg 61, FOREIGN: lower bound 0.45, higher bound 0.85\n",
      "                            coef  std err      t  P>|t|\n",
      "OBRIGAÇÃO_FINAL_POR_SALA  0.0075    0.008  0.950  0.355\n",
      "DIAS_FUNCIONAMENTO        0.1962    0.090  2.169  0.044\n",
      "\n",
      "\n",
      "Reg_seg 62, BRAZILIAN: lower bound 0.45, higher bound 0.85\n",
      "                            coef  std err      t  P>|t|\n",
      "OBRIGAÇÃO_FINAL_POR_SALA -0.0104    0.018 -0.581  0.568\n",
      "DIAS_FUNCIONAMENTO        0.1355    0.206  0.659  0.518\n",
      "\n",
      "\n",
      "Reg_seg 63, ALL: lower bound 0.85, higher bound 1.25\n",
      "                            coef  std err      t  P>|t|\n",
      "OBRIGAÇÃO_FINAL_POR_SALA -0.0032    0.007 -0.481  0.634\n",
      "DIAS_FUNCIONAMENTO        0.0155    0.025  0.628  0.535\n",
      "\n",
      "\n",
      "Reg_seg 64, FOREIGN: lower bound 0.85, higher bound 1.25\n",
      "                            coef  std err      t  P>|t|\n",
      "OBRIGAÇÃO_FINAL_POR_SALA -0.0044    0.006 -0.705  0.487\n",
      "DIAS_FUNCIONAMENTO        0.0145    0.023  0.630  0.534\n",
      "\n",
      "\n",
      "Reg_seg 65, BRAZILIAN: lower bound 0.85, higher bound 1.25\n",
      "                            coef  std err      t  P>|t|\n",
      "OBRIGAÇÃO_FINAL_POR_SALA  0.0038    0.024  0.159  0.875\n",
      "DIAS_FUNCIONAMENTO        0.0211    0.088  0.239  0.813\n",
      "\n",
      "\n",
      "Reg_seg 66, ALL: lower bound 1.25, higher bound 1.65\n",
      "                            coef  std err  t  P>|t|\n",
      "OBRIGAÇÃO_FINAL_POR_SALA  0.1898      inf  0    NaN\n",
      "DIAS_FUNCIONAMENTO        0.3018      inf  0    NaN\n",
      "\n",
      "\n",
      "Reg_seg 67, FOREIGN: lower bound 1.25, higher bound 1.65\n",
      "                            coef  std err  t  P>|t|\n",
      "OBRIGAÇÃO_FINAL_POR_SALA  0.1931      inf  0    NaN\n",
      "DIAS_FUNCIONAMENTO        0.2963      inf  0    NaN\n",
      "\n",
      "\n",
      "Reg_seg 68, BRAZILIAN: lower bound 1.25, higher bound 1.65\n",
      "                            coef  std err  t  P>|t|\n",
      "OBRIGAÇÃO_FINAL_POR_SALA  0.1619      inf  0    NaN\n",
      "DIAS_FUNCIONAMENTO        0.3248      inf  0    NaN\n",
      "\n",
      "\n",
      "Reg_seg 69, ALL: lower bound 1.65, higher bound 50\n",
      "                            coef  std err      t  P>|t|\n",
      "OBRIGAÇÃO_FINAL_POR_SALA  0.0328    0.019  1.731  0.134\n",
      "DIAS_FUNCIONAMENTO        0.7356    0.086  8.568  0.000\n",
      "\n",
      "\n",
      "Reg_seg 70, FOREIGN: lower bound 1.65, higher bound 50\n",
      "                            coef  std err      t  P>|t|\n",
      "OBRIGAÇÃO_FINAL_POR_SALA  0.0673    0.055  1.221  0.277\n",
      "DIAS_FUNCIONAMENTO        0.7973    0.202  3.952  0.011\n",
      "\n",
      "\n",
      "Reg_seg 71, BRAZILIAN: lower bound 1.65, higher bound 50\n",
      "                            coef  std err      t  P>|t|\n",
      "OBRIGAÇÃO_FINAL_POR_SALA  0.0237    0.016  1.480  0.189\n",
      "DIAS_FUNCIONAMENTO        0.5512    0.073  7.602  0.000\n",
      "\n",
      "\n"
     ]
    },
    {
     "name": "stderr",
     "output_type": "stream",
     "text": [
      "C:\\ProgramData\\Anaconda3\\lib\\site-packages\\statsmodels\\regression\\linear_model.py:1698: RuntimeWarning: divide by zero encountered in true_divide\n",
      "  return 1 - (np.divide(self.nobs - self.k_constant, self.df_resid)\n",
      "C:\\ProgramData\\Anaconda3\\lib\\site-packages\\statsmodels\\regression\\linear_model.py:1698: RuntimeWarning: invalid value encountered in double_scalars\n",
      "  return 1 - (np.divide(self.nobs - self.k_constant, self.df_resid)\n",
      "C:\\ProgramData\\Anaconda3\\lib\\site-packages\\scipy\\stats\\_distn_infrastructure.py:1932: RuntimeWarning: invalid value encountered in less_equal\n",
      "  cond2 = cond0 & (x <= _a)\n",
      "C:\\ProgramData\\Anaconda3\\lib\\site-packages\\statsmodels\\regression\\linear_model.py:1620: RuntimeWarning: divide by zero encountered in double_scalars\n",
      "  return np.dot(wresid, wresid) / self.df_resid\n",
      "C:\\ProgramData\\Anaconda3\\lib\\site-packages\\statsmodels\\regression\\linear_model.py:1698: RuntimeWarning: divide by zero encountered in true_divide\n",
      "  return 1 - (np.divide(self.nobs - self.k_constant, self.df_resid)\n",
      "C:\\ProgramData\\Anaconda3\\lib\\site-packages\\statsmodels\\regression\\linear_model.py:1698: RuntimeWarning: invalid value encountered in double_scalars\n",
      "  return 1 - (np.divide(self.nobs - self.k_constant, self.df_resid)\n",
      "C:\\ProgramData\\Anaconda3\\lib\\site-packages\\scipy\\stats\\_distn_infrastructure.py:1932: RuntimeWarning: invalid value encountered in less_equal\n",
      "  cond2 = cond0 & (x <= _a)\n",
      "C:\\ProgramData\\Anaconda3\\lib\\site-packages\\statsmodels\\regression\\linear_model.py:1620: RuntimeWarning: divide by zero encountered in double_scalars\n",
      "  return np.dot(wresid, wresid) / self.df_resid\n",
      "C:\\ProgramData\\Anaconda3\\lib\\site-packages\\statsmodels\\regression\\linear_model.py:1698: RuntimeWarning: divide by zero encountered in true_divide\n",
      "  return 1 - (np.divide(self.nobs - self.k_constant, self.df_resid)\n",
      "C:\\ProgramData\\Anaconda3\\lib\\site-packages\\statsmodels\\regression\\linear_model.py:1698: RuntimeWarning: invalid value encountered in double_scalars\n",
      "  return 1 - (np.divide(self.nobs - self.k_constant, self.df_resid)\n",
      "C:\\ProgramData\\Anaconda3\\lib\\site-packages\\scipy\\stats\\_distn_infrastructure.py:1932: RuntimeWarning: invalid value encountered in less_equal\n",
      "  cond2 = cond0 & (x <= _a)\n",
      "C:\\ProgramData\\Anaconda3\\lib\\site-packages\\statsmodels\\regression\\linear_model.py:1620: RuntimeWarning: divide by zero encountered in double_scalars\n",
      "  return np.dot(wresid, wresid) / self.df_resid\n"
     ]
    }
   ],
   "source": [
    "works = ['ALL', 'FOREIGN', 'BRAZILIAN']\n",
    "\n",
    "for i in range(last_count,count_regs):\n",
    "    print(f'Reg_seg {i}, {works[i%3]}: lower bound {bounds[(i-last_count)//3]}, higher bound {bounds[((i-last_count)//3)+1]}')\n",
    "    print(pd.read_html(seg_gregs[f'reg_seg{i}'].summary().\n",
    "                       tables[1].as_html(),header=0,index_col=0)[0].iloc[-2:,:-2])\n",
    "    print('\\n')"
   ]
  },
  {
   "cell_type": "markdown",
   "metadata": {},
   "source": [
    "#### Bounds - [0.0, 0.1, 0.2, 0.3, 0.4, 0.5, 0.6, 0.7, 0.8, 0.9, 1.0, 1.1, 1.2, 1.3, 50]"
   ]
  },
  {
   "cell_type": "code",
   "execution_count": 344,
   "metadata": {
    "ExecuteTime": {
     "end_time": "2021-06-22T00:49:22.480423Z",
     "start_time": "2021-06-22T00:49:21.907750Z"
    }
   },
   "outputs": [
    {
     "name": "stdout",
     "output_type": "stream",
     "text": [
      "114\n"
     ]
    }
   ],
   "source": [
    "bounds = [x/10 for x in range(14)]\n",
    "bounds.append(50)\n",
    "\n",
    "last_count = count_regs\n",
    "\n",
    "formul = 'np.log(RENDA) ~ OBRIGAÇÃO_FINAL_POR_SALA + DIAS_FUNCIONAMENTO + C(REGISTRO_GRUPO) + C(ANO_CINEMATOGRAFICO)'\n",
    "\n",
    "for i in range(len(bounds)-1):\n",
    "    seg_gregs[f'reg_seg{count_regs}'] = smf.ols(formula=formul, \n",
    "                    data = gtds_1718[gtds_1718.CUMPRIMENTO_PROPORCIONAL.between(bounds[i],bounds[i+1])]).fit()\n",
    "    count_regs += 1\n",
    "    seg_gregs[f'reg_seg{count_regs}'] = smf.ols(formula=formul, \n",
    "                    data = gest_1718[gest_1718.CUMPRIMENTO_PROPORCIONAL.between(bounds[i],bounds[i+1])]).fit()\n",
    "    count_regs += 1\n",
    "    seg_gregs[f'reg_seg{count_regs}'] = smf.ols(formula=formul, \n",
    "                    data = gbras_1718[gbras_1718.CUMPRIMENTO_PROPORCIONAL.between(bounds[i],bounds[i+1])]).fit()\n",
    "    count_regs += 1\n",
    "\n",
    "print(count_regs)"
   ]
  },
  {
   "cell_type": "code",
   "execution_count": 345,
   "metadata": {
    "ExecuteTime": {
     "end_time": "2021-06-22T00:49:23.518072Z",
     "start_time": "2021-06-22T00:49:22.482429Z"
    },
    "scrolled": true
   },
   "outputs": [
    {
     "name": "stdout",
     "output_type": "stream",
     "text": [
      "Reg_seg 72, ALL: lower bound 0.0, higher bound 0.1\n",
      "                            coef  std err  t  P>|t|\n",
      "OBRIGAÇÃO_FINAL_POR_SALA -0.0566      inf  0    NaN\n",
      "DIAS_FUNCIONAMENTO        0.8533      inf  0    NaN\n",
      "\n",
      "\n",
      "Reg_seg 73, FOREIGN: lower bound 0.0, higher bound 0.1\n",
      "                            coef  std err  t  P>|t|\n",
      "OBRIGAÇÃO_FINAL_POR_SALA -0.0690      inf  0    NaN\n",
      "DIAS_FUNCIONAMENTO        0.8417      inf  0    NaN\n",
      "\n",
      "\n",
      "Reg_seg 74, BRAZILIAN: lower bound 0.0, higher bound 0.1\n",
      "                            coef  std err  t  P>|t|\n",
      "OBRIGAÇÃO_FINAL_POR_SALA -0.0584      inf  0    NaN\n",
      "DIAS_FUNCIONAMENTO        6.0385      inf  0    NaN\n",
      "\n",
      "\n",
      "Reg_seg 75, ALL: lower bound 0.1, higher bound 0.2\n",
      "                            coef  std err  t  P>|t|\n",
      "OBRIGAÇÃO_FINAL_POR_SALA  0.2491      inf  0    NaN\n",
      "DIAS_FUNCIONAMENTO        0.7924      inf  0    NaN\n",
      "\n",
      "\n",
      "Reg_seg 76, FOREIGN: lower bound 0.1, higher bound 0.2\n",
      "                            coef  std err  t  P>|t|\n",
      "OBRIGAÇÃO_FINAL_POR_SALA  0.2489      inf  0    NaN\n",
      "DIAS_FUNCIONAMENTO        0.7897      inf  0    NaN\n",
      "\n",
      "\n",
      "Reg_seg 77, BRAZILIAN: lower bound 0.1, higher bound 0.2\n",
      "                            coef  std err  t  P>|t|\n",
      "OBRIGAÇÃO_FINAL_POR_SALA  0.2115      inf  0    NaN\n",
      "DIAS_FUNCIONAMENTO        0.3946      inf  0    NaN\n",
      "\n",
      "\n",
      "Reg_seg 78, ALL: lower bound 0.2, higher bound 0.3\n",
      "                            coef  std err  t  P>|t|\n",
      "OBRIGAÇÃO_FINAL_POR_SALA  0.1905      inf  0    NaN\n",
      "DIAS_FUNCIONAMENTO        2.9991      inf  0    NaN\n",
      "\n",
      "\n",
      "Reg_seg 79, FOREIGN: lower bound 0.2, higher bound 0.3\n",
      "                            coef  std err  t  P>|t|\n",
      "OBRIGAÇÃO_FINAL_POR_SALA  0.1900      inf  0    NaN\n",
      "DIAS_FUNCIONAMENTO        2.9827      inf  0    NaN\n",
      "\n",
      "\n",
      "Reg_seg 80, BRAZILIAN: lower bound 0.2, higher bound 0.3\n",
      "                            coef  std err  t  P>|t|\n",
      "OBRIGAÇÃO_FINAL_POR_SALA  0.1507      inf  0    NaN\n",
      "DIAS_FUNCIONAMENTO        2.5782      inf  0    NaN"
     ]
    },
    {
     "name": "stderr",
     "output_type": "stream",
     "text": [
      "C:\\ProgramData\\Anaconda3\\lib\\site-packages\\statsmodels\\regression\\linear_model.py:1698: RuntimeWarning: divide by zero encountered in true_divide\n",
      "  return 1 - (np.divide(self.nobs - self.k_constant, self.df_resid)\n",
      "C:\\ProgramData\\Anaconda3\\lib\\site-packages\\statsmodels\\regression\\linear_model.py:1698: RuntimeWarning: invalid value encountered in double_scalars\n",
      "  return 1 - (np.divide(self.nobs - self.k_constant, self.df_resid)\n",
      "C:\\ProgramData\\Anaconda3\\lib\\site-packages\\scipy\\stats\\_distn_infrastructure.py:1932: RuntimeWarning: invalid value encountered in less_equal\n",
      "  cond2 = cond0 & (x <= _a)\n",
      "C:\\ProgramData\\Anaconda3\\lib\\site-packages\\statsmodels\\regression\\linear_model.py:1620: RuntimeWarning: divide by zero encountered in double_scalars\n",
      "  return np.dot(wresid, wresid) / self.df_resid\n",
      "C:\\ProgramData\\Anaconda3\\lib\\site-packages\\statsmodels\\regression\\linear_model.py:1698: RuntimeWarning: divide by zero encountered in true_divide\n",
      "  return 1 - (np.divide(self.nobs - self.k_constant, self.df_resid)\n",
      "C:\\ProgramData\\Anaconda3\\lib\\site-packages\\statsmodels\\regression\\linear_model.py:1698: RuntimeWarning: invalid value encountered in double_scalars\n",
      "  return 1 - (np.divide(self.nobs - self.k_constant, self.df_resid)\n",
      "C:\\ProgramData\\Anaconda3\\lib\\site-packages\\scipy\\stats\\_distn_infrastructure.py:1932: RuntimeWarning: invalid value encountered in less_equal\n",
      "  cond2 = cond0 & (x <= _a)\n",
      "C:\\ProgramData\\Anaconda3\\lib\\site-packages\\statsmodels\\regression\\linear_model.py:1620: RuntimeWarning: divide by zero encountered in double_scalars\n",
      "  return np.dot(wresid, wresid) / self.df_resid\n",
      "C:\\ProgramData\\Anaconda3\\lib\\site-packages\\scipy\\stats\\stats.py:1603: UserWarning: kurtosistest only valid for n>=20 ... continuing anyway, n=11\n",
      "  warnings.warn(\"kurtosistest only valid for n>=20 ... continuing \"\n",
      "C:\\ProgramData\\Anaconda3\\lib\\site-packages\\statsmodels\\regression\\linear_model.py:1698: RuntimeWarning: divide by zero encountered in true_divide\n",
      "  return 1 - (np.divide(self.nobs - self.k_constant, self.df_resid)\n",
      "C:\\ProgramData\\Anaconda3\\lib\\site-packages\\statsmodels\\regression\\linear_model.py:1698: RuntimeWarning: invalid value encountered in double_scalars\n",
      "  return 1 - (np.divide(self.nobs - self.k_constant, self.df_resid)\n",
      "C:\\ProgramData\\Anaconda3\\lib\\site-packages\\scipy\\stats\\_distn_infrastructure.py:1932: RuntimeWarning: invalid value encountered in less_equal\n",
      "  cond2 = cond0 & (x <= _a)\n",
      "C:\\ProgramData\\Anaconda3\\lib\\site-packages\\statsmodels\\regression\\linear_model.py:1620: RuntimeWarning: divide by zero encountered in double_scalars\n",
      "  return np.dot(wresid, wresid) / self.df_resid\n",
      "C:\\ProgramData\\Anaconda3\\lib\\site-packages\\scipy\\stats\\stats.py:1603: UserWarning: kurtosistest only valid for n>=20 ... continuing anyway, n=19\n",
      "  warnings.warn(\"kurtosistest only valid for n>=20 ... continuing \"\n",
      "C:\\ProgramData\\Anaconda3\\lib\\site-packages\\statsmodels\\regression\\linear_model.py:1698: RuntimeWarning: divide by zero encountered in true_divide\n",
      "  return 1 - (np.divide(self.nobs - self.k_constant, self.df_resid)\n",
      "C:\\ProgramData\\Anaconda3\\lib\\site-packages\\statsmodels\\regression\\linear_model.py:1698: RuntimeWarning: invalid value encountered in double_scalars\n",
      "  return 1 - (np.divide(self.nobs - self.k_constant, self.df_resid)\n",
      "C:\\ProgramData\\Anaconda3\\lib\\site-packages\\scipy\\stats\\_distn_infrastructure.py:1932: RuntimeWarning: invalid value encountered in less_equal\n",
      "  cond2 = cond0 & (x <= _a)\n",
      "C:\\ProgramData\\Anaconda3\\lib\\site-packages\\statsmodels\\regression\\linear_model.py:1620: RuntimeWarning: divide by zero encountered in double_scalars\n",
      "  return np.dot(wresid, wresid) / self.df_resid\n",
      "C:\\ProgramData\\Anaconda3\\lib\\site-packages\\scipy\\stats\\stats.py:1603: UserWarning: kurtosistest only valid for n>=20 ... continuing anyway, n=19\n",
      "  warnings.warn(\"kurtosistest only valid for n>=20 ... continuing \"\n",
      "C:\\ProgramData\\Anaconda3\\lib\\site-packages\\statsmodels\\regression\\linear_model.py:1698: RuntimeWarning: divide by zero encountered in true_divide\n",
      "  return 1 - (np.divide(self.nobs - self.k_constant, self.df_resid)\n",
      "C:\\ProgramData\\Anaconda3\\lib\\site-packages\\statsmodels\\regression\\linear_model.py:1698: RuntimeWarning: invalid value encountered in double_scalars\n",
      "  return 1 - (np.divide(self.nobs - self.k_constant, self.df_resid)\n",
      "C:\\ProgramData\\Anaconda3\\lib\\site-packages\\scipy\\stats\\_distn_infrastructure.py:1932: RuntimeWarning: invalid value encountered in less_equal\n",
      "  cond2 = cond0 & (x <= _a)\n",
      "C:\\ProgramData\\Anaconda3\\lib\\site-packages\\statsmodels\\regression\\linear_model.py:1620: RuntimeWarning: divide by zero encountered in double_scalars\n",
      "  return np.dot(wresid, wresid) / self.df_resid\n",
      "C:\\ProgramData\\Anaconda3\\lib\\site-packages\\scipy\\stats\\stats.py:1603: UserWarning: kurtosistest only valid for n>=20 ... continuing anyway, n=19\n",
      "  warnings.warn(\"kurtosistest only valid for n>=20 ... continuing \"\n",
      "C:\\ProgramData\\Anaconda3\\lib\\site-packages\\statsmodels\\regression\\linear_model.py:1698: RuntimeWarning: divide by zero encountered in true_divide\n",
      "  return 1 - (np.divide(self.nobs - self.k_constant, self.df_resid)\n",
      "C:\\ProgramData\\Anaconda3\\lib\\site-packages\\statsmodels\\regression\\linear_model.py:1698: RuntimeWarning: invalid value encountered in double_scalars\n",
      "  return 1 - (np.divide(self.nobs - self.k_constant, self.df_resid)\n",
      "C:\\ProgramData\\Anaconda3\\lib\\site-packages\\scipy\\stats\\_distn_infrastructure.py:1932: RuntimeWarning: invalid value encountered in less_equal\n",
      "  cond2 = cond0 & (x <= _a)\n",
      "C:\\ProgramData\\Anaconda3\\lib\\site-packages\\statsmodels\\regression\\linear_model.py:1620: RuntimeWarning: divide by zero encountered in double_scalars\n",
      "  return np.dot(wresid, wresid) / self.df_resid\n",
      "C:\\ProgramData\\Anaconda3\\lib\\site-packages\\scipy\\stats\\stats.py:1603: UserWarning: kurtosistest only valid for n>=20 ... continuing anyway, n=15\n",
      "  warnings.warn(\"kurtosistest only valid for n>=20 ... continuing \"\n",
      "C:\\ProgramData\\Anaconda3\\lib\\site-packages\\statsmodels\\regression\\linear_model.py:1698: RuntimeWarning: divide by zero encountered in true_divide\n",
      "  return 1 - (np.divide(self.nobs - self.k_constant, self.df_resid)\n",
      "C:\\ProgramData\\Anaconda3\\lib\\site-packages\\statsmodels\\regression\\linear_model.py:1698: RuntimeWarning: invalid value encountered in double_scalars\n",
      "  return 1 - (np.divide(self.nobs - self.k_constant, self.df_resid)\n",
      "C:\\ProgramData\\Anaconda3\\lib\\site-packages\\scipy\\stats\\_distn_infrastructure.py:1932: RuntimeWarning: invalid value encountered in less_equal\n",
      "  cond2 = cond0 & (x <= _a)\n",
      "C:\\ProgramData\\Anaconda3\\lib\\site-packages\\statsmodels\\regression\\linear_model.py:1620: RuntimeWarning: divide by zero encountered in double_scalars\n",
      "  return np.dot(wresid, wresid) / self.df_resid\n",
      "C:\\ProgramData\\Anaconda3\\lib\\site-packages\\scipy\\stats\\stats.py:1603: UserWarning: kurtosistest only valid for n>=20 ... continuing anyway, n=15\n",
      "  warnings.warn(\"kurtosistest only valid for n>=20 ... continuing \"\n",
      "C:\\ProgramData\\Anaconda3\\lib\\site-packages\\statsmodels\\regression\\linear_model.py:1698: RuntimeWarning: divide by zero encountered in true_divide\n",
      "  return 1 - (np.divide(self.nobs - self.k_constant, self.df_resid)\n",
      "C:\\ProgramData\\Anaconda3\\lib\\site-packages\\statsmodels\\regression\\linear_model.py:1698: RuntimeWarning: invalid value encountered in double_scalars\n",
      "  return 1 - (np.divide(self.nobs - self.k_constant, self.df_resid)\n",
      "C:\\ProgramData\\Anaconda3\\lib\\site-packages\\scipy\\stats\\_distn_infrastructure.py:1932: RuntimeWarning: invalid value encountered in less_equal\n",
      "  cond2 = cond0 & (x <= _a)\n",
      "C:\\ProgramData\\Anaconda3\\lib\\site-packages\\statsmodels\\regression\\linear_model.py:1620: RuntimeWarning: divide by zero encountered in double_scalars\n",
      "  return np.dot(wresid, wresid) / self.df_resid\n",
      "C:\\ProgramData\\Anaconda3\\lib\\site-packages\\scipy\\stats\\stats.py:1603: UserWarning: kurtosistest only valid for n>=20 ... continuing anyway, n=15\n",
      "  warnings.warn(\"kurtosistest only valid for n>=20 ... continuing \"\n",
      "C:\\ProgramData\\Anaconda3\\lib\\site-packages\\statsmodels\\regression\\linear_model.py:1698: RuntimeWarning: divide by zero encountered in true_divide\n",
      "  return 1 - (np.divide(self.nobs - self.k_constant, self.df_resid)\n",
      "C:\\ProgramData\\Anaconda3\\lib\\site-packages\\statsmodels\\regression\\linear_model.py:1698: RuntimeWarning: invalid value encountered in double_scalars\n",
      "  return 1 - (np.divide(self.nobs - self.k_constant, self.df_resid)\n",
      "C:\\ProgramData\\Anaconda3\\lib\\site-packages\\scipy\\stats\\_distn_infrastructure.py:1932: RuntimeWarning: invalid value encountered in less_equal\n",
      "  cond2 = cond0 & (x <= _a)\n",
      "C:\\ProgramData\\Anaconda3\\lib\\site-packages\\statsmodels\\regression\\linear_model.py:1620: RuntimeWarning: divide by zero encountered in double_scalars\n",
      "  return np.dot(wresid, wresid) / self.df_resid\n",
      "C:\\ProgramData\\Anaconda3\\lib\\site-packages\\statsmodels\\regression\\linear_model.py:1698: RuntimeWarning: divide by zero encountered in true_divide\n",
      "  return 1 - (np.divide(self.nobs - self.k_constant, self.df_resid)\n",
      "C:\\ProgramData\\Anaconda3\\lib\\site-packages\\statsmodels\\regression\\linear_model.py:1698: RuntimeWarning: invalid value encountered in double_scalars\n",
      "  return 1 - (np.divide(self.nobs - self.k_constant, self.df_resid)\n",
      "C:\\ProgramData\\Anaconda3\\lib\\site-packages\\scipy\\stats\\_distn_infrastructure.py:1932: RuntimeWarning: invalid value encountered in less_equal\n",
      "  cond2 = cond0 & (x <= _a)\n",
      "C:\\ProgramData\\Anaconda3\\lib\\site-packages\\statsmodels\\regression\\linear_model.py:1620: RuntimeWarning: divide by zero encountered in double_scalars\n",
      "  return np.dot(wresid, wresid) / self.df_resid\n"
     ]
    },
    {
     "name": "stdout",
     "output_type": "stream",
     "text": [
      "\n",
      "\n",
      "\n",
      "Reg_seg 81, ALL: lower bound 0.3, higher bound 0.4\n",
      "                            coef  std err  t  P>|t|\n",
      "OBRIGAÇÃO_FINAL_POR_SALA  0.2165      inf  0    NaN\n",
      "DIAS_FUNCIONAMENTO       -0.1179      inf  0    NaN\n",
      "\n",
      "\n",
      "Reg_seg 82, FOREIGN: lower bound 0.3, higher bound 0.4\n",
      "                            coef  std err  t  P>|t|\n",
      "OBRIGAÇÃO_FINAL_POR_SALA  0.2164      inf  0    NaN\n",
      "DIAS_FUNCIONAMENTO       -0.1204      inf  0    NaN\n",
      "\n",
      "\n",
      "Reg_seg 83, BRAZILIAN: lower bound 0.3, higher bound 0.4\n",
      "                            coef  std err  t  P>|t|\n",
      "OBRIGAÇÃO_FINAL_POR_SALA  0.1736      inf  0    NaN\n",
      "DIAS_FUNCIONAMENTO       -0.0065      inf  0    NaN\n",
      "\n",
      "\n",
      "Reg_seg 84, ALL: lower bound 0.4, higher bound 0.5\n",
      "                            coef  std err  t  P>|t|\n",
      "OBRIGAÇÃO_FINAL_POR_SALA  0.1330      inf  0    NaN\n",
      "DIAS_FUNCIONAMENTO        0.2092      inf  0    NaN\n",
      "\n",
      "\n",
      "Reg_seg 85, FOREIGN: lower bound 0.4, higher bound 0.5\n",
      "                            coef  std err  t  P>|t|\n",
      "OBRIGAÇÃO_FINAL_POR_SALA  0.1336      inf  0    NaN\n",
      "DIAS_FUNCIONAMENTO        0.2112      inf  0    NaN\n",
      "\n",
      "\n",
      "Reg_seg 86, BRAZILIAN: lower bound 0.4, higher bound 0.5\n",
      "                            coef  std err  t  P>|t|\n",
      "OBRIGAÇÃO_FINAL_POR_SALA  0.1372      inf  0    NaN\n",
      "DIAS_FUNCIONAMENTO        0.2058      inf  0    NaN\n",
      "\n",
      "\n",
      "Reg_seg 87, ALL: lower bound 0.5, higher bound 0.6\n",
      "                            coef  std err  t  P>|t|\n",
      "OBRIGAÇÃO_FINAL_POR_SALA  0.0711      inf  0    NaN\n",
      "DIAS_FUNCIONAMENTO        0.1934      inf  0    NaN\n",
      "\n",
      "\n",
      "Reg_seg 88, FOREIGN: lower bound 0.5, higher bound 0.6\n",
      "                            coef  std err  t  P>|t|\n",
      "OBRIGAÇÃO_FINAL_POR_SALA  0.0709      inf  0    NaN\n",
      "DIAS_FUNCIONAMENTO        0.1913      inf  0    NaN"
     ]
    },
    {
     "name": "stderr",
     "output_type": "stream",
     "text": [
      "C:\\ProgramData\\Anaconda3\\lib\\site-packages\\statsmodels\\regression\\linear_model.py:1698: RuntimeWarning: divide by zero encountered in true_divide\n",
      "  return 1 - (np.divide(self.nobs - self.k_constant, self.df_resid)\n",
      "C:\\ProgramData\\Anaconda3\\lib\\site-packages\\statsmodels\\regression\\linear_model.py:1698: RuntimeWarning: invalid value encountered in double_scalars\n",
      "  return 1 - (np.divide(self.nobs - self.k_constant, self.df_resid)\n",
      "C:\\ProgramData\\Anaconda3\\lib\\site-packages\\scipy\\stats\\_distn_infrastructure.py:1932: RuntimeWarning: invalid value encountered in less_equal\n",
      "  cond2 = cond0 & (x <= _a)\n",
      "C:\\ProgramData\\Anaconda3\\lib\\site-packages\\statsmodels\\regression\\linear_model.py:1620: RuntimeWarning: divide by zero encountered in double_scalars\n",
      "  return np.dot(wresid, wresid) / self.df_resid\n",
      "C:\\ProgramData\\Anaconda3\\lib\\site-packages\\statsmodels\\regression\\linear_model.py:1698: RuntimeWarning: divide by zero encountered in true_divide\n",
      "  return 1 - (np.divide(self.nobs - self.k_constant, self.df_resid)\n",
      "C:\\ProgramData\\Anaconda3\\lib\\site-packages\\statsmodels\\regression\\linear_model.py:1698: RuntimeWarning: invalid value encountered in double_scalars\n",
      "  return 1 - (np.divide(self.nobs - self.k_constant, self.df_resid)\n",
      "C:\\ProgramData\\Anaconda3\\lib\\site-packages\\scipy\\stats\\_distn_infrastructure.py:1932: RuntimeWarning: invalid value encountered in less_equal\n",
      "  cond2 = cond0 & (x <= _a)\n",
      "C:\\ProgramData\\Anaconda3\\lib\\site-packages\\statsmodels\\regression\\linear_model.py:1620: RuntimeWarning: divide by zero encountered in double_scalars\n",
      "  return np.dot(wresid, wresid) / self.df_resid\n",
      "C:\\ProgramData\\Anaconda3\\lib\\site-packages\\statsmodels\\regression\\linear_model.py:1698: RuntimeWarning: divide by zero encountered in true_divide\n",
      "  return 1 - (np.divide(self.nobs - self.k_constant, self.df_resid)\n",
      "C:\\ProgramData\\Anaconda3\\lib\\site-packages\\statsmodels\\regression\\linear_model.py:1698: RuntimeWarning: invalid value encountered in double_scalars\n",
      "  return 1 - (np.divide(self.nobs - self.k_constant, self.df_resid)\n",
      "C:\\ProgramData\\Anaconda3\\lib\\site-packages\\scipy\\stats\\_distn_infrastructure.py:1932: RuntimeWarning: invalid value encountered in less_equal\n",
      "  cond2 = cond0 & (x <= _a)\n",
      "C:\\ProgramData\\Anaconda3\\lib\\site-packages\\statsmodels\\regression\\linear_model.py:1620: RuntimeWarning: divide by zero encountered in double_scalars\n",
      "  return np.dot(wresid, wresid) / self.df_resid\n",
      "C:\\ProgramData\\Anaconda3\\lib\\site-packages\\statsmodels\\regression\\linear_model.py:1698: RuntimeWarning: divide by zero encountered in true_divide\n",
      "  return 1 - (np.divide(self.nobs - self.k_constant, self.df_resid)\n",
      "C:\\ProgramData\\Anaconda3\\lib\\site-packages\\statsmodels\\regression\\linear_model.py:1698: RuntimeWarning: invalid value encountered in double_scalars\n",
      "  return 1 - (np.divide(self.nobs - self.k_constant, self.df_resid)\n",
      "C:\\ProgramData\\Anaconda3\\lib\\site-packages\\scipy\\stats\\_distn_infrastructure.py:1932: RuntimeWarning: invalid value encountered in less_equal\n",
      "  cond2 = cond0 & (x <= _a)\n",
      "C:\\ProgramData\\Anaconda3\\lib\\site-packages\\statsmodels\\regression\\linear_model.py:1620: RuntimeWarning: divide by zero encountered in double_scalars\n",
      "  return np.dot(wresid, wresid) / self.df_resid\n",
      "C:\\ProgramData\\Anaconda3\\lib\\site-packages\\statsmodels\\regression\\linear_model.py:1698: RuntimeWarning: divide by zero encountered in true_divide\n",
      "  return 1 - (np.divide(self.nobs - self.k_constant, self.df_resid)\n",
      "C:\\ProgramData\\Anaconda3\\lib\\site-packages\\statsmodels\\regression\\linear_model.py:1698: RuntimeWarning: invalid value encountered in double_scalars\n",
      "  return 1 - (np.divide(self.nobs - self.k_constant, self.df_resid)\n",
      "C:\\ProgramData\\Anaconda3\\lib\\site-packages\\scipy\\stats\\_distn_infrastructure.py:1932: RuntimeWarning: invalid value encountered in less_equal\n",
      "  cond2 = cond0 & (x <= _a)\n",
      "C:\\ProgramData\\Anaconda3\\lib\\site-packages\\statsmodels\\regression\\linear_model.py:1620: RuntimeWarning: divide by zero encountered in double_scalars\n",
      "  return np.dot(wresid, wresid) / self.df_resid\n",
      "C:\\ProgramData\\Anaconda3\\lib\\site-packages\\statsmodels\\regression\\linear_model.py:1698: RuntimeWarning: divide by zero encountered in true_divide\n",
      "  return 1 - (np.divide(self.nobs - self.k_constant, self.df_resid)\n",
      "C:\\ProgramData\\Anaconda3\\lib\\site-packages\\statsmodels\\regression\\linear_model.py:1698: RuntimeWarning: invalid value encountered in double_scalars\n",
      "  return 1 - (np.divide(self.nobs - self.k_constant, self.df_resid)\n",
      "C:\\ProgramData\\Anaconda3\\lib\\site-packages\\scipy\\stats\\_distn_infrastructure.py:1932: RuntimeWarning: invalid value encountered in less_equal\n",
      "  cond2 = cond0 & (x <= _a)\n",
      "C:\\ProgramData\\Anaconda3\\lib\\site-packages\\statsmodels\\regression\\linear_model.py:1620: RuntimeWarning: divide by zero encountered in double_scalars\n",
      "  return np.dot(wresid, wresid) / self.df_resid\n",
      "C:\\ProgramData\\Anaconda3\\lib\\site-packages\\statsmodels\\regression\\linear_model.py:1698: RuntimeWarning: divide by zero encountered in true_divide\n",
      "  return 1 - (np.divide(self.nobs - self.k_constant, self.df_resid)\n",
      "C:\\ProgramData\\Anaconda3\\lib\\site-packages\\statsmodels\\regression\\linear_model.py:1698: RuntimeWarning: invalid value encountered in double_scalars\n",
      "  return 1 - (np.divide(self.nobs - self.k_constant, self.df_resid)\n",
      "C:\\ProgramData\\Anaconda3\\lib\\site-packages\\scipy\\stats\\_distn_infrastructure.py:1932: RuntimeWarning: invalid value encountered in less_equal\n",
      "  cond2 = cond0 & (x <= _a)\n",
      "C:\\ProgramData\\Anaconda3\\lib\\site-packages\\statsmodels\\regression\\linear_model.py:1620: RuntimeWarning: divide by zero encountered in double_scalars\n",
      "  return np.dot(wresid, wresid) / self.df_resid\n",
      "C:\\ProgramData\\Anaconda3\\lib\\site-packages\\statsmodels\\regression\\linear_model.py:1698: RuntimeWarning: divide by zero encountered in true_divide\n",
      "  return 1 - (np.divide(self.nobs - self.k_constant, self.df_resid)\n",
      "C:\\ProgramData\\Anaconda3\\lib\\site-packages\\statsmodels\\regression\\linear_model.py:1698: RuntimeWarning: invalid value encountered in double_scalars\n",
      "  return 1 - (np.divide(self.nobs - self.k_constant, self.df_resid)\n",
      "C:\\ProgramData\\Anaconda3\\lib\\site-packages\\scipy\\stats\\_distn_infrastructure.py:1932: RuntimeWarning: invalid value encountered in less_equal\n",
      "  cond2 = cond0 & (x <= _a)\n",
      "C:\\ProgramData\\Anaconda3\\lib\\site-packages\\statsmodels\\regression\\linear_model.py:1620: RuntimeWarning: divide by zero encountered in double_scalars\n",
      "  return np.dot(wresid, wresid) / self.df_resid\n"
     ]
    },
    {
     "name": "stdout",
     "output_type": "stream",
     "text": [
      "\n",
      "\n",
      "\n",
      "Reg_seg 89, BRAZILIAN: lower bound 0.5, higher bound 0.6\n",
      "                           coef  std err  t  P>|t|\n",
      "OBRIGAÇÃO_FINAL_POR_SALA  0.064      inf  0    NaN\n",
      "DIAS_FUNCIONAMENTO        0.248      inf  0    NaN\n",
      "\n",
      "\n",
      "Reg_seg 90, ALL: lower bound 0.6, higher bound 0.7\n",
      "                            coef  std err  t  P>|t|\n",
      "OBRIGAÇÃO_FINAL_POR_SALA  0.0955      inf  0    NaN\n",
      "DIAS_FUNCIONAMENTO        0.2286      inf  0    NaN\n",
      "\n",
      "\n",
      "Reg_seg 91, FOREIGN: lower bound 0.6, higher bound 0.7\n",
      "                            coef  std err  t  P>|t|\n",
      "OBRIGAÇÃO_FINAL_POR_SALA  0.0929      inf  0    NaN\n",
      "DIAS_FUNCIONAMENTO        0.2311      inf  0    NaN\n",
      "\n",
      "\n",
      "Reg_seg 92, BRAZILIAN: lower bound 0.6, higher bound 0.7\n",
      "                            coef  std err  t  P>|t|\n",
      "OBRIGAÇÃO_FINAL_POR_SALA  0.1040      inf  0    NaN\n",
      "DIAS_FUNCIONAMENTO        0.2061      inf  0    NaN\n",
      "\n",
      "\n",
      "Reg_seg 93, ALL: lower bound 0.7, higher bound 0.8\n",
      "                            coef  std err  t  P>|t|\n",
      "OBRIGAÇÃO_FINAL_POR_SALA -0.0795      inf  0    NaN\n",
      "DIAS_FUNCIONAMENTO        0.5593      inf  0    NaN\n",
      "\n",
      "\n",
      "Reg_seg 94, FOREIGN: lower bound 0.7, higher bound 0.8\n",
      "                            coef  std err  t  P>|t|\n",
      "OBRIGAÇÃO_FINAL_POR_SALA -0.0778      inf  0    NaN\n",
      "DIAS_FUNCIONAMENTO        0.5441      inf  0    NaN\n",
      "\n",
      "\n",
      "Reg_seg 95, BRAZILIAN: lower bound 0.7, higher bound 0.8\n",
      "                            coef  std err  t  P>|t|\n",
      "OBRIGAÇÃO_FINAL_POR_SALA -0.1147      inf  0    NaN\n",
      "DIAS_FUNCIONAMENTO        0.7362      inf  0    NaN\n",
      "\n",
      "\n",
      "Reg_seg 96, ALL: lower bound 0.8, higher bound 0.9\n",
      "                            coef  std err  t  P>|t|\n",
      "OBRIGAÇÃO_FINAL_POR_SALA  0.2135      inf  0    NaN\n",
      "DIAS_FUNCIONAMENTO       -0.0223      inf  0    NaN\n",
      "\n",
      "\n",
      "Reg_seg 97, FOREIGN: lower bound 0.8, higher bound 0.9\n"
     ]
    },
    {
     "name": "stderr",
     "output_type": "stream",
     "text": [
      "C:\\ProgramData\\Anaconda3\\lib\\site-packages\\statsmodels\\regression\\linear_model.py:1698: RuntimeWarning: divide by zero encountered in true_divide\n",
      "  return 1 - (np.divide(self.nobs - self.k_constant, self.df_resid)\n",
      "C:\\ProgramData\\Anaconda3\\lib\\site-packages\\statsmodels\\regression\\linear_model.py:1698: RuntimeWarning: invalid value encountered in double_scalars\n",
      "  return 1 - (np.divide(self.nobs - self.k_constant, self.df_resid)\n",
      "C:\\ProgramData\\Anaconda3\\lib\\site-packages\\scipy\\stats\\_distn_infrastructure.py:1932: RuntimeWarning: invalid value encountered in less_equal\n",
      "  cond2 = cond0 & (x <= _a)\n",
      "C:\\ProgramData\\Anaconda3\\lib\\site-packages\\statsmodels\\regression\\linear_model.py:1620: RuntimeWarning: divide by zero encountered in double_scalars\n",
      "  return np.dot(wresid, wresid) / self.df_resid\n",
      "C:\\ProgramData\\Anaconda3\\lib\\site-packages\\statsmodels\\regression\\linear_model.py:1698: RuntimeWarning: divide by zero encountered in true_divide\n",
      "  return 1 - (np.divide(self.nobs - self.k_constant, self.df_resid)\n",
      "C:\\ProgramData\\Anaconda3\\lib\\site-packages\\statsmodels\\regression\\linear_model.py:1698: RuntimeWarning: invalid value encountered in double_scalars\n",
      "  return 1 - (np.divide(self.nobs - self.k_constant, self.df_resid)\n",
      "C:\\ProgramData\\Anaconda3\\lib\\site-packages\\scipy\\stats\\_distn_infrastructure.py:1932: RuntimeWarning: invalid value encountered in less_equal\n",
      "  cond2 = cond0 & (x <= _a)\n",
      "C:\\ProgramData\\Anaconda3\\lib\\site-packages\\statsmodels\\regression\\linear_model.py:1620: RuntimeWarning: divide by zero encountered in double_scalars\n",
      "  return np.dot(wresid, wresid) / self.df_resid\n",
      "C:\\ProgramData\\Anaconda3\\lib\\site-packages\\statsmodels\\regression\\linear_model.py:1698: RuntimeWarning: divide by zero encountered in true_divide\n",
      "  return 1 - (np.divide(self.nobs - self.k_constant, self.df_resid)\n",
      "C:\\ProgramData\\Anaconda3\\lib\\site-packages\\statsmodels\\regression\\linear_model.py:1698: RuntimeWarning: invalid value encountered in double_scalars\n",
      "  return 1 - (np.divide(self.nobs - self.k_constant, self.df_resid)\n",
      "C:\\ProgramData\\Anaconda3\\lib\\site-packages\\scipy\\stats\\_distn_infrastructure.py:1932: RuntimeWarning: invalid value encountered in less_equal\n",
      "  cond2 = cond0 & (x <= _a)\n",
      "C:\\ProgramData\\Anaconda3\\lib\\site-packages\\statsmodels\\regression\\linear_model.py:1620: RuntimeWarning: divide by zero encountered in double_scalars\n",
      "  return np.dot(wresid, wresid) / self.df_resid\n",
      "C:\\ProgramData\\Anaconda3\\lib\\site-packages\\statsmodels\\regression\\linear_model.py:1698: RuntimeWarning: divide by zero encountered in true_divide\n",
      "  return 1 - (np.divide(self.nobs - self.k_constant, self.df_resid)\n",
      "C:\\ProgramData\\Anaconda3\\lib\\site-packages\\statsmodels\\regression\\linear_model.py:1698: RuntimeWarning: invalid value encountered in double_scalars\n",
      "  return 1 - (np.divide(self.nobs - self.k_constant, self.df_resid)\n",
      "C:\\ProgramData\\Anaconda3\\lib\\site-packages\\scipy\\stats\\_distn_infrastructure.py:1932: RuntimeWarning: invalid value encountered in less_equal\n",
      "  cond2 = cond0 & (x <= _a)\n",
      "C:\\ProgramData\\Anaconda3\\lib\\site-packages\\statsmodels\\regression\\linear_model.py:1620: RuntimeWarning: divide by zero encountered in double_scalars\n",
      "  return np.dot(wresid, wresid) / self.df_resid\n",
      "C:\\ProgramData\\Anaconda3\\lib\\site-packages\\statsmodels\\regression\\linear_model.py:1698: RuntimeWarning: divide by zero encountered in true_divide\n",
      "  return 1 - (np.divide(self.nobs - self.k_constant, self.df_resid)\n",
      "C:\\ProgramData\\Anaconda3\\lib\\site-packages\\statsmodels\\regression\\linear_model.py:1698: RuntimeWarning: invalid value encountered in double_scalars\n",
      "  return 1 - (np.divide(self.nobs - self.k_constant, self.df_resid)\n",
      "C:\\ProgramData\\Anaconda3\\lib\\site-packages\\scipy\\stats\\_distn_infrastructure.py:1932: RuntimeWarning: invalid value encountered in less_equal\n",
      "  cond2 = cond0 & (x <= _a)\n",
      "C:\\ProgramData\\Anaconda3\\lib\\site-packages\\statsmodels\\regression\\linear_model.py:1620: RuntimeWarning: divide by zero encountered in double_scalars\n",
      "  return np.dot(wresid, wresid) / self.df_resid\n",
      "C:\\ProgramData\\Anaconda3\\lib\\site-packages\\statsmodels\\regression\\linear_model.py:1698: RuntimeWarning: divide by zero encountered in true_divide\n",
      "  return 1 - (np.divide(self.nobs - self.k_constant, self.df_resid)\n",
      "C:\\ProgramData\\Anaconda3\\lib\\site-packages\\statsmodels\\regression\\linear_model.py:1698: RuntimeWarning: invalid value encountered in double_scalars\n",
      "  return 1 - (np.divide(self.nobs - self.k_constant, self.df_resid)\n",
      "C:\\ProgramData\\Anaconda3\\lib\\site-packages\\scipy\\stats\\_distn_infrastructure.py:1932: RuntimeWarning: invalid value encountered in less_equal\n",
      "  cond2 = cond0 & (x <= _a)\n",
      "C:\\ProgramData\\Anaconda3\\lib\\site-packages\\statsmodels\\regression\\linear_model.py:1620: RuntimeWarning: divide by zero encountered in double_scalars\n",
      "  return np.dot(wresid, wresid) / self.df_resid\n",
      "C:\\ProgramData\\Anaconda3\\lib\\site-packages\\statsmodels\\regression\\linear_model.py:1698: RuntimeWarning: divide by zero encountered in true_divide\n",
      "  return 1 - (np.divide(self.nobs - self.k_constant, self.df_resid)\n",
      "C:\\ProgramData\\Anaconda3\\lib\\site-packages\\statsmodels\\regression\\linear_model.py:1698: RuntimeWarning: invalid value encountered in double_scalars\n",
      "  return 1 - (np.divide(self.nobs - self.k_constant, self.df_resid)\n",
      "C:\\ProgramData\\Anaconda3\\lib\\site-packages\\scipy\\stats\\_distn_infrastructure.py:1932: RuntimeWarning: invalid value encountered in less_equal\n",
      "  cond2 = cond0 & (x <= _a)\n",
      "C:\\ProgramData\\Anaconda3\\lib\\site-packages\\statsmodels\\regression\\linear_model.py:1620: RuntimeWarning: divide by zero encountered in double_scalars\n",
      "  return np.dot(wresid, wresid) / self.df_resid\n",
      "C:\\ProgramData\\Anaconda3\\lib\\site-packages\\statsmodels\\regression\\linear_model.py:1698: RuntimeWarning: divide by zero encountered in true_divide\n",
      "  return 1 - (np.divide(self.nobs - self.k_constant, self.df_resid)\n",
      "C:\\ProgramData\\Anaconda3\\lib\\site-packages\\statsmodels\\regression\\linear_model.py:1698: RuntimeWarning: invalid value encountered in double_scalars\n",
      "  return 1 - (np.divide(self.nobs - self.k_constant, self.df_resid)\n",
      "C:\\ProgramData\\Anaconda3\\lib\\site-packages\\scipy\\stats\\_distn_infrastructure.py:1932: RuntimeWarning: invalid value encountered in less_equal\n",
      "  cond2 = cond0 & (x <= _a)\n",
      "C:\\ProgramData\\Anaconda3\\lib\\site-packages\\statsmodels\\regression\\linear_model.py:1620: RuntimeWarning: divide by zero encountered in double_scalars\n",
      "  return np.dot(wresid, wresid) / self.df_resid\n"
     ]
    },
    {
     "name": "stdout",
     "output_type": "stream",
     "text": [
      "                            coef  std err  t  P>|t|\n",
      "OBRIGAÇÃO_FINAL_POR_SALA  0.2124      inf  0    NaN\n",
      "DIAS_FUNCIONAMENTO       -0.0233      inf  0    NaN\n",
      "\n",
      "\n",
      "Reg_seg 98, BRAZILIAN: lower bound 0.8, higher bound 0.9\n",
      "                            coef  std err  t  P>|t|\n",
      "OBRIGAÇÃO_FINAL_POR_SALA  0.2014      inf  0    NaN\n",
      "DIAS_FUNCIONAMENTO        0.0260      inf  0    NaN\n",
      "\n",
      "\n",
      "Reg_seg 99, ALL: lower bound 0.9, higher bound 1.0\n",
      "                            coef  std err  t  P>|t|\n",
      "OBRIGAÇÃO_FINAL_POR_SALA -0.0041      inf  0    NaN\n",
      "DIAS_FUNCIONAMENTO       -0.0016      inf  0    NaN\n",
      "\n",
      "\n",
      "Reg_seg 100, FOREIGN: lower bound 0.9, higher bound 1.0\n",
      "                            coef  std err  t  P>|t|\n",
      "OBRIGAÇÃO_FINAL_POR_SALA -0.0032      inf  0    NaN\n",
      "DIAS_FUNCIONAMENTO       -0.0210      inf  0    NaN\n",
      "\n",
      "\n",
      "Reg_seg 101, BRAZILIAN: lower bound 0.9, higher bound 1.0\n",
      "                            coef  std err  t  P>|t|\n",
      "OBRIGAÇÃO_FINAL_POR_SALA  0.0065      inf  0    NaN\n",
      "DIAS_FUNCIONAMENTO        0.2051      inf  0    NaN\n",
      "\n",
      "\n",
      "Reg_seg 102, ALL: lower bound 1.0, higher bound 1.1\n",
      "                            coef  std err       t  P>|t|\n",
      "OBRIGAÇÃO_FINAL_POR_SALA  0.0052    0.016   0.330  0.753\n",
      "DIAS_FUNCIONAMENTO        0.1446    0.009  16.099  0.000\n",
      "\n",
      "\n",
      "Reg_seg 103, FOREIGN: lower bound 1.0, higher bound 1.1\n",
      "                            coef  std err       t  P>|t|\n",
      "OBRIGAÇÃO_FINAL_POR_SALA  0.0047    0.016   0.306   0.77\n",
      "DIAS_FUNCIONAMENTO        0.1453    0.009  16.565   0.00\n",
      "\n",
      "\n",
      "Reg_seg 104, BRAZILIAN: lower bound 1.0, higher bound 1.1\n"
     ]
    },
    {
     "name": "stderr",
     "output_type": "stream",
     "text": [
      "C:\\ProgramData\\Anaconda3\\lib\\site-packages\\statsmodels\\regression\\linear_model.py:1698: RuntimeWarning: divide by zero encountered in true_divide\n",
      "  return 1 - (np.divide(self.nobs - self.k_constant, self.df_resid)\n",
      "C:\\ProgramData\\Anaconda3\\lib\\site-packages\\statsmodels\\regression\\linear_model.py:1698: RuntimeWarning: invalid value encountered in double_scalars\n",
      "  return 1 - (np.divide(self.nobs - self.k_constant, self.df_resid)\n",
      "C:\\ProgramData\\Anaconda3\\lib\\site-packages\\scipy\\stats\\_distn_infrastructure.py:1932: RuntimeWarning: invalid value encountered in less_equal\n",
      "  cond2 = cond0 & (x <= _a)\n",
      "C:\\ProgramData\\Anaconda3\\lib\\site-packages\\statsmodels\\regression\\linear_model.py:1620: RuntimeWarning: divide by zero encountered in double_scalars\n",
      "  return np.dot(wresid, wresid) / self.df_resid\n",
      "C:\\ProgramData\\Anaconda3\\lib\\site-packages\\statsmodels\\regression\\linear_model.py:1698: RuntimeWarning: divide by zero encountered in true_divide\n",
      "  return 1 - (np.divide(self.nobs - self.k_constant, self.df_resid)\n",
      "C:\\ProgramData\\Anaconda3\\lib\\site-packages\\statsmodels\\regression\\linear_model.py:1698: RuntimeWarning: invalid value encountered in double_scalars\n",
      "  return 1 - (np.divide(self.nobs - self.k_constant, self.df_resid)\n",
      "C:\\ProgramData\\Anaconda3\\lib\\site-packages\\scipy\\stats\\_distn_infrastructure.py:1932: RuntimeWarning: invalid value encountered in less_equal\n",
      "  cond2 = cond0 & (x <= _a)\n",
      "C:\\ProgramData\\Anaconda3\\lib\\site-packages\\statsmodels\\regression\\linear_model.py:1620: RuntimeWarning: divide by zero encountered in double_scalars\n",
      "  return np.dot(wresid, wresid) / self.df_resid\n",
      "C:\\ProgramData\\Anaconda3\\lib\\site-packages\\statsmodels\\regression\\linear_model.py:1698: RuntimeWarning: divide by zero encountered in true_divide\n",
      "  return 1 - (np.divide(self.nobs - self.k_constant, self.df_resid)\n",
      "C:\\ProgramData\\Anaconda3\\lib\\site-packages\\statsmodels\\regression\\linear_model.py:1698: RuntimeWarning: invalid value encountered in double_scalars\n",
      "  return 1 - (np.divide(self.nobs - self.k_constant, self.df_resid)\n",
      "C:\\ProgramData\\Anaconda3\\lib\\site-packages\\scipy\\stats\\_distn_infrastructure.py:1932: RuntimeWarning: invalid value encountered in less_equal\n",
      "  cond2 = cond0 & (x <= _a)\n",
      "C:\\ProgramData\\Anaconda3\\lib\\site-packages\\statsmodels\\regression\\linear_model.py:1620: RuntimeWarning: divide by zero encountered in double_scalars\n",
      "  return np.dot(wresid, wresid) / self.df_resid\n",
      "C:\\ProgramData\\Anaconda3\\lib\\site-packages\\statsmodels\\regression\\linear_model.py:1698: RuntimeWarning: divide by zero encountered in true_divide\n",
      "  return 1 - (np.divide(self.nobs - self.k_constant, self.df_resid)\n",
      "C:\\ProgramData\\Anaconda3\\lib\\site-packages\\statsmodels\\regression\\linear_model.py:1698: RuntimeWarning: invalid value encountered in double_scalars\n",
      "  return 1 - (np.divide(self.nobs - self.k_constant, self.df_resid)\n",
      "C:\\ProgramData\\Anaconda3\\lib\\site-packages\\scipy\\stats\\_distn_infrastructure.py:1932: RuntimeWarning: invalid value encountered in less_equal\n",
      "  cond2 = cond0 & (x <= _a)\n",
      "C:\\ProgramData\\Anaconda3\\lib\\site-packages\\statsmodels\\regression\\linear_model.py:1620: RuntimeWarning: divide by zero encountered in double_scalars\n",
      "  return np.dot(wresid, wresid) / self.df_resid\n"
     ]
    },
    {
     "name": "stdout",
     "output_type": "stream",
     "text": [
      "                            coef  std err      t  P>|t|\n",
      "OBRIGAÇÃO_FINAL_POR_SALA  0.0083    0.028  0.292   0.78\n",
      "DIAS_FUNCIONAMENTO        0.1390    0.016  8.673   0.00\n",
      "\n",
      "\n",
      "Reg_seg 105, ALL: lower bound 1.1, higher bound 1.2\n",
      "                            coef  std err  t  P>|t|\n",
      "OBRIGAÇÃO_FINAL_POR_SALA  0.1072      inf  0    NaN\n",
      "DIAS_FUNCIONAMENTO        0.0945      inf  0    NaN\n",
      "\n",
      "\n",
      "Reg_seg 106, FOREIGN: lower bound 1.1, higher bound 1.2\n",
      "                            coef  std err  t  P>|t|\n",
      "OBRIGAÇÃO_FINAL_POR_SALA  0.1096      inf  0    NaN\n",
      "DIAS_FUNCIONAMENTO        0.0941      inf  0    NaN\n",
      "\n",
      "\n",
      "Reg_seg 107, BRAZILIAN: lower bound 1.1, higher bound 1.2\n",
      "                            coef  std err  t  P>|t|\n",
      "OBRIGAÇÃO_FINAL_POR_SALA  0.0903      inf  0    NaN\n",
      "DIAS_FUNCIONAMENTO        0.0964      inf  0    NaN\n",
      "\n",
      "\n",
      "Reg_seg 108, ALL: lower bound 1.2, higher bound 1.3\n",
      "                            coef  std err  t  P>|t|\n",
      "OBRIGAÇÃO_FINAL_POR_SALA  0.1555      inf  0    NaN\n",
      "DIAS_FUNCIONAMENTO        0.4662      inf  0    NaN\n",
      "\n",
      "\n",
      "Reg_seg 109, FOREIGN: lower bound 1.2, higher bound 1.3\n",
      "                            coef  std err  t  P>|t|\n",
      "OBRIGAÇÃO_FINAL_POR_SALA  0.1551      inf  0    NaN\n",
      "DIAS_FUNCIONAMENTO        0.4587      inf  0    NaN\n",
      "\n",
      "\n",
      "Reg_seg 110, BRAZILIAN: lower bound 1.2, higher bound 1.3\n",
      "                            coef  std err  t  P>|t|\n",
      "OBRIGAÇÃO_FINAL_POR_SALA  0.1610      inf  0    NaN\n",
      "DIAS_FUNCIONAMENTO        0.4778      inf  0    NaN\n",
      "\n",
      "\n",
      "Reg_seg 111, ALL: lower bound 1.3, higher bound 50\n",
      "                            coef  std err       t  P>|t|\n",
      "OBRIGAÇÃO_FINAL_POR_SALA  0.0327    0.018   1.840  0.108\n",
      "DIAS_FUNCIONAMENTO        0.6713    0.058  11.669  0.000\n",
      "\n",
      "\n",
      "Reg_seg 112, FOREIGN: lower bound 1.3, higher bound 50\n",
      "                            coef  std err      t  P>|t|\n",
      "OBRIGAÇÃO_FINAL_POR_SALA  0.0696    0.052  1.339  0.229\n",
      "DIAS_FUNCIONAMENTO        0.6833    0.134  5.090  0.002\n",
      "\n",
      "\n",
      "Reg_seg 113, BRAZILIAN: lower bound 1.3, higher bound 50\n"
     ]
    },
    {
     "name": "stderr",
     "output_type": "stream",
     "text": [
      "C:\\ProgramData\\Anaconda3\\lib\\site-packages\\statsmodels\\regression\\linear_model.py:1698: RuntimeWarning: divide by zero encountered in true_divide\n",
      "  return 1 - (np.divide(self.nobs - self.k_constant, self.df_resid)\n",
      "C:\\ProgramData\\Anaconda3\\lib\\site-packages\\statsmodels\\regression\\linear_model.py:1698: RuntimeWarning: invalid value encountered in double_scalars\n",
      "  return 1 - (np.divide(self.nobs - self.k_constant, self.df_resid)\n",
      "C:\\ProgramData\\Anaconda3\\lib\\site-packages\\scipy\\stats\\_distn_infrastructure.py:1932: RuntimeWarning: invalid value encountered in less_equal\n",
      "  cond2 = cond0 & (x <= _a)\n",
      "C:\\ProgramData\\Anaconda3\\lib\\site-packages\\statsmodels\\regression\\linear_model.py:1620: RuntimeWarning: divide by zero encountered in double_scalars\n",
      "  return np.dot(wresid, wresid) / self.df_resid\n",
      "C:\\ProgramData\\Anaconda3\\lib\\site-packages\\statsmodels\\regression\\linear_model.py:1698: RuntimeWarning: divide by zero encountered in true_divide\n",
      "  return 1 - (np.divide(self.nobs - self.k_constant, self.df_resid)\n",
      "C:\\ProgramData\\Anaconda3\\lib\\site-packages\\statsmodels\\regression\\linear_model.py:1698: RuntimeWarning: invalid value encountered in double_scalars\n",
      "  return 1 - (np.divide(self.nobs - self.k_constant, self.df_resid)\n",
      "C:\\ProgramData\\Anaconda3\\lib\\site-packages\\scipy\\stats\\_distn_infrastructure.py:1932: RuntimeWarning: invalid value encountered in less_equal\n",
      "  cond2 = cond0 & (x <= _a)\n",
      "C:\\ProgramData\\Anaconda3\\lib\\site-packages\\statsmodels\\regression\\linear_model.py:1620: RuntimeWarning: divide by zero encountered in double_scalars\n",
      "  return np.dot(wresid, wresid) / self.df_resid\n",
      "C:\\ProgramData\\Anaconda3\\lib\\site-packages\\statsmodels\\regression\\linear_model.py:1698: RuntimeWarning: divide by zero encountered in true_divide\n",
      "  return 1 - (np.divide(self.nobs - self.k_constant, self.df_resid)\n",
      "C:\\ProgramData\\Anaconda3\\lib\\site-packages\\statsmodels\\regression\\linear_model.py:1698: RuntimeWarning: invalid value encountered in double_scalars\n",
      "  return 1 - (np.divide(self.nobs - self.k_constant, self.df_resid)\n",
      "C:\\ProgramData\\Anaconda3\\lib\\site-packages\\scipy\\stats\\_distn_infrastructure.py:1932: RuntimeWarning: invalid value encountered in less_equal\n",
      "  cond2 = cond0 & (x <= _a)\n",
      "C:\\ProgramData\\Anaconda3\\lib\\site-packages\\statsmodels\\regression\\linear_model.py:1620: RuntimeWarning: divide by zero encountered in double_scalars\n",
      "  return np.dot(wresid, wresid) / self.df_resid\n",
      "C:\\ProgramData\\Anaconda3\\lib\\site-packages\\scipy\\stats\\stats.py:1603: UserWarning: kurtosistest only valid for n>=20 ... continuing anyway, n=18\n",
      "  warnings.warn(\"kurtosistest only valid for n>=20 ... continuing \"\n",
      "C:\\ProgramData\\Anaconda3\\lib\\site-packages\\statsmodels\\regression\\linear_model.py:1698: RuntimeWarning: divide by zero encountered in true_divide\n",
      "  return 1 - (np.divide(self.nobs - self.k_constant, self.df_resid)\n",
      "C:\\ProgramData\\Anaconda3\\lib\\site-packages\\statsmodels\\regression\\linear_model.py:1698: RuntimeWarning: invalid value encountered in double_scalars\n",
      "  return 1 - (np.divide(self.nobs - self.k_constant, self.df_resid)\n",
      "C:\\ProgramData\\Anaconda3\\lib\\site-packages\\scipy\\stats\\_distn_infrastructure.py:1932: RuntimeWarning: invalid value encountered in less_equal\n",
      "  cond2 = cond0 & (x <= _a)\n",
      "C:\\ProgramData\\Anaconda3\\lib\\site-packages\\statsmodels\\regression\\linear_model.py:1620: RuntimeWarning: divide by zero encountered in double_scalars\n",
      "  return np.dot(wresid, wresid) / self.df_resid\n",
      "C:\\ProgramData\\Anaconda3\\lib\\site-packages\\scipy\\stats\\stats.py:1603: UserWarning: kurtosistest only valid for n>=20 ... continuing anyway, n=18\n",
      "  warnings.warn(\"kurtosistest only valid for n>=20 ... continuing \"\n",
      "C:\\ProgramData\\Anaconda3\\lib\\site-packages\\statsmodels\\regression\\linear_model.py:1698: RuntimeWarning: divide by zero encountered in true_divide\n",
      "  return 1 - (np.divide(self.nobs - self.k_constant, self.df_resid)\n",
      "C:\\ProgramData\\Anaconda3\\lib\\site-packages\\statsmodels\\regression\\linear_model.py:1698: RuntimeWarning: invalid value encountered in double_scalars\n",
      "  return 1 - (np.divide(self.nobs - self.k_constant, self.df_resid)\n",
      "C:\\ProgramData\\Anaconda3\\lib\\site-packages\\scipy\\stats\\_distn_infrastructure.py:1932: RuntimeWarning: invalid value encountered in less_equal\n",
      "  cond2 = cond0 & (x <= _a)\n",
      "C:\\ProgramData\\Anaconda3\\lib\\site-packages\\statsmodels\\regression\\linear_model.py:1620: RuntimeWarning: divide by zero encountered in double_scalars\n",
      "  return np.dot(wresid, wresid) / self.df_resid\n",
      "C:\\ProgramData\\Anaconda3\\lib\\site-packages\\scipy\\stats\\stats.py:1603: UserWarning: kurtosistest only valid for n>=20 ... continuing anyway, n=18\n",
      "  warnings.warn(\"kurtosistest only valid for n>=20 ... continuing \"\n",
      "C:\\ProgramData\\Anaconda3\\lib\\site-packages\\statsmodels\\regression\\linear_model.py:1698: RuntimeWarning: divide by zero encountered in true_divide\n",
      "  return 1 - (np.divide(self.nobs - self.k_constant, self.df_resid)\n",
      "C:\\ProgramData\\Anaconda3\\lib\\site-packages\\statsmodels\\regression\\linear_model.py:1698: RuntimeWarning: invalid value encountered in double_scalars\n",
      "  return 1 - (np.divide(self.nobs - self.k_constant, self.df_resid)\n",
      "C:\\ProgramData\\Anaconda3\\lib\\site-packages\\scipy\\stats\\_distn_infrastructure.py:1932: RuntimeWarning: invalid value encountered in less_equal\n",
      "  cond2 = cond0 & (x <= _a)\n",
      "C:\\ProgramData\\Anaconda3\\lib\\site-packages\\statsmodels\\regression\\linear_model.py:1620: RuntimeWarning: divide by zero encountered in double_scalars\n",
      "  return np.dot(wresid, wresid) / self.df_resid\n"
     ]
    },
    {
     "name": "stdout",
     "output_type": "stream",
     "text": [
      "                            coef  std err      t  P>|t|\n",
      "OBRIGAÇÃO_FINAL_POR_SALA  0.0235    0.015  1.534  0.169\n",
      "DIAS_FUNCIONAMENTO        0.4806    0.050  9.695  0.000\n",
      "\n",
      "\n"
     ]
    }
   ],
   "source": [
    "works = ['ALL', 'FOREIGN', 'BRAZILIAN']\n",
    "\n",
    "for i in range(last_count,count_regs):\n",
    "    print(f'Reg_seg {i}, {works[i%3]}: lower bound {bounds[(i-last_count)//3]}, higher bound {bounds[((i-last_count)//3)+1]}')\n",
    "    print(pd.read_html(seg_gregs[f'reg_seg{i}'].summary().\n",
    "                       tables[1].as_html(),header=0,index_col=0)[0].iloc[-2:,:-2])\n",
    "    print('\\n')"
   ]
  },
  {
   "cell_type": "markdown",
   "metadata": {},
   "source": [
    "#### Bounds - [0, 0.85, 0.95, 1.05, 1.15, 50]"
   ]
  },
  {
   "cell_type": "code",
   "execution_count": 346,
   "metadata": {
    "ExecuteTime": {
     "end_time": "2021-06-22T00:49:23.771825Z",
     "start_time": "2021-06-22T00:49:23.520053Z"
    }
   },
   "outputs": [
    {
     "name": "stdout",
     "output_type": "stream",
     "text": [
      "129\n"
     ]
    }
   ],
   "source": [
    "bounds = [0, 0.85, 0.95, 1.05, 1.15, 50]\n",
    "\n",
    "last_count = count_regs\n",
    "\n",
    "formul = 'np.log(RENDA) ~ OBRIGAÇÃO_FINAL_POR_SALA + DIAS_FUNCIONAMENTO + C(REGISTRO_GRUPO) + C(ANO_CINEMATOGRAFICO)'\n",
    "\n",
    "for i in range(len(bounds)-1):\n",
    "    seg_gregs[f'reg_seg{count_regs}'] = smf.ols(formula=formul, \n",
    "                    data = gtds_1718[gtds_1718.CUMPRIMENTO_PROPORCIONAL.between(bounds[i],bounds[i+1])]).fit()\n",
    "    count_regs += 1\n",
    "    seg_gregs[f'reg_seg{count_regs}'] = smf.ols(formula=formul, \n",
    "                    data = gest_1718[gest_1718.CUMPRIMENTO_PROPORCIONAL.between(bounds[i],bounds[i+1])]).fit()\n",
    "    count_regs += 1\n",
    "    seg_gregs[f'reg_seg{count_regs}'] = smf.ols(formula=formul, \n",
    "                    data = gbras_1718[gbras_1718.CUMPRIMENTO_PROPORCIONAL.between(bounds[i],bounds[i+1])]).fit()\n",
    "    count_regs += 1\n",
    "\n",
    "print(count_regs)"
   ]
  },
  {
   "cell_type": "code",
   "execution_count": 347,
   "metadata": {
    "ExecuteTime": {
     "end_time": "2021-06-22T00:49:24.357369Z",
     "start_time": "2021-06-22T00:49:23.772828Z"
    },
    "scrolled": true
   },
   "outputs": [
    {
     "name": "stdout",
     "output_type": "stream",
     "text": [
      "Reg_seg 114, ALL: lower bound 0, higher bound 0.85\n",
      "                            coef  std err      t  P>|t|\n",
      "OBRIGAÇÃO_FINAL_POR_SALA  0.0576    0.009  6.227  0.000\n",
      "DIAS_FUNCIONAMENTO        0.2895    0.176  1.643  0.106\n",
      "\n",
      "\n",
      "Reg_seg 115, FOREIGN: lower bound 0, higher bound 0.85\n",
      "                            coef  std err      t  P>|t|\n",
      "OBRIGAÇÃO_FINAL_POR_SALA  0.0564    0.009  6.249  0.000\n",
      "DIAS_FUNCIONAMENTO        0.2761    0.172  1.605  0.114\n",
      "\n",
      "\n",
      "Reg_seg 116, BRAZILIAN: lower bound 0, higher bound 0.85\n",
      "                            coef  std err      t  P>|t|\n",
      "OBRIGAÇÃO_FINAL_POR_SALA -0.0066    0.021 -0.314  0.755\n",
      "DIAS_FUNCIONAMENTO       -0.0236    0.276 -0.086  0.932\n",
      "\n",
      "\n",
      "Reg_seg 117, ALL: lower bound 0.85, higher bound 0.95\n",
      "                            coef  std err  t  P>|t|\n",
      "OBRIGAÇÃO_FINAL_POR_SALA -0.0215      inf  0    NaN\n",
      "DIAS_FUNCIONAMENTO        0.3430      inf  0    NaN\n",
      "\n",
      "\n",
      "Reg_seg 118, FOREIGN: lower bound 0.85, higher bound 0.95\n",
      "                            coef  std err  t  P>|t|\n",
      "OBRIGAÇÃO_FINAL_POR_SALA -0.0437      inf  0    NaN\n",
      "DIAS_FUNCIONAMENTO        0.3812      inf  0    NaN\n",
      "\n",
      "\n",
      "Reg_seg 119, BRAZILIAN: lower bound 0.85, higher bound 0.95\n",
      "                            coef  std err  t  P>|t|\n",
      "OBRIGAÇÃO_FINAL_POR_SALA  0.1952      inf  0    NaN\n",
      "DIAS_FUNCIONAMENTO        0.0019      inf  0    NaN\n",
      "\n",
      "\n",
      "Reg_seg 120, ALL: lower bound 0.95, higher bound 1.05\n",
      "                            coef  std err      t  P>|t|\n",
      "OBRIGAÇÃO_FINAL_POR_SALA -1.3989    1.174 -1.192  0.444\n",
      "DIAS_FUNCIONAMENTO       -2.2634    1.904 -1.189  0.445\n",
      "\n",
      "\n",
      "Reg_seg 121, FOREIGN: lower bound 0.95, higher bound 1.05\n",
      "                            coef  std err        t  P>|t|\n",
      "OBRIGAÇÃO_FINAL_POR_SALA -1.4861    0.007 -221.857  0.003\n",
      "DIAS_FUNCIONAMENTO       -2.4063    0.011 -221.492  0.003\n",
      "\n",
      "\n",
      "Reg_seg 122, BRAZILIAN: lower bound 0.95, higher bound 1.05\n",
      "                            coef  std err      t  P>|t|\n",
      "OBRIGAÇÃO_FINAL_POR_SALA -1.4987   13.300 -0.113  0.929\n",
      "DIAS_FUNCIONAMENTO       -2.4265   21.571 -0.112  0.929\n",
      "\n",
      "\n",
      "Reg_seg 123, ALL: lower bound 1.05, higher bound 1.15\n",
      "                            coef  std err       t  P>|t|\n",
      "OBRIGAÇÃO_FINAL_POR_SALA -0.0402    0.084  -0.479  0.665\n",
      "DIAS_FUNCIONAMENTO        0.1076    0.006  17.469  0.000"
     ]
    },
    {
     "name": "stderr",
     "output_type": "stream",
     "text": [
      "C:\\ProgramData\\Anaconda3\\lib\\site-packages\\statsmodels\\regression\\linear_model.py:1698: RuntimeWarning: divide by zero encountered in true_divide\n",
      "  return 1 - (np.divide(self.nobs - self.k_constant, self.df_resid)\n",
      "C:\\ProgramData\\Anaconda3\\lib\\site-packages\\statsmodels\\regression\\linear_model.py:1698: RuntimeWarning: invalid value encountered in double_scalars\n",
      "  return 1 - (np.divide(self.nobs - self.k_constant, self.df_resid)\n",
      "C:\\ProgramData\\Anaconda3\\lib\\site-packages\\scipy\\stats\\_distn_infrastructure.py:1932: RuntimeWarning: invalid value encountered in less_equal\n",
      "  cond2 = cond0 & (x <= _a)\n",
      "C:\\ProgramData\\Anaconda3\\lib\\site-packages\\statsmodels\\regression\\linear_model.py:1620: RuntimeWarning: divide by zero encountered in double_scalars\n",
      "  return np.dot(wresid, wresid) / self.df_resid\n",
      "C:\\ProgramData\\Anaconda3\\lib\\site-packages\\statsmodels\\regression\\linear_model.py:1698: RuntimeWarning: divide by zero encountered in true_divide\n",
      "  return 1 - (np.divide(self.nobs - self.k_constant, self.df_resid)\n",
      "C:\\ProgramData\\Anaconda3\\lib\\site-packages\\statsmodels\\regression\\linear_model.py:1698: RuntimeWarning: invalid value encountered in double_scalars\n",
      "  return 1 - (np.divide(self.nobs - self.k_constant, self.df_resid)\n",
      "C:\\ProgramData\\Anaconda3\\lib\\site-packages\\scipy\\stats\\_distn_infrastructure.py:1932: RuntimeWarning: invalid value encountered in less_equal\n",
      "  cond2 = cond0 & (x <= _a)\n",
      "C:\\ProgramData\\Anaconda3\\lib\\site-packages\\statsmodels\\regression\\linear_model.py:1620: RuntimeWarning: divide by zero encountered in double_scalars\n",
      "  return np.dot(wresid, wresid) / self.df_resid\n",
      "C:\\ProgramData\\Anaconda3\\lib\\site-packages\\statsmodels\\regression\\linear_model.py:1698: RuntimeWarning: divide by zero encountered in true_divide\n",
      "  return 1 - (np.divide(self.nobs - self.k_constant, self.df_resid)\n",
      "C:\\ProgramData\\Anaconda3\\lib\\site-packages\\statsmodels\\regression\\linear_model.py:1698: RuntimeWarning: invalid value encountered in double_scalars\n",
      "  return 1 - (np.divide(self.nobs - self.k_constant, self.df_resid)\n",
      "C:\\ProgramData\\Anaconda3\\lib\\site-packages\\scipy\\stats\\_distn_infrastructure.py:1932: RuntimeWarning: invalid value encountered in less_equal\n",
      "  cond2 = cond0 & (x <= _a)\n",
      "C:\\ProgramData\\Anaconda3\\lib\\site-packages\\statsmodels\\regression\\linear_model.py:1620: RuntimeWarning: divide by zero encountered in double_scalars\n",
      "  return np.dot(wresid, wresid) / self.df_resid\n"
     ]
    },
    {
     "name": "stdout",
     "output_type": "stream",
     "text": [
      "\n",
      "\n",
      "\n",
      "Reg_seg 124, FOREIGN: lower bound 1.05, higher bound 1.15\n",
      "                            coef  std err       t  P>|t|\n",
      "OBRIGAÇÃO_FINAL_POR_SALA -0.0466    0.088  -0.531  0.633\n",
      "DIAS_FUNCIONAMENTO        0.1080    0.006  16.763  0.000\n",
      "\n",
      "\n",
      "Reg_seg 125, BRAZILIAN: lower bound 1.05, higher bound 1.15\n",
      "                            coef  std err      t  P>|t|\n",
      "OBRIGAÇÃO_FINAL_POR_SALA -0.0163    0.180 -0.091  0.933\n",
      "DIAS_FUNCIONAMENTO        0.1065    0.013  8.079  0.004\n",
      "\n",
      "\n",
      "Reg_seg 126, ALL: lower bound 1.15, higher bound 50\n",
      "                            coef  std err      t  P>|t|\n",
      "OBRIGAÇÃO_FINAL_POR_SALA  0.0326    0.015  2.156  0.052\n",
      "DIAS_FUNCIONAMENTO        0.2242    0.502  0.447  0.663\n",
      "\n",
      "\n",
      "Reg_seg 127, FOREIGN: lower bound 1.15, higher bound 50\n",
      "                            coef  std err      t  P>|t|\n",
      "OBRIGAÇÃO_FINAL_POR_SALA  0.0744    0.042  1.753  0.107\n",
      "DIAS_FUNCIONAMENTO        0.4956    1.108  0.447  0.663\n",
      "\n",
      "\n",
      "Reg_seg 128, BRAZILIAN: lower bound 1.15, higher bound 50\n",
      "                            coef  std err      t  P>|t|\n",
      "OBRIGAÇÃO_FINAL_POR_SALA  0.0249    0.016  1.545  0.148\n",
      "DIAS_FUNCIONAMENTO        1.3587    0.535  2.540  0.026\n",
      "\n",
      "\n"
     ]
    }
   ],
   "source": [
    "works = ['ALL', 'FOREIGN', 'BRAZILIAN']\n",
    "\n",
    "for i in range(last_count,count_regs):\n",
    "    print(f'Reg_seg {i}, {works[i%3]}: lower bound {bounds[(i-last_count)//3]}, higher bound {bounds[((i-last_count)//3)+1]}')\n",
    "    print(pd.read_html(seg_gregs[f'reg_seg{i}'].summary().\n",
    "                       tables[1].as_html(),header=0,index_col=0)[0].iloc[-2:,:-2])\n",
    "    print('\\n')"
   ]
  },
  {
   "cell_type": "markdown",
   "metadata": {},
   "source": [
    "#### Bounds - [0.99, 1.01]"
   ]
  },
  {
   "cell_type": "code",
   "execution_count": 348,
   "metadata": {
    "ExecuteTime": {
     "end_time": "2021-06-22T00:49:24.412540Z",
     "start_time": "2021-06-22T00:49:24.360377Z"
    }
   },
   "outputs": [
    {
     "name": "stdout",
     "output_type": "stream",
     "text": [
      "132\n"
     ]
    }
   ],
   "source": [
    "bounds = [0.99, 1.01]\n",
    "\n",
    "last_count = count_regs\n",
    "\n",
    "formul = 'np.log(RENDA) ~ OBRIGAÇÃO_FINAL_POR_SALA + DIAS_FUNCIONAMENTO + C(REGISTRO_GRUPO) + C(ANO_CINEMATOGRAFICO)'\n",
    "\n",
    "for i in range(len(bounds)-1):\n",
    "    seg_gregs[f'reg_seg{count_regs}'] = smf.ols(formula=formul, \n",
    "                    data = gtds_1718[gtds_1718.CUMPRIMENTO_PROPORCIONAL.between(bounds[i],bounds[i+1])]).fit()\n",
    "    count_regs += 1\n",
    "    seg_gregs[f'reg_seg{count_regs}'] = smf.ols(formula=formul, \n",
    "                    data = gest_1718[gest_1718.CUMPRIMENTO_PROPORCIONAL.between(bounds[i],bounds[i+1])]).fit()\n",
    "    count_regs += 1\n",
    "    seg_gregs[f'reg_seg{count_regs}'] = smf.ols(formula=formul, \n",
    "                    data = gbras_1718[gbras_1718.CUMPRIMENTO_PROPORCIONAL.between(bounds[i],bounds[i+1])]).fit()\n",
    "    count_regs += 1\n",
    "\n",
    "print(count_regs)"
   ]
  },
  {
   "cell_type": "code",
   "execution_count": 349,
   "metadata": {
    "ExecuteTime": {
     "end_time": "2021-06-22T00:49:25.131721Z",
     "start_time": "2021-06-22T00:49:25.075571Z"
    },
    "scrolled": true
   },
   "outputs": [
    {
     "name": "stdout",
     "output_type": "stream",
     "text": [
      "Reg_seg 129, ALL: lower bound 0.99, higher bound 1.01\n",
      "                            coef  std err  t  P>|t|\n",
      "OBRIGAÇÃO_FINAL_POR_SALA  0.2955      inf  0    NaN\n",
      "DIAS_FUNCIONAMENTO       -0.0533      inf  0    NaN\n",
      "\n",
      "\n",
      "Reg_seg 130, FOREIGN: lower bound 0.99, higher bound 1.01\n",
      "                            coef  std err  t  P>|t|\n",
      "OBRIGAÇÃO_FINAL_POR_SALA  0.2945      inf  0    NaN\n",
      "DIAS_FUNCIONAMENTO       -0.0532      inf  0    NaN\n",
      "\n",
      "\n",
      "Reg_seg 131, BRAZILIAN: lower bound 0.99, higher bound 1.01\n",
      "                            coef  std err  t  P>|t|\n",
      "OBRIGAÇÃO_FINAL_POR_SALA  0.2445      inf  0    NaN\n",
      "DIAS_FUNCIONAMENTO       -0.0127      inf  0    NaN\n",
      "\n",
      "\n"
     ]
    },
    {
     "name": "stderr",
     "output_type": "stream",
     "text": [
      "C:\\ProgramData\\Anaconda3\\lib\\site-packages\\scipy\\stats\\stats.py:1603: UserWarning: kurtosistest only valid for n>=20 ... continuing anyway, n=8\n",
      "  warnings.warn(\"kurtosistest only valid for n>=20 ... continuing \"\n",
      "C:\\ProgramData\\Anaconda3\\lib\\site-packages\\statsmodels\\regression\\linear_model.py:1698: RuntimeWarning: divide by zero encountered in true_divide\n",
      "  return 1 - (np.divide(self.nobs - self.k_constant, self.df_resid)\n",
      "C:\\ProgramData\\Anaconda3\\lib\\site-packages\\statsmodels\\regression\\linear_model.py:1698: RuntimeWarning: invalid value encountered in double_scalars\n",
      "  return 1 - (np.divide(self.nobs - self.k_constant, self.df_resid)\n",
      "C:\\ProgramData\\Anaconda3\\lib\\site-packages\\scipy\\stats\\_distn_infrastructure.py:1932: RuntimeWarning: invalid value encountered in less_equal\n",
      "  cond2 = cond0 & (x <= _a)\n",
      "C:\\ProgramData\\Anaconda3\\lib\\site-packages\\statsmodels\\regression\\linear_model.py:1620: RuntimeWarning: divide by zero encountered in double_scalars\n",
      "  return np.dot(wresid, wresid) / self.df_resid\n",
      "C:\\ProgramData\\Anaconda3\\lib\\site-packages\\scipy\\stats\\stats.py:1603: UserWarning: kurtosistest only valid for n>=20 ... continuing anyway, n=8\n",
      "  warnings.warn(\"kurtosistest only valid for n>=20 ... continuing \"\n",
      "C:\\ProgramData\\Anaconda3\\lib\\site-packages\\statsmodels\\regression\\linear_model.py:1698: RuntimeWarning: divide by zero encountered in true_divide\n",
      "  return 1 - (np.divide(self.nobs - self.k_constant, self.df_resid)\n",
      "C:\\ProgramData\\Anaconda3\\lib\\site-packages\\statsmodels\\regression\\linear_model.py:1698: RuntimeWarning: invalid value encountered in double_scalars\n",
      "  return 1 - (np.divide(self.nobs - self.k_constant, self.df_resid)\n",
      "C:\\ProgramData\\Anaconda3\\lib\\site-packages\\scipy\\stats\\_distn_infrastructure.py:1932: RuntimeWarning: invalid value encountered in less_equal\n",
      "  cond2 = cond0 & (x <= _a)\n",
      "C:\\ProgramData\\Anaconda3\\lib\\site-packages\\statsmodels\\regression\\linear_model.py:1620: RuntimeWarning: divide by zero encountered in double_scalars\n",
      "  return np.dot(wresid, wresid) / self.df_resid\n",
      "C:\\ProgramData\\Anaconda3\\lib\\site-packages\\scipy\\stats\\stats.py:1603: UserWarning: kurtosistest only valid for n>=20 ... continuing anyway, n=8\n",
      "  warnings.warn(\"kurtosistest only valid for n>=20 ... continuing \"\n",
      "C:\\ProgramData\\Anaconda3\\lib\\site-packages\\statsmodels\\regression\\linear_model.py:1698: RuntimeWarning: divide by zero encountered in true_divide\n",
      "  return 1 - (np.divide(self.nobs - self.k_constant, self.df_resid)\n",
      "C:\\ProgramData\\Anaconda3\\lib\\site-packages\\statsmodels\\regression\\linear_model.py:1698: RuntimeWarning: invalid value encountered in double_scalars\n",
      "  return 1 - (np.divide(self.nobs - self.k_constant, self.df_resid)\n",
      "C:\\ProgramData\\Anaconda3\\lib\\site-packages\\scipy\\stats\\_distn_infrastructure.py:1932: RuntimeWarning: invalid value encountered in less_equal\n",
      "  cond2 = cond0 & (x <= _a)\n",
      "C:\\ProgramData\\Anaconda3\\lib\\site-packages\\statsmodels\\regression\\linear_model.py:1620: RuntimeWarning: divide by zero encountered in double_scalars\n",
      "  return np.dot(wresid, wresid) / self.df_resid\n"
     ]
    }
   ],
   "source": [
    "works = ['ALL', 'FOREIGN', 'BRAZILIAN']\n",
    "\n",
    "for i in range(last_count,count_regs):\n",
    "    print(f'Reg_seg {i}, {works[i%3]}: lower bound {bounds[(i-last_count)//3]}, higher bound {bounds[((i-last_count)//3)+1]}')\n",
    "    print(pd.read_html(seg_gregs[f'reg_seg{i}'].summary().\n",
    "                       tables[1].as_html(),header=0,index_col=0)[0].iloc[-2:,:-2])\n",
    "    print('\\n')"
   ]
  },
  {
   "cell_type": "markdown",
   "metadata": {},
   "source": [
    "## Alternative regressions"
   ]
  },
  {
   "cell_type": "markdown",
   "metadata": {},
   "source": [
    "### Dependent variable: number of opening days"
   ]
  },
  {
   "cell_type": "code",
   "execution_count": 16,
   "metadata": {
    "ExecuteTime": {
     "end_time": "2021-06-22T00:59:46.200085Z",
     "start_time": "2021-06-22T00:59:46.197055Z"
    }
   },
   "outputs": [],
   "source": [
    "group_days = {}\n",
    "\n",
    "d_count = 0\n",
    "\n",
    "weight_funcs = [\n",
    "    'CUMP_QUADRATIC','CUMP_NORMALIZADO', 'CUMP_LINEAR','CUMP_TRIWEIGHT']"
   ]
  },
  {
   "cell_type": "markdown",
   "metadata": {},
   "source": [
    "#### 2017-2019"
   ]
  },
  {
   "cell_type": "code",
   "execution_count": 351,
   "metadata": {
    "ExecuteTime": {
     "end_time": "2021-06-22T00:49:34.183126Z",
     "start_time": "2021-06-22T00:49:33.650558Z"
    }
   },
   "outputs": [],
   "source": [
    "last_d_count = d_count # to get num range of regressions to be executed\n",
    "\n",
    "for f in weight_funcs:\n",
    "    # adjust formula as we run through the weighting funcs\n",
    "    formul = f'DIAS_FUNCIONAMENTO ~ OBRIGAÇÃO_TOTAL_POR_SALA*{f} + C(REGISTRO_GRUPO) + C(ANO_CINEMATOGRAFICO)'\n",
    "    group_days[f'reg_gcd{d_count}'] = smf.ols(formula = formul, data=gtds_1719).fit()\n",
    "    d_count += 1\n",
    "    group_days[f'reg_gcd{d_count}'] = smf.ols(formula = formul, data=gest_1719).fit()\n",
    "    d_count += 1\n",
    "    group_days[f'reg_gcd{d_count}'] = smf.ols(formula = formul, data=gbras_1719).fit()\n",
    "    d_count += 1"
   ]
  },
  {
   "cell_type": "code",
   "execution_count": 352,
   "metadata": {
    "ExecuteTime": {
     "end_time": "2021-06-22T00:49:35.657672Z",
     "start_time": "2021-06-22T00:49:34.184128Z"
    }
   },
   "outputs": [
    {
     "name": "stdout",
     "output_type": "stream",
     "text": [
      "Reg_group_days 0, ALL, weighting function CUMP_QUADRATIC:\n",
      "                                           coef  std err      t  P>|t|\n",
      "OBRIGAÇÃO_TOTAL_POR_SALA                -0.0099    0.033 -0.303  0.762\n",
      "CUMP_QUADRATIC                           0.3870    1.129  0.343  0.732\n",
      "OBRIGAÇÃO_TOTAL_POR_SALA:CUMP_QUADRATIC -0.0145    0.035 -0.412  0.681\n",
      "\n",
      "\n",
      "Reg_group_days 1, FOREIGN, weighting function CUMP_QUADRATIC:\n",
      "                                           coef  std err      t  P>|t|\n",
      "OBRIGAÇÃO_TOTAL_POR_SALA                -0.0097    0.033 -0.295  0.768\n",
      "CUMP_QUADRATIC                           0.3925    1.143  0.344  0.731\n",
      "OBRIGAÇÃO_TOTAL_POR_SALA:CUMP_QUADRATIC -0.0146    0.035 -0.412  0.680\n",
      "\n",
      "\n",
      "Reg_group_days 2, BRAZILIAN, weighting function CUMP_QUADRATIC:\n",
      "                                           coef  std err      t  P>|t|\n",
      "OBRIGAÇÃO_TOTAL_POR_SALA                -0.0094    0.035 -0.265  0.791\n",
      "CUMP_QUADRATIC                           0.4126    1.242  0.332  0.740\n",
      "OBRIGAÇÃO_TOTAL_POR_SALA:CUMP_QUADRATIC -0.0150    0.038 -0.393  0.695\n",
      "\n",
      "\n",
      "Reg_group_days 3, ALL, weighting function CUMP_NORMALIZADO:\n",
      "                                             coef  std err      t  P>|t|\n",
      "OBRIGAÇÃO_TOTAL_POR_SALA                   0.0090    0.070  0.129  0.898\n",
      "CUMP_NORMALIZADO                           2.3501    5.535  0.425  0.671\n",
      "OBRIGAÇÃO_TOTAL_POR_SALA:CUMP_NORMALIZADO -0.0841    0.181 -0.464  0.643\n",
      "\n",
      "\n",
      "Reg_group_days 4, FOREIGN, weighting function CUMP_NORMALIZADO:\n",
      "                                             coef  std err      t  P>|t|\n",
      "OBRIGAÇÃO_TOTAL_POR_SALA                   0.0094    0.071  0.134  0.894\n",
      "CUMP_NORMALIZADO                           2.3940    5.643  0.424  0.672\n",
      "OBRIGAÇÃO_TOTAL_POR_SALA:CUMP_NORMALIZADO -0.0853    0.184 -0.464  0.643\n",
      "\n",
      "\n",
      "Reg_group_days 5, BRAZILIAN, weighting function CUMP_NORMALIZADO:\n",
      "                                             coef  std err      t  P>|t|\n",
      "OBRIGAÇÃO_TOTAL_POR_SALA                   0.0088    0.074  0.119  0.906\n",
      "CUMP_NORMALIZADO                           2.3619    5.857  0.403  0.687\n",
      "OBRIGAÇÃO_TOTAL_POR_SALA:CUMP_NORMALIZADO -0.0836    0.192 -0.435  0.664\n",
      "\n",
      "\n",
      "Reg_group_days 6, ALL, weighting function CUMP_LINEAR:\n",
      "                                        coef  std err      t  P>|t|\n",
      "OBRIGAÇÃO_TOTAL_POR_SALA             -0.0091    0.022 -0.414  0.679\n",
      "CUMP_LINEAR                           0.5260    0.923  0.570  0.569\n",
      "OBRIGAÇÃO_TOTAL_POR_SALA:CUMP_LINEAR -0.0180    0.027 -0.664  0.507\n",
      "\n",
      "\n",
      "Reg_group_days 7, FOREIGN, weighting function CUMP_LINEAR:\n",
      "                                        coef  std err      t  P>|t|\n",
      "OBRIGAÇÃO_TOTAL_POR_SALA             -0.0090    0.022 -0.403  0.687\n",
      "CUMP_LINEAR                           0.5324    0.932  0.571  0.568\n",
      "OBRIGAÇÃO_TOTAL_POR_SALA:CUMP_LINEAR -0.0181    0.027 -0.665  0.506\n",
      "\n",
      "\n",
      "Reg_group_days 8, BRAZILIAN, weighting function CUMP_LINEAR:\n",
      "                                        coef  std err      t  P>|t|\n",
      "OBRIGAÇÃO_TOTAL_POR_SALA             -0.0086    0.023 -0.371  0.711\n",
      "CUMP_LINEAR                           0.5637    0.986  0.572  0.568\n",
      "OBRIGAÇÃO_TOTAL_POR_SALA:CUMP_LINEAR -0.0187    0.029 -0.655  0.513\n",
      "\n",
      "\n",
      "Reg_group_days 9, ALL, weighting function CUMP_TRIWEIGHT:\n",
      "                                           coef  std err      t  P>|t|\n",
      "OBRIGAÇÃO_TOTAL_POR_SALA                -0.0091    0.022 -0.414  0.679\n",
      "CUMP_TRIWEIGHT                           0.5260    0.923  0.570  0.569\n",
      "OBRIGAÇÃO_TOTAL_POR_SALA:CUMP_TRIWEIGHT -0.0180    0.027 -0.664  0.507\n",
      "\n",
      "\n",
      "Reg_group_days 10, FOREIGN, weighting function CUMP_TRIWEIGHT:\n",
      "                                           coef  std err      t  P>|t|\n",
      "OBRIGAÇÃO_TOTAL_POR_SALA                -0.0090    0.022 -0.403  0.687\n",
      "CUMP_TRIWEIGHT                           0.5324    0.932  0.571  0.568\n",
      "OBRIGAÇÃO_TOTAL_POR_SALA:CUMP_TRIWEIGHT -0.0181    0.027 -0.665  0.506\n",
      "\n",
      "\n",
      "Reg_group_days 11, BRAZILIAN, weighting function CUMP_TRIWEIGHT:\n",
      "                                           coef  std err      t  P>|t|\n",
      "OBRIGAÇÃO_TOTAL_POR_SALA                -0.0086    0.023 -0.371  0.711\n",
      "CUMP_TRIWEIGHT                           0.5637    0.986  0.572  0.568\n",
      "OBRIGAÇÃO_TOTAL_POR_SALA:CUMP_TRIWEIGHT -0.0187    0.029 -0.655  0.513\n",
      "\n",
      "\n"
     ]
    }
   ],
   "source": [
    "works = ['ALL', 'FOREIGN', 'BRAZILIAN']\n",
    "\n",
    "for i in range(last_d_count, d_count):\n",
    "    print(f'Reg_group_days {i}, {works[i%3]}, weighting function {weight_funcs[(i-last_d_count)//3]}:')\n",
    "    print(pd.read_html(group_days[f'reg_gcd{i}'].summary().\n",
    "                       tables[1].as_html(),header=0,index_col=0)[0].iloc[-3:,:-2])\n",
    "    print('\\n')"
   ]
  },
  {
   "cell_type": "markdown",
   "metadata": {},
   "source": [
    "#### 2017-2018"
   ]
  },
  {
   "cell_type": "code",
   "execution_count": 355,
   "metadata": {
    "ExecuteTime": {
     "end_time": "2021-06-22T00:50:30.511925Z",
     "start_time": "2021-06-22T00:50:30.093503Z"
    }
   },
   "outputs": [],
   "source": [
    "last_d_count = d_count # to get num range of regressions to be executed\n",
    "\n",
    "for f in weight_funcs:\n",
    "    # adjust formula as we run through the weighting funcs\n",
    "    formul = f'DIAS_FUNCIONAMENTO ~ OBRIGAÇÃO_TOTAL_POR_SALA*{f} + C(REGISTRO_GRUPO) + C(ANO_CINEMATOGRAFICO)'\n",
    "    group_days[f'reg_gcd{d_count}'] = smf.ols(formula = formul, data=gtds_1718).fit()\n",
    "    d_count += 1\n",
    "    group_days[f'reg_gcd{d_count}'] = smf.ols(formula = formul, data=gest_1718).fit()\n",
    "    d_count += 1\n",
    "    group_days[f'reg_gcd{d_count}'] = smf.ols(formula = formul, data=gbras_1718).fit()\n",
    "    d_count += 1"
   ]
  },
  {
   "cell_type": "code",
   "execution_count": 356,
   "metadata": {
    "ExecuteTime": {
     "end_time": "2021-06-22T00:50:31.876336Z",
     "start_time": "2021-06-22T00:50:30.513931Z"
    },
    "scrolled": true
   },
   "outputs": [
    {
     "name": "stdout",
     "output_type": "stream",
     "text": [
      "Reg_group_days 24, ALL, weighting function CUMP_QUADRATIC:\n",
      "                                           coef  std err      t  P>|t|\n",
      "OBRIGAÇÃO_TOTAL_POR_SALA                 0.0379    0.056  0.678  0.499\n",
      "CUMP_QUADRATIC                          -0.1412    1.182 -0.119  0.905\n",
      "OBRIGAÇÃO_TOTAL_POR_SALA:CUMP_QUADRATIC  0.0027    0.037  0.073  0.942\n",
      "\n",
      "\n",
      "Reg_group_days 25, FOREIGN, weighting function CUMP_QUADRATIC:\n",
      "                                           coef  std err      t  P>|t|\n",
      "OBRIGAÇÃO_TOTAL_POR_SALA                 0.0379    0.056  0.675  0.500\n",
      "CUMP_QUADRATIC                          -0.1399    1.185 -0.118  0.906\n",
      "OBRIGAÇÃO_TOTAL_POR_SALA:CUMP_QUADRATIC  0.0027    0.037  0.071  0.943\n",
      "\n",
      "\n",
      "Reg_group_days 26, BRAZILIAN, weighting function CUMP_QUADRATIC:\n",
      "                                           coef  std err      t  P>|t|\n",
      "OBRIGAÇÃO_TOTAL_POR_SALA                 0.0233    0.062  0.378  0.706\n",
      "CUMP_QUADRATIC                          -0.3454    1.340 -0.258  0.797\n",
      "OBRIGAÇÃO_TOTAL_POR_SALA:CUMP_QUADRATIC  0.0084    0.041  0.202  0.840\n",
      "\n",
      "\n",
      "Reg_group_days 27, ALL, weighting function CUMP_NORMALIZADO:\n",
      "                                             coef  std err      t  P>|t|\n",
      "OBRIGAÇÃO_TOTAL_POR_SALA                   0.0347    0.085  0.411  0.682\n",
      "CUMP_NORMALIZADO                          -0.8072    6.105 -0.132  0.895\n",
      "OBRIGAÇÃO_TOTAL_POR_SALA:CUMP_NORMALIZADO  0.0146    0.198  0.074  0.941\n",
      "\n",
      "\n",
      "Reg_group_days 28, FOREIGN, weighting function CUMP_NORMALIZADO:\n",
      "                                             coef  std err      t  P>|t|\n",
      "OBRIGAÇÃO_TOTAL_POR_SALA                   0.0348    0.085  0.410  0.682\n",
      "CUMP_NORMALIZADO                          -0.7982    6.122 -0.130  0.896\n",
      "OBRIGAÇÃO_TOTAL_POR_SALA:CUMP_NORMALIZADO  0.0143    0.199  0.072  0.943\n",
      "\n",
      "\n",
      "Reg_group_days 29, BRAZILIAN, weighting function CUMP_NORMALIZADO:\n",
      "                                             coef  std err      t  P>|t|\n",
      "OBRIGAÇÃO_TOTAL_POR_SALA                   0.0180    0.092  0.197  0.844\n",
      "CUMP_NORMALIZADO                          -1.4458    6.559 -0.220  0.826\n",
      "OBRIGAÇÃO_TOTAL_POR_SALA:CUMP_NORMALIZADO  0.0336    0.211  0.159  0.874\n",
      "\n",
      "\n",
      "Reg_group_days 30, ALL, weighting function CUMP_LINEAR:\n",
      "                                        coef  std err      t  P>|t|\n",
      "OBRIGAÇÃO_TOTAL_POR_SALA              0.0453    0.052  0.875  0.383\n",
      "CUMP_LINEAR                           0.2349    0.964  0.244  0.808\n",
      "OBRIGAÇÃO_TOTAL_POR_SALA:CUMP_LINEAR -0.0090    0.029 -0.311  0.756\n",
      "\n",
      "\n",
      "Reg_group_days 31, FOREIGN, weighting function CUMP_LINEAR:\n",
      "                                        coef  std err      t  P>|t|\n",
      "OBRIGAÇÃO_TOTAL_POR_SALA              0.0453    0.052  0.872  0.384\n",
      "CUMP_LINEAR                           0.2355    0.966  0.244  0.808\n",
      "OBRIGAÇÃO_TOTAL_POR_SALA:CUMP_LINEAR -0.0090    0.029 -0.311  0.756\n",
      "\n",
      "\n",
      "Reg_group_days 32, BRAZILIAN, weighting function CUMP_LINEAR:\n",
      "                                        coef  std err      t  P>|t|\n",
      "OBRIGAÇÃO_TOTAL_POR_SALA              0.0347    0.056  0.620  0.536\n",
      "CUMP_LINEAR                           0.1687    1.045  0.161  0.872\n",
      "OBRIGAÇÃO_TOTAL_POR_SALA:CUMP_LINEAR -0.0072    0.031 -0.233  0.816\n",
      "\n",
      "\n",
      "Reg_group_days 33, ALL, weighting function CUMP_TRIWEIGHT:\n",
      "                                           coef  std err      t  P>|t|\n",
      "OBRIGAÇÃO_TOTAL_POR_SALA                 0.0453    0.052  0.875  0.383\n",
      "CUMP_TRIWEIGHT                           0.2349    0.964  0.244  0.808\n",
      "OBRIGAÇÃO_TOTAL_POR_SALA:CUMP_TRIWEIGHT -0.0090    0.029 -0.311  0.756\n",
      "\n",
      "\n",
      "Reg_group_days 34, FOREIGN, weighting function CUMP_TRIWEIGHT:\n",
      "                                           coef  std err      t  P>|t|\n",
      "OBRIGAÇÃO_TOTAL_POR_SALA                 0.0453    0.052  0.872  0.384\n",
      "CUMP_TRIWEIGHT                           0.2355    0.966  0.244  0.808\n",
      "OBRIGAÇÃO_TOTAL_POR_SALA:CUMP_TRIWEIGHT -0.0090    0.029 -0.311  0.756\n",
      "\n",
      "\n",
      "Reg_group_days 35, BRAZILIAN, weighting function CUMP_TRIWEIGHT:\n",
      "                                           coef  std err      t  P>|t|\n",
      "OBRIGAÇÃO_TOTAL_POR_SALA                 0.0347    0.056  0.620  0.536\n",
      "CUMP_TRIWEIGHT                           0.1687    1.045  0.161  0.872\n",
      "OBRIGAÇÃO_TOTAL_POR_SALA:CUMP_TRIWEIGHT -0.0072    0.031 -0.233  0.816\n",
      "\n",
      "\n"
     ]
    }
   ],
   "source": [
    "works = ['ALL', 'FOREIGN', 'BRAZILIAN']\n",
    "\n",
    "for i in range(last_d_count, d_count):\n",
    "    print(f'Reg_group_days {i}, {works[i%3]}, weighting function {weight_funcs[(i-last_d_count)//3]}:')\n",
    "    print(pd.read_html(group_days[f'reg_gcd{i}'].summary().\n",
    "                       tables[1].as_html(),header=0,index_col=0)[0].iloc[-3:,:-2])\n",
    "    print('\\n')"
   ]
  },
  {
   "cell_type": "markdown",
   "metadata": {},
   "source": [
    "### Dependent variable: number of sessions"
   ]
  },
  {
   "cell_type": "code",
   "execution_count": 17,
   "metadata": {
    "ExecuteTime": {
     "end_time": "2021-06-22T00:59:51.575082Z",
     "start_time": "2021-06-22T00:59:51.571050Z"
    }
   },
   "outputs": [],
   "source": [
    "group_sessions = {}\n",
    "\n",
    "d_count = 0\n",
    "\n",
    "weight_funcs = [\n",
    "    'CUMP_QUADRATIC','CUMP_NORMALIZADO', 'CUMP_LINEAR','CUMP_TRIWEIGHT']"
   ]
  },
  {
   "cell_type": "markdown",
   "metadata": {},
   "source": [
    "#### 2017-2019"
   ]
  },
  {
   "cell_type": "code",
   "execution_count": 18,
   "metadata": {
    "ExecuteTime": {
     "end_time": "2021-06-22T00:59:54.894535Z",
     "start_time": "2021-06-22T00:59:54.292110Z"
    }
   },
   "outputs": [],
   "source": [
    "last_d_count = d_count # to get num range of regressions to be executed\n",
    "\n",
    "for f in weight_funcs:\n",
    "    # adjust formula as we run through the weighting funcs\n",
    "    formul = f'QTDE_SESSOES ~ OBRIGAÇÃO_TOTAL_POR_SALA*{f} + C(REGISTRO_GRUPO) + C(ANO_CINEMATOGRAFICO)'\n",
    "    group_sessions[f'reg_gcd{d_count}'] = smf.ols(formula = formul, data=gtds_1719).fit()\n",
    "    d_count += 1\n",
    "    group_sessions[f'reg_gcd{d_count}'] = smf.ols(formula = formul, data=gest_1719).fit()\n",
    "    d_count += 1\n",
    "    group_sessions[f'reg_gcd{d_count}'] = smf.ols(formula = formul, data=gbras_1719).fit()\n",
    "    d_count += 1"
   ]
  },
  {
   "cell_type": "code",
   "execution_count": 19,
   "metadata": {
    "ExecuteTime": {
     "end_time": "2021-06-22T00:59:56.512098Z",
     "start_time": "2021-06-22T00:59:54.895537Z"
    }
   },
   "outputs": [
    {
     "name": "stdout",
     "output_type": "stream",
     "text": [
      "Reg_group_sessions 0, ALL, weighting function CUMP_QUADRATIC:\n",
      "                                              coef   std err      t  P>|t|\n",
      "OBRIGAÇÃO_TOTAL_POR_SALA                 -117.0066   101.213 -1.156  0.248\n",
      "CUMP_QUADRATIC                          -2723.3826  3509.155 -0.776  0.438\n",
      "OBRIGAÇÃO_TOTAL_POR_SALA:CUMP_QUADRATIC    87.9495   109.113  0.806  0.421\n",
      "\n",
      "\n",
      "Reg_group_sessions 1, FOREIGN, weighting function CUMP_QUADRATIC:\n",
      "                                              coef   std err      t  P>|t|\n",
      "OBRIGAÇÃO_TOTAL_POR_SALA                   -3.3104   103.536 -0.032  0.975\n",
      "CUMP_QUADRATIC                           2375.7351  3595.100  0.661  0.509\n",
      "OBRIGAÇÃO_TOTAL_POR_SALA:CUMP_QUADRATIC   -76.6599   111.513 -0.687  0.492\n",
      "\n",
      "\n",
      "Reg_group_sessions 2, BRAZILIAN, weighting function CUMP_QUADRATIC:\n",
      "                                              coef   std err      t  P>|t|\n",
      "OBRIGAÇÃO_TOTAL_POR_SALA                 -127.8492    32.421 -3.943    0.0\n",
      "CUMP_QUADRATIC                          -5596.1705  1136.594 -4.924    0.0\n",
      "OBRIGAÇÃO_TOTAL_POR_SALA:CUMP_QUADRATIC   180.2012    34.990  5.150    0.0\n",
      "\n",
      "\n",
      "Reg_group_sessions 3, ALL, weighting function CUMP_NORMALIZADO:\n",
      "                                                 coef    std err      t  P>|t|\n",
      "OBRIGAÇÃO_TOTAL_POR_SALA                    -199.0227    216.689 -0.918  0.359\n",
      "CUMP_NORMALIZADO                          -12570.0000  17200.000 -0.731  0.465\n",
      "OBRIGAÇÃO_TOTAL_POR_SALA:CUMP_NORMALIZADO    422.1930    563.403  0.749  0.454\n",
      "\n",
      "\n",
      "Reg_group_sessions 4, FOREIGN, weighting function CUMP_NORMALIZADO:\n",
      "                                                 coef    std err      t  P>|t|\n",
      "OBRIGAÇÃO_TOTAL_POR_SALA                      91.2771    222.381  0.410  0.682\n",
      "CUMP_NORMALIZADO                           13070.0000  17800.000  0.736  0.462\n",
      "OBRIGAÇÃO_TOTAL_POR_SALA:CUMP_NORMALIZADO   -429.7953    578.197 -0.743  0.458\n",
      "\n",
      "\n",
      "Reg_group_sessions 5, BRAZILIAN, weighting function CUMP_NORMALIZADO:\n",
      "                                                 coef   std err      t  P>|t|\n",
      "OBRIGAÇÃO_TOTAL_POR_SALA                    -304.2459    67.747 -4.491    0.0\n",
      "CUMP_NORMALIZADO                          -26610.0000  5368.849 -4.957    0.0\n",
      "OBRIGAÇÃO_TOTAL_POR_SALA:CUMP_NORMALIZADO    888.4142   176.019  5.047    0.0\n",
      "\n",
      "\n",
      "Reg_group_sessions 6, ALL, weighting function CUMP_LINEAR:\n",
      "                                          coef   std err      t  P>|t|\n",
      "OBRIGAÇÃO_TOTAL_POR_SALA              -53.6496    68.700 -0.781  0.435\n",
      "CUMP_LINEAR                          -794.1936  2871.256 -0.277  0.782\n",
      "OBRIGAÇÃO_TOTAL_POR_SALA:CUMP_LINEAR   22.2996    84.104  0.265  0.791\n",
      "\n",
      "\n",
      "Reg_group_sessions 7, FOREIGN, weighting function CUMP_LINEAR:\n",
      "                                           coef   std err      t  P>|t|\n",
      "OBRIGAÇÃO_TOTAL_POR_SALA                39.9681    69.919  0.572  0.568\n",
      "CUMP_LINEAR                           4320.1722  2924.267  1.477  0.140\n",
      "OBRIGAÇÃO_TOTAL_POR_SALA:CUMP_LINEAR  -142.0561    85.486 -1.662  0.097\n",
      "\n",
      "\n",
      "Reg_group_sessions 8, BRAZILIAN, weighting function CUMP_LINEAR:\n",
      "                                           coef  std err      t  P>|t|\n",
      "OBRIGAÇÃO_TOTAL_POR_SALA               -97.6048   20.745 -4.705    0.0\n",
      "CUMP_LINEAR                          -5293.1477  879.433 -6.019    0.0\n",
      "OBRIGAÇÃO_TOTAL_POR_SALA:CUMP_LINEAR   169.6236   25.438  6.668    0.0\n",
      "\n",
      "\n",
      "Reg_group_sessions 9, ALL, weighting function CUMP_TRIWEIGHT:\n",
      "                                             coef   std err      t  P>|t|\n",
      "OBRIGAÇÃO_TOTAL_POR_SALA                 -53.6496    68.700 -0.781  0.435\n",
      "CUMP_TRIWEIGHT                          -794.1936  2871.256 -0.277  0.782\n",
      "OBRIGAÇÃO_TOTAL_POR_SALA:CUMP_TRIWEIGHT   22.2996    84.104  0.265  0.791\n",
      "\n",
      "\n",
      "Reg_group_sessions 10, FOREIGN, weighting function CUMP_TRIWEIGHT:\n",
      "                                              coef   std err      t  P>|t|\n",
      "OBRIGAÇÃO_TOTAL_POR_SALA                   39.9681    69.919  0.572  0.568\n",
      "CUMP_TRIWEIGHT                           4320.1722  2924.267  1.477  0.140\n",
      "OBRIGAÇÃO_TOTAL_POR_SALA:CUMP_TRIWEIGHT  -142.0561    85.486 -1.662  0.097\n",
      "\n",
      "\n",
      "Reg_group_sessions 11, BRAZILIAN, weighting function CUMP_TRIWEIGHT:\n",
      "                                              coef  std err      t  P>|t|\n",
      "OBRIGAÇÃO_TOTAL_POR_SALA                  -97.6048   20.745 -4.705    0.0\n",
      "CUMP_TRIWEIGHT                          -5293.1477  879.433 -6.019    0.0\n",
      "OBRIGAÇÃO_TOTAL_POR_SALA:CUMP_TRIWEIGHT   169.6236   25.438  6.668    0.0\n",
      "\n",
      "\n"
     ]
    }
   ],
   "source": [
    "works = ['ALL', 'FOREIGN', 'BRAZILIAN']\n",
    "\n",
    "for i in range(last_d_count, d_count):\n",
    "    print(f'Reg_group_sessions {i}, {works[i%3]}, weighting function {weight_funcs[(i-last_d_count)//3]}:')\n",
    "    print(pd.read_html(group_sessions[f'reg_gcd{i}'].summary().\n",
    "                       tables[1].as_html(),header=0,index_col=0)[0].iloc[-3:,:-2])\n",
    "    print('\\n')"
   ]
  },
  {
   "cell_type": "markdown",
   "metadata": {},
   "source": [
    "#### 2017-2018"
   ]
  },
  {
   "cell_type": "code",
   "execution_count": 20,
   "metadata": {
    "ExecuteTime": {
     "end_time": "2021-06-22T00:59:56.946251Z",
     "start_time": "2021-06-22T00:59:56.514102Z"
    }
   },
   "outputs": [],
   "source": [
    "last_d_count = d_count # to get num range of regressions to be executed\n",
    "\n",
    "for f in weight_funcs:\n",
    "    # adjust formula as we run through the weighting funcs\n",
    "    formul = f'QTDE_SESSOES ~ OBRIGAÇÃO_TOTAL_POR_SALA*{f} + C(REGISTRO_GRUPO) + C(ANO_CINEMATOGRAFICO)'\n",
    "    group_sessions[f'reg_gcd{d_count}'] = smf.ols(formula = formul, data=gtds_1718).fit()\n",
    "    d_count += 1\n",
    "    group_sessions[f'reg_gcd{d_count}'] = smf.ols(formula = formul, data=gest_1718).fit()\n",
    "    d_count += 1\n",
    "    group_sessions[f'reg_gcd{d_count}'] = smf.ols(formula = formul, data=gbras_1718).fit()\n",
    "    d_count += 1"
   ]
  },
  {
   "cell_type": "code",
   "execution_count": 21,
   "metadata": {
    "ExecuteTime": {
     "end_time": "2021-06-22T00:59:58.253404Z",
     "start_time": "2021-06-22T00:59:56.948258Z"
    },
    "scrolled": true
   },
   "outputs": [
    {
     "name": "stdout",
     "output_type": "stream",
     "text": [
      "Reg_group_sessions 12, ALL, weighting function CUMP_QUADRATIC:\n",
      "                                             coef   std err      t  P>|t|\n",
      "OBRIGAÇÃO_TOTAL_POR_SALA                 206.1966   199.532  1.033  0.303\n",
      "CUMP_QUADRATIC                          -480.5586  4214.425 -0.114  0.909\n",
      "OBRIGAÇÃO_TOTAL_POR_SALA:CUMP_QUADRATIC   14.1765   132.814  0.107  0.915\n",
      "\n",
      "\n",
      "Reg_group_sessions 13, FOREIGN, weighting function CUMP_QUADRATIC:\n",
      "                                              coef   std err      t  P>|t|\n",
      "OBRIGAÇÃO_TOTAL_POR_SALA                  216.3631   210.188  1.029  0.305\n",
      "CUMP_QUADRATIC                           1994.3070  4439.746  0.449  0.654\n",
      "OBRIGAÇÃO_TOTAL_POR_SALA:CUMP_QUADRATIC   -68.0015   139.921 -0.486  0.628\n",
      "\n",
      "\n",
      "Reg_group_sessions 14, BRAZILIAN, weighting function CUMP_QUADRATIC:\n",
      "                                              coef   std err      t  P>|t|\n",
      "OBRIGAÇÃO_TOTAL_POR_SALA                  -16.0771    58.929 -0.273  0.785\n",
      "CUMP_QUADRATIC                          -2801.0148  1280.568 -2.187  0.030\n",
      "OBRIGAÇÃO_TOTAL_POR_SALA:CUMP_QUADRATIC    90.9898    39.565  2.300  0.023\n",
      "\n",
      "\n",
      "Reg_group_sessions 15, ALL, weighting function CUMP_NORMALIZADO:\n",
      "                                                coef    std err      t  P>|t|\n",
      "OBRIGAÇÃO_TOTAL_POR_SALA                    199.7141    301.700  0.662  0.509\n",
      "CUMP_NORMALIZADO                          -1559.0926  21800.000 -0.072  0.943\n",
      "OBRIGAÇÃO_TOTAL_POR_SALA:CUMP_NORMALIZADO    49.5430    706.249  0.070  0.944\n",
      "\n",
      "\n",
      "Reg_group_sessions 16, FOREIGN, weighting function CUMP_NORMALIZADO:\n",
      "                                                 coef    std err      t  P>|t|\n",
      "OBRIGAÇÃO_TOTAL_POR_SALA                     302.6705    317.799  0.952  0.342\n",
      "CUMP_NORMALIZADO                           11500.0000  22900.000  0.501  0.617\n",
      "OBRIGAÇÃO_TOTAL_POR_SALA:CUMP_NORMALIZADO   -385.4763    744.038 -0.518  0.605\n",
      "\n",
      "\n",
      "Reg_group_sessions 17, BRAZILIAN, weighting function CUMP_NORMALIZADO:\n",
      "                                                coef   std err      t  P>|t|\n",
      "OBRIGAÇÃO_TOTAL_POR_SALA                    -106.881    87.739 -1.218  0.225\n",
      "CUMP_NORMALIZADO                          -13680.000  6276.616 -2.180  0.031\n",
      "OBRIGAÇÃO_TOTAL_POR_SALA:CUMP_NORMALIZADO    451.962   202.370  2.233  0.027\n",
      "\n",
      "\n",
      "Reg_group_sessions 18, ALL, weighting function CUMP_LINEAR:\n",
      "                                           coef   std err      t  P>|t|\n",
      "OBRIGAÇÃO_TOTAL_POR_SALA               250.9311   184.537  1.360  0.176\n",
      "CUMP_LINEAR                           1813.8361  3433.771  0.528  0.598\n",
      "OBRIGAÇÃO_TOTAL_POR_SALA:CUMP_LINEAR   -61.6877   103.014 -0.599  0.550\n",
      "\n",
      "\n",
      "Reg_group_sessions 19, FOREIGN, weighting function CUMP_LINEAR:\n",
      "                                           coef   std err      t  P>|t|\n",
      "OBRIGAÇÃO_TOTAL_POR_SALA               238.5173   193.932  1.230  0.220\n",
      "CUMP_LINEAR                           3743.2952  3608.498  1.037  0.301\n",
      "OBRIGAÇÃO_TOTAL_POR_SALA:CUMP_LINEAR  -126.0135   108.261 -1.164  0.246\n",
      "\n",
      "\n",
      "Reg_group_sessions 20, BRAZILIAN, weighting function CUMP_LINEAR:\n",
      "                                           coef  std err      t  P>|t|\n",
      "OBRIGAÇÃO_TOTAL_POR_SALA                13.6565   53.473  0.255  0.799\n",
      "CUMP_LINEAR                          -2022.6064  998.433 -2.026  0.044\n",
      "OBRIGAÇÃO_TOTAL_POR_SALA:CUMP_LINEAR    66.2680   29.482  2.248  0.026\n",
      "\n",
      "\n",
      "Reg_group_sessions 21, ALL, weighting function CUMP_TRIWEIGHT:\n",
      "                                              coef   std err      t  P>|t|\n",
      "OBRIGAÇÃO_TOTAL_POR_SALA                  250.9311   184.537  1.360  0.176\n",
      "CUMP_TRIWEIGHT                           1813.8361  3433.771  0.528  0.598\n",
      "OBRIGAÇÃO_TOTAL_POR_SALA:CUMP_TRIWEIGHT   -61.6877   103.014 -0.599  0.550\n",
      "\n",
      "\n",
      "Reg_group_sessions 22, FOREIGN, weighting function CUMP_TRIWEIGHT:\n",
      "                                              coef   std err      t  P>|t|\n",
      "OBRIGAÇÃO_TOTAL_POR_SALA                  238.5173   193.932  1.230  0.220\n",
      "CUMP_TRIWEIGHT                           3743.2952  3608.498  1.037  0.301\n",
      "OBRIGAÇÃO_TOTAL_POR_SALA:CUMP_TRIWEIGHT  -126.0135   108.261 -1.164  0.246\n",
      "\n",
      "\n",
      "Reg_group_sessions 23, BRAZILIAN, weighting function CUMP_TRIWEIGHT:\n",
      "                                              coef  std err      t  P>|t|\n",
      "OBRIGAÇÃO_TOTAL_POR_SALA                   13.6565   53.473  0.255  0.799\n",
      "CUMP_TRIWEIGHT                          -2022.6064  998.433 -2.026  0.044\n",
      "OBRIGAÇÃO_TOTAL_POR_SALA:CUMP_TRIWEIGHT    66.2680   29.482  2.248  0.026\n",
      "\n",
      "\n"
     ]
    }
   ],
   "source": [
    "works = ['ALL', 'FOREIGN', 'BRAZILIAN']\n",
    "\n",
    "for i in range(last_d_count, d_count):\n",
    "    print(f'Reg_group_sessions {i}, {works[i%3]}, weighting function {weight_funcs[(i-last_d_count)//3]}:')\n",
    "    print(pd.read_html(group_sessions[f'reg_gcd{i}'].summary().\n",
    "                       tables[1].as_html(),header=0,index_col=0)[0].iloc[-3:,:-2])\n",
    "    print('\\n')"
   ]
  },
  {
   "cell_type": "code",
   "execution_count": null,
   "metadata": {},
   "outputs": [],
   "source": []
  }
 ],
 "metadata": {
  "kernelspec": {
   "display_name": "Python 3",
   "language": "python",
   "name": "python3"
  },
  "language_info": {
   "codemirror_mode": {
    "name": "ipython",
    "version": 3
   },
   "file_extension": ".py",
   "mimetype": "text/x-python",
   "name": "python",
   "nbconvert_exporter": "python",
   "pygments_lexer": "ipython3",
   "version": "3.8.3"
  },
  "toc": {
   "base_numbering": 1,
   "nav_menu": {},
   "number_sections": true,
   "sideBar": true,
   "skip_h1_title": false,
   "title_cell": "Table of Contents",
   "title_sidebar": "Contents",
   "toc_cell": false,
   "toc_position": {
    "height": "604px",
    "left": "31px",
    "top": "80px",
    "width": "309.188px"
   },
   "toc_section_display": true,
   "toc_window_display": true
  },
  "varInspector": {
   "cols": {
    "lenName": 16,
    "lenType": 16,
    "lenVar": 40
   },
   "kernels_config": {
    "python": {
     "delete_cmd_postfix": "",
     "delete_cmd_prefix": "del ",
     "library": "var_list.py",
     "varRefreshCmd": "print(var_dic_list())"
    },
    "r": {
     "delete_cmd_postfix": ") ",
     "delete_cmd_prefix": "rm(",
     "library": "var_list.r",
     "varRefreshCmd": "cat(var_dic_list()) "
    }
   },
   "types_to_exclude": [
    "module",
    "function",
    "builtin_function_or_method",
    "instance",
    "_Feature"
   ],
   "window_display": false
  }
 },
 "nbformat": 4,
 "nbformat_minor": 4
}
