{
 "cells": [
  {
   "cell_type": "code",
   "execution_count": 1,
   "metadata": {
    "ExecuteTime": {
     "end_time": "2021-07-16T01:31:40.482432Z",
     "start_time": "2021-07-16T01:31:38.929814Z"
    }
   },
   "outputs": [],
   "source": [
    "import os\n",
    "import pandas as pd\n",
    "import numpy as np\n",
    "import matplotlib.pyplot as plt"
   ]
  },
  {
   "cell_type": "markdown",
   "metadata": {},
   "source": [
    "### INSPECTION REPORT DATA (Source: Inpection Reports/Ancine)\n",
    "\n",
    "Os relatórios de fiscalização são as apurações anuais da Cota de Tela realizadas pelo setor responsável pela fiscalização da Ancine.\n",
    "\n",
    "As apurações são públicas e estão [disponíveis](https://www.gov.br/ancine/pt-br/assuntos/atribuicoes-ancine/fiscalizacao/cinema) no sítio eletrônico da Agência.\n",
    "\n",
    "*Inspection reports annually tally Screen Quota obligations for and fulfillments from each movie theater*\n",
    "\n",
    "*Reports are put together by the Inspection office at Ancine and are publicly [available](https://www.gov.br/ancine/pt-br/assuntos/atribuicoes-ancine/fiscalizacao/cinema) at the agency's website*"
   ]
  },
  {
   "cell_type": "markdown",
   "metadata": {},
   "source": [
    "#### Import, merge and handle group missing values; gets info from executive order"
   ]
  },
  {
   "cell_type": "code",
   "execution_count": 2,
   "metadata": {
    "ExecuteTime": {
     "end_time": "2021-07-16T01:31:41.173280Z",
     "start_time": "2021-07-16T01:31:40.482432Z"
    }
   },
   "outputs": [],
   "source": [
    "# importing reports from 2017 and 2018; 2019 had no screen quota in effect\n",
    "\n",
    "cota_17 = pd.read_excel('Relat_rio_de_Aferi__o_Cota_de_Tela_-_2017.xlsx')\n",
    "\n",
    "cota_18 = pd.read_excel('Relat_rio_de_Aferi__o_Cota_de_Tela_-_2018.xlsx')"
   ]
  },
  {
   "cell_type": "code",
   "execution_count": 3,
   "metadata": {
    "ExecuteTime": {
     "end_time": "2021-07-16T01:31:41.745844Z",
     "start_time": "2021-07-16T01:31:41.727775Z"
    }
   },
   "outputs": [],
   "source": [
    "cota17_trab = cota_17.copy()\n",
    "\n",
    "cota18_trab = cota_18.copy()\n",
    "\n",
    "cota18_trab = cota18_trab[cota18_trab['REGISTRO DO COMPLEXO'].notna()] # removing movie theaters with no id\n",
    "\n",
    "# inserting year info in each report\n",
    "\n",
    "cota17_trab['ANO_CINEMATOGRAFICO'] = 2017\n",
    "cota18_trab['ANO_CINEMATOGRAFICO'] = 2018\n",
    "\n",
    "# some multiplexes have no info on quota fulfillments, because nothing was reported to Ancine\n",
    "# here, I define quota fulfillments of missing reports as ZERO\n",
    "\n",
    "cota17_trab['Nº DE DIAS VALIDADOS (COTA DE TELA)'] = cota17_trab['Nº DE DIAS VALIDADOS (COTA DE TELA)'].fillna(value=0)\n",
    "\n",
    "cota18_trab['Nº DE DIAS VALIDADOS (SCB) '] = cota18_trab['Nº DE DIAS VALIDADOS (SCB) '].fillna(value=0)\n",
    "\n",
    "# some guys w/o valid reports to SCB have no info on proportional (to opening days) obligations --- just three guys\n",
    "# for these I'm setting prop quota to be equal to the final one (after transfers)\n",
    "\n",
    "for i in cota17_trab[cota17_trab['OBRIGAÇÃO COTA DE TELA - SAM'].isna()].index:\n",
    "    cota17_trab.loc[i,'OBRIGAÇÃO COTA DE TELA - SAM'] = cota17_trab.loc[i,'Nº DE DIAS OBRIGAÇÃO PROPORCIONAL']"
   ]
  },
  {
   "cell_type": "code",
   "execution_count": 4,
   "metadata": {
    "ExecuteTime": {
     "end_time": "2021-07-16T01:31:42.684899Z",
     "start_time": "2021-07-16T01:31:42.671838Z"
    }
   },
   "outputs": [],
   "source": [
    "# importing data from the exec order setting quota obligations, 2017 and 2018 were the same\n",
    "\n",
    "decreto = pd.read_excel('Decreto cota de tela 2017-2018.xlsx', index_col=0)"
   ]
  },
  {
   "cell_type": "code",
   "execution_count": 5,
   "metadata": {
    "ExecuteTime": {
     "end_time": "2021-07-16T01:31:43.203854Z",
     "start_time": "2021-07-16T01:31:43.199844Z"
    }
   },
   "outputs": [],
   "source": [
    "## def function of total obligation, because multiplexes with more than 20 rooms do not have an explicitly defined obligation\n",
    "\n",
    "def obr_total(n_salas):\n",
    "    if n_salas <= 20: # < 20, just get info from exec order\n",
    "        return decreto.loc[n_salas, 'Cota por complexo']\n",
    "    else: # else, must calculate using the orders' rule\n",
    "        return (800 + 7*(n_salas - 20))"
   ]
  },
  {
   "cell_type": "code",
   "execution_count": 6,
   "metadata": {
    "ExecuteTime": {
     "end_time": "2021-07-16T01:31:43.949709Z",
     "start_time": "2021-07-16T01:31:43.552129Z"
    }
   },
   "outputs": [],
   "source": [
    "# applying function to reports (note that reports originally display only quota obligations proportional to opening days)\n",
    "\n",
    "cota17_trab.loc[:,'OBRIGAÇÃO_TOTAL'] = cota17_trab['TOTAL SALAS DO COMPLEXO'].apply(obr_total)\n",
    "cota18_trab.loc[:,'OBRIGAÇÃO_TOTAL'] = cota18_trab['TOTAL SALAS DO COMPLEXO'].apply(obr_total)\n",
    "\n",
    "# adding values from IN 117 \"predatory occupation\"\n",
    "\n",
    "cota17_trab.loc[:,'OBRIGAÇÃO_TOTAL_INCREMENTO'] = cota17_trab.loc[\n",
    "    :,'OBRIGAÇÃO_TOTAL'] + cota17_trab.loc[:,'INCREMENTO IN 117 (Ocupação de um Título em ']\n",
    "cota17_trab.loc[:,'OBRIGAÇÃO_PROP_INCREMENTO'] = cota17_trab.loc[:,'Nº DE DIAS OBRIGAÇÃO PROPORCIONAL'] + cota17_trab.loc[:,'INCREMENTO IN 117 (Ocupação de um Título em ']\n",
    "\n",
    "# disregarding IN 117 values for movie theaters that got a judicial order waiving the rule\n",
    "for i in range(cota18_trab.shape[0]):\n",
    "    cota18_trab.loc[i,'OBRIGAÇÃO_TOTAL_INCREMENTO'] = cota18_trab.loc[i,'OBRIGAÇÃO_TOTAL'] if cota18_trab.loc[i,'Afastada aplicação do acréscimo (art. 3º-A) por Decisão Judicial'] == 'SIM' else cota18_trab.loc[i,'OBRIGAÇÃO_TOTAL'] + cota18_trab.loc[i,'Acréscimo (art. 3º-A)']"
   ]
  },
  {
   "cell_type": "code",
   "execution_count": 7,
   "metadata": {
    "ExecuteTime": {
     "end_time": "2021-07-16T01:31:44.028966Z",
     "start_time": "2021-07-16T01:31:44.023952Z"
    }
   },
   "outputs": [],
   "source": [
    "# renaming cols to match and merge\n",
    "\n",
    "cota17_trab.columns = ['REGISTRO DO GRUPO', 'NOME DO GRUPO', 'REGISTRO DA EMPRESA',\n",
    "       'NOME DA EMPRESA', 'REGISTRO DO COMPLEXO', 'NOME DO COMPLEXO',\n",
    "       'TOTAL SALAS DO COMPLEXO', 'Nº DE DIAS OBRIGAÇÃO',\n",
    "       'Nº DE DIAS OBRIGAÇÃO PROPORCIONAL',\n",
    "       'INCREMENTO IN 117 (Ocupação de um Título em ',\n",
    "       'TRANSF_ORIGEM', 'TRANSF_RECEBIDOS',\n",
    "       'OBG_FINAL', 'Nº DE DIAS VALIDADOS',\n",
    "       'Nº DE TÍTULOS DIFERENTES OBRIGAÇÃO',\n",
    "       'Nº DE TÍTULOS DIFERENTES DECLARADOS', 'CUMPRIU COTA', 'ANO_CINEMATOGRAFICO',\n",
    "       'OBRIGAÇÃO_TOTAL', 'OBRIGAÇÃO_TOTAL_INCREMENTO',\n",
    "       'OBRIGAÇÃO_PROP_INCREMENTO']\n",
    "\n",
    "cota18_trab.columns = ['REGISTRO DO GRUPO', 'NOME DO GRUPO', 'REGISTRO DA EMPRESA',\n",
    "       'NOME DA EMPRESA', 'REGISTRO DO COMPLEXO', 'NOME DO COMPLEXO', 'UF',\n",
    "       'TOTAL SALAS DO COMPLEXO', 'Nº DE DIAS OBRIGAÇÃO',\n",
    "       'Nº DE DIAS OBRIGAÇÃO PROPORCIONAL', 'Acréscimo (art. 3º-A)',\n",
    "       'Afastada aplicação do acréscimo (art. 3º-A) por Decisão Judicial',\n",
    "       'OBRIGAÇÃO_PROP_INCREMENTO',\n",
    "       'TRANSF_ORIGEM',\n",
    "       'TRANSF_RECEBIDOS', 'OBG_FINAL',\n",
    "       'Nº DE DIAS VALIDADOS', 'Nº DE TÍTULOS DIFERENTES OBRIGAÇÃO',\n",
    "       'Nº DE TÍTULOS DIFERENTES DECLARADOS', 'CUMPRIU COTA', 'ANO_CINEMATOGRAFICO',\n",
    "       'OBRIGAÇÃO_TOTAL', 'OBRIGAÇÃO_TOTAL_INCREMENTO']"
   ]
  },
  {
   "cell_type": "code",
   "execution_count": 8,
   "metadata": {
    "ExecuteTime": {
     "end_time": "2021-07-16T01:31:47.230776Z",
     "start_time": "2021-07-16T01:31:47.223757Z"
    }
   },
   "outputs": [],
   "source": [
    "# selecting cols to concat\n",
    "\n",
    "cota17 = cota17_trab[['ANO_CINEMATOGRAFICO', 'REGISTRO DO GRUPO', 'NOME DO GRUPO', 'REGISTRO DA EMPRESA',\n",
    "       'NOME DA EMPRESA', 'REGISTRO DO COMPLEXO', 'NOME DO COMPLEXO',\n",
    "       'TOTAL SALAS DO COMPLEXO','Nº DE DIAS OBRIGAÇÃO PROPORCIONAL',\n",
    "        'OBRIGAÇÃO_TOTAL_INCREMENTO', 'OBRIGAÇÃO_PROP_INCREMENTO', 'OBRIGAÇÃO_TOTAL', 'OBG_FINAL',\n",
    "        'Nº DE DIAS VALIDADOS', 'Nº DE TÍTULOS DIFERENTES OBRIGAÇÃO',\n",
    "       'Nº DE TÍTULOS DIFERENTES DECLARADOS', 'CUMPRIU COTA',\n",
    "        'TRANSF_ORIGEM', 'TRANSF_RECEBIDOS']]\n",
    "\n",
    "cota18 = cota18_trab[['ANO_CINEMATOGRAFICO','REGISTRO DO GRUPO', 'NOME DO GRUPO', 'REGISTRO DA EMPRESA',\n",
    "       'NOME DA EMPRESA', 'REGISTRO DO COMPLEXO', 'NOME DO COMPLEXO',\n",
    "       'TOTAL SALAS DO COMPLEXO','Nº DE DIAS OBRIGAÇÃO PROPORCIONAL',\n",
    "        'OBRIGAÇÃO_TOTAL_INCREMENTO', 'OBRIGAÇÃO_PROP_INCREMENTO', 'OBRIGAÇÃO_TOTAL', 'OBG_FINAL',\n",
    "        'Nº DE DIAS VALIDADOS','Nº DE TÍTULOS DIFERENTES OBRIGAÇÃO',\n",
    "        'Nº DE TÍTULOS DIFERENTES DECLARADOS', 'CUMPRIU COTA',\n",
    "        'TRANSF_ORIGEM', 'TRANSF_RECEBIDOS']]"
   ]
  },
  {
   "cell_type": "code",
   "execution_count": 9,
   "metadata": {
    "ExecuteTime": {
     "end_time": "2021-07-16T01:31:49.361879Z",
     "start_time": "2021-07-16T01:31:49.351852Z"
    }
   },
   "outputs": [],
   "source": [
    "# merging\n",
    "\n",
    "cota = pd.concat([cota17, cota18], axis = 0)\n",
    "cota.reset_index(inplace=True)"
   ]
  },
  {
   "cell_type": "code",
   "execution_count": 10,
   "metadata": {
    "ExecuteTime": {
     "end_time": "2021-07-16T01:31:52.280880Z",
     "start_time": "2021-07-16T01:31:52.127338Z"
    }
   },
   "outputs": [],
   "source": [
    "# handle missing group values. for independent multiplexes (i.e. not belonging to a group) and I use company id instead\n",
    "\n",
    "cota['REGISTRO DO GRUPO'] = cota['REGISTRO DO GRUPO'].fillna(value=False)\n",
    "\n",
    "for i in range(cota.shape[0]):\n",
    "    if cota.loc[i,'REGISTRO DO GRUPO'] == False: # if there is no group info\n",
    "        cota.loc[i,'REGISTRO DO GRUPO'] = cota.loc[i,'REGISTRO DA EMPRESA'] # use the name of company"
   ]
  },
  {
   "cell_type": "code",
   "execution_count": 11,
   "metadata": {
    "ExecuteTime": {
     "end_time": "2021-07-16T01:31:53.194407Z",
     "start_time": "2021-07-16T01:31:53.191398Z"
    }
   },
   "outputs": [],
   "source": [
    "# splitting versions s.t. this one can be used for group-level aggregation\n",
    "\n",
    "cota_para_grupo = cota.copy()"
   ]
  },
  {
   "cell_type": "markdown",
   "metadata": {},
   "source": [
    "#### Linking multiplex information to group-level aggs so that group info can be added to SCB data\n",
    "\n",
    "*Recall that SCB data only has multiplex id, and no group id*"
   ]
  },
  {
   "cell_type": "code",
   "execution_count": 12,
   "metadata": {
    "ExecuteTime": {
     "end_time": "2021-07-16T01:32:05.918070Z",
     "start_time": "2021-07-16T01:32:03.943587Z"
    }
   },
   "outputs": [],
   "source": [
    "# relates multiplexes to groups\n",
    "\n",
    "complexo_grupo = cota.groupby(['REGISTRO DO COMPLEXO']).agg({\n",
    "    'REGISTRO DO GRUPO':'first', 'NOME DO GRUPO':'first'\n",
    "})\n",
    "\n",
    "# gets relevant infos aggregated at group levels --- no. of viewing rooms, companies and movie theaters\n",
    "\n",
    "anexo = cota.groupby(['ANO_CINEMATOGRAFICO','REGISTRO DO GRUPO']).agg({\n",
    "    'NOME DO GRUPO':'first','REGISTRO DA EMPRESA':'count','REGISTRO DO COMPLEXO':'count',\n",
    "    'TOTAL SALAS DO COMPLEXO':'sum'\n",
    "})\n",
    "\n",
    "for i in complexo_grupo.index:\n",
    "    g = complexo_grupo.loc[i,'REGISTRO DO GRUPO'] # get group id\n",
    "    if g in anexo.loc[2018].index:\n",
    "        for c in ['REGISTRO DA EMPRESA','REGISTRO DO COMPLEXO','TOTAL SALAS DO COMPLEXO']:\n",
    "            complexo_grupo.loc[i,c] = anexo.loc[(2018,g), c] # pastes group-level info at multiplex ids\n",
    "    else: # same for 2017\n",
    "        for c in ['REGISTRO DA EMPRESA','REGISTRO DO COMPLEXO','TOTAL SALAS DO COMPLEXO']:\n",
    "            complexo_grupo.loc[i,c] = anexo.loc[(2017,g), c]\n",
    "            \n",
    "# rename cols for inteligibility \n",
    "\n",
    "complexo_grupo.columns = ['REGISTRO DO GRUPO', 'NOME DO GRUPO', 'QTDE_EMPRESAS_GRUPO',\n",
    "       'QTDE_COMPLEXOS_GRUPO', 'TOTAL_SALAS_GRUPO']"
   ]
  },
  {
   "cell_type": "code",
   "execution_count": 13,
   "metadata": {
    "ExecuteTime": {
     "end_time": "2021-07-16T01:32:07.358817Z",
     "start_time": "2021-07-16T01:32:07.343775Z"
    }
   },
   "outputs": [],
   "source": [
    "# export\n",
    "\n",
    "complexo_grupo.to_csv('Complexo_grupo.csv')"
   ]
  },
  {
   "cell_type": "markdown",
   "metadata": {},
   "source": [
    "#### Adds columns with quota obligations proportional to the number of **viewing rooms**"
   ]
  },
  {
   "cell_type": "code",
   "execution_count": 14,
   "metadata": {
    "ExecuteTime": {
     "end_time": "2021-07-16T01:32:10.704944Z",
     "start_time": "2021-07-16T01:32:10.687905Z"
    }
   },
   "outputs": [],
   "source": [
    "# total obligation per viewing room (VR)\n",
    "cota.loc[:,'OBRIGAÇÃO_TOTAL_POR_SALA'] = (cota.loc[:,'OBRIGAÇÃO_TOTAL'] / cota.loc[:,'TOTAL SALAS DO COMPLEXO'])\n",
    "\n",
    "# total obligation + IN 117 per viewing room (VR)\n",
    "cota.loc[:,'OBRIGAÇÃO_TOTAL_INCREMENTO_POR_SALA']=(cota.loc[:,'OBRIGAÇÃO_TOTAL_INCREMENTO']/cota.loc[:,'TOTAL SALAS DO COMPLEXO'])\n",
    "\n",
    "# total proportional obligation per viewing room (VR)\n",
    "cota.loc[:,'OBRIGAÇÃO_PROP_POR_SALA'] = (cota.loc[:,'Nº DE DIAS OBRIGAÇÃO PROPORCIONAL'] / cota.loc[:,'TOTAL SALAS DO COMPLEXO'])\n",
    "\n",
    "# total prop obligation + IN 117 per viewing room (VR)\n",
    "cota.loc[:,'OBRIGAÇÃO_PROP_INCREMENTO_POR_SALA'] = (cota.loc[:,'OBRIGAÇÃO_PROP_INCREMENTO'] / cota.loc[:,'TOTAL SALAS DO COMPLEXO'])\n",
    "\n",
    "# final quota per VR\n",
    "cota.loc[:,'OBRIGAÇÃO_FINAL_POR_SALA'] = (cota.loc[:,'OBG_FINAL'] / cota.loc[:,'TOTAL SALAS DO COMPLEXO'])\n",
    "\n",
    "# proportional fulfillment normalized to 1, i.e. 0.5 implies half of the quota was fulfilled\n",
    "cota.loc[:,'CUMPRIMENTO_PROPORCIONAL'] = (cota.loc[:,'Nº DE DIAS VALIDADOS'] / cota.loc[:,'OBG_FINAL'])"
   ]
  },
  {
   "cell_type": "markdown",
   "metadata": {},
   "source": [
    "#### Inferring opening days info from total and proportional quota obligations\n",
    "\n",
    "Even though opening days information is not directly given in the inspection reports, this data can be easily inferred.\n",
    "\n",
    "Define opening days as $OD$, total obligation as $TO$ and proporional obligation as $PO$. We have:\n",
    "\n",
    "$$ PO = TO \\cdot \\frac{OD}{365} $$\n",
    "Rearranging: $$ OD = \\frac{PO}{TO} \\cdot 365 $$"
   ]
  },
  {
   "cell_type": "code",
   "execution_count": 15,
   "metadata": {
    "ExecuteTime": {
     "end_time": "2021-07-16T01:32:15.117835Z",
     "start_time": "2021-07-16T01:32:15.111782Z"
    }
   },
   "outputs": [],
   "source": [
    "# inferring opening days from total obligation and proportional obligation following the formula above\n",
    "\n",
    "cota.loc[:,'DIAS_FUNC_INFERIDOS'] = (cota.loc[:,'Nº DE DIAS OBRIGAÇÃO PROPORCIONAL'] / cota.loc[:,'OBRIGAÇÃO_TOTAL'])*365"
   ]
  },
  {
   "cell_type": "markdown",
   "metadata": {},
   "source": [
    "### Complicance-intensity functions\n",
    "\n",
    "*To capture policy eﬀects on agent behavior we therefore focus on the interaction between\n",
    "quota size and compliance. In other words, ﬁrms are more likely to have had their behaviors\n",
    "determined by regulation the more narrowly they fulﬁll their obligations: a movie theater\n",
    "that exactly fulﬁlls 100% of its screen quota is more prone to have been aﬀected by regulation\n",
    "than one that has either fulﬁlled 200% or 0% of its own.*\n",
    "\n",
    "*Here we propose ways to weight compliance levels to account for the fact that compliant agents are more likely to be inﬂuenced by policy.*"
   ]
  },
  {
   "cell_type": "code",
   "execution_count": 16,
   "metadata": {
    "ExecuteTime": {
     "end_time": "2021-07-16T01:32:17.463333Z",
     "start_time": "2021-07-16T01:32:16.591725Z"
    }
   },
   "outputs": [],
   "source": [
    "# defining function of quadratic distance from 1, capped at 0\n",
    "\n",
    "def efeito_cota(cump_prop):\n",
    "    efeito = 1 - (1 - cump_prop)**2 # getting squared distance from 1 (i.e. 100% quota fulfillment)\n",
    "    return max(0,efeito) # capping at 0\n",
    "\n",
    "# alternative spec using normal pdf centered at 1\n",
    "\n",
    "from scipy.stats import norm\n",
    "\n",
    "def norm_pdf_1(x):\n",
    "    return norm.pdf(x, loc=1)\n",
    "\n",
    "# alternative spec using linear approach\n",
    "\n",
    "def linear_cota(cump_prop):\n",
    "    efeito = 1 - abs(1 - cump_prop) # getting linear distance from 1 (i.e. 100% quota fulfillment)\n",
    "    return max(0,efeito) # capping at 0\n",
    "\n",
    "# other alternative kernel function\n",
    "\n",
    "def triweight(cump_prop):\n",
    "    efeito = efeito_cota(cump_prop)**3 # getting linear distance from 1 (i.e. 100% quota fulfillment)\n",
    "    return max(0,efeito) # capping at 0"
   ]
  },
  {
   "cell_type": "code",
   "execution_count": 17,
   "metadata": {
    "ExecuteTime": {
     "end_time": "2021-07-16T01:32:18.034266Z",
     "start_time": "2021-07-16T01:32:17.822887Z"
    }
   },
   "outputs": [],
   "source": [
    "# applying function to prop fulfillment and adding results to cota df\n",
    "cota.loc[:,'CUMPRIMENTO_PROP_TRUNCADO'] = list(map(efeito_cota, cota.CUMPRIMENTO_PROPORCIONAL))\n",
    "cota.loc[:,'CUMPRIMENTO_LINEAR'] = list(map(linear_cota, cota.CUMPRIMENTO_PROPORCIONAL))\n",
    "cota.loc[:,'CUMPRIMENTO_NORMALIZADO'] = list(map(norm_pdf_1, cota.CUMPRIMENTO_PROPORCIONAL))\n",
    "cota.loc[:,'CUMPRIMENTO_TRIWEIGHT'] = list(map(triweight, cota.CUMPRIMENTO_PROPORCIONAL))"
   ]
  },
  {
   "cell_type": "code",
   "execution_count": 18,
   "metadata": {
    "ExecuteTime": {
     "end_time": "2021-07-16T01:32:20.263490Z",
     "start_time": "2021-07-16T01:32:19.751615Z"
    }
   },
   "outputs": [
    {
     "data": {
      "image/png": "[encoded data removed]",
      "text/plain": [
       "<Figure size 432x288 with 1 Axes>"
      ]
     },
     "metadata": {
      "needs_background": "light"
     },
     "output_type": "display_data"
    }
   ],
   "source": [
    "# this graph shows the idea that all the functions \n",
    "\n",
    "linspace = np.arange(0,2.01,0.01)\n",
    "\n",
    "plt.plot(linspace, [efeito_cota(x) for x in linspace], label = \"Squared Distance\")\n",
    "plt.plot(linspace, [linear_cota(x) for x in linspace], label = \"Triangular Kernel\")\n",
    "plt.plot(linspace, [norm_pdf_1(x) for x in linspace], label = \"Normal pdf\")\n",
    "plt.plot(linspace, [triweight(x) for x in linspace], label = \"Triweight Kernel\")\n",
    "\n",
    "plt.grid(True)\n",
    "plt.legend(fontsize= 'small')\n",
    "\n",
    "plt.xlabel('Compliance Level (Fulfillment/Obligation)')\n",
    "plt.ylabel('Weighted Compliance Level')\n",
    "\n",
    "plt.savefig('Compliance_kernels.png', bbox_inches='tight')"
   ]
  },
  {
   "cell_type": "markdown",
   "metadata": {},
   "source": [
    "### Creating flag for transfers"
   ]
  },
  {
   "cell_type": "code",
   "execution_count": 19,
   "metadata": {
    "ExecuteTime": {
     "end_time": "2021-07-16T01:32:29.100826Z",
     "start_time": "2021-07-16T01:32:29.095817Z"
    }
   },
   "outputs": [],
   "source": [
    "# NaN transfers fields fulfilled as 1\n",
    "\n",
    "cota[['TRANSF_ORIGEM', 'TRANSF_RECEBIDOS']] = cota[['TRANSF_ORIGEM', 'TRANSF_RECEBIDOS']].fillna(value=0)"
   ]
  },
  {
   "cell_type": "code",
   "execution_count": 20,
   "metadata": {
    "ExecuteTime": {
     "end_time": "2021-07-16T01:32:29.653448Z",
     "start_time": "2021-07-16T01:32:29.637617Z"
    }
   },
   "outputs": [],
   "source": [
    "cota.loc[:,'TRANSF_FLAG'] = 0"
   ]
  },
  {
   "cell_type": "code",
   "execution_count": 21,
   "metadata": {
    "ExecuteTime": {
     "end_time": "2021-07-16T01:32:32.709777Z",
     "start_time": "2021-07-16T01:32:32.703773Z"
    }
   },
   "outputs": [],
   "source": [
    "cota.loc[(cota.TRANSF_ORIGEM != 0)|(cota.TRANSF_RECEBIDOS != 0),'TRANSF_FLAG'] = 1"
   ]
  },
  {
   "cell_type": "code",
   "execution_count": 22,
   "metadata": {
    "ExecuteTime": {
     "end_time": "2021-07-16T01:32:33.901772Z",
     "start_time": "2021-07-16T01:32:33.895731Z"
    }
   },
   "outputs": [
    {
     "data": {
      "text/plain": [
       "0    1207\n",
       "1     453\n",
       "Name: TRANSF_FLAG, dtype: int64"
      ]
     },
     "execution_count": 22,
     "metadata": {},
     "output_type": "execute_result"
    }
   ],
   "source": [
    "cota.TRANSF_FLAG.value_counts()"
   ]
  },
  {
   "cell_type": "markdown",
   "metadata": {},
   "source": [
    "### Further data cleansing (reindex, inserting missing transfer values)"
   ]
  },
  {
   "cell_type": "code",
   "execution_count": 23,
   "metadata": {
    "ExecuteTime": {
     "end_time": "2021-07-16T01:32:42.115725Z",
     "start_time": "2021-07-16T01:32:42.111714Z"
    }
   },
   "outputs": [],
   "source": [
    "cota.set_index(['REGISTRO DO COMPLEXO'], inplace=True)"
   ]
  },
  {
   "cell_type": "code",
   "execution_count": 24,
   "metadata": {
    "ExecuteTime": {
     "end_time": "2021-07-16T01:32:43.435754Z",
     "start_time": "2021-07-16T01:32:43.430739Z"
    }
   },
   "outputs": [],
   "source": [
    "cota.drop(['index'], axis=1, inplace=True)"
   ]
  },
  {
   "cell_type": "markdown",
   "metadata": {},
   "source": [
    "### Exporting multiplex-level quotas"
   ]
  },
  {
   "cell_type": "code",
   "execution_count": 25,
   "metadata": {
    "ExecuteTime": {
     "end_time": "2021-07-16T01:32:46.619722Z",
     "start_time": "2021-07-16T01:32:46.615710Z"
    }
   },
   "outputs": [
    {
     "data": {
      "text/plain": [
       "Index(['ANO_CINEMATOGRAFICO', 'REGISTRO DO GRUPO', 'NOME DO GRUPO',\n",
       "       'REGISTRO DA EMPRESA', 'NOME DA EMPRESA', 'NOME DO COMPLEXO',\n",
       "       'TOTAL SALAS DO COMPLEXO', 'Nº DE DIAS OBRIGAÇÃO PROPORCIONAL',\n",
       "       'OBRIGAÇÃO_TOTAL_INCREMENTO', 'OBRIGAÇÃO_PROP_INCREMENTO',\n",
       "       'OBRIGAÇÃO_TOTAL', 'OBG_FINAL', 'Nº DE DIAS VALIDADOS',\n",
       "       'Nº DE TÍTULOS DIFERENTES OBRIGAÇÃO',\n",
       "       'Nº DE TÍTULOS DIFERENTES DECLARADOS', 'CUMPRIU COTA', 'TRANSF_ORIGEM',\n",
       "       'TRANSF_RECEBIDOS', 'OBRIGAÇÃO_TOTAL_POR_SALA',\n",
       "       'OBRIGAÇÃO_TOTAL_INCREMENTO_POR_SALA', 'OBRIGAÇÃO_PROP_POR_SALA',\n",
       "       'OBRIGAÇÃO_PROP_INCREMENTO_POR_SALA', 'OBRIGAÇÃO_FINAL_POR_SALA',\n",
       "       'CUMPRIMENTO_PROPORCIONAL', 'DIAS_FUNC_INFERIDOS',\n",
       "       'CUMPRIMENTO_PROP_TRUNCADO', 'CUMPRIMENTO_LINEAR',\n",
       "       'CUMPRIMENTO_NORMALIZADO', 'CUMPRIMENTO_TRIWEIGHT', 'TRANSF_FLAG'],\n",
       "      dtype='object')"
      ]
     },
     "execution_count": 25,
     "metadata": {},
     "output_type": "execute_result"
    }
   ],
   "source": [
    "cota.columns"
   ]
  },
  {
   "cell_type": "code",
   "execution_count": 26,
   "metadata": {
    "ExecuteTime": {
     "end_time": "2021-07-16T01:32:49.000872Z",
     "start_time": "2021-07-16T01:32:48.943697Z"
    }
   },
   "outputs": [],
   "source": [
    "# exporting\n",
    "\n",
    "cota.to_csv('Cota_fiscalizacao_2017_2019.csv')"
   ]
  },
  {
   "cell_type": "markdown",
   "metadata": {},
   "source": [
    "### Group-level quotas"
   ]
  },
  {
   "cell_type": "code",
   "execution_count": 50,
   "metadata": {
    "ExecuteTime": {
     "end_time": "2021-06-25T00:36:48.122189Z",
     "start_time": "2021-06-25T00:36:48.034399Z"
    }
   },
   "outputs": [],
   "source": [
    "# grouping now at group and not multiplex level; note col titles is an object columns, so values are haywire\n",
    "\n",
    "# after cota para grupo defined before\n",
    "cota_grupo = cota_para_grupo.groupby(['ANO_CINEMATOGRAFICO', 'REGISTRO DO GRUPO'], as_index=False).agg({\n",
    "    'NOME DO GRUPO':'first','REGISTRO DA EMPRESA':'count','REGISTRO DO COMPLEXO':'count',\n",
    "    'TOTAL SALAS DO COMPLEXO':'sum', 'Nº DE DIAS OBRIGAÇÃO PROPORCIONAL':'sum',\n",
    "    'OBRIGAÇÃO_TOTAL_INCREMENTO':'sum', 'OBRIGAÇÃO_PROP_INCREMENTO':'sum', 'OBRIGAÇÃO_TOTAL':'sum', \n",
    "    'OBG_FINAL':'sum', 'Nº DE DIAS VALIDADOS':'sum', 'Nº DE TÍTULOS DIFERENTES OBRIGAÇÃO':'sum',\n",
    "    'Nº DE TÍTULOS DIFERENTES DECLARADOS':'sum','TRANSF_ORIGEM':'sum', 'TRANSF_RECEBIDOS':'sum'\n",
    "})"
   ]
  },
  {
   "cell_type": "code",
   "execution_count": 51,
   "metadata": {
    "ExecuteTime": {
     "end_time": "2021-06-25T00:37:04.593845Z",
     "start_time": "2021-06-25T00:37:04.554922Z"
    }
   },
   "outputs": [],
   "source": [
    "# look item 1.3 for references\n",
    "\n",
    "cota_grupo.loc[:,'OBRIGAÇÃO_TOTAL_POR_SALA'] = (cota_grupo.loc[:,'OBRIGAÇÃO_TOTAL'] / cota_grupo.loc[:,'TOTAL SALAS DO COMPLEXO'])\n",
    "\n",
    "cota_grupo.loc[:,'OBRIGAÇÃO_TOTAL_INCREMENTO_POR_SALA']=(cota_grupo.loc[:,'OBRIGAÇÃO_TOTAL_INCREMENTO']/cota_grupo.loc[:,'TOTAL SALAS DO COMPLEXO'])\n",
    "\n",
    "cota_grupo.loc[:,'OBRIGAÇÃO_PROP_POR_SALA'] = (cota_grupo.loc[:,'Nº DE DIAS OBRIGAÇÃO PROPORCIONAL'] / cota_grupo.loc[:,'TOTAL SALAS DO COMPLEXO'])\n",
    "\n",
    "cota_grupo.loc[:,'OBRIGAÇÃO_PROP_INCREMENTO_POR_SALA'] = (cota_grupo.loc[:,'OBRIGAÇÃO_PROP_INCREMENTO'] / cota_grupo.loc[:,'TOTAL SALAS DO COMPLEXO'])\n",
    "\n",
    "cota_grupo.loc[:,'OBRIGAÇÃO_FINAL_POR_SALA'] = (cota_grupo.loc[:,'OBG_FINAL'] / cota_grupo.loc[:,'TOTAL SALAS DO COMPLEXO'])\n",
    "\n",
    "cota_grupo.loc[:,'CUMPRIMENTO_PROPORCIONAL'] = (cota_grupo.loc[:,'Nº DE DIAS VALIDADOS'] / cota_grupo.loc[:,'OBG_FINAL'])\n",
    "\n",
    "cota_grupo.loc[:,'DIAS_FUNC_INFERIDOS'] = (cota_grupo.loc[:,'Nº DE DIAS OBRIGAÇÃO PROPORCIONAL'] / cota_grupo.loc[:,'OBRIGAÇÃO_TOTAL'])*365"
   ]
  },
  {
   "cell_type": "markdown",
   "metadata": {},
   "source": [
    "#### Compliance-level functions"
   ]
  },
  {
   "cell_type": "code",
   "execution_count": 52,
   "metadata": {
    "ExecuteTime": {
     "end_time": "2021-06-25T00:37:07.576870Z",
     "start_time": "2021-06-25T00:37:07.489217Z"
    }
   },
   "outputs": [],
   "source": [
    "# applying function to prop fulfillment and adding results to cota df\n",
    "cota_grupo.loc[:,'CUMPRIMENTO_PROP_TRUNCADO'] = list(map(efeito_cota, cota_grupo.CUMPRIMENTO_PROPORCIONAL))\n",
    "cota_grupo.loc[:,'CUMPRIMENTO_LINEAR'] = list(map(linear_cota, cota_grupo.CUMPRIMENTO_PROPORCIONAL))\n",
    "cota_grupo.loc[:,'CUMPRIMENTO_NORMALIZADO'] = list(map(norm_pdf_1, cota_grupo.CUMPRIMENTO_PROPORCIONAL))\n",
    "cota_grupo.loc[:,'CUMPRIMENTO_TRIWEIGHT'] = list(map(linear_cota, cota_grupo.CUMPRIMENTO_PROPORCIONAL))"
   ]
  },
  {
   "cell_type": "markdown",
   "metadata": {},
   "source": [
    "#### Further data cleansing (reindex, inserting missing transfer values) and export"
   ]
  },
  {
   "cell_type": "code",
   "execution_count": 53,
   "metadata": {
    "ExecuteTime": {
     "end_time": "2021-06-25T00:37:46.027192Z",
     "start_time": "2021-06-25T00:37:46.018182Z"
    }
   },
   "outputs": [],
   "source": [
    "# look at 3 above\n",
    "cota_grupo[['TRANSF_ORIGEM', 'TRANSF_RECEBIDOS']] = cota_grupo[['TRANSF_ORIGEM', 'TRANSF_RECEBIDOS']].fillna(value=0)"
   ]
  },
  {
   "cell_type": "code",
   "execution_count": 54,
   "metadata": {
    "ExecuteTime": {
     "end_time": "2021-06-25T00:37:47.073423Z",
     "start_time": "2021-06-25T00:37:47.066439Z"
    }
   },
   "outputs": [],
   "source": [
    "cota_grupo.set_index(['REGISTRO DO GRUPO'], inplace=True)"
   ]
  },
  {
   "cell_type": "code",
   "execution_count": 55,
   "metadata": {
    "ExecuteTime": {
     "end_time": "2021-06-25T00:37:48.682059Z",
     "start_time": "2021-06-25T00:37:48.643043Z"
    }
   },
   "outputs": [],
   "source": [
    "# exporting\n",
    "\n",
    "cota_grupo.to_csv('Cota_grupo_fiscalizacao_2017_2019.csv')"
   ]
  },
  {
   "cell_type": "markdown",
   "metadata": {},
   "source": [
    "### Some graphs"
   ]
  },
  {
   "cell_type": "code",
   "execution_count": 36,
   "metadata": {},
   "outputs": [
    {
     "data": {
      "text/plain": [
       "<matplotlib.axes._subplots.AxesSubplot at 0x258fced3430>"
      ]
     },
     "execution_count": 36,
     "metadata": {},
     "output_type": "execute_result"
    },
    {
     "data": {
      "image/png": "[encoded data removed]",
      "text/plain": [
       "<Figure size 432x288 with 1 Axes>"
      ]
     },
     "metadata": {
      "needs_background": "light"
     },
     "output_type": "display_data"
    }
   ],
   "source": [
    "cota.plot.scatter(x='TOTAL SALAS DO COMPLEXO',y='CUMPRIMENTO_PROPORCIONAL', grid=True, yticks=[x for x in range(13)],\n",
    "                 title=\"Cumprimento vs. Tamanho do Complexo\")"
   ]
  },
  {
   "cell_type": "code",
   "execution_count": 37,
   "metadata": {},
   "outputs": [
    {
     "data": {
      "text/plain": [
       "<matplotlib.axes._subplots.AxesSubplot at 0x258fcf37b50>"
      ]
     },
     "execution_count": 37,
     "metadata": {},
     "output_type": "execute_result"
    },
    {
     "data": {
      "image/png": "[encoded data removed]",
      "text/plain": [
       "<Figure size 432x288 with 1 Axes>"
      ]
     },
     "metadata": {
      "needs_background": "light"
     },
     "output_type": "display_data"
    }
   ],
   "source": [
    "cota.plot.scatter(x='TOTAL SALAS DO COMPLEXO',y='CUMPRIMENTO_PROP_TRUNCADO', grid=True, yticks=[x for x in range(2)],\n",
    "                 title=\"Cumprimento Truncado vs. Tamanho do Complexo\")"
   ]
  },
  {
   "cell_type": "code",
   "execution_count": 40,
   "metadata": {
    "scrolled": true
   },
   "outputs": [
    {
     "data": {
      "text/plain": [
       "<matplotlib.axes._subplots.AxesSubplot at 0x258fd074e50>"
      ]
     },
     "execution_count": 40,
     "metadata": {},
     "output_type": "execute_result"
    },
    {
     "data": {
      "image/png": "[encoded data removed]",
      "text/plain": [
       "<Figure size 432x288 with 1 Axes>"
      ]
     },
     "metadata": {
      "needs_background": "light"
     },
     "output_type": "display_data"
    }
   ],
   "source": [
    "cota['CUMPRIMENTO_PROPORCIONAL'].plot.hist(bins=50, xticks=list(range(12)), grid=True)"
   ]
  }
 ],
 "metadata": {
  "kernelspec": {
   "display_name": "Python 3",
   "language": "python",
   "name": "python3"
  },
  "language_info": {
   "codemirror_mode": {
    "name": "ipython",
    "version": 3
   },
   "file_extension": ".py",
   "mimetype": "text/x-python",
   "name": "python",
   "nbconvert_exporter": "python",
   "pygments_lexer": "ipython3",
   "version": "3.8.3"
  },
  "toc": {
   "base_numbering": 1,
   "nav_menu": {},
   "number_sections": true,
   "sideBar": true,
   "skip_h1_title": false,
   "title_cell": "Table of Contents",
   "title_sidebar": "Contents",
   "toc_cell": false,
   "toc_position": {},
   "toc_section_display": true,
   "toc_window_display": true
  },
  "varInspector": {
   "cols": {
    "lenName": 16,
    "lenType": 16,
    "lenVar": 40
   },
   "kernels_config": {
    "python": {
     "delete_cmd_postfix": "",
     "delete_cmd_prefix": "del ",
     "library": "var_list.py",
     "varRefreshCmd": "print(var_dic_list())"
    },
    "r": {
     "delete_cmd_postfix": ") ",
     "delete_cmd_prefix": "rm(",
     "library": "var_list.r",
     "varRefreshCmd": "cat(var_dic_list()) "
    }
   },
   "types_to_exclude": [
    "module",
    "function",
    "builtin_function_or_method",
    "instance",
    "_Feature"
   ],
   "window_display": false
  }
 },
 "nbformat": 4,
 "nbformat_minor": 4
}
