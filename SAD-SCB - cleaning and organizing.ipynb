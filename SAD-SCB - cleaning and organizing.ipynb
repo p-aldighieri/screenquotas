{
 "cells": [
  {
   "cell_type": "code",
   "execution_count": 1,
   "metadata": {
    "ExecuteTime": {
     "end_time": "2021-09-30T17:55:03.044369Z",
     "start_time": "2021-09-30T17:55:02.617821Z"
    }
   },
   "outputs": [],
   "source": [
    "import pandas as pd\n",
    "import numpy as np"
   ]
  },
  {
   "cell_type": "markdown",
   "metadata": {
    "heading_collapsed": true
   },
   "source": [
    "### Registry database (Source: SAD/Ancine)\n",
    "\n",
    "A base de salas abrange os registros de agentes econômicos do segmento de exibição audiovisual na Agência Nacional do Cinema (Ancine) junto ao Sistema Ancine Digital (SAD) que serve para registro de agentes econômicos e de obras audiovisuais\n",
    "\n",
    "A obrigação legal de registro está prevista na [Medida Provisória nº 2.228-1, de 6 setembro de 2001](http://www.planalto.gov.br/ccivil_03/mpv/2228-1.htm), art. 22, caput, e regulamentada pela [Instrução Normativa nº 91, de 1 de dezembro de 2010](https://www.gov.br/ancine/pt-br/acesso-a-informacao/legislacao/instrucoes-normativas/instrucao-normativa-n-o-91-de-1-de-dezembro-de-2010), art. 3º, caput\n",
    "\n",
    "*The movie theater registry database covers companies in the audiovisual exhibition segment at the National Cinema Agency (Ancine) with the Ancine Digital System (SAD), which is used for the registration of economic agents and audiovisual works in Brazil*\n",
    "\n",
    "*The legal obligation to register oneself is provided for in [Provisional Measure nº 2,228-1, of September 6, 2001] (http://www.planalto.gov.br/ccivil_03/mpv/2228-1.htm), art. 22, caput, and regulated by [Normative Instruction No. 91, of December 1, 2010] (https://www.gov.br/ancine/pt-br/acesso-a-informacao/legislacao/instrucoes-normativas/instrucao-normativa-no-91-de-1-de-december-de-2010), 3rd article, caput*"
   ]
  },
  {
   "cell_type": "markdown",
   "metadata": {
    "hidden": true
   },
   "source": [
    "#### Import and copy"
   ]
  },
  {
   "cell_type": "code",
   "execution_count": 5,
   "metadata": {
    "ExecuteTime": {
     "end_time": "2021-09-12T14:46:47.926286Z",
     "start_time": "2021-09-12T14:46:41.414798Z"
    },
    "hidden": true
   },
   "outputs": [
    {
     "name": "stdout",
     "output_type": "stream",
     "text": [
      "SALA                            object\n",
      "REGISTRO SALA                  float64\n",
      "CNPJ SALA                       object\n",
      "STATUS                          object\n",
      "DT STATUS               datetime64[ns]\n",
      "STATUS ANTERIOR                 object\n",
      "DT STATUS ANTERIOR      datetime64[ns]\n",
      "QT ASSENTOS                    float64\n",
      "QT ASSENTOS CAD.               float64\n",
      "DT INÍC. FUNC.          datetime64[ns]\n",
      "COMPLEXO                        object\n",
      "REG. COMPLEXO                  float64\n",
      "SITUAÇÃO FUNC. COMP.            object\n",
      "DT SIT. COMPLEXO        datetime64[ns]\n",
      "TOTAL SALAS EM FUNC.             int64\n",
      "GRUPO EXIBIDOR                  object\n",
      "BAIRRO COMP.                    object\n",
      "MUN. COMPLEXO                   object\n",
      "UF COMPLEXO                     object\n",
      "COM. NÃO COM.                   object\n",
      "EVENTO FEC. COMP.               object\n",
      "ITINERANTE?                     object\n",
      "E-MAIL COMP.                    object\n",
      "ENDEREÇO COMPLEXO               object\n",
      "N° COMP.                       float64\n",
      "COMPLEMENTO COMPLEXO            object\n",
      "CEP COMPLEXO                    object\n",
      "AGE                             object\n",
      "REGISTRO EMPRESA                 int64\n",
      "CNPJ AGE                        object\n",
      "NATUREZA JURÍDICA               object\n",
      "PORTE                           object\n",
      "SITUAÇÃO AGE                    object\n",
      "DT SITUAÇÃO AGE         datetime64[ns]\n",
      "E-MAIL EMP.                     object\n",
      "TELEFONE EMPRESA                object\n",
      "dtype: object\n"
     ]
    }
   ],
   "source": [
    "# import for describe (may skip)\n",
    "\n",
    "base_salas = pd.read_excel('Dados_dos_Complexos__Salas_e_Empresas_Exibidoras.xlsx')\n",
    "\n",
    "print(base_salas.dtypes)"
   ]
  },
  {
   "cell_type": "code",
   "execution_count": null,
   "metadata": {
    "hidden": true
   },
   "outputs": [],
   "source": [
    "del base_salas"
   ]
  },
  {
   "cell_type": "code",
   "execution_count": 1,
   "metadata": {
    "ExecuteTime": {
     "end_time": "2021-06-08T01:45:24.348076Z",
     "start_time": "2021-06-08T01:45:24.329128Z"
    },
    "hidden": true
   },
   "outputs": [],
   "source": [
    "# defining useful columns\n",
    "\n",
    "uteis = ['CNPJ SALA', 'NATUREZA JURÍDICA', 'QT ASSENTOS CAD.', 'SITUAÇÃO FUNC. COMP.', 'COMPLEXO', 'ENDEREÇO COMPLEXO', \n",
    "         'MUN. COMPLEXO', 'N° COMP.', 'DT STATUS ANTERIOR', 'GRUPO EXIBIDOR', 'CEP COMPLEXO', 'STATUS', 'DT SIT. COMPLEXO', \n",
    "         'AGE', 'REG. COMPLEXO', 'COM. NÃO COM.', 'BAIRRO COMP.', 'REGISTRO SALA', 'DT INÍC. FUNC.', 'SALA', \n",
    "         'REGISTRO EMPRESA', 'TOTAL SALAS EM FUNC.', 'CNPJ AGE', 'DT STATUS', 'UF COMPLEXO', 'STATUS ANTERIOR', 'QT ASSENTOS']"
   ]
  },
  {
   "cell_type": "code",
   "execution_count": 5,
   "metadata": {
    "ExecuteTime": {
     "end_time": "2021-06-08T01:45:45.199589Z",
     "start_time": "2021-06-08T01:45:38.817243Z"
    },
    "hidden": true
   },
   "outputs": [],
   "source": [
    "# import\n",
    "\n",
    "base_salas = pd.read_excel('Dados_dos_Complexos__Salas_e_Empresas_Exibidoras.xlsx', usecols=uteis)"
   ]
  },
  {
   "cell_type": "code",
   "execution_count": 6,
   "metadata": {
    "ExecuteTime": {
     "end_time": "2021-06-08T01:45:45.342099Z",
     "start_time": "2021-06-08T01:45:45.312741Z"
    },
    "hidden": true
   },
   "outputs": [],
   "source": [
    "salas = base_salas.copy()\n",
    "\n",
    "salas.drop(['CNPJ SALA', 'NATUREZA JURÍDICA', 'ENDEREÇO COMPLEXO', 'N° COMP.', 'DT STATUS ANTERIOR', \n",
    "            'DT SIT. COMPLEXO', 'STATUS ANTERIOR', 'DT STATUS'], axis=1, inplace=True)"
   ]
  },
  {
   "cell_type": "markdown",
   "metadata": {
    "hidden": true
   },
   "source": [
    "#### Input manually some addresses and postal codes"
   ]
  },
  {
   "cell_type": "code",
   "execution_count": 7,
   "metadata": {
    "ExecuteTime": {
     "end_time": "2021-06-08T01:45:45.483314Z",
     "start_time": "2021-06-08T01:45:45.439130Z"
    },
    "hidden": true
   },
   "outputs": [],
   "source": [
    "# fixing postal code for a particular multiplex \n",
    "salas.loc[salas['REG. COMPLEXO'] == 4229, 'CEP COMPLEXO'] = '01307-001'\n",
    "\n",
    "# • Unibanco Arteplex\n",
    "# Rua Frei Caneca, 569 – 3º andar – Cerqueira César\n",
    "# 01307-001 – São Paulo - SP\n",
    "# Tel: (11) 3472-2359 / Fax: (11) 3266-5767\n",
    "\n",
    "# IMPRENSA FOOD SQUARE DRIVE-IN\n",
    "salas.loc[5553, 'CEP COMPLEXO'] = '60170-002'\n",
    "salas.loc[5553, 'MUN. COMPLEXO'] = 'FORTALEZA'\n",
    "salas.loc[5553, 'UF COMPLEXO'] = 'CE'\n",
    "\n",
    "# all other multiplexes without county or state information will not appear in the final dataset (comparing with final res)"
   ]
  },
  {
   "cell_type": "markdown",
   "metadata": {
    "hidden": true
   },
   "source": [
    "#### Group by multiplex"
   ]
  },
  {
   "cell_type": "code",
   "execution_count": 8,
   "metadata": {
    "ExecuteTime": {
     "end_time": "2021-06-08T01:45:45.640497Z",
     "start_time": "2021-06-08T01:45:45.595990Z"
    },
    "hidden": true
   },
   "outputs": [],
   "source": [
    "# grouping by multiplex\n",
    "\n",
    "complexos = salas[salas['REG. COMPLEXO'].notna() == True].groupby(['REG. COMPLEXO']).agg({\n",
    "    'COMPLEXO':'first', 'SITUAÇÃO FUNC. COMP.':'first',\n",
    "    'TOTAL SALAS EM FUNC.':'first', 'GRUPO EXIBIDOR':'first', 'BAIRRO COMP.':'first',\n",
    "    'MUN. COMPLEXO':'first', 'UF COMPLEXO':'first', 'COM. NÃO COM.':'first', 'CEP COMPLEXO':'first', 'AGE':'first',\n",
    "    'REGISTRO EMPRESA':'first', 'CNPJ AGE':'first', 'SALA':'count'})"
   ]
  },
  {
   "cell_type": "markdown",
   "metadata": {
    "hidden": true
   },
   "source": [
    "#### Group by movie theater chain to get total seats"
   ]
  },
  {
   "cell_type": "code",
   "execution_count": 9,
   "metadata": {
    "ExecuteTime": {
     "end_time": "2021-06-08T01:45:45.799307Z",
     "start_time": "2021-06-08T01:45:45.769985Z"
    },
    "hidden": true
   },
   "outputs": [],
   "source": [
    "# group by chain to get total seats at chain level\n",
    "grupos = salas[salas['GRUPO EXIBIDOR'].notna()].groupby(['GRUPO EXIBIDOR']).agg({\n",
    "    'QT ASSENTOS':'sum','QT ASSENTOS CAD.':'sum','SALA':'count',\n",
    "    'REG. COMPLEXO': 'count'\n",
    "})\n",
    "\n",
    "# rename cols\n",
    "grupos.columns = ['QT ASSENTOS', 'QT ASSENTOS CAD.', 'QT SALAS', 'QT COMPLEXOS']"
   ]
  },
  {
   "cell_type": "code",
   "execution_count": 10,
   "metadata": {
    "ExecuteTime": {
     "end_time": "2021-06-08T01:45:46.004279Z",
     "start_time": "2021-06-08T01:45:45.975900Z"
    },
    "hidden": true
   },
   "outputs": [],
   "source": [
    "# excluding viewing rooms with no registry (10 in total) and groupby VR id\n",
    "salas_index = salas[salas['REGISTRO SALA'].notna()].groupby('REGISTRO SALA').agg({\n",
    "    'SALA':'first', 'STATUS':'first','QT ASSENTOS':'first',\n",
    "    'QT ASSENTOS CAD.':'first','DT INÍC. FUNC.':'first'\n",
    "})"
   ]
  },
  {
   "cell_type": "markdown",
   "metadata": {
    "heading_collapsed": true,
    "hidden": true
   },
   "source": [
    "#### Some graphs"
   ]
  },
  {
   "cell_type": "code",
   "execution_count": 7,
   "metadata": {
    "hidden": true,
    "scrolled": true
   },
   "outputs": [
    {
     "data": {
      "text/plain": [
       "array([ 0,  7,  5,  9,  8,  1,  6,  4,  3,  2, 10, 12, 18, 11],\n",
       "      dtype=int64)"
      ]
     },
     "execution_count": 7,
     "metadata": {},
     "output_type": "execute_result"
    }
   ],
   "source": [
    "complexos['TOTAL SALAS EM FUNC.'].unique()"
   ]
  },
  {
   "cell_type": "code",
   "execution_count": 8,
   "metadata": {
    "hidden": true
   },
   "outputs": [
    {
     "data": {
      "text/plain": [
       "<matplotlib.axes._subplots.AxesSubplot at 0x25a685ea5e0>"
      ]
     },
     "execution_count": 8,
     "metadata": {},
     "output_type": "execute_result"
    },
    {
     "data": {
      "image/png": "[encoded data removed]",
      "text/plain": [
       "<Figure size 432x288 with 1 Axes>"
      ]
     },
     "metadata": {
      "needs_background": "light"
     },
     "output_type": "display_data"
    }
   ],
   "source": [
    "complexos['TOTAL SALAS EM FUNC.'].plot.hist(bins=30, xticks=list(range(19)))\n",
    "\n",
    "# movie theater size (as per number of viewing rooms)"
   ]
  },
  {
   "cell_type": "code",
   "execution_count": 10,
   "metadata": {
    "hidden": true,
    "scrolled": true
   },
   "outputs": [
    {
     "data": {
      "text/plain": [
       "<matplotlib.axes._subplots.AxesSubplot at 0x25a68dc4130>"
      ]
     },
     "execution_count": 10,
     "metadata": {},
     "output_type": "execute_result"
    },
    {
     "data": {
      "image/png": "[encoded data removed]",
      "text/plain": [
       "<Figure size 432x288 with 1 Axes>"
      ]
     },
     "metadata": {
      "needs_background": "light"
     },
     "output_type": "display_data"
    }
   ],
   "source": [
    "salas_index['QT ASSENTOS'].plot.hist(bins=100, xticks=list(range(0,3000,200)))"
   ]
  },
  {
   "cell_type": "markdown",
   "metadata": {},
   "source": [
    "### SCB database (Source: SCB/Ancine) - basic data organizing and cleansing\n",
    "\n",
    "O Sistema de Controle de Bilheteria (SCB) foi implantado pela Ancine em 2015 para receber dados de bilheteria diretamente dos exibidores. Em princípio, são exatamente os mesmos dados que os fornecidos pelos distribuidores ao SADIS.*\n",
    "\n",
    "A diferença é que os relatórios recebidos pelo SCB são ainda mais granulares, com dados por sessão (e não por dia), e com receita discriminada por categoria de ingresso. Mais detalhes sobre o sistema estão disponíveis no [Manual](https://www.gov.br/ancine/pt-br/assuntos/atribuicoes-ancine/regulacao/cinema/cota-de-tela/manual-cota-de-tela-22-02-2018.pdf/view).\n",
    "\n",
    "*The Box Office Control System (SCB) was implemented by Ancine in 2015 to receive box office data directly from the exhibitors. In principle, it is exactly the same data as that supplied by distributors to SADIS.*\n",
    "\n",
    "*The difference is that the reports received by the SCB are more granular, with data per session (and not per day), and with revenue broken down by category of ticket. More details about the system are available in the [Manual](https://www.gov.br/ancine/pt-br/assuntos/atribuicoes-ancine/regulacao/cinema/cota-de-tela/manual-cota-de-tela-22-02-2018.pdf/view)*"
   ]
  },
  {
   "cell_type": "markdown",
   "metadata": {},
   "source": [
    "#### First round of data treatment: merging with registry database"
   ]
  },
  {
   "cell_type": "code",
   "execution_count": 6,
   "metadata": {
    "ExecuteTime": {
     "end_time": "2021-09-12T14:49:27.880820Z",
     "start_time": "2021-09-12T14:48:26.207374Z"
    }
   },
   "outputs": [],
   "source": [
    "# importing raw data\n",
    "\n",
    "from datetime import datetime\n",
    "\n",
    "base_scb_17_19 = pd.read_csv('MV_EXIBICAO_SESSAO_TOTAL_2017_2019.csv', encoding=\"ISO-8859-1\", delimiter=';', \n",
    "        date_parser = lambda x: datetime.strptime(x, '%d/%m/%Y'))"
   ]
  },
  {
   "cell_type": "code",
   "execution_count": 7,
   "metadata": {
    "ExecuteTime": {
     "end_time": "2021-09-12T14:50:17.051833Z",
     "start_time": "2021-09-12T14:50:17.030889Z"
    }
   },
   "outputs": [
    {
     "name": "stdout",
     "output_type": "stream",
     "text": [
      "ANO_CINEMATOGRAFICO         int64\n",
      "SEMANA_CINEMATOGRAFICA      int64\n",
      "PRIMEIRO_DIA_SEMANA        object\n",
      "ULTIMO_DIA_SEMANA          object\n",
      "DATA_SESSAO                object\n",
      "DIA_SEMANA                 object\n",
      "QUALIFICADOR_DIA_SEMANA    object\n",
      "HORA_SESSAO                object\n",
      "DATA_HORA_SESSAO           object\n",
      "TIPO_SESSAO                object\n",
      "REGISTRO_SALA               int64\n",
      "REGISTRO_COMPLEXO           int64\n",
      "CPB_ROE                    object\n",
      "TITULO                     object\n",
      "NACIONALIDADE              object\n",
      "PUBLICO                     int64\n",
      "RENDA                      object\n",
      "dtype: object\n"
     ]
    }
   ],
   "source": [
    "print(base_scb_17_19.dtypes)"
   ]
  },
  {
   "cell_type": "code",
   "execution_count": 8,
   "metadata": {
    "ExecuteTime": {
     "end_time": "2021-09-12T14:50:32.132528Z",
     "start_time": "2021-09-12T14:50:32.119570Z"
    }
   },
   "outputs": [
    {
     "name": "stdout",
     "output_type": "stream",
     "text": [
      "Index(['ANO_CINEMATOGRAFICO', 'SEMANA_CINEMATOGRAFICA', 'PRIMEIRO_DIA_SEMANA',\n",
      "       'ULTIMO_DIA_SEMANA', 'DATA_SESSAO', 'DIA_SEMANA',\n",
      "       'QUALIFICADOR_DIA_SEMANA', 'HORA_SESSAO', 'DATA_HORA_SESSAO',\n",
      "       'TIPO_SESSAO', 'REGISTRO_SALA', 'REGISTRO_COMPLEXO', 'CPB_ROE',\n",
      "       'TITULO', 'NACIONALIDADE', 'PUBLICO', 'RENDA'],\n",
      "      dtype='object')\n"
     ]
    }
   ],
   "source": [
    "print(base_scb_17_19.columns)"
   ]
  },
  {
   "cell_type": "code",
   "execution_count": 11,
   "metadata": {
    "ExecuteTime": {
     "end_time": "2021-09-12T14:51:03.198243Z",
     "start_time": "2021-09-12T14:51:01.029508Z"
    }
   },
   "outputs": [
    {
     "name": "stdout",
     "output_type": "stream",
     "text": [
      "       ANO_CINEMATOGRAFICO  SEMANA_CINEMATOGRAFICA  REGISTRO_SALA  \\\n",
      "count         1.282062e+07            1.282062e+07   1.282062e+07   \n",
      "mean          2.018016e+03            2.638208e+01   5.003324e+06   \n",
      "std           8.147474e-01            1.503499e+01   1.856600e+03   \n",
      "min           2.017000e+03            1.000000e+00   5.000056e+06   \n",
      "25%           2.017000e+03            1.300000e+01   5.001698e+06   \n",
      "50%           2.018000e+03            2.700000e+01   5.003461e+06   \n",
      "75%           2.019000e+03            3.900000e+01   5.005040e+06   \n",
      "max           2.019000e+03            5.200000e+01   5.006528e+06   \n",
      "\n",
      "       REGISTRO_COMPLEXO       PUBLICO  \n",
      "count       1.282062e+07  1.282062e+07  \n",
      "mean        1.883187e+04  3.967931e+01  \n",
      "std         1.201773e+04  4.783178e+01  \n",
      "min         4.360000e+02  0.000000e+00  \n",
      "25%         6.397000e+03  9.000000e+00  \n",
      "50%         2.040400e+04  2.200000e+01  \n",
      "75%         2.826500e+04  5.100000e+01  \n",
      "max         4.503200e+04  1.242000e+03  \n"
     ]
    }
   ],
   "source": [
    "print(base_scb_17_19.describe())"
   ]
  },
  {
   "cell_type": "code",
   "execution_count": 13,
   "metadata": {
    "ExecuteTime": {
     "end_time": "2021-06-08T01:46:52.017532Z",
     "start_time": "2021-06-08T01:46:51.181769Z"
    },
    "scrolled": true
   },
   "outputs": [
    {
     "data": {
      "text/plain": [
       "(12820617, 17)"
      ]
     },
     "execution_count": 13,
     "metadata": {},
     "output_type": "execute_result"
    }
   ],
   "source": [
    "# copying\n",
    "\n",
    "scb_trab = base_scb_17_19.copy()\n",
    "\n",
    "scb_trab.shape"
   ]
  },
  {
   "cell_type": "code",
   "execution_count": 20,
   "metadata": {
    "ExecuteTime": {
     "end_time": "2021-06-05T03:53:49.767656Z",
     "start_time": "2021-06-05T03:53:41.250603Z"
    }
   },
   "outputs": [],
   "source": [
    "# casting data as floats to be able to map below\n",
    "\n",
    "scb_trab.loc[:,'REGISTRO_COMPLEXO'] = scb_trab.loc[:,'REGISTRO_COMPLEXO'].astype(float)\n",
    "scb_trab.loc[:,'REGISTRO_SALA'] = scb_trab.loc[:,'REGISTRO_SALA'].astype(float)"
   ]
  },
  {
   "cell_type": "code",
   "execution_count": 14,
   "metadata": {
    "ExecuteTime": {
     "end_time": "2021-06-08T01:52:40.958966Z",
     "start_time": "2021-06-08T01:51:01.990981Z"
    },
    "scrolled": true
   },
   "outputs": [],
   "source": [
    "# merging with multiplex data, salas_index was defined above in the registry data\n",
    "\n",
    "# viewing room level\n",
    "scb_trab.loc[:,'QT_ASSENTOS_SALA'] = scb_trab.loc[:,'REGISTRO_SALA'].map(salas_index.loc[:,'QT ASSENTOS'])\n",
    "\n",
    "# multiplex level\n",
    "scb_trab.loc[:,'CEP_COMPLEXO'] = scb_trab.loc[:,'REGISTRO_COMPLEXO'].map(complexos.loc[:,'CEP COMPLEXO'])\n",
    "scb_trab.loc[:,'MUN_COMPLEXO'] = scb_trab.loc[:,'REGISTRO_COMPLEXO'].map(complexos.loc[:,'MUN. COMPLEXO'])\n",
    "scb_trab.loc[:,'UF_COMPLEXO'] = scb_trab.loc[:,'REGISTRO_COMPLEXO'].map(complexos.loc[:,'UF COMPLEXO'])\n",
    "scb_trab.loc[:,'TOT_SALAS_FUNC'] = scb_trab.loc[:,'REGISTRO_COMPLEXO'].map(complexos.loc[:,'TOTAL SALAS EM FUNC.'])\n",
    "scb_trab.loc[:,'COMERCIAL'] = scb_trab.loc[:,'REGISTRO_COMPLEXO'].map(complexos.loc[:,'COM. NÃO COM.'])\n",
    "\n",
    "# company level\n",
    "scb_trab.loc[:,'REG_EMPRESA'] = scb_trab.loc[:,'REGISTRO_COMPLEXO'].map(complexos.loc[:,'REGISTRO EMPRESA'])\n",
    "scb_trab.loc[:,'AGE'] = scb_trab.loc[:,'REGISTRO_COMPLEXO'].map(complexos.loc[:,'AGE'])\n",
    "\n",
    "# chain level\n",
    "scb_trab.loc[:,'GRUPO_EXIBIDOR'] = scb_trab.loc[:,'REGISTRO_COMPLEXO'].map(complexos.loc[:,'GRUPO EXIBIDOR'])\n",
    "scb_trab.loc[:,'QTD_COMPLEXOS_GRUPO'] = scb_trab.loc[:,'GRUPO_EXIBIDOR'].map(grupos.loc[:,'QT COMPLEXOS'])\n",
    "scb_trab.loc[:,'QTD_SALAS_GRUPO'] = scb_trab.loc[:,'GRUPO_EXIBIDOR'].map(grupos.loc[:,'QT SALAS'])\n",
    "scb_trab.loc[:,'QTD_ASSENTOS_GRUPO'] = scb_trab.loc[:,'GRUPO_EXIBIDOR'].map(grupos.loc[:,'QT ASSENTOS'])"
   ]
  },
  {
   "cell_type": "code",
   "execution_count": 15,
   "metadata": {
    "ExecuteTime": {
     "end_time": "2021-06-08T01:59:12.767626Z",
     "start_time": "2021-06-08T01:54:35.397949Z"
    }
   },
   "outputs": [],
   "source": [
    "# first treatment export\n",
    "\n",
    "scb_trab.to_csv('SCB_2017 a 2019 tratado.csv')"
   ]
  },
  {
   "cell_type": "markdown",
   "metadata": {},
   "source": [
    "#### Data organizing to group by multiplex"
   ]
  },
  {
   "cell_type": "code",
   "execution_count": 2,
   "metadata": {
    "ExecuteTime": {
     "end_time": "2021-06-08T02:10:46.883114Z",
     "start_time": "2021-06-08T02:06:05.432012Z"
    }
   },
   "outputs": [],
   "source": [
    "from datetime import datetime\n",
    "\n",
    "dat_parser_scb = lambda x: datetime.strptime(x, '%Y-%m-%dT%H:%M:%SZ')\n",
    "\n",
    "scb_trab = pd.read_csv('SCB_2017 a 2019 tratado.csv',\n",
    "                       usecols=['ANO_CINEMATOGRAFICO', 'SEMANA_CINEMATOGRAFICA',\n",
    "                                'PRIMEIRO_DIA_SEMANA', 'ULTIMO_DIA_SEMANA', 'DATA_SESSAO', 'DIA_SEMANA',\n",
    "                                'QUALIFICADOR_DIA_SEMANA', 'HORA_SESSAO', 'DATA_HORA_SESSAO',\n",
    "                                'TIPO_SESSAO', 'REGISTRO_SALA', 'QT_ASSENTOS_SALA', 'REGISTRO_COMPLEXO', \n",
    "                                'TITULO', 'NACIONALIDADE', 'PUBLICO', 'RENDA', 'GRUPO_EXIBIDOR', 'CPB_ROE',\n",
    "                                'CEP_COMPLEXO', 'TOT_SALAS_FUNC', 'COMERCIAL', 'REG_EMPRESA', 'AGE',\n",
    "                                'MUN_COMPLEXO', 'UF_COMPLEXO'], date_parser = dat_parser_scb,\n",
    "                      parse_dates=['DATA_SESSAO'])"
   ]
  },
  {
   "cell_type": "code",
   "execution_count": 3,
   "metadata": {
    "ExecuteTime": {
     "end_time": "2021-06-08T02:12:44.928701Z",
     "start_time": "2021-06-08T02:12:20.947164Z"
    }
   },
   "outputs": [],
   "source": [
    "scb_trab.loc[:,'RENDA'] = scb_trab.RENDA.str.replace(',','.') # replacing ',' for '.' b/c floats in english use '.' \n",
    "\n",
    "scb_trab.loc[:,'RENDA'] = scb_trab.loc[:,'RENDA'].astype(float)\n",
    "\n",
    "# creating occupation indicator, dividing public by total seats (nominal at registry)\n",
    "\n",
    "scb_trab.loc[:,'OCUPAÇÃO_SALAS'] = scb_trab.loc[:,'PUBLICO'] / scb_trab.loc[:,'QT_ASSENTOS_SALA']"
   ]
  },
  {
   "cell_type": "markdown",
   "metadata": {},
   "source": [
    "#### IPCA price correction"
   ]
  },
  {
   "cell_type": "code",
   "execution_count": 4,
   "metadata": {
    "ExecuteTime": {
     "end_time": "2021-06-08T02:14:11.948398Z",
     "start_time": "2021-06-08T02:14:11.748677Z"
    }
   },
   "outputs": [],
   "source": [
    "# importing previously treated IPCA data, see IPCA_tratamento.ipynb\n",
    "\n",
    "IPCA = pd.read_csv('IPCA_tratado.csv', index_col=['ANO_MES'])"
   ]
  },
  {
   "cell_type": "code",
   "execution_count": 5,
   "metadata": {
    "ExecuteTime": {
     "end_time": "2021-06-08T02:17:55.241926Z",
     "start_time": "2021-06-08T02:15:09.201177Z"
    }
   },
   "outputs": [],
   "source": [
    "# criando lista de pares ordenados ANO_MES para criar nova coluna para mapear os dados de números_índices\n",
    "\n",
    "scb_trab['ANO_MES']= list(zip(scb_trab['DATA_SESSAO'].apply(lambda x: x.year),scb_trab['DATA_SESSAO'].apply(lambda x: x.month)))\n",
    "\n",
    "# transformação em str para que coincida com o formato do índice do dataframe IPCA\n",
    "\n",
    "scb_trab.loc[:,'ANO_MES'] = scb_trab.loc[:,'ANO_MES'].astype(str)\n",
    "\n",
    "# mapeando a coluna fator do IPCA para as linhas da base de trabalho do SCB\n",
    "\n",
    "scb_trab.loc[:,'FATOR'] = scb_trab.loc[:,'ANO_MES'].map(IPCA.loc[:,'FATOR'])\n",
    "\n",
    "# atualização da renda para valores de Janeiro de 2020\n",
    "\n",
    "scb_trab.loc[:,'RENDA_ATUALIZADA_JAN20'] = scb_trab.loc[:,'RENDA']*scb_trab.loc[:,'FATOR']"
   ]
  },
  {
   "cell_type": "markdown",
   "metadata": {},
   "source": [
    "#### Adding group id to session micro-data"
   ]
  },
  {
   "cell_type": "code",
   "execution_count": 6,
   "metadata": {
    "ExecuteTime": {
     "end_time": "2021-06-08T02:19:57.877820Z",
     "start_time": "2021-06-08T02:19:57.346735Z"
    }
   },
   "outputs": [
    {
     "name": "stderr",
     "output_type": "stream",
     "text": [
      "<ipython-input-6-68daad162e50>:11: SettingWithCopyWarning: \n",
      "A value is trying to be set on a copy of a slice from a DataFrame\n",
      "\n",
      "See the caveats in the documentation: https://pandas.pydata.org/pandas-docs/stable/user_guide/indexing.html#returning-a-view-versus-a-copy\n",
      "  nome_complexos.drop_duplicates(subset='NOME DO GRUPO', keep='first', inplace=True) # drop duplicates\n"
     ]
    }
   ],
   "source": [
    "# importing data\n",
    "\n",
    "complexo_grupo = pd.read_csv('Complexo_grupo.csv', index_col=['REGISTRO DO COMPLEXO']) # multiplex-group keys and infos\n",
    "cota = pd.read_csv('Cota_fiscalizacao_2017_2019.csv', index_col=['REGISTRO DO COMPLEXO']) # quotas\n",
    "\n",
    "# some multiplexes show up only in 2019, even though their group names (we have no group id) match previously existing groups\n",
    "# nevertheless, these multiplexes are not indexed in the 'complexo_grupo' file (b/c they first appeared in 2019)\n",
    "# we match these movie theaters directly through name matching\n",
    "\n",
    "nome_complexos = complexo_grupo[complexo_grupo['NOME DO GRUPO'].notna()] # getting all group names\n",
    "nome_complexos.drop_duplicates(subset='NOME DO GRUPO', keep='first', inplace=True) # drop duplicates\n",
    "nome_complexos.set_index('NOME DO GRUPO',inplace=True) # reindex"
   ]
  },
  {
   "cell_type": "code",
   "execution_count": 7,
   "metadata": {
    "ExecuteTime": {
     "end_time": "2021-06-08T02:22:22.245458Z",
     "start_time": "2021-06-08T02:22:15.374517Z"
    }
   },
   "outputs": [],
   "source": [
    "# merging using complex id as key, for 2019 sessions\n",
    "scb_trab.loc[scb_trab['ANO_CINEMATOGRAFICO'] == 2019, 'REGISTRO_GRUPO'] = scb_trab.loc[scb_trab['ANO_CINEMATOGRAFICO'] == 2019, 'REGISTRO_COMPLEXO'].map(complexo_grupo.loc[:,'REGISTRO DO GRUPO'], na_action='ignore')\n",
    "\n",
    "# same merger, but now getting quota information for 2018 and 2017\n",
    "scb_trab.loc[scb_trab['ANO_CINEMATOGRAFICO'] == 2018, 'REGISTRO_GRUPO'] = scb_trab.loc[scb_trab['ANO_CINEMATOGRAFICO'] == 2018, 'REGISTRO_COMPLEXO'].map(cota.loc[cota['ANO'] == 2018, 'REGISTRO DO GRUPO'], na_action='ignore')\n",
    "scb_trab.loc[scb_trab['ANO_CINEMATOGRAFICO'] == 2017, 'REGISTRO_GRUPO'] = scb_trab.loc[scb_trab['ANO_CINEMATOGRAFICO'] == 2017, 'REGISTRO_COMPLEXO'].map(cota.loc[cota['ANO'] == 2017, 'REGISTRO DO GRUPO'], na_action='ignore')\n",
    "\n",
    "# merging new multiplexes by group name as mentioned above\n",
    "scb_trab.loc[(scb_trab['ANO_CINEMATOGRAFICO'] == 2019) & (scb_trab.REGISTRO_GRUPO.isna()),'REGISTRO_GRUPO'] = scb_trab.loc[(scb_trab['ANO_CINEMATOGRAFICO'] == 2019) & (scb_trab.REGISTRO_GRUPO.isna()),'GRUPO_EXIBIDOR'].map(nome_complexos.loc[:,'REGISTRO DO GRUPO'], na_action='ignore')"
   ]
  },
  {
   "cell_type": "code",
   "execution_count": 8,
   "metadata": {
    "ExecuteTime": {
     "end_time": "2021-06-08T02:24:33.385277Z",
     "start_time": "2021-06-08T02:24:30.179398Z"
    }
   },
   "outputs": [],
   "source": [
    "# finally, same as we did in the inspection data, for lines still with no match, we use company id\n",
    "\n",
    "scb_trab.loc[scb_trab.REGISTRO_GRUPO.isna(), 'REGISTRO_GRUPO']=scb_trab.loc[scb_trab.REGISTRO_GRUPO.isna(), 'REG_EMPRESA']"
   ]
  },
  {
   "cell_type": "code",
   "execution_count": null,
   "metadata": {
    "ExecuteTime": {
     "end_time": "2021-06-08T02:25:38.051886Z",
     "start_time": "2021-06-08T02:06:36.803Z"
    }
   },
   "outputs": [],
   "source": [
    "# exporting third version\n",
    "\n",
    "scb_trab.to_csv('SCB_2017 a 2019 tratado 2.csv')"
   ]
  },
  {
   "cell_type": "markdown",
   "metadata": {},
   "source": [
    "#### Inferring seats and viewing rooms per group and per multiplex"
   ]
  },
  {
   "cell_type": "code",
   "execution_count": 2,
   "metadata": {
    "ExecuteTime": {
     "end_time": "2021-06-25T00:59:15.487593Z",
     "start_time": "2021-06-25T00:57:02.121959Z"
    }
   },
   "outputs": [],
   "source": [
    "# reimport\n",
    "\n",
    "scb_trab = pd.read_csv('SCB_2017 a 2019 tratado 2.csv')"
   ]
  },
  {
   "cell_type": "code",
   "execution_count": 9,
   "metadata": {
    "ExecuteTime": {
     "end_time": "2021-06-08T02:25:50.394805Z",
     "start_time": "2021-06-08T02:25:42.770354Z"
    }
   },
   "outputs": [],
   "source": [
    "# group by viewing room to see maximum and compare to registry data about seat capacity\n",
    "\n",
    "oc_max = scb_trab.groupby(['REGISTRO_SALA']).agg({\n",
    "    'PUBLICO':'max', 'QT_ASSENTOS_SALA':'first'\n",
    "})\n",
    "\n",
    "# getting inferred seats, only if registry info is unavailable, or if max observed occupation is higher than registry\n",
    "for reg in oc_max.index:\n",
    "    if np.isnan(oc_max.loc[reg,'QT_ASSENTOS_SALA']): # if data is unavailable in registry db, use inferred data\n",
    "        oc_max.loc[reg,'ASSENTOS_INFERIDO'] = oc_max.loc[reg,'PUBLICO']\n",
    "        \n",
    "    elif oc_max.loc[reg,'PUBLICO'] > oc_max.loc[reg,'QT_ASSENTOS_SALA']: # if inferred is higher than max, registry is wrong\n",
    "        oc_max.loc[reg,'ASSENTOS_INFERIDO'] = oc_max.loc[reg,'PUBLICO'] # get inferred also\n",
    "    \n",
    "    else: # last, if inferred lower than registry available data, use registry data\n",
    "        oc_max.loc[reg,'ASSENTOS_INFERIDO'] = oc_max.loc[reg,'QT_ASSENTOS_SALA']\n",
    "\n",
    "# mapping back to initial dataset\n",
    "scb_trab.loc[:,'ASSENTOS_INFERIDO'] = scb_trab.loc[:,'REGISTRO_SALA'].map(oc_max['ASSENTOS_INFERIDO'])"
   ]
  },
  {
   "cell_type": "code",
   "execution_count": 10,
   "metadata": {
    "ExecuteTime": {
     "end_time": "2021-06-08T02:28:14.580594Z",
     "start_time": "2021-06-08T02:28:14.016534Z"
    }
   },
   "outputs": [],
   "source": [
    "# creating inferred occupation based on new cols\n",
    "scb_trab['OCUPAÇÃO_SALA_INFERIDA'] = np.divide(scb_trab['PUBLICO'], scb_trab['ASSENTOS_INFERIDO'])"
   ]
  },
  {
   "cell_type": "code",
   "execution_count": 11,
   "metadata": {
    "ExecuteTime": {
     "end_time": "2021-06-08T02:30:41.903670Z",
     "start_time": "2021-06-08T02:30:40.763443Z"
    }
   },
   "outputs": [
    {
     "data": {
      "text/plain": [
       "0.0     0.797957\n",
       "1.0     0.027314\n",
       "2.0     0.032028\n",
       "3.0     0.015898\n",
       "4.0     0.016468\n",
       "5.0     0.009366\n",
       "6.0     0.008591\n",
       "7.0     0.004729\n",
       "8.0     0.003842\n",
       "9.0     0.004096\n",
       "10.0    0.003134\n",
       "11.0    0.004144\n",
       "12.0    0.002009\n",
       "13.0    0.003548\n",
       "14.0    0.004889\n",
       "15.0    0.003041\n",
       "16.0    0.001155\n",
       "17.0    0.002590\n",
       "18.0    0.001965\n",
       "19.0    0.003651\n",
       "20.0    0.001954\n",
       "dtype: float64"
      ]
     },
     "execution_count": 11,
     "metadata": {},
     "output_type": "execute_result"
    }
   ],
   "source": [
    "# checking whether discrepancies between inferred and registry data are great\n",
    "np.subtract(scb_trab['ASSENTOS_INFERIDO'],scb_trab['QT_ASSENTOS_SALA']).value_counts(normalize=True).sort_index()[:20]\n",
    "\n",
    "# 80% are a perfect match"
   ]
  },
  {
   "cell_type": "code",
   "execution_count": 12,
   "metadata": {
    "ExecuteTime": {
     "end_time": "2021-06-08T02:32:22.987805Z",
     "start_time": "2021-06-08T02:32:22.419140Z"
    }
   },
   "outputs": [
    {
     "data": {
      "text/plain": [
       "0.8990322706977097"
      ]
     },
     "execution_count": 12,
     "metadata": {},
     "output_type": "execute_result"
    }
   ],
   "source": [
    "# summing discrepancies in the 0-5 seat range\n",
    "np.subtract(scb_trab['ASSENTOS_INFERIDO'],scb_trab['QT_ASSENTOS_SALA']).value_counts(normalize=True).sort_index()[:5].sum()\n",
    "\n",
    "# discrepancies are lower than 5% account for 90% of total sessions"
   ]
  },
  {
   "cell_type": "code",
   "execution_count": 13,
   "metadata": {
    "ExecuteTime": {
     "end_time": "2021-06-08T02:34:45.001482Z",
     "start_time": "2021-06-08T02:34:12.752305Z"
    }
   },
   "outputs": [],
   "source": [
    "# group by chain to get inferred number of VRs\n",
    "vr_per_chain = scb_trab.groupby(['ANO_CINEMATOGRAFICO','REGISTRO_GRUPO']).agg({'REGISTRO_SALA':'nunique'})\n",
    "\n",
    "\n",
    "# map back to database year by year\n",
    "for y in [2017, 2018, 2019]:\n",
    "    scb_trab.loc[scb_trab.ANO_CINEMATOGRAFICO == y,'SALAS_GRUPO_INFERIDO'] = scb_trab.loc[:,'REGISTRO_GRUPO'].map(vr_per_chain.loc[y, 'REGISTRO_SALA'])"
   ]
  },
  {
   "cell_type": "markdown",
   "metadata": {},
   "source": [
    "#### Getting seats per multiplex and group (and inferring no. of viewing rooms per multiplex)"
   ]
  },
  {
   "cell_type": "code",
   "execution_count": 14,
   "metadata": {
    "ExecuteTime": {
     "end_time": "2021-06-08T02:35:55.523947Z",
     "start_time": "2021-06-08T02:35:52.463380Z"
    }
   },
   "outputs": [],
   "source": [
    "# getting no. of seats per VR with mulitplex and year id\n",
    "comp_seats = scb_trab.groupby(['ANO_CINEMATOGRAFICO','REGISTRO_COMPLEXO','REGISTRO_SALA'], as_index=False).agg({\n",
    "    'ASSENTOS_INFERIDO':'first'})"
   ]
  },
  {
   "cell_type": "code",
   "execution_count": 15,
   "metadata": {
    "ExecuteTime": {
     "end_time": "2021-06-08T02:37:30.205222Z",
     "start_time": "2021-06-08T02:37:29.929485Z"
    }
   },
   "outputs": [
    {
     "data": {
      "text/html": [
       "<div>\n",
       "<style scoped>\n",
       "    .dataframe tbody tr th:only-of-type {\n",
       "        vertical-align: middle;\n",
       "    }\n",
       "\n",
       "    .dataframe tbody tr th {\n",
       "        vertical-align: top;\n",
       "    }\n",
       "\n",
       "    .dataframe thead th {\n",
       "        text-align: right;\n",
       "    }\n",
       "</style>\n",
       "<table border=\"1\" class=\"dataframe\">\n",
       "  <thead>\n",
       "    <tr style=\"text-align: right;\">\n",
       "      <th></th>\n",
       "      <th>ANO_CINEMATOGRAFICO</th>\n",
       "      <th>REGISTRO_COMPLEXO</th>\n",
       "      <th>REGISTRO_SALA</th>\n",
       "      <th>ASSENTOS_INFERIDO</th>\n",
       "    </tr>\n",
       "  </thead>\n",
       "  <tbody>\n",
       "    <tr>\n",
       "      <th>0</th>\n",
       "      <td>2017</td>\n",
       "      <td>436</td>\n",
       "      <td>5000827</td>\n",
       "      <td>180.0</td>\n",
       "    </tr>\n",
       "    <tr>\n",
       "      <th>1</th>\n",
       "      <td>2017</td>\n",
       "      <td>436</td>\n",
       "      <td>5000828</td>\n",
       "      <td>150.0</td>\n",
       "    </tr>\n",
       "    <tr>\n",
       "      <th>2</th>\n",
       "      <td>2017</td>\n",
       "      <td>436</td>\n",
       "      <td>5000829</td>\n",
       "      <td>181.0</td>\n",
       "    </tr>\n",
       "    <tr>\n",
       "      <th>3</th>\n",
       "      <td>2017</td>\n",
       "      <td>438</td>\n",
       "      <td>5002226</td>\n",
       "      <td>111.0</td>\n",
       "    </tr>\n",
       "    <tr>\n",
       "      <th>4</th>\n",
       "      <td>2017</td>\n",
       "      <td>438</td>\n",
       "      <td>5002227</td>\n",
       "      <td>212.0</td>\n",
       "    </tr>\n",
       "  </tbody>\n",
       "</table>\n",
       "</div>"
      ],
      "text/plain": [
       "   ANO_CINEMATOGRAFICO  REGISTRO_COMPLEXO  REGISTRO_SALA  ASSENTOS_INFERIDO\n",
       "0                 2017                436        5000827              180.0\n",
       "1                 2017                436        5000828              150.0\n",
       "2                 2017                436        5000829              181.0\n",
       "3                 2017                438        5002226              111.0\n",
       "4                 2017                438        5002227              212.0"
      ]
     },
     "execution_count": 15,
     "metadata": {},
     "output_type": "execute_result"
    }
   ],
   "source": [
    "comp_seats.head()"
   ]
  },
  {
   "cell_type": "code",
   "execution_count": 16,
   "metadata": {
    "ExecuteTime": {
     "end_time": "2021-06-08T02:39:04.838937Z",
     "start_time": "2021-06-08T02:39:04.623639Z"
    }
   },
   "outputs": [],
   "source": [
    "# now agg at year/multiplex level to get total no. of seats a multiplex has\n",
    "comp_seats_agg = comp_seats.groupby(['ANO_CINEMATOGRAFICO','REGISTRO_COMPLEXO']).agg({\n",
    "    'REGISTRO_SALA':'nunique','ASSENTOS_INFERIDO':'sum'\n",
    "})"
   ]
  },
  {
   "cell_type": "code",
   "execution_count": 17,
   "metadata": {
    "ExecuteTime": {
     "end_time": "2021-06-08T02:41:22.572805Z",
     "start_time": "2021-06-08T02:41:09.516278Z"
    }
   },
   "outputs": [],
   "source": [
    "# map back to database year by year\n",
    "for y in [2017, 2018, 2019]:\n",
    "    scb_trab.loc[scb_trab.ANO_CINEMATOGRAFICO == y,'SALAS_COMPLEXO_INFERIDO'] = scb_trab.loc[\n",
    "        :,'REGISTRO_COMPLEXO'].map(comp_seats_agg.loc[y, 'REGISTRO_SALA'])\n",
    "    scb_trab.loc[scb_trab.ANO_CINEMATOGRAFICO == y,'ASSENTOS_COMPLEXO_INFERIDO'] = scb_trab.loc[\n",
    "        :,'REGISTRO_COMPLEXO'].map(comp_seats_agg.loc[y, 'ASSENTOS_INFERIDO'])"
   ]
  },
  {
   "cell_type": "code",
   "execution_count": 18,
   "metadata": {
    "ExecuteTime": {
     "end_time": "2021-06-08T02:43:01.167953Z",
     "start_time": "2021-06-08T02:42:51.259728Z"
    }
   },
   "outputs": [],
   "source": [
    "# doing the same for group\n",
    "group_seats = scb_trab.groupby(['ANO_CINEMATOGRAFICO','REGISTRO_GRUPO','REGISTRO_SALA'], as_index=False).agg({\n",
    "    'ASSENTOS_INFERIDO':'first'})\n",
    "group_seats_agg = group_seats.groupby(['ANO_CINEMATOGRAFICO','REGISTRO_GRUPO']).agg({\n",
    "    'ASSENTOS_INFERIDO':'sum'\n",
    "})"
   ]
  },
  {
   "cell_type": "code",
   "execution_count": 19,
   "metadata": {
    "ExecuteTime": {
     "end_time": "2021-06-08T02:44:52.113888Z",
     "start_time": "2021-06-08T02:44:42.717260Z"
    }
   },
   "outputs": [],
   "source": [
    "# map back to database year by year\n",
    "for y in [2017, 2018, 2019]:\n",
    "    scb_trab.loc[scb_trab.ANO_CINEMATOGRAFICO == y,'ASSENTOS_GRUPO_INFERIDO'] = scb_trab.loc[\n",
    "        :,'REGISTRO_GRUPO'].map(group_seats_agg.loc[y, 'ASSENTOS_INFERIDO'])"
   ]
  },
  {
   "cell_type": "markdown",
   "metadata": {},
   "source": [
    "#### Getting session starting hours"
   ]
  },
  {
   "cell_type": "code",
   "execution_count": 20,
   "metadata": {
    "ExecuteTime": {
     "end_time": "2021-06-08T02:46:29.150344Z",
     "start_time": "2021-06-08T02:46:29.094944Z"
    }
   },
   "outputs": [],
   "source": [
    "# adjusting time\n",
    "\n",
    "def adj_hora(hora):\n",
    "    h = int(hora[:2]) # getting two first digits as hours\n",
    "    m = int(hora[3:5]) # 3-5 as minutes\n",
    "    if h != 23:\n",
    "        if m > 30: # if more than half past hour, assign to next\n",
    "            return h+1\n",
    "        else: # do not change\n",
    "            return h  \n",
    "    else: # for 11 pm o'clock, must reset to 0\n",
    "        if m > 30:\n",
    "            return 0\n",
    "        else:\n",
    "            return h"
   ]
  },
  {
   "cell_type": "code",
   "execution_count": 21,
   "metadata": {
    "ExecuteTime": {
     "end_time": "2021-06-08T02:48:07.986189Z",
     "start_time": "2021-06-08T02:47:56.129544Z"
    }
   },
   "outputs": [],
   "source": [
    "# getting session start hours\n",
    "\n",
    "scb_trab['HORA_ajustada'] = scb_trab['HORA_SESSAO'].apply(adj_hora)"
   ]
  },
  {
   "cell_type": "markdown",
   "metadata": {},
   "source": [
    "#### Getting number of opening days per multiplex"
   ]
  },
  {
   "cell_type": "code",
   "execution_count": 11,
   "metadata": {
    "ExecuteTime": {
     "end_time": "2021-06-17T22:42:51.969210Z",
     "start_time": "2021-06-17T22:42:22.225368Z"
    }
   },
   "outputs": [],
   "source": [
    "# getting unique date info to aggregate and obtain total opening days\n",
    "\n",
    "from datetime import datetime\n",
    "\n",
    "scb_trab.loc[:,'DATA_SESSAO'] = scb_trab.loc[:,'DATA_SESSAO'].apply(lambda x: datetime.strptime(x, '%Y-%m-%d %H:%M:%S'))\n",
    "scb_trab.loc[:,'DATA'] = scb_trab.loc[:,'DATA_SESSAO'].dt.date"
   ]
  },
  {
   "cell_type": "code",
   "execution_count": 12,
   "metadata": {
    "ExecuteTime": {
     "end_time": "2021-06-17T22:42:58.749996Z",
     "start_time": "2021-06-17T22:42:58.682546Z"
    }
   },
   "outputs": [
    {
     "data": {
      "text/plain": [
       "Index(['ANO_CINEMATOGRAFICO', 'SEMANA_CINEMATOGRAFICA', 'PRIMEIRO_DIA_SEMANA',\n",
       "       'ULTIMO_DIA_SEMANA', 'DATA_SESSAO', 'DIA_SEMANA',\n",
       "       'QUALIFICADOR_DIA_SEMANA', 'HORA_SESSAO', 'DATA_HORA_SESSAO',\n",
       "       'TIPO_SESSAO', 'REGISTRO_SALA', 'REGISTRO_COMPLEXO', 'CPB_ROE',\n",
       "       'TITULO', 'NACIONALIDADE', 'PUBLICO', 'RENDA', 'QT_ASSENTOS_SALA',\n",
       "       'CEP_COMPLEXO', 'MUN_COMPLEXO', 'UF_COMPLEXO', 'TOT_SALAS_FUNC',\n",
       "       'COMERCIAL', 'REG_EMPRESA', 'AGE', 'GRUPO_EXIBIDOR', 'OCUPAÇÃO_SALAS',\n",
       "       'ANO_MES', 'FATOR', 'RENDA_ATUALIZADA_JAN20', 'REGISTRO_GRUPO',\n",
       "       'ASSENTOS_INFERIDO', 'OCUPAÇÃO_SALA_INFERIDA', 'SALAS_GRUPO_INFERIDO',\n",
       "       'SALAS_COMPLEXO_INFERIDO', 'ASSENTOS_COMPLEXO_INFERIDO',\n",
       "       'ASSENTOS_GRUPO_INFERIDO', 'HORA_ajustada', 'DIAS_FUNCIONAMENTO',\n",
       "       'DATA'],\n",
       "      dtype='object')"
      ]
     },
     "execution_count": 12,
     "metadata": {},
     "output_type": "execute_result"
    }
   ],
   "source": [
    "scb_trab.columns"
   ]
  },
  {
   "cell_type": "code",
   "execution_count": 7,
   "metadata": {
    "ExecuteTime": {
     "end_time": "2021-06-17T18:53:27.364113Z",
     "start_time": "2021-06-17T18:52:51.602953Z"
    }
   },
   "outputs": [],
   "source": [
    "# groupby no. of opening days per multiplex per year\n",
    "op_days = scb_trab.groupby(['ANO_CINEMATOGRAFICO','REGISTRO_COMPLEXO']).agg({\n",
    "    'DIAS_FUNCIONAMENTO':'nunique', 'REGISTRO_GRUPO':'first'})"
   ]
  },
  {
   "cell_type": "code",
   "execution_count": 18,
   "metadata": {
    "ExecuteTime": {
     "end_time": "2021-06-17T22:46:53.157179Z",
     "start_time": "2021-06-17T22:46:50.448217Z"
    }
   },
   "outputs": [],
   "source": [
    "# map back to original dataset\n",
    "for y in [2017, 2018, 2019]:\n",
    "    scb_trab.loc[scb_trab.ANO_CINEMATOGRAFICO == y, 'DIAS_FUNCIONAMENTO'] = scb_trab.loc[\n",
    "        scb_trab.ANO_CINEMATOGRAFICO == y, 'REGISTRO_COMPLEXO'].map(op_days.loc[y,'DIAS_FUNCIONAMENTO'])"
   ]
  },
  {
   "cell_type": "markdown",
   "metadata": {},
   "source": [
    "#### Getting number of opening days per chain"
   ]
  },
  {
   "cell_type": "code",
   "execution_count": 20,
   "metadata": {
    "ExecuteTime": {
     "end_time": "2021-06-17T22:51:08.416973Z",
     "start_time": "2021-06-17T22:50:56.169288Z"
    }
   },
   "outputs": [],
   "source": [
    "# groupby no. of opening days per multiplex per year, but with chain info\n",
    "chain_op_days = scb_trab.groupby(['ANO_CINEMATOGRAFICO','REGISTRO_COMPLEXO'], as_index=False).agg({\n",
    "    'DIAS_FUNCIONAMENTO':'nunique', 'REGISTRO_GRUPO':'first'})"
   ]
  },
  {
   "cell_type": "code",
   "execution_count": 21,
   "metadata": {
    "ExecuteTime": {
     "end_time": "2021-06-17T22:52:33.211985Z",
     "start_time": "2021-06-17T22:52:33.192908Z"
    }
   },
   "outputs": [],
   "source": [
    "# now sum all op days of multiplexes to get chain-level aggregates\n",
    "chain_sum = chain_op_days.groupby(['ANO_CINEMATOGRAFICO','REGISTRO_GRUPO']).agg({\n",
    "    'DIAS_FUNCIONAMENTO':'sum'\n",
    "})"
   ]
  },
  {
   "cell_type": "code",
   "execution_count": 23,
   "metadata": {
    "ExecuteTime": {
     "end_time": "2021-06-17T22:53:14.715477Z",
     "start_time": "2021-06-17T22:53:07.193068Z"
    }
   },
   "outputs": [],
   "source": [
    "# map back to original dataset\n",
    "for y in [2017, 2018, 2019]:\n",
    "    scb_trab.loc[scb_trab.ANO_CINEMATOGRAFICO == y, 'DIAS_FUNCIONAMENTO_GRUPO'] = scb_trab.loc[\n",
    "        scb_trab.ANO_CINEMATOGRAFICO == y, 'REGISTRO_GRUPO'].map(chain_sum.loc[y,'DIAS_FUNCIONAMENTO'])"
   ]
  },
  {
   "cell_type": "markdown",
   "metadata": {},
   "source": [
    "#### Merging with inspection data"
   ]
  },
  {
   "cell_type": "markdown",
   "metadata": {},
   "source": [
    "##### Complex-level"
   ]
  },
  {
   "cell_type": "code",
   "execution_count": 14,
   "metadata": {
    "ExecuteTime": {
     "end_time": "2021-06-25T02:24:48.228416Z",
     "start_time": "2021-06-25T02:24:48.108403Z"
    }
   },
   "outputs": [],
   "source": [
    "# import quotas to merge with index by group registry\n",
    "cota = pd.read_csv('Cota_fiscalizacao_2017_2019.csv',\n",
    "                        index_col=('ANO_CINEMATOGRAFICO','REGISTRO DO COMPLEXO'))"
   ]
  },
  {
   "cell_type": "code",
   "execution_count": 15,
   "metadata": {
    "ExecuteTime": {
     "end_time": "2021-06-25T02:24:49.449411Z",
     "start_time": "2021-06-25T02:24:49.430362Z"
    }
   },
   "outputs": [
    {
     "data": {
      "text/plain": [
       "Index(['REGISTRO DO GRUPO', 'NOME DO GRUPO', 'REGISTRO DA EMPRESA',\n",
       "       'NOME DA EMPRESA', 'NOME DO COMPLEXO', 'TOTAL SALAS DO COMPLEXO',\n",
       "       'Nº DE DIAS OBRIGAÇÃO PROPORCIONAL', 'OBRIGAÇÃO_TOTAL_INCREMENTO',\n",
       "       'OBRIGAÇÃO_PROP_INCREMENTO', 'OBRIGAÇÃO_TOTAL', 'OBG_FINAL',\n",
       "       'Nº DE DIAS VALIDADOS', 'Nº DE TÍTULOS DIFERENTES OBRIGAÇÃO',\n",
       "       'Nº DE TÍTULOS DIFERENTES DECLARADOS', 'CUMPRIU COTA', 'TRANSF_ORIGEM',\n",
       "       'TRANSF_RECEBIDOS', 'OBRIGAÇÃO_TOTAL_POR_SALA',\n",
       "       'OBRIGAÇÃO_TOTAL_INCREMENTO_POR_SALA', 'OBRIGAÇÃO_PROP_POR_SALA',\n",
       "       'OBRIGAÇÃO_PROP_INCREMENTO_POR_SALA', 'OBRIGAÇÃO_FINAL_POR_SALA',\n",
       "       'CUMPRIMENTO_PROPORCIONAL', 'DIAS_FUNC_INFERIDOS',\n",
       "       'CUMPRIMENTO_PROP_TRUNCADO', 'CUMPRIMENTO_LINEAR',\n",
       "       'CUMPRIMENTO_NORMALIZADO', 'CUMPRIMENTO_TRIWEIGHT'],\n",
       "      dtype='object')"
      ]
     },
     "execution_count": 15,
     "metadata": {},
     "output_type": "execute_result"
    }
   ],
   "source": [
    "cota.columns"
   ]
  },
  {
   "cell_type": "code",
   "execution_count": 16,
   "metadata": {
    "ExecuteTime": {
     "end_time": "2021-06-25T02:25:44.215893Z",
     "start_time": "2021-06-25T02:25:01.924344Z"
    },
    "collapsed": true
   },
   "outputs": [
    {
     "name": "stdout",
     "output_type": "stream",
     "text": [
      "0\n"
     ]
    },
    {
     "ename": "KeyError",
     "evalue": "(2018, 27245)",
     "output_type": "error",
     "traceback": [
      "\u001b[1;31m---------------------------------------------------------------------------\u001b[0m",
      "\u001b[1;31mKeyError\u001b[0m                                  Traceback (most recent call last)",
      "\u001b[1;32mC:\\ProgramData\\Anaconda3\\lib\\site-packages\\pandas\\core\\indexes\\base.py\u001b[0m in \u001b[0;36mget_loc\u001b[1;34m(self, key, method, tolerance)\u001b[0m\n\u001b[0;32m   2645\u001b[0m             \u001b[1;32mtry\u001b[0m\u001b[1;33m:\u001b[0m\u001b[1;33m\u001b[0m\u001b[1;33m\u001b[0m\u001b[0m\n\u001b[1;32m-> 2646\u001b[1;33m                 \u001b[1;32mreturn\u001b[0m \u001b[0mself\u001b[0m\u001b[1;33m.\u001b[0m\u001b[0m_engine\u001b[0m\u001b[1;33m.\u001b[0m\u001b[0mget_loc\u001b[0m\u001b[1;33m(\u001b[0m\u001b[0mkey\u001b[0m\u001b[1;33m)\u001b[0m\u001b[1;33m\u001b[0m\u001b[1;33m\u001b[0m\u001b[0m\n\u001b[0m\u001b[0;32m   2647\u001b[0m             \u001b[1;32mexcept\u001b[0m \u001b[0mKeyError\u001b[0m\u001b[1;33m:\u001b[0m\u001b[1;33m\u001b[0m\u001b[1;33m\u001b[0m\u001b[0m\n",
      "\u001b[1;32mpandas\\_libs\\index.pyx\u001b[0m in \u001b[0;36mpandas._libs.index.IndexEngine.get_loc\u001b[1;34m()\u001b[0m\n",
      "\u001b[1;32mpandas\\_libs\\index.pyx\u001b[0m in \u001b[0;36mpandas._libs.index.IndexEngine.get_loc\u001b[1;34m()\u001b[0m\n",
      "\u001b[1;32mpandas\\_libs\\hashtable_class_helper.pxi\u001b[0m in \u001b[0;36mpandas._libs.hashtable.Int64HashTable.get_item\u001b[1;34m()\u001b[0m\n",
      "\u001b[1;32mpandas\\_libs\\hashtable_class_helper.pxi\u001b[0m in \u001b[0;36mpandas._libs.hashtable.Int64HashTable.get_item\u001b[1;34m()\u001b[0m\n",
      "\u001b[1;31mKeyError\u001b[0m: 27245",
      "\nDuring handling of the above exception, another exception occurred:\n",
      "\u001b[1;31mKeyError\u001b[0m                                  Traceback (most recent call last)",
      "\u001b[1;32mpandas\\_libs\\index.pyx\u001b[0m in \u001b[0;36mpandas._libs.index.BaseMultiIndexCodesEngine.get_loc\u001b[1;34m()\u001b[0m\n",
      "\u001b[1;32mC:\\ProgramData\\Anaconda3\\lib\\site-packages\\pandas\\core\\indexes\\base.py\u001b[0m in \u001b[0;36mget_loc\u001b[1;34m(self, key, method, tolerance)\u001b[0m\n\u001b[0;32m   2647\u001b[0m             \u001b[1;32mexcept\u001b[0m \u001b[0mKeyError\u001b[0m\u001b[1;33m:\u001b[0m\u001b[1;33m\u001b[0m\u001b[1;33m\u001b[0m\u001b[0m\n\u001b[1;32m-> 2648\u001b[1;33m                 \u001b[1;32mreturn\u001b[0m \u001b[0mself\u001b[0m\u001b[1;33m.\u001b[0m\u001b[0m_engine\u001b[0m\u001b[1;33m.\u001b[0m\u001b[0mget_loc\u001b[0m\u001b[1;33m(\u001b[0m\u001b[0mself\u001b[0m\u001b[1;33m.\u001b[0m\u001b[0m_maybe_cast_indexer\u001b[0m\u001b[1;33m(\u001b[0m\u001b[0mkey\u001b[0m\u001b[1;33m)\u001b[0m\u001b[1;33m)\u001b[0m\u001b[1;33m\u001b[0m\u001b[1;33m\u001b[0m\u001b[0m\n\u001b[0m\u001b[0;32m   2649\u001b[0m         \u001b[0mindexer\u001b[0m \u001b[1;33m=\u001b[0m \u001b[0mself\u001b[0m\u001b[1;33m.\u001b[0m\u001b[0mget_indexer\u001b[0m\u001b[1;33m(\u001b[0m\u001b[1;33m[\u001b[0m\u001b[0mkey\u001b[0m\u001b[1;33m]\u001b[0m\u001b[1;33m,\u001b[0m \u001b[0mmethod\u001b[0m\u001b[1;33m=\u001b[0m\u001b[0mmethod\u001b[0m\u001b[1;33m,\u001b[0m \u001b[0mtolerance\u001b[0m\u001b[1;33m=\u001b[0m\u001b[0mtolerance\u001b[0m\u001b[1;33m)\u001b[0m\u001b[1;33m\u001b[0m\u001b[1;33m\u001b[0m\u001b[0m\n",
      "\u001b[1;32mpandas\\_libs\\index.pyx\u001b[0m in \u001b[0;36mpandas._libs.index.IndexEngine.get_loc\u001b[1;34m()\u001b[0m\n",
      "\u001b[1;32mpandas\\_libs\\index.pyx\u001b[0m in \u001b[0;36mpandas._libs.index.IndexEngine.get_loc\u001b[1;34m()\u001b[0m\n",
      "\u001b[1;32mpandas\\_libs\\hashtable_class_helper.pxi\u001b[0m in \u001b[0;36mpandas._libs.hashtable.Int64HashTable.get_item\u001b[1;34m()\u001b[0m\n",
      "\u001b[1;32mpandas\\_libs\\hashtable_class_helper.pxi\u001b[0m in \u001b[0;36mpandas._libs.hashtable.Int64HashTable.get_item\u001b[1;34m()\u001b[0m\n",
      "\u001b[1;31mKeyError\u001b[0m: 27245",
      "\nDuring handling of the above exception, another exception occurred:\n",
      "\u001b[1;31mKeyError\u001b[0m                                  Traceback (most recent call last)",
      "\u001b[1;32mC:\\ProgramData\\Anaconda3\\lib\\site-packages\\pandas\\core\\indexes\\multi.py\u001b[0m in \u001b[0;36mget_loc_level\u001b[1;34m(self, key, level, drop_level)\u001b[0m\n\u001b[0;32m   2813\u001b[0m                     \u001b[1;32mtry\u001b[0m\u001b[1;33m:\u001b[0m\u001b[1;33m\u001b[0m\u001b[1;33m\u001b[0m\u001b[0m\n\u001b[1;32m-> 2814\u001b[1;33m                         \u001b[1;32mreturn\u001b[0m \u001b[1;33m(\u001b[0m\u001b[0mself\u001b[0m\u001b[1;33m.\u001b[0m\u001b[0m_engine\u001b[0m\u001b[1;33m.\u001b[0m\u001b[0mget_loc\u001b[0m\u001b[1;33m(\u001b[0m\u001b[0mkey\u001b[0m\u001b[1;33m)\u001b[0m\u001b[1;33m,\u001b[0m \u001b[1;32mNone\u001b[0m\u001b[1;33m)\u001b[0m\u001b[1;33m\u001b[0m\u001b[1;33m\u001b[0m\u001b[0m\n\u001b[0m\u001b[0;32m   2815\u001b[0m                     \u001b[1;32mexcept\u001b[0m \u001b[0mKeyError\u001b[0m \u001b[1;32mas\u001b[0m \u001b[0me\u001b[0m\u001b[1;33m:\u001b[0m\u001b[1;33m\u001b[0m\u001b[1;33m\u001b[0m\u001b[0m\n",
      "\u001b[1;32mpandas\\_libs\\index.pyx\u001b[0m in \u001b[0;36mpandas._libs.index.BaseMultiIndexCodesEngine.get_loc\u001b[1;34m()\u001b[0m\n",
      "\u001b[1;31mKeyError\u001b[0m: (2018, 27245)",
      "\nThe above exception was the direct cause of the following exception:\n",
      "\u001b[1;31mKeyError\u001b[0m                                  Traceback (most recent call last)",
      "\u001b[1;32m<ipython-input-16-121b25a01ff9>\u001b[0m in \u001b[0;36m<module>\u001b[1;34m\u001b[0m\n\u001b[0;32m     14\u001b[0m     \u001b[0mprint\u001b[0m\u001b[1;33m(\u001b[0m\u001b[0mcols\u001b[0m\u001b[1;33m.\u001b[0m\u001b[0mindex\u001b[0m\u001b[1;33m(\u001b[0m\u001b[0mc\u001b[0m\u001b[1;33m)\u001b[0m\u001b[1;33m)\u001b[0m\u001b[1;33m\u001b[0m\u001b[1;33m\u001b[0m\u001b[0m\n\u001b[0;32m     15\u001b[0m     scb_trab.loc[(scb_trab.COMERCIAL == 'COMERCIAL')&(scb_trab.ANO_CINEMATOGRAFICO != 2019),c\n\u001b[1;32m---> 16\u001b[1;33m                 ] = local.apply(inspection_apply, args=(cota,c,param) ,axis=1)\n\u001b[0m\u001b[0;32m     17\u001b[0m     scb_trab.loc[(scb_trab.COMERCIAL != 'COMERCIAL')|(scb_trab.ANO_CINEMATOGRAFICO == 2019),c\n\u001b[0;32m     18\u001b[0m                 ] = 0\n",
      "\u001b[1;32mC:\\ProgramData\\Anaconda3\\lib\\site-packages\\pandas\\core\\frame.py\u001b[0m in \u001b[0;36mapply\u001b[1;34m(self, func, axis, raw, result_type, args, **kwds)\u001b[0m\n\u001b[0;32m   6876\u001b[0m             \u001b[0mkwds\u001b[0m\u001b[1;33m=\u001b[0m\u001b[0mkwds\u001b[0m\u001b[1;33m,\u001b[0m\u001b[1;33m\u001b[0m\u001b[1;33m\u001b[0m\u001b[0m\n\u001b[0;32m   6877\u001b[0m         )\n\u001b[1;32m-> 6878\u001b[1;33m         \u001b[1;32mreturn\u001b[0m \u001b[0mop\u001b[0m\u001b[1;33m.\u001b[0m\u001b[0mget_result\u001b[0m\u001b[1;33m(\u001b[0m\u001b[1;33m)\u001b[0m\u001b[1;33m\u001b[0m\u001b[1;33m\u001b[0m\u001b[0m\n\u001b[0m\u001b[0;32m   6879\u001b[0m \u001b[1;33m\u001b[0m\u001b[0m\n\u001b[0;32m   6880\u001b[0m     \u001b[1;32mdef\u001b[0m \u001b[0mapplymap\u001b[0m\u001b[1;33m(\u001b[0m\u001b[0mself\u001b[0m\u001b[1;33m,\u001b[0m \u001b[0mfunc\u001b[0m\u001b[1;33m)\u001b[0m \u001b[1;33m->\u001b[0m \u001b[1;34m\"DataFrame\"\u001b[0m\u001b[1;33m:\u001b[0m\u001b[1;33m\u001b[0m\u001b[1;33m\u001b[0m\u001b[0m\n",
      "\u001b[1;32mC:\\ProgramData\\Anaconda3\\lib\\site-packages\\pandas\\core\\apply.py\u001b[0m in \u001b[0;36mget_result\u001b[1;34m(self)\u001b[0m\n\u001b[0;32m    184\u001b[0m             \u001b[1;32mreturn\u001b[0m \u001b[0mself\u001b[0m\u001b[1;33m.\u001b[0m\u001b[0mapply_raw\u001b[0m\u001b[1;33m(\u001b[0m\u001b[1;33m)\u001b[0m\u001b[1;33m\u001b[0m\u001b[1;33m\u001b[0m\u001b[0m\n\u001b[0;32m    185\u001b[0m \u001b[1;33m\u001b[0m\u001b[0m\n\u001b[1;32m--> 186\u001b[1;33m         \u001b[1;32mreturn\u001b[0m \u001b[0mself\u001b[0m\u001b[1;33m.\u001b[0m\u001b[0mapply_standard\u001b[0m\u001b[1;33m(\u001b[0m\u001b[1;33m)\u001b[0m\u001b[1;33m\u001b[0m\u001b[1;33m\u001b[0m\u001b[0m\n\u001b[0m\u001b[0;32m    187\u001b[0m \u001b[1;33m\u001b[0m\u001b[0m\n\u001b[0;32m    188\u001b[0m     \u001b[1;32mdef\u001b[0m \u001b[0mapply_empty_result\u001b[0m\u001b[1;33m(\u001b[0m\u001b[0mself\u001b[0m\u001b[1;33m)\u001b[0m\u001b[1;33m:\u001b[0m\u001b[1;33m\u001b[0m\u001b[1;33m\u001b[0m\u001b[0m\n",
      "\u001b[1;32mC:\\ProgramData\\Anaconda3\\lib\\site-packages\\pandas\\core\\apply.py\u001b[0m in \u001b[0;36mapply_standard\u001b[1;34m(self)\u001b[0m\n\u001b[0;32m    293\u001b[0m \u001b[1;33m\u001b[0m\u001b[0m\n\u001b[0;32m    294\u001b[0m             \u001b[1;32mtry\u001b[0m\u001b[1;33m:\u001b[0m\u001b[1;33m\u001b[0m\u001b[1;33m\u001b[0m\u001b[0m\n\u001b[1;32m--> 295\u001b[1;33m                 result = libreduction.compute_reduction(\n\u001b[0m\u001b[0;32m    296\u001b[0m                     \u001b[0mvalues\u001b[0m\u001b[1;33m,\u001b[0m \u001b[0mself\u001b[0m\u001b[1;33m.\u001b[0m\u001b[0mf\u001b[0m\u001b[1;33m,\u001b[0m \u001b[0maxis\u001b[0m\u001b[1;33m=\u001b[0m\u001b[0mself\u001b[0m\u001b[1;33m.\u001b[0m\u001b[0maxis\u001b[0m\u001b[1;33m,\u001b[0m \u001b[0mdummy\u001b[0m\u001b[1;33m=\u001b[0m\u001b[0mdummy\u001b[0m\u001b[1;33m,\u001b[0m \u001b[0mlabels\u001b[0m\u001b[1;33m=\u001b[0m\u001b[0mlabels\u001b[0m\u001b[1;33m\u001b[0m\u001b[1;33m\u001b[0m\u001b[0m\n\u001b[0;32m    297\u001b[0m                 )\n",
      "\u001b[1;32mpandas\\_libs\\reduction.pyx\u001b[0m in \u001b[0;36mpandas._libs.reduction.compute_reduction\u001b[1;34m()\u001b[0m\n",
      "\u001b[1;32mpandas\\_libs\\reduction.pyx\u001b[0m in \u001b[0;36mpandas._libs.reduction.Reducer.get_result\u001b[1;34m()\u001b[0m\n",
      "\u001b[1;32mC:\\ProgramData\\Anaconda3\\lib\\site-packages\\pandas\\core\\apply.py\u001b[0m in \u001b[0;36mf\u001b[1;34m(x)\u001b[0m\n\u001b[0;32m    111\u001b[0m \u001b[1;33m\u001b[0m\u001b[0m\n\u001b[0;32m    112\u001b[0m             \u001b[1;32mdef\u001b[0m \u001b[0mf\u001b[0m\u001b[1;33m(\u001b[0m\u001b[0mx\u001b[0m\u001b[1;33m)\u001b[0m\u001b[1;33m:\u001b[0m\u001b[1;33m\u001b[0m\u001b[1;33m\u001b[0m\u001b[0m\n\u001b[1;32m--> 113\u001b[1;33m                 \u001b[1;32mreturn\u001b[0m \u001b[0mfunc\u001b[0m\u001b[1;33m(\u001b[0m\u001b[0mx\u001b[0m\u001b[1;33m,\u001b[0m \u001b[1;33m*\u001b[0m\u001b[0margs\u001b[0m\u001b[1;33m,\u001b[0m \u001b[1;33m**\u001b[0m\u001b[0mkwds\u001b[0m\u001b[1;33m)\u001b[0m\u001b[1;33m\u001b[0m\u001b[1;33m\u001b[0m\u001b[0m\n\u001b[0m\u001b[0;32m    114\u001b[0m \u001b[1;33m\u001b[0m\u001b[0m\n\u001b[0;32m    115\u001b[0m         \u001b[1;32melse\u001b[0m\u001b[1;33m:\u001b[0m\u001b[1;33m\u001b[0m\u001b[1;33m\u001b[0m\u001b[0m\n",
      "\u001b[1;32m<ipython-input-16-121b25a01ff9>\u001b[0m in \u001b[0;36minspection_apply\u001b[1;34m(row, ds, col, typ)\u001b[0m\n\u001b[0;32m      4\u001b[0m \u001b[1;33m\u001b[0m\u001b[0m\n\u001b[0;32m      5\u001b[0m \u001b[1;32mdef\u001b[0m \u001b[0minspection_apply\u001b[0m\u001b[1;33m(\u001b[0m\u001b[0mrow\u001b[0m\u001b[1;33m,\u001b[0m\u001b[0mds\u001b[0m\u001b[1;33m,\u001b[0m\u001b[0mcol\u001b[0m\u001b[1;33m,\u001b[0m\u001b[0mtyp\u001b[0m\u001b[1;33m)\u001b[0m\u001b[1;33m:\u001b[0m\u001b[1;33m\u001b[0m\u001b[1;33m\u001b[0m\u001b[0m\n\u001b[1;32m----> 6\u001b[1;33m     \u001b[1;32mreturn\u001b[0m \u001b[0mds\u001b[0m\u001b[1;33m.\u001b[0m\u001b[0mloc\u001b[0m\u001b[1;33m[\u001b[0m\u001b[1;33m(\u001b[0m\u001b[0mrow\u001b[0m\u001b[1;33m[\u001b[0m\u001b[1;34m'ANO_CINEMATOGRAFICO'\u001b[0m\u001b[1;33m]\u001b[0m\u001b[1;33m,\u001b[0m\u001b[0mrow\u001b[0m\u001b[1;33m[\u001b[0m\u001b[0mtyp\u001b[0m\u001b[1;33m]\u001b[0m\u001b[1;33m)\u001b[0m\u001b[1;33m,\u001b[0m\u001b[0mc\u001b[0m\u001b[1;33m]\u001b[0m\u001b[1;33m\u001b[0m\u001b[1;33m\u001b[0m\u001b[0m\n\u001b[0m\u001b[0;32m      7\u001b[0m \u001b[1;33m\u001b[0m\u001b[0m\n\u001b[0;32m      8\u001b[0m cols = ['OBRIGAÇÃO_TOTAL_POR_SALA','OBRIGAÇÃO_FINAL_POR_SALA',\n",
      "\u001b[1;32mC:\\ProgramData\\Anaconda3\\lib\\site-packages\\pandas\\core\\indexing.py\u001b[0m in \u001b[0;36m__getitem__\u001b[1;34m(self, key)\u001b[0m\n\u001b[0;32m   1760\u001b[0m                 \u001b[1;32mexcept\u001b[0m \u001b[1;33m(\u001b[0m\u001b[0mKeyError\u001b[0m\u001b[1;33m,\u001b[0m \u001b[0mIndexError\u001b[0m\u001b[1;33m,\u001b[0m \u001b[0mAttributeError\u001b[0m\u001b[1;33m)\u001b[0m\u001b[1;33m:\u001b[0m\u001b[1;33m\u001b[0m\u001b[1;33m\u001b[0m\u001b[0m\n\u001b[0;32m   1761\u001b[0m                     \u001b[1;32mpass\u001b[0m\u001b[1;33m\u001b[0m\u001b[1;33m\u001b[0m\u001b[0m\n\u001b[1;32m-> 1762\u001b[1;33m             \u001b[1;32mreturn\u001b[0m \u001b[0mself\u001b[0m\u001b[1;33m.\u001b[0m\u001b[0m_getitem_tuple\u001b[0m\u001b[1;33m(\u001b[0m\u001b[0mkey\u001b[0m\u001b[1;33m)\u001b[0m\u001b[1;33m\u001b[0m\u001b[1;33m\u001b[0m\u001b[0m\n\u001b[0m\u001b[0;32m   1763\u001b[0m         \u001b[1;32melse\u001b[0m\u001b[1;33m:\u001b[0m\u001b[1;33m\u001b[0m\u001b[1;33m\u001b[0m\u001b[0m\n\u001b[0;32m   1764\u001b[0m             \u001b[1;31m# we by definition only have the 0th axis\u001b[0m\u001b[1;33m\u001b[0m\u001b[1;33m\u001b[0m\u001b[1;33m\u001b[0m\u001b[0m\n",
      "\u001b[1;32mC:\\ProgramData\\Anaconda3\\lib\\site-packages\\pandas\\core\\indexing.py\u001b[0m in \u001b[0;36m_getitem_tuple\u001b[1;34m(self, tup)\u001b[0m\n\u001b[0;32m   1270\u001b[0m     \u001b[1;32mdef\u001b[0m \u001b[0m_getitem_tuple\u001b[0m\u001b[1;33m(\u001b[0m\u001b[0mself\u001b[0m\u001b[1;33m,\u001b[0m \u001b[0mtup\u001b[0m\u001b[1;33m:\u001b[0m \u001b[0mTuple\u001b[0m\u001b[1;33m)\u001b[0m\u001b[1;33m:\u001b[0m\u001b[1;33m\u001b[0m\u001b[1;33m\u001b[0m\u001b[0m\n\u001b[0;32m   1271\u001b[0m         \u001b[1;32mtry\u001b[0m\u001b[1;33m:\u001b[0m\u001b[1;33m\u001b[0m\u001b[1;33m\u001b[0m\u001b[0m\n\u001b[1;32m-> 1272\u001b[1;33m             \u001b[1;32mreturn\u001b[0m \u001b[0mself\u001b[0m\u001b[1;33m.\u001b[0m\u001b[0m_getitem_lowerdim\u001b[0m\u001b[1;33m(\u001b[0m\u001b[0mtup\u001b[0m\u001b[1;33m)\u001b[0m\u001b[1;33m\u001b[0m\u001b[1;33m\u001b[0m\u001b[0m\n\u001b[0m\u001b[0;32m   1273\u001b[0m         \u001b[1;32mexcept\u001b[0m \u001b[0mIndexingError\u001b[0m\u001b[1;33m:\u001b[0m\u001b[1;33m\u001b[0m\u001b[1;33m\u001b[0m\u001b[0m\n\u001b[0;32m   1274\u001b[0m             \u001b[1;32mpass\u001b[0m\u001b[1;33m\u001b[0m\u001b[1;33m\u001b[0m\u001b[0m\n",
      "\u001b[1;32mC:\\ProgramData\\Anaconda3\\lib\\site-packages\\pandas\\core\\indexing.py\u001b[0m in \u001b[0;36m_getitem_lowerdim\u001b[1;34m(self, tup)\u001b[0m\n\u001b[0;32m   1371\u001b[0m         \u001b[1;31m# we may have a nested tuples indexer here\u001b[0m\u001b[1;33m\u001b[0m\u001b[1;33m\u001b[0m\u001b[1;33m\u001b[0m\u001b[0m\n\u001b[0;32m   1372\u001b[0m         \u001b[1;32mif\u001b[0m \u001b[0mself\u001b[0m\u001b[1;33m.\u001b[0m\u001b[0m_is_nested_tuple_indexer\u001b[0m\u001b[1;33m(\u001b[0m\u001b[0mtup\u001b[0m\u001b[1;33m)\u001b[0m\u001b[1;33m:\u001b[0m\u001b[1;33m\u001b[0m\u001b[1;33m\u001b[0m\u001b[0m\n\u001b[1;32m-> 1373\u001b[1;33m             \u001b[1;32mreturn\u001b[0m \u001b[0mself\u001b[0m\u001b[1;33m.\u001b[0m\u001b[0m_getitem_nested_tuple\u001b[0m\u001b[1;33m(\u001b[0m\u001b[0mtup\u001b[0m\u001b[1;33m)\u001b[0m\u001b[1;33m\u001b[0m\u001b[1;33m\u001b[0m\u001b[0m\n\u001b[0m\u001b[0;32m   1374\u001b[0m \u001b[1;33m\u001b[0m\u001b[0m\n\u001b[0;32m   1375\u001b[0m         \u001b[1;31m# we maybe be using a tuple to represent multiple dimensions here\u001b[0m\u001b[1;33m\u001b[0m\u001b[1;33m\u001b[0m\u001b[1;33m\u001b[0m\u001b[0m\n",
      "\u001b[1;32mC:\\ProgramData\\Anaconda3\\lib\\site-packages\\pandas\\core\\indexing.py\u001b[0m in \u001b[0;36m_getitem_nested_tuple\u001b[1;34m(self, tup)\u001b[0m\n\u001b[0;32m   1451\u001b[0m \u001b[1;33m\u001b[0m\u001b[0m\n\u001b[0;32m   1452\u001b[0m             \u001b[0mcurrent_ndim\u001b[0m \u001b[1;33m=\u001b[0m \u001b[0mobj\u001b[0m\u001b[1;33m.\u001b[0m\u001b[0mndim\u001b[0m\u001b[1;33m\u001b[0m\u001b[1;33m\u001b[0m\u001b[0m\n\u001b[1;32m-> 1453\u001b[1;33m             \u001b[0mobj\u001b[0m \u001b[1;33m=\u001b[0m \u001b[0mgetattr\u001b[0m\u001b[1;33m(\u001b[0m\u001b[0mobj\u001b[0m\u001b[1;33m,\u001b[0m \u001b[0mself\u001b[0m\u001b[1;33m.\u001b[0m\u001b[0mname\u001b[0m\u001b[1;33m)\u001b[0m\u001b[1;33m.\u001b[0m\u001b[0m_getitem_axis\u001b[0m\u001b[1;33m(\u001b[0m\u001b[0mkey\u001b[0m\u001b[1;33m,\u001b[0m \u001b[0maxis\u001b[0m\u001b[1;33m=\u001b[0m\u001b[0maxis\u001b[0m\u001b[1;33m)\u001b[0m\u001b[1;33m\u001b[0m\u001b[1;33m\u001b[0m\u001b[0m\n\u001b[0m\u001b[0;32m   1454\u001b[0m             \u001b[0maxis\u001b[0m \u001b[1;33m+=\u001b[0m \u001b[1;36m1\u001b[0m\u001b[1;33m\u001b[0m\u001b[1;33m\u001b[0m\u001b[0m\n\u001b[0;32m   1455\u001b[0m \u001b[1;33m\u001b[0m\u001b[0m\n",
      "\u001b[1;32mC:\\ProgramData\\Anaconda3\\lib\\site-packages\\pandas\\core\\indexing.py\u001b[0m in \u001b[0;36m_getitem_axis\u001b[1;34m(self, key, axis)\u001b[0m\n\u001b[0;32m   1963\u001b[0m         \u001b[1;31m# fall thru to straight lookup\u001b[0m\u001b[1;33m\u001b[0m\u001b[1;33m\u001b[0m\u001b[1;33m\u001b[0m\u001b[0m\n\u001b[0;32m   1964\u001b[0m         \u001b[0mself\u001b[0m\u001b[1;33m.\u001b[0m\u001b[0m_validate_key\u001b[0m\u001b[1;33m(\u001b[0m\u001b[0mkey\u001b[0m\u001b[1;33m,\u001b[0m \u001b[0maxis\u001b[0m\u001b[1;33m)\u001b[0m\u001b[1;33m\u001b[0m\u001b[1;33m\u001b[0m\u001b[0m\n\u001b[1;32m-> 1965\u001b[1;33m         \u001b[1;32mreturn\u001b[0m \u001b[0mself\u001b[0m\u001b[1;33m.\u001b[0m\u001b[0m_get_label\u001b[0m\u001b[1;33m(\u001b[0m\u001b[0mkey\u001b[0m\u001b[1;33m,\u001b[0m \u001b[0maxis\u001b[0m\u001b[1;33m=\u001b[0m\u001b[0maxis\u001b[0m\u001b[1;33m)\u001b[0m\u001b[1;33m\u001b[0m\u001b[1;33m\u001b[0m\u001b[0m\n\u001b[0m\u001b[0;32m   1966\u001b[0m \u001b[1;33m\u001b[0m\u001b[0m\n\u001b[0;32m   1967\u001b[0m \u001b[1;33m\u001b[0m\u001b[0m\n",
      "\u001b[1;32mC:\\ProgramData\\Anaconda3\\lib\\site-packages\\pandas\\core\\indexing.py\u001b[0m in \u001b[0;36m_get_label\u001b[1;34m(self, label, axis)\u001b[0m\n\u001b[0;32m    623\u001b[0m             \u001b[1;32mraise\u001b[0m \u001b[0mIndexingError\u001b[0m\u001b[1;33m(\u001b[0m\u001b[1;34m\"no slices here, handle elsewhere\"\u001b[0m\u001b[1;33m)\u001b[0m\u001b[1;33m\u001b[0m\u001b[1;33m\u001b[0m\u001b[0m\n\u001b[0;32m    624\u001b[0m \u001b[1;33m\u001b[0m\u001b[0m\n\u001b[1;32m--> 625\u001b[1;33m         \u001b[1;32mreturn\u001b[0m \u001b[0mself\u001b[0m\u001b[1;33m.\u001b[0m\u001b[0mobj\u001b[0m\u001b[1;33m.\u001b[0m\u001b[0m_xs\u001b[0m\u001b[1;33m(\u001b[0m\u001b[0mlabel\u001b[0m\u001b[1;33m,\u001b[0m \u001b[0maxis\u001b[0m\u001b[1;33m=\u001b[0m\u001b[0maxis\u001b[0m\u001b[1;33m)\u001b[0m\u001b[1;33m\u001b[0m\u001b[1;33m\u001b[0m\u001b[0m\n\u001b[0m\u001b[0;32m    626\u001b[0m \u001b[1;33m\u001b[0m\u001b[0m\n\u001b[0;32m    627\u001b[0m     \u001b[1;32mdef\u001b[0m \u001b[0m_get_loc\u001b[0m\u001b[1;33m(\u001b[0m\u001b[0mself\u001b[0m\u001b[1;33m,\u001b[0m \u001b[0mkey\u001b[0m\u001b[1;33m:\u001b[0m \u001b[0mint\u001b[0m\u001b[1;33m,\u001b[0m \u001b[0maxis\u001b[0m\u001b[1;33m:\u001b[0m \u001b[0mint\u001b[0m\u001b[1;33m)\u001b[0m\u001b[1;33m:\u001b[0m\u001b[1;33m\u001b[0m\u001b[1;33m\u001b[0m\u001b[0m\n",
      "\u001b[1;32mC:\\ProgramData\\Anaconda3\\lib\\site-packages\\pandas\\core\\generic.py\u001b[0m in \u001b[0;36mxs\u001b[1;34m(self, key, axis, level, drop_level)\u001b[0m\n\u001b[0;32m   3533\u001b[0m         \u001b[0mindex\u001b[0m \u001b[1;33m=\u001b[0m \u001b[0mself\u001b[0m\u001b[1;33m.\u001b[0m\u001b[0mindex\u001b[0m\u001b[1;33m\u001b[0m\u001b[1;33m\u001b[0m\u001b[0m\n\u001b[0;32m   3534\u001b[0m         \u001b[1;32mif\u001b[0m \u001b[0misinstance\u001b[0m\u001b[1;33m(\u001b[0m\u001b[0mindex\u001b[0m\u001b[1;33m,\u001b[0m \u001b[0mMultiIndex\u001b[0m\u001b[1;33m)\u001b[0m\u001b[1;33m:\u001b[0m\u001b[1;33m\u001b[0m\u001b[1;33m\u001b[0m\u001b[0m\n\u001b[1;32m-> 3535\u001b[1;33m             \u001b[0mloc\u001b[0m\u001b[1;33m,\u001b[0m \u001b[0mnew_index\u001b[0m \u001b[1;33m=\u001b[0m \u001b[0mself\u001b[0m\u001b[1;33m.\u001b[0m\u001b[0mindex\u001b[0m\u001b[1;33m.\u001b[0m\u001b[0mget_loc_level\u001b[0m\u001b[1;33m(\u001b[0m\u001b[0mkey\u001b[0m\u001b[1;33m,\u001b[0m \u001b[0mdrop_level\u001b[0m\u001b[1;33m=\u001b[0m\u001b[0mdrop_level\u001b[0m\u001b[1;33m)\u001b[0m\u001b[1;33m\u001b[0m\u001b[1;33m\u001b[0m\u001b[0m\n\u001b[0m\u001b[0;32m   3536\u001b[0m         \u001b[1;32melse\u001b[0m\u001b[1;33m:\u001b[0m\u001b[1;33m\u001b[0m\u001b[1;33m\u001b[0m\u001b[0m\n\u001b[0;32m   3537\u001b[0m             \u001b[0mloc\u001b[0m \u001b[1;33m=\u001b[0m \u001b[0mself\u001b[0m\u001b[1;33m.\u001b[0m\u001b[0mindex\u001b[0m\u001b[1;33m.\u001b[0m\u001b[0mget_loc\u001b[0m\u001b[1;33m(\u001b[0m\u001b[0mkey\u001b[0m\u001b[1;33m)\u001b[0m\u001b[1;33m\u001b[0m\u001b[1;33m\u001b[0m\u001b[0m\n",
      "\u001b[1;32mC:\\ProgramData\\Anaconda3\\lib\\site-packages\\pandas\\core\\indexes\\multi.py\u001b[0m in \u001b[0;36mget_loc_level\u001b[1;34m(self, key, level, drop_level)\u001b[0m\n\u001b[0;32m   2814\u001b[0m                         \u001b[1;32mreturn\u001b[0m \u001b[1;33m(\u001b[0m\u001b[0mself\u001b[0m\u001b[1;33m.\u001b[0m\u001b[0m_engine\u001b[0m\u001b[1;33m.\u001b[0m\u001b[0mget_loc\u001b[0m\u001b[1;33m(\u001b[0m\u001b[0mkey\u001b[0m\u001b[1;33m)\u001b[0m\u001b[1;33m,\u001b[0m \u001b[1;32mNone\u001b[0m\u001b[1;33m)\u001b[0m\u001b[1;33m\u001b[0m\u001b[1;33m\u001b[0m\u001b[0m\n\u001b[0;32m   2815\u001b[0m                     \u001b[1;32mexcept\u001b[0m \u001b[0mKeyError\u001b[0m \u001b[1;32mas\u001b[0m \u001b[0me\u001b[0m\u001b[1;33m:\u001b[0m\u001b[1;33m\u001b[0m\u001b[1;33m\u001b[0m\u001b[0m\n\u001b[1;32m-> 2816\u001b[1;33m                         \u001b[1;32mraise\u001b[0m \u001b[0mKeyError\u001b[0m\u001b[1;33m(\u001b[0m\u001b[0mkey\u001b[0m\u001b[1;33m)\u001b[0m \u001b[1;32mfrom\u001b[0m \u001b[0me\u001b[0m\u001b[1;33m\u001b[0m\u001b[1;33m\u001b[0m\u001b[0m\n\u001b[0m\u001b[0;32m   2817\u001b[0m                 \u001b[1;32melse\u001b[0m\u001b[1;33m:\u001b[0m\u001b[1;33m\u001b[0m\u001b[1;33m\u001b[0m\u001b[0m\n\u001b[0;32m   2818\u001b[0m                     \u001b[1;32mreturn\u001b[0m \u001b[0mpartial_selection\u001b[0m\u001b[1;33m(\u001b[0m\u001b[0mkey\u001b[0m\u001b[1;33m)\u001b[0m\u001b[1;33m\u001b[0m\u001b[1;33m\u001b[0m\u001b[0m\n",
      "\u001b[1;31mKeyError\u001b[0m: (2018, 27245)"
     ]
    }
   ],
   "source": [
    "# mapping to multiplex\n",
    "\n",
    "param = 'REGISTRO_COMPLEXO'\n",
    "\n",
    "def inspection_apply(row,ds,col,typ):\n",
    "    return ds.loc[(row['ANO_CINEMATOGRAFICO'],row[typ]),c]\n",
    "\n",
    "cols = ['OBRIGAÇÃO_TOTAL_POR_SALA','OBRIGAÇÃO_FINAL_POR_SALA',\n",
    "        'CUMPRIMENTO_PROPORCIONAL','CUMPRIMENTO_PROP_TRUNCADO','CUMPRIMENTO_TRIWEIGHT']\n",
    "\n",
    "local = scb_trab.query(\"COMERCIAL == 'COMERCIAL' & ANO_CINEMATOGRAFICO != 2019\")[['ANO_CINEMATOGRAFICO',param]]\n",
    "\n",
    "for c in cols:\n",
    "    print(cols.index(c))\n",
    "    scb_trab.loc[(scb_trab.COMERCIAL == 'COMERCIAL')&(scb_trab.ANO_CINEMATOGRAFICO != 2019),c\n",
    "                ] = local.apply(inspection_apply, args=(cota,c,param) ,axis=1)\n",
    "    scb_trab.loc[(scb_trab.COMERCIAL != 'COMERCIAL')|(scb_trab.ANO_CINEMATOGRAFICO == 2019),c\n",
    "                ] = 0"
   ]
  },
  {
   "cell_type": "markdown",
   "metadata": {},
   "source": [
    "##### Chain-level"
   ]
  },
  {
   "cell_type": "code",
   "execution_count": 17,
   "metadata": {
    "ExecuteTime": {
     "end_time": "2021-06-25T02:31:17.301776Z",
     "start_time": "2021-06-25T02:31:17.199829Z"
    }
   },
   "outputs": [],
   "source": [
    "# import quotas to merge with index by group registry\n",
    "cota_grupo = pd.read_csv('Cota_grupo_fiscalizacao_2017_2019.csv',\n",
    "                        index_col=('ANO_CINEMATOGRAFICO','REGISTRO DO GRUPO'))"
   ]
  },
  {
   "cell_type": "code",
   "execution_count": 19,
   "metadata": {
    "ExecuteTime": {
     "end_time": "2021-06-25T05:53:06.741099Z",
     "start_time": "2021-06-25T02:38:08.905760Z"
    }
   },
   "outputs": [
    {
     "name": "stdout",
     "output_type": "stream",
     "text": [
      "0\n",
      "1\n",
      "2\n",
      "3\n"
     ]
    }
   ],
   "source": [
    "param = 'REGISTRO_GRUPO'\n",
    "\n",
    "def inspection_apply(row,ds,col,typ): # def function to get info from inspection data\n",
    "    return ds.loc[(row['ANO_CINEMATOGRAFICO'],row[typ]),c]\n",
    "\n",
    "cols = ['OBRIGAÇÃO_TOTAL_POR_SALA','OBRIGAÇÃO_FINAL_POR_SALA',\n",
    "        'CUMPRIMENTO_PROPORCIONAL','CUMPRIMENTO_PROP_TRUNCADO','CUMPRIMENTO_TRIWEIGHT'] # choose cols to merge\n",
    "\n",
    "# for memory reasons, only get cols that will be used\n",
    "local = scb_trab.query(\"COMERCIAL == 'COMERCIAL' & ANO_CINEMATOGRAFICO != 2019\")[['ANO_CINEMATOGRAFICO',param]]\n",
    "\n",
    "for c in cols:\n",
    "    print(cols.index(c))\n",
    "    scb_trab.loc[(scb_trab.COMERCIAL == 'COMERCIAL')&(scb_trab.ANO_CINEMATOGRAFICO != 2019),f'{c}_GRUPO'\n",
    "                ] = local.apply(inspection_apply, args=(cota_grupo,c,param) ,axis=1)\n",
    "    scb_trab.loc[(scb_trab.COMERCIAL != 'COMERCIAL')|(scb_trab.ANO_CINEMATOGRAFICO == 2019),f'{c}_GRUPO'\n",
    "                ] = 0"
   ]
  },
  {
   "cell_type": "code",
   "execution_count": 22,
   "metadata": {
    "ExecuteTime": {
     "end_time": "2021-06-25T16:25:49.622950Z",
     "start_time": "2021-06-25T16:25:47.920443Z"
    }
   },
   "outputs": [],
   "source": [
    "scb_trab.loc[(scb_trab.COMERCIAL != 'COMERCIAL')|(scb_trab.ANO_CINEMATOGRAFICO == 2019),'OBRIGAÇÃO_TOTAL_POR_SALA_GRUPO'] = 0"
   ]
  },
  {
   "cell_type": "code",
   "execution_count": 23,
   "metadata": {
    "ExecuteTime": {
     "end_time": "2021-06-25T16:26:24.577569Z",
     "start_time": "2021-06-25T16:25:50.819073Z"
    }
   },
   "outputs": [
    {
     "data": {
      "text/plain": [
       "ANO_CINEMATOGRAFICO                   0\n",
       "SEMANA_CINEMATOGRAFICA                0\n",
       "PRIMEIRO_DIA_SEMANA                   0\n",
       "ULTIMO_DIA_SEMANA                     0\n",
       "DATA_SESSAO                           0\n",
       "DIA_SEMANA                            0\n",
       "QUALIFICADOR_DIA_SEMANA               0\n",
       "HORA_SESSAO                           0\n",
       "DATA_HORA_SESSAO                      0\n",
       "TIPO_SESSAO                           0\n",
       "REGISTRO_SALA                         0\n",
       "REGISTRO_COMPLEXO                     0\n",
       "CPB_ROE                               0\n",
       "TITULO                                1\n",
       "NACIONALIDADE                         0\n",
       "PUBLICO                               0\n",
       "RENDA                                 0\n",
       "QT_ASSENTOS_SALA                   2363\n",
       "CEP_COMPLEXO                          0\n",
       "MUN_COMPLEXO                          0\n",
       "UF_COMPLEXO                           0\n",
       "TOT_SALAS_FUNC                        0\n",
       "COMERCIAL                             0\n",
       "REG_EMPRESA                           0\n",
       "AGE                                   0\n",
       "GRUPO_EXIBIDOR                        0\n",
       "OCUPAÇÃO_SALAS                     2370\n",
       "ANO_MES                               0\n",
       "FATOR                                 0\n",
       "RENDA_ATUALIZADA_JAN20                0\n",
       "REGISTRO_GRUPO                        0\n",
       "ASSENTOS_INFERIDO                     0\n",
       "OCUPAÇÃO_SALA_INFERIDA                0\n",
       "SALAS_GRUPO_INFERIDO                  0\n",
       "SALAS_COMPLEXO_INFERIDO               0\n",
       "ASSENTOS_COMPLEXO_INFERIDO            0\n",
       "ASSENTOS_GRUPO_INFERIDO               0\n",
       "HORA_ajustada                         0\n",
       "DIAS_FUNCIONAMENTO                    0\n",
       "DATA                                  0\n",
       "DIAS_FUNCIONAMENTO_GRUPO              0\n",
       "OBRIGAÇÃO_TOTAL_POR_SALA_GRUPO        0\n",
       "OBRIGAÇÃO_FINAL_POR_SALA_GRUPO        0\n",
       "CUMPRIMENTO_PROPORCIONAL_GRUPO      890\n",
       "CUMPRIMENTO_PROP_TRUNCADO_GRUPO       0\n",
       "CUMPRIMENTO_TRIWEIGHT_GRUPO           0\n",
       "dtype: int64"
      ]
     },
     "execution_count": 23,
     "metadata": {},
     "output_type": "execute_result"
    }
   ],
   "source": [
    "scb_trab.isna().sum()"
   ]
  },
  {
   "cell_type": "markdown",
   "metadata": {},
   "source": [
    "#### Quick data cleansing and new export"
   ]
  },
  {
   "cell_type": "code",
   "execution_count": 24,
   "metadata": {
    "ExecuteTime": {
     "end_time": "2021-06-25T16:36:40.793197Z",
     "start_time": "2021-06-25T16:27:03.406889Z"
    }
   },
   "outputs": [],
   "source": [
    "# scb_trab.drop(['Unnamed: 0'], axis=1, inplace=True) # dropping former index\n",
    "\n",
    "scb_trab.to_csv('SCB_2017 a 2019 tratado 2.csv', index=False) # export"
   ]
  },
  {
   "cell_type": "code",
   "execution_count": 26,
   "metadata": {
    "ExecuteTime": {
     "end_time": "2021-06-17T23:09:06.380064Z",
     "start_time": "2021-06-17T23:09:06.341301Z"
    },
    "scrolled": false
   },
   "outputs": [
    {
     "data": {
      "text/plain": [
       "Index(['ANO_CINEMATOGRAFICO', 'SEMANA_CINEMATOGRAFICA', 'PRIMEIRO_DIA_SEMANA',\n",
       "       'ULTIMO_DIA_SEMANA', 'DATA_SESSAO', 'DIA_SEMANA',\n",
       "       'QUALIFICADOR_DIA_SEMANA', 'HORA_SESSAO', 'DATA_HORA_SESSAO',\n",
       "       'TIPO_SESSAO', 'REGISTRO_SALA', 'REGISTRO_COMPLEXO', 'CPB_ROE',\n",
       "       'TITULO', 'NACIONALIDADE', 'PUBLICO', 'RENDA', 'QT_ASSENTOS_SALA',\n",
       "       'CEP_COMPLEXO', 'MUN_COMPLEXO', 'UF_COMPLEXO', 'TOT_SALAS_FUNC',\n",
       "       'COMERCIAL', 'REG_EMPRESA', 'AGE', 'GRUPO_EXIBIDOR', 'OCUPAÇÃO_SALAS',\n",
       "       'ANO_MES', 'FATOR', 'RENDA_ATUALIZADA_JAN20', 'REGISTRO_GRUPO',\n",
       "       'ASSENTOS_INFERIDO', 'OCUPAÇÃO_SALA_INFERIDA', 'SALAS_GRUPO_INFERIDO',\n",
       "       'SALAS_COMPLEXO_INFERIDO', 'ASSENTOS_COMPLEXO_INFERIDO',\n",
       "       'ASSENTOS_GRUPO_INFERIDO', 'HORA_ajustada', 'DIAS_FUNCIONAMENTO',\n",
       "       'DATA', 'DIAS_FUNCIONAMENTO_GRUPO'],\n",
       "      dtype='object')"
      ]
     },
     "execution_count": 26,
     "metadata": {},
     "output_type": "execute_result"
    }
   ],
   "source": [
    "scb_trab.columns"
   ]
  },
  {
   "cell_type": "markdown",
   "metadata": {},
   "source": [
    "### Reduced-form regressions prep: grouping data by multiplex/year"
   ]
  },
  {
   "cell_type": "markdown",
   "metadata": {},
   "source": [
    "#### Reimport and datetime formatting"
   ]
  },
  {
   "cell_type": "code",
   "execution_count": 2,
   "metadata": {
    "ExecuteTime": {
     "end_time": "2021-07-19T23:46:11.549490Z",
     "start_time": "2021-07-19T23:43:23.833667Z"
    }
   },
   "outputs": [],
   "source": [
    "# reimport\n",
    "scb_trab = pd.read_csv('SCB_2017 a 2019 tratado 2.csv')"
   ]
  },
  {
   "cell_type": "code",
   "execution_count": 3,
   "metadata": {
    "ExecuteTime": {
     "end_time": "2021-07-19T23:46:11.703873Z",
     "start_time": "2021-07-19T23:46:11.592927Z"
    }
   },
   "outputs": [
    {
     "data": {
      "text/plain": [
       "Index(['ANO_CINEMATOGRAFICO', 'SEMANA_CINEMATOGRAFICA', 'PRIMEIRO_DIA_SEMANA',\n",
       "       'ULTIMO_DIA_SEMANA', 'DATA_SESSAO', 'DIA_SEMANA',\n",
       "       'QUALIFICADOR_DIA_SEMANA', 'HORA_SESSAO', 'DATA_HORA_SESSAO',\n",
       "       'TIPO_SESSAO', 'REGISTRO_SALA', 'REGISTRO_COMPLEXO', 'CPB_ROE',\n",
       "       'TITULO', 'NACIONALIDADE', 'PUBLICO', 'RENDA', 'QT_ASSENTOS_SALA',\n",
       "       'CEP_COMPLEXO', 'MUN_COMPLEXO', 'UF_COMPLEXO', 'TOT_SALAS_FUNC',\n",
       "       'COMERCIAL', 'REG_EMPRESA', 'AGE', 'GRUPO_EXIBIDOR', 'OCUPAÇÃO_SALAS',\n",
       "       'ANO_MES', 'FATOR', 'RENDA_ATUALIZADA_JAN20', 'REGISTRO_GRUPO',\n",
       "       'ASSENTOS_INFERIDO', 'OCUPAÇÃO_SALA_INFERIDA', 'SALAS_GRUPO_INFERIDO',\n",
       "       'SALAS_COMPLEXO_INFERIDO', 'ASSENTOS_COMPLEXO_INFERIDO',\n",
       "       'ASSENTOS_GRUPO_INFERIDO', 'HORA_ajustada', 'DIAS_FUNCIONAMENTO',\n",
       "       'DATA', 'DIAS_FUNCIONAMENTO_GRUPO', 'OBRIGAÇÃO_TOTAL_POR_SALA_GRUPO',\n",
       "       'OBRIGAÇÃO_FINAL_POR_SALA_GRUPO', 'CUMPRIMENTO_PROPORCIONAL_GRUPO',\n",
       "       'CUMPRIMENTO_PROP_TRUNCADO_GRUPO', 'CUMPRIMENTO_TRIWEIGHT_GRUPO'],\n",
       "      dtype='object')"
      ]
     },
     "execution_count": 3,
     "metadata": {},
     "output_type": "execute_result"
    }
   ],
   "source": [
    "scb_trab.columns"
   ]
  },
  {
   "cell_type": "markdown",
   "metadata": {},
   "source": [
    "#### Grouping by multiplex/year"
   ]
  },
  {
   "cell_type": "code",
   "execution_count": 4,
   "metadata": {
    "ExecuteTime": {
     "end_time": "2021-07-19T23:46:11.748564Z",
     "start_time": "2021-07-19T23:46:11.720851Z"
    }
   },
   "outputs": [],
   "source": [
    "# function to count number of BR titles in total title (only makes sense for agg of all sessions)\n",
    "def count_br(series):\n",
    "    return series[series.str.startswith('B')].nunique()\n",
    "\n",
    "# same but only for foreign titles\n",
    "def count_est(series):\n",
    "    return series[series.str.startswith('E')].nunique()"
   ]
  },
  {
   "cell_type": "code",
   "execution_count": 6,
   "metadata": {
    "ExecuteTime": {
     "end_time": "2021-09-30T18:09:32.504901Z",
     "start_time": "2021-09-30T18:04:22.743528Z"
    }
   },
   "outputs": [],
   "source": [
    "# groupby multiplex/year only for commercial movie theathers, and selecting all, foreign and brazilian movie sessions\n",
    "\n",
    "# dict choosing how to agg\n",
    "dict_comp = {'CPB_ROE':['nunique',count_br,count_est], 'PUBLICO':'sum', 'RENDA_ATUALIZADA_JAN20':'sum', \n",
    "             'DATA_HORA_SESSAO':'count', 'DIAS_FUNCIONAMENTO': 'first','CEP_COMPLEXO':'first', 'TOT_SALAS_FUNC':'first', \n",
    "             'REG_EMPRESA':'first','REGISTRO_GRUPO':'first','REGISTRO_SALA':'nunique','GRUPO_EXIBIDOR':'first',\n",
    "             'SALAS_COMPLEXO_INFERIDO':'first','ASSENTOS_COMPLEXO_INFERIDO':['first','sum'], 'MUN_COMPLEXO':'first', \n",
    "             'UF_COMPLEXO':'first', 'OCUPAÇÃO_SALA_INFERIDA':'mean'}\n",
    "\n",
    "# foreign movie sessions (i.e where the movie displayed was categorizes as foreign)\n",
    "scb_compano_est = scb_trab[(scb_trab.NACIONALIDADE == 'ESTRANGEIRA') & (scb_trab.COMERCIAL == 'COMERCIAL')].groupby(\n",
    "    ['ANO_CINEMATOGRAFICO', 'REGISTRO_COMPLEXO'], as_index=False).agg(dict_comp)\n",
    "\n",
    "# brazilian movie sessions\n",
    "scb_compano_bras = scb_trab[(scb_trab.NACIONALIDADE == 'BRASILEIRA') & (scb_trab.COMERCIAL == 'COMERCIAL')].groupby(\n",
    "    ['ANO_CINEMATOGRAFICO', 'REGISTRO_COMPLEXO'], as_index=False).agg(dict_comp)\n",
    "\n",
    "# all movie sessions\n",
    "scb_compano = scb_trab[scb_trab.COMERCIAL == 'COMERCIAL'].groupby(\n",
    "    ['ANO_CINEMATOGRAFICO', 'REGISTRO_COMPLEXO'], as_index=False).agg(dict_comp)"
   ]
  },
  {
   "cell_type": "markdown",
   "metadata": {},
   "source": [
    "#### Fixing col levels and names"
   ]
  },
  {
   "cell_type": "code",
   "execution_count": 7,
   "metadata": {
    "ExecuteTime": {
     "end_time": "2021-09-30T18:09:32.598648Z",
     "start_time": "2021-09-30T18:09:32.548016Z"
    }
   },
   "outputs": [],
   "source": [
    "data = [scb_compano, scb_compano_est, scb_compano_bras]\n",
    "\n",
    "# alts {'RENDA_ATUALIZADA_JAN20':'RENDA','CPB_ROE':'QTDE_TIT_DIF_EXIB'/'BR'/'EST', 'REGISTRO_SALAS':'QTD_SALAS_NUNIQUE',\n",
    "#             'DATA_HORA_SESSAO':'QTDE_SESSOES'}\n",
    "\n",
    "new_cols = ['ANO_CINEMATOGRAFICO', 'REGISTRO_COMPLEXO', 'QTDE_DIF_TIT_EXIB', 'QTDE_DIF_TIT_EXIB_BR',\n",
    "       'QTDE_DIF_TIT_EXIB_EST', 'PUBLICO', 'RENDA', 'QTDE_SESSOES',\n",
    "       'DIAS_FUNCIONAMENTO', 'CEP_COMPLEXO', 'TOT_SALAS_FUNC', 'REG_EMPRESA',\n",
    "       'REGISTRO_GRUPO', 'QTD_SALAS_NUNIQUE', 'GRUPO_EXIBIDOR',\n",
    "       'SALAS_COMPLEXO_INFERIDO', 'ASSENTOS_COMPLEXO_INFERIDO','CAPACIDADE_TOTAL_COMPLEXO', 'MUN_COMPLEXO',\n",
    "       'UF_COMPLEXO','OCUPAÇÃO_MÉDIA']\n",
    "\n",
    "for d in data:\n",
    "    d.columns = d.columns.droplevel(1) # dropping level for CPB_ROE that gets triplicated\n",
    "    d.columns = new_cols"
   ]
  },
  {
   "cell_type": "markdown",
   "metadata": {},
   "source": [
    "#### Merging with pre-treated inspection data"
   ]
  },
  {
   "cell_type": "code",
   "execution_count": 8,
   "metadata": {
    "ExecuteTime": {
     "end_time": "2021-09-30T18:17:00.617368Z",
     "start_time": "2021-09-30T18:17:00.550209Z"
    }
   },
   "outputs": [],
   "source": [
    "# importing pre-treated inspection data\n",
    "\n",
    "cota = pd.read_csv('Cota_fiscalizacao_2017_2019.csv', index_col=['REGISTRO DO COMPLEXO'])"
   ]
  },
  {
   "cell_type": "code",
   "execution_count": 9,
   "metadata": {
    "ExecuteTime": {
     "end_time": "2021-09-30T18:17:00.957323Z",
     "start_time": "2021-09-30T18:17:00.948327Z"
    }
   },
   "outputs": [],
   "source": [
    "cota.columns = ['ANO_CINEMATOGRAFICO', 'REGISTRO DO GRUPO', 'NOME DO GRUPO',\n",
    "       'REGISTRO DA EMPRESA', 'NOME DA EMPRESA', 'NOME DO COMPLEXO',\n",
    "       'TOTAL_SALAS', 'Nº DE DIAS OBRIGAÇÃO PROPORCIONAL',\n",
    "       'OBRIGAÇÃO_TOTAL_INCREMENTO', 'OBRIGAÇÃO_PROP_INCREMENTO',\n",
    "       'OBRIGAÇÃO_TOTAL', 'OBG_FINAL', 'Nº DE DIAS VALIDADOS',\n",
    "       'Nº DE TÍTULOS DIFERENTES OBRIGAÇÃO',\n",
    "       'Nº DE TÍTULOS DIFERENTES DECLARADOS', 'CUMPRIU_COTA', 'TRANSF_ORIGEM',\n",
    "       'TRANSF_RECEBIDOS', 'OBRIGAÇÃO_TOTAL_POR_SALA',\n",
    "       'OBRIGAÇÃO_TOTAL_INCREMENTO_POR_SALA', 'OBRIGAÇÃO_PROP_POR_SALA',\n",
    "       'OBRIGAÇÃO_PROP_INCREMENTO_POR_SALA', 'OBRIGAÇÃO_FINAL_POR_SALA',\n",
    "       'CUMPRIMENTO_PROPORCIONAL', 'DIAS_FUNC_INFERIDOS',\n",
    "       'CUMPRIMENTO_PROP_TRUNCADO', 'CUMPRIMENTO_LINEAR',\n",
    "       'CUMPRIMENTO_NORMALIZADO', 'CUMPRIMENTO_TRIWEIGHT', 'TRANSF_FLAG']"
   ]
  },
  {
   "cell_type": "code",
   "execution_count": 10,
   "metadata": {
    "ExecuteTime": {
     "end_time": "2021-09-30T18:17:03.061867Z",
     "start_time": "2021-09-30T18:17:01.839265Z"
    }
   },
   "outputs": [],
   "source": [
    "# mapping inspection data to panel\n",
    "\n",
    "data = [scb_compano, scb_compano_est, scb_compano_bras] # select data to map to\n",
    "\n",
    "merger = cota # select data to get map from\n",
    "\n",
    "# first set of mapping cols, i.e. cols that should have 0 in 2019 data -- recall that 2019 had no screen quotas in effect\n",
    "cols1 = ['OBRIGAÇÃO_TOTAL_POR_SALA', 'OBRIGAÇÃO_TOTAL_INCREMENTO_POR_SALA',\n",
    "       'OBRIGAÇÃO_PROP_POR_SALA', 'OBRIGAÇÃO_PROP_INCREMENTO_POR_SALA',\n",
    "       'OBRIGAÇÃO_FINAL_POR_SALA', 'TRANSF_ORIGEM', 'TRANSF_RECEBIDOS', 'TRANSF_FLAG']\n",
    "\n",
    "# second set, mapping quota fulfillment as 'YES' in 2019\n",
    "cols2 = ['CUMPRIU_COTA']\n",
    "\n",
    "# third, values that should be just NaN in 2019, i.e. data from\n",
    "cols3 = ['TOTAL_SALAS','DIAS_FUNC_INFERIDOS']\n",
    "\n",
    "# fourth, values that should be 1 in 2019, i.e. the proportional fulfillment\n",
    "cols4 = ['CUMPRIMENTO_PROP_TRUNCADO','CUMPRIMENTO_PROPORCIONAL','CUMPRIMENTO_LINEAR','CUMPRIMENTO_TRIWEIGHT']\n",
    "\n",
    "# fifth set, only for the normalized function weights, value the should be norm.pdf(1) in 2019\n",
    "cols5 = ['CUMPRIMENTO_NORMALIZADO']\n",
    "\n",
    "\n",
    "for c in cols1:\n",
    "    for d in data:\n",
    "        d.loc[d['ANO_CINEMATOGRAFICO'] == 2019, c] = 0\n",
    "        d.loc[d['ANO_CINEMATOGRAFICO'] == 2018, c] = d.loc[d['ANO_CINEMATOGRAFICO'] == 2018,'REGISTRO_COMPLEXO'].map(merger.loc[merger['ANO_CINEMATOGRAFICO'] == 2018, c], na_action='ignore')\n",
    "        d.loc[d['ANO_CINEMATOGRAFICO'] == 2017, c] = d.loc[d['ANO_CINEMATOGRAFICO'] == 2017,'REGISTRO_COMPLEXO'].map(merger.loc[merger['ANO_CINEMATOGRAFICO'] == 2017, c], na_action='ignore')\n",
    "\n",
    "for c in cols2:\n",
    "    for d in data:\n",
    "        d.loc[d['ANO_CINEMATOGRAFICO'] == 2019, c] = 'SIM'\n",
    "        d.loc[d['ANO_CINEMATOGRAFICO'] == 2018, c] = d.loc[d['ANO_CINEMATOGRAFICO'] == 2018,'REGISTRO_COMPLEXO'].map(merger.loc[merger['ANO_CINEMATOGRAFICO'] == 2018, c], na_action='ignore')\n",
    "        d.loc[d['ANO_CINEMATOGRAFICO'] == 2017, c] = d.loc[d['ANO_CINEMATOGRAFICO'] == 2017,'REGISTRO_COMPLEXO'].map(merger.loc[merger['ANO_CINEMATOGRAFICO'] == 2017, c], na_action='ignore')\n",
    "    \n",
    "for c in cols3:\n",
    "    for d in data:\n",
    "        d.loc[d['ANO_CINEMATOGRAFICO'] == 2019, c] = np.nan\n",
    "        d.loc[d['ANO_CINEMATOGRAFICO'] == 2018, c] = d.loc[d['ANO_CINEMATOGRAFICO'] == 2018,'REGISTRO_COMPLEXO'].map(merger.loc[merger['ANO_CINEMATOGRAFICO'] == 2018, c], na_action='ignore')\n",
    "        d.loc[d['ANO_CINEMATOGRAFICO'] == 2017, c] = d.loc[d['ANO_CINEMATOGRAFICO'] == 2017,'REGISTRO_COMPLEXO'].map(merger.loc[merger['ANO_CINEMATOGRAFICO'] == 2017, c], na_action='ignore')\n",
    "        \n",
    "for c in cols4:\n",
    "    for d in data:\n",
    "        d.loc[d['ANO_CINEMATOGRAFICO'] == 2019, c] = 1\n",
    "        d.loc[d['ANO_CINEMATOGRAFICO'] == 2018, c] = d.loc[d['ANO_CINEMATOGRAFICO'] == 2018,'REGISTRO_COMPLEXO'].map(merger.loc[merger['ANO_CINEMATOGRAFICO'] == 2018, c], na_action='ignore')\n",
    "        d.loc[d['ANO_CINEMATOGRAFICO'] == 2017, c] = d.loc[d['ANO_CINEMATOGRAFICO'] == 2017,'REGISTRO_COMPLEXO'].map(merger.loc[merger['ANO_CINEMATOGRAFICO'] == 2017, c], na_action='ignore')\n",
    "    \n",
    "from scipy.stats import norm # importing normal pdf\n",
    "\n",
    "for c in cols5:\n",
    "    for d in data:\n",
    "        d.loc[d['ANO_CINEMATOGRAFICO'] == 2019, c] = norm.pdf(1, loc=1) # applying max value to 2019 compliance levels\n",
    "        d.loc[d['ANO_CINEMATOGRAFICO'] == 2018, c] = d.loc[d['ANO_CINEMATOGRAFICO'] == 2018,'REGISTRO_COMPLEXO'].map(merger.loc[merger['ANO_CINEMATOGRAFICO'] == 2018, c], na_action='ignore')\n",
    "        d.loc[d['ANO_CINEMATOGRAFICO'] == 2017, c] = d.loc[d['ANO_CINEMATOGRAFICO'] == 2017,'REGISTRO_COMPLEXO'].map(merger.loc[merger['ANO_CINEMATOGRAFICO'] == 2017, c], na_action='ignore')"
   ]
  },
  {
   "cell_type": "markdown",
   "metadata": {},
   "source": [
    "#### Removing data points (missing from inspection, zero income, open for less than 90 days)"
   ]
  },
  {
   "cell_type": "code",
   "execution_count": 11,
   "metadata": {
    "ExecuteTime": {
     "end_time": "2021-09-30T18:17:03.188520Z",
     "start_time": "2021-09-30T18:17:03.150421Z"
    }
   },
   "outputs": [
    {
     "name": "stdout",
     "output_type": "stream",
     "text": [
      "File:\n",
      "Missing in inspection data: 3 out of 2433\n",
      "Zero revenues: 48 out of 2433\n",
      "Out of scope: 17 out of 2433\n",
      "Unavailable fulfillment: 4 out of 2433\n",
      "Total to be removed: 69 out of 2433\n",
      "File:\n",
      "Missing in inspection data: 3 out of 2422\n",
      "Zero revenues: 48 out of 2422\n",
      "Out of scope: 13 out of 2422\n",
      "Unavailable fulfillment: 4 out of 2422\n",
      "Total to be removed: 65 out of 2422\n",
      "File:\n",
      "Missing in inspection data: 2 out of 2394\n",
      "Zero revenues: 48 out of 2394\n",
      "Out of scope: 15 out of 2394\n",
      "Unavailable fulfillment: 2 out of 2394\n",
      "Total to be removed: 65 out of 2394\n",
      "Total to be removed from all files: 199 out of 7249\n"
     ]
    }
   ],
   "source": [
    "# counting how many data points are going to be removed\n",
    "\n",
    "tot_count = 0\n",
    "lines = 0\n",
    "\n",
    "data = [scb_compano, scb_compano_est, scb_compano_bras]\n",
    "\n",
    "for d in data:\n",
    "    print(f'File:')\n",
    "    tot = d.shape[0]\n",
    "    a = d[d.CUMPRIU_COTA.isna()]\n",
    "    b = d[d.RENDA == 0]\n",
    "    c = d[d.CUMPRIU_COTA == 'FORA DO ESCOPO DE AFERIÇÃO']\n",
    "    dd = d[d.CUMPRIMENTO_PROPORCIONAL.isna()]\n",
    "    e = d[\n",
    "        (d.CUMPRIU_COTA.isna())|(d.RENDA == 0)|(d.CUMPRIU_COTA == 'FORA DO ESCOPO DE AFERIÇÃO')|(d.CUMPRIMENTO_PROPORCIONAL.isna())]\n",
    "    tot_count += (e.shape[0])\n",
    "    lines += tot\n",
    "    print(f'Missing in inspection data: {a.shape[0]} out of {tot}')\n",
    "    print(f'Zero revenues: {b.shape[0]} out of {tot}')\n",
    "    print(f'Out of scope: {c.shape[0]} out of {tot}')\n",
    "    print(f'Unavailable fulfillment: {dd.shape[0]} out of {tot}')\n",
    "    print(f'Total to be removed: {e.shape[0]} out of {tot}')\n",
    "    \n",
    "print(f'Total to be removed from all files: {tot_count} out of {lines}')"
   ]
  },
  {
   "cell_type": "code",
   "execution_count": 12,
   "metadata": {
    "ExecuteTime": {
     "end_time": "2021-09-30T18:17:08.901230Z",
     "start_time": "2021-09-30T18:17:08.886165Z"
    }
   },
   "outputs": [],
   "source": [
    "# removing with 0 revenues throughout the year, unavailable 'proportional fulfillment',  missing in inspection data \n",
    "# and'out of scope', meaning multiplexes that have opened for less than 90 days\n",
    "\n",
    "scb_compano = scb_compano[(scb_compano.CUMPRIU_COTA.notna())&(scb_compano.RENDA != 0)&(scb_compano.CUMPRIU_COTA != 'FORA DO ESCOPO DE AFERIÇÃO')&(scb_compano.CUMPRIMENTO_PROPORCIONAL.notna())]\n",
    "scb_compano_est = scb_compano_est[(scb_compano_est.CUMPRIU_COTA.notna())&(scb_compano_est.RENDA != 0)&(scb_compano_est.CUMPRIU_COTA != 'FORA DO ESCOPO DE AFERIÇÃO')&(scb_compano_est.CUMPRIMENTO_PROPORCIONAL.notna())]\n",
    "scb_compano_bras = scb_compano_bras[(scb_compano_bras.CUMPRIU_COTA.notna())&(scb_compano_bras.RENDA != 0)&(scb_compano_bras.CUMPRIU_COTA != 'FORA DO ESCOPO DE AFERIÇÃO')&(scb_compano_bras.CUMPRIMENTO_PROPORCIONAL.notna())]"
   ]
  },
  {
   "cell_type": "code",
   "execution_count": 13,
   "metadata": {
    "ExecuteTime": {
     "end_time": "2021-09-30T18:17:15.066126Z",
     "start_time": "2021-09-30T18:17:15.062139Z"
    },
    "scrolled": true
   },
   "outputs": [
    {
     "name": "stdout",
     "output_type": "stream",
     "text": [
      "(2364, 37) (2329, 37) (2357, 37)\n"
     ]
    }
   ],
   "source": [
    "print(scb_compano.shape, scb_compano_bras.shape, scb_compano_est.shape)"
   ]
  },
  {
   "cell_type": "markdown",
   "metadata": {},
   "source": [
    "#### Scrambling IDs"
   ]
  },
  {
   "cell_type": "code",
   "execution_count": 14,
   "metadata": {
    "ExecuteTime": {
     "end_time": "2021-09-30T18:17:15.679096Z",
     "start_time": "2021-09-30T18:17:15.676109Z"
    }
   },
   "outputs": [],
   "source": [
    "import uuid as u"
   ]
  },
  {
   "cell_type": "code",
   "execution_count": 15,
   "metadata": {
    "ExecuteTime": {
     "end_time": "2021-09-30T18:17:16.420786Z",
     "start_time": "2021-09-30T18:17:15.876274Z"
    }
   },
   "outputs": [],
   "source": [
    "# de-idying multiplex ids\n",
    "complexos_dict = {}\n",
    "\n",
    "for i in scb_trab.REGISTRO_COMPLEXO.unique():\n",
    "    complexos_dict[i] = u.uuid4().hex"
   ]
  },
  {
   "cell_type": "code",
   "execution_count": 16,
   "metadata": {
    "ExecuteTime": {
     "end_time": "2021-09-30T18:17:16.898040Z",
     "start_time": "2021-09-30T18:17:16.422748Z"
    }
   },
   "outputs": [],
   "source": [
    "# de-idying company ids\n",
    "empresa_dict = {}\n",
    "\n",
    "for i in scb_trab.REG_EMPRESA.unique():\n",
    "    empresa_dict[i] = u.uuid4().hex"
   ]
  },
  {
   "cell_type": "code",
   "execution_count": 17,
   "metadata": {
    "ExecuteTime": {
     "end_time": "2021-09-30T18:17:17.595786Z",
     "start_time": "2021-09-30T18:17:16.898040Z"
    }
   },
   "outputs": [],
   "source": [
    "# de-idying chain ids\n",
    "grupos_dict = {}\n",
    "\n",
    "for i in scb_trab.REGISTRO_GRUPO.unique():\n",
    "    grupos_dict[i] = u.uuid4().hex"
   ]
  },
  {
   "cell_type": "code",
   "execution_count": 18,
   "metadata": {
    "ExecuteTime": {
     "end_time": "2021-09-30T18:17:18.506575Z",
     "start_time": "2021-09-30T18:17:17.595786Z"
    }
   },
   "outputs": [],
   "source": [
    "# de-idying movie theater postal codes\n",
    "ceps_dict = {}\n",
    "\n",
    "for i in scb_trab.CEP_COMPLEXO.unique():\n",
    "    ceps_dict[i] = u.uuid4().hex"
   ]
  },
  {
   "cell_type": "code",
   "execution_count": 19,
   "metadata": {
    "ExecuteTime": {
     "end_time": "2021-09-30T18:17:19.561280Z",
     "start_time": "2021-09-30T18:17:18.508556Z"
    }
   },
   "outputs": [],
   "source": [
    "# de-idying movie theater municipality ids\n",
    "muns_dict = {}\n",
    "\n",
    "for i in scb_trab.MUN_COMPLEXO.unique():\n",
    "    muns_dict[i] = u.uuid4().hex"
   ]
  },
  {
   "cell_type": "code",
   "execution_count": 20,
   "metadata": {
    "ExecuteTime": {
     "end_time": "2021-09-30T18:17:19.629774Z",
     "start_time": "2021-09-30T18:17:19.563284Z"
    }
   },
   "outputs": [],
   "source": [
    "# mapping inspection data to panel (recall VR registry id was used to get nunique)\n",
    "\n",
    "data = [scb_compano, scb_compano_est, scb_compano_bras] # select data to map to\n",
    "\n",
    "cols_orig = ['REGISTRO_COMPLEXO', 'REG_EMPRESA', 'REGISTRO_GRUPO', 'CEP_COMPLEXO', 'MUN_COMPLEXO'] # columns to be de-id'd\n",
    "\n",
    "cols_to = [ # new col names\n",
    "    'REGISTRO_COMPLEXO_de-id', 'REG_EMPRESA_de-id', 'REGISTRO_GRUPO_de-id','CEP_COMPLEXO_de-id','MUN_COMPLEXO_de-id'] \n",
    "\n",
    "dicts = [complexos_dict, empresa_dict, grupos_dict, ceps_dict, muns_dict] # creating list of dictionaries\n",
    "\n",
    "for i in range(len(cols_to)):\n",
    "    for d in data:\n",
    "        d.loc[:,cols_to[i]] = d.loc[:,cols_orig[i]].map(dicts[i], na_action='ignore')"
   ]
  },
  {
   "cell_type": "code",
   "execution_count": 21,
   "metadata": {
    "ExecuteTime": {
     "end_time": "2021-09-30T18:17:22.164744Z",
     "start_time": "2021-09-30T18:17:22.147672Z"
    }
   },
   "outputs": [],
   "source": [
    "# dropping and renaming back\n",
    "for d in data:\n",
    "    d.drop(cols_orig, axis=1, inplace=True)\n",
    "    d.rename({k:v for (k,v) in zip(cols_to,cols_orig)}, axis=1, inplace=True)"
   ]
  },
  {
   "cell_type": "code",
   "execution_count": 22,
   "metadata": {
    "ExecuteTime": {
     "end_time": "2021-09-30T18:17:22.786167Z",
     "start_time": "2021-09-30T18:17:22.780631Z"
    }
   },
   "outputs": [
    {
     "data": {
      "text/plain": [
       "Index(['ANO_CINEMATOGRAFICO', 'QTDE_DIF_TIT_EXIB', 'QTDE_DIF_TIT_EXIB_BR',\n",
       "       'QTDE_DIF_TIT_EXIB_EST', 'PUBLICO', 'RENDA', 'QTDE_SESSOES',\n",
       "       'DIAS_FUNCIONAMENTO', 'TOT_SALAS_FUNC', 'QTD_SALAS_NUNIQUE',\n",
       "       'GRUPO_EXIBIDOR', 'SALAS_COMPLEXO_INFERIDO',\n",
       "       'ASSENTOS_COMPLEXO_INFERIDO', 'CAPACIDADE_TOTAL_COMPLEXO',\n",
       "       'UF_COMPLEXO', 'OCUPAÇÃO_MÉDIA', 'OBRIGAÇÃO_TOTAL_POR_SALA',\n",
       "       'OBRIGAÇÃO_TOTAL_INCREMENTO_POR_SALA', 'OBRIGAÇÃO_PROP_POR_SALA',\n",
       "       'OBRIGAÇÃO_PROP_INCREMENTO_POR_SALA', 'OBRIGAÇÃO_FINAL_POR_SALA',\n",
       "       'TRANSF_ORIGEM', 'TRANSF_RECEBIDOS', 'TRANSF_FLAG', 'CUMPRIU_COTA',\n",
       "       'TOTAL_SALAS', 'DIAS_FUNC_INFERIDOS', 'CUMPRIMENTO_PROP_TRUNCADO',\n",
       "       'CUMPRIMENTO_PROPORCIONAL', 'CUMPRIMENTO_LINEAR',\n",
       "       'CUMPRIMENTO_TRIWEIGHT', 'CUMPRIMENTO_NORMALIZADO', 'REGISTRO_COMPLEXO',\n",
       "       'REG_EMPRESA', 'REGISTRO_GRUPO', 'CEP_COMPLEXO', 'MUN_COMPLEXO'],\n",
       "      dtype='object')"
      ]
     },
     "execution_count": 22,
     "metadata": {},
     "output_type": "execute_result"
    }
   ],
   "source": [
    "scb_compano.columns"
   ]
  },
  {
   "cell_type": "markdown",
   "metadata": {},
   "source": [
    "#### Last rename and export"
   ]
  },
  {
   "cell_type": "code",
   "execution_count": 23,
   "metadata": {
    "ExecuteTime": {
     "end_time": "2021-09-30T18:17:26.139968Z",
     "start_time": "2021-09-30T18:17:26.130941Z"
    }
   },
   "outputs": [],
   "source": [
    "data = [scb_compano, scb_compano_est, scb_compano_bras]\n",
    "\n",
    "for d in data: # dropping name for anonimity reasons\n",
    "    d.drop(['GRUPO_EXIBIDOR'], axis=1, inplace=True)"
   ]
  },
  {
   "cell_type": "code",
   "execution_count": 24,
   "metadata": {
    "ExecuteTime": {
     "end_time": "2021-09-30T18:17:27.837352Z",
     "start_time": "2021-09-30T18:17:27.564621Z"
    }
   },
   "outputs": [],
   "source": [
    "# export\n",
    "\n",
    "scb_compano.to_csv('SCB_Complexo x Ano - 2017 a 2019 - mesclado fiscalização.csv', index=False)\n",
    "scb_compano_est.to_csv('SCB_Complexo x Ano (receita estrangeiros) - 2017 a 2019 - mesclado fiscalização.csv', index=False)\n",
    "scb_compano_bras.to_csv('SCB_Complexo x Ano (receita brasileiros) - 2017 a 2019 - mesclado fiscalização.csv', index=False)"
   ]
  },
  {
   "cell_type": "markdown",
   "metadata": {},
   "source": [
    "### Reduced-form regressions prep: grouping data by movie theater chain/year"
   ]
  },
  {
   "cell_type": "markdown",
   "metadata": {},
   "source": [
    "#### Reimport and date formatting (ignore if already ran multiplex)"
   ]
  },
  {
   "cell_type": "code",
   "execution_count": 2,
   "metadata": {
    "ExecuteTime": {
     "end_time": "2021-09-30T17:58:02.181229Z",
     "start_time": "2021-09-30T17:55:22.959736Z"
    }
   },
   "outputs": [],
   "source": [
    "# reimport\n",
    "scb_trab = pd.read_csv('SCB_2017 a 2019 tratado 2.csv')"
   ]
  },
  {
   "cell_type": "code",
   "execution_count": 3,
   "metadata": {
    "ExecuteTime": {
     "end_time": "2021-09-30T17:58:02.336624Z",
     "start_time": "2021-09-30T17:58:02.196856Z"
    }
   },
   "outputs": [
    {
     "data": {
      "text/plain": [
       "Index(['ANO_CINEMATOGRAFICO', 'SEMANA_CINEMATOGRAFICA', 'PRIMEIRO_DIA_SEMANA',\n",
       "       'ULTIMO_DIA_SEMANA', 'DATA_SESSAO', 'DIA_SEMANA',\n",
       "       'QUALIFICADOR_DIA_SEMANA', 'HORA_SESSAO', 'DATA_HORA_SESSAO',\n",
       "       'TIPO_SESSAO', 'REGISTRO_SALA', 'REGISTRO_COMPLEXO', 'CPB_ROE',\n",
       "       'TITULO', 'NACIONALIDADE', 'PUBLICO', 'RENDA', 'QT_ASSENTOS_SALA',\n",
       "       'CEP_COMPLEXO', 'MUN_COMPLEXO', 'UF_COMPLEXO', 'TOT_SALAS_FUNC',\n",
       "       'COMERCIAL', 'REG_EMPRESA', 'AGE', 'GRUPO_EXIBIDOR', 'OCUPAÇÃO_SALAS',\n",
       "       'ANO_MES', 'FATOR', 'RENDA_ATUALIZADA_JAN20', 'REGISTRO_GRUPO',\n",
       "       'ASSENTOS_INFERIDO', 'OCUPAÇÃO_SALA_INFERIDA', 'SALAS_GRUPO_INFERIDO',\n",
       "       'SALAS_COMPLEXO_INFERIDO', 'ASSENTOS_COMPLEXO_INFERIDO',\n",
       "       'ASSENTOS_GRUPO_INFERIDO', 'HORA_ajustada', 'DIAS_FUNCIONAMENTO',\n",
       "       'DATA', 'DIAS_FUNCIONAMENTO_GRUPO', 'OBRIGAÇÃO_TOTAL_POR_SALA_GRUPO',\n",
       "       'OBRIGAÇÃO_FINAL_POR_SALA_GRUPO', 'CUMPRIMENTO_PROPORCIONAL_GRUPO',\n",
       "       'CUMPRIMENTO_PROP_TRUNCADO_GRUPO', 'CUMPRIMENTO_TRIWEIGHT_GRUPO'],\n",
       "      dtype='object')"
      ]
     },
     "execution_count": 3,
     "metadata": {},
     "output_type": "execute_result"
    }
   ],
   "source": [
    "scb_trab.columns"
   ]
  },
  {
   "cell_type": "markdown",
   "metadata": {},
   "source": [
    "#### Grouping by chain/year"
   ]
  },
  {
   "cell_type": "code",
   "execution_count": 4,
   "metadata": {
    "ExecuteTime": {
     "end_time": "2021-09-30T17:58:02.364114Z",
     "start_time": "2021-09-30T17:58:02.343675Z"
    }
   },
   "outputs": [],
   "source": [
    "# function to count number of BR titles in total title (only makes sense for agg of all sessions)\n",
    "def count_br(series):\n",
    "    return series[series.str.startswith('B')].nunique()\n",
    "\n",
    "# same but only for foreign titles\n",
    "def count_est(series):\n",
    "    return series[series.str.startswith('E')].nunique()"
   ]
  },
  {
   "cell_type": "code",
   "execution_count": 29,
   "metadata": {
    "ExecuteTime": {
     "end_time": "2021-09-30T18:25:21.379231Z",
     "start_time": "2021-09-30T18:20:09.076783Z"
    }
   },
   "outputs": [],
   "source": [
    "# groupby chain/year only for commercial movie theathers, and selecting all, foreign and brazilian movie sessions resp\n",
    "\n",
    "# dict choosing how to agg\n",
    "dict_group = {'CPB_ROE':['nunique',count_br,count_est], 'PUBLICO':'sum', 'RENDA_ATUALIZADA_JAN20':'sum', \n",
    "              'DATA_HORA_SESSAO':'count','DIAS_FUNCIONAMENTO_GRUPO':'first',\n",
    "              'REG_EMPRESA':'nunique', 'REGISTRO_COMPLEXO':'nunique', 'REGISTRO_SALA':'nunique',\n",
    "              'GRUPO_EXIBIDOR':'first','SALAS_GRUPO_INFERIDO':'first','ASSENTOS_GRUPO_INFERIDO':['first','sum'],\n",
    "             'OCUPAÇÃO_SALA_INFERIDA':'mean'}\n",
    "\n",
    "# foreign sessions\n",
    "scb_grupano_est = scb_trab[(scb_trab.NACIONALIDADE == 'ESTRANGEIRA') & (scb_trab.COMERCIAL == 'COMERCIAL')].groupby(\n",
    "    ['ANO_CINEMATOGRAFICO', 'REGISTRO_GRUPO'], as_index=False).agg(dict_group)\n",
    "\n",
    "# brazilian sessions\n",
    "scb_grupano_bras = scb_trab[(scb_trab.NACIONALIDADE == 'BRASILEIRA') & (scb_trab.COMERCIAL == 'COMERCIAL')].groupby(\n",
    "    ['ANO_CINEMATOGRAFICO', 'REGISTRO_GRUPO'], as_index=False).agg(dict_group)\n",
    "\n",
    "# all session\n",
    "scb_grupano = scb_trab[scb_trab.COMERCIAL == 'COMERCIAL'].groupby(\n",
    "    ['ANO_CINEMATOGRAFICO', 'REGISTRO_GRUPO'], as_index=False).agg(dict_group)"
   ]
  },
  {
   "cell_type": "markdown",
   "metadata": {},
   "source": [
    "#### Fixing col levels and names"
   ]
  },
  {
   "cell_type": "code",
   "execution_count": 30,
   "metadata": {
    "ExecuteTime": {
     "end_time": "2021-09-30T18:25:36.069712Z",
     "start_time": "2021-09-30T18:25:36.028716Z"
    }
   },
   "outputs": [],
   "source": [
    "data = [scb_grupano, scb_grupano_est, scb_grupano_bras]\n",
    "\n",
    "# renaming cols and dropping level to avoid repeated names in CPB_ROE\n",
    "\n",
    "newg_cols = ['ANO_CINEMATOGRAFICO', 'REGISTRO_GRUPO', 'CPB_ROE', 'G_QTDE_DIF_TIT_EXIB_BR',\n",
    "       'G_QTDE_DIF_TIT_EXIB_EST', 'PUBLICO', 'RENDA_ATUALIZADA_JAN20', 'DATA_HORA_SESSAO',\n",
    "       'DIAS_FUNCIONAMENTO_GRUPO', 'REG_EMPRESA', 'REGISTRO_COMPLEXO',\n",
    "       'REGISTRO_SALA', 'GRUPO_EXIBIDOR', 'SALAS_GRUPO_INFERIDO',\n",
    "       'ASSENTOS_GRUPO_INFERIDO','CAPACIDADE_TOTAL_GRUPO','OCUPAÇÃO_MÉDIA']\n",
    "\n",
    "for d in data:\n",
    "    d.columns = d.columns.droplevel(1)\n",
    "    d.columns = newg_cols"
   ]
  },
  {
   "cell_type": "markdown",
   "metadata": {},
   "source": [
    "#### Getting totals per chain (as sum of op days of individual movie theaters)\n",
    "\n",
    "*The thing is: if we just get unique date or other values, if 10 complexes were open in a single day, this would amount to just one day, just as a chain with a single theater open that day; so this one takes into account the sum of opening days for all*"
   ]
  },
  {
   "cell_type": "code",
   "execution_count": 31,
   "metadata": {
    "ExecuteTime": {
     "end_time": "2021-09-30T18:25:39.923332Z",
     "start_time": "2021-09-30T18:25:39.854139Z"
    },
    "scrolled": true
   },
   "outputs": [],
   "source": [
    "# grouping former complex aggs\n",
    "\n",
    "m_agg_dict = {'DIAS_FUNCIONAMENTO':'sum', 'QTDE_DIF_TIT_EXIB':'sum', 'QTDE_DIF_TIT_EXIB_BR':'sum',\n",
    "       'QTDE_DIF_TIT_EXIB_EST':'sum'}\n",
    "\n",
    "# WARNING: requires runnning 3.2!\n",
    "\n",
    "grupo_f_est = scb_compano_est.groupby(['ANO_CINEMATOGRAFICO','REGISTRO_GRUPO'], as_index=False).agg(m_agg_dict)\n",
    "\n",
    "grupo_f_bras = scb_compano_bras.groupby(['ANO_CINEMATOGRAFICO','REGISTRO_GRUPO'], as_index=False).agg(m_agg_dict)\n",
    "\n",
    "grupo_f = scb_compano.groupby(['ANO_CINEMATOGRAFICO','REGISTRO_GRUPO'], as_index=False).agg(m_agg_dict)\n",
    "\n",
    "func = [grupo_f, grupo_f_est, grupo_f_bras]\n",
    "\n",
    "for f in func: # setting group id as key for index and map\n",
    "    f.set_index('REGISTRO_GRUPO', inplace=True)"
   ]
  },
  {
   "cell_type": "markdown",
   "metadata": {},
   "source": [
    "#### Merging with pre-treated inspection data"
   ]
  },
  {
   "cell_type": "code",
   "execution_count": 32,
   "metadata": {
    "ExecuteTime": {
     "end_time": "2021-09-30T18:25:42.036926Z",
     "start_time": "2021-09-30T18:25:41.993841Z"
    }
   },
   "outputs": [],
   "source": [
    "# import data\n",
    "cota_grupo = pd.read_csv('Cota_grupo_fiscalizacao_2017_2019.csv', index_col='REGISTRO DO GRUPO')"
   ]
  },
  {
   "cell_type": "code",
   "execution_count": 33,
   "metadata": {
    "ExecuteTime": {
     "end_time": "2021-09-30T18:25:42.255308Z",
     "start_time": "2021-09-30T18:25:42.238262Z"
    },
    "scrolled": false
   },
   "outputs": [
    {
     "data": {
      "text/plain": [
       "Index(['ANO_CINEMATOGRAFICO', 'NOME DO GRUPO', 'REGISTRO DA EMPRESA',\n",
       "       'REGISTRO DO COMPLEXO', 'TOTAL SALAS DO COMPLEXO',\n",
       "       'Nº DE DIAS OBRIGAÇÃO PROPORCIONAL', 'OBRIGAÇÃO_TOTAL_INCREMENTO',\n",
       "       'OBRIGAÇÃO_PROP_INCREMENTO', 'OBRIGAÇÃO_TOTAL', 'OBG_FINAL',\n",
       "       'Nº DE DIAS VALIDADOS', 'Nº DE TÍTULOS DIFERENTES OBRIGAÇÃO',\n",
       "       'Nº DE TÍTULOS DIFERENTES DECLARADOS', 'TRANSF_ORIGEM',\n",
       "       'TRANSF_RECEBIDOS', 'OBRIGAÇÃO_TOTAL_POR_SALA',\n",
       "       'OBRIGAÇÃO_TOTAL_INCREMENTO_POR_SALA', 'OBRIGAÇÃO_PROP_POR_SALA',\n",
       "       'OBRIGAÇÃO_PROP_INCREMENTO_POR_SALA', 'OBRIGAÇÃO_FINAL_POR_SALA',\n",
       "       'CUMPRIMENTO_PROPORCIONAL', 'DIAS_FUNC_INFERIDOS',\n",
       "       'CUMPRIMENTO_PROP_TRUNCADO', 'CUMPRIMENTO_LINEAR',\n",
       "       'CUMPRIMENTO_NORMALIZADO', 'CUMPRIMENTO_TRIWEIGHT'],\n",
       "      dtype='object')"
      ]
     },
     "execution_count": 33,
     "metadata": {},
     "output_type": "execute_result"
    }
   ],
   "source": [
    "cota_grupo.columns"
   ]
  },
  {
   "cell_type": "code",
   "execution_count": 34,
   "metadata": {
    "ExecuteTime": {
     "end_time": "2021-09-30T18:25:45.160244Z",
     "start_time": "2021-09-30T18:25:42.838844Z"
    }
   },
   "outputs": [],
   "source": [
    "# map inspection data to panel\n",
    "\n",
    "data = [scb_grupano, scb_grupano_est, scb_grupano_bras]\n",
    "\n",
    "merger = cota_grupo\n",
    "\n",
    "idx = 'REGISTRO_GRUPO'\n",
    "\n",
    "# first set of mapping cols, i.e. cols that should have 0 in 2019 data -- recall that 2019 had no screen quotas in effect\n",
    "cols1 = ['OBRIGAÇÃO_TOTAL_POR_SALA', 'OBRIGAÇÃO_TOTAL_INCREMENTO_POR_SALA',\n",
    "       'OBRIGAÇÃO_PROP_POR_SALA', 'OBRIGAÇÃO_PROP_INCREMENTO_POR_SALA',\n",
    "       'OBRIGAÇÃO_FINAL_POR_SALA', 'TRANSF_ORIGEM', 'TRANSF_RECEBIDOS']\n",
    "\n",
    "# second, values that should be 1 in 2019, i.e. the proportional fulfillment\n",
    "cols2 = ['CUMPRIMENTO_PROP_TRUNCADO', 'CUMPRIMENTO_PROPORCIONAL','CUMPRIMENTO_LINEAR','CUMPRIMENTO_TRIWEIGHT']\n",
    "\n",
    "# third set, only for the normalized function weights, value the should be norm.pdf(1) in 2019\n",
    "cols3 = ['CUMPRIMENTO_NORMALIZADO']\n",
    "\n",
    "# fourth set, data from multiplex agg\n",
    "cols4 = ['DIAS_FUNCIONAMENTO', 'QTDE_DIF_TIT_EXIB', 'QTDE_DIF_TIT_EXIB_BR','QTDE_DIF_TIT_EXIB_EST']\n",
    "\n",
    "for c in cols1:\n",
    "    for d in data:\n",
    "        d.loc[d['ANO_CINEMATOGRAFICO'] == 2019, c] = 0\n",
    "        d.loc[d['ANO_CINEMATOGRAFICO'] == 2018, c] = d.loc[d['ANO_CINEMATOGRAFICO'] == 2018,idx].map(merger.loc[merger['ANO_CINEMATOGRAFICO'] == 2018, c], na_action='ignore')\n",
    "        d.loc[d['ANO_CINEMATOGRAFICO'] == 2017, c] = d.loc[d['ANO_CINEMATOGRAFICO'] == 2017,idx].map(merger.loc[merger['ANO_CINEMATOGRAFICO'] == 2017, c], na_action='ignore')\n",
    "    \n",
    "for c in cols2:\n",
    "    for d in data:\n",
    "        d.loc[d['ANO_CINEMATOGRAFICO'] == 2019, c] = 1\n",
    "        d.loc[d['ANO_CINEMATOGRAFICO'] == 2018, c] = d.loc[d['ANO_CINEMATOGRAFICO'] == 2018,idx].map(merger.loc[merger['ANO_CINEMATOGRAFICO'] == 2018, c], na_action='ignore')\n",
    "        d.loc[d['ANO_CINEMATOGRAFICO'] == 2017, c] = d.loc[d['ANO_CINEMATOGRAFICO'] == 2017,idx].map(merger.loc[merger['ANO_CINEMATOGRAFICO'] == 2017, c], na_action='ignore')\n",
    "        \n",
    "from scipy.stats import norm # importing normal pdf\n",
    "        \n",
    "for c in cols3:\n",
    "    for d in data:\n",
    "        d.loc[d['ANO_CINEMATOGRAFICO'] == 2019, c] = norm.pdf(1, loc=1) # applying max value to 2019 compliance levels\n",
    "        d.loc[d['ANO_CINEMATOGRAFICO'] == 2018, c] = d.loc[d['ANO_CINEMATOGRAFICO'] == 2018,idx].map(merger.loc[merger['ANO_CINEMATOGRAFICO'] == 2018, c], na_action='ignore')\n",
    "        d.loc[d['ANO_CINEMATOGRAFICO'] == 2017, c] = d.loc[d['ANO_CINEMATOGRAFICO'] == 2017,idx].map(merger.loc[merger['ANO_CINEMATOGRAFICO'] == 2017, c], na_action='ignore')\n",
    "\n",
    "        \n",
    "for c in cols4:\n",
    "    for d in data: # grupo_f was calculated above as the total opening days for \n",
    "        d.loc[d['ANO_CINEMATOGRAFICO'] == 2019, c] = d.loc[d['ANO_CINEMATOGRAFICO'] == 2019,idx].map(grupo_f.loc[grupo_f['ANO_CINEMATOGRAFICO'] == 2019, c], na_action='ignore')\n",
    "        d.loc[d['ANO_CINEMATOGRAFICO'] == 2018, c] = d.loc[d['ANO_CINEMATOGRAFICO'] == 2018,idx].map(grupo_f.loc[grupo_f['ANO_CINEMATOGRAFICO'] == 2018, c], na_action='ignore')\n",
    "        d.loc[d['ANO_CINEMATOGRAFICO'] == 2017, c] = d.loc[d['ANO_CINEMATOGRAFICO'] == 2017,idx].map(grupo_f.loc[grupo_f['ANO_CINEMATOGRAFICO'] == 2017, c], na_action='ignore')"
   ]
  },
  {
   "cell_type": "markdown",
   "metadata": {},
   "source": [
    "#### Removing data points (missing from inspection, zero income, open for less than 90 days)"
   ]
  },
  {
   "cell_type": "code",
   "execution_count": 35,
   "metadata": {
    "ExecuteTime": {
     "end_time": "2021-09-30T18:25:45.314098Z",
     "start_time": "2021-09-30T18:25:45.288523Z"
    }
   },
   "outputs": [
    {
     "name": "stdout",
     "output_type": "stream",
     "text": [
      "File:\n",
      "Unavailable fulfillment data: 1 out of 629\n",
      "Zero revenues: 0 out of 629\n",
      "Unavailable op days data: 0 out of 629\n",
      "Total to be removed: 1 out of 629\n",
      "File:\n",
      "Unavailable fulfillment data: 1 out of 625\n",
      "Zero revenues: 0 out of 625\n",
      "Unavailable op days data: 0 out of 625\n",
      "Total to be removed: 1 out of 625\n",
      "File:\n",
      "Unavailable fulfillment data: 0 out of 602\n",
      "Zero revenues: 0 out of 602\n",
      "Unavailable op days data: 0 out of 602\n",
      "Total to be removed: 0 out of 602\n",
      "Total to be removed from all files: 2 out of 1856\n"
     ]
    }
   ],
   "source": [
    "# counting how many data points are going to be removed\n",
    "\n",
    "tot_count = 0\n",
    "lines = 0\n",
    "\n",
    "data = [scb_grupano, scb_grupano_est, scb_grupano_bras]\n",
    "\n",
    "for d in data:\n",
    "    print(f'File:')\n",
    "    tot = d.shape[0]\n",
    "    a = d[d.CUMPRIMENTO_PROPORCIONAL.isna()]\n",
    "    b = d[d.RENDA_ATUALIZADA_JAN20 == 0] # always marginally removed counting the last\n",
    "    c = d[d.DIAS_FUNCIONAMENTO_GRUPO.isna()]\n",
    "    e = d[\n",
    "        (d.CUMPRIMENTO_PROPORCIONAL.isna())|(d.RENDA_ATUALIZADA_JAN20 == 0)|(d.DIAS_FUNCIONAMENTO_GRUPO.isna())]\n",
    "    tot_count += (e.shape[0])\n",
    "    lines += tot\n",
    "    print(f'Unavailable fulfillment data: {a.shape[0]} out of {tot}')\n",
    "    print(f'Zero revenues: {b.shape[0]} out of {tot}')\n",
    "    print(f'Unavailable op days data: {c.shape[0]} out of {tot}')\n",
    "    print(f'Total to be removed: {e.shape[0]} out of {tot}')\n",
    "    \n",
    "print(f'Total to be removed from all files: {tot_count} out of {lines}')"
   ]
  },
  {
   "cell_type": "code",
   "execution_count": 36,
   "metadata": {
    "ExecuteTime": {
     "end_time": "2021-09-30T18:25:50.007020Z",
     "start_time": "2021-09-30T18:25:49.994961Z"
    }
   },
   "outputs": [],
   "source": [
    "# removing scb_grupano_brasero income, unav fulfill data and op dascb_grupano_ests data\n",
    "scb_grupano = scb_grupano[(scb_grupano.CUMPRIMENTO_PROPORCIONAL.notna())&(scb_grupano.RENDA_ATUALIZADA_JAN20 != 0)&(scb_grupano.DIAS_FUNCIONAMENTO_GRUPO.notna())]\n",
    "scb_grupano_est = scb_grupano_est[(scb_grupano_est.CUMPRIMENTO_PROPORCIONAL.notna())&(scb_grupano_est.RENDA_ATUALIZADA_JAN20 != 0)&(scb_grupano_est.DIAS_FUNCIONAMENTO_GRUPO.notna())]\n",
    "scb_grupano_bras = scb_grupano_bras[(scb_grupano_bras.CUMPRIMENTO_PROPORCIONAL.notna())&(scb_grupano_bras.RENDA_ATUALIZADA_JAN20 != 0)&(scb_grupano_bras.DIAS_FUNCIONAMENTO_GRUPO.notna())]"
   ]
  },
  {
   "cell_type": "code",
   "execution_count": 37,
   "metadata": {
    "ExecuteTime": {
     "end_time": "2021-09-30T18:25:50.623110Z",
     "start_time": "2021-09-30T18:25:50.619571Z"
    }
   },
   "outputs": [
    {
     "name": "stdout",
     "output_type": "stream",
     "text": [
      "(628, 33) (624, 33) (602, 33)\n"
     ]
    }
   ],
   "source": [
    "data = [scb_grupano, scb_grupano_est, scb_grupano_bras]\n",
    "\n",
    "print(data[0].shape, data[1].shape, data[2].shape)"
   ]
  },
  {
   "cell_type": "markdown",
   "metadata": {},
   "source": [
    "#### Scrambling IDs"
   ]
  },
  {
   "cell_type": "code",
   "execution_count": 38,
   "metadata": {
    "ExecuteTime": {
     "end_time": "2021-09-30T18:25:54.326021Z",
     "start_time": "2021-09-30T18:25:54.322010Z"
    }
   },
   "outputs": [],
   "source": [
    "import uuid as u"
   ]
  },
  {
   "cell_type": "code",
   "execution_count": 39,
   "metadata": {
    "ExecuteTime": {
     "end_time": "2021-09-30T18:25:55.298776Z",
     "start_time": "2021-09-30T18:25:54.548974Z"
    }
   },
   "outputs": [],
   "source": [
    "# de-idying chain ids\n",
    "grupos_dict = {}\n",
    "\n",
    "for i in scb_trab.REGISTRO_GRUPO.unique():\n",
    "    grupos_dict[i] = u.uuid4().hex"
   ]
  },
  {
   "cell_type": "code",
   "execution_count": 40,
   "metadata": {
    "ExecuteTime": {
     "end_time": "2021-09-30T18:25:55.320398Z",
     "start_time": "2021-09-30T18:25:55.298776Z"
    }
   },
   "outputs": [],
   "source": [
    "# mapping inspection data to panel (recall VR registry id was used to get nunique)\n",
    "\n",
    "data = [scb_grupano, scb_grupano_est, scb_grupano_bras] # select data to map to\n",
    "\n",
    "cols_orig = ['REGISTRO_GRUPO'] # columns to be de-id'd\n",
    "\n",
    "cols_to = ['REGISTRO_GRUPO_de-id'] # new col names\n",
    "\n",
    "dicts = [grupos_dict] # creating list of dictionaries\n",
    "\n",
    "for i in range(1):\n",
    "    for d in data:\n",
    "        d.loc[:,cols_to[i]] = d.loc[:,cols_orig[i]].map(dicts[i], na_action='ignore')"
   ]
  },
  {
   "cell_type": "code",
   "execution_count": 41,
   "metadata": {
    "ExecuteTime": {
     "end_time": "2021-09-30T18:25:55.337504Z",
     "start_time": "2021-09-30T18:25:55.322403Z"
    }
   },
   "outputs": [],
   "source": [
    "# dropping and renaming back\n",
    "\n",
    "for d in data:\n",
    "    d.drop(cols_orig, axis=1, inplace=True)\n",
    "    d.rename({k:v for (k,v) in zip(cols_to,cols_orig)}, axis=1, inplace=True)"
   ]
  },
  {
   "cell_type": "markdown",
   "metadata": {},
   "source": [
    "#### Last rename and export"
   ]
  },
  {
   "cell_type": "code",
   "execution_count": 42,
   "metadata": {
    "ExecuteTime": {
     "end_time": "2021-09-30T18:25:56.550877Z",
     "start_time": "2021-09-30T18:25:56.538846Z"
    }
   },
   "outputs": [],
   "source": [
    "data = [scb_grupano, scb_grupano_est, scb_grupano_bras]\n",
    "\n",
    "for d in data:# renaming cols to work in regressions and give clarifity that CPB_ROE equal no of diff titles exhibited that year\n",
    "    d.rename({'RENDA_ATUALIZADA_JAN20':'RENDA','CPB_ROE':'G_QTDE_TIT_DIF_EXIB', 'REGISTRO_SALAS':'QTD_SALAS_NUNIQUE',\n",
    "             'DATA_HORA_SESSAO':'QTDE_SESSOES'},\n",
    "             axis=1, inplace=True)\n",
    "    d.drop(['GRUPO_EXIBIDOR'], axis=1,inplace=True)"
   ]
  },
  {
   "cell_type": "code",
   "execution_count": 43,
   "metadata": {
    "ExecuteTime": {
     "end_time": "2021-09-30T18:25:56.936781Z",
     "start_time": "2021-09-30T18:25:56.835945Z"
    }
   },
   "outputs": [],
   "source": [
    "# export\n",
    "data[0].to_csv('SCB_Grupo x Ano - 2017 a 2019 - mesclado fiscalização.csv', index=False)\n",
    "data[1].to_csv('SCB_Grupo x Ano (receita estrangeiros) - 2017 a 2019 - mesclado fiscalização.csv', index=False)\n",
    "data[2].to_csv('SCB_Grupo x Ano (receita brasileiros) - 2017 a 2019 - mesclado fiscalização.csv', index=False)"
   ]
  },
  {
   "cell_type": "markdown",
   "metadata": {},
   "source": [
    "### Dynamic model organizing and cleaning"
   ]
  },
  {
   "cell_type": "markdown",
   "metadata": {},
   "source": [
    "#### Chain-level panel 2018 data"
   ]
  },
  {
   "cell_type": "code",
   "execution_count": 2,
   "metadata": {},
   "outputs": [],
   "source": [
    "scb_trab = pd.read_csv('SCB_2017 a 2019 tratado 2.csv', usecols=['ANO_CINEMATOGRAFICO', 'SEMANA_CINEMATOGRAFICA', \n",
    "        'DATA_SESSAO','HORA_SESSAO', 'TIPO_SESSAO', 'REGISTRO_SALA', 'REGISTRO_COMPLEXO', 'CPB_ROE',\n",
    "        'TITULO', 'NACIONALIDADE', 'PUBLICO', 'COMERCIAL',\n",
    "        'REG_EMPRESA', 'REGISTRO_GRUPO', 'ASSENTOS_INFERIDO', 'HORA_ajustada', 'OCUPAÇÃO_SALA_INFERIDA'])"
   ]
  },
  {
   "cell_type": "code",
   "execution_count": 6,
   "metadata": {},
   "outputs": [],
   "source": [
    "# pegando só as sessões da madrugada (que contam para o dia anterior) e depois das 13, quando começam a contar para a cota\n",
    "\n",
    "scb_trab = scb_trab[(scb_trab.HORA_ajustada >= 13) | (scb_trab.HORA_ajustada < 7)]"
   ]
  },
  {
   "cell_type": "code",
   "execution_count": 3,
   "metadata": {},
   "outputs": [],
   "source": [
    "# transformação dessas colunas em datas\n",
    "\n",
    "from datetime import datetime\n",
    "\n",
    "scb_trab.loc[:,'DATA_SESSAO'] = scb_trab.loc[:,'DATA_SESSAO'].apply(\n",
    "    lambda x: datetime.strptime(x, '%Y-%m-%d %H:%M:%S'))"
   ]
  },
  {
   "cell_type": "code",
   "execution_count": 4,
   "metadata": {},
   "outputs": [],
   "source": [
    "# criando coluna para poder fazer o groupby\n",
    "\n",
    "scb_trab['ANO'],scb_trab['DIA'],scb_trab['MES']=scb_trab['DATA_SESSAO'].dt.year,scb_trab['DATA_SESSAO'].dt.day,scb_trab['DATA_SESSAO'].dt.month"
   ]
  },
  {
   "cell_type": "code",
   "execution_count": 5,
   "metadata": {},
   "outputs": [],
   "source": [
    "# pegando só sessões regulares e complexos comerciais\n",
    "\n",
    "scb_trab = scb_trab.query(\"COMERCIAL == 'COMERCIAL' & ANO == 2018\")"
   ]
  },
  {
   "cell_type": "code",
   "execution_count": 14,
   "metadata": {},
   "outputs": [],
   "source": [
    "# ajustando dias para sessões depois de meia-noite que contam para o \"dia\" anterior\n",
    "\n",
    "from datetime import timedelta\n",
    "\n",
    "def dia_adj(row):\n",
    "    if row['HORA_ajustada'] < 7:\n",
    "        return (row['DATA_SESSAO'] - timedelta(days=1)).day\n",
    "    else:\n",
    "        return row['DIA']\n",
    "    \n",
    "def mes_adj(row):\n",
    "    if row['HORA_ajustada'] < 7:\n",
    "        return (row['DATA_SESSAO'] - timedelta(days=1)).month\n",
    "    else:\n",
    "        return row['MES']\n",
    "    \n",
    "scb_trab['DIA_ajustado'] = scb_trab.apply(dia_adj, axis=1)\n",
    "\n",
    "\n",
    "scb_trab['MES_ajustado'] = scb_trab.apply(mes_adj, axis=1)"
   ]
  },
  {
   "cell_type": "code",
   "execution_count": 17,
   "metadata": {},
   "outputs": [],
   "source": [
    "# computando a quantidade de sessões por dia em uma sala\n",
    "\n",
    "d_t = scb_trab.groupby(['REGISTRO_SALA','MES_ajustado','DIA_ajustado']).agg({'DATA_HORA_SESSAO':'count'})\n",
    "\n",
    "d_t.columns = ['d_t']"
   ]
  },
  {
   "cell_type": "code",
   "execution_count": 20,
   "metadata": {},
   "outputs": [],
   "source": [
    "# jogando fora colunas desnecessárias\n",
    "\n",
    "scb_trab.drop(['ANO','DIA','MES'], inplace=True, axis=1)"
   ]
  },
  {
   "cell_type": "code",
   "execution_count": 24,
   "metadata": {},
   "outputs": [],
   "source": [
    "# definindo função de contagem de sessões por dia para complexos e \n",
    "\n",
    "def state_count(row):\n",
    "    return d_t.loc[row['REGISTRO_SALA'], row['MES_ajustado'], row['DIA_ajustado']][0]\n",
    "\n",
    "scb_trab['d_t'] = scb_trab.apply(state_count, axis=1)"
   ]
  },
  {
   "cell_type": "code",
   "execution_count": 30,
   "metadata": {},
   "outputs": [],
   "source": [
    "# criando a fração de cumprimento proporcional\n",
    "\n",
    "scb_trab['prop_cumprida'] = np.where(\n",
    "    scb_trab['NACIONALIDADE'].values == 'BRASILEIRA', 1/(scb_trab['d_t'].values),  0)"
   ]
  },
  {
   "cell_type": "code",
   "execution_count": 40,
   "metadata": {},
   "outputs": [],
   "source": [
    "# ordenando os valores por grupo e sessão para podermos depois fazer a soma cumulativa\n",
    "\n",
    "scb_trab.sort_values(by=['REGISTRO_GRUPO','DATA_SESSAO'], ignore_index=True, inplace=True)"
   ]
  },
  {
   "cell_type": "code",
   "execution_count": 42,
   "metadata": {},
   "outputs": [],
   "source": [
    "# fazendo a soma cumulativa por grupo que representa a variável de estado para cada grupo\n",
    "\n",
    "for g in scb_trab.REGISTRO_GRUPO.unique():\n",
    "    scb_trab.loc[scb_trab.REGISTRO_GRUPO == g, 'x_t'] = scb_trab.loc[scb_trab.REGISTRO_GRUPO == g, 'prop_cumprida'].cumsum()\n",
    "    scb_trab.loc[scb_trab.REGISTRO_GRUPO == g, 't'] = range(scb_trab[scb_trab.REGISTRO_GRUPO == g].shape[0])"
   ]
  },
  {
   "cell_type": "code",
   "execution_count": 49,
   "metadata": {},
   "outputs": [],
   "source": [
    "# criação de lista de obras passadas por semana no complexo com quantidade de sessões\n",
    "\n",
    "obras_comp = scb_trab.groupby(['ANO_CINEMATOGRAFICO','SEMANA_CINEMATOGRAFICA','REGISTRO_COMPLEXO','CPB_ROE']).agg({\n",
    "    'DATA_SESSAO':'count'\n",
    "})\n",
    "\n",
    "for i, r in obras_comp.iterrows():\n",
    "    obras_comp.loc[i,'frac'] = r['DATA_SESSAO'] / obras_comp.loc[i[:3],'DATA_SESSAO'].sum()"
   ]
  },
  {
   "cell_type": "code",
   "execution_count": 63,
   "metadata": {},
   "outputs": [],
   "source": [
    "# descartando colunas desnecessárias, lembre que filtramos a base por comercial == sim\n",
    "\n",
    "scb_trab.drop(['COMERCIAL','DATA_HORA_SESSAO'], axis=1, inplace=True)"
   ]
  },
  {
   "cell_type": "code",
   "execution_count": 65,
   "metadata": {},
   "outputs": [],
   "source": [
    "# exportação do Painel\n",
    "\n",
    "scb_trab.to_csv('Painel 2018.csv', index=False)"
   ]
  },
  {
   "cell_type": "code",
   "execution_count": 66,
   "metadata": {},
   "outputs": [],
   "source": [
    "# exportação das obras por frequência\n",
    "\n",
    "obras_comp.to_csv('Obras freq.csv')"
   ]
  },
  {
   "cell_type": "code",
   "execution_count": 3,
   "metadata": {},
   "outputs": [],
   "source": [
    "# reimportação do painel\n",
    "\n",
    "scb_trab = pd.read_csv('Painel 2018.csv')"
   ]
  },
  {
   "cell_type": "code",
   "execution_count": 4,
   "metadata": {},
   "outputs": [],
   "source": [
    "# importando cotas para fazer o merge #\n",
    "\n",
    "cota_grupo = pd.read_csv('Cota_grupo_fiscalizacao_2017_2019.csv', index_col='REGISTRO DO GRUPO')\n",
    "\n",
    "# renomeando colunas #\n",
    "\n",
    "cota_grupo.rename({'TRANSFERÊNCIA Dias Origem':\n",
    "       'TRANSF_ORIGEM', 'TRANSFERÊNCIA Dias Recebidos':'TRANSF_RECEBIDOS', 'ANO':'ANO_CINEMATOGRAFICO'}, axis=1, inplace=True)"
   ]
  },
  {
   "cell_type": "code",
   "execution_count": 15,
   "metadata": {},
   "outputs": [],
   "source": [
    "# mapeando a obrigação do arquivo da cota para o arquivo SCB\n",
    "\n",
    "def cota_total(row):\n",
    "    return cota_grupo.query(\"ANO_CINEMATOGRAFICO == 2018\").loc[row['REGISTRO_GRUPO'],'OBRIGAÇÃO_TOTAL']\n",
    "\n",
    "def cota_final(row):\n",
    "    return cota_grupo.query(\"ANO_CINEMATOGRAFICO == 2018\").loc[row['REGISTRO_GRUPO'],'OBG_FINAL']\n",
    "\n",
    "scb_trab['OBG_TOTAL'] = scb_trab.apply(cota_total, axis=1)\n",
    "\n",
    "scb_trab['OBG_FINAL'] = scb_trab.apply(cota_final, axis=1)\n",
    "\n",
    "# fiz besteira e peguei a obrigação proporcional por sala, multiplicando agora a obrigação pelo total de salas\n",
    "\n",
    "for g in scb_trab.REGISTRO_GRUPO.unique():\n",
    "    tot_salas = cota_grupo.query(\"ANO_CINEMATOGRAFICO == 2018\").loc[g, 'TOTAL SALAS DO COMPLEXO']\n",
    "    scb_trab.loc[scb_trab.REGISTRO_GRUPO == g, 'OBG_TOTAL'] = np.multiply(\n",
    "        scb_trab.loc[scb_trab.REGISTRO_GRUPO == g, 'OBG_TOTAL'].values, tot_salas)\n",
    "    scb_trab.loc[scb_trab.REGISTRO_GRUPO == g, 'OBG_FINAL'] = np.multiply(\n",
    "        scb_trab.loc[scb_trab.REGISTRO_GRUPO == g, 'OBG_FINAL'].values, tot_salas)\n",
    "    \n",
    "    # aproveitando e colocando o t como a ordem das observações de cada grupo\n",
    "    scb_trab.loc[scb_trab.REGISTRO_GRUPO == g, 't'] = range(scb_trab[scb_trab.REGISTRO_GRUPO == g].shape[0])"
   ]
  },
  {
   "cell_type": "code",
   "execution_count": 9,
   "metadata": {},
   "outputs": [],
   "source": [
    "dias_max = scb_trab.groupby(['REGISTRO_GRUPO','REGISTRO_SALA','MES_ajustado','DIA_ajustado']).agg({'TIPO_SESSAO':'count'})"
   ]
  },
  {
   "cell_type": "code",
   "execution_count": 11,
   "metadata": {},
   "outputs": [
    {
     "data": {
      "text/html": [
       "<div>\n",
       "<style scoped>\n",
       "    .dataframe tbody tr th:only-of-type {\n",
       "        vertical-align: middle;\n",
       "    }\n",
       "\n",
       "    .dataframe tbody tr th {\n",
       "        vertical-align: top;\n",
       "    }\n",
       "\n",
       "    .dataframe thead th {\n",
       "        text-align: right;\n",
       "    }\n",
       "</style>\n",
       "<table border=\"1\" class=\"dataframe\">\n",
       "  <thead>\n",
       "    <tr style=\"text-align: right;\">\n",
       "      <th></th>\n",
       "      <th></th>\n",
       "      <th></th>\n",
       "      <th></th>\n",
       "      <th>TIPO_SESSAO</th>\n",
       "    </tr>\n",
       "    <tr>\n",
       "      <th>REGISTRO_GRUPO</th>\n",
       "      <th>REGISTRO_SALA</th>\n",
       "      <th>MES_ajustado</th>\n",
       "      <th>DIA_ajustado</th>\n",
       "      <th></th>\n",
       "    </tr>\n",
       "  </thead>\n",
       "  <tbody>\n",
       "    <tr>\n",
       "      <th rowspan=\"5\" valign=\"top\">729.0</th>\n",
       "      <th rowspan=\"5\" valign=\"top\">5006002.0</th>\n",
       "      <th rowspan=\"5\" valign=\"top\">4</th>\n",
       "      <th>7</th>\n",
       "      <td>3</td>\n",
       "    </tr>\n",
       "    <tr>\n",
       "      <th>8</th>\n",
       "      <td>3</td>\n",
       "    </tr>\n",
       "    <tr>\n",
       "      <th>10</th>\n",
       "      <td>2</td>\n",
       "    </tr>\n",
       "    <tr>\n",
       "      <th>11</th>\n",
       "      <td>2</td>\n",
       "    </tr>\n",
       "    <tr>\n",
       "      <th>12</th>\n",
       "      <td>2</td>\n",
       "    </tr>\n",
       "  </tbody>\n",
       "</table>\n",
       "</div>"
      ],
      "text/plain": [
       "                                                        TIPO_SESSAO\n",
       "REGISTRO_GRUPO REGISTRO_SALA MES_ajustado DIA_ajustado             \n",
       "729.0          5006002.0     4            7                       3\n",
       "                                          8                       3\n",
       "                                          10                      2\n",
       "                                          11                      2\n",
       "                                          12                      2"
      ]
     },
     "execution_count": 11,
     "metadata": {},
     "output_type": "execute_result"
    }
   ],
   "source": [
    "dias_max.head()"
   ]
  },
  {
   "cell_type": "code",
   "execution_count": null,
   "metadata": {},
   "outputs": [],
   "source": [
    "# essas células calculam o máximo de punição que uma sala pode sofrer num determinado momento do tempo,\n",
    "# para isso calculamos o quanto ela poderia cumprir passando TODAS as sessões subsequentes como BRASILEIRAS dado um momento\n",
    "# qualquer no tempo primeiro\n",
    "\n",
    "# fazendo o complementar da soma cumulativa que diz quantos dias a sala ainda pode cumprir num dado momento\n",
    "\n",
    "for g in scb_trab.REGISTRO_GRUPO.unique():\n",
    "    dias = dias_max.loc[g].shape[0]\n",
    "    scb_trab.loc[scb_trab.REGISTRO_GRUPO == g, 'a cumprir'] = np.subtract(\n",
    "        dias, scb_trab.loc[scb_trab.REGISTRO_GRUPO == g, 'd_t'].cumsum())"
   ]
  },
  {
   "cell_type": "code",
   "execution_count": 19,
   "metadata": {},
   "outputs": [],
   "source": [
    "# agora somamos o quanto ela já cumpriu com o quanto ela pode cumprir (calculado anteriormente) para aferir o cumprimento\n",
    "# máximo em um momento do tempo. se esse valor for menor do que a cota anual, esse valor entra como penalidade.\n",
    "# se o valor for maior do que a cota anual, a penalidade nesse momento do tempo será 0\n",
    "\n",
    "scb_trab['n_total_alt'] = np.where(\n",
    "    scb_trab['OBG_TOTAL'].values > (scb_trab['x_t'].values + scb_trab['a cumprir'].values), \n",
    "    scb_trab['OBG_TOTAL'].values - (scb_trab['x_t'].values + scb_trab['a cumprir'].values),\n",
    "    0)\n",
    "\n",
    "scb_trab['n_final_alt'] = np.where(\n",
    "    scb_trab['OBG_FINAL'].values > (scb_trab['x_t'].values + scb_trab['a cumprir'].values), \n",
    "    scb_trab['OBG_FINAL'].values - (scb_trab['x_t'].values + scb_trab['a cumprir'].values),\n",
    "    0)"
   ]
  },
  {
   "cell_type": "code",
   "execution_count": 20,
   "metadata": {},
   "outputs": [],
   "source": [
    "scb_trab.drop(['a cumprir'], axis=1,inplace=True)"
   ]
  },
  {
   "cell_type": "code",
   "execution_count": 72,
   "metadata": {},
   "outputs": [],
   "source": [
    "# cômputo simplificado da cota faltante para as salas cumprirem\n",
    "\n",
    "scb_trab['n_total'] = np.subtract(scb_trab['OBG_TOTAL'].values, scb_trab['x_t'].values)\n",
    "scb_trab['n_final'] = np.subtract(scb_trab['OBG_FINAL'].values, scb_trab['x_t'].values)"
   ]
  },
  {
   "cell_type": "code",
   "execution_count": 68,
   "metadata": {},
   "outputs": [],
   "source": [
    "# agrupando por obra para obter a ocupação média (esperada) da obra naquela semana\n",
    "\n",
    "obras = scb_trab.groupby(['ANO_CINEMATOGRAFICO','SEMANA_CINEMATOGRAFICA','CPB_ROE']).agg({\n",
    "    'OCUPAÇÃO_SALA_INFERIDA':'mean', 'DATA_SESSAO':'count'\n",
    "})"
   ]
  },
  {
   "cell_type": "code",
   "execution_count": 69,
   "metadata": {},
   "outputs": [],
   "source": [
    "# colocando esse dado no painel de filmes semanal de cada complexo\n",
    "\n",
    "for i, r in obras_comp.iterrows():\n",
    "    obras_comp.loc[i,'ocupação_media'] = obras.loc[\n",
    "        (r['ANO_CINEMATOGRAFICO'], r['SEMANA_CINEMATOGRAFICA'], r['CPB_ROE']),'OCUPAÇÃO_SALA_INFERIDA']"
   ]
  },
  {
   "cell_type": "code",
   "execution_count": 21,
   "metadata": {},
   "outputs": [],
   "source": [
    "# remoção de coluna desnecessária e exportação novamente\n",
    "\n",
    "#scb_trab.drop(['REG_EMPRESA'], axis=1, inplace=True)\n",
    "\n",
    "scb_trab.to_csv('Painel 2018.csv', index=False)"
   ]
  },
  {
   "cell_type": "code",
   "execution_count": 82,
   "metadata": {},
   "outputs": [],
   "source": [
    "# ficou faltando calcular a frequência para a última semana que não entra nos dados porque no modelo estamos \n",
    "# usando a semana anterior\n",
    "\n",
    "# obras_comp = pd.read_csv('Obras freq.csv')\n",
    "\n",
    "scb_trab = pd.read_csv('SCB_2017 a 2019 tratado 2.csv', usecols=['ANO_CINEMATOGRAFICO', 'SEMANA_CINEMATOGRAFICA', \n",
    "        'DATA_SESSAO','REGISTRO_COMPLEXO', 'CPB_ROE'])"
   ]
  },
  {
   "cell_type": "code",
   "execution_count": 83,
   "metadata": {},
   "outputs": [],
   "source": [
    "obras_adendo = scb_trab.query(\"ANO_CINEMATOGRAFICO == 2017 & SEMANA_CINEMATOGRAFICA == 51\").groupby(\n",
    "    ['ANO_CINEMATOGRAFICO','SEMANA_CINEMATOGRAFICA','REGISTRO_COMPLEXO','CPB_ROE']).agg({\n",
    "    'DATA_SESSAO':'count'\n",
    "})\n",
    "\n",
    "for i, r in obras_adendo.iterrows():\n",
    "    obras_adendo.loc[i,'frac'] = r['DATA_SESSAO'] / obras_adendo.loc[i[:3],'DATA_SESSAO'].sum()\n",
    "\n",
    "# como não precisamos da ocupação média para essa semana, colocando apenas None\n",
    "\n",
    "obras_adendo['ocupação_media'] = None\n",
    "\n",
    "# resetando o index para poder concatenar\n",
    "\n",
    "obras_adendo.reset_index(inplace=True)"
   ]
  },
  {
   "cell_type": "code",
   "execution_count": 92,
   "metadata": {},
   "outputs": [],
   "source": [
    "obras_final = pd.concat([obras_adendo, obras_comp])"
   ]
  },
  {
   "cell_type": "code",
   "execution_count": 95,
   "metadata": {},
   "outputs": [],
   "source": [
    "obras_final.to_csv('Obras freq.csv', index=False)"
   ]
  },
  {
   "cell_type": "markdown",
   "metadata": {
    "heading_collapsed": true
   },
   "source": [
    "#### Multiplex-level panel 2018 data"
   ]
  },
  {
   "cell_type": "code",
   "execution_count": 35,
   "metadata": {
    "hidden": true
   },
   "outputs": [
    {
     "data": {
      "text/plain": [
       "ANO_CINEMATOGRAFICO                int64\n",
       "SEMANA_CINEMATOGRAFICA             int64\n",
       "DATA_SESSAO               datetime64[ns]\n",
       "HORA_SESSAO                       object\n",
       "TIPO_SESSAO                       object\n",
       "REGISTRO_SALA                      int32\n",
       "REGISTRO_COMPLEXO                  int32\n",
       "CPB_ROE                           object\n",
       "TITULO                            object\n",
       "NACIONALIDADE                     object\n",
       "PUBLICO                            int64\n",
       "RENDA_ATUALIZADA_JAN20           float64\n",
       "REGISTRO_GRUPO                     int32\n",
       "ASSENTOS_INFERIDO                  int32\n",
       "HORA_ajustada                      int64\n",
       "OCUPAÇÃO_SALA_INFERIDA           float64\n",
       "DIA_ajustado                       int64\n",
       "MES_ajustado                       int64\n",
       "d_t                                int64\n",
       "prop_cumprida                    float64\n",
       "x_t                              float64\n",
       "OBG_TOTAL                          int64\n",
       "OBG_FINAL                        float64\n",
       "t                                  int32\n",
       "n_total                          float64\n",
       "n_final                          float64\n",
       "n_total_alt                      float64\n",
       "n_final_alt                      float64\n",
       "id_NAC                             int32\n",
       "xt_comp                          float64\n",
       "t_comp                             int32\n",
       "OBG_FINAL_COMP                   float64\n",
       "SALAS_COMP                       float64\n",
       "dtype: object"
      ]
     },
     "execution_count": 35,
     "metadata": {},
     "output_type": "execute_result"
    }
   ],
   "source": [
    "painel.dtypes"
   ]
  },
  {
   "cell_type": "code",
   "execution_count": 3,
   "metadata": {
    "hidden": true
   },
   "outputs": [],
   "source": [
    "painel = pd.read_csv('Painel 2018.csv')"
   ]
  },
  {
   "cell_type": "code",
   "execution_count": 4,
   "metadata": {
    "hidden": true
   },
   "outputs": [],
   "source": [
    "from datetime import datetime\n",
    "\n",
    "painel['DATA_SESSAO'] = painel['DATA_SESSAO'].apply(lambda x: datetime.strptime(x, '%Y-%m-%d %H:%M:%S'))"
   ]
  },
  {
   "cell_type": "code",
   "execution_count": 5,
   "metadata": {
    "collapsed": true,
    "hidden": true
   },
   "outputs": [
    {
     "ename": "KeyError",
     "evalue": "'NACIONALIDADE'",
     "output_type": "error",
     "traceback": [
      "\u001b[1;31m---------------------------------------------------------------------------\u001b[0m",
      "\u001b[1;31mKeyError\u001b[0m                                  Traceback (most recent call last)",
      "\u001b[1;32mC:\\ProgramData\\Anaconda3\\lib\\site-packages\\pandas\\core\\indexes\\base.py\u001b[0m in \u001b[0;36mget_loc\u001b[1;34m(self, key, method, tolerance)\u001b[0m\n\u001b[0;32m   2645\u001b[0m             \u001b[1;32mtry\u001b[0m\u001b[1;33m:\u001b[0m\u001b[1;33m\u001b[0m\u001b[1;33m\u001b[0m\u001b[0m\n\u001b[1;32m-> 2646\u001b[1;33m                 \u001b[1;32mreturn\u001b[0m \u001b[0mself\u001b[0m\u001b[1;33m.\u001b[0m\u001b[0m_engine\u001b[0m\u001b[1;33m.\u001b[0m\u001b[0mget_loc\u001b[0m\u001b[1;33m(\u001b[0m\u001b[0mkey\u001b[0m\u001b[1;33m)\u001b[0m\u001b[1;33m\u001b[0m\u001b[1;33m\u001b[0m\u001b[0m\n\u001b[0m\u001b[0;32m   2647\u001b[0m             \u001b[1;32mexcept\u001b[0m \u001b[0mKeyError\u001b[0m\u001b[1;33m:\u001b[0m\u001b[1;33m\u001b[0m\u001b[1;33m\u001b[0m\u001b[0m\n",
      "\u001b[1;32mpandas\\_libs\\index.pyx\u001b[0m in \u001b[0;36mpandas._libs.index.IndexEngine.get_loc\u001b[1;34m()\u001b[0m\n",
      "\u001b[1;32mpandas\\_libs\\index.pyx\u001b[0m in \u001b[0;36mpandas._libs.index.IndexEngine.get_loc\u001b[1;34m()\u001b[0m\n",
      "\u001b[1;32mpandas\\_libs\\hashtable_class_helper.pxi\u001b[0m in \u001b[0;36mpandas._libs.hashtable.PyObjectHashTable.get_item\u001b[1;34m()\u001b[0m\n",
      "\u001b[1;32mpandas\\_libs\\hashtable_class_helper.pxi\u001b[0m in \u001b[0;36mpandas._libs.hashtable.PyObjectHashTable.get_item\u001b[1;34m()\u001b[0m\n",
      "\u001b[1;31mKeyError\u001b[0m: 'NACIONALIDADE'",
      "\nDuring handling of the above exception, another exception occurred:\n",
      "\u001b[1;31mKeyError\u001b[0m                                  Traceback (most recent call last)",
      "\u001b[1;32m<ipython-input-5-f60ad793d583>\u001b[0m in \u001b[0;36m<module>\u001b[1;34m\u001b[0m\n\u001b[0;32m      1\u001b[0m \u001b[1;31m# criando ID para nacionalidade com 1 para brasileiros e 0 para estrangeiros\u001b[0m\u001b[1;33m\u001b[0m\u001b[1;33m\u001b[0m\u001b[1;33m\u001b[0m\u001b[0m\n\u001b[0;32m      2\u001b[0m \u001b[1;33m\u001b[0m\u001b[0m\n\u001b[1;32m----> 3\u001b[1;33m \u001b[0mpainel\u001b[0m\u001b[1;33m[\u001b[0m\u001b[1;34m'id_NAC'\u001b[0m\u001b[1;33m]\u001b[0m \u001b[1;33m=\u001b[0m \u001b[0mnp\u001b[0m\u001b[1;33m.\u001b[0m\u001b[0mwhere\u001b[0m\u001b[1;33m(\u001b[0m\u001b[0mpainel\u001b[0m\u001b[1;33m[\u001b[0m\u001b[1;34m'NACIONALIDADE'\u001b[0m\u001b[1;33m]\u001b[0m \u001b[1;33m==\u001b[0m \u001b[1;34m'BRASILEIRA'\u001b[0m\u001b[1;33m,\u001b[0m \u001b[1;36m1\u001b[0m\u001b[1;33m,\u001b[0m \u001b[1;36m0\u001b[0m\u001b[1;33m)\u001b[0m\u001b[1;33m\u001b[0m\u001b[1;33m\u001b[0m\u001b[0m\n\u001b[0m",
      "\u001b[1;32mC:\\ProgramData\\Anaconda3\\lib\\site-packages\\pandas\\core\\frame.py\u001b[0m in \u001b[0;36m__getitem__\u001b[1;34m(self, key)\u001b[0m\n\u001b[0;32m   2798\u001b[0m             \u001b[1;32mif\u001b[0m \u001b[0mself\u001b[0m\u001b[1;33m.\u001b[0m\u001b[0mcolumns\u001b[0m\u001b[1;33m.\u001b[0m\u001b[0mnlevels\u001b[0m \u001b[1;33m>\u001b[0m \u001b[1;36m1\u001b[0m\u001b[1;33m:\u001b[0m\u001b[1;33m\u001b[0m\u001b[1;33m\u001b[0m\u001b[0m\n\u001b[0;32m   2799\u001b[0m                 \u001b[1;32mreturn\u001b[0m \u001b[0mself\u001b[0m\u001b[1;33m.\u001b[0m\u001b[0m_getitem_multilevel\u001b[0m\u001b[1;33m(\u001b[0m\u001b[0mkey\u001b[0m\u001b[1;33m)\u001b[0m\u001b[1;33m\u001b[0m\u001b[1;33m\u001b[0m\u001b[0m\n\u001b[1;32m-> 2800\u001b[1;33m             \u001b[0mindexer\u001b[0m \u001b[1;33m=\u001b[0m \u001b[0mself\u001b[0m\u001b[1;33m.\u001b[0m\u001b[0mcolumns\u001b[0m\u001b[1;33m.\u001b[0m\u001b[0mget_loc\u001b[0m\u001b[1;33m(\u001b[0m\u001b[0mkey\u001b[0m\u001b[1;33m)\u001b[0m\u001b[1;33m\u001b[0m\u001b[1;33m\u001b[0m\u001b[0m\n\u001b[0m\u001b[0;32m   2801\u001b[0m             \u001b[1;32mif\u001b[0m \u001b[0mis_integer\u001b[0m\u001b[1;33m(\u001b[0m\u001b[0mindexer\u001b[0m\u001b[1;33m)\u001b[0m\u001b[1;33m:\u001b[0m\u001b[1;33m\u001b[0m\u001b[1;33m\u001b[0m\u001b[0m\n\u001b[0;32m   2802\u001b[0m                 \u001b[0mindexer\u001b[0m \u001b[1;33m=\u001b[0m \u001b[1;33m[\u001b[0m\u001b[0mindexer\u001b[0m\u001b[1;33m]\u001b[0m\u001b[1;33m\u001b[0m\u001b[1;33m\u001b[0m\u001b[0m\n",
      "\u001b[1;32mC:\\ProgramData\\Anaconda3\\lib\\site-packages\\pandas\\core\\indexes\\base.py\u001b[0m in \u001b[0;36mget_loc\u001b[1;34m(self, key, method, tolerance)\u001b[0m\n\u001b[0;32m   2646\u001b[0m                 \u001b[1;32mreturn\u001b[0m \u001b[0mself\u001b[0m\u001b[1;33m.\u001b[0m\u001b[0m_engine\u001b[0m\u001b[1;33m.\u001b[0m\u001b[0mget_loc\u001b[0m\u001b[1;33m(\u001b[0m\u001b[0mkey\u001b[0m\u001b[1;33m)\u001b[0m\u001b[1;33m\u001b[0m\u001b[1;33m\u001b[0m\u001b[0m\n\u001b[0;32m   2647\u001b[0m             \u001b[1;32mexcept\u001b[0m \u001b[0mKeyError\u001b[0m\u001b[1;33m:\u001b[0m\u001b[1;33m\u001b[0m\u001b[1;33m\u001b[0m\u001b[0m\n\u001b[1;32m-> 2648\u001b[1;33m                 \u001b[1;32mreturn\u001b[0m \u001b[0mself\u001b[0m\u001b[1;33m.\u001b[0m\u001b[0m_engine\u001b[0m\u001b[1;33m.\u001b[0m\u001b[0mget_loc\u001b[0m\u001b[1;33m(\u001b[0m\u001b[0mself\u001b[0m\u001b[1;33m.\u001b[0m\u001b[0m_maybe_cast_indexer\u001b[0m\u001b[1;33m(\u001b[0m\u001b[0mkey\u001b[0m\u001b[1;33m)\u001b[0m\u001b[1;33m)\u001b[0m\u001b[1;33m\u001b[0m\u001b[1;33m\u001b[0m\u001b[0m\n\u001b[0m\u001b[0;32m   2649\u001b[0m         \u001b[0mindexer\u001b[0m \u001b[1;33m=\u001b[0m \u001b[0mself\u001b[0m\u001b[1;33m.\u001b[0m\u001b[0mget_indexer\u001b[0m\u001b[1;33m(\u001b[0m\u001b[1;33m[\u001b[0m\u001b[0mkey\u001b[0m\u001b[1;33m]\u001b[0m\u001b[1;33m,\u001b[0m \u001b[0mmethod\u001b[0m\u001b[1;33m=\u001b[0m\u001b[0mmethod\u001b[0m\u001b[1;33m,\u001b[0m \u001b[0mtolerance\u001b[0m\u001b[1;33m=\u001b[0m\u001b[0mtolerance\u001b[0m\u001b[1;33m)\u001b[0m\u001b[1;33m\u001b[0m\u001b[1;33m\u001b[0m\u001b[0m\n\u001b[0;32m   2650\u001b[0m         \u001b[1;32mif\u001b[0m \u001b[0mindexer\u001b[0m\u001b[1;33m.\u001b[0m\u001b[0mndim\u001b[0m \u001b[1;33m>\u001b[0m \u001b[1;36m1\u001b[0m \u001b[1;32mor\u001b[0m \u001b[0mindexer\u001b[0m\u001b[1;33m.\u001b[0m\u001b[0msize\u001b[0m \u001b[1;33m>\u001b[0m \u001b[1;36m1\u001b[0m\u001b[1;33m:\u001b[0m\u001b[1;33m\u001b[0m\u001b[1;33m\u001b[0m\u001b[0m\n",
      "\u001b[1;32mpandas\\_libs\\index.pyx\u001b[0m in \u001b[0;36mpandas._libs.index.IndexEngine.get_loc\u001b[1;34m()\u001b[0m\n",
      "\u001b[1;32mpandas\\_libs\\index.pyx\u001b[0m in \u001b[0;36mpandas._libs.index.IndexEngine.get_loc\u001b[1;34m()\u001b[0m\n",
      "\u001b[1;32mpandas\\_libs\\hashtable_class_helper.pxi\u001b[0m in \u001b[0;36mpandas._libs.hashtable.PyObjectHashTable.get_item\u001b[1;34m()\u001b[0m\n",
      "\u001b[1;32mpandas\\_libs\\hashtable_class_helper.pxi\u001b[0m in \u001b[0;36mpandas._libs.hashtable.PyObjectHashTable.get_item\u001b[1;34m()\u001b[0m\n",
      "\u001b[1;31mKeyError\u001b[0m: 'NACIONALIDADE'"
     ]
    }
   ],
   "source": [
    "# criando ID para nacionalidade com 1 para brasileiros e 0 para estrangeiros\n",
    "\n",
    "painel['id_NAC'] = np.where(painel['NACIONALIDADE'] == 'BRASILEIRA', 1, 0)"
   ]
  },
  {
   "cell_type": "code",
   "execution_count": null,
   "metadata": {
    "hidden": true
   },
   "outputs": [],
   "source": [
    "# criando a fração de cumprimento proporcional\n",
    "\n",
    "painel['prop_cumprida'] = np.where(\n",
    "    painel['id_NAC'].values == 1, 1/(painel['d_t'].values),  0)"
   ]
  },
  {
   "cell_type": "code",
   "execution_count": 21,
   "metadata": {
    "hidden": true
   },
   "outputs": [],
   "source": [
    "# fazendo a soma cumulativa por complexo que representa a variável de estado para cada grupo\n",
    "\n",
    "painel.sort_values(by='')\n",
    "\n",
    "for c in painel.REGISTRO_COMPLEXO.unique():\n",
    "    painel.loc[painel.REGISTRO_COMPLEXO == c, 'xt_comp'] = painel.loc[painel.REGISTRO_COMPLEXO == c,\n",
    "                                                                       'prop_cumprida'].cumsum()\n",
    "    painel.loc[painel.REGISTRO_COMPLEXO == c, 't_comp'] = range(painel[painel.REGISTRO_COMPLEXO == c].shape[0])"
   ]
  },
  {
   "cell_type": "code",
   "execution_count": 37,
   "metadata": {
    "hidden": true
   },
   "outputs": [],
   "source": [
    "# descartando essa coluna que não é mais necessária\n",
    "\n",
    "painel.drop(['prop_cumprida'], axis=1, inplace=True)"
   ]
  },
  {
   "cell_type": "code",
   "execution_count": null,
   "metadata": {
    "hidden": true
   },
   "outputs": [],
   "source": [
    "# transformando as variáveis que podem ser ints de floats para ints\n",
    "\n",
    "painel['t'] = painel['t'].astype(int)\n",
    "painel['t_comp'] = painel['t_comp'].astype(int)\n",
    "\n",
    "painel['REGISTRO_SALA'] = painel['REGISTRO_SALA'].astype(int)\n",
    "painel['REGISTRO_COMPLEXO'] = painel['REGISTRO_COMPLEXO'].astype(int)\n",
    "painel['REGISTRO_GRUPO'] = painel['REGISTRO_GRUPO'].astype(int)\n",
    "painel['ASSENTOS_INFERIDO'] = painel['ASSENTOS_INFERIDO'].astype(int)"
   ]
  },
  {
   "cell_type": "code",
   "execution_count": 28,
   "metadata": {
    "hidden": true
   },
   "outputs": [],
   "source": [
    "# importando dados de cota\n",
    "\n",
    "cota = pd.read_csv('Cota_fiscalizacao_2017_2019.csv', index_col=['REGISTRO DO COMPLEXO'])"
   ]
  },
  {
   "cell_type": "code",
   "execution_count": 29,
   "metadata": {
    "hidden": true
   },
   "outputs": [],
   "source": [
    "# mapeando os dados da obrigação final por complexo para o painel\n",
    "\n",
    "painel.loc[:,'OBG_FINAL_COMP'] = painel.loc[:,'REGISTRO_COMPLEXO'].map(cota.query(\"ANO == 2018\").loc[:,'OBG_FINAL'])\n",
    "\n",
    "# mapeando os dados da obrigação final por complexo para o painel\n",
    "\n",
    "painel.loc[:,'SALAS_COMP'] = painel.loc[:,'REGISTRO_COMPLEXO'].map(cota.query(\"ANO == 2018\").loc[:,'TOTAL SALAS DO COMPLEXO'])"
   ]
  },
  {
   "cell_type": "code",
   "execution_count": 38,
   "metadata": {
    "hidden": true
   },
   "outputs": [],
   "source": [
    "# fazendo calculando o \"nível de descumprimento\"\n",
    "\n",
    "painel['n_final_comp'] = np.subtract(painel['OBG_FINAL_COMP'].values, painel['xt_comp'].values)"
   ]
  },
  {
   "cell_type": "code",
   "execution_count": 40,
   "metadata": {
    "hidden": true
   },
   "outputs": [],
   "source": [
    "painel.drop(['NACIONALIDADE'], inplace=True, axis=1)"
   ]
  },
  {
   "cell_type": "code",
   "execution_count": 41,
   "metadata": {
    "hidden": true
   },
   "outputs": [],
   "source": [
    "painel.to_csv('Painel 2018.csv', index=False)"
   ]
  },
  {
   "cell_type": "code",
   "execution_count": 44,
   "metadata": {
    "hidden": true
   },
   "outputs": [],
   "source": [
    "scb_trab = pd.read_csv('SCB_2017 a 2019 tratado 2.csv', usecols=['ANO_CINEMATOGRAFICO', 'SEMANA_CINEMATOGRAFICA', \n",
    "        'DATA_SESSAO', 'CPB_ROE','TITULO', 'NACIONALIDADE', 'COMERCIAL', 'OCUPAÇÃO_SALA_INFERIDA'],\n",
    "                      parse_dates=['DATA_SESSAO'], date_parser=lambda x: datetime.strptime(x, '%Y-%m-%d %H:%M:%S'))"
   ]
  },
  {
   "cell_type": "code",
   "execution_count": 47,
   "metadata": {
    "hidden": true
   },
   "outputs": [
    {
     "data": {
      "text/plain": [
       "array([52], dtype=int64)"
      ]
     },
     "execution_count": 47,
     "metadata": {},
     "output_type": "execute_result"
    }
   ],
   "source": [
    "scb_trab.loc[(scb_trab.DATA_SESSAO.dt.year == 2018)&(scb_trab.ANO_CINEMATOGRAFICO != 2018)].SEMANA_CINEMATOGRAFICA.unique()"
   ]
  },
  {
   "cell_type": "code",
   "execution_count": 49,
   "metadata": {
    "hidden": true
   },
   "outputs": [],
   "source": [
    "obras = scb_trab.query(\"COMERCIAL == 'COMERCIAL'\").loc[\n",
    "    (scb_trab.ANO_CINEMATOGRAFICO == 2018)|((scb_trab.ANO_CINEMATOGRAFICO == 2017)&(scb_trab.SEMANA_CINEMATOGRAFICA == 52))\n",
    "].groupby(['ANO_CINEMATOGRAFICO','SEMANA_CINEMATOGRAFICA','CPB_ROE']).agg({\n",
    "    'TITULO':'first','NACIONALIDADE':'first','OCUPAÇÃO_SALA_INFERIDA':'mean'\n",
    "})"
   ]
  },
  {
   "cell_type": "code",
   "execution_count": 50,
   "metadata": {
    "hidden": true
   },
   "outputs": [],
   "source": [
    "obras.to_csv('Lista obras-semana-Ocupação média - ano calendário 2018.csv')"
   ]
  }
 ],
 "metadata": {
  "kernelspec": {
   "display_name": "Python 3",
   "language": "python",
   "name": "python3"
  },
  "language_info": {
   "codemirror_mode": {
    "name": "ipython",
    "version": 3
   },
   "file_extension": ".py",
   "mimetype": "text/x-python",
   "name": "python",
   "nbconvert_exporter": "python",
   "pygments_lexer": "ipython3",
   "version": "3.8.3"
  },
  "toc": {
   "base_numbering": 1,
   "nav_menu": {},
   "number_sections": true,
   "sideBar": true,
   "skip_h1_title": false,
   "title_cell": "Table of Contents",
   "title_sidebar": "Contents",
   "toc_cell": false,
   "toc_position": {
    "height": "calc(100% - 180px)",
    "left": "10px",
    "top": "150px",
    "width": "384px"
   },
   "toc_section_display": true,
   "toc_window_display": true
  },
  "varInspector": {
   "cols": {
    "lenName": 16,
    "lenType": 16,
    "lenVar": 40
   },
   "kernels_config": {
    "python": {
     "delete_cmd_postfix": "",
     "delete_cmd_prefix": "del ",
     "library": "var_list.py",
     "varRefreshCmd": "print(var_dic_list())"
    },
    "r": {
     "delete_cmd_postfix": ") ",
     "delete_cmd_prefix": "rm(",
     "library": "var_list.r",
     "varRefreshCmd": "cat(var_dic_list()) "
    }
   },
   "position": {
    "height": "354px",
    "left": "1550px",
    "right": "20px",
    "top": "120px",
    "width": "350px"
   },
   "types_to_exclude": [
    "module",
    "function",
    "builtin_function_or_method",
    "instance",
    "_Feature"
   ],
   "window_display": false
  }
 },
 "nbformat": 4,
 "nbformat_minor": 4
}
